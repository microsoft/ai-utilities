{
 "cells": [
  {
   "cell_type": "markdown",
   "metadata": {},
   "source": [
    "### Using the configuration library is simple. Import the configure_settings function and call it. The only requirement for succesful collection is to have an existing project.yml file in the current directory of the notebooks. \n",
    "\n",
    "### This example project has one, so we will call configure_settings from there. \n",
    "\n",
    "### Further usage require us to load the settings. Instead of having the user have to import other libraries, we expose a second function from notebook_config called get_settings() which will return an instance of ProjectConfiguration. \n",
    "\n",
    "### To complete this example, we will obtain an instance and print out settings values. "
   ]
  },
  {
   "cell_type": "code",
   "execution_count": 1,
   "metadata": {},
   "outputs": [],
   "source": [
    "from notebook_config import configure_settings, get_settings"
   ]
  },
  {
   "cell_type": "markdown",
   "metadata": {},
   "source": [
    "### Now that the functions are imported, lets bring up the UI to configure the settings."
   ]
  },
  {
   "cell_type": "code",
   "execution_count": 4,
   "metadata": {},
   "outputs": [],
   "source": [
    "configure_settings()"
   ]
  },
  {
   "cell_type": "markdown",
   "metadata": {},
   "source": [
    "### Finally, get an instance of the settings and acquire settings. From the default provided file we know the following settings are there.\n",
    "\n",
    "### subscription_id, resource_group"
   ]
  },
  {
   "cell_type": "code",
   "execution_count": 5,
   "metadata": {},
   "outputs": [
    {
     "name": "stdout",
     "output_type": "stream",
     "text": [
      "<> <>\n"
     ]
    }
   ],
   "source": [
    "settings_object = get_settings()\n",
    "\n",
    "sub_id =  settings_object.get_value('subscription_id')\n",
    "rsrc_grp = settings_object.get_value('resource_group')\n",
    "\n",
    "print(sub_id, rsrc_grp)"
   ]
  },
  {
   "cell_type": "code",
   "execution_count": null,
   "metadata": {},
   "outputs": [],
   "source": []
  }
 ],
 "metadata": {
  "kernelspec": {
   "display_name": "Python [conda env:ai-utilities3] *",
   "language": "python",
   "name": "conda-env-ai-utilities3-py"
  },
  "language_info": {
   "codemirror_mode": {
    "name": "ipython",
    "version": 3
   },
   "file_extension": ".py",
   "mimetype": "text/x-python",
   "name": "python",
   "nbconvert_exporter": "python",
   "pygments_lexer": "ipython3",
   "version": "3.6.2"
  }
 },
 "nbformat": 4,
 "nbformat_minor": 4
}
