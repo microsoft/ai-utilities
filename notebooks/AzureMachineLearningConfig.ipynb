{
 "cells": [
  {
   "cell_type": "markdown",
   "metadata": {
    "pycharm": {
     "name": "#%% md\n"
    }
   },
   "source": [
    "# Azure Machine Learning Workspace Configuration\n",
    "\n",
    "\n",
    "Copyright (c) Microsoft Corporation. All rights reserved.\n",
    "Licensed under the MIT License.\n",
    "\n",
    "# Installation and configuration\n",
    "This notebook configures the notebooks in this tutorial to connect to an Azure Machine Learning (AML) Workspace.  \n",
    "You can use an existing workspace or create a new one.\n",
    "\n",
    "## Prerequisites\n",
    "\n",
    "If you have already completed the prerequisites and selected the correct Kernel for this notebook, the AML Python SDK \n",
    "is already installed.\n",
    "\n",
    "## Set up your Azure Machine Learning workspace\n",
    "## Load Configurations from file\n",
    "\n",
    "Configurations are loaded by default from a file `project.yml`, to prevent accident commits of Azure secrets into \n",
    "source control. This file name is included in the `.gitignore` to also prevent accident commits. A template file \n",
    "is included that should be copied, and each parameter filled in.\n",
    "\n",
    "If the file is not present, and UI Prompt will pop up to insert configurations, and save to the file.\n",
    "\n",
    "![alt text](https://raw.githubusercontent.com/microsoft/ai-architecture-template/master/docs/popup.png \"UI Prompt\")\n",
    "\n",
    "## Create the workspace\n",
    "This cell will also create an AML workspace for you in a subscription, provided you have the correct permissions.\n",
    "\n",
    "For more details about the individual workspace creation steps please see this \n",
    "[sample notebook](https://github.com/Azure/MachineLearningNotebooks/blob/master/configuration.ipynb).\n",
    "\n",
    "This will fail when:\n",
    "1. You do not have permission to create a workspace in the resource group\n",
    "1. You do not have permission to create a resource group if it's non-existing.\n",
    "1. You are not a subscription owner or contributor and no Azure ML workspaces have ever been created in this \n",
    "subscription\n",
    "\n",
    "If workspace creation fails, please work with your IT admin to provide you with the appropriate permissions or \n",
    "to provision the required resources. If this cell succeeds, you're done configuring AML!\n",
    "\n",
    "After creation we will check the details of the workspace."
   ]
  },
  {
   "cell_type": "code",
   "execution_count": null,
   "metadata": {
    "pycharm": {
     "name": "#%%\n"
    },
    "python_cell": true
   },
   "outputs": [],
   "source": [
    "from azure_utils.machine_learning.utils import get_or_create_workspace_from_file\n",
    "\n",
    "ws = get_or_create_workspace_from_file()"
   ]
  },
  {
   "cell_type": "code",
   "execution_count": null,
   "metadata": {
    "pycharm": {
     "name": "#%% \n"
    },
    "r_cell": true
   },
   "outputs": [],
   "source": [
    "source(\"R/get_or_create_workspace.r\")\n",
    "\n",
    "ws <- get_or_create_workspace(\"project.yml\")"
   ]
  },
  {
   "cell_type": "markdown",
   "metadata": {},
   "source": [
    "You are now ready to move on to the next notebook todo: add notebook here "
   ]
  }
 ],
 "metadata": {
  "kernelspec": {
   "display_name": "R",
   "language": "R",
   "name": "ir"
  },
  "language_info": {
   "codemirror_mode": "r",
   "file_extension": ".r",
   "mimetype": "text/x-r-source",
   "name": "R",
   "pygments_lexer": "r",
   "version": "3.6.3"
  },
  "pycharm": {
   "stem_cell": {
    "cell_type": "raw",
    "source": [],
    "metadata": {
     "collapsed": false
    }
   }
  }
 },
 "nbformat": 4,
 "nbformat_minor": 2
}