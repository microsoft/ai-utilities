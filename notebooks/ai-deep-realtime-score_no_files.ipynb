{
 "cells": [
  {
   "cell_type": "markdown",
   "metadata": {},
   "source": [
    "[![Azure Notebooks](https://notebooks.azure.com/launch.png)](https://notebooks.azure.com/import/gh/microsoft/AI-Utilities)\n",
    "[![Binder](https://mybinder.org/badge_logo.svg)](https://mybinder.org/v2/gh/microsoft/AI-Utilities/deep_learning_2?filepath=notebooks%2Fai-deep-realtime-score.ipynb)\n",
    "[![Open In Colab](https://colab.research.google.com/assets/colab-badge.svg)](http://colab.research.google.com/github/microsoft/AI-Utilities/blob/deep_learning_2/notebooks/ai-deep-realtime-score.ipynb)"
   ]
  },
  {
   "cell_type": "markdown",
   "metadata": {
    "toc": true
   },
   "source": [
    "<h1>Table of Contents<span class=\"tocSkip\"></span></h1>\n",
    "<div class=\"toc\"><ul class=\"toc-item\"><li><span><a href=\"#Deploy-Solution\" data-toc-modified-id=\"Deploy-Solution-1\">Deploy Solution</a></span><ul class=\"toc-item\"><li><span><a href=\"#Create-Configuration\" data-toc-modified-id=\"Create-Configuration-1.1\">Create Configuration</a></span></li><li><span><a href=\"#Deploy-to-Azure-Kubernetes-Service-with-Azure-ML\" data-toc-modified-id=\"Deploy-to-Azure-Kubernetes-Service-with-Azure-ML-1.2\">Deploy to Azure Kubernetes Service with Azure ML</a></span></li></ul></li><li><span><a href=\"#Deploy-Services\" data-toc-modified-id=\"Deploy-Services-2\">Deploy Services</a></span><ul class=\"toc-item\"><li><span><a href=\"#Machine-Learning-Studio\" data-toc-modified-id=\"Machine-Learning-Studio-2.1\">Machine Learning Studio</a></span></li><li><span><a href=\"#Kubernetes\" data-toc-modified-id=\"Kubernetes-2.2\">Kubernetes</a></span></li><li><span><a href=\"#Application-Insights\" data-toc-modified-id=\"Application-Insights-2.3\">Application Insights</a></span><ul class=\"toc-item\"><li><span><a href=\"#Main\" data-toc-modified-id=\"Main-2.3.1\">Main</a></span></li><li><span><a href=\"#Availability\" data-toc-modified-id=\"Availability-2.3.2\">Availability</a></span></li><li><span><a href=\"#Performance-Dashboard\" data-toc-modified-id=\"Performance-Dashboard-2.3.3\">Performance Dashboard</a></span></li><li><span><a href=\"#Load-Test\" data-toc-modified-id=\"Load-Test-2.3.4\">Load Test</a></span></li></ul></li></ul></li></ul></div>"
   ]
  },
  {
   "cell_type": "markdown",
   "metadata": {},
   "source": [
    "## Deploy Solution\n",
    "\n",
    "### Create Configuration"
   ]
  },
  {
   "cell_type": "code",
   "execution_count": 9,
   "metadata": {
    "pycharm": {
     "is_executing": false
    }
   },
   "outputs": [],
   "source": [
    "import os\n",
    "from azure_utils.machine_learning.factories.realtime_factory import RealTimeFactory\n",
    "from azure_utils.machine_learning.models.training_arg_parsers import default_response\n",
    "from azure_utils.machine_learning.ai_workspace import  DeepRealtimeScore\n",
    "from azure_utils.notebook_widgets.notebook_configuration_widget import get_configuration_widget\n",
    "\n",
    "\n",
    "project_configuration = \"notebook_project.yml\""
   ]
  },
  {
   "cell_type": "code",
   "execution_count": null,
   "metadata": {
    "init_cell": true,
    "pycharm": {
     "is_executing": false
    },
    "scrolled": true
   },
   "outputs": [],
   "source": [
    "configuration_widget = get_configuration_widget(project_configuration)"
   ]
  },
  {
   "cell_type": "code",
   "execution_count": 11,
   "metadata": {},
   "outputs": [
    {
     "data": {
      "application/vnd.jupyter.widget-view+json": {
       "model_id": "14a209d5cab242779fa9f9b8991e5aa8",
       "version_major": 2,
       "version_minor": 0
      },
      "text/plain": [
       "VBox(children=(Output(), HBox(children=(FileUpload(value={}, accept='.yml', description='Upload'), Button(desc…"
      ]
     },
     "metadata": {},
     "output_type": "display_data"
    }
   ],
   "source": [
    "configuration_widget"
   ]
  },
  {
   "cell_type": "code",
   "execution_count": 20,
   "metadata": {},
   "outputs": [
    {
     "data": {
      "text/plain": [
       "'class RealTimeFactory:\\n    def train(self, args):\\n        raise NotImplementedError\\n\\n    def score_init(self):\\n        raise NotImplementedError\\n\\n    @rawhttp\\n    def score_run(self, request):\\n        raise NotImplementedError\\n'"
      ]
     },
     "execution_count": 20,
     "metadata": {},
     "output_type": "execute_result"
    }
   ],
   "source": [
    "inspect.getsource(RealTimeFactory)"
   ]
  },
  {
   "cell_type": "code",
   "execution_count": 13,
   "metadata": {
    "pycharm": {
     "name": "#%%\n"
    }
   },
   "outputs": [],
   "source": [
    "class RealTimeDeepFactory(RealTimeFactory):\n",
    "    def train(self, args):\n",
    "        import os\n",
    "        from azure_utils.samples.deep_rts_samples import ResNet152\n",
    "        \n",
    "        resnet_152 = ResNet152.create_model(weights=\"imagenet\")\n",
    "        resnet_152.save_model(os.path.join(args.outputs, args.model))\n",
    "\n",
    "    def score_init(self):\n",
    "        from azure_utils.samples.deep_rts_samples import ResNet152\n",
    "        self.resnet_152 = ResNet152.load_model()\n",
    "\n",
    "    def score_run(self, request):\n",
    "        from azure_utils.samples.deep_rts_samples import ResNet152\n",
    "        from azure_utils.machine_learning.models.training_arg_parsers import default_response\n",
    "        \"\"\" Make a prediction based on the data passed in using the preloaded model\"\"\"\n",
    "        if request.method == 'POST':\n",
    "            return self.resnet_152.predict(request)\n",
    "        return default_response(request)\n",
    "\n",
    "    def __init__(self):\n",
    "        self.resnet_152 = None\n"
   ]
  },
  {
   "cell_type": "code",
   "execution_count": 33,
   "metadata": {},
   "outputs": [],
   "source": []
  },
  {
   "cell_type": "code",
   "execution_count": 34,
   "metadata": {},
   "outputs": [
    {
     "data": {
      "text/plain": [
       "'class RealTimeFactory:\\n\\n        def __init__(self):\\n        self.resnet_152 = None\\n\\n        def train(self, args):\\n        import os\\n        from azure_utils.samples.deep_rts_samples import ResNet152\\n        \\n        resnet_152 = ResNet152.create_model(weights=\"imagenet\")\\n        resnet_152.save_model(os.path.join(args.outputs, args.model))\\n\\n        def score_init(self):\\n        from azure_utils.samples.deep_rts_samples import ResNet152\\n        self.resnet_152 = ResNet152.load_model()\\n\\n        def score_run(self, request):\\n        from azure_utils.samples.deep_rts_samples import ResNet152\\n        \"\"\" Make a prediction based on the data passed in using the preloaded model\"\"\"\\n        if request.method == \\'POST\\':\\n            return self.resnet_152.predict(request)\\n        return default_response(request)\\n'"
      ]
     },
     "execution_count": 34,
     "metadata": {},
     "output_type": "execute_result"
    }
   ],
   "source": [
    "file = inspect.getsource(RealTimeFactory)\n",
    "file = file.replace('def train(self, args):\\n        raise NotImplementedError\\n', inspect.getsource(RealTimeDeepFactory.train))\n",
    "file = file.replace('def score_init(self):\\n        raise NotImplementedError\\n', inspect.getsource(RealTimeDeepFactory.score_init))\n",
    "file = file.replace('@rawhttp\\n    def score_run(self, request):\\n        raise NotImplementedError\\n', inspect.getsource(RealTimeDeepFactory.score_run))\n",
    "file = file.replace('def __init__(self):\\n        raise NotImplementedError\\n', inspect.getsource(RealTimeDeepFactory.__init__))\n",
    "file"
   ]
  },
  {
   "cell_type": "markdown",
   "metadata": {
    "pycharm": {
     "name": "#%% md\n"
    }
   },
   "source": []
  }
 ],
 "metadata": {
  "celltoolbar": "Raw Cell Format",
  "kernelspec": {
   "display_name": "ai-utilities",
   "language": "python",
   "name": "ai-utilities"
  },
  "language_info": {
   "codemirror_mode": {
    "name": "ipython",
    "version": 3
   },
   "file_extension": ".py",
   "mimetype": "text/x-python",
   "name": "python",
   "nbconvert_exporter": "python",
   "pygments_lexer": "ipython3",
   "version": "3.6.2"
  },
  "pycharm": {
   "stem_cell": {
    "cell_type": "raw",
    "source": [],
    "metadata": {
     "collapsed": false
    }
   }
  },
  "toc": {
   "base_numbering": 1,
   "nav_menu": {},
   "number_sections": false,
   "sideBar": true,
   "skip_h1_title": false,
   "title_cell": "Table of Contents",
   "title_sidebar": "Contents",
   "toc_cell": true,
   "toc_position": {
    "height": "237px",
    "left": "488px",
    "top": "188px",
    "width": "561px"
   },
   "toc_section_display": true,
   "toc_window_display": false
  },
  "widgets": {
   "application/vnd.jupyter.widget-state+json": {
    "state": {
     "001d3709d23e4e81ac55a917e06429a1": {
      "model_module": "@jupyter-widgets/controls",
      "model_module_version": "1.5.0",
      "model_name": "TextModel",
      "state": {
       "description": "aks_location",
       "layout": "IPY_MODEL_50029cf31a5c4c26bbbe3ad40629ceb9",
       "placeholder": "AKS Azure Region",
       "style": "IPY_MODEL_62018165d97f4d5fa5d404ac91cbc686",
       "value": "eastus"
      }
     },
     "0069d05482fa4f50a06ebf1b2c945eb9": {
      "model_module": "@jupyter-widgets/base",
      "model_module_version": "1.2.0",
      "model_name": "LayoutModel",
      "state": {}
     },
     "0095b9e118e244aeae5c462dd0e05041": {
      "model_module": "@jupyter-widgets/controls",
      "model_module_version": "1.5.0",
      "model_name": "DescriptionStyleModel",
      "state": {
       "description_width": ""
      }
     },
     "00c17bb7d7d64782be1e076a743bdd6e": {
      "model_module": "@jupyter-widgets/controls",
      "model_module_version": "1.5.0",
      "model_name": "FileUploadModel",
      "state": {
       "accept": ".yml",
       "description_tooltip": null,
       "layout": "IPY_MODEL_fb908a6a1d5d4b7e8ba2da6adc81061b",
       "style": "IPY_MODEL_8243229a2be84262b8341a7908e2d1f3"
      }
     },
     "00c67661007749829824c4ab85a9aa69": {
      "model_module": "@jupyter-widgets/base",
      "model_module_version": "1.2.0",
      "model_name": "LayoutModel",
      "state": {}
     },
     "00d3d0ad01294d9a8c72f492b8ebe702": {
      "model_module": "@jupyter-widgets/controls",
      "model_module_version": "1.5.0",
      "model_name": "HBoxModel",
      "state": {
       "children": [
        "IPY_MODEL_bb6e1538718044529c136dc852b2b665"
       ],
       "layout": "IPY_MODEL_318529f535ca459fa82600a827531b4c"
      }
     },
     "00d49da49f0944078a53f6eeff0d6af1": {
      "model_module": "@jupyter-widgets/controls",
      "model_module_version": "1.5.0",
      "model_name": "ButtonStyleModel",
      "state": {}
     },
     "00e9ee5a64b340b7859edcaffa52713b": {
      "model_module": "@jupyter-widgets/controls",
      "model_module_version": "1.5.0",
      "model_name": "DescriptionStyleModel",
      "state": {
       "description_width": ""
      }
     },
     "00f6e41a7cda4ab09a11418f33b350cd": {
      "model_module": "@jupyter-widgets/controls",
      "model_module_version": "1.5.0",
      "model_name": "HBoxModel",
      "state": {
       "children": [
        "IPY_MODEL_4d0bc034e11e4142a9404c1abd2cb1e4",
        "IPY_MODEL_5abcb562a08746979553f64da8ab06ed"
       ],
       "layout": "IPY_MODEL_81b9cf8dfa7449f8a9b8854f79e7510c"
      }
     },
     "010fa15d15d84fb4a329fdb8a68fc6f0": {
      "model_module": "@jupyter-widgets/base",
      "model_module_version": "1.2.0",
      "model_name": "LayoutModel",
      "state": {}
     },
     "0143a31174474b5ab8e816672a7fcf6c": {
      "model_module": "@jupyter-widgets/controls",
      "model_module_version": "1.5.0",
      "model_name": "ButtonModel",
      "state": {
       "description": "Use existing",
       "layout": "IPY_MODEL_4694b991d08647cba7ca1d0dabccabba",
       "style": "IPY_MODEL_0e5506d6ca0346bf88d998b7aa4a97d8",
       "tooltip": "Use an existing resource."
      }
     },
     "01521de7f5df4e1c8a7a28f6d93a7f6b": {
      "model_module": "@jupyter-widgets/controls",
      "model_module_version": "1.5.0",
      "model_name": "DescriptionStyleModel",
      "state": {
       "description_width": ""
      }
     },
     "015a3ff18bd946c6a0371651c5601851": {
      "model_module": "@jupyter-widgets/base",
      "model_module_version": "1.2.0",
      "model_name": "LayoutModel",
      "state": {}
     },
     "01907ae8907a4c31948dc007cb8fee9d": {
      "model_module": "@jupyter-widgets/base",
      "model_module_version": "1.2.0",
      "model_name": "LayoutModel",
      "state": {}
     },
     "01b8c8fb1c6e4c658a14e75f20452f6a": {
      "model_module": "@jupyter-widgets/controls",
      "model_module_version": "1.5.0",
      "model_name": "ButtonModel",
      "state": {
       "description": "Save Upload",
       "icon": "check",
       "layout": "IPY_MODEL_4eb3ff62e0ec4978aab89a3a1eb675f5",
       "style": "IPY_MODEL_ee57a2b303e54dfda371d85f13c3ed3e",
       "tooltip": "Click to save settings to file."
      }
     },
     "01bd0084736d4e33a9d099a69c8c0c0c": {
      "model_module": "@jupyter-widgets/controls",
      "model_module_version": "1.5.0",
      "model_name": "DescriptionStyleModel",
      "state": {
       "description_width": ""
      }
     },
     "01fbf407834b40b79c10ffe5de2417ad": {
      "model_module": "@jupyter-widgets/base",
      "model_module_version": "1.2.0",
      "model_name": "LayoutModel",
      "state": {}
     },
     "0206309ed7144010bff956ff8fb147bc": {
      "model_module": "@jupyter-widgets/controls",
      "model_module_version": "1.5.0",
      "model_name": "HBoxModel",
      "state": {
       "children": [
        "IPY_MODEL_ebd5e0c20a3246cc9d75e1c0d74d2626",
        "IPY_MODEL_73e2ed58f7dc4106b449cecdf203f430"
       ],
       "layout": "IPY_MODEL_8d7397825bca4add8afacc834ef3123c"
      }
     },
     "020a497b806c4ca89966dd786dc60f17": {
      "model_module": "@jupyter-widgets/controls",
      "model_module_version": "1.5.0",
      "model_name": "DescriptionStyleModel",
      "state": {
       "description_width": ""
      }
     },
     "020ac9514de743889d1705ba585fce1c": {
      "model_module": "@jupyter-widgets/base",
      "model_module_version": "1.2.0",
      "model_name": "LayoutModel",
      "state": {}
     },
     "0229c158d5a247f8b00f52618e786f2a": {
      "model_module": "@jupyter-widgets/controls",
      "model_module_version": "1.5.0",
      "model_name": "DropdownModel",
      "state": {
       "_options_labels": [
        "eastus",
        "eastus2",
        "canadacentral",
        "centralus",
        "northcentralus",
        "southcentralus",
        "westcentralus",
        "westus",
        "westus2"
       ],
       "description": "workspace_region",
       "index": 0,
       "layout": "IPY_MODEL_b2cf5b9da4804c05b848d29d0baaffa5",
       "style": "IPY_MODEL_d5bd4707062a44e49fe90d4454ff1ec6"
      }
     },
     "027906e1daaf414289b004b6ea432767": {
      "model_module": "@jupyter-widgets/base",
      "model_module_version": "1.2.0",
      "model_name": "LayoutModel",
      "state": {}
     },
     "0282baace48d46cc86f77a3ec4bdbef0": {
      "model_module": "@jupyter-widgets/controls",
      "model_module_version": "1.5.0",
      "model_name": "DescriptionStyleModel",
      "state": {
       "description_width": ""
      }
     },
     "0298ce19c7be41aa9f081face6cba50e": {
      "model_module": "@jupyter-widgets/controls",
      "model_module_version": "1.5.0",
      "model_name": "ButtonModel",
      "state": {
       "description": "Use existing",
       "layout": "IPY_MODEL_7093d1345914488bb4f362625632de76",
       "style": "IPY_MODEL_84be20c8d08d4250981249509f9a4ba8",
       "tooltip": "Use an existing resource."
      }
     },
     "029f6893e4444902b49baa88f429eefc": {
      "model_module": "@jupyter-widgets/controls",
      "model_module_version": "1.5.0",
      "model_name": "DropdownModel",
      "state": {
       "_options_labels": [
        "AG-CE-AI-GPU-EXPERIMENTATION",
        "AG-AzureCAT-AITao-Test-COGSNonProd-IO1685734",
        "AG-CE-AI-DEVOPS",
        "AG-AzureCAT-AIDemos-Test-COGSNonProd-IO1685734",
        "AGCE-AI-DELETE-Sharat",
        "AG-AzureCAT-AILab-Test-COGSNonProd-IO1685734",
        "Visual Studio Ultimate with MSDN",
        "AG-AzureCAT-AIDataPM-Test-COGSNonProd-IO1685743",
        "AG-AzureCAT-AIDanielle-Test-COGSNonProd-IO1685734",
        "AG-CE-AI-MN-CICOMMERCIAL",
        "AG-CE-AI-MN-INCUBATION",
        "AG-CE-AI-MN-OSS",
        "AG-CE-AI-MN-E2E",
        "AG-CE-AI-MN-HU",
        "AG-CE-AI-MN-SEISMIC",
        "AG-CE-AI-STORAGE",
        "AG-CE-AI-MN-RETAIL",
        "AG-CE-AI-FEEDBACK",
        "AG-CE-AI-MN-LAB",
        "Azure SDK Engineering System",
        "Epic-Edge-ES-ReproVMLab",
        "ES-Stream-Operations",
        "Core-ES-BranchManagement",
        "WDG-ES-RnD-GITTrain",
        "Cosmos_WDG_Core_BnB_100292",
        "Azure Stack Diagnostics CI and Production VaaS",
        "Edge DevTools Client",
        "Azure Stack CSS Labs",
        "AppInsight Test",
        "ddverify",
        "VSEng MadDog-RPS Telemetry",
        "CAT_Eng",
        "RPS-cloud-common-2",
        "Core-ES-WorkManagement",
        "Azure_Maps_MDP_Engineering",
        "Test/Demo - VipSwapper Operations",
        "COSINE-ES-Signing Azure Service",
        "AI Infra Build",
        "AG-CE-E2E-AI",
        "DEMO - how RepDemo are you",
        "ADS Demo Subscription",
        "AzureCAT E2E Blue Steel",
        "Azure Search DEV Service Layer (kmort,miwelsh,bohuan)"
       ],
       "description": "workspace_region:",
       "index": 2,
       "layout": "IPY_MODEL_f256d5f8012047258321f1edc7e2d825",
       "style": "IPY_MODEL_60651d0cd80e4702a4394ddee3beec17"
      }
     },
     "03072c6e0b92413fbf85e1b0bd503ad5": {
      "model_module": "@jupyter-widgets/base",
      "model_module_version": "1.2.0",
      "model_name": "LayoutModel",
      "state": {}
     },
     "0312f9aa17004084897c89e2f6bf5d59": {
      "model_module": "@jupyter-widgets/base",
      "model_module_version": "1.2.0",
      "model_name": "LayoutModel",
      "state": {}
     },
     "031b441b7595453ca47f39d9e73f18f1": {
      "model_module": "@jupyter-widgets/controls",
      "model_module_version": "1.5.0",
      "model_name": "DescriptionStyleModel",
      "state": {
       "description_width": ""
      }
     },
     "033a3716a7ba4f2bb0c07eb8ee88bb38": {
      "model_module": "@jupyter-widgets/controls",
      "model_module_version": "1.5.0",
      "model_name": "TextModel",
      "state": {
       "description": "script",
       "layout": "IPY_MODEL_dac9cab8ddb54a24876f16aac3accfce",
       "placeholder": "cpu cores for web service",
       "style": "IPY_MODEL_35bc1a764aa847809cb1b498995eb0f3",
       "value": "create_model.py"
      }
     },
     "034587fa15bc4bd6b93cc6faf26bcbc5": {
      "model_module": "@jupyter-widgets/controls",
      "model_module_version": "1.5.0",
      "model_name": "HBoxModel",
      "state": {
       "children": [
        "IPY_MODEL_a66d9764e1ff4d96aa85ffd1d8fb32bc"
       ],
       "layout": "IPY_MODEL_63d0a905815f4af39fa425f079f0ec44"
      }
     },
     "0366fa69e6a54552b7ddcf61b9d3e5ab": {
      "model_module": "@jupyter-widgets/controls",
      "model_module_version": "1.5.0",
      "model_name": "TextModel",
      "state": {
       "description": "aks_location",
       "layout": "IPY_MODEL_cb8b30d034f74b6d9fe62160fc879769",
       "placeholder": "AKS Azure Region",
       "style": "IPY_MODEL_bd36359b9ad5406c9483e6ddbdcce8c4",
       "value": "eastus"
      }
     },
     "036840f7b8844f838bd90d626f2acf84": {
      "model_module": "@jupyter-widgets/base",
      "model_module_version": "1.2.0",
      "model_name": "LayoutModel",
      "state": {}
     },
     "03867ec4c770478ebabfda10eae0f05d": {
      "model_module": "@jupyter-widgets/base",
      "model_module_version": "1.2.0",
      "model_name": "LayoutModel",
      "state": {}
     },
     "03bcdd009c7a489c9be604652989ca79": {
      "model_module": "@jupyter-widgets/output",
      "model_module_version": "1.0.0",
      "model_name": "OutputModel",
      "state": {
       "layout": "IPY_MODEL_2335e37958b6426da99f3f79df5283c4"
      }
     },
     "03ef4c79f6c845e2a21d1b5aa2801ca1": {
      "model_module": "@jupyter-widgets/controls",
      "model_module_version": "1.5.0",
      "model_name": "TextModel",
      "state": {
       "description": "aks_location",
       "layout": "IPY_MODEL_6ab12f1fe2d240d5a879c79c99c1c165",
       "placeholder": "AKS Azure Region",
       "style": "IPY_MODEL_82eb48c69f614b83bc754accd1634464",
       "value": "eastus"
      }
     },
     "0413e7752197456c89da448be429d331": {
      "model_module": "@jupyter-widgets/controls",
      "model_module_version": "1.5.0",
      "model_name": "TextModel",
      "state": {
       "description": "subscription_id",
       "layout": "IPY_MODEL_209c91b744a24e3a82c185c951c339e7",
       "placeholder": "Azure Subscription Id",
       "style": "IPY_MODEL_5a36d2b189484c3fb02653940ee60053",
       "value": "0ca618d2-22a8-413a-96d0-0f1b531129c3"
      }
     },
     "042a7ac735d941ecb84d9356bf1c1fa3": {
      "model_module": "@jupyter-widgets/base",
      "model_module_version": "1.2.0",
      "model_name": "LayoutModel",
      "state": {}
     },
     "0443dbf8bfbe4c2bb2e15b134b5bce15": {
      "model_module": "@jupyter-widgets/controls",
      "model_module_version": "1.5.0",
      "model_name": "DescriptionStyleModel",
      "state": {
       "description_width": ""
      }
     },
     "0478fd7b3d194e8890a2439333a1047e": {
      "model_module": "@jupyter-widgets/controls",
      "model_module_version": "1.5.0",
      "model_name": "DescriptionStyleModel",
      "state": {
       "description_width": ""
      }
     },
     "048c8e29e6b44f089e3d5535fdcbcb3f": {
      "model_module": "@jupyter-widgets/controls",
      "model_module_version": "1.5.0",
      "model_name": "DescriptionStyleModel",
      "state": {
       "description_width": ""
      }
     },
     "049b229065734b1688bf1e5261309bea": {
      "model_module": "@jupyter-widgets/controls",
      "model_module_version": "1.5.0",
      "model_name": "DescriptionStyleModel",
      "state": {
       "description_width": ""
      }
     },
     "04a423260dc140d289d0fb319f02e9ee": {
      "model_module": "@jupyter-widgets/controls",
      "model_module_version": "1.5.0",
      "model_name": "DropdownModel",
      "state": {
       "_options_labels": [
        "AG-CE-AI-GPU-EXPERIMENTATION",
        "AG-AzureCAT-AITao-Test-COGSNonProd-IO1685734",
        "AG-CE-AI-DEVOPS",
        "AG-AzureCAT-AIDemos-Test-COGSNonProd-IO1685734",
        "AGCE-AI-DELETE-Sharat",
        "AG-AzureCAT-AILab-Test-COGSNonProd-IO1685734",
        "Visual Studio Ultimate with MSDN",
        "AG-AzureCAT-AIDataPM-Test-COGSNonProd-IO1685743",
        "AG-AzureCAT-AIDanielle-Test-COGSNonProd-IO1685734",
        "AG-CE-AI-MN-CICOMMERCIAL",
        "AG-CE-AI-MN-INCUBATION",
        "AG-CE-AI-MN-OSS",
        "AG-CE-AI-MN-E2E",
        "AG-CE-AI-MN-HU",
        "AG-CE-AI-MN-SEISMIC",
        "AG-CE-AI-STORAGE",
        "AG-CE-AI-MN-RETAIL",
        "AG-CE-AI-FEEDBACK",
        "AG-CE-AI-MN-LAB",
        "Azure SDK Engineering System",
        "Epic-Edge-ES-ReproVMLab",
        "ES-Stream-Operations",
        "Core-ES-BranchManagement",
        "WDG-ES-RnD-GITTrain",
        "Cosmos_WDG_Core_BnB_100292",
        "Azure Stack Diagnostics CI and Production VaaS",
        "Edge DevTools Client",
        "Azure Stack CSS Labs",
        "AppInsight Test",
        "ddverify",
        "VSEng MadDog-RPS Telemetry",
        "CAT_Eng",
        "RPS-cloud-common-2",
        "Core-ES-WorkManagement",
        "Azure_Maps_MDP_Engineering",
        "Test/Demo - VipSwapper Operations",
        "COSINE-ES-Signing Azure Service",
        "AI Infra Build",
        "AG-CE-E2E-AI",
        "DEMO - how RepDemo are you",
        "ADS Demo Subscription",
        "AzureCAT E2E Blue Steel",
        "Azure Search DEV Service Layer (kmort,miwelsh,bohuan)"
       ],
       "description": "subscription_id",
       "index": 2,
       "layout": "IPY_MODEL_da3a3fc0d82f49c39bd4d271f303071c",
       "style": "IPY_MODEL_99939e1be13747d090de522873c13f24"
      }
     },
     "04cc3710a0024e9f82d0c987e25264f5": {
      "model_module": "@jupyter-widgets/base",
      "model_module_version": "1.2.0",
      "model_name": "LayoutModel",
      "state": {}
     },
     "04e37a036a9f42fea8e8765b77313157": {
      "model_module": "@jupyter-widgets/base",
      "model_module_version": "1.2.0",
      "model_name": "LayoutModel",
      "state": {}
     },
     "04f76f1bbf3448fc84be1fac21f129db": {
      "model_module": "@jupyter-widgets/controls",
      "model_module_version": "1.5.0",
      "model_name": "ButtonStyleModel",
      "state": {}
     },
     "050154a155a149a99131fb6a96dec3f9": {
      "model_module": "@jupyter-widgets/base",
      "model_module_version": "1.2.0",
      "model_name": "LayoutModel",
      "state": {}
     },
     "050b7e5121bc4dba80d4116b21d8272c": {
      "model_module": "@jupyter-widgets/controls",
      "model_module_version": "1.5.0",
      "model_name": "TextModel",
      "state": {
       "description": "subscription_id",
       "layout": "IPY_MODEL_cafde821e7bb4489986c5f381a4c36de",
       "placeholder": "Azure Subscription Id",
       "style": "IPY_MODEL_30bc42aa19d74b84a2529377621f147d",
       "value": "0ca618d2-22a8-413a-96d0-0f1b531129c3"
      }
     },
     "0514805b68594e38b710f4385921decd": {
      "model_module": "@jupyter-widgets/controls",
      "model_module_version": "1.5.0",
      "model_name": "DescriptionStyleModel",
      "state": {
       "description_width": ""
      }
     },
     "053ad5258370476db4ba94752aaadcd5": {
      "model_module": "@jupyter-widgets/controls",
      "model_module_version": "1.5.0",
      "model_name": "ButtonStyleModel",
      "state": {}
     },
     "053c9aec192e415b861c1003d67d4ebf": {
      "model_module": "@jupyter-widgets/base",
      "model_module_version": "1.2.0",
      "model_name": "LayoutModel",
      "state": {}
     },
     "05585126a3e54986991cc076cda1c2e4": {
      "model_module": "@jupyter-widgets/base",
      "model_module_version": "1.2.0",
      "model_name": "LayoutModel",
      "state": {}
     },
     "0563ebf8597642709cb3bcde9d74f743": {
      "model_module": "@jupyter-widgets/controls",
      "model_module_version": "1.5.0",
      "model_name": "DescriptionStyleModel",
      "state": {
       "description_width": ""
      }
     },
     "05880af50e274b8c9c229404307a9286": {
      "model_module": "@jupyter-widgets/controls",
      "model_module_version": "1.5.0",
      "model_name": "DescriptionStyleModel",
      "state": {
       "description_width": ""
      }
     },
     "05898881feaa4eeabb3bbb141d157213": {
      "model_module": "@jupyter-widgets/controls",
      "model_module_version": "1.5.0",
      "model_name": "DropdownModel",
      "state": {
       "_options_labels": [
        "eastus",
        "eastus2",
        "canadacentral",
        "centralus",
        "northcentralus",
        "southcentralus",
        "westcentralus",
        "westus",
        "westus2"
       ],
       "description": "deep_aks_location",
       "index": 0,
       "layout": "IPY_MODEL_6f98af9902d84f02a74039713dd2cad4",
       "style": "IPY_MODEL_b2fb0788d0de4dd0a8b738aefd1465f0"
      }
     },
     "05fcb789a3f54188af94af2c66bb9780": {
      "model_module": "@jupyter-widgets/controls",
      "model_module_version": "1.5.0",
      "model_name": "DescriptionStyleModel",
      "state": {
       "description_width": ""
      }
     },
     "0617b3084bee4cb29eb4b5c45f76d4e8": {
      "model_module": "@jupyter-widgets/base",
      "model_module_version": "1.2.0",
      "model_name": "LayoutModel",
      "state": {}
     },
     "061e2cc11e12478ab853cbcff4931850": {
      "model_module": "@jupyter-widgets/base",
      "model_module_version": "1.2.0",
      "model_name": "LayoutModel",
      "state": {}
     },
     "0680c1b884544c7eb507c83b49083822": {
      "model_module": "@jupyter-widgets/base",
      "model_module_version": "1.2.0",
      "model_name": "LayoutModel",
      "state": {}
     },
     "06839ca6a7234a7284a899ab8fc9639b": {
      "model_module": "@jupyter-widgets/base",
      "model_module_version": "1.2.0",
      "model_name": "LayoutModel",
      "state": {}
     },
     "06b27f35949a477387a7d3792d4c8a52": {
      "model_module": "@jupyter-widgets/controls",
      "model_module_version": "1.5.0",
      "model_name": "HBoxModel",
      "state": {
       "children": [
        "IPY_MODEL_0413e7752197456c89da448be429d331",
        "IPY_MODEL_638edc3b04e04f2eb71ffc7ebf804bed"
       ],
       "layout": "IPY_MODEL_19a2e85a5fe14635ba2869bde0a26b4b"
      }
     },
     "06d9d936620947d795534d59db3e759e": {
      "model_module": "@jupyter-widgets/controls",
      "model_module_version": "1.5.0",
      "model_name": "TextModel",
      "state": {
       "description": "subscription_id",
       "layout": "IPY_MODEL_2c6f9524e7df46288c210bbef3029a63",
       "placeholder": "Azure Subscription Id",
       "style": "IPY_MODEL_f90405b9904642328a23cc90815dfb9a"
      }
     },
     "0713bcc6d38443b7b4f244eb52a16b35": {
      "model_module": "@jupyter-widgets/controls",
      "model_module_version": "1.5.0",
      "model_name": "ButtonModel",
      "state": {
       "description": "Use existing",
       "layout": "IPY_MODEL_5fe10d263f364c66b747a09d0ff3f662",
       "style": "IPY_MODEL_dd1af79352514564af5b13b1dd3191d6",
       "tooltip": "Use an existing resource."
      }
     },
     "0718f796314848cc83145d7bd349ae16": {
      "model_module": "@jupyter-widgets/controls",
      "model_module_version": "1.5.0",
      "model_name": "DescriptionStyleModel",
      "state": {
       "description_width": ""
      }
     },
     "071c0a14c83b401f96c7522a7ee1716d": {
      "model_module": "@jupyter-widgets/controls",
      "model_module_version": "1.5.0",
      "model_name": "TextModel",
      "state": {
       "description": "image_name",
       "layout": "IPY_MODEL_c8d32c191dc64793963073af5506c048",
       "placeholder": "Docker Container Image Name",
       "style": "IPY_MODEL_0282baace48d46cc86f77a3ec4bdbef0"
      }
     },
     "0734f6f679714c6db68b56bcd8956b67": {
      "model_module": "@jupyter-widgets/base",
      "model_module_version": "1.2.0",
      "model_name": "LayoutModel",
      "state": {}
     },
     "07629cf8f90c4a12b9d91c2937bce933": {
      "model_module": "@jupyter-widgets/controls",
      "model_module_version": "1.5.0",
      "model_name": "TextModel",
      "state": {
       "description": "deep_aks_service_name",
       "layout": "IPY_MODEL_6cacf4eaa6b94d8dbace930ece08862c",
       "placeholder": "AKS Service Name",
       "style": "IPY_MODEL_d075191cd2c34ac2a96480d5d59ad6b8",
       "value": "deepaksservice"
      }
     },
     "07f984a463554a6eb33e6fd7a4893cd3": {
      "model_module": "@jupyter-widgets/controls",
      "model_module_version": "1.5.0",
      "model_name": "DescriptionStyleModel",
      "state": {
       "description_width": ""
      }
     },
     "080883368591464993c65537abf4f201": {
      "model_module": "@jupyter-widgets/base",
      "model_module_version": "1.2.0",
      "model_name": "LayoutModel",
      "state": {}
     },
     "0828684a33df4aeeab2d97bf5622abd7": {
      "model_module": "@jupyter-widgets/base",
      "model_module_version": "1.2.0",
      "model_name": "LayoutModel",
      "state": {}
     },
     "08421a7003a6400496d5b30e5cb2bc10": {
      "model_module": "@jupyter-widgets/base",
      "model_module_version": "1.2.0",
      "model_name": "LayoutModel",
      "state": {}
     },
     "08548683e1554e7d936faa565451d59d": {
      "model_module": "@jupyter-widgets/controls",
      "model_module_version": "1.5.0",
      "model_name": "ButtonModel",
      "state": {
       "description": "Use existing",
       "layout": "IPY_MODEL_329efb59a6014a248ed0a63fa078d3ca",
       "style": "IPY_MODEL_7ccfa4e711864a44b7f9791709438a0b",
       "tooltip": "Use an existing resource."
      }
     },
     "086236927ba349d981a602bc3aa0bb8f": {
      "model_module": "@jupyter-widgets/base",
      "model_module_version": "1.2.0",
      "model_name": "LayoutModel",
      "state": {}
     },
     "0869d1995d064dd4ac22973a5247ca76": {
      "model_module": "@jupyter-widgets/controls",
      "model_module_version": "1.5.0",
      "model_name": "ButtonStyleModel",
      "state": {}
     },
     "087da9120e824ffcbb55876a20877ab2": {
      "model_module": "@jupyter-widgets/base",
      "model_module_version": "1.2.0",
      "model_name": "LayoutModel",
      "state": {}
     },
     "088c3b4a0ee8412d8c52a5644fee1b9c": {
      "model_module": "@jupyter-widgets/controls",
      "model_module_version": "1.5.0",
      "model_name": "ButtonStyleModel",
      "state": {}
     },
     "08d9c1e9136b463fa276cdffbf0aaaa3": {
      "model_module": "@jupyter-widgets/controls",
      "model_module_version": "1.5.0",
      "model_name": "DescriptionStyleModel",
      "state": {
       "description_width": ""
      }
     },
     "094e07c0911b4ba2bba21ca6b85b3499": {
      "model_module": "@jupyter-widgets/controls",
      "model_module_version": "1.5.0",
      "model_name": "TextModel",
      "state": {
       "description": "aks_name",
       "layout": "IPY_MODEL_e487dc26831d47179f94cebbd7bdd584",
       "placeholder": "AKS Cluster Name",
       "style": "IPY_MODEL_15e813ad00454daba821b9f26b6cfc3b",
       "value": "akscluster2"
      }
     },
     "097e023f68fc4fbf90155696358c32f5": {
      "model_module": "@jupyter-widgets/base",
      "model_module_version": "1.2.0",
      "model_name": "LayoutModel",
      "state": {}
     },
     "0a00855f066c4ef9846533249a997d00": {
      "model_module": "@jupyter-widgets/controls",
      "model_module_version": "1.5.0",
      "model_name": "TextModel",
      "state": {
       "description": "aks_location",
       "layout": "IPY_MODEL_d057266b50ae41c2a3dc232bc6d6ac97",
       "placeholder": "AKS Azure Region",
       "style": "IPY_MODEL_2dd0ab277adc40f59f1379bab76d34b2",
       "value": "eastus"
      }
     },
     "0a0349d2b1134aa28ee7b4e2cf4dbddb": {
      "model_module": "@jupyter-widgets/controls",
      "model_module_version": "1.5.0",
      "model_name": "DescriptionStyleModel",
      "state": {
       "description_width": ""
      }
     },
     "0a232e7aba86497891ca5b25d1074d7d": {
      "model_module": "@jupyter-widgets/controls",
      "model_module_version": "1.5.0",
      "model_name": "TextModel",
      "state": {
       "description": "deep_image_name",
       "layout": "IPY_MODEL_c34234b8c61a4bd4b7693f5bd95f428a",
       "placeholder": "Docker Container Image Name",
       "style": "IPY_MODEL_c422306db18b4a8eb3b486352010b693",
       "value": "mydeepimage"
      }
     },
     "0a4262bc5ca54c4180057a2b4d687a2d": {
      "model_module": "@jupyter-widgets/controls",
      "model_module_version": "1.5.0",
      "model_name": "TextModel",
      "state": {
       "description": "workspace_name",
       "layout": "IPY_MODEL_e1aeca2f6658403d8588c9b5a18c7ebe",
       "placeholder": "Azure ML Workspace Name",
       "style": "IPY_MODEL_fd937fdf6efd4c1785c0aa36196a761a",
       "value": "azmlrts-eastus"
      }
     },
     "0a493de4cf704ef0bf29f8a27e5f1f73": {
      "model_module": "@jupyter-widgets/base",
      "model_module_version": "1.2.0",
      "model_name": "LayoutModel",
      "state": {}
     },
     "0a60ab5050744018b6201f44b93be27f": {
      "model_module": "@jupyter-widgets/controls",
      "model_module_version": "1.5.0",
      "model_name": "ButtonStyleModel",
      "state": {}
     },
     "0ac352a9c4dd42d0bcddcfa7d8170c00": {
      "model_module": "@jupyter-widgets/controls",
      "model_module_version": "1.5.0",
      "model_name": "ButtonModel",
      "state": {
       "description": "Use existing",
       "layout": "IPY_MODEL_ac8afbbe325e4d1c84767a62505601e9",
       "style": "IPY_MODEL_7023f6a7a2e04f7b8eb14eba53f7db84",
       "tooltip": "Use an existing resource."
      }
     },
     "0ac98b757be4405a9a34a788db2a9a59": {
      "model_module": "@jupyter-widgets/controls",
      "model_module_version": "1.5.0",
      "model_name": "ButtonModel",
      "state": {
       "description": "Use existing",
       "layout": "IPY_MODEL_1db209fb3f0f450c9ce29807f11c0820",
       "style": "IPY_MODEL_f43252da92884fc985c091ab23557456",
       "tooltip": "Use an existing resource."
      }
     },
     "0afa4b23dc6a42418c22431cef01c76c": {
      "model_module": "@jupyter-widgets/controls",
      "model_module_version": "1.5.0",
      "model_name": "DescriptionStyleModel",
      "state": {
       "description_width": ""
      }
     },
     "0b31b025e814430387d925aca40b3fc7": {
      "model_module": "@jupyter-widgets/controls",
      "model_module_version": "1.5.0",
      "model_name": "TextModel",
      "state": {
       "description": "num_estimators",
       "layout": "IPY_MODEL_8a9da75bd68f4b84948ef2318c9f409f",
       "placeholder": "number of replicas in Kubernetes cluster",
       "style": "IPY_MODEL_43618fe414e449babf5caa13f75f81aa",
       "value": "2"
      }
     },
     "0b34415c7536445cb0bd5063164b4d75": {
      "model_module": "@jupyter-widgets/controls",
      "model_module_version": "1.5.0",
      "model_name": "TextModel",
      "state": {
       "description": "aks_name",
       "layout": "IPY_MODEL_086236927ba349d981a602bc3aa0bb8f",
       "placeholder": "AKS Cluster Name",
       "style": "IPY_MODEL_4dc5313145f444a6af2c1d287eb258e8",
       "value": "akscluster2"
      }
     },
     "0b487a356ee6450789b93224bf566e77": {
      "model_module": "@jupyter-widgets/controls",
      "model_module_version": "1.5.0",
      "model_name": "ButtonStyleModel",
      "state": {}
     },
     "0b5a23acd6014dd1b0485e8579a14085": {
      "model_module": "@jupyter-widgets/controls",
      "model_module_version": "1.5.0",
      "model_name": "TextModel",
      "state": {
       "description": "resource_group",
       "layout": "IPY_MODEL_1d4387b0ff504148a9108ac4fd46e702",
       "placeholder": "Azure Resource Group Name",
       "style": "IPY_MODEL_7483e9c161214313a374e32dbccdf37c",
       "value": "azmlrts-eastus-stable"
      }
     },
     "0b5c5e18eccc4fb080fb5db88479216e": {
      "model_module": "@jupyter-widgets/base",
      "model_module_version": "1.2.0",
      "model_name": "LayoutModel",
      "state": {}
     },
     "0b6a289cc7764aaab6e5f1e429128105": {
      "model_module": "@jupyter-widgets/controls",
      "model_module_version": "1.5.0",
      "model_name": "ButtonStyleModel",
      "state": {}
     },
     "0b8aadd241ff413f92a30d3b33c89db5": {
      "model_module": "@jupyter-widgets/base",
      "model_module_version": "1.2.0",
      "model_name": "LayoutModel",
      "state": {}
     },
     "0bacc1f7c31f4361835770d82ea697b8": {
      "model_module": "@jupyter-widgets/base",
      "model_module_version": "1.2.0",
      "model_name": "LayoutModel",
      "state": {}
     },
     "0c0cff89b8654492b24666af5b08400f": {
      "model_module": "@jupyter-widgets/controls",
      "model_module_version": "1.5.0",
      "model_name": "DescriptionStyleModel",
      "state": {
       "description_width": ""
      }
     },
     "0c10b3fdce184f749e0b840334af7b39": {
      "model_module": "@jupyter-widgets/controls",
      "model_module_version": "1.5.0",
      "model_name": "TextModel",
      "state": {
       "description": "deep_aks_name",
       "layout": "IPY_MODEL_471e3d8255fc4094b5f28cde887380ba",
       "placeholder": "AKS Cluster Name",
       "style": "IPY_MODEL_f808df7881ff4abf8b5f02e507fd184a",
       "value": "deepakscluster"
      }
     },
     "0c1dc0a6b9ca4dc3b25bd19de966822e": {
      "model_module": "@jupyter-widgets/controls",
      "model_module_version": "1.5.0",
      "model_name": "HBoxModel",
      "state": {
       "children": [
        "IPY_MODEL_c5ea976b622d4d54a6c75dd34a495df9",
        "IPY_MODEL_a64299317c714462ae809ab9d86d872c"
       ],
       "layout": "IPY_MODEL_f41b790886ef4fd593edfa1e897d1047"
      }
     },
     "0c6ad203a7794484b0d7ccc935b8b8f9": {
      "model_module": "@jupyter-widgets/base",
      "model_module_version": "1.2.0",
      "model_name": "LayoutModel",
      "state": {}
     },
     "0ca327a394f341fab810a9be854cd2eb": {
      "model_module": "@jupyter-widgets/controls",
      "model_module_version": "1.5.0",
      "model_name": "TextModel",
      "state": {
       "description": "workspace_name",
       "layout": "IPY_MODEL_f33dcba0a9d842c5861d5a2f1a072f3e",
       "placeholder": "Azure ML Workspace Name",
       "style": "IPY_MODEL_c690f982db8f450db637673002527a7e",
       "value": "azmlrts-eastus"
      }
     },
     "0cd7e4658696436eaee2eb20f39c2ae8": {
      "model_module": "@jupyter-widgets/controls",
      "model_module_version": "1.5.0",
      "model_name": "TextModel",
      "state": {
       "description": "workspace_region",
       "layout": "IPY_MODEL_f1546e5ac4f849d6b01f03abf223cc46",
       "placeholder": "Azure ML Workspace Region",
       "style": "IPY_MODEL_e7ac5c28d46a45a691d4950af65ea5cc",
       "value": "eastus"
      }
     },
     "0cd8ca29c5f5427a9415c05083925dd4": {
      "model_module": "@jupyter-widgets/base",
      "model_module_version": "1.2.0",
      "model_name": "LayoutModel",
      "state": {}
     },
     "0cdb1606abc7496f87427e4e204b18cf": {
      "model_module": "@jupyter-widgets/controls",
      "model_module_version": "1.5.0",
      "model_name": "DescriptionStyleModel",
      "state": {
       "description_width": ""
      }
     },
     "0ce5acb8f7f74a11b7a90cf4962b5613": {
      "model_module": "@jupyter-widgets/controls",
      "model_module_version": "1.5.0",
      "model_name": "HBoxModel",
      "state": {
       "children": [
        "IPY_MODEL_a23b888948b94383ae2b9edfab9a11f6"
       ],
       "layout": "IPY_MODEL_185238d6dc574e79b2f862aba4f14b98"
      }
     },
     "0cf57dc58b6c4fb794e329a5f1269a5c": {
      "model_module": "@jupyter-widgets/controls",
      "model_module_version": "1.5.0",
      "model_name": "TextModel",
      "state": {
       "description": "aks_service_name",
       "layout": "IPY_MODEL_823a587c17cc4c2580aced22ddd9729d",
       "placeholder": "AKS Service Name",
       "style": "IPY_MODEL_50ba3f2bd9654f93bba9d6575b3b637e",
       "value": "aksservice2"
      }
     },
     "0d0a94aa5f934f75b784ff1500bf9ba0": {
      "model_module": "@jupyter-widgets/controls",
      "model_module_version": "1.5.0",
      "model_name": "ButtonStyleModel",
      "state": {}
     },
     "0d179472abed451eafbf2394e59ecf29": {
      "model_module": "@jupyter-widgets/controls",
      "model_module_version": "1.5.0",
      "model_name": "ButtonStyleModel",
      "state": {}
     },
     "0d37b19347564810b45098b69034dae0": {
      "model_module": "@jupyter-widgets/controls",
      "model_module_version": "1.5.0",
      "model_name": "TextModel",
      "state": {
       "description": "workspace_region",
       "layout": "IPY_MODEL_50aa8ea29a944899aa101ff13c2b05be",
       "placeholder": "Azure ML Workspace Region",
       "style": "IPY_MODEL_cad65ff146c54a3c9434f75d98ab77cb",
       "value": "eastus"
      }
     },
     "0d4f7d85606d4ffb8402303fcc8b2d92": {
      "model_module": "@jupyter-widgets/base",
      "model_module_version": "1.2.0",
      "model_name": "LayoutModel",
      "state": {}
     },
     "0d6af5dbacd24bba80c9638983597bbe": {
      "model_module": "@jupyter-widgets/base",
      "model_module_version": "1.2.0",
      "model_name": "LayoutModel",
      "state": {}
     },
     "0d6fb692f0c04011afb02703552421e7": {
      "model_module": "@jupyter-widgets/controls",
      "model_module_version": "1.5.0",
      "model_name": "DescriptionStyleModel",
      "state": {
       "description_width": ""
      }
     },
     "0d763bdea14548b1b5d53bef43b24430": {
      "model_module": "@jupyter-widgets/controls",
      "model_module_version": "1.5.0",
      "model_name": "HBoxModel",
      "state": {
       "children": [
        "IPY_MODEL_f0ecef45845e41e5a3279e0c7100d349",
        "IPY_MODEL_42d6104c29d04ebf9d6edff5dc25ba6e"
       ],
       "layout": "IPY_MODEL_f33e16ef42f1481bb5c2b516edef16e4"
      }
     },
     "0d7d3f4ca56944138703b576756338a2": {
      "model_module": "@jupyter-widgets/base",
      "model_module_version": "1.2.0",
      "model_name": "LayoutModel",
      "state": {}
     },
     "0d87128a00b04e35ada447c610065896": {
      "model_module": "@jupyter-widgets/controls",
      "model_module_version": "1.5.0",
      "model_name": "TextModel",
      "state": {
       "description": "deep_image_name",
       "layout": "IPY_MODEL_bc59c09fb95d42b383b1fd920fc70624",
       "placeholder": "Docker Container Image Name",
       "style": "IPY_MODEL_e304703538f3457989561263bda49cd2",
       "value": "mydeepimage"
      }
     },
     "0d94a3aa16a447a580839ec667b53fa5": {
      "model_module": "@jupyter-widgets/base",
      "model_module_version": "1.2.0",
      "model_name": "LayoutModel",
      "state": {}
     },
     "0d95dca711e74c86b9267a34318ade67": {
      "model_module": "@jupyter-widgets/controls",
      "model_module_version": "1.5.0",
      "model_name": "DescriptionStyleModel",
      "state": {
       "description_width": ""
      }
     },
     "0ded2d3cf60a48ed999cd7f3b32b7199": {
      "model_module": "@jupyter-widgets/base",
      "model_module_version": "1.2.0",
      "model_name": "LayoutModel",
      "state": {}
     },
     "0df7bfddc30d491c99c5d1648ed86535": {
      "model_module": "@jupyter-widgets/controls",
      "model_module_version": "1.5.0",
      "model_name": "DescriptionStyleModel",
      "state": {
       "description_width": ""
      }
     },
     "0e07c1fbcdc5448d8dd5a0e466b0165c": {
      "model_module": "@jupyter-widgets/base",
      "model_module_version": "1.2.0",
      "model_name": "LayoutModel",
      "state": {}
     },
     "0e34b039a6e34331adc4d47678c11160": {
      "model_module": "@jupyter-widgets/controls",
      "model_module_version": "1.5.0",
      "model_name": "DropdownModel",
      "state": {
       "_options_labels": [
        "eastus",
        "eastus2",
        "canadacentral",
        "centralus",
        "northcentralus",
        "southcentralus",
        "westcentralus",
        "westus",
        "westus2"
       ],
       "description": "workspace_region:",
       "index": 0,
       "layout": "IPY_MODEL_e4305a3458d14d5a80233451103cda90",
       "style": "IPY_MODEL_76d3f9cf75c841d49ef9b36d2e0747ec"
      }
     },
     "0e5506d6ca0346bf88d998b7aa4a97d8": {
      "model_module": "@jupyter-widgets/controls",
      "model_module_version": "1.5.0",
      "model_name": "ButtonStyleModel",
      "state": {}
     },
     "0ea65e60f94a469c8466528040b4a925": {
      "model_module": "@jupyter-widgets/base",
      "model_module_version": "1.2.0",
      "model_name": "LayoutModel",
      "state": {}
     },
     "0ebfd69ad54347e1886f9d66569d352b": {
      "model_module": "@jupyter-widgets/base",
      "model_module_version": "1.2.0",
      "model_name": "LayoutModel",
      "state": {}
     },
     "0ed6aaf1ae2c4ecd81b1dad9fd6b47f2": {
      "model_module": "@jupyter-widgets/controls",
      "model_module_version": "1.5.0",
      "model_name": "DescriptionStyleModel",
      "state": {
       "description_width": ""
      }
     },
     "0f166ec0b4104450be856d80e54a5b6f": {
      "model_module": "@jupyter-widgets/controls",
      "model_module_version": "1.5.0",
      "model_name": "DescriptionStyleModel",
      "state": {
       "description_width": ""
      }
     },
     "0f196acd9883444cbde8f3448a031f99": {
      "model_module": "@jupyter-widgets/base",
      "model_module_version": "1.2.0",
      "model_name": "LayoutModel",
      "state": {}
     },
     "0f1b54b0d74d48459a218b4dbc321860": {
      "model_module": "@jupyter-widgets/controls",
      "model_module_version": "1.5.0",
      "model_name": "HBoxModel",
      "state": {
       "children": [
        "IPY_MODEL_0a00855f066c4ef9846533249a997d00"
       ],
       "layout": "IPY_MODEL_71de8c2f4443478991a7cc9c9dfe9a25"
      }
     },
     "0f2772bec599449d89b044110cb8c348": {
      "model_module": "@jupyter-widgets/controls",
      "model_module_version": "1.5.0",
      "model_name": "HBoxModel",
      "state": {
       "children": [
        "IPY_MODEL_39c17b6e24594897a7d5f92285de5df0",
        "IPY_MODEL_9eb1bda861c1402e9a3caacc2fdcb26e"
       ],
       "layout": "IPY_MODEL_647a431bebe14e6e804e2fe66457c4f7"
      }
     },
     "0f8c108abc504cd686c3b414b6b728d2": {
      "model_module": "@jupyter-widgets/base",
      "model_module_version": "1.2.0",
      "model_name": "LayoutModel",
      "state": {}
     },
     "0f9e7b9f04274ee387fc9b08e32f8bb9": {
      "model_module": "@jupyter-widgets/controls",
      "model_module_version": "1.5.0",
      "model_name": "DescriptionStyleModel",
      "state": {
       "description_width": ""
      }
     },
     "0fb0f3643de7416db2d82dfc8902e630": {
      "model_module": "@jupyter-widgets/controls",
      "model_module_version": "1.5.0",
      "model_name": "DescriptionStyleModel",
      "state": {
       "description_width": ""
      }
     },
     "0fbf62ebaeed408c81c312cf872fca31": {
      "model_module": "@jupyter-widgets/controls",
      "model_module_version": "1.5.0",
      "model_name": "ButtonStyleModel",
      "state": {}
     },
     "0fbfb34df569422b876bc600e35823d4": {
      "model_module": "@jupyter-widgets/controls",
      "model_module_version": "1.5.0",
      "model_name": "TextModel",
      "state": {
       "description": "image_name",
       "layout": "IPY_MODEL_acba8a79af0a49e5bd3d4ea909b34e71",
       "placeholder": "Docker Container Image Name",
       "style": "IPY_MODEL_4ed993da9c5f4b8694dbfe19750559c9",
       "value": "mymlimage2"
      }
     },
     "0ffc454f5a86416088bc668843dd87bf": {
      "model_module": "@jupyter-widgets/controls",
      "model_module_version": "1.5.0",
      "model_name": "HBoxModel",
      "state": {
       "children": [
        "IPY_MODEL_aa4acc14326148deb9aa0f8a4bec4f53",
        "IPY_MODEL_f9ad0843a6a94b32a8b4172164395ea1"
       ],
       "layout": "IPY_MODEL_b9061097bc7e4cbe86739b719e4cf295"
      }
     },
     "1019c5fbecc44d80a1e0b239845d7f69": {
      "model_module": "@jupyter-widgets/controls",
      "model_module_version": "1.5.0",
      "model_name": "TextModel",
      "state": {
       "description": "aks_service_name",
       "layout": "IPY_MODEL_9ac9d04645164ef3aa40cc4ab47b8688",
       "placeholder": "AKS Service Name",
       "style": "IPY_MODEL_97dc1830602946c5a038ec9af782d68c",
       "value": "aksservice2"
      }
     },
     "1020c8cdfde649e085db2ec9b86b1c74": {
      "model_module": "@jupyter-widgets/controls",
      "model_module_version": "1.5.0",
      "model_name": "ButtonStyleModel",
      "state": {}
     },
     "106bf370a1944fefa5c0e543a3fba75c": {
      "model_module": "@jupyter-widgets/base",
      "model_module_version": "1.2.0",
      "model_name": "LayoutModel",
      "state": {}
     },
     "108ac13fbe374045aca9588a58d1b029": {
      "model_module": "@jupyter-widgets/controls",
      "model_module_version": "1.5.0",
      "model_name": "ButtonStyleModel",
      "state": {}
     },
     "10a074cdb1c84a87bb1bc3e57b2d0c9c": {
      "model_module": "@jupyter-widgets/base",
      "model_module_version": "1.2.0",
      "model_name": "LayoutModel",
      "state": {}
     },
     "10c0a857daa741c1bb40e4904edf0622": {
      "model_module": "@jupyter-widgets/controls",
      "model_module_version": "1.5.0",
      "model_name": "HBoxModel",
      "state": {
       "children": [
        "IPY_MODEL_9fa047144b1349e2840570c6d0a6d381",
        "IPY_MODEL_f3edaf341ced41bcb6a2c2fe9c143f76"
       ],
       "layout": "IPY_MODEL_823d2a4eee30427483f5d9c7971c39fd"
      }
     },
     "1103a0fbb55b4947a7410814b9c9711f": {
      "model_module": "@jupyter-widgets/base",
      "model_module_version": "1.2.0",
      "model_name": "LayoutModel",
      "state": {}
     },
     "11266294db394d20b826b614c7053d16": {
      "model_module": "@jupyter-widgets/controls",
      "model_module_version": "1.5.0",
      "model_name": "HBoxModel",
      "state": {
       "children": [
        "IPY_MODEL_9f35380acd1f4708a2508faf83ca5a18"
       ],
       "layout": "IPY_MODEL_e40854de0cb349a18698c999d6dc9a89"
      }
     },
     "11456c7858a142a5aa736288f7774df6": {
      "model_module": "@jupyter-widgets/controls",
      "model_module_version": "1.5.0",
      "model_name": "TextModel",
      "state": {
       "description": "deep_aks_name",
       "layout": "IPY_MODEL_85fc01e22fa440078e8fe0a53c97bc65",
       "placeholder": "AKS Cluster Name",
       "style": "IPY_MODEL_1eb2e9c90da7418991da2bbf9c9d1f58",
       "value": "deepakscluster"
      }
     },
     "1147448186494403bd47156dbf24f587": {
      "model_module": "@jupyter-widgets/base",
      "model_module_version": "1.2.0",
      "model_name": "LayoutModel",
      "state": {}
     },
     "1160761956a74ac3a9be62f60b55c7ef": {
      "model_module": "@jupyter-widgets/controls",
      "model_module_version": "1.5.0",
      "model_name": "DropdownModel",
      "state": {
       "_options_labels": [
        "eastus",
        "eastus2",
        "canadacentral",
        "centralus",
        "northcentralus",
        "southcentralus",
        "westcentralus",
        "westus",
        "westus2"
       ],
       "description": "workspace_region:",
       "index": 0,
       "layout": "IPY_MODEL_23e7bc4650da4d81836c6ce53287f10c",
       "style": "IPY_MODEL_cc4481fb979e4fc5b730353e3f3f6510"
      }
     },
     "11a7f816d341469c938095651d7cdfb8": {
      "model_module": "@jupyter-widgets/base",
      "model_module_version": "1.2.0",
      "model_name": "LayoutModel",
      "state": {}
     },
     "11ca10e15d1241cdb4c98de92b98ba86": {
      "model_module": "@jupyter-widgets/controls",
      "model_module_version": "1.5.0",
      "model_name": "TextModel",
      "state": {
       "description": "deep_aks_name",
       "layout": "IPY_MODEL_0b8aadd241ff413f92a30d3b33c89db5",
       "placeholder": "AKS Cluster Name",
       "style": "IPY_MODEL_de83071a28aa4af5a80be8365736b6d9",
       "value": "deepakscluster"
      }
     },
     "1212b41677c74d8499528c35aa1ddcf0": {
      "model_module": "@jupyter-widgets/controls",
      "model_module_version": "1.5.0",
      "model_name": "DescriptionStyleModel",
      "state": {
       "description_width": ""
      }
     },
     "1224231b9ee54d358abdb9944232229a": {
      "model_module": "@jupyter-widgets/controls",
      "model_module_version": "1.5.0",
      "model_name": "DescriptionStyleModel",
      "state": {
       "description_width": ""
      }
     },
     "1245caf500a64ce4ba0f1932b132916c": {
      "model_module": "@jupyter-widgets/controls",
      "model_module_version": "1.5.0",
      "model_name": "ButtonModel",
      "state": {
       "description": "Use existing",
       "icon": "check",
       "layout": "IPY_MODEL_1fa329b5d26b49fabcf2dc4d68304c57",
       "style": "IPY_MODEL_1020c8cdfde649e085db2ec9b86b1c74",
       "tooltip": "Use an existing resource."
      }
     },
     "124784dc80c148cbba238bce6e075b4b": {
      "model_module": "@jupyter-widgets/controls",
      "model_module_version": "1.5.0",
      "model_name": "DropdownModel",
      "state": {
       "_options_labels": [
        "eastus",
        "eastus2",
        "canadacentral",
        "centralus",
        "northcentralus",
        "southcentralus",
        "westcentralus",
        "westus",
        "westus2"
       ],
       "description": "workspace_region",
       "index": 0,
       "layout": "IPY_MODEL_053c9aec192e415b861c1003d67d4ebf",
       "style": "IPY_MODEL_36df292fa2394cafb05dfa1e046495d2"
      }
     },
     "12956580ec2745afbfd20af7a2952519": {
      "model_module": "@jupyter-widgets/controls",
      "model_module_version": "1.5.0",
      "model_name": "ButtonStyleModel",
      "state": {}
     },
     "12b0a7be3c61465f9bcc7fab71b7c8cc": {
      "model_module": "@jupyter-widgets/controls",
      "model_module_version": "1.5.0",
      "model_name": "HBoxModel",
      "state": {
       "children": [
        "IPY_MODEL_6461bfdd96624bbcb9589fb745507b9f",
        "IPY_MODEL_b810f144c6fc40a7bf269a7219b1cb8b"
       ],
       "layout": "IPY_MODEL_0cd8ca29c5f5427a9415c05083925dd4"
      }
     },
     "12c2d0d1a48944df9ea0803da7e9497f": {
      "model_module": "@jupyter-widgets/base",
      "model_module_version": "1.2.0",
      "model_name": "LayoutModel",
      "state": {}
     },
     "12c73429ec9a41de9c0c4cc7cba8af3c": {
      "model_module": "@jupyter-widgets/controls",
      "model_module_version": "1.5.0",
      "model_name": "ButtonStyleModel",
      "state": {}
     },
     "13142751c5c542a09c188ee910f7a6c8": {
      "model_module": "@jupyter-widgets/controls",
      "model_module_version": "1.5.0",
      "model_name": "DescriptionStyleModel",
      "state": {
       "description_width": ""
      }
     },
     "1335558967654ca9b6492f8fbb7e38e6": {
      "model_module": "@jupyter-widgets/controls",
      "model_module_version": "1.5.0",
      "model_name": "DescriptionStyleModel",
      "state": {
       "description_width": ""
      }
     },
     "134357a29b924c88a2162152a44cd155": {
      "model_module": "@jupyter-widgets/controls",
      "model_module_version": "1.5.0",
      "model_name": "DescriptionStyleModel",
      "state": {
       "description_width": ""
      }
     },
     "1353a8e94ea547a3bdca93e35c05206f": {
      "model_module": "@jupyter-widgets/controls",
      "model_module_version": "1.5.0",
      "model_name": "DescriptionStyleModel",
      "state": {
       "description_width": ""
      }
     },
     "13558e576c6444558a5b3aa7b97240cb": {
      "model_module": "@jupyter-widgets/controls",
      "model_module_version": "1.5.0",
      "model_name": "TextModel",
      "state": {
       "description": "workspace_region",
       "layout": "IPY_MODEL_347f9dcbbb144f1f94de61f159cee683",
       "placeholder": "Azure ML Workspace Region",
       "style": "IPY_MODEL_49b33cf8f6564f82b026833e98f4e05e",
       "value": "eastus"
      }
     },
     "13af7f8018d54fef94838945b28b357a": {
      "model_module": "@jupyter-widgets/base",
      "model_module_version": "1.2.0",
      "model_name": "LayoutModel",
      "state": {}
     },
     "13b19fc554ae4099a401dd5febeb8bd8": {
      "model_module": "@jupyter-widgets/controls",
      "model_module_version": "1.5.0",
      "model_name": "DescriptionStyleModel",
      "state": {
       "description_width": ""
      }
     },
     "13b412f6695849f2b9c06262fdae5db6": {
      "model_module": "@jupyter-widgets/base",
      "model_module_version": "1.2.0",
      "model_name": "LayoutModel",
      "state": {}
     },
     "144f8b457e784c418505a0d27c76a2ac": {
      "model_module": "@jupyter-widgets/controls",
      "model_module_version": "1.5.0",
      "model_name": "DescriptionStyleModel",
      "state": {
       "description_width": ""
      }
     },
     "14ab3c8f13644621b82f9afb280e212e": {
      "model_module": "@jupyter-widgets/controls",
      "model_module_version": "1.5.0",
      "model_name": "DescriptionStyleModel",
      "state": {
       "description_width": ""
      }
     },
     "14bb44ba56c946d0ab4d973ca878d073": {
      "model_module": "@jupyter-widgets/base",
      "model_module_version": "1.2.0",
      "model_name": "LayoutModel",
      "state": {}
     },
     "14c26dba9385415a894116a7e5439080": {
      "model_module": "@jupyter-widgets/controls",
      "model_module_version": "1.5.0",
      "model_name": "DescriptionStyleModel",
      "state": {
       "description_width": ""
      }
     },
     "15092ab2ebf84434b15ae3442a39dfc7": {
      "model_module": "@jupyter-widgets/controls",
      "model_module_version": "1.5.0",
      "model_name": "HBoxModel",
      "state": {
       "children": [
        "IPY_MODEL_b1cfaaf2a2564178a64d38f488ea63d3",
        "IPY_MODEL_153dc6362dea4265bbeac34ad8b7203c"
       ],
       "layout": "IPY_MODEL_827a4376b3ad4906b8edd89befd542b1"
      }
     },
     "15185707ebab4d10946c54a82b94df3b": {
      "model_module": "@jupyter-widgets/controls",
      "model_module_version": "1.5.0",
      "model_name": "VBoxModel",
      "state": {
       "children": [
        "IPY_MODEL_17138f4d826b48deacf55561a0c8d623",
        "IPY_MODEL_560693050bf04804b44516a95e6e3149",
        "IPY_MODEL_703424530f354884a1994a28496689fa",
        "IPY_MODEL_75f7c96f14aa4e1fb28157d35f6087f7",
        "IPY_MODEL_81fa1ea1211e4c279920fa50622a3602",
        "IPY_MODEL_b57615ebaabd4b5680f3b855748cb431",
        "IPY_MODEL_66c8c247bfd3411a96d0b7098c700f28",
        "IPY_MODEL_3b6cad6369be4a56aa7b666c836cba8e",
        "IPY_MODEL_a0fe2d3d7d1b46b88e8e67cae77c81b5",
        "IPY_MODEL_59cf4b33b1884a309b4744c658d0fd58",
        "IPY_MODEL_1b175a2092ad481d9989f4381d9a3d1f",
        "IPY_MODEL_fa9dbd4857044637af5542d36cfc4f41",
        "IPY_MODEL_9815cceb2ea949e0be9d2ca9a50b0116",
        "IPY_MODEL_e4284911113f46bc872eb9a8dfd52817",
        "IPY_MODEL_3e178d376b124bf8888c41b5fe4629aa"
       ],
       "layout": "IPY_MODEL_18492400984f4035840d1e55b4b7edff"
      }
     },
     "151bba921c794756af172122e85bdca8": {
      "model_module": "@jupyter-widgets/controls",
      "model_module_version": "1.5.0",
      "model_name": "DescriptionStyleModel",
      "state": {
       "description_width": ""
      }
     },
     "153365d8a2a64a89baf00169478b3c36": {
      "model_module": "@jupyter-widgets/controls",
      "model_module_version": "1.5.0",
      "model_name": "DescriptionStyleModel",
      "state": {
       "description_width": ""
      }
     },
     "153dc6362dea4265bbeac34ad8b7203c": {
      "model_module": "@jupyter-widgets/controls",
      "model_module_version": "1.5.0",
      "model_name": "ButtonModel",
      "state": {
       "description": "Use existing",
       "layout": "IPY_MODEL_83f572ddff3040afad888090751f717c",
       "style": "IPY_MODEL_e799a16e5a684f2e8179df0a31647984",
       "tooltip": "Use an existing resource."
      }
     },
     "1549024dc58e4447bc407197cb5a8523": {
      "model_module": "@jupyter-widgets/base",
      "model_module_version": "1.2.0",
      "model_name": "LayoutModel",
      "state": {}
     },
     "157fb4f5dc144a7d84d15b805bfabed7": {
      "model_module": "@jupyter-widgets/base",
      "model_module_version": "1.2.0",
      "model_name": "LayoutModel",
      "state": {}
     },
     "1586450fe9334ae098fd30c587b71b4f": {
      "model_module": "@jupyter-widgets/base",
      "model_module_version": "1.2.0",
      "model_name": "LayoutModel",
      "state": {}
     },
     "15a8b668e2bd4c0c8dd3817a0f8dfebd": {
      "model_module": "@jupyter-widgets/controls",
      "model_module_version": "1.5.0",
      "model_name": "ButtonModel",
      "state": {
       "description": "Use existing",
       "icon": "check",
       "layout": "IPY_MODEL_c9c07f4a0feb4b66b0a4057000a6bb6b",
       "style": "IPY_MODEL_772f1036c0ba4683964199234678761b",
       "tooltip": "Use an existing resource."
      }
     },
     "15b3dcc2032043bbbb14b0421b124267": {
      "model_module": "@jupyter-widgets/base",
      "model_module_version": "1.2.0",
      "model_name": "LayoutModel",
      "state": {}
     },
     "15e813ad00454daba821b9f26b6cfc3b": {
      "model_module": "@jupyter-widgets/controls",
      "model_module_version": "1.5.0",
      "model_name": "DescriptionStyleModel",
      "state": {
       "description_width": ""
      }
     },
     "15f3a9565e934223b54bb957b36f2829": {
      "model_module": "@jupyter-widgets/controls",
      "model_module_version": "1.5.0",
      "model_name": "DescriptionStyleModel",
      "state": {
       "description_width": ""
      }
     },
     "15f48136f0e34fb085f6566baae9d580": {
      "model_module": "@jupyter-widgets/base",
      "model_module_version": "1.2.0",
      "model_name": "LayoutModel",
      "state": {}
     },
     "15f7623305f14246bbc17c9a74504af9": {
      "model_module": "@jupyter-widgets/base",
      "model_module_version": "1.2.0",
      "model_name": "LayoutModel",
      "state": {}
     },
     "160e21a3d6cc41378dad7cb125918dc1": {
      "model_module": "@jupyter-widgets/controls",
      "model_module_version": "1.5.0",
      "model_name": "DescriptionStyleModel",
      "state": {
       "description_width": ""
      }
     },
     "161d864ec3d04663aed8cb8ff43ffd74": {
      "model_module": "@jupyter-widgets/controls",
      "model_module_version": "1.5.0",
      "model_name": "DescriptionStyleModel",
      "state": {
       "description_width": ""
      }
     },
     "166d0ee31bb845b9abd0ba3712990268": {
      "model_module": "@jupyter-widgets/controls",
      "model_module_version": "1.5.0",
      "model_name": "ButtonStyleModel",
      "state": {}
     },
     "168a0b3e44f94252ad8e3c1f935301b2": {
      "model_module": "@jupyter-widgets/base",
      "model_module_version": "1.2.0",
      "model_name": "LayoutModel",
      "state": {}
     },
     "168d7d683b0945a7b5585545716bf940": {
      "model_module": "@jupyter-widgets/controls",
      "model_module_version": "1.5.0",
      "model_name": "ButtonStyleModel",
      "state": {}
     },
     "16c2ca8e9ccb4923a559022387fe4a4f": {
      "model_module": "@jupyter-widgets/base",
      "model_module_version": "1.2.0",
      "model_name": "LayoutModel",
      "state": {}
     },
     "170ec21a1e4c4e48929db8c911fd6111": {
      "model_module": "@jupyter-widgets/controls",
      "model_module_version": "1.5.0",
      "model_name": "ButtonModel",
      "state": {
       "description": "Save Upload",
       "icon": "check",
       "layout": "IPY_MODEL_5321c8b6ad8c4ed28fd67a9afa52b550",
       "style": "IPY_MODEL_fbcef6b702894a9db4af8558f24cc7be",
       "tooltip": "Click to save settings to file."
      }
     },
     "1710f67f4ab840e99ec17545d9f2d8f4": {
      "model_module": "@jupyter-widgets/base",
      "model_module_version": "1.2.0",
      "model_name": "LayoutModel",
      "state": {}
     },
     "17138f4d826b48deacf55561a0c8d623": {
      "model_module": "@jupyter-widgets/output",
      "model_module_version": "1.0.0",
      "model_name": "OutputModel",
      "state": {
       "layout": "IPY_MODEL_22415608ca014f79be884e653a402c0d"
      }
     },
     "1713d8e001d84d5db4455c45371600b9": {
      "model_module": "@jupyter-widgets/controls",
      "model_module_version": "1.5.0",
      "model_name": "TextModel",
      "state": {
       "description": "workspace_region",
       "layout": "IPY_MODEL_5b8ae3433fa44c23b24522534cc9b6da",
       "placeholder": "Azure ML Workspace Region",
       "style": "IPY_MODEL_b6adc16720694479ae89c1f92f15f52b",
       "value": "eastus"
      }
     },
     "171e081e17074ab58861b50eae1ff32a": {
      "model_module": "@jupyter-widgets/controls",
      "model_module_version": "1.5.0",
      "model_name": "DescriptionStyleModel",
      "state": {
       "description_width": ""
      }
     },
     "1738226fb93044c9bd933e3e19bafc59": {
      "model_module": "@jupyter-widgets/base",
      "model_module_version": "1.2.0",
      "model_name": "LayoutModel",
      "state": {}
     },
     "17675de7986c4d90b8a3c51afb8c4c72": {
      "model_module": "@jupyter-widgets/base",
      "model_module_version": "1.2.0",
      "model_name": "LayoutModel",
      "state": {}
     },
     "179048b595c549a9b4ac2b9fc49bc3a0": {
      "model_module": "@jupyter-widgets/base",
      "model_module_version": "1.2.0",
      "model_name": "LayoutModel",
      "state": {}
     },
     "17b097dde9234a0986e914c7b1665e04": {
      "model_module": "@jupyter-widgets/base",
      "model_module_version": "1.2.0",
      "model_name": "LayoutModel",
      "state": {}
     },
     "17f76d0ed8ed44dd82a96e65e6c59b34": {
      "model_module": "@jupyter-widgets/controls",
      "model_module_version": "1.5.0",
      "model_name": "DescriptionStyleModel",
      "state": {
       "description_width": ""
      }
     },
     "180807755cd741c097e7856f2f7a5ca1": {
      "model_module": "@jupyter-widgets/base",
      "model_module_version": "1.2.0",
      "model_name": "LayoutModel",
      "state": {}
     },
     "18202f05bc9c4192b1e575287633a7bb": {
      "model_module": "@jupyter-widgets/controls",
      "model_module_version": "1.5.0",
      "model_name": "TextModel",
      "state": {
       "description": "num_replicas",
       "layout": "IPY_MODEL_2e7c260921b94c0180b5e56a0f82418d",
       "placeholder": "number of replicas in Kubernetes cluster",
       "style": "IPY_MODEL_cf1d6df7c7c949edad57d1e934c90949",
       "value": "2"
      }
     },
     "182e33ec69eb49069b20d8cd409ebc19": {
      "model_module": "@jupyter-widgets/base",
      "model_module_version": "1.2.0",
      "model_name": "LayoutModel",
      "state": {}
     },
     "18492400984f4035840d1e55b4b7edff": {
      "model_module": "@jupyter-widgets/base",
      "model_module_version": "1.2.0",
      "model_name": "LayoutModel",
      "state": {}
     },
     "185238d6dc574e79b2f862aba4f14b98": {
      "model_module": "@jupyter-widgets/base",
      "model_module_version": "1.2.0",
      "model_name": "LayoutModel",
      "state": {}
     },
     "18753963cff443eb8b730606fcc5335f": {
      "model_module": "@jupyter-widgets/base",
      "model_module_version": "1.2.0",
      "model_name": "LayoutModel",
      "state": {}
     },
     "188607b34b8840d7a8d742dcc7b35d67": {
      "model_module": "@jupyter-widgets/controls",
      "model_module_version": "1.5.0",
      "model_name": "TextModel",
      "state": {
       "description": "workspace_name",
       "layout": "IPY_MODEL_7f651a18e70840f4933e5f0df665e2d2",
       "placeholder": "Azure ML Workspace Name",
       "style": "IPY_MODEL_7a7d2f9844b84b9ca9d29c707f128122",
       "value": "azmlrts-eastus"
      }
     },
     "188e86c73e6b492986035c7cdc24d763": {
      "model_module": "@jupyter-widgets/controls",
      "model_module_version": "1.5.0",
      "model_name": "TextModel",
      "state": {
       "description": "deep_aks_location",
       "layout": "IPY_MODEL_70b5920a82134e5ab5cf3c764e294e91",
       "placeholder": "AKS Azure Region",
       "style": "IPY_MODEL_b6919ba350564d67bdee185bb0202cc6",
       "value": "eastus"
      }
     },
     "18a2439868e64105a9b049193ce16a7e": {
      "model_module": "@jupyter-widgets/controls",
      "model_module_version": "1.5.0",
      "model_name": "HBoxModel",
      "state": {
       "children": [
        "IPY_MODEL_8a93bdb173084cea9a81be3dbb2feac6",
        "IPY_MODEL_cadbbd3bf51341d5b8dc76aa29095013"
       ],
       "layout": "IPY_MODEL_3b8e39ed9fa54617a877c00b47fd346e"
      }
     },
     "18b2e7c0b6ef478aa29b4b100ba6f025": {
      "model_module": "@jupyter-widgets/base",
      "model_module_version": "1.2.0",
      "model_name": "LayoutModel",
      "state": {}
     },
     "18bb36b85be24cd49d25a07f20b5fade": {
      "model_module": "@jupyter-widgets/controls",
      "model_module_version": "1.5.0",
      "model_name": "DescriptionStyleModel",
      "state": {
       "description_width": ""
      }
     },
     "18cf09dcd2a949bfbb06601e4d036368": {
      "model_module": "@jupyter-widgets/controls",
      "model_module_version": "1.5.0",
      "model_name": "ButtonModel",
      "state": {
       "description": "Overwrite Settings",
       "icon": "check",
       "layout": "IPY_MODEL_c6d7c45436bb4813b195568350bffaec",
       "style": "IPY_MODEL_7b0315dedeeb47c0a87887b5bbd66e3a",
       "tooltip": "Click to save settings to file."
      }
     },
     "18feacf1611c4d0698708d2a26f3805a": {
      "model_module": "@jupyter-widgets/controls",
      "model_module_version": "1.5.0",
      "model_name": "TextModel",
      "state": {
       "description": "aks_name",
       "layout": "IPY_MODEL_8916ee13286a442d91ca39dd33100e74",
       "placeholder": "AKS Cluster Name",
       "style": "IPY_MODEL_d28bd61678434b7c83debadace77587a",
       "value": "akscluster2"
      }
     },
     "1945ffe20093439d892a43c93372958d": {
      "model_module": "@jupyter-widgets/base",
      "model_module_version": "1.2.0",
      "model_name": "LayoutModel",
      "state": {}
     },
     "194b707366fc43408cf9efdeee6be0c6": {
      "model_module": "@jupyter-widgets/controls",
      "model_module_version": "1.5.0",
      "model_name": "DropdownModel",
      "state": {
       "_options_labels": [
        "eastus",
        "eastus2",
        "canadacentral",
        "centralus",
        "northcentralus",
        "southcentralus",
        "westcentralus",
        "westus",
        "westus2"
       ],
       "description": "aks_location",
       "index": 0,
       "layout": "IPY_MODEL_baacde6d16f743c9a1d4a9bd98529db3",
       "style": "IPY_MODEL_dc7db191ed584f89a6712884afb83b64"
      }
     },
     "195be21ece8c4e3c99f429b4d1be2fba": {
      "model_module": "@jupyter-widgets/base",
      "model_module_version": "1.2.0",
      "model_name": "LayoutModel",
      "state": {}
     },
     "1965643a14164b5986cc5f515ef056f0": {
      "model_module": "@jupyter-widgets/base",
      "model_module_version": "1.2.0",
      "model_name": "LayoutModel",
      "state": {}
     },
     "19659410a6ea42fcb5091d42f053c797": {
      "model_module": "@jupyter-widgets/controls",
      "model_module_version": "1.5.0",
      "model_name": "DescriptionStyleModel",
      "state": {
       "description_width": ""
      }
     },
     "19789daaabc74802a7e12e81da88ed95": {
      "model_module": "@jupyter-widgets/output",
      "model_module_version": "1.0.0",
      "model_name": "OutputModel",
      "state": {
       "layout": "IPY_MODEL_5ec7edb5743041d9992325fc8ddcd8c8"
      }
     },
     "1982575ccdba425c946718f9c593bb50": {
      "model_module": "@jupyter-widgets/controls",
      "model_module_version": "1.5.0",
      "model_name": "HBoxModel",
      "state": {
       "children": [
        "IPY_MODEL_afe2f7a9ef304590961bfbc2c0786503"
       ],
       "layout": "IPY_MODEL_4cff4c37b4594bfcac6b1b1d668da8d1"
      }
     },
     "1984b4c44d8f430aa5835d85f14a9bd1": {
      "model_module": "@jupyter-widgets/controls",
      "model_module_version": "1.5.0",
      "model_name": "DescriptionStyleModel",
      "state": {
       "description_width": ""
      }
     },
     "19944c01b2bb409782865a4210b559d5": {
      "model_module": "@jupyter-widgets/base",
      "model_module_version": "1.2.0",
      "model_name": "LayoutModel",
      "state": {}
     },
     "19a2e85a5fe14635ba2869bde0a26b4b": {
      "model_module": "@jupyter-widgets/base",
      "model_module_version": "1.2.0",
      "model_name": "LayoutModel",
      "state": {}
     },
     "19a70770bc5e40abbec54d6a6e960a08": {
      "model_module": "@jupyter-widgets/base",
      "model_module_version": "1.2.0",
      "model_name": "LayoutModel",
      "state": {}
     },
     "19b016536c114dbabed50e9ea3efee0f": {
      "model_module": "@jupyter-widgets/controls",
      "model_module_version": "1.5.0",
      "model_name": "TextModel",
      "state": {
       "description": "resource_group",
       "layout": "IPY_MODEL_808fd887595c432aaa65324061d3c1d9",
       "placeholder": "Azure Resource Group Name",
       "style": "IPY_MODEL_63045e1bfb2a4d20a8df1d1bb41d06a2",
       "value": "azmlrts-eastus-stable"
      }
     },
     "19e783a76c0645c5bccf2122af7fec29": {
      "model_module": "@jupyter-widgets/controls",
      "model_module_version": "1.5.0",
      "model_name": "TextModel",
      "state": {
       "description": "image_name",
       "layout": "IPY_MODEL_897aaee37e804713b1bbc11e9c2b28f5",
       "placeholder": "Docker Container Image Name",
       "style": "IPY_MODEL_99727a2a00ec4235b7ae3a3e4f184678",
       "value": "mymlimage2"
      }
     },
     "1a00a7706410472fb013df1707a60bb8": {
      "model_module": "@jupyter-widgets/controls",
      "model_module_version": "1.5.0",
      "model_name": "ButtonModel",
      "state": {
       "description": "Save Upload",
       "icon": "check",
       "layout": "IPY_MODEL_c8ffd44506804be18140c92a6d450f3d",
       "style": "IPY_MODEL_81ab31a211bd446886330e27fdeeb792",
       "tooltip": "Click to save settings to file."
      }
     },
     "1a463c7e41dc4247ab7d60e83445918b": {
      "model_module": "@jupyter-widgets/base",
      "model_module_version": "1.2.0",
      "model_name": "LayoutModel",
      "state": {}
     },
     "1a53149d33a941bda10e9bdba6bf3278": {
      "model_module": "@jupyter-widgets/base",
      "model_module_version": "1.2.0",
      "model_name": "LayoutModel",
      "state": {}
     },
     "1aa5948fd709499b84144de6f3352563": {
      "model_module": "@jupyter-widgets/controls",
      "model_module_version": "1.5.0",
      "model_name": "FileUploadModel",
      "state": {
       "accept": ".yml",
       "description_tooltip": null,
       "layout": "IPY_MODEL_3b16a058409d4476b9c8c16448f9902e",
       "style": "IPY_MODEL_da948d982646442fa594c49ce16044a8"
      }
     },
     "1ac4c5548332439b8267020c818a87cc": {
      "model_module": "@jupyter-widgets/controls",
      "model_module_version": "1.5.0",
      "model_name": "TextModel",
      "state": {
       "description": "aks_service_name",
       "layout": "IPY_MODEL_9076362155314d899395a1853779c0c3",
       "placeholder": "AKS Service Name",
       "style": "IPY_MODEL_e49c65bdfb82486dbcd5a04adc9476d3",
       "value": "aksservice2"
      }
     },
     "1af3c6269bbb49aa92c089aa1dc83567": {
      "model_module": "@jupyter-widgets/controls",
      "model_module_version": "1.5.0",
      "model_name": "ButtonStyleModel",
      "state": {}
     },
     "1b027729e8134fa9bc7980818f99aec5": {
      "model_module": "@jupyter-widgets/base",
      "model_module_version": "1.2.0",
      "model_name": "LayoutModel",
      "state": {}
     },
     "1b033bc394b74dec95db55af78b173fa": {
      "model_module": "@jupyter-widgets/controls",
      "model_module_version": "1.5.0",
      "model_name": "DescriptionStyleModel",
      "state": {
       "description_width": ""
      }
     },
     "1b11bb2fbb5f4cb292b790707048fd81": {
      "model_module": "@jupyter-widgets/controls",
      "model_module_version": "1.5.0",
      "model_name": "DescriptionStyleModel",
      "state": {
       "description_width": ""
      }
     },
     "1b175a2092ad481d9989f4381d9a3d1f": {
      "model_module": "@jupyter-widgets/controls",
      "model_module_version": "1.5.0",
      "model_name": "TextModel",
      "state": {
       "description": "deep_image_name",
       "layout": "IPY_MODEL_c4a9ee03813143a9839f61e601566466",
       "placeholder": "Docker Container Image Name",
       "style": "IPY_MODEL_18bb36b85be24cd49d25a07f20b5fade",
       "value": "mydeepimage"
      }
     },
     "1bed4bf37f5f4a148e275530f014ef10": {
      "model_module": "@jupyter-widgets/base",
      "model_module_version": "1.2.0",
      "model_name": "LayoutModel",
      "state": {}
     },
     "1c522c9cb6ca4d33bc7c12cf3865fd0f": {
      "model_module": "@jupyter-widgets/base",
      "model_module_version": "1.2.0",
      "model_name": "LayoutModel",
      "state": {}
     },
     "1c55e9d2d42841d28626f2b9aa3366ab": {
      "model_module": "@jupyter-widgets/controls",
      "model_module_version": "1.5.0",
      "model_name": "DescriptionStyleModel",
      "state": {
       "description_width": ""
      }
     },
     "1c56636784d2482da050bd141489fa87": {
      "model_module": "@jupyter-widgets/controls",
      "model_module_version": "1.5.0",
      "model_name": "ButtonModel",
      "state": {
       "description": "Save Upload",
       "icon": "check",
       "layout": "IPY_MODEL_69aa9ef3bf204bc3950ed9ab756c2dd9",
       "style": "IPY_MODEL_d53f342a44b3420cb9aeefdbe648122c",
       "tooltip": "Click to save settings to file."
      }
     },
     "1c7b4188869240f9b81463861788a825": {
      "model_module": "@jupyter-widgets/base",
      "model_module_version": "1.2.0",
      "model_name": "LayoutModel",
      "state": {}
     },
     "1ccce91df1b14031ac3a8698d880b66b": {
      "model_module": "@jupyter-widgets/base",
      "model_module_version": "1.2.0",
      "model_name": "LayoutModel",
      "state": {}
     },
     "1ce8933522fc4c7a8984ed8a6f2d7ea8": {
      "model_module": "@jupyter-widgets/controls",
      "model_module_version": "1.5.0",
      "model_name": "VBoxModel",
      "state": {
       "children": [
        "IPY_MODEL_e4b839fbf353429a8e77c50199c28b99",
        "IPY_MODEL_dbf47341bce94ecc8d5ac438b0e1b14b",
        "IPY_MODEL_64921257f7c24dc086d54b01a41b5194",
        "IPY_MODEL_a54d00904f97409ab7e90ffbfed98910",
        "IPY_MODEL_ef20bb145cbb49ba8c8e6a65a5a641ce",
        "IPY_MODEL_1160761956a74ac3a9be62f60b55c7ef",
        "IPY_MODEL_8cd22cd9620f4da8838c2c781a9a74d9",
        "IPY_MODEL_421815dff1374515a97b8d6e5597b48b",
        "IPY_MODEL_d3d0b7e3141541aab71e1f22f42f0392",
        "IPY_MODEL_a44742112745416c980352656032d25a",
        "IPY_MODEL_0a232e7aba86497891ca5b25d1074d7d",
        "IPY_MODEL_5ccd3cca9b6b4bc9a0e808eacc9d4781",
        "IPY_MODEL_d997c83b7217441fb5fc8b62a3f0b666",
        "IPY_MODEL_918a6575934549dea5630397676d7120",
        "IPY_MODEL_7d7fc443faef4fd5b8e5a894694cb317"
       ],
       "layout": "IPY_MODEL_4bb1585a2df8462c913b25ecf71a7636"
      }
     },
     "1ceba8b713744624916386c537b3218e": {
      "model_module": "@jupyter-widgets/base",
      "model_module_version": "1.2.0",
      "model_name": "LayoutModel",
      "state": {}
     },
     "1cfcd245447d4cee84d7ef5cca510ff4": {
      "model_module": "@jupyter-widgets/base",
      "model_module_version": "1.2.0",
      "model_name": "LayoutModel",
      "state": {}
     },
     "1d0d823b0ad94f66966e2080bfacc2b5": {
      "model_module": "@jupyter-widgets/base",
      "model_module_version": "1.2.0",
      "model_name": "LayoutModel",
      "state": {}
     },
     "1d308ef16b994e40bdb3c6b555be988b": {
      "model_module": "@jupyter-widgets/controls",
      "model_module_version": "1.5.0",
      "model_name": "TextModel",
      "state": {
       "description": "image_name",
       "layout": "IPY_MODEL_fc4bb417220a49cc878f66404e2db279",
       "placeholder": "Docker Container Image Name",
       "style": "IPY_MODEL_fc33a18d9299493f91780615817f8686",
       "value": "mymlimage2"
      }
     },
     "1d4387b0ff504148a9108ac4fd46e702": {
      "model_module": "@jupyter-widgets/base",
      "model_module_version": "1.2.0",
      "model_name": "LayoutModel",
      "state": {}
     },
     "1d5e7bc24bb14485901d6892cdc5075e": {
      "model_module": "@jupyter-widgets/controls",
      "model_module_version": "1.5.0",
      "model_name": "DescriptionStyleModel",
      "state": {
       "description_width": ""
      }
     },
     "1d81aa4234b64ed2bdd6465e36bdd9c3": {
      "model_module": "@jupyter-widgets/controls",
      "model_module_version": "1.5.0",
      "model_name": "ButtonStyleModel",
      "state": {}
     },
     "1db209fb3f0f450c9ce29807f11c0820": {
      "model_module": "@jupyter-widgets/base",
      "model_module_version": "1.2.0",
      "model_name": "LayoutModel",
      "state": {}
     },
     "1dbe4c52518044978cfeca2f094dfef9": {
      "model_module": "@jupyter-widgets/base",
      "model_module_version": "1.2.0",
      "model_name": "LayoutModel",
      "state": {}
     },
     "1e2d8322e7374108b2f2ef6bce6cc30c": {
      "model_module": "@jupyter-widgets/base",
      "model_module_version": "1.2.0",
      "model_name": "LayoutModel",
      "state": {}
     },
     "1e427439a7d04d1dbd49fcb49e20810b": {
      "model_module": "@jupyter-widgets/base",
      "model_module_version": "1.2.0",
      "model_name": "LayoutModel",
      "state": {}
     },
     "1e5a9f201ece46ceb1b25c14b0a27356": {
      "model_module": "@jupyter-widgets/controls",
      "model_module_version": "1.5.0",
      "model_name": "HBoxModel",
      "state": {
       "children": [
        "IPY_MODEL_d339b9aeb48243dd9ea5f4779d0ff9e6"
       ],
       "layout": "IPY_MODEL_59c93d0d2d1f4a1ab3b4a75381866caa"
      }
     },
     "1e82a4aafa9a431ca1621f0994324ee5": {
      "model_module": "@jupyter-widgets/controls",
      "model_module_version": "1.5.0",
      "model_name": "TextModel",
      "state": {
       "description": "node_count",
       "layout": "IPY_MODEL_827177cd6f5d44338ecbc916770d5d1c",
       "placeholder": "number of nodes in Kubernetes cluster",
       "style": "IPY_MODEL_171e081e17074ab58861b50eae1ff32a",
       "value": "4"
      }
     },
     "1ea2987cc4b54ee2a5ce082f38b2ee59": {
      "model_module": "@jupyter-widgets/base",
      "model_module_version": "1.2.0",
      "model_name": "LayoutModel",
      "state": {}
     },
     "1eb2e9c90da7418991da2bbf9c9d1f58": {
      "model_module": "@jupyter-widgets/controls",
      "model_module_version": "1.5.0",
      "model_name": "DescriptionStyleModel",
      "state": {
       "description_width": ""
      }
     },
     "1eb6b52203164b00ac1a643e027b0bcb": {
      "model_module": "@jupyter-widgets/controls",
      "model_module_version": "1.5.0",
      "model_name": "ButtonStyleModel",
      "state": {}
     },
     "1ecd1404accb4ea4a3e7e781fe909acb": {
      "model_module": "@jupyter-widgets/controls",
      "model_module_version": "1.5.0",
      "model_name": "DropdownModel",
      "state": {
       "_options_labels": [
        "AG-CE-AI-GPU-EXPERIMENTATION",
        "AG-AzureCAT-AITao-Test-COGSNonProd-IO1685734",
        "AG-CE-AI-DEVOPS",
        "AG-AzureCAT-AIDemos-Test-COGSNonProd-IO1685734",
        "AGCE-AI-DELETE-Sharat",
        "AG-AzureCAT-AILab-Test-COGSNonProd-IO1685734",
        "Visual Studio Ultimate with MSDN",
        "AG-AzureCAT-AIDataPM-Test-COGSNonProd-IO1685743",
        "AG-AzureCAT-AIDanielle-Test-COGSNonProd-IO1685734",
        "AG-CE-AI-MN-CICOMMERCIAL",
        "AG-CE-AI-MN-INCUBATION",
        "AG-CE-AI-MN-OSS",
        "AG-CE-AI-MN-E2E",
        "AG-CE-AI-MN-HU",
        "AG-CE-AI-MN-SEISMIC",
        "AG-CE-AI-STORAGE",
        "AG-CE-AI-MN-RETAIL",
        "AG-CE-AI-FEEDBACK",
        "AG-CE-AI-MN-LAB",
        "Azure SDK Engineering System",
        "Epic-Edge-ES-ReproVMLab",
        "ES-Stream-Operations",
        "Core-ES-BranchManagement",
        "WDG-ES-RnD-GITTrain",
        "Cosmos_WDG_Core_BnB_100292",
        "Azure Stack Diagnostics CI and Production VaaS",
        "Edge DevTools Client",
        "Azure Stack CSS Labs",
        "AppInsight Test",
        "ddverify",
        "VSEng MadDog-RPS Telemetry",
        "CAT_Eng",
        "RPS-cloud-common-2",
        "Core-ES-WorkManagement",
        "Azure_Maps_MDP_Engineering",
        "Test/Demo - VipSwapper Operations",
        "COSINE-ES-Signing Azure Service",
        "AI Infra Build",
        "AG-CE-E2E-AI",
        "DEMO - how RepDemo are you",
        "ADS Demo Subscription",
        "AzureCAT E2E Blue Steel",
        "Azure Search DEV Service Layer (kmort,miwelsh,bohuan)"
       ],
       "description": "workspace_region:",
       "index": 2,
       "layout": "IPY_MODEL_edb18a96dea14ff9a359ba220746603d",
       "style": "IPY_MODEL_5f5ee3be5e7b4ec2ac24fdf02e846513"
      }
     },
     "1ed54ea6852b4ea2953efbff68674490": {
      "model_module": "@jupyter-widgets/base",
      "model_module_version": "1.2.0",
      "model_name": "LayoutModel",
      "state": {}
     },
     "1eeb07b8a4f748299874d68d0eb42f28": {
      "model_module": "@jupyter-widgets/controls",
      "model_module_version": "1.5.0",
      "model_name": "TextModel",
      "state": {
       "description": "aks_service_name",
       "layout": "IPY_MODEL_578bdeef15ea4bd096a1199b723060f6",
       "placeholder": "AKS Service Name",
       "style": "IPY_MODEL_a361c4cccee8462b83e119f8b882867c",
       "value": "aksservice2"
      }
     },
     "1f08c722c5f74788877ca38a52709dd7": {
      "model_module": "@jupyter-widgets/base",
      "model_module_version": "1.2.0",
      "model_name": "LayoutModel",
      "state": {}
     },
     "1f18100427164b87b49a3b9ba19ceab7": {
      "model_module": "@jupyter-widgets/controls",
      "model_module_version": "1.5.0",
      "model_name": "TextModel",
      "state": {
       "description": "aks_name",
       "layout": "IPY_MODEL_3c5bbfd544c342c9ad71a13839beedd7",
       "placeholder": "AKS Cluster Name",
       "style": "IPY_MODEL_64a142ef178146f99462e668ab892821"
      }
     },
     "1f2098d8a621441a8554d6737b7a559e": {
      "model_module": "@jupyter-widgets/base",
      "model_module_version": "1.2.0",
      "model_name": "LayoutModel",
      "state": {}
     },
     "1f228afa7c7d4d7995e2fca42d484ed1": {
      "model_module": "@jupyter-widgets/base",
      "model_module_version": "1.2.0",
      "model_name": "LayoutModel",
      "state": {}
     },
     "1f37066cc02249f88632320095d5e279": {
      "model_module": "@jupyter-widgets/controls",
      "model_module_version": "1.5.0",
      "model_name": "DescriptionStyleModel",
      "state": {
       "description_width": ""
      }
     },
     "1f423e4a93b2473393f0a91123aa6a9d": {
      "model_module": "@jupyter-widgets/controls",
      "model_module_version": "1.5.0",
      "model_name": "DescriptionStyleModel",
      "state": {
       "description_width": ""
      }
     },
     "1f42f781d3314c2992763e2220ad0fdf": {
      "model_module": "@jupyter-widgets/base",
      "model_module_version": "1.2.0",
      "model_name": "LayoutModel",
      "state": {}
     },
     "1f822d26ff98411586e4ef0db92f926c": {
      "model_module": "@jupyter-widgets/controls",
      "model_module_version": "1.5.0",
      "model_name": "ButtonStyleModel",
      "state": {}
     },
     "1fa2bd3185ae43e0a2eb85c9a9f4c272": {
      "model_module": "@jupyter-widgets/base",
      "model_module_version": "1.2.0",
      "model_name": "LayoutModel",
      "state": {}
     },
     "1fa329b5d26b49fabcf2dc4d68304c57": {
      "model_module": "@jupyter-widgets/base",
      "model_module_version": "1.2.0",
      "model_name": "LayoutModel",
      "state": {}
     },
     "1fdab0b1b9b74a70bd5119a3be4c7743": {
      "model_module": "@jupyter-widgets/controls",
      "model_module_version": "1.5.0",
      "model_name": "TextModel",
      "state": {
       "description": "image_name",
       "layout": "IPY_MODEL_1ccce91df1b14031ac3a8698d880b66b",
       "placeholder": "Docker Container Image Name",
       "style": "IPY_MODEL_41d010b9d3cd42fc909277b4d80369a5",
       "value": "mymlimage2"
      }
     },
     "1fecf45fa83e40259033257e0c1485f0": {
      "model_module": "@jupyter-widgets/controls",
      "model_module_version": "1.5.0",
      "model_name": "TextModel",
      "state": {
       "description": "deep_aks_location",
       "layout": "IPY_MODEL_438fea81e402434d8d0e5922bc4ab099",
       "placeholder": "AKS Azure Region",
       "style": "IPY_MODEL_735ecc7f6d6b43cb978641f610865864",
       "value": "eastus"
      }
     },
     "2004ecd1b1cd494aa8bf129198289a01": {
      "model_module": "@jupyter-widgets/base",
      "model_module_version": "1.2.0",
      "model_name": "LayoutModel",
      "state": {}
     },
     "2012be65137c4c97a52dc5b331cad9a3": {
      "model_module": "@jupyter-widgets/base",
      "model_module_version": "1.2.0",
      "model_name": "LayoutModel",
      "state": {}
     },
     "201eda59a80740eda28d73947c0d7ba7": {
      "model_module": "@jupyter-widgets/controls",
      "model_module_version": "1.5.0",
      "model_name": "TextModel",
      "state": {
       "description": "num_replicas",
       "layout": "IPY_MODEL_beb87b88285e4a31843e25ccb2abaaa2",
       "placeholder": "number of replicas in Kubernetes cluster",
       "style": "IPY_MODEL_62cafee61465493ba8d5077178a7f2a5",
       "value": "2"
      }
     },
     "2074c71845494366ad51705e6995b3f8": {
      "model_module": "@jupyter-widgets/base",
      "model_module_version": "1.2.0",
      "model_name": "LayoutModel",
      "state": {}
     },
     "207eca5cc8b840b4ab9674d0bb8e611b": {
      "model_module": "@jupyter-widgets/base",
      "model_module_version": "1.2.0",
      "model_name": "LayoutModel",
      "state": {}
     },
     "20806c7bc23c4c29a393e48a76bf0b6d": {
      "model_module": "@jupyter-widgets/controls",
      "model_module_version": "1.5.0",
      "model_name": "DescriptionStyleModel",
      "state": {
       "description_width": ""
      }
     },
     "20929e7fe71240acb8b572d1392e91de": {
      "model_module": "@jupyter-widgets/controls",
      "model_module_version": "1.5.0",
      "model_name": "DescriptionStyleModel",
      "state": {
       "description_width": ""
      }
     },
     "209c91b744a24e3a82c185c951c339e7": {
      "model_module": "@jupyter-widgets/base",
      "model_module_version": "1.2.0",
      "model_name": "LayoutModel",
      "state": {}
     },
     "20a8a384500c43c288b4613ee5bd56e6": {
      "model_module": "@jupyter-widgets/base",
      "model_module_version": "1.2.0",
      "model_name": "LayoutModel",
      "state": {}
     },
     "20c92dd2b774410bbc1ac21c99f6f8b7": {
      "model_module": "@jupyter-widgets/base",
      "model_module_version": "1.2.0",
      "model_name": "LayoutModel",
      "state": {}
     },
     "21148d4e638641ccab89b6c000eaaebc": {
      "model_module": "@jupyter-widgets/base",
      "model_module_version": "1.2.0",
      "model_name": "LayoutModel",
      "state": {}
     },
     "211b3e9ee02346139ec2839873f82b13": {
      "model_module": "@jupyter-widgets/controls",
      "model_module_version": "1.5.0",
      "model_name": "DescriptionStyleModel",
      "state": {
       "description_width": ""
      }
     },
     "211d8fff10c94df4a26a1b72345ffd8e": {
      "model_module": "@jupyter-widgets/controls",
      "model_module_version": "1.5.0",
      "model_name": "DescriptionStyleModel",
      "state": {
       "description_width": ""
      }
     },
     "2128888627af425b95183845908d3712": {
      "model_module": "@jupyter-widgets/controls",
      "model_module_version": "1.5.0",
      "model_name": "DescriptionStyleModel",
      "state": {
       "description_width": ""
      }
     },
     "21331658f8f24c9c8ffa166c6fc72b4c": {
      "model_module": "@jupyter-widgets/controls",
      "model_module_version": "1.5.0",
      "model_name": "TextModel",
      "state": {
       "description": "aks_service_name",
       "layout": "IPY_MODEL_1a53149d33a941bda10e9bdba6bf3278",
       "placeholder": "AKS Service Name",
       "style": "IPY_MODEL_0fb0f3643de7416db2d82dfc8902e630",
       "value": "aksservice2"
      }
     },
     "2138be4298d34389b69b3c60ffae369e": {
      "model_module": "@jupyter-widgets/controls",
      "model_module_version": "1.5.0",
      "model_name": "HBoxModel",
      "state": {
       "children": [
        "IPY_MODEL_ad4360049832482f90be0f76cab12f93"
       ],
       "layout": "IPY_MODEL_f79b515b846e49bdb94d010c9db290ef"
      }
     },
     "215a1b1db3ac4e418a011412811d726a": {
      "model_module": "@jupyter-widgets/output",
      "model_module_version": "1.0.0",
      "model_name": "OutputModel",
      "state": {
       "layout": "IPY_MODEL_3418f829a1384de089c9c32a8027d3b9"
      }
     },
     "2167f0a8c3ab46118ada32a0d17ca215": {
      "model_module": "@jupyter-widgets/base",
      "model_module_version": "1.2.0",
      "model_name": "LayoutModel",
      "state": {}
     },
     "2177add04e4d4950b3d7ee849719549f": {
      "model_module": "@jupyter-widgets/controls",
      "model_module_version": "1.5.0",
      "model_name": "HBoxModel",
      "state": {
       "children": [
        "IPY_MODEL_9695f45969ed464082fcd990eedc4b9f"
       ],
       "layout": "IPY_MODEL_010fa15d15d84fb4a329fdb8a68fc6f0"
      }
     },
     "21898ae5d9dc4e149de68f816e95aefe": {
      "model_module": "@jupyter-widgets/controls",
      "model_module_version": "1.5.0",
      "model_name": "TextModel",
      "state": {
       "description": "workspace_name",
       "layout": "IPY_MODEL_5d6ff90ad5154099ba7f21370375a51b",
       "placeholder": "Azure ML Workspace Name",
       "style": "IPY_MODEL_1b11bb2fbb5f4cb292b790707048fd81",
       "value": "azmlrts-eastus"
      }
     },
     "21b95876dae54b5fa618783ea037ae9e": {
      "model_module": "@jupyter-widgets/controls",
      "model_module_version": "1.5.0",
      "model_name": "DescriptionStyleModel",
      "state": {
       "description_width": ""
      }
     },
     "21f2f14e858c47bd87b40128c1916dc0": {
      "model_module": "@jupyter-widgets/base",
      "model_module_version": "1.2.0",
      "model_name": "LayoutModel",
      "state": {}
     },
     "22113c2485b34a879a94a3a9b3fbf97f": {
      "model_module": "@jupyter-widgets/controls",
      "model_module_version": "1.5.0",
      "model_name": "HBoxModel",
      "state": {
       "children": [
        "IPY_MODEL_dcb87b9c502d493c8d189048a5a0f13c",
        "IPY_MODEL_b71f676b6b1546d4a9a27972ed115e26"
       ],
       "layout": "IPY_MODEL_bc35944f6fb340ee8858af6fdac3c8fb"
      }
     },
     "22299d4eb39c42b69582a369426065a1": {
      "model_module": "@jupyter-widgets/controls",
      "model_module_version": "1.5.0",
      "model_name": "TextModel",
      "state": {
       "description": "workspace_name",
       "layout": "IPY_MODEL_837d4d6cb0ad41fbb3d9f2cf20b997f3",
       "placeholder": "Azure ML Workspace Name",
       "style": "IPY_MODEL_ccff25a0c34a4e87a12385e2ae42d9e5",
       "value": "azmlrts-eastus"
      }
     },
     "22415608ca014f79be884e653a402c0d": {
      "model_module": "@jupyter-widgets/base",
      "model_module_version": "1.2.0",
      "model_name": "LayoutModel",
      "state": {}
     },
     "22654013dc4d4b7384d8a948448d9540": {
      "model_module": "@jupyter-widgets/base",
      "model_module_version": "1.2.0",
      "model_name": "LayoutModel",
      "state": {}
     },
     "22786073554f4a8f900b297c04b6cd52": {
      "model_module": "@jupyter-widgets/controls",
      "model_module_version": "1.5.0",
      "model_name": "DropdownModel",
      "state": {
       "_options_labels": [
        "AG-CE-AI-GPU-EXPERIMENTATION",
        "AG-AzureCAT-AITao-Test-COGSNonProd-IO1685734",
        "AG-CE-AI-DEVOPS",
        "AG-AzureCAT-AIDemos-Test-COGSNonProd-IO1685734",
        "AGCE-AI-DELETE-Sharat",
        "AG-AzureCAT-AILab-Test-COGSNonProd-IO1685734",
        "Visual Studio Ultimate with MSDN",
        "AG-AzureCAT-AIDataPM-Test-COGSNonProd-IO1685743",
        "AG-AzureCAT-AIDanielle-Test-COGSNonProd-IO1685734",
        "AG-CE-AI-MN-CICOMMERCIAL",
        "AG-CE-AI-MN-INCUBATION",
        "AG-CE-AI-MN-OSS",
        "AG-CE-AI-MN-E2E",
        "AG-CE-AI-MN-HU",
        "AG-CE-AI-MN-SEISMIC",
        "AG-CE-AI-STORAGE",
        "AG-CE-AI-MN-RETAIL",
        "AG-CE-AI-FEEDBACK",
        "AG-CE-AI-MN-LAB",
        "Azure SDK Engineering System",
        "Epic-Edge-ES-ReproVMLab",
        "ES-Stream-Operations",
        "Core-ES-BranchManagement",
        "WDG-ES-RnD-GITTrain",
        "Cosmos_WDG_Core_BnB_100292",
        "Azure Stack Diagnostics CI and Production VaaS",
        "Edge DevTools Client",
        "Azure Stack CSS Labs",
        "AppInsight Test",
        "ddverify",
        "VSEng MadDog-RPS Telemetry",
        "CAT_Eng",
        "RPS-cloud-common-2",
        "Core-ES-WorkManagement",
        "Azure_Maps_MDP_Engineering",
        "Test/Demo - VipSwapper Operations",
        "COSINE-ES-Signing Azure Service",
        "AI Infra Build",
        "AG-CE-E2E-AI",
        "DEMO - how RepDemo are you",
        "ADS Demo Subscription",
        "AzureCAT E2E Blue Steel",
        "Azure Search DEV Service Layer (kmort,miwelsh,bohuan)"
       ],
       "description": "subscription_id",
       "index": 2,
       "layout": "IPY_MODEL_45f60de78bd343c887d3acfcf27e08ec",
       "style": "IPY_MODEL_af5567d64c344cbb989baa7e59663ee4"
      }
     },
     "2286b15e256a4588a2e288320b728d04": {
      "model_module": "@jupyter-widgets/controls",
      "model_module_version": "1.5.0",
      "model_name": "DescriptionStyleModel",
      "state": {
       "description_width": ""
      }
     },
     "22af5ed2cdc14791a66102baab8f5742": {
      "model_module": "@jupyter-widgets/controls",
      "model_module_version": "1.5.0",
      "model_name": "HBoxModel",
      "state": {
       "children": [
        "IPY_MODEL_dd03772a904c42e2801d24635ae75278",
        "IPY_MODEL_3451d60006e544bd9502436e6f9a6369"
       ],
       "layout": "IPY_MODEL_01907ae8907a4c31948dc007cb8fee9d"
      }
     },
     "22b95c8df7f14a96b06213bb071aaac4": {
      "model_module": "@jupyter-widgets/base",
      "model_module_version": "1.2.0",
      "model_name": "LayoutModel",
      "state": {}
     },
     "22f29d79482c41bb8312adad420c41f7": {
      "model_module": "@jupyter-widgets/controls",
      "model_module_version": "1.5.0",
      "model_name": "ButtonModel",
      "state": {
       "description": "Overwrite Settings",
       "icon": "check",
       "layout": "IPY_MODEL_69805c371a8941619590535996873bf6",
       "style": "IPY_MODEL_2732a0c0a2644b40bfbc4c9570aae972",
       "tooltip": "Click to save settings to file."
      }
     },
     "2335e37958b6426da99f3f79df5283c4": {
      "model_module": "@jupyter-widgets/base",
      "model_module_version": "1.2.0",
      "model_name": "LayoutModel",
      "state": {}
     },
     "233ec82d94ba4b3b8328c64abc8889c5": {
      "model_module": "@jupyter-widgets/output",
      "model_module_version": "1.0.0",
      "model_name": "OutputModel",
      "state": {
       "layout": "IPY_MODEL_3f015a3ef4b948ef9df1833d6e49158c"
      }
     },
     "234e01edb73d470e821d59e48fe4900f": {
      "model_module": "@jupyter-widgets/base",
      "model_module_version": "1.2.0",
      "model_name": "LayoutModel",
      "state": {}
     },
     "235f0bed5bb148fdaf8dec307b7386b5": {
      "model_module": "@jupyter-widgets/controls",
      "model_module_version": "1.5.0",
      "model_name": "ButtonStyleModel",
      "state": {}
     },
     "2371fdaf0f054ae4bad7d495b22941ab": {
      "model_module": "@jupyter-widgets/controls",
      "model_module_version": "1.5.0",
      "model_name": "DescriptionStyleModel",
      "state": {
       "description_width": ""
      }
     },
     "23b91fbbd85145308700daad9739e3dc": {
      "model_module": "@jupyter-widgets/controls",
      "model_module_version": "1.5.0",
      "model_name": "DescriptionStyleModel",
      "state": {
       "description_width": ""
      }
     },
     "23e7bc4650da4d81836c6ce53287f10c": {
      "model_module": "@jupyter-widgets/base",
      "model_module_version": "1.2.0",
      "model_name": "LayoutModel",
      "state": {}
     },
     "24097674886349eeba82087cd4133e70": {
      "model_module": "@jupyter-widgets/controls",
      "model_module_version": "1.5.0",
      "model_name": "HBoxModel",
      "state": {
       "children": [
        "IPY_MODEL_d2327c4dda3d4e07b20568380a770264",
        "IPY_MODEL_9c4a50e2ba4a4c56a3efd06304129936"
       ],
       "layout": "IPY_MODEL_ac81f313a79949acb9f8ea6a1d615734"
      }
     },
     "243388a38b3142488cf37518cce58aeb": {
      "model_module": "@jupyter-widgets/controls",
      "model_module_version": "1.5.0",
      "model_name": "DescriptionStyleModel",
      "state": {
       "description_width": ""
      }
     },
     "2435d1ec31414fcc91f47a73d2e21062": {
      "model_module": "@jupyter-widgets/controls",
      "model_module_version": "1.5.0",
      "model_name": "DescriptionStyleModel",
      "state": {
       "description_width": ""
      }
     },
     "2475c6a9223a43b998eeaddcb8e1e72e": {
      "model_module": "@jupyter-widgets/controls",
      "model_module_version": "1.5.0",
      "model_name": "DescriptionStyleModel",
      "state": {
       "description_width": ""
      }
     },
     "24afd6671bb84a578c19320437a56479": {
      "model_module": "@jupyter-widgets/controls",
      "model_module_version": "1.5.0",
      "model_name": "TextModel",
      "state": {
       "description": "aks_name",
       "layout": "IPY_MODEL_6e17531fe953466a810887725c4b3f7a",
       "placeholder": "AKS Cluster Name",
       "style": "IPY_MODEL_847171b891a5449d82b3675735d09870",
       "value": "akscluster2"
      }
     },
     "24ce69cb1ed34360b58b374b596818d3": {
      "model_module": "@jupyter-widgets/base",
      "model_module_version": "1.2.0",
      "model_name": "LayoutModel",
      "state": {}
     },
     "24f1f371376b416283b01cca67c33a54": {
      "model_module": "@jupyter-widgets/controls",
      "model_module_version": "1.5.0",
      "model_name": "HBoxModel",
      "state": {
       "children": [
        "IPY_MODEL_99a19e22244e409f9675f53d75c91392"
       ],
       "layout": "IPY_MODEL_234e01edb73d470e821d59e48fe4900f"
      }
     },
     "250840a34b194131a3076017448dabfe": {
      "model_module": "@jupyter-widgets/controls",
      "model_module_version": "1.5.0",
      "model_name": "DescriptionStyleModel",
      "state": {
       "description_width": ""
      }
     },
     "255d62c026d24f4fb191d1ba9a7bfa44": {
      "model_module": "@jupyter-widgets/controls",
      "model_module_version": "1.5.0",
      "model_name": "DescriptionStyleModel",
      "state": {
       "description_width": ""
      }
     },
     "257bca76c7464e4b9a0213632516d66a": {
      "model_module": "@jupyter-widgets/controls",
      "model_module_version": "1.5.0",
      "model_name": "DescriptionStyleModel",
      "state": {
       "description_width": ""
      }
     },
     "259b6b86f8f64fcc821bd9bfb14815cb": {
      "model_module": "@jupyter-widgets/controls",
      "model_module_version": "1.5.0",
      "model_name": "DescriptionStyleModel",
      "state": {
       "description_width": ""
      }
     },
     "25ba64cade7a461bbbb277a5e2b4a4ad": {
      "model_module": "@jupyter-widgets/controls",
      "model_module_version": "1.5.0",
      "model_name": "DescriptionStyleModel",
      "state": {
       "description_width": ""
      }
     },
     "25e57cbc40834c75b1422e208ba1b27e": {
      "model_module": "@jupyter-widgets/controls",
      "model_module_version": "1.5.0",
      "model_name": "HBoxModel",
      "state": {
       "children": [
        "IPY_MODEL_188607b34b8840d7a8d742dcc7b35d67"
       ],
       "layout": "IPY_MODEL_28629a270832432d9f7daeaf334c8811"
      }
     },
     "25e6ece318634780946362f68ee15b1a": {
      "model_module": "@jupyter-widgets/base",
      "model_module_version": "1.2.0",
      "model_name": "LayoutModel",
      "state": {}
     },
     "25eadf287ca24a2c89ded4bc658b0fea": {
      "model_module": "@jupyter-widgets/controls",
      "model_module_version": "1.5.0",
      "model_name": "TextModel",
      "state": {
       "description": "aks_service_name",
       "layout": "IPY_MODEL_f8aee36c43674ce380dee8491590e343",
       "placeholder": "AKS Service Name",
       "style": "IPY_MODEL_69c9206ffd1c42038de0fd51dc7593d7",
       "value": "aksservice2"
      }
     },
     "264ff0aa343a487c9a6a2e8358af7b71": {
      "model_module": "@jupyter-widgets/controls",
      "model_module_version": "1.5.0",
      "model_name": "ButtonStyleModel",
      "state": {}
     },
     "2669a6d2ae5746c58b1b25b4b79b00c7": {
      "model_module": "@jupyter-widgets/controls",
      "model_module_version": "1.5.0",
      "model_name": "ButtonStyleModel",
      "state": {}
     },
     "266f3ef0972d4758bf814cac2859450a": {
      "model_module": "@jupyter-widgets/controls",
      "model_module_version": "1.5.0",
      "model_name": "ButtonStyleModel",
      "state": {}
     },
     "2680d93109b44e468a2df1fafe22cf85": {
      "model_module": "@jupyter-widgets/controls",
      "model_module_version": "1.5.0",
      "model_name": "TextModel",
      "state": {
       "description": "vm_size",
       "layout": "IPY_MODEL_d26ac1ecddc54c9998b56ff128d66faf",
       "placeholder": "skew of vms in Kubernetes cluster",
       "style": "IPY_MODEL_64f3734ed7e440b5966248ccae7bf598",
       "value": "Standard_D4_v2"
      }
     },
     "269e6e0ad28a4b258835da4fa698ba9c": {
      "model_module": "@jupyter-widgets/base",
      "model_module_version": "1.2.0",
      "model_name": "LayoutModel",
      "state": {}
     },
     "26a719da5c084b42a83d5d2307f4c7d0": {
      "model_module": "@jupyter-widgets/controls",
      "model_module_version": "1.5.0",
      "model_name": "ButtonStyleModel",
      "state": {}
     },
     "26b2d00b10f941b59ddf34533d4edbef": {
      "model_module": "@jupyter-widgets/base",
      "model_module_version": "1.2.0",
      "model_name": "LayoutModel",
      "state": {}
     },
     "26c6a3b00e4b4c1d8ee217631b943ccd": {
      "model_module": "@jupyter-widgets/base",
      "model_module_version": "1.2.0",
      "model_name": "LayoutModel",
      "state": {}
     },
     "26d3ff849d6a434fba7a86c491700aaf": {
      "model_module": "@jupyter-widgets/base",
      "model_module_version": "1.2.0",
      "model_name": "LayoutModel",
      "state": {}
     },
     "26f4b2169af64b6f9f7ead2dd64d9645": {
      "model_module": "@jupyter-widgets/controls",
      "model_module_version": "1.5.0",
      "model_name": "VBoxModel",
      "state": {
       "children": [
        "IPY_MODEL_d0979d7734584ffd8f6cd67a9cdd7cf6",
        "IPY_MODEL_701635a1e0c64115a4f769c7aba4ae7b",
        "IPY_MODEL_5cdd05fe92d74dbaa71d7078fb9ca5b3",
        "IPY_MODEL_ffd8811c69a44e8cb04fab1a6fbc3ea7",
        "IPY_MODEL_636964dbac8b481ab27e7bf64b000cd9",
        "IPY_MODEL_0e34b039a6e34331adc4d47678c11160",
        "IPY_MODEL_1fdab0b1b9b74a70bd5119a3be4c7743",
        "IPY_MODEL_21331658f8f24c9c8ffa166c6fc72b4c",
        "IPY_MODEL_c8213e53bfa443dcb7cc3b3f09545f5f",
        "IPY_MODEL_e5e736460fd946c5b62b19c158d53393",
        "IPY_MODEL_8f20c1073f53410b8cbefccd2e3f94b2",
        "IPY_MODEL_eb75934a2e5d42e7aa7c35fde649a2a8",
        "IPY_MODEL_0c10b3fdce184f749e0b840334af7b39",
        "IPY_MODEL_b9a28cee13224189b643d6389f5820df",
        "IPY_MODEL_a9eac5cb4dcd4123b015101e6709e660"
       ],
       "layout": "IPY_MODEL_b780029215e24636b859b8be9dca1a5b"
      }
     },
     "2732a0c0a2644b40bfbc4c9570aae972": {
      "model_module": "@jupyter-widgets/controls",
      "model_module_version": "1.5.0",
      "model_name": "ButtonStyleModel",
      "state": {}
     },
     "274d975d7def4a6190e5aa03bca5c911": {
      "model_module": "@jupyter-widgets/base",
      "model_module_version": "1.2.0",
      "model_name": "LayoutModel",
      "state": {}
     },
     "276500847e474fc3b34004b9fed026dc": {
      "model_module": "@jupyter-widgets/controls",
      "model_module_version": "1.5.0",
      "model_name": "TextModel",
      "state": {
       "description": "deep_aks_name",
       "layout": "IPY_MODEL_5814d49e34544580a97b3b5d02822d31",
       "placeholder": "AKS Cluster Name",
       "style": "IPY_MODEL_3000f55d99c9427ea7ad8985b440e6f3",
       "value": "deepakscluster"
      }
     },
     "276537797a6e476894d7eef6bd24bdbb": {
      "model_module": "@jupyter-widgets/base",
      "model_module_version": "1.2.0",
      "model_name": "LayoutModel",
      "state": {}
     },
     "2767028d73354e7b824b7dab9fad359f": {
      "model_module": "@jupyter-widgets/controls",
      "model_module_version": "1.5.0",
      "model_name": "DescriptionStyleModel",
      "state": {
       "description_width": ""
      }
     },
     "279a67b9567a403e99fa9fe39b66b2c4": {
      "model_module": "@jupyter-widgets/base",
      "model_module_version": "1.2.0",
      "model_name": "LayoutModel",
      "state": {}
     },
     "27b93f88f3834f8092e107951f38cf6a": {
      "model_module": "@jupyter-widgets/base",
      "model_module_version": "1.2.0",
      "model_name": "LayoutModel",
      "state": {}
     },
     "27d01b371fde4b3684aa9bb2dc52b381": {
      "model_module": "@jupyter-widgets/controls",
      "model_module_version": "1.5.0",
      "model_name": "DescriptionStyleModel",
      "state": {
       "description_width": ""
      }
     },
     "27d5900a43ab445dae3976863570539b": {
      "model_module": "@jupyter-widgets/base",
      "model_module_version": "1.2.0",
      "model_name": "LayoutModel",
      "state": {}
     },
     "284ac62e1387428b875c9c7639d03f6d": {
      "model_module": "@jupyter-widgets/controls",
      "model_module_version": "1.5.0",
      "model_name": "FileUploadModel",
      "state": {
       "accept": ".yml",
       "description_tooltip": null,
       "layout": "IPY_MODEL_98b21f357d4442f79609a7ce48e0bbf8",
       "style": "IPY_MODEL_78041b1bbaa24834876eb73388ec7252"
      }
     },
     "28629a270832432d9f7daeaf334c8811": {
      "model_module": "@jupyter-widgets/base",
      "model_module_version": "1.2.0",
      "model_name": "LayoutModel",
      "state": {}
     },
     "2875e6c2afcc447f8c99de31f9845418": {
      "model_module": "@jupyter-widgets/controls",
      "model_module_version": "1.5.0",
      "model_name": "TextModel",
      "state": {
       "description": "deep_aks_service_name",
       "layout": "IPY_MODEL_6d5f67f7e00241c8ab1f61f90316d788",
       "placeholder": "AKS Service Name",
       "style": "IPY_MODEL_048c8e29e6b44f089e3d5535fdcbcb3f",
       "value": "deepaksservice"
      }
     },
     "28762598aae34e23b0d16216a9148025": {
      "model_module": "@jupyter-widgets/controls",
      "model_module_version": "1.5.0",
      "model_name": "TextModel",
      "state": {
       "description": "workspace_region",
       "layout": "IPY_MODEL_4b77a13c8ac5413e9efd48d8b15d470e",
       "placeholder": "Azure ML Workspace Region",
       "style": "IPY_MODEL_d2676a0e25f543559990e2f8e0506297",
       "value": "eastus"
      }
     },
     "2898bf48b4f543248fefa4eb6ac58379": {
      "model_module": "@jupyter-widgets/controls",
      "model_module_version": "1.5.0",
      "model_name": "DescriptionStyleModel",
      "state": {
       "description_width": ""
      }
     },
     "28a81a114b8643edaabe86f5f788524c": {
      "model_module": "@jupyter-widgets/base",
      "model_module_version": "1.2.0",
      "model_name": "LayoutModel",
      "state": {}
     },
     "2941bfe2cf8b422b855d151bc2e68f1d": {
      "model_module": "@jupyter-widgets/base",
      "model_module_version": "1.2.0",
      "model_name": "LayoutModel",
      "state": {}
     },
     "294681d239c2486998c6964a3db9b3ff": {
      "model_module": "@jupyter-widgets/base",
      "model_module_version": "1.2.0",
      "model_name": "LayoutModel",
      "state": {}
     },
     "296691fd2c5841bba5a08ec0029a250a": {
      "model_module": "@jupyter-widgets/controls",
      "model_module_version": "1.5.0",
      "model_name": "TextModel",
      "state": {
       "description": "deep_image_name",
       "layout": "IPY_MODEL_a4cb23c6ab004f518f65a66064da7a7f",
       "placeholder": "Docker Container Image Name",
       "style": "IPY_MODEL_e7f5b46560e1476fb19f7ff11ca69832",
       "value": "mydeepimage"
      }
     },
     "29a0fd2de10c4b379d30d07513808c7d": {
      "model_module": "@jupyter-widgets/controls",
      "model_module_version": "1.5.0",
      "model_name": "ButtonStyleModel",
      "state": {}
     },
     "29b3c70e4153403da9157dde0b0fe83b": {
      "model_module": "@jupyter-widgets/base",
      "model_module_version": "1.2.0",
      "model_name": "LayoutModel",
      "state": {}
     },
     "29c7be34857e494090b2fea9b8c4799f": {
      "model_module": "@jupyter-widgets/controls",
      "model_module_version": "1.5.0",
      "model_name": "HBoxModel",
      "state": {
       "children": [
        "IPY_MODEL_4937c1cac3e1420794acc173ca600976"
       ],
       "layout": "IPY_MODEL_eb21310d23b14aefa5bb1e17db2a0270"
      }
     },
     "29c9db3b176f4dff82ee837a420289a3": {
      "model_module": "@jupyter-widgets/base",
      "model_module_version": "1.2.0",
      "model_name": "LayoutModel",
      "state": {}
     },
     "2a1f503a664d4d4eb7dae3a83f060a4f": {
      "model_module": "@jupyter-widgets/controls",
      "model_module_version": "1.5.0",
      "model_name": "DropdownModel",
      "state": {
       "_options_labels": [
        "eastus",
        "eastus2",
        "canadacentral",
        "centralus",
        "northcentralus",
        "southcentralus",
        "westcentralus",
        "westus",
        "westus2"
       ],
       "description": "workspace_region",
       "index": 0,
       "layout": "IPY_MODEL_c2318eb560ca4f588976a8d5a23a5ea5",
       "style": "IPY_MODEL_d4d7417baa9b4a42af64aa345d344ac9"
      }
     },
     "2a5615a03b38427d9d5e68247dd8d869": {
      "model_module": "@jupyter-widgets/controls",
      "model_module_version": "1.5.0",
      "model_name": "HBoxModel",
      "state": {
       "children": [
        "IPY_MODEL_d859b928b93e4f51a2736165b5a595aa",
        "IPY_MODEL_cccce5dcb9e04492b1927b9a0f87bea7"
       ],
       "layout": "IPY_MODEL_50c327989c4345e6b73afbfe3654e037"
      }
     },
     "2ad0c662891d435796362b288446d22d": {
      "model_module": "@jupyter-widgets/controls",
      "model_module_version": "1.5.0",
      "model_name": "TextModel",
      "state": {
       "description": "script",
       "layout": "IPY_MODEL_979cace35c81490fa53bf94911ab470a",
       "placeholder": "cpu cores for web service",
       "style": "IPY_MODEL_00e9ee5a64b340b7859edcaffa52713b",
       "value": "create_model.py"
      }
     },
     "2ad91eb9e1734f798175a802cde5797d": {
      "model_module": "@jupyter-widgets/controls",
      "model_module_version": "1.5.0",
      "model_name": "TextModel",
      "state": {
       "description": "subscription_id",
       "layout": "IPY_MODEL_46a7ff2dd0ed4157936d5ad029964dc8",
       "placeholder": "Azure Subscription Id",
       "style": "IPY_MODEL_cd867d2acef64e03bc7a9322be672744",
       "value": "0ca618d2-22a8-413a-96d0-0f1b531129c3"
      }
     },
     "2ae5c698b9a841cd9c5ce5f3203afcd7": {
      "model_module": "@jupyter-widgets/controls",
      "model_module_version": "1.5.0",
      "model_name": "TextModel",
      "state": {
       "description": "aks_name",
       "layout": "IPY_MODEL_1cfcd245447d4cee84d7ef5cca510ff4",
       "placeholder": "AKS Cluster Name",
       "style": "IPY_MODEL_c3e64fc6e53b4d6e94c5272a8365f419",
       "value": "dciboaks"
      }
     },
     "2b0be599fbfc4486a63d76f87bf7bc11": {
      "model_module": "@jupyter-widgets/controls",
      "model_module_version": "1.5.0",
      "model_name": "TextModel",
      "state": {
       "description": "resource_group",
       "layout": "IPY_MODEL_1e2d8322e7374108b2f2ef6bce6cc30c",
       "placeholder": "Azure Resource Group Name",
       "style": "IPY_MODEL_b630f14374db475cba04a30a72cf77df",
       "value": "azmlrts-eastus-stable"
      }
     },
     "2b2ecae962054bc3a44391e943001457": {
      "model_module": "@jupyter-widgets/controls",
      "model_module_version": "1.5.0",
      "model_name": "DescriptionStyleModel",
      "state": {
       "description_width": ""
      }
     },
     "2b4d995c5724449ca2f10fae1717b54e": {
      "model_module": "@jupyter-widgets/controls",
      "model_module_version": "1.5.0",
      "model_name": "DescriptionStyleModel",
      "state": {
       "description_width": ""
      }
     },
     "2b57c534c0d64d19be1bff5400687493": {
      "model_module": "@jupyter-widgets/controls",
      "model_module_version": "1.5.0",
      "model_name": "HBoxModel",
      "state": {
       "children": [
        "IPY_MODEL_ca29dcf5b5384fe286456edc6168a6e3",
        "IPY_MODEL_36a459a6f4a1456bbe2af1fcf48e758b"
       ],
       "layout": "IPY_MODEL_a52226d26c65493da4b35011cd69545e"
      }
     },
     "2bc8844894a34a969dcf8a8fbc7583d5": {
      "model_module": "@jupyter-widgets/controls",
      "model_module_version": "1.5.0",
      "model_name": "HBoxModel",
      "state": {
       "children": [
        "IPY_MODEL_fe2800f9f04842189377b7809a155de9",
        "IPY_MODEL_5301327f58974584be3e0240856b3b03"
       ],
       "layout": "IPY_MODEL_2074c71845494366ad51705e6995b3f8"
      }
     },
     "2bdec11df3324f78b0a2187e1b31faee": {
      "model_module": "@jupyter-widgets/controls",
      "model_module_version": "1.5.0",
      "model_name": "FileUploadModel",
      "state": {
       "accept": ".yml",
       "description_tooltip": null,
       "layout": "IPY_MODEL_f8e80daaa42e4c48aa95ac5f9de1e5c6",
       "style": "IPY_MODEL_04f76f1bbf3448fc84be1fac21f129db"
      }
     },
     "2bf54f7a8a2b43e7967cd9c0af7ac745": {
      "model_module": "@jupyter-widgets/controls",
      "model_module_version": "1.5.0",
      "model_name": "TextModel",
      "state": {
       "description": "deep_aks_location",
       "layout": "IPY_MODEL_5efa324337ef4dc9b2f96d1a2d6f0d79",
       "placeholder": "AKS Azure Region",
       "style": "IPY_MODEL_3242bad2ff4f4c728f1f4cd1ebee9801",
       "value": "eastus"
      }
     },
     "2c1ef88b683147e782b42efd7b43d4cc": {
      "model_module": "@jupyter-widgets/controls",
      "model_module_version": "1.5.0",
      "model_name": "VBoxModel",
      "state": {
       "children": [
        "IPY_MODEL_233ec82d94ba4b3b8328c64abc8889c5",
        "IPY_MODEL_0c1dc0a6b9ca4dc3b25bd19de966822e",
        "IPY_MODEL_e201b350d2ae43379eb064d71dac7745",
        "IPY_MODEL_10c0a857daa741c1bb40e4904edf0622",
        "IPY_MODEL_55ecab8589344308bee4b362f79ab7a6",
        "IPY_MODEL_0229c158d5a247f8b00f52618e786f2a",
        "IPY_MODEL_2d3a7e8ce79d4e5e8fb23df6ce831173",
        "IPY_MODEL_d43d0070183f449ebac857930f46278c",
        "IPY_MODEL_df68af66a7e54fd58e495a77d8929661",
        "IPY_MODEL_b006d57c332941bca3b8db21dce022a9",
        "IPY_MODEL_fdb701ab074842b68884e8305dc9ccfe",
        "IPY_MODEL_7a4ce5f07e424ab0b9d51c03f72e3b1f",
        "IPY_MODEL_b36e7275140f41539e71450866e7189c",
        "IPY_MODEL_6fa0d0da76e14045b8a0a087fe3bf222",
        "IPY_MODEL_18cf09dcd2a949bfbb06601e4d036368"
       ],
       "layout": "IPY_MODEL_59f7a26793514d0fab7e58c5a5677037"
      }
     },
     "2c4320ac5cf34fd2b1fb8e02da3d83fb": {
      "model_module": "@jupyter-widgets/base",
      "model_module_version": "1.2.0",
      "model_name": "LayoutModel",
      "state": {}
     },
     "2c5d0b831ea44dd094c82c837a37c6a7": {
      "model_module": "@jupyter-widgets/base",
      "model_module_version": "1.2.0",
      "model_name": "LayoutModel",
      "state": {}
     },
     "2c61deee6d404cf588ea3285db7e52f9": {
      "model_module": "@jupyter-widgets/controls",
      "model_module_version": "1.5.0",
      "model_name": "DescriptionStyleModel",
      "state": {
       "description_width": ""
      }
     },
     "2c67a3ebc24349cca4f46f8d69ca1e20": {
      "model_module": "@jupyter-widgets/controls",
      "model_module_version": "1.5.0",
      "model_name": "ButtonStyleModel",
      "state": {}
     },
     "2c69e41e3034414c9617d3fde7be04cf": {
      "model_module": "@jupyter-widgets/base",
      "model_module_version": "1.2.0",
      "model_name": "LayoutModel",
      "state": {}
     },
     "2c6f9524e7df46288c210bbef3029a63": {
      "model_module": "@jupyter-widgets/base",
      "model_module_version": "1.2.0",
      "model_name": "LayoutModel",
      "state": {}
     },
     "2c71fe75527246a9873308eb612af307": {
      "model_module": "@jupyter-widgets/controls",
      "model_module_version": "1.5.0",
      "model_name": "ButtonModel",
      "state": {
       "description": "Use existing",
       "layout": "IPY_MODEL_03072c6e0b92413fbf85e1b0bd503ad5",
       "style": "IPY_MODEL_7b1fb4624a7d4c2f9e3164bc571a0d4d",
       "tooltip": "Use an existing resource."
      }
     },
     "2cf205c3b4f8451d8fb7dd8a6d9b8440": {
      "model_module": "@jupyter-widgets/base",
      "model_module_version": "1.2.0",
      "model_name": "LayoutModel",
      "state": {}
     },
     "2d3a7e8ce79d4e5e8fb23df6ce831173": {
      "model_module": "@jupyter-widgets/controls",
      "model_module_version": "1.5.0",
      "model_name": "HBoxModel",
      "state": {
       "children": [
        "IPY_MODEL_a5f994bf17944e7abd83d2d2a834a86e",
        "IPY_MODEL_b15d47dda6744906badfa501604a659b"
       ],
       "layout": "IPY_MODEL_27b93f88f3834f8092e107951f38cf6a"
      }
     },
     "2d53cd72adb2495fb0130221751698bd": {
      "model_module": "@jupyter-widgets/controls",
      "model_module_version": "1.5.0",
      "model_name": "ButtonStyleModel",
      "state": {}
     },
     "2d6ffc3420174ed9bc4f218632c5ef92": {
      "model_module": "@jupyter-widgets/controls",
      "model_module_version": "1.5.0",
      "model_name": "HBoxModel",
      "state": {
       "children": [
        "IPY_MODEL_4e37701928414e83a10610687950d9dd",
        "IPY_MODEL_d3e4a87624c94165a213723f436df61e"
       ],
       "layout": "IPY_MODEL_66c69e45618c42cfa05a0831c21bbf27"
      }
     },
     "2da1046d3abd435796c3acbef963b26e": {
      "model_module": "@jupyter-widgets/base",
      "model_module_version": "1.2.0",
      "model_name": "LayoutModel",
      "state": {}
     },
     "2dbd0eb7e66f498a969a5da257368ffc": {
      "model_module": "@jupyter-widgets/controls",
      "model_module_version": "1.5.0",
      "model_name": "HBoxModel",
      "state": {
       "children": [
        "IPY_MODEL_84a1d5819b9e427b82f7b1d537e1a045"
       ],
       "layout": "IPY_MODEL_d155983fe65f4607b80a45e9db4596c9"
      }
     },
     "2dd0ab277adc40f59f1379bab76d34b2": {
      "model_module": "@jupyter-widgets/controls",
      "model_module_version": "1.5.0",
      "model_name": "DescriptionStyleModel",
      "state": {
       "description_width": ""
      }
     },
     "2e4ac28ac94a4a319a6d70f8db5a95aa": {
      "model_module": "@jupyter-widgets/base",
      "model_module_version": "1.2.0",
      "model_name": "LayoutModel",
      "state": {}
     },
     "2e4dfdd136254aca919ab89292a5f4ff": {
      "model_module": "@jupyter-widgets/controls",
      "model_module_version": "1.5.0",
      "model_name": "ButtonStyleModel",
      "state": {}
     },
     "2e7c260921b94c0180b5e56a0f82418d": {
      "model_module": "@jupyter-widgets/base",
      "model_module_version": "1.2.0",
      "model_name": "LayoutModel",
      "state": {}
     },
     "2ea497af0f3a4ef8bbbfa451fa255223": {
      "model_module": "@jupyter-widgets/base",
      "model_module_version": "1.2.0",
      "model_name": "LayoutModel",
      "state": {}
     },
     "2eaf61b837ab4113bad8f3fe821128aa": {
      "model_module": "@jupyter-widgets/base",
      "model_module_version": "1.2.0",
      "model_name": "LayoutModel",
      "state": {}
     },
     "2ee8bd09fed949e19f13ce9f533d0247": {
      "model_module": "@jupyter-widgets/controls",
      "model_module_version": "1.5.0",
      "model_name": "TextModel",
      "state": {
       "description": "subscription_id",
       "layout": "IPY_MODEL_68ba0ec16e8b47bba297e2fd19e96001",
       "placeholder": "Azure Subscription Id",
       "style": "IPY_MODEL_489fbae67773429196e0ea4cd53e7541",
       "value": "0ca618d2-22a8-413a-96d0-0f1b531129c3"
      }
     },
     "2f3194623e90493cb3a998712525acb4": {
      "model_module": "@jupyter-widgets/controls",
      "model_module_version": "1.5.0",
      "model_name": "ButtonModel",
      "state": {
       "description": "Save Upload",
       "icon": "check",
       "layout": "IPY_MODEL_e436845bf4ef4aaf8df87c3fc3691ee8",
       "style": "IPY_MODEL_0b6a289cc7764aaab6e5f1e429128105",
       "tooltip": "Click to save settings to file."
      }
     },
     "2f355624bf4b423089f00375e46baf68": {
      "model_module": "@jupyter-widgets/controls",
      "model_module_version": "1.5.0",
      "model_name": "DropdownModel",
      "state": {
       "_options_labels": [
        "eastus",
        "eastus2",
        "canadacentral",
        "centralus",
        "northcentralus",
        "southcentralus",
        "westcentralus",
        "westus",
        "westus2"
       ],
       "description": "workspace_region:",
       "index": 0,
       "layout": "IPY_MODEL_ea7b6834fc974fad93c10cadb9ce11fc",
       "style": "IPY_MODEL_c70deb31f80f4d33ab463edddd3ccba6"
      }
     },
     "2f4407da2964458f8bbc3b1de7a36a3f": {
      "model_module": "@jupyter-widgets/controls",
      "model_module_version": "1.5.0",
      "model_name": "TextModel",
      "state": {
       "description": "deep_image_name",
       "layout": "IPY_MODEL_da3bf15090c547d2badbad7fd287d090",
       "placeholder": "Docker Container Image Name",
       "style": "IPY_MODEL_3389185b63df4f9fbcb1a17b4ad20a53",
       "value": "mydeepimage"
      }
     },
     "2f4d79a38a9f4aca88faad8f369be1ad": {
      "model_module": "@jupyter-widgets/controls",
      "model_module_version": "1.5.0",
      "model_name": "FileUploadModel",
      "state": {
       "accept": ".yml",
       "description_tooltip": null,
       "layout": "IPY_MODEL_15f7623305f14246bbc17c9a74504af9",
       "style": "IPY_MODEL_168d7d683b0945a7b5585545716bf940"
      }
     },
     "2f9778718b664f91b74ec43795501b81": {
      "model_module": "@jupyter-widgets/controls",
      "model_module_version": "1.5.0",
      "model_name": "ButtonModel",
      "state": {
       "description": "Save Upload",
       "icon": "check",
       "layout": "IPY_MODEL_66ba17508b52482f9ced0c2c8cfec9ed",
       "style": "IPY_MODEL_8c87bb1cbdae476286b08485a1d076b4",
       "tooltip": "Click to save settings to file."
      }
     },
     "2fa4fdc200bd45c9868080918386c86c": {
      "model_module": "@jupyter-widgets/base",
      "model_module_version": "1.2.0",
      "model_name": "LayoutModel",
      "state": {}
     },
     "2fb4c6456f484724aededb9a0754cea8": {
      "model_module": "@jupyter-widgets/controls",
      "model_module_version": "1.5.0",
      "model_name": "DescriptionStyleModel",
      "state": {
       "description_width": ""
      }
     },
     "2fb7b5dcbc0649eb8f998e8555101434": {
      "model_module": "@jupyter-widgets/base",
      "model_module_version": "1.2.0",
      "model_name": "LayoutModel",
      "state": {}
     },
     "3000f55d99c9427ea7ad8985b440e6f3": {
      "model_module": "@jupyter-widgets/controls",
      "model_module_version": "1.5.0",
      "model_name": "DescriptionStyleModel",
      "state": {
       "description_width": ""
      }
     },
     "3008f3c85e9a47bb8e4724279b5ccc71": {
      "model_module": "@jupyter-widgets/controls",
      "model_module_version": "1.5.0",
      "model_name": "DescriptionStyleModel",
      "state": {
       "description_width": ""
      }
     },
     "302fe47b3a5f4d50929ab548715ec075": {
      "model_module": "@jupyter-widgets/base",
      "model_module_version": "1.2.0",
      "model_name": "LayoutModel",
      "state": {}
     },
     "30309b8bcaed47638f5e64b9b03cbe92": {
      "model_module": "@jupyter-widgets/base",
      "model_module_version": "1.2.0",
      "model_name": "LayoutModel",
      "state": {}
     },
     "30394288244a4e8e8bd99206e700cffa": {
      "model_module": "@jupyter-widgets/controls",
      "model_module_version": "1.5.0",
      "model_name": "DescriptionStyleModel",
      "state": {
       "description_width": ""
      }
     },
     "306f7ae484984a7187fdf54cf6414b42": {
      "model_module": "@jupyter-widgets/controls",
      "model_module_version": "1.5.0",
      "model_name": "TextModel",
      "state": {
       "description": "resource_group",
       "layout": "IPY_MODEL_7471295a49f44c50a7a03665a1d15bd7",
       "placeholder": "Azure Resource Group Name",
       "style": "IPY_MODEL_da04125e1b8c48599fb298591129bfd9",
       "value": "azmlrts-eastus-stable"
      }
     },
     "307bd592994d4f8c8b8bf4364b06af73": {
      "model_module": "@jupyter-widgets/controls",
      "model_module_version": "1.5.0",
      "model_name": "ButtonModel",
      "state": {
       "description": "Use existing",
       "layout": "IPY_MODEL_5333128ca0974668983fc5ebc9eb795b",
       "style": "IPY_MODEL_0d0a94aa5f934f75b784ff1500bf9ba0",
       "tooltip": "Use an existing resource."
      }
     },
     "3089a33f45b8443ba18fad47cdcef56a": {
      "model_module": "@jupyter-widgets/controls",
      "model_module_version": "1.5.0",
      "model_name": "TextModel",
      "state": {
       "description": "workspace_region",
       "layout": "IPY_MODEL_b2a4f0d9b06348a29b8129b3f24cfffd",
       "placeholder": "Azure ML Workspace Region",
       "style": "IPY_MODEL_9ef2e45080e94424a7af5ddfa223b06e",
       "value": "eastus"
      }
     },
     "309c981bceab43b89f689b4837fd40e8": {
      "model_module": "@jupyter-widgets/controls",
      "model_module_version": "1.5.0",
      "model_name": "ButtonModel",
      "state": {
       "description": "Overwrite Settings",
       "icon": "check",
       "layout": "IPY_MODEL_78d46cedfb474a13b3db44454542f8a3",
       "style": "IPY_MODEL_32bc6601ff1944c28f7a9bb112ec89e8",
       "tooltip": "Click to save settings to file."
      }
     },
     "30b173431293450c9be0830870e833ab": {
      "model_module": "@jupyter-widgets/controls",
      "model_module_version": "1.5.0",
      "model_name": "HBoxModel",
      "state": {
       "children": [
        "IPY_MODEL_fb263624878f4e4089f4f1d7dfe0c65c",
        "IPY_MODEL_0ac352a9c4dd42d0bcddcfa7d8170c00"
       ],
       "layout": "IPY_MODEL_5223066a53964995a147ad266feded83"
      }
     },
     "30bc42aa19d74b84a2529377621f147d": {
      "model_module": "@jupyter-widgets/controls",
      "model_module_version": "1.5.0",
      "model_name": "DescriptionStyleModel",
      "state": {
       "description_width": ""
      }
     },
     "30efcf4293c74f328b040962f66ed316": {
      "model_module": "@jupyter-widgets/controls",
      "model_module_version": "1.5.0",
      "model_name": "DescriptionStyleModel",
      "state": {
       "description_width": ""
      }
     },
     "30f38c6495874c5cbffa9a84d505b72e": {
      "model_module": "@jupyter-widgets/controls",
      "model_module_version": "1.5.0",
      "model_name": "ButtonModel",
      "state": {
       "description": "Save Upload",
       "icon": "check",
       "layout": "IPY_MODEL_49906dcebd6647659c6d69acf021efb0",
       "style": "IPY_MODEL_bbe37537c0ba4a689724d5dc395ce9e4",
       "tooltip": "Click to save settings to file."
      }
     },
     "31181c3b93084533bacb1f215fd9c6eb": {
      "model_module": "@jupyter-widgets/controls",
      "model_module_version": "1.5.0",
      "model_name": "ButtonModel",
      "state": {
       "description": "Use existing",
       "layout": "IPY_MODEL_1e427439a7d04d1dbd49fcb49e20810b",
       "style": "IPY_MODEL_7d2d03b2ec2548cc8dab5d515550b382",
       "tooltip": "Use an existing resource."
      }
     },
     "312348777611420cb808c304209f9f8b": {
      "model_module": "@jupyter-widgets/controls",
      "model_module_version": "1.5.0",
      "model_name": "TextModel",
      "state": {
       "description": "RG ID:",
       "layout": "IPY_MODEL_ac63e0ec80a34766a69941443ce91da4",
       "placeholder": "azure-resource-group-name",
       "style": "IPY_MODEL_4fcebd030db44c47a288e66d9e4a29fa",
       "value": "<>"
      }
     },
     "3157e9f0e8ab437f8ff45629cef765f8": {
      "model_module": "@jupyter-widgets/base",
      "model_module_version": "1.2.0",
      "model_name": "LayoutModel",
      "state": {}
     },
     "31642113300a4134bbcc53a13fdde199": {
      "model_module": "@jupyter-widgets/base",
      "model_module_version": "1.2.0",
      "model_name": "LayoutModel",
      "state": {}
     },
     "317818380e764f39aec363d93db7b5c4": {
      "model_module": "@jupyter-widgets/controls",
      "model_module_version": "1.5.0",
      "model_name": "ButtonStyleModel",
      "state": {}
     },
     "318529f535ca459fa82600a827531b4c": {
      "model_module": "@jupyter-widgets/base",
      "model_module_version": "1.2.0",
      "model_name": "LayoutModel",
      "state": {}
     },
     "31f9c1e53ad243f5989789ff1b4a1c11": {
      "model_module": "@jupyter-widgets/controls",
      "model_module_version": "1.5.0",
      "model_name": "DescriptionStyleModel",
      "state": {
       "description_width": ""
      }
     },
     "3234d76b79d54c87986d6598c1aaef65": {
      "model_module": "@jupyter-widgets/controls",
      "model_module_version": "1.5.0",
      "model_name": "ButtonStyleModel",
      "state": {}
     },
     "3242bad2ff4f4c728f1f4cd1ebee9801": {
      "model_module": "@jupyter-widgets/controls",
      "model_module_version": "1.5.0",
      "model_name": "DescriptionStyleModel",
      "state": {
       "description_width": ""
      }
     },
     "3260533683d248a68bb6004562a5576a": {
      "model_module": "@jupyter-widgets/base",
      "model_module_version": "1.2.0",
      "model_name": "LayoutModel",
      "state": {}
     },
     "3268cd8d4b5a4f9090d46fa62cbf8a99": {
      "model_module": "@jupyter-widgets/controls",
      "model_module_version": "1.5.0",
      "model_name": "DescriptionStyleModel",
      "state": {
       "description_width": ""
      }
     },
     "3273d0ec69884341a7eac774cbd1846d": {
      "model_module": "@jupyter-widgets/base",
      "model_module_version": "1.2.0",
      "model_name": "LayoutModel",
      "state": {}
     },
     "329efb59a6014a248ed0a63fa078d3ca": {
      "model_module": "@jupyter-widgets/base",
      "model_module_version": "1.2.0",
      "model_name": "LayoutModel",
      "state": {}
     },
     "32a167cadc6e48a491444c2d8ee3209a": {
      "model_module": "@jupyter-widgets/controls",
      "model_module_version": "1.5.0",
      "model_name": "FileUploadModel",
      "state": {
       "accept": ".yml",
       "description_tooltip": null,
       "layout": "IPY_MODEL_eb6054b3d9d64cf1aaf1db63abb45802",
       "style": "IPY_MODEL_73c73f32b2d34092b740331afa318027"
      }
     },
     "32b47e5ffb0d4ac28e3d56a8150d420a": {
      "model_module": "@jupyter-widgets/base",
      "model_module_version": "1.2.0",
      "model_name": "LayoutModel",
      "state": {}
     },
     "32bc6601ff1944c28f7a9bb112ec89e8": {
      "model_module": "@jupyter-widgets/controls",
      "model_module_version": "1.5.0",
      "model_name": "ButtonStyleModel",
      "state": {}
     },
     "32c015c9f99e4a2e9defed7d7326a12c": {
      "model_module": "@jupyter-widgets/controls",
      "model_module_version": "1.5.0",
      "model_name": "DropdownModel",
      "state": {
       "_options_labels": [
        "eastus",
        "eastus2",
        "canadacentral",
        "centralus",
        "northcentralus",
        "southcentralus",
        "westcentralus",
        "westus",
        "westus2"
       ],
       "description": "aks_location",
       "index": 0,
       "layout": "IPY_MODEL_2da1046d3abd435796c3acbef963b26e",
       "style": "IPY_MODEL_1224231b9ee54d358abdb9944232229a"
      }
     },
     "32c0cd154ddd4edda0505aa473d956f9": {
      "model_module": "@jupyter-widgets/controls",
      "model_module_version": "1.5.0",
      "model_name": "DropdownModel",
      "state": {
       "_options_labels": [
        "AG-CE-AI-GPU-EXPERIMENTATION",
        "AG-AzureCAT-AITao-Test-COGSNonProd-IO1685734",
        "AG-CE-AI-DEVOPS",
        "AG-AzureCAT-AIDemos-Test-COGSNonProd-IO1685734",
        "AGCE-AI-DELETE-Sharat",
        "AG-AzureCAT-AILab-Test-COGSNonProd-IO1685734",
        "Visual Studio Ultimate with MSDN",
        "AG-AzureCAT-AIDataPM-Test-COGSNonProd-IO1685743",
        "AG-AzureCAT-AIDanielle-Test-COGSNonProd-IO1685734",
        "AG-CE-AI-MN-CICOMMERCIAL",
        "AG-CE-AI-MN-INCUBATION",
        "AG-CE-AI-MN-OSS",
        "AG-CE-AI-MN-E2E",
        "AG-CE-AI-MN-HU",
        "AG-CE-AI-MN-SEISMIC",
        "AG-CE-AI-STORAGE",
        "AG-CE-AI-MN-RETAIL",
        "AG-CE-AI-FEEDBACK",
        "AG-CE-AI-MN-LAB",
        "Azure SDK Engineering System",
        "Epic-Edge-ES-ReproVMLab",
        "ES-Stream-Operations",
        "Core-ES-BranchManagement",
        "WDG-ES-RnD-GITTrain",
        "Cosmos_WDG_Core_BnB_100292",
        "Azure Stack Diagnostics CI and Production VaaS",
        "Edge DevTools Client",
        "Azure Stack CSS Labs",
        "AppInsight Test",
        "ddverify",
        "VSEng MadDog-RPS Telemetry",
        "CAT_Eng",
        "RPS-cloud-common-2",
        "Core-ES-WorkManagement",
        "Azure_Maps_MDP_Engineering",
        "Test/Demo - VipSwapper Operations",
        "COSINE-ES-Signing Azure Service",
        "AI Infra Build",
        "AG-CE-E2E-AI",
        "DEMO - how RepDemo are you",
        "ADS Demo Subscription",
        "AzureCAT E2E Blue Steel",
        "Azure Search DEV Service Layer (kmort,miwelsh,bohuan)"
       ],
       "description": "subscription_id",
       "index": 2,
       "layout": "IPY_MODEL_862310b4ac2446f682f52d84824bd4fa",
       "style": "IPY_MODEL_0c0cff89b8654492b24666af5b08400f"
      }
     },
     "32dd2c23f59346bca1f2e8b686ace5f1": {
      "model_module": "@jupyter-widgets/base",
      "model_module_version": "1.2.0",
      "model_name": "LayoutModel",
      "state": {}
     },
     "32ec8c989601422e9af18cb3b4b872ff": {
      "model_module": "@jupyter-widgets/controls",
      "model_module_version": "1.5.0",
      "model_name": "FileUploadModel",
      "state": {
       "accept": ".yml",
       "description_tooltip": null,
       "layout": "IPY_MODEL_18b2e7c0b6ef478aa29b4b100ba6f025",
       "style": "IPY_MODEL_a1c5dad371ae46f4ae880e182e310bcd"
      }
     },
     "32ee36239715407299581db511d8d932": {
      "model_module": "@jupyter-widgets/base",
      "model_module_version": "1.2.0",
      "model_name": "LayoutModel",
      "state": {}
     },
     "3320ccad6e4941c4a1c844aa0adb8042": {
      "model_module": "@jupyter-widgets/base",
      "model_module_version": "1.2.0",
      "model_name": "LayoutModel",
      "state": {}
     },
     "337aa750762b4aa8969b395ba584ded1": {
      "model_module": "@jupyter-widgets/controls",
      "model_module_version": "1.5.0",
      "model_name": "HBoxModel",
      "state": {
       "children": [
        "IPY_MODEL_dc8051f7770246f8aa0fffe9ed6a98d0",
        "IPY_MODEL_0298ce19c7be41aa9f081face6cba50e"
       ],
       "layout": "IPY_MODEL_57ef2408aefa40d29134165c2f0c3470"
      }
     },
     "3389185b63df4f9fbcb1a17b4ad20a53": {
      "model_module": "@jupyter-widgets/controls",
      "model_module_version": "1.5.0",
      "model_name": "DescriptionStyleModel",
      "state": {
       "description_width": ""
      }
     },
     "3418f829a1384de089c9c32a8027d3b9": {
      "model_module": "@jupyter-widgets/base",
      "model_module_version": "1.2.0",
      "model_name": "LayoutModel",
      "state": {}
     },
     "3451d60006e544bd9502436e6f9a6369": {
      "model_module": "@jupyter-widgets/controls",
      "model_module_version": "1.5.0",
      "model_name": "ButtonModel",
      "state": {
       "description": "Use existing",
       "layout": "IPY_MODEL_c4ae9b794dbc4279b66a1a481d35ca6f",
       "style": "IPY_MODEL_8439302e7ae24240bb206090cd65f9eb",
       "tooltip": "Use an existing resource."
      }
     },
     "347f9dcbbb144f1f94de61f159cee683": {
      "model_module": "@jupyter-widgets/base",
      "model_module_version": "1.2.0",
      "model_name": "LayoutModel",
      "state": {}
     },
     "35060dd921e740cab8fded49edcc7e13": {
      "model_module": "@jupyter-widgets/controls",
      "model_module_version": "1.5.0",
      "model_name": "HBoxModel",
      "state": {
       "children": [
        "IPY_MODEL_3d63364804bb437f80d28f616557d340"
       ],
       "layout": "IPY_MODEL_1a463c7e41dc4247ab7d60e83445918b"
      }
     },
     "35091502968246afbef6f65245a21d83": {
      "model_module": "@jupyter-widgets/controls",
      "model_module_version": "1.5.0",
      "model_name": "DescriptionStyleModel",
      "state": {
       "description_width": ""
      }
     },
     "35211338d3624afa8df08b08fec6aec7": {
      "model_module": "@jupyter-widgets/base",
      "model_module_version": "1.2.0",
      "model_name": "LayoutModel",
      "state": {}
     },
     "35586f393cae4ecd9902539fd75e6345": {
      "model_module": "@jupyter-widgets/controls",
      "model_module_version": "1.5.0",
      "model_name": "VBoxModel",
      "state": {
       "children": [
        "IPY_MODEL_e45d6c1c167343a1917386aba768ad47",
        "IPY_MODEL_6f40d70b43cb42d7a7c50c7421f8b24d",
        "IPY_MODEL_32c0cd154ddd4edda0505aa473d956f9",
        "IPY_MODEL_832bd525673142989f76f6843286fb32",
        "IPY_MODEL_25e57cbc40834c75b1422e208ba1b27e",
        "IPY_MODEL_124784dc80c148cbba238bce6e075b4b",
        "IPY_MODEL_2138be4298d34389b69b3c60ffae369e",
        "IPY_MODEL_769c1cba4fde46eca94eefac12537551",
        "IPY_MODEL_35da0632552b4ec188757b8924e88177",
        "IPY_MODEL_00d3d0ad01294d9a8c72f492b8ebe702",
        "IPY_MODEL_a547dd8af2e244bca4b9e8f0792f70e1",
        "IPY_MODEL_f21176685b0d4bc09b4a2681aa997a50",
        "IPY_MODEL_3bc026ed27c64836a7b449a19d9a57ea",
        "IPY_MODEL_e19f8ae26ef44ac59d84892b6eb39250",
        "IPY_MODEL_fac1a6fc879a49e9952a05808149b652"
       ],
       "layout": "IPY_MODEL_40a0eb651946463192e30d3a32ba3189"
      }
     },
     "358215a7b7ca4277950e1f8d071fa494": {
      "model_module": "@jupyter-widgets/controls",
      "model_module_version": "1.5.0",
      "model_name": "ButtonModel",
      "state": {
       "description": "Save Upload",
       "icon": "check",
       "layout": "IPY_MODEL_50bbdc0e20fc44079d8cb2c28109c94b",
       "style": "IPY_MODEL_317818380e764f39aec363d93db7b5c4",
       "tooltip": "Click to save settings to file."
      }
     },
     "35ae3113d7f748e4b8a8de27a103c410": {
      "model_module": "@jupyter-widgets/controls",
      "model_module_version": "1.5.0",
      "model_name": "DescriptionStyleModel",
      "state": {
       "description_width": ""
      }
     },
     "35bc1a764aa847809cb1b498995eb0f3": {
      "model_module": "@jupyter-widgets/controls",
      "model_module_version": "1.5.0",
      "model_name": "DescriptionStyleModel",
      "state": {
       "description_width": ""
      }
     },
     "35da0632552b4ec188757b8924e88177": {
      "model_module": "@jupyter-widgets/controls",
      "model_module_version": "1.5.0",
      "model_name": "DropdownModel",
      "state": {
       "_options_labels": [
        "eastus",
        "eastus2",
        "canadacentral",
        "centralus",
        "northcentralus",
        "southcentralus",
        "westcentralus",
        "westus",
        "westus2"
       ],
       "description": "aks_location",
       "index": 0,
       "layout": "IPY_MODEL_ec7e28fd6a354817b74157fc71a3b764",
       "style": "IPY_MODEL_bc6509da671c44cfad1525e2f2ad583f"
      }
     },
     "35ffe8e806c94a26ad2c732e330efd77": {
      "model_module": "@jupyter-widgets/controls",
      "model_module_version": "1.5.0",
      "model_name": "DescriptionStyleModel",
      "state": {
       "description_width": ""
      }
     },
     "360afdf250534d6eb3cc0e8a6571f8da": {
      "model_module": "@jupyter-widgets/base",
      "model_module_version": "1.2.0",
      "model_name": "LayoutModel",
      "state": {}
     },
     "365e6a0bbbd8426baf84d30022086968": {
      "model_module": "@jupyter-widgets/controls",
      "model_module_version": "1.5.0",
      "model_name": "HBoxModel",
      "state": {
       "children": [
        "IPY_MODEL_d13fb6bd29db461ea5fd69b06887da3d"
       ],
       "layout": "IPY_MODEL_7f6ddd2adc694addb7e57b922d7c12da"
      }
     },
     "366a77f1fa1c4ae9bf802e81e8f3a53a": {
      "model_module": "@jupyter-widgets/controls",
      "model_module_version": "1.5.0",
      "model_name": "VBoxModel",
      "state": {
       "children": [
        "IPY_MODEL_19789daaabc74802a7e12e81da88ed95",
        "IPY_MODEL_f1f89cd0513e4a6c80b442b657b19873",
        "IPY_MODEL_3caf1c2c0ed149c3a43c743eebd58853",
        "IPY_MODEL_943531e6081f4d8b82dd7769e6d7bf8e",
        "IPY_MODEL_d553a52231e74672bca7403cbf5ec1e1",
        "IPY_MODEL_636d989a65e648b9925729f136f344da",
        "IPY_MODEL_f1b69b8cb0f6497cbc712247beca3b1d",
        "IPY_MODEL_b1fa6c023d4b4fa994e0c7213ad5d14f",
        "IPY_MODEL_d115b0c0aabe4fa59c6a9753f5ca8b54",
        "IPY_MODEL_8867d74c441f428aa25219bef570b75b",
        "IPY_MODEL_88f256ef289948b08a27a355a669427b",
        "IPY_MODEL_c41823c2f79843839b8870636e00c747",
        "IPY_MODEL_da7dfdd715274805900a98a14cd2160c",
        "IPY_MODEL_507f5d81cdd4462e8e6cd277722f6bb5",
        "IPY_MODEL_868841ca882442ecaf9449fd73930f8b",
        "IPY_MODEL_a46fc689f2164516b75fa716965516fa",
        "IPY_MODEL_f4f87d45be174b4382d1459266b7a56c",
        "IPY_MODEL_2ad0c662891d435796362b288446d22d",
        "IPY_MODEL_f7fec581f34441e885eb8e2f9bc60d42"
       ],
       "layout": "IPY_MODEL_a84d604baa074cd7a2bff40d3ba0ab86"
      }
     },
     "3680922e0cff44279650b58892d0927c": {
      "model_module": "@jupyter-widgets/controls",
      "model_module_version": "1.5.0",
      "model_name": "DescriptionStyleModel",
      "state": {
       "description_width": ""
      }
     },
     "3682fd0db0d8437b987d2c4263fcb750": {
      "model_module": "@jupyter-widgets/base",
      "model_module_version": "1.2.0",
      "model_name": "LayoutModel",
      "state": {}
     },
     "369d4117579f4725a2f630fd661aa776": {
      "model_module": "@jupyter-widgets/base",
      "model_module_version": "1.2.0",
      "model_name": "LayoutModel",
      "state": {}
     },
     "36a459a6f4a1456bbe2af1fcf48e758b": {
      "model_module": "@jupyter-widgets/controls",
      "model_module_version": "1.5.0",
      "model_name": "ButtonModel",
      "state": {
       "description": "Use existing",
       "layout": "IPY_MODEL_cf9b0d0fffe046c096b083d46fcc89ee",
       "style": "IPY_MODEL_3d20311f390f4aeca1e6f772bba52419",
       "tooltip": "Use an existing resource."
      }
     },
     "36cda167f4d746e7a445a6b9ff059ca8": {
      "model_module": "@jupyter-widgets/base",
      "model_module_version": "1.2.0",
      "model_name": "LayoutModel",
      "state": {}
     },
     "36d208ad9cad4d768531173f0648b840": {
      "model_module": "@jupyter-widgets/base",
      "model_module_version": "1.2.0",
      "model_name": "LayoutModel",
      "state": {}
     },
     "36df292fa2394cafb05dfa1e046495d2": {
      "model_module": "@jupyter-widgets/controls",
      "model_module_version": "1.5.0",
      "model_name": "DescriptionStyleModel",
      "state": {
       "description_width": ""
      }
     },
     "36ea02da056946989ac93c48cf98a807": {
      "model_module": "@jupyter-widgets/controls",
      "model_module_version": "1.5.0",
      "model_name": "VBoxModel",
      "state": {
       "children": [
        "IPY_MODEL_85a43eacd32f4b87ad4f62ea5700a31f",
        "IPY_MODEL_bb7f129f9511451ba50efae6b5ea9a4f",
        "IPY_MODEL_b508b70f96154b7c9f65a26dcf9c37bd",
        "IPY_MODEL_0b5a23acd6014dd1b0485e8579a14085",
        "IPY_MODEL_ac0525d004dd40a3882341769312f731",
        "IPY_MODEL_c2cf5a8dedbf466ca1604d1d888044ef",
        "IPY_MODEL_c2cf6b7e034a445695138fb130d79434",
        "IPY_MODEL_9573066ff6a542a0aae8dd440f973505",
        "IPY_MODEL_ae5e095121c045ac9e68739d28ff6c0d",
        "IPY_MODEL_4d39ffbf4c344b889131e21295fb4665",
        "IPY_MODEL_7d4eb7d2034546cd9300dd71c2895a72",
        "IPY_MODEL_589186ab01e442f4a7fd055038264466",
        "IPY_MODEL_d3f9416cc0cf48ad9f09c78a256fec6c",
        "IPY_MODEL_f38bd70c76454695b8e189597b6723fe",
        "IPY_MODEL_70c553889d594c859b5a81dbf7fffae0"
       ],
       "layout": "IPY_MODEL_e8a84f6d522d4cd6a5f6b08ddc3877c4"
      }
     },
     "36fd1016bc07413a9d28ef9f9925e72e": {
      "model_module": "@jupyter-widgets/controls",
      "model_module_version": "1.5.0",
      "model_name": "TextModel",
      "state": {
       "description": "cpu_cores",
       "layout": "IPY_MODEL_ef6a487d64a1434790eca51afa2d39c8",
       "placeholder": "cpu cores for web service",
       "style": "IPY_MODEL_47adbd2f48e34a2aba3f88fc3802a931",
       "value": "1"
      }
     },
     "37002adbf9cc47a4806e1346255eabee": {
      "model_module": "@jupyter-widgets/controls",
      "model_module_version": "1.5.0",
      "model_name": "ButtonModel",
      "state": {
       "description": "Use existing",
       "layout": "IPY_MODEL_cf23359550614c729fa3ff171128d003",
       "style": "IPY_MODEL_8cff0152dd5249a593457ac6b5d9ef30",
       "tooltip": "Use an existing resource."
      }
     },
     "3717f4c5260f4d16aa33dd3bdb4464bb": {
      "model_module": "@jupyter-widgets/controls",
      "model_module_version": "1.5.0",
      "model_name": "HBoxModel",
      "state": {
       "children": [
        "IPY_MODEL_5705ed7a066749b4b0923a0e20a3e91b"
       ],
       "layout": "IPY_MODEL_77417dd156a34d188eeed16d632d10dd"
      }
     },
     "373bba71478f4b1283c561600b01c27c": {
      "model_module": "@jupyter-widgets/base",
      "model_module_version": "1.2.0",
      "model_name": "LayoutModel",
      "state": {}
     },
     "3770e5d840074b81b2b24870c14411d3": {
      "model_module": "@jupyter-widgets/controls",
      "model_module_version": "1.5.0",
      "model_name": "DescriptionStyleModel",
      "state": {
       "description_width": ""
      }
     },
     "37bb855b851c4c589d3a2c98e586892a": {
      "model_module": "@jupyter-widgets/controls",
      "model_module_version": "1.5.0",
      "model_name": "TextModel",
      "state": {
       "description": "aks_service_name",
       "layout": "IPY_MODEL_6c86560386e142b39edb620ddb92f44e",
       "placeholder": "AKS Service Name",
       "style": "IPY_MODEL_54f7de43543c447987234b5ccb3ac3a6",
       "value": "aksservice2"
      }
     },
     "37d2f264f4e748f58cac6cd001e8c32f": {
      "model_module": "@jupyter-widgets/controls",
      "model_module_version": "1.5.0",
      "model_name": "HBoxModel",
      "state": {
       "children": [
        "IPY_MODEL_c9f1175dd43f49d7902bb5bf8b175253"
       ],
       "layout": "IPY_MODEL_cecd29f5289c4d2a965ee8164bc86f92"
      }
     },
     "38026793e6b342afaf76aab7c26e0365": {
      "model_module": "@jupyter-widgets/controls",
      "model_module_version": "1.5.0",
      "model_name": "ButtonModel",
      "state": {
       "description": "Overwrite Settings",
       "icon": "check",
       "layout": "IPY_MODEL_4a9956a8dc4345b38d18137e0259506a",
       "style": "IPY_MODEL_d9298a2523554fd58a51ebc35cf2b8bd",
       "tooltip": "Click to save settings to file."
      }
     },
     "38104c1d1a0c4c70a218b529cee32d90": {
      "model_module": "@jupyter-widgets/controls",
      "model_module_version": "1.5.0",
      "model_name": "TextModel",
      "state": {
       "description": "experiment_name",
       "layout": "IPY_MODEL_56a2b6e974be4fc78e40f38bf8aa2fb2",
       "placeholder": "cpu cores for web service",
       "style": "IPY_MODEL_8ac2ff8e97c04eee9d80aaae35ab4dc3",
       "value": "mlaks-train-on-local"
      }
     },
     "3833883073c645e0a8ad21451cbbd4ec": {
      "model_module": "@jupyter-widgets/base",
      "model_module_version": "1.2.0",
      "model_name": "LayoutModel",
      "state": {}
     },
     "38663b1a38504e05a977b413d99435c5": {
      "model_module": "@jupyter-widgets/controls",
      "model_module_version": "1.5.0",
      "model_name": "ButtonModel",
      "state": {
       "description": "Use existing",
       "icon": "check",
       "layout": "IPY_MODEL_6abb2e8784434d6aa59524b8d813d24f",
       "style": "IPY_MODEL_3234d76b79d54c87986d6598c1aaef65",
       "tooltip": "Use an existing resource."
      }
     },
     "38a9b03c79bf4d4e84d76cc14f38d054": {
      "model_module": "@jupyter-widgets/controls",
      "model_module_version": "1.5.0",
      "model_name": "ButtonModel",
      "state": {
       "button_style": "success",
       "description": "Save Upload",
       "icon": "check",
       "layout": "IPY_MODEL_6727587fb2cf42d48949c097c5865116",
       "style": "IPY_MODEL_4d478af4e45a40f9a4581af7763880d4",
       "tooltip": "Click to save settings to file."
      }
     },
     "3912db2e2dd8421a8e47bc5a898d276e": {
      "model_module": "@jupyter-widgets/controls",
      "model_module_version": "1.5.0",
      "model_name": "DescriptionStyleModel",
      "state": {
       "description_width": ""
      }
     },
     "392308d8b0b7442d88c789c8f516a5f3": {
      "model_module": "@jupyter-widgets/controls",
      "model_module_version": "1.5.0",
      "model_name": "VBoxModel",
      "state": {
       "children": [
        "IPY_MODEL_659675a4b4ac4b388326c1535e978327",
        "IPY_MODEL_af4cdc6472114c15b7cad5003fad2db5",
        "IPY_MODEL_1ecd1404accb4ea4a3e7e781fe909acb",
        "IPY_MODEL_306f7ae484984a7187fdf54cf6414b42",
        "IPY_MODEL_a7b6228f6eb44f818f9184ad6f784bb1",
        "IPY_MODEL_48851af0d63e46038be5c770825fb979",
        "IPY_MODEL_b4b39f65fffe403da4f6334155762cbc",
        "IPY_MODEL_78bbccf3260f4db3bde7c7611319ffc4",
        "IPY_MODEL_001d3709d23e4e81ac55a917e06429a1",
        "IPY_MODEL_0b34415c7536445cb0bd5063164b4d75",
        "IPY_MODEL_ba65391fc14849f9a173d818bd17c005",
        "IPY_MODEL_9d2e065e0f9842c8b6a00f7a5422b93e",
        "IPY_MODEL_c0310a8c29c645f4b15bc914e76d8b02",
        "IPY_MODEL_a7bde81a0dbb4629af7b1b03d3b8ecb3",
        "IPY_MODEL_521f3b7c67cb4b40b9b5d7c15d52111c"
       ],
       "layout": "IPY_MODEL_20a8a384500c43c288b4613ee5bd56e6"
      }
     },
     "392e729668d7416ab160b41a67b003be": {
      "model_module": "@jupyter-widgets/base",
      "model_module_version": "1.2.0",
      "model_name": "LayoutModel",
      "state": {}
     },
     "393c85a83d8a4275b19f0ddd17516b58": {
      "model_module": "@jupyter-widgets/base",
      "model_module_version": "1.2.0",
      "model_name": "LayoutModel",
      "state": {}
     },
     "397735e4f7874b0cb361985424c8e574": {
      "model_module": "@jupyter-widgets/controls",
      "model_module_version": "1.5.0",
      "model_name": "DescriptionStyleModel",
      "state": {
       "description_width": ""
      }
     },
     "3989cf84a8994910897f4a51bdb1eee6": {
      "model_module": "@jupyter-widgets/base",
      "model_module_version": "1.2.0",
      "model_name": "LayoutModel",
      "state": {}
     },
     "39c17b6e24594897a7d5f92285de5df0": {
      "model_module": "@jupyter-widgets/controls",
      "model_module_version": "1.5.0",
      "model_name": "TextModel",
      "state": {
       "description": "image_name",
       "layout": "IPY_MODEL_2e4ac28ac94a4a319a6d70f8db5a95aa",
       "placeholder": "Docker Container Image Name",
       "style": "IPY_MODEL_9eb2bbc12c044fe1ab7103761d2337d5",
       "value": "mymlimage2"
      }
     },
     "39f1f9b012d34ffc828ff30b0ba2ee3c": {
      "model_module": "@jupyter-widgets/controls",
      "model_module_version": "1.5.0",
      "model_name": "HBoxModel",
      "state": {
       "children": [
        "IPY_MODEL_2875e6c2afcc447f8c99de31f9845418",
        "IPY_MODEL_6df2ef37e86e42879a4868e756432572"
       ],
       "layout": "IPY_MODEL_f4cdaade54f54aefbee08db82da5247c"
      }
     },
     "3aa49b015c4846989052c207106e5bdf": {
      "model_module": "@jupyter-widgets/controls",
      "model_module_version": "1.5.0",
      "model_name": "TextModel",
      "state": {
       "description": "aks_location",
       "layout": "IPY_MODEL_c27cabe4bf734227b8b87482396b0de7",
       "placeholder": "AKS Azure Region",
       "style": "IPY_MODEL_44deb8483b15441ba7cce7c46858ec7a",
       "value": "eastus"
      }
     },
     "3ab948c452a6459e964d905ad85f1a4d": {
      "model_module": "@jupyter-widgets/controls",
      "model_module_version": "1.5.0",
      "model_name": "ButtonStyleModel",
      "state": {}
     },
     "3ab97a8edca04f1888bf30d802f939d3": {
      "model_module": "@jupyter-widgets/controls",
      "model_module_version": "1.5.0",
      "model_name": "TextModel",
      "state": {
       "description": "script",
       "layout": "IPY_MODEL_ad19f06328d34b71b4894bd31798aaaa",
       "placeholder": "cpu cores for web service",
       "style": "IPY_MODEL_81bc58c518d44373abd09babdbfd1209",
       "value": "create_model.py"
      }
     },
     "3b0729f432ed4b8d8b05b9e6389053a1": {
      "model_module": "@jupyter-widgets/controls",
      "model_module_version": "1.5.0",
      "model_name": "TextModel",
      "state": {
       "description": "deep_aks_location",
       "layout": "IPY_MODEL_99fc86d268ea4a02bff4e406b52fabf1",
       "placeholder": "AKS Azure Region",
       "style": "IPY_MODEL_c75444e8f60e4ab3817c16b34529d7d9",
       "value": "eastus"
      }
     },
     "3b0e4c775ecd47e88f9640fa9db2e324": {
      "model_module": "@jupyter-widgets/base",
      "model_module_version": "1.2.0",
      "model_name": "LayoutModel",
      "state": {}
     },
     "3b16a058409d4476b9c8c16448f9902e": {
      "model_module": "@jupyter-widgets/base",
      "model_module_version": "1.2.0",
      "model_name": "LayoutModel",
      "state": {}
     },
     "3b5ee1485fe9410992fb476cdb794ae8": {
      "model_module": "@jupyter-widgets/controls",
      "model_module_version": "1.5.0",
      "model_name": "HBoxModel",
      "state": {
       "children": [
        "IPY_MODEL_b6f58d406a9d4d7e84286e6618282654"
       ],
       "layout": "IPY_MODEL_fae3ce50ea444bd9b655992206b30ef5"
      }
     },
     "3b6cad6369be4a56aa7b666c836cba8e": {
      "model_module": "@jupyter-widgets/controls",
      "model_module_version": "1.5.0",
      "model_name": "TextModel",
      "state": {
       "description": "aks_service_name",
       "layout": "IPY_MODEL_b0c2d1c001c54a5a815ff4d92400f736",
       "placeholder": "AKS Service Name",
       "style": "IPY_MODEL_0ed6aaf1ae2c4ecd81b1dad9fd6b47f2",
       "value": "aksservice2"
      }
     },
     "3b6e123f4c734fe8b7bd49a4c217ff61": {
      "model_module": "@jupyter-widgets/base",
      "model_module_version": "1.2.0",
      "model_name": "LayoutModel",
      "state": {}
     },
     "3b8e39ed9fa54617a877c00b47fd346e": {
      "model_module": "@jupyter-widgets/base",
      "model_module_version": "1.2.0",
      "model_name": "LayoutModel",
      "state": {}
     },
     "3b8e431d10954515b69166c99b5253b6": {
      "model_module": "@jupyter-widgets/controls",
      "model_module_version": "1.5.0",
      "model_name": "TextModel",
      "state": {
       "description": "aks_name",
       "layout": "IPY_MODEL_8813afaf527f41ddad7baf99e6197315",
       "placeholder": "AKS Cluster Name",
       "style": "IPY_MODEL_ad35a34abd174ad6be432369406f1d2a",
       "value": "akscluster2"
      }
     },
     "3baf08dac04448f9a2729ab97b0ca11c": {
      "model_module": "@jupyter-widgets/controls",
      "model_module_version": "1.5.0",
      "model_name": "TextModel",
      "state": {
       "description": "subscription_id",
       "layout": "IPY_MODEL_de5d1bed4fa34141964f8c649a44e94c",
       "placeholder": "Azure Subscription Id",
       "style": "IPY_MODEL_6eb39f3b89dd4918b7606b2bba2aefc4"
      }
     },
     "3bc026ed27c64836a7b449a19d9a57ea": {
      "model_module": "@jupyter-widgets/controls",
      "model_module_version": "1.5.0",
      "model_name": "HBoxModel",
      "state": {
       "children": [
        "IPY_MODEL_ae3f4afe01184a9eb233789956119b23"
       ],
       "layout": "IPY_MODEL_1f42f781d3314c2992763e2220ad0fdf"
      }
     },
     "3c380ba5cb024f5f9979f2421333fb67": {
      "model_module": "@jupyter-widgets/base",
      "model_module_version": "1.2.0",
      "model_name": "LayoutModel",
      "state": {}
     },
     "3c3e7bf4a6db4bd09f426e4a24eae7aa": {
      "model_module": "@jupyter-widgets/controls",
      "model_module_version": "1.5.0",
      "model_name": "HBoxModel",
      "state": {
       "children": [
        "IPY_MODEL_201eda59a80740eda28d73947c0d7ba7"
       ],
       "layout": "IPY_MODEL_8970d442f85b49c4844d86e358013fd1"
      }
     },
     "3c5bbfd544c342c9ad71a13839beedd7": {
      "model_module": "@jupyter-widgets/base",
      "model_module_version": "1.2.0",
      "model_name": "LayoutModel",
      "state": {}
     },
     "3c5fc894c15a4d44941acb5567aabade": {
      "model_module": "@jupyter-widgets/controls",
      "model_module_version": "1.5.0",
      "model_name": "VBoxModel",
      "state": {
       "children": [
        "IPY_MODEL_c1a00079379a4b4ba0bc8e12b3e11ce8",
        "IPY_MODEL_996e39c5eeb94d19b9c7efcf696853c3",
        "IPY_MODEL_029f6893e4444902b49baa88f429eefc",
        "IPY_MODEL_a6f61fce89574a26b260a1768d98dd0f",
        "IPY_MODEL_0a4262bc5ca54c4180057a2b4d687a2d",
        "IPY_MODEL_57e1c290998c4b3f8c73706c60f56f56",
        "IPY_MODEL_585752dee3b84cc0b068d1a39683806f",
        "IPY_MODEL_a7f4ec8d057747128eddb08ceb9d6107",
        "IPY_MODEL_03ef4c79f6c845e2a21d1b5aa2801ca1",
        "IPY_MODEL_7528ff92bc66489d8c287975d0e62f9c",
        "IPY_MODEL_0d87128a00b04e35ada447c610065896",
        "IPY_MODEL_be77b9eabcf04c26af91c8df478f9eca",
        "IPY_MODEL_bc5cdc7244e84a9ab4ba04c42566fd89",
        "IPY_MODEL_bc19009bdd304a2bb87e0379eeb4601d",
        "IPY_MODEL_309c981bceab43b89f689b4837fd40e8"
       ],
       "layout": "IPY_MODEL_ecc285e6a8d44ec386e1dbfaf91de0e8"
      }
     },
     "3c80d179f7584f1c8eba8607da50be69": {
      "model_module": "@jupyter-widgets/controls",
      "model_module_version": "1.5.0",
      "model_name": "DescriptionStyleModel",
      "state": {
       "description_width": ""
      }
     },
     "3c8af73d8c8c4730b20d81c538d75599": {
      "model_module": "@jupyter-widgets/base",
      "model_module_version": "1.2.0",
      "model_name": "LayoutModel",
      "state": {}
     },
     "3c9f8c8a809343e1a962ab3337c7f79e": {
      "model_module": "@jupyter-widgets/controls",
      "model_module_version": "1.5.0",
      "model_name": "DescriptionStyleModel",
      "state": {
       "description_width": ""
      }
     },
     "3caf1c2c0ed149c3a43c743eebd58853": {
      "model_module": "@jupyter-widgets/controls",
      "model_module_version": "1.5.0",
      "model_name": "ButtonModel",
      "state": {
       "button_style": "success",
       "description": "Load Upload",
       "icon": "check",
       "layout": "IPY_MODEL_8cb0c26d7673411b83c5fab13f3728ba",
       "style": "IPY_MODEL_52284f9b60fd4b66a1a2771ae1bd591a",
       "tooltip": "Click to save settings to file."
      }
     },
     "3cea00682bb64bc59760905fe020b3f6": {
      "model_module": "@jupyter-widgets/controls",
      "model_module_version": "1.5.0",
      "model_name": "HBoxModel",
      "state": {
       "children": [
        "IPY_MODEL_9de47a852f00424cb33484da7cc33296"
       ],
       "layout": "IPY_MODEL_bbaf4b0e2ddb4d3eb04fd58116c3d41e"
      }
     },
     "3d20311f390f4aeca1e6f772bba52419": {
      "model_module": "@jupyter-widgets/controls",
      "model_module_version": "1.5.0",
      "model_name": "ButtonStyleModel",
      "state": {}
     },
     "3d4a783dc72d4fa28f54ea1bf3ce2ed5": {
      "model_module": "@jupyter-widgets/base",
      "model_module_version": "1.2.0",
      "model_name": "LayoutModel",
      "state": {}
     },
     "3d4bd2d4286d43bb842684519179fbee": {
      "model_module": "@jupyter-widgets/base",
      "model_module_version": "1.2.0",
      "model_name": "LayoutModel",
      "state": {}
     },
     "3d63364804bb437f80d28f616557d340": {
      "model_module": "@jupyter-widgets/controls",
      "model_module_version": "1.5.0",
      "model_name": "TextModel",
      "state": {
       "description": "resource_group",
       "layout": "IPY_MODEL_0a493de4cf704ef0bf29f8a27e5f1f73",
       "placeholder": "Azure Resource Group Name",
       "style": "IPY_MODEL_1f37066cc02249f88632320095d5e279",
       "value": "dcibo-rg"
      }
     },
     "3d6ad483a673474f8161b47e38812569": {
      "model_module": "@jupyter-widgets/controls",
      "model_module_version": "1.5.0",
      "model_name": "VBoxModel",
      "state": {
       "children": [
        "IPY_MODEL_bcf6d13a4fde44a8888cb0def58465e1",
        "IPY_MODEL_e0198264db7e4eb7b7f009cfd2e14eb5",
        "IPY_MODEL_71f5512917fc4c0ba2d3caeacd19a587",
        "IPY_MODEL_d5b8c94e8dfe41ecbbc487f6189d8689",
        "IPY_MODEL_43f1f13dbd014a4c9ffb31c145fe3dd6",
        "IPY_MODEL_4d429bb38a82498d8efb883363bd8ee0",
        "IPY_MODEL_c84b5910e99f40869c0e21ac47426b02",
        "IPY_MODEL_992db9f5b88847ad87196c76632f2130",
        "IPY_MODEL_e408aedd49e54b0ba8a85b7148baedb5",
        "IPY_MODEL_b5e6aa5ef4ff459a9a606c6b9f853fa3",
        "IPY_MODEL_f6849b5584074d17824a7692d121cbe4",
        "IPY_MODEL_fe6c73bbbbe24d33a28d0179b800ca64",
        "IPY_MODEL_5549f95c25204f88950495e1de1ac01b",
        "IPY_MODEL_97ca5a3a5f874a999ebd664ce03d30b3",
        "IPY_MODEL_6a75be32cadc4a3cae774083480e7254"
       ],
       "layout": "IPY_MODEL_55d10ef23f7b44b08f0cc24ec97d4f40"
      }
     },
     "3d81f4568d994d0bae4ec60c75eb69fd": {
      "model_module": "@jupyter-widgets/controls",
      "model_module_version": "1.5.0",
      "model_name": "ButtonModel",
      "state": {
       "description": "Overwrite Settings",
       "icon": "check",
       "layout": "IPY_MODEL_fba5cd555d5f43caa7e13afbb33aced1",
       "style": "IPY_MODEL_26a719da5c084b42a83d5d2307f4c7d0",
       "tooltip": "Click to save settings to file."
      }
     },
     "3d8f53e22edc437da98457f4e2daebc8": {
      "model_module": "@jupyter-widgets/base",
      "model_module_version": "1.2.0",
      "model_name": "LayoutModel",
      "state": {}
     },
     "3dd5ae07589d4ddea51e3a1a4557ac8c": {
      "model_module": "@jupyter-widgets/controls",
      "model_module_version": "1.5.0",
      "model_name": "HBoxModel",
      "state": {
       "children": [
        "IPY_MODEL_d9690b781e99483d9ab299123df31536"
       ],
       "layout": "IPY_MODEL_168a0b3e44f94252ad8e3c1f935301b2"
      }
     },
     "3df4db059a8640f884e3f0c4cf534e3a": {
      "model_module": "@jupyter-widgets/controls",
      "model_module_version": "1.5.0",
      "model_name": "HBoxModel",
      "state": {
       "children": [
        "IPY_MODEL_d4d287e3c992463fa2202dd8398619ed",
        "IPY_MODEL_e9f96d0963cc4c929bf1ad2c7e3700d6"
       ],
       "layout": "IPY_MODEL_85b46801c3a04b0daa15ccd7b09f94c6"
      }
     },
     "3e178d376b124bf8888c41b5fe4629aa": {
      "model_module": "@jupyter-widgets/controls",
      "model_module_version": "1.5.0",
      "model_name": "ButtonModel",
      "state": {
       "description": "Overwrite Settings",
       "icon": "check",
       "layout": "IPY_MODEL_ac7466eb4885456ab60f74a014b27abe",
       "style": "IPY_MODEL_44e70d4eded643eb89c920cdbe3594fc",
       "tooltip": "Click to save settings to file."
      }
     },
     "3e2190a67d0848e2b4f15fc8a09dc94a": {
      "model_module": "@jupyter-widgets/controls",
      "model_module_version": "1.5.0",
      "model_name": "DescriptionStyleModel",
      "state": {
       "description_width": ""
      }
     },
     "3e32149f2864488db624f1d6113716ca": {
      "model_module": "@jupyter-widgets/controls",
      "model_module_version": "1.5.0",
      "model_name": "HBoxModel",
      "state": {
       "children": [
        "IPY_MODEL_f2dca1a201b047e1b7a8ee5c40f270db"
       ],
       "layout": "IPY_MODEL_2fa4fdc200bd45c9868080918386c86c"
      }
     },
     "3e3d33a671ae4cddb94ee153220977bb": {
      "model_module": "@jupyter-widgets/controls",
      "model_module_version": "1.5.0",
      "model_name": "DropdownModel",
      "state": {
       "_options_labels": [
        "eastus",
        "eastus2",
        "canadacentral",
        "centralus",
        "northcentralus",
        "southcentralus",
        "westcentralus",
        "westus",
        "westus2"
       ],
       "description": "aks_location",
       "index": 0,
       "layout": "IPY_MODEL_9a6e378a0011467b9bb3d40558feff66",
       "style": "IPY_MODEL_978f57b9f9194e2d9c1246940fc5ac66"
      }
     },
     "3e47f2195db24d389c1f49ee8996ac3e": {
      "model_module": "@jupyter-widgets/base",
      "model_module_version": "1.2.0",
      "model_name": "LayoutModel",
      "state": {}
     },
     "3e85d9f1e1cc4a199afc0c6f3a58f9fe": {
      "model_module": "@jupyter-widgets/controls",
      "model_module_version": "1.5.0",
      "model_name": "ButtonModel",
      "state": {
       "description": "Use existing",
       "layout": "IPY_MODEL_f21afd54781445c4bf6d98cf4109063e",
       "style": "IPY_MODEL_7d08f8470b6a4cf38cddf551787ed9c4",
       "tooltip": "Use an existing resource."
      }
     },
     "3e9f1518ae114c8b9e0f1ed4593da5e5": {
      "model_module": "@jupyter-widgets/controls",
      "model_module_version": "1.5.0",
      "model_name": "ButtonStyleModel",
      "state": {}
     },
     "3ea1b81282e742128f10b8bb88ebff4e": {
      "model_module": "@jupyter-widgets/base",
      "model_module_version": "1.2.0",
      "model_name": "LayoutModel",
      "state": {}
     },
     "3eadb4856a0645639bb09054f6ccf9d1": {
      "model_module": "@jupyter-widgets/controls",
      "model_module_version": "1.5.0",
      "model_name": "ButtonStyleModel",
      "state": {}
     },
     "3ec5cdafcbaf4b958947b9368f5d80e3": {
      "model_module": "@jupyter-widgets/controls",
      "model_module_version": "1.5.0",
      "model_name": "TextModel",
      "state": {
       "description": "aks_name",
       "layout": "IPY_MODEL_f2cbe6393b2f4f27a86ef8861cd97f46",
       "placeholder": "AKS Cluster Name",
       "style": "IPY_MODEL_d35a1a5e876d427684039187c0a60041",
       "value": "akscluster2"
      }
     },
     "3ee30e29f31b4e0ba65c5b53b6c41adb": {
      "model_module": "@jupyter-widgets/controls",
      "model_module_version": "1.5.0",
      "model_name": "TextModel",
      "state": {
       "description": "subscription_id",
       "layout": "IPY_MODEL_45585b5e99f84a24a7dbf94c1e0250b1",
       "placeholder": "Azure Subscription Id",
       "style": "IPY_MODEL_c9faa0989e6048329d5f1e90f8164ffe",
       "value": "0ca618d2-22a8-413a-96d0-0f1b531129c3"
      }
     },
     "3eff9a0440334492b71640cd5da62e66": {
      "model_module": "@jupyter-widgets/base",
      "model_module_version": "1.2.0",
      "model_name": "LayoutModel",
      "state": {}
     },
     "3f015a3ef4b948ef9df1833d6e49158c": {
      "model_module": "@jupyter-widgets/base",
      "model_module_version": "1.2.0",
      "model_name": "LayoutModel",
      "state": {}
     },
     "3f381be5bf0847f4ab7712b77dae0dba": {
      "model_module": "@jupyter-widgets/base",
      "model_module_version": "1.2.0",
      "model_name": "LayoutModel",
      "state": {}
     },
     "3f7282fd1ef947c1818b101ef4e24605": {
      "model_module": "@jupyter-widgets/base",
      "model_module_version": "1.2.0",
      "model_name": "LayoutModel",
      "state": {}
     },
     "3f7b3ee71d3f4619be5ec5c1421843f1": {
      "model_module": "@jupyter-widgets/base",
      "model_module_version": "1.2.0",
      "model_name": "LayoutModel",
      "state": {}
     },
     "3f80dfd3097a47bf9535ff5c14704234": {
      "model_module": "@jupyter-widgets/controls",
      "model_module_version": "1.5.0",
      "model_name": "TextModel",
      "state": {
       "description": "resource_group",
       "layout": "IPY_MODEL_49f95064d3af4b6f82e840fee05031ae",
       "placeholder": "Azure Resource Group Name",
       "style": "IPY_MODEL_cf8d171c7757415ab0b150eac82f48c8",
       "value": "azmlrts-eastus-stable"
      }
     },
     "3f9ac827ab5e4598a1582b25d516978f": {
      "model_module": "@jupyter-widgets/controls",
      "model_module_version": "1.5.0",
      "model_name": "DescriptionStyleModel",
      "state": {
       "description_width": ""
      }
     },
     "3fcc245f281349d4ab4bb102de0cdc90": {
      "model_module": "@jupyter-widgets/controls",
      "model_module_version": "1.5.0",
      "model_name": "DescriptionStyleModel",
      "state": {
       "description_width": ""
      }
     },
     "3ffa6fc8ab44442e8bed3f76edb2851b": {
      "model_module": "@jupyter-widgets/base",
      "model_module_version": "1.2.0",
      "model_name": "LayoutModel",
      "state": {}
     },
     "400e97e714b24efdbc21aee81dd2d12b": {
      "model_module": "@jupyter-widgets/controls",
      "model_module_version": "1.5.0",
      "model_name": "TextModel",
      "state": {
       "description": "resource_group",
       "layout": "IPY_MODEL_4921dbb1485841f5bcec655a6699f0a9",
       "placeholder": "Azure Resource Group Name",
       "style": "IPY_MODEL_aa81cc4b08e6425a989d7ccd89f16182",
       "value": "azmlrts-eastus-stable"
      }
     },
     "4058ef4cd29f4669aec51659491d0430": {
      "model_module": "@jupyter-widgets/controls",
      "model_module_version": "1.5.0",
      "model_name": "TextModel",
      "state": {
       "description": "subscription_id",
       "layout": "IPY_MODEL_106bf370a1944fefa5c0e543a3fba75c",
       "placeholder": "Azure Subscription Id",
       "style": "IPY_MODEL_ac51c044ef22473ba391b30164e04316",
       "value": "0ca618d2-22a8-413a-96d0-0f1b531129c3"
      }
     },
     "406d33d5402d4d87bdfcb66edaf1b05e": {
      "model_module": "@jupyter-widgets/base",
      "model_module_version": "1.2.0",
      "model_name": "LayoutModel",
      "state": {}
     },
     "40a0eb651946463192e30d3a32ba3189": {
      "model_module": "@jupyter-widgets/base",
      "model_module_version": "1.2.0",
      "model_name": "LayoutModel",
      "state": {}
     },
     "40bce764d1f54b0ab09059d76d1a0176": {
      "model_module": "@jupyter-widgets/base",
      "model_module_version": "1.2.0",
      "model_name": "LayoutModel",
      "state": {}
     },
     "40d7ed1d1b7a42d4947af5e59ca29014": {
      "model_module": "@jupyter-widgets/base",
      "model_module_version": "1.2.0",
      "model_name": "LayoutModel",
      "state": {}
     },
     "40f3069c214f445a8996bfed6d7b7df0": {
      "model_module": "@jupyter-widgets/controls",
      "model_module_version": "1.5.0",
      "model_name": "HBoxModel",
      "state": {
       "children": [
        "IPY_MODEL_a8579a2763cb49d7ad4d90cd84858a24"
       ],
       "layout": "IPY_MODEL_8b967d08901d4b6ea283f768cff855e1"
      }
     },
     "4120fce3ceff4c31b91698b1396e1951": {
      "buffers": [
       {
        "data": "cHJvamVjdF9uYW1lOiBhaS1kZWVwLXJlYWx0aW1lLXNjb3JlDQpzZXR0aW5nczoNCi0gc3Vic2NyaXB0aW9uX2lkOg0KICAtIGRlc2NyaXB0aW9uOiBBenVyZSBTdWJzY3JpcHRpb24gSWQNCiAgLSB2YWx1ZTogMGNhNjE4ZDItMjJhOC00MTNhLTk2ZDAtMGYxYjUzMTEyOWMzDQotIHJlc291cmNlX2dyb3VwOg0KICAtIGRlc2NyaXB0aW9uOiBBenVyZSBSZXNvdXJjZSBHcm91cCBOYW1lDQogIC0gdmFsdWU6IGF6bWxydHMtZWFzdHVzLXN0YWJsZQ0KLSB3b3Jrc3BhY2VfbmFtZToNCiAgLSBkZXNjcmlwdGlvbjogQXp1cmUgTUwgV29ya3NwYWNlIE5hbWUNCiAgLSB2YWx1ZTogYXptbHJ0cy1lYXN0dXMNCi0gd29ya3NwYWNlX3JlZ2lvbjoNCiAgLSBkZXNjcmlwdGlvbjogQXp1cmUgTUwgV29ya3NwYWNlIFJlZ2lvbg0KICAtIHZhbHVlOiBlYXN0dXMNCi0gaW1hZ2VfbmFtZToNCiAgLSBkZXNjcmlwdGlvbjogRG9ja2VyIENvbnRhaW5lciBJbWFnZSBOYW1lDQogIC0gdmFsdWU6IG15bWxpbWFnZTINCi0gYWtzX3NlcnZpY2VfbmFtZToNCiAgLSBkZXNjcmlwdGlvbjogQUtTIFNlcnZpY2UgTmFtZQ0KICAtIHZhbHVlOiBha3NzZXJ2aWNlMg0KLSBha3NfbG9jYXRpb246DQogIC0gZGVzY3JpcHRpb246IEFLUyBBenVyZSBSZWdpb24NCiAgLSB2YWx1ZTogZWFzdHVzDQotIGFrc19uYW1lOg0KICAtIGRlc2NyaXB0aW9uOiBBS1MgQ2x1c3RlciBOYW1lDQogIC0gdmFsdWU6IGFrc2NsdXN0ZXIyDQotIGRlZXBfaW1hZ2VfbmFtZToNCiAgLSBkZXNjcmlwdGlvbjogRG9ja2VyIENvbnRhaW5lciBJbWFnZSBOYW1lDQogIC0gdmFsdWU6IG15ZGVlcGltYWdlDQotIGRlZXBfYWtzX3NlcnZpY2VfbmFtZToNCiAgLSBkZXNjcmlwdGlvbjogQUtTIFNlcnZpY2UgTmFtZQ0KICAtIHZhbHVlOiBkZWVwYWtzc2VydmljZQ0KLSBkZWVwX2Frc19uYW1lOg0KICAtIGRlc2NyaXB0aW9uOiBBS1MgQ2x1c3RlciBOYW1lDQogIC0gdmFsdWU6IGRlZXBha3NjbHVzdGVyDQotIGRlZXBfYWtzX2xvY2F0aW9uOg0KICAtIGRlc2NyaXB0aW9uOiBBS1MgQXp1cmUgUmVnaW9uDQogIC0gdmFsdWU6IGVhc3R1cw0K",
        "encoding": "base64",
        "path": [
         "data",
         0
        ]
       }
      ],
      "model_module": "@jupyter-widgets/controls",
      "model_module_version": "1.5.0",
      "model_name": "FileUploadModel",
      "state": {
       "_counter": 2,
       "accept": ".yml",
       "data": [
        {}
       ],
       "description_tooltip": null,
       "layout": "IPY_MODEL_c4210c1dbea948d98f430cc66f6b3dcf",
       "metadata": [
        {
         "lastModified": 1583358839198,
         "name": "project.yml",
         "size": 1068,
         "type": ""
        }
       ],
       "style": "IPY_MODEL_96bf4d5c073a4911a788ec027adaea57"
      }
     },
     "41242cff09ac4ab1b980085c74c080f3": {
      "model_module": "@jupyter-widgets/output",
      "model_module_version": "1.0.0",
      "model_name": "OutputModel",
      "state": {
       "layout": "IPY_MODEL_ada1e1802c574800aad15fca562ec60e"
      }
     },
     "412cb7a97805430194c24553fe213363": {
      "model_module": "@jupyter-widgets/base",
      "model_module_version": "1.2.0",
      "model_name": "LayoutModel",
      "state": {}
     },
     "41341a56eede43e1b79ce5fc4510e41a": {
      "model_module": "@jupyter-widgets/controls",
      "model_module_version": "1.5.0",
      "model_name": "TextModel",
      "state": {
       "description": "aks_service_name",
       "layout": "IPY_MODEL_462ff5076b88445ea47d3510ac6fe226",
       "placeholder": "AKS Service Name",
       "style": "IPY_MODEL_7b3144f80974497eb7ab5dfc49b748e0",
       "value": "aksservice2"
      }
     },
     "41a2357077944320ae7f3915e7572c6b": {
      "model_module": "@jupyter-widgets/controls",
      "model_module_version": "1.5.0",
      "model_name": "TextModel",
      "state": {
       "description": "workspace_region",
       "layout": "IPY_MODEL_c290b7d983014712a64ab6faf0d4f429",
       "placeholder": "Azure ML Workspace Region",
       "style": "IPY_MODEL_fd37c0af771e40809848b1cfd1e770c9",
       "value": "eastus"
      }
     },
     "41b2e48108f944d79c6f3ed2473afa7e": {
      "model_module": "@jupyter-widgets/controls",
      "model_module_version": "1.5.0",
      "model_name": "DescriptionStyleModel",
      "state": {
       "description_width": ""
      }
     },
     "41b30e8687bd45878ec08402af515642": {
      "model_module": "@jupyter-widgets/base",
      "model_module_version": "1.2.0",
      "model_name": "LayoutModel",
      "state": {}
     },
     "41d010b9d3cd42fc909277b4d80369a5": {
      "model_module": "@jupyter-widgets/controls",
      "model_module_version": "1.5.0",
      "model_name": "DescriptionStyleModel",
      "state": {
       "description_width": ""
      }
     },
     "41d76684fcbe46a58065095a3467d5f5": {
      "model_module": "@jupyter-widgets/base",
      "model_module_version": "1.2.0",
      "model_name": "LayoutModel",
      "state": {}
     },
     "41f7c3140d6b42509f6d3cfdf130f5a5": {
      "model_module": "@jupyter-widgets/controls",
      "model_module_version": "1.5.0",
      "model_name": "DropdownModel",
      "state": {
       "_options_labels": [
        "eastus",
        "eastus2",
        "canadacentral",
        "centralus",
        "northcentralus",
        "southcentralus",
        "westcentralus",
        "westus",
        "westus2"
       ],
       "description": "deep_aks_location",
       "index": 0,
       "layout": "IPY_MODEL_1ceba8b713744624916386c537b3218e",
       "style": "IPY_MODEL_45495e42c5a049f1b625aada59f0e2a1"
      }
     },
     "4214474a294948908b45feecd45f0ec8": {
      "model_module": "@jupyter-widgets/controls",
      "model_module_version": "1.5.0",
      "model_name": "DescriptionStyleModel",
      "state": {
       "description_width": ""
      }
     },
     "421815dff1374515a97b8d6e5597b48b": {
      "model_module": "@jupyter-widgets/controls",
      "model_module_version": "1.5.0",
      "model_name": "TextModel",
      "state": {
       "description": "aks_service_name",
       "layout": "IPY_MODEL_c2567f829d2d48928ebb0d634434860d",
       "placeholder": "AKS Service Name",
       "style": "IPY_MODEL_440bd68e28ec4f4eb8e596d99070cc5d",
       "value": "aksservice2"
      }
     },
     "4221aaab838a4795b1c1a92d37edb09a": {
      "model_module": "@jupyter-widgets/controls",
      "model_module_version": "1.5.0",
      "model_name": "HBoxModel",
      "state": {
       "children": [
        "IPY_MODEL_188e86c73e6b492986035c7cdc24d763"
       ],
       "layout": "IPY_MODEL_08421a7003a6400496d5b30e5cb2bc10"
      }
     },
     "4228c497e81749949792212870de8733": {
      "model_module": "@jupyter-widgets/base",
      "model_module_version": "1.2.0",
      "model_name": "LayoutModel",
      "state": {}
     },
     "425ac6f1005f46d48fb8c5730cff2b81": {
      "model_module": "@jupyter-widgets/base",
      "model_module_version": "1.2.0",
      "model_name": "LayoutModel",
      "state": {}
     },
     "42d6104c29d04ebf9d6edff5dc25ba6e": {
      "model_module": "@jupyter-widgets/controls",
      "model_module_version": "1.5.0",
      "model_name": "ButtonModel",
      "state": {
       "description": "Use existing",
       "layout": "IPY_MODEL_709f813180d74b96bc7b4c44eb34fb5f",
       "style": "IPY_MODEL_8da5edbe043b43c6aedc0cb3c3430f92",
       "tooltip": "Use an existing resource."
      }
     },
     "4311c61bddf34a4bb96d0858d9fcd887": {
      "model_module": "@jupyter-widgets/base",
      "model_module_version": "1.2.0",
      "model_name": "LayoutModel",
      "state": {}
     },
     "43618fe414e449babf5caa13f75f81aa": {
      "model_module": "@jupyter-widgets/controls",
      "model_module_version": "1.5.0",
      "model_name": "DescriptionStyleModel",
      "state": {
       "description_width": ""
      }
     },
     "436d1a5df6eb43239a5876b949912c12": {
      "model_module": "@jupyter-widgets/controls",
      "model_module_version": "1.5.0",
      "model_name": "DropdownModel",
      "state": {
       "_options_labels": [
        "eastus",
        "eastus2",
        "canadacentral",
        "centralus",
        "northcentralus",
        "southcentralus",
        "westcentralus",
        "westus",
        "westus2"
       ],
       "description": "deep_aks_location",
       "index": 0,
       "layout": "IPY_MODEL_9d173109217d4675b84f75bc6f902fcc",
       "style": "IPY_MODEL_1984b4c44d8f430aa5835d85f14a9bd1"
      }
     },
     "436e31fa55d14826a24f2cf8fd45dbe7": {
      "model_module": "@jupyter-widgets/base",
      "model_module_version": "1.2.0",
      "model_name": "LayoutModel",
      "state": {}
     },
     "438fea81e402434d8d0e5922bc4ab099": {
      "model_module": "@jupyter-widgets/base",
      "model_module_version": "1.2.0",
      "model_name": "LayoutModel",
      "state": {}
     },
     "4396511a02e3488a95a1b553ee9f2189": {
      "model_module": "@jupyter-widgets/controls",
      "model_module_version": "1.5.0",
      "model_name": "TextModel",
      "state": {
       "description": "subscription_id",
       "layout": "IPY_MODEL_871c8ecc058343e486f367535879f096",
       "placeholder": "Azure Subscription Id",
       "style": "IPY_MODEL_161d864ec3d04663aed8cb8ff43ffd74",
       "value": "0ca618d2-22a8-413a-96d0-0f1b531129c3"
      }
     },
     "43bae8587fdb4bf0934461f1c390db1a": {
      "model_module": "@jupyter-widgets/controls",
      "model_module_version": "1.5.0",
      "model_name": "TextModel",
      "state": {
       "description": "deep_image_name",
       "layout": "IPY_MODEL_b5d4ef5c848e4f50956c89af3beadf74",
       "placeholder": "Docker Container Image Name",
       "style": "IPY_MODEL_3268cd8d4b5a4f9090d46fa62cbf8a99",
       "value": "mydeepimage"
      }
     },
     "43f1f13dbd014a4c9ffb31c145fe3dd6": {
      "model_module": "@jupyter-widgets/controls",
      "model_module_version": "1.5.0",
      "model_name": "TextModel",
      "state": {
       "description": "workspace_name",
       "layout": "IPY_MODEL_0e07c1fbcdc5448d8dd5a0e466b0165c",
       "placeholder": "Azure ML Workspace Name",
       "style": "IPY_MODEL_7f0890d148b4400c891d3a90d418269c",
       "value": "azmlrts-eastus"
      }
     },
     "440bd68e28ec4f4eb8e596d99070cc5d": {
      "model_module": "@jupyter-widgets/controls",
      "model_module_version": "1.5.0",
      "model_name": "DescriptionStyleModel",
      "state": {
       "description_width": ""
      }
     },
     "445a31756b3e412799ed15a0ec393352": {
      "model_module": "@jupyter-widgets/controls",
      "model_module_version": "1.5.0",
      "model_name": "DropdownModel",
      "state": {
       "_options_labels": [
        "eastus",
        "eastus2",
        "canadacentral",
        "centralus",
        "northcentralus",
        "southcentralus",
        "westcentralus",
        "westus",
        "westus2"
       ],
       "description": "workspace_region:",
       "index": 0,
       "layout": "IPY_MODEL_32dd2c23f59346bca1f2e8b686ace5f1",
       "style": "IPY_MODEL_ee541591fce54d3eaa6b8914f3134f92"
      }
     },
     "4466185d83bb404dad39a6ac131c3e11": {
      "model_module": "@jupyter-widgets/base",
      "model_module_version": "1.2.0",
      "model_name": "LayoutModel",
      "state": {}
     },
     "448062212edf4551a6c22021fd05ffd2": {
      "model_module": "@jupyter-widgets/controls",
      "model_module_version": "1.5.0",
      "model_name": "DescriptionStyleModel",
      "state": {
       "description_width": ""
      }
     },
     "44a6da833e2c4c19b641550f7d416fa3": {
      "model_module": "@jupyter-widgets/controls",
      "model_module_version": "1.5.0",
      "model_name": "DescriptionStyleModel",
      "state": {
       "description_width": ""
      }
     },
     "44b84b0d42934932b596055d2e5dd957": {
      "model_module": "@jupyter-widgets/base",
      "model_module_version": "1.2.0",
      "model_name": "LayoutModel",
      "state": {}
     },
     "44c10b648b204bf69496986a07a24a82": {
      "model_module": "@jupyter-widgets/base",
      "model_module_version": "1.2.0",
      "model_name": "LayoutModel",
      "state": {}
     },
     "44ca8c53aa594230b6513dfb98a961bd": {
      "model_module": "@jupyter-widgets/base",
      "model_module_version": "1.2.0",
      "model_name": "LayoutModel",
      "state": {}
     },
     "44deb8483b15441ba7cce7c46858ec7a": {
      "model_module": "@jupyter-widgets/controls",
      "model_module_version": "1.5.0",
      "model_name": "DescriptionStyleModel",
      "state": {
       "description_width": ""
      }
     },
     "44e4dfb42c5e435cbaf046f2b0f1241f": {
      "model_module": "@jupyter-widgets/controls",
      "model_module_version": "1.5.0",
      "model_name": "DescriptionStyleModel",
      "state": {
       "description_width": ""
      }
     },
     "44e70d4eded643eb89c920cdbe3594fc": {
      "model_module": "@jupyter-widgets/controls",
      "model_module_version": "1.5.0",
      "model_name": "ButtonStyleModel",
      "state": {}
     },
     "44ed42ee464f492c86e067031bb819b1": {
      "model_module": "@jupyter-widgets/controls",
      "model_module_version": "1.5.0",
      "model_name": "ButtonStyleModel",
      "state": {}
     },
     "4510aa6364264c0bbf662a2cc4a6318b": {
      "model_module": "@jupyter-widgets/base",
      "model_module_version": "1.2.0",
      "model_name": "LayoutModel",
      "state": {}
     },
     "4518c730673041e38f9af55c25585d15": {
      "model_module": "@jupyter-widgets/controls",
      "model_module_version": "1.5.0",
      "model_name": "DescriptionStyleModel",
      "state": {
       "description_width": ""
      }
     },
     "45495e42c5a049f1b625aada59f0e2a1": {
      "model_module": "@jupyter-widgets/controls",
      "model_module_version": "1.5.0",
      "model_name": "DescriptionStyleModel",
      "state": {
       "description_width": ""
      }
     },
     "455004d91a414eca84ee80607e22eaf1": {
      "model_module": "@jupyter-widgets/controls",
      "model_module_version": "1.5.0",
      "model_name": "TextModel",
      "state": {
       "description": "resource_group",
       "layout": "IPY_MODEL_7d121d062d014d2a8bdd0e87d0a79754",
       "placeholder": "Azure Resource Group Name",
       "style": "IPY_MODEL_9f154fe7a1fe438cb5ff13bd019bf59d",
       "value": "azmlrts-eastus-stable"
      }
     },
     "45585b5e99f84a24a7dbf94c1e0250b1": {
      "model_module": "@jupyter-widgets/base",
      "model_module_version": "1.2.0",
      "model_name": "LayoutModel",
      "state": {}
     },
     "45d525ec21fd445fb8f708b94d86bf86": {
      "model_module": "@jupyter-widgets/base",
      "model_module_version": "1.2.0",
      "model_name": "LayoutModel",
      "state": {}
     },
     "45e490da41174457aaf298ef5d391eb8": {
      "model_module": "@jupyter-widgets/base",
      "model_module_version": "1.2.0",
      "model_name": "LayoutModel",
      "state": {}
     },
     "45f60de78bd343c887d3acfcf27e08ec": {
      "model_module": "@jupyter-widgets/base",
      "model_module_version": "1.2.0",
      "model_name": "LayoutModel",
      "state": {}
     },
     "4603e884f92f4b78ac9cb8e28c782254": {
      "model_module": "@jupyter-widgets/controls",
      "model_module_version": "1.5.0",
      "model_name": "ButtonStyleModel",
      "state": {}
     },
     "4603f2f6b9214f019e8d94606aec0379": {
      "model_module": "@jupyter-widgets/controls",
      "model_module_version": "1.5.0",
      "model_name": "ButtonStyleModel",
      "state": {}
     },
     "4613f09759174465a4ad0414ac5edbb4": {
      "model_module": "@jupyter-widgets/controls",
      "model_module_version": "1.5.0",
      "model_name": "DropdownModel",
      "state": {
       "_options_labels": [
        "eastus",
        "eastus2",
        "canadacentral",
        "centralus",
        "northcentralus",
        "southcentralus",
        "westcentralus",
        "westus",
        "westus2"
       ],
       "description": "aks_location",
       "index": 0,
       "layout": "IPY_MODEL_a18a3b2a829540e28634f91d6483be97",
       "style": "IPY_MODEL_f512ebc1643e475bab45b088af91f51d"
      }
     },
     "461b0223c9cf44078b7ce55db3f81953": {
      "model_module": "@jupyter-widgets/base",
      "model_module_version": "1.2.0",
      "model_name": "LayoutModel",
      "state": {}
     },
     "462ff5076b88445ea47d3510ac6fe226": {
      "model_module": "@jupyter-widgets/base",
      "model_module_version": "1.2.0",
      "model_name": "LayoutModel",
      "state": {}
     },
     "465e94bcb18b4530b40dc2e6017f2ef7": {
      "model_module": "@jupyter-widgets/base",
      "model_module_version": "1.2.0",
      "model_name": "LayoutModel",
      "state": {}
     },
     "4694b991d08647cba7ca1d0dabccabba": {
      "model_module": "@jupyter-widgets/base",
      "model_module_version": "1.2.0",
      "model_name": "LayoutModel",
      "state": {}
     },
     "46a7ff2dd0ed4157936d5ad029964dc8": {
      "model_module": "@jupyter-widgets/base",
      "model_module_version": "1.2.0",
      "model_name": "LayoutModel",
      "state": {}
     },
     "46bd8063adc04200993181569c5dfc79": {
      "model_module": "@jupyter-widgets/base",
      "model_module_version": "1.2.0",
      "model_name": "LayoutModel",
      "state": {}
     },
     "471c9b5a884e4dff88bd6b5e6557c21b": {
      "model_module": "@jupyter-widgets/controls",
      "model_module_version": "1.5.0",
      "model_name": "HBoxModel",
      "state": {
       "children": [
        "IPY_MODEL_a30c38a0178a45d899684b87fde37a85",
        "IPY_MODEL_8b6f90e0f06f416e87550130c3f0f659"
       ],
       "layout": "IPY_MODEL_d19385c51a8249a1a6928c41b2a57a60"
      }
     },
     "471e3d8255fc4094b5f28cde887380ba": {
      "model_module": "@jupyter-widgets/base",
      "model_module_version": "1.2.0",
      "model_name": "LayoutModel",
      "state": {}
     },
     "472c150fcd3046eab9a019b26ed5569a": {
      "model_module": "@jupyter-widgets/base",
      "model_module_version": "1.2.0",
      "model_name": "LayoutModel",
      "state": {}
     },
     "47454dda558f4265a4faa781b987236f": {
      "model_module": "@jupyter-widgets/controls",
      "model_module_version": "1.5.0",
      "model_name": "DescriptionStyleModel",
      "state": {
       "description_width": ""
      }
     },
     "4748772b4dab47d4902d449b935d847d": {
      "model_module": "@jupyter-widgets/base",
      "model_module_version": "1.2.0",
      "model_name": "LayoutModel",
      "state": {}
     },
     "4754e2bfce424353a824b43d560e98ff": {
      "model_module": "@jupyter-widgets/base",
      "model_module_version": "1.2.0",
      "model_name": "LayoutModel",
      "state": {}
     },
     "47adbd2f48e34a2aba3f88fc3802a931": {
      "model_module": "@jupyter-widgets/controls",
      "model_module_version": "1.5.0",
      "model_name": "DescriptionStyleModel",
      "state": {
       "description_width": ""
      }
     },
     "47d9df3f10704a82906f37d2029ba267": {
      "model_module": "@jupyter-widgets/base",
      "model_module_version": "1.2.0",
      "model_name": "LayoutModel",
      "state": {}
     },
     "47dfb07a03104791a5b80414235fc525": {
      "model_module": "@jupyter-widgets/controls",
      "model_module_version": "1.5.0",
      "model_name": "TextModel",
      "state": {
       "description": "deep_image_name",
       "layout": "IPY_MODEL_f58d5da4ec1e4b88832e6141cf1f9c12",
       "placeholder": "Docker Container Image Name",
       "style": "IPY_MODEL_4f3beaa00a0142498e47cde05ef53b55",
       "value": "mydeepimage"
      }
     },
     "47f301467ff342fe918a35502574d102": {
      "model_module": "@jupyter-widgets/base",
      "model_module_version": "1.2.0",
      "model_name": "LayoutModel",
      "state": {}
     },
     "4802e9b1526d4bf9ba05c0110e5fa1ef": {
      "model_module": "@jupyter-widgets/base",
      "model_module_version": "1.2.0",
      "model_name": "LayoutModel",
      "state": {}
     },
     "481ac4cecd21441e894a1d7dcffec35d": {
      "model_module": "@jupyter-widgets/controls",
      "model_module_version": "1.5.0",
      "model_name": "ButtonModel",
      "state": {
       "description": "Use existing",
       "layout": "IPY_MODEL_fe8f78176afa470bbb0b503bb3411b84",
       "style": "IPY_MODEL_936be6918c134a85b70a3c6422d8c750",
       "tooltip": "Use an existing resource."
      }
     },
     "486750a7168b4475bd32486ceefba973": {
      "model_module": "@jupyter-widgets/base",
      "model_module_version": "1.2.0",
      "model_name": "LayoutModel",
      "state": {}
     },
     "486d449d84a64af09a4fa1408e3984bf": {
      "model_module": "@jupyter-widgets/base",
      "model_module_version": "1.2.0",
      "model_name": "LayoutModel",
      "state": {}
     },
     "486d6e54da074c84a1c43617a9a103bb": {
      "model_module": "@jupyter-widgets/controls",
      "model_module_version": "1.5.0",
      "model_name": "TextModel",
      "state": {
       "description": "aks_location",
       "layout": "IPY_MODEL_de5446c378dd4f6dac84a69f2d16de97",
       "placeholder": "AKS Azure Region",
       "style": "IPY_MODEL_2898bf48b4f543248fefa4eb6ac58379",
       "value": "eastus"
      }
     },
     "48851af0d63e46038be5c770825fb979": {
      "model_module": "@jupyter-widgets/controls",
      "model_module_version": "1.5.0",
      "model_name": "DropdownModel",
      "state": {
       "_options_labels": [
        "eastus",
        "eastus2",
        "canadacentral",
        "centralus",
        "northcentralus",
        "southcentralus",
        "westcentralus",
        "westus",
        "westus2"
       ],
       "description": "workspace_region:",
       "index": 0,
       "layout": "IPY_MODEL_ebecc2d22029459a95679a02c2c20501",
       "style": "IPY_MODEL_35ffe8e806c94a26ad2c732e330efd77"
      }
     },
     "489fbae67773429196e0ea4cd53e7541": {
      "model_module": "@jupyter-widgets/controls",
      "model_module_version": "1.5.0",
      "model_name": "DescriptionStyleModel",
      "state": {
       "description_width": ""
      }
     },
     "48a0fad18fcd47e79ab7a9827b5ecf9d": {
      "model_module": "@jupyter-widgets/controls",
      "model_module_version": "1.5.0",
      "model_name": "ButtonStyleModel",
      "state": {}
     },
     "48c90a68351a4ba19f4c903526450da8": {
      "model_module": "@jupyter-widgets/base",
      "model_module_version": "1.2.0",
      "model_name": "LayoutModel",
      "state": {}
     },
     "4921dbb1485841f5bcec655a6699f0a9": {
      "model_module": "@jupyter-widgets/base",
      "model_module_version": "1.2.0",
      "model_name": "LayoutModel",
      "state": {}
     },
     "4937c1cac3e1420794acc173ca600976": {
      "model_module": "@jupyter-widgets/controls",
      "model_module_version": "1.5.0",
      "model_name": "TextModel",
      "state": {
       "description": "image_name",
       "layout": "IPY_MODEL_c138097029ba4326bf4f99274a9dee52",
       "placeholder": "Docker Container Image Name",
       "style": "IPY_MODEL_70f014febea949f6aa507d9f7e0bc080",
       "value": "dciboimage"
      }
     },
     "49437451d6fe4568ab78d91ed2b52697": {
      "model_module": "@jupyter-widgets/controls",
      "model_module_version": "1.5.0",
      "model_name": "HBoxModel",
      "state": {
       "children": [
        "IPY_MODEL_b3a1e8e4a17045c4bd51151fe7ae7a48"
       ],
       "layout": "IPY_MODEL_f92dec5a02f64faabc659584e416c3f0"
      }
     },
     "496d5220c2e244babaff2ca2717d1259": {
      "model_module": "@jupyter-widgets/controls",
      "model_module_version": "1.5.0",
      "model_name": "DescriptionStyleModel",
      "state": {
       "description_width": ""
      }
     },
     "49906dcebd6647659c6d69acf021efb0": {
      "model_module": "@jupyter-widgets/base",
      "model_module_version": "1.2.0",
      "model_name": "LayoutModel",
      "state": {}
     },
     "49b33cf8f6564f82b026833e98f4e05e": {
      "model_module": "@jupyter-widgets/controls",
      "model_module_version": "1.5.0",
      "model_name": "DescriptionStyleModel",
      "state": {
       "description_width": ""
      }
     },
     "49b3f6e6cf334f04b033ac8b1f26c8e4": {
      "model_module": "@jupyter-widgets/controls",
      "model_module_version": "1.5.0",
      "model_name": "VBoxModel",
      "state": {
       "children": [
        "IPY_MODEL_7f6cd4a8b321464290a8637a4b7d15fe",
        "IPY_MODEL_51ec0e0b220c48b0aea810b819cc71eb",
        "IPY_MODEL_ac9dfbef53da4ec69b7c61e37c05e7fc",
        "IPY_MODEL_06d9d936620947d795534d59db3e759e",
        "IPY_MODEL_d216cdd7d7de470a9bce3d92d49e3347",
        "IPY_MODEL_6fd81114f73c4dceb6de9cb26f743d43",
        "IPY_MODEL_621ced9c496c4e9f8a04431dfaa0abc0",
        "IPY_MODEL_8fa6b89addab4c05873cfece256c68b7",
        "IPY_MODEL_89b3c04caac44415bdde21c43d63c491",
        "IPY_MODEL_944976d6b9564e9095172b80501854c7",
        "IPY_MODEL_aa9d688218e7407fa4f5222826d15ec0",
        "IPY_MODEL_2680d93109b44e468a2df1fafe22cf85",
        "IPY_MODEL_1e82a4aafa9a431ca1621f0994324ee5",
        "IPY_MODEL_bed4f2b568bc4aa6abb6569aee1140de",
        "IPY_MODEL_657109cc510742289831ce92c7b62732",
        "IPY_MODEL_9569ce0c779d4f938031bead39f383a6",
        "IPY_MODEL_38104c1d1a0c4c70a218b529cee32d90",
        "IPY_MODEL_ec57279fb85d47f5a48017979a350437",
        "IPY_MODEL_7c57c1b3287b4b529cfdc2dfc2e6ff9d"
       ],
       "layout": "IPY_MODEL_5a9bd2718fb14b37907b319c9f29f4ca"
      }
     },
     "49beee5dd6c1489db4ae6766d7b00c0c": {
      "model_module": "@jupyter-widgets/controls",
      "model_module_version": "1.5.0",
      "model_name": "ButtonStyleModel",
      "state": {}
     },
     "49ca6d399f3b4ee190d8dd3089bc28dc": {
      "model_module": "@jupyter-widgets/controls",
      "model_module_version": "1.5.0",
      "model_name": "ButtonModel",
      "state": {
       "description": "Save Upload",
       "icon": "check",
       "layout": "IPY_MODEL_d2042331ba3d425eb3442d12fd763b75",
       "style": "IPY_MODEL_e92b476422904725b5fc63fda693447f",
       "tooltip": "Click to save settings to file."
      }
     },
     "49e5c812e6504578811270493ee64872": {
      "model_module": "@jupyter-widgets/controls",
      "model_module_version": "1.5.0",
      "model_name": "VBoxModel",
      "state": {
       "children": [
        "IPY_MODEL_63fbc38aec5243ab9031109e30d03ce9",
        "IPY_MODEL_c51ed8772bd144c5bd42145f8378c5d8",
        "IPY_MODEL_7d7579da457f412991a0119e4f445b6b",
        "IPY_MODEL_455004d91a414eca84ee80607e22eaf1",
        "IPY_MODEL_b8410af5f2524ad9863ca14e619189c3",
        "IPY_MODEL_7fcfc26b1be542b98916014bfa02e5e3",
        "IPY_MODEL_a2216dfcf9e1487c88edc684bd2ae8a8",
        "IPY_MODEL_41341a56eede43e1b79ce5fc4510e41a",
        "IPY_MODEL_0366fa69e6a54552b7ddcf61b9d3e5ab",
        "IPY_MODEL_fa760783d2154f5586075680ea0a2ab2",
        "IPY_MODEL_dd842b58ffff433abbe5d69dfb3b9a3d",
        "IPY_MODEL_80f32a0e301145e0848c95daafdfba05",
        "IPY_MODEL_d6a5e590e1b54635a3de4efe61c5003a",
        "IPY_MODEL_94502b02715a47a4be63e0613f9da9a4",
        "IPY_MODEL_7a189828bfc746139e7d9bddd9145579"
       ],
       "layout": "IPY_MODEL_4466185d83bb404dad39a6ac131c3e11"
      }
     },
     "49f593e6d2df47769403b94888f225c8": {
      "model_module": "@jupyter-widgets/controls",
      "model_module_version": "1.5.0",
      "model_name": "ButtonStyleModel",
      "state": {}
     },
     "49f95064d3af4b6f82e840fee05031ae": {
      "model_module": "@jupyter-widgets/base",
      "model_module_version": "1.2.0",
      "model_name": "LayoutModel",
      "state": {}
     },
     "49ff83b877ed4fc09744ef867638dcef": {
      "model_module": "@jupyter-widgets/base",
      "model_module_version": "1.2.0",
      "model_name": "LayoutModel",
      "state": {}
     },
     "4a1c4af2c7b14b4aae9e397202de5b86": {
      "model_module": "@jupyter-widgets/controls",
      "model_module_version": "1.5.0",
      "model_name": "TextModel",
      "state": {
       "description": "Sub ID:",
       "layout": "IPY_MODEL_dac3322277164cd6827cb019373eb9d1",
       "placeholder": "xxxx-xxxx-xxxx-xxxx-xxxx",
       "style": "IPY_MODEL_67e361145b354eb0bdeede564aeaa7ff",
       "value": "<>"
      }
     },
     "4a250bbc3c4a42e9a965f5a0d113cc38": {
      "model_module": "@jupyter-widgets/base",
      "model_module_version": "1.2.0",
      "model_name": "LayoutModel",
      "state": {}
     },
     "4a70db5f00f44aa9906d7dd20bc395e7": {
      "model_module": "@jupyter-widgets/base",
      "model_module_version": "1.2.0",
      "model_name": "LayoutModel",
      "state": {}
     },
     "4a8690c6d8a14378b61af680732a06b9": {
      "model_module": "@jupyter-widgets/base",
      "model_module_version": "1.2.0",
      "model_name": "LayoutModel",
      "state": {}
     },
     "4a96d77b61a641d7b3a092b6bd91ccd3": {
      "model_module": "@jupyter-widgets/controls",
      "model_module_version": "1.5.0",
      "model_name": "DescriptionStyleModel",
      "state": {
       "description_width": ""
      }
     },
     "4a9956a8dc4345b38d18137e0259506a": {
      "model_module": "@jupyter-widgets/base",
      "model_module_version": "1.2.0",
      "model_name": "LayoutModel",
      "state": {}
     },
     "4ac39c43c0e840ba9094c9b236406ebb": {
      "model_module": "@jupyter-widgets/base",
      "model_module_version": "1.2.0",
      "model_name": "LayoutModel",
      "state": {}
     },
     "4ad9532f0a454a4cafe3401455a5c9dd": {
      "model_module": "@jupyter-widgets/controls",
      "model_module_version": "1.5.0",
      "model_name": "DescriptionStyleModel",
      "state": {
       "description_width": ""
      }
     },
     "4b06a0fd1df44744a8e213c5d2889dc8": {
      "model_module": "@jupyter-widgets/controls",
      "model_module_version": "1.5.0",
      "model_name": "DescriptionStyleModel",
      "state": {
       "description_width": ""
      }
     },
     "4b20ad42e4b6466b92a51181a16ef727": {
      "model_module": "@jupyter-widgets/base",
      "model_module_version": "1.2.0",
      "model_name": "LayoutModel",
      "state": {}
     },
     "4b62208f1b31441fa02658ebe5063dc4": {
      "model_module": "@jupyter-widgets/controls",
      "model_module_version": "1.5.0",
      "model_name": "VBoxModel",
      "state": {
       "children": [
        "IPY_MODEL_03bcdd009c7a489c9be604652989ca79",
        "IPY_MODEL_6e9d71dbc9074f8abac16cb78ce5a1ba",
        "IPY_MODEL_da249aed619f4ee4a1ffe66cc1476811",
        "IPY_MODEL_a4dfae34e4844e0396a635ad2b1f38bc",
        "IPY_MODEL_24097674886349eeba82087cd4133e70",
        "IPY_MODEL_2a1f503a664d4d4eb7dae3a83f060a4f",
        "IPY_MODEL_6766910a48694951a2f4402e6a095f4e",
        "IPY_MODEL_ee09ffb47b61444ca02716150af18e4e",
        "IPY_MODEL_93ef45c19a9b4d8cbf515bd3092a0ee0",
        "IPY_MODEL_0d763bdea14548b1b5d53bef43b24430",
        "IPY_MODEL_2bc8844894a34a969dcf8a8fbc7583d5",
        "IPY_MODEL_7c1e5a37a4174116b9aac375614b386f",
        "IPY_MODEL_bd0c872bb150431b8ca14deed96b7821",
        "IPY_MODEL_879dc0039dde4d4a90fe266b84c85758",
        "IPY_MODEL_f6851d5f405b46439fb8160026ddb0f7"
       ],
       "layout": "IPY_MODEL_bbbfb212a68a4ffdb35700a383ad4fe7"
      }
     },
     "4b7084fb027b4b12ae99df8e7e06e04f": {
      "model_module": "@jupyter-widgets/controls",
      "model_module_version": "1.5.0",
      "model_name": "TextModel",
      "state": {
       "description": "RG ID:",
       "layout": "IPY_MODEL_e3d1f187500d4c0eb78613a3d9608d67",
       "placeholder": "azure-resource-group-name",
       "style": "IPY_MODEL_8d92c14811f340bab3598f8cbefdb867",
       "value": "<>"
      }
     },
     "4b77a13c8ac5413e9efd48d8b15d470e": {
      "model_module": "@jupyter-widgets/base",
      "model_module_version": "1.2.0",
      "model_name": "LayoutModel",
      "state": {}
     },
     "4ba977079af04807a5d419c66a7ba57f": {
      "model_module": "@jupyter-widgets/controls",
      "model_module_version": "1.5.0",
      "model_name": "VBoxModel",
      "state": {
       "children": [
        "IPY_MODEL_e57a60708c1240c58dbd6f758ecc8e59",
        "IPY_MODEL_a67b2e85f9e541759bf9c75ebb5c1a95",
        "IPY_MODEL_7f4e48dfa3df46f59cdd55b3e7c02092",
        "IPY_MODEL_d58cb321bf5c4a3084a97e4ed5c93eec",
        "IPY_MODEL_24f1f371376b416283b01cca67c33a54",
        "IPY_MODEL_63786f1b029e455aafd88e695326a300",
        "IPY_MODEL_2dbd0eb7e66f498a969a5da257368ffc",
        "IPY_MODEL_7936eddffdc0426abe4f039eab232a03",
        "IPY_MODEL_3e3d33a671ae4cddb94ee153220977bb",
        "IPY_MODEL_3717f4c5260f4d16aa33dd3bdb4464bb",
        "IPY_MODEL_f00fed252c3c4f168a8eb50a7be554b2",
        "IPY_MODEL_b810b6a5dd554d538b49d64d950843c1",
        "IPY_MODEL_5dcc6305454240dd93ecaba54cff9b29",
        "IPY_MODEL_436d1a5df6eb43239a5876b949912c12",
        "IPY_MODEL_b6ebf75292a64fa59ae58d3fb5ac8c32"
       ],
       "layout": "IPY_MODEL_9048a0865fbf479fa0e705b3fb018464"
      }
     },
     "4bb1585a2df8462c913b25ecf71a7636": {
      "model_module": "@jupyter-widgets/base",
      "model_module_version": "1.2.0",
      "model_name": "LayoutModel",
      "state": {}
     },
     "4c6d45214949453fbf0750fd84ab591f": {
      "model_module": "@jupyter-widgets/controls",
      "model_module_version": "1.5.0",
      "model_name": "DropdownModel",
      "state": {
       "_options_labels": [
        "AG-CE-AI-GPU-EXPERIMENTATION",
        "AG-AzureCAT-AITao-Test-COGSNonProd-IO1685734",
        "AG-CE-AI-DEVOPS",
        "AG-AzureCAT-AIDemos-Test-COGSNonProd-IO1685734",
        "AGCE-AI-DELETE-Sharat",
        "AG-AzureCAT-AILab-Test-COGSNonProd-IO1685734",
        "Visual Studio Ultimate with MSDN",
        "AG-AzureCAT-AIDataPM-Test-COGSNonProd-IO1685743",
        "AG-AzureCAT-AIDanielle-Test-COGSNonProd-IO1685734",
        "AG-CE-AI-MN-CICOMMERCIAL",
        "AG-CE-AI-MN-INCUBATION",
        "AG-CE-AI-MN-OSS",
        "AG-CE-AI-MN-E2E",
        "AG-CE-AI-MN-HU",
        "AG-CE-AI-MN-SEISMIC",
        "AG-CE-AI-STORAGE",
        "AG-CE-AI-MN-RETAIL",
        "AG-CE-AI-FEEDBACK",
        "AG-CE-AI-MN-LAB",
        "Azure SDK Engineering System",
        "Epic-Edge-ES-ReproVMLab",
        "ES-Stream-Operations",
        "Core-ES-BranchManagement",
        "WDG-ES-RnD-GITTrain",
        "Cosmos_WDG_Core_BnB_100292",
        "Azure Stack Diagnostics CI and Production VaaS",
        "Edge DevTools Client",
        "Azure Stack CSS Labs",
        "AppInsight Test",
        "ddverify",
        "VSEng MadDog-RPS Telemetry",
        "CAT_Eng",
        "RPS-cloud-common-2",
        "Core-ES-WorkManagement",
        "Azure_Maps_MDP_Engineering",
        "Test/Demo - VipSwapper Operations",
        "COSINE-ES-Signing Azure Service",
        "AI Infra Build",
        "AG-CE-E2E-AI",
        "DEMO - how RepDemo are you",
        "ADS Demo Subscription",
        "AzureCAT E2E Blue Steel",
        "Azure Search DEV Service Layer (kmort,miwelsh,bohuan)"
       ],
       "description": "subscription_id",
       "index": 2,
       "layout": "IPY_MODEL_44b84b0d42934932b596055d2e5dd957",
       "style": "IPY_MODEL_775d2a93ba5a4d9daaeef620a37733dc"
      }
     },
     "4c6da92cef4e42aab181a9b9566c530e": {
      "model_module": "@jupyter-widgets/controls",
      "model_module_version": "1.5.0",
      "model_name": "DropdownModel",
      "state": {
       "_options_labels": [
        "eastus",
        "eastus2",
        "canadacentral",
        "centralus",
        "northcentralus",
        "southcentralus",
        "westcentralus",
        "westus",
        "westus2"
       ],
       "description": "workspace_region",
       "index": 0,
       "layout": "IPY_MODEL_768d7fa5d68f40b294a16176a47ab691",
       "style": "IPY_MODEL_86ccefd0412b43cb82f97557e6428b9c"
      }
     },
     "4cd7ebbd917b4c3a9656411d5bb761ed": {
      "model_module": "@jupyter-widgets/controls",
      "model_module_version": "1.5.0",
      "model_name": "TextModel",
      "state": {
       "description": "resource_group",
       "layout": "IPY_MODEL_d52ac43d6d264a6db1d3069ce4d3ef17",
       "placeholder": "Azure Resource Group Name",
       "style": "IPY_MODEL_773696b7bc4d462f8fa58ca65fdefbf3",
       "value": "azmlrts-eastus-stable"
      }
     },
     "4cff4c37b4594bfcac6b1b1d668da8d1": {
      "model_module": "@jupyter-widgets/base",
      "model_module_version": "1.2.0",
      "model_name": "LayoutModel",
      "state": {}
     },
     "4d0bc034e11e4142a9404c1abd2cb1e4": {
      "model_module": "@jupyter-widgets/controls",
      "model_module_version": "1.5.0",
      "model_name": "TextModel",
      "state": {
       "description": "resource_group",
       "layout": "IPY_MODEL_4fd5124f8da8488f9f93ec267c919e17",
       "placeholder": "Azure Resource Group Name",
       "style": "IPY_MODEL_b5c9676d8bca4337bd2190fbe0c71828",
       "value": "azmlrts-eastus-stable"
      }
     },
     "4d3392ddf7214907931ca5970271b5af": {
      "model_module": "@jupyter-widgets/controls",
      "model_module_version": "1.5.0",
      "model_name": "DescriptionStyleModel",
      "state": {
       "description_width": ""
      }
     },
     "4d39ffbf4c344b889131e21295fb4665": {
      "model_module": "@jupyter-widgets/controls",
      "model_module_version": "1.5.0",
      "model_name": "TextModel",
      "state": {
       "description": "aks_name",
       "layout": "IPY_MODEL_4b20ad42e4b6466b92a51181a16ef727",
       "placeholder": "AKS Cluster Name",
       "style": "IPY_MODEL_616d1cd5fcf54e1293a1f70c1f83bcc6",
       "value": "akscluster2"
      }
     },
     "4d429bb38a82498d8efb883363bd8ee0": {
      "model_module": "@jupyter-widgets/controls",
      "model_module_version": "1.5.0",
      "model_name": "DropdownModel",
      "state": {
       "_options_labels": [
        "eastus",
        "eastus2",
        "canadacentral",
        "centralus",
        "northcentralus",
        "southcentralus",
        "westcentralus",
        "westus",
        "westus2"
       ],
       "description": "workspace_region:",
       "index": 0,
       "layout": "IPY_MODEL_e7236e10f7da48769db39fdb5b5de501",
       "style": "IPY_MODEL_83b546a3c5404cb183d17c815a551455"
      }
     },
     "4d478af4e45a40f9a4581af7763880d4": {
      "model_module": "@jupyter-widgets/controls",
      "model_module_version": "1.5.0",
      "model_name": "ButtonStyleModel",
      "state": {}
     },
     "4d8be2df40b047b6bc941e7d3f3aa51e": {
      "model_module": "@jupyter-widgets/controls",
      "model_module_version": "1.5.0",
      "model_name": "DropdownModel",
      "state": {
       "_options_labels": [
        "AG-CE-AI-GPU-EXPERIMENTATION",
        "AG-AzureCAT-AITao-Test-COGSNonProd-IO1685734",
        "AG-CE-AI-DEVOPS",
        "AG-AzureCAT-AIDemos-Test-COGSNonProd-IO1685734",
        "AGCE-AI-DELETE-Sharat",
        "AG-AzureCAT-AILab-Test-COGSNonProd-IO1685734",
        "Visual Studio Ultimate with MSDN",
        "AG-AzureCAT-AIDataPM-Test-COGSNonProd-IO1685743",
        "AG-AzureCAT-AIDanielle-Test-COGSNonProd-IO1685734",
        "AG-CE-AI-MN-CICOMMERCIAL",
        "AG-CE-AI-MN-INCUBATION",
        "AG-CE-AI-MN-OSS",
        "AG-CE-AI-MN-E2E",
        "AG-CE-AI-MN-HU",
        "AG-CE-AI-MN-SEISMIC",
        "AG-CE-AI-STORAGE",
        "AG-CE-AI-MN-RETAIL",
        "AG-CE-AI-FEEDBACK",
        "AG-CE-AI-MN-LAB",
        "Azure SDK Engineering System",
        "Epic-Edge-ES-ReproVMLab",
        "ES-Stream-Operations",
        "Core-ES-BranchManagement",
        "WDG-ES-RnD-GITTrain",
        "Cosmos_WDG_Core_BnB_100292",
        "Azure Stack Diagnostics CI and Production VaaS",
        "Edge DevTools Client",
        "Azure Stack CSS Labs",
        "AppInsight Test",
        "ddverify",
        "VSEng MadDog-RPS Telemetry",
        "CAT_Eng",
        "RPS-cloud-common-2",
        "Core-ES-WorkManagement",
        "Azure_Maps_MDP_Engineering",
        "Test/Demo - VipSwapper Operations",
        "COSINE-ES-Signing Azure Service",
        "AI Infra Build",
        "AG-CE-E2E-AI",
        "DEMO - how RepDemo are you",
        "ADS Demo Subscription",
        "AzureCAT E2E Blue Steel",
        "Azure Search DEV Service Layer (kmort,miwelsh,bohuan)"
       ],
       "description": "subscription_id",
       "index": 2,
       "layout": "IPY_MODEL_d220b3b109a5405cac9fc81f4e92787c",
       "style": "IPY_MODEL_ee797b01582e4019bda3ae29896596bd"
      }
     },
     "4daea494bc5b4b909a699f1abe95bf61": {
      "model_module": "@jupyter-widgets/base",
      "model_module_version": "1.2.0",
      "model_name": "LayoutModel",
      "state": {}
     },
     "4db0f9ffdf6f438c9f37ad2bbfa3665f": {
      "model_module": "@jupyter-widgets/controls",
      "model_module_version": "1.5.0",
      "model_name": "TextModel",
      "state": {
       "description": "resource_group",
       "layout": "IPY_MODEL_e507a279447f4a31ad215a0a96390489",
       "placeholder": "Azure Resource Group Name",
       "style": "IPY_MODEL_cc4b5b9bd8a04d9781e23be2b9bc99aa"
      }
     },
     "4dbae93129c0478b82bb4d66f52a42b6": {
      "model_module": "@jupyter-widgets/base",
      "model_module_version": "1.2.0",
      "model_name": "LayoutModel",
      "state": {}
     },
     "4dc5313145f444a6af2c1d287eb258e8": {
      "model_module": "@jupyter-widgets/controls",
      "model_module_version": "1.5.0",
      "model_name": "DescriptionStyleModel",
      "state": {
       "description_width": ""
      }
     },
     "4dcb3c0ef5854a05b160af08163958c6": {
      "model_module": "@jupyter-widgets/base",
      "model_module_version": "1.2.0",
      "model_name": "LayoutModel",
      "state": {}
     },
     "4de9a440a45044d7893dfe0ad1a1d510": {
      "model_module": "@jupyter-widgets/controls",
      "model_module_version": "1.5.0",
      "model_name": "TextModel",
      "state": {
       "description": "node_count",
       "layout": "IPY_MODEL_9776e87d33fe4553b7604196311d0867",
       "placeholder": "number of nodes in Kubernetes cluster",
       "style": "IPY_MODEL_72c2b8bfd62f4335a915ce503b499144",
       "value": "4"
      }
     },
     "4def131cd7484f50942a268ebfac77c7": {
      "model_module": "@jupyter-widgets/controls",
      "model_module_version": "1.5.0",
      "model_name": "DescriptionStyleModel",
      "state": {
       "description_width": ""
      }
     },
     "4e07609085734881977aa7c0bebafa12": {
      "model_module": "@jupyter-widgets/base",
      "model_module_version": "1.2.0",
      "model_name": "LayoutModel",
      "state": {}
     },
     "4e37701928414e83a10610687950d9dd": {
      "model_module": "@jupyter-widgets/controls",
      "model_module_version": "1.5.0",
      "model_name": "TextModel",
      "state": {
       "description": "image_name",
       "layout": "IPY_MODEL_8a54cb3f2e0340deafa31fbb15e3ba2f",
       "placeholder": "Docker Container Image Name",
       "style": "IPY_MODEL_b46edd322e2c4a55b87c5f7d67cc5901",
       "value": "mymlimage2"
      }
     },
     "4e5e42dafcd641a8a5327a1f90654674": {
      "model_module": "@jupyter-widgets/controls",
      "model_module_version": "1.5.0",
      "model_name": "DescriptionStyleModel",
      "state": {
       "description_width": ""
      }
     },
     "4e7a51127d5c4a718d1c2e7fefe33acb": {
      "model_module": "@jupyter-widgets/controls",
      "model_module_version": "1.5.0",
      "model_name": "ButtonStyleModel",
      "state": {}
     },
     "4ea1a0f2185047d3b1f8aa3407320f6b": {
      "model_module": "@jupyter-widgets/controls",
      "model_module_version": "1.5.0",
      "model_name": "VBoxModel",
      "state": {
       "children": [
        "IPY_MODEL_b221f6ce19584f0e9201a9e67fd4130b",
        "IPY_MODEL_d8434c30aa434cd3894a57c288abf155",
        "IPY_MODEL_9919141e1d0d4e52941d35b78ce1507d",
        "IPY_MODEL_35060dd921e740cab8fded49edcc7e13",
        "IPY_MODEL_2177add04e4d4950b3d7ee849719549f",
        "IPY_MODEL_d42baee3b1a04099b172427a37da5db6",
        "IPY_MODEL_3b5ee1485fe9410992fb476cdb794ae8",
        "IPY_MODEL_a660d225b6194a4d82b135ed07d62700",
        "IPY_MODEL_034587fa15bc4bd6b93cc6faf26bcbc5",
        "IPY_MODEL_194b707366fc43408cf9efdeee6be0c6",
        "IPY_MODEL_bbb8e7c2c65f4b19986f47f152d8bdd9",
        "IPY_MODEL_49437451d6fe4568ab78d91ed2b52697",
        "IPY_MODEL_d3124a6c932e4aa285e87d80f5540deb",
        "IPY_MODEL_8e7ee34f19d44b2b9a63a0a60e6ef2c3",
        "IPY_MODEL_0ce5acb8f7f74a11b7a90cf4962b5613",
        "IPY_MODEL_df96de98ef4d4d9a86e3fdde089f053b",
        "IPY_MODEL_1e5a9f201ece46ceb1b25c14b0a27356",
        "IPY_MODEL_a796de21882d4171a6b99b37d7447059"
       ],
       "layout": "IPY_MODEL_5023b97055d442d490fd2057edc655af"
      }
     },
     "4eb3ff62e0ec4978aab89a3a1eb675f5": {
      "model_module": "@jupyter-widgets/base",
      "model_module_version": "1.2.0",
      "model_name": "LayoutModel",
      "state": {}
     },
     "4ed993da9c5f4b8694dbfe19750559c9": {
      "model_module": "@jupyter-widgets/controls",
      "model_module_version": "1.5.0",
      "model_name": "DescriptionStyleModel",
      "state": {
       "description_width": ""
      }
     },
     "4ede4650e57048e2ad03c965e28fdc14": {
      "model_module": "@jupyter-widgets/controls",
      "model_module_version": "1.5.0",
      "model_name": "DescriptionStyleModel",
      "state": {
       "description_width": ""
      }
     },
     "4f3beaa00a0142498e47cde05ef53b55": {
      "model_module": "@jupyter-widgets/controls",
      "model_module_version": "1.5.0",
      "model_name": "DescriptionStyleModel",
      "state": {
       "description_width": ""
      }
     },
     "4fb80c02ffbe4e2cba54b49a212c1577": {
      "model_module": "@jupyter-widgets/base",
      "model_module_version": "1.2.0",
      "model_name": "LayoutModel",
      "state": {}
     },
     "4fbb8666d6f44fb0915025dd08213cc1": {
      "model_module": "@jupyter-widgets/controls",
      "model_module_version": "1.5.0",
      "model_name": "DescriptionStyleModel",
      "state": {
       "description_width": ""
      }
     },
     "4fcebd030db44c47a288e66d9e4a29fa": {
      "model_module": "@jupyter-widgets/controls",
      "model_module_version": "1.5.0",
      "model_name": "DescriptionStyleModel",
      "state": {
       "description_width": ""
      }
     },
     "4fd283b8560f455d9d122a0eaad76e0b": {
      "model_module": "@jupyter-widgets/base",
      "model_module_version": "1.2.0",
      "model_name": "LayoutModel",
      "state": {}
     },
     "4fd5124f8da8488f9f93ec267c919e17": {
      "model_module": "@jupyter-widgets/base",
      "model_module_version": "1.2.0",
      "model_name": "LayoutModel",
      "state": {}
     },
     "4fe20086a5dc4fb28d86e97d693f9003": {
      "model_module": "@jupyter-widgets/controls",
      "model_module_version": "1.5.0",
      "model_name": "DescriptionStyleModel",
      "state": {
       "description_width": ""
      }
     },
     "50029cf31a5c4c26bbbe3ad40629ceb9": {
      "model_module": "@jupyter-widgets/base",
      "model_module_version": "1.2.0",
      "model_name": "LayoutModel",
      "state": {}
     },
     "5023b97055d442d490fd2057edc655af": {
      "model_module": "@jupyter-widgets/base",
      "model_module_version": "1.2.0",
      "model_name": "LayoutModel",
      "state": {}
     },
     "503cb33d66c8413fa4acba6ed63c6432": {
      "model_module": "@jupyter-widgets/controls",
      "model_module_version": "1.5.0",
      "model_name": "DescriptionStyleModel",
      "state": {
       "description_width": ""
      }
     },
     "5051b7b1cab046f0a1e045ed2030b89e": {
      "model_module": "@jupyter-widgets/controls",
      "model_module_version": "1.5.0",
      "model_name": "TextModel",
      "state": {
       "description": "image_name",
       "layout": "IPY_MODEL_568244f8ded646d788ed21bab9b3d38b",
       "placeholder": "Docker Container Image Name",
       "style": "IPY_MODEL_0afa4b23dc6a42418c22431cef01c76c",
       "value": "mymlimage2"
      }
     },
     "505d05f565164ce79b8a96cb9b8a063a": {
      "model_module": "@jupyter-widgets/base",
      "model_module_version": "1.2.0",
      "model_name": "LayoutModel",
      "state": {}
     },
     "507f5d81cdd4462e8e6cd277722f6bb5": {
      "model_module": "@jupyter-widgets/controls",
      "model_module_version": "1.5.0",
      "model_name": "TextModel",
      "state": {
       "description": "num_replicas",
       "layout": "IPY_MODEL_ae45e01c3001445aa74a6390fc3b00d2",
       "placeholder": "number of replicas in Kubernetes cluster",
       "style": "IPY_MODEL_9bfc6a8229b3442b8f98bd57549c3eb6",
       "value": "2"
      }
     },
     "50aa8ea29a944899aa101ff13c2b05be": {
      "model_module": "@jupyter-widgets/base",
      "model_module_version": "1.2.0",
      "model_name": "LayoutModel",
      "state": {}
     },
     "50ba3f2bd9654f93bba9d6575b3b637e": {
      "model_module": "@jupyter-widgets/controls",
      "model_module_version": "1.5.0",
      "model_name": "DescriptionStyleModel",
      "state": {
       "description_width": ""
      }
     },
     "50bbdc0e20fc44079d8cb2c28109c94b": {
      "model_module": "@jupyter-widgets/base",
      "model_module_version": "1.2.0",
      "model_name": "LayoutModel",
      "state": {}
     },
     "50c10640ccc14ab593284284a8117c9b": {
      "model_module": "@jupyter-widgets/controls",
      "model_module_version": "1.5.0",
      "model_name": "DescriptionStyleModel",
      "state": {
       "description_width": ""
      }
     },
     "50c327989c4345e6b73afbfe3654e037": {
      "model_module": "@jupyter-widgets/base",
      "model_module_version": "1.2.0",
      "model_name": "LayoutModel",
      "state": {}
     },
     "50e6f648d6994e30be1c689476e1e12e": {
      "model_module": "@jupyter-widgets/controls",
      "model_module_version": "1.5.0",
      "model_name": "HBoxModel",
      "state": {
       "children": [
        "IPY_MODEL_e3a02cb968c84fa288ca7a0e9dab7544"
       ],
       "layout": "IPY_MODEL_7bad94f00d9d4e43aa88761998503640"
      }
     },
     "50e8769d81084313a42b2c95040b4e86": {
      "model_module": "@jupyter-widgets/controls",
      "model_module_version": "1.5.0",
      "model_name": "VBoxModel",
      "state": {
       "children": [
        "IPY_MODEL_41242cff09ac4ab1b980085c74c080f3",
        "IPY_MODEL_3df4db059a8640f884e3f0c4cf534e3a",
        "IPY_MODEL_99866f5d2af645e9993306ca2151b939",
        "IPY_MODEL_400e97e714b24efdbc21aee81dd2d12b",
        "IPY_MODEL_21898ae5d9dc4e149de68f816e95aefe",
        "IPY_MODEL_2f355624bf4b423089f00375e46baf68",
        "IPY_MODEL_9e903b9540574e44a1a4ca539581496b",
        "IPY_MODEL_1ac4c5548332439b8267020c818a87cc",
        "IPY_MODEL_8efb44ddd7c54caaaf18bc4e41f80e85",
        "IPY_MODEL_f201596c3c334277900e4433e94119a1",
        "IPY_MODEL_47dfb07a03104791a5b80414235fc525",
        "IPY_MODEL_9e2991a3dbdd4698aae6270c59f33a7b",
        "IPY_MODEL_ffca39219c314a409eb25d9d1ebf0959",
        "IPY_MODEL_f1076a7d6f7e4f7383a8c1cf2dc4678e",
        "IPY_MODEL_84424513259945d796774d213cba29c6"
       ],
       "layout": "IPY_MODEL_a4628716e68446b2a92b27368dc9c4be"
      }
     },
     "51085a66ba2b4c9d9aac322f2d2983b8": {
      "model_module": "@jupyter-widgets/controls",
      "model_module_version": "1.5.0",
      "model_name": "DescriptionStyleModel",
      "state": {
       "description_width": ""
      }
     },
     "5114a710578c47698a12152064e08b89": {
      "model_module": "@jupyter-widgets/controls",
      "model_module_version": "1.5.0",
      "model_name": "DescriptionStyleModel",
      "state": {
       "description_width": ""
      }
     },
     "512c155832bd4e52ae760c6e29f38598": {
      "model_module": "@jupyter-widgets/base",
      "model_module_version": "1.2.0",
      "model_name": "LayoutModel",
      "state": {}
     },
     "518ab6239d3547fc9a1e9f4ccb31e449": {
      "model_module": "@jupyter-widgets/base",
      "model_module_version": "1.2.0",
      "model_name": "LayoutModel",
      "state": {}
     },
     "519c8439b52d46079ffc9d4e85d18158": {
      "model_module": "@jupyter-widgets/controls",
      "model_module_version": "1.5.0",
      "model_name": "ButtonModel",
      "state": {
       "description": "Use existing",
       "layout": "IPY_MODEL_5ee4c91d73594cba88bd96f2132662b8",
       "style": "IPY_MODEL_235f0bed5bb148fdaf8dec307b7386b5",
       "tooltip": "Use an existing resource."
      }
     },
     "51ec0e0b220c48b0aea810b819cc71eb": {
      "model_module": "@jupyter-widgets/controls",
      "model_module_version": "1.5.0",
      "model_name": "FileUploadModel",
      "state": {
       "accept": ".yml",
       "description_tooltip": null,
       "layout": "IPY_MODEL_be4c1b7fbd3a4eb9bdc648b76db6f6eb",
       "style": "IPY_MODEL_0d179472abed451eafbf2394e59ecf29"
      }
     },
     "51f06075ca5c400199c821d5a311dde9": {
      "model_module": "@jupyter-widgets/base",
      "model_module_version": "1.2.0",
      "model_name": "LayoutModel",
      "state": {}
     },
     "521f3b7c67cb4b40b9b5d7c15d52111c": {
      "model_module": "@jupyter-widgets/controls",
      "model_module_version": "1.5.0",
      "model_name": "ButtonModel",
      "state": {
       "description": "Overwrite Settings",
       "icon": "check",
       "layout": "IPY_MODEL_ba3b59b2efdc4c0983940bd3772c7f5c",
       "style": "IPY_MODEL_db9dfed0e8d4466ab1f1c3711be70c6f",
       "tooltip": "Click to save settings to file."
      }
     },
     "5223066a53964995a147ad266feded83": {
      "model_module": "@jupyter-widgets/base",
      "model_module_version": "1.2.0",
      "model_name": "LayoutModel",
      "state": {}
     },
     "52284f9b60fd4b66a1a2771ae1bd591a": {
      "model_module": "@jupyter-widgets/controls",
      "model_module_version": "1.5.0",
      "model_name": "ButtonStyleModel",
      "state": {}
     },
     "5246e87589e64404b84c2fe2f80fbddc": {
      "model_module": "@jupyter-widgets/controls",
      "model_module_version": "1.5.0",
      "model_name": "DropdownModel",
      "state": {
       "_options_labels": [
        "AG-CE-AI-GPU-EXPERIMENTATION",
        "AG-AzureCAT-AITao-Test-COGSNonProd-IO1685734",
        "AG-CE-AI-DEVOPS",
        "AG-AzureCAT-AIDemos-Test-COGSNonProd-IO1685734",
        "AGCE-AI-DELETE-Sharat",
        "AG-AzureCAT-AILab-Test-COGSNonProd-IO1685734",
        "Visual Studio Ultimate with MSDN",
        "AG-AzureCAT-AIDataPM-Test-COGSNonProd-IO1685743",
        "AG-AzureCAT-AIDanielle-Test-COGSNonProd-IO1685734",
        "AG-CE-AI-MN-CICOMMERCIAL",
        "AG-CE-AI-MN-INCUBATION",
        "AG-CE-AI-MN-OSS",
        "AG-CE-AI-MN-E2E",
        "AG-CE-AI-MN-HU",
        "AG-CE-AI-MN-SEISMIC",
        "AG-CE-AI-STORAGE",
        "AG-CE-AI-MN-RETAIL",
        "AG-CE-AI-FEEDBACK",
        "AG-CE-AI-MN-LAB",
        "Azure SDK Engineering System",
        "Epic-Edge-ES-ReproVMLab",
        "ES-Stream-Operations",
        "Core-ES-BranchManagement",
        "WDG-ES-RnD-GITTrain",
        "Cosmos_WDG_Core_BnB_100292",
        "Azure Stack Diagnostics CI and Production VaaS",
        "Edge DevTools Client",
        "Azure Stack CSS Labs",
        "AppInsight Test",
        "ddverify",
        "VSEng MadDog-RPS Telemetry",
        "CAT_Eng",
        "RPS-cloud-common-2",
        "Core-ES-WorkManagement",
        "Azure_Maps_MDP_Engineering",
        "Test/Demo - VipSwapper Operations",
        "COSINE-ES-Signing Azure Service",
        "AI Infra Build",
        "AG-CE-E2E-AI",
        "DEMO - how RepDemo are you",
        "ADS Demo Subscription",
        "AzureCAT E2E Blue Steel",
        "Azure Search DEV Service Layer (kmort,miwelsh,bohuan)"
       ],
       "description": "workspace_region:",
       "index": 2,
       "layout": "IPY_MODEL_1f228afa7c7d4d7995e2fca42d484ed1",
       "style": "IPY_MODEL_b2a3164724cb49639cc0e6ad79e000b8"
      }
     },
     "524d041d95bf44409d6e0b4e1481deda": {
      "model_module": "@jupyter-widgets/base",
      "model_module_version": "1.2.0",
      "model_name": "LayoutModel",
      "state": {}
     },
     "5299ced3df3a42ce983be5d6259290bf": {
      "model_module": "@jupyter-widgets/controls",
      "model_module_version": "1.5.0",
      "model_name": "HBoxModel",
      "state": {
       "children": [
        "IPY_MODEL_2bf54f7a8a2b43e7967cd9c0af7ac745"
       ],
       "layout": "IPY_MODEL_027906e1daaf414289b004b6ea432767"
      }
     },
     "529fa2158cc948c784e50906b5329feb": {
      "model_module": "@jupyter-widgets/controls",
      "model_module_version": "1.5.0",
      "model_name": "DescriptionStyleModel",
      "state": {
       "description_width": ""
      }
     },
     "52e143677a2040369954fc2ace0e0464": {
      "model_module": "@jupyter-widgets/base",
      "model_module_version": "1.2.0",
      "model_name": "LayoutModel",
      "state": {}
     },
     "5301327f58974584be3e0240856b3b03": {
      "model_module": "@jupyter-widgets/controls",
      "model_module_version": "1.5.0",
      "model_name": "ButtonModel",
      "state": {
       "description": "Use existing",
       "layout": "IPY_MODEL_6fe60fc58ac747c290e600b635a00ce4",
       "style": "IPY_MODEL_1d81aa4234b64ed2bdd6465e36bdd9c3",
       "tooltip": "Use an existing resource."
      }
     },
     "5304bbfd02b6442894f5ff149ceaff49": {
      "model_module": "@jupyter-widgets/base",
      "model_module_version": "1.2.0",
      "model_name": "LayoutModel",
      "state": {}
     },
     "5321c8b6ad8c4ed28fd67a9afa52b550": {
      "model_module": "@jupyter-widgets/base",
      "model_module_version": "1.2.0",
      "model_name": "LayoutModel",
      "state": {}
     },
     "5333128ca0974668983fc5ebc9eb795b": {
      "model_module": "@jupyter-widgets/base",
      "model_module_version": "1.2.0",
      "model_name": "LayoutModel",
      "state": {}
     },
     "5356d79c78434a61811a78af0b26bf0f": {
      "model_module": "@jupyter-widgets/base",
      "model_module_version": "1.2.0",
      "model_name": "LayoutModel",
      "state": {}
     },
     "539fe0cd712c4aba908ee6d53a087e8d": {
      "model_module": "@jupyter-widgets/controls",
      "model_module_version": "1.5.0",
      "model_name": "TextModel",
      "state": {
       "description": "subscription_id",
       "layout": "IPY_MODEL_51f06075ca5c400199c821d5a311dde9",
       "placeholder": "Azure Subscription Id",
       "style": "IPY_MODEL_ef420bc0fe9942caa60f74e0c01edbc5",
       "value": "0ca618d2-22a8-413a-96d0-0f1b531129c3"
      }
     },
     "53a90824466745989da1c086d7da4474": {
      "model_module": "@jupyter-widgets/base",
      "model_module_version": "1.2.0",
      "model_name": "LayoutModel",
      "state": {}
     },
     "53a919ecc0fb47e5a6f90cefe6084128": {
      "model_module": "@jupyter-widgets/base",
      "model_module_version": "1.2.0",
      "model_name": "LayoutModel",
      "state": {}
     },
     "53ddcd98c6f049df8a66cbb2be6e4876": {
      "model_module": "@jupyter-widgets/base",
      "model_module_version": "1.2.0",
      "model_name": "LayoutModel",
      "state": {}
     },
     "5431b795f0ec4b8288dc421fc46cddd1": {
      "model_module": "@jupyter-widgets/controls",
      "model_module_version": "1.5.0",
      "model_name": "DescriptionStyleModel",
      "state": {
       "description_width": ""
      }
     },
     "5470050cf47a4c57be937369e9a3700b": {
      "model_module": "@jupyter-widgets/controls",
      "model_module_version": "1.5.0",
      "model_name": "ButtonStyleModel",
      "state": {}
     },
     "54b2d9270d844fb2bc816e63ad44a944": {
      "model_module": "@jupyter-widgets/controls",
      "model_module_version": "1.5.0",
      "model_name": "ButtonStyleModel",
      "state": {}
     },
     "54f7de43543c447987234b5ccb3ac3a6": {
      "model_module": "@jupyter-widgets/controls",
      "model_module_version": "1.5.0",
      "model_name": "DescriptionStyleModel",
      "state": {
       "description_width": ""
      }
     },
     "5504eb036d044f55b413592fe550b46c": {
      "model_module": "@jupyter-widgets/base",
      "model_module_version": "1.2.0",
      "model_name": "LayoutModel",
      "state": {}
     },
     "550dde35053c4a36a92867065bee5bb4": {
      "model_module": "@jupyter-widgets/controls",
      "model_module_version": "1.5.0",
      "model_name": "DescriptionStyleModel",
      "state": {
       "description_width": ""
      }
     },
     "5524a53835b34aa78ee34f2035b9d222": {
      "model_module": "@jupyter-widgets/controls",
      "model_module_version": "1.5.0",
      "model_name": "DescriptionStyleModel",
      "state": {
       "description_width": ""
      }
     },
     "5524ce0f82334f3d85a1099b6c59a918": {
      "model_module": "@jupyter-widgets/controls",
      "model_module_version": "1.5.0",
      "model_name": "DescriptionStyleModel",
      "state": {
       "description_width": ""
      }
     },
     "5549f95c25204f88950495e1de1ac01b": {
      "model_module": "@jupyter-widgets/controls",
      "model_module_version": "1.5.0",
      "model_name": "TextModel",
      "state": {
       "description": "deep_aks_name",
       "layout": "IPY_MODEL_c4ea57c2e6d94fab946879f00180b28f",
       "placeholder": "AKS Cluster Name",
       "style": "IPY_MODEL_153365d8a2a64a89baf00169478b3c36",
       "value": "deepakscluster"
      }
     },
     "5575769967e14c8e80ee85d82d5cb13f": {
      "model_module": "@jupyter-widgets/base",
      "model_module_version": "1.2.0",
      "model_name": "LayoutModel",
      "state": {}
     },
     "557aea5e8d3d4692b31644e604098271": {
      "model_module": "@jupyter-widgets/base",
      "model_module_version": "1.2.0",
      "model_name": "LayoutModel",
      "state": {}
     },
     "55b9a08f7a584b20ae0772b69aaec2da": {
      "model_module": "@jupyter-widgets/base",
      "model_module_version": "1.2.0",
      "model_name": "LayoutModel",
      "state": {}
     },
     "55d10ef23f7b44b08f0cc24ec97d4f40": {
      "model_module": "@jupyter-widgets/base",
      "model_module_version": "1.2.0",
      "model_name": "LayoutModel",
      "state": {}
     },
     "55ecab8589344308bee4b362f79ab7a6": {
      "model_module": "@jupyter-widgets/controls",
      "model_module_version": "1.5.0",
      "model_name": "HBoxModel",
      "state": {
       "children": [
        "IPY_MODEL_8dfc3d360d0b42f981ab8d23d7028939",
        "IPY_MODEL_1245caf500a64ce4ba0f1932b132916c"
       ],
       "layout": "IPY_MODEL_b3f39a8bf2754157ad5251b8db36cd87"
      }
     },
     "560693050bf04804b44516a95e6e3149": {
      "model_module": "@jupyter-widgets/controls",
      "model_module_version": "1.5.0",
      "model_name": "HBoxModel",
      "state": {
       "children": [
        "IPY_MODEL_2bdec11df3324f78b0a2187e1b31faee",
        "IPY_MODEL_805746cd89a14e25ab2676f9a21e2194"
       ],
       "layout": "IPY_MODEL_a9fc3603f871423489a91526da03bb18"
      }
     },
     "5610b22b93d84b42a3dceb0109dd3066": {
      "model_module": "@jupyter-widgets/controls",
      "model_module_version": "1.5.0",
      "model_name": "TextModel",
      "state": {
       "description": "aks_service_name",
       "layout": "IPY_MODEL_1945ffe20093439d892a43c93372958d",
       "placeholder": "AKS Service Name",
       "style": "IPY_MODEL_f3c50b8b93b84907b61f297c4215a22d",
       "value": "aksservice2"
      }
     },
     "56276b9591e24bff883d69fd06b59a21": {
      "model_module": "@jupyter-widgets/controls",
      "model_module_version": "1.5.0",
      "model_name": "ButtonStyleModel",
      "state": {}
     },
     "5651a8b9a8a0435cb71e565524dbd877": {
      "model_module": "@jupyter-widgets/base",
      "model_module_version": "1.2.0",
      "model_name": "LayoutModel",
      "state": {}
     },
     "567c20df40fa4d6296e2f450f8b3a132": {
      "model_module": "@jupyter-widgets/base",
      "model_module_version": "1.2.0",
      "model_name": "LayoutModel",
      "state": {}
     },
     "568244f8ded646d788ed21bab9b3d38b": {
      "model_module": "@jupyter-widgets/base",
      "model_module_version": "1.2.0",
      "model_name": "LayoutModel",
      "state": {}
     },
     "56a2b6e974be4fc78e40f38bf8aa2fb2": {
      "model_module": "@jupyter-widgets/base",
      "model_module_version": "1.2.0",
      "model_name": "LayoutModel",
      "state": {}
     },
     "56b6819d34af4bdba35922324fbea4fa": {
      "model_module": "@jupyter-widgets/base",
      "model_module_version": "1.2.0",
      "model_name": "LayoutModel",
      "state": {}
     },
     "56daa3495b534ed7bd6e1a251a832616": {
      "model_module": "@jupyter-widgets/controls",
      "model_module_version": "1.5.0",
      "model_name": "ButtonModel",
      "state": {
       "description": "Use existing",
       "layout": "IPY_MODEL_883aee52c79f42cf8172db201616d61c",
       "style": "IPY_MODEL_00d49da49f0944078a53f6eeff0d6af1",
       "tooltip": "Use an existing resource."
      }
     },
     "56e05031498f4347b3ce3d537c499fd2": {
      "model_module": "@jupyter-widgets/controls",
      "model_module_version": "1.5.0",
      "model_name": "DescriptionStyleModel",
      "state": {
       "description_width": ""
      }
     },
     "56eabbac739642fe9d4fe13c93587836": {
      "model_module": "@jupyter-widgets/controls",
      "model_module_version": "1.5.0",
      "model_name": "ButtonStyleModel",
      "state": {}
     },
     "56ed0e4c4ca84de08b62fe01eabe687f": {
      "model_module": "@jupyter-widgets/controls",
      "model_module_version": "1.5.0",
      "model_name": "ButtonModel",
      "state": {
       "description": "Use existing",
       "layout": "IPY_MODEL_fcd9ff4d491a42f783f924132c91e461",
       "style": "IPY_MODEL_630ef818c71a45d194e78057bd5c22cf",
       "tooltip": "Use an existing resource."
      }
     },
     "5705ed7a066749b4b0923a0e20a3e91b": {
      "model_module": "@jupyter-widgets/controls",
      "model_module_version": "1.5.0",
      "model_name": "TextModel",
      "state": {
       "description": "aks_name",
       "layout": "IPY_MODEL_635fa9e5da264cbeabe7f2c9c6486e71",
       "placeholder": "AKS Cluster Name",
       "style": "IPY_MODEL_8f6bc6c11afd426aacb5a8a7c051c7aa",
       "value": "akscluster2"
      }
     },
     "5707f62936894430b4ed6f37f22e8218": {
      "model_module": "@jupyter-widgets/controls",
      "model_module_version": "1.5.0",
      "model_name": "DescriptionStyleModel",
      "state": {
       "description_width": ""
      }
     },
     "57151219c79a4d63b618faa693f3ee72": {
      "model_module": "@jupyter-widgets/base",
      "model_module_version": "1.2.0",
      "model_name": "LayoutModel",
      "state": {}
     },
     "575b4e4e49354451ab757fb461ed058e": {
      "model_module": "@jupyter-widgets/base",
      "model_module_version": "1.2.0",
      "model_name": "LayoutModel",
      "state": {}
     },
     "578bdeef15ea4bd096a1199b723060f6": {
      "model_module": "@jupyter-widgets/base",
      "model_module_version": "1.2.0",
      "model_name": "LayoutModel",
      "state": {}
     },
     "57a78349017a4b5baec0c966310845eb": {
      "model_module": "@jupyter-widgets/controls",
      "model_module_version": "1.5.0",
      "model_name": "DescriptionStyleModel",
      "state": {
       "description_width": ""
      }
     },
     "57b52158401f4ec18f4ef8ee8ccf91da": {
      "buffers": [
       {
        "data": "cHJvamVjdF9uYW1lOiBhaS1kZWVwLXJlYWx0aW1lLXNjb3JlDQpzZXR0aW5nczoNCi0gc3Vic2NyaXB0aW9uX2lkOg0KICAtIGRlc2NyaXB0aW9uOiBBenVyZSBTdWJzY3JpcHRpb24gSWQNCiAgLSB2YWx1ZTogMGNhNjE4ZDItMjJhOC00MTNhLTk2ZDAtMGYxYjUzMTEyOWMzDQotIHJlc291cmNlX2dyb3VwOg0KICAtIGRlc2NyaXB0aW9uOiBBenVyZSBSZXNvdXJjZSBHcm91cCBOYW1lDQogIC0gdmFsdWU6IGF6bWxydHMtZWFzdHVzLXN0YWJsZQ0KLSB3b3Jrc3BhY2VfbmFtZToNCiAgLSBkZXNjcmlwdGlvbjogQXp1cmUgTUwgV29ya3NwYWNlIE5hbWUNCiAgLSB2YWx1ZTogYXptbHJ0cy1lYXN0dXMNCi0gd29ya3NwYWNlX3JlZ2lvbjoNCiAgLSBkZXNjcmlwdGlvbjogQXp1cmUgTUwgV29ya3NwYWNlIFJlZ2lvbg0KICAtIHZhbHVlOiBlYXN0dXMNCi0gaW1hZ2VfbmFtZToNCiAgLSBkZXNjcmlwdGlvbjogRG9ja2VyIENvbnRhaW5lciBJbWFnZSBOYW1lDQogIC0gdmFsdWU6IG15bWxpbWFnZTINCi0gYWtzX3NlcnZpY2VfbmFtZToNCiAgLSBkZXNjcmlwdGlvbjogQUtTIFNlcnZpY2UgTmFtZQ0KICAtIHZhbHVlOiBha3NzZXJ2aWNlMg0KLSBha3NfbG9jYXRpb246DQogIC0gZGVzY3JpcHRpb246IEFLUyBBenVyZSBSZWdpb24NCiAgLSB2YWx1ZTogZWFzdHVzDQotIGFrc19uYW1lOg0KICAtIGRlc2NyaXB0aW9uOiBBS1MgQ2x1c3RlciBOYW1lDQogIC0gdmFsdWU6IGFrc2NsdXN0ZXIyDQotIGRlZXBfaW1hZ2VfbmFtZToNCiAgLSBkZXNjcmlwdGlvbjogRG9ja2VyIENvbnRhaW5lciBJbWFnZSBOYW1lDQogIC0gdmFsdWU6IG15ZGVlcGltYWdlDQotIGRlZXBfYWtzX3NlcnZpY2VfbmFtZToNCiAgLSBkZXNjcmlwdGlvbjogQUtTIFNlcnZpY2UgTmFtZQ0KICAtIHZhbHVlOiBkZWVwYWtzc2VydmljZQ0KLSBkZWVwX2Frc19uYW1lOg0KICAtIGRlc2NyaXB0aW9uOiBBS1MgQ2x1c3RlciBOYW1lDQogIC0gdmFsdWU6IGRlZXBha3NjbHVzdGVyDQotIGRlZXBfYWtzX2xvY2F0aW9uOg0KICAtIGRlc2NyaXB0aW9uOiBBS1MgQXp1cmUgUmVnaW9uDQogIC0gdmFsdWU6IGVhc3R1cw0K",
        "encoding": "base64",
        "path": [
         "data",
         0
        ]
       }
      ],
      "model_module": "@jupyter-widgets/controls",
      "model_module_version": "1.5.0",
      "model_name": "FileUploadModel",
      "state": {
       "_counter": 1,
       "accept": ".yml",
       "data": [
        {}
       ],
       "description_tooltip": null,
       "layout": "IPY_MODEL_269e6e0ad28a4b258835da4fa698ba9c",
       "metadata": [
        {
         "lastModified": 1583358839198,
         "name": "project.yml",
         "size": 1068,
         "type": ""
        }
       ],
       "style": "IPY_MODEL_9afa16c8d59648e9bf79f420d66465ff"
      }
     },
     "57e1c290998c4b3f8c73706c60f56f56": {
      "model_module": "@jupyter-widgets/controls",
      "model_module_version": "1.5.0",
      "model_name": "DropdownModel",
      "state": {
       "_options_labels": [
        "eastus",
        "eastus2",
        "canadacentral",
        "centralus",
        "northcentralus",
        "southcentralus",
        "westcentralus",
        "westus",
        "westus2"
       ],
       "description": "workspace_region:",
       "index": 0,
       "layout": "IPY_MODEL_d6fdf281bc284e5fb0ae06ed80b3c79a",
       "style": "IPY_MODEL_4fe20086a5dc4fb28d86e97d693f9003"
      }
     },
     "57ef2408aefa40d29134165c2f0c3470": {
      "model_module": "@jupyter-widgets/base",
      "model_module_version": "1.2.0",
      "model_name": "LayoutModel",
      "state": {}
     },
     "580726a3460c4993aa41417e162a2bce": {
      "model_module": "@jupyter-widgets/controls",
      "model_module_version": "1.5.0",
      "model_name": "TextModel",
      "state": {
       "description": "deep_aks_location",
       "layout": "IPY_MODEL_a67bb061b47841f7bddbc1cb519a34ec",
       "placeholder": "AKS Azure Region",
       "style": "IPY_MODEL_b17917043a5d410abb5cff8fbcfac242",
       "value": "eastus"
      }
     },
     "580989b0357d4bfda48a4ebb14272e24": {
      "model_module": "@jupyter-widgets/base",
      "model_module_version": "1.2.0",
      "model_name": "LayoutModel",
      "state": {}
     },
     "581428a4e13b49dd83006547d09e736b": {
      "model_module": "@jupyter-widgets/base",
      "model_module_version": "1.2.0",
      "model_name": "LayoutModel",
      "state": {}
     },
     "5814d49e34544580a97b3b5d02822d31": {
      "model_module": "@jupyter-widgets/base",
      "model_module_version": "1.2.0",
      "model_name": "LayoutModel",
      "state": {}
     },
     "58332944363f412d95d1588611eed9a2": {
      "model_module": "@jupyter-widgets/base",
      "model_module_version": "1.2.0",
      "model_name": "LayoutModel",
      "state": {}
     },
     "585752dee3b84cc0b068d1a39683806f": {
      "model_module": "@jupyter-widgets/controls",
      "model_module_version": "1.5.0",
      "model_name": "TextModel",
      "state": {
       "description": "image_name",
       "layout": "IPY_MODEL_7be292306a0c4729b5e50bb8a18d85d6",
       "placeholder": "Docker Container Image Name",
       "style": "IPY_MODEL_a7e1a8fc3ac44f08b40a92e94665c017",
       "value": "mymlimage2"
      }
     },
     "5861b5ebd69e4a31b61538b8cdaa1717": {
      "model_module": "@jupyter-widgets/controls",
      "model_module_version": "1.5.0",
      "model_name": "DescriptionStyleModel",
      "state": {
       "description_width": ""
      }
     },
     "588d8090ae594725b03121778aa072cb": {
      "model_module": "@jupyter-widgets/controls",
      "model_module_version": "1.5.0",
      "model_name": "TextModel",
      "state": {
       "description": "experiment_name",
       "layout": "IPY_MODEL_f00cd9ae2c9a4399847fabb664110c96",
       "placeholder": "cpu cores for web service",
       "style": "IPY_MODEL_20929e7fe71240acb8b572d1392e91de",
       "value": "mlaks-train-on-local"
      }
     },
     "589186ab01e442f4a7fd055038264466": {
      "model_module": "@jupyter-widgets/controls",
      "model_module_version": "1.5.0",
      "model_name": "TextModel",
      "state": {
       "description": "deep_aks_service_name",
       "layout": "IPY_MODEL_b07624120b0145dd8fd9878d1dd78bed",
       "placeholder": "AKS Service Name",
       "style": "IPY_MODEL_0563ebf8597642709cb3bcde9d74f743",
       "value": "deepaksservice"
      }
     },
     "58a216c347904fd7a9d12a1fe91471b0": {
      "model_module": "@jupyter-widgets/base",
      "model_module_version": "1.2.0",
      "model_name": "LayoutModel",
      "state": {}
     },
     "591fb78e37fc4a71a958bd38d632d24e": {
      "model_module": "@jupyter-widgets/controls",
      "model_module_version": "1.5.0",
      "model_name": "DescriptionStyleModel",
      "state": {
       "description_width": ""
      }
     },
     "595a8f2f7cad4077827f1c2f1add48c3": {
      "model_module": "@jupyter-widgets/controls",
      "model_module_version": "1.5.0",
      "model_name": "DescriptionStyleModel",
      "state": {
       "description_width": ""
      }
     },
     "59c93d0d2d1f4a1ab3b4a75381866caa": {
      "model_module": "@jupyter-widgets/base",
      "model_module_version": "1.2.0",
      "model_name": "LayoutModel",
      "state": {}
     },
     "59cf4b33b1884a309b4744c658d0fd58": {
      "model_module": "@jupyter-widgets/controls",
      "model_module_version": "1.5.0",
      "model_name": "TextModel",
      "state": {
       "description": "aks_name",
       "layout": "IPY_MODEL_9d11f81d84c249a2aa9817f06593c190",
       "placeholder": "AKS Cluster Name",
       "style": "IPY_MODEL_8d74e3e6f0204432866cafff8713b8f4",
       "value": "akscluster2"
      }
     },
     "59f40bf6acd245689b4d9a4a224196bc": {
      "model_module": "@jupyter-widgets/controls",
      "model_module_version": "1.5.0",
      "model_name": "TextModel",
      "state": {
       "description": "num_replicas",
       "layout": "IPY_MODEL_486d449d84a64af09a4fa1408e3984bf",
       "placeholder": "number of replicas in Kubernetes cluster",
       "style": "IPY_MODEL_44e4dfb42c5e435cbaf046f2b0f1241f",
       "value": "2"
      }
     },
     "59f7a26793514d0fab7e58c5a5677037": {
      "model_module": "@jupyter-widgets/base",
      "model_module_version": "1.2.0",
      "model_name": "LayoutModel",
      "state": {}
     },
     "59ffb5657e9b4571a0222fde8a435da0": {
      "model_module": "@jupyter-widgets/controls",
      "model_module_version": "1.5.0",
      "model_name": "TextModel",
      "state": {
       "description": "workspace_region",
       "layout": "IPY_MODEL_b6ed2b238c8f496f8954a34094e4ad15",
       "placeholder": "Azure ML Workspace Region",
       "style": "IPY_MODEL_974b438d88f94d3fb2b8b231f5786ca1"
      }
     },
     "5a36d2b189484c3fb02653940ee60053": {
      "model_module": "@jupyter-widgets/controls",
      "model_module_version": "1.5.0",
      "model_name": "DescriptionStyleModel",
      "state": {
       "description_width": ""
      }
     },
     "5a831f9f1f294e89afe903bec7e08355": {
      "model_module": "@jupyter-widgets/controls",
      "model_module_version": "1.5.0",
      "model_name": "ButtonStyleModel",
      "state": {}
     },
     "5a9bd2718fb14b37907b319c9f29f4ca": {
      "model_module": "@jupyter-widgets/base",
      "model_module_version": "1.2.0",
      "model_name": "LayoutModel",
      "state": {}
     },
     "5abcb562a08746979553f64da8ab06ed": {
      "model_module": "@jupyter-widgets/controls",
      "model_module_version": "1.5.0",
      "model_name": "ButtonModel",
      "state": {
       "description": "Use existing",
       "layout": "IPY_MODEL_461b0223c9cf44078b7ce55db3f81953",
       "style": "IPY_MODEL_5ae1a1f11b1449fb9d8df59f991e766e",
       "tooltip": "Use an existing resource."
      }
     },
     "5ae1a1f11b1449fb9d8df59f991e766e": {
      "model_module": "@jupyter-widgets/controls",
      "model_module_version": "1.5.0",
      "model_name": "ButtonStyleModel",
      "state": {}
     },
     "5afe345792164dd18cb87c3035aa3296": {
      "model_module": "@jupyter-widgets/controls",
      "model_module_version": "1.5.0",
      "model_name": "DescriptionStyleModel",
      "state": {
       "description_width": ""
      }
     },
     "5b8ae3433fa44c23b24522534cc9b6da": {
      "model_module": "@jupyter-widgets/base",
      "model_module_version": "1.2.0",
      "model_name": "LayoutModel",
      "state": {}
     },
     "5ba6658b760a4eafa6d5e4a775309e84": {
      "model_module": "@jupyter-widgets/base",
      "model_module_version": "1.2.0",
      "model_name": "LayoutModel",
      "state": {}
     },
     "5bdf0326c49e4c0fb222f9eecfe9a354": {
      "model_module": "@jupyter-widgets/controls",
      "model_module_version": "1.5.0",
      "model_name": "ButtonStyleModel",
      "state": {}
     },
     "5bfaefb9ffca418da15707bb1850709c": {
      "model_module": "@jupyter-widgets/controls",
      "model_module_version": "1.5.0",
      "model_name": "DescriptionStyleModel",
      "state": {
       "description_width": ""
      }
     },
     "5c1c44167ea44f74b431b471f00aeba5": {
      "model_module": "@jupyter-widgets/controls",
      "model_module_version": "1.5.0",
      "model_name": "DescriptionStyleModel",
      "state": {
       "description_width": ""
      }
     },
     "5c3f5a991a8e4476a624405fb5dafb3d": {
      "model_module": "@jupyter-widgets/base",
      "model_module_version": "1.2.0",
      "model_name": "LayoutModel",
      "state": {}
     },
     "5c621962282145b4824694c46ac4dee4": {
      "model_module": "@jupyter-widgets/base",
      "model_module_version": "1.2.0",
      "model_name": "LayoutModel",
      "state": {}
     },
     "5c81b0fa73634740a06536cb53e851ab": {
      "model_module": "@jupyter-widgets/base",
      "model_module_version": "1.2.0",
      "model_name": "LayoutModel",
      "state": {}
     },
     "5cc16ef94a9e42e6b88fa77e67ab2334": {
      "model_module": "@jupyter-widgets/base",
      "model_module_version": "1.2.0",
      "model_name": "LayoutModel",
      "state": {}
     },
     "5ccd3cca9b6b4bc9a0e808eacc9d4781": {
      "model_module": "@jupyter-widgets/controls",
      "model_module_version": "1.5.0",
      "model_name": "TextModel",
      "state": {
       "description": "deep_aks_service_name",
       "layout": "IPY_MODEL_26c6a3b00e4b4c1d8ee217631b943ccd",
       "placeholder": "AKS Service Name",
       "style": "IPY_MODEL_d0db4eb2cbeb43aeab297ae0f2a64331",
       "value": "deepaksservice"
      }
     },
     "5cdd05fe92d74dbaa71d7078fb9ca5b3": {
      "model_module": "@jupyter-widgets/controls",
      "model_module_version": "1.5.0",
      "model_name": "DropdownModel",
      "state": {
       "_options_labels": [
        "AG-CE-AI-GPU-EXPERIMENTATION",
        "AG-AzureCAT-AITao-Test-COGSNonProd-IO1685734",
        "AG-CE-AI-DEVOPS",
        "AG-AzureCAT-AIDemos-Test-COGSNonProd-IO1685734",
        "AGCE-AI-DELETE-Sharat",
        "AG-AzureCAT-AILab-Test-COGSNonProd-IO1685734",
        "Visual Studio Ultimate with MSDN",
        "AG-AzureCAT-AIDataPM-Test-COGSNonProd-IO1685743",
        "AG-AzureCAT-AIDanielle-Test-COGSNonProd-IO1685734",
        "AG-CE-AI-MN-CICOMMERCIAL",
        "AG-CE-AI-MN-INCUBATION",
        "AG-CE-AI-MN-OSS",
        "AG-CE-AI-MN-E2E",
        "AG-CE-AI-MN-HU",
        "AG-CE-AI-MN-SEISMIC",
        "AG-CE-AI-STORAGE",
        "AG-CE-AI-MN-RETAIL",
        "AG-CE-AI-FEEDBACK",
        "AG-CE-AI-MN-LAB",
        "Azure SDK Engineering System",
        "Epic-Edge-ES-ReproVMLab",
        "ES-Stream-Operations",
        "Core-ES-BranchManagement",
        "WDG-ES-RnD-GITTrain",
        "Cosmos_WDG_Core_BnB_100292",
        "Azure Stack Diagnostics CI and Production VaaS",
        "Edge DevTools Client",
        "Azure Stack CSS Labs",
        "AppInsight Test",
        "ddverify",
        "VSEng MadDog-RPS Telemetry",
        "CAT_Eng",
        "RPS-cloud-common-2",
        "Core-ES-WorkManagement",
        "Azure_Maps_MDP_Engineering",
        "Test/Demo - VipSwapper Operations",
        "COSINE-ES-Signing Azure Service",
        "AI Infra Build",
        "AG-CE-E2E-AI",
        "DEMO - how RepDemo are you",
        "ADS Demo Subscription",
        "AzureCAT E2E Blue Steel",
        "Azure Search DEV Service Layer (kmort,miwelsh,bohuan)"
       ],
       "description": "workspace_region:",
       "index": 2,
       "layout": "IPY_MODEL_04e37a036a9f42fea8e8765b77313157",
       "style": "IPY_MODEL_30394288244a4e8e8bd99206e700cffa"
      }
     },
     "5d6ff90ad5154099ba7f21370375a51b": {
      "model_module": "@jupyter-widgets/base",
      "model_module_version": "1.2.0",
      "model_name": "LayoutModel",
      "state": {}
     },
     "5dcc6305454240dd93ecaba54cff9b29": {
      "model_module": "@jupyter-widgets/controls",
      "model_module_version": "1.5.0",
      "model_name": "HBoxModel",
      "state": {
       "children": [
        "IPY_MODEL_276500847e474fc3b34004b9fed026dc"
       ],
       "layout": "IPY_MODEL_eb0599993a59435f9992002a5c0eca62"
      }
     },
     "5df555683d8a4e1ba9e9a9219b605402": {
      "model_module": "@jupyter-widgets/controls",
      "model_module_version": "1.5.0",
      "model_name": "DescriptionStyleModel",
      "state": {
       "description_width": ""
      }
     },
     "5e4fe98bacac4259bb1ccfd928f9f469": {
      "model_module": "@jupyter-widgets/controls",
      "model_module_version": "1.5.0",
      "model_name": "DescriptionStyleModel",
      "state": {
       "description_width": ""
      }
     },
     "5e85a09a95804beebc45330b6bf4bc9f": {
      "model_module": "@jupyter-widgets/controls",
      "model_module_version": "1.5.0",
      "model_name": "ButtonStyleModel",
      "state": {}
     },
     "5ea497065d424c41bf1ffcf9fef9e5e4": {
      "model_module": "@jupyter-widgets/base",
      "model_module_version": "1.2.0",
      "model_name": "LayoutModel",
      "state": {}
     },
     "5eac90f0f6db4049bd28af22fff60975": {
      "model_module": "@jupyter-widgets/controls",
      "model_module_version": "1.5.0",
      "model_name": "HBoxModel",
      "state": {
       "children": [
        "IPY_MODEL_c791472c143b4195b2b8274d26583f96",
        "IPY_MODEL_6be5fb43d7954d0a83d923317f422058"
       ],
       "layout": "IPY_MODEL_6c70a7c6471f4a139d5b64b2c7e53b01"
      }
     },
     "5ec1dec569004ff38bb65d1067278e6f": {
      "model_module": "@jupyter-widgets/controls",
      "model_module_version": "1.5.0",
      "model_name": "DescriptionStyleModel",
      "state": {
       "description_width": ""
      }
     },
     "5ec7edb5743041d9992325fc8ddcd8c8": {
      "model_module": "@jupyter-widgets/base",
      "model_module_version": "1.2.0",
      "model_name": "LayoutModel",
      "state": {}
     },
     "5ee4c91d73594cba88bd96f2132662b8": {
      "model_module": "@jupyter-widgets/base",
      "model_module_version": "1.2.0",
      "model_name": "LayoutModel",
      "state": {}
     },
     "5eec1b71d22946ef87e3147a7c9c3629": {
      "model_module": "@jupyter-widgets/base",
      "model_module_version": "1.2.0",
      "model_name": "LayoutModel",
      "state": {}
     },
     "5ef9408a036641a3a12632cf4b3d9ba3": {
      "model_module": "@jupyter-widgets/controls",
      "model_module_version": "1.5.0",
      "model_name": "TextModel",
      "state": {
       "description": "workspace_region",
       "layout": "IPY_MODEL_f4a9ae62b7c74eb894059cc3011397fb",
       "placeholder": "Azure ML Workspace Region",
       "style": "IPY_MODEL_aa5559c4d06b426f83e9bb8aa4a2ca6c"
      }
     },
     "5efa324337ef4dc9b2f96d1a2d6f0d79": {
      "model_module": "@jupyter-widgets/base",
      "model_module_version": "1.2.0",
      "model_name": "LayoutModel",
      "state": {}
     },
     "5f025e6a952044ee9b89203ec222eb0f": {
      "model_module": "@jupyter-widgets/controls",
      "model_module_version": "1.5.0",
      "model_name": "TextModel",
      "state": {
       "description": "deep_aks_location",
       "layout": "IPY_MODEL_195be21ece8c4e3c99f429b4d1be2fba",
       "placeholder": "AKS Azure Region",
       "style": "IPY_MODEL_86e80a3a3632403f8e30afe844f8b93a",
       "value": "eastus"
      }
     },
     "5f0a44590a5545a886a4da9e39ed84bd": {
      "model_module": "@jupyter-widgets/base",
      "model_module_version": "1.2.0",
      "model_name": "LayoutModel",
      "state": {}
     },
     "5f14e578f50245e6bbab6174ec44122c": {
      "model_module": "@jupyter-widgets/controls",
      "model_module_version": "1.5.0",
      "model_name": "DescriptionStyleModel",
      "state": {
       "description_width": ""
      }
     },
     "5f185ad7c2ce4c87862c556f5b1c907f": {
      "model_module": "@jupyter-widgets/controls",
      "model_module_version": "1.5.0",
      "model_name": "ButtonStyleModel",
      "state": {}
     },
     "5f2822279f0d4d97a145937039247dc1": {
      "model_module": "@jupyter-widgets/base",
      "model_module_version": "1.2.0",
      "model_name": "LayoutModel",
      "state": {}
     },
     "5f5ee3be5e7b4ec2ac24fdf02e846513": {
      "model_module": "@jupyter-widgets/controls",
      "model_module_version": "1.5.0",
      "model_name": "DescriptionStyleModel",
      "state": {
       "description_width": ""
      }
     },
     "5fb76bac485744bd9997d7a47ec6a6ba": {
      "model_module": "@jupyter-widgets/controls",
      "model_module_version": "1.5.0",
      "model_name": "ButtonStyleModel",
      "state": {}
     },
     "5fe10d263f364c66b747a09d0ff3f662": {
      "model_module": "@jupyter-widgets/base",
      "model_module_version": "1.2.0",
      "model_name": "LayoutModel",
      "state": {}
     },
     "5fea17757ee5434b834787ec6b53d5f7": {
      "model_module": "@jupyter-widgets/controls",
      "model_module_version": "1.5.0",
      "model_name": "DescriptionStyleModel",
      "state": {
       "description_width": ""
      }
     },
     "5fedc21b773e4990a54167307ad348b3": {
      "model_module": "@jupyter-widgets/controls",
      "model_module_version": "1.5.0",
      "model_name": "TextModel",
      "state": {
       "description": "cpu_cores",
       "layout": "IPY_MODEL_81dc557fb7b84c23a6fdd5b0ddc4cabd",
       "placeholder": "cpu cores for web service",
       "style": "IPY_MODEL_57a78349017a4b5baec0c966310845eb",
       "value": "1"
      }
     },
     "6034fc793e6746bc98805db853e1af5e": {
      "model_module": "@jupyter-widgets/base",
      "model_module_version": "1.2.0",
      "model_name": "LayoutModel",
      "state": {}
     },
     "6035fafff2254dc3929a2cfc9042629d": {
      "model_module": "@jupyter-widgets/base",
      "model_module_version": "1.2.0",
      "model_name": "LayoutModel",
      "state": {}
     },
     "60362c78b60b48bebd9d390fdfeb906f": {
      "model_module": "@jupyter-widgets/controls",
      "model_module_version": "1.5.0",
      "model_name": "ButtonModel",
      "state": {
       "description": "Save Upload",
       "icon": "check",
       "layout": "IPY_MODEL_17675de7986c4d90b8a3c51afb8c4c72",
       "style": "IPY_MODEL_108ac13fbe374045aca9588a58d1b029",
       "tooltip": "Click to save settings to file."
      }
     },
     "60651d0cd80e4702a4394ddee3beec17": {
      "model_module": "@jupyter-widgets/controls",
      "model_module_version": "1.5.0",
      "model_name": "DescriptionStyleModel",
      "state": {
       "description_width": ""
      }
     },
     "60c4cb450f4c4734888ab08d6df1ce9a": {
      "model_module": "@jupyter-widgets/base",
      "model_module_version": "1.2.0",
      "model_name": "LayoutModel",
      "state": {}
     },
     "60f3ed92de5d4806a07d8704d3f7b43e": {
      "model_module": "@jupyter-widgets/controls",
      "model_module_version": "1.5.0",
      "model_name": "TextModel",
      "state": {
       "description": "subscription_id",
       "layout": "IPY_MODEL_13b412f6695849f2b9c06262fdae5db6",
       "placeholder": "Azure Subscription Id",
       "style": "IPY_MODEL_60f9176b5c4c4f67bd584d606eaa1b1c",
       "value": "0ca618d2-22a8-413a-96d0-0f1b531129c3"
      }
     },
     "60f9176b5c4c4f67bd584d606eaa1b1c": {
      "model_module": "@jupyter-widgets/controls",
      "model_module_version": "1.5.0",
      "model_name": "DescriptionStyleModel",
      "state": {
       "description_width": ""
      }
     },
     "616d1cd5fcf54e1293a1f70c1f83bcc6": {
      "model_module": "@jupyter-widgets/controls",
      "model_module_version": "1.5.0",
      "model_name": "DescriptionStyleModel",
      "state": {
       "description_width": ""
      }
     },
     "61abc48657e445ae8e5a935c3d01993b": {
      "model_module": "@jupyter-widgets/controls",
      "model_module_version": "1.5.0",
      "model_name": "ButtonStyleModel",
      "state": {}
     },
     "61caf98b176f4e019da556783d918fd3": {
      "model_module": "@jupyter-widgets/controls",
      "model_module_version": "1.5.0",
      "model_name": "FileUploadModel",
      "state": {
       "accept": ".yml",
       "description_tooltip": null,
       "layout": "IPY_MODEL_3157e9f0e8ab437f8ff45629cef765f8",
       "style": "IPY_MODEL_0869d1995d064dd4ac22973a5247ca76"
      }
     },
     "62018165d97f4d5fa5d404ac91cbc686": {
      "model_module": "@jupyter-widgets/controls",
      "model_module_version": "1.5.0",
      "model_name": "DescriptionStyleModel",
      "state": {
       "description_width": ""
      }
     },
     "621ced9c496c4e9f8a04431dfaa0abc0": {
      "model_module": "@jupyter-widgets/controls",
      "model_module_version": "1.5.0",
      "model_name": "TextModel",
      "state": {
       "description": "workspace_region",
       "layout": "IPY_MODEL_7d693e247fc342fcb7093959fd49b9c2",
       "placeholder": "Azure ML Workspace Region",
       "style": "IPY_MODEL_2371fdaf0f054ae4bad7d495b22941ab"
      }
     },
     "62311e84f4694704a197a7a5fde3ee49": {
      "model_module": "@jupyter-widgets/controls",
      "model_module_version": "1.5.0",
      "model_name": "HBoxModel",
      "state": {
       "children": [
        "IPY_MODEL_f818b1d854ae4d30aad55d9051652159",
        "IPY_MODEL_481ac4cecd21441e894a1d7dcffec35d"
       ],
       "layout": "IPY_MODEL_697da4b914624b54bf57248a6d85e33c"
      }
     },
     "6250a4046f4a442da20bdd994a401fc0": {
      "model_module": "@jupyter-widgets/base",
      "model_module_version": "1.2.0",
      "model_name": "LayoutModel",
      "state": {}
     },
     "6277edafbcaf4a68b8b67b7cad067641": {
      "model_module": "@jupyter-widgets/base",
      "model_module_version": "1.2.0",
      "model_name": "LayoutModel",
      "state": {}
     },
     "62787ca7b60248ae9d14b32cbb20a023": {
      "model_module": "@jupyter-widgets/controls",
      "model_module_version": "1.5.0",
      "model_name": "TextModel",
      "state": {
       "description": "subscription_id",
       "layout": "IPY_MODEL_4fb80c02ffbe4e2cba54b49a212c1577",
       "placeholder": "Azure Subscription Id",
       "style": "IPY_MODEL_62a900fc630441e28630af957d75bad3",
       "value": "0ca618d2-22a8-413a-96d0-0f1b531129c3"
      }
     },
     "629c6182d7a64211912c980619bee131": {
      "model_module": "@jupyter-widgets/base",
      "model_module_version": "1.2.0",
      "model_name": "LayoutModel",
      "state": {}
     },
     "62a900fc630441e28630af957d75bad3": {
      "model_module": "@jupyter-widgets/controls",
      "model_module_version": "1.5.0",
      "model_name": "DescriptionStyleModel",
      "state": {
       "description_width": ""
      }
     },
     "62cafee61465493ba8d5077178a7f2a5": {
      "model_module": "@jupyter-widgets/controls",
      "model_module_version": "1.5.0",
      "model_name": "DescriptionStyleModel",
      "state": {
       "description_width": ""
      }
     },
     "62e9de37f5c44803863f68bdece123b7": {
      "model_module": "@jupyter-widgets/base",
      "model_module_version": "1.2.0",
      "model_name": "LayoutModel",
      "state": {}
     },
     "63045e1bfb2a4d20a8df1d1bb41d06a2": {
      "model_module": "@jupyter-widgets/controls",
      "model_module_version": "1.5.0",
      "model_name": "DescriptionStyleModel",
      "state": {
       "description_width": ""
      }
     },
     "630ef818c71a45d194e78057bd5c22cf": {
      "model_module": "@jupyter-widgets/controls",
      "model_module_version": "1.5.0",
      "model_name": "ButtonStyleModel",
      "state": {}
     },
     "631ede7e2fa14527a19a5b7001794e06": {
      "model_module": "@jupyter-widgets/controls",
      "model_module_version": "1.5.0",
      "model_name": "DescriptionStyleModel",
      "state": {
       "description_width": ""
      }
     },
     "6343eaeb8be7454e921be17aff695f8e": {
      "model_module": "@jupyter-widgets/controls",
      "model_module_version": "1.5.0",
      "model_name": "ButtonStyleModel",
      "state": {}
     },
     "635fa9e5da264cbeabe7f2c9c6486e71": {
      "model_module": "@jupyter-widgets/base",
      "model_module_version": "1.2.0",
      "model_name": "LayoutModel",
      "state": {}
     },
     "636964dbac8b481ab27e7bf64b000cd9": {
      "model_module": "@jupyter-widgets/controls",
      "model_module_version": "1.5.0",
      "model_name": "TextModel",
      "state": {
       "description": "workspace_name",
       "layout": "IPY_MODEL_e7f37141e8c04aeba085cf6de66b9341",
       "placeholder": "Azure ML Workspace Name",
       "style": "IPY_MODEL_550dde35053c4a36a92867065bee5bb4",
       "value": "azmlrts-eastus"
      }
     },
     "636d989a65e648b9925729f136f344da": {
      "model_module": "@jupyter-widgets/controls",
      "model_module_version": "1.5.0",
      "model_name": "TextModel",
      "state": {
       "description": "workspace_name",
       "layout": "IPY_MODEL_276537797a6e476894d7eef6bd24bdbb",
       "placeholder": "Azure ML Workspace Name",
       "style": "IPY_MODEL_01521de7f5df4e1c8a7a28f6d93a7f6b"
      }
     },
     "636db3af15394a18a576f6209662e317": {
      "model_module": "@jupyter-widgets/controls",
      "model_module_version": "1.5.0",
      "model_name": "TextModel",
      "state": {
       "description": "aks_service_name",
       "layout": "IPY_MODEL_9c9d0cab689d48a2b8e9ff78627fed99",
       "placeholder": "AKS Service Name",
       "style": "IPY_MODEL_243388a38b3142488cf37518cce58aeb",
       "value": "aksservice2"
      }
     },
     "63786f1b029e455aafd88e695326a300": {
      "model_module": "@jupyter-widgets/controls",
      "model_module_version": "1.5.0",
      "model_name": "DropdownModel",
      "state": {
       "_options_labels": [
        "eastus",
        "eastus2",
        "canadacentral",
        "centralus",
        "northcentralus",
        "southcentralus",
        "westcentralus",
        "westus",
        "westus2"
       ],
       "description": "workspace_region",
       "index": 0,
       "layout": "IPY_MODEL_d8dddb074de34bbcba4c0ee33de6401d",
       "style": "IPY_MODEL_fe27916538a549e0b8ca70a7a7f4e2d1"
      }
     },
     "638edc3b04e04f2eb71ffc7ebf804bed": {
      "model_module": "@jupyter-widgets/controls",
      "model_module_version": "1.5.0",
      "model_name": "ButtonModel",
      "state": {
       "description": "Use existing",
       "layout": "IPY_MODEL_1f08c722c5f74788877ca38a52709dd7",
       "style": "IPY_MODEL_ae2b4c67b74b4624b5ec593ba352cd49",
       "tooltip": "Use an existing resource."
      }
     },
     "63ca7ce5c8834e16960c667ee25ec218": {
      "model_module": "@jupyter-widgets/controls",
      "model_module_version": "1.5.0",
      "model_name": "DescriptionStyleModel",
      "state": {
       "description_width": ""
      }
     },
     "63d0a905815f4af39fa425f079f0ec44": {
      "model_module": "@jupyter-widgets/base",
      "model_module_version": "1.2.0",
      "model_name": "LayoutModel",
      "state": {}
     },
     "63d9f8ce3b0341f5a055a30d78035130": {
      "model_module": "@jupyter-widgets/controls",
      "model_module_version": "1.5.0",
      "model_name": "ButtonStyleModel",
      "state": {}
     },
     "63fbc38aec5243ab9031109e30d03ce9": {
      "model_module": "@jupyter-widgets/output",
      "model_module_version": "1.0.0",
      "model_name": "OutputModel",
      "state": {
       "layout": "IPY_MODEL_6d7ad7571f9b4041b0491402bb70a402"
      }
     },
     "640638404f9d4da78a2e4eb873d683e6": {
      "model_module": "@jupyter-widgets/controls",
      "model_module_version": "1.5.0",
      "model_name": "TextModel",
      "state": {
       "description": "deep_image_name",
       "layout": "IPY_MODEL_0d6af5dbacd24bba80c9638983597bbe",
       "placeholder": "Docker Container Image Name",
       "style": "IPY_MODEL_5861b5ebd69e4a31b61538b8cdaa1717",
       "value": "mydeepimage"
      }
     },
     "64337c89c64c4214a8de5e34592080bb": {
      "model_module": "@jupyter-widgets/controls",
      "model_module_version": "1.5.0",
      "model_name": "TextModel",
      "state": {
       "description": "workspace_name",
       "layout": "IPY_MODEL_afcd6bb65f364a14a29fb90a884d1041",
       "placeholder": "Azure ML Workspace Name",
       "style": "IPY_MODEL_64e561231c574b3ca62fe57dca67da5e",
       "value": "azmlrts-eastus"
      }
     },
     "64532885be914027bed235c7aa3aeabd": {
      "model_module": "@jupyter-widgets/base",
      "model_module_version": "1.2.0",
      "model_name": "LayoutModel",
      "state": {}
     },
     "6461bfdd96624bbcb9589fb745507b9f": {
      "model_module": "@jupyter-widgets/controls",
      "model_module_version": "1.5.0",
      "model_name": "TextModel",
      "state": {
       "description": "workspace_name",
       "layout": "IPY_MODEL_c785287917d649fe97b67e6faaf97415",
       "placeholder": "Azure ML Workspace Name",
       "style": "IPY_MODEL_3f9ac827ab5e4598a1582b25d516978f",
       "value": "azmlrts-eastus"
      }
     },
     "64749fc1d84e4fff9e800e19976db6d0": {
      "model_module": "@jupyter-widgets/controls",
      "model_module_version": "1.5.0",
      "model_name": "HBoxModel",
      "state": {
       "children": [
        "IPY_MODEL_4de9a440a45044d7893dfe0ad1a1d510"
       ],
       "layout": "IPY_MODEL_1c522c9cb6ca4d33bc7c12cf3865fd0f"
      }
     },
     "647a431bebe14e6e804e2fe66457c4f7": {
      "model_module": "@jupyter-widgets/base",
      "model_module_version": "1.2.0",
      "model_name": "LayoutModel",
      "state": {}
     },
     "64921257f7c24dc086d54b01a41b5194": {
      "model_module": "@jupyter-widgets/controls",
      "model_module_version": "1.5.0",
      "model_name": "DropdownModel",
      "state": {
       "_options_labels": [
        "AG-CE-AI-GPU-EXPERIMENTATION",
        "AG-AzureCAT-AITao-Test-COGSNonProd-IO1685734",
        "AG-CE-AI-DEVOPS",
        "AG-AzureCAT-AIDemos-Test-COGSNonProd-IO1685734",
        "AGCE-AI-DELETE-Sharat",
        "AG-AzureCAT-AILab-Test-COGSNonProd-IO1685734",
        "Visual Studio Ultimate with MSDN",
        "AG-AzureCAT-AIDataPM-Test-COGSNonProd-IO1685743",
        "AG-AzureCAT-AIDanielle-Test-COGSNonProd-IO1685734",
        "AG-CE-AI-MN-CICOMMERCIAL",
        "AG-CE-AI-MN-INCUBATION",
        "AG-CE-AI-MN-OSS",
        "AG-CE-AI-MN-E2E",
        "AG-CE-AI-MN-HU",
        "AG-CE-AI-MN-SEISMIC",
        "AG-CE-AI-STORAGE",
        "AG-CE-AI-MN-RETAIL",
        "AG-CE-AI-FEEDBACK",
        "AG-CE-AI-MN-LAB",
        "Azure SDK Engineering System",
        "Epic-Edge-ES-ReproVMLab",
        "ES-Stream-Operations",
        "Core-ES-BranchManagement",
        "WDG-ES-RnD-GITTrain",
        "Cosmos_WDG_Core_BnB_100292",
        "Azure Stack Diagnostics CI and Production VaaS",
        "Edge DevTools Client",
        "Azure Stack CSS Labs",
        "AppInsight Test",
        "ddverify",
        "VSEng MadDog-RPS Telemetry",
        "CAT_Eng",
        "RPS-cloud-common-2",
        "Core-ES-WorkManagement",
        "Azure_Maps_MDP_Engineering",
        "Test/Demo - VipSwapper Operations",
        "COSINE-ES-Signing Azure Service",
        "AI Infra Build",
        "AG-CE-E2E-AI",
        "DEMO - how RepDemo are you",
        "ADS Demo Subscription",
        "AzureCAT E2E Blue Steel",
        "Azure Search DEV Service Layer (kmort,miwelsh,bohuan)"
       ],
       "description": "workspace_region:",
       "index": 2,
       "layout": "IPY_MODEL_856d05784c0e4742b72dddfdeab895df",
       "style": "IPY_MODEL_e8b61beba0fd4ed498618a489f976829"
      }
     },
     "64a142ef178146f99462e668ab892821": {
      "model_module": "@jupyter-widgets/controls",
      "model_module_version": "1.5.0",
      "model_name": "DescriptionStyleModel",
      "state": {
       "description_width": ""
      }
     },
     "64c5f9f232d645d9aaded153c0b6a4d0": {
      "model_module": "@jupyter-widgets/base",
      "model_module_version": "1.2.0",
      "model_name": "LayoutModel",
      "state": {}
     },
     "64e561231c574b3ca62fe57dca67da5e": {
      "model_module": "@jupyter-widgets/controls",
      "model_module_version": "1.5.0",
      "model_name": "DescriptionStyleModel",
      "state": {
       "description_width": ""
      }
     },
     "64e7d51d85ca447bb0a097aa2ef94c74": {
      "model_module": "@jupyter-widgets/controls",
      "model_module_version": "1.5.0",
      "model_name": "TextModel",
      "state": {
       "description": "workspace_region",
       "layout": "IPY_MODEL_f9df60c5eb8b431cbab79b4a48b870e9",
       "placeholder": "Azure ML Workspace Region",
       "style": "IPY_MODEL_cada35b58b6a46f8b3c0d2fea9cf864e",
       "value": "eastus"
      }
     },
     "64f3734ed7e440b5966248ccae7bf598": {
      "model_module": "@jupyter-widgets/controls",
      "model_module_version": "1.5.0",
      "model_name": "DescriptionStyleModel",
      "state": {
       "description_width": ""
      }
     },
     "64f5ec705d5b42cd8f5eb2c99a9a140d": {
      "model_module": "@jupyter-widgets/controls",
      "model_module_version": "1.5.0",
      "model_name": "TextModel",
      "state": {
       "description": "workspace_region",
       "layout": "IPY_MODEL_f4e522725bdf42539e27c2360839da1c",
       "placeholder": "Azure ML Workspace Region",
       "style": "IPY_MODEL_d025d60f0828472eb3f5a0a787219a19",
       "value": "eastus"
      }
     },
     "651c73bbb33648ac8f396089e3e5c074": {
      "model_module": "@jupyter-widgets/base",
      "model_module_version": "1.2.0",
      "model_name": "LayoutModel",
      "state": {}
     },
     "653943638c924ae68290128c46382b25": {
      "model_module": "@jupyter-widgets/base",
      "model_module_version": "1.2.0",
      "model_name": "LayoutModel",
      "state": {}
     },
     "657109cc510742289831ce92c7b62732": {
      "model_module": "@jupyter-widgets/controls",
      "model_module_version": "1.5.0",
      "model_name": "TextModel",
      "state": {
       "description": "cpu_cores",
       "layout": "IPY_MODEL_aad80f1ccee341c09bab49bf43c89022",
       "placeholder": "cpu cores for web service",
       "style": "IPY_MODEL_0095b9e118e244aeae5c462dd0e05041",
       "value": "1"
      }
     },
     "65907f16f2064f3daeb22b629e5bd950": {
      "model_module": "@jupyter-widgets/controls",
      "model_module_version": "1.5.0",
      "model_name": "ButtonModel",
      "state": {
       "description": "Use existing",
       "icon": "check",
       "layout": "IPY_MODEL_ee51bac62ca34bb28933911df60d1d29",
       "style": "IPY_MODEL_73c1a0d5248947228ec3d8b73d33cf06",
       "tooltip": "Use an existing resource."
      }
     },
     "659675a4b4ac4b388326c1535e978327": {
      "model_module": "@jupyter-widgets/output",
      "model_module_version": "1.0.0",
      "model_name": "OutputModel",
      "state": {
       "layout": "IPY_MODEL_c68b2c523344428d874cd33813a8c736"
      }
     },
     "659bfa0b126d4d5690355b029007ab5f": {
      "model_module": "@jupyter-widgets/base",
      "model_module_version": "1.2.0",
      "model_name": "LayoutModel",
      "state": {}
     },
     "65f03e21119348a7a7a396ae047d88d6": {
      "model_module": "@jupyter-widgets/base",
      "model_module_version": "1.2.0",
      "model_name": "LayoutModel",
      "state": {}
     },
     "662cb679e6f94236a538cdaefdfe6a91": {
      "model_module": "@jupyter-widgets/base",
      "model_module_version": "1.2.0",
      "model_name": "LayoutModel",
      "state": {}
     },
     "66456ac2ecd740bd9e966547267d43c2": {
      "model_module": "@jupyter-widgets/base",
      "model_module_version": "1.2.0",
      "model_name": "LayoutModel",
      "state": {}
     },
     "66991bf584724e6fabda40847060d7d4": {
      "model_module": "@jupyter-widgets/controls",
      "model_module_version": "1.5.0",
      "model_name": "DescriptionStyleModel",
      "state": {
       "description_width": ""
      }
     },
     "66ba17508b52482f9ced0c2c8cfec9ed": {
      "model_module": "@jupyter-widgets/base",
      "model_module_version": "1.2.0",
      "model_name": "LayoutModel",
      "state": {}
     },
     "66bcc9f881144800b5c8845fc838d5cd": {
      "model_module": "@jupyter-widgets/controls",
      "model_module_version": "1.5.0",
      "model_name": "ButtonStyleModel",
      "state": {}
     },
     "66c4ea9b65c34d2c9d20184737269c61": {
      "model_module": "@jupyter-widgets/controls",
      "model_module_version": "1.5.0",
      "model_name": "TextModel",
      "state": {
       "description": "resource_group",
       "layout": "IPY_MODEL_3e47f2195db24d389c1f49ee8996ac3e",
       "placeholder": "Azure Resource Group Name",
       "style": "IPY_MODEL_6ea550eefab34a83b30a8a00fee65239"
      }
     },
     "66c69e45618c42cfa05a0831c21bbf27": {
      "model_module": "@jupyter-widgets/base",
      "model_module_version": "1.2.0",
      "model_name": "LayoutModel",
      "state": {}
     },
     "66c8c247bfd3411a96d0b7098c700f28": {
      "model_module": "@jupyter-widgets/controls",
      "model_module_version": "1.5.0",
      "model_name": "TextModel",
      "state": {
       "description": "image_name",
       "layout": "IPY_MODEL_0ea65e60f94a469c8466528040b4a925",
       "placeholder": "Docker Container Image Name",
       "style": "IPY_MODEL_5df555683d8a4e1ba9e9a9219b605402",
       "value": "mymlimage2"
      }
     },
     "66fdbf5b4a114f8aa396050ddbb10a84": {
      "model_module": "@jupyter-widgets/controls",
      "model_module_version": "1.5.0",
      "model_name": "DescriptionStyleModel",
      "state": {
       "description_width": ""
      }
     },
     "67089bca59fd4a78a91a5678ebc82336": {
      "model_module": "@jupyter-widgets/controls",
      "model_module_version": "1.5.0",
      "model_name": "DescriptionStyleModel",
      "state": {
       "description_width": ""
      }
     },
     "6727587fb2cf42d48949c097c5865116": {
      "model_module": "@jupyter-widgets/base",
      "model_module_version": "1.2.0",
      "model_name": "LayoutModel",
      "state": {}
     },
     "674fe85b90d94c13ba3d8ba29f1204b1": {
      "model_module": "@jupyter-widgets/controls",
      "model_module_version": "1.5.0",
      "model_name": "TextModel",
      "state": {
       "description": "workspace_region",
       "layout": "IPY_MODEL_3989cf84a8994910897f4a51bdb1eee6",
       "placeholder": "Azure ML Workspace Region",
       "style": "IPY_MODEL_2435d1ec31414fcc91f47a73d2e21062",
       "value": "eastus"
      }
     },
     "6766910a48694951a2f4402e6a095f4e": {
      "model_module": "@jupyter-widgets/controls",
      "model_module_version": "1.5.0",
      "model_name": "HBoxModel",
      "state": {
       "children": [
        "IPY_MODEL_bd5bee5c6f6244ffb591c8d31a5753cf",
        "IPY_MODEL_0713bcc6d38443b7b4f244eb52a16b35"
       ],
       "layout": "IPY_MODEL_28a81a114b8643edaabe86f5f788524c"
      }
     },
     "677e3061f1994b19aa1aacd9185580c5": {
      "model_module": "@jupyter-widgets/base",
      "model_module_version": "1.2.0",
      "model_name": "LayoutModel",
      "state": {}
     },
     "67abfe1381b6461f8b8cd4213911e91e": {
      "model_module": "@jupyter-widgets/controls",
      "model_module_version": "1.5.0",
      "model_name": "DescriptionStyleModel",
      "state": {
       "description_width": ""
      }
     },
     "67e361145b354eb0bdeede564aeaa7ff": {
      "model_module": "@jupyter-widgets/controls",
      "model_module_version": "1.5.0",
      "model_name": "DescriptionStyleModel",
      "state": {
       "description_width": ""
      }
     },
     "68123ca45e584fcea4786b1c469a0c88": {
      "model_module": "@jupyter-widgets/controls",
      "model_module_version": "1.5.0",
      "model_name": "DescriptionStyleModel",
      "state": {
       "description_width": ""
      }
     },
     "68187145fc184751aa6946d383f760d3": {
      "model_module": "@jupyter-widgets/base",
      "model_module_version": "1.2.0",
      "model_name": "LayoutModel",
      "state": {}
     },
     "681a03a59e87409e9bfccf82a55f25a4": {
      "model_module": "@jupyter-widgets/base",
      "model_module_version": "1.2.0",
      "model_name": "LayoutModel",
      "state": {}
     },
     "68b8ce1c82bc487fa09e86412496ebcc": {
      "model_module": "@jupyter-widgets/controls",
      "model_module_version": "1.5.0",
      "model_name": "DescriptionStyleModel",
      "state": {
       "description_width": ""
      }
     },
     "68ba0ec16e8b47bba297e2fd19e96001": {
      "model_module": "@jupyter-widgets/base",
      "model_module_version": "1.2.0",
      "model_name": "LayoutModel",
      "state": {}
     },
     "68bd6d066137439dbccdafd8aad52b63": {
      "model_module": "@jupyter-widgets/controls",
      "model_module_version": "1.5.0",
      "model_name": "HBoxModel",
      "state": {
       "children": [
        "IPY_MODEL_3aa49b015c4846989052c207106e5bdf",
        "IPY_MODEL_e7006442c0894f3d82e170190b85cff9"
       ],
       "layout": "IPY_MODEL_47d9df3f10704a82906f37d2029ba267"
      }
     },
     "6901f90beb384d56b724bb626989ec6a": {
      "model_module": "@jupyter-widgets/controls",
      "model_module_version": "1.5.0",
      "model_name": "HBoxModel",
      "state": {
       "children": [
        "IPY_MODEL_a4a9b057b0f9470db454e748f3e40333",
        "IPY_MODEL_30f38c6495874c5cbffa9a84d505b72e"
       ],
       "layout": "IPY_MODEL_6035fafff2254dc3929a2cfc9042629d"
      }
     },
     "690ed3370d454de19fcd31376889b384": {
      "model_module": "@jupyter-widgets/controls",
      "model_module_version": "1.5.0",
      "model_name": "DescriptionStyleModel",
      "state": {
       "description_width": ""
      }
     },
     "692685030f0f41b28ee7a59c32783948": {
      "model_module": "@jupyter-widgets/base",
      "model_module_version": "1.2.0",
      "model_name": "LayoutModel",
      "state": {}
     },
     "696c8ff14b834fc4b0399453e0b62b2a": {
      "model_module": "@jupyter-widgets/base",
      "model_module_version": "1.2.0",
      "model_name": "LayoutModel",
      "state": {}
     },
     "697da4b914624b54bf57248a6d85e33c": {
      "model_module": "@jupyter-widgets/base",
      "model_module_version": "1.2.0",
      "model_name": "LayoutModel",
      "state": {}
     },
     "69805c371a8941619590535996873bf6": {
      "model_module": "@jupyter-widgets/base",
      "model_module_version": "1.2.0",
      "model_name": "LayoutModel",
      "state": {}
     },
     "69aa9ef3bf204bc3950ed9ab756c2dd9": {
      "model_module": "@jupyter-widgets/base",
      "model_module_version": "1.2.0",
      "model_name": "LayoutModel",
      "state": {}
     },
     "69afe3b3bd0945839f28aa3abfc3ee62": {
      "model_module": "@jupyter-widgets/base",
      "model_module_version": "1.2.0",
      "model_name": "LayoutModel",
      "state": {}
     },
     "69c9206ffd1c42038de0fd51dc7593d7": {
      "model_module": "@jupyter-widgets/controls",
      "model_module_version": "1.5.0",
      "model_name": "DescriptionStyleModel",
      "state": {
       "description_width": ""
      }
     },
     "6a5a2eced8ff41a783c7be5d128ad00a": {
      "model_module": "@jupyter-widgets/base",
      "model_module_version": "1.2.0",
      "model_name": "LayoutModel",
      "state": {}
     },
     "6a75be32cadc4a3cae774083480e7254": {
      "model_module": "@jupyter-widgets/controls",
      "model_module_version": "1.5.0",
      "model_name": "ButtonModel",
      "state": {
       "button_style": "success",
       "description": "Overwrite Settings",
       "icon": "check",
       "layout": "IPY_MODEL_0734f6f679714c6db68b56bcd8956b67",
       "style": "IPY_MODEL_9c86f1412afa47fe9aa2a13544516412",
       "tooltip": "Click to save settings to file."
      }
     },
     "6ab12f1fe2d240d5a879c79c99c1c165": {
      "model_module": "@jupyter-widgets/base",
      "model_module_version": "1.2.0",
      "model_name": "LayoutModel",
      "state": {}
     },
     "6abb2e8784434d6aa59524b8d813d24f": {
      "model_module": "@jupyter-widgets/base",
      "model_module_version": "1.2.0",
      "model_name": "LayoutModel",
      "state": {}
     },
     "6ac37591daca4d89b3ce3c6b85b902ab": {
      "model_module": "@jupyter-widgets/base",
      "model_module_version": "1.2.0",
      "model_name": "LayoutModel",
      "state": {}
     },
     "6ae054f6017b4c19b7b2bdc316a9b0fa": {
      "model_module": "@jupyter-widgets/controls",
      "model_module_version": "1.5.0",
      "model_name": "DescriptionStyleModel",
      "state": {
       "description_width": ""
      }
     },
     "6b68a7884e4a41998ee603a35323c248": {
      "model_module": "@jupyter-widgets/controls",
      "model_module_version": "1.5.0",
      "model_name": "TextModel",
      "state": {
       "description": "aks_service_name",
       "layout": "IPY_MODEL_d9b9396bdeb94cb7ba3dadc941aa3916",
       "placeholder": "AKS Service Name",
       "style": "IPY_MODEL_f2bdb0e7b8dc4510964de2db2415b115"
      }
     },
     "6b68c9208cb54d04a8c056ba3aae7065": {
      "model_module": "@jupyter-widgets/controls",
      "model_module_version": "1.5.0",
      "model_name": "TextModel",
      "state": {
       "description": "cpu_cores",
       "layout": "IPY_MODEL_8a4d767ee9b04c3cb2f0468519766775",
       "placeholder": "cpu cores for web service",
       "style": "IPY_MODEL_13142751c5c542a09c188ee910f7a6c8",
       "value": "1"
      }
     },
     "6b70d1d2b91543128a6e7e42513e9d29": {
      "model_module": "@jupyter-widgets/base",
      "model_module_version": "1.2.0",
      "model_name": "LayoutModel",
      "state": {}
     },
     "6b71d4606d84402480940ce2b62b5c9f": {
      "model_module": "@jupyter-widgets/controls",
      "model_module_version": "1.5.0",
      "model_name": "DescriptionStyleModel",
      "state": {
       "description_width": ""
      }
     },
     "6b72eed31123482d8fc9c83259920d73": {
      "model_module": "@jupyter-widgets/controls",
      "model_module_version": "1.5.0",
      "model_name": "DropdownModel",
      "state": {
       "_options_labels": [
        "eastus",
        "eastus2",
        "canadacentral",
        "centralus",
        "northcentralus",
        "southcentralus",
        "westcentralus",
        "westus",
        "westus2"
       ],
       "description": "aks_location",
       "index": 0,
       "layout": "IPY_MODEL_d5cd26a17f054f0babbf3cf848ea600a",
       "style": "IPY_MODEL_1335558967654ca9b6492f8fbb7e38e6"
      }
     },
     "6b8d50b529244970bf82ad973527b908": {
      "model_module": "@jupyter-widgets/base",
      "model_module_version": "1.2.0",
      "model_name": "LayoutModel",
      "state": {}
     },
     "6b987b21d947420198ade1101d468491": {
      "model_module": "@jupyter-widgets/controls",
      "model_module_version": "1.5.0",
      "model_name": "TextModel",
      "state": {
       "description": "subscription_id",
       "layout": "IPY_MODEL_5c3f5a991a8e4476a624405fb5dafb3d",
       "placeholder": "Azure Subscription Id",
       "style": "IPY_MODEL_f3aa1528a9654bdcabf8c828c9ac27a4",
       "value": "0ca618d2-22a8-413a-96d0-0f1b531129c3"
      }
     },
     "6bd3cd92fbb84b6c90fa9e8ff4f2441b": {
      "model_module": "@jupyter-widgets/controls",
      "model_module_version": "1.5.0",
      "model_name": "DescriptionStyleModel",
      "state": {
       "description_width": ""
      }
     },
     "6be5fb43d7954d0a83d923317f422058": {
      "model_module": "@jupyter-widgets/controls",
      "model_module_version": "1.5.0",
      "model_name": "ButtonModel",
      "state": {
       "description": "Use existing",
       "layout": "IPY_MODEL_5eec1b71d22946ef87e3147a7c9c3629",
       "style": "IPY_MODEL_2669a6d2ae5746c58b1b25b4b79b00c7",
       "tooltip": "Use an existing resource."
      }
     },
     "6c20dce2a3e34b17ac59592774970f1c": {
      "model_module": "@jupyter-widgets/controls",
      "model_module_version": "1.5.0",
      "model_name": "ButtonStyleModel",
      "state": {}
     },
     "6c229c9df93343229a9c0c761df6c050": {
      "model_module": "@jupyter-widgets/base",
      "model_module_version": "1.2.0",
      "model_name": "LayoutModel",
      "state": {}
     },
     "6c4e45c44909491faeb9dd2ada9d3f21": {
      "model_module": "@jupyter-widgets/controls",
      "model_module_version": "1.5.0",
      "model_name": "DescriptionStyleModel",
      "state": {
       "description_width": ""
      }
     },
     "6c70a7c6471f4a139d5b64b2c7e53b01": {
      "model_module": "@jupyter-widgets/base",
      "model_module_version": "1.2.0",
      "model_name": "LayoutModel",
      "state": {}
     },
     "6c86560386e142b39edb620ddb92f44e": {
      "model_module": "@jupyter-widgets/base",
      "model_module_version": "1.2.0",
      "model_name": "LayoutModel",
      "state": {}
     },
     "6c9f83f8ac3e48c2ade8e74b77470b93": {
      "model_module": "@jupyter-widgets/base",
      "model_module_version": "1.2.0",
      "model_name": "LayoutModel",
      "state": {}
     },
     "6cac4e73ea704d3abc5ebb1fb820f029": {
      "model_module": "@jupyter-widgets/controls",
      "model_module_version": "1.5.0",
      "model_name": "DescriptionStyleModel",
      "state": {
       "description_width": ""
      }
     },
     "6cacf4eaa6b94d8dbace930ece08862c": {
      "model_module": "@jupyter-widgets/base",
      "model_module_version": "1.2.0",
      "model_name": "LayoutModel",
      "state": {}
     },
     "6d5f67f7e00241c8ab1f61f90316d788": {
      "model_module": "@jupyter-widgets/base",
      "model_module_version": "1.2.0",
      "model_name": "LayoutModel",
      "state": {}
     },
     "6d7ad7571f9b4041b0491402bb70a402": {
      "model_module": "@jupyter-widgets/base",
      "model_module_version": "1.2.0",
      "model_name": "LayoutModel",
      "state": {}
     },
     "6df2ef37e86e42879a4868e756432572": {
      "model_module": "@jupyter-widgets/controls",
      "model_module_version": "1.5.0",
      "model_name": "ButtonModel",
      "state": {
       "description": "Use existing",
       "layout": "IPY_MODEL_c43ad32a7f4a4ee98a1f9f8ffc5c256f",
       "style": "IPY_MODEL_48a0fad18fcd47e79ab7a9827b5ecf9d",
       "tooltip": "Use an existing resource."
      }
     },
     "6e17531fe953466a810887725c4b3f7a": {
      "model_module": "@jupyter-widgets/base",
      "model_module_version": "1.2.0",
      "model_name": "LayoutModel",
      "state": {}
     },
     "6e2b8659301e4deab2aa8be2e197b919": {
      "model_module": "@jupyter-widgets/base",
      "model_module_version": "1.2.0",
      "model_name": "LayoutModel",
      "state": {}
     },
     "6e62d75ebbbb471597a98f0a7eb7c8bf": {
      "model_module": "@jupyter-widgets/base",
      "model_module_version": "1.2.0",
      "model_name": "LayoutModel",
      "state": {}
     },
     "6e6a1ce159fc4f2d8760282140b40048": {
      "model_module": "@jupyter-widgets/base",
      "model_module_version": "1.2.0",
      "model_name": "LayoutModel",
      "state": {}
     },
     "6e9ac9d72f954a7891dc6a4d3fd9ab4a": {
      "model_module": "@jupyter-widgets/base",
      "model_module_version": "1.2.0",
      "model_name": "LayoutModel",
      "state": {}
     },
     "6e9d71dbc9074f8abac16cb78ce5a1ba": {
      "model_module": "@jupyter-widgets/controls",
      "model_module_version": "1.5.0",
      "model_name": "HBoxModel",
      "state": {
       "children": [
        "IPY_MODEL_32ec8c989601422e9af18cb3b4b872ff",
        "IPY_MODEL_49ca6d399f3b4ee190d8dd3089bc28dc"
       ],
       "layout": "IPY_MODEL_766d799d2a0f414bb921a5d2fcda8076"
      }
     },
     "6ea550eefab34a83b30a8a00fee65239": {
      "model_module": "@jupyter-widgets/controls",
      "model_module_version": "1.5.0",
      "model_name": "DescriptionStyleModel",
      "state": {
       "description_width": ""
      }
     },
     "6eb39f3b89dd4918b7606b2bba2aefc4": {
      "model_module": "@jupyter-widgets/controls",
      "model_module_version": "1.5.0",
      "model_name": "DescriptionStyleModel",
      "state": {
       "description_width": ""
      }
     },
     "6ef2d40816984c2093249cdec8bba8d0": {
      "model_module": "@jupyter-widgets/base",
      "model_module_version": "1.2.0",
      "model_name": "LayoutModel",
      "state": {}
     },
     "6f40d70b43cb42d7a7c50c7421f8b24d": {
      "model_module": "@jupyter-widgets/controls",
      "model_module_version": "1.5.0",
      "model_name": "HBoxModel",
      "state": {
       "children": [
        "IPY_MODEL_c8bb9285ef3e43129a78c34b8ce122a6",
        "IPY_MODEL_f94790fbc87642a19c737ad701c84365"
       ],
       "layout": "IPY_MODEL_5356d79c78434a61811a78af0b26bf0f"
      }
     },
     "6f98af9902d84f02a74039713dd2cad4": {
      "model_module": "@jupyter-widgets/base",
      "model_module_version": "1.2.0",
      "model_name": "LayoutModel",
      "state": {}
     },
     "6fa0d0da76e14045b8a0a087fe3bf222": {
      "model_module": "@jupyter-widgets/controls",
      "model_module_version": "1.5.0",
      "model_name": "DropdownModel",
      "state": {
       "_options_labels": [
        "eastus",
        "eastus2",
        "canadacentral",
        "centralus",
        "northcentralus",
        "southcentralus",
        "westcentralus",
        "westus",
        "westus2"
       ],
       "description": "deep_aks_location",
       "index": 0,
       "layout": "IPY_MODEL_29b3c70e4153403da9157dde0b0fe83b",
       "style": "IPY_MODEL_c457a3ca9ddb46d9a8cb89d850165c3d"
      }
     },
     "6fd81114f73c4dceb6de9cb26f743d43": {
      "model_module": "@jupyter-widgets/controls",
      "model_module_version": "1.5.0",
      "model_name": "TextModel",
      "state": {
       "description": "workspace_name",
       "layout": "IPY_MODEL_5ba6658b760a4eafa6d5e4a775309e84",
       "placeholder": "Azure ML Workspace Name",
       "style": "IPY_MODEL_e11b7abda8474a89b97daf2b11635799"
      }
     },
     "6fe60fc58ac747c290e600b635a00ce4": {
      "model_module": "@jupyter-widgets/base",
      "model_module_version": "1.2.0",
      "model_name": "LayoutModel",
      "state": {}
     },
     "6fe803a938934f3887dcffc074ca5b73": {
      "model_module": "@jupyter-widgets/controls",
      "model_module_version": "1.5.0",
      "model_name": "DescriptionStyleModel",
      "state": {
       "description_width": ""
      }
     },
     "701635a1e0c64115a4f769c7aba4ae7b": {
      "model_module": "@jupyter-widgets/controls",
      "model_module_version": "1.5.0",
      "model_name": "HBoxModel",
      "state": {
       "children": [
        "IPY_MODEL_2f4d79a38a9f4aca88faad8f369be1ad",
        "IPY_MODEL_358215a7b7ca4277950e1f8d071fa494"
       ],
       "layout": "IPY_MODEL_8ad223f4994c43eda0307d5ca28e5b4e"
      }
     },
     "7023f6a7a2e04f7b8eb14eba53f7db84": {
      "model_module": "@jupyter-widgets/controls",
      "model_module_version": "1.5.0",
      "model_name": "ButtonStyleModel",
      "state": {}
     },
     "703424530f354884a1994a28496689fa": {
      "model_module": "@jupyter-widgets/controls",
      "model_module_version": "1.5.0",
      "model_name": "DropdownModel",
      "state": {
       "_options_labels": [
        "AG-CE-AI-GPU-EXPERIMENTATION",
        "AG-AzureCAT-AITao-Test-COGSNonProd-IO1685734",
        "AG-CE-AI-DEVOPS",
        "AG-AzureCAT-AIDemos-Test-COGSNonProd-IO1685734",
        "AGCE-AI-DELETE-Sharat",
        "AG-AzureCAT-AILab-Test-COGSNonProd-IO1685734",
        "Visual Studio Ultimate with MSDN",
        "AG-AzureCAT-AIDataPM-Test-COGSNonProd-IO1685743",
        "AG-AzureCAT-AIDanielle-Test-COGSNonProd-IO1685734",
        "AG-CE-AI-MN-CICOMMERCIAL",
        "AG-CE-AI-MN-INCUBATION",
        "AG-CE-AI-MN-OSS",
        "AG-CE-AI-MN-E2E",
        "AG-CE-AI-MN-HU",
        "AG-CE-AI-MN-SEISMIC",
        "AG-CE-AI-STORAGE",
        "AG-CE-AI-MN-RETAIL",
        "AG-CE-AI-FEEDBACK",
        "AG-CE-AI-MN-LAB",
        "Azure SDK Engineering System",
        "Epic-Edge-ES-ReproVMLab",
        "ES-Stream-Operations",
        "Core-ES-BranchManagement",
        "WDG-ES-RnD-GITTrain",
        "Cosmos_WDG_Core_BnB_100292",
        "Azure Stack Diagnostics CI and Production VaaS",
        "Edge DevTools Client",
        "Azure Stack CSS Labs",
        "AppInsight Test",
        "ddverify",
        "VSEng MadDog-RPS Telemetry",
        "CAT_Eng",
        "RPS-cloud-common-2",
        "Core-ES-WorkManagement",
        "Azure_Maps_MDP_Engineering",
        "Test/Demo - VipSwapper Operations",
        "COSINE-ES-Signing Azure Service",
        "AI Infra Build",
        "AG-CE-E2E-AI",
        "DEMO - how RepDemo are you",
        "ADS Demo Subscription",
        "AzureCAT E2E Blue Steel",
        "Azure Search DEV Service Layer (kmort,miwelsh,bohuan)"
       ],
       "description": "subscription_id",
       "index": 2,
       "layout": "IPY_MODEL_505d05f565164ce79b8a96cb9b8a063a",
       "style": "IPY_MODEL_259b6b86f8f64fcc821bd9bfb14815cb"
      }
     },
     "70762171dc1e439ca4d4e0c0ad1987b6": {
      "model_module": "@jupyter-widgets/controls",
      "model_module_version": "1.5.0",
      "model_name": "DescriptionStyleModel",
      "state": {
       "description_width": ""
      }
     },
     "7093d1345914488bb4f362625632de76": {
      "model_module": "@jupyter-widgets/base",
      "model_module_version": "1.2.0",
      "model_name": "LayoutModel",
      "state": {}
     },
     "709f813180d74b96bc7b4c44eb34fb5f": {
      "model_module": "@jupyter-widgets/base",
      "model_module_version": "1.2.0",
      "model_name": "LayoutModel",
      "state": {}
     },
     "70b21e1bb1434a0ab250c9bcaa31d08b": {
      "model_module": "@jupyter-widgets/base",
      "model_module_version": "1.2.0",
      "model_name": "LayoutModel",
      "state": {}
     },
     "70b5920a82134e5ab5cf3c764e294e91": {
      "model_module": "@jupyter-widgets/base",
      "model_module_version": "1.2.0",
      "model_name": "LayoutModel",
      "state": {}
     },
     "70c553889d594c859b5a81dbf7fffae0": {
      "model_module": "@jupyter-widgets/controls",
      "model_module_version": "1.5.0",
      "model_name": "ButtonModel",
      "state": {
       "description": "Overwrite Settings",
       "icon": "check",
       "layout": "IPY_MODEL_a9d958317d4449f88283309ab97e677a",
       "style": "IPY_MODEL_a7073cbddf7c4f2f8f4ea198fdce2923",
       "tooltip": "Click to save settings to file."
      }
     },
     "70f014febea949f6aa507d9f7e0bc080": {
      "model_module": "@jupyter-widgets/controls",
      "model_module_version": "1.5.0",
      "model_name": "DescriptionStyleModel",
      "state": {
       "description_width": ""
      }
     },
     "710049a87aef4d468caeca2709bbc9d7": {
      "model_module": "@jupyter-widgets/controls",
      "model_module_version": "1.5.0",
      "model_name": "ButtonStyleModel",
      "state": {}
     },
     "711ab8e8749141829d07c15941acba31": {
      "model_module": "@jupyter-widgets/output",
      "model_module_version": "1.0.0",
      "model_name": "OutputModel",
      "state": {
       "layout": "IPY_MODEL_7f06d2d760bf47efa68ce518e834a571"
      }
     },
     "71a5d0c5f7aa44e8907ab71803f27079": {
      "model_module": "@jupyter-widgets/controls",
      "model_module_version": "1.5.0",
      "model_name": "ButtonModel",
      "state": {
       "description": "Use existing",
       "icon": "check",
       "layout": "IPY_MODEL_47f301467ff342fe918a35502574d102",
       "style": "IPY_MODEL_c3c1730fb7c244aa860944e89e47ce37",
       "tooltip": "Use an existing resource."
      }
     },
     "71de8c2f4443478991a7cc9c9dfe9a25": {
      "model_module": "@jupyter-widgets/base",
      "model_module_version": "1.2.0",
      "model_name": "LayoutModel",
      "state": {}
     },
     "71f5512917fc4c0ba2d3caeacd19a587": {
      "model_module": "@jupyter-widgets/controls",
      "model_module_version": "1.5.0",
      "model_name": "DropdownModel",
      "state": {
       "_options_labels": [
        "AG-CE-AI-GPU-EXPERIMENTATION",
        "AG-AzureCAT-AITao-Test-COGSNonProd-IO1685734",
        "AG-CE-AI-DEVOPS",
        "AG-AzureCAT-AIDemos-Test-COGSNonProd-IO1685734",
        "AGCE-AI-DELETE-Sharat",
        "AG-AzureCAT-AILab-Test-COGSNonProd-IO1685734",
        "Visual Studio Ultimate with MSDN",
        "AG-AzureCAT-AIDataPM-Test-COGSNonProd-IO1685743",
        "AG-AzureCAT-AIDanielle-Test-COGSNonProd-IO1685734",
        "AG-CE-AI-MN-CICOMMERCIAL",
        "AG-CE-AI-MN-INCUBATION",
        "AG-CE-AI-MN-OSS",
        "AG-CE-AI-MN-E2E",
        "AG-CE-AI-MN-HU",
        "AG-CE-AI-MN-SEISMIC",
        "AG-CE-AI-STORAGE",
        "AG-CE-AI-MN-RETAIL",
        "AG-CE-AI-FEEDBACK",
        "AG-CE-AI-MN-LAB",
        "Azure SDK Engineering System",
        "Epic-Edge-ES-ReproVMLab",
        "ES-Stream-Operations",
        "Core-ES-BranchManagement",
        "WDG-ES-RnD-GITTrain",
        "Cosmos_WDG_Core_BnB_100292",
        "Azure Stack Diagnostics CI and Production VaaS",
        "Edge DevTools Client",
        "Azure Stack CSS Labs",
        "AppInsight Test",
        "ddverify",
        "VSEng MadDog-RPS Telemetry",
        "CAT_Eng",
        "RPS-cloud-common-2",
        "Core-ES-WorkManagement",
        "Azure_Maps_MDP_Engineering",
        "Test/Demo - VipSwapper Operations",
        "COSINE-ES-Signing Azure Service",
        "AI Infra Build",
        "AG-CE-E2E-AI",
        "DEMO - how RepDemo are you",
        "ADS Demo Subscription",
        "AzureCAT E2E Blue Steel",
        "Azure Search DEV Service Layer (kmort,miwelsh,bohuan)"
       ],
       "description": "workspace_region:",
       "index": 2,
       "layout": "IPY_MODEL_bff712b7928e4f098c9af4b3d1a82259",
       "style": "IPY_MODEL_5f14e578f50245e6bbab6174ec44122c"
      }
     },
     "727bddb6fa004459a6c23f1c36c2dce2": {
      "model_module": "@jupyter-widgets/base",
      "model_module_version": "1.2.0",
      "model_name": "LayoutModel",
      "state": {}
     },
     "72c2b8bfd62f4335a915ce503b499144": {
      "model_module": "@jupyter-widgets/controls",
      "model_module_version": "1.5.0",
      "model_name": "DescriptionStyleModel",
      "state": {
       "description_width": ""
      }
     },
     "7313065ea40e4479ba0f9d58bcde3333": {
      "model_module": "@jupyter-widgets/base",
      "model_module_version": "1.2.0",
      "model_name": "LayoutModel",
      "state": {}
     },
     "73420a3d0b9e464c856aef2147c3c0df": {
      "model_module": "@jupyter-widgets/base",
      "model_module_version": "1.2.0",
      "model_name": "LayoutModel",
      "state": {}
     },
     "73428bf114924a4ab5ee6f6ad246086a": {
      "model_module": "@jupyter-widgets/controls",
      "model_module_version": "1.5.0",
      "model_name": "DescriptionStyleModel",
      "state": {
       "description_width": ""
      }
     },
     "7350332b1a8d48138b1bfccc89548083": {
      "model_module": "@jupyter-widgets/base",
      "model_module_version": "1.2.0",
      "model_name": "LayoutModel",
      "state": {}
     },
     "735ecc7f6d6b43cb978641f610865864": {
      "model_module": "@jupyter-widgets/controls",
      "model_module_version": "1.5.0",
      "model_name": "DescriptionStyleModel",
      "state": {
       "description_width": ""
      }
     },
     "73646b0e86f74c4a8091f4d1751c3c85": {
      "model_module": "@jupyter-widgets/controls",
      "model_module_version": "1.5.0",
      "model_name": "DescriptionStyleModel",
      "state": {
       "description_width": ""
      }
     },
     "7388d51d25c344b49393b6f1d8659a9f": {
      "model_module": "@jupyter-widgets/base",
      "model_module_version": "1.2.0",
      "model_name": "LayoutModel",
      "state": {}
     },
     "73a25b0441f04e0d9019aa825651ff7a": {
      "model_module": "@jupyter-widgets/base",
      "model_module_version": "1.2.0",
      "model_name": "LayoutModel",
      "state": {}
     },
     "73c1a0d5248947228ec3d8b73d33cf06": {
      "model_module": "@jupyter-widgets/controls",
      "model_module_version": "1.5.0",
      "model_name": "ButtonStyleModel",
      "state": {}
     },
     "73c73f32b2d34092b740331afa318027": {
      "model_module": "@jupyter-widgets/controls",
      "model_module_version": "1.5.0",
      "model_name": "ButtonStyleModel",
      "state": {}
     },
     "73cff5695c194819b314338f6d7dc4e5": {
      "model_module": "@jupyter-widgets/controls",
      "model_module_version": "1.5.0",
      "model_name": "DescriptionStyleModel",
      "state": {
       "description_width": ""
      }
     },
     "73e2ed58f7dc4106b449cecdf203f430": {
      "model_module": "@jupyter-widgets/controls",
      "model_module_version": "1.5.0",
      "model_name": "ButtonModel",
      "state": {
       "description": "Use existing",
       "layout": "IPY_MODEL_a8d7768abb84441f895a38455a55a42b",
       "style": "IPY_MODEL_44ed42ee464f492c86e067031bb819b1",
       "tooltip": "Use an existing resource."
      }
     },
     "74367ed5ff3c4e1aa49b2b3bffa2c62b": {
      "model_module": "@jupyter-widgets/controls",
      "model_module_version": "1.5.0",
      "model_name": "HBoxModel",
      "state": {
       "children": [
        "IPY_MODEL_9973b94c9e8a48569cc874acd5777faa"
       ],
       "layout": "IPY_MODEL_3ffa6fc8ab44442e8bed3f76edb2851b"
      }
     },
     "7450082c80004c199f4a4b70d4230e46": {
      "model_module": "@jupyter-widgets/controls",
      "model_module_version": "1.5.0",
      "model_name": "HBoxModel",
      "state": {
       "children": [
        "IPY_MODEL_bea33f4ad32f4d0faf179e4f5abb1615",
        "IPY_MODEL_fb2bd9d0313e4095bf0dbcae5f0b5ba1"
       ],
       "layout": "IPY_MODEL_d701bf23f140405ba7f3ba0882a00b28"
      }
     },
     "7453b7e41e5441af8bbbd1b2d6280ccd": {
      "model_module": "@jupyter-widgets/controls",
      "model_module_version": "1.5.0",
      "model_name": "TextModel",
      "state": {
       "description": "deep_aks_location",
       "layout": "IPY_MODEL_279a67b9567a403e99fa9fe39b66b2c4",
       "placeholder": "AKS Azure Region",
       "style": "IPY_MODEL_1353a8e94ea547a3bdca93e35c05206f",
       "value": "eastus"
      }
     },
     "74562c458b904d558da0099b829e1a0b": {
      "model_module": "@jupyter-widgets/controls",
      "model_module_version": "1.5.0",
      "model_name": "DescriptionStyleModel",
      "state": {
       "description_width": ""
      }
     },
     "7471295a49f44c50a7a03665a1d15bd7": {
      "model_module": "@jupyter-widgets/base",
      "model_module_version": "1.2.0",
      "model_name": "LayoutModel",
      "state": {}
     },
     "7483e9c161214313a374e32dbccdf37c": {
      "model_module": "@jupyter-widgets/controls",
      "model_module_version": "1.5.0",
      "model_name": "DescriptionStyleModel",
      "state": {
       "description_width": ""
      }
     },
     "7490990a014d490187290be25538d622": {
      "model_module": "@jupyter-widgets/controls",
      "model_module_version": "1.5.0",
      "model_name": "DescriptionStyleModel",
      "state": {
       "description_width": ""
      }
     },
     "74a78890e87c4f3d8853a25e3264e14a": {
      "model_module": "@jupyter-widgets/base",
      "model_module_version": "1.2.0",
      "model_name": "LayoutModel",
      "state": {}
     },
     "74af7e016aff4db2ab0986f72a9a1897": {
      "model_module": "@jupyter-widgets/controls",
      "model_module_version": "1.5.0",
      "model_name": "TextModel",
      "state": {
       "description": "aks_location",
       "layout": "IPY_MODEL_03867ec4c770478ebabfda10eae0f05d",
       "placeholder": "AKS Azure Region",
       "style": "IPY_MODEL_51085a66ba2b4c9d9aac322f2d2983b8"
      }
     },
     "7528ff92bc66489d8c287975d0e62f9c": {
      "model_module": "@jupyter-widgets/controls",
      "model_module_version": "1.5.0",
      "model_name": "TextModel",
      "state": {
       "description": "aks_name",
       "layout": "IPY_MODEL_651c73bbb33648ac8f396089e3e5c074",
       "placeholder": "AKS Cluster Name",
       "style": "IPY_MODEL_9eb72148237e4fb68368e8017022be2b",
       "value": "akscluster2"
      }
     },
     "75f364c6a7564a81b4fdc3473b9becd1": {
      "model_module": "@jupyter-widgets/base",
      "model_module_version": "1.2.0",
      "model_name": "LayoutModel",
      "state": {}
     },
     "75f7c96f14aa4e1fb28157d35f6087f7": {
      "model_module": "@jupyter-widgets/controls",
      "model_module_version": "1.5.0",
      "model_name": "TextModel",
      "state": {
       "description": "resource_group",
       "layout": "IPY_MODEL_5f0a44590a5545a886a4da9e39ed84bd",
       "placeholder": "Azure Resource Group Name",
       "style": "IPY_MODEL_35ae3113d7f748e4b8a8de27a103c410",
       "value": "azmlrts-eastus-stable"
      }
     },
     "7632c76cdff44f7282159880b9a6f003": {
      "model_module": "@jupyter-widgets/controls",
      "model_module_version": "1.5.0",
      "model_name": "ButtonStyleModel",
      "state": {}
     },
     "7637f07b0cb1476ea7a8c208d8fa4902": {
      "model_module": "@jupyter-widgets/controls",
      "model_module_version": "1.5.0",
      "model_name": "HBoxModel",
      "state": {
       "children": [
        "IPY_MODEL_d283894ed74b42b49412d5746e941d53"
       ],
       "layout": "IPY_MODEL_fcbd7157da8e4db0a0f349e5dbb75ed0"
      }
     },
     "7668fb66f5564e7c946d54a71397bed9": {
      "model_module": "@jupyter-widgets/controls",
      "model_module_version": "1.5.0",
      "model_name": "DescriptionStyleModel",
      "state": {
       "description_width": ""
      }
     },
     "7669e8579ca740a2b111032d7e1040ad": {
      "model_module": "@jupyter-widgets/base",
      "model_module_version": "1.2.0",
      "model_name": "LayoutModel",
      "state": {}
     },
     "766d799d2a0f414bb921a5d2fcda8076": {
      "model_module": "@jupyter-widgets/base",
      "model_module_version": "1.2.0",
      "model_name": "LayoutModel",
      "state": {}
     },
     "768b2016e5c541eb8937d7e20b114d0d": {
      "model_module": "@jupyter-widgets/base",
      "model_module_version": "1.2.0",
      "model_name": "LayoutModel",
      "state": {}
     },
     "768d7fa5d68f40b294a16176a47ab691": {
      "model_module": "@jupyter-widgets/base",
      "model_module_version": "1.2.0",
      "model_name": "LayoutModel",
      "state": {}
     },
     "769c1cba4fde46eca94eefac12537551": {
      "model_module": "@jupyter-widgets/controls",
      "model_module_version": "1.5.0",
      "model_name": "HBoxModel",
      "state": {
       "children": [
        "IPY_MODEL_25eadf287ca24a2c89ded4bc658b0fea"
       ],
       "layout": "IPY_MODEL_0828684a33df4aeeab2d97bf5622abd7"
      }
     },
     "76b0b17cffec4f41bd74f1671117c766": {
      "model_module": "@jupyter-widgets/base",
      "model_module_version": "1.2.0",
      "model_name": "LayoutModel",
      "state": {}
     },
     "76be06f7aa1c43c7973d6d3a37d6130f": {
      "model_module": "@jupyter-widgets/controls",
      "model_module_version": "1.5.0",
      "model_name": "HBoxModel",
      "state": {
       "children": [
        "IPY_MODEL_a9bebed5c3c24c0a9f9ada044a180e1c",
        "IPY_MODEL_d4db657f925648dfb563cacbcb2c11b3"
       ],
       "layout": "IPY_MODEL_1965643a14164b5986cc5f515ef056f0"
      }
     },
     "76c52b8d16b941c3b7767f188f6e5ceb": {
      "model_module": "@jupyter-widgets/controls",
      "model_module_version": "1.5.0",
      "model_name": "DescriptionStyleModel",
      "state": {
       "description_width": ""
      }
     },
     "76c760706b524d5595b80bc0b9ac58cb": {
      "model_module": "@jupyter-widgets/base",
      "model_module_version": "1.2.0",
      "model_name": "LayoutModel",
      "state": {}
     },
     "76d3f9cf75c841d49ef9b36d2e0747ec": {
      "model_module": "@jupyter-widgets/controls",
      "model_module_version": "1.5.0",
      "model_name": "DescriptionStyleModel",
      "state": {
       "description_width": ""
      }
     },
     "76e16edde47247f1b899f9fdc2c88544": {
      "model_module": "@jupyter-widgets/controls",
      "model_module_version": "1.5.0",
      "model_name": "ButtonStyleModel",
      "state": {}
     },
     "76e23f125414485da2bbf115a5a24761": {
      "model_module": "@jupyter-widgets/base",
      "model_module_version": "1.2.0",
      "model_name": "LayoutModel",
      "state": {}
     },
     "76f92bc2526d4a738867ecd34f39b1d1": {
      "model_module": "@jupyter-widgets/controls",
      "model_module_version": "1.5.0",
      "model_name": "ButtonModel",
      "state": {
       "description": "Save Upload",
       "icon": "check",
       "layout": "IPY_MODEL_44ca8c53aa594230b6513dfb98a961bd",
       "style": "IPY_MODEL_6c20dce2a3e34b17ac59592774970f1c",
       "tooltip": "Click to save settings to file."
      }
     },
     "772f1036c0ba4683964199234678761b": {
      "model_module": "@jupyter-widgets/controls",
      "model_module_version": "1.5.0",
      "model_name": "ButtonStyleModel",
      "state": {}
     },
     "773696b7bc4d462f8fa58ca65fdefbf3": {
      "model_module": "@jupyter-widgets/controls",
      "model_module_version": "1.5.0",
      "model_name": "DescriptionStyleModel",
      "state": {
       "description_width": ""
      }
     },
     "77417dd156a34d188eeed16d632d10dd": {
      "model_module": "@jupyter-widgets/base",
      "model_module_version": "1.2.0",
      "model_name": "LayoutModel",
      "state": {}
     },
     "775d2a93ba5a4d9daaeef620a37733dc": {
      "model_module": "@jupyter-widgets/controls",
      "model_module_version": "1.5.0",
      "model_name": "DescriptionStyleModel",
      "state": {
       "description_width": ""
      }
     },
     "7778679340e547888f1ab9e845df9613": {
      "model_module": "@jupyter-widgets/controls",
      "model_module_version": "1.5.0",
      "model_name": "TextModel",
      "state": {
       "description": "deep_aks_service_name",
       "layout": "IPY_MODEL_4748772b4dab47d4902d449b935d847d",
       "placeholder": "AKS Service Name",
       "style": "IPY_MODEL_9e5a61be190742cfa2cb9578f39808c1",
       "value": "deepaksservice"
      }
     },
     "78041b1bbaa24834876eb73388ec7252": {
      "model_module": "@jupyter-widgets/controls",
      "model_module_version": "1.5.0",
      "model_name": "ButtonStyleModel",
      "state": {}
     },
     "781e0fabda124d33a687b28b57e44086": {
      "model_module": "@jupyter-widgets/controls",
      "model_module_version": "1.5.0",
      "model_name": "FileUploadModel",
      "state": {
       "accept": ".yml",
       "description_tooltip": null,
       "layout": "IPY_MODEL_c7aabee4039c4a10a182121c1f1f153d",
       "style": "IPY_MODEL_b613ca672d534806a1c6fc54b8a12250"
      }
     },
     "782ca9d18a1e47cbb561f82f1715fdfe": {
      "model_module": "@jupyter-widgets/controls",
      "model_module_version": "1.5.0",
      "model_name": "DescriptionStyleModel",
      "state": {
       "description_width": ""
      }
     },
     "78472e790cd74f78bb8f6426073410f9": {
      "model_module": "@jupyter-widgets/controls",
      "model_module_version": "1.5.0",
      "model_name": "ButtonModel",
      "state": {
       "description": "Overwrite Settings",
       "icon": "check",
       "layout": "IPY_MODEL_2012be65137c4c97a52dc5b331cad9a3",
       "style": "IPY_MODEL_a3d56cb983db4aefa93e132fc0dc91f5",
       "tooltip": "Click to save settings to file."
      }
     },
     "785e22b1598d4c53b4192cdc67f6cbf8": {
      "model_module": "@jupyter-widgets/base",
      "model_module_version": "1.2.0",
      "model_name": "LayoutModel",
      "state": {}
     },
     "78bbccf3260f4db3bde7c7611319ffc4": {
      "model_module": "@jupyter-widgets/controls",
      "model_module_version": "1.5.0",
      "model_name": "TextModel",
      "state": {
       "description": "aks_service_name",
       "layout": "IPY_MODEL_4daea494bc5b4b909a699f1abe95bf61",
       "placeholder": "AKS Service Name",
       "style": "IPY_MODEL_c37e42ae25c44186917e70d9fd37b8c5",
       "value": "aksservice2"
      }
     },
     "78c19076cdbf4761af1d20a574a27cae": {
      "model_module": "@jupyter-widgets/controls",
      "model_module_version": "1.5.0",
      "model_name": "DescriptionStyleModel",
      "state": {
       "description_width": ""
      }
     },
     "78d46cedfb474a13b3db44454542f8a3": {
      "model_module": "@jupyter-widgets/base",
      "model_module_version": "1.2.0",
      "model_name": "LayoutModel",
      "state": {}
     },
     "790c95b6ccd340008a890b0f5100d1ba": {
      "model_module": "@jupyter-widgets/base",
      "model_module_version": "1.2.0",
      "model_name": "LayoutModel",
      "state": {}
     },
     "7936eddffdc0426abe4f039eab232a03": {
      "model_module": "@jupyter-widgets/controls",
      "model_module_version": "1.5.0",
      "model_name": "HBoxModel",
      "state": {
       "children": [
        "IPY_MODEL_0cf57dc58b6c4fb794e329a5f1269a5c"
       ],
       "layout": "IPY_MODEL_036840f7b8844f838bd90d626f2acf84"
      }
     },
     "798e628a53774657ba83217d2e1527e6": {
      "model_module": "@jupyter-widgets/base",
      "model_module_version": "1.2.0",
      "model_name": "LayoutModel",
      "state": {}
     },
     "79a9eba63b844d6eadb44fc24db01264": {
      "model_module": "@jupyter-widgets/base",
      "model_module_version": "1.2.0",
      "model_name": "LayoutModel",
      "state": {}
     },
     "79cd54ee30d0411cbd09aefa7e0890ae": {
      "model_module": "@jupyter-widgets/base",
      "model_module_version": "1.2.0",
      "model_name": "LayoutModel",
      "state": {}
     },
     "79ea5c051d7647728ed26a710cb48528": {
      "model_module": "@jupyter-widgets/base",
      "model_module_version": "1.2.0",
      "model_name": "LayoutModel",
      "state": {}
     },
     "7a189828bfc746139e7d9bddd9145579": {
      "model_module": "@jupyter-widgets/controls",
      "model_module_version": "1.5.0",
      "model_name": "ButtonModel",
      "state": {
       "description": "Overwrite Settings",
       "icon": "check",
       "layout": "IPY_MODEL_512c155832bd4e52ae760c6e29f38598",
       "style": "IPY_MODEL_a7a4c54516184430af15d307391cb20d",
       "tooltip": "Click to save settings to file."
      }
     },
     "7a4ce5f07e424ab0b9d51c03f72e3b1f": {
      "model_module": "@jupyter-widgets/controls",
      "model_module_version": "1.5.0",
      "model_name": "HBoxModel",
      "state": {
       "children": [
        "IPY_MODEL_e7801f4adb4a463e95c8bb004f864e9b",
        "IPY_MODEL_a8302c45f24b4533ab64ae3d9aadff86"
       ],
       "layout": "IPY_MODEL_7eec0bb7947648c5b4680c6223995eca"
      }
     },
     "7a57332539f243e099f6c3b4178ca2df": {
      "model_module": "@jupyter-widgets/controls",
      "model_module_version": "1.5.0",
      "model_name": "DescriptionStyleModel",
      "state": {
       "description_width": ""
      }
     },
     "7a7d2f9844b84b9ca9d29c707f128122": {
      "model_module": "@jupyter-widgets/controls",
      "model_module_version": "1.5.0",
      "model_name": "DescriptionStyleModel",
      "state": {
       "description_width": ""
      }
     },
     "7aacf451b8a64c4cb53fe1cef1e6a4ba": {
      "model_module": "@jupyter-widgets/controls",
      "model_module_version": "1.5.0",
      "model_name": "DescriptionStyleModel",
      "state": {
       "description_width": ""
      }
     },
     "7acf9330df284d4caaf78504c87e09f1": {
      "model_module": "@jupyter-widgets/controls",
      "model_module_version": "1.5.0",
      "model_name": "DescriptionStyleModel",
      "state": {
       "description_width": ""
      }
     },
     "7ae643d7428c430bba03649d59466504": {
      "model_module": "@jupyter-widgets/base",
      "model_module_version": "1.2.0",
      "model_name": "LayoutModel",
      "state": {}
     },
     "7b0315dedeeb47c0a87887b5bbd66e3a": {
      "model_module": "@jupyter-widgets/controls",
      "model_module_version": "1.5.0",
      "model_name": "ButtonStyleModel",
      "state": {}
     },
     "7b1fb4624a7d4c2f9e3164bc571a0d4d": {
      "model_module": "@jupyter-widgets/controls",
      "model_module_version": "1.5.0",
      "model_name": "ButtonStyleModel",
      "state": {}
     },
     "7b3144f80974497eb7ab5dfc49b748e0": {
      "model_module": "@jupyter-widgets/controls",
      "model_module_version": "1.5.0",
      "model_name": "DescriptionStyleModel",
      "state": {
       "description_width": ""
      }
     },
     "7b5105e0d45d4ff28f05e6473cf526c2": {
      "model_module": "@jupyter-widgets/base",
      "model_module_version": "1.2.0",
      "model_name": "LayoutModel",
      "state": {}
     },
     "7bad94f00d9d4e43aa88761998503640": {
      "model_module": "@jupyter-widgets/base",
      "model_module_version": "1.2.0",
      "model_name": "LayoutModel",
      "state": {}
     },
     "7bca175744704f35867faae48b07b855": {
      "model_module": "@jupyter-widgets/controls",
      "model_module_version": "1.5.0",
      "model_name": "TextModel",
      "state": {
       "description": "workspace_region",
       "layout": "IPY_MODEL_3320ccad6e4941c4a1c844aa0adb8042",
       "placeholder": "Azure ML Workspace Region",
       "style": "IPY_MODEL_fd1eacb55a9042bbbaf1625525cf90fb",
       "value": "eastus"
      }
     },
     "7bcd79240ea9498b9d7ed9957a7e2cbb": {
      "model_module": "@jupyter-widgets/controls",
      "model_module_version": "1.5.0",
      "model_name": "DescriptionStyleModel",
      "state": {
       "description_width": ""
      }
     },
     "7be292306a0c4729b5e50bb8a18d85d6": {
      "model_module": "@jupyter-widgets/base",
      "model_module_version": "1.2.0",
      "model_name": "LayoutModel",
      "state": {}
     },
     "7c17a5d0df9e4330bb4f8c9b9d93890d": {
      "model_module": "@jupyter-widgets/controls",
      "model_module_version": "1.5.0",
      "model_name": "DropdownModel",
      "state": {
       "_options_labels": [
        "eastus",
        "eastus2",
        "canadacentral",
        "centralus",
        "northcentralus",
        "southcentralus",
        "westcentralus",
        "westus",
        "westus2"
       ],
       "description": "deep_aks_location",
       "index": 0,
       "layout": "IPY_MODEL_f10e61ce777d4db198977d7fc65362ce",
       "style": "IPY_MODEL_a882f614f9f643c7881af8dc6e59f46b"
      }
     },
     "7c1e5a37a4174116b9aac375614b386f": {
      "model_module": "@jupyter-widgets/controls",
      "model_module_version": "1.5.0",
      "model_name": "HBoxModel",
      "state": {
       "children": [
        "IPY_MODEL_d8f092d09c5048d294e63e41cc4ca552",
        "IPY_MODEL_519c8439b52d46079ffc9d4e85d18158"
       ],
       "layout": "IPY_MODEL_0d4f7d85606d4ffb8402303fcc8b2d92"
      }
     },
     "7c3111240edf40e1b2ff5ede1d85607c": {
      "model_module": "@jupyter-widgets/base",
      "model_module_version": "1.2.0",
      "model_name": "LayoutModel",
      "state": {}
     },
     "7c3f8d3fa4d34a62b032bfd3c2eb8b66": {
      "model_module": "@jupyter-widgets/controls",
      "model_module_version": "1.5.0",
      "model_name": "TextModel",
      "state": {
       "description": "node_count",
       "layout": "IPY_MODEL_21f2f14e858c47bd87b40128c1916dc0",
       "placeholder": "number of nodes in Kubernetes cluster",
       "style": "IPY_MODEL_adb6d8dd52a542c79c1e0cae6587a362",
       "value": "4"
      }
     },
     "7c57c1b3287b4b529cfdc2dfc2e6ff9d": {
      "model_module": "@jupyter-widgets/controls",
      "model_module_version": "1.5.0",
      "model_name": "ButtonModel",
      "state": {
       "button_style": "success",
       "description": "Update Settings",
       "icon": "check",
       "layout": "IPY_MODEL_1fa2bd3185ae43e0a2eb85c9a9f4c272",
       "style": "IPY_MODEL_cb7b1a5998124180829872bc6f3f0c1c",
       "tooltip": "Click to save settings to file."
      }
     },
     "7c84fffac7ac4ae4a81f7d205edf203a": {
      "model_module": "@jupyter-widgets/controls",
      "model_module_version": "1.5.0",
      "model_name": "DescriptionStyleModel",
      "state": {
       "description_width": ""
      }
     },
     "7c98a08fe9724d78a67ef34b23feb12b": {
      "model_module": "@jupyter-widgets/base",
      "model_module_version": "1.2.0",
      "model_name": "LayoutModel",
      "state": {}
     },
     "7cbf6144e9f44500a92ccb5e7598f56b": {
      "model_module": "@jupyter-widgets/controls",
      "model_module_version": "1.5.0",
      "model_name": "DropdownModel",
      "state": {
       "_options_labels": [
        "eastus",
        "eastus2",
        "canadacentral",
        "centralus",
        "northcentralus",
        "southcentralus",
        "westcentralus",
        "westus",
        "westus2"
       ],
       "description": "aks_location",
       "index": 0,
       "layout": "IPY_MODEL_0d7d3f4ca56944138703b576756338a2",
       "style": "IPY_MODEL_d4c3d0bbe1794315be3bd9294a869750"
      }
     },
     "7ccfa4e711864a44b7f9791709438a0b": {
      "model_module": "@jupyter-widgets/controls",
      "model_module_version": "1.5.0",
      "model_name": "ButtonStyleModel",
      "state": {}
     },
     "7d08f8470b6a4cf38cddf551787ed9c4": {
      "model_module": "@jupyter-widgets/controls",
      "model_module_version": "1.5.0",
      "model_name": "ButtonStyleModel",
      "state": {}
     },
     "7d107ac7e87b418a94680a7a7a3bc2a4": {
      "model_module": "@jupyter-widgets/base",
      "model_module_version": "1.2.0",
      "model_name": "LayoutModel",
      "state": {}
     },
     "7d121d062d014d2a8bdd0e87d0a79754": {
      "model_module": "@jupyter-widgets/base",
      "model_module_version": "1.2.0",
      "model_name": "LayoutModel",
      "state": {}
     },
     "7d2d03b2ec2548cc8dab5d515550b382": {
      "model_module": "@jupyter-widgets/controls",
      "model_module_version": "1.5.0",
      "model_name": "ButtonStyleModel",
      "state": {}
     },
     "7d4eb7d2034546cd9300dd71c2895a72": {
      "model_module": "@jupyter-widgets/controls",
      "model_module_version": "1.5.0",
      "model_name": "TextModel",
      "state": {
       "description": "deep_image_name",
       "layout": "IPY_MODEL_f57ca043413a47d69db50ca57ca88b0a",
       "placeholder": "Docker Container Image Name",
       "style": "IPY_MODEL_f91aa293116d4ecaabf4eab222667b8a",
       "value": "mydeepimage"
      }
     },
     "7d5fe4938ac645cca1c35bce6c07a535": {
      "model_module": "@jupyter-widgets/base",
      "model_module_version": "1.2.0",
      "model_name": "LayoutModel",
      "state": {}
     },
     "7d693e247fc342fcb7093959fd49b9c2": {
      "model_module": "@jupyter-widgets/base",
      "model_module_version": "1.2.0",
      "model_name": "LayoutModel",
      "state": {}
     },
     "7d7579da457f412991a0119e4f445b6b": {
      "model_module": "@jupyter-widgets/controls",
      "model_module_version": "1.5.0",
      "model_name": "DropdownModel",
      "state": {
       "_options_labels": [
        "AG-CE-AI-GPU-EXPERIMENTATION",
        "AG-AzureCAT-AITao-Test-COGSNonProd-IO1685734",
        "AG-CE-AI-DEVOPS",
        "AG-AzureCAT-AIDemos-Test-COGSNonProd-IO1685734",
        "AGCE-AI-DELETE-Sharat",
        "AG-AzureCAT-AILab-Test-COGSNonProd-IO1685734",
        "Visual Studio Ultimate with MSDN",
        "AG-AzureCAT-AIDataPM-Test-COGSNonProd-IO1685743",
        "AG-AzureCAT-AIDanielle-Test-COGSNonProd-IO1685734",
        "AG-CE-AI-MN-CICOMMERCIAL",
        "AG-CE-AI-MN-INCUBATION",
        "AG-CE-AI-MN-OSS",
        "AG-CE-AI-MN-E2E",
        "AG-CE-AI-MN-HU",
        "AG-CE-AI-MN-SEISMIC",
        "AG-CE-AI-STORAGE",
        "AG-CE-AI-MN-RETAIL",
        "AG-CE-AI-FEEDBACK",
        "AG-CE-AI-MN-LAB",
        "Azure SDK Engineering System",
        "Epic-Edge-ES-ReproVMLab",
        "ES-Stream-Operations",
        "Core-ES-BranchManagement",
        "WDG-ES-RnD-GITTrain",
        "Cosmos_WDG_Core_BnB_100292",
        "Azure Stack Diagnostics CI and Production VaaS",
        "Edge DevTools Client",
        "Azure Stack CSS Labs",
        "AppInsight Test",
        "ddverify",
        "VSEng MadDog-RPS Telemetry",
        "CAT_Eng",
        "RPS-cloud-common-2",
        "Core-ES-WorkManagement",
        "Azure_Maps_MDP_Engineering",
        "Test/Demo - VipSwapper Operations",
        "COSINE-ES-Signing Azure Service",
        "AI Infra Build",
        "AG-CE-E2E-AI",
        "DEMO - how RepDemo are you",
        "ADS Demo Subscription",
        "AzureCAT E2E Blue Steel",
        "Azure Search DEV Service Layer (kmort,miwelsh,bohuan)"
       ],
       "description": "workspace_region:",
       "index": 2,
       "layout": "IPY_MODEL_12c2d0d1a48944df9ea0803da7e9497f",
       "style": "IPY_MODEL_0d6fb692f0c04011afb02703552421e7"
      }
     },
     "7d7fc443faef4fd5b8e5a894694cb317": {
      "model_module": "@jupyter-widgets/controls",
      "model_module_version": "1.5.0",
      "model_name": "ButtonModel",
      "state": {
       "button_style": "success",
       "description": "Overwrite Settings",
       "icon": "check",
       "layout": "IPY_MODEL_9ae59c22bccb4f73b974df6020facbad",
       "style": "IPY_MODEL_5e85a09a95804beebc45330b6bf4bc9f",
       "tooltip": "Click to save settings to file."
      }
     },
     "7d8864bb1f194b729f4baf7b8740a335": {
      "model_module": "@jupyter-widgets/controls",
      "model_module_version": "1.5.0",
      "model_name": "HBoxModel",
      "state": {
       "children": [
        "IPY_MODEL_781e0fabda124d33a687b28b57e44086",
        "IPY_MODEL_c1f0c1331885495b965e75e2d0c64c9a"
       ],
       "layout": "IPY_MODEL_45e490da41174457aaf298ef5d391eb8"
      }
     },
     "7dbd1235851e4a67a8867e9448970ab8": {
      "model_module": "@jupyter-widgets/controls",
      "model_module_version": "1.5.0",
      "model_name": "ButtonModel",
      "state": {
       "description": "Save Upload",
       "icon": "check",
       "layout": "IPY_MODEL_46bd8063adc04200993181569c5dfc79",
       "style": "IPY_MODEL_49f593e6d2df47769403b94888f225c8",
       "tooltip": "Click to save settings to file."
      }
     },
     "7ddfffca47c24670b024e50d0ff572d7": {
      "model_module": "@jupyter-widgets/controls",
      "model_module_version": "1.5.0",
      "model_name": "DescriptionStyleModel",
      "state": {
       "description_width": ""
      }
     },
     "7e5450ce574a4d1f98ce3ab1ab1ed246": {
      "model_module": "@jupyter-widgets/controls",
      "model_module_version": "1.5.0",
      "model_name": "DescriptionStyleModel",
      "state": {
       "description_width": ""
      }
     },
     "7e79b28b64f64c259643d93c2bda8f4b": {
      "model_module": "@jupyter-widgets/controls",
      "model_module_version": "1.5.0",
      "model_name": "ButtonStyleModel",
      "state": {}
     },
     "7e823e7424254e78a9b1b145495babbd": {
      "model_module": "@jupyter-widgets/controls",
      "model_module_version": "1.5.0",
      "model_name": "HBoxModel",
      "state": {
       "children": [
        "IPY_MODEL_539fe0cd712c4aba908ee6d53a087e8d"
       ],
       "layout": "IPY_MODEL_c6b0a54638434b628e92d93e5cdcee78"
      }
     },
     "7e93e887254c41bb92332ef26422e08d": {
      "model_module": "@jupyter-widgets/controls",
      "model_module_version": "1.5.0",
      "model_name": "DescriptionStyleModel",
      "state": {
       "description_width": ""
      }
     },
     "7eec0bb7947648c5b4680c6223995eca": {
      "model_module": "@jupyter-widgets/base",
      "model_module_version": "1.2.0",
      "model_name": "LayoutModel",
      "state": {}
     },
     "7f06d2d760bf47efa68ce518e834a571": {
      "model_module": "@jupyter-widgets/base",
      "model_module_version": "1.2.0",
      "model_name": "LayoutModel",
      "state": {}
     },
     "7f0890d148b4400c891d3a90d418269c": {
      "model_module": "@jupyter-widgets/controls",
      "model_module_version": "1.5.0",
      "model_name": "DescriptionStyleModel",
      "state": {
       "description_width": ""
      }
     },
     "7f3db6e865b44521979ebaf356514eea": {
      "model_module": "@jupyter-widgets/controls",
      "model_module_version": "1.5.0",
      "model_name": "ButtonStyleModel",
      "state": {}
     },
     "7f4e48dfa3df46f59cdd55b3e7c02092": {
      "model_module": "@jupyter-widgets/controls",
      "model_module_version": "1.5.0",
      "model_name": "DropdownModel",
      "state": {
       "_options_labels": [
        "AG-CE-AI-GPU-EXPERIMENTATION",
        "AG-AzureCAT-AITao-Test-COGSNonProd-IO1685734",
        "AG-CE-AI-DEVOPS",
        "AG-AzureCAT-AIDemos-Test-COGSNonProd-IO1685734",
        "AGCE-AI-DELETE-Sharat",
        "AG-AzureCAT-AILab-Test-COGSNonProd-IO1685734",
        "Visual Studio Ultimate with MSDN",
        "AG-AzureCAT-AIDataPM-Test-COGSNonProd-IO1685743",
        "AG-AzureCAT-AIDanielle-Test-COGSNonProd-IO1685734",
        "AG-CE-AI-MN-CICOMMERCIAL",
        "AG-CE-AI-MN-INCUBATION",
        "AG-CE-AI-MN-OSS",
        "AG-CE-AI-MN-E2E",
        "AG-CE-AI-MN-HU",
        "AG-CE-AI-MN-SEISMIC",
        "AG-CE-AI-STORAGE",
        "AG-CE-AI-MN-RETAIL",
        "AG-CE-AI-FEEDBACK",
        "AG-CE-AI-MN-LAB",
        "Azure SDK Engineering System",
        "Epic-Edge-ES-ReproVMLab",
        "ES-Stream-Operations",
        "Core-ES-BranchManagement",
        "WDG-ES-RnD-GITTrain",
        "Cosmos_WDG_Core_BnB_100292",
        "Azure Stack Diagnostics CI and Production VaaS",
        "Edge DevTools Client",
        "Azure Stack CSS Labs",
        "AppInsight Test",
        "ddverify",
        "VSEng MadDog-RPS Telemetry",
        "CAT_Eng",
        "RPS-cloud-common-2",
        "Core-ES-WorkManagement",
        "Azure_Maps_MDP_Engineering",
        "Test/Demo - VipSwapper Operations",
        "COSINE-ES-Signing Azure Service",
        "AI Infra Build",
        "AG-CE-E2E-AI",
        "DEMO - how RepDemo are you",
        "ADS Demo Subscription",
        "AzureCAT E2E Blue Steel",
        "Azure Search DEV Service Layer (kmort,miwelsh,bohuan)"
       ],
       "description": "subscription_id",
       "index": 2,
       "layout": "IPY_MODEL_cca26d98501d4751be3c72328468dd88",
       "style": "IPY_MODEL_97595181af0b42daa5764dbc7ba04341"
      }
     },
     "7f651a18e70840f4933e5f0df665e2d2": {
      "model_module": "@jupyter-widgets/base",
      "model_module_version": "1.2.0",
      "model_name": "LayoutModel",
      "state": {}
     },
     "7f65ecb404574a69b5a25f2b9ee50c70": {
      "model_module": "@jupyter-widgets/base",
      "model_module_version": "1.2.0",
      "model_name": "LayoutModel",
      "state": {}
     },
     "7f6cd4a8b321464290a8637a4b7d15fe": {
      "model_module": "@jupyter-widgets/output",
      "model_module_version": "1.0.0",
      "model_name": "OutputModel",
      "state": {
       "layout": "IPY_MODEL_0ded2d3cf60a48ed999cd7f3b32b7199"
      }
     },
     "7f6ddd2adc694addb7e57b922d7c12da": {
      "model_module": "@jupyter-widgets/base",
      "model_module_version": "1.2.0",
      "model_name": "LayoutModel",
      "state": {}
     },
     "7fcfc26b1be542b98916014bfa02e5e3": {
      "model_module": "@jupyter-widgets/controls",
      "model_module_version": "1.5.0",
      "model_name": "DropdownModel",
      "state": {
       "_options_labels": [
        "eastus",
        "eastus2",
        "canadacentral",
        "centralus",
        "northcentralus",
        "southcentralus",
        "westcentralus",
        "westus",
        "westus2"
       ],
       "description": "workspace_region:",
       "index": 0,
       "layout": "IPY_MODEL_64532885be914027bed235c7aa3aeabd",
       "style": "IPY_MODEL_ef56cbd1b2ac452f971302b3d9fcd520"
      }
     },
     "8011bc50354b429b969a90e849e25032": {
      "model_module": "@jupyter-widgets/base",
      "model_module_version": "1.2.0",
      "model_name": "LayoutModel",
      "state": {}
     },
     "8018e0c3a3074a6dab90d41185427ed4": {
      "model_module": "@jupyter-widgets/controls",
      "model_module_version": "1.5.0",
      "model_name": "FileUploadModel",
      "state": {
       "accept": ".yml",
       "description_tooltip": null,
       "layout": "IPY_MODEL_a33ed9417c5c4f88b68e45a581abc886",
       "style": "IPY_MODEL_9b01358b3da84c98aa09915f3509472f"
      }
     },
     "803e83c9e1364a27bb6df99ea43f22ba": {
      "model_module": "@jupyter-widgets/controls",
      "model_module_version": "1.5.0",
      "model_name": "DescriptionStyleModel",
      "state": {
       "description_width": ""
      }
     },
     "805746cd89a14e25ab2676f9a21e2194": {
      "model_module": "@jupyter-widgets/controls",
      "model_module_version": "1.5.0",
      "model_name": "ButtonModel",
      "state": {
       "description": "Save Upload",
       "icon": "check",
       "layout": "IPY_MODEL_c7caf348b37f4f85a151fac8f1233395",
       "style": "IPY_MODEL_eab4f6279e1c48459ce1ec2786482f03",
       "tooltip": "Click to save settings to file."
      }
     },
     "805b4f2dc59141e6ac7f6920b5e4aebf": {
      "model_module": "@jupyter-widgets/base",
      "model_module_version": "1.2.0",
      "model_name": "LayoutModel",
      "state": {}
     },
     "808fd887595c432aaa65324061d3c1d9": {
      "model_module": "@jupyter-widgets/base",
      "model_module_version": "1.2.0",
      "model_name": "LayoutModel",
      "state": {}
     },
     "80e2dafc4c70439b8909ec3745ca1ad4": {
      "model_module": "@jupyter-widgets/controls",
      "model_module_version": "1.5.0",
      "model_name": "TextModel",
      "state": {
       "description": "RG ID:",
       "layout": "IPY_MODEL_042a7ac735d941ecb84d9356bf1c1fa3",
       "placeholder": "azure-resource-group-name",
       "style": "IPY_MODEL_da68f25cc7d64bce923df2360a63dedb",
       "value": "<>"
      }
     },
     "80f32a0e301145e0848c95daafdfba05": {
      "model_module": "@jupyter-widgets/controls",
      "model_module_version": "1.5.0",
      "model_name": "TextModel",
      "state": {
       "description": "deep_aks_service_name",
       "layout": "IPY_MODEL_d298c90c2ade467cab32288f477a4014",
       "placeholder": "AKS Service Name",
       "style": "IPY_MODEL_da6574497e794c21960721fb172fab3d",
       "value": "deepaksservice"
      }
     },
     "811a2e2a8e674548b328228737cb684c": {
      "model_module": "@jupyter-widgets/base",
      "model_module_version": "1.2.0",
      "model_name": "LayoutModel",
      "state": {}
     },
     "811f7924363347ea9d7d424e7c7b4113": {
      "model_module": "@jupyter-widgets/controls",
      "model_module_version": "1.5.0",
      "model_name": "FileUploadModel",
      "state": {
       "accept": ".yml",
       "description_tooltip": null,
       "layout": "IPY_MODEL_7c98a08fe9724d78a67ef34b23feb12b",
       "style": "IPY_MODEL_5a831f9f1f294e89afe903bec7e08355"
      }
     },
     "8188e8e25d464391afe3ee208dc687d4": {
      "model_module": "@jupyter-widgets/controls",
      "model_module_version": "1.5.0",
      "model_name": "DescriptionStyleModel",
      "state": {
       "description_width": ""
      }
     },
     "818fbfa28ed74f619e168faea2b99652": {
      "model_module": "@jupyter-widgets/controls",
      "model_module_version": "1.5.0",
      "model_name": "TextModel",
      "state": {
       "description": "subscription_id",
       "layout": "IPY_MODEL_e885a9bd898d4936afc2726b3aa5fa6a",
       "placeholder": "Azure Subscription Id",
       "style": "IPY_MODEL_aef68a3e68d34a92a99fe0e6f3a07bfd",
       "value": "0ca618d2-22a8-413a-96d0-0f1b531129c3"
      }
     },
     "81ab31a211bd446886330e27fdeeb792": {
      "model_module": "@jupyter-widgets/controls",
      "model_module_version": "1.5.0",
      "model_name": "ButtonStyleModel",
      "state": {}
     },
     "81b9cf8dfa7449f8a9b8854f79e7510c": {
      "model_module": "@jupyter-widgets/base",
      "model_module_version": "1.2.0",
      "model_name": "LayoutModel",
      "state": {}
     },
     "81bc58c518d44373abd09babdbfd1209": {
      "model_module": "@jupyter-widgets/controls",
      "model_module_version": "1.5.0",
      "model_name": "DescriptionStyleModel",
      "state": {
       "description_width": ""
      }
     },
     "81dc557fb7b84c23a6fdd5b0ddc4cabd": {
      "model_module": "@jupyter-widgets/base",
      "model_module_version": "1.2.0",
      "model_name": "LayoutModel",
      "state": {}
     },
     "81fa1ea1211e4c279920fa50622a3602": {
      "model_module": "@jupyter-widgets/controls",
      "model_module_version": "1.5.0",
      "model_name": "TextModel",
      "state": {
       "description": "workspace_name",
       "layout": "IPY_MODEL_5c621962282145b4824694c46ac4dee4",
       "placeholder": "Azure ML Workspace Name",
       "style": "IPY_MODEL_08d9c1e9136b463fa276cdffbf0aaaa3",
       "value": "azmlrts-eastus"
      }
     },
     "823a587c17cc4c2580aced22ddd9729d": {
      "model_module": "@jupyter-widgets/base",
      "model_module_version": "1.2.0",
      "model_name": "LayoutModel",
      "state": {}
     },
     "823d2a4eee30427483f5d9c7971c39fd": {
      "model_module": "@jupyter-widgets/base",
      "model_module_version": "1.2.0",
      "model_name": "LayoutModel",
      "state": {}
     },
     "8243229a2be84262b8341a7908e2d1f3": {
      "model_module": "@jupyter-widgets/controls",
      "model_module_version": "1.5.0",
      "model_name": "ButtonStyleModel",
      "state": {}
     },
     "82474240717c4f5685e8db9d4fe52bc0": {
      "model_module": "@jupyter-widgets/controls",
      "model_module_version": "1.5.0",
      "model_name": "DescriptionStyleModel",
      "state": {
       "description_width": ""
      }
     },
     "824ac3ad58f747a8a59ff29cc8030da2": {
      "model_module": "@jupyter-widgets/controls",
      "model_module_version": "1.5.0",
      "model_name": "DescriptionStyleModel",
      "state": {
       "description_width": ""
      }
     },
     "827177cd6f5d44338ecbc916770d5d1c": {
      "model_module": "@jupyter-widgets/base",
      "model_module_version": "1.2.0",
      "model_name": "LayoutModel",
      "state": {}
     },
     "82746e09267340f48deb1cda9b980c62": {
      "model_module": "@jupyter-widgets/base",
      "model_module_version": "1.2.0",
      "model_name": "LayoutModel",
      "state": {}
     },
     "827a4376b3ad4906b8edd89befd542b1": {
      "model_module": "@jupyter-widgets/base",
      "model_module_version": "1.2.0",
      "model_name": "LayoutModel",
      "state": {}
     },
     "829243bb9353415cb4b684b6dec9a9a3": {
      "model_module": "@jupyter-widgets/controls",
      "model_module_version": "1.5.0",
      "model_name": "ButtonStyleModel",
      "state": {}
     },
     "82bccc124c2e4daab60b660d3f559f67": {
      "model_module": "@jupyter-widgets/controls",
      "model_module_version": "1.5.0",
      "model_name": "ButtonStyleModel",
      "state": {}
     },
     "82eb48c69f614b83bc754accd1634464": {
      "model_module": "@jupyter-widgets/controls",
      "model_module_version": "1.5.0",
      "model_name": "DescriptionStyleModel",
      "state": {
       "description_width": ""
      }
     },
     "8306de01432444ba8f60af63cb23bad8": {
      "model_module": "@jupyter-widgets/controls",
      "model_module_version": "1.5.0",
      "model_name": "ButtonStyleModel",
      "state": {}
     },
     "830ec1c894b640c5935a88a5ef157ed1": {
      "model_module": "@jupyter-widgets/base",
      "model_module_version": "1.2.0",
      "model_name": "LayoutModel",
      "state": {}
     },
     "832baf32376442e381307f3473013315": {
      "model_module": "@jupyter-widgets/controls",
      "model_module_version": "1.5.0",
      "model_name": "HBoxModel",
      "state": {
       "children": [
        "IPY_MODEL_ffce832e1f3d40d78c6aaf3e91ec6b50"
       ],
       "layout": "IPY_MODEL_30309b8bcaed47638f5e64b9b03cbe92"
      }
     },
     "832bd525673142989f76f6843286fb32": {
      "model_module": "@jupyter-widgets/controls",
      "model_module_version": "1.5.0",
      "model_name": "HBoxModel",
      "state": {
       "children": [
        "IPY_MODEL_19b016536c114dbabed50e9ea3efee0f"
       ],
       "layout": "IPY_MODEL_7d107ac7e87b418a94680a7a7a3bc2a4"
      }
     },
     "834948b41c9144efa18dfe20eb2a8f02": {
      "model_module": "@jupyter-widgets/controls",
      "model_module_version": "1.5.0",
      "model_name": "DescriptionStyleModel",
      "state": {
       "description_width": ""
      }
     },
     "834b2e0099464511975026ff41fa3c19": {
      "model_module": "@jupyter-widgets/controls",
      "model_module_version": "1.5.0",
      "model_name": "VBoxModel",
      "state": {
       "children": [
        "IPY_MODEL_84e4559412194e1c9b58f96ef2a96df3",
        "IPY_MODEL_6901f90beb384d56b724bb626989ec6a",
        "IPY_MODEL_4d8be2df40b047b6bc941e7d3f3aa51e",
        "IPY_MODEL_fd310be056eb49789711d6c8fb6f4768",
        "IPY_MODEL_832baf32376442e381307f3473013315",
        "IPY_MODEL_acc1d74919444f7aafdfc4af5c48c0d7",
        "IPY_MODEL_93677e8125f3493295f8b8879bfc56d5",
        "IPY_MODEL_c378e81535e84a46a307f936cc64a7e9",
        "IPY_MODEL_7cbf6144e9f44500a92ccb5e7598f56b",
        "IPY_MODEL_e9d6f70bee824d54bfbfb1754447d9b5",
        "IPY_MODEL_7637f07b0cb1476ea7a8c208d8fa4902",
        "IPY_MODEL_d46c56a1bab349dabf23b7f12eed0a92",
        "IPY_MODEL_cbc62dd6fee84643803df74bfd0fdbbc",
        "IPY_MODEL_ff9764046c044e1c91846198af2dc090",
        "IPY_MODEL_9bafe44e3510464a8348907ddf153f7b"
       ],
       "layout": "IPY_MODEL_a9739a66a29f4567beb0899bb54f72e4"
      }
     },
     "837d4d6cb0ad41fbb3d9f2cf20b997f3": {
      "model_module": "@jupyter-widgets/base",
      "model_module_version": "1.2.0",
      "model_name": "LayoutModel",
      "state": {}
     },
     "838b8d1d71814f4babad42dfd7c70973": {
      "model_module": "@jupyter-widgets/controls",
      "model_module_version": "1.5.0",
      "model_name": "HBoxModel",
      "state": {
       "children": [
        "IPY_MODEL_2ee8bd09fed949e19f13ce9f533d0247",
        "IPY_MODEL_37002adbf9cc47a4806e1346255eabee"
       ],
       "layout": "IPY_MODEL_f9f53e8a08a7487a8fab7fead9c30033"
      }
     },
     "83a8583631d8443f82c9237b3df1d8bb": {
      "model_module": "@jupyter-widgets/base",
      "model_module_version": "1.2.0",
      "model_name": "LayoutModel",
      "state": {}
     },
     "83b546a3c5404cb183d17c815a551455": {
      "model_module": "@jupyter-widgets/controls",
      "model_module_version": "1.5.0",
      "model_name": "DescriptionStyleModel",
      "state": {
       "description_width": ""
      }
     },
     "83b7d864f0e7483d81cd6baf16f748cf": {
      "model_module": "@jupyter-widgets/base",
      "model_module_version": "1.2.0",
      "model_name": "LayoutModel",
      "state": {}
     },
     "83dcb1786dac488990ad9dc7c5334566": {
      "model_module": "@jupyter-widgets/controls",
      "model_module_version": "1.5.0",
      "model_name": "ButtonModel",
      "state": {
       "button_style": "success",
       "description": "Save Upload",
       "icon": "check",
       "layout": "IPY_MODEL_7b5105e0d45d4ff28f05e6473cf526c2",
       "style": "IPY_MODEL_c29146dedb1044a39823700f96ed7a41",
       "tooltip": "Click to save settings to file."
      }
     },
     "83f572ddff3040afad888090751f717c": {
      "model_module": "@jupyter-widgets/base",
      "model_module_version": "1.2.0",
      "model_name": "LayoutModel",
      "state": {}
     },
     "84334f44d72b4fe3a65d407620aae91c": {
      "model_module": "@jupyter-widgets/controls",
      "model_module_version": "1.5.0",
      "model_name": "TextModel",
      "state": {
       "description": "workspace_region",
       "layout": "IPY_MODEL_c64b426fb36a4f12943ff86ad27ab709",
       "placeholder": "Azure ML Workspace Region",
       "style": "IPY_MODEL_87338b20ac7f4777a4b317cba3a94878",
       "value": "eastus"
      }
     },
     "8439302e7ae24240bb206090cd65f9eb": {
      "model_module": "@jupyter-widgets/controls",
      "model_module_version": "1.5.0",
      "model_name": "ButtonStyleModel",
      "state": {}
     },
     "84424513259945d796774d213cba29c6": {
      "model_module": "@jupyter-widgets/controls",
      "model_module_version": "1.5.0",
      "model_name": "ButtonModel",
      "state": {
       "description": "Overwrite Settings",
       "icon": "check",
       "layout": "IPY_MODEL_1c7b4188869240f9b81463861788a825",
       "style": "IPY_MODEL_3eadb4856a0645639bb09054f6ccf9d1",
       "tooltip": "Click to save settings to file."
      }
     },
     "845c071a38604c61b1f5b092b2e8589e": {
      "model_module": "@jupyter-widgets/controls",
      "model_module_version": "1.5.0",
      "model_name": "TextModel",
      "state": {
       "description": "aks_service_name",
       "layout": "IPY_MODEL_ae12434f7a3746a78be560f109af3bba",
       "placeholder": "AKS Service Name",
       "style": "IPY_MODEL_27d01b371fde4b3684aa9bb2dc52b381",
       "value": "dciboaksservice"
      }
     },
     "847171b891a5449d82b3675735d09870": {
      "model_module": "@jupyter-widgets/controls",
      "model_module_version": "1.5.0",
      "model_name": "DescriptionStyleModel",
      "state": {
       "description_width": ""
      }
     },
     "84a1d5819b9e427b82f7b1d537e1a045": {
      "model_module": "@jupyter-widgets/controls",
      "model_module_version": "1.5.0",
      "model_name": "TextModel",
      "state": {
       "description": "image_name",
       "layout": "IPY_MODEL_98d6324366cb4134a51638d8b1a02528",
       "placeholder": "Docker Container Image Name",
       "style": "IPY_MODEL_5114a710578c47698a12152064e08b89",
       "value": "mymlimage2"
      }
     },
     "84b248129ae34aa39d569b14fe165ca6": {
      "model_module": "@jupyter-widgets/base",
      "model_module_version": "1.2.0",
      "model_name": "LayoutModel",
      "state": {}
     },
     "84be20c8d08d4250981249509f9a4ba8": {
      "model_module": "@jupyter-widgets/controls",
      "model_module_version": "1.5.0",
      "model_name": "ButtonStyleModel",
      "state": {}
     },
     "84e4559412194e1c9b58f96ef2a96df3": {
      "model_module": "@jupyter-widgets/output",
      "model_module_version": "1.0.0",
      "model_name": "OutputModel",
      "state": {
       "layout": "IPY_MODEL_24ce69cb1ed34360b58b374b596818d3"
      }
     },
     "856d05784c0e4742b72dddfdeab895df": {
      "model_module": "@jupyter-widgets/base",
      "model_module_version": "1.2.0",
      "model_name": "LayoutModel",
      "state": {}
     },
     "85a43eacd32f4b87ad4f62ea5700a31f": {
      "model_module": "@jupyter-widgets/output",
      "model_module_version": "1.0.0",
      "model_name": "OutputModel",
      "state": {
       "layout": "IPY_MODEL_182e33ec69eb49069b20d8cd409ebc19"
      }
     },
     "85b05c18825d427899fdaa7c92c3abf0": {
      "model_module": "@jupyter-widgets/controls",
      "model_module_version": "1.5.0",
      "model_name": "DescriptionStyleModel",
      "state": {
       "description_width": ""
      }
     },
     "85b46801c3a04b0daa15ccd7b09f94c6": {
      "model_module": "@jupyter-widgets/base",
      "model_module_version": "1.2.0",
      "model_name": "LayoutModel",
      "state": {}
     },
     "85fc01e22fa440078e8fe0a53c97bc65": {
      "model_module": "@jupyter-widgets/base",
      "model_module_version": "1.2.0",
      "model_name": "LayoutModel",
      "state": {}
     },
     "862310b4ac2446f682f52d84824bd4fa": {
      "model_module": "@jupyter-widgets/base",
      "model_module_version": "1.2.0",
      "model_name": "LayoutModel",
      "state": {}
     },
     "868841ca882442ecaf9449fd73930f8b": {
      "model_module": "@jupyter-widgets/controls",
      "model_module_version": "1.5.0",
      "model_name": "TextModel",
      "state": {
       "description": "cpu_cores",
       "layout": "IPY_MODEL_e2e50b5ad5bc4753a222cc0336163c64",
       "placeholder": "cpu cores for web service",
       "style": "IPY_MODEL_9b97b88587464e6eaf8b3685d04c4970",
       "value": "1"
      }
     },
     "86a5bb7d2aa74f15b5f1f16a7394f0f9": {
      "model_module": "@jupyter-widgets/base",
      "model_module_version": "1.2.0",
      "model_name": "LayoutModel",
      "state": {}
     },
     "86ae1ff04c934ef8b183829b121509e1": {
      "model_module": "@jupyter-widgets/controls",
      "model_module_version": "1.5.0",
      "model_name": "TextModel",
      "state": {
       "description": "deep_aks_name",
       "layout": "IPY_MODEL_4754e2bfce424353a824b43d560e98ff",
       "placeholder": "AKS Cluster Name",
       "style": "IPY_MODEL_d71ccdb6b6d24b5ea60dd83e5f6ae26e",
       "value": "deepakscluster"
      }
     },
     "86ccefd0412b43cb82f97557e6428b9c": {
      "model_module": "@jupyter-widgets/controls",
      "model_module_version": "1.5.0",
      "model_name": "DescriptionStyleModel",
      "state": {
       "description_width": ""
      }
     },
     "86e4d8c6315e421c946251c9181198e1": {
      "model_module": "@jupyter-widgets/base",
      "model_module_version": "1.2.0",
      "model_name": "LayoutModel",
      "state": {}
     },
     "86e80a3a3632403f8e30afe844f8b93a": {
      "model_module": "@jupyter-widgets/controls",
      "model_module_version": "1.5.0",
      "model_name": "DescriptionStyleModel",
      "state": {
       "description_width": ""
      }
     },
     "871c8ecc058343e486f367535879f096": {
      "model_module": "@jupyter-widgets/base",
      "model_module_version": "1.2.0",
      "model_name": "LayoutModel",
      "state": {}
     },
     "87338b20ac7f4777a4b317cba3a94878": {
      "model_module": "@jupyter-widgets/controls",
      "model_module_version": "1.5.0",
      "model_name": "DescriptionStyleModel",
      "state": {
       "description_width": ""
      }
     },
     "87819eabd8f84301bd4dc6fc12127ed8": {
      "model_module": "@jupyter-widgets/controls",
      "model_module_version": "1.5.0",
      "model_name": "DescriptionStyleModel",
      "state": {
       "description_width": ""
      }
     },
     "879dc0039dde4d4a90fe266b84c85758": {
      "model_module": "@jupyter-widgets/controls",
      "model_module_version": "1.5.0",
      "model_name": "DropdownModel",
      "state": {
       "_options_labels": [
        "eastus",
        "eastus2",
        "canadacentral",
        "centralus",
        "northcentralus",
        "southcentralus",
        "westcentralus",
        "westus",
        "westus2"
       ],
       "description": "deep_aks_location",
       "index": 0,
       "layout": "IPY_MODEL_ca5877e2a6dc4d46a473cf4f39b79475",
       "style": "IPY_MODEL_e5422f726fe242f89b892e94d56d6c5c"
      }
     },
     "87afb0b707874c2da74401c217ec69ff": {
      "model_module": "@jupyter-widgets/base",
      "model_module_version": "1.2.0",
      "model_name": "LayoutModel",
      "state": {}
     },
     "87b93bcad8d3475e91e4a4d51e8b1607": {
      "model_module": "@jupyter-widgets/controls",
      "model_module_version": "1.5.0",
      "model_name": "DescriptionStyleModel",
      "state": {
       "description_width": ""
      }
     },
     "87c798f3acb141b7b773097ec7c470ba": {
      "model_module": "@jupyter-widgets/controls",
      "model_module_version": "1.5.0",
      "model_name": "DescriptionStyleModel",
      "state": {
       "description_width": ""
      }
     },
     "87e39bb73c5f4248aa68c03991d36afb": {
      "model_module": "@jupyter-widgets/base",
      "model_module_version": "1.2.0",
      "model_name": "LayoutModel",
      "state": {}
     },
     "8813afaf527f41ddad7baf99e6197315": {
      "model_module": "@jupyter-widgets/base",
      "model_module_version": "1.2.0",
      "model_name": "LayoutModel",
      "state": {}
     },
     "883aee52c79f42cf8172db201616d61c": {
      "model_module": "@jupyter-widgets/base",
      "model_module_version": "1.2.0",
      "model_name": "LayoutModel",
      "state": {}
     },
     "88482b401f6e4bd1bdef40c0abc72783": {
      "model_module": "@jupyter-widgets/base",
      "model_module_version": "1.2.0",
      "model_name": "LayoutModel",
      "state": {}
     },
     "8867d74c441f428aa25219bef570b75b": {
      "model_module": "@jupyter-widgets/controls",
      "model_module_version": "1.5.0",
      "model_name": "TextModel",
      "state": {
       "description": "aks_name",
       "layout": "IPY_MODEL_b9b4938b09f94e09bac793aed6bfb0d8",
       "placeholder": "AKS Cluster Name",
       "style": "IPY_MODEL_f04f35b48c854a34bd3ef46da00ad317"
      }
     },
     "8891db5c668643f4a27256b6a8c08c2e": {
      "model_module": "@jupyter-widgets/controls",
      "model_module_version": "1.5.0",
      "model_name": "DescriptionStyleModel",
      "state": {
       "description_width": ""
      }
     },
     "88ec04a3f67044549f4cd8b5c3f3be57": {
      "model_module": "@jupyter-widgets/controls",
      "model_module_version": "1.5.0",
      "model_name": "TextModel",
      "state": {
       "description": "deep_aks_name",
       "layout": "IPY_MODEL_56b6819d34af4bdba35922324fbea4fa",
       "placeholder": "AKS Cluster Name",
       "style": "IPY_MODEL_211d8fff10c94df4a26a1b72345ffd8e",
       "value": "deepakscluster"
      }
     },
     "88f256ef289948b08a27a355a669427b": {
      "model_module": "@jupyter-widgets/controls",
      "model_module_version": "1.5.0",
      "model_name": "TextModel",
      "state": {
       "description": "aks_location",
       "layout": "IPY_MODEL_4fd283b8560f455d9d122a0eaad76e0b",
       "placeholder": "AKS Azure Region",
       "style": "IPY_MODEL_8ce49c8d5ba944f8970b11ec8712c93a"
      }
     },
     "8916ee13286a442d91ca39dd33100e74": {
      "model_module": "@jupyter-widgets/base",
      "model_module_version": "1.2.0",
      "model_name": "LayoutModel",
      "state": {}
     },
     "8918afede16341e4b21d0ee70754bb23": {
      "model_module": "@jupyter-widgets/base",
      "model_module_version": "1.2.0",
      "model_name": "LayoutModel",
      "state": {}
     },
     "893d5dbe3ec145f1ab3ad25e74dc0796": {
      "model_module": "@jupyter-widgets/controls",
      "model_module_version": "1.5.0",
      "model_name": "TextModel",
      "state": {
       "description": "workspace_name",
       "layout": "IPY_MODEL_0312f9aa17004084897c89e2f6bf5d59",
       "placeholder": "Azure ML Workspace Name",
       "style": "IPY_MODEL_5bfaefb9ffca418da15707bb1850709c",
       "value": "azmlrts-eastus"
      }
     },
     "8963fc26098346a09bc4ca36c8d99d4f": {
      "model_module": "@jupyter-widgets/controls",
      "model_module_version": "1.5.0",
      "model_name": "VBoxModel",
      "state": {
       "children": [
        "IPY_MODEL_e5895330dca44dec80c40b76a2f578fc",
        "IPY_MODEL_00c17bb7d7d64782be1e076a743bdd6e",
        "IPY_MODEL_f35441b28ff74e8088e1504488b116b3",
        "IPY_MODEL_3baf08dac04448f9a2729ab97b0ca11c",
        "IPY_MODEL_66c4ea9b65c34d2c9d20184737269c61",
        "IPY_MODEL_e02c4f4eb6524c76a35c262b947f475f",
        "IPY_MODEL_59ffb5657e9b4571a0222fde8a435da0",
        "IPY_MODEL_071c0a14c83b401f96c7522a7ee1716d",
        "IPY_MODEL_da5bc994a4ee45438375d131b56aa056",
        "IPY_MODEL_1f18100427164b87b49a3b9ba19ceab7",
        "IPY_MODEL_c02289d3168d4bbebafc6f854b65fb27",
        "IPY_MODEL_92f98acfaebf45a2b7c71cd388e4e57f",
        "IPY_MODEL_7c3f8d3fa4d34a62b032bfd3c2eb8b66",
        "IPY_MODEL_18202f05bc9c4192b1e575287633a7bb",
        "IPY_MODEL_5fedc21b773e4990a54167307ad348b3",
        "IPY_MODEL_0b31b025e814430387d925aca40b3fc7",
        "IPY_MODEL_d7698f100fa04ed2b2375934d19f5a2a",
        "IPY_MODEL_3ab97a8edca04f1888bf30d802f939d3",
        "IPY_MODEL_bce44b53a1124508ba99e76ba8fe38ba"
       ],
       "layout": "IPY_MODEL_a20f666b81df4f6190b8e1a3f880e703"
      }
     },
     "8970d442f85b49c4844d86e358013fd1": {
      "model_module": "@jupyter-widgets/base",
      "model_module_version": "1.2.0",
      "model_name": "LayoutModel",
      "state": {}
     },
     "897aaee37e804713b1bbc11e9c2b28f5": {
      "model_module": "@jupyter-widgets/base",
      "model_module_version": "1.2.0",
      "model_name": "LayoutModel",
      "state": {}
     },
     "89b3c04caac44415bdde21c43d63c491": {
      "model_module": "@jupyter-widgets/controls",
      "model_module_version": "1.5.0",
      "model_name": "TextModel",
      "state": {
       "description": "aks_service_name",
       "layout": "IPY_MODEL_b4e4bec75902496ab36d87b156adaf97",
       "placeholder": "AKS Service Name",
       "style": "IPY_MODEL_2c61deee6d404cf588ea3285db7e52f9"
      }
     },
     "89d2261df0504ad8942407464a94b320": {
      "model_module": "@jupyter-widgets/base",
      "model_module_version": "1.2.0",
      "model_name": "LayoutModel",
      "state": {}
     },
     "8a354da966f94dbc8f9bf2ddbf52bf77": {
      "model_module": "@jupyter-widgets/controls",
      "model_module_version": "1.5.0",
      "model_name": "DescriptionStyleModel",
      "state": {
       "description_width": ""
      }
     },
     "8a4d767ee9b04c3cb2f0468519766775": {
      "model_module": "@jupyter-widgets/base",
      "model_module_version": "1.2.0",
      "model_name": "LayoutModel",
      "state": {}
     },
     "8a54cb3f2e0340deafa31fbb15e3ba2f": {
      "model_module": "@jupyter-widgets/base",
      "model_module_version": "1.2.0",
      "model_name": "LayoutModel",
      "state": {}
     },
     "8a93bdb173084cea9a81be3dbb2feac6": {
      "model_module": "@jupyter-widgets/controls",
      "model_module_version": "1.5.0",
      "model_name": "TextModel",
      "state": {
       "description": "resource_group",
       "layout": "IPY_MODEL_41d76684fcbe46a58065095a3467d5f5",
       "placeholder": "Azure Resource Group Name",
       "style": "IPY_MODEL_fe0c474791b747d88d175226a15a1c4d",
       "value": "azmlrts-eastus-stable"
      }
     },
     "8a9857efd9084cf6b853d08b8e517c73": {
      "model_module": "@jupyter-widgets/controls",
      "model_module_version": "1.5.0",
      "model_name": "DescriptionStyleModel",
      "state": {
       "description_width": ""
      }
     },
     "8a9da75bd68f4b84948ef2318c9f409f": {
      "model_module": "@jupyter-widgets/base",
      "model_module_version": "1.2.0",
      "model_name": "LayoutModel",
      "state": {}
     },
     "8ab1cd35741c4c5aac94750421cfd1f4": {
      "model_module": "@jupyter-widgets/base",
      "model_module_version": "1.2.0",
      "model_name": "LayoutModel",
      "state": {}
     },
     "8ac2ff8e97c04eee9d80aaae35ab4dc3": {
      "model_module": "@jupyter-widgets/controls",
      "model_module_version": "1.5.0",
      "model_name": "DescriptionStyleModel",
      "state": {
       "description_width": ""
      }
     },
     "8ad223f4994c43eda0307d5ca28e5b4e": {
      "model_module": "@jupyter-widgets/base",
      "model_module_version": "1.2.0",
      "model_name": "LayoutModel",
      "state": {}
     },
     "8ad748f9223c43f39afe6c9e1a5737f7": {
      "model_module": "@jupyter-widgets/controls",
      "model_module_version": "1.5.0",
      "model_name": "TextModel",
      "state": {
       "description": "vm_size",
       "layout": "IPY_MODEL_4e07609085734881977aa7c0bebafa12",
       "placeholder": "skew of vms in Kubernetes cluster",
       "style": "IPY_MODEL_e9053b985f894c7aa4588b7455d47d57",
       "value": "Standard_D4_v2"
      }
     },
     "8ae7c2e1daae445e80ebac3e0911db3f": {
      "model_module": "@jupyter-widgets/controls",
      "model_module_version": "1.5.0",
      "model_name": "TextModel",
      "state": {
       "description": "aks_location",
       "layout": "IPY_MODEL_6b70d1d2b91543128a6e7e42513e9d29",
       "placeholder": "AKS Azure Region",
       "style": "IPY_MODEL_41b2e48108f944d79c6f3ed2473afa7e",
       "value": "eastus"
      }
     },
     "8afe7747792c4e668a263f0bcdfd88f3": {
      "model_module": "@jupyter-widgets/base",
      "model_module_version": "1.2.0",
      "model_name": "LayoutModel",
      "state": {}
     },
     "8b12aebcae8e487cab30e7ec778c6d85": {
      "model_module": "@jupyter-widgets/controls",
      "model_module_version": "1.5.0",
      "model_name": "ButtonModel",
      "state": {
       "description": "Use existing",
       "layout": "IPY_MODEL_14bb44ba56c946d0ab4d973ca878d073",
       "style": "IPY_MODEL_c855fc3980d94f48b2220fcf1448823f",
       "tooltip": "Use an existing resource."
      }
     },
     "8b6f90e0f06f416e87550130c3f0f659": {
      "model_module": "@jupyter-widgets/controls",
      "model_module_version": "1.5.0",
      "model_name": "ButtonModel",
      "state": {
       "description": "Use existing",
       "icon": "check",
       "layout": "IPY_MODEL_3833883073c645e0a8ad21451cbbd4ec",
       "style": "IPY_MODEL_829243bb9353415cb4b684b6dec9a9a3",
       "tooltip": "Use an existing resource."
      }
     },
     "8b967d08901d4b6ea283f768cff855e1": {
      "model_module": "@jupyter-widgets/base",
      "model_module_version": "1.2.0",
      "model_name": "LayoutModel",
      "state": {}
     },
     "8bbe1b95b6144bfeb4abb9fe762c0f92": {
      "model_module": "@jupyter-widgets/base",
      "model_module_version": "1.2.0",
      "model_name": "LayoutModel",
      "state": {}
     },
     "8bf3f0d2dec6412abaec99b954963309": {
      "model_module": "@jupyter-widgets/controls",
      "model_module_version": "1.5.0",
      "model_name": "ButtonModel",
      "state": {
       "button_style": "success",
       "description": "Update Settings",
       "icon": "check",
       "layout": "IPY_MODEL_b37ffcef62524e05bdf2c87c78894325",
       "style": "IPY_MODEL_adea0c32f9044636bd44e6769aaf1e01",
       "tooltip": "Click to save settings to file."
      }
     },
     "8c87bb1cbdae476286b08485a1d076b4": {
      "model_module": "@jupyter-widgets/controls",
      "model_module_version": "1.5.0",
      "model_name": "ButtonStyleModel",
      "state": {}
     },
     "8ca85785b4dd4223b0ffafa066ead703": {
      "model_module": "@jupyter-widgets/controls",
      "model_module_version": "1.5.0",
      "model_name": "TextModel",
      "state": {
       "description": "image_name",
       "layout": "IPY_MODEL_e1ae38f1027b45b78ec3581b13ab7d84",
       "placeholder": "Docker Container Image Name",
       "style": "IPY_MODEL_95d4beedc32b4cef85ced6e0f43361fb",
       "value": "mymlimage2"
      }
     },
     "8cb0c26d7673411b83c5fab13f3728ba": {
      "model_module": "@jupyter-widgets/base",
      "model_module_version": "1.2.0",
      "model_name": "LayoutModel",
      "state": {}
     },
     "8cd22cd9620f4da8838c2c781a9a74d9": {
      "model_module": "@jupyter-widgets/controls",
      "model_module_version": "1.5.0",
      "model_name": "TextModel",
      "state": {
       "description": "image_name",
       "layout": "IPY_MODEL_40d7ed1d1b7a42d4947af5e59ca29014",
       "placeholder": "Docker Container Image Name",
       "style": "IPY_MODEL_bac84d3a2b0840f5b6f0e611f19791a6",
       "value": "mymlimage2"
      }
     },
     "8ce49c8d5ba944f8970b11ec8712c93a": {
      "model_module": "@jupyter-widgets/controls",
      "model_module_version": "1.5.0",
      "model_name": "DescriptionStyleModel",
      "state": {
       "description_width": ""
      }
     },
     "8cff0152dd5249a593457ac6b5d9ef30": {
      "model_module": "@jupyter-widgets/controls",
      "model_module_version": "1.5.0",
      "model_name": "ButtonStyleModel",
      "state": {}
     },
     "8d07a8bc3113458cb58b74c9621ada25": {
      "model_module": "@jupyter-widgets/base",
      "model_module_version": "1.2.0",
      "model_name": "LayoutModel",
      "state": {}
     },
     "8d7397825bca4add8afacc834ef3123c": {
      "model_module": "@jupyter-widgets/base",
      "model_module_version": "1.2.0",
      "model_name": "LayoutModel",
      "state": {}
     },
     "8d74e3e6f0204432866cafff8713b8f4": {
      "model_module": "@jupyter-widgets/controls",
      "model_module_version": "1.5.0",
      "model_name": "DescriptionStyleModel",
      "state": {
       "description_width": ""
      }
     },
     "8d92c14811f340bab3598f8cbefdb867": {
      "model_module": "@jupyter-widgets/controls",
      "model_module_version": "1.5.0",
      "model_name": "DescriptionStyleModel",
      "state": {
       "description_width": ""
      }
     },
     "8da5edbe043b43c6aedc0cb3c3430f92": {
      "model_module": "@jupyter-widgets/controls",
      "model_module_version": "1.5.0",
      "model_name": "ButtonStyleModel",
      "state": {}
     },
     "8dfc3d360d0b42f981ab8d23d7028939": {
      "model_module": "@jupyter-widgets/controls",
      "model_module_version": "1.5.0",
      "model_name": "TextModel",
      "state": {
       "description": "workspace_name",
       "layout": "IPY_MODEL_2fb7b5dcbc0649eb8f998e8555101434",
       "placeholder": "Azure ML Workspace Name",
       "style": "IPY_MODEL_0443dbf8bfbe4c2bb2e15b134b5bce15",
       "value": "azmlrts-eastus"
      }
     },
     "8e0bde41666f448fbf7f727f2cfa0399": {
      "model_module": "@jupyter-widgets/controls",
      "model_module_version": "1.5.0",
      "model_name": "HBoxModel",
      "state": {
       "children": [
        "IPY_MODEL_b33a0dcc418643ac9d9ee83122de01fd",
        "IPY_MODEL_7dbd1235851e4a67a8867e9448970ab8"
       ],
       "layout": "IPY_MODEL_567c20df40fa4d6296e2f450f8b3a132"
      }
     },
     "8e6ed98529b947f2ad22834359c4371c": {
      "model_module": "@jupyter-widgets/controls",
      "model_module_version": "1.5.0",
      "model_name": "DescriptionStyleModel",
      "state": {
       "description_width": ""
      }
     },
     "8e77273473dc41fcb429677f493d1f9e": {
      "model_module": "@jupyter-widgets/base",
      "model_module_version": "1.2.0",
      "model_name": "LayoutModel",
      "state": {}
     },
     "8e7ee34f19d44b2b9a63a0a60e6ef2c3": {
      "model_module": "@jupyter-widgets/controls",
      "model_module_version": "1.5.0",
      "model_name": "HBoxModel",
      "state": {
       "children": [
        "IPY_MODEL_6b68c9208cb54d04a8c056ba3aae7065"
       ],
       "layout": "IPY_MODEL_c01366a4756241e394c182e64d8d11f5"
      }
     },
     "8e7efe7e475047e38e3280e83254c4d8": {
      "model_module": "@jupyter-widgets/controls",
      "model_module_version": "1.5.0",
      "model_name": "DescriptionStyleModel",
      "state": {
       "description_width": ""
      }
     },
     "8efb44ddd7c54caaaf18bc4e41f80e85": {
      "model_module": "@jupyter-widgets/controls",
      "model_module_version": "1.5.0",
      "model_name": "TextModel",
      "state": {
       "description": "aks_location",
       "layout": "IPY_MODEL_76e23f125414485da2bbf115a5a24761",
       "placeholder": "AKS Azure Region",
       "style": "IPY_MODEL_d9a87fb80de941a2a16feb2f548c5f75",
       "value": "eastus"
      }
     },
     "8f17bad0ef374eae9a907ac23819303f": {
      "model_module": "@jupyter-widgets/controls",
      "model_module_version": "1.5.0",
      "model_name": "DescriptionStyleModel",
      "state": {
       "description_width": ""
      }
     },
     "8f20c1073f53410b8cbefccd2e3f94b2": {
      "model_module": "@jupyter-widgets/controls",
      "model_module_version": "1.5.0",
      "model_name": "TextModel",
      "state": {
       "description": "deep_image_name",
       "layout": "IPY_MODEL_486750a7168b4475bd32486ceefba973",
       "placeholder": "Docker Container Image Name",
       "style": "IPY_MODEL_0f166ec0b4104450be856d80e54a5b6f",
       "value": "mydeepimage"
      }
     },
     "8f60df63d7794bec9d0fc83acb076c36": {
      "model_module": "@jupyter-widgets/base",
      "model_module_version": "1.2.0",
      "model_name": "LayoutModel",
      "state": {}
     },
     "8f6bc6c11afd426aacb5a8a7c051c7aa": {
      "model_module": "@jupyter-widgets/controls",
      "model_module_version": "1.5.0",
      "model_name": "DescriptionStyleModel",
      "state": {
       "description_width": ""
      }
     },
     "8f8695630fd4417e91f55dc77f5d52c8": {
      "model_module": "@jupyter-widgets/controls",
      "model_module_version": "1.5.0",
      "model_name": "TextModel",
      "state": {
       "description": "resource_group",
       "layout": "IPY_MODEL_9a97b2c6df56439182c9f799dc4e0703",
       "placeholder": "Azure Resource Group Name",
       "style": "IPY_MODEL_2286b15e256a4588a2e288320b728d04",
       "value": "azmlrts-eastus-stable"
      }
     },
     "8f8be1bc4fb9400399f3e481f479ff5b": {
      "model_module": "@jupyter-widgets/base",
      "model_module_version": "1.2.0",
      "model_name": "LayoutModel",
      "state": {}
     },
     "8fa6b89addab4c05873cfece256c68b7": {
      "model_module": "@jupyter-widgets/controls",
      "model_module_version": "1.5.0",
      "model_name": "TextModel",
      "state": {
       "description": "image_name",
       "layout": "IPY_MODEL_c2e4921c831d44f7af1af57df2fb746e",
       "placeholder": "Docker Container Image Name",
       "style": "IPY_MODEL_c442dd2aaafe4de8b1b51e4acfec9bf6"
      }
     },
     "8fd43fa27be84e7790488342a2a7ae95": {
      "model_module": "@jupyter-widgets/base",
      "model_module_version": "1.2.0",
      "model_name": "LayoutModel",
      "state": {}
     },
     "9048a0865fbf479fa0e705b3fb018464": {
      "model_module": "@jupyter-widgets/base",
      "model_module_version": "1.2.0",
      "model_name": "LayoutModel",
      "state": {}
     },
     "905065f120484b63876393a19e048771": {
      "model_module": "@jupyter-widgets/base",
      "model_module_version": "1.2.0",
      "model_name": "LayoutModel",
      "state": {}
     },
     "9076362155314d899395a1853779c0c3": {
      "model_module": "@jupyter-widgets/base",
      "model_module_version": "1.2.0",
      "model_name": "LayoutModel",
      "state": {}
     },
     "90b50ef48e10469cad3b9594ebba3337": {
      "model_module": "@jupyter-widgets/base",
      "model_module_version": "1.2.0",
      "model_name": "LayoutModel",
      "state": {}
     },
     "90e362fa26cc479c9302b39367949c20": {
      "model_module": "@jupyter-widgets/base",
      "model_module_version": "1.2.0",
      "model_name": "LayoutModel",
      "state": {}
     },
     "90f466f37b994c9fa4252ae2ddf0fc1e": {
      "model_module": "@jupyter-widgets/base",
      "model_module_version": "1.2.0",
      "model_name": "LayoutModel",
      "state": {}
     },
     "9122eb2d0d4749119c545a614ca2a048": {
      "model_module": "@jupyter-widgets/controls",
      "model_module_version": "1.5.0",
      "model_name": "TextModel",
      "state": {
       "description": "subscription_id",
       "layout": "IPY_MODEL_4a250bbc3c4a42e9a965f5a0d113cc38",
       "placeholder": "Azure Subscription Id",
       "style": "IPY_MODEL_9ed81085c8194e52bba4f46a057d77f3",
       "value": "0ca618d2-22a8-413a-96d0-0f1b531129c3"
      }
     },
     "915f59ca82bf4825b501fdf528a77e55": {
      "model_module": "@jupyter-widgets/controls",
      "model_module_version": "1.5.0",
      "model_name": "DescriptionStyleModel",
      "state": {
       "description_width": ""
      }
     },
     "918a6575934549dea5630397676d7120": {
      "model_module": "@jupyter-widgets/controls",
      "model_module_version": "1.5.0",
      "model_name": "TextModel",
      "state": {
       "description": "deep_aks_location",
       "layout": "IPY_MODEL_3273d0ec69884341a7eac774cbd1846d",
       "placeholder": "AKS Azure Region",
       "style": "IPY_MODEL_05fcb789a3f54188af94af2c66bb9780"
      }
     },
     "91929fe425b846bf8d385e2b313e7450": {
      "model_module": "@jupyter-widgets/controls",
      "model_module_version": "1.5.0",
      "model_name": "ButtonModel",
      "state": {
       "description": "Use existing",
       "layout": "IPY_MODEL_65f03e21119348a7a7a396ae047d88d6",
       "style": "IPY_MODEL_6343eaeb8be7454e921be17aff695f8e",
       "tooltip": "Use an existing resource."
      }
     },
     "91f2a696ef214771b9a01c9b105e0127": {
      "model_module": "@jupyter-widgets/controls",
      "model_module_version": "1.5.0",
      "model_name": "DescriptionStyleModel",
      "state": {
       "description_width": ""
      }
     },
     "9244ea0706e847cfb17bddc835d6f821": {
      "model_module": "@jupyter-widgets/controls",
      "model_module_version": "1.5.0",
      "model_name": "TextModel",
      "state": {
       "description": "deep_aks_location",
       "layout": "IPY_MODEL_d2014c14d51c471d8a3d020dce539f03",
       "placeholder": "AKS Azure Region",
       "style": "IPY_MODEL_7aacf451b8a64c4cb53fe1cef1e6a4ba",
       "value": "eastus"
      }
     },
     "9291901705634095b07278cb85e4ed84": {
      "model_module": "@jupyter-widgets/controls",
      "model_module_version": "1.5.0",
      "model_name": "DescriptionStyleModel",
      "state": {
       "description_width": ""
      }
     },
     "92f98acfaebf45a2b7c71cd388e4e57f": {
      "model_module": "@jupyter-widgets/controls",
      "model_module_version": "1.5.0",
      "model_name": "TextModel",
      "state": {
       "description": "vm_size",
       "layout": "IPY_MODEL_274d975d7def4a6190e5aa03bca5c911",
       "placeholder": "skew of vms in Kubernetes cluster",
       "style": "IPY_MODEL_b8257a226aa64c97a9f9069f4fc57154",
       "value": "Standard_D4_v2"
      }
     },
     "932ad1e45d43410e9a495a1a7e2dfb4f": {
      "model_module": "@jupyter-widgets/controls",
      "model_module_version": "1.5.0",
      "model_name": "TextModel",
      "state": {
       "description": "image_name",
       "layout": "IPY_MODEL_6a5a2eced8ff41a783c7be5d128ad00a",
       "placeholder": "Docker Container Image Name",
       "style": "IPY_MODEL_9835e026a5a8422aa3940f7aa9d85b78"
      }
     },
     "93677e8125f3493295f8b8879bfc56d5": {
      "model_module": "@jupyter-widgets/controls",
      "model_module_version": "1.5.0",
      "model_name": "HBoxModel",
      "state": {
       "children": [
        "IPY_MODEL_e4861b25fe874b63ac7c2fd611b9b48f"
       ],
       "layout": "IPY_MODEL_7c3111240edf40e1b2ff5ede1d85607c"
      }
     },
     "936be6918c134a85b70a3c6422d8c750": {
      "model_module": "@jupyter-widgets/controls",
      "model_module_version": "1.5.0",
      "model_name": "ButtonStyleModel",
      "state": {}
     },
     "9377d8eba73d44d8a9b027211f442f19": {
      "model_module": "@jupyter-widgets/base",
      "model_module_version": "1.2.0",
      "model_name": "LayoutModel",
      "state": {}
     },
     "93adf92d4097450b9eb230be16d33bdc": {
      "model_module": "@jupyter-widgets/controls",
      "model_module_version": "1.5.0",
      "model_name": "DescriptionStyleModel",
      "state": {
       "description_width": ""
      }
     },
     "93c383d0cb2f48f488ee4e260ae3d4f5": {
      "model_module": "@jupyter-widgets/base",
      "model_module_version": "1.2.0",
      "model_name": "LayoutModel",
      "state": {}
     },
     "93d317a2a5bf4f9cbb42535b572ae6c0": {
      "model_module": "@jupyter-widgets/base",
      "model_module_version": "1.2.0",
      "model_name": "LayoutModel",
      "state": {}
     },
     "93e9343c22b64f3191168fa1c9c08884": {
      "model_module": "@jupyter-widgets/controls",
      "model_module_version": "1.5.0",
      "model_name": "TextModel",
      "state": {
       "description": "experiment_name",
       "layout": "IPY_MODEL_805b4f2dc59141e6ac7f6920b5e4aebf",
       "placeholder": "cpu cores for web service",
       "style": "IPY_MODEL_66fdbf5b4a114f8aa396050ddbb10a84",
       "value": "mlaks-train-on-local"
      }
     },
     "93ef45c19a9b4d8cbf515bd3092a0ee0": {
      "model_module": "@jupyter-widgets/controls",
      "model_module_version": "1.5.0",
      "model_name": "DropdownModel",
      "state": {
       "_options_labels": [
        "eastus",
        "eastus2",
        "canadacentral",
        "centralus",
        "northcentralus",
        "southcentralus",
        "westcentralus",
        "westus",
        "westus2"
       ],
       "description": "aks_location",
       "index": 0,
       "layout": "IPY_MODEL_6ef2d40816984c2093249cdec8bba8d0",
       "style": "IPY_MODEL_255d62c026d24f4fb191d1ba9a7bfa44"
      }
     },
     "940ca27fd3524f9a8b254fa61ceea35f": {
      "model_module": "@jupyter-widgets/base",
      "model_module_version": "1.2.0",
      "model_name": "LayoutModel",
      "state": {}
     },
     "941254283086420c8fe9c3afbcbd41e7": {
      "model_module": "@jupyter-widgets/base",
      "model_module_version": "1.2.0",
      "model_name": "LayoutModel",
      "state": {}
     },
     "94228fff58e14533afc622afa2885131": {
      "model_module": "@jupyter-widgets/controls",
      "model_module_version": "1.5.0",
      "model_name": "DropdownModel",
      "state": {
       "_options_labels": [
        "eastus",
        "eastus2",
        "canadacentral",
        "centralus",
        "northcentralus",
        "southcentralus",
        "westcentralus",
        "westus",
        "westus2"
       ],
       "description": "workspace_region:",
       "index": 0,
       "layout": "IPY_MODEL_31642113300a4134bbcc53a13fdde199",
       "style": "IPY_MODEL_bbe8a537871c45d2bdc1e4d1a1fd92f7"
      }
     },
     "943531e6081f4d8b82dd7769e6d7bf8e": {
      "model_module": "@jupyter-widgets/controls",
      "model_module_version": "1.5.0",
      "model_name": "TextModel",
      "state": {
       "description": "subscription_id",
       "layout": "IPY_MODEL_952400948c3a42e4927bf926e890c187",
       "placeholder": "Azure Subscription Id",
       "style": "IPY_MODEL_f4883cd3c60d49b6b83841ae1e60ccad"
      }
     },
     "9436720c5acd4b088566df87d434cf0d": {
      "model_module": "@jupyter-widgets/base",
      "model_module_version": "1.2.0",
      "model_name": "LayoutModel",
      "state": {}
     },
     "94429830071049c384653000dfc2379b": {
      "model_module": "@jupyter-widgets/controls",
      "model_module_version": "1.5.0",
      "model_name": "FileUploadModel",
      "state": {
       "accept": ".yml",
       "description_tooltip": null,
       "layout": "IPY_MODEL_988ee31b3acc45ed9a680e514431f9d5",
       "style": "IPY_MODEL_12956580ec2745afbfd20af7a2952519"
      }
     },
     "944976d6b9564e9095172b80501854c7": {
      "model_module": "@jupyter-widgets/controls",
      "model_module_version": "1.5.0",
      "model_name": "TextModel",
      "state": {
       "description": "aks_name",
       "layout": "IPY_MODEL_ac85a98765d94269b93608b99523e21b",
       "placeholder": "AKS Cluster Name",
       "style": "IPY_MODEL_2b4d995c5724449ca2f10fae1717b54e"
      }
     },
     "94502b02715a47a4be63e0613f9da9a4": {
      "model_module": "@jupyter-widgets/controls",
      "model_module_version": "1.5.0",
      "model_name": "TextModel",
      "state": {
       "description": "deep_aks_location",
       "layout": "IPY_MODEL_86e4d8c6315e421c946251c9181198e1",
       "placeholder": "AKS Azure Region",
       "style": "IPY_MODEL_9457a788428648fd9f7c9209227ceb52",
       "value": "eastus"
      }
     },
     "9457a788428648fd9f7c9209227ceb52": {
      "model_module": "@jupyter-widgets/controls",
      "model_module_version": "1.5.0",
      "model_name": "DescriptionStyleModel",
      "state": {
       "description_width": ""
      }
     },
     "9462f2fcf50145b7817f8d83c27128c0": {
      "model_module": "@jupyter-widgets/base",
      "model_module_version": "1.2.0",
      "model_name": "LayoutModel",
      "state": {}
     },
     "9489dd263f7844e4abd091b8bd63dcf9": {
      "model_module": "@jupyter-widgets/controls",
      "model_module_version": "1.5.0",
      "model_name": "DescriptionStyleModel",
      "state": {
       "description_width": ""
      }
     },
     "94d1af7ed3f04e9ca6557cab6c143c29": {
      "model_module": "@jupyter-widgets/controls",
      "model_module_version": "1.5.0",
      "model_name": "ButtonStyleModel",
      "state": {}
     },
     "94fb455cec404bc3a2e5ff5c20e000c6": {
      "model_module": "@jupyter-widgets/controls",
      "model_module_version": "1.5.0",
      "model_name": "TextModel",
      "state": {
       "description": "aks_service_name",
       "layout": "IPY_MODEL_768b2016e5c541eb8937d7e20b114d0d",
       "placeholder": "AKS Service Name",
       "style": "IPY_MODEL_966ca6b6678a4d429cd6cbb15bc99ce8",
       "value": "aksservice2"
      }
     },
     "952400948c3a42e4927bf926e890c187": {
      "model_module": "@jupyter-widgets/base",
      "model_module_version": "1.2.0",
      "model_name": "LayoutModel",
      "state": {}
     },
     "9569ce0c779d4f938031bead39f383a6": {
      "model_module": "@jupyter-widgets/controls",
      "model_module_version": "1.5.0",
      "model_name": "TextModel",
      "state": {
       "description": "num_estimators",
       "layout": "IPY_MODEL_e8333c9f6b7f4ab298d010c59d891a5e",
       "placeholder": "number of replicas in Kubernetes cluster",
       "style": "IPY_MODEL_44a6da833e2c4c19b641550f7d416fa3",
       "value": "2"
      }
     },
     "9573066ff6a542a0aae8dd440f973505": {
      "model_module": "@jupyter-widgets/controls",
      "model_module_version": "1.5.0",
      "model_name": "TextModel",
      "state": {
       "description": "aks_service_name",
       "layout": "IPY_MODEL_fba7176fc1c84ce787a448624806c1d7",
       "placeholder": "AKS Service Name",
       "style": "IPY_MODEL_74562c458b904d558da0099b829e1a0b",
       "value": "aksservice2"
      }
     },
     "95c737347989479698d2fb46d917c1bf": {
      "model_module": "@jupyter-widgets/controls",
      "model_module_version": "1.5.0",
      "model_name": "HBoxModel",
      "state": {
       "children": [
        "IPY_MODEL_cccc5e0be29f4eea8d0a84d079a6ee3a",
        "IPY_MODEL_bb4aec7117404d03a1fa88a0ce003d5c"
       ],
       "layout": "IPY_MODEL_425ac6f1005f46d48fb8c5730cff2b81"
      }
     },
     "95d4beedc32b4cef85ced6e0f43361fb": {
      "model_module": "@jupyter-widgets/controls",
      "model_module_version": "1.5.0",
      "model_name": "DescriptionStyleModel",
      "state": {
       "description_width": ""
      }
     },
     "95dbcb23e0474513997a4776f54739ba": {
      "model_module": "@jupyter-widgets/controls",
      "model_module_version": "1.5.0",
      "model_name": "DescriptionStyleModel",
      "state": {
       "description_width": ""
      }
     },
     "95ede35cbcb44c1fbd076f6db182d49f": {
      "model_module": "@jupyter-widgets/controls",
      "model_module_version": "1.5.0",
      "model_name": "DescriptionStyleModel",
      "state": {
       "description_width": ""
      }
     },
     "9647eac563f04b7e9024b03456402b2f": {
      "model_module": "@jupyter-widgets/base",
      "model_module_version": "1.2.0",
      "model_name": "LayoutModel",
      "state": {}
     },
     "966c4ecb6aa641baa3852c28fb56a4ae": {
      "model_module": "@jupyter-widgets/base",
      "model_module_version": "1.2.0",
      "model_name": "LayoutModel",
      "state": {}
     },
     "966ca6b6678a4d429cd6cbb15bc99ce8": {
      "model_module": "@jupyter-widgets/controls",
      "model_module_version": "1.5.0",
      "model_name": "DescriptionStyleModel",
      "state": {
       "description_width": ""
      }
     },
     "9695f45969ed464082fcd990eedc4b9f": {
      "model_module": "@jupyter-widgets/controls",
      "model_module_version": "1.5.0",
      "model_name": "TextModel",
      "state": {
       "description": "workspace_name",
       "layout": "IPY_MODEL_180807755cd741c097e7856f2f7a5ca1",
       "placeholder": "Azure ML Workspace Name",
       "style": "IPY_MODEL_915f59ca82bf4825b501fdf528a77e55",
       "value": "dcibows"
      }
     },
     "96bf4d5c073a4911a788ec027adaea57": {
      "model_module": "@jupyter-widgets/controls",
      "model_module_version": "1.5.0",
      "model_name": "ButtonStyleModel",
      "state": {}
     },
     "96d2c39356d44b2e8c83a96c5fb5eb08": {
      "model_module": "@jupyter-widgets/base",
      "model_module_version": "1.2.0",
      "model_name": "LayoutModel",
      "state": {}
     },
     "96d7538c5b844f13b074a5530cd660f7": {
      "model_module": "@jupyter-widgets/controls",
      "model_module_version": "1.5.0",
      "model_name": "TextModel",
      "state": {
       "description": "subscription_id",
       "layout": "IPY_MODEL_ba7d459ffb9e432eb6f3462af628807e",
       "placeholder": "Azure Subscription Id",
       "style": "IPY_MODEL_9828178d405744eda933579b17ee3656"
      }
     },
     "974b438d88f94d3fb2b8b231f5786ca1": {
      "model_module": "@jupyter-widgets/controls",
      "model_module_version": "1.5.0",
      "model_name": "DescriptionStyleModel",
      "state": {
       "description_width": ""
      }
     },
     "97517b90d74047cfb8f440eb5d06a326": {
      "model_module": "@jupyter-widgets/base",
      "model_module_version": "1.2.0",
      "model_name": "LayoutModel",
      "state": {}
     },
     "97595181af0b42daa5764dbc7ba04341": {
      "model_module": "@jupyter-widgets/controls",
      "model_module_version": "1.5.0",
      "model_name": "DescriptionStyleModel",
      "state": {
       "description_width": ""
      }
     },
     "9776e87d33fe4553b7604196311d0867": {
      "model_module": "@jupyter-widgets/base",
      "model_module_version": "1.2.0",
      "model_name": "LayoutModel",
      "state": {}
     },
     "9779bbb581e2472d91abc572ec53d43e": {
      "model_module": "@jupyter-widgets/controls",
      "model_module_version": "1.5.0",
      "model_name": "DescriptionStyleModel",
      "state": {
       "description_width": ""
      }
     },
     "978f57b9f9194e2d9c1246940fc5ac66": {
      "model_module": "@jupyter-widgets/controls",
      "model_module_version": "1.5.0",
      "model_name": "DescriptionStyleModel",
      "state": {
       "description_width": ""
      }
     },
     "979cace35c81490fa53bf94911ab470a": {
      "model_module": "@jupyter-widgets/base",
      "model_module_version": "1.2.0",
      "model_name": "LayoutModel",
      "state": {}
     },
     "97ca5a3a5f874a999ebd664ce03d30b3": {
      "model_module": "@jupyter-widgets/controls",
      "model_module_version": "1.5.0",
      "model_name": "TextModel",
      "state": {
       "description": "deep_aks_location",
       "layout": "IPY_MODEL_a24f4906ef56406f891d1cdfcbf3295f",
       "placeholder": "AKS Azure Region",
       "style": "IPY_MODEL_0cdb1606abc7496f87427e4e204b18cf",
       "value": "kl"
      }
     },
     "97dc1830602946c5a038ec9af782d68c": {
      "model_module": "@jupyter-widgets/controls",
      "model_module_version": "1.5.0",
      "model_name": "DescriptionStyleModel",
      "state": {
       "description_width": ""
      }
     },
     "97de9ae6366d4f14a4cf56754f42b451": {
      "model_module": "@jupyter-widgets/controls",
      "model_module_version": "1.5.0",
      "model_name": "ButtonModel",
      "state": {
       "description": "Use existing",
       "layout": "IPY_MODEL_518ab6239d3547fc9a1e9f4ccb31e449",
       "style": "IPY_MODEL_5470050cf47a4c57be937369e9a3700b",
       "tooltip": "Use an existing resource."
      }
     },
     "9815cceb2ea949e0be9d2ca9a50b0116": {
      "model_module": "@jupyter-widgets/controls",
      "model_module_version": "1.5.0",
      "model_name": "TextModel",
      "state": {
       "description": "deep_aks_name",
       "layout": "IPY_MODEL_727bddb6fa004459a6c23f1c36c2dce2",
       "placeholder": "AKS Cluster Name",
       "style": "IPY_MODEL_73cff5695c194819b314338f6d7dc4e5",
       "value": "deepakscluster"
      }
     },
     "9824a58fffd64258979bcccda13735ac": {
      "model_module": "@jupyter-widgets/base",
      "model_module_version": "1.2.0",
      "model_name": "LayoutModel",
      "state": {}
     },
     "9828178d405744eda933579b17ee3656": {
      "model_module": "@jupyter-widgets/controls",
      "model_module_version": "1.5.0",
      "model_name": "DescriptionStyleModel",
      "state": {
       "description_width": ""
      }
     },
     "9835e026a5a8422aa3940f7aa9d85b78": {
      "model_module": "@jupyter-widgets/controls",
      "model_module_version": "1.5.0",
      "model_name": "DescriptionStyleModel",
      "state": {
       "description_width": ""
      }
     },
     "988ee31b3acc45ed9a680e514431f9d5": {
      "model_module": "@jupyter-widgets/base",
      "model_module_version": "1.2.0",
      "model_name": "LayoutModel",
      "state": {}
     },
     "98b21f357d4442f79609a7ce48e0bbf8": {
      "model_module": "@jupyter-widgets/base",
      "model_module_version": "1.2.0",
      "model_name": "LayoutModel",
      "state": {}
     },
     "98d3636fe0b749428a09aad2496ee292": {
      "model_module": "@jupyter-widgets/controls",
      "model_module_version": "1.5.0",
      "model_name": "ButtonStyleModel",
      "state": {}
     },
     "98d6324366cb4134a51638d8b1a02528": {
      "model_module": "@jupyter-widgets/base",
      "model_module_version": "1.2.0",
      "model_name": "LayoutModel",
      "state": {}
     },
     "98f9c39f4f3f4e3287314882bc7af8bb": {
      "model_module": "@jupyter-widgets/base",
      "model_module_version": "1.2.0",
      "model_name": "LayoutModel",
      "state": {}
     },
     "9919141e1d0d4e52941d35b78ce1507d": {
      "model_module": "@jupyter-widgets/controls",
      "model_module_version": "1.5.0",
      "model_name": "DropdownModel",
      "state": {
       "_options_labels": [
        "AG-CE-AI-GPU-EXPERIMENTATION",
        "AG-AzureCAT-AITao-Test-COGSNonProd-IO1685734",
        "AG-CE-AI-DEVOPS",
        "AG-AzureCAT-AIDemos-Test-COGSNonProd-IO1685734",
        "AGCE-AI-DELETE-Sharat",
        "AG-AzureCAT-AILab-Test-COGSNonProd-IO1685734",
        "Visual Studio Ultimate with MSDN",
        "AG-AzureCAT-AIDataPM-Test-COGSNonProd-IO1685743",
        "AG-AzureCAT-AIDanielle-Test-COGSNonProd-IO1685734",
        "AG-CE-AI-MN-CICOMMERCIAL",
        "AG-CE-AI-MN-INCUBATION",
        "AG-CE-AI-MN-OSS",
        "AG-CE-AI-MN-E2E",
        "AG-CE-AI-MN-HU",
        "AG-CE-AI-MN-SEISMIC",
        "AG-CE-AI-STORAGE",
        "AG-CE-AI-MN-RETAIL",
        "AG-CE-AI-FEEDBACK",
        "AG-CE-AI-MN-LAB",
        "Azure SDK Engineering System",
        "Epic-Edge-ES-ReproVMLab",
        "ES-Stream-Operations",
        "Core-ES-BranchManagement",
        "WDG-ES-RnD-GITTrain",
        "Cosmos_WDG_Core_BnB_100292",
        "Azure Stack Diagnostics CI and Production VaaS",
        "Edge DevTools Client",
        "Azure Stack CSS Labs",
        "AppInsight Test",
        "ddverify",
        "VSEng MadDog-RPS Telemetry",
        "CAT_Eng",
        "RPS-cloud-common-2",
        "Core-ES-WorkManagement",
        "Azure_Maps_MDP_Engineering",
        "Test/Demo - VipSwapper Operations",
        "COSINE-ES-Signing Azure Service",
        "AI Infra Build",
        "AG-CE-E2E-AI",
        "DEMO - how RepDemo are you",
        "ADS Demo Subscription",
        "AzureCAT E2E Blue Steel",
        "Azure Search DEV Service Layer (kmort,miwelsh,bohuan)"
       ],
       "description": "subscription_id",
       "index": 0,
       "layout": "IPY_MODEL_ded7ec295c7c4d1aaab3be2ef19ae37c",
       "style": "IPY_MODEL_87b93bcad8d3475e91e4a4d51e8b1607"
      }
     },
     "992db9f5b88847ad87196c76632f2130": {
      "model_module": "@jupyter-widgets/controls",
      "model_module_version": "1.5.0",
      "model_name": "TextModel",
      "state": {
       "description": "aks_service_name",
       "layout": "IPY_MODEL_ccacc34cbf1144149e7b49a4b3c6871c",
       "placeholder": "AKS Service Name",
       "style": "IPY_MODEL_14c26dba9385415a894116a7e5439080",
       "value": "aksservice2"
      }
     },
     "99559ed18e534c99a038c245737adb19": {
      "model_module": "@jupyter-widgets/base",
      "model_module_version": "1.2.0",
      "model_name": "LayoutModel",
      "state": {}
     },
     "996e39c5eeb94d19b9c7efcf696853c3": {
      "model_module": "@jupyter-widgets/controls",
      "model_module_version": "1.5.0",
      "model_name": "HBoxModel",
      "state": {
       "children": [
        "IPY_MODEL_284ac62e1387428b875c9c7639d03f6d",
        "IPY_MODEL_01b8c8fb1c6e4c658a14e75f20452f6a"
       ],
       "layout": "IPY_MODEL_c45b3e938a4a43c29bf4d28f49328bfc"
      }
     },
     "99727a2a00ec4235b7ae3a3e4f184678": {
      "model_module": "@jupyter-widgets/controls",
      "model_module_version": "1.5.0",
      "model_name": "DescriptionStyleModel",
      "state": {
       "description_width": ""
      }
     },
     "9973b94c9e8a48569cc874acd5777faa": {
      "model_module": "@jupyter-widgets/controls",
      "model_module_version": "1.5.0",
      "model_name": "TextModel",
      "state": {
       "description": "workspace_region",
       "layout": "IPY_MODEL_df9604ac991a4d648eab4d39fe6446dc",
       "placeholder": "Azure ML Workspace Region",
       "style": "IPY_MODEL_4ad9532f0a454a4cafe3401455a5c9dd",
       "value": "eastus"
      }
     },
     "99866f5d2af645e9993306ca2151b939": {
      "model_module": "@jupyter-widgets/controls",
      "model_module_version": "1.5.0",
      "model_name": "DropdownModel",
      "state": {
       "_options_labels": [
        "AG-CE-AI-GPU-EXPERIMENTATION",
        "AG-AzureCAT-AITao-Test-COGSNonProd-IO1685734",
        "AG-CE-AI-DEVOPS",
        "AG-AzureCAT-AIDemos-Test-COGSNonProd-IO1685734",
        "AGCE-AI-DELETE-Sharat",
        "AG-AzureCAT-AILab-Test-COGSNonProd-IO1685734",
        "Visual Studio Ultimate with MSDN",
        "AG-AzureCAT-AIDataPM-Test-COGSNonProd-IO1685743",
        "AG-AzureCAT-AIDanielle-Test-COGSNonProd-IO1685734",
        "AG-CE-AI-MN-CICOMMERCIAL",
        "AG-CE-AI-MN-INCUBATION",
        "AG-CE-AI-MN-OSS",
        "AG-CE-AI-MN-E2E",
        "AG-CE-AI-MN-HU",
        "AG-CE-AI-MN-SEISMIC",
        "AG-CE-AI-STORAGE",
        "AG-CE-AI-MN-RETAIL",
        "AG-CE-AI-FEEDBACK",
        "AG-CE-AI-MN-LAB",
        "Azure SDK Engineering System",
        "Epic-Edge-ES-ReproVMLab",
        "ES-Stream-Operations",
        "Core-ES-BranchManagement",
        "WDG-ES-RnD-GITTrain",
        "Cosmos_WDG_Core_BnB_100292",
        "Azure Stack Diagnostics CI and Production VaaS",
        "Edge DevTools Client",
        "Azure Stack CSS Labs",
        "AppInsight Test",
        "ddverify",
        "VSEng MadDog-RPS Telemetry",
        "CAT_Eng",
        "RPS-cloud-common-2",
        "Core-ES-WorkManagement",
        "Azure_Maps_MDP_Engineering",
        "Test/Demo - VipSwapper Operations",
        "COSINE-ES-Signing Azure Service",
        "AI Infra Build",
        "AG-CE-E2E-AI",
        "DEMO - how RepDemo are you",
        "ADS Demo Subscription",
        "AzureCAT E2E Blue Steel",
        "Azure Search DEV Service Layer (kmort,miwelsh,bohuan)"
       ],
       "description": "workspace_region:",
       "index": 2,
       "layout": "IPY_MODEL_575b4e4e49354451ab757fb461ed058e",
       "style": "IPY_MODEL_87c798f3acb141b7b773097ec7c470ba"
      }
     },
     "99939e1be13747d090de522873c13f24": {
      "model_module": "@jupyter-widgets/controls",
      "model_module_version": "1.5.0",
      "model_name": "DescriptionStyleModel",
      "state": {
       "description_width": ""
      }
     },
     "99a19e22244e409f9675f53d75c91392": {
      "model_module": "@jupyter-widgets/controls",
      "model_module_version": "1.5.0",
      "model_name": "TextModel",
      "state": {
       "description": "workspace_name",
       "layout": "IPY_MODEL_79a9eba63b844d6eadb44fc24db01264",
       "placeholder": "Azure ML Workspace Name",
       "style": "IPY_MODEL_68b8ce1c82bc487fa09e86412496ebcc",
       "value": "azmlrts-eastus"
      }
     },
     "99aa32c4981d48128f7261ce0597401c": {
      "model_module": "@jupyter-widgets/base",
      "model_module_version": "1.2.0",
      "model_name": "LayoutModel",
      "state": {}
     },
     "99fc86d268ea4a02bff4e406b52fabf1": {
      "model_module": "@jupyter-widgets/base",
      "model_module_version": "1.2.0",
      "model_name": "LayoutModel",
      "state": {}
     },
     "9a0e7fc14a8f40268657f9b2a9bd2ab3": {
      "model_module": "@jupyter-widgets/controls",
      "model_module_version": "1.5.0",
      "model_name": "DescriptionStyleModel",
      "state": {
       "description_width": ""
      }
     },
     "9a3281ee85d74c6baeb457bda846cf2d": {
      "model_module": "@jupyter-widgets/controls",
      "model_module_version": "1.5.0",
      "model_name": "DescriptionStyleModel",
      "state": {
       "description_width": ""
      }
     },
     "9a34b72032b84ab4840095827c3ac22c": {
      "model_module": "@jupyter-widgets/controls",
      "model_module_version": "1.5.0",
      "model_name": "DropdownModel",
      "state": {
       "_options_labels": [
        "eastus",
        "eastus2",
        "canadacentral",
        "centralus",
        "northcentralus",
        "southcentralus",
        "westcentralus",
        "westus",
        "westus2"
       ],
       "description": "deep_aks_location",
       "index": 0,
       "layout": "IPY_MODEL_4228c497e81749949792212870de8733",
       "style": "IPY_MODEL_66991bf584724e6fabda40847060d7d4"
      }
     },
     "9a5c4be0309d41558e17f2d978d15ab4": {
      "model_module": "@jupyter-widgets/controls",
      "model_module_version": "1.5.0",
      "model_name": "TextModel",
      "state": {
       "description": "aks_location",
       "layout": "IPY_MODEL_17b097dde9234a0986e914c7b1665e04",
       "placeholder": "AKS Azure Region",
       "style": "IPY_MODEL_d1ad25b05b54421ab784d4b89d6ab22f",
       "value": "eastus"
      }
     },
     "9a6e378a0011467b9bb3d40558feff66": {
      "model_module": "@jupyter-widgets/base",
      "model_module_version": "1.2.0",
      "model_name": "LayoutModel",
      "state": {}
     },
     "9a8619b20c69450483068aad8cc97f26": {
      "model_module": "@jupyter-widgets/controls",
      "model_module_version": "1.5.0",
      "model_name": "DescriptionStyleModel",
      "state": {
       "description_width": ""
      }
     },
     "9a8fb91623434d53a26754ce8b8ddf36": {
      "model_module": "@jupyter-widgets/base",
      "model_module_version": "1.2.0",
      "model_name": "LayoutModel",
      "state": {}
     },
     "9a94467ea97a4047aa42facabb267635": {
      "model_module": "@jupyter-widgets/controls",
      "model_module_version": "1.5.0",
      "model_name": "TextModel",
      "state": {
       "description": "aks_service_name",
       "layout": "IPY_MODEL_d06b7fe1d32e44df853a55334e5d6e8b",
       "placeholder": "AKS Service Name",
       "style": "IPY_MODEL_a9afc6fe183d4426a47f839df840c484",
       "value": "dciboaksservice"
      }
     },
     "9a97b2c6df56439182c9f799dc4e0703": {
      "model_module": "@jupyter-widgets/base",
      "model_module_version": "1.2.0",
      "model_name": "LayoutModel",
      "state": {}
     },
     "9ac53d9017bc4f68879f6ae2302e5b5d": {
      "model_module": "@jupyter-widgets/base",
      "model_module_version": "1.2.0",
      "model_name": "LayoutModel",
      "state": {}
     },
     "9ac5757f7945473684f04fa5a690b00b": {
      "model_module": "@jupyter-widgets/controls",
      "model_module_version": "1.5.0",
      "model_name": "ButtonStyleModel",
      "state": {}
     },
     "9ac9d04645164ef3aa40cc4ab47b8688": {
      "model_module": "@jupyter-widgets/base",
      "model_module_version": "1.2.0",
      "model_name": "LayoutModel",
      "state": {}
     },
     "9ad5569670d64794bd0c273e15bbffc0": {
      "model_module": "@jupyter-widgets/controls",
      "model_module_version": "1.5.0",
      "model_name": "HBoxModel",
      "state": {
       "children": [
        "IPY_MODEL_ad6ee58593a14b4b8f4fadc58d471df3",
        "IPY_MODEL_71a5d0c5f7aa44e8907ab71803f27079"
       ],
       "layout": "IPY_MODEL_940ca27fd3524f9a8b254fa61ceea35f"
      }
     },
     "9ae59c22bccb4f73b974df6020facbad": {
      "model_module": "@jupyter-widgets/base",
      "model_module_version": "1.2.0",
      "model_name": "LayoutModel",
      "state": {}
     },
     "9af81404c0764b748ca1e0ce1b874b81": {
      "model_module": "@jupyter-widgets/controls",
      "model_module_version": "1.5.0",
      "model_name": "ButtonModel",
      "state": {
       "description": "Overwrite Settings",
       "icon": "check",
       "layout": "IPY_MODEL_86a5bb7d2aa74f15b5f1f16a7394f0f9",
       "style": "IPY_MODEL_61abc48657e445ae8e5a935c3d01993b",
       "tooltip": "Click to save settings to file."
      }
     },
     "9afa16c8d59648e9bf79f420d66465ff": {
      "model_module": "@jupyter-widgets/controls",
      "model_module_version": "1.5.0",
      "model_name": "ButtonStyleModel",
      "state": {}
     },
     "9b011b0b84fd4174b267ec4acc2823c7": {
      "model_module": "@jupyter-widgets/controls",
      "model_module_version": "1.5.0",
      "model_name": "HBoxModel",
      "state": {
       "children": [
        "IPY_MODEL_e0d2ce642c35452abd93be0df079c845",
        "IPY_MODEL_56daa3495b534ed7bd6e1a251a832616"
       ],
       "layout": "IPY_MODEL_00c67661007749829824c4ab85a9aa69"
      }
     },
     "9b01358b3da84c98aa09915f3509472f": {
      "model_module": "@jupyter-widgets/controls",
      "model_module_version": "1.5.0",
      "model_name": "ButtonStyleModel",
      "state": {}
     },
     "9b6cd7a67daa472cbb505844b0398d95": {
      "model_module": "@jupyter-widgets/base",
      "model_module_version": "1.2.0",
      "model_name": "LayoutModel",
      "state": {}
     },
     "9b97b88587464e6eaf8b3685d04c4970": {
      "model_module": "@jupyter-widgets/controls",
      "model_module_version": "1.5.0",
      "model_name": "DescriptionStyleModel",
      "state": {
       "description_width": ""
      }
     },
     "9bafe44e3510464a8348907ddf153f7b": {
      "model_module": "@jupyter-widgets/controls",
      "model_module_version": "1.5.0",
      "model_name": "ButtonModel",
      "state": {
       "description": "Overwrite Settings",
       "icon": "check",
       "layout": "IPY_MODEL_5f2822279f0d4d97a145937039247dc1",
       "style": "IPY_MODEL_264ff0aa343a487c9a6a2e8358af7b71",
       "tooltip": "Click to save settings to file."
      }
     },
     "9be69be1e982412fa41655809999ca24": {
      "model_module": "@jupyter-widgets/controls",
      "model_module_version": "1.5.0",
      "model_name": "TextModel",
      "state": {
       "description": "deep_aks_name",
       "layout": "IPY_MODEL_53a919ecc0fb47e5a6f90cefe6084128",
       "placeholder": "AKS Cluster Name",
       "style": "IPY_MODEL_7c84fffac7ac4ae4a81f7d205edf203a",
       "value": "deepakscluster"
      }
     },
     "9bf2b7eedcbf48f4bd61a673fa2ad81e": {
      "buffers": [
       {
        "data": "cHJvamVjdF9uYW1lOiBhaS1kZWVwLXJlYWx0aW1lLXNjb3JlDQpzZXR0aW5nczoNCi0gc3Vic2NyaXB0aW9uX2lkOg0KICAtIGRlc2NyaXB0aW9uOiBBenVyZSBTdWJzY3JpcHRpb24gSWQNCiAgLSB2YWx1ZTogMGNhNjE4ZDItMjJhOC00MTNhLTk2ZDAtMGYxYjUzMTEyOWMzDQotIHJlc291cmNlX2dyb3VwOg0KICAtIGRlc2NyaXB0aW9uOiBBenVyZSBSZXNvdXJjZSBHcm91cCBOYW1lDQogIC0gdmFsdWU6IGF6bWxydHMtZWFzdHVzLXN0YWJsZQ0KLSB3b3Jrc3BhY2VfbmFtZToNCiAgLSBkZXNjcmlwdGlvbjogQXp1cmUgTUwgV29ya3NwYWNlIE5hbWUNCiAgLSB2YWx1ZTogYXptbHJ0cy1lYXN0dXMNCi0gd29ya3NwYWNlX3JlZ2lvbjoNCiAgLSBkZXNjcmlwdGlvbjogQXp1cmUgTUwgV29ya3NwYWNlIFJlZ2lvbg0KICAtIHZhbHVlOiBlYXN0dXMNCi0gaW1hZ2VfbmFtZToNCiAgLSBkZXNjcmlwdGlvbjogRG9ja2VyIENvbnRhaW5lciBJbWFnZSBOYW1lDQogIC0gdmFsdWU6IG15bWxpbWFnZTINCi0gYWtzX3NlcnZpY2VfbmFtZToNCiAgLSBkZXNjcmlwdGlvbjogQUtTIFNlcnZpY2UgTmFtZQ0KICAtIHZhbHVlOiBha3NzZXJ2aWNlMg0KLSBha3NfbG9jYXRpb246DQogIC0gZGVzY3JpcHRpb246IEFLUyBBenVyZSBSZWdpb24NCiAgLSB2YWx1ZTogZWFzdHVzDQotIGFrc19uYW1lOg0KICAtIGRlc2NyaXB0aW9uOiBBS1MgQ2x1c3RlciBOYW1lDQogIC0gdmFsdWU6IGFrc2NsdXN0ZXIyDQotIGRlZXBfaW1hZ2VfbmFtZToNCiAgLSBkZXNjcmlwdGlvbjogRG9ja2VyIENvbnRhaW5lciBJbWFnZSBOYW1lDQogIC0gdmFsdWU6IG15ZGVlcGltYWdlDQotIGRlZXBfYWtzX3NlcnZpY2VfbmFtZToNCiAgLSBkZXNjcmlwdGlvbjogQUtTIFNlcnZpY2UgTmFtZQ0KICAtIHZhbHVlOiBkZWVwYWtzc2VydmljZQ0KLSBkZWVwX2Frc19uYW1lOg0KICAtIGRlc2NyaXB0aW9uOiBBS1MgQ2x1c3RlciBOYW1lDQogIC0gdmFsdWU6IGRlZXBha3NjbHVzdGVyDQotIGRlZXBfYWtzX2xvY2F0aW9uOg0KICAtIGRlc2NyaXB0aW9uOiBBS1MgQXp1cmUgUmVnaW9uDQogIC0gdmFsdWU6IGVhc3R1cw0K",
        "encoding": "base64",
        "path": [
         "data",
         0
        ]
       }
      ],
      "model_module": "@jupyter-widgets/controls",
      "model_module_version": "1.5.0",
      "model_name": "FileUploadModel",
      "state": {
       "_counter": 1,
       "accept": ".yml",
       "data": [
        {}
       ],
       "description_tooltip": null,
       "layout": "IPY_MODEL_cbe9b6313c9d40d6aba8908ef9c2a5d4",
       "metadata": [
        {
         "lastModified": 1583358839198,
         "name": "project.yml",
         "size": 1068,
         "type": ""
        }
       ],
       "style": "IPY_MODEL_5bdf0326c49e4c0fb222f9eecfe9a354"
      }
     },
     "9bf9d1a927e048fdb9df8e71f694cfe0": {
      "model_module": "@jupyter-widgets/controls",
      "model_module_version": "1.5.0",
      "model_name": "TextModel",
      "state": {
       "description": "subscription_id",
       "layout": "IPY_MODEL_66456ac2ecd740bd9e966547267d43c2",
       "placeholder": "Azure Subscription Id",
       "style": "IPY_MODEL_f3886859f8a54afc9c606ac3ca0b7980",
       "value": "0ca618d2-22a8-413a-96d0-0f1b531129c3"
      }
     },
     "9bfc6a8229b3442b8f98bd57549c3eb6": {
      "model_module": "@jupyter-widgets/controls",
      "model_module_version": "1.5.0",
      "model_name": "DescriptionStyleModel",
      "state": {
       "description_width": ""
      }
     },
     "9c37f876174340d4ab83bdc7996d33d7": {
      "model_module": "@jupyter-widgets/controls",
      "model_module_version": "1.5.0",
      "model_name": "FileUploadModel",
      "state": {
       "accept": ".yml",
       "description_tooltip": null,
       "layout": "IPY_MODEL_f07151c6cf00473283938a4a4fa5f00f",
       "style": "IPY_MODEL_266f3ef0972d4758bf814cac2859450a"
      }
     },
     "9c4a50e2ba4a4c56a3efd06304129936": {
      "model_module": "@jupyter-widgets/controls",
      "model_module_version": "1.5.0",
      "model_name": "ButtonModel",
      "state": {
       "description": "Use existing",
       "layout": "IPY_MODEL_097e023f68fc4fbf90155696358c32f5",
       "style": "IPY_MODEL_1eb6b52203164b00ac1a643e027b0bcb",
       "tooltip": "Use an existing resource."
      }
     },
     "9c6a358a0f1048569ee18d8e494f1c4d": {
      "model_module": "@jupyter-widgets/base",
      "model_module_version": "1.2.0",
      "model_name": "LayoutModel",
      "state": {}
     },
     "9c6ebc584b224ec990701b8022090857": {
      "model_module": "@jupyter-widgets/controls",
      "model_module_version": "1.5.0",
      "model_name": "HBoxModel",
      "state": {
       "children": [
        "IPY_MODEL_2ae5c698b9a841cd9c5ce5f3203afcd7"
       ],
       "layout": "IPY_MODEL_1dbe4c52518044978cfeca2f094dfef9"
      }
     },
     "9c86f1412afa47fe9aa2a13544516412": {
      "model_module": "@jupyter-widgets/controls",
      "model_module_version": "1.5.0",
      "model_name": "ButtonStyleModel",
      "state": {}
     },
     "9c9d0cab689d48a2b8e9ff78627fed99": {
      "model_module": "@jupyter-widgets/base",
      "model_module_version": "1.2.0",
      "model_name": "LayoutModel",
      "state": {}
     },
     "9ccea2c117da49908611e5707b7d5164": {
      "model_module": "@jupyter-widgets/base",
      "model_module_version": "1.2.0",
      "model_name": "LayoutModel",
      "state": {}
     },
     "9cd64254716947208039f99bec376243": {
      "model_module": "@jupyter-widgets/controls",
      "model_module_version": "1.5.0",
      "model_name": "TextModel",
      "state": {
       "description": "deep_aks_name",
       "layout": "IPY_MODEL_21148d4e638641ccab89b6c000eaaebc",
       "placeholder": "AKS Cluster Name",
       "style": "IPY_MODEL_fc91b7263c01401cb552850a9b97dd3a",
       "value": "deepakscluster"
      }
     },
     "9cf15a9fcf7649f18430b4f9f2aff78b": {
      "model_module": "@jupyter-widgets/controls",
      "model_module_version": "1.5.0",
      "model_name": "VBoxModel",
      "state": {
       "children": [
        "IPY_MODEL_d0b0ae05bc284ec680841558a8067e82",
        "IPY_MODEL_caacfe311f494ed991d75140bae741a8",
        "IPY_MODEL_9fb30aaf256d451fa17a3c5ec57d6fb4",
        "IPY_MODEL_2b0be599fbfc4486a63d76f87bf7bc11",
        "IPY_MODEL_0ca327a394f341fab810a9be854cd2eb",
        "IPY_MODEL_445a31756b3e412799ed15a0ec393352",
        "IPY_MODEL_8ca85785b4dd4223b0ffafa066ead703",
        "IPY_MODEL_ba7fa7a5b7bd44ec849bc1d5e4448e13",
        "IPY_MODEL_8ae7c2e1daae445e80ebac3e0911db3f",
        "IPY_MODEL_094e07c0911b4ba2bba21ca6b85b3499",
        "IPY_MODEL_dd221fb5a3f646a78d18ccb6f2a0f95b",
        "IPY_MODEL_b731f07b696443bd8ae6d13632496f2a",
        "IPY_MODEL_9cd64254716947208039f99bec376243",
        "IPY_MODEL_e408210b4fb54bdf8b2e9872b7beb49c",
        "IPY_MODEL_3d81f4568d994d0bae4ec60c75eb69fd"
       ],
       "layout": "IPY_MODEL_76b0b17cffec4f41bd74f1671117c766"
      }
     },
     "9d03cc6e3dfc4f2c92c00882908fffcb": {
      "model_module": "@jupyter-widgets/controls",
      "model_module_version": "1.5.0",
      "model_name": "TextModel",
      "state": {
       "description": "deep_aks_service_name",
       "layout": "IPY_MODEL_050154a155a149a99131fb6a96dec3f9",
       "placeholder": "AKS Service Name",
       "style": "IPY_MODEL_1c55e9d2d42841d28626f2b9aa3366ab",
       "value": "deepaksservice"
      }
     },
     "9d11f81d84c249a2aa9817f06593c190": {
      "model_module": "@jupyter-widgets/base",
      "model_module_version": "1.2.0",
      "model_name": "LayoutModel",
      "state": {}
     },
     "9d15612c087544308675a34b36e9952b": {
      "model_module": "@jupyter-widgets/controls",
      "model_module_version": "1.5.0",
      "model_name": "DropdownModel",
      "state": {
       "_options_labels": [
        "eastus",
        "eastus2",
        "canadacentral",
        "centralus",
        "northcentralus",
        "southcentralus",
        "westcentralus",
        "westus",
        "westus2"
       ],
       "description": "workspace_region",
       "index": 0,
       "layout": "IPY_MODEL_9377d8eba73d44d8a9b027211f442f19",
       "style": "IPY_MODEL_af1696aeccc645a88f23c924df4b2667"
      }
     },
     "9d173109217d4675b84f75bc6f902fcc": {
      "model_module": "@jupyter-widgets/base",
      "model_module_version": "1.2.0",
      "model_name": "LayoutModel",
      "state": {}
     },
     "9d2e065e0f9842c8b6a00f7a5422b93e": {
      "model_module": "@jupyter-widgets/controls",
      "model_module_version": "1.5.0",
      "model_name": "TextModel",
      "state": {
       "description": "deep_aks_service_name",
       "layout": "IPY_MODEL_11a7f816d341469c938095651d7cdfb8",
       "placeholder": "AKS Service Name",
       "style": "IPY_MODEL_b0db17e41d9d495690709c525cbfa9a1",
       "value": "deepaksservice"
      }
     },
     "9d3fda37415d471fb06f5717e4b3a9ed": {
      "model_module": "@jupyter-widgets/base",
      "model_module_version": "1.2.0",
      "model_name": "LayoutModel",
      "state": {}
     },
     "9d672c9b98e44a19a0c5f7501a7712da": {
      "model_module": "@jupyter-widgets/controls",
      "model_module_version": "1.5.0",
      "model_name": "TextModel",
      "state": {
       "description": "deep_aks_name",
       "layout": "IPY_MODEL_44c10b648b204bf69496986a07a24a82",
       "placeholder": "AKS Cluster Name",
       "style": "IPY_MODEL_5ec1dec569004ff38bb65d1067278e6f",
       "value": "deepakscluster"
      }
     },
     "9d97ff9b22ed4b1287023bc4cab6e647": {
      "model_module": "@jupyter-widgets/controls",
      "model_module_version": "1.5.0",
      "model_name": "DropdownModel",
      "state": {
       "_options_labels": [
        "eastus",
        "eastus2",
        "canadacentral",
        "centralus",
        "northcentralus",
        "southcentralus",
        "westcentralus",
        "westus",
        "westus2"
       ],
       "description": "workspace_region",
       "index": 0,
       "layout": "IPY_MODEL_1586450fe9334ae098fd30c587b71b4f",
       "style": "IPY_MODEL_35091502968246afbef6f65245a21d83"
      }
     },
     "9dad37f9f1f94c50b1f8e6f232b7e53a": {
      "model_module": "@jupyter-widgets/controls",
      "model_module_version": "1.5.0",
      "model_name": "DescriptionStyleModel",
      "state": {
       "description_width": ""
      }
     },
     "9de47a852f00424cb33484da7cc33296": {
      "model_module": "@jupyter-widgets/controls",
      "model_module_version": "1.5.0",
      "model_name": "TextModel",
      "state": {
       "description": "workspace_region",
       "layout": "IPY_MODEL_1f2098d8a621441a8554d6737b7a559e",
       "placeholder": "Azure ML Workspace Region",
       "style": "IPY_MODEL_257bca76c7464e4b9a0213632516d66a",
       "value": "eastus"
      }
     },
     "9dfdb9e3ccc0415caf7fd08ec0cd6121": {
      "model_module": "@jupyter-widgets/controls",
      "model_module_version": "1.5.0",
      "model_name": "HBoxModel",
      "state": {
       "children": [
        "IPY_MODEL_e653ae01ab014883b5a9e7431a2785b8",
        "IPY_MODEL_65907f16f2064f3daeb22b629e5bd950"
       ],
       "layout": "IPY_MODEL_e1206b8a06694dbabb823dba9079f881"
      }
     },
     "9e26d8cb365642dca1ff5a163f47c3a3": {
      "model_module": "@jupyter-widgets/controls",
      "model_module_version": "1.5.0",
      "model_name": "DescriptionStyleModel",
      "state": {
       "description_width": ""
      }
     },
     "9e2991a3dbdd4698aae6270c59f33a7b": {
      "model_module": "@jupyter-widgets/controls",
      "model_module_version": "1.5.0",
      "model_name": "TextModel",
      "state": {
       "description": "deep_aks_service_name",
       "layout": "IPY_MODEL_4dbae93129c0478b82bb4d66f52a42b6",
       "placeholder": "AKS Service Name",
       "style": "IPY_MODEL_68123ca45e584fcea4786b1c469a0c88",
       "value": "deepaksservice"
      }
     },
     "9e5a61be190742cfa2cb9578f39808c1": {
      "model_module": "@jupyter-widgets/controls",
      "model_module_version": "1.5.0",
      "model_name": "DescriptionStyleModel",
      "state": {
       "description_width": ""
      }
     },
     "9e903b9540574e44a1a4ca539581496b": {
      "model_module": "@jupyter-widgets/controls",
      "model_module_version": "1.5.0",
      "model_name": "TextModel",
      "state": {
       "description": "image_name",
       "layout": "IPY_MODEL_bc1e7193a1934812a634e622bb3eb2c4",
       "placeholder": "Docker Container Image Name",
       "style": "IPY_MODEL_7668fb66f5564e7c946d54a71397bed9",
       "value": "mymlimage2"
      }
     },
     "9eb1bda861c1402e9a3caacc2fdcb26e": {
      "model_module": "@jupyter-widgets/controls",
      "model_module_version": "1.5.0",
      "model_name": "ButtonModel",
      "state": {
       "description": "Use existing",
       "layout": "IPY_MODEL_b0800257c60e444998356c978a838255",
       "style": "IPY_MODEL_66bcc9f881144800b5c8845fc838d5cd",
       "tooltip": "Use an existing resource."
      }
     },
     "9eb2bbc12c044fe1ab7103761d2337d5": {
      "model_module": "@jupyter-widgets/controls",
      "model_module_version": "1.5.0",
      "model_name": "DescriptionStyleModel",
      "state": {
       "description_width": ""
      }
     },
     "9eb72148237e4fb68368e8017022be2b": {
      "model_module": "@jupyter-widgets/controls",
      "model_module_version": "1.5.0",
      "model_name": "DescriptionStyleModel",
      "state": {
       "description_width": ""
      }
     },
     "9ed81085c8194e52bba4f46a057d77f3": {
      "model_module": "@jupyter-widgets/controls",
      "model_module_version": "1.5.0",
      "model_name": "DescriptionStyleModel",
      "state": {
       "description_width": ""
      }
     },
     "9ef2e45080e94424a7af5ddfa223b06e": {
      "model_module": "@jupyter-widgets/controls",
      "model_module_version": "1.5.0",
      "model_name": "DescriptionStyleModel",
      "state": {
       "description_width": ""
      }
     },
     "9ef9eb79ce9f4b3f90af4007d1ad1130": {
      "model_module": "@jupyter-widgets/base",
      "model_module_version": "1.2.0",
      "model_name": "LayoutModel",
      "state": {}
     },
     "9f154fe7a1fe438cb5ff13bd019bf59d": {
      "model_module": "@jupyter-widgets/controls",
      "model_module_version": "1.5.0",
      "model_name": "DescriptionStyleModel",
      "state": {
       "description_width": ""
      }
     },
     "9f333e6f938e4d6c832e22150604a050": {
      "model_module": "@jupyter-widgets/controls",
      "model_module_version": "1.5.0",
      "model_name": "HBoxModel",
      "state": {
       "children": [
        "IPY_MODEL_e829286a492f475d9d37c664d40d29f1",
        "IPY_MODEL_31181c3b93084533bacb1f215fd9c6eb"
       ],
       "layout": "IPY_MODEL_5cc16ef94a9e42e6b88fa77e67ab2334"
      }
     },
     "9f35380acd1f4708a2508faf83ca5a18": {
      "model_module": "@jupyter-widgets/controls",
      "model_module_version": "1.5.0",
      "model_name": "TextModel",
      "state": {
       "description": "script",
       "layout": "IPY_MODEL_fc9eb067939d4071a11c64accc983d08",
       "placeholder": "cpu cores for web service",
       "style": "IPY_MODEL_6c4e45c44909491faeb9dd2ada9d3f21",
       "value": "create_model.py"
      }
     },
     "9fa047144b1349e2840570c6d0a6d381": {
      "model_module": "@jupyter-widgets/controls",
      "model_module_version": "1.5.0",
      "model_name": "TextModel",
      "state": {
       "description": "resource_group",
       "layout": "IPY_MODEL_c1d210acb9ce4fbaaaeac9ddccc22b27",
       "placeholder": "Azure Resource Group Name",
       "style": "IPY_MODEL_803e83c9e1364a27bb6df99ea43f22ba",
       "value": "azmlrts-eastus-stable"
      }
     },
     "9fb0ce9e306a40ea9b80f58d4cfabaff": {
      "model_module": "@jupyter-widgets/controls",
      "model_module_version": "1.5.0",
      "model_name": "HBoxModel",
      "state": {
       "children": [
        "IPY_MODEL_b93aa3d5309b413f8db43653fdf119e3"
       ],
       "layout": "IPY_MODEL_83a8583631d8443f82c9237b3df1d8bb"
      }
     },
     "9fb30aaf256d451fa17a3c5ec57d6fb4": {
      "model_module": "@jupyter-widgets/controls",
      "model_module_version": "1.5.0",
      "model_name": "DropdownModel",
      "state": {
       "_options_labels": [
        "AG-CE-AI-GPU-EXPERIMENTATION",
        "AG-AzureCAT-AITao-Test-COGSNonProd-IO1685734",
        "AG-CE-AI-DEVOPS",
        "AG-AzureCAT-AIDemos-Test-COGSNonProd-IO1685734",
        "AGCE-AI-DELETE-Sharat",
        "AG-AzureCAT-AILab-Test-COGSNonProd-IO1685734",
        "Visual Studio Ultimate with MSDN",
        "AG-AzureCAT-AIDataPM-Test-COGSNonProd-IO1685743",
        "AG-AzureCAT-AIDanielle-Test-COGSNonProd-IO1685734",
        "AG-CE-AI-MN-CICOMMERCIAL",
        "AG-CE-AI-MN-INCUBATION",
        "AG-CE-AI-MN-OSS",
        "AG-CE-AI-MN-E2E",
        "AG-CE-AI-MN-HU",
        "AG-CE-AI-MN-SEISMIC",
        "AG-CE-AI-STORAGE",
        "AG-CE-AI-MN-RETAIL",
        "AG-CE-AI-FEEDBACK",
        "AG-CE-AI-MN-LAB",
        "Azure SDK Engineering System",
        "Epic-Edge-ES-ReproVMLab",
        "ES-Stream-Operations",
        "Core-ES-BranchManagement",
        "WDG-ES-RnD-GITTrain",
        "Cosmos_WDG_Core_BnB_100292",
        "Azure Stack Diagnostics CI and Production VaaS",
        "Edge DevTools Client",
        "Azure Stack CSS Labs",
        "AppInsight Test",
        "ddverify",
        "VSEng MadDog-RPS Telemetry",
        "CAT_Eng",
        "RPS-cloud-common-2",
        "Core-ES-WorkManagement",
        "Azure_Maps_MDP_Engineering",
        "Test/Demo - VipSwapper Operations",
        "COSINE-ES-Signing Azure Service",
        "AI Infra Build",
        "AG-CE-E2E-AI",
        "DEMO - how RepDemo are you",
        "ADS Demo Subscription",
        "AzureCAT E2E Blue Steel",
        "Azure Search DEV Service Layer (kmort,miwelsh,bohuan)"
       ],
       "description": "workspace_region:",
       "index": 2,
       "layout": "IPY_MODEL_cfaf4455b53e431fab59ed979ca7dd92",
       "style": "IPY_MODEL_0514805b68594e38b710f4385921decd"
      }
     },
     "9ff1be99fea1485f84ef1f1c9ef4279d": {
      "model_module": "@jupyter-widgets/controls",
      "model_module_version": "1.5.0",
      "model_name": "ButtonStyleModel",
      "state": {}
     },
     "a04f06aacf384aacb1a1c8e53d4c8b3c": {
      "model_module": "@jupyter-widgets/controls",
      "model_module_version": "1.5.0",
      "model_name": "ButtonStyleModel",
      "state": {}
     },
     "a05ca3cd860249d6af438a45936e3204": {
      "model_module": "@jupyter-widgets/controls",
      "model_module_version": "1.5.0",
      "model_name": "DescriptionStyleModel",
      "state": {
       "description_width": ""
      }
     },
     "a06956a6462446e1ad0fe9747ddaa6b6": {
      "model_module": "@jupyter-widgets/base",
      "model_module_version": "1.2.0",
      "model_name": "LayoutModel",
      "state": {}
     },
     "a09f503f8ea444f1997c68ba0ebc7365": {
      "model_module": "@jupyter-widgets/base",
      "model_module_version": "1.2.0",
      "model_name": "LayoutModel",
      "state": {}
     },
     "a0b8e6bb85b84475af7f334f8d658a92": {
      "model_module": "@jupyter-widgets/base",
      "model_module_version": "1.2.0",
      "model_name": "LayoutModel",
      "state": {}
     },
     "a0fe2d3d7d1b46b88e8e67cae77c81b5": {
      "model_module": "@jupyter-widgets/controls",
      "model_module_version": "1.5.0",
      "model_name": "DropdownModel",
      "state": {
       "_options_labels": [
        "eastus",
        "eastus2",
        "canadacentral",
        "centralus",
        "northcentralus",
        "southcentralus",
        "westcentralus",
        "westus",
        "westus2"
       ],
       "description": "aks_location",
       "index": 0,
       "layout": "IPY_MODEL_393c85a83d8a4275b19f0ddd17516b58",
       "style": "IPY_MODEL_c8e6344f56864e6f9471abacb03c0df6"
      }
     },
     "a120a7ed4ac043acb4b75492de8592ed": {
      "model_module": "@jupyter-widgets/base",
      "model_module_version": "1.2.0",
      "model_name": "LayoutModel",
      "state": {}
     },
     "a18a3b2a829540e28634f91d6483be97": {
      "model_module": "@jupyter-widgets/base",
      "model_module_version": "1.2.0",
      "model_name": "LayoutModel",
      "state": {}
     },
     "a1a512ffcab34638b7ea55ec3a17017e": {
      "model_module": "@jupyter-widgets/controls",
      "model_module_version": "1.5.0",
      "model_name": "DescriptionStyleModel",
      "state": {
       "description_width": ""
      }
     },
     "a1b05a23888944f29be8d22bbfe81ee9": {
      "model_module": "@jupyter-widgets/controls",
      "model_module_version": "1.5.0",
      "model_name": "TextModel",
      "state": {
       "description": "aks_location",
       "layout": "IPY_MODEL_c9b75142190542d78dfb9c3d9afb7a49",
       "placeholder": "AKS Azure Region",
       "style": "IPY_MODEL_50c10640ccc14ab593284284a8117c9b",
       "value": "eastus"
      }
     },
     "a1c047968e974c7d90a8d1b0821c5b2b": {
      "model_module": "@jupyter-widgets/controls",
      "model_module_version": "1.5.0",
      "model_name": "HBoxModel",
      "state": {
       "children": [
        "IPY_MODEL_a31ea43121584437830fa973a2dbf77d",
        "IPY_MODEL_91929fe425b846bf8d385e2b313e7450"
       ],
       "layout": "IPY_MODEL_7f65ecb404574a69b5a25f2b9ee50c70"
      }
     },
     "a1c5dad371ae46f4ae880e182e310bcd": {
      "model_module": "@jupyter-widgets/controls",
      "model_module_version": "1.5.0",
      "model_name": "ButtonStyleModel",
      "state": {}
     },
     "a1f3a69dd6a24bc28b99abd3be988574": {
      "model_module": "@jupyter-widgets/controls",
      "model_module_version": "1.5.0",
      "model_name": "HBoxModel",
      "state": {
       "children": [
        "IPY_MODEL_4396511a02e3488a95a1b553ee9f2189"
       ],
       "layout": "IPY_MODEL_b9c54039102945128063fcaa07ed22cf"
      }
     },
     "a20f666b81df4f6190b8e1a3f880e703": {
      "model_module": "@jupyter-widgets/base",
      "model_module_version": "1.2.0",
      "model_name": "LayoutModel",
      "state": {}
     },
     "a216fc84c50b46bb98b100d1050bd745": {
      "model_module": "@jupyter-widgets/controls",
      "model_module_version": "1.5.0",
      "model_name": "TextModel",
      "state": {
       "description": "node_count",
       "layout": "IPY_MODEL_d27ac174df1d4480b35aa46b1b4570f4",
       "placeholder": "number of nodes in Kubernetes cluster",
       "style": "IPY_MODEL_a7e4c9136fd64fea890b26c71a8769a3",
       "value": "4"
      }
     },
     "a2216dfcf9e1487c88edc684bd2ae8a8": {
      "model_module": "@jupyter-widgets/controls",
      "model_module_version": "1.5.0",
      "model_name": "TextModel",
      "state": {
       "description": "image_name",
       "layout": "IPY_MODEL_bcd94051ce634e7a83116c032827c9a3",
       "placeholder": "Docker Container Image Name",
       "style": "IPY_MODEL_2b2ecae962054bc3a44391e943001457",
       "value": "mymlimage2"
      }
     },
     "a224fb74365c4150b270959ba26fb51c": {
      "model_module": "@jupyter-widgets/controls",
      "model_module_version": "1.5.0",
      "model_name": "TextModel",
      "state": {
       "description": "num_estimators",
       "layout": "IPY_MODEL_d2b4e49825594e1db43e6a00ec797569",
       "placeholder": "number of replicas in Kubernetes cluster",
       "style": "IPY_MODEL_e6fd982cf7384dbfb7df0bacab1a0ff0",
       "value": "2"
      }
     },
     "a23b888948b94383ae2b9edfab9a11f6": {
      "model_module": "@jupyter-widgets/controls",
      "model_module_version": "1.5.0",
      "model_name": "TextModel",
      "state": {
       "description": "num_estimators",
       "layout": "IPY_MODEL_3b0e4c775ecd47e88f9640fa9db2e324",
       "placeholder": "number of replicas in Kubernetes cluster",
       "style": "IPY_MODEL_0df7bfddc30d491c99c5d1648ed86535",
       "value": "2"
      }
     },
     "a246f9ce8d244d57815d0f3f225ea75a": {
      "model_module": "@jupyter-widgets/controls",
      "model_module_version": "1.5.0",
      "model_name": "ButtonStyleModel",
      "state": {}
     },
     "a247d21248c64b59821b935997a3c124": {
      "model_module": "@jupyter-widgets/base",
      "model_module_version": "1.2.0",
      "model_name": "LayoutModel",
      "state": {}
     },
     "a24f4906ef56406f891d1cdfcbf3295f": {
      "model_module": "@jupyter-widgets/base",
      "model_module_version": "1.2.0",
      "model_name": "LayoutModel",
      "state": {}
     },
     "a2911cb3c3114cc28bedb3a6a258a830": {
      "model_module": "@jupyter-widgets/base",
      "model_module_version": "1.2.0",
      "model_name": "LayoutModel",
      "state": {}
     },
     "a2bf5b7dbcb242f6a4b3f04e6b28c023": {
      "model_module": "@jupyter-widgets/controls",
      "model_module_version": "1.5.0",
      "model_name": "DescriptionStyleModel",
      "state": {
       "description_width": ""
      }
     },
     "a2dfbc575d83480c8fb2f889e9ddca42": {
      "model_module": "@jupyter-widgets/controls",
      "model_module_version": "1.5.0",
      "model_name": "TextModel",
      "state": {
       "description": "deep_aks_service_name",
       "layout": "IPY_MODEL_798e628a53774657ba83217d2e1527e6",
       "placeholder": "AKS Service Name",
       "style": "IPY_MODEL_8a9857efd9084cf6b853d08b8e517c73",
       "value": "deepaksservice"
      }
     },
     "a30c38a0178a45d899684b87fde37a85": {
      "model_module": "@jupyter-widgets/controls",
      "model_module_version": "1.5.0",
      "model_name": "TextModel",
      "state": {
       "description": "subscription_id",
       "layout": "IPY_MODEL_bc935abf7e894c3e9754a65185f2ea55",
       "placeholder": "Azure Subscription Id",
       "style": "IPY_MODEL_b744c766e5344e3d9f7dc71bbb55f9d3",
       "value": "0ca618d2-22a8-413a-96d0-0f1b531129c3"
      }
     },
     "a312f5d61bca43d7a5b05beb0bb7132d": {
      "model_module": "@jupyter-widgets/controls",
      "model_module_version": "1.5.0",
      "model_name": "TextModel",
      "state": {
       "description": "resource_group",
       "layout": "IPY_MODEL_48c90a68351a4ba19f4c903526450da8",
       "placeholder": "Azure Resource Group Name",
       "style": "IPY_MODEL_595a8f2f7cad4077827f1c2f1add48c3",
       "value": "azmlrts-eastus-stable"
      }
     },
     "a31ea43121584437830fa973a2dbf77d": {
      "model_module": "@jupyter-widgets/controls",
      "model_module_version": "1.5.0",
      "model_name": "TextModel",
      "state": {
       "description": "aks_name",
       "layout": "IPY_MODEL_5304bbfd02b6442894f5ff149ceaff49",
       "placeholder": "AKS Cluster Name",
       "style": "IPY_MODEL_19659410a6ea42fcb5091d42f053c797",
       "value": "akscluster2"
      }
     },
     "a33ed9417c5c4f88b68e45a581abc886": {
      "model_module": "@jupyter-widgets/base",
      "model_module_version": "1.2.0",
      "model_name": "LayoutModel",
      "state": {}
     },
     "a3552b7113c94ba996bbc2f70c06c8df": {
      "model_module": "@jupyter-widgets/controls",
      "model_module_version": "1.5.0",
      "model_name": "HBoxModel",
      "state": {
       "children": [
        "IPY_MODEL_ac05097b6d0e4936b84b277161a3c062",
        "IPY_MODEL_0143a31174474b5ab8e816672a7fcf6c"
       ],
       "layout": "IPY_MODEL_1147448186494403bd47156dbf24f587"
      }
     },
     "a361c4cccee8462b83e119f8b882867c": {
      "model_module": "@jupyter-widgets/controls",
      "model_module_version": "1.5.0",
      "model_name": "DescriptionStyleModel",
      "state": {
       "description_width": ""
      }
     },
     "a3673d2b10034efd936747602c386a2e": {
      "model_module": "@jupyter-widgets/controls",
      "model_module_version": "1.5.0",
      "model_name": "HBoxModel",
      "state": {
       "children": [
        "IPY_MODEL_f2c5e8a7bf8643c08da5dadd5720b4b3",
        "IPY_MODEL_08548683e1554e7d936faa565451d59d"
       ],
       "layout": "IPY_MODEL_0680c1b884544c7eb507c83b49083822"
      }
     },
     "a3bad9f8231e414fb2c4054039288ab7": {
      "model_module": "@jupyter-widgets/controls",
      "model_module_version": "1.5.0",
      "model_name": "ButtonModel",
      "state": {
       "description": "Use existing",
       "layout": "IPY_MODEL_69afe3b3bd0945839f28aa3abfc3ee62",
       "style": "IPY_MODEL_c0d2e12423d94644bc7516401cc521f9",
       "tooltip": "Use an existing resource."
      }
     },
     "a3d56cb983db4aefa93e132fc0dc91f5": {
      "model_module": "@jupyter-widgets/controls",
      "model_module_version": "1.5.0",
      "model_name": "ButtonStyleModel",
      "state": {}
     },
     "a44742112745416c980352656032d25a": {
      "model_module": "@jupyter-widgets/controls",
      "model_module_version": "1.5.0",
      "model_name": "TextModel",
      "state": {
       "description": "aks_name",
       "layout": "IPY_MODEL_2167f0a8c3ab46118ada32a0d17ca215",
       "placeholder": "AKS Cluster Name",
       "style": "IPY_MODEL_31f9c1e53ad243f5989789ff1b4a1c11",
       "value": "akscluster2"
      }
     },
     "a4628716e68446b2a92b27368dc9c4be": {
      "model_module": "@jupyter-widgets/base",
      "model_module_version": "1.2.0",
      "model_name": "LayoutModel",
      "state": {}
     },
     "a46fc689f2164516b75fa716965516fa": {
      "model_module": "@jupyter-widgets/controls",
      "model_module_version": "1.5.0",
      "model_name": "TextModel",
      "state": {
       "description": "num_estimators",
       "layout": "IPY_MODEL_179048b595c549a9b4ac2b9fc49bc3a0",
       "placeholder": "number of replicas in Kubernetes cluster",
       "style": "IPY_MODEL_1212b41677c74d8499528c35aa1ddcf0",
       "value": "2"
      }
     },
     "a4835b858ae94311bc52d5541c769476": {
      "model_module": "@jupyter-widgets/base",
      "model_module_version": "1.2.0",
      "model_name": "LayoutModel",
      "state": {}
     },
     "a4a9b057b0f9470db454e748f3e40333": {
      "model_module": "@jupyter-widgets/controls",
      "model_module_version": "1.5.0",
      "model_name": "FileUploadModel",
      "state": {
       "accept": ".yml",
       "description_tooltip": null,
       "layout": "IPY_MODEL_10a074cdb1c84a87bb1bc3e57b2d0c9c",
       "style": "IPY_MODEL_088c3b4a0ee8412d8c52a5644fee1b9c"
      }
     },
     "a4b5981a40f64b798af0b566ae50fa70": {
      "model_module": "@jupyter-widgets/controls",
      "model_module_version": "1.5.0",
      "model_name": "ButtonStyleModel",
      "state": {}
     },
     "a4c2950fbc1848798fd1ec8b41b0acad": {
      "model_module": "@jupyter-widgets/base",
      "model_module_version": "1.2.0",
      "model_name": "LayoutModel",
      "state": {}
     },
     "a4cb23c6ab004f518f65a66064da7a7f": {
      "model_module": "@jupyter-widgets/base",
      "model_module_version": "1.2.0",
      "model_name": "LayoutModel",
      "state": {}
     },
     "a4dca3482826422aa4323b35ec681f10": {
      "model_module": "@jupyter-widgets/controls",
      "model_module_version": "1.5.0",
      "model_name": "ButtonModel",
      "state": {
       "description": "Overwrite Settings",
       "icon": "check",
       "layout": "IPY_MODEL_f942b23ac943463195f7395f0559a0e0",
       "style": "IPY_MODEL_ee6debf627b2484bb51187e0dd56d816",
       "tooltip": "Click to save settings to file."
      }
     },
     "a4dfae34e4844e0396a635ad2b1f38bc": {
      "model_module": "@jupyter-widgets/controls",
      "model_module_version": "1.5.0",
      "model_name": "HBoxModel",
      "state": {
       "children": [
        "IPY_MODEL_a312f5d61bca43d7a5b05beb0bb7132d",
        "IPY_MODEL_bf56181da17d44dfb623fb5c041d13ee"
       ],
       "layout": "IPY_MODEL_5504eb036d044f55b413592fe550b46c"
      }
     },
     "a52226d26c65493da4b35011cd69545e": {
      "model_module": "@jupyter-widgets/base",
      "model_module_version": "1.2.0",
      "model_name": "LayoutModel",
      "state": {}
     },
     "a52de8a84cfa4afb86a9a751d197ee35": {
      "model_module": "@jupyter-widgets/controls",
      "model_module_version": "1.5.0",
      "model_name": "VBoxModel",
      "state": {
       "children": [
        "IPY_MODEL_c93d2897af134edcac5ee947d65eb6d2",
        "IPY_MODEL_94429830071049c384653000dfc2379b",
        "IPY_MODEL_d134b7bfc9b84a6c9f83d085d474b9e8",
        "IPY_MODEL_e9037e1f67c64b2e84ddc8d350e4bac2",
        "IPY_MODEL_4db0f9ffdf6f438c9f37ad2bbfa3665f",
        "IPY_MODEL_c4a5558ad3ae4ddca65af52ec6f37164",
        "IPY_MODEL_5ef9408a036641a3a12632cf4b3d9ba3",
        "IPY_MODEL_932ad1e45d43410e9a495a1a7e2dfb4f",
        "IPY_MODEL_6b68a7884e4a41998ee603a35323c248",
        "IPY_MODEL_b3fc6d649f9e4550b5068326099983c2",
        "IPY_MODEL_74af7e016aff4db2ab0986f72a9a1897",
        "IPY_MODEL_8ad748f9223c43f39afe6c9e1a5737f7",
        "IPY_MODEL_a216fc84c50b46bb98b100d1050bd745",
        "IPY_MODEL_59f40bf6acd245689b4d9a4a224196bc",
        "IPY_MODEL_bace810acad64f32b26f5306e52c1dc9",
        "IPY_MODEL_a224fb74365c4150b270959ba26fb51c",
        "IPY_MODEL_93e9343c22b64f3191168fa1c9c08884",
        "IPY_MODEL_033a3716a7ba4f2bb0c07eb8ee88bb38",
        "IPY_MODEL_8bf3f0d2dec6412abaec99b954963309"
       ],
       "layout": "IPY_MODEL_cd293914c84b4fc18b10fe258292b7a9"
      }
     },
     "a539bf76dcda42df8a712ecb99f6ff4b": {
      "model_module": "@jupyter-widgets/base",
      "model_module_version": "1.2.0",
      "model_name": "LayoutModel",
      "state": {}
     },
     "a547dd8af2e244bca4b9e8f0792f70e1": {
      "model_module": "@jupyter-widgets/controls",
      "model_module_version": "1.5.0",
      "model_name": "HBoxModel",
      "state": {
       "children": [
        "IPY_MODEL_2f4407da2964458f8bbc3b1de7a36a3f"
       ],
       "layout": "IPY_MODEL_4311c61bddf34a4bb96d0858d9fcd887"
      }
     },
     "a54d00904f97409ab7e90ffbfed98910": {
      "model_module": "@jupyter-widgets/controls",
      "model_module_version": "1.5.0",
      "model_name": "TextModel",
      "state": {
       "description": "resource_group",
       "layout": "IPY_MODEL_b013e1cbb52143149fe88902cf3b3fdc",
       "placeholder": "Azure Resource Group Name",
       "style": "IPY_MODEL_ebf00bb791e842a3ac574abeaab63e01",
       "value": "azmlrts-eastus-stable"
      }
     },
     "a59778d1ce31494b9ffdc7080b8f37a5": {
      "model_module": "@jupyter-widgets/controls",
      "model_module_version": "1.5.0",
      "model_name": "TextModel",
      "state": {
       "description": "resource_group",
       "layout": "IPY_MODEL_a76c69aa186f428989050fc8fe01008d",
       "placeholder": "Azure Resource Group Name",
       "style": "IPY_MODEL_eac917f1860141a8bf37093a33f130b7",
       "value": "azmlrts-eastus-stable"
      }
     },
     "a5f994bf17944e7abd83d2d2a834a86e": {
      "model_module": "@jupyter-widgets/controls",
      "model_module_version": "1.5.0",
      "model_name": "TextModel",
      "state": {
       "description": "image_name",
       "layout": "IPY_MODEL_db5a751239af46029f5edc7d41eeb91f",
       "placeholder": "Docker Container Image Name",
       "style": "IPY_MODEL_95dbcb23e0474513997a4776f54739ba",
       "value": "mymlimage2"
      }
     },
     "a630f202edfd48e2ac6852832b300cc7": {
      "model_module": "@jupyter-widgets/controls",
      "model_module_version": "1.5.0",
      "model_name": "FileUploadModel",
      "state": {
       "accept": ".yml",
       "description_tooltip": null,
       "layout": "IPY_MODEL_1bed4bf37f5f4a148e275530f014ef10",
       "style": "IPY_MODEL_8306de01432444ba8f60af63cb23bad8"
      }
     },
     "a64299317c714462ae809ab9d86d872c": {
      "model_module": "@jupyter-widgets/controls",
      "model_module_version": "1.5.0",
      "model_name": "ButtonModel",
      "state": {
       "description": "Save Upload",
       "icon": "check",
       "layout": "IPY_MODEL_22b95c8df7f14a96b06213bb071aaac4",
       "style": "IPY_MODEL_9ff1be99fea1485f84ef1f1c9ef4279d",
       "tooltip": "Click to save settings to file."
      }
     },
     "a660d225b6194a4d82b135ed07d62700": {
      "model_module": "@jupyter-widgets/controls",
      "model_module_version": "1.5.0",
      "model_name": "HBoxModel",
      "state": {
       "children": [
        "IPY_MODEL_9a94467ea97a4047aa42facabb267635"
       ],
       "layout": "IPY_MODEL_baba3746c9a441d9bb92639743f64bb7"
      }
     },
     "a66d9764e1ff4d96aa85ffd1d8fb32bc": {
      "model_module": "@jupyter-widgets/controls",
      "model_module_version": "1.5.0",
      "model_name": "TextModel",
      "state": {
       "description": "aks_name",
       "layout": "IPY_MODEL_681a03a59e87409e9bfccf82a55f25a4",
       "placeholder": "AKS Cluster Name",
       "style": "IPY_MODEL_fc6ec15ace4b4e7bb5224eb0afe1a6c8",
       "value": "dciboaks"
      }
     },
     "a66dc40b82b2411eb93941d6c6997bda": {
      "model_module": "@jupyter-widgets/controls",
      "model_module_version": "1.5.0",
      "model_name": "DescriptionStyleModel",
      "state": {
       "description_width": ""
      }
     },
     "a67b2e85f9e541759bf9c75ebb5c1a95": {
      "model_module": "@jupyter-widgets/controls",
      "model_module_version": "1.5.0",
      "model_name": "HBoxModel",
      "state": {
       "children": [
        "IPY_MODEL_61caf98b176f4e019da556783d918fd3",
        "IPY_MODEL_2f9778718b664f91b74ec43795501b81"
       ],
       "layout": "IPY_MODEL_1738226fb93044c9bd933e3e19bafc59"
      }
     },
     "a67bb061b47841f7bddbc1cb519a34ec": {
      "model_module": "@jupyter-widgets/base",
      "model_module_version": "1.2.0",
      "model_name": "LayoutModel",
      "state": {}
     },
     "a69a111c043a4478ab60dec679f3cb53": {
      "model_module": "@jupyter-widgets/base",
      "model_module_version": "1.2.0",
      "model_name": "LayoutModel",
      "state": {}
     },
     "a6f61fce89574a26b260a1768d98dd0f": {
      "model_module": "@jupyter-widgets/controls",
      "model_module_version": "1.5.0",
      "model_name": "TextModel",
      "state": {
       "description": "resource_group",
       "layout": "IPY_MODEL_64c5f9f232d645d9aaded153c0b6a4d0",
       "placeholder": "Azure Resource Group Name",
       "style": "IPY_MODEL_5c1c44167ea44f74b431b471f00aeba5",
       "value": "azmlrts-eastus-stable"
      }
     },
     "a703f043b7ee493dbf69e1fda4d76e6e": {
      "model_module": "@jupyter-widgets/controls",
      "model_module_version": "1.5.0",
      "model_name": "DescriptionStyleModel",
      "state": {
       "description_width": ""
      }
     },
     "a7073cbddf7c4f2f8f4ea198fdce2923": {
      "model_module": "@jupyter-widgets/controls",
      "model_module_version": "1.5.0",
      "model_name": "ButtonStyleModel",
      "state": {}
     },
     "a726e360008e4e3c953667d53fc711c3": {
      "model_module": "@jupyter-widgets/controls",
      "model_module_version": "1.5.0",
      "model_name": "ButtonModel",
      "state": {
       "description": "Use existing",
       "layout": "IPY_MODEL_15b3dcc2032043bbbb14b0421b124267",
       "style": "IPY_MODEL_4603e884f92f4b78ac9cb8e28c782254",
       "tooltip": "Use an existing resource."
      }
     },
     "a769dea18d2c440d88dc320f0b4aaf85": {
      "model_module": "@jupyter-widgets/controls",
      "model_module_version": "1.5.0",
      "model_name": "TextModel",
      "state": {
       "description": "workspace_name",
       "layout": "IPY_MODEL_4802e9b1526d4bf9ba05c0110e5fa1ef",
       "placeholder": "Azure ML Workspace Name",
       "style": "IPY_MODEL_e4ab7a960cd14f49a3cd38c1fad7cc64",
       "value": "dcibows"
      }
     },
     "a76c69aa186f428989050fc8fe01008d": {
      "model_module": "@jupyter-widgets/base",
      "model_module_version": "1.2.0",
      "model_name": "LayoutModel",
      "state": {}
     },
     "a791dae4d61a4cdaa1affc2e87155cd2": {
      "model_module": "@jupyter-widgets/base",
      "model_module_version": "1.2.0",
      "model_name": "LayoutModel",
      "state": {}
     },
     "a796de21882d4171a6b99b37d7447059": {
      "model_module": "@jupyter-widgets/controls",
      "model_module_version": "1.5.0",
      "model_name": "ButtonModel",
      "state": {
       "description": "Overwrite Settings",
       "icon": "check",
       "layout": "IPY_MODEL_ecfaf20cfdbd4bb7bdec9e2744aa6084",
       "style": "IPY_MODEL_3e9f1518ae114c8b9e0f1ed4593da5e5",
       "tooltip": "Click to save settings to file."
      }
     },
     "a7a4c54516184430af15d307391cb20d": {
      "model_module": "@jupyter-widgets/controls",
      "model_module_version": "1.5.0",
      "model_name": "ButtonStyleModel",
      "state": {}
     },
     "a7b6228f6eb44f818f9184ad6f784bb1": {
      "model_module": "@jupyter-widgets/controls",
      "model_module_version": "1.5.0",
      "model_name": "TextModel",
      "state": {
       "description": "workspace_name",
       "layout": "IPY_MODEL_b79b94fd4123499698a8619cb29c9049",
       "placeholder": "Azure ML Workspace Name",
       "style": "IPY_MODEL_76c52b8d16b941c3b7767f188f6e5ceb",
       "value": "azmlrts-eastus"
      }
     },
     "a7bde81a0dbb4629af7b1b03d3b8ecb3": {
      "model_module": "@jupyter-widgets/controls",
      "model_module_version": "1.5.0",
      "model_name": "TextModel",
      "state": {
       "description": "deep_aks_location",
       "layout": "IPY_MODEL_7669e8579ca740a2b111032d7e1040ad",
       "placeholder": "AKS Azure Region",
       "style": "IPY_MODEL_8188e8e25d464391afe3ee208dc687d4",
       "value": "eastus"
      }
     },
     "a7e1a8fc3ac44f08b40a92e94665c017": {
      "model_module": "@jupyter-widgets/controls",
      "model_module_version": "1.5.0",
      "model_name": "DescriptionStyleModel",
      "state": {
       "description_width": ""
      }
     },
     "a7e4c9136fd64fea890b26c71a8769a3": {
      "model_module": "@jupyter-widgets/controls",
      "model_module_version": "1.5.0",
      "model_name": "DescriptionStyleModel",
      "state": {
       "description_width": ""
      }
     },
     "a7f3a11154f34ded945333c668e6fcf7": {
      "model_module": "@jupyter-widgets/base",
      "model_module_version": "1.2.0",
      "model_name": "LayoutModel",
      "state": {}
     },
     "a7f4ec8d057747128eddb08ceb9d6107": {
      "model_module": "@jupyter-widgets/controls",
      "model_module_version": "1.5.0",
      "model_name": "TextModel",
      "state": {
       "description": "aks_service_name",
       "layout": "IPY_MODEL_020ac9514de743889d1705ba585fce1c",
       "placeholder": "AKS Service Name",
       "style": "IPY_MODEL_9a0e7fc14a8f40268657f9b2a9bd2ab3",
       "value": "aksservice2"
      }
     },
     "a8302c45f24b4533ab64ae3d9aadff86": {
      "model_module": "@jupyter-widgets/controls",
      "model_module_version": "1.5.0",
      "model_name": "ButtonModel",
      "state": {
       "description": "Use existing",
       "icon": "check",
       "layout": "IPY_MODEL_f36d0b2cefb4468faea3e767aae606dd",
       "style": "IPY_MODEL_d7e6dafd007446698884c5ca298ce67c",
       "tooltip": "Use an existing resource."
      }
     },
     "a84d604baa074cd7a2bff40d3ba0ab86": {
      "model_module": "@jupyter-widgets/base",
      "model_module_version": "1.2.0",
      "model_name": "LayoutModel",
      "state": {}
     },
     "a8579a2763cb49d7ad4d90cd84858a24": {
      "model_module": "@jupyter-widgets/controls",
      "model_module_version": "1.5.0",
      "model_name": "TextModel",
      "state": {
       "description": "resource_group",
       "layout": "IPY_MODEL_629c6182d7a64211912c980619bee131",
       "placeholder": "Azure Resource Group Name",
       "style": "IPY_MODEL_9489dd263f7844e4abd091b8bd63dcf9",
       "value": "dcibo-rg"
      }
     },
     "a882f614f9f643c7881af8dc6e59f46b": {
      "model_module": "@jupyter-widgets/controls",
      "model_module_version": "1.5.0",
      "model_name": "DescriptionStyleModel",
      "state": {
       "description_width": ""
      }
     },
     "a8cbc3b67c37404a8207c9f948302305": {
      "model_module": "@jupyter-widgets/controls",
      "model_module_version": "1.5.0",
      "model_name": "TextModel",
      "state": {
       "description": "aks_location",
       "layout": "IPY_MODEL_412cb7a97805430194c24553fe213363",
       "placeholder": "AKS Azure Region",
       "style": "IPY_MODEL_fa55224715b24295b1b930ba2434574a",
       "value": "eastus"
      }
     },
     "a8d7768abb84441f895a38455a55a42b": {
      "model_module": "@jupyter-widgets/base",
      "model_module_version": "1.2.0",
      "model_name": "LayoutModel",
      "state": {}
     },
     "a91f3d3da6874c7ebadf7607528906f3": {
      "model_module": "@jupyter-widgets/base",
      "model_module_version": "1.2.0",
      "model_name": "LayoutModel",
      "state": {}
     },
     "a9739a66a29f4567beb0899bb54f72e4": {
      "model_module": "@jupyter-widgets/base",
      "model_module_version": "1.2.0",
      "model_name": "LayoutModel",
      "state": {}
     },
     "a9a7233c6c5e4213a94abaed1b330a12": {
      "model_module": "@jupyter-widgets/base",
      "model_module_version": "1.2.0",
      "model_name": "LayoutModel",
      "state": {}
     },
     "a9afc6fe183d4426a47f839df840c484": {
      "model_module": "@jupyter-widgets/controls",
      "model_module_version": "1.5.0",
      "model_name": "DescriptionStyleModel",
      "state": {
       "description_width": ""
      }
     },
     "a9bebed5c3c24c0a9f9ada044a180e1c": {
      "model_module": "@jupyter-widgets/controls",
      "model_module_version": "1.5.0",
      "model_name": "TextModel",
      "state": {
       "description": "deep_aks_name",
       "layout": "IPY_MODEL_73a25b0441f04e0d9019aa825651ff7a",
       "placeholder": "AKS Cluster Name",
       "style": "IPY_MODEL_e3884162f12046caad766768e110ad9a",
       "value": "deepakscluster"
      }
     },
     "a9d958317d4449f88283309ab97e677a": {
      "model_module": "@jupyter-widgets/base",
      "model_module_version": "1.2.0",
      "model_name": "LayoutModel",
      "state": {}
     },
     "a9e09002fe814e218d9262bb04c0a9d1": {
      "model_module": "@jupyter-widgets/controls",
      "model_module_version": "1.5.0",
      "model_name": "DescriptionStyleModel",
      "state": {
       "description_width": ""
      }
     },
     "a9eac5cb4dcd4123b015101e6709e660": {
      "model_module": "@jupyter-widgets/controls",
      "model_module_version": "1.5.0",
      "model_name": "ButtonModel",
      "state": {
       "description": "Overwrite Settings",
       "icon": "check",
       "layout": "IPY_MODEL_465e94bcb18b4530b40dc2e6017f2ef7",
       "style": "IPY_MODEL_49beee5dd6c1489db4ae6766d7b00c0c",
       "tooltip": "Click to save settings to file."
      }
     },
     "a9fc3603f871423489a91526da03bb18": {
      "model_module": "@jupyter-widgets/base",
      "model_module_version": "1.2.0",
      "model_name": "LayoutModel",
      "state": {}
     },
     "aa4acc14326148deb9aa0f8a4bec4f53": {
      "model_module": "@jupyter-widgets/controls",
      "model_module_version": "1.5.0",
      "model_name": "FileUploadModel",
      "state": {
       "accept": ".yml",
       "description_tooltip": null,
       "layout": "IPY_MODEL_9462f2fcf50145b7817f8d83c27128c0",
       "style": "IPY_MODEL_12c73429ec9a41de9c0c4cc7cba8af3c"
      }
     },
     "aa5559c4d06b426f83e9bb8aa4a2ca6c": {
      "model_module": "@jupyter-widgets/controls",
      "model_module_version": "1.5.0",
      "model_name": "DescriptionStyleModel",
      "state": {
       "description_width": ""
      }
     },
     "aa81cc4b08e6425a989d7ccd89f16182": {
      "model_module": "@jupyter-widgets/controls",
      "model_module_version": "1.5.0",
      "model_name": "DescriptionStyleModel",
      "state": {
       "description_width": ""
      }
     },
     "aa84dcfc7a0240e48bd22c89a8f20f5d": {
      "model_module": "@jupyter-widgets/controls",
      "model_module_version": "1.5.0",
      "model_name": "TextModel",
      "state": {
       "description": "aks_location",
       "layout": "IPY_MODEL_f1f433ae2c61457cbbca19501adf6b0a",
       "placeholder": "AKS Azure Region",
       "style": "IPY_MODEL_87819eabd8f84301bd4dc6fc12127ed8",
       "value": "eastus"
      }
     },
     "aa9d688218e7407fa4f5222826d15ec0": {
      "model_module": "@jupyter-widgets/controls",
      "model_module_version": "1.5.0",
      "model_name": "TextModel",
      "state": {
       "description": "aks_location",
       "layout": "IPY_MODEL_eba6ab8525e54f92b33522276ec442f4",
       "placeholder": "AKS Azure Region",
       "style": "IPY_MODEL_144f8b457e784c418505a0d27c76a2ac"
      }
     },
     "aad80f1ccee341c09bab49bf43c89022": {
      "model_module": "@jupyter-widgets/base",
      "model_module_version": "1.2.0",
      "model_name": "LayoutModel",
      "state": {}
     },
     "aaf1b4d9c24641cfa2acc8c098b8e4f5": {
      "model_module": "@jupyter-widgets/controls",
      "model_module_version": "1.5.0",
      "model_name": "HBoxModel",
      "state": {
       "children": [
        "IPY_MODEL_4058ef4cd29f4669aec51659491d0430",
        "IPY_MODEL_a726e360008e4e3c953667d53fc711c3"
       ],
       "layout": "IPY_MODEL_cc0538a0280343849c28e04b252dcc9e"
      }
     },
     "ab45428e447a41eaa66f1709f4759ce0": {
      "model_module": "@jupyter-widgets/controls",
      "model_module_version": "1.5.0",
      "model_name": "TextModel",
      "state": {
       "description": "deep_aks_name",
       "layout": "IPY_MODEL_82746e09267340f48deb1cda9b980c62",
       "placeholder": "AKS Cluster Name",
       "style": "IPY_MODEL_250840a34b194131a3076017448dabfe",
       "value": "deepakscluster"
      }
     },
     "ab59b534b4ee40deb89a602722c63c94": {
      "model_module": "@jupyter-widgets/controls",
      "model_module_version": "1.5.0",
      "model_name": "TextModel",
      "state": {
       "description": "num_replicas",
       "layout": "IPY_MODEL_fb289fc930c142b29dc8f2b24918deb1",
       "placeholder": "number of replicas in Kubernetes cluster",
       "style": "IPY_MODEL_834948b41c9144efa18dfe20eb2a8f02",
       "value": "2"
      }
     },
     "ab6e67fb39ff437cae64a723e792636a": {
      "model_module": "@jupyter-widgets/controls",
      "model_module_version": "1.5.0",
      "model_name": "HBoxModel",
      "state": {
       "children": [
        "IPY_MODEL_b7e7916efee24358b8cc3db10d427145"
       ],
       "layout": "IPY_MODEL_4dcb3c0ef5854a05b160af08163958c6"
      }
     },
     "ab799fd5625c40d380fee94ddd42fa58": {
      "model_module": "@jupyter-widgets/controls",
      "model_module_version": "1.5.0",
      "model_name": "TextModel",
      "state": {
       "description": "resource_group",
       "layout": "IPY_MODEL_a69a111c043a4478ab60dec679f3cb53",
       "placeholder": "Azure Resource Group Name",
       "style": "IPY_MODEL_df86a873b4204e7b940da47be3f7436e",
       "value": "azmlrts-eastus-stable"
      }
     },
     "abcfafa896ec443991426e7ae81bcab8": {
      "model_module": "@jupyter-widgets/base",
      "model_module_version": "1.2.0",
      "model_name": "LayoutModel",
      "state": {}
     },
     "ac05097b6d0e4936b84b277161a3c062": {
      "model_module": "@jupyter-widgets/controls",
      "model_module_version": "1.5.0",
      "model_name": "TextModel",
      "state": {
       "description": "image_name",
       "layout": "IPY_MODEL_360afdf250534d6eb3cc0e8a6571f8da",
       "placeholder": "Docker Container Image Name",
       "style": "IPY_MODEL_bae3835bdd34429fb9fa950ae7404819",
       "value": "mymlimage2"
      }
     },
     "ac0525d004dd40a3882341769312f731": {
      "model_module": "@jupyter-widgets/controls",
      "model_module_version": "1.5.0",
      "model_name": "TextModel",
      "state": {
       "description": "workspace_name",
       "layout": "IPY_MODEL_f98222bb2fd24b50b0f07b3162e75a6a",
       "placeholder": "Azure ML Workspace Name",
       "style": "IPY_MODEL_134357a29b924c88a2162152a44cd155",
       "value": "azmlrts-eastus"
      }
     },
     "ac29f28c2423457ebba107d4c19ea22e": {
      "model_module": "@jupyter-widgets/controls",
      "model_module_version": "1.5.0",
      "model_name": "DescriptionStyleModel",
      "state": {
       "description_width": ""
      }
     },
     "ac51c044ef22473ba391b30164e04316": {
      "model_module": "@jupyter-widgets/controls",
      "model_module_version": "1.5.0",
      "model_name": "DescriptionStyleModel",
      "state": {
       "description_width": ""
      }
     },
     "ac63e0ec80a34766a69941443ce91da4": {
      "model_module": "@jupyter-widgets/base",
      "model_module_version": "1.2.0",
      "model_name": "LayoutModel",
      "state": {}
     },
     "ac7466eb4885456ab60f74a014b27abe": {
      "model_module": "@jupyter-widgets/base",
      "model_module_version": "1.2.0",
      "model_name": "LayoutModel",
      "state": {}
     },
     "ac81f313a79949acb9f8ea6a1d615734": {
      "model_module": "@jupyter-widgets/base",
      "model_module_version": "1.2.0",
      "model_name": "LayoutModel",
      "state": {}
     },
     "ac85a98765d94269b93608b99523e21b": {
      "model_module": "@jupyter-widgets/base",
      "model_module_version": "1.2.0",
      "model_name": "LayoutModel",
      "state": {}
     },
     "ac8afbbe325e4d1c84767a62505601e9": {
      "model_module": "@jupyter-widgets/base",
      "model_module_version": "1.2.0",
      "model_name": "LayoutModel",
      "state": {}
     },
     "ac9dfbef53da4ec69b7c61e37c05e7fc": {
      "model_module": "@jupyter-widgets/controls",
      "model_module_version": "1.5.0",
      "model_name": "ButtonModel",
      "state": {
       "button_style": "success",
       "description": "Load Upload",
       "icon": "check",
       "layout": "IPY_MODEL_19a70770bc5e40abbec54d6a6e960a08",
       "style": "IPY_MODEL_0a60ab5050744018b6201f44b93be27f",
       "tooltip": "Click to save settings to file."
      }
     },
     "acba8a79af0a49e5bd3d4ea909b34e71": {
      "model_module": "@jupyter-widgets/base",
      "model_module_version": "1.2.0",
      "model_name": "LayoutModel",
      "state": {}
     },
     "acc1d74919444f7aafdfc4af5c48c0d7": {
      "model_module": "@jupyter-widgets/controls",
      "model_module_version": "1.5.0",
      "model_name": "DropdownModel",
      "state": {
       "_options_labels": [
        "eastus",
        "eastus2",
        "canadacentral",
        "centralus",
        "northcentralus",
        "southcentralus",
        "westcentralus",
        "westus",
        "westus2"
       ],
       "description": "workspace_region",
       "index": 0,
       "layout": "IPY_MODEL_d60a0777694249319eccff1810bc71ca",
       "style": "IPY_MODEL_93adf92d4097450b9eb230be16d33bdc"
      }
     },
     "acf4e295ad1b46cfa0ccee05c0933ef8": {
      "model_module": "@jupyter-widgets/controls",
      "model_module_version": "1.5.0",
      "model_name": "HBoxModel",
      "state": {
       "children": [
        "IPY_MODEL_bea7229acdab4ba9845cca5568214308",
        "IPY_MODEL_76f92bc2526d4a738867ecd34f39b1d1"
       ],
       "layout": "IPY_MODEL_f34aa5dfce5b4b74811199c12b9e0d2c"
      }
     },
     "acfc73963c32480f8ed461518a890ffb": {
      "model_module": "@jupyter-widgets/base",
      "model_module_version": "1.2.0",
      "model_name": "LayoutModel",
      "state": {}
     },
     "ad19f06328d34b71b4894bd31798aaaa": {
      "model_module": "@jupyter-widgets/base",
      "model_module_version": "1.2.0",
      "model_name": "LayoutModel",
      "state": {}
     },
     "ad2665060c1545d889a122ae84d81069": {
      "model_module": "@jupyter-widgets/base",
      "model_module_version": "1.2.0",
      "model_name": "LayoutModel",
      "state": {}
     },
     "ad35a34abd174ad6be432369406f1d2a": {
      "model_module": "@jupyter-widgets/controls",
      "model_module_version": "1.5.0",
      "model_name": "DescriptionStyleModel",
      "state": {
       "description_width": ""
      }
     },
     "ad3c88f366724466af1446b83a8dc09a": {
      "model_module": "@jupyter-widgets/controls",
      "model_module_version": "1.5.0",
      "model_name": "DropdownModel",
      "state": {
       "_options_labels": [
        "eastus",
        "eastus2",
        "canadacentral",
        "centralus",
        "northcentralus",
        "southcentralus",
        "westcentralus",
        "westus",
        "westus2"
       ],
       "description": "workspace_region",
       "index": 0,
       "layout": "IPY_MODEL_966c4ecb6aa641baa3852c28fb56a4ae",
       "style": "IPY_MODEL_c1bd83cf442648b18388281893b36a43"
      }
     },
     "ad4360049832482f90be0f76cab12f93": {
      "model_module": "@jupyter-widgets/controls",
      "model_module_version": "1.5.0",
      "model_name": "TextModel",
      "state": {
       "description": "image_name",
       "layout": "IPY_MODEL_373bba71478f4b1283c561600b01c27c",
       "placeholder": "Docker Container Image Name",
       "style": "IPY_MODEL_6fe803a938934f3887dcffc074ca5b73",
       "value": "mymlimage2"
      }
     },
     "ad4d92b9f6de4262b5cb7156d9e90f63": {
      "model_module": "@jupyter-widgets/base",
      "model_module_version": "1.2.0",
      "model_name": "LayoutModel",
      "state": {}
     },
     "ad6ee58593a14b4b8f4fadc58d471df3": {
      "model_module": "@jupyter-widgets/controls",
      "model_module_version": "1.5.0",
      "model_name": "TextModel",
      "state": {
       "description": "deep_aks_location",
       "layout": "IPY_MODEL_ec6582e4ade24093a0f6bd926bd0ba41",
       "placeholder": "AKS Azure Region",
       "style": "IPY_MODEL_3e2190a67d0848e2b4f15fc8a09dc94a",
       "value": "eastus"
      }
     },
     "ada1e1802c574800aad15fca562ec60e": {
      "model_module": "@jupyter-widgets/base",
      "model_module_version": "1.2.0",
      "model_name": "LayoutModel",
      "state": {}
     },
     "adb6d8dd52a542c79c1e0cae6587a362": {
      "model_module": "@jupyter-widgets/controls",
      "model_module_version": "1.5.0",
      "model_name": "DescriptionStyleModel",
      "state": {
       "description_width": ""
      }
     },
     "adea0c32f9044636bd44e6769aaf1e01": {
      "model_module": "@jupyter-widgets/controls",
      "model_module_version": "1.5.0",
      "model_name": "ButtonStyleModel",
      "state": {}
     },
     "ae12434f7a3746a78be560f109af3bba": {
      "model_module": "@jupyter-widgets/base",
      "model_module_version": "1.2.0",
      "model_name": "LayoutModel",
      "state": {}
     },
     "ae1b9d0f5b2c46e7ad68369c97462953": {
      "model_module": "@jupyter-widgets/controls",
      "model_module_version": "1.5.0",
      "model_name": "DropdownModel",
      "state": {
       "_options_labels": [
        "eastus",
        "eastus2",
        "canadacentral",
        "centralus",
        "northcentralus",
        "southcentralus",
        "westcentralus",
        "westus",
        "westus2"
       ],
       "description": "aks_location",
       "index": 0,
       "layout": "IPY_MODEL_8f8be1bc4fb9400399f3e481f479ff5b",
       "style": "IPY_MODEL_4ede4650e57048e2ad03c965e28fdc14"
      }
     },
     "ae2b4c67b74b4624b5ec593ba352cd49": {
      "model_module": "@jupyter-widgets/controls",
      "model_module_version": "1.5.0",
      "model_name": "ButtonStyleModel",
      "state": {}
     },
     "ae3f4afe01184a9eb233789956119b23": {
      "model_module": "@jupyter-widgets/controls",
      "model_module_version": "1.5.0",
      "model_name": "TextModel",
      "state": {
       "description": "deep_aks_name",
       "layout": "IPY_MODEL_557aea5e8d3d4692b31644e604098271",
       "placeholder": "AKS Cluster Name",
       "style": "IPY_MODEL_6b71d4606d84402480940ce2b62b5c9f",
       "value": "deepakscluster"
      }
     },
     "ae45e01c3001445aa74a6390fc3b00d2": {
      "model_module": "@jupyter-widgets/base",
      "model_module_version": "1.2.0",
      "model_name": "LayoutModel",
      "state": {}
     },
     "ae5e095121c045ac9e68739d28ff6c0d": {
      "model_module": "@jupyter-widgets/controls",
      "model_module_version": "1.5.0",
      "model_name": "DropdownModel",
      "state": {
       "_options_labels": [
        "eastus",
        "eastus2",
        "canadacentral",
        "centralus",
        "northcentralus",
        "southcentralus",
        "westcentralus",
        "westus",
        "westus2"
       ],
       "description": "aks_location",
       "index": 0,
       "layout": "IPY_MODEL_9436720c5acd4b088566df87d434cf0d",
       "style": "IPY_MODEL_397735e4f7874b0cb361985424c8e574"
      }
     },
     "aef68a3e68d34a92a99fe0e6f3a07bfd": {
      "model_module": "@jupyter-widgets/controls",
      "model_module_version": "1.5.0",
      "model_name": "DescriptionStyleModel",
      "state": {
       "description_width": ""
      }
     },
     "af1696aeccc645a88f23c924df4b2667": {
      "model_module": "@jupyter-widgets/controls",
      "model_module_version": "1.5.0",
      "model_name": "DescriptionStyleModel",
      "state": {
       "description_width": ""
      }
     },
     "af4ab8c2fdc943cbb14a48c6898f2ff1": {
      "model_module": "@jupyter-widgets/controls",
      "model_module_version": "1.5.0",
      "model_name": "ButtonStyleModel",
      "state": {}
     },
     "af4cdc6472114c15b7cad5003fad2db5": {
      "model_module": "@jupyter-widgets/controls",
      "model_module_version": "1.5.0",
      "model_name": "HBoxModel",
      "state": {
       "children": [
        "IPY_MODEL_4120fce3ceff4c31b91698b1396e1951",
        "IPY_MODEL_38a9b03c79bf4d4e84d76cc14f38d054"
       ],
       "layout": "IPY_MODEL_d442a09675e446f7bfb732071c780cf9"
      }
     },
     "af5567d64c344cbb989baa7e59663ee4": {
      "model_module": "@jupyter-widgets/controls",
      "model_module_version": "1.5.0",
      "model_name": "DescriptionStyleModel",
      "state": {
       "description_width": ""
      }
     },
     "af8c23d9c7d84181b1d4e44cd54582b3": {
      "model_module": "@jupyter-widgets/output",
      "model_module_version": "1.0.0",
      "model_name": "OutputModel",
      "state": {
       "layout": "IPY_MODEL_3b6e123f4c734fe8b7bd49a4c217ff61"
      }
     },
     "afa9c9b4d558425da014f2728c3fe9b8": {
      "model_module": "@jupyter-widgets/controls",
      "model_module_version": "1.5.0",
      "model_name": "ButtonModel",
      "state": {
       "description": "Overwrite Settings",
       "icon": "check",
       "layout": "IPY_MODEL_c9dffc70ca184d969184c780431604ab",
       "style": "IPY_MODEL_d01094a2a1a44f509c9f6d4b8e5e4115",
       "tooltip": "Click to save settings to file."
      }
     },
     "afcd6bb65f364a14a29fb90a884d1041": {
      "model_module": "@jupyter-widgets/base",
      "model_module_version": "1.2.0",
      "model_name": "LayoutModel",
      "state": {}
     },
     "afe2f7a9ef304590961bfbc2c0786503": {
      "model_module": "@jupyter-widgets/controls",
      "model_module_version": "1.5.0",
      "model_name": "TextModel",
      "state": {
       "description": "subscription_id",
       "layout": "IPY_MODEL_659bfa0b126d4d5690355b029007ab5f",
       "placeholder": "Azure Subscription Id",
       "style": "IPY_MODEL_4e5e42dafcd641a8a5327a1f90654674"
      }
     },
     "affea06df2d4439bb9115a15d6eff31e": {
      "model_module": "@jupyter-widgets/controls",
      "model_module_version": "1.5.0",
      "model_name": "ButtonModel",
      "state": {
       "description": "Use existing",
       "icon": "check",
       "layout": "IPY_MODEL_87e39bb73c5f4248aa68c03991d36afb",
       "style": "IPY_MODEL_56276b9591e24bff883d69fd06b59a21",
       "tooltip": "Use an existing resource."
      }
     },
     "b0030a3491ad429e8b9ce83b531447c2": {
      "model_module": "@jupyter-widgets/controls",
      "model_module_version": "1.5.0",
      "model_name": "DescriptionStyleModel",
      "state": {
       "description_width": ""
      }
     },
     "b006d57c332941bca3b8db21dce022a9": {
      "model_module": "@jupyter-widgets/controls",
      "model_module_version": "1.5.0",
      "model_name": "HBoxModel",
      "state": {
       "children": [
        "IPY_MODEL_f601096649504500ab36f3a14a541cff",
        "IPY_MODEL_affea06df2d4439bb9115a15d6eff31e"
       ],
       "layout": "IPY_MODEL_a09f503f8ea444f1997c68ba0ebc7365"
      }
     },
     "b013e1cbb52143149fe88902cf3b3fdc": {
      "model_module": "@jupyter-widgets/base",
      "model_module_version": "1.2.0",
      "model_name": "LayoutModel",
      "state": {}
     },
     "b07624120b0145dd8fd9878d1dd78bed": {
      "model_module": "@jupyter-widgets/base",
      "model_module_version": "1.2.0",
      "model_name": "LayoutModel",
      "state": {}
     },
     "b0800257c60e444998356c978a838255": {
      "model_module": "@jupyter-widgets/base",
      "model_module_version": "1.2.0",
      "model_name": "LayoutModel",
      "state": {}
     },
     "b08e1deadd074ddf8d75447156103a1c": {
      "model_module": "@jupyter-widgets/base",
      "model_module_version": "1.2.0",
      "model_name": "LayoutModel",
      "state": {}
     },
     "b0c2d1c001c54a5a815ff4d92400f736": {
      "model_module": "@jupyter-widgets/base",
      "model_module_version": "1.2.0",
      "model_name": "LayoutModel",
      "state": {}
     },
     "b0d8258cebd3461aaf1bd3aad4a0aeb8": {
      "model_module": "@jupyter-widgets/controls",
      "model_module_version": "1.5.0",
      "model_name": "DescriptionStyleModel",
      "state": {
       "description_width": ""
      }
     },
     "b0db17e41d9d495690709c525cbfa9a1": {
      "model_module": "@jupyter-widgets/controls",
      "model_module_version": "1.5.0",
      "model_name": "DescriptionStyleModel",
      "state": {
       "description_width": ""
      }
     },
     "b1289b8a95ac439788f71556cfe66474": {
      "model_module": "@jupyter-widgets/controls",
      "model_module_version": "1.5.0",
      "model_name": "DescriptionStyleModel",
      "state": {
       "description_width": ""
      }
     },
     "b15d47dda6744906badfa501604a659b": {
      "model_module": "@jupyter-widgets/controls",
      "model_module_version": "1.5.0",
      "model_name": "ButtonModel",
      "state": {
       "description": "Use existing",
       "icon": "check",
       "layout": "IPY_MODEL_e8f15027764a4cdd9bdc1cfbbed6ec93",
       "style": "IPY_MODEL_82bccc124c2e4daab60b660d3f559f67",
       "tooltip": "Use an existing resource."
      }
     },
     "b164de9753b24c9b9d12204646ca968b": {
      "model_module": "@jupyter-widgets/base",
      "model_module_version": "1.2.0",
      "model_name": "LayoutModel",
      "state": {}
     },
     "b17917043a5d410abb5cff8fbcfac242": {
      "model_module": "@jupyter-widgets/controls",
      "model_module_version": "1.5.0",
      "model_name": "DescriptionStyleModel",
      "state": {
       "description_width": ""
      }
     },
     "b1cfaaf2a2564178a64d38f488ea63d3": {
      "model_module": "@jupyter-widgets/controls",
      "model_module_version": "1.5.0",
      "model_name": "TextModel",
      "state": {
       "description": "workspace_region",
       "layout": "IPY_MODEL_a0b8e6bb85b84475af7f334f8d658a92",
       "placeholder": "Azure ML Workspace Region",
       "style": "IPY_MODEL_a703f043b7ee493dbf69e1fda4d76e6e",
       "value": "eastus"
      }
     },
     "b1fa6c023d4b4fa994e0c7213ad5d14f": {
      "model_module": "@jupyter-widgets/controls",
      "model_module_version": "1.5.0",
      "model_name": "TextModel",
      "state": {
       "description": "image_name",
       "layout": "IPY_MODEL_19944c01b2bb409782865a4210b559d5",
       "placeholder": "Docker Container Image Name",
       "style": "IPY_MODEL_23b91fbbd85145308700daad9739e3dc"
      }
     },
     "b221f6ce19584f0e9201a9e67fd4130b": {
      "model_module": "@jupyter-widgets/output",
      "model_module_version": "1.0.0",
      "model_name": "OutputModel",
      "state": {
       "layout": "IPY_MODEL_b7f03ae303074e2b9d9fab5355931173"
      }
     },
     "b25bf5a5be084694aaffade10e176d75": {
      "model_module": "@jupyter-widgets/controls",
      "model_module_version": "1.5.0",
      "model_name": "DescriptionStyleModel",
      "state": {
       "description_width": ""
      }
     },
     "b2a3164724cb49639cc0e6ad79e000b8": {
      "model_module": "@jupyter-widgets/controls",
      "model_module_version": "1.5.0",
      "model_name": "DescriptionStyleModel",
      "state": {
       "description_width": ""
      }
     },
     "b2a4f0d9b06348a29b8129b3f24cfffd": {
      "model_module": "@jupyter-widgets/base",
      "model_module_version": "1.2.0",
      "model_name": "LayoutModel",
      "state": {}
     },
     "b2cf5b9da4804c05b848d29d0baaffa5": {
      "model_module": "@jupyter-widgets/base",
      "model_module_version": "1.2.0",
      "model_name": "LayoutModel",
      "state": {}
     },
     "b2eb0a7efc854e76ab56c14f2ea67477": {
      "model_module": "@jupyter-widgets/output",
      "model_module_version": "1.0.0",
      "model_name": "OutputModel",
      "state": {
       "layout": "IPY_MODEL_ad4d92b9f6de4262b5cb7156d9e90f63"
      }
     },
     "b2fb0788d0de4dd0a8b738aefd1465f0": {
      "model_module": "@jupyter-widgets/controls",
      "model_module_version": "1.5.0",
      "model_name": "DescriptionStyleModel",
      "state": {
       "description_width": ""
      }
     },
     "b33a0dcc418643ac9d9ee83122de01fd": {
      "model_module": "@jupyter-widgets/controls",
      "model_module_version": "1.5.0",
      "model_name": "FileUploadModel",
      "state": {
       "accept": ".yml",
       "description_tooltip": null,
       "layout": "IPY_MODEL_e7e78d7dbba64ecdbf527cfd7150cc1c",
       "style": "IPY_MODEL_af4ab8c2fdc943cbb14a48c6898f2ff1"
      }
     },
     "b36e7275140f41539e71450866e7189c": {
      "model_module": "@jupyter-widgets/controls",
      "model_module_version": "1.5.0",
      "model_name": "HBoxModel",
      "state": {
       "children": [
        "IPY_MODEL_86ae1ff04c934ef8b183829b121509e1",
        "IPY_MODEL_c37dec0e314947219beb4ca1db437d18"
       ],
       "layout": "IPY_MODEL_55b9a08f7a584b20ae0772b69aaec2da"
      }
     },
     "b377958a4667453cbd2694dbdda9bfde": {
      "model_module": "@jupyter-widgets/controls",
      "model_module_version": "1.5.0",
      "model_name": "TextModel",
      "state": {
       "description": "deep_image_name",
       "layout": "IPY_MODEL_97517b90d74047cfb8f440eb5d06a326",
       "placeholder": "Docker Container Image Name",
       "style": "IPY_MODEL_5524ce0f82334f3d85a1099b6c59a918",
       "value": "mydeepimage"
      }
     },
     "b37ffcef62524e05bdf2c87c78894325": {
      "model_module": "@jupyter-widgets/base",
      "model_module_version": "1.2.0",
      "model_name": "LayoutModel",
      "state": {}
     },
     "b3a1e8e4a17045c4bd51151fe7ae7a48": {
      "model_module": "@jupyter-widgets/controls",
      "model_module_version": "1.5.0",
      "model_name": "TextModel",
      "state": {
       "description": "node_count",
       "layout": "IPY_MODEL_90e362fa26cc479c9302b39367949c20",
       "placeholder": "number of nodes in Kubernetes cluster",
       "style": "IPY_MODEL_4fbb8666d6f44fb0915025dd08213cc1",
       "value": "4"
      }
     },
     "b3c1aff5cfde472f98ed71561cb31513": {
      "model_module": "@jupyter-widgets/controls",
      "model_module_version": "1.5.0",
      "model_name": "DescriptionStyleModel",
      "state": {
       "description_width": ""
      }
     },
     "b3f39a8bf2754157ad5251b8db36cd87": {
      "model_module": "@jupyter-widgets/base",
      "model_module_version": "1.2.0",
      "model_name": "LayoutModel",
      "state": {}
     },
     "b3fc6d649f9e4550b5068326099983c2": {
      "model_module": "@jupyter-widgets/controls",
      "model_module_version": "1.5.0",
      "model_name": "TextModel",
      "state": {
       "description": "aks_name",
       "layout": "IPY_MODEL_4a70db5f00f44aa9906d7dd20bc395e7",
       "placeholder": "AKS Cluster Name",
       "style": "IPY_MODEL_3770e5d840074b81b2b24870c14411d3"
      }
     },
     "b3fd7fd6e9484e96b8f7cb97d39fd104": {
      "model_module": "@jupyter-widgets/controls",
      "model_module_version": "1.5.0",
      "model_name": "TextModel",
      "state": {
       "description": "subscription_id",
       "layout": "IPY_MODEL_fe54e2197245413798d37267e0fd328b",
       "placeholder": "Azure Subscription Id",
       "style": "IPY_MODEL_6bd3cd92fbb84b6c90fa9e8ff4f2441b",
       "value": "0ca618d2-22a8-413a-96d0-0f1b531129c3"
      }
     },
     "b42ab66983224da48b3da8a2dc6b4a58": {
      "model_module": "@jupyter-widgets/controls",
      "model_module_version": "1.5.0",
      "model_name": "HBoxModel",
      "state": {
       "children": [
        "IPY_MODEL_a59778d1ce31494b9ffdc7080b8f37a5",
        "IPY_MODEL_3e85d9f1e1cc4a199afc0c6f3a58f9fe"
       ],
       "layout": "IPY_MODEL_a539bf76dcda42df8a712ecb99f6ff4b"
      }
     },
     "b46edd322e2c4a55b87c5f7d67cc5901": {
      "model_module": "@jupyter-widgets/controls",
      "model_module_version": "1.5.0",
      "model_name": "DescriptionStyleModel",
      "state": {
       "description_width": ""
      }
     },
     "b4b2a80c85e94654b4375a4e674c98e7": {
      "model_module": "@jupyter-widgets/base",
      "model_module_version": "1.2.0",
      "model_name": "LayoutModel",
      "state": {}
     },
     "b4b39f65fffe403da4f6334155762cbc": {
      "model_module": "@jupyter-widgets/controls",
      "model_module_version": "1.5.0",
      "model_name": "TextModel",
      "state": {
       "description": "image_name",
       "layout": "IPY_MODEL_7350332b1a8d48138b1bfccc89548083",
       "placeholder": "Docker Container Image Name",
       "style": "IPY_MODEL_a66dc40b82b2411eb93941d6c6997bda",
       "value": "mymlimage2"
      }
     },
     "b4e4bec75902496ab36d87b156adaf97": {
      "model_module": "@jupyter-widgets/base",
      "model_module_version": "1.2.0",
      "model_name": "LayoutModel",
      "state": {}
     },
     "b50216c9a3bb4f8f856833a5fdc427b4": {
      "model_module": "@jupyter-widgets/controls",
      "model_module_version": "1.5.0",
      "model_name": "DescriptionStyleModel",
      "state": {
       "description_width": ""
      }
     },
     "b508b70f96154b7c9f65a26dcf9c37bd": {
      "model_module": "@jupyter-widgets/controls",
      "model_module_version": "1.5.0",
      "model_name": "DropdownModel",
      "state": {
       "_options_labels": [
        "AG-CE-AI-GPU-EXPERIMENTATION",
        "AG-AzureCAT-AITao-Test-COGSNonProd-IO1685734",
        "AG-CE-AI-DEVOPS",
        "AG-AzureCAT-AIDemos-Test-COGSNonProd-IO1685734",
        "AGCE-AI-DELETE-Sharat",
        "AG-AzureCAT-AILab-Test-COGSNonProd-IO1685734",
        "Visual Studio Ultimate with MSDN",
        "AG-AzureCAT-AIDataPM-Test-COGSNonProd-IO1685743",
        "AG-AzureCAT-AIDanielle-Test-COGSNonProd-IO1685734",
        "AG-CE-AI-MN-CICOMMERCIAL",
        "AG-CE-AI-MN-INCUBATION",
        "AG-CE-AI-MN-OSS",
        "AG-CE-AI-MN-E2E",
        "AG-CE-AI-MN-HU",
        "AG-CE-AI-MN-SEISMIC",
        "AG-CE-AI-STORAGE",
        "AG-CE-AI-MN-RETAIL",
        "AG-CE-AI-FEEDBACK",
        "AG-CE-AI-MN-LAB",
        "Azure SDK Engineering System",
        "Epic-Edge-ES-ReproVMLab",
        "ES-Stream-Operations",
        "Core-ES-BranchManagement",
        "WDG-ES-RnD-GITTrain",
        "Cosmos_WDG_Core_BnB_100292",
        "Azure Stack Diagnostics CI and Production VaaS",
        "Edge DevTools Client",
        "Azure Stack CSS Labs",
        "AppInsight Test",
        "ddverify",
        "VSEng MadDog-RPS Telemetry",
        "CAT_Eng",
        "RPS-cloud-common-2",
        "Core-ES-WorkManagement",
        "Azure_Maps_MDP_Engineering",
        "Test/Demo - VipSwapper Operations",
        "COSINE-ES-Signing Azure Service",
        "AI Infra Build",
        "AG-CE-E2E-AI",
        "DEMO - how RepDemo are you",
        "ADS Demo Subscription",
        "AzureCAT E2E Blue Steel",
        "Azure Search DEV Service Layer (kmort,miwelsh,bohuan)"
       ],
       "description": "subscription_id",
       "index": 2,
       "layout": "IPY_MODEL_60c4cb450f4c4734888ab08d6df1ce9a",
       "style": "IPY_MODEL_2fb4c6456f484724aededb9a0754cea8"
      }
     },
     "b536416feee34246a350b14dea0ac3ff": {
      "model_module": "@jupyter-widgets/controls",
      "model_module_version": "1.5.0",
      "model_name": "DescriptionStyleModel",
      "state": {
       "description_width": ""
      }
     },
     "b57615ebaabd4b5680f3b855748cb431": {
      "model_module": "@jupyter-widgets/controls",
      "model_module_version": "1.5.0",
      "model_name": "DropdownModel",
      "state": {
       "_options_labels": [
        "eastus",
        "eastus2",
        "canadacentral",
        "centralus",
        "northcentralus",
        "southcentralus",
        "westcentralus",
        "westus",
        "westus2"
       ],
       "description": "workspace_region",
       "index": 0,
       "layout": "IPY_MODEL_90b50ef48e10469cad3b9594ebba3337",
       "style": "IPY_MODEL_b25bf5a5be084694aaffade10e176d75"
      }
     },
     "b591937e57ba4b44a316f084da3c37fa": {
      "model_module": "@jupyter-widgets/controls",
      "model_module_version": "1.5.0",
      "model_name": "DescriptionStyleModel",
      "state": {
       "description_width": ""
      }
     },
     "b5b6eb5d4a3d41f49a1adaf5fef260d6": {
      "model_module": "@jupyter-widgets/controls",
      "model_module_version": "1.5.0",
      "model_name": "HBoxModel",
      "state": {
       "children": [
        "IPY_MODEL_f14f491255ac4b35aefa8ea300f837b8"
       ],
       "layout": "IPY_MODEL_62e9de37f5c44803863f68bdece123b7"
      }
     },
     "b5c9676d8bca4337bd2190fbe0c71828": {
      "model_module": "@jupyter-widgets/controls",
      "model_module_version": "1.5.0",
      "model_name": "DescriptionStyleModel",
      "state": {
       "description_width": ""
      }
     },
     "b5d4ef5c848e4f50956c89af3beadf74": {
      "model_module": "@jupyter-widgets/base",
      "model_module_version": "1.2.0",
      "model_name": "LayoutModel",
      "state": {}
     },
     "b5e6aa5ef4ff459a9a606c6b9f853fa3": {
      "model_module": "@jupyter-widgets/controls",
      "model_module_version": "1.5.0",
      "model_name": "TextModel",
      "state": {
       "description": "aks_name",
       "layout": "IPY_MODEL_c197de8378794672802917fc64248a35",
       "placeholder": "AKS Cluster Name",
       "style": "IPY_MODEL_211b3e9ee02346139ec2839873f82b13",
       "value": "akscluster2"
      }
     },
     "b60c2ac6baee44bdb7c7d474417a42c4": {
      "model_module": "@jupyter-widgets/controls",
      "model_module_version": "1.5.0",
      "model_name": "TextModel",
      "state": {
       "description": "resource_group",
       "layout": "IPY_MODEL_3d4bd2d4286d43bb842684519179fbee",
       "placeholder": "Azure Resource Group Name",
       "style": "IPY_MODEL_8f17bad0ef374eae9a907ac23819303f",
       "value": "azmlrts-eastus-stable"
      }
     },
     "b613ca672d534806a1c6fc54b8a12250": {
      "model_module": "@jupyter-widgets/controls",
      "model_module_version": "1.5.0",
      "model_name": "ButtonStyleModel",
      "state": {}
     },
     "b630f14374db475cba04a30a72cf77df": {
      "model_module": "@jupyter-widgets/controls",
      "model_module_version": "1.5.0",
      "model_name": "DescriptionStyleModel",
      "state": {
       "description_width": ""
      }
     },
     "b65a2a11fc144b7f90b781aae96585ac": {
      "model_module": "@jupyter-widgets/controls",
      "model_module_version": "1.5.0",
      "model_name": "TextModel",
      "state": {
       "description": "deep_aks_name",
       "layout": "IPY_MODEL_2ea497af0f3a4ef8bbbfa451fa255223",
       "placeholder": "AKS Cluster Name",
       "style": "IPY_MODEL_8891db5c668643f4a27256b6a8c08c2e",
       "value": "deepakscluster"
      }
     },
     "b6919ba350564d67bdee185bb0202cc6": {
      "model_module": "@jupyter-widgets/controls",
      "model_module_version": "1.5.0",
      "model_name": "DescriptionStyleModel",
      "state": {
       "description_width": ""
      }
     },
     "b6adc16720694479ae89c1f92f15f52b": {
      "model_module": "@jupyter-widgets/controls",
      "model_module_version": "1.5.0",
      "model_name": "DescriptionStyleModel",
      "state": {
       "description_width": ""
      }
     },
     "b6b79b81d20f4885826ab6a35e93e39e": {
      "model_module": "@jupyter-widgets/base",
      "model_module_version": "1.2.0",
      "model_name": "LayoutModel",
      "state": {}
     },
     "b6ebf75292a64fa59ae58d3fb5ac8c32": {
      "model_module": "@jupyter-widgets/controls",
      "model_module_version": "1.5.0",
      "model_name": "ButtonModel",
      "state": {
       "description": "Overwrite Settings",
       "icon": "check",
       "layout": "IPY_MODEL_e88effa01d814ee5891c89c50ea855c8",
       "style": "IPY_MODEL_98d3636fe0b749428a09aad2496ee292",
       "tooltip": "Click to save settings to file."
      }
     },
     "b6ed2b238c8f496f8954a34094e4ad15": {
      "model_module": "@jupyter-widgets/base",
      "model_module_version": "1.2.0",
      "model_name": "LayoutModel",
      "state": {}
     },
     "b6f1b0219ed64fbc850a6081b938d9b3": {
      "model_module": "@jupyter-widgets/base",
      "model_module_version": "1.2.0",
      "model_name": "LayoutModel",
      "state": {}
     },
     "b6f58d406a9d4d7e84286e6618282654": {
      "model_module": "@jupyter-widgets/controls",
      "model_module_version": "1.5.0",
      "model_name": "TextModel",
      "state": {
       "description": "image_name",
       "layout": "IPY_MODEL_f0cbf86c35d34e2c86a9c4409a4cb8f3",
       "placeholder": "Docker Container Image Name",
       "style": "IPY_MODEL_b3c1aff5cfde472f98ed71561cb31513",
       "value": "dciboimage"
      }
     },
     "b71f676b6b1546d4a9a27972ed115e26": {
      "model_module": "@jupyter-widgets/controls",
      "model_module_version": "1.5.0",
      "model_name": "ButtonModel",
      "state": {
       "description": "Save Upload",
       "icon": "check",
       "layout": "IPY_MODEL_74a78890e87c4f3d8853a25e3264e14a",
       "style": "IPY_MODEL_63d9f8ce3b0341f5a055a30d78035130",
       "tooltip": "Click to save settings to file."
      }
     },
     "b72ec4408f794fc495df24826406c29c": {
      "model_module": "@jupyter-widgets/controls",
      "model_module_version": "1.5.0",
      "model_name": "FileUploadModel",
      "state": {
       "accept": ".yml",
       "description_tooltip": null,
       "layout": "IPY_MODEL_8fd43fa27be84e7790488342a2a7ae95",
       "style": "IPY_MODEL_76e16edde47247f1b899f9fdc2c88544"
      }
     },
     "b731f07b696443bd8ae6d13632496f2a": {
      "model_module": "@jupyter-widgets/controls",
      "model_module_version": "1.5.0",
      "model_name": "TextModel",
      "state": {
       "description": "deep_aks_service_name",
       "layout": "IPY_MODEL_a247d21248c64b59821b935997a3c124",
       "placeholder": "AKS Service Name",
       "style": "IPY_MODEL_0f9e7b9f04274ee387fc9b08e32f8bb9",
       "value": "deepaksservice"
      }
     },
     "b744c766e5344e3d9f7dc71bbb55f9d3": {
      "model_module": "@jupyter-widgets/controls",
      "model_module_version": "1.5.0",
      "model_name": "DescriptionStyleModel",
      "state": {
       "description_width": ""
      }
     },
     "b753018ada244f2ebeb199a14316e0b4": {
      "model_module": "@jupyter-widgets/controls",
      "model_module_version": "1.5.0",
      "model_name": "ButtonStyleModel",
      "state": {}
     },
     "b7763657682148a88a79f687a8895798": {
      "model_module": "@jupyter-widgets/controls",
      "model_module_version": "1.5.0",
      "model_name": "TextModel",
      "state": {
       "description": "workspace_region",
       "layout": "IPY_MODEL_581428a4e13b49dd83006547d09e736b",
       "placeholder": "Azure ML Workspace Region",
       "style": "IPY_MODEL_a05ca3cd860249d6af438a45936e3204",
       "value": "eastus"
      }
     },
     "b780029215e24636b859b8be9dca1a5b": {
      "model_module": "@jupyter-widgets/base",
      "model_module_version": "1.2.0",
      "model_name": "LayoutModel",
      "state": {}
     },
     "b79b94fd4123499698a8619cb29c9049": {
      "model_module": "@jupyter-widgets/base",
      "model_module_version": "1.2.0",
      "model_name": "LayoutModel",
      "state": {}
     },
     "b7e7916efee24358b8cc3db10d427145": {
      "model_module": "@jupyter-widgets/controls",
      "model_module_version": "1.5.0",
      "model_name": "TextModel",
      "state": {
       "description": "aks_location",
       "layout": "IPY_MODEL_692685030f0f41b28ee7a59c32783948",
       "placeholder": "AKS Azure Region",
       "style": "IPY_MODEL_70762171dc1e439ca4d4e0c0ad1987b6",
       "value": "eastus"
      }
     },
     "b7f03ae303074e2b9d9fab5355931173": {
      "model_module": "@jupyter-widgets/base",
      "model_module_version": "1.2.0",
      "model_name": "LayoutModel",
      "state": {}
     },
     "b80aa3bc49864b74ae89fbc1451e8b9e": {
      "model_module": "@jupyter-widgets/controls",
      "model_module_version": "1.5.0",
      "model_name": "ButtonModel",
      "state": {
       "description": "Save Upload",
       "icon": "check",
       "layout": "IPY_MODEL_015a3ff18bd946c6a0371651c5601851",
       "style": "IPY_MODEL_710049a87aef4d468caeca2709bbc9d7",
       "tooltip": "Click to save settings to file."
      }
     },
     "b810b6a5dd554d538b49d64d950843c1": {
      "model_module": "@jupyter-widgets/controls",
      "model_module_version": "1.5.0",
      "model_name": "HBoxModel",
      "state": {
       "children": [
        "IPY_MODEL_a2dfbc575d83480c8fb2f889e9ddca42"
       ],
       "layout": "IPY_MODEL_ca0bbd55dc0a40b4bfa80fa60907c05d"
      }
     },
     "b810f144c6fc40a7bf269a7219b1cb8b": {
      "model_module": "@jupyter-widgets/controls",
      "model_module_version": "1.5.0",
      "model_name": "ButtonModel",
      "state": {
       "description": "Use existing",
       "layout": "IPY_MODEL_99559ed18e534c99a038c245737adb19",
       "style": "IPY_MODEL_f9566646206a4c138547bfc4bee91a77",
       "tooltip": "Use an existing resource."
      }
     },
     "b8257a226aa64c97a9f9069f4fc57154": {
      "model_module": "@jupyter-widgets/controls",
      "model_module_version": "1.5.0",
      "model_name": "DescriptionStyleModel",
      "state": {
       "description_width": ""
      }
     },
     "b82d074560c844eb836e84564e2d5f10": {
      "model_module": "@jupyter-widgets/controls",
      "model_module_version": "1.5.0",
      "model_name": "DescriptionStyleModel",
      "state": {
       "description_width": ""
      }
     },
     "b8410af5f2524ad9863ca14e619189c3": {
      "model_module": "@jupyter-widgets/controls",
      "model_module_version": "1.5.0",
      "model_name": "TextModel",
      "state": {
       "description": "workspace_name",
       "layout": "IPY_MODEL_a7f3a11154f34ded945333c668e6fcf7",
       "placeholder": "Azure ML Workspace Name",
       "style": "IPY_MODEL_f1c661e4a6c440da841266f90d95e3d3",
       "value": "azmlrts-eastus"
      }
     },
     "b855d7cfe4b74b3095aca560cb5ff99c": {
      "model_module": "@jupyter-widgets/output",
      "model_module_version": "1.0.0",
      "model_name": "OutputModel",
      "state": {
       "layout": "IPY_MODEL_49ff83b877ed4fc09744ef867638dcef"
      }
     },
     "b86b57e558234c24aa970580f78536cc": {
      "model_module": "@jupyter-widgets/controls",
      "model_module_version": "1.5.0",
      "model_name": "HBoxModel",
      "state": {
       "children": [
        "IPY_MODEL_a769dea18d2c440d88dc320f0b4aaf85"
       ],
       "layout": "IPY_MODEL_5ea497065d424c41bf1ffcf9fef9e5e4"
      }
     },
     "b8f79b6742234b009cd5ea9fa6d4b1c0": {
      "model_module": "@jupyter-widgets/controls",
      "model_module_version": "1.5.0",
      "model_name": "HBoxModel",
      "state": {
       "children": [
        "IPY_MODEL_57b52158401f4ec18f4ef8ee8ccf91da",
        "IPY_MODEL_fa67e3a67d414fb192e3bd6a880b78a2"
       ],
       "layout": "IPY_MODEL_a4835b858ae94311bc52d5541c769476"
      }
     },
     "b9061097bc7e4cbe86739b719e4cf295": {
      "model_module": "@jupyter-widgets/base",
      "model_module_version": "1.2.0",
      "model_name": "LayoutModel",
      "state": {}
     },
     "b93aa3d5309b413f8db43653fdf119e3": {
      "model_module": "@jupyter-widgets/controls",
      "model_module_version": "1.5.0",
      "model_name": "TextModel",
      "state": {
       "description": "vm_size",
       "layout": "IPY_MODEL_087da9120e824ffcbb55876a20877ab2",
       "placeholder": "skew of vms in Kubernetes cluster",
       "style": "IPY_MODEL_f37ce6ffcf96495aa37a5251bfab9680",
       "value": "Standard_D4_v2"
      }
     },
     "b94ed48a901840a09151b2bb8a29efcf": {
      "model_module": "@jupyter-widgets/base",
      "model_module_version": "1.2.0",
      "model_name": "LayoutModel",
      "state": {}
     },
     "b9a28cee13224189b643d6389f5820df": {
      "model_module": "@jupyter-widgets/controls",
      "model_module_version": "1.5.0",
      "model_name": "TextModel",
      "state": {
       "description": "deep_aks_location",
       "layout": "IPY_MODEL_fe69356250284a3ab419877b1b8a6511",
       "placeholder": "AKS Azure Region",
       "style": "IPY_MODEL_67089bca59fd4a78a91a5678ebc82336",
       "value": "eastus"
      }
     },
     "b9b4938b09f94e09bac793aed6bfb0d8": {
      "model_module": "@jupyter-widgets/base",
      "model_module_version": "1.2.0",
      "model_name": "LayoutModel",
      "state": {}
     },
     "b9c54039102945128063fcaa07ed22cf": {
      "model_module": "@jupyter-widgets/base",
      "model_module_version": "1.2.0",
      "model_name": "LayoutModel",
      "state": {}
     },
     "b9da7f41c5044454b177686f29776177": {
      "model_module": "@jupyter-widgets/base",
      "model_module_version": "1.2.0",
      "model_name": "LayoutModel",
      "state": {}
     },
     "b9f571070b6f4c2ebe55f02a55d152b0": {
      "model_module": "@jupyter-widgets/controls",
      "model_module_version": "1.5.0",
      "model_name": "VBoxModel",
      "state": {
       "children": [
        "IPY_MODEL_af8c23d9c7d84181b1d4e44cd54582b3",
        "IPY_MODEL_22113c2485b34a879a94a3a9b3fbf97f",
        "IPY_MODEL_f1ac14c26e344e6fa8197d8ebecc34c6",
        "IPY_MODEL_ab799fd5625c40d380fee94ddd42fa58",
        "IPY_MODEL_c19bd405b11d4908887d4f6c8ba5512e",
        "IPY_MODEL_94228fff58e14533afc622afa2885131",
        "IPY_MODEL_1d308ef16b994e40bdb3c6b555be988b",
        "IPY_MODEL_94fb455cec404bc3a2e5ff5c20e000c6",
        "IPY_MODEL_a8cbc3b67c37404a8207c9f948302305",
        "IPY_MODEL_3b8e431d10954515b69166c99b5253b6",
        "IPY_MODEL_c4010d379806451a9827320f690f5a52",
        "IPY_MODEL_efc44081716d4ad28b9412eb4ee361d6",
        "IPY_MODEL_9d672c9b98e44a19a0c5f7501a7712da",
        "IPY_MODEL_f7df9022f185457faa63a8969078a3ab",
        "IPY_MODEL_a4dca3482826422aa4323b35ec681f10"
       ],
       "layout": "IPY_MODEL_6ac37591daca4d89b3ce3c6b85b902ab"
      }
     },
     "ba3b59b2efdc4c0983940bd3772c7f5c": {
      "model_module": "@jupyter-widgets/base",
      "model_module_version": "1.2.0",
      "model_name": "LayoutModel",
      "state": {}
     },
     "ba3f614f540c4fed926ff2def749ff55": {
      "model_module": "@jupyter-widgets/base",
      "model_module_version": "1.2.0",
      "model_name": "LayoutModel",
      "state": {}
     },
     "ba61f06869ff4d249579d600bb09b518": {
      "model_module": "@jupyter-widgets/controls",
      "model_module_version": "1.5.0",
      "model_name": "DescriptionStyleModel",
      "state": {
       "description_width": ""
      }
     },
     "ba65391fc14849f9a173d818bd17c005": {
      "model_module": "@jupyter-widgets/controls",
      "model_module_version": "1.5.0",
      "model_name": "TextModel",
      "state": {
       "description": "deep_image_name",
       "layout": "IPY_MODEL_e9eb8c007f004bae92a8557cc307453c",
       "placeholder": "Docker Container Image Name",
       "style": "IPY_MODEL_4def131cd7484f50942a268ebfac77c7",
       "value": "mydeepimage"
      }
     },
     "ba7d459ffb9e432eb6f3462af628807e": {
      "model_module": "@jupyter-widgets/base",
      "model_module_version": "1.2.0",
      "model_name": "LayoutModel",
      "state": {}
     },
     "ba7fa7a5b7bd44ec849bc1d5e4448e13": {
      "model_module": "@jupyter-widgets/controls",
      "model_module_version": "1.5.0",
      "model_name": "TextModel",
      "state": {
       "description": "aks_service_name",
       "layout": "IPY_MODEL_294681d239c2486998c6964a3db9b3ff",
       "placeholder": "AKS Service Name",
       "style": "IPY_MODEL_de2d3350e9be4c1e8b06c899718aaaac",
       "value": "aksservice2"
      }
     },
     "baacde6d16f743c9a1d4a9bd98529db3": {
      "model_module": "@jupyter-widgets/base",
      "model_module_version": "1.2.0",
      "model_name": "LayoutModel",
      "state": {}
     },
     "baba3746c9a441d9bb92639743f64bb7": {
      "model_module": "@jupyter-widgets/base",
      "model_module_version": "1.2.0",
      "model_name": "LayoutModel",
      "state": {}
     },
     "bac7bf39fe8f427088a7e141d2cefb93": {
      "model_module": "@jupyter-widgets/controls",
      "model_module_version": "1.5.0",
      "model_name": "TextModel",
      "state": {
       "description": "subscription_id",
       "layout": "IPY_MODEL_1d0d823b0ad94f66966e2080bfacc2b5",
       "placeholder": "Azure Subscription Id",
       "style": "IPY_MODEL_690ed3370d454de19fcd31376889b384",
       "value": "0ca618d2-22a8-413a-96d0-0f1b531129c3"
      }
     },
     "bac84d3a2b0840f5b6f0e611f19791a6": {
      "model_module": "@jupyter-widgets/controls",
      "model_module_version": "1.5.0",
      "model_name": "DescriptionStyleModel",
      "state": {
       "description_width": ""
      }
     },
     "bace810acad64f32b26f5306e52c1dc9": {
      "model_module": "@jupyter-widgets/controls",
      "model_module_version": "1.5.0",
      "model_name": "TextModel",
      "state": {
       "description": "cpu_cores",
       "layout": "IPY_MODEL_3f7b3ee71d3f4619be5ec5c1421843f1",
       "placeholder": "cpu cores for web service",
       "style": "IPY_MODEL_17f76d0ed8ed44dd82a96e65e6c59b34",
       "value": "1"
      }
     },
     "bae3835bdd34429fb9fa950ae7404819": {
      "model_module": "@jupyter-widgets/controls",
      "model_module_version": "1.5.0",
      "model_name": "DescriptionStyleModel",
      "state": {
       "description_width": ""
      }
     },
     "bb251aab033b44caaade83aee69fa926": {
      "model_module": "@jupyter-widgets/controls",
      "model_module_version": "1.5.0",
      "model_name": "DescriptionStyleModel",
      "state": {
       "description_width": ""
      }
     },
     "bb4aec7117404d03a1fa88a0ce003d5c": {
      "model_module": "@jupyter-widgets/controls",
      "model_module_version": "1.5.0",
      "model_name": "ButtonModel",
      "state": {
       "description": "Use existing",
       "layout": "IPY_MODEL_89d2261df0504ad8942407464a94b320",
       "style": "IPY_MODEL_2d53cd72adb2495fb0130221751698bd",
       "tooltip": "Use an existing resource."
      }
     },
     "bb6e1538718044529c136dc852b2b665": {
      "model_module": "@jupyter-widgets/controls",
      "model_module_version": "1.5.0",
      "model_name": "TextModel",
      "state": {
       "description": "aks_name",
       "layout": "IPY_MODEL_25e6ece318634780946362f68ee15b1a",
       "placeholder": "AKS Cluster Name",
       "style": "IPY_MODEL_85b05c18825d427899fdaa7c92c3abf0",
       "value": "akscluster2"
      }
     },
     "bb7f129f9511451ba50efae6b5ea9a4f": {
      "model_module": "@jupyter-widgets/controls",
      "model_module_version": "1.5.0",
      "model_name": "HBoxModel",
      "state": {
       "children": [
        "IPY_MODEL_8018e0c3a3074a6dab90d41185427ed4",
        "IPY_MODEL_d2e31500f9154b8bbf0b45fd60a7a211"
       ],
       "layout": "IPY_MODEL_01fbf407834b40b79c10ffe5de2417ad"
      }
     },
     "bbaf4b0e2ddb4d3eb04fd58116c3d41e": {
      "model_module": "@jupyter-widgets/base",
      "model_module_version": "1.2.0",
      "model_name": "LayoutModel",
      "state": {}
     },
     "bbb8e7c2c65f4b19986f47f152d8bdd9": {
      "model_module": "@jupyter-widgets/controls",
      "model_module_version": "1.5.0",
      "model_name": "HBoxModel",
      "state": {
       "children": [
        "IPY_MODEL_fb4a562821b04742a38f43b8c964cd45"
       ],
       "layout": "IPY_MODEL_e2db06bcacef41c8b41dbf7ade2ee4b6"
      }
     },
     "bbbfb212a68a4ffdb35700a383ad4fe7": {
      "model_module": "@jupyter-widgets/base",
      "model_module_version": "1.2.0",
      "model_name": "LayoutModel",
      "state": {}
     },
     "bbe37537c0ba4a689724d5dc395ce9e4": {
      "model_module": "@jupyter-widgets/controls",
      "model_module_version": "1.5.0",
      "model_name": "ButtonStyleModel",
      "state": {}
     },
     "bbe8a537871c45d2bdc1e4d1a1fd92f7": {
      "model_module": "@jupyter-widgets/controls",
      "model_module_version": "1.5.0",
      "model_name": "DescriptionStyleModel",
      "state": {
       "description_width": ""
      }
     },
     "bc19009bdd304a2bb87e0379eeb4601d": {
      "model_module": "@jupyter-widgets/controls",
      "model_module_version": "1.5.0",
      "model_name": "TextModel",
      "state": {
       "description": "deep_aks_location",
       "layout": "IPY_MODEL_e271140562f54515abd7a34538dc9deb",
       "placeholder": "AKS Azure Region",
       "style": "IPY_MODEL_73646b0e86f74c4a8091f4d1751c3c85",
       "value": "eastus"
      }
     },
     "bc1e7193a1934812a634e622bb3eb2c4": {
      "model_module": "@jupyter-widgets/base",
      "model_module_version": "1.2.0",
      "model_name": "LayoutModel",
      "state": {}
     },
     "bc35944f6fb340ee8858af6fdac3c8fb": {
      "model_module": "@jupyter-widgets/base",
      "model_module_version": "1.2.0",
      "model_name": "LayoutModel",
      "state": {}
     },
     "bc59c09fb95d42b383b1fd920fc70624": {
      "model_module": "@jupyter-widgets/base",
      "model_module_version": "1.2.0",
      "model_name": "LayoutModel",
      "state": {}
     },
     "bc5cdc7244e84a9ab4ba04c42566fd89": {
      "model_module": "@jupyter-widgets/controls",
      "model_module_version": "1.5.0",
      "model_name": "TextModel",
      "state": {
       "description": "deep_aks_name",
       "layout": "IPY_MODEL_9ac53d9017bc4f68879f6ae2302e5b5d",
       "placeholder": "AKS Cluster Name",
       "style": "IPY_MODEL_2767028d73354e7b824b7dab9fad359f",
       "value": "deepakscluster"
      }
     },
     "bc6509da671c44cfad1525e2f2ad583f": {
      "model_module": "@jupyter-widgets/controls",
      "model_module_version": "1.5.0",
      "model_name": "DescriptionStyleModel",
      "state": {
       "description_width": ""
      }
     },
     "bc765c04e9124807b6bf63717944f9e2": {
      "model_module": "@jupyter-widgets/base",
      "model_module_version": "1.2.0",
      "model_name": "LayoutModel",
      "state": {}
     },
     "bc935abf7e894c3e9754a65185f2ea55": {
      "model_module": "@jupyter-widgets/base",
      "model_module_version": "1.2.0",
      "model_name": "LayoutModel",
      "state": {}
     },
     "bcb7032cf52946e9866d988ab158241a": {
      "model_module": "@jupyter-widgets/controls",
      "model_module_version": "1.5.0",
      "model_name": "TextModel",
      "state": {
       "description": "Sub ID:",
       "layout": "IPY_MODEL_b6f1b0219ed64fbc850a6081b938d9b3",
       "placeholder": "xxxx-xxxx-xxxx-xxxx-xxxx",
       "style": "IPY_MODEL_151bba921c794756af172122e85bdca8",
       "value": "<>"
      }
     },
     "bcd338f9462a47c0a8bce78031015533": {
      "model_module": "@jupyter-widgets/controls",
      "model_module_version": "1.5.0",
      "model_name": "DescriptionStyleModel",
      "state": {
       "description_width": ""
      }
     },
     "bcd94051ce634e7a83116c032827c9a3": {
      "model_module": "@jupyter-widgets/base",
      "model_module_version": "1.2.0",
      "model_name": "LayoutModel",
      "state": {}
     },
     "bce44b53a1124508ba99e76ba8fe38ba": {
      "model_module": "@jupyter-widgets/controls",
      "model_module_version": "1.5.0",
      "model_name": "ButtonModel",
      "state": {
       "button_style": "success",
       "description": "Update Settings",
       "icon": "check",
       "layout": "IPY_MODEL_b6b79b81d20f4885826ab6a35e93e39e",
       "style": "IPY_MODEL_0b487a356ee6450789b93224bf566e77",
       "tooltip": "Click to save settings to file."
      }
     },
     "bcf6d13a4fde44a8888cb0def58465e1": {
      "model_module": "@jupyter-widgets/output",
      "model_module_version": "1.0.0",
      "model_name": "OutputModel",
      "state": {
       "layout": "IPY_MODEL_36d208ad9cad4d768531173f0648b840"
      }
     },
     "bd04cb3a3da441ac809b68ea710fdd60": {
      "model_module": "@jupyter-widgets/controls",
      "model_module_version": "1.5.0",
      "model_name": "DescriptionStyleModel",
      "state": {
       "description_width": ""
      }
     },
     "bd07f988acfa431b982b1343f5143dfe": {
      "model_module": "@jupyter-widgets/controls",
      "model_module_version": "1.5.0",
      "model_name": "DescriptionStyleModel",
      "state": {
       "description_width": ""
      }
     },
     "bd0c872bb150431b8ca14deed96b7821": {
      "model_module": "@jupyter-widgets/controls",
      "model_module_version": "1.5.0",
      "model_name": "HBoxModel",
      "state": {
       "children": [
        "IPY_MODEL_9be69be1e982412fa41655809999ca24",
        "IPY_MODEL_2c71fe75527246a9873308eb612af307"
       ],
       "layout": "IPY_MODEL_e611abcc4b7f434cae3688a0b5b6c1fc"
      }
     },
     "bd11d83df1e446e187e5e3b986289d0f": {
      "model_module": "@jupyter-widgets/controls",
      "model_module_version": "1.5.0",
      "model_name": "HBoxModel",
      "state": {
       "children": [
        "IPY_MODEL_845c071a38604c61b1f5b092b2e8589e"
       ],
       "layout": "IPY_MODEL_c9e07e358bfe4fc1a72531c37df7fa26"
      }
     },
     "bd36359b9ad5406c9483e6ddbdcce8c4": {
      "model_module": "@jupyter-widgets/controls",
      "model_module_version": "1.5.0",
      "model_name": "DescriptionStyleModel",
      "state": {
       "description_width": ""
      }
     },
     "bd474e75bb6e490fa42aecff49d9276c": {
      "model_module": "@jupyter-widgets/controls",
      "model_module_version": "1.5.0",
      "model_name": "DescriptionStyleModel",
      "state": {
       "description_width": ""
      }
     },
     "bd5bee5c6f6244ffb591c8d31a5753cf": {
      "model_module": "@jupyter-widgets/controls",
      "model_module_version": "1.5.0",
      "model_name": "TextModel",
      "state": {
       "description": "image_name",
       "layout": "IPY_MODEL_e93bda52bfeb4cee8502e1957620c1e1",
       "placeholder": "Docker Container Image Name",
       "style": "IPY_MODEL_3912db2e2dd8421a8e47bc5a898d276e",
       "value": "mymlimage2"
      }
     },
     "bda98f91c96f429496e993b0f79965e4": {
      "model_module": "@jupyter-widgets/controls",
      "model_module_version": "1.5.0",
      "model_name": "ButtonStyleModel",
      "state": {}
     },
     "be3b0a5034104a02846577b2bac45404": {
      "model_module": "@jupyter-widgets/controls",
      "model_module_version": "1.5.0",
      "model_name": "HBoxModel",
      "state": {
       "children": [
        "IPY_MODEL_64e7d51d85ca447bb0a097aa2ef94c74",
        "IPY_MODEL_0ac98b757be4405a9a34a788db2a9a59"
       ],
       "layout": "IPY_MODEL_da76613644b7432fb0e43e71a26d4efb"
      }
     },
     "be4c1b7fbd3a4eb9bdc648b76db6f6eb": {
      "model_module": "@jupyter-widgets/base",
      "model_module_version": "1.2.0",
      "model_name": "LayoutModel",
      "state": {}
     },
     "be5185c187784cef97566420737b875d": {
      "model_module": "@jupyter-widgets/controls",
      "model_module_version": "1.5.0",
      "model_name": "DropdownModel",
      "state": {
       "_options_labels": [
        "eastus",
        "eastus2",
        "canadacentral",
        "centralus",
        "northcentralus",
        "southcentralus",
        "westcentralus",
        "westus",
        "westus2"
       ],
       "description": "workspace_region:",
       "index": 0,
       "layout": "IPY_MODEL_3f7282fd1ef947c1818b101ef4e24605",
       "style": "IPY_MODEL_30efcf4293c74f328b040962f66ed316"
      }
     },
     "be77b9eabcf04c26af91c8df478f9eca": {
      "model_module": "@jupyter-widgets/controls",
      "model_module_version": "1.5.0",
      "model_name": "TextModel",
      "state": {
       "description": "deep_aks_service_name",
       "layout": "IPY_MODEL_f80b4846ac5743df8403b04c3c773c91",
       "placeholder": "AKS Service Name",
       "style": "IPY_MODEL_4214474a294948908b45feecd45f0ec8",
       "value": "deepaksservice"
      }
     },
     "bea33f4ad32f4d0faf179e4f5abb1615": {
      "model_module": "@jupyter-widgets/controls",
      "model_module_version": "1.5.0",
      "model_name": "TextModel",
      "state": {
       "description": "aks_service_name",
       "layout": "IPY_MODEL_58a216c347904fd7a9d12a1fe91471b0",
       "placeholder": "AKS Service Name",
       "style": "IPY_MODEL_4d3392ddf7214907931ca5970271b5af",
       "value": "aksservice2"
      }
     },
     "bea7229acdab4ba9845cca5568214308": {
      "model_module": "@jupyter-widgets/controls",
      "model_module_version": "1.5.0",
      "model_name": "FileUploadModel",
      "state": {
       "accept": ".yml",
       "description_tooltip": null,
       "layout": "IPY_MODEL_caf84984de05453dbb333d067ecb1b0e",
       "style": "IPY_MODEL_3ab948c452a6459e964d905ad85f1a4d"
      }
     },
     "beb57c00f66d4f6fbad3d7587c25c6cf": {
      "model_module": "@jupyter-widgets/controls",
      "model_module_version": "1.5.0",
      "model_name": "TextModel",
      "state": {
       "description": "aks_name",
       "layout": "IPY_MODEL_c71bf2a250644a27ba08be2526cc6d28",
       "placeholder": "AKS Cluster Name",
       "style": "IPY_MODEL_fc74c5f41f8c4ae0bb5a076c746d5bfd",
       "value": "akscluster2"
      }
     },
     "beb87b88285e4a31843e25ccb2abaaa2": {
      "model_module": "@jupyter-widgets/base",
      "model_module_version": "1.2.0",
      "model_name": "LayoutModel",
      "state": {}
     },
     "bed4f2b568bc4aa6abb6569aee1140de": {
      "model_module": "@jupyter-widgets/controls",
      "model_module_version": "1.5.0",
      "model_name": "TextModel",
      "state": {
       "description": "num_replicas",
       "layout": "IPY_MODEL_40bce764d1f54b0ab09059d76d1a0176",
       "placeholder": "number of replicas in Kubernetes cluster",
       "style": "IPY_MODEL_f877d11837ec4b21afe7321837287e56",
       "value": "2"
      }
     },
     "bf56181da17d44dfb623fb5c041d13ee": {
      "model_module": "@jupyter-widgets/controls",
      "model_module_version": "1.5.0",
      "model_name": "ButtonModel",
      "state": {
       "description": "Use existing",
       "layout": "IPY_MODEL_cc318bbf8b624daa864ba1c377c2b792",
       "style": "IPY_MODEL_1f822d26ff98411586e4ef0db92f926c",
       "tooltip": "Use an existing resource."
      }
     },
     "bfda199fd24745e1977909d399803c2c": {
      "model_module": "@jupyter-widgets/base",
      "model_module_version": "1.2.0",
      "model_name": "LayoutModel",
      "state": {}
     },
     "bff712b7928e4f098c9af4b3d1a82259": {
      "model_module": "@jupyter-widgets/base",
      "model_module_version": "1.2.0",
      "model_name": "LayoutModel",
      "state": {}
     },
     "c00c4e78e0ee4ed6a7e8d765eea2d91c": {
      "model_module": "@jupyter-widgets/base",
      "model_module_version": "1.2.0",
      "model_name": "LayoutModel",
      "state": {}
     },
     "c01366a4756241e394c182e64d8d11f5": {
      "model_module": "@jupyter-widgets/base",
      "model_module_version": "1.2.0",
      "model_name": "LayoutModel",
      "state": {}
     },
     "c02289d3168d4bbebafc6f854b65fb27": {
      "model_module": "@jupyter-widgets/controls",
      "model_module_version": "1.5.0",
      "model_name": "TextModel",
      "state": {
       "description": "aks_location",
       "layout": "IPY_MODEL_c7a53ce37b9247eeace224166f1d94f1",
       "placeholder": "AKS Azure Region",
       "style": "IPY_MODEL_ac29f28c2423457ebba107d4c19ea22e"
      }
     },
     "c0310a8c29c645f4b15bc914e76d8b02": {
      "model_module": "@jupyter-widgets/controls",
      "model_module_version": "1.5.0",
      "model_name": "TextModel",
      "state": {
       "description": "deep_aks_name",
       "layout": "IPY_MODEL_d15451f3681a407a8947d95b1865022c",
       "placeholder": "AKS Cluster Name",
       "style": "IPY_MODEL_3680922e0cff44279650b58892d0927c",
       "value": "deepakscluster"
      }
     },
     "c0d2e12423d94644bc7516401cc521f9": {
      "model_module": "@jupyter-widgets/controls",
      "model_module_version": "1.5.0",
      "model_name": "ButtonStyleModel",
      "state": {}
     },
     "c138097029ba4326bf4f99274a9dee52": {
      "model_module": "@jupyter-widgets/base",
      "model_module_version": "1.2.0",
      "model_name": "LayoutModel",
      "state": {}
     },
     "c16ada8a02fe40a3ade8570cbf885b80": {
      "model_module": "@jupyter-widgets/output",
      "model_module_version": "1.0.0",
      "model_name": "OutputModel",
      "state": {
       "layout": "IPY_MODEL_0ebfd69ad54347e1886f9d66569d352b"
      }
     },
     "c197de8378794672802917fc64248a35": {
      "model_module": "@jupyter-widgets/base",
      "model_module_version": "1.2.0",
      "model_name": "LayoutModel",
      "state": {}
     },
     "c19bd405b11d4908887d4f6c8ba5512e": {
      "model_module": "@jupyter-widgets/controls",
      "model_module_version": "1.5.0",
      "model_name": "TextModel",
      "state": {
       "description": "workspace_name",
       "layout": "IPY_MODEL_dc41221d479148e5ae79265d61822da5",
       "placeholder": "Azure ML Workspace Name",
       "style": "IPY_MODEL_049b229065734b1688bf1e5261309bea",
       "value": "azmlrts-eastus"
      }
     },
     "c1a00079379a4b4ba0bc8e12b3e11ce8": {
      "model_module": "@jupyter-widgets/output",
      "model_module_version": "1.0.0",
      "model_name": "OutputModel",
      "state": {
       "layout": "IPY_MODEL_4510aa6364264c0bbf662a2cc4a6318b"
      }
     },
     "c1b6b72ec77449859db2caa2e5e1cb39": {
      "model_module": "@jupyter-widgets/base",
      "model_module_version": "1.2.0",
      "model_name": "LayoutModel",
      "state": {}
     },
     "c1bd83cf442648b18388281893b36a43": {
      "model_module": "@jupyter-widgets/controls",
      "model_module_version": "1.5.0",
      "model_name": "DescriptionStyleModel",
      "state": {
       "description_width": ""
      }
     },
     "c1d210acb9ce4fbaaaeac9ddccc22b27": {
      "model_module": "@jupyter-widgets/base",
      "model_module_version": "1.2.0",
      "model_name": "LayoutModel",
      "state": {}
     },
     "c1f0c1331885495b965e75e2d0c64c9a": {
      "model_module": "@jupyter-widgets/controls",
      "model_module_version": "1.5.0",
      "model_name": "ButtonModel",
      "state": {
       "description": "Save Upload",
       "icon": "check",
       "layout": "IPY_MODEL_1103a0fbb55b4947a7410814b9c9711f",
       "style": "IPY_MODEL_d18a29895ec849358daf50c3d69ed846",
       "tooltip": "Click to save settings to file."
      }
     },
     "c2086dc4c5aa42c38a288c45a00931e8": {
      "model_module": "@jupyter-widgets/base",
      "model_module_version": "1.2.0",
      "model_name": "LayoutModel",
      "state": {}
     },
     "c2318eb560ca4f588976a8d5a23a5ea5": {
      "model_module": "@jupyter-widgets/base",
      "model_module_version": "1.2.0",
      "model_name": "LayoutModel",
      "state": {}
     },
     "c2567f829d2d48928ebb0d634434860d": {
      "model_module": "@jupyter-widgets/base",
      "model_module_version": "1.2.0",
      "model_name": "LayoutModel",
      "state": {}
     },
     "c27b24aa7b9743d584482eb8dd24ca04": {
      "model_module": "@jupyter-widgets/controls",
      "model_module_version": "1.5.0",
      "model_name": "HBoxModel",
      "state": {
       "children": [
        "IPY_MODEL_da303925cd2f4fdf94b1a14831293bfa",
        "IPY_MODEL_56ed0e4c4ca84de08b62fe01eabe687f"
       ],
       "layout": "IPY_MODEL_ee94b6287b06431eaa22319d2e645020"
      }
     },
     "c27cabe4bf734227b8b87482396b0de7": {
      "model_module": "@jupyter-widgets/base",
      "model_module_version": "1.2.0",
      "model_name": "LayoutModel",
      "state": {}
     },
     "c290b7d983014712a64ab6faf0d4f429": {
      "model_module": "@jupyter-widgets/base",
      "model_module_version": "1.2.0",
      "model_name": "LayoutModel",
      "state": {}
     },
     "c29146dedb1044a39823700f96ed7a41": {
      "model_module": "@jupyter-widgets/controls",
      "model_module_version": "1.5.0",
      "model_name": "ButtonStyleModel",
      "state": {}
     },
     "c2a295438dcd411aac908ea590875e60": {
      "model_module": "@jupyter-widgets/base",
      "model_module_version": "1.2.0",
      "model_name": "LayoutModel",
      "state": {}
     },
     "c2b7c892399345caad8198f7af824431": {
      "model_module": "@jupyter-widgets/base",
      "model_module_version": "1.2.0",
      "model_name": "LayoutModel",
      "state": {}
     },
     "c2cf5a8dedbf466ca1604d1d888044ef": {
      "model_module": "@jupyter-widgets/controls",
      "model_module_version": "1.5.0",
      "model_name": "DropdownModel",
      "state": {
       "_options_labels": [
        "eastus",
        "eastus2",
        "canadacentral",
        "centralus",
        "northcentralus",
        "southcentralus",
        "westcentralus",
        "westus",
        "westus2"
       ],
       "description": "workspace_region",
       "index": 0,
       "layout": "IPY_MODEL_53ddcd98c6f049df8a66cbb2be6e4876",
       "style": "IPY_MODEL_edf8c57aac2544fd81a3e8278dbb422c"
      }
     },
     "c2cf6b7e034a445695138fb130d79434": {
      "model_module": "@jupyter-widgets/controls",
      "model_module_version": "1.5.0",
      "model_name": "TextModel",
      "state": {
       "description": "image_name",
       "layout": "IPY_MODEL_c7e209c4734f47d59ce32f9068304e2e",
       "placeholder": "Docker Container Image Name",
       "style": "IPY_MODEL_d35407fcfe764532a6e1dfeeee1aa970",
       "value": "mymlimage2"
      }
     },
     "c2e4921c831d44f7af1af57df2fb746e": {
      "model_module": "@jupyter-widgets/base",
      "model_module_version": "1.2.0",
      "model_name": "LayoutModel",
      "state": {}
     },
     "c34234b8c61a4bd4b7693f5bd95f428a": {
      "model_module": "@jupyter-widgets/base",
      "model_module_version": "1.2.0",
      "model_name": "LayoutModel",
      "state": {}
     },
     "c378e81535e84a46a307f936cc64a7e9": {
      "model_module": "@jupyter-widgets/controls",
      "model_module_version": "1.5.0",
      "model_name": "HBoxModel",
      "state": {
       "children": [
        "IPY_MODEL_1019c5fbecc44d80a1e0b239845d7f69"
       ],
       "layout": "IPY_MODEL_3ea1b81282e742128f10b8bb88ebff4e"
      }
     },
     "c37dec0e314947219beb4ca1db437d18": {
      "model_module": "@jupyter-widgets/controls",
      "model_module_version": "1.5.0",
      "model_name": "ButtonModel",
      "state": {
       "description": "Use existing",
       "icon": "check",
       "layout": "IPY_MODEL_9b6cd7a67daa472cbb505844b0398d95",
       "style": "IPY_MODEL_cebd8dd249194fffbcc1ae6c295fdce1",
       "tooltip": "Use an existing resource."
      }
     },
     "c37e42ae25c44186917e70d9fd37b8c5": {
      "model_module": "@jupyter-widgets/controls",
      "model_module_version": "1.5.0",
      "model_name": "DescriptionStyleModel",
      "state": {
       "description_width": ""
      }
     },
     "c3c1730fb7c244aa860944e89e47ce37": {
      "model_module": "@jupyter-widgets/controls",
      "model_module_version": "1.5.0",
      "model_name": "ButtonStyleModel",
      "state": {}
     },
     "c3e42a5be8b04fb18b075c0fcab70d7c": {
      "model_module": "@jupyter-widgets/base",
      "model_module_version": "1.2.0",
      "model_name": "LayoutModel",
      "state": {}
     },
     "c3e64fc6e53b4d6e94c5272a8365f419": {
      "model_module": "@jupyter-widgets/controls",
      "model_module_version": "1.5.0",
      "model_name": "DescriptionStyleModel",
      "state": {
       "description_width": ""
      }
     },
     "c4010d379806451a9827320f690f5a52": {
      "model_module": "@jupyter-widgets/controls",
      "model_module_version": "1.5.0",
      "model_name": "TextModel",
      "state": {
       "description": "deep_image_name",
       "layout": "IPY_MODEL_c815e99d107c433e8d22a2411a9b06c2",
       "placeholder": "Docker Container Image Name",
       "style": "IPY_MODEL_c9cfece79a214c18b24b1be682cde341",
       "value": "mydeepimage"
      }
     },
     "c41823c2f79843839b8870636e00c747": {
      "model_module": "@jupyter-widgets/controls",
      "model_module_version": "1.5.0",
      "model_name": "TextModel",
      "state": {
       "description": "vm_size",
       "layout": "IPY_MODEL_79ea5c051d7647728ed26a710cb48528",
       "placeholder": "skew of vms in Kubernetes cluster",
       "style": "IPY_MODEL_020a497b806c4ca89966dd786dc60f17",
       "value": "Standard_D4_v2"
      }
     },
     "c41caaf66034457ea4b3d35dd99690f0": {
      "model_module": "@jupyter-widgets/controls",
      "model_module_version": "1.5.0",
      "model_name": "DescriptionStyleModel",
      "state": {
       "description_width": ""
      }
     },
     "c4210c1dbea948d98f430cc66f6b3dcf": {
      "model_module": "@jupyter-widgets/base",
      "model_module_version": "1.2.0",
      "model_name": "LayoutModel",
      "state": {}
     },
     "c422306db18b4a8eb3b486352010b693": {
      "model_module": "@jupyter-widgets/controls",
      "model_module_version": "1.5.0",
      "model_name": "DescriptionStyleModel",
      "state": {
       "description_width": ""
      }
     },
     "c4289e846f474bb4bac8f760d079a11c": {
      "model_module": "@jupyter-widgets/controls",
      "model_module_version": "1.5.0",
      "model_name": "TextModel",
      "state": {
       "description": "aks_location",
       "layout": "IPY_MODEL_26d3ff849d6a434fba7a86c491700aaf",
       "placeholder": "AKS Azure Region",
       "style": "IPY_MODEL_3fcc245f281349d4ab4bb102de0cdc90",
       "value": "eastus"
      }
     },
     "c43ad32a7f4a4ee98a1f9f8ffc5c256f": {
      "model_module": "@jupyter-widgets/base",
      "model_module_version": "1.2.0",
      "model_name": "LayoutModel",
      "state": {}
     },
     "c442dd2aaafe4de8b1b51e4acfec9bf6": {
      "model_module": "@jupyter-widgets/controls",
      "model_module_version": "1.5.0",
      "model_name": "DescriptionStyleModel",
      "state": {
       "description_width": ""
      }
     },
     "c457a3ca9ddb46d9a8cb89d850165c3d": {
      "model_module": "@jupyter-widgets/controls",
      "model_module_version": "1.5.0",
      "model_name": "DescriptionStyleModel",
      "state": {
       "description_width": ""
      }
     },
     "c45b3e938a4a43c29bf4d28f49328bfc": {
      "model_module": "@jupyter-widgets/base",
      "model_module_version": "1.2.0",
      "model_name": "LayoutModel",
      "state": {}
     },
     "c492dccbe1794be0bcbfc009ed793433": {
      "model_module": "@jupyter-widgets/base",
      "model_module_version": "1.2.0",
      "model_name": "LayoutModel",
      "state": {}
     },
     "c4a5558ad3ae4ddca65af52ec6f37164": {
      "model_module": "@jupyter-widgets/controls",
      "model_module_version": "1.5.0",
      "model_name": "TextModel",
      "state": {
       "description": "workspace_name",
       "layout": "IPY_MODEL_9ccea2c117da49908611e5707b7d5164",
       "placeholder": "Azure ML Workspace Name",
       "style": "IPY_MODEL_9291901705634095b07278cb85e4ed84"
      }
     },
     "c4a9ee03813143a9839f61e601566466": {
      "model_module": "@jupyter-widgets/base",
      "model_module_version": "1.2.0",
      "model_name": "LayoutModel",
      "state": {}
     },
     "c4ae9b794dbc4279b66a1a481d35ca6f": {
      "model_module": "@jupyter-widgets/base",
      "model_module_version": "1.2.0",
      "model_name": "LayoutModel",
      "state": {}
     },
     "c4ea57c2e6d94fab946879f00180b28f": {
      "model_module": "@jupyter-widgets/base",
      "model_module_version": "1.2.0",
      "model_name": "LayoutModel",
      "state": {}
     },
     "c51ed8772bd144c5bd42145f8378c5d8": {
      "model_module": "@jupyter-widgets/controls",
      "model_module_version": "1.5.0",
      "model_name": "HBoxModel",
      "state": {
       "children": [
        "IPY_MODEL_b72ec4408f794fc495df24826406c29c",
        "IPY_MODEL_1a00a7706410472fb013df1707a60bb8"
       ],
       "layout": "IPY_MODEL_0bacc1f7c31f4361835770d82ea697b8"
      }
     },
     "c59d100215304fd88012f77e339ff587": {
      "model_module": "@jupyter-widgets/controls",
      "model_module_version": "1.5.0",
      "model_name": "ButtonModel",
      "state": {
       "description": "Use existing",
       "layout": "IPY_MODEL_8e77273473dc41fcb429677f493d1f9e",
       "style": "IPY_MODEL_7e79b28b64f64c259643d93c2bda8f4b",
       "tooltip": "Use an existing resource."
      }
     },
     "c5ea976b622d4d54a6c75dd34a495df9": {
      "model_module": "@jupyter-widgets/controls",
      "model_module_version": "1.5.0",
      "model_name": "FileUploadModel",
      "state": {
       "accept": ".yml",
       "description_tooltip": null,
       "layout": "IPY_MODEL_3f381be5bf0847f4ab7712b77dae0dba",
       "style": "IPY_MODEL_5fb76bac485744bd9997d7a47ec6a6ba"
      }
     },
     "c64b426fb36a4f12943ff86ad27ab709": {
      "model_module": "@jupyter-widgets/base",
      "model_module_version": "1.2.0",
      "model_name": "LayoutModel",
      "state": {}
     },
     "c656f048ff0644adbd6fcdc4cda4da6e": {
      "model_module": "@jupyter-widgets/base",
      "model_module_version": "1.2.0",
      "model_name": "LayoutModel",
      "state": {}
     },
     "c675084e26c34b06a24f733b30fecac4": {
      "model_module": "@jupyter-widgets/base",
      "model_module_version": "1.2.0",
      "model_name": "LayoutModel",
      "state": {}
     },
     "c68b2c523344428d874cd33813a8c736": {
      "model_module": "@jupyter-widgets/base",
      "model_module_version": "1.2.0",
      "model_name": "LayoutModel",
      "state": {}
     },
     "c690f982db8f450db637673002527a7e": {
      "model_module": "@jupyter-widgets/controls",
      "model_module_version": "1.5.0",
      "model_name": "DescriptionStyleModel",
      "state": {
       "description_width": ""
      }
     },
     "c6b0a54638434b628e92d93e5cdcee78": {
      "model_module": "@jupyter-widgets/base",
      "model_module_version": "1.2.0",
      "model_name": "LayoutModel",
      "state": {}
     },
     "c6d7c45436bb4813b195568350bffaec": {
      "model_module": "@jupyter-widgets/base",
      "model_module_version": "1.2.0",
      "model_name": "LayoutModel",
      "state": {}
     },
     "c70deb31f80f4d33ab463edddd3ccba6": {
      "model_module": "@jupyter-widgets/controls",
      "model_module_version": "1.5.0",
      "model_name": "DescriptionStyleModel",
      "state": {
       "description_width": ""
      }
     },
     "c712279874084c379853783e61f21e29": {
      "model_module": "@jupyter-widgets/controls",
      "model_module_version": "1.5.0",
      "model_name": "TextModel",
      "state": {
       "description": "RG ID:",
       "layout": "IPY_MODEL_d94c8eec0f2c40469db426905c86686d",
       "placeholder": "azure-resource-group-name",
       "style": "IPY_MODEL_5524a53835b34aa78ee34f2035b9d222",
       "value": "<>"
      }
     },
     "c71bf2a250644a27ba08be2526cc6d28": {
      "model_module": "@jupyter-widgets/base",
      "model_module_version": "1.2.0",
      "model_name": "LayoutModel",
      "state": {}
     },
     "c73f450cfe5740678b8d4c35dcca67e1": {
      "model_module": "@jupyter-widgets/controls",
      "model_module_version": "1.5.0",
      "model_name": "TextModel",
      "state": {
       "description": "deep_aks_location",
       "layout": "IPY_MODEL_f2cc7df09d0b472bba99ebec50691918",
       "placeholder": "AKS Azure Region",
       "style": "IPY_MODEL_824ac3ad58f747a8a59ff29cc8030da2",
       "value": "eastus"
      }
     },
     "c75444e8f60e4ab3817c16b34529d7d9": {
      "model_module": "@jupyter-widgets/controls",
      "model_module_version": "1.5.0",
      "model_name": "DescriptionStyleModel",
      "state": {
       "description_width": ""
      }
     },
     "c7769560c79c44debaea46616bd9b3ff": {
      "model_module": "@jupyter-widgets/controls",
      "model_module_version": "1.5.0",
      "model_name": "HBoxModel",
      "state": {
       "children": [
        "IPY_MODEL_0d37b19347564810b45098b69034dae0",
        "IPY_MODEL_e735aa47de044d698acddbf526291ce8"
       ],
       "layout": "IPY_MODEL_93c383d0cb2f48f488ee4e260ae3d4f5"
      }
     },
     "c785287917d649fe97b67e6faaf97415": {
      "model_module": "@jupyter-widgets/base",
      "model_module_version": "1.2.0",
      "model_name": "LayoutModel",
      "state": {}
     },
     "c791472c143b4195b2b8274d26583f96": {
      "model_module": "@jupyter-widgets/controls",
      "model_module_version": "1.5.0",
      "model_name": "TextModel",
      "state": {
       "description": "deep_image_name",
       "layout": "IPY_MODEL_0617b3084bee4cb29eb4b5c45f76d4e8",
       "placeholder": "Docker Container Image Name",
       "style": "IPY_MODEL_7ddfffca47c24670b024e50d0ff572d7",
       "value": "mydeepimage"
      }
     },
     "c7a53ce37b9247eeace224166f1d94f1": {
      "model_module": "@jupyter-widgets/base",
      "model_module_version": "1.2.0",
      "model_name": "LayoutModel",
      "state": {}
     },
     "c7aabee4039c4a10a182121c1f1f153d": {
      "model_module": "@jupyter-widgets/base",
      "model_module_version": "1.2.0",
      "model_name": "LayoutModel",
      "state": {}
     },
     "c7caf348b37f4f85a151fac8f1233395": {
      "model_module": "@jupyter-widgets/base",
      "model_module_version": "1.2.0",
      "model_name": "LayoutModel",
      "state": {}
     },
     "c7e209c4734f47d59ce32f9068304e2e": {
      "model_module": "@jupyter-widgets/base",
      "model_module_version": "1.2.0",
      "model_name": "LayoutModel",
      "state": {}
     },
     "c806538578914107a2a0811ac2e86e9f": {
      "model_module": "@jupyter-widgets/controls",
      "model_module_version": "1.5.0",
      "model_name": "TextModel",
      "state": {
       "description": "resource_group",
       "layout": "IPY_MODEL_84b248129ae34aa39d569b14fe165ca6",
       "placeholder": "Azure Resource Group Name",
       "style": "IPY_MODEL_529fa2158cc948c784e50906b5329feb",
       "value": "azmlrts-eastus-stable"
      }
     },
     "c815e99d107c433e8d22a2411a9b06c2": {
      "model_module": "@jupyter-widgets/base",
      "model_module_version": "1.2.0",
      "model_name": "LayoutModel",
      "state": {}
     },
     "c8213e53bfa443dcb7cc3b3f09545f5f": {
      "model_module": "@jupyter-widgets/controls",
      "model_module_version": "1.5.0",
      "model_name": "TextModel",
      "state": {
       "description": "aks_location",
       "layout": "IPY_MODEL_ea2cca6ba7b64918b4d947fe0eba9b5e",
       "placeholder": "AKS Azure Region",
       "style": "IPY_MODEL_56e05031498f4347b3ce3d537c499fd2",
       "value": "eastus"
      }
     },
     "c84b5910e99f40869c0e21ac47426b02": {
      "model_module": "@jupyter-widgets/controls",
      "model_module_version": "1.5.0",
      "model_name": "TextModel",
      "state": {
       "description": "image_name",
       "layout": "IPY_MODEL_e4cf9db0228e46099d26adafc4b0618e",
       "placeholder": "Docker Container Image Name",
       "style": "IPY_MODEL_8e7efe7e475047e38e3280e83254c4d8",
       "value": "mymlimage2"
      }
     },
     "c855fc3980d94f48b2220fcf1448823f": {
      "model_module": "@jupyter-widgets/controls",
      "model_module_version": "1.5.0",
      "model_name": "ButtonStyleModel",
      "state": {}
     },
     "c85a8b8c4d214fe0922436cf9c67699a": {
      "model_module": "@jupyter-widgets/controls",
      "model_module_version": "1.5.0",
      "model_name": "ButtonStyleModel",
      "state": {}
     },
     "c87621c23faa4706894cf6454bd34b69": {
      "model_module": "@jupyter-widgets/controls",
      "model_module_version": "1.5.0",
      "model_name": "TextModel",
      "state": {
       "description": "workspace_region",
       "layout": "IPY_MODEL_9d3fda37415d471fb06f5717e4b3a9ed",
       "placeholder": "Azure ML Workspace Region",
       "style": "IPY_MODEL_b1289b8a95ac439788f71556cfe66474",
       "value": "eastus"
      }
     },
     "c8b8c0992f494ca1974ce3a7429bf1bd": {
      "model_module": "@jupyter-widgets/base",
      "model_module_version": "1.2.0",
      "model_name": "LayoutModel",
      "state": {}
     },
     "c8bb9285ef3e43129a78c34b8ce122a6": {
      "model_module": "@jupyter-widgets/controls",
      "model_module_version": "1.5.0",
      "model_name": "FileUploadModel",
      "state": {
       "accept": ".yml",
       "description_tooltip": null,
       "layout": "IPY_MODEL_3d4a783dc72d4fa28f54ea1bf3ce2ed5",
       "style": "IPY_MODEL_e536c5f694394ee4901e78c4672b4056"
      }
     },
     "c8d32c191dc64793963073af5506c048": {
      "model_module": "@jupyter-widgets/base",
      "model_module_version": "1.2.0",
      "model_name": "LayoutModel",
      "state": {}
     },
     "c8e5f0fdb31e484aa4156bf6e3d008dc": {
      "model_module": "@jupyter-widgets/base",
      "model_module_version": "1.2.0",
      "model_name": "LayoutModel",
      "state": {}
     },
     "c8e6344f56864e6f9471abacb03c0df6": {
      "model_module": "@jupyter-widgets/controls",
      "model_module_version": "1.5.0",
      "model_name": "DescriptionStyleModel",
      "state": {
       "description_width": ""
      }
     },
     "c8f90e1b892b4bafa7cdf7a1fe131388": {
      "model_module": "@jupyter-widgets/controls",
      "model_module_version": "1.5.0",
      "model_name": "HBoxModel",
      "state": {
       "children": [
        "IPY_MODEL_3b0729f432ed4b8d8b05b9e6389053a1",
        "IPY_MODEL_ca1f5f121b1549eab0adf80c9d78c72d"
       ],
       "layout": "IPY_MODEL_cc9afc302e4041688117dbd5928e0d60"
      }
     },
     "c8ffd44506804be18140c92a6d450f3d": {
      "model_module": "@jupyter-widgets/base",
      "model_module_version": "1.2.0",
      "model_name": "LayoutModel",
      "state": {}
     },
     "c93d2897af134edcac5ee947d65eb6d2": {
      "model_module": "@jupyter-widgets/output",
      "model_module_version": "1.0.0",
      "model_name": "OutputModel",
      "state": {
       "layout": "IPY_MODEL_f41bb68a38284ccebfd959cb3eaada92"
      }
     },
     "c983167c27bc4891ba7c1358adc4c3cd": {
      "model_module": "@jupyter-widgets/controls",
      "model_module_version": "1.5.0",
      "model_name": "ButtonModel",
      "state": {
       "description": "Use existing",
       "layout": "IPY_MODEL_0c6ad203a7794484b0d7ccc935b8b8f9",
       "style": "IPY_MODEL_56eabbac739642fe9d4fe13c93587836",
       "tooltip": "Use an existing resource."
      }
     },
     "c9b75142190542d78dfb9c3d9afb7a49": {
      "model_module": "@jupyter-widgets/base",
      "model_module_version": "1.2.0",
      "model_name": "LayoutModel",
      "state": {}
     },
     "c9c07f4a0feb4b66b0a4057000a6bb6b": {
      "model_module": "@jupyter-widgets/base",
      "model_module_version": "1.2.0",
      "model_name": "LayoutModel",
      "state": {}
     },
     "c9cfece79a214c18b24b1be682cde341": {
      "model_module": "@jupyter-widgets/controls",
      "model_module_version": "1.5.0",
      "model_name": "DescriptionStyleModel",
      "state": {
       "description_width": ""
      }
     },
     "c9dffc70ca184d969184c780431604ab": {
      "model_module": "@jupyter-widgets/base",
      "model_module_version": "1.2.0",
      "model_name": "LayoutModel",
      "state": {}
     },
     "c9e07e358bfe4fc1a72531c37df7fa26": {
      "model_module": "@jupyter-widgets/base",
      "model_module_version": "1.2.0",
      "model_name": "LayoutModel",
      "state": {}
     },
     "c9f1175dd43f49d7902bb5bf8b175253": {
      "model_module": "@jupyter-widgets/controls",
      "model_module_version": "1.5.0",
      "model_name": "TextModel",
      "state": {
       "description": "deep_aks_location",
       "layout": "IPY_MODEL_b94ed48a901840a09151b2bb8a29efcf",
       "placeholder": "AKS Azure Region",
       "style": "IPY_MODEL_15f3a9565e934223b54bb957b36f2829",
       "value": "eastus"
      }
     },
     "c9faa0989e6048329d5f1e90f8164ffe": {
      "model_module": "@jupyter-widgets/controls",
      "model_module_version": "1.5.0",
      "model_name": "DescriptionStyleModel",
      "state": {
       "description_width": ""
      }
     },
     "ca0bbd55dc0a40b4bfa80fa60907c05d": {
      "model_module": "@jupyter-widgets/base",
      "model_module_version": "1.2.0",
      "model_name": "LayoutModel",
      "state": {}
     },
     "ca1f5f121b1549eab0adf80c9d78c72d": {
      "model_module": "@jupyter-widgets/controls",
      "model_module_version": "1.5.0",
      "model_name": "ButtonModel",
      "state": {
       "description": "Use existing",
       "layout": "IPY_MODEL_ad2665060c1545d889a122ae84d81069",
       "style": "IPY_MODEL_5f185ad7c2ce4c87862c556f5b1c907f",
       "tooltip": "Use an existing resource."
      }
     },
     "ca29dcf5b5384fe286456edc6168a6e3": {
      "model_module": "@jupyter-widgets/controls",
      "model_module_version": "1.5.0",
      "model_name": "TextModel",
      "state": {
       "description": "aks_location",
       "layout": "IPY_MODEL_f59faab9cfd74691b90e028d62fd6aca",
       "placeholder": "AKS Azure Region",
       "style": "IPY_MODEL_4b06a0fd1df44744a8e213c5d2889dc8",
       "value": "eastus"
      }
     },
     "ca5877e2a6dc4d46a473cf4f39b79475": {
      "model_module": "@jupyter-widgets/base",
      "model_module_version": "1.2.0",
      "model_name": "LayoutModel",
      "state": {}
     },
     "caacfe311f494ed991d75140bae741a8": {
      "model_module": "@jupyter-widgets/controls",
      "model_module_version": "1.5.0",
      "model_name": "HBoxModel",
      "state": {
       "children": [
        "IPY_MODEL_ea1b4aaf949c4d1990aca4669b261218",
        "IPY_MODEL_2f3194623e90493cb3a998712525acb4"
       ],
       "layout": "IPY_MODEL_ffa8f60c57ca476390835d7698545dcd"
      }
     },
     "cac56f954f8445c5a21c2f789b17c40b": {
      "model_module": "@jupyter-widgets/controls",
      "model_module_version": "1.5.0",
      "model_name": "TextModel",
      "state": {
       "description": "experiment_name",
       "layout": "IPY_MODEL_05585126a3e54986991cc076cda1c2e4",
       "placeholder": "cpu cores for web service",
       "style": "IPY_MODEL_bd474e75bb6e490fa42aecff49d9276c",
       "value": "mlaks-train-on-local"
      }
     },
     "cad65ff146c54a3c9434f75d98ab77cb": {
      "model_module": "@jupyter-widgets/controls",
      "model_module_version": "1.5.0",
      "model_name": "DescriptionStyleModel",
      "state": {
       "description_width": ""
      }
     },
     "cada35b58b6a46f8b3c0d2fea9cf864e": {
      "model_module": "@jupyter-widgets/controls",
      "model_module_version": "1.5.0",
      "model_name": "DescriptionStyleModel",
      "state": {
       "description_width": ""
      }
     },
     "cadbbd3bf51341d5b8dc76aa29095013": {
      "model_module": "@jupyter-widgets/controls",
      "model_module_version": "1.5.0",
      "model_name": "ButtonModel",
      "state": {
       "description": "Use existing",
       "layout": "IPY_MODEL_2eaf61b837ab4113bad8f3fe821128aa",
       "style": "IPY_MODEL_29a0fd2de10c4b379d30d07513808c7d",
       "tooltip": "Use an existing resource."
      }
     },
     "caf84984de05453dbb333d067ecb1b0e": {
      "model_module": "@jupyter-widgets/base",
      "model_module_version": "1.2.0",
      "model_name": "LayoutModel",
      "state": {}
     },
     "caf9d24df63e491baaed4eb9595234e2": {
      "model_module": "@jupyter-widgets/base",
      "model_module_version": "1.2.0",
      "model_name": "LayoutModel",
      "state": {}
     },
     "cafde821e7bb4489986c5f381a4c36de": {
      "model_module": "@jupyter-widgets/base",
      "model_module_version": "1.2.0",
      "model_name": "LayoutModel",
      "state": {}
     },
     "cb3f3e3addbf407da220b53a310df618": {
      "model_module": "@jupyter-widgets/controls",
      "model_module_version": "1.5.0",
      "model_name": "ButtonStyleModel",
      "state": {}
     },
     "cb5556ab3eae4bb4ba42a1db4d05eaf5": {
      "model_module": "@jupyter-widgets/controls",
      "model_module_version": "1.5.0",
      "model_name": "TextModel",
      "state": {
       "description": "aks_name",
       "layout": "IPY_MODEL_6e6a1ce159fc4f2d8760282140b40048",
       "placeholder": "AKS Cluster Name",
       "style": "IPY_MODEL_f06f419764c2426da4bf5b8479151720",
       "value": "akscluster2"
      }
     },
     "cb62d9eb65e94ede820b9dc96959d0c6": {
      "model_module": "@jupyter-widgets/controls",
      "model_module_version": "1.5.0",
      "model_name": "DropdownModel",
      "state": {
       "_options_labels": [
        "AG-CE-AI-GPU-EXPERIMENTATION",
        "AG-AzureCAT-AITao-Test-COGSNonProd-IO1685734",
        "AG-CE-AI-DEVOPS",
        "AG-AzureCAT-AIDemos-Test-COGSNonProd-IO1685734",
        "AGCE-AI-DELETE-Sharat",
        "AG-AzureCAT-AILab-Test-COGSNonProd-IO1685734",
        "Visual Studio Ultimate with MSDN",
        "AG-AzureCAT-AIDataPM-Test-COGSNonProd-IO1685743",
        "AG-AzureCAT-AIDanielle-Test-COGSNonProd-IO1685734",
        "AG-CE-AI-MN-CICOMMERCIAL",
        "AG-CE-AI-MN-INCUBATION",
        "AG-CE-AI-MN-OSS",
        "AG-CE-AI-MN-E2E",
        "AG-CE-AI-MN-HU",
        "AG-CE-AI-MN-SEISMIC",
        "AG-CE-AI-STORAGE",
        "AG-CE-AI-MN-RETAIL",
        "AG-CE-AI-FEEDBACK",
        "AG-CE-AI-MN-LAB",
        "Azure SDK Engineering System",
        "Epic-Edge-ES-ReproVMLab",
        "ES-Stream-Operations",
        "Core-ES-BranchManagement",
        "WDG-ES-RnD-GITTrain",
        "Cosmos_WDG_Core_BnB_100292",
        "Azure Stack Diagnostics CI and Production VaaS",
        "Edge DevTools Client",
        "Azure Stack CSS Labs",
        "AppInsight Test",
        "ddverify",
        "VSEng MadDog-RPS Telemetry",
        "CAT_Eng",
        "RPS-cloud-common-2",
        "Core-ES-WorkManagement",
        "Azure_Maps_MDP_Engineering",
        "Test/Demo - VipSwapper Operations",
        "COSINE-ES-Signing Azure Service",
        "AI Infra Build",
        "AG-CE-E2E-AI",
        "DEMO - how RepDemo are you",
        "ADS Demo Subscription",
        "AzureCAT E2E Blue Steel",
        "Azure Search DEV Service Layer (kmort,miwelsh,bohuan)"
       ],
       "description": "subscription_id",
       "index": 2,
       "layout": "IPY_MODEL_4ac39c43c0e840ba9094c9b236406ebb",
       "style": "IPY_MODEL_2128888627af425b95183845908d3712"
      }
     },
     "cb78cefb6bb9417a83ada3ef20232f64": {
      "model_module": "@jupyter-widgets/controls",
      "model_module_version": "1.5.0",
      "model_name": "VBoxModel",
      "state": {
       "children": [
        "IPY_MODEL_f4dfaa25907d437d88b02e7b80b7348e",
        "IPY_MODEL_7d8864bb1f194b729f4baf7b8740a335",
        "IPY_MODEL_22786073554f4a8f900b297c04b6cd52",
        "IPY_MODEL_8f8695630fd4417e91f55dc77f5d52c8",
        "IPY_MODEL_64337c89c64c4214a8de5e34592080bb",
        "IPY_MODEL_ad3c88f366724466af1446b83a8dc09a",
        "IPY_MODEL_0fbfb34df569422b876bc600e35823d4",
        "IPY_MODEL_1eeb07b8a4f748299874d68d0eb42f28",
        "IPY_MODEL_32c015c9f99e4a2e9defed7d7326a12c",
        "IPY_MODEL_beb57c00f66d4f6fbad3d7587c25c6cf",
        "IPY_MODEL_640638404f9d4da78a2e4eb873d683e6",
        "IPY_MODEL_d954e5a4258248d9b8128fd369792b48",
        "IPY_MODEL_eefee330eb7440a4a57d2bca0d032fd0",
        "IPY_MODEL_41f7c3140d6b42509f6d3cfdf130f5a5",
        "IPY_MODEL_38026793e6b342afaf76aab7c26e0365"
       ],
       "layout": "IPY_MODEL_da942af3f2b445bc82ce36e4117c3984"
      }
     },
     "cb7b1a5998124180829872bc6f3f0c1c": {
      "model_module": "@jupyter-widgets/controls",
      "model_module_version": "1.5.0",
      "model_name": "ButtonStyleModel",
      "state": {}
     },
     "cb80a89d695c494fbc93ad727151ebce": {
      "model_module": "@jupyter-widgets/controls",
      "model_module_version": "1.5.0",
      "model_name": "ButtonStyleModel",
      "state": {}
     },
     "cb8b30d034f74b6d9fe62160fc879769": {
      "model_module": "@jupyter-widgets/base",
      "model_module_version": "1.2.0",
      "model_name": "LayoutModel",
      "state": {}
     },
     "cbc62dd6fee84643803df74bfd0fdbbc": {
      "model_module": "@jupyter-widgets/controls",
      "model_module_version": "1.5.0",
      "model_name": "HBoxModel",
      "state": {
       "children": [
        "IPY_MODEL_11ca10e15d1241cdb4c98de92b98ba86"
       ],
       "layout": "IPY_MODEL_27d5900a43ab445dae3976863570539b"
      }
     },
     "cbe9b6313c9d40d6aba8908ef9c2a5d4": {
      "model_module": "@jupyter-widgets/base",
      "model_module_version": "1.2.0",
      "model_name": "LayoutModel",
      "state": {}
     },
     "cc0538a0280343849c28e04b252dcc9e": {
      "model_module": "@jupyter-widgets/base",
      "model_module_version": "1.2.0",
      "model_name": "LayoutModel",
      "state": {}
     },
     "cc318bbf8b624daa864ba1c377c2b792": {
      "model_module": "@jupyter-widgets/base",
      "model_module_version": "1.2.0",
      "model_name": "LayoutModel",
      "state": {}
     },
     "cc4481fb979e4fc5b730353e3f3f6510": {
      "model_module": "@jupyter-widgets/controls",
      "model_module_version": "1.5.0",
      "model_name": "DescriptionStyleModel",
      "state": {
       "description_width": ""
      }
     },
     "cc4b5b9bd8a04d9781e23be2b9bc99aa": {
      "model_module": "@jupyter-widgets/controls",
      "model_module_version": "1.5.0",
      "model_name": "DescriptionStyleModel",
      "state": {
       "description_width": ""
      }
     },
     "cc655d1edbe44062a1cd4395fb8c38e6": {
      "model_module": "@jupyter-widgets/controls",
      "model_module_version": "1.5.0",
      "model_name": "TextModel",
      "state": {
       "description": "num_estimators",
       "layout": "IPY_MODEL_392e729668d7416ab160b41a67b003be",
       "placeholder": "number of replicas in Kubernetes cluster",
       "style": "IPY_MODEL_5afe345792164dd18cb87c3035aa3296",
       "value": "2"
      }
     },
     "cc9afc302e4041688117dbd5928e0d60": {
      "model_module": "@jupyter-widgets/base",
      "model_module_version": "1.2.0",
      "model_name": "LayoutModel",
      "state": {}
     },
     "cca26d98501d4751be3c72328468dd88": {
      "model_module": "@jupyter-widgets/base",
      "model_module_version": "1.2.0",
      "model_name": "LayoutModel",
      "state": {}
     },
     "ccacc34cbf1144149e7b49a4b3c6871c": {
      "model_module": "@jupyter-widgets/base",
      "model_module_version": "1.2.0",
      "model_name": "LayoutModel",
      "state": {}
     },
     "cccc5e0be29f4eea8d0a84d079a6ee3a": {
      "model_module": "@jupyter-widgets/controls",
      "model_module_version": "1.5.0",
      "model_name": "TextModel",
      "state": {
       "description": "deep_image_name",
       "layout": "IPY_MODEL_bfda199fd24745e1977909d399803c2c",
       "placeholder": "Docker Container Image Name",
       "style": "IPY_MODEL_782ca9d18a1e47cbb561f82f1715fdfe",
       "value": "mydeepimage"
      }
     },
     "cccce5dcb9e04492b1927b9a0f87bea7": {
      "model_module": "@jupyter-widgets/controls",
      "model_module_version": "1.5.0",
      "model_name": "ButtonModel",
      "state": {
       "description": "Use existing",
       "layout": "IPY_MODEL_677e3061f1994b19aa1aacd9185580c5",
       "style": "IPY_MODEL_0fbf62ebaeed408c81c312cf872fca31",
       "tooltip": "Use an existing resource."
      }
     },
     "ccd80b2b70f9440a8d35c0290bf7274e": {
      "model_module": "@jupyter-widgets/controls",
      "model_module_version": "1.5.0",
      "model_name": "ButtonModel",
      "state": {
       "description": "Use existing",
       "icon": "check",
       "layout": "IPY_MODEL_7313065ea40e4479ba0f9d58bcde3333",
       "style": "IPY_MODEL_9ac5757f7945473684f04fa5a690b00b",
       "tooltip": "Use an existing resource."
      }
     },
     "ccff25a0c34a4e87a12385e2ae42d9e5": {
      "model_module": "@jupyter-widgets/controls",
      "model_module_version": "1.5.0",
      "model_name": "DescriptionStyleModel",
      "state": {
       "description_width": ""
      }
     },
     "cd293914c84b4fc18b10fe258292b7a9": {
      "model_module": "@jupyter-widgets/base",
      "model_module_version": "1.2.0",
      "model_name": "LayoutModel",
      "state": {}
     },
     "cd867d2acef64e03bc7a9322be672744": {
      "model_module": "@jupyter-widgets/controls",
      "model_module_version": "1.5.0",
      "model_name": "DescriptionStyleModel",
      "state": {
       "description_width": ""
      }
     },
     "cebd8dd249194fffbcc1ae6c295fdce1": {
      "model_module": "@jupyter-widgets/controls",
      "model_module_version": "1.5.0",
      "model_name": "ButtonStyleModel",
      "state": {}
     },
     "cecd29f5289c4d2a965ee8164bc86f92": {
      "model_module": "@jupyter-widgets/base",
      "model_module_version": "1.2.0",
      "model_name": "LayoutModel",
      "state": {}
     },
     "cf187f8ef08f47a8ad971b53c4a2fd88": {
      "model_module": "@jupyter-widgets/controls",
      "model_module_version": "1.5.0",
      "model_name": "HBoxModel",
      "state": {
       "children": [
        "IPY_MODEL_674fe85b90d94c13ba3d8ba29f1204b1"
       ],
       "layout": "IPY_MODEL_1710f67f4ab840e99ec17545d9f2d8f4"
      }
     },
     "cf1d6df7c7c949edad57d1e934c90949": {
      "model_module": "@jupyter-widgets/controls",
      "model_module_version": "1.5.0",
      "model_name": "DescriptionStyleModel",
      "state": {
       "description_width": ""
      }
     },
     "cf23359550614c729fa3ff171128d003": {
      "model_module": "@jupyter-widgets/base",
      "model_module_version": "1.2.0",
      "model_name": "LayoutModel",
      "state": {}
     },
     "cf8d171c7757415ab0b150eac82f48c8": {
      "model_module": "@jupyter-widgets/controls",
      "model_module_version": "1.5.0",
      "model_name": "DescriptionStyleModel",
      "state": {
       "description_width": ""
      }
     },
     "cf9b0d0fffe046c096b083d46fcc89ee": {
      "model_module": "@jupyter-widgets/base",
      "model_module_version": "1.2.0",
      "model_name": "LayoutModel",
      "state": {}
     },
     "cf9c3af3ddf44efdb26d944298dd25cc": {
      "model_module": "@jupyter-widgets/controls",
      "model_module_version": "1.5.0",
      "model_name": "TextModel",
      "state": {
       "description": "aks_service_name",
       "layout": "IPY_MODEL_a2911cb3c3114cc28bedb3a6a258a830",
       "placeholder": "AKS Service Name",
       "style": "IPY_MODEL_ba61f06869ff4d249579d600bb09b518",
       "value": "aksservice2"
      }
     },
     "cfaf4455b53e431fab59ed979ca7dd92": {
      "model_module": "@jupyter-widgets/base",
      "model_module_version": "1.2.0",
      "model_name": "LayoutModel",
      "state": {}
     },
     "d0077717ad954291a1475fe83d4f3ed4": {
      "model_module": "@jupyter-widgets/controls",
      "model_module_version": "1.5.0",
      "model_name": "TextModel",
      "state": {
       "description": "deep_image_name",
       "layout": "IPY_MODEL_080883368591464993c65537abf4f201",
       "placeholder": "Docker Container Image Name",
       "style": "IPY_MODEL_f7ead99768474976abac8dea52e98dd8",
       "value": "mydeepimage"
      }
     },
     "d01094a2a1a44f509c9f6d4b8e5e4115": {
      "model_module": "@jupyter-widgets/controls",
      "model_module_version": "1.5.0",
      "model_name": "ButtonStyleModel",
      "state": {}
     },
     "d025d60f0828472eb3f5a0a787219a19": {
      "model_module": "@jupyter-widgets/controls",
      "model_module_version": "1.5.0",
      "model_name": "DescriptionStyleModel",
      "state": {
       "description_width": ""
      }
     },
     "d057266b50ae41c2a3dc232bc6d6ac97": {
      "model_module": "@jupyter-widgets/base",
      "model_module_version": "1.2.0",
      "model_name": "LayoutModel",
      "state": {}
     },
     "d06b7fe1d32e44df853a55334e5d6e8b": {
      "model_module": "@jupyter-widgets/base",
      "model_module_version": "1.2.0",
      "model_name": "LayoutModel",
      "state": {}
     },
     "d075191cd2c34ac2a96480d5d59ad6b8": {
      "model_module": "@jupyter-widgets/controls",
      "model_module_version": "1.5.0",
      "model_name": "DescriptionStyleModel",
      "state": {
       "description_width": ""
      }
     },
     "d0979d7734584ffd8f6cd67a9cdd7cf6": {
      "model_module": "@jupyter-widgets/output",
      "model_module_version": "1.0.0",
      "model_name": "OutputModel",
      "state": {
       "layout": "IPY_MODEL_8afe7747792c4e668a263f0bcdfd88f3"
      }
     },
     "d0a1f59e45414f84af5ce1825f35802e": {
      "model_module": "@jupyter-widgets/controls",
      "model_module_version": "1.5.0",
      "model_name": "DescriptionStyleModel",
      "state": {
       "description_width": ""
      }
     },
     "d0b0ae05bc284ec680841558a8067e82": {
      "model_module": "@jupyter-widgets/output",
      "model_module_version": "1.0.0",
      "model_name": "OutputModel",
      "state": {
       "layout": "IPY_MODEL_8ab1cd35741c4c5aac94750421cfd1f4"
      }
     },
     "d0db4eb2cbeb43aeab297ae0f2a64331": {
      "model_module": "@jupyter-widgets/controls",
      "model_module_version": "1.5.0",
      "model_name": "DescriptionStyleModel",
      "state": {
       "description_width": ""
      }
     },
     "d0ee6972c9b14fbab25706d92e33d607": {
      "model_module": "@jupyter-widgets/base",
      "model_module_version": "1.2.0",
      "model_name": "LayoutModel",
      "state": {}
     },
     "d115b0c0aabe4fa59c6a9753f5ca8b54": {
      "model_module": "@jupyter-widgets/controls",
      "model_module_version": "1.5.0",
      "model_name": "TextModel",
      "state": {
       "description": "aks_service_name",
       "layout": "IPY_MODEL_0f196acd9883444cbde8f3448a031f99",
       "placeholder": "AKS Service Name",
       "style": "IPY_MODEL_25ba64cade7a461bbbb277a5e2b4a4ad"
      }
     },
     "d134b7bfc9b84a6c9f83d085d474b9e8": {
      "model_module": "@jupyter-widgets/controls",
      "model_module_version": "1.5.0",
      "model_name": "ButtonModel",
      "state": {
       "button_style": "success",
       "description": "Load Upload",
       "icon": "check",
       "layout": "IPY_MODEL_406d33d5402d4d87bdfcb66edaf1b05e",
       "style": "IPY_MODEL_c85a8b8c4d214fe0922436cf9c67699a",
       "tooltip": "Click to save settings to file."
      }
     },
     "d13fb6bd29db461ea5fd69b06887da3d": {
      "model_module": "@jupyter-widgets/controls",
      "model_module_version": "1.5.0",
      "model_name": "TextModel",
      "state": {
       "description": "aks_location",
       "layout": "IPY_MODEL_785e22b1598d4c53b4192cdc67f6cbf8",
       "placeholder": "AKS Azure Region",
       "style": "IPY_MODEL_bb251aab033b44caaade83aee69fa926",
       "value": "eastus"
      }
     },
     "d15451f3681a407a8947d95b1865022c": {
      "model_module": "@jupyter-widgets/base",
      "model_module_version": "1.2.0",
      "model_name": "LayoutModel",
      "state": {}
     },
     "d155983fe65f4607b80a45e9db4596c9": {
      "model_module": "@jupyter-widgets/base",
      "model_module_version": "1.2.0",
      "model_name": "LayoutModel",
      "state": {}
     },
     "d1758c82d5ff4fd99169f70b2982d582": {
      "model_module": "@jupyter-widgets/controls",
      "model_module_version": "1.5.0",
      "model_name": "HBoxModel",
      "state": {
       "children": [
        "IPY_MODEL_96d7538c5b844f13b074a5530cd660f7"
       ],
       "layout": "IPY_MODEL_73420a3d0b9e464c856aef2147c3c0df"
      }
     },
     "d18a29895ec849358daf50c3d69ed846": {
      "model_module": "@jupyter-widgets/controls",
      "model_module_version": "1.5.0",
      "model_name": "ButtonStyleModel",
      "state": {}
     },
     "d19385c51a8249a1a6928c41b2a57a60": {
      "model_module": "@jupyter-widgets/base",
      "model_module_version": "1.2.0",
      "model_name": "LayoutModel",
      "state": {}
     },
     "d1ad25b05b54421ab784d4b89d6ab22f": {
      "model_module": "@jupyter-widgets/controls",
      "model_module_version": "1.5.0",
      "model_name": "DescriptionStyleModel",
      "state": {
       "description_width": ""
      }
     },
     "d1bda0b3f7ca436992fd8f8b6b8496d8": {
      "model_module": "@jupyter-widgets/base",
      "model_module_version": "1.2.0",
      "model_name": "LayoutModel",
      "state": {}
     },
     "d2014c14d51c471d8a3d020dce539f03": {
      "model_module": "@jupyter-widgets/base",
      "model_module_version": "1.2.0",
      "model_name": "LayoutModel",
      "state": {}
     },
     "d2042331ba3d425eb3442d12fd763b75": {
      "model_module": "@jupyter-widgets/base",
      "model_module_version": "1.2.0",
      "model_name": "LayoutModel",
      "state": {}
     },
     "d20bd0e177d94869ac179e64e49a9185": {
      "model_module": "@jupyter-widgets/controls",
      "model_module_version": "1.5.0",
      "model_name": "VBoxModel",
      "state": {
       "children": [
        "IPY_MODEL_d77bad1296a6410a89bfb9661b8af59f",
        "IPY_MODEL_b8f79b6742234b009cd5ea9fa6d4b1c0",
        "IPY_MODEL_5246e87589e64404b84c2fe2f80fbddc",
        "IPY_MODEL_b60c2ac6baee44bdb7c7d474417a42c4",
        "IPY_MODEL_22299d4eb39c42b69582a369426065a1",
        "IPY_MODEL_be5185c187784cef97566420737b875d",
        "IPY_MODEL_5051b7b1cab046f0a1e045ed2030b89e",
        "IPY_MODEL_37bb855b851c4c589d3a2c98e586892a",
        "IPY_MODEL_c4289e846f474bb4bac8f760d079a11c",
        "IPY_MODEL_3ec5cdafcbaf4b958947b9368f5d80e3",
        "IPY_MODEL_b377958a4667453cbd2694dbdda9bfde",
        "IPY_MODEL_7778679340e547888f1ab9e845df9613",
        "IPY_MODEL_11456c7858a142a5aa736288f7774df6",
        "IPY_MODEL_580726a3460c4993aa41417e162a2bce",
        "IPY_MODEL_22f29d79482c41bb8312adad420c41f7"
       ],
       "layout": "IPY_MODEL_d57c7e5968e247778e2114156819efb9"
      }
     },
     "d216cdd7d7de470a9bce3d92d49e3347": {
      "model_module": "@jupyter-widgets/controls",
      "model_module_version": "1.5.0",
      "model_name": "TextModel",
      "state": {
       "description": "resource_group",
       "layout": "IPY_MODEL_0b5c5e18eccc4fb080fb5db88479216e",
       "placeholder": "Azure Resource Group Name",
       "style": "IPY_MODEL_1d5e7bc24bb14485901d6892cdc5075e"
      }
     },
     "d220b3b109a5405cac9fc81f4e92787c": {
      "model_module": "@jupyter-widgets/base",
      "model_module_version": "1.2.0",
      "model_name": "LayoutModel",
      "state": {}
     },
     "d2327c4dda3d4e07b20568380a770264": {
      "model_module": "@jupyter-widgets/controls",
      "model_module_version": "1.5.0",
      "model_name": "TextModel",
      "state": {
       "description": "workspace_name",
       "layout": "IPY_MODEL_2cf205c3b4f8451d8fb7dd8a6d9b8440",
       "placeholder": "Azure ML Workspace Name",
       "style": "IPY_MODEL_63ca7ce5c8834e16960c667ee25ec218",
       "value": "azmlrts-eastus"
      }
     },
     "d2676a0e25f543559990e2f8e0506297": {
      "model_module": "@jupyter-widgets/controls",
      "model_module_version": "1.5.0",
      "model_name": "DescriptionStyleModel",
      "state": {
       "description_width": ""
      }
     },
     "d26ac1ecddc54c9998b56ff128d66faf": {
      "model_module": "@jupyter-widgets/base",
      "model_module_version": "1.2.0",
      "model_name": "LayoutModel",
      "state": {}
     },
     "d27ac174df1d4480b35aa46b1b4570f4": {
      "model_module": "@jupyter-widgets/base",
      "model_module_version": "1.2.0",
      "model_name": "LayoutModel",
      "state": {}
     },
     "d27e3e4257834feab7217d890261241b": {
      "model_module": "@jupyter-widgets/base",
      "model_module_version": "1.2.0",
      "model_name": "LayoutModel",
      "state": {}
     },
     "d283894ed74b42b49412d5746e941d53": {
      "model_module": "@jupyter-widgets/controls",
      "model_module_version": "1.5.0",
      "model_name": "TextModel",
      "state": {
       "description": "deep_image_name",
       "layout": "IPY_MODEL_06839ca6a7234a7284a899ab8fc9639b",
       "placeholder": "Docker Container Image Name",
       "style": "IPY_MODEL_07f984a463554a6eb33e6fd7a4893cd3",
       "value": "mydeepimage"
      }
     },
     "d28bd61678434b7c83debadace77587a": {
      "model_module": "@jupyter-widgets/controls",
      "model_module_version": "1.5.0",
      "model_name": "DescriptionStyleModel",
      "state": {
       "description_width": ""
      }
     },
     "d28e401a764947f695c6054a09b4d0d3": {
      "model_module": "@jupyter-widgets/output",
      "model_module_version": "1.0.0",
      "model_name": "OutputModel",
      "state": {
       "layout": "IPY_MODEL_fc78699d9aec49d8b565ea15819db6c8"
      }
     },
     "d298c90c2ade467cab32288f477a4014": {
      "model_module": "@jupyter-widgets/base",
      "model_module_version": "1.2.0",
      "model_name": "LayoutModel",
      "state": {}
     },
     "d2b33e52ec3f43fc9c519ac4a537b28d": {
      "model_module": "@jupyter-widgets/controls",
      "model_module_version": "1.5.0",
      "model_name": "DescriptionStyleModel",
      "state": {
       "description_width": ""
      }
     },
     "d2b4e49825594e1db43e6a00ec797569": {
      "model_module": "@jupyter-widgets/base",
      "model_module_version": "1.2.0",
      "model_name": "LayoutModel",
      "state": {}
     },
     "d2e31500f9154b8bbf0b45fd60a7a211": {
      "model_module": "@jupyter-widgets/controls",
      "model_module_version": "1.5.0",
      "model_name": "ButtonModel",
      "state": {
       "description": "Save Upload",
       "icon": "check",
       "layout": "IPY_MODEL_7388d51d25c344b49393b6f1d8659a9f",
       "style": "IPY_MODEL_f4a457a277114bc5a91c293bf2c31ff1",
       "tooltip": "Click to save settings to file."
      }
     },
     "d3124a6c932e4aa285e87d80f5540deb": {
      "model_module": "@jupyter-widgets/controls",
      "model_module_version": "1.5.0",
      "model_name": "HBoxModel",
      "state": {
       "children": [
        "IPY_MODEL_ab59b534b4ee40deb89a602722c63c94"
       ],
       "layout": "IPY_MODEL_36cda167f4d746e7a445a6b9ff059ca8"
      }
     },
     "d339b9aeb48243dd9ea5f4779d0ff9e6": {
      "model_module": "@jupyter-widgets/controls",
      "model_module_version": "1.5.0",
      "model_name": "TextModel",
      "state": {
       "description": "script",
       "layout": "IPY_MODEL_c8e5f0fdb31e484aa4156bf6e3d008dc",
       "placeholder": "cpu cores for web service",
       "style": "IPY_MODEL_05880af50e274b8c9c229404307a9286",
       "value": "create_model.py"
      }
     },
     "d35407fcfe764532a6e1dfeeee1aa970": {
      "model_module": "@jupyter-widgets/controls",
      "model_module_version": "1.5.0",
      "model_name": "DescriptionStyleModel",
      "state": {
       "description_width": ""
      }
     },
     "d358575acdde42c897bb3a02c48f5121": {
      "model_module": "@jupyter-widgets/base",
      "model_module_version": "1.2.0",
      "model_name": "LayoutModel",
      "state": {}
     },
     "d35a1a5e876d427684039187c0a60041": {
      "model_module": "@jupyter-widgets/controls",
      "model_module_version": "1.5.0",
      "model_name": "DescriptionStyleModel",
      "state": {
       "description_width": ""
      }
     },
     "d3d0b7e3141541aab71e1f22f42f0392": {
      "model_module": "@jupyter-widgets/controls",
      "model_module_version": "1.5.0",
      "model_name": "TextModel",
      "state": {
       "description": "aks_location",
       "layout": "IPY_MODEL_f8e3e1568c164327bd46124518956e94",
       "placeholder": "AKS Azure Region",
       "style": "IPY_MODEL_df4682cfad284882bccea4359a1f2cfe",
       "value": "eastus"
      }
     },
     "d3e4a87624c94165a213723f436df61e": {
      "model_module": "@jupyter-widgets/controls",
      "model_module_version": "1.5.0",
      "model_name": "ButtonModel",
      "state": {
       "description": "Use existing",
       "layout": "IPY_MODEL_c2b7c892399345caad8198f7af824431",
       "style": "IPY_MODEL_54b2d9270d844fb2bc816e63ad44a944",
       "tooltip": "Use an existing resource."
      }
     },
     "d3f9416cc0cf48ad9f09c78a256fec6c": {
      "model_module": "@jupyter-widgets/controls",
      "model_module_version": "1.5.0",
      "model_name": "TextModel",
      "state": {
       "description": "deep_aks_name",
       "layout": "IPY_MODEL_6e62d75ebbbb471597a98f0a7eb7c8bf",
       "placeholder": "AKS Cluster Name",
       "style": "IPY_MODEL_bcd338f9462a47c0a8bce78031015533",
       "value": "deepakscluster"
      }
     },
     "d42baee3b1a04099b172427a37da5db6": {
      "model_module": "@jupyter-widgets/controls",
      "model_module_version": "1.5.0",
      "model_name": "DropdownModel",
      "state": {
       "_options_labels": [
        "eastus",
        "eastus2",
        "canadacentral",
        "centralus",
        "northcentralus",
        "southcentralus",
        "westcentralus",
        "westus",
        "westus2"
       ],
       "description": "workspace_region",
       "index": 0,
       "layout": "IPY_MODEL_dc0f4543a27b49a6811e3fcfeaebd9ad",
       "style": "IPY_MODEL_591fb78e37fc4a71a958bd38d632d24e"
      }
     },
     "d43ab043fae146fdbebb8fc9266beefc": {
      "model_module": "@jupyter-widgets/controls",
      "model_module_version": "1.5.0",
      "model_name": "DescriptionStyleModel",
      "state": {
       "description_width": ""
      }
     },
     "d43d0070183f449ebac857930f46278c": {
      "model_module": "@jupyter-widgets/controls",
      "model_module_version": "1.5.0",
      "model_name": "HBoxModel",
      "state": {
       "children": [
        "IPY_MODEL_e6df207a7c094fa4943cab6edfe69b63",
        "IPY_MODEL_38663b1a38504e05a977b413d99435c5"
       ],
       "layout": "IPY_MODEL_b164de9753b24c9b9d12204646ca968b"
      }
     },
     "d442a09675e446f7bfb732071c780cf9": {
      "model_module": "@jupyter-widgets/base",
      "model_module_version": "1.2.0",
      "model_name": "LayoutModel",
      "state": {}
     },
     "d46c56a1bab349dabf23b7f12eed0a92": {
      "model_module": "@jupyter-widgets/controls",
      "model_module_version": "1.5.0",
      "model_name": "HBoxModel",
      "state": {
       "children": [
        "IPY_MODEL_9d03cc6e3dfc4f2c92c00882908fffcb"
       ],
       "layout": "IPY_MODEL_f24a52a285544982afd940303f624e0e"
      }
     },
     "d4c3d0bbe1794315be3bd9294a869750": {
      "model_module": "@jupyter-widgets/controls",
      "model_module_version": "1.5.0",
      "model_name": "DescriptionStyleModel",
      "state": {
       "description_width": ""
      }
     },
     "d4d287e3c992463fa2202dd8398619ed": {
      "model_module": "@jupyter-widgets/controls",
      "model_module_version": "1.5.0",
      "model_name": "FileUploadModel",
      "state": {
       "accept": ".yml",
       "description_tooltip": null,
       "layout": "IPY_MODEL_04cc3710a0024e9f82d0c987e25264f5",
       "style": "IPY_MODEL_dc22d3d2574e41beb1e09532dc5834f3"
      }
     },
     "d4d7417baa9b4a42af64aa345d344ac9": {
      "model_module": "@jupyter-widgets/controls",
      "model_module_version": "1.5.0",
      "model_name": "DescriptionStyleModel",
      "state": {
       "description_width": ""
      }
     },
     "d4db657f925648dfb563cacbcb2c11b3": {
      "model_module": "@jupyter-widgets/controls",
      "model_module_version": "1.5.0",
      "model_name": "ButtonModel",
      "state": {
       "description": "Use existing",
       "layout": "IPY_MODEL_c00c4e78e0ee4ed6a7e8d765eea2d91c",
       "style": "IPY_MODEL_b753018ada244f2ebeb199a14316e0b4",
       "tooltip": "Use an existing resource."
      }
     },
     "d4fd0bf3f0754bc185185e3864bd7f87": {
      "model_module": "@jupyter-widgets/controls",
      "model_module_version": "1.5.0",
      "model_name": "TextModel",
      "state": {
       "description": "aks_location",
       "layout": "IPY_MODEL_45d525ec21fd445fb8f708b94d86bf86",
       "placeholder": "AKS Azure Region",
       "style": "IPY_MODEL_91f2a696ef214771b9a01c9b105e0127",
       "value": "eastus"
      }
     },
     "d51c9bd0deaa4e7db9c8be517bf0d201": {
      "model_module": "@jupyter-widgets/controls",
      "model_module_version": "1.5.0",
      "model_name": "TextModel",
      "state": {
       "description": "deep_aks_location",
       "layout": "IPY_MODEL_a91f3d3da6874c7ebadf7607528906f3",
       "placeholder": "AKS Azure Region",
       "style": "IPY_MODEL_8a354da966f94dbc8f9bf2ddbf52bf77",
       "value": "eastus"
      }
     },
     "d52ac43d6d264a6db1d3069ce4d3ef17": {
      "model_module": "@jupyter-widgets/base",
      "model_module_version": "1.2.0",
      "model_name": "LayoutModel",
      "state": {}
     },
     "d53f342a44b3420cb9aeefdbe648122c": {
      "model_module": "@jupyter-widgets/controls",
      "model_module_version": "1.5.0",
      "model_name": "ButtonStyleModel",
      "state": {}
     },
     "d553a52231e74672bca7403cbf5ec1e1": {
      "model_module": "@jupyter-widgets/controls",
      "model_module_version": "1.5.0",
      "model_name": "TextModel",
      "state": {
       "description": "resource_group",
       "layout": "IPY_MODEL_22654013dc4d4b7384d8a948448d9540",
       "placeholder": "Azure Resource Group Name",
       "style": "IPY_MODEL_d2b33e52ec3f43fc9c519ac4a537b28d"
      }
     },
     "d569df9173df46db9d9a1bbcd94bc027": {
      "model_module": "@jupyter-widgets/controls",
      "model_module_version": "1.5.0",
      "model_name": "TextModel",
      "state": {
       "description": "subscription_id",
       "layout": "IPY_MODEL_8bbe1b95b6144bfeb4abb9fe762c0f92",
       "placeholder": "Azure Subscription Id",
       "style": "IPY_MODEL_d43ab043fae146fdbebb8fc9266beefc",
       "value": "0ca618d2-22a8-413a-96d0-0f1b531129c3"
      }
     },
     "d57c7e5968e247778e2114156819efb9": {
      "model_module": "@jupyter-widgets/base",
      "model_module_version": "1.2.0",
      "model_name": "LayoutModel",
      "state": {}
     },
     "d58cb321bf5c4a3084a97e4ed5c93eec": {
      "model_module": "@jupyter-widgets/controls",
      "model_module_version": "1.5.0",
      "model_name": "HBoxModel",
      "state": {
       "children": [
        "IPY_MODEL_4cd7ebbd917b4c3a9656411d5bb761ed"
       ],
       "layout": "IPY_MODEL_16c2ca8e9ccb4923a559022387fe4a4f"
      }
     },
     "d5b8c94e8dfe41ecbbc487f6189d8689": {
      "model_module": "@jupyter-widgets/controls",
      "model_module_version": "1.5.0",
      "model_name": "TextModel",
      "state": {
       "description": "resource_group",
       "layout": "IPY_MODEL_3260533683d248a68bb6004562a5576a",
       "placeholder": "Azure Resource Group Name",
       "style": "IPY_MODEL_160e21a3d6cc41378dad7cb125918dc1",
       "value": "azmlrts-eastus-stable"
      }
     },
     "d5bd4707062a44e49fe90d4454ff1ec6": {
      "model_module": "@jupyter-widgets/controls",
      "model_module_version": "1.5.0",
      "model_name": "DescriptionStyleModel",
      "state": {
       "description_width": ""
      }
     },
     "d5cd26a17f054f0babbf3cf848ea600a": {
      "model_module": "@jupyter-widgets/base",
      "model_module_version": "1.2.0",
      "model_name": "LayoutModel",
      "state": {}
     },
     "d5f6968460884a5b94665e16c286079e": {
      "model_module": "@jupyter-widgets/controls",
      "model_module_version": "1.5.0",
      "model_name": "HBoxModel",
      "state": {
       "children": [
        "IPY_MODEL_cf9c3af3ddf44efdb26d944298dd25cc",
        "IPY_MODEL_eb424c0390584767b1e8f14a68422a06"
       ],
       "layout": "IPY_MODEL_f7c7b63ed58b40288f24d5974fcec922"
      }
     },
     "d60a0777694249319eccff1810bc71ca": {
      "model_module": "@jupyter-widgets/base",
      "model_module_version": "1.2.0",
      "model_name": "LayoutModel",
      "state": {}
     },
     "d6a5e590e1b54635a3de4efe61c5003a": {
      "model_module": "@jupyter-widgets/controls",
      "model_module_version": "1.5.0",
      "model_name": "TextModel",
      "state": {
       "description": "deep_aks_name",
       "layout": "IPY_MODEL_26b2d00b10f941b59ddf34533d4edbef",
       "placeholder": "AKS Cluster Name",
       "style": "IPY_MODEL_e7efb17a3b53475dac64783d796f7323",
       "value": "deepakscluster"
      }
     },
     "d6fdf281bc284e5fb0ae06ed80b3c79a": {
      "model_module": "@jupyter-widgets/base",
      "model_module_version": "1.2.0",
      "model_name": "LayoutModel",
      "state": {}
     },
     "d701bf23f140405ba7f3ba0882a00b28": {
      "model_module": "@jupyter-widgets/base",
      "model_module_version": "1.2.0",
      "model_name": "LayoutModel",
      "state": {}
     },
     "d71ccdb6b6d24b5ea60dd83e5f6ae26e": {
      "model_module": "@jupyter-widgets/controls",
      "model_module_version": "1.5.0",
      "model_name": "DescriptionStyleModel",
      "state": {
       "description_width": ""
      }
     },
     "d7698f100fa04ed2b2375934d19f5a2a": {
      "model_module": "@jupyter-widgets/controls",
      "model_module_version": "1.5.0",
      "model_name": "TextModel",
      "state": {
       "description": "experiment_name",
       "layout": "IPY_MODEL_941254283086420c8fe9c3afbcbd41e7",
       "placeholder": "cpu cores for web service",
       "style": "IPY_MODEL_21b95876dae54b5fa618783ea037ae9e",
       "value": "mlaks-train-on-local"
      }
     },
     "d77bad1296a6410a89bfb9661b8af59f": {
      "model_module": "@jupyter-widgets/output",
      "model_module_version": "1.0.0",
      "model_name": "OutputModel",
      "state": {
       "layout": "IPY_MODEL_6e9ac9d72f954a7891dc6a4d3fd9ab4a"
      }
     },
     "d79d88a004bb42ab83a522a3a8e477f0": {
      "model_module": "@jupyter-widgets/controls",
      "model_module_version": "1.5.0",
      "model_name": "TextModel",
      "state": {
       "description": "deep_aks_service_name",
       "layout": "IPY_MODEL_e933ce1458854e3a82a21224d4d9ab5a",
       "placeholder": "AKS Service Name",
       "style": "IPY_MODEL_031b441b7595453ca47f39d9e73f18f1",
       "value": "deepaksservice"
      }
     },
     "d7b9329c9a9449d484ff0d82b8ad269c": {
      "model_module": "@jupyter-widgets/controls",
      "model_module_version": "1.5.0",
      "model_name": "DescriptionStyleModel",
      "state": {
       "description_width": ""
      }
     },
     "d7cec39689cb434083cfde0e2035f24c": {
      "model_module": "@jupyter-widgets/base",
      "model_module_version": "1.2.0",
      "model_name": "LayoutModel",
      "state": {}
     },
     "d7e6dafd007446698884c5ca298ce67c": {
      "model_module": "@jupyter-widgets/controls",
      "model_module_version": "1.5.0",
      "model_name": "ButtonStyleModel",
      "state": {}
     },
     "d82f85156fbb47269c35170615bd9807": {
      "model_module": "@jupyter-widgets/base",
      "model_module_version": "1.2.0",
      "model_name": "LayoutModel",
      "state": {}
     },
     "d8434c30aa434cd3894a57c288abf155": {
      "model_module": "@jupyter-widgets/controls",
      "model_module_version": "1.5.0",
      "model_name": "HBoxModel",
      "state": {
       "children": [
        "IPY_MODEL_1aa5948fd709499b84144de6f3352563",
        "IPY_MODEL_b80aa3bc49864b74ae89fbc1451e8b9e"
       ],
       "layout": "IPY_MODEL_2c5d0b831ea44dd094c82c837a37c6a7"
      }
     },
     "d859b928b93e4f51a2736165b5a595aa": {
      "model_module": "@jupyter-widgets/controls",
      "model_module_version": "1.5.0",
      "model_name": "TextModel",
      "state": {
       "description": "deep_aks_service_name",
       "layout": "IPY_MODEL_9ef9eb79ce9f4b3f90af4007d1ad1130",
       "placeholder": "AKS Service Name",
       "style": "IPY_MODEL_5e4fe98bacac4259bb1ccfd928f9f469",
       "value": "deepaksservice"
      }
     },
     "d8dddb074de34bbcba4c0ee33de6401d": {
      "model_module": "@jupyter-widgets/base",
      "model_module_version": "1.2.0",
      "model_name": "LayoutModel",
      "state": {}
     },
     "d8f092d09c5048d294e63e41cc4ca552": {
      "model_module": "@jupyter-widgets/controls",
      "model_module_version": "1.5.0",
      "model_name": "TextModel",
      "state": {
       "description": "deep_aks_service_name",
       "layout": "IPY_MODEL_e8719d72ecf04c9e867d15009f3cacec",
       "placeholder": "AKS Service Name",
       "style": "IPY_MODEL_e113f1717fd74325a84524b1e263a9f8",
       "value": "deepaksservice"
      }
     },
     "d9298a2523554fd58a51ebc35cf2b8bd": {
      "model_module": "@jupyter-widgets/controls",
      "model_module_version": "1.5.0",
      "model_name": "ButtonStyleModel",
      "state": {}
     },
     "d94c8eec0f2c40469db426905c86686d": {
      "model_module": "@jupyter-widgets/base",
      "model_module_version": "1.2.0",
      "model_name": "LayoutModel",
      "state": {}
     },
     "d94d8512b6424cfbbdadfdc2074bbf2c": {
      "model_module": "@jupyter-widgets/controls",
      "model_module_version": "1.5.0",
      "model_name": "HBoxModel",
      "state": {
       "children": [
        "IPY_MODEL_cc655d1edbe44062a1cd4395fb8c38e6"
       ],
       "layout": "IPY_MODEL_0f8c108abc504cd686c3b414b6b728d2"
      }
     },
     "d954e5a4258248d9b8128fd369792b48": {
      "model_module": "@jupyter-widgets/controls",
      "model_module_version": "1.5.0",
      "model_name": "TextModel",
      "state": {
       "description": "deep_aks_service_name",
       "layout": "IPY_MODEL_41b30e8687bd45878ec08402af515642",
       "placeholder": "AKS Service Name",
       "style": "IPY_MODEL_ffc5fc305b024553b216375a99522c3a",
       "value": "deepaksservice"
      }
     },
     "d9690b781e99483d9ab299123df31536": {
      "model_module": "@jupyter-widgets/controls",
      "model_module_version": "1.5.0",
      "model_name": "TextModel",
      "state": {
       "description": "workspace_region",
       "layout": "IPY_MODEL_524d041d95bf44409d6e0b4e1481deda",
       "placeholder": "Azure ML Workspace Region",
       "style": "IPY_MODEL_5431b795f0ec4b8288dc421fc46cddd1",
       "value": "eastus"
      }
     },
     "d997c83b7217441fb5fc8b62a3f0b666": {
      "model_module": "@jupyter-widgets/controls",
      "model_module_version": "1.5.0",
      "model_name": "TextModel",
      "state": {
       "description": "deep_aks_name",
       "layout": "IPY_MODEL_5c81b0fa73634740a06536cb53e851ab",
       "placeholder": "AKS Cluster Name",
       "style": "IPY_MODEL_e156fc773d354c658a396e424d3966fe",
       "value": "deepakscluster"
      }
     },
     "d9a87fb80de941a2a16feb2f548c5f75": {
      "model_module": "@jupyter-widgets/controls",
      "model_module_version": "1.5.0",
      "model_name": "DescriptionStyleModel",
      "state": {
       "description_width": ""
      }
     },
     "d9b9396bdeb94cb7ba3dadc941aa3916": {
      "model_module": "@jupyter-widgets/base",
      "model_module_version": "1.2.0",
      "model_name": "LayoutModel",
      "state": {}
     },
     "d9cbfae364114b04a80347410bbd1100": {
      "model_module": "@jupyter-widgets/controls",
      "model_module_version": "1.5.0",
      "model_name": "HBoxModel",
      "state": {
       "children": [
        "IPY_MODEL_7453b7e41e5441af8bbbd1b2d6280ccd",
        "IPY_MODEL_307bd592994d4f8c8b8bf4364b06af73"
       ],
       "layout": "IPY_MODEL_e887d96cf9434852914a73c7de9b82a4"
      }
     },
     "da04125e1b8c48599fb298591129bfd9": {
      "model_module": "@jupyter-widgets/controls",
      "model_module_version": "1.5.0",
      "model_name": "DescriptionStyleModel",
      "state": {
       "description_width": ""
      }
     },
     "da249aed619f4ee4a1ffe66cc1476811": {
      "model_module": "@jupyter-widgets/controls",
      "model_module_version": "1.5.0",
      "model_name": "DropdownModel",
      "state": {
       "_options_labels": [
        "AG-CE-AI-GPU-EXPERIMENTATION",
        "AG-AzureCAT-AITao-Test-COGSNonProd-IO1685734",
        "AG-CE-AI-DEVOPS",
        "AG-AzureCAT-AIDemos-Test-COGSNonProd-IO1685734",
        "AGCE-AI-DELETE-Sharat",
        "AG-AzureCAT-AILab-Test-COGSNonProd-IO1685734",
        "Visual Studio Ultimate with MSDN",
        "AG-AzureCAT-AIDataPM-Test-COGSNonProd-IO1685743",
        "AG-AzureCAT-AIDanielle-Test-COGSNonProd-IO1685734",
        "AG-CE-AI-MN-CICOMMERCIAL",
        "AG-CE-AI-MN-INCUBATION",
        "AG-CE-AI-MN-OSS",
        "AG-CE-AI-MN-E2E",
        "AG-CE-AI-MN-HU",
        "AG-CE-AI-MN-SEISMIC",
        "AG-CE-AI-STORAGE",
        "AG-CE-AI-MN-RETAIL",
        "AG-CE-AI-FEEDBACK",
        "AG-CE-AI-MN-LAB",
        "Azure SDK Engineering System",
        "Epic-Edge-ES-ReproVMLab",
        "ES-Stream-Operations",
        "Core-ES-BranchManagement",
        "WDG-ES-RnD-GITTrain",
        "Cosmos_WDG_Core_BnB_100292",
        "Azure Stack Diagnostics CI and Production VaaS",
        "Edge DevTools Client",
        "Azure Stack CSS Labs",
        "AppInsight Test",
        "ddverify",
        "VSEng MadDog-RPS Telemetry",
        "CAT_Eng",
        "RPS-cloud-common-2",
        "Core-ES-WorkManagement",
        "Azure_Maps_MDP_Engineering",
        "Test/Demo - VipSwapper Operations",
        "COSINE-ES-Signing Azure Service",
        "AI Infra Build",
        "AG-CE-E2E-AI",
        "DEMO - how RepDemo are you",
        "ADS Demo Subscription",
        "AzureCAT E2E Blue Steel",
        "Azure Search DEV Service Layer (kmort,miwelsh,bohuan)"
       ],
       "description": "subscription_id",
       "index": 2,
       "layout": "IPY_MODEL_68187145fc184751aa6946d383f760d3",
       "style": "IPY_MODEL_4a96d77b61a641d7b3a092b6bd91ccd3"
      }
     },
     "da303925cd2f4fdf94b1a14831293bfa": {
      "model_module": "@jupyter-widgets/controls",
      "model_module_version": "1.5.0",
      "model_name": "TextModel",
      "state": {
       "description": "deep_aks_location",
       "layout": "IPY_MODEL_a791dae4d61a4cdaa1affc2e87155cd2",
       "placeholder": "AKS Azure Region",
       "style": "IPY_MODEL_9779bbb581e2472d91abc572ec53d43e",
       "value": "eastus"
      }
     },
     "da3a3fc0d82f49c39bd4d271f303071c": {
      "model_module": "@jupyter-widgets/base",
      "model_module_version": "1.2.0",
      "model_name": "LayoutModel",
      "state": {}
     },
     "da3bf15090c547d2badbad7fd287d090": {
      "model_module": "@jupyter-widgets/base",
      "model_module_version": "1.2.0",
      "model_name": "LayoutModel",
      "state": {}
     },
     "da5bc994a4ee45438375d131b56aa056": {
      "model_module": "@jupyter-widgets/controls",
      "model_module_version": "1.5.0",
      "model_name": "TextModel",
      "state": {
       "description": "aks_service_name",
       "layout": "IPY_MODEL_6c229c9df93343229a9c0c761df6c050",
       "placeholder": "AKS Service Name",
       "style": "IPY_MODEL_5707f62936894430b4ed6f37f22e8218"
      }
     },
     "da6574497e794c21960721fb172fab3d": {
      "model_module": "@jupyter-widgets/controls",
      "model_module_version": "1.5.0",
      "model_name": "DescriptionStyleModel",
      "state": {
       "description_width": ""
      }
     },
     "da68f25cc7d64bce923df2360a63dedb": {
      "model_module": "@jupyter-widgets/controls",
      "model_module_version": "1.5.0",
      "model_name": "DescriptionStyleModel",
      "state": {
       "description_width": ""
      }
     },
     "da76613644b7432fb0e43e71a26d4efb": {
      "model_module": "@jupyter-widgets/base",
      "model_module_version": "1.2.0",
      "model_name": "LayoutModel",
      "state": {}
     },
     "da7dfdd715274805900a98a14cd2160c": {
      "model_module": "@jupyter-widgets/controls",
      "model_module_version": "1.5.0",
      "model_name": "TextModel",
      "state": {
       "description": "node_count",
       "layout": "IPY_MODEL_207eca5cc8b840b4ab9674d0bb8e611b",
       "placeholder": "number of nodes in Kubernetes cluster",
       "style": "IPY_MODEL_d7b9329c9a9449d484ff0d82b8ad269c",
       "value": "4"
      }
     },
     "da942af3f2b445bc82ce36e4117c3984": {
      "model_module": "@jupyter-widgets/base",
      "model_module_version": "1.2.0",
      "model_name": "LayoutModel",
      "state": {}
     },
     "da948d982646442fa594c49ce16044a8": {
      "model_module": "@jupyter-widgets/controls",
      "model_module_version": "1.5.0",
      "model_name": "ButtonStyleModel",
      "state": {}
     },
     "dac3322277164cd6827cb019373eb9d1": {
      "model_module": "@jupyter-widgets/base",
      "model_module_version": "1.2.0",
      "model_name": "LayoutModel",
      "state": {}
     },
     "dac9cab8ddb54a24876f16aac3accfce": {
      "model_module": "@jupyter-widgets/base",
      "model_module_version": "1.2.0",
      "model_name": "LayoutModel",
      "state": {}
     },
     "db5a751239af46029f5edc7d41eeb91f": {
      "model_module": "@jupyter-widgets/base",
      "model_module_version": "1.2.0",
      "model_name": "LayoutModel",
      "state": {}
     },
     "db6f7479128d4b14a5a656d2150575d2": {
      "model_module": "@jupyter-widgets/controls",
      "model_module_version": "1.5.0",
      "model_name": "ButtonModel",
      "state": {
       "description": "Overwrite Settings",
       "icon": "check",
       "layout": "IPY_MODEL_32ee36239715407299581db511d8d932",
       "style": "IPY_MODEL_db81f892e19948c89fadc25f8410ae59",
       "tooltip": "Click to save settings to file."
      }
     },
     "db81f892e19948c89fadc25f8410ae59": {
      "model_module": "@jupyter-widgets/controls",
      "model_module_version": "1.5.0",
      "model_name": "ButtonStyleModel",
      "state": {}
     },
     "db9dfed0e8d4466ab1f1c3711be70c6f": {
      "model_module": "@jupyter-widgets/controls",
      "model_module_version": "1.5.0",
      "model_name": "ButtonStyleModel",
      "state": {}
     },
     "dbd0853e62214c579c18bda25ed306b8": {
      "model_module": "@jupyter-widgets/controls",
      "model_module_version": "1.5.0",
      "model_name": "ButtonStyleModel",
      "state": {}
     },
     "dbf47341bce94ecc8d5ac438b0e1b14b": {
      "model_module": "@jupyter-widgets/controls",
      "model_module_version": "1.5.0",
      "model_name": "HBoxModel",
      "state": {
       "children": [
        "IPY_MODEL_9bf2b7eedcbf48f4bd61a673fa2ad81e",
        "IPY_MODEL_83dcb1786dac488990ad9dc7c5334566"
       ],
       "layout": "IPY_MODEL_580989b0357d4bfda48a4ebb14272e24"
      }
     },
     "dc0f4543a27b49a6811e3fcfeaebd9ad": {
      "model_module": "@jupyter-widgets/base",
      "model_module_version": "1.2.0",
      "model_name": "LayoutModel",
      "state": {}
     },
     "dc22d3d2574e41beb1e09532dc5834f3": {
      "model_module": "@jupyter-widgets/controls",
      "model_module_version": "1.5.0",
      "model_name": "ButtonStyleModel",
      "state": {}
     },
     "dc2a35624a8949238324def645133034": {
      "model_module": "@jupyter-widgets/controls",
      "model_module_version": "1.5.0",
      "model_name": "TextModel",
      "state": {
       "description": "workspace_region",
       "layout": "IPY_MODEL_653943638c924ae68290128c46382b25",
       "placeholder": "Azure ML Workspace Region",
       "style": "IPY_MODEL_5fea17757ee5434b834787ec6b53d5f7",
       "value": "eastus"
      }
     },
     "dc41221d479148e5ae79265d61822da5": {
      "model_module": "@jupyter-widgets/base",
      "model_module_version": "1.2.0",
      "model_name": "LayoutModel",
      "state": {}
     },
     "dc7db191ed584f89a6712884afb83b64": {
      "model_module": "@jupyter-widgets/controls",
      "model_module_version": "1.5.0",
      "model_name": "DescriptionStyleModel",
      "state": {
       "description_width": ""
      }
     },
     "dc8051f7770246f8aa0fffe9ed6a98d0": {
      "model_module": "@jupyter-widgets/controls",
      "model_module_version": "1.5.0",
      "model_name": "TextModel",
      "state": {
       "description": "deep_aks_service_name",
       "layout": "IPY_MODEL_ba3f614f540c4fed926ff2def749ff55",
       "placeholder": "AKS Service Name",
       "style": "IPY_MODEL_7acf9330df284d4caaf78504c87e09f1",
       "value": "deepaksservice"
      }
     },
     "dc910c4c8ae8415d87415bb8818884ce": {
      "model_module": "@jupyter-widgets/controls",
      "model_module_version": "1.5.0",
      "model_name": "ButtonStyleModel",
      "state": {}
     },
     "dcb87b9c502d493c8d189048a5a0f13c": {
      "model_module": "@jupyter-widgets/controls",
      "model_module_version": "1.5.0",
      "model_name": "FileUploadModel",
      "state": {
       "accept": ".yml",
       "description_tooltip": null,
       "layout": "IPY_MODEL_70b21e1bb1434a0ab250c9bcaa31d08b",
       "style": "IPY_MODEL_dbd0853e62214c579c18bda25ed306b8"
      }
     },
     "dd03772a904c42e2801d24635ae75278": {
      "model_module": "@jupyter-widgets/controls",
      "model_module_version": "1.5.0",
      "model_name": "TextModel",
      "state": {
       "description": "workspace_region",
       "layout": "IPY_MODEL_a120a7ed4ac043acb4b75492de8592ed",
       "placeholder": "Azure ML Workspace Region",
       "style": "IPY_MODEL_b591937e57ba4b44a316f084da3c37fa",
       "value": "eastus"
      }
     },
     "dd1af79352514564af5b13b1dd3191d6": {
      "model_module": "@jupyter-widgets/controls",
      "model_module_version": "1.5.0",
      "model_name": "ButtonStyleModel",
      "state": {}
     },
     "dd221fb5a3f646a78d18ccb6f2a0f95b": {
      "model_module": "@jupyter-widgets/controls",
      "model_module_version": "1.5.0",
      "model_name": "TextModel",
      "state": {
       "description": "deep_image_name",
       "layout": "IPY_MODEL_acfc73963c32480f8ed461518a890ffb",
       "placeholder": "Docker Container Image Name",
       "style": "IPY_MODEL_dece72a4a29842cdbafe526bc90d7e06",
       "value": "mydeepimage"
      }
     },
     "dd842b58ffff433abbe5d69dfb3b9a3d": {
      "model_module": "@jupyter-widgets/controls",
      "model_module_version": "1.5.0",
      "model_name": "TextModel",
      "state": {
       "description": "deep_image_name",
       "layout": "IPY_MODEL_3682fd0db0d8437b987d2c4263fcb750",
       "placeholder": "Docker Container Image Name",
       "style": "IPY_MODEL_13b19fc554ae4099a401dd5febeb8bd8",
       "value": "mydeepimage"
      }
     },
     "dd93511c2fef44a8848b31ab1e3bde3f": {
      "model_module": "@jupyter-widgets/controls",
      "model_module_version": "1.5.0",
      "model_name": "HBoxModel",
      "state": {
       "children": [
        "IPY_MODEL_893d5dbe3ec145f1ab3ad25e74dc0796",
        "IPY_MODEL_97de9ae6366d4f14a4cf56754f42b451"
       ],
       "layout": "IPY_MODEL_79cd54ee30d0411cbd09aefa7e0890ae"
      }
     },
     "dd9a3467d89140fa85dc992c01b0d165": {
      "model_module": "@jupyter-widgets/base",
      "model_module_version": "1.2.0",
      "model_name": "LayoutModel",
      "state": {}
     },
     "de2d3350e9be4c1e8b06c899718aaaac": {
      "model_module": "@jupyter-widgets/controls",
      "model_module_version": "1.5.0",
      "model_name": "DescriptionStyleModel",
      "state": {
       "description_width": ""
      }
     },
     "de5446c378dd4f6dac84a69f2d16de97": {
      "model_module": "@jupyter-widgets/base",
      "model_module_version": "1.2.0",
      "model_name": "LayoutModel",
      "state": {}
     },
     "de5d1bed4fa34141964f8c649a44e94c": {
      "model_module": "@jupyter-widgets/base",
      "model_module_version": "1.2.0",
      "model_name": "LayoutModel",
      "state": {}
     },
     "de83071a28aa4af5a80be8365736b6d9": {
      "model_module": "@jupyter-widgets/controls",
      "model_module_version": "1.5.0",
      "model_name": "DescriptionStyleModel",
      "state": {
       "description_width": ""
      }
     },
     "dec25f0e48eb4eba8e0986fbd5fedd9b": {
      "model_module": "@jupyter-widgets/controls",
      "model_module_version": "1.5.0",
      "model_name": "HBoxModel",
      "state": {
       "children": [
        "IPY_MODEL_36fd1016bc07413a9d28ef9f9925e72e"
       ],
       "layout": "IPY_MODEL_d358575acdde42c897bb3a02c48f5121"
      }
     },
     "dece72a4a29842cdbafe526bc90d7e06": {
      "model_module": "@jupyter-widgets/controls",
      "model_module_version": "1.5.0",
      "model_name": "DescriptionStyleModel",
      "state": {
       "description_width": ""
      }
     },
     "ded7ec295c7c4d1aaab3be2ef19ae37c": {
      "model_module": "@jupyter-widgets/base",
      "model_module_version": "1.2.0",
      "model_name": "LayoutModel",
      "state": {}
     },
     "df29b0e420b542ea96af796d88e85a24": {
      "model_module": "@jupyter-widgets/controls",
      "model_module_version": "1.5.0",
      "model_name": "DescriptionStyleModel",
      "state": {
       "description_width": ""
      }
     },
     "df3fcd469bc94779919a5049b71b1ae2": {
      "model_module": "@jupyter-widgets/controls",
      "model_module_version": "1.5.0",
      "model_name": "HBoxModel",
      "state": {
       "children": [
        "IPY_MODEL_cb5556ab3eae4bb4ba42a1db4d05eaf5",
        "IPY_MODEL_c983167c27bc4891ba7c1358adc4c3cd"
       ],
       "layout": "IPY_MODEL_1b027729e8134fa9bc7980818f99aec5"
      }
     },
     "df4682cfad284882bccea4359a1f2cfe": {
      "model_module": "@jupyter-widgets/controls",
      "model_module_version": "1.5.0",
      "model_name": "DescriptionStyleModel",
      "state": {
       "description_width": ""
      }
     },
     "df603228f1ce46eab00b9051fcb8d99f": {
      "model_module": "@jupyter-widgets/controls",
      "model_module_version": "1.5.0",
      "model_name": "ButtonModel",
      "state": {
       "description": "Save Upload",
       "icon": "check",
       "layout": "IPY_MODEL_6c9f83f8ac3e48c2ade8e74b77470b93",
       "style": "IPY_MODEL_a04f06aacf384aacb1a1c8e53d4c8b3c",
       "tooltip": "Click to save settings to file."
      }
     },
     "df68af66a7e54fd58e495a77d8929661": {
      "model_module": "@jupyter-widgets/controls",
      "model_module_version": "1.5.0",
      "model_name": "DropdownModel",
      "state": {
       "_options_labels": [
        "eastus",
        "eastus2",
        "canadacentral",
        "centralus",
        "northcentralus",
        "southcentralus",
        "westcentralus",
        "westus",
        "westus2"
       ],
       "description": "aks_location",
       "index": 0,
       "layout": "IPY_MODEL_2004ecd1b1cd494aa8bf129198289a01",
       "style": "IPY_MODEL_bd04cb3a3da441ac809b68ea710fdd60"
      }
     },
     "df6981b5aef44021a6f8812f97852671": {
      "model_module": "@jupyter-widgets/controls",
      "model_module_version": "1.5.0",
      "model_name": "ButtonModel",
      "state": {
       "description": "Overwrite Settings",
       "icon": "check",
       "layout": "IPY_MODEL_a9a7233c6c5e4213a94abaed1b330a12",
       "style": "IPY_MODEL_1af3c6269bbb49aa92c089aa1dc83567",
       "tooltip": "Click to save settings to file."
      }
     },
     "df86a873b4204e7b940da47be3f7436e": {
      "model_module": "@jupyter-widgets/controls",
      "model_module_version": "1.5.0",
      "model_name": "DescriptionStyleModel",
      "state": {
       "description_width": ""
      }
     },
     "df9604ac991a4d648eab4d39fe6446dc": {
      "model_module": "@jupyter-widgets/base",
      "model_module_version": "1.2.0",
      "model_name": "LayoutModel",
      "state": {}
     },
     "df96de98ef4d4d9a86e3fdde089f053b": {
      "model_module": "@jupyter-widgets/controls",
      "model_module_version": "1.5.0",
      "model_name": "HBoxModel",
      "state": {
       "children": [
        "IPY_MODEL_cac56f954f8445c5a21c2f789b17c40b"
       ],
       "layout": "IPY_MODEL_c656f048ff0644adbd6fcdc4cda4da6e"
      }
     },
     "e0198264db7e4eb7b7f009cfd2e14eb5": {
      "model_module": "@jupyter-widgets/controls",
      "model_module_version": "1.5.0",
      "model_name": "HBoxModel",
      "state": {
       "children": [
        "IPY_MODEL_32a167cadc6e48a491444c2d8ee3209a",
        "IPY_MODEL_170ec21a1e4c4e48929db8c911fd6111"
       ],
       "layout": "IPY_MODEL_87afb0b707874c2da74401c217ec69ff"
      }
     },
     "e02c4f4eb6524c76a35c262b947f475f": {
      "model_module": "@jupyter-widgets/controls",
      "model_module_version": "1.5.0",
      "model_name": "TextModel",
      "state": {
       "description": "workspace_name",
       "layout": "IPY_MODEL_3eff9a0440334492b71640cd5da62e66",
       "placeholder": "Azure ML Workspace Name",
       "style": "IPY_MODEL_3c80d179f7584f1c8eba8607da50be69"
      }
     },
     "e0d2ce642c35452abd93be0df079c845": {
      "model_module": "@jupyter-widgets/controls",
      "model_module_version": "1.5.0",
      "model_name": "TextModel",
      "state": {
       "description": "aks_name",
       "layout": "IPY_MODEL_b9da7f41c5044454b177686f29776177",
       "placeholder": "AKS Cluster Name",
       "style": "IPY_MODEL_b0d8258cebd3461aaf1bd3aad4a0aeb8",
       "value": "akscluster2"
      }
     },
     "e104158c61514e2cbee7de765024d95f": {
      "model_module": "@jupyter-widgets/base",
      "model_module_version": "1.2.0",
      "model_name": "LayoutModel",
      "state": {}
     },
     "e113f1717fd74325a84524b1e263a9f8": {
      "model_module": "@jupyter-widgets/controls",
      "model_module_version": "1.5.0",
      "model_name": "DescriptionStyleModel",
      "state": {
       "description_width": ""
      }
     },
     "e11b7abda8474a89b97daf2b11635799": {
      "model_module": "@jupyter-widgets/controls",
      "model_module_version": "1.5.0",
      "model_name": "DescriptionStyleModel",
      "state": {
       "description_width": ""
      }
     },
     "e1206b8a06694dbabb823dba9079f881": {
      "model_module": "@jupyter-widgets/base",
      "model_module_version": "1.2.0",
      "model_name": "LayoutModel",
      "state": {}
     },
     "e156fc773d354c658a396e424d3966fe": {
      "model_module": "@jupyter-widgets/controls",
      "model_module_version": "1.5.0",
      "model_name": "DescriptionStyleModel",
      "state": {
       "description_width": ""
      }
     },
     "e15d073fd79b419c9ee7c0ff92af7257": {
      "model_module": "@jupyter-widgets/controls",
      "model_module_version": "1.5.0",
      "model_name": "HBoxModel",
      "state": {
       "children": [
        "IPY_MODEL_811f7924363347ea9d7d424e7c7b4113",
        "IPY_MODEL_60362c78b60b48bebd9d390fdfeb906f"
       ],
       "layout": "IPY_MODEL_29c9db3b176f4dff82ee837a420289a3"
      }
     },
     "e19f8ae26ef44ac59d84892b6eb39250": {
      "model_module": "@jupyter-widgets/controls",
      "model_module_version": "1.5.0",
      "model_name": "DropdownModel",
      "state": {
       "_options_labels": [
        "eastus",
        "eastus2",
        "canadacentral",
        "centralus",
        "northcentralus",
        "southcentralus",
        "westcentralus",
        "westus",
        "westus2"
       ],
       "description": "deep_aks_location",
       "index": 0,
       "layout": "IPY_MODEL_f9ba1fb1024c4621ad59388a8e6b9d7c",
       "style": "IPY_MODEL_7bcd79240ea9498b9d7ed9957a7e2cbb"
      }
     },
     "e1ae38f1027b45b78ec3581b13ab7d84": {
      "model_module": "@jupyter-widgets/base",
      "model_module_version": "1.2.0",
      "model_name": "LayoutModel",
      "state": {}
     },
     "e1aeca2f6658403d8588c9b5a18c7ebe": {
      "model_module": "@jupyter-widgets/base",
      "model_module_version": "1.2.0",
      "model_name": "LayoutModel",
      "state": {}
     },
     "e1b84b7025944701a3d118044b5d4c1e": {
      "model_module": "@jupyter-widgets/controls",
      "model_module_version": "1.5.0",
      "model_name": "TextModel",
      "state": {
       "description": "subscription_id",
       "layout": "IPY_MODEL_6e2b8659301e4deab2aa8be2e197b919",
       "placeholder": "Azure Subscription Id",
       "style": "IPY_MODEL_9e26d8cb365642dca1ff5a163f47c3a3",
       "value": "0ca618d2-22a8-413a-96d0-0f1b531129c3"
      }
     },
     "e1ff49dfc7674a6a8e888b58f74b796b": {
      "model_module": "@jupyter-widgets/controls",
      "model_module_version": "1.5.0",
      "model_name": "TextModel",
      "state": {
       "description": "aks_location",
       "layout": "IPY_MODEL_d1bda0b3f7ca436992fd8f8b6b8496d8",
       "placeholder": "AKS Azure Region",
       "style": "IPY_MODEL_f3b5306345b140f6bce67b056a2f4e62",
       "value": "eastus"
      }
     },
     "e201b350d2ae43379eb064d71dac7745": {
      "model_module": "@jupyter-widgets/controls",
      "model_module_version": "1.5.0",
      "model_name": "DropdownModel",
      "state": {
       "_options_labels": [
        "AG-CE-AI-GPU-EXPERIMENTATION",
        "AG-AzureCAT-AITao-Test-COGSNonProd-IO1685734",
        "AG-CE-AI-DEVOPS",
        "AG-AzureCAT-AIDemos-Test-COGSNonProd-IO1685734",
        "AGCE-AI-DELETE-Sharat",
        "AG-AzureCAT-AILab-Test-COGSNonProd-IO1685734",
        "Visual Studio Ultimate with MSDN",
        "AG-AzureCAT-AIDataPM-Test-COGSNonProd-IO1685743",
        "AG-AzureCAT-AIDanielle-Test-COGSNonProd-IO1685734",
        "AG-CE-AI-MN-CICOMMERCIAL",
        "AG-CE-AI-MN-INCUBATION",
        "AG-CE-AI-MN-OSS",
        "AG-CE-AI-MN-E2E",
        "AG-CE-AI-MN-HU",
        "AG-CE-AI-MN-SEISMIC",
        "AG-CE-AI-STORAGE",
        "AG-CE-AI-MN-RETAIL",
        "AG-CE-AI-FEEDBACK",
        "AG-CE-AI-MN-LAB",
        "Azure SDK Engineering System",
        "Epic-Edge-ES-ReproVMLab",
        "ES-Stream-Operations",
        "Core-ES-BranchManagement",
        "WDG-ES-RnD-GITTrain",
        "Cosmos_WDG_Core_BnB_100292",
        "Azure Stack Diagnostics CI and Production VaaS",
        "Edge DevTools Client",
        "Azure Stack CSS Labs",
        "AppInsight Test",
        "ddverify",
        "VSEng MadDog-RPS Telemetry",
        "CAT_Eng",
        "RPS-cloud-common-2",
        "Core-ES-WorkManagement",
        "Azure_Maps_MDP_Engineering",
        "Test/Demo - VipSwapper Operations",
        "COSINE-ES-Signing Azure Service",
        "AI Infra Build",
        "AG-CE-E2E-AI",
        "DEMO - how RepDemo are you",
        "ADS Demo Subscription",
        "AzureCAT E2E Blue Steel",
        "Azure Search DEV Service Layer (kmort,miwelsh,bohuan)"
       ],
       "description": "subscription_id",
       "index": 2,
       "layout": "IPY_MODEL_35211338d3624afa8df08b08fec6aec7",
       "style": "IPY_MODEL_0478fd7b3d194e8890a2439333a1047e"
      }
     },
     "e22d82a062ff40fdab942842037529dc": {
      "model_module": "@jupyter-widgets/controls",
      "model_module_version": "1.5.0",
      "model_name": "DescriptionStyleModel",
      "state": {
       "description_width": ""
      }
     },
     "e271140562f54515abd7a34538dc9deb": {
      "model_module": "@jupyter-widgets/base",
      "model_module_version": "1.2.0",
      "model_name": "LayoutModel",
      "state": {}
     },
     "e28f536d5c2948c79eebb36e094d7cd4": {
      "model_module": "@jupyter-widgets/controls",
      "model_module_version": "1.5.0",
      "model_name": "TextModel",
      "state": {
       "description": "workspace_region",
       "layout": "IPY_MODEL_53a90824466745989da1c086d7da4474",
       "placeholder": "Azure ML Workspace Region",
       "style": "IPY_MODEL_7e5450ce574a4d1f98ce3ab1ab1ed246",
       "value": "eastus"
      }
     },
     "e2db06bcacef41c8b41dbf7ade2ee4b6": {
      "model_module": "@jupyter-widgets/base",
      "model_module_version": "1.2.0",
      "model_name": "LayoutModel",
      "state": {}
     },
     "e2e50b5ad5bc4753a222cc0336163c64": {
      "model_module": "@jupyter-widgets/base",
      "model_module_version": "1.2.0",
      "model_name": "LayoutModel",
      "state": {}
     },
     "e2eecf8acd6a4e7ea1144db3da30e1c0": {
      "model_module": "@jupyter-widgets/controls",
      "model_module_version": "1.5.0",
      "model_name": "DropdownModel",
      "state": {
       "_options_labels": [
        "AG-CE-AI-GPU-EXPERIMENTATION",
        "AG-AzureCAT-AITao-Test-COGSNonProd-IO1685734",
        "AG-CE-AI-DEVOPS",
        "AG-AzureCAT-AIDemos-Test-COGSNonProd-IO1685734",
        "AGCE-AI-DELETE-Sharat",
        "AG-AzureCAT-AILab-Test-COGSNonProd-IO1685734",
        "Visual Studio Ultimate with MSDN",
        "AG-AzureCAT-AIDataPM-Test-COGSNonProd-IO1685743",
        "AG-AzureCAT-AIDanielle-Test-COGSNonProd-IO1685734",
        "AG-CE-AI-MN-CICOMMERCIAL",
        "AG-CE-AI-MN-INCUBATION",
        "AG-CE-AI-MN-OSS",
        "AG-CE-AI-MN-E2E",
        "AG-CE-AI-MN-HU",
        "AG-CE-AI-MN-SEISMIC",
        "AG-CE-AI-STORAGE",
        "AG-CE-AI-MN-RETAIL",
        "AG-CE-AI-FEEDBACK",
        "AG-CE-AI-MN-LAB",
        "Azure SDK Engineering System",
        "Epic-Edge-ES-ReproVMLab",
        "ES-Stream-Operations",
        "Core-ES-BranchManagement",
        "WDG-ES-RnD-GITTrain",
        "Cosmos_WDG_Core_BnB_100292",
        "Azure Stack Diagnostics CI and Production VaaS",
        "Edge DevTools Client",
        "Azure Stack CSS Labs",
        "AppInsight Test",
        "ddverify",
        "VSEng MadDog-RPS Telemetry",
        "CAT_Eng",
        "RPS-cloud-common-2",
        "Core-ES-WorkManagement",
        "Azure_Maps_MDP_Engineering",
        "Test/Demo - VipSwapper Operations",
        "COSINE-ES-Signing Azure Service",
        "AI Infra Build",
        "AG-CE-E2E-AI",
        "DEMO - how RepDemo are you",
        "ADS Demo Subscription",
        "AzureCAT E2E Blue Steel",
        "Azure Search DEV Service Layer (kmort,miwelsh,bohuan)"
       ],
       "description": "subscription_id",
       "index": 0,
       "layout": "IPY_MODEL_13af7f8018d54fef94838945b28b357a",
       "style": "IPY_MODEL_1b033bc394b74dec95db55af78b173fa"
      }
     },
     "e304703538f3457989561263bda49cd2": {
      "model_module": "@jupyter-widgets/controls",
      "model_module_version": "1.5.0",
      "model_name": "DescriptionStyleModel",
      "state": {
       "description_width": ""
      }
     },
     "e3884162f12046caad766768e110ad9a": {
      "model_module": "@jupyter-widgets/controls",
      "model_module_version": "1.5.0",
      "model_name": "DescriptionStyleModel",
      "state": {
       "description_width": ""
      }
     },
     "e39b02ea15f942419baddb9e6de413c8": {
      "model_module": "@jupyter-widgets/controls",
      "model_module_version": "1.5.0",
      "model_name": "DescriptionStyleModel",
      "state": {
       "description_width": ""
      }
     },
     "e3a02cb968c84fa288ca7a0e9dab7544": {
      "model_module": "@jupyter-widgets/controls",
      "model_module_version": "1.5.0",
      "model_name": "TextModel",
      "state": {
       "description": "aks_location",
       "layout": "IPY_MODEL_d82f85156fbb47269c35170615bd9807",
       "placeholder": "AKS Azure Region",
       "style": "IPY_MODEL_7e93e887254c41bb92332ef26422e08d",
       "value": "eastus"
      }
     },
     "e3d1f187500d4c0eb78613a3d9608d67": {
      "model_module": "@jupyter-widgets/base",
      "model_module_version": "1.2.0",
      "model_name": "LayoutModel",
      "state": {}
     },
     "e408210b4fb54bdf8b2e9872b7beb49c": {
      "model_module": "@jupyter-widgets/controls",
      "model_module_version": "1.5.0",
      "model_name": "TextModel",
      "state": {
       "description": "deep_aks_location",
       "layout": "IPY_MODEL_6b8d50b529244970bf82ad973527b908",
       "placeholder": "AKS Azure Region",
       "style": "IPY_MODEL_e22d82a062ff40fdab942842037529dc",
       "value": "eastus"
      }
     },
     "e40854de0cb349a18698c999d6dc9a89": {
      "model_module": "@jupyter-widgets/base",
      "model_module_version": "1.2.0",
      "model_name": "LayoutModel",
      "state": {}
     },
     "e408aedd49e54b0ba8a85b7148baedb5": {
      "model_module": "@jupyter-widgets/controls",
      "model_module_version": "1.5.0",
      "model_name": "TextModel",
      "state": {
       "description": "aks_location",
       "layout": "IPY_MODEL_b4b2a80c85e94654b4375a4e674c98e7",
       "placeholder": "AKS Azure Region",
       "style": "IPY_MODEL_73428bf114924a4ab5ee6f6ad246086a",
       "value": "eastus"
      }
     },
     "e4284911113f46bc872eb9a8dfd52817": {
      "model_module": "@jupyter-widgets/controls",
      "model_module_version": "1.5.0",
      "model_name": "DropdownModel",
      "state": {
       "_options_labels": [
        "eastus",
        "eastus2",
        "canadacentral",
        "centralus",
        "northcentralus",
        "southcentralus",
        "westcentralus",
        "westus",
        "westus2"
       ],
       "description": "deep_aks_location",
       "index": 0,
       "layout": "IPY_MODEL_b08e1deadd074ddf8d75447156103a1c",
       "style": "IPY_MODEL_20806c7bc23c4c29a393e48a76bf0b6d"
      }
     },
     "e4305a3458d14d5a80233451103cda90": {
      "model_module": "@jupyter-widgets/base",
      "model_module_version": "1.2.0",
      "model_name": "LayoutModel",
      "state": {}
     },
     "e436845bf4ef4aaf8df87c3fc3691ee8": {
      "model_module": "@jupyter-widgets/base",
      "model_module_version": "1.2.0",
      "model_name": "LayoutModel",
      "state": {}
     },
     "e45d6c1c167343a1917386aba768ad47": {
      "model_module": "@jupyter-widgets/output",
      "model_module_version": "1.0.0",
      "model_name": "OutputModel",
      "state": {
       "layout": "IPY_MODEL_c675084e26c34b06a24f733b30fecac4"
      }
     },
     "e47e9fe0ee964e22a8b6be9e08594358": {
      "model_module": "@jupyter-widgets/controls",
      "model_module_version": "1.5.0",
      "model_name": "TextModel",
      "state": {
       "description": "subscription_id",
       "layout": "IPY_MODEL_99aa32c4981d48128f7261ce0597401c",
       "placeholder": "Azure Subscription Id",
       "style": "IPY_MODEL_9a8619b20c69450483068aad8cc97f26",
       "value": "0ca618d2-22a8-413a-96d0-0f1b531129c3"
      }
     },
     "e4861b25fe874b63ac7c2fd611b9b48f": {
      "model_module": "@jupyter-widgets/controls",
      "model_module_version": "1.5.0",
      "model_name": "TextModel",
      "state": {
       "description": "image_name",
       "layout": "IPY_MODEL_830ec1c894b640c5935a88a5ef157ed1",
       "placeholder": "Docker Container Image Name",
       "style": "IPY_MODEL_4518c730673041e38f9af55c25585d15",
       "value": "mymlimage2"
      }
     },
     "e487dc26831d47179f94cebbd7bdd584": {
      "model_module": "@jupyter-widgets/base",
      "model_module_version": "1.2.0",
      "model_name": "LayoutModel",
      "state": {}
     },
     "e49c65bdfb82486dbcd5a04adc9476d3": {
      "model_module": "@jupyter-widgets/controls",
      "model_module_version": "1.5.0",
      "model_name": "DescriptionStyleModel",
      "state": {
       "description_width": ""
      }
     },
     "e4ab7a960cd14f49a3cd38c1fad7cc64": {
      "model_module": "@jupyter-widgets/controls",
      "model_module_version": "1.5.0",
      "model_name": "DescriptionStyleModel",
      "state": {
       "description_width": ""
      }
     },
     "e4b839fbf353429a8e77c50199c28b99": {
      "model_module": "@jupyter-widgets/output",
      "model_module_version": "1.0.0",
      "model_name": "OutputModel",
      "state": {
       "layout": "IPY_MODEL_157fb4f5dc144a7d84d15b805bfabed7"
      }
     },
     "e4cf9db0228e46099d26adafc4b0618e": {
      "model_module": "@jupyter-widgets/base",
      "model_module_version": "1.2.0",
      "model_name": "LayoutModel",
      "state": {}
     },
     "e507a279447f4a31ad215a0a96390489": {
      "model_module": "@jupyter-widgets/base",
      "model_module_version": "1.2.0",
      "model_name": "LayoutModel",
      "state": {}
     },
     "e51a8e13acd749b8a1e0dbfd7d45ebdc": {
      "model_module": "@jupyter-widgets/base",
      "model_module_version": "1.2.0",
      "model_name": "LayoutModel",
      "state": {}
     },
     "e536c5f694394ee4901e78c4672b4056": {
      "model_module": "@jupyter-widgets/controls",
      "model_module_version": "1.5.0",
      "model_name": "ButtonStyleModel",
      "state": {}
     },
     "e5422f726fe242f89b892e94d56d6c5c": {
      "model_module": "@jupyter-widgets/controls",
      "model_module_version": "1.5.0",
      "model_name": "DescriptionStyleModel",
      "state": {
       "description_width": ""
      }
     },
     "e57a60708c1240c58dbd6f758ecc8e59": {
      "model_module": "@jupyter-widgets/output",
      "model_module_version": "1.0.0",
      "model_name": "OutputModel",
      "state": {
       "layout": "IPY_MODEL_96d2c39356d44b2e8c83a96c5fb5eb08"
      }
     },
     "e5895330dca44dec80c40b76a2f578fc": {
      "model_module": "@jupyter-widgets/output",
      "model_module_version": "1.0.0",
      "model_name": "OutputModel",
      "state": {
       "layout": "IPY_MODEL_3c8af73d8c8c4730b20d81c538d75599"
      }
     },
     "e5e736460fd946c5b62b19c158d53393": {
      "model_module": "@jupyter-widgets/controls",
      "model_module_version": "1.5.0",
      "model_name": "TextModel",
      "state": {
       "description": "aks_name",
       "layout": "IPY_MODEL_2c69e41e3034414c9617d3fde7be04cf",
       "placeholder": "AKS Cluster Name",
       "style": "IPY_MODEL_01bd0084736d4e33a9d099a69c8c0c0c",
       "value": "akscluster2"
      }
     },
     "e611abcc4b7f434cae3688a0b5b6c1fc": {
      "model_module": "@jupyter-widgets/base",
      "model_module_version": "1.2.0",
      "model_name": "LayoutModel",
      "state": {}
     },
     "e640e952ce254992b88ae7f5c599103c": {
      "model_module": "@jupyter-widgets/controls",
      "model_module_version": "1.5.0",
      "model_name": "HBoxModel",
      "state": {
       "children": [
        "IPY_MODEL_588d8090ae594725b03121778aa072cb"
       ],
       "layout": "IPY_MODEL_c1b6b72ec77449859db2caa2e5e1cb39"
      }
     },
     "e653ae01ab014883b5a9e7431a2785b8": {
      "model_module": "@jupyter-widgets/controls",
      "model_module_version": "1.5.0",
      "model_name": "TextModel",
      "state": {
       "description": "aks_location",
       "layout": "IPY_MODEL_5651a8b9a8a0435cb71e565524dbd877",
       "placeholder": "AKS Azure Region",
       "style": "IPY_MODEL_a1a512ffcab34638b7ea55ec3a17017e",
       "value": "eastus"
      }
     },
     "e6df207a7c094fa4943cab6edfe69b63": {
      "model_module": "@jupyter-widgets/controls",
      "model_module_version": "1.5.0",
      "model_name": "TextModel",
      "state": {
       "description": "aks_service_name",
       "layout": "IPY_MODEL_790c95b6ccd340008a890b0f5100d1ba",
       "placeholder": "AKS Service Name",
       "style": "IPY_MODEL_6cac4e73ea704d3abc5ebb1fb820f029",
       "value": "aksservice2"
      }
     },
     "e6fd982cf7384dbfb7df0bacab1a0ff0": {
      "model_module": "@jupyter-widgets/controls",
      "model_module_version": "1.5.0",
      "model_name": "DescriptionStyleModel",
      "state": {
       "description_width": ""
      }
     },
     "e7006442c0894f3d82e170190b85cff9": {
      "model_module": "@jupyter-widgets/controls",
      "model_module_version": "1.5.0",
      "model_name": "ButtonModel",
      "state": {
       "description": "Use existing",
       "layout": "IPY_MODEL_811a2e2a8e674548b328228737cb684c",
       "style": "IPY_MODEL_2c67a3ebc24349cca4f46f8d69ca1e20",
       "tooltip": "Use an existing resource."
      }
     },
     "e7236e10f7da48769db39fdb5b5de501": {
      "model_module": "@jupyter-widgets/base",
      "model_module_version": "1.2.0",
      "model_name": "LayoutModel",
      "state": {}
     },
     "e735aa47de044d698acddbf526291ce8": {
      "model_module": "@jupyter-widgets/controls",
      "model_module_version": "1.5.0",
      "model_name": "ButtonModel",
      "state": {
       "description": "Use existing",
       "layout": "IPY_MODEL_c8b8c0992f494ca1974ce3a7429bf1bd",
       "style": "IPY_MODEL_fc01489a71584e449eb6a66e4eb1cd80",
       "tooltip": "Use an existing resource."
      }
     },
     "e7801f4adb4a463e95c8bb004f864e9b": {
      "model_module": "@jupyter-widgets/controls",
      "model_module_version": "1.5.0",
      "model_name": "TextModel",
      "state": {
       "description": "deep_aks_service_name",
       "layout": "IPY_MODEL_905065f120484b63876393a19e048771",
       "placeholder": "AKS Service Name",
       "style": "IPY_MODEL_a9e09002fe814e218d9262bb04c0a9d1",
       "value": "deepaksservice"
      }
     },
     "e799a16e5a684f2e8179df0a31647984": {
      "model_module": "@jupyter-widgets/controls",
      "model_module_version": "1.5.0",
      "model_name": "ButtonStyleModel",
      "state": {}
     },
     "e7ac5c28d46a45a691d4950af65ea5cc": {
      "model_module": "@jupyter-widgets/controls",
      "model_module_version": "1.5.0",
      "model_name": "DescriptionStyleModel",
      "state": {
       "description_width": ""
      }
     },
     "e7e78d7dbba64ecdbf527cfd7150cc1c": {
      "model_module": "@jupyter-widgets/base",
      "model_module_version": "1.2.0",
      "model_name": "LayoutModel",
      "state": {}
     },
     "e7efb17a3b53475dac64783d796f7323": {
      "model_module": "@jupyter-widgets/controls",
      "model_module_version": "1.5.0",
      "model_name": "DescriptionStyleModel",
      "state": {
       "description_width": ""
      }
     },
     "e7f37141e8c04aeba085cf6de66b9341": {
      "model_module": "@jupyter-widgets/base",
      "model_module_version": "1.2.0",
      "model_name": "LayoutModel",
      "state": {}
     },
     "e7f5b46560e1476fb19f7ff11ca69832": {
      "model_module": "@jupyter-widgets/controls",
      "model_module_version": "1.5.0",
      "model_name": "DescriptionStyleModel",
      "state": {
       "description_width": ""
      }
     },
     "e810c457946f4d1a97abfbff798c509c": {
      "model_module": "@jupyter-widgets/controls",
      "model_module_version": "1.5.0",
      "model_name": "DescriptionStyleModel",
      "state": {
       "description_width": ""
      }
     },
     "e829286a492f475d9d37c664d40d29f1": {
      "model_module": "@jupyter-widgets/controls",
      "model_module_version": "1.5.0",
      "model_name": "TextModel",
      "state": {
       "description": "subscription_id",
       "layout": "IPY_MODEL_a06956a6462446e1ad0fe9747ddaa6b6",
       "placeholder": "Azure Subscription Id",
       "style": "IPY_MODEL_0718f796314848cc83145d7bd349ae16",
       "value": "0ca618d2-22a8-413a-96d0-0f1b531129c3"
      }
     },
     "e832b357de6f40ac8314105d56321c63": {
      "model_module": "@jupyter-widgets/base",
      "model_module_version": "1.2.0",
      "model_name": "LayoutModel",
      "state": {}
     },
     "e8333c9f6b7f4ab298d010c59d891a5e": {
      "model_module": "@jupyter-widgets/base",
      "model_module_version": "1.2.0",
      "model_name": "LayoutModel",
      "state": {}
     },
     "e8719d72ecf04c9e867d15009f3cacec": {
      "model_module": "@jupyter-widgets/base",
      "model_module_version": "1.2.0",
      "model_name": "LayoutModel",
      "state": {}
     },
     "e885a9bd898d4936afc2726b3aa5fa6a": {
      "model_module": "@jupyter-widgets/base",
      "model_module_version": "1.2.0",
      "model_name": "LayoutModel",
      "state": {}
     },
     "e887d96cf9434852914a73c7de9b82a4": {
      "model_module": "@jupyter-widgets/base",
      "model_module_version": "1.2.0",
      "model_name": "LayoutModel",
      "state": {}
     },
     "e88effa01d814ee5891c89c50ea855c8": {
      "model_module": "@jupyter-widgets/base",
      "model_module_version": "1.2.0",
      "model_name": "LayoutModel",
      "state": {}
     },
     "e8a84f6d522d4cd6a5f6b08ddc3877c4": {
      "model_module": "@jupyter-widgets/base",
      "model_module_version": "1.2.0",
      "model_name": "LayoutModel",
      "state": {}
     },
     "e8b61beba0fd4ed498618a489f976829": {
      "model_module": "@jupyter-widgets/controls",
      "model_module_version": "1.5.0",
      "model_name": "DescriptionStyleModel",
      "state": {
       "description_width": ""
      }
     },
     "e8f15027764a4cdd9bdc1cfbbed6ec93": {
      "model_module": "@jupyter-widgets/base",
      "model_module_version": "1.2.0",
      "model_name": "LayoutModel",
      "state": {}
     },
     "e9037e1f67c64b2e84ddc8d350e4bac2": {
      "model_module": "@jupyter-widgets/controls",
      "model_module_version": "1.5.0",
      "model_name": "TextModel",
      "state": {
       "description": "subscription_id",
       "layout": "IPY_MODEL_472c150fcd3046eab9a019b26ed5569a",
       "placeholder": "Azure Subscription Id",
       "style": "IPY_MODEL_503cb33d66c8413fa4acba6ed63c6432"
      }
     },
     "e9053b985f894c7aa4588b7455d47d57": {
      "model_module": "@jupyter-widgets/controls",
      "model_module_version": "1.5.0",
      "model_name": "DescriptionStyleModel",
      "state": {
       "description_width": ""
      }
     },
     "e92b476422904725b5fc63fda693447f": {
      "model_module": "@jupyter-widgets/controls",
      "model_module_version": "1.5.0",
      "model_name": "ButtonStyleModel",
      "state": {}
     },
     "e933ce1458854e3a82a21224d4d9ab5a": {
      "model_module": "@jupyter-widgets/base",
      "model_module_version": "1.2.0",
      "model_name": "LayoutModel",
      "state": {}
     },
     "e93bda52bfeb4cee8502e1957620c1e1": {
      "model_module": "@jupyter-widgets/base",
      "model_module_version": "1.2.0",
      "model_name": "LayoutModel",
      "state": {}
     },
     "e9a51771962a497b901b5d641d68d1b5": {
      "model_module": "@jupyter-widgets/controls",
      "model_module_version": "1.5.0",
      "model_name": "HBoxModel",
      "state": {
       "children": [
        "IPY_MODEL_1fecf45fa83e40259033257e0c1485f0",
        "IPY_MODEL_8b12aebcae8e487cab30e7ec778c6d85"
       ],
       "layout": "IPY_MODEL_abcfafa896ec443991426e7ae81bcab8"
      }
     },
     "e9d6f70bee824d54bfbfb1754447d9b5": {
      "model_module": "@jupyter-widgets/controls",
      "model_module_version": "1.5.0",
      "model_name": "HBoxModel",
      "state": {
       "children": [
        "IPY_MODEL_24afd6671bb84a578c19320437a56479"
       ],
       "layout": "IPY_MODEL_eaff5aa8c3a64d168673b507c9620143"
      }
     },
     "e9eb8c007f004bae92a8557cc307453c": {
      "model_module": "@jupyter-widgets/base",
      "model_module_version": "1.2.0",
      "model_name": "LayoutModel",
      "state": {}
     },
     "e9f96d0963cc4c929bf1ad2c7e3700d6": {
      "model_module": "@jupyter-widgets/controls",
      "model_module_version": "1.5.0",
      "model_name": "ButtonModel",
      "state": {
       "description": "Save Upload",
       "icon": "check",
       "layout": "IPY_MODEL_93d317a2a5bf4f9cbb42535b572ae6c0",
       "style": "IPY_MODEL_a4b5981a40f64b798af0b566ae50fa70",
       "tooltip": "Click to save settings to file."
      }
     },
     "ea1b4aaf949c4d1990aca4669b261218": {
      "model_module": "@jupyter-widgets/controls",
      "model_module_version": "1.5.0",
      "model_name": "FileUploadModel",
      "state": {
       "accept": ".yml",
       "description_tooltip": null,
       "layout": "IPY_MODEL_8011bc50354b429b969a90e849e25032",
       "style": "IPY_MODEL_fa1097781ec74a77a5575382d185c23b"
      }
     },
     "ea2cca6ba7b64918b4d947fe0eba9b5e": {
      "model_module": "@jupyter-widgets/base",
      "model_module_version": "1.2.0",
      "model_name": "LayoutModel",
      "state": {}
     },
     "ea7b6834fc974fad93c10cadb9ce11fc": {
      "model_module": "@jupyter-widgets/base",
      "model_module_version": "1.2.0",
      "model_name": "LayoutModel",
      "state": {}
     },
     "eab4f6279e1c48459ce1ec2786482f03": {
      "model_module": "@jupyter-widgets/controls",
      "model_module_version": "1.5.0",
      "model_name": "ButtonStyleModel",
      "state": {}
     },
     "eac917f1860141a8bf37093a33f130b7": {
      "model_module": "@jupyter-widgets/controls",
      "model_module_version": "1.5.0",
      "model_name": "DescriptionStyleModel",
      "state": {
       "description_width": ""
      }
     },
     "eaff5aa8c3a64d168673b507c9620143": {
      "model_module": "@jupyter-widgets/base",
      "model_module_version": "1.2.0",
      "model_name": "LayoutModel",
      "state": {}
     },
     "eb0599993a59435f9992002a5c0eca62": {
      "model_module": "@jupyter-widgets/base",
      "model_module_version": "1.2.0",
      "model_name": "LayoutModel",
      "state": {}
     },
     "eb21310d23b14aefa5bb1e17db2a0270": {
      "model_module": "@jupyter-widgets/base",
      "model_module_version": "1.2.0",
      "model_name": "LayoutModel",
      "state": {}
     },
     "eb2da3a754ac4abf8993ba682c0c37b4": {
      "model_module": "@jupyter-widgets/base",
      "model_module_version": "1.2.0",
      "model_name": "LayoutModel",
      "state": {}
     },
     "eb424c0390584767b1e8f14a68422a06": {
      "model_module": "@jupyter-widgets/controls",
      "model_module_version": "1.5.0",
      "model_name": "ButtonModel",
      "state": {
       "description": "Use existing",
       "layout": "IPY_MODEL_2c4320ac5cf34fd2b1fb8e02da3d83fb",
       "style": "IPY_MODEL_bda98f91c96f429496e993b0f79965e4",
       "tooltip": "Use an existing resource."
      }
     },
     "eb6054b3d9d64cf1aaf1db63abb45802": {
      "model_module": "@jupyter-widgets/base",
      "model_module_version": "1.2.0",
      "model_name": "LayoutModel",
      "state": {}
     },
     "eb75934a2e5d42e7aa7c35fde649a2a8": {
      "model_module": "@jupyter-widgets/controls",
      "model_module_version": "1.5.0",
      "model_name": "TextModel",
      "state": {
       "description": "deep_aks_service_name",
       "layout": "IPY_MODEL_e104158c61514e2cbee7de765024d95f",
       "placeholder": "AKS Service Name",
       "style": "IPY_MODEL_df29b0e420b542ea96af796d88e85a24",
       "value": "deepaksservice"
      }
     },
     "eba6ab8525e54f92b33522276ec442f4": {
      "model_module": "@jupyter-widgets/base",
      "model_module_version": "1.2.0",
      "model_name": "LayoutModel",
      "state": {}
     },
     "ebd5e0c20a3246cc9d75e1c0d74d2626": {
      "model_module": "@jupyter-widgets/controls",
      "model_module_version": "1.5.0",
      "model_name": "TextModel",
      "state": {
       "description": "aks_location",
       "layout": "IPY_MODEL_c3e42a5be8b04fb18b075c0fcab70d7c",
       "placeholder": "AKS Azure Region",
       "style": "IPY_MODEL_e39b02ea15f942419baddb9e6de413c8",
       "value": "eastus"
      }
     },
     "ebd9065aa5e44ad2baf04e7a4dcba24f": {
      "model_module": "@jupyter-widgets/base",
      "model_module_version": "1.2.0",
      "model_name": "LayoutModel",
      "state": {}
     },
     "ebecc2d22029459a95679a02c2c20501": {
      "model_module": "@jupyter-widgets/base",
      "model_module_version": "1.2.0",
      "model_name": "LayoutModel",
      "state": {}
     },
     "ebf00bb791e842a3ac574abeaab63e01": {
      "model_module": "@jupyter-widgets/controls",
      "model_module_version": "1.5.0",
      "model_name": "DescriptionStyleModel",
      "state": {
       "description_width": ""
      }
     },
     "ec57279fb85d47f5a48017979a350437": {
      "model_module": "@jupyter-widgets/controls",
      "model_module_version": "1.5.0",
      "model_name": "TextModel",
      "state": {
       "description": "script",
       "layout": "IPY_MODEL_58332944363f412d95d1588611eed9a2",
       "placeholder": "cpu cores for web service",
       "style": "IPY_MODEL_448062212edf4551a6c22021fd05ffd2",
       "value": "create_model.py"
      }
     },
     "ec62a468be1147f09db6fef2fbfa65ed": {
      "model_module": "@jupyter-widgets/controls",
      "model_module_version": "1.5.0",
      "model_name": "TextModel",
      "state": {
       "description": "Sub ID:",
       "layout": "IPY_MODEL_57151219c79a4d63b618faa693f3ee72",
       "placeholder": "xxxx-xxxx-xxxx-xxxx-xxxx",
       "style": "IPY_MODEL_d0a1f59e45414f84af5ce1825f35802e",
       "value": "<>"
      }
     },
     "ec6582e4ade24093a0f6bd926bd0ba41": {
      "model_module": "@jupyter-widgets/base",
      "model_module_version": "1.2.0",
      "model_name": "LayoutModel",
      "state": {}
     },
     "ec7e28fd6a354817b74157fc71a3b764": {
      "model_module": "@jupyter-widgets/base",
      "model_module_version": "1.2.0",
      "model_name": "LayoutModel",
      "state": {}
     },
     "ec906e2c50d8479eaee6842e863f277c": {
      "model_module": "@jupyter-widgets/controls",
      "model_module_version": "1.5.0",
      "model_name": "HBoxModel",
      "state": {
       "children": [
        "IPY_MODEL_aa84dcfc7a0240e48bd22c89a8f20f5d"
       ],
       "layout": "IPY_MODEL_76c760706b524d5595b80bc0b9ac58cb"
      }
     },
     "ecafb566d889471bb6da23537597c255": {
      "model_module": "@jupyter-widgets/controls",
      "model_module_version": "1.5.0",
      "model_name": "HBoxModel",
      "state": {
       "children": [
        "IPY_MODEL_b65a2a11fc144b7f90b781aae96585ac",
        "IPY_MODEL_c59d100215304fd88012f77e339ff587"
       ],
       "layout": "IPY_MODEL_2941bfe2cf8b422b855d151bc2e68f1d"
      }
     },
     "ecafdc600c0040ccb0c2d45b9c5afb86": {
      "model_module": "@jupyter-widgets/controls",
      "model_module_version": "1.5.0",
      "model_name": "HBoxModel",
      "state": {
       "children": [
        "IPY_MODEL_ab45428e447a41eaa66f1709f4759ce0",
        "IPY_MODEL_a3bad9f8231e414fb2c4054039288ab7"
       ],
       "layout": "IPY_MODEL_caf9d24df63e491baaed4eb9595234e2"
      }
     },
     "ecc285e6a8d44ec386e1dbfaf91de0e8": {
      "model_module": "@jupyter-widgets/base",
      "model_module_version": "1.2.0",
      "model_name": "LayoutModel",
      "state": {}
     },
     "ece6f3113dce4be8812dd81d6d0519c8": {
      "model_module": "@jupyter-widgets/controls",
      "model_module_version": "1.5.0",
      "model_name": "DropdownModel",
      "state": {
       "_options_labels": [
        "eastus",
        "eastus2",
        "canadacentral",
        "centralus",
        "northcentralus",
        "southcentralus",
        "westcentralus",
        "westus",
        "westus2"
       ],
       "description": "workspace_region",
       "index": 0,
       "layout": "IPY_MODEL_c2a295438dcd411aac908ea590875e60",
       "style": "IPY_MODEL_fb20074639804f2c92fd2bd68dfb8f50"
      }
     },
     "ecfaf20cfdbd4bb7bdec9e2744aa6084": {
      "model_module": "@jupyter-widgets/base",
      "model_module_version": "1.2.0",
      "model_name": "LayoutModel",
      "state": {}
     },
     "ed34db27c1e042ffb35403787020e681": {
      "model_module": "@jupyter-widgets/controls",
      "model_module_version": "1.5.0",
      "model_name": "DropdownModel",
      "state": {
       "_options_labels": [
        "eastus",
        "eastus2",
        "canadacentral",
        "centralus",
        "northcentralus",
        "southcentralus",
        "westcentralus",
        "westus",
        "westus2"
       ],
       "description": "workspace_region",
       "index": 0,
       "layout": "IPY_MODEL_8d07a8bc3113458cb58b74c9621ada25",
       "style": "IPY_MODEL_b0030a3491ad429e8b9ce83b531447c2"
      }
     },
     "edb18a96dea14ff9a359ba220746603d": {
      "model_module": "@jupyter-widgets/base",
      "model_module_version": "1.2.0",
      "model_name": "LayoutModel",
      "state": {}
     },
     "edf8c57aac2544fd81a3e8278dbb422c": {
      "model_module": "@jupyter-widgets/controls",
      "model_module_version": "1.5.0",
      "model_name": "DescriptionStyleModel",
      "state": {
       "description_width": ""
      }
     },
     "ee09ffb47b61444ca02716150af18e4e": {
      "model_module": "@jupyter-widgets/controls",
      "model_module_version": "1.5.0",
      "model_name": "HBoxModel",
      "state": {
       "children": [
        "IPY_MODEL_636db3af15394a18a576f6209662e317",
        "IPY_MODEL_f8553ae8f9674aa3bd794c6f87ce1651"
       ],
       "layout": "IPY_MODEL_8918afede16341e4b21d0ee70754bb23"
      }
     },
     "ee51bac62ca34bb28933911df60d1d29": {
      "model_module": "@jupyter-widgets/base",
      "model_module_version": "1.2.0",
      "model_name": "LayoutModel",
      "state": {}
     },
     "ee541591fce54d3eaa6b8914f3134f92": {
      "model_module": "@jupyter-widgets/controls",
      "model_module_version": "1.5.0",
      "model_name": "DescriptionStyleModel",
      "state": {
       "description_width": ""
      }
     },
     "ee57a2b303e54dfda371d85f13c3ed3e": {
      "model_module": "@jupyter-widgets/controls",
      "model_module_version": "1.5.0",
      "model_name": "ButtonStyleModel",
      "state": {}
     },
     "ee6debf627b2484bb51187e0dd56d816": {
      "model_module": "@jupyter-widgets/controls",
      "model_module_version": "1.5.0",
      "model_name": "ButtonStyleModel",
      "state": {}
     },
     "ee7520120ea64a79a0a07cce8b00ca49": {
      "model_module": "@jupyter-widgets/controls",
      "model_module_version": "1.5.0",
      "model_name": "HBoxModel",
      "state": {
       "children": [
        "IPY_MODEL_d4fd0bf3f0754bc185185e3864bd7f87",
        "IPY_MODEL_fd828a22db96462aa1b95c2d6c5505b7"
       ],
       "layout": "IPY_MODEL_d7cec39689cb434083cfde0e2035f24c"
      }
     },
     "ee797b01582e4019bda3ae29896596bd": {
      "model_module": "@jupyter-widgets/controls",
      "model_module_version": "1.5.0",
      "model_name": "DescriptionStyleModel",
      "state": {
       "description_width": ""
      }
     },
     "ee94b6287b06431eaa22319d2e645020": {
      "model_module": "@jupyter-widgets/base",
      "model_module_version": "1.2.0",
      "model_name": "LayoutModel",
      "state": {}
     },
     "eee0b2b13ef44fefb08c980b67f2915f": {
      "model_module": "@jupyter-widgets/controls",
      "model_module_version": "1.5.0",
      "model_name": "DropdownModel",
      "state": {
       "_options_labels": [
        "AG-CE-AI-GPU-EXPERIMENTATION",
        "AG-AzureCAT-AITao-Test-COGSNonProd-IO1685734",
        "AG-CE-AI-DEVOPS",
        "AG-AzureCAT-AIDemos-Test-COGSNonProd-IO1685734",
        "AGCE-AI-DELETE-Sharat",
        "AG-AzureCAT-AILab-Test-COGSNonProd-IO1685734",
        "Visual Studio Ultimate with MSDN",
        "AG-AzureCAT-AIDataPM-Test-COGSNonProd-IO1685743",
        "AG-AzureCAT-AIDanielle-Test-COGSNonProd-IO1685734",
        "AG-CE-AI-MN-CICOMMERCIAL",
        "AG-CE-AI-MN-INCUBATION",
        "AG-CE-AI-MN-OSS",
        "AG-CE-AI-MN-E2E",
        "AG-CE-AI-MN-HU",
        "AG-CE-AI-MN-SEISMIC",
        "AG-CE-AI-STORAGE",
        "AG-CE-AI-MN-RETAIL",
        "AG-CE-AI-FEEDBACK",
        "AG-CE-AI-MN-LAB",
        "Azure SDK Engineering System",
        "Epic-Edge-ES-ReproVMLab",
        "ES-Stream-Operations",
        "Core-ES-BranchManagement",
        "WDG-ES-RnD-GITTrain",
        "Cosmos_WDG_Core_BnB_100292",
        "Azure Stack Diagnostics CI and Production VaaS",
        "Edge DevTools Client",
        "Azure Stack CSS Labs",
        "AppInsight Test",
        "ddverify",
        "VSEng MadDog-RPS Telemetry",
        "CAT_Eng",
        "RPS-cloud-common-2",
        "Core-ES-WorkManagement",
        "Azure_Maps_MDP_Engineering",
        "Test/Demo - VipSwapper Operations",
        "COSINE-ES-Signing Azure Service",
        "AI Infra Build",
        "AG-CE-E2E-AI",
        "DEMO - how RepDemo are you",
        "ADS Demo Subscription",
        "AzureCAT E2E Blue Steel",
        "Azure Search DEV Service Layer (kmort,miwelsh,bohuan)"
       ],
       "description": "subscription_id",
       "index": 2,
       "layout": "IPY_MODEL_eb2da3a754ac4abf8993ba682c0c37b4",
       "style": "IPY_MODEL_14ab3c8f13644621b82f9afb280e212e"
      }
     },
     "eefee330eb7440a4a57d2bca0d032fd0": {
      "model_module": "@jupyter-widgets/controls",
      "model_module_version": "1.5.0",
      "model_name": "TextModel",
      "state": {
       "description": "deep_aks_name",
       "layout": "IPY_MODEL_c2086dc4c5aa42c38a288c45a00931e8",
       "placeholder": "AKS Cluster Name",
       "style": "IPY_MODEL_a2bf5b7dbcb242f6a4b3f04e6b28c023",
       "value": "deepakscluster"
      }
     },
     "ef20bb145cbb49ba8c8e6a65a5a641ce": {
      "model_module": "@jupyter-widgets/controls",
      "model_module_version": "1.5.0",
      "model_name": "TextModel",
      "state": {
       "description": "workspace_name",
       "layout": "IPY_MODEL_f3c98966aaa74227aac47a42bbb64479",
       "placeholder": "Azure ML Workspace Name",
       "style": "IPY_MODEL_fdb7e9e74b804d8e838b6c713ff3bbe0",
       "value": "azmlrts-eastus"
      }
     },
     "ef420bc0fe9942caa60f74e0c01edbc5": {
      "model_module": "@jupyter-widgets/controls",
      "model_module_version": "1.5.0",
      "model_name": "DescriptionStyleModel",
      "state": {
       "description_width": ""
      }
     },
     "ef56cbd1b2ac452f971302b3d9fcd520": {
      "model_module": "@jupyter-widgets/controls",
      "model_module_version": "1.5.0",
      "model_name": "DescriptionStyleModel",
      "state": {
       "description_width": ""
      }
     },
     "ef6a487d64a1434790eca51afa2d39c8": {
      "model_module": "@jupyter-widgets/base",
      "model_module_version": "1.2.0",
      "model_name": "LayoutModel",
      "state": {}
     },
     "efc44081716d4ad28b9412eb4ee361d6": {
      "model_module": "@jupyter-widgets/controls",
      "model_module_version": "1.5.0",
      "model_name": "TextModel",
      "state": {
       "description": "deep_aks_service_name",
       "layout": "IPY_MODEL_6277edafbcaf4a68b8b67b7cad067641",
       "placeholder": "AKS Service Name",
       "style": "IPY_MODEL_8e6ed98529b947f2ad22834359c4371c",
       "value": "deepaksservice"
      }
     },
     "f00cd9ae2c9a4399847fabb664110c96": {
      "model_module": "@jupyter-widgets/base",
      "model_module_version": "1.2.0",
      "model_name": "LayoutModel",
      "state": {}
     },
     "f00fed252c3c4f168a8eb50a7be554b2": {
      "model_module": "@jupyter-widgets/controls",
      "model_module_version": "1.5.0",
      "model_name": "HBoxModel",
      "state": {
       "children": [
        "IPY_MODEL_d0077717ad954291a1475fe83d4f3ed4"
       ],
       "layout": "IPY_MODEL_4a8690c6d8a14378b61af680732a06b9"
      }
     },
     "f04f35b48c854a34bd3ef46da00ad317": {
      "model_module": "@jupyter-widgets/controls",
      "model_module_version": "1.5.0",
      "model_name": "DescriptionStyleModel",
      "state": {
       "description_width": ""
      }
     },
     "f06f419764c2426da4bf5b8479151720": {
      "model_module": "@jupyter-widgets/controls",
      "model_module_version": "1.5.0",
      "model_name": "DescriptionStyleModel",
      "state": {
       "description_width": ""
      }
     },
     "f07151c6cf00473283938a4a4fa5f00f": {
      "model_module": "@jupyter-widgets/base",
      "model_module_version": "1.2.0",
      "model_name": "LayoutModel",
      "state": {}
     },
     "f0740f707b6a46fc8e72d0574fc32918": {
      "model_module": "@jupyter-widgets/controls",
      "model_module_version": "1.5.0",
      "model_name": "HBoxModel",
      "state": {
       "children": [
        "IPY_MODEL_b7763657682148a88a79f687a8895798",
        "IPY_MODEL_15a8b668e2bd4c0c8dd3817a0f8dfebd"
       ],
       "layout": "IPY_MODEL_90f466f37b994c9fa4252ae2ddf0fc1e"
      }
     },
     "f0cbf86c35d34e2c86a9c4409a4cb8f3": {
      "model_module": "@jupyter-widgets/base",
      "model_module_version": "1.2.0",
      "model_name": "LayoutModel",
      "state": {}
     },
     "f0ecef45845e41e5a3279e0c7100d349": {
      "model_module": "@jupyter-widgets/controls",
      "model_module_version": "1.5.0",
      "model_name": "TextModel",
      "state": {
       "description": "aks_name",
       "layout": "IPY_MODEL_15f48136f0e34fb085f6566baae9d580",
       "placeholder": "AKS Cluster Name",
       "style": "IPY_MODEL_496d5220c2e244babaff2ca2717d1259",
       "value": "akscluster2"
      }
     },
     "f1076a7d6f7e4f7383a8c1cf2dc4678e": {
      "model_module": "@jupyter-widgets/controls",
      "model_module_version": "1.5.0",
      "model_name": "TextModel",
      "state": {
       "description": "deep_aks_location",
       "layout": "IPY_MODEL_9824a58fffd64258979bcccda13735ac",
       "placeholder": "AKS Azure Region",
       "style": "IPY_MODEL_7a57332539f243e099f6c3b4178ca2df"
      }
     },
     "f10e61ce777d4db198977d7fc65362ce": {
      "model_module": "@jupyter-widgets/base",
      "model_module_version": "1.2.0",
      "model_name": "LayoutModel",
      "state": {}
     },
     "f1434853e3d64471b292fc1ec60457c9": {
      "model_module": "@jupyter-widgets/base",
      "model_module_version": "1.2.0",
      "model_name": "LayoutModel",
      "state": {}
     },
     "f14f491255ac4b35aefa8ea300f837b8": {
      "model_module": "@jupyter-widgets/controls",
      "model_module_version": "1.5.0",
      "model_name": "TextModel",
      "state": {
       "description": "subscription_id",
       "layout": "IPY_MODEL_ff82166cb84848e0bcb13d8a0be9c322",
       "placeholder": "Azure Subscription Id",
       "style": "IPY_MODEL_bd07f988acfa431b982b1343f5143dfe",
       "value": "0ca618d2-22a8-413a-96d0-0f1b531129c3"
      }
     },
     "f1546e5ac4f849d6b01f03abf223cc46": {
      "model_module": "@jupyter-widgets/base",
      "model_module_version": "1.2.0",
      "model_name": "LayoutModel",
      "state": {}
     },
     "f1ac14c26e344e6fa8197d8ebecc34c6": {
      "model_module": "@jupyter-widgets/controls",
      "model_module_version": "1.5.0",
      "model_name": "DropdownModel",
      "state": {
       "_options_labels": [
        "AG-CE-AI-GPU-EXPERIMENTATION",
        "AG-AzureCAT-AITao-Test-COGSNonProd-IO1685734",
        "AG-CE-AI-DEVOPS",
        "AG-AzureCAT-AIDemos-Test-COGSNonProd-IO1685734",
        "AGCE-AI-DELETE-Sharat",
        "AG-AzureCAT-AILab-Test-COGSNonProd-IO1685734",
        "Visual Studio Ultimate with MSDN",
        "AG-AzureCAT-AIDataPM-Test-COGSNonProd-IO1685743",
        "AG-AzureCAT-AIDanielle-Test-COGSNonProd-IO1685734",
        "AG-CE-AI-MN-CICOMMERCIAL",
        "AG-CE-AI-MN-INCUBATION",
        "AG-CE-AI-MN-OSS",
        "AG-CE-AI-MN-E2E",
        "AG-CE-AI-MN-HU",
        "AG-CE-AI-MN-SEISMIC",
        "AG-CE-AI-STORAGE",
        "AG-CE-AI-MN-RETAIL",
        "AG-CE-AI-FEEDBACK",
        "AG-CE-AI-MN-LAB",
        "Azure SDK Engineering System",
        "Epic-Edge-ES-ReproVMLab",
        "ES-Stream-Operations",
        "Core-ES-BranchManagement",
        "WDG-ES-RnD-GITTrain",
        "Cosmos_WDG_Core_BnB_100292",
        "Azure Stack Diagnostics CI and Production VaaS",
        "Edge DevTools Client",
        "Azure Stack CSS Labs",
        "AppInsight Test",
        "ddverify",
        "VSEng MadDog-RPS Telemetry",
        "CAT_Eng",
        "RPS-cloud-common-2",
        "Core-ES-WorkManagement",
        "Azure_Maps_MDP_Engineering",
        "Test/Demo - VipSwapper Operations",
        "COSINE-ES-Signing Azure Service",
        "AI Infra Build",
        "AG-CE-E2E-AI",
        "DEMO - how RepDemo are you",
        "ADS Demo Subscription",
        "AzureCAT E2E Blue Steel",
        "Azure Search DEV Service Layer (kmort,miwelsh,bohuan)"
       ],
       "description": "workspace_region:",
       "index": 2,
       "layout": "IPY_MODEL_1ea2987cc4b54ee2a5ce082f38b2ee59",
       "style": "IPY_MODEL_6ae054f6017b4c19b7b2bdc316a9b0fa"
      }
     },
     "f1b69b8cb0f6497cbc712247beca3b1d": {
      "model_module": "@jupyter-widgets/controls",
      "model_module_version": "1.5.0",
      "model_name": "TextModel",
      "state": {
       "description": "workspace_region",
       "layout": "IPY_MODEL_0069d05482fa4f50a06ebf1b2c945eb9",
       "placeholder": "Azure ML Workspace Region",
       "style": "IPY_MODEL_c41caaf66034457ea4b3d35dd99690f0"
      }
     },
     "f1c661e4a6c440da841266f90d95e3d3": {
      "model_module": "@jupyter-widgets/controls",
      "model_module_version": "1.5.0",
      "model_name": "DescriptionStyleModel",
      "state": {
       "description_width": ""
      }
     },
     "f1f433ae2c61457cbbca19501adf6b0a": {
      "model_module": "@jupyter-widgets/base",
      "model_module_version": "1.2.0",
      "model_name": "LayoutModel",
      "state": {}
     },
     "f1f89cd0513e4a6c80b442b657b19873": {
      "model_module": "@jupyter-widgets/controls",
      "model_module_version": "1.5.0",
      "model_name": "FileUploadModel",
      "state": {
       "accept": ".yml",
       "description_tooltip": null,
       "layout": "IPY_MODEL_bc765c04e9124807b6bf63717944f9e2",
       "style": "IPY_MODEL_2e4dfdd136254aca919ab89292a5f4ff"
      }
     },
     "f201596c3c334277900e4433e94119a1": {
      "model_module": "@jupyter-widgets/controls",
      "model_module_version": "1.5.0",
      "model_name": "TextModel",
      "state": {
       "description": "aks_name",
       "layout": "IPY_MODEL_20c92dd2b774410bbc1ac21c99f6f8b7",
       "placeholder": "AKS Cluster Name",
       "style": "IPY_MODEL_f593d86ef8974333860fe92cc3f262a6",
       "value": "akscluster2"
      }
     },
     "f203a12e96a744cfb11c306f968f7792": {
      "model_module": "@jupyter-widgets/controls",
      "model_module_version": "1.5.0",
      "model_name": "DescriptionStyleModel",
      "state": {
       "description_width": ""
      }
     },
     "f21176685b0d4bc09b4a2681aa997a50": {
      "model_module": "@jupyter-widgets/controls",
      "model_module_version": "1.5.0",
      "model_name": "HBoxModel",
      "state": {
       "children": [
        "IPY_MODEL_d79d88a004bb42ab83a522a3a8e477f0"
       ],
       "layout": "IPY_MODEL_6250a4046f4a442da20bdd994a401fc0"
      }
     },
     "f21afd54781445c4bf6d98cf4109063e": {
      "model_module": "@jupyter-widgets/base",
      "model_module_version": "1.2.0",
      "model_name": "LayoutModel",
      "state": {}
     },
     "f24a52a285544982afd940303f624e0e": {
      "model_module": "@jupyter-widgets/base",
      "model_module_version": "1.2.0",
      "model_name": "LayoutModel",
      "state": {}
     },
     "f256d5f8012047258321f1edc7e2d825": {
      "model_module": "@jupyter-widgets/base",
      "model_module_version": "1.2.0",
      "model_name": "LayoutModel",
      "state": {}
     },
     "f29fa1fa1c78409d94941b61157efd94": {
      "model_module": "@jupyter-widgets/controls",
      "model_module_version": "1.5.0",
      "model_name": "DescriptionStyleModel",
      "state": {
       "description_width": ""
      }
     },
     "f2bdb0e7b8dc4510964de2db2415b115": {
      "model_module": "@jupyter-widgets/controls",
      "model_module_version": "1.5.0",
      "model_name": "DescriptionStyleModel",
      "state": {
       "description_width": ""
      }
     },
     "f2c5e8a7bf8643c08da5dadd5720b4b3": {
      "model_module": "@jupyter-widgets/controls",
      "model_module_version": "1.5.0",
      "model_name": "TextModel",
      "state": {
       "description": "workspace_name",
       "layout": "IPY_MODEL_1ed54ea6852b4ea2953efbff68674490",
       "placeholder": "Azure ML Workspace Name",
       "style": "IPY_MODEL_f29fa1fa1c78409d94941b61157efd94",
       "value": "azmlrts-eastus"
      }
     },
     "f2cbe6393b2f4f27a86ef8861cd97f46": {
      "model_module": "@jupyter-widgets/base",
      "model_module_version": "1.2.0",
      "model_name": "LayoutModel",
      "state": {}
     },
     "f2cc7df09d0b472bba99ebec50691918": {
      "model_module": "@jupyter-widgets/base",
      "model_module_version": "1.2.0",
      "model_name": "LayoutModel",
      "state": {}
     },
     "f2dca1a201b047e1b7a8ee5c40f270db": {
      "model_module": "@jupyter-widgets/controls",
      "model_module_version": "1.5.0",
      "model_name": "TextModel",
      "state": {
       "description": "workspace_region",
       "layout": "IPY_MODEL_662cb679e6f94236a538cdaefdfe6a91",
       "placeholder": "Azure ML Workspace Region",
       "style": "IPY_MODEL_95ede35cbcb44c1fbd076f6db182d49f",
       "value": "eastus"
      }
     },
     "f33dcba0a9d842c5861d5a2f1a072f3e": {
      "model_module": "@jupyter-widgets/base",
      "model_module_version": "1.2.0",
      "model_name": "LayoutModel",
      "state": {}
     },
     "f33e16ef42f1481bb5c2b516edef16e4": {
      "model_module": "@jupyter-widgets/base",
      "model_module_version": "1.2.0",
      "model_name": "LayoutModel",
      "state": {}
     },
     "f34aa5dfce5b4b74811199c12b9e0d2c": {
      "model_module": "@jupyter-widgets/base",
      "model_module_version": "1.2.0",
      "model_name": "LayoutModel",
      "state": {}
     },
     "f35441b28ff74e8088e1504488b116b3": {
      "model_module": "@jupyter-widgets/controls",
      "model_module_version": "1.5.0",
      "model_name": "ButtonModel",
      "state": {
       "button_style": "success",
       "description": "Load Upload",
       "icon": "check",
       "layout": "IPY_MODEL_7ae643d7428c430bba03649d59466504",
       "style": "IPY_MODEL_7632c76cdff44f7282159880b9a6f003",
       "tooltip": "Click to save settings to file."
      }
     },
     "f36d0b2cefb4468faea3e767aae606dd": {
      "model_module": "@jupyter-widgets/base",
      "model_module_version": "1.2.0",
      "model_name": "LayoutModel",
      "state": {}
     },
     "f37ce6ffcf96495aa37a5251bfab9680": {
      "model_module": "@jupyter-widgets/controls",
      "model_module_version": "1.5.0",
      "model_name": "DescriptionStyleModel",
      "state": {
       "description_width": ""
      }
     },
     "f3886859f8a54afc9c606ac3ca0b7980": {
      "model_module": "@jupyter-widgets/controls",
      "model_module_version": "1.5.0",
      "model_name": "DescriptionStyleModel",
      "state": {
       "description_width": ""
      }
     },
     "f38bd70c76454695b8e189597b6723fe": {
      "model_module": "@jupyter-widgets/controls",
      "model_module_version": "1.5.0",
      "model_name": "DropdownModel",
      "state": {
       "_options_labels": [
        "eastus",
        "eastus2",
        "canadacentral",
        "centralus",
        "northcentralus",
        "southcentralus",
        "westcentralus",
        "westus",
        "westus2"
       ],
       "description": "deep_aks_location",
       "index": 0,
       "layout": "IPY_MODEL_d27e3e4257834feab7217d890261241b",
       "style": "IPY_MODEL_0a0349d2b1134aa28ee7b4e2cf4dbddb"
      }
     },
     "f3aa1528a9654bdcabf8c828c9ac27a4": {
      "model_module": "@jupyter-widgets/controls",
      "model_module_version": "1.5.0",
      "model_name": "DescriptionStyleModel",
      "state": {
       "description_width": ""
      }
     },
     "f3b5306345b140f6bce67b056a2f4e62": {
      "model_module": "@jupyter-widgets/controls",
      "model_module_version": "1.5.0",
      "model_name": "DescriptionStyleModel",
      "state": {
       "description_width": ""
      }
     },
     "f3c50b8b93b84907b61f297c4215a22d": {
      "model_module": "@jupyter-widgets/controls",
      "model_module_version": "1.5.0",
      "model_name": "DescriptionStyleModel",
      "state": {
       "description_width": ""
      }
     },
     "f3c98966aaa74227aac47a42bbb64479": {
      "model_module": "@jupyter-widgets/base",
      "model_module_version": "1.2.0",
      "model_name": "LayoutModel",
      "state": {}
     },
     "f3edaf341ced41bcb6a2c2fe9c143f76": {
      "model_module": "@jupyter-widgets/controls",
      "model_module_version": "1.5.0",
      "model_name": "ButtonModel",
      "state": {
       "description": "Use existing",
       "icon": "check",
       "layout": "IPY_MODEL_f493d6e1052245f0b42040009f89078a",
       "style": "IPY_MODEL_053ad5258370476db4ba94752aaadcd5",
       "tooltip": "Use an existing resource."
      }
     },
     "f41b790886ef4fd593edfa1e897d1047": {
      "model_module": "@jupyter-widgets/base",
      "model_module_version": "1.2.0",
      "model_name": "LayoutModel",
      "state": {}
     },
     "f41bb68a38284ccebfd959cb3eaada92": {
      "model_module": "@jupyter-widgets/base",
      "model_module_version": "1.2.0",
      "model_name": "LayoutModel",
      "state": {}
     },
     "f43252da92884fc985c091ab23557456": {
      "model_module": "@jupyter-widgets/controls",
      "model_module_version": "1.5.0",
      "model_name": "ButtonStyleModel",
      "state": {}
     },
     "f4883cd3c60d49b6b83841ae1e60ccad": {
      "model_module": "@jupyter-widgets/controls",
      "model_module_version": "1.5.0",
      "model_name": "DescriptionStyleModel",
      "state": {
       "description_width": ""
      }
     },
     "f493d6e1052245f0b42040009f89078a": {
      "model_module": "@jupyter-widgets/base",
      "model_module_version": "1.2.0",
      "model_name": "LayoutModel",
      "state": {}
     },
     "f4a457a277114bc5a91c293bf2c31ff1": {
      "model_module": "@jupyter-widgets/controls",
      "model_module_version": "1.5.0",
      "model_name": "ButtonStyleModel",
      "state": {}
     },
     "f4a9ae62b7c74eb894059cc3011397fb": {
      "model_module": "@jupyter-widgets/base",
      "model_module_version": "1.2.0",
      "model_name": "LayoutModel",
      "state": {}
     },
     "f4cdaade54f54aefbee08db82da5247c": {
      "model_module": "@jupyter-widgets/base",
      "model_module_version": "1.2.0",
      "model_name": "LayoutModel",
      "state": {}
     },
     "f4dfaa25907d437d88b02e7b80b7348e": {
      "model_module": "@jupyter-widgets/output",
      "model_module_version": "1.0.0",
      "model_name": "OutputModel",
      "state": {
       "layout": "IPY_MODEL_c492dccbe1794be0bcbfc009ed793433"
      }
     },
     "f4e522725bdf42539e27c2360839da1c": {
      "model_module": "@jupyter-widgets/base",
      "model_module_version": "1.2.0",
      "model_name": "LayoutModel",
      "state": {}
     },
     "f4f87d45be174b4382d1459266b7a56c": {
      "model_module": "@jupyter-widgets/controls",
      "model_module_version": "1.5.0",
      "model_name": "TextModel",
      "state": {
       "description": "experiment_name",
       "layout": "IPY_MODEL_9c6a358a0f1048569ee18d8e494f1c4d",
       "placeholder": "cpu cores for web service",
       "style": "IPY_MODEL_3008f3c85e9a47bb8e4724279b5ccc71",
       "value": "mlaks-train-on-local"
      }
     },
     "f50035c4e6eb492cb45a6546b7fe47f6": {
      "model_module": "@jupyter-widgets/controls",
      "model_module_version": "1.5.0",
      "model_name": "DropdownModel",
      "state": {
       "_options_labels": [
        "eastus",
        "eastus2",
        "canadacentral",
        "centralus",
        "northcentralus",
        "southcentralus",
        "westcentralus",
        "westus",
        "westus2"
       ],
       "description": "aks_location",
       "index": 0,
       "layout": "IPY_MODEL_fa8e63e52a934bfc99666c1f25d0490d",
       "style": "IPY_MODEL_b50216c9a3bb4f8f856833a5fdc427b4"
      }
     },
     "f512ba6c34a9459ab6026b0d796a622a": {
      "model_module": "@jupyter-widgets/controls",
      "model_module_version": "1.5.0",
      "model_name": "ButtonStyleModel",
      "state": {}
     },
     "f512ebc1643e475bab45b088af91f51d": {
      "model_module": "@jupyter-widgets/controls",
      "model_module_version": "1.5.0",
      "model_name": "DescriptionStyleModel",
      "state": {
       "description_width": ""
      }
     },
     "f57ca043413a47d69db50ca57ca88b0a": {
      "model_module": "@jupyter-widgets/base",
      "model_module_version": "1.2.0",
      "model_name": "LayoutModel",
      "state": {}
     },
     "f58d5da4ec1e4b88832e6141cf1f9c12": {
      "model_module": "@jupyter-widgets/base",
      "model_module_version": "1.2.0",
      "model_name": "LayoutModel",
      "state": {}
     },
     "f593d86ef8974333860fe92cc3f262a6": {
      "model_module": "@jupyter-widgets/controls",
      "model_module_version": "1.5.0",
      "model_name": "DescriptionStyleModel",
      "state": {
       "description_width": ""
      }
     },
     "f595c71e02e24389a8eb0477da69b1e4": {
      "model_module": "@jupyter-widgets/controls",
      "model_module_version": "1.5.0",
      "model_name": "TextModel",
      "state": {
       "description": "Sub ID:",
       "layout": "IPY_MODEL_1549024dc58e4447bc407197cb5a8523",
       "placeholder": "xxxx-xxxx-xxxx-xxxx-xxxx",
       "style": "IPY_MODEL_1f423e4a93b2473393f0a91123aa6a9d",
       "value": "<>"
      }
     },
     "f59faab9cfd74691b90e028d62fd6aca": {
      "model_module": "@jupyter-widgets/base",
      "model_module_version": "1.2.0",
      "model_name": "LayoutModel",
      "state": {}
     },
     "f601096649504500ab36f3a14a541cff": {
      "model_module": "@jupyter-widgets/controls",
      "model_module_version": "1.5.0",
      "model_name": "TextModel",
      "state": {
       "description": "aks_name",
       "layout": "IPY_MODEL_98f9c39f4f3f4e3287314882bc7af8bb",
       "placeholder": "AKS Cluster Name",
       "style": "IPY_MODEL_78c19076cdbf4761af1d20a574a27cae",
       "value": "akscluster2"
      }
     },
     "f6849b5584074d17824a7692d121cbe4": {
      "model_module": "@jupyter-widgets/controls",
      "model_module_version": "1.5.0",
      "model_name": "TextModel",
      "state": {
       "description": "deep_image_name",
       "layout": "IPY_MODEL_3c380ba5cb024f5f9979f2421333fb67",
       "placeholder": "Docker Container Image Name",
       "style": "IPY_MODEL_3c9f8c8a809343e1a962ab3337c7f79e",
       "value": "mydeepimage"
      }
     },
     "f6851d5f405b46439fb8160026ddb0f7": {
      "model_module": "@jupyter-widgets/controls",
      "model_module_version": "1.5.0",
      "model_name": "ButtonModel",
      "state": {
       "description": "Overwrite Settings",
       "icon": "check",
       "layout": "IPY_MODEL_dd9a3467d89140fa85dc992c01b0d165",
       "style": "IPY_MODEL_94d1af7ed3f04e9ca6557cab6c143c29",
       "tooltip": "Click to save settings to file."
      }
     },
     "f778bffc05424670b2f3340e535d78e6": {
      "model_module": "@jupyter-widgets/controls",
      "model_module_version": "1.5.0",
      "model_name": "VBoxModel",
      "state": {
       "children": [
        "IPY_MODEL_d28e401a764947f695c6054a09b4d0d3",
        "IPY_MODEL_8e0bde41666f448fbf7f727f2cfa0399",
        "IPY_MODEL_cb62d9eb65e94ede820b9dc96959d0c6",
        "IPY_MODEL_c806538578914107a2a0811ac2e86e9f",
        "IPY_MODEL_f7e902f05a724856bcbb67307db26e6c",
        "IPY_MODEL_4c6da92cef4e42aab181a9b9566c530e",
        "IPY_MODEL_19e783a76c0645c5bccf2122af7fec29",
        "IPY_MODEL_5610b22b93d84b42a3dceb0109dd3066",
        "IPY_MODEL_486d6e54da074c84a1c43617a9a103bb",
        "IPY_MODEL_18feacf1611c4d0698708d2a26f3805a",
        "IPY_MODEL_296691fd2c5841bba5a08ec0029a250a",
        "IPY_MODEL_07629cf8f90c4a12b9d91c2937bce933",
        "IPY_MODEL_88ec04a3f67044549f4cd8b5c3f3be57",
        "IPY_MODEL_5f025e6a952044ee9b89203ec222eb0f",
        "IPY_MODEL_9af81404c0764b748ca1e0ce1b874b81"
       ],
       "layout": "IPY_MODEL_d0ee6972c9b14fbab25706d92e33d607"
      }
     },
     "f79b515b846e49bdb94d010c9db290ef": {
      "model_module": "@jupyter-widgets/base",
      "model_module_version": "1.2.0",
      "model_name": "LayoutModel",
      "state": {}
     },
     "f7c7b63ed58b40288f24d5974fcec922": {
      "model_module": "@jupyter-widgets/base",
      "model_module_version": "1.2.0",
      "model_name": "LayoutModel",
      "state": {}
     },
     "f7d6a40a62054ed4bdd3467e2b2ba1c1": {
      "model_module": "@jupyter-widgets/controls",
      "model_module_version": "1.5.0",
      "model_name": "TextModel",
      "state": {
       "description": "workspace_region",
       "layout": "IPY_MODEL_a4c2950fbc1848798fd1ec8b41b0acad",
       "placeholder": "Azure ML Workspace Region",
       "style": "IPY_MODEL_47454dda558f4265a4faa781b987236f",
       "value": "eastus"
      }
     },
     "f7df9022f185457faa63a8969078a3ab": {
      "model_module": "@jupyter-widgets/controls",
      "model_module_version": "1.5.0",
      "model_name": "TextModel",
      "state": {
       "description": "deep_aks_location",
       "layout": "IPY_MODEL_9a8fb91623434d53a26754ce8b8ddf36",
       "placeholder": "AKS Azure Region",
       "style": "IPY_MODEL_0d95dca711e74c86b9267a34318ade67"
      }
     },
     "f7e902f05a724856bcbb67307db26e6c": {
      "model_module": "@jupyter-widgets/controls",
      "model_module_version": "1.5.0",
      "model_name": "TextModel",
      "state": {
       "description": "workspace_name",
       "layout": "IPY_MODEL_7d5fe4938ac645cca1c35bce6c07a535",
       "placeholder": "Azure ML Workspace Name",
       "style": "IPY_MODEL_fc756aea19a34c8c96b1ae2c2a16f260",
       "value": "azmlrts-eastus"
      }
     },
     "f7ead99768474976abac8dea52e98dd8": {
      "model_module": "@jupyter-widgets/controls",
      "model_module_version": "1.5.0",
      "model_name": "DescriptionStyleModel",
      "state": {
       "description_width": ""
      }
     },
     "f7fec581f34441e885eb8e2f9bc60d42": {
      "model_module": "@jupyter-widgets/controls",
      "model_module_version": "1.5.0",
      "model_name": "ButtonModel",
      "state": {
       "button_style": "success",
       "description": "Update Settings",
       "icon": "check",
       "layout": "IPY_MODEL_e832b357de6f40ac8314105d56321c63",
       "style": "IPY_MODEL_4e7a51127d5c4a718d1c2e7fefe33acb",
       "tooltip": "Click to save settings to file."
      }
     },
     "f808df7881ff4abf8b5f02e507fd184a": {
      "model_module": "@jupyter-widgets/controls",
      "model_module_version": "1.5.0",
      "model_name": "DescriptionStyleModel",
      "state": {
       "description_width": ""
      }
     },
     "f80b4846ac5743df8403b04c3c773c91": {
      "model_module": "@jupyter-widgets/base",
      "model_module_version": "1.2.0",
      "model_name": "LayoutModel",
      "state": {}
     },
     "f818b1d854ae4d30aad55d9051652159": {
      "model_module": "@jupyter-widgets/controls",
      "model_module_version": "1.5.0",
      "model_name": "TextModel",
      "state": {
       "description": "deep_image_name",
       "layout": "IPY_MODEL_436e31fa55d14826a24f2cf8fd45dbe7",
       "placeholder": "Docker Container Image Name",
       "style": "IPY_MODEL_b82d074560c844eb836e84564e2d5f10",
       "value": "mydeepimage"
      }
     },
     "f8553ae8f9674aa3bd794c6f87ce1651": {
      "model_module": "@jupyter-widgets/controls",
      "model_module_version": "1.5.0",
      "model_name": "ButtonModel",
      "state": {
       "description": "Use existing",
       "layout": "IPY_MODEL_88482b401f6e4bd1bdef40c0abc72783",
       "style": "IPY_MODEL_166d0ee31bb845b9abd0ba3712990268",
       "tooltip": "Use an existing resource."
      }
     },
     "f877d11837ec4b21afe7321837287e56": {
      "model_module": "@jupyter-widgets/controls",
      "model_module_version": "1.5.0",
      "model_name": "DescriptionStyleModel",
      "state": {
       "description_width": ""
      }
     },
     "f8aee36c43674ce380dee8491590e343": {
      "model_module": "@jupyter-widgets/base",
      "model_module_version": "1.2.0",
      "model_name": "LayoutModel",
      "state": {}
     },
     "f8e3e1568c164327bd46124518956e94": {
      "model_module": "@jupyter-widgets/base",
      "model_module_version": "1.2.0",
      "model_name": "LayoutModel",
      "state": {}
     },
     "f8e80daaa42e4c48aa95ac5f9de1e5c6": {
      "model_module": "@jupyter-widgets/base",
      "model_module_version": "1.2.0",
      "model_name": "LayoutModel",
      "state": {}
     },
     "f90405b9904642328a23cc90815dfb9a": {
      "model_module": "@jupyter-widgets/controls",
      "model_module_version": "1.5.0",
      "model_name": "DescriptionStyleModel",
      "state": {
       "description_width": ""
      }
     },
     "f91aa293116d4ecaabf4eab222667b8a": {
      "model_module": "@jupyter-widgets/controls",
      "model_module_version": "1.5.0",
      "model_name": "DescriptionStyleModel",
      "state": {
       "description_width": ""
      }
     },
     "f92dec5a02f64faabc659584e416c3f0": {
      "model_module": "@jupyter-widgets/base",
      "model_module_version": "1.2.0",
      "model_name": "LayoutModel",
      "state": {}
     },
     "f942b23ac943463195f7395f0559a0e0": {
      "model_module": "@jupyter-widgets/base",
      "model_module_version": "1.2.0",
      "model_name": "LayoutModel",
      "state": {}
     },
     "f94790fbc87642a19c737ad701c84365": {
      "model_module": "@jupyter-widgets/controls",
      "model_module_version": "1.5.0",
      "model_name": "ButtonModel",
      "state": {
       "description": "Save Upload",
       "icon": "check",
       "layout": "IPY_MODEL_75f364c6a7564a81b4fdc3473b9becd1",
       "style": "IPY_MODEL_7f3db6e865b44521979ebaf356514eea",
       "tooltip": "Click to save settings to file."
      }
     },
     "f9566646206a4c138547bfc4bee91a77": {
      "model_module": "@jupyter-widgets/controls",
      "model_module_version": "1.5.0",
      "model_name": "ButtonStyleModel",
      "state": {}
     },
     "f98222bb2fd24b50b0f07b3162e75a6a": {
      "model_module": "@jupyter-widgets/base",
      "model_module_version": "1.2.0",
      "model_name": "LayoutModel",
      "state": {}
     },
     "f9ad0843a6a94b32a8b4172164395ea1": {
      "model_module": "@jupyter-widgets/controls",
      "model_module_version": "1.5.0",
      "model_name": "ButtonModel",
      "state": {
       "description": "Save Upload",
       "icon": "check",
       "layout": "IPY_MODEL_5575769967e14c8e80ee85d82d5cb13f",
       "style": "IPY_MODEL_cb80a89d695c494fbc93ad727151ebce",
       "tooltip": "Click to save settings to file."
      }
     },
     "f9ba1fb1024c4621ad59388a8e6b9d7c": {
      "model_module": "@jupyter-widgets/base",
      "model_module_version": "1.2.0",
      "model_name": "LayoutModel",
      "state": {}
     },
     "f9df60c5eb8b431cbab79b4a48b870e9": {
      "model_module": "@jupyter-widgets/base",
      "model_module_version": "1.2.0",
      "model_name": "LayoutModel",
      "state": {}
     },
     "f9f53e8a08a7487a8fab7fead9c30033": {
      "model_module": "@jupyter-widgets/base",
      "model_module_version": "1.2.0",
      "model_name": "LayoutModel",
      "state": {}
     },
     "fa1097781ec74a77a5575382d185c23b": {
      "model_module": "@jupyter-widgets/controls",
      "model_module_version": "1.5.0",
      "model_name": "ButtonStyleModel",
      "state": {}
     },
     "fa55224715b24295b1b930ba2434574a": {
      "model_module": "@jupyter-widgets/controls",
      "model_module_version": "1.5.0",
      "model_name": "DescriptionStyleModel",
      "state": {
       "description_width": ""
      }
     },
     "fa67e3a67d414fb192e3bd6a880b78a2": {
      "model_module": "@jupyter-widgets/controls",
      "model_module_version": "1.5.0",
      "model_name": "ButtonModel",
      "state": {
       "button_style": "success",
       "description": "Save Upload",
       "icon": "check",
       "layout": "IPY_MODEL_52e143677a2040369954fc2ace0e0464",
       "style": "IPY_MODEL_a246f9ce8d244d57815d0f3f225ea75a",
       "tooltip": "Click to save settings to file."
      }
     },
     "fa760783d2154f5586075680ea0a2ab2": {
      "model_module": "@jupyter-widgets/controls",
      "model_module_version": "1.5.0",
      "model_name": "TextModel",
      "state": {
       "description": "aks_name",
       "layout": "IPY_MODEL_0d94a3aa16a447a580839ec667b53fa5",
       "placeholder": "AKS Cluster Name",
       "style": "IPY_MODEL_9a3281ee85d74c6baeb457bda846cf2d",
       "value": "akscluster2"
      }
     },
     "fa8e63e52a934bfc99666c1f25d0490d": {
      "model_module": "@jupyter-widgets/base",
      "model_module_version": "1.2.0",
      "model_name": "LayoutModel",
      "state": {}
     },
     "fa9dbd4857044637af5542d36cfc4f41": {
      "model_module": "@jupyter-widgets/controls",
      "model_module_version": "1.5.0",
      "model_name": "TextModel",
      "state": {
       "description": "deep_aks_service_name",
       "layout": "IPY_MODEL_369d4117579f4725a2f630fd661aa776",
       "placeholder": "AKS Service Name",
       "style": "IPY_MODEL_f203a12e96a744cfb11c306f968f7792",
       "value": "deepaksservice"
      }
     },
     "fac1a6fc879a49e9952a05808149b652": {
      "model_module": "@jupyter-widgets/controls",
      "model_module_version": "1.5.0",
      "model_name": "ButtonModel",
      "state": {
       "description": "Overwrite Settings",
       "icon": "check",
       "layout": "IPY_MODEL_061e2cc11e12478ab853cbcff4931850",
       "style": "IPY_MODEL_dc910c4c8ae8415d87415bb8818884ce",
       "tooltip": "Click to save settings to file."
      }
     },
     "fae3ce50ea444bd9b655992206b30ef5": {
      "model_module": "@jupyter-widgets/base",
      "model_module_version": "1.2.0",
      "model_name": "LayoutModel",
      "state": {}
     },
     "faf2a30898bf4556ad7e8056938d3fad": {
      "model_module": "@jupyter-widgets/controls",
      "model_module_version": "1.5.0",
      "model_name": "ButtonModel",
      "state": {
       "description": "Overwrite Settings",
       "icon": "check",
       "layout": "IPY_MODEL_fd2fb99c965c4b9f885496a729fb6998",
       "style": "IPY_MODEL_4603f2f6b9214f019e8d94606aec0379",
       "tooltip": "Click to save settings to file."
      }
     },
     "fb20074639804f2c92fd2bd68dfb8f50": {
      "model_module": "@jupyter-widgets/controls",
      "model_module_version": "1.5.0",
      "model_name": "DescriptionStyleModel",
      "state": {
       "description_width": ""
      }
     },
     "fb263624878f4e4089f4f1d7dfe0c65c": {
      "model_module": "@jupyter-widgets/controls",
      "model_module_version": "1.5.0",
      "model_name": "TextModel",
      "state": {
       "description": "aks_service_name",
       "layout": "IPY_MODEL_ebd9065aa5e44ad2baf04e7a4dcba24f",
       "placeholder": "AKS Service Name",
       "style": "IPY_MODEL_ff3af696024d4e67bfc93be7967748bc",
       "value": "aksservice2"
      }
     },
     "fb289fc930c142b29dc8f2b24918deb1": {
      "model_module": "@jupyter-widgets/base",
      "model_module_version": "1.2.0",
      "model_name": "LayoutModel",
      "state": {}
     },
     "fb2bd9d0313e4095bf0dbcae5f0b5ba1": {
      "model_module": "@jupyter-widgets/controls",
      "model_module_version": "1.5.0",
      "model_name": "ButtonModel",
      "state": {
       "description": "Use existing",
       "layout": "IPY_MODEL_f1434853e3d64471b292fc1ec60457c9",
       "style": "IPY_MODEL_cb3f3e3addbf407da220b53a310df618",
       "tooltip": "Use an existing resource."
      }
     },
     "fb4a562821b04742a38f43b8c964cd45": {
      "model_module": "@jupyter-widgets/controls",
      "model_module_version": "1.5.0",
      "model_name": "TextModel",
      "state": {
       "description": "vm_size",
       "layout": "IPY_MODEL_e51a8e13acd749b8a1e0dbfd7d45ebdc",
       "placeholder": "skew of vms in Kubernetes cluster",
       "style": "IPY_MODEL_9dad37f9f1f94c50b1f8e6f232b7e53a",
       "value": "Standard_D4_v2"
      }
     },
     "fb908a6a1d5d4b7e8ba2da6adc81061b": {
      "model_module": "@jupyter-widgets/base",
      "model_module_version": "1.2.0",
      "model_name": "LayoutModel",
      "state": {}
     },
     "fba5cd555d5f43caa7e13afbb33aced1": {
      "model_module": "@jupyter-widgets/base",
      "model_module_version": "1.2.0",
      "model_name": "LayoutModel",
      "state": {}
     },
     "fba7176fc1c84ce787a448624806c1d7": {
      "model_module": "@jupyter-widgets/base",
      "model_module_version": "1.2.0",
      "model_name": "LayoutModel",
      "state": {}
     },
     "fbcef6b702894a9db4af8558f24cc7be": {
      "model_module": "@jupyter-widgets/controls",
      "model_module_version": "1.5.0",
      "model_name": "ButtonStyleModel",
      "state": {}
     },
     "fc01489a71584e449eb6a66e4eb1cd80": {
      "model_module": "@jupyter-widgets/controls",
      "model_module_version": "1.5.0",
      "model_name": "ButtonStyleModel",
      "state": {}
     },
     "fc33a18d9299493f91780615817f8686": {
      "model_module": "@jupyter-widgets/controls",
      "model_module_version": "1.5.0",
      "model_name": "DescriptionStyleModel",
      "state": {
       "description_width": ""
      }
     },
     "fc4bb417220a49cc878f66404e2db279": {
      "model_module": "@jupyter-widgets/base",
      "model_module_version": "1.2.0",
      "model_name": "LayoutModel",
      "state": {}
     },
     "fc6ec15ace4b4e7bb5224eb0afe1a6c8": {
      "model_module": "@jupyter-widgets/controls",
      "model_module_version": "1.5.0",
      "model_name": "DescriptionStyleModel",
      "state": {
       "description_width": ""
      }
     },
     "fc74c5f41f8c4ae0bb5a076c746d5bfd": {
      "model_module": "@jupyter-widgets/controls",
      "model_module_version": "1.5.0",
      "model_name": "DescriptionStyleModel",
      "state": {
       "description_width": ""
      }
     },
     "fc756aea19a34c8c96b1ae2c2a16f260": {
      "model_module": "@jupyter-widgets/controls",
      "model_module_version": "1.5.0",
      "model_name": "DescriptionStyleModel",
      "state": {
       "description_width": ""
      }
     },
     "fc78699d9aec49d8b565ea15819db6c8": {
      "model_module": "@jupyter-widgets/base",
      "model_module_version": "1.2.0",
      "model_name": "LayoutModel",
      "state": {}
     },
     "fc91b7263c01401cb552850a9b97dd3a": {
      "model_module": "@jupyter-widgets/controls",
      "model_module_version": "1.5.0",
      "model_name": "DescriptionStyleModel",
      "state": {
       "description_width": ""
      }
     },
     "fc9eb067939d4071a11c64accc983d08": {
      "model_module": "@jupyter-widgets/base",
      "model_module_version": "1.2.0",
      "model_name": "LayoutModel",
      "state": {}
     },
     "fcbd7157da8e4db0a0f349e5dbb75ed0": {
      "model_module": "@jupyter-widgets/base",
      "model_module_version": "1.2.0",
      "model_name": "LayoutModel",
      "state": {}
     },
     "fcd9ff4d491a42f783f924132c91e461": {
      "model_module": "@jupyter-widgets/base",
      "model_module_version": "1.2.0",
      "model_name": "LayoutModel",
      "state": {}
     },
     "fd1eacb55a9042bbbaf1625525cf90fb": {
      "model_module": "@jupyter-widgets/controls",
      "model_module_version": "1.5.0",
      "model_name": "DescriptionStyleModel",
      "state": {
       "description_width": ""
      }
     },
     "fd2fb99c965c4b9f885496a729fb6998": {
      "model_module": "@jupyter-widgets/base",
      "model_module_version": "1.2.0",
      "model_name": "LayoutModel",
      "state": {}
     },
     "fd310be056eb49789711d6c8fb6f4768": {
      "model_module": "@jupyter-widgets/controls",
      "model_module_version": "1.5.0",
      "model_name": "HBoxModel",
      "state": {
       "children": [
        "IPY_MODEL_3f80dfd3097a47bf9535ff5c14704234"
       ],
       "layout": "IPY_MODEL_302fe47b3a5f4d50929ab548715ec075"
      }
     },
     "fd37c0af771e40809848b1cfd1e770c9": {
      "model_module": "@jupyter-widgets/controls",
      "model_module_version": "1.5.0",
      "model_name": "DescriptionStyleModel",
      "state": {
       "description_width": ""
      }
     },
     "fd828a22db96462aa1b95c2d6c5505b7": {
      "model_module": "@jupyter-widgets/controls",
      "model_module_version": "1.5.0",
      "model_name": "ButtonModel",
      "state": {
       "description": "Use existing",
       "layout": "IPY_MODEL_9647eac563f04b7e9024b03456402b2f",
       "style": "IPY_MODEL_f512ba6c34a9459ab6026b0d796a622a",
       "tooltip": "Use an existing resource."
      }
     },
     "fd90d931d53e4a379126f568f39e1a6a": {
      "model_module": "@jupyter-widgets/controls",
      "model_module_version": "1.5.0",
      "model_name": "TextModel",
      "state": {
       "description": "workspace_region",
       "layout": "IPY_MODEL_3d8f53e22edc437da98457f4e2daebc8",
       "placeholder": "Azure ML Workspace Region",
       "style": "IPY_MODEL_82474240717c4f5685e8db9d4fe52bc0",
       "value": "eastus"
      }
     },
     "fd937fdf6efd4c1785c0aa36196a761a": {
      "model_module": "@jupyter-widgets/controls",
      "model_module_version": "1.5.0",
      "model_name": "DescriptionStyleModel",
      "state": {
       "description_width": ""
      }
     },
     "fdb701ab074842b68884e8305dc9ccfe": {
      "model_module": "@jupyter-widgets/controls",
      "model_module_version": "1.5.0",
      "model_name": "HBoxModel",
      "state": {
       "children": [
        "IPY_MODEL_43bae8587fdb4bf0934461f1c390db1a",
        "IPY_MODEL_ccd80b2b70f9440a8d35c0290bf7274e"
       ],
       "layout": "IPY_MODEL_18753963cff443eb8b730606fcc5335f"
      }
     },
     "fdb7e9e74b804d8e838b6c713ff3bbe0": {
      "model_module": "@jupyter-widgets/controls",
      "model_module_version": "1.5.0",
      "model_name": "DescriptionStyleModel",
      "state": {
       "description_width": ""
      }
     },
     "fe0c474791b747d88d175226a15a1c4d": {
      "model_module": "@jupyter-widgets/controls",
      "model_module_version": "1.5.0",
      "model_name": "DescriptionStyleModel",
      "state": {
       "description_width": ""
      }
     },
     "fe27916538a549e0b8ca70a7a7f4e2d1": {
      "model_module": "@jupyter-widgets/controls",
      "model_module_version": "1.5.0",
      "model_name": "DescriptionStyleModel",
      "state": {
       "description_width": ""
      }
     },
     "fe2800f9f04842189377b7809a155de9": {
      "model_module": "@jupyter-widgets/controls",
      "model_module_version": "1.5.0",
      "model_name": "TextModel",
      "state": {
       "description": "deep_image_name",
       "layout": "IPY_MODEL_696c8ff14b834fc4b0399453e0b62b2a",
       "placeholder": "Docker Container Image Name",
       "style": "IPY_MODEL_2475c6a9223a43b998eeaddcb8e1e72e",
       "value": "mydeepimage"
      }
     },
     "fe54e2197245413798d37267e0fd328b": {
      "model_module": "@jupyter-widgets/base",
      "model_module_version": "1.2.0",
      "model_name": "LayoutModel",
      "state": {}
     },
     "fe69356250284a3ab419877b1b8a6511": {
      "model_module": "@jupyter-widgets/base",
      "model_module_version": "1.2.0",
      "model_name": "LayoutModel",
      "state": {}
     },
     "fe6c73bbbbe24d33a28d0179b800ca64": {
      "model_module": "@jupyter-widgets/controls",
      "model_module_version": "1.5.0",
      "model_name": "TextModel",
      "state": {
       "description": "deep_aks_service_name",
       "layout": "IPY_MODEL_6034fc793e6746bc98805db853e1af5e",
       "placeholder": "AKS Service Name",
       "style": "IPY_MODEL_e810c457946f4d1a97abfbff798c509c",
       "value": "deepaksservice"
      }
     },
     "fe8f78176afa470bbb0b503bb3411b84": {
      "model_module": "@jupyter-widgets/base",
      "model_module_version": "1.2.0",
      "model_name": "LayoutModel",
      "state": {}
     },
     "ff3af696024d4e67bfc93be7967748bc": {
      "model_module": "@jupyter-widgets/controls",
      "model_module_version": "1.5.0",
      "model_name": "DescriptionStyleModel",
      "state": {
       "description_width": ""
      }
     },
     "ff82166cb84848e0bcb13d8a0be9c322": {
      "model_module": "@jupyter-widgets/base",
      "model_module_version": "1.2.0",
      "model_name": "LayoutModel",
      "state": {}
     },
     "ff9764046c044e1c91846198af2dc090": {
      "model_module": "@jupyter-widgets/controls",
      "model_module_version": "1.5.0",
      "model_name": "DropdownModel",
      "state": {
       "_options_labels": [
        "eastus",
        "eastus2",
        "canadacentral",
        "centralus",
        "northcentralus",
        "southcentralus",
        "westcentralus",
        "westus",
        "westus2"
       ],
       "description": "deep_aks_location",
       "index": 0,
       "layout": "IPY_MODEL_83b7d864f0e7483d81cd6baf16f748cf",
       "style": "IPY_MODEL_67abfe1381b6461f8b8cd4213911e91e"
      }
     },
     "ff9c3ff8a7844c1ba313b5596b303627": {
      "model_module": "@jupyter-widgets/base",
      "model_module_version": "1.2.0",
      "model_name": "LayoutModel",
      "state": {}
     },
     "ffa8f60c57ca476390835d7698545dcd": {
      "model_module": "@jupyter-widgets/base",
      "model_module_version": "1.2.0",
      "model_name": "LayoutModel",
      "state": {}
     },
     "ffc5fc305b024553b216375a99522c3a": {
      "model_module": "@jupyter-widgets/controls",
      "model_module_version": "1.5.0",
      "model_name": "DescriptionStyleModel",
      "state": {
       "description_width": ""
      }
     },
     "ffca39219c314a409eb25d9d1ebf0959": {
      "model_module": "@jupyter-widgets/controls",
      "model_module_version": "1.5.0",
      "model_name": "TextModel",
      "state": {
       "description": "deep_aks_name",
       "layout": "IPY_MODEL_32b47e5ffb0d4ac28e3d56a8150d420a",
       "placeholder": "AKS Cluster Name",
       "style": "IPY_MODEL_631ede7e2fa14527a19a5b7001794e06",
       "value": "deepakscluster"
      }
     },
     "ffce832e1f3d40d78c6aaf3e91ec6b50": {
      "model_module": "@jupyter-widgets/controls",
      "model_module_version": "1.5.0",
      "model_name": "TextModel",
      "state": {
       "description": "workspace_name",
       "layout": "IPY_MODEL_ff9c3ff8a7844c1ba313b5596b303627",
       "placeholder": "Azure ML Workspace Name",
       "style": "IPY_MODEL_b536416feee34246a350b14dea0ac3ff",
       "value": "azmlrts-eastus"
      }
     },
     "ffd8811c69a44e8cb04fab1a6fbc3ea7": {
      "model_module": "@jupyter-widgets/controls",
      "model_module_version": "1.5.0",
      "model_name": "TextModel",
      "state": {
       "description": "resource_group",
       "layout": "IPY_MODEL_8f60df63d7794bec9d0fc83acb076c36",
       "placeholder": "Azure Resource Group Name",
       "style": "IPY_MODEL_7490990a014d490187290be25538d622",
       "value": "azmlrts-eastus-stable"
      }
     }
    },
    "version_major": 2,
    "version_minor": 0
   }
  }
 },
 "nbformat": 4,
 "nbformat_minor": 4
}