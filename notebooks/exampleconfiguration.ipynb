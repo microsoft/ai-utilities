{
 "cells": [
  {
   "cell_type": "markdown",
   "metadata": {},
   "source": [
    "Using the configuration library is simple. Import the configure_settings function and call it. The only requirement\n",
    "for successful collection is to have an existing project.yml file in the current directory of the notebooks. \n",
    "\n",
    "This example project has one, so we will call configure_settings from there. \n",
    "\n",
    "Further usage require us to load the settings. Instead of having the user have to import other libraries, we expose a\n",
    "second function from notebook_config called get_settings() which will return an instance of ProjectConfiguration. \n",
    "\n",
    "To complete this example, we will obtain an instance and print out settings values. "
   ]
  },
  {
   "cell_type": "code",
   "execution_count": null,
   "metadata": {},
   "outputs": [],
   "source": [
    "from azure_utils.configuration.notebook_config import get_or_configure_settings"
   ]
  },
  {
   "cell_type": "markdown",
   "metadata": {},
   "source": [
    "Now that the functions are imported, lets bring up the UI to configure the settings ONLY if the subscription_id \n",
    "setting has not been modified from it's original value of '<>'."
   ]
  },
  {
   "cell_type": "code",
   "execution_count": null,
   "metadata": {},
   "outputs": [],
   "source": [
    "settings_object = get_or_configure_settings()"
   ]
  },
  {
   "cell_type": "markdown",
   "metadata": {},
   "source": [
    "Finally, get an instance of the settings. You will do this in the main (configurable) notebook, and all follow on \n",
    "notebooks. \n",
    "\n",
    "From the default provided file we know the following settings are there.\n",
    "\n",
    "subscription_id, resource_group"
   ]
  },
  {
   "cell_type": "code",
   "execution_count": null,
   "metadata": {
    "pycharm": {
     "name": "#%%\n"
    }
   },
   "outputs": [],
   "source": [
    "sub_id = settings_object.get_value('subscription_id')\n",
    "rsrc_grp = settings_object.get_value('resource_group')\n",
    "\n",
    "print(sub_id, rsrc_grp)"
   ]
  },
  {
   "cell_type": "markdown",
   "source": [
    "You have completed this sample notebook."
   ],
   "metadata": {
    "collapsed": false
   }
  },
  {
   "cell_type": "markdown",
   "source": [
    "You are now ready to move on to the [AutoML Local](01_DataPrep.ipynb) notebook."
   ],
   "metadata": {
    "collapsed": false
   }
  }
 ],
 "metadata": {
  "kernelspec": {
   "display_name": "Python [conda env:ai-utilities] *",
   "language": "python",
   "name": "ai-utilities"
  },
  "language_info": {
   "codemirror_mode": {
    "name": "ipython",
    "version": 3
   },
   "file_extension": ".py",
   "mimetype": "text/x-python",
   "name": "python",
   "nbconvert_exporter": "python",
   "pygments_lexer": "ipython3",
   "version": "3.6.2"
  },
  "pycharm": {
   "stem_cell": {
    "cell_type": "raw",
    "source": [],
    "metadata": {
     "collapsed": false
    }
   }
  }
 },
 "nbformat": 4,
 "nbformat_minor": 4
}