{
 "cells": [
  {
   "cell_type": "markdown",
   "metadata": {},
   "source": [
    "[![Azure Notebooks](https://notebooks.azure.com/launch.png)](https://notebooks.azure.com/import/gh/microsoft/AI-Utilities)\n",
    "[![Binder](https://mybinder.org/badge_logo.svg)](https://mybinder.org/v2/gh/microsoft/AI-Utilities/deep_learning_2?filepath=notebooks%2Fai-deep-realtime-score.ipynb)\n",
    "[![Open In Colab](https://colab.research.google.com/assets/colab-badge.svg)](http://colab.research.google.com/github/microsoft/AI-Utilities/blob/deep_learning_2/notebooks/ai-deep-realtime-score.ipynb)"
   ]
  },
  {
   "cell_type": "markdown",
   "metadata": {
    "toc": true
   },
   "source": [
    "<h1>Table of Contents<span class=\"tocSkip\"></span></h1>\n",
    "<div class=\"toc\"><ul class=\"toc-item\"><li><span><a href=\"#Deploy-Solution\" data-toc-modified-id=\"Deploy-Solution-1\">Deploy Solution</a></span><ul class=\"toc-item\"><li><span><a href=\"#Create-Configuration\" data-toc-modified-id=\"Create-Configuration-1.1\">Create Configuration</a></span></li><li><span><a href=\"#Create-Train.py\" data-toc-modified-id=\"Create-Train.py-1.2\">Create Train.py</a></span></li><li><span><a href=\"#Create-Score.py\" data-toc-modified-id=\"Create-Score.py-1.3\">Create Score.py</a></span></li><li><span><a href=\"#Deploy-to-Azure-Kubernetes-Service-with-Azure-ML\" data-toc-modified-id=\"Deploy-to-Azure-Kubernetes-Service-with-Azure-ML-1.4\">Deploy to Azure Kubernetes Service with Azure ML</a></span></li></ul></li><li><span><a href=\"#Deploy-Services\" data-toc-modified-id=\"Deploy-Services-2\">Deploy Services</a></span><ul class=\"toc-item\"><li><span><a href=\"#Machine-Learning-Studio\" data-toc-modified-id=\"Machine-Learning-Studio-2.1\">Machine Learning Studio</a></span></li><li><span><a href=\"#Kubernetes\" data-toc-modified-id=\"Kubernetes-2.2\">Kubernetes</a></span></li><li><span><a href=\"#Application-Insights\" data-toc-modified-id=\"Application-Insights-2.3\">Application Insights</a></span><ul class=\"toc-item\"><li><span><a href=\"#Main\" data-toc-modified-id=\"Main-2.3.1\">Main</a></span></li><li><span><a href=\"#Availability\" data-toc-modified-id=\"Availability-2.3.2\">Availability</a></span></li><li><span><a href=\"#Performance-Dashboard\" data-toc-modified-id=\"Performance-Dashboard-2.3.3\">Performance Dashboard</a></span></li><li><span><a href=\"#Load-Test\" data-toc-modified-id=\"Load-Test-2.3.4\">Load Test</a></span></li></ul></li></ul></li></ul></div>"
   ]
  },
  {
   "cell_type": "markdown",
   "metadata": {
    "init_cell": true,
    "pycharm": {
     "is_executing": false,
     "name": "#%% md\n"
    }
   },
   "source": [
    "## Deploy Solution\n",
    "\n",
    "### Sample Configuration Widget\n",
    "![Configuration Widget](https://raw.githubusercontent.com/microsoft/AI-Utilities/master/docs/conda_ui.png)\n",
    "\n",
    "Run the following code to produce the configuration widget. Enter configuration settings, or upload an existing project.yml.\n",
    "\n",
    "### Create Configuration Widget\n"
   ]
  },
  {
   "cell_type": "code",
   "execution_count": 1,
   "metadata": {
    "ExecuteTime": {
     "end_time": "2020-03-06T06:15:04.044101Z",
     "start_time": "2020-03-06T06:14:15.113616Z"
    },
    "init_cell": true,
    "pycharm": {
     "is_executing": true
    }
   },
   "outputs": [
    {
     "data": {
      "application/vnd.jupyter.widget-view+json": {
       "model_id": "5dcf812c661946a08d68de1192f14b3b",
       "version_major": 2,
       "version_minor": 0
      },
      "text/plain": [
       "VBox(children=(Output(), FileUpload(value={}, accept='.yml', description='Upload'), Text(value='0ca618d2-22a8-…"
      ]
     },
     "metadata": {},
     "output_type": "display_data"
    }
   ],
   "source": [
    "import os\n",
    "\n",
    "from azure_utils.notebook_widgets.notebook_configuration_widget import get_configuration_widget\n",
    "\n",
    "project_configuration = \"notebook_project.yml\"\n",
    "os.makedirs(\"script\", exist_ok=True)\n",
    "os.makedirs(\"source\", exist_ok=True)\n",
    "configuration_widget = get_configuration_widget(project_configuration)\n",
    "configuration_widget"
   ]
  },
  {
   "cell_type": "markdown",
   "metadata": {
    "pycharm": {
     "name": "#%% md\n"
    }
   },
   "source": [
    "### Create Train.py\n",
    "\n",
    "The following code trains a model and saves it to the output directory."
   ]
  },
  {
   "cell_type": "code",
   "execution_count": 7,
   "metadata": {
    "pycharm": {
     "name": "#%%\n"
    }
   },
   "outputs": [
    {
     "name": "stdout",
     "output_type": "stream",
     "text": [
      "Overwriting script/train_dl.py\n"
     ]
    }
   ],
   "source": [
    "%%writefile script/train_dl.py\n",
    "\n",
    "from azure_utils.samples.deep_rts_samples import MakeResNet152\n",
    "\n",
    "if __name__ == \"__main__\":\n",
    "    import warnings\n",
    "\n",
    "    with warnings.catch_warnings():\n",
    "        warnings.filterwarnings(\"ignore\", category=FutureWarning)\n",
    "        import tensorflow as tf\n",
    "\n",
    "        tf.logging.set_verbosity(tf.logging.ERROR)\n",
    "        import os\n",
    "        os.makedirs(\"outputs\", exist_ok=True)\n",
    "\n",
    "        model = MakeResNet152(include_top=False, input_shape=(200, 200, 3), pooling=\"avg\", weights=\"imagenet\")\n",
    "        model.save_weights(\"outputs/model.pkl\")\n"
   ]
  },
  {
   "cell_type": "code",
   "execution_count": null,
   "metadata": {
    "pycharm": {
     "name": "#%%\n"
    }
   },
   "outputs": [
    {
     "name": "stdout",
     "output_type": "stream",
     "text": [
      "tracking <tf.Variable 'scale_conv1_1/scale_conv1_gamma:0' shape=(64,) dtype=float32> gamma\n",
      "tracking <tf.Variable 'scale_conv1_1/scale_conv1_beta:0' shape=(64,) dtype=float32> beta\n",
      "tracking <tf.Variable 'scale2a_branch2a_1/scale2a_branch2a_gamma:0' shape=(64,) dtype=float32> gamma\n",
      "tracking <tf.Variable 'scale2a_branch2a_1/scale2a_branch2a_beta:0' shape=(64,) dtype=float32> beta\n",
      "tracking <tf.Variable 'scale2a_branch2b_1/scale2a_branch2b_gamma:0' shape=(64,) dtype=float32> gamma\n",
      "tracking <tf.Variable 'scale2a_branch2b_1/scale2a_branch2b_beta:0' shape=(64,) dtype=float32> beta\n",
      "tracking <tf.Variable 'scale2a_branch2c_1/scale2a_branch2c_gamma:0' shape=(256,) dtype=float32> gamma\n",
      "tracking <tf.Variable 'scale2a_branch2c_1/scale2a_branch2c_beta:0' shape=(256,) dtype=float32> beta\n",
      "tracking <tf.Variable 'scale2a_branch1_1/scale2a_branch1_gamma:0' shape=(256,) dtype=float32> gamma\n",
      "tracking <tf.Variable 'scale2a_branch1_1/scale2a_branch1_beta:0' shape=(256,) dtype=float32> beta\n",
      "tracking <tf.Variable 'scale2b_branch2a_1/scale2b_branch2a_gamma:0' shape=(64,) dtype=float32> gamma\n",
      "tracking <tf.Variable 'scale2b_branch2a_1/scale2b_branch2a_beta:0' shape=(64,) dtype=float32> beta\n",
      "tracking <tf.Variable 'scale2b_branch2b_1/scale2b_branch2b_gamma:0' shape=(64,) dtype=float32> gamma\n",
      "tracking <tf.Variable 'scale2b_branch2b_1/scale2b_branch2b_beta:0' shape=(64,) dtype=float32> beta\n",
      "tracking <tf.Variable 'scale2b_branch2c_1/scale2b_branch2c_gamma:0' shape=(256,) dtype=float32> gamma\n",
      "tracking <tf.Variable 'scale2b_branch2c_1/scale2b_branch2c_beta:0' shape=(256,) dtype=float32> beta\n",
      "tracking <tf.Variable 'scale2c_branch2a_1/scale2c_branch2a_gamma:0' shape=(64,) dtype=float32> gamma\n",
      "tracking <tf.Variable 'scale2c_branch2a_1/scale2c_branch2a_beta:0' shape=(64,) dtype=float32> beta\n",
      "tracking <tf.Variable 'scale2c_branch2b_1/scale2c_branch2b_gamma:0' shape=(64,) dtype=float32> gamma\n",
      "tracking <tf.Variable 'scale2c_branch2b_1/scale2c_branch2b_beta:0' shape=(64,) dtype=float32> beta\n",
      "tracking <tf.Variable 'scale2c_branch2c_1/scale2c_branch2c_gamma:0' shape=(256,) dtype=float32> gamma\n",
      "tracking <tf.Variable 'scale2c_branch2c_1/scale2c_branch2c_beta:0' shape=(256,) dtype=float32> beta\n",
      "tracking <tf.Variable 'scale3a_branch2a_1/scale3a_branch2a_gamma:0' shape=(128,) dtype=float32> gamma\n",
      "tracking <tf.Variable 'scale3a_branch2a_1/scale3a_branch2a_beta:0' shape=(128,) dtype=float32> beta\n",
      "tracking <tf.Variable 'scale3a_branch2b_1/scale3a_branch2b_gamma:0' shape=(128,) dtype=float32> gamma\n",
      "tracking <tf.Variable 'scale3a_branch2b_1/scale3a_branch2b_beta:0' shape=(128,) dtype=float32> beta\n",
      "tracking <tf.Variable 'scale3a_branch2c_1/scale3a_branch2c_gamma:0' shape=(512,) dtype=float32> gamma\n",
      "tracking <tf.Variable 'scale3a_branch2c_1/scale3a_branch2c_beta:0' shape=(512,) dtype=float32> beta\n",
      "tracking <tf.Variable 'scale3a_branch1_1/scale3a_branch1_gamma:0' shape=(512,) dtype=float32> gamma\n",
      "tracking <tf.Variable 'scale3a_branch1_1/scale3a_branch1_beta:0' shape=(512,) dtype=float32> beta\n",
      "tracking <tf.Variable 'scale3b1_branch2a_1/scale3b1_branch2a_gamma:0' shape=(128,) dtype=float32> gamma\n",
      "tracking <tf.Variable 'scale3b1_branch2a_1/scale3b1_branch2a_beta:0' shape=(128,) dtype=float32> beta\n",
      "tracking <tf.Variable 'scale3b1_branch2b_1/scale3b1_branch2b_gamma:0' shape=(128,) dtype=float32> gamma\n",
      "tracking <tf.Variable 'scale3b1_branch2b_1/scale3b1_branch2b_beta:0' shape=(128,) dtype=float32> beta\n",
      "tracking <tf.Variable 'scale3b1_branch2c_1/scale3b1_branch2c_gamma:0' shape=(512,) dtype=float32> gamma\n",
      "tracking <tf.Variable 'scale3b1_branch2c_1/scale3b1_branch2c_beta:0' shape=(512,) dtype=float32> beta\n",
      "tracking <tf.Variable 'scale3b2_branch2a_1/scale3b2_branch2a_gamma:0' shape=(128,) dtype=float32> gamma\n",
      "tracking <tf.Variable 'scale3b2_branch2a_1/scale3b2_branch2a_beta:0' shape=(128,) dtype=float32> beta\n",
      "tracking <tf.Variable 'scale3b2_branch2b_1/scale3b2_branch2b_gamma:0' shape=(128,) dtype=float32> gamma\n",
      "tracking <tf.Variable 'scale3b2_branch2b_1/scale3b2_branch2b_beta:0' shape=(128,) dtype=float32> beta\n",
      "tracking <tf.Variable 'scale3b2_branch2c_1/scale3b2_branch2c_gamma:0' shape=(512,) dtype=float32> gamma\n",
      "tracking <tf.Variable 'scale3b2_branch2c_1/scale3b2_branch2c_beta:0' shape=(512,) dtype=float32> beta\n",
      "tracking <tf.Variable 'scale3b3_branch2a_1/scale3b3_branch2a_gamma:0' shape=(128,) dtype=float32> gamma\n",
      "tracking <tf.Variable 'scale3b3_branch2a_1/scale3b3_branch2a_beta:0' shape=(128,) dtype=float32> beta\n",
      "tracking <tf.Variable 'scale3b3_branch2b_1/scale3b3_branch2b_gamma:0' shape=(128,) dtype=float32> gamma\n",
      "tracking <tf.Variable 'scale3b3_branch2b_1/scale3b3_branch2b_beta:0' shape=(128,) dtype=float32> beta\n",
      "tracking <tf.Variable 'scale3b3_branch2c_1/scale3b3_branch2c_gamma:0' shape=(512,) dtype=float32> gamma\n",
      "tracking <tf.Variable 'scale3b3_branch2c_1/scale3b3_branch2c_beta:0' shape=(512,) dtype=float32> beta\n",
      "tracking <tf.Variable 'scale3b4_branch2a_1/scale3b4_branch2a_gamma:0' shape=(128,) dtype=float32> gamma\n",
      "tracking <tf.Variable 'scale3b4_branch2a_1/scale3b4_branch2a_beta:0' shape=(128,) dtype=float32> beta\n",
      "tracking <tf.Variable 'scale3b4_branch2b_1/scale3b4_branch2b_gamma:0' shape=(128,) dtype=float32> gamma\n",
      "tracking <tf.Variable 'scale3b4_branch2b_1/scale3b4_branch2b_beta:0' shape=(128,) dtype=float32> beta\n",
      "tracking <tf.Variable 'scale3b4_branch2c_1/scale3b4_branch2c_gamma:0' shape=(512,) dtype=float32> gamma\n",
      "tracking <tf.Variable 'scale3b4_branch2c_1/scale3b4_branch2c_beta:0' shape=(512,) dtype=float32> beta\n",
      "tracking <tf.Variable 'scale3b5_branch2a_1/scale3b5_branch2a_gamma:0' shape=(128,) dtype=float32> gamma\n",
      "tracking <tf.Variable 'scale3b5_branch2a_1/scale3b5_branch2a_beta:0' shape=(128,) dtype=float32> beta\n",
      "tracking <tf.Variable 'scale3b5_branch2b_1/scale3b5_branch2b_gamma:0' shape=(128,) dtype=float32> gamma\n",
      "tracking <tf.Variable 'scale3b5_branch2b_1/scale3b5_branch2b_beta:0' shape=(128,) dtype=float32> beta\n",
      "tracking <tf.Variable 'scale3b5_branch2c_1/scale3b5_branch2c_gamma:0' shape=(512,) dtype=float32> gamma\n",
      "tracking <tf.Variable 'scale3b5_branch2c_1/scale3b5_branch2c_beta:0' shape=(512,) dtype=float32> beta\n",
      "tracking <tf.Variable 'scale3b6_branch2a_1/scale3b6_branch2a_gamma:0' shape=(128,) dtype=float32> gamma\n",
      "tracking <tf.Variable 'scale3b6_branch2a_1/scale3b6_branch2a_beta:0' shape=(128,) dtype=float32> beta\n",
      "tracking <tf.Variable 'scale3b6_branch2b_1/scale3b6_branch2b_gamma:0' shape=(128,) dtype=float32> gamma\n",
      "tracking <tf.Variable 'scale3b6_branch2b_1/scale3b6_branch2b_beta:0' shape=(128,) dtype=float32> beta\n",
      "tracking <tf.Variable 'scale3b6_branch2c_1/scale3b6_branch2c_gamma:0' shape=(512,) dtype=float32> gamma\n",
      "tracking <tf.Variable 'scale3b6_branch2c_1/scale3b6_branch2c_beta:0' shape=(512,) dtype=float32> beta\n",
      "tracking <tf.Variable 'scale3b7_branch2a_1/scale3b7_branch2a_gamma:0' shape=(128,) dtype=float32> gamma\n",
      "tracking <tf.Variable 'scale3b7_branch2a_1/scale3b7_branch2a_beta:0' shape=(128,) dtype=float32> beta\n",
      "tracking <tf.Variable 'scale3b7_branch2b_1/scale3b7_branch2b_gamma:0' shape=(128,) dtype=float32> gamma\n",
      "tracking <tf.Variable 'scale3b7_branch2b_1/scale3b7_branch2b_beta:0' shape=(128,) dtype=float32> beta\n",
      "tracking <tf.Variable 'scale3b7_branch2c_1/scale3b7_branch2c_gamma:0' shape=(512,) dtype=float32> gamma\n",
      "tracking <tf.Variable 'scale3b7_branch2c_1/scale3b7_branch2c_beta:0' shape=(512,) dtype=float32> beta\n",
      "tracking <tf.Variable 'scale4a_branch2a_1/scale4a_branch2a_gamma:0' shape=(256,) dtype=float32> gamma\n",
      "tracking <tf.Variable 'scale4a_branch2a_1/scale4a_branch2a_beta:0' shape=(256,) dtype=float32> beta\n",
      "tracking <tf.Variable 'scale4a_branch2b_1/scale4a_branch2b_gamma:0' shape=(256,) dtype=float32> gamma\n",
      "tracking <tf.Variable 'scale4a_branch2b_1/scale4a_branch2b_beta:0' shape=(256,) dtype=float32> beta\n",
      "tracking <tf.Variable 'scale4a_branch2c_1/scale4a_branch2c_gamma:0' shape=(1024,) dtype=float32> gamma\n",
      "tracking <tf.Variable 'scale4a_branch2c_1/scale4a_branch2c_beta:0' shape=(1024,) dtype=float32> beta\n",
      "tracking <tf.Variable 'scale4a_branch1_1/scale4a_branch1_gamma:0' shape=(1024,) dtype=float32> gamma\n",
      "tracking <tf.Variable 'scale4a_branch1_1/scale4a_branch1_beta:0' shape=(1024,) dtype=float32> beta\n",
      "tracking <tf.Variable 'scale4b1_branch2a_1/scale4b1_branch2a_gamma:0' shape=(256,) dtype=float32> gamma\n",
      "tracking <tf.Variable 'scale4b1_branch2a_1/scale4b1_branch2a_beta:0' shape=(256,) dtype=float32> beta\n",
      "tracking <tf.Variable 'scale4b1_branch2b_1/scale4b1_branch2b_gamma:0' shape=(256,) dtype=float32> gamma\n",
      "tracking <tf.Variable 'scale4b1_branch2b_1/scale4b1_branch2b_beta:0' shape=(256,) dtype=float32> beta\n",
      "tracking <tf.Variable 'scale4b1_branch2c_1/scale4b1_branch2c_gamma:0' shape=(1024,) dtype=float32> gamma\n",
      "tracking <tf.Variable 'scale4b1_branch2c_1/scale4b1_branch2c_beta:0' shape=(1024,) dtype=float32> beta\n",
      "tracking <tf.Variable 'scale4b2_branch2a_1/scale4b2_branch2a_gamma:0' shape=(256,) dtype=float32> gamma\n",
      "tracking <tf.Variable 'scale4b2_branch2a_1/scale4b2_branch2a_beta:0' shape=(256,) dtype=float32> beta\n",
      "tracking <tf.Variable 'scale4b2_branch2b_1/scale4b2_branch2b_gamma:0' shape=(256,) dtype=float32> gamma\n",
      "tracking <tf.Variable 'scale4b2_branch2b_1/scale4b2_branch2b_beta:0' shape=(256,) dtype=float32> beta\n",
      "tracking <tf.Variable 'scale4b2_branch2c_1/scale4b2_branch2c_gamma:0' shape=(1024,) dtype=float32> gamma\n",
      "tracking <tf.Variable 'scale4b2_branch2c_1/scale4b2_branch2c_beta:0' shape=(1024,) dtype=float32> beta\n",
      "tracking <tf.Variable 'scale4b3_branch2a_1/scale4b3_branch2a_gamma:0' shape=(256,) dtype=float32> gamma\n",
      "tracking <tf.Variable 'scale4b3_branch2a_1/scale4b3_branch2a_beta:0' shape=(256,) dtype=float32> beta\n",
      "tracking <tf.Variable 'scale4b3_branch2b_1/scale4b3_branch2b_gamma:0' shape=(256,) dtype=float32> gamma\n",
      "tracking <tf.Variable 'scale4b3_branch2b_1/scale4b3_branch2b_beta:0' shape=(256,) dtype=float32> beta\n",
      "tracking <tf.Variable 'scale4b3_branch2c_1/scale4b3_branch2c_gamma:0' shape=(1024,) dtype=float32> gamma\n",
      "tracking <tf.Variable 'scale4b3_branch2c_1/scale4b3_branch2c_beta:0' shape=(1024,) dtype=float32> beta\n",
      "tracking <tf.Variable 'scale4b4_branch2a_1/scale4b4_branch2a_gamma:0' shape=(256,) dtype=float32> gamma\n",
      "tracking <tf.Variable 'scale4b4_branch2a_1/scale4b4_branch2a_beta:0' shape=(256,) dtype=float32> beta\n",
      "tracking <tf.Variable 'scale4b4_branch2b_1/scale4b4_branch2b_gamma:0' shape=(256,) dtype=float32> gamma\n",
      "tracking <tf.Variable 'scale4b4_branch2b_1/scale4b4_branch2b_beta:0' shape=(256,) dtype=float32> beta\n",
      "tracking <tf.Variable 'scale4b4_branch2c_1/scale4b4_branch2c_gamma:0' shape=(1024,) dtype=float32> gamma\n",
      "tracking <tf.Variable 'scale4b4_branch2c_1/scale4b4_branch2c_beta:0' shape=(1024,) dtype=float32> beta\n",
      "tracking <tf.Variable 'scale4b5_branch2a_1/scale4b5_branch2a_gamma:0' shape=(256,) dtype=float32> gamma\n",
      "tracking <tf.Variable 'scale4b5_branch2a_1/scale4b5_branch2a_beta:0' shape=(256,) dtype=float32> beta\n",
      "tracking <tf.Variable 'scale4b5_branch2b_1/scale4b5_branch2b_gamma:0' shape=(256,) dtype=float32> gamma\n",
      "tracking <tf.Variable 'scale4b5_branch2b_1/scale4b5_branch2b_beta:0' shape=(256,) dtype=float32> beta\n",
      "tracking <tf.Variable 'scale4b5_branch2c_1/scale4b5_branch2c_gamma:0' shape=(1024,) dtype=float32> gamma\n",
      "tracking <tf.Variable 'scale4b5_branch2c_1/scale4b5_branch2c_beta:0' shape=(1024,) dtype=float32> beta\n",
      "tracking <tf.Variable 'scale4b6_branch2a_1/scale4b6_branch2a_gamma:0' shape=(256,) dtype=float32> gamma\n",
      "tracking <tf.Variable 'scale4b6_branch2a_1/scale4b6_branch2a_beta:0' shape=(256,) dtype=float32> beta\n",
      "tracking <tf.Variable 'scale4b6_branch2b_1/scale4b6_branch2b_gamma:0' shape=(256,) dtype=float32> gamma\n",
      "tracking <tf.Variable 'scale4b6_branch2b_1/scale4b6_branch2b_beta:0' shape=(256,) dtype=float32> beta\n",
      "tracking <tf.Variable 'scale4b6_branch2c_1/scale4b6_branch2c_gamma:0' shape=(1024,) dtype=float32> gamma\n",
      "tracking <tf.Variable 'scale4b6_branch2c_1/scale4b6_branch2c_beta:0' shape=(1024,) dtype=float32> beta\n",
      "tracking <tf.Variable 'scale4b7_branch2a_1/scale4b7_branch2a_gamma:0' shape=(256,) dtype=float32> gamma\n",
      "tracking <tf.Variable 'scale4b7_branch2a_1/scale4b7_branch2a_beta:0' shape=(256,) dtype=float32> beta\n",
      "tracking <tf.Variable 'scale4b7_branch2b_1/scale4b7_branch2b_gamma:0' shape=(256,) dtype=float32> gamma\n",
      "tracking <tf.Variable 'scale4b7_branch2b_1/scale4b7_branch2b_beta:0' shape=(256,) dtype=float32> beta\n",
      "tracking <tf.Variable 'scale4b7_branch2c_1/scale4b7_branch2c_gamma:0' shape=(1024,) dtype=float32> gamma\n",
      "tracking <tf.Variable 'scale4b7_branch2c_1/scale4b7_branch2c_beta:0' shape=(1024,) dtype=float32> beta\n",
      "tracking <tf.Variable 'scale4b8_branch2a_1/scale4b8_branch2a_gamma:0' shape=(256,) dtype=float32> gamma\n",
      "tracking <tf.Variable 'scale4b8_branch2a_1/scale4b8_branch2a_beta:0' shape=(256,) dtype=float32> beta\n",
      "tracking <tf.Variable 'scale4b8_branch2b_1/scale4b8_branch2b_gamma:0' shape=(256,) dtype=float32> gamma\n",
      "tracking <tf.Variable 'scale4b8_branch2b_1/scale4b8_branch2b_beta:0' shape=(256,) dtype=float32> beta\n",
      "tracking <tf.Variable 'scale4b8_branch2c_1/scale4b8_branch2c_gamma:0' shape=(1024,) dtype=float32> gamma\n",
      "tracking <tf.Variable 'scale4b8_branch2c_1/scale4b8_branch2c_beta:0' shape=(1024,) dtype=float32> beta\n",
      "tracking <tf.Variable 'scale4b9_branch2a_1/scale4b9_branch2a_gamma:0' shape=(256,) dtype=float32> gamma\n",
      "tracking <tf.Variable 'scale4b9_branch2a_1/scale4b9_branch2a_beta:0' shape=(256,) dtype=float32> beta\n",
      "tracking <tf.Variable 'scale4b9_branch2b_1/scale4b9_branch2b_gamma:0' shape=(256,) dtype=float32> gamma\n",
      "tracking <tf.Variable 'scale4b9_branch2b_1/scale4b9_branch2b_beta:0' shape=(256,) dtype=float32> beta\n",
      "tracking <tf.Variable 'scale4b9_branch2c_1/scale4b9_branch2c_gamma:0' shape=(1024,) dtype=float32> gamma\n",
      "tracking <tf.Variable 'scale4b9_branch2c_1/scale4b9_branch2c_beta:0' shape=(1024,) dtype=float32> beta\n",
      "tracking <tf.Variable 'scale4b10_branch2a_1/scale4b10_branch2a_gamma:0' shape=(256,) dtype=float32> gamma\n",
      "tracking <tf.Variable 'scale4b10_branch2a_1/scale4b10_branch2a_beta:0' shape=(256,) dtype=float32> beta\n",
      "tracking <tf.Variable 'scale4b10_branch2b_1/scale4b10_branch2b_gamma:0' shape=(256,) dtype=float32> gamma\n",
      "tracking <tf.Variable 'scale4b10_branch2b_1/scale4b10_branch2b_beta:0' shape=(256,) dtype=float32> beta\n",
      "tracking <tf.Variable 'scale4b10_branch2c_1/scale4b10_branch2c_gamma:0' shape=(1024,) dtype=float32> gamma\n",
      "tracking <tf.Variable 'scale4b10_branch2c_1/scale4b10_branch2c_beta:0' shape=(1024,) dtype=float32> beta\n",
      "tracking <tf.Variable 'scale4b11_branch2a_1/scale4b11_branch2a_gamma:0' shape=(256,) dtype=float32> gamma\n",
      "tracking <tf.Variable 'scale4b11_branch2a_1/scale4b11_branch2a_beta:0' shape=(256,) dtype=float32> beta\n",
      "tracking <tf.Variable 'scale4b11_branch2b_1/scale4b11_branch2b_gamma:0' shape=(256,) dtype=float32> gamma\n",
      "tracking <tf.Variable 'scale4b11_branch2b_1/scale4b11_branch2b_beta:0' shape=(256,) dtype=float32> beta\n",
      "tracking <tf.Variable 'scale4b11_branch2c_1/scale4b11_branch2c_gamma:0' shape=(1024,) dtype=float32> gamma\n",
      "tracking <tf.Variable 'scale4b11_branch2c_1/scale4b11_branch2c_beta:0' shape=(1024,) dtype=float32> beta\n",
      "tracking <tf.Variable 'scale4b12_branch2a_1/scale4b12_branch2a_gamma:0' shape=(256,) dtype=float32> gamma\n",
      "tracking <tf.Variable 'scale4b12_branch2a_1/scale4b12_branch2a_beta:0' shape=(256,) dtype=float32> beta\n",
      "tracking <tf.Variable 'scale4b12_branch2b_1/scale4b12_branch2b_gamma:0' shape=(256,) dtype=float32> gamma\n",
      "tracking <tf.Variable 'scale4b12_branch2b_1/scale4b12_branch2b_beta:0' shape=(256,) dtype=float32> beta\n",
      "tracking <tf.Variable 'scale4b12_branch2c_1/scale4b12_branch2c_gamma:0' shape=(1024,) dtype=float32> gamma\n",
      "tracking <tf.Variable 'scale4b12_branch2c_1/scale4b12_branch2c_beta:0' shape=(1024,) dtype=float32> beta\n",
      "tracking <tf.Variable 'scale4b13_branch2a_1/scale4b13_branch2a_gamma:0' shape=(256,) dtype=float32> gamma\n",
      "tracking <tf.Variable 'scale4b13_branch2a_1/scale4b13_branch2a_beta:0' shape=(256,) dtype=float32> beta\n",
      "tracking <tf.Variable 'scale4b13_branch2b_1/scale4b13_branch2b_gamma:0' shape=(256,) dtype=float32> gamma\n",
      "tracking <tf.Variable 'scale4b13_branch2b_1/scale4b13_branch2b_beta:0' shape=(256,) dtype=float32> beta\n",
      "tracking <tf.Variable 'scale4b13_branch2c_1/scale4b13_branch2c_gamma:0' shape=(1024,) dtype=float32> gamma\n",
      "tracking <tf.Variable 'scale4b13_branch2c_1/scale4b13_branch2c_beta:0' shape=(1024,) dtype=float32> beta\n",
      "tracking <tf.Variable 'scale4b14_branch2a_1/scale4b14_branch2a_gamma:0' shape=(256,) dtype=float32> gamma\n",
      "tracking <tf.Variable 'scale4b14_branch2a_1/scale4b14_branch2a_beta:0' shape=(256,) dtype=float32> beta\n",
      "tracking <tf.Variable 'scale4b14_branch2b_1/scale4b14_branch2b_gamma:0' shape=(256,) dtype=float32> gamma\n",
      "tracking <tf.Variable 'scale4b14_branch2b_1/scale4b14_branch2b_beta:0' shape=(256,) dtype=float32> beta\n",
      "tracking <tf.Variable 'scale4b14_branch2c_1/scale4b14_branch2c_gamma:0' shape=(1024,) dtype=float32> gamma\n",
      "tracking <tf.Variable 'scale4b14_branch2c_1/scale4b14_branch2c_beta:0' shape=(1024,) dtype=float32> beta\n",
      "tracking <tf.Variable 'scale4b15_branch2a_1/scale4b15_branch2a_gamma:0' shape=(256,) dtype=float32> gamma\n",
      "tracking <tf.Variable 'scale4b15_branch2a_1/scale4b15_branch2a_beta:0' shape=(256,) dtype=float32> beta\n",
      "tracking <tf.Variable 'scale4b15_branch2b_1/scale4b15_branch2b_gamma:0' shape=(256,) dtype=float32> gamma\n",
      "tracking <tf.Variable 'scale4b15_branch2b_1/scale4b15_branch2b_beta:0' shape=(256,) dtype=float32> beta\n",
      "tracking <tf.Variable 'scale4b15_branch2c_1/scale4b15_branch2c_gamma:0' shape=(1024,) dtype=float32> gamma\n",
      "tracking <tf.Variable 'scale4b15_branch2c_1/scale4b15_branch2c_beta:0' shape=(1024,) dtype=float32> beta\n",
      "tracking <tf.Variable 'scale4b16_branch2a_1/scale4b16_branch2a_gamma:0' shape=(256,) dtype=float32> gamma\n",
      "tracking <tf.Variable 'scale4b16_branch2a_1/scale4b16_branch2a_beta:0' shape=(256,) dtype=float32> beta\n",
      "tracking <tf.Variable 'scale4b16_branch2b_1/scale4b16_branch2b_gamma:0' shape=(256,) dtype=float32> gamma\n",
      "tracking <tf.Variable 'scale4b16_branch2b_1/scale4b16_branch2b_beta:0' shape=(256,) dtype=float32> beta\n",
      "tracking <tf.Variable 'scale4b16_branch2c_1/scale4b16_branch2c_gamma:0' shape=(1024,) dtype=float32> gamma\n",
      "tracking <tf.Variable 'scale4b16_branch2c_1/scale4b16_branch2c_beta:0' shape=(1024,) dtype=float32> beta\n",
      "tracking <tf.Variable 'scale4b17_branch2a_1/scale4b17_branch2a_gamma:0' shape=(256,) dtype=float32> gamma\n",
      "tracking <tf.Variable 'scale4b17_branch2a_1/scale4b17_branch2a_beta:0' shape=(256,) dtype=float32> beta\n",
      "tracking <tf.Variable 'scale4b17_branch2b_1/scale4b17_branch2b_gamma:0' shape=(256,) dtype=float32> gamma\n",
      "tracking <tf.Variable 'scale4b17_branch2b_1/scale4b17_branch2b_beta:0' shape=(256,) dtype=float32> beta\n",
      "tracking <tf.Variable 'scale4b17_branch2c_1/scale4b17_branch2c_gamma:0' shape=(1024,) dtype=float32> gamma\n",
      "tracking <tf.Variable 'scale4b17_branch2c_1/scale4b17_branch2c_beta:0' shape=(1024,) dtype=float32> beta\n",
      "tracking <tf.Variable 'scale4b18_branch2a_1/scale4b18_branch2a_gamma:0' shape=(256,) dtype=float32> gamma\n",
      "tracking <tf.Variable 'scale4b18_branch2a_1/scale4b18_branch2a_beta:0' shape=(256,) dtype=float32> beta\n",
      "tracking <tf.Variable 'scale4b18_branch2b_1/scale4b18_branch2b_gamma:0' shape=(256,) dtype=float32> gamma\n",
      "tracking <tf.Variable 'scale4b18_branch2b_1/scale4b18_branch2b_beta:0' shape=(256,) dtype=float32> beta\n",
      "tracking <tf.Variable 'scale4b18_branch2c_1/scale4b18_branch2c_gamma:0' shape=(1024,) dtype=float32> gamma\n",
      "tracking <tf.Variable 'scale4b18_branch2c_1/scale4b18_branch2c_beta:0' shape=(1024,) dtype=float32> beta\n",
      "tracking <tf.Variable 'scale4b19_branch2a_1/scale4b19_branch2a_gamma:0' shape=(256,) dtype=float32> gamma\n",
      "tracking <tf.Variable 'scale4b19_branch2a_1/scale4b19_branch2a_beta:0' shape=(256,) dtype=float32> beta\n",
      "tracking <tf.Variable 'scale4b19_branch2b_1/scale4b19_branch2b_gamma:0' shape=(256,) dtype=float32> gamma\n",
      "tracking <tf.Variable 'scale4b19_branch2b_1/scale4b19_branch2b_beta:0' shape=(256,) dtype=float32> beta\n",
      "tracking <tf.Variable 'scale4b19_branch2c_1/scale4b19_branch2c_gamma:0' shape=(1024,) dtype=float32> gamma\n",
      "tracking <tf.Variable 'scale4b19_branch2c_1/scale4b19_branch2c_beta:0' shape=(1024,) dtype=float32> beta\n",
      "tracking <tf.Variable 'scale4b20_branch2a_1/scale4b20_branch2a_gamma:0' shape=(256,) dtype=float32> gamma\n",
      "tracking <tf.Variable 'scale4b20_branch2a_1/scale4b20_branch2a_beta:0' shape=(256,) dtype=float32> beta\n",
      "tracking <tf.Variable 'scale4b20_branch2b_1/scale4b20_branch2b_gamma:0' shape=(256,) dtype=float32> gamma\n",
      "tracking <tf.Variable 'scale4b20_branch2b_1/scale4b20_branch2b_beta:0' shape=(256,) dtype=float32> beta\n",
      "tracking <tf.Variable 'scale4b20_branch2c_1/scale4b20_branch2c_gamma:0' shape=(1024,) dtype=float32> gamma\n",
      "tracking <tf.Variable 'scale4b20_branch2c_1/scale4b20_branch2c_beta:0' shape=(1024,) dtype=float32> beta\n",
      "tracking <tf.Variable 'scale4b21_branch2a_1/scale4b21_branch2a_gamma:0' shape=(256,) dtype=float32> gamma\n",
      "tracking <tf.Variable 'scale4b21_branch2a_1/scale4b21_branch2a_beta:0' shape=(256,) dtype=float32> beta\n",
      "tracking <tf.Variable 'scale4b21_branch2b_1/scale4b21_branch2b_gamma:0' shape=(256,) dtype=float32> gamma\n",
      "tracking <tf.Variable 'scale4b21_branch2b_1/scale4b21_branch2b_beta:0' shape=(256,) dtype=float32> beta\n",
      "tracking <tf.Variable 'scale4b21_branch2c_1/scale4b21_branch2c_gamma:0' shape=(1024,) dtype=float32> gamma\n",
      "tracking <tf.Variable 'scale4b21_branch2c_1/scale4b21_branch2c_beta:0' shape=(1024,) dtype=float32> beta\n",
      "tracking <tf.Variable 'scale4b22_branch2a_1/scale4b22_branch2a_gamma:0' shape=(256,) dtype=float32> gamma\n",
      "tracking <tf.Variable 'scale4b22_branch2a_1/scale4b22_branch2a_beta:0' shape=(256,) dtype=float32> beta\n",
      "tracking <tf.Variable 'scale4b22_branch2b_1/scale4b22_branch2b_gamma:0' shape=(256,) dtype=float32> gamma\n",
      "tracking <tf.Variable 'scale4b22_branch2b_1/scale4b22_branch2b_beta:0' shape=(256,) dtype=float32> beta\n",
      "tracking <tf.Variable 'scale4b22_branch2c_1/scale4b22_branch2c_gamma:0' shape=(1024,) dtype=float32> gamma\n",
      "tracking <tf.Variable 'scale4b22_branch2c_1/scale4b22_branch2c_beta:0' shape=(1024,) dtype=float32> beta\n",
      "tracking <tf.Variable 'scale4b23_branch2a_1/scale4b23_branch2a_gamma:0' shape=(256,) dtype=float32> gamma\n",
      "tracking <tf.Variable 'scale4b23_branch2a_1/scale4b23_branch2a_beta:0' shape=(256,) dtype=float32> beta\n",
      "tracking <tf.Variable 'scale4b23_branch2b_1/scale4b23_branch2b_gamma:0' shape=(256,) dtype=float32> gamma\n",
      "tracking <tf.Variable 'scale4b23_branch2b_1/scale4b23_branch2b_beta:0' shape=(256,) dtype=float32> beta\n",
      "tracking <tf.Variable 'scale4b23_branch2c_1/scale4b23_branch2c_gamma:0' shape=(1024,) dtype=float32> gamma\n",
      "tracking <tf.Variable 'scale4b23_branch2c_1/scale4b23_branch2c_beta:0' shape=(1024,) dtype=float32> beta\n",
      "tracking <tf.Variable 'scale4b24_branch2a_1/scale4b24_branch2a_gamma:0' shape=(256,) dtype=float32> gamma\n",
      "tracking <tf.Variable 'scale4b24_branch2a_1/scale4b24_branch2a_beta:0' shape=(256,) dtype=float32> beta\n",
      "tracking <tf.Variable 'scale4b24_branch2b_1/scale4b24_branch2b_gamma:0' shape=(256,) dtype=float32> gamma\n",
      "tracking <tf.Variable 'scale4b24_branch2b_1/scale4b24_branch2b_beta:0' shape=(256,) dtype=float32> beta\n",
      "tracking <tf.Variable 'scale4b24_branch2c_1/scale4b24_branch2c_gamma:0' shape=(1024,) dtype=float32> gamma\n",
      "tracking <tf.Variable 'scale4b24_branch2c_1/scale4b24_branch2c_beta:0' shape=(1024,) dtype=float32> beta\n",
      "tracking <tf.Variable 'scale4b25_branch2a_1/scale4b25_branch2a_gamma:0' shape=(256,) dtype=float32> gamma\n",
      "tracking <tf.Variable 'scale4b25_branch2a_1/scale4b25_branch2a_beta:0' shape=(256,) dtype=float32> beta\n",
      "tracking <tf.Variable 'scale4b25_branch2b_1/scale4b25_branch2b_gamma:0' shape=(256,) dtype=float32> gamma\n",
      "tracking <tf.Variable 'scale4b25_branch2b_1/scale4b25_branch2b_beta:0' shape=(256,) dtype=float32> beta\n",
      "tracking <tf.Variable 'scale4b25_branch2c_1/scale4b25_branch2c_gamma:0' shape=(1024,) dtype=float32> gamma\n",
      "tracking <tf.Variable 'scale4b25_branch2c_1/scale4b25_branch2c_beta:0' shape=(1024,) dtype=float32> beta\n",
      "tracking <tf.Variable 'scale4b26_branch2a_1/scale4b26_branch2a_gamma:0' shape=(256,) dtype=float32> gamma\n",
      "tracking <tf.Variable 'scale4b26_branch2a_1/scale4b26_branch2a_beta:0' shape=(256,) dtype=float32> beta\n",
      "tracking <tf.Variable 'scale4b26_branch2b_1/scale4b26_branch2b_gamma:0' shape=(256,) dtype=float32> gamma\n",
      "tracking <tf.Variable 'scale4b26_branch2b_1/scale4b26_branch2b_beta:0' shape=(256,) dtype=float32> beta\n",
      "tracking <tf.Variable 'scale4b26_branch2c_1/scale4b26_branch2c_gamma:0' shape=(1024,) dtype=float32> gamma\n",
      "tracking <tf.Variable 'scale4b26_branch2c_1/scale4b26_branch2c_beta:0' shape=(1024,) dtype=float32> beta\n",
      "tracking <tf.Variable 'scale4b27_branch2a_1/scale4b27_branch2a_gamma:0' shape=(256,) dtype=float32> gamma\n",
      "tracking <tf.Variable 'scale4b27_branch2a_1/scale4b27_branch2a_beta:0' shape=(256,) dtype=float32> beta\n",
      "tracking <tf.Variable 'scale4b27_branch2b_1/scale4b27_branch2b_gamma:0' shape=(256,) dtype=float32> gamma\n",
      "tracking <tf.Variable 'scale4b27_branch2b_1/scale4b27_branch2b_beta:0' shape=(256,) dtype=float32> beta\n",
      "tracking <tf.Variable 'scale4b27_branch2c_1/scale4b27_branch2c_gamma:0' shape=(1024,) dtype=float32> gamma\n",
      "tracking <tf.Variable 'scale4b27_branch2c_1/scale4b27_branch2c_beta:0' shape=(1024,) dtype=float32> beta\n",
      "tracking <tf.Variable 'scale4b28_branch2a_1/scale4b28_branch2a_gamma:0' shape=(256,) dtype=float32> gamma\n",
      "tracking <tf.Variable 'scale4b28_branch2a_1/scale4b28_branch2a_beta:0' shape=(256,) dtype=float32> beta\n",
      "tracking <tf.Variable 'scale4b28_branch2b_1/scale4b28_branch2b_gamma:0' shape=(256,) dtype=float32> gamma\n",
      "tracking <tf.Variable 'scale4b28_branch2b_1/scale4b28_branch2b_beta:0' shape=(256,) dtype=float32> beta\n",
      "tracking <tf.Variable 'scale4b28_branch2c_1/scale4b28_branch2c_gamma:0' shape=(1024,) dtype=float32> gamma\n",
      "tracking <tf.Variable 'scale4b28_branch2c_1/scale4b28_branch2c_beta:0' shape=(1024,) dtype=float32> beta\n",
      "tracking <tf.Variable 'scale4b29_branch2a_1/scale4b29_branch2a_gamma:0' shape=(256,) dtype=float32> gamma\n",
      "tracking <tf.Variable 'scale4b29_branch2a_1/scale4b29_branch2a_beta:0' shape=(256,) dtype=float32> beta\n",
      "tracking <tf.Variable 'scale4b29_branch2b_1/scale4b29_branch2b_gamma:0' shape=(256,) dtype=float32> gamma\n",
      "tracking <tf.Variable 'scale4b29_branch2b_1/scale4b29_branch2b_beta:0' shape=(256,) dtype=float32> beta\n",
      "tracking <tf.Variable 'scale4b29_branch2c_1/scale4b29_branch2c_gamma:0' shape=(1024,) dtype=float32> gamma\n",
      "tracking <tf.Variable 'scale4b29_branch2c_1/scale4b29_branch2c_beta:0' shape=(1024,) dtype=float32> beta\n",
      "tracking <tf.Variable 'scale4b30_branch2a_1/scale4b30_branch2a_gamma:0' shape=(256,) dtype=float32> gamma\n",
      "tracking <tf.Variable 'scale4b30_branch2a_1/scale4b30_branch2a_beta:0' shape=(256,) dtype=float32> beta\n",
      "tracking <tf.Variable 'scale4b30_branch2b_1/scale4b30_branch2b_gamma:0' shape=(256,) dtype=float32> gamma\n",
      "tracking <tf.Variable 'scale4b30_branch2b_1/scale4b30_branch2b_beta:0' shape=(256,) dtype=float32> beta\n",
      "tracking <tf.Variable 'scale4b30_branch2c_1/scale4b30_branch2c_gamma:0' shape=(1024,) dtype=float32> gamma\n",
      "tracking <tf.Variable 'scale4b30_branch2c_1/scale4b30_branch2c_beta:0' shape=(1024,) dtype=float32> beta\n",
      "tracking <tf.Variable 'scale4b31_branch2a_1/scale4b31_branch2a_gamma:0' shape=(256,) dtype=float32> gamma\n",
      "tracking <tf.Variable 'scale4b31_branch2a_1/scale4b31_branch2a_beta:0' shape=(256,) dtype=float32> beta\n",
      "tracking <tf.Variable 'scale4b31_branch2b_1/scale4b31_branch2b_gamma:0' shape=(256,) dtype=float32> gamma\n",
      "tracking <tf.Variable 'scale4b31_branch2b_1/scale4b31_branch2b_beta:0' shape=(256,) dtype=float32> beta\n",
      "tracking <tf.Variable 'scale4b31_branch2c_1/scale4b31_branch2c_gamma:0' shape=(1024,) dtype=float32> gamma\n",
      "tracking <tf.Variable 'scale4b31_branch2c_1/scale4b31_branch2c_beta:0' shape=(1024,) dtype=float32> beta\n",
      "tracking <tf.Variable 'scale4b32_branch2a_1/scale4b32_branch2a_gamma:0' shape=(256,) dtype=float32> gamma\n",
      "tracking <tf.Variable 'scale4b32_branch2a_1/scale4b32_branch2a_beta:0' shape=(256,) dtype=float32> beta\n",
      "tracking <tf.Variable 'scale4b32_branch2b_1/scale4b32_branch2b_gamma:0' shape=(256,) dtype=float32> gamma\n",
      "tracking <tf.Variable 'scale4b32_branch2b_1/scale4b32_branch2b_beta:0' shape=(256,) dtype=float32> beta\n",
      "tracking <tf.Variable 'scale4b32_branch2c_1/scale4b32_branch2c_gamma:0' shape=(1024,) dtype=float32> gamma\n",
      "tracking <tf.Variable 'scale4b32_branch2c_1/scale4b32_branch2c_beta:0' shape=(1024,) dtype=float32> beta\n",
      "tracking <tf.Variable 'scale4b33_branch2a_1/scale4b33_branch2a_gamma:0' shape=(256,) dtype=float32> gamma\n",
      "tracking <tf.Variable 'scale4b33_branch2a_1/scale4b33_branch2a_beta:0' shape=(256,) dtype=float32> beta\n",
      "tracking <tf.Variable 'scale4b33_branch2b_1/scale4b33_branch2b_gamma:0' shape=(256,) dtype=float32> gamma\n",
      "tracking <tf.Variable 'scale4b33_branch2b_1/scale4b33_branch2b_beta:0' shape=(256,) dtype=float32> beta\n",
      "tracking <tf.Variable 'scale4b33_branch2c_1/scale4b33_branch2c_gamma:0' shape=(1024,) dtype=float32> gamma\n",
      "tracking <tf.Variable 'scale4b33_branch2c_1/scale4b33_branch2c_beta:0' shape=(1024,) dtype=float32> beta\n",
      "tracking <tf.Variable 'scale4b34_branch2a_1/scale4b34_branch2a_gamma:0' shape=(256,) dtype=float32> gamma\n",
      "tracking <tf.Variable 'scale4b34_branch2a_1/scale4b34_branch2a_beta:0' shape=(256,) dtype=float32> beta\n",
      "tracking <tf.Variable 'scale4b34_branch2b_1/scale4b34_branch2b_gamma:0' shape=(256,) dtype=float32> gamma\n",
      "tracking <tf.Variable 'scale4b34_branch2b_1/scale4b34_branch2b_beta:0' shape=(256,) dtype=float32> beta\n",
      "tracking <tf.Variable 'scale4b34_branch2c_1/scale4b34_branch2c_gamma:0' shape=(1024,) dtype=float32> gamma\n",
      "tracking <tf.Variable 'scale4b34_branch2c_1/scale4b34_branch2c_beta:0' shape=(1024,) dtype=float32> beta\n",
      "tracking <tf.Variable 'scale4b35_branch2a_1/scale4b35_branch2a_gamma:0' shape=(256,) dtype=float32> gamma\n",
      "tracking <tf.Variable 'scale4b35_branch2a_1/scale4b35_branch2a_beta:0' shape=(256,) dtype=float32> beta\n",
      "tracking <tf.Variable 'scale4b35_branch2b_1/scale4b35_branch2b_gamma:0' shape=(256,) dtype=float32> gamma\n",
      "tracking <tf.Variable 'scale4b35_branch2b_1/scale4b35_branch2b_beta:0' shape=(256,) dtype=float32> beta\n",
      "tracking <tf.Variable 'scale4b35_branch2c_1/scale4b35_branch2c_gamma:0' shape=(1024,) dtype=float32> gamma\n",
      "tracking <tf.Variable 'scale4b35_branch2c_1/scale4b35_branch2c_beta:0' shape=(1024,) dtype=float32> beta\n",
      "tracking <tf.Variable 'scale5a_branch2a_1/scale5a_branch2a_gamma:0' shape=(512,) dtype=float32> gamma\n",
      "tracking <tf.Variable 'scale5a_branch2a_1/scale5a_branch2a_beta:0' shape=(512,) dtype=float32> beta\n",
      "tracking <tf.Variable 'scale5a_branch2b_1/scale5a_branch2b_gamma:0' shape=(512,) dtype=float32> gamma\n",
      "tracking <tf.Variable 'scale5a_branch2b_1/scale5a_branch2b_beta:0' shape=(512,) dtype=float32> beta\n",
      "tracking <tf.Variable 'scale5a_branch2c_1/scale5a_branch2c_gamma:0' shape=(2048,) dtype=float32> gamma\n",
      "tracking <tf.Variable 'scale5a_branch2c_1/scale5a_branch2c_beta:0' shape=(2048,) dtype=float32> beta\n",
      "tracking <tf.Variable 'scale5a_branch1_1/scale5a_branch1_gamma:0' shape=(2048,) dtype=float32> gamma\n",
      "tracking <tf.Variable 'scale5a_branch1_1/scale5a_branch1_beta:0' shape=(2048,) dtype=float32> beta\n",
      "tracking <tf.Variable 'scale5b_branch2a_1/scale5b_branch2a_gamma:0' shape=(512,) dtype=float32> gamma\n",
      "tracking <tf.Variable 'scale5b_branch2a_1/scale5b_branch2a_beta:0' shape=(512,) dtype=float32> beta\n",
      "tracking <tf.Variable 'scale5b_branch2b_1/scale5b_branch2b_gamma:0' shape=(512,) dtype=float32> gamma\n",
      "tracking <tf.Variable 'scale5b_branch2b_1/scale5b_branch2b_beta:0' shape=(512,) dtype=float32> beta\n",
      "tracking <tf.Variable 'scale5b_branch2c_1/scale5b_branch2c_gamma:0' shape=(2048,) dtype=float32> gamma\n",
      "tracking <tf.Variable 'scale5b_branch2c_1/scale5b_branch2c_beta:0' shape=(2048,) dtype=float32> beta\n",
      "tracking <tf.Variable 'scale5c_branch2a_1/scale5c_branch2a_gamma:0' shape=(512,) dtype=float32> gamma\n",
      "tracking <tf.Variable 'scale5c_branch2a_1/scale5c_branch2a_beta:0' shape=(512,) dtype=float32> beta\n",
      "tracking <tf.Variable 'scale5c_branch2b_1/scale5c_branch2b_gamma:0' shape=(512,) dtype=float32> gamma\n",
      "tracking <tf.Variable 'scale5c_branch2b_1/scale5c_branch2b_beta:0' shape=(512,) dtype=float32> beta\n",
      "tracking <tf.Variable 'scale5c_branch2c_1/scale5c_branch2c_gamma:0' shape=(2048,) dtype=float32> gamma\n",
      "tracking <tf.Variable 'scale5c_branch2c_1/scale5c_branch2c_beta:0' shape=(2048,) dtype=float32> beta\n"
     ]
    }
   ],
   "source": [
    " exec(open(\"script/train_dl.py\").read())"
   ]
  },
  {
   "cell_type": "markdown",
   "metadata": {
    "pycharm": {
     "name": "#%% md\n"
    }
   },
   "source": [
    "### Create Score.py\n",
    "The scoring script is used to create a rest service. The model is loaded, and is used to make predictions on incoming requests."
   ]
  },
  {
   "cell_type": "code",
   "execution_count": null,
   "metadata": {
    "collapsed": false,
    "jupyter": {
     "outputs_hidden": false
    },
    "pycharm": {
     "name": "#%%\n"
    }
   },
   "outputs": [],
   "source": [
    "%%writefile source/score.py\n",
    "\n",
    "import sys\n",
    "sys.setrecursionlimit(3000)\n",
    "\n",
    "from azureml.contrib.services.aml_request import rawhttp\n",
    "from azureml.contrib.services.aml_response import AMLResponse\n",
    "\n",
    "def init():\n",
    "    \"\"\" Initialise the model and scoring function\n",
    "    \"\"\"\n",
    "    global process_and_score\n",
    "    from azure_utils.samples.deep_rts_samples import get_model_api\n",
    "\n",
    "    process_and_score = get_model_api()\n",
    "\n",
    "\n",
    "@rawhttp\n",
    "def run(request):\n",
    "    \"\"\" Make a prediction based on the data passed in using the preloaded model\n",
    "    \"\"\"\n",
    "    if request.method == 'POST':\n",
    "        return process_and_score(request.files)\n",
    "    if request.method == 'GET':\n",
    "        resp_body = {\n",
    "            \"azEnvironment\": \"Azure\",\n",
    "            \"location\": \"westus2\",\n",
    "            \"osType\": \"Ubuntu 16.04\",\n",
    "            \"resourceGroupName\": \"\",\n",
    "            \"resourceId\": \"\",\n",
    "            \"sku\": \"\",\n",
    "            \"subscriptionId\": \"\",\n",
    "            \"uniqueId\": \"PythonMLRST\",\n",
    "            \"vmSize\": \"\",\n",
    "            \"zone\": \"\",\n",
    "            \"isServer\": False,\n",
    "            \"version\": \"\"\n",
    "        }\n",
    "        return resp_body\n",
    "    return AMLResponse(\"bad request\", 500)"
   ]
  },
  {
   "cell_type": "code",
   "execution_count": null,
   "metadata": {},
   "outputs": [],
   "source": [
    "class MockRequest:\n",
    "    \"\"\"Mock Request Class to create calls to test web service code\"\"\"\n",
    "\n",
    "    method = \"GET\"\n",
    "\n",
    "exec(open(\"source/score.py\").read())\n",
    "exec(\"init()\")\n",
    "exec(\"response = run(MockRequest())\")\n",
    "exec(\"assert response\")\n"
   ]
  },
  {
   "cell_type": "markdown",
   "metadata": {
    "pycharm": {
     "name": "#%% md\n"
    }
   },
   "source": [
    "### Deploy to Azure Kubernetes Service with Azure ML\n",
    "\n",
    "Train the model locally, and then deploy the web service to an Azure Kubernetes Cluster managed by an Azure Machine Learning Workspace."
   ]
  },
  {
   "cell_type": "code",
   "execution_count": null,
   "metadata": {
    "pycharm": {
     "name": "#%%\n"
    }
   },
   "outputs": [
    {
     "name": "stdout",
     "output_type": "stream",
     "text": [
      "Check if AKS Service Exists\n"
     ]
    }
   ],
   "source": [
    "from azure_utils.machine_learning.contexts.realtime_score_context import  DeepRealtimeScore\n",
    "\n",
    "deep_ws, aks_service = DeepRealtimeScore.get_or_or_create(configuration_file=project_configuration,\n",
    "                                                          train_py=\"train_dl.py\", score_py=\"score.py\")\n",
    "deep_ws.workspace_widget"
   ]
  },
  {
   "cell_type": "markdown",
   "metadata": {},
   "source": [
    "Notebook Finished."
   ]
  }
 ],
 "metadata": {
  "celltoolbar": "Initialization Cell",
  "kernelspec": {
   "display_name": "AI",
   "language": "python",
   "name": "ai-utilities"
  },
  "language_info": {
   "codemirror_mode": {
    "name": "ipython",
    "version": 3
   },
   "file_extension": ".py",
   "mimetype": "text/x-python",
   "name": "python",
   "nbconvert_exporter": "python",
   "pygments_lexer": "ipython3",
   "version": "3.7.6"
  },
  "toc": {
   "base_numbering": 1,
   "nav_menu": {},
   "number_sections": false,
   "sideBar": true,
   "skip_h1_title": false,
   "title_cell": "Table of Contents",
   "title_sidebar": "Contents",
   "toc_cell": true,
   "toc_position": {
    "height": "237px",
    "left": "488px",
    "top": "188px",
    "width": "561px"
   },
   "toc_section_display": true,
   "toc_window_display": false
  },
  "widgets": {
   "application/vnd.jupyter.widget-state+json": {
    "state": {
     "0071c7879a5546c48a88c117b6f68390": {
      "model_module": "@jupyter-widgets/controls",
      "model_module_version": "1.5.0",
      "model_name": "HBoxModel",
      "state": {
       "children": [
        "IPY_MODEL_d7bf060744d941acb9866435cd9e43cf",
        "IPY_MODEL_0121e08c2c524ba99dafb8b8cfe56c19"
       ],
       "layout": "IPY_MODEL_567ae2a4cf134c2ca293f7699820a1fc"
      }
     },
     "009eac57e71c42f3bae1ffbe6170bf9b": {
      "model_module": "@jupyter-widgets/base",
      "model_module_version": "1.2.0",
      "model_name": "LayoutModel",
      "state": {}
     },
     "00ec456b4bee49daba8df2c3f84bdc8d": {
      "model_module": "@jupyter-widgets/controls",
      "model_module_version": "1.5.0",
      "model_name": "HTMLModel",
      "state": {
       "layout": "IPY_MODEL_02b188bad64d4df49da4e2cb0cf7e1bc",
       "style": "IPY_MODEL_43bf430304cb4ddc88b75708c7750e4c",
       "value": "<b>numReplicas:</b>"
      }
     },
     "010c4daca73a4e0db65c9f0881f45003": {
      "model_module": "@jupyter-widgets/base",
      "model_module_version": "1.2.0",
      "model_name": "LayoutModel",
      "state": {}
     },
     "0121e08c2c524ba99dafb8b8cfe56c19": {
      "model_module": "@jupyter-widgets/controls",
      "model_module_version": "1.5.0",
      "model_name": "LabelModel",
      "state": {
       "layout": "IPY_MODEL_2e200fd03524458286014c12ee3145cb",
       "style": "IPY_MODEL_7b73574b0e1047b4a31e1a307a484c35",
       "value": "{'repositories': [], 'packages': [], 'precachePackages': True}"
      }
     },
     "0161c808d96f4acaa19de518ee94ae03": {
      "model_module": "@jupyter-widgets/controls",
      "model_module_version": "1.5.0",
      "model_name": "DescriptionStyleModel",
      "state": {
       "description_width": ""
      }
     },
     "01a64b0cbeb444539a8e8ebd4a9a6b2b": {
      "model_module": "@jupyter-widgets/controls",
      "model_module_version": "1.5.0",
      "model_name": "HBoxModel",
      "state": {
       "children": [
        "IPY_MODEL_e4948ee5efae4977a80732b7ba05f7ce",
        "IPY_MODEL_35cd5ee8e1d04d2cb33188c206f1439c"
       ],
       "layout": "IPY_MODEL_c1982eb266e34486b04cdd636abcba09"
      }
     },
     "02b188bad64d4df49da4e2cb0cf7e1bc": {
      "model_module": "@jupyter-widgets/base",
      "model_module_version": "1.2.0",
      "model_name": "LayoutModel",
      "state": {}
     },
     "030832bbf08341c3a4eeb5c79b07d8cb": {
      "model_module": "@jupyter-widgets/base",
      "model_module_version": "1.2.0",
      "model_name": "LayoutModel",
      "state": {}
     },
     "030d3671ff7d42ac9498f02668fd75fa": {
      "model_module": "@jupyter-widgets/controls",
      "model_module_version": "1.5.0",
      "model_name": "HTMLModel",
      "state": {
       "layout": "IPY_MODEL_d9242613d97f49d0b5591c389a585eb5",
       "style": "IPY_MODEL_864d713edce2413691a46a2eea85c365",
       "value": "<b>mlflow.source.git.repoURL:</b>"
      }
     },
     "038e2746dedf49f4a211fcd24ad7f4ed": {
      "model_module": "@jupyter-widgets/base",
      "model_module_version": "1.2.0",
      "model_name": "LayoutModel",
      "state": {}
     },
     "039f21589a004bb69af58cd6c8b9b18e": {
      "model_module": "@jupyter-widgets/controls",
      "model_module_version": "1.5.0",
      "model_name": "DescriptionStyleModel",
      "state": {
       "description_width": ""
      }
     },
     "03a91146744b4dd4a6a200a91c210c77": {
      "model_module": "@jupyter-widgets/base",
      "model_module_version": "1.2.0",
      "model_name": "LayoutModel",
      "state": {}
     },
     "03bcb5221c5640459de066662dd31479": {
      "model_module": "@jupyter-widgets/controls",
      "model_module_version": "1.5.0",
      "model_name": "HBoxModel",
      "state": {
       "children": [
        "IPY_MODEL_32c27de18a8b4eef97fa26b8281441fd",
        "IPY_MODEL_981283e326c94b90bbe10e945812e569"
       ],
       "layout": "IPY_MODEL_970a6c47413d42c2834cb96c5f4cfaf4"
      }
     },
     "04866467acc14a29b12606c75f99dc8a": {
      "model_module": "@jupyter-widgets/controls",
      "model_module_version": "1.5.0",
      "model_name": "DescriptionStyleModel",
      "state": {
       "description_width": ""
      }
     },
     "04f1e3696c6642b49fcf862001f69345": {
      "model_module": "@jupyter-widgets/base",
      "model_module_version": "1.2.0",
      "model_name": "LayoutModel",
      "state": {}
     },
     "0527b10df51e4605b3adb8c69c9a23d1": {
      "model_module": "@jupyter-widgets/base",
      "model_module_version": "1.2.0",
      "model_name": "LayoutModel",
      "state": {}
     },
     "053756de842e4b9b955206285cc43b23": {
      "model_module": "@jupyter-widgets/controls",
      "model_module_version": "1.5.0",
      "model_name": "HBoxModel",
      "state": {
       "children": [
        "IPY_MODEL_ebc2110713b241bda809959fc347ef4a",
        "IPY_MODEL_6add18bafb2f416d9eee0c4cc007acb8"
       ],
       "layout": "IPY_MODEL_a0dea57653a84b19b3da7a48011a6828"
      }
     },
     "05ee53c956134af7958402a485dbd4a6": {
      "model_module": "@jupyter-widgets/base",
      "model_module_version": "1.2.0",
      "model_name": "LayoutModel",
      "state": {}
     },
     "0637bac20ce3494c810b32645aab5090": {
      "model_module": "@jupyter-widgets/controls",
      "model_module_version": "1.5.0",
      "model_name": "HTMLModel",
      "state": {
       "layout": "IPY_MODEL_e0539d4485624d898a559be829c0f598",
       "style": "IPY_MODEL_ed83e383be49453291bda72e5ab6f2bf",
       "value": "<b>userPuId:</b>"
      }
     },
     "0783559a724f4fb0b300385d63801bbe": {
      "model_module": "@jupyter-widgets/base",
      "model_module_version": "1.2.0",
      "model_name": "LayoutModel",
      "state": {}
     },
     "078a25ab6cc443e183b0f81a42ed0fef": {
      "model_module": "@jupyter-widgets/base",
      "model_module_version": "1.2.0",
      "model_name": "LayoutModel",
      "state": {}
     },
     "08319d5ab7044d10889f60ec22ca92f2": {
      "model_module": "@jupyter-widgets/base",
      "model_module_version": "1.2.0",
      "model_name": "LayoutModel",
      "state": {}
     },
     "083e202a52294231b660b8bb1e50757b": {
      "model_module": "@jupyter-widgets/base",
      "model_module_version": "1.2.0",
      "model_name": "LayoutModel",
      "state": {}
     },
     "0875aea7f3524494803b35e1d7172195": {
      "model_module": "@jupyter-widgets/controls",
      "model_module_version": "1.5.0",
      "model_name": "HTMLModel",
      "state": {
       "layout": "IPY_MODEL_edc1642402374a778a781e52693101c2",
       "style": "IPY_MODEL_8127ec58819f4e8da4e6abcfe55d5dd6",
       "value": "<b>minReplicas:</b>"
      }
     },
     "093de844a0ec430896449553b7363630": {
      "model_module": "@jupyter-widgets/controls",
      "model_module_version": "1.5.0",
      "model_name": "LabelModel",
      "state": {
       "layout": "IPY_MODEL_9d81f63772854fc0b3cb462875d4ef43",
       "style": "IPY_MODEL_d8abc542e69a4168af0929a1913adccd",
       "value": "https://github.com/microsoft/AI-Utilities.git"
      }
     },
     "094bf51e02334ffaa670fa99e63e284a": {
      "model_module": "@jupyter-widgets/base",
      "model_module_version": "1.2.0",
      "model_name": "LayoutModel",
      "state": {}
     },
     "0a570779a24b4c3c9b64599eabdb227c": {
      "model_module": "@jupyter-widgets/base",
      "model_module_version": "1.2.0",
      "model_name": "LayoutModel",
      "state": {}
     },
     "0a64bbf4e878438996226943aedc18c5": {
      "model_module": "@jupyter-widgets/controls",
      "model_module_version": "1.5.0",
      "model_name": "DescriptionStyleModel",
      "state": {
       "description_width": ""
      }
     },
     "0ad1791d1aa94385a5dd29e53fad0983": {
      "model_module": "@jupyter-widgets/controls",
      "model_module_version": "1.5.0",
      "model_name": "DescriptionStyleModel",
      "state": {
       "description_width": ""
      }
     },
     "0b705b7718b143ee9804a189d80e7222": {
      "model_module": "@jupyter-widgets/controls",
      "model_module_version": "1.5.0",
      "model_name": "DescriptionStyleModel",
      "state": {
       "description_width": ""
      }
     },
     "0c25b10dfe60445ab53d4518058ef934": {
      "model_module": "@jupyter-widgets/base",
      "model_module_version": "1.2.0",
      "model_name": "LayoutModel",
      "state": {}
     },
     "0cb84dc49c6f49ce8bdbf59d6162c72a": {
      "model_module": "@jupyter-widgets/controls",
      "model_module_version": "1.5.0",
      "model_name": "DescriptionStyleModel",
      "state": {
       "description_width": ""
      }
     },
     "0cb8e67b60d24d12af275c1db8bbc0a9": {
      "model_module": "@jupyter-widgets/base",
      "model_module_version": "1.2.0",
      "model_name": "LayoutModel",
      "state": {}
     },
     "0cf02297c4df4ce081fb82657e8ef8d7": {
      "model_module": "@jupyter-widgets/base",
      "model_module_version": "1.2.0",
      "model_name": "LayoutModel",
      "state": {}
     },
     "0d610c02e76549cd9c5783007b3d926c": {
      "model_module": "@jupyter-widgets/base",
      "model_module_version": "1.2.0",
      "model_name": "LayoutModel",
      "state": {}
     },
     "0d86372d475d4c1a8824f039e2fb9562": {
      "model_module": "@jupyter-widgets/base",
      "model_module_version": "1.2.0",
      "model_name": "LayoutModel",
      "state": {}
     },
     "0e22bba80227430cb02dde3554c660aa": {
      "model_module": "@jupyter-widgets/controls",
      "model_module_version": "1.5.0",
      "model_name": "HTMLModel",
      "state": {
       "layout": "IPY_MODEL_283ac10a3011483990ab7e83d4f73d6e",
       "style": "IPY_MODEL_550d243a9d3f4bd2a47f099084db705b",
       "value": "<b>userTenantId:</b>"
      }
     },
     "0e49bdbe495c41eba6d2931cabf18efc": {
      "model_module": "@jupyter-widgets/controls",
      "model_module_version": "1.5.0",
      "model_name": "VBoxModel",
      "state": {
       "children": [
        "IPY_MODEL_e82ee2d03ed548a79501f26a42e8f304",
        "IPY_MODEL_524fa7cdf4634c09b20ff7b4cf25074c",
        "IPY_MODEL_0f3dbbc39f48406793e2aca42c52ee8d",
        "IPY_MODEL_86c8ebb67cb94fc5b8736fe13769e940",
        "IPY_MODEL_2a1f821fad134168831404e8f763e615",
        "IPY_MODEL_0071c7879a5546c48a88c117b6f68390",
        "IPY_MODEL_2e0eb849bfa64169af27684d2d3fd3d3",
        "IPY_MODEL_9faa3e41d081485f8bf2f7ae0b0b6514",
        "IPY_MODEL_624a744960cd4c5ba5b2b1291d13bfd2"
       ],
       "layout": "IPY_MODEL_25ba6984cd984de8a9ae59a1f2f74686"
      }
     },
     "0e688c9c9e0b449eb00e55fec9f6a481": {
      "model_module": "@jupyter-widgets/base",
      "model_module_version": "1.2.0",
      "model_name": "LayoutModel",
      "state": {}
     },
     "0e87aaaf01ed4e018ae9e464c183a2cd": {
      "model_module": "@jupyter-widgets/base",
      "model_module_version": "1.2.0",
      "model_name": "LayoutModel",
      "state": {}
     },
     "0efc4ca178ca481caaba3fd51a98e618": {
      "model_module": "@jupyter-widgets/base",
      "model_module_version": "1.2.0",
      "model_name": "LayoutModel",
      "state": {}
     },
     "0efed221c7694005bd6fdecf9bbe6980": {
      "model_module": "@jupyter-widgets/controls",
      "model_module_version": "1.5.0",
      "model_name": "HTMLModel",
      "state": {
       "layout": "IPY_MODEL_a737c912255d428b95deb5d7d2dbd8c4",
       "style": "IPY_MODEL_e57ca885d2b94bf596ff83a61dff2dab",
       "value": "<b>mimeType:</b>"
      }
     },
     "0f3dbbc39f48406793e2aca42c52ee8d": {
      "model_module": "@jupyter-widgets/controls",
      "model_module_version": "1.5.0",
      "model_name": "HBoxModel",
      "state": {
       "children": [
        "IPY_MODEL_f921c01c25b6438e95101b4e697e3a65",
        "IPY_MODEL_2f79d02c120b40a4b73b40205a8ae74f"
       ],
       "layout": "IPY_MODEL_6e1a3bdeb7a142a1bdb8f65e935b8bf2"
      }
     },
     "0f6ea66f069e448e82c594a72f198297": {
      "model_module": "@jupyter-widgets/base",
      "model_module_version": "1.2.0",
      "model_name": "LayoutModel",
      "state": {}
     },
     "1037a4a1be9d47659f33b608abc89be1": {
      "model_module": "@jupyter-widgets/controls",
      "model_module_version": "1.5.0",
      "model_name": "HBoxModel",
      "state": {
       "children": [
        "IPY_MODEL_121f306d51b144f18fe9800e1afb3e3f",
        "IPY_MODEL_6b6f8f2bf7f942e3a5d33e58279d1330"
       ],
       "layout": "IPY_MODEL_32d94be93e6b40bf99c9322f9f24e89a"
      }
     },
     "10b90c1d77004abfb32f7e634dc96c5e": {
      "model_module": "@jupyter-widgets/controls",
      "model_module_version": "1.5.0",
      "model_name": "HTMLModel",
      "state": {
       "layout": "IPY_MODEL_8bbbe02a43ec47beb7680bc33a746d7e",
       "style": "IPY_MODEL_6045cc87992f41689f479a3960e2356c",
       "value": "<b>imageId:</b>"
      }
     },
     "113389a77af2464583da80d07a12eaee": {
      "model_module": "@jupyter-widgets/base",
      "model_module_version": "1.2.0",
      "model_name": "LayoutModel",
      "state": {}
     },
     "114cb5a4313c4adab7fb58ae7bebad26": {
      "model_module": "@jupyter-widgets/controls",
      "model_module_version": "1.5.0",
      "model_name": "DescriptionStyleModel",
      "state": {
       "description_width": ""
      }
     },
     "115dbcae5db949368076968a19da9cae": {
      "model_module": "@jupyter-widgets/base",
      "model_module_version": "1.2.0",
      "model_name": "LayoutModel",
      "state": {}
     },
     "121f306d51b144f18fe9800e1afb3e3f": {
      "model_module": "@jupyter-widgets/controls",
      "model_module_version": "1.5.0",
      "model_name": "HTMLModel",
      "state": {
       "layout": "IPY_MODEL_f6452ed974f2458581ab0e0361b3236d",
       "style": "IPY_MODEL_17c6087994304deca87a3eaca50796d7",
       "value": "<b>initialDelaySeconds:</b>"
      }
     },
     "1305ac2e910e4de8aed724cdb99192ee": {
      "model_module": "@jupyter-widgets/controls",
      "model_module_version": "1.5.0",
      "model_name": "VBoxModel",
      "state": {
       "children": [
        "IPY_MODEL_da68ddc269ef4bb2a9a960173fcd51b7",
        "IPY_MODEL_58386ca421a94526b4731489e53670bd",
        "IPY_MODEL_734d5d2d7d2a4534bd819d4e97674814"
       ],
       "layout": "IPY_MODEL_d9f939d7069f44a2b086cdb2710c11d1"
      }
     },
     "1338a0ea77e44346893a4ee978c51b48": {
      "model_module": "@jupyter-widgets/controls",
      "model_module_version": "1.5.0",
      "model_name": "HTMLModel",
      "state": {
       "layout": "IPY_MODEL_e4f39bf1246a4566bbabc426c450756b",
       "style": "IPY_MODEL_d73c07bc943447f3956e6adbbfcf6712",
       "value": "<img src=\"https://raw.githubusercontent.com/microsoft/AI-Utilities/master/docs/kubernetes.png\">"
      }
     },
     "139628bbfec94a608ffe5127edcb1032": {
      "model_module": "@jupyter-widgets/base",
      "model_module_version": "1.2.0",
      "model_name": "LayoutModel",
      "state": {}
     },
     "13e60f394add433a829bd4962ddc9b91": {
      "model_module": "@jupyter-widgets/controls",
      "model_module_version": "1.5.0",
      "model_name": "DescriptionStyleModel",
      "state": {
       "description_width": ""
      }
     },
     "140cc0034ed14e5c8803386ee8e604c0": {
      "model_module": "@jupyter-widgets/controls",
      "model_module_version": "1.5.0",
      "model_name": "HTMLModel",
      "state": {
       "layout": "IPY_MODEL_a0644ddeb98a4134bf46a8207a032e1d",
       "style": "IPY_MODEL_9ac9b6471a874c5cb1a59277563d2e6b",
       "value": "<b>userIdp:</b>"
      }
     },
     "1426ad66382146bf80748a7f7df52828": {
      "model_module": "@jupyter-widgets/base",
      "model_module_version": "1.2.0",
      "model_name": "LayoutModel",
      "state": {}
     },
     "147238dacfc04087964b926360d7a80b": {
      "model_module": "@jupyter-widgets/controls",
      "model_module_version": "1.5.0",
      "model_name": "HTMLModel",
      "state": {
       "layout": "IPY_MODEL_0cb8e67b60d24d12af275c1db8bbc0a9",
       "style": "IPY_MODEL_20a946852241436b8b12bc8a27413919",
       "value": "<b>timeoutSeconds:</b>"
      }
     },
     "14b63eb3d46340ce9b46d9ddd28bb7a8": {
      "model_module": "@jupyter-widgets/controls",
      "model_module_version": "1.5.0",
      "model_name": "HBoxModel",
      "state": {
       "children": [
        "IPY_MODEL_9f21edd25fdc405184ecb23d930b19ea",
        "IPY_MODEL_7e5ee2c0b6834fe194cb932937bdac6a"
       ],
       "layout": "IPY_MODEL_c17ec4b715244d049847da5155c942ba"
      }
     },
     "14bca330409240a78527b751771ae17e": {
      "model_module": "@jupyter-widgets/base",
      "model_module_version": "1.2.0",
      "model_name": "LayoutModel",
      "state": {}
     },
     "14c383632e58433aa3abfed40dc3f6b3": {
      "model_module": "@jupyter-widgets/base",
      "model_module_version": "1.2.0",
      "model_name": "LayoutModel",
      "state": {}
     },
     "1511074b602e4c3da4e2a1d6aaa732c2": {
      "model_module": "@jupyter-widgets/base",
      "model_module_version": "1.2.0",
      "model_name": "LayoutModel",
      "state": {}
     },
     "1631ebbe7f5e46d88d5f9b88ae90c18e": {
      "model_module": "@jupyter-widgets/controls",
      "model_module_version": "1.5.0",
      "model_name": "LabelModel",
      "state": {
       "layout": "IPY_MODEL_2720d4cbca004a42a874a98f2997096e",
       "style": "IPY_MODEL_d492e2a2ef404b6c82d9e2643b599647",
       "value": "application/json"
      }
     },
     "1794d548f68746f3bdbb9b2bc61ebda5": {
      "model_module": "@jupyter-widgets/controls",
      "model_module_version": "1.5.0",
      "model_name": "DescriptionStyleModel",
      "state": {
       "description_width": ""
      }
     },
     "17c6087994304deca87a3eaca50796d7": {
      "model_module": "@jupyter-widgets/controls",
      "model_module_version": "1.5.0",
      "model_name": "DescriptionStyleModel",
      "state": {
       "description_width": ""
      }
     },
     "17f8925e7d854f9a91a446682ac237b0": {
      "model_module": "@jupyter-widgets/controls",
      "model_module_version": "1.5.0",
      "model_name": "HTMLModel",
      "state": {
       "layout": "IPY_MODEL_e24c62474dc44d47b7b59d90e8b39143",
       "style": "IPY_MODEL_0161c808d96f4acaa19de518ee94ae03",
       "value": "<img src=\"https://raw.githubusercontent.com/microsoft/AI-Utilities/master/docs/app_insights_perf.png\">"
      }
     },
     "18a5058a13c0458c94ea93cdc3766ec0": {
      "model_module": "@jupyter-widgets/controls",
      "model_module_version": "1.5.0",
      "model_name": "HBoxModel",
      "state": {
       "children": [
        "IPY_MODEL_5d67b25f9efd4fd8bbffdbbbce26590f",
        "IPY_MODEL_68906afb09b5475a84b84dde03036b3c"
       ],
       "layout": "IPY_MODEL_5f1c3a581cc841c18568e710f89456da"
      }
     },
     "18d8b2d9c6d04e87af26fbe1575dab54": {
      "model_module": "@jupyter-widgets/controls",
      "model_module_version": "1.5.0",
      "model_name": "DescriptionStyleModel",
      "state": {
       "description_width": ""
      }
     },
     "18fb7f111c2b4d25b3197342fdd71374": {
      "model_module": "@jupyter-widgets/base",
      "model_module_version": "1.2.0",
      "model_name": "LayoutModel",
      "state": {}
     },
     "1955dc6793c3429fadd9af96b2d51805": {
      "model_module": "@jupyter-widgets/base",
      "model_module_version": "1.2.0",
      "model_name": "LayoutModel",
      "state": {}
     },
     "1a09c2850d694540a4a3192ae90f6103": {
      "model_module": "@jupyter-widgets/controls",
      "model_module_version": "1.5.0",
      "model_name": "HTMLModel",
      "state": {
       "layout": "IPY_MODEL_d213429fc86b4f35834f948f9199b198",
       "style": "IPY_MODEL_22ecd9dc54a94ea5860e29d383f2454c",
       "value": "<b>computeName:</b>"
      }
     },
     "1a2669243178455abc504207170bb05d": {
      "model_module": "@jupyter-widgets/controls",
      "model_module_version": "1.5.0",
      "model_name": "AccordionModel",
      "state": {
       "_titles": {
        "0": "Main",
        "1": "Performance"
       },
       "children": [
        "IPY_MODEL_3f48493e28d649299beb2562ec68e02d",
        "IPY_MODEL_1338a0ea77e44346893a4ee978c51b48"
       ],
       "layout": "IPY_MODEL_03a91146744b4dd4a6a200a91c210c77"
      }
     },
     "1a2f107c8bbd4078bb62233a4f98eef4": {
      "model_module": "@jupyter-widgets/controls",
      "model_module_version": "1.5.0",
      "model_name": "DescriptionStyleModel",
      "state": {
       "description_width": ""
      }
     },
     "1a344efb544d4b008bc62e7e1b5071c7": {
      "model_module": "@jupyter-widgets/controls",
      "model_module_version": "1.5.0",
      "model_name": "LabelModel",
      "state": {
       "layout": "IPY_MODEL_c8b1b35a58ed4d358ac47ebd41b957c7",
       "style": "IPY_MODEL_2f19d8de4dda4047a26f615ca34e48f7",
       "value": "Run(Experiment: dlrts-train-on-local,\nId: dlrts-train-on-local_1584417363_b3599921,\nType: azureml.scriptrun,\nStatus: Completed)"
      }
     },
     "1a6ed1f9edae46839ed288bc80dd380c": {
      "model_module": "@jupyter-widgets/controls",
      "model_module_version": "1.5.0",
      "model_name": "DescriptionStyleModel",
      "state": {
       "description_width": ""
      }
     },
     "1a750abc464b40e894ae77b53beebc00": {
      "model_module": "@jupyter-widgets/base",
      "model_module_version": "1.2.0",
      "model_name": "LayoutModel",
      "state": {}
     },
     "1a7f96923ece406dbec73aba570dfe81": {
      "model_module": "@jupyter-widgets/controls",
      "model_module_version": "1.5.0",
      "model_name": "HTMLModel",
      "state": {
       "layout": "IPY_MODEL_94bd4b4175de4ad7a08bac71f515400b",
       "style": "IPY_MODEL_fe6f6e5eae344921902d8583c1b99294",
       "value": "<b>eventHubEnabled:</b>"
      }
     },
     "1ad52a1968ce45ca9a7f35b7ed2e1ad6": {
      "model_module": "@jupyter-widgets/controls",
      "model_module_version": "1.5.0",
      "model_name": "HBoxModel",
      "state": {
       "children": [
        "IPY_MODEL_929193b8d99346caa28380994dab17cf",
        "IPY_MODEL_9c7bacf2ce4b4ad48e95961b63d71bfb"
       ],
       "layout": "IPY_MODEL_3c72b0288a684a4e951f45fa6ef5e58d"
      }
     },
     "1b4e095463114c31a84f7ba90c0fd2aa": {
      "model_module": "@jupyter-widgets/controls",
      "model_module_version": "1.5.0",
      "model_name": "HBoxModel",
      "state": {
       "children": [
        "IPY_MODEL_3e4bece65af4496ea33b7df63d5ea8a8",
        "IPY_MODEL_29978f3d65e344ad8684fb3d67b814ea"
       ],
       "layout": "IPY_MODEL_6e31120c26d4489aaec950f901e25d23"
      }
     },
     "1b7e937feec745f289e849b8d69fcd1d": {
      "model_module": "@jupyter-widgets/controls",
      "model_module_version": "1.5.0",
      "model_name": "LabelModel",
      "state": {
       "layout": "IPY_MODEL_958ec1d250e24fab927f14da49190a53",
       "style": "IPY_MODEL_bff388702e6a4dabae37028d2d8743c6",
       "value": "Custom"
      }
     },
     "1bb213e57cdc42a0a34e62d415470b4f": {
      "model_module": "@jupyter-widgets/base",
      "model_module_version": "1.2.0",
      "model_name": "LayoutModel",
      "state": {}
     },
     "1d27ee42ce184f2cbc56ea2476d6a248": {
      "model_module": "@jupyter-widgets/base",
      "model_module_version": "1.2.0",
      "model_name": "LayoutModel",
      "state": {}
     },
     "1d40afb510a1457692718d87d1837578": {
      "model_module": "@jupyter-widgets/controls",
      "model_module_version": "1.5.0",
      "model_name": "LabelModel",
      "state": {
       "layout": "IPY_MODEL_8cf4bd23ec41472a8a3ff2262ed902ed",
       "style": "IPY_MODEL_89348c42469c4959b7e7f00627d8d76b",
       "value": "e6cc2e17-5968-49e6-bb8f-9fb978a0d450"
      }
     },
     "1eaa4fe4c6ef4cf0b30839a79a612c7c": {
      "model_module": "@jupyter-widgets/controls",
      "model_module_version": "1.5.0",
      "model_name": "DescriptionStyleModel",
      "state": {
       "description_width": ""
      }
     },
     "1fe482e60de1405dae74bda9cc15620e": {
      "model_module": "@jupyter-widgets/controls",
      "model_module_version": "1.5.0",
      "model_name": "DescriptionStyleModel",
      "state": {
       "description_width": ""
      }
     },
     "1ff629114ce4420c9351fe2073b6cdc5": {
      "model_module": "@jupyter-widgets/controls",
      "model_module_version": "1.5.0",
      "model_name": "HTMLModel",
      "state": {
       "layout": "IPY_MODEL_5736612827b843d5bb22c03d06f76831",
       "style": "IPY_MODEL_c65165d71ab6496988f67bb11892c1e0",
       "value": "<b>maxReplicas:</b>"
      }
     },
     "206420ab29f14a17afa6b79bf231f5a1": {
      "model_module": "@jupyter-widgets/controls",
      "model_module_version": "1.5.0",
      "model_name": "DescriptionStyleModel",
      "state": {
       "description_width": ""
      }
     },
     "20a946852241436b8b12bc8a27413919": {
      "model_module": "@jupyter-widgets/controls",
      "model_module_version": "1.5.0",
      "model_name": "DescriptionStyleModel",
      "state": {
       "description_width": ""
      }
     },
     "215f2e66e7514df5815189fe0c908bbf": {
      "model_module": "@jupyter-widgets/controls",
      "model_module_version": "1.5.0",
      "model_name": "LabelModel",
      "state": {
       "layout": "IPY_MODEL_0a570779a24b4c3c9b64599eabdb227c",
       "style": "IPY_MODEL_de4d1f9f95844f8abf654a8c41e1fe6f",
       "value": "False"
      }
     },
     "21d511d6d4884541b3e89288a6de434f": {
      "model_module": "@jupyter-widgets/controls",
      "model_module_version": "1.5.0",
      "model_name": "AccordionModel",
      "state": {
       "_titles": {
        "0": "Workspace",
        "1": "Model"
       },
       "children": [
        "IPY_MODEL_d246735554194f38ad22e1a9cac42db1",
        "IPY_MODEL_68631f69ad794da8babba1e343b7c0b3"
       ],
       "layout": "IPY_MODEL_030832bbf08341c3a4eeb5c79b07d8cb"
      }
     },
     "2232f7a9fd09404fbab3619bc2f5da52": {
      "model_module": "@jupyter-widgets/base",
      "model_module_version": "1.2.0",
      "model_name": "LayoutModel",
      "state": {}
     },
     "22ecd9dc54a94ea5860e29d383f2454c": {
      "model_module": "@jupyter-widgets/controls",
      "model_module_version": "1.5.0",
      "model_name": "DescriptionStyleModel",
      "state": {
       "description_width": ""
      }
     },
     "239c2f8529ac4254bb33c2d12e43d9b2": {
      "model_module": "@jupyter-widgets/controls",
      "model_module_version": "1.5.0",
      "model_name": "DescriptionStyleModel",
      "state": {
       "description_width": ""
      }
     },
     "23f31ec168b24594a44b46fe44383d96": {
      "model_module": "@jupyter-widgets/base",
      "model_module_version": "1.2.0",
      "model_name": "LayoutModel",
      "state": {}
     },
     "241a2c5d4c77478a9509e334a2a32f12": {
      "model_module": "@jupyter-widgets/controls",
      "model_module_version": "1.5.0",
      "model_name": "DescriptionStyleModel",
      "state": {
       "description_width": ""
      }
     },
     "243560bf6f244d1595e295aff421443e": {
      "model_module": "@jupyter-widgets/base",
      "model_module_version": "1.2.0",
      "model_name": "LayoutModel",
      "state": {}
     },
     "24607634c536435c81c2a80aefeab540": {
      "model_module": "@jupyter-widgets/base",
      "model_module_version": "1.2.0",
      "model_name": "LayoutModel",
      "state": {}
     },
     "24ce193852ad48058c0ebece75db66a4": {
      "model_module": "@jupyter-widgets/controls",
      "model_module_version": "1.5.0",
      "model_name": "DescriptionStyleModel",
      "state": {
       "description_width": ""
      }
     },
     "253d93d641c44dfaa9ff75df1daf884e": {
      "model_module": "@jupyter-widgets/controls",
      "model_module_version": "1.5.0",
      "model_name": "DescriptionStyleModel",
      "state": {
       "description_width": ""
      }
     },
     "25ba6984cd984de8a9ae59a1f2f74686": {
      "model_module": "@jupyter-widgets/base",
      "model_module_version": "1.2.0",
      "model_name": "LayoutModel",
      "state": {}
     },
     "25cdd6bb97304a939d448d79a1e4db13": {
      "model_module": "@jupyter-widgets/controls",
      "model_module_version": "1.5.0",
      "model_name": "DescriptionStyleModel",
      "state": {
       "description_width": ""
      }
     },
     "2614901d6bf44aea8a366fa091e4bea9": {
      "model_module": "@jupyter-widgets/controls",
      "model_module_version": "1.5.0",
      "model_name": "FileUploadModel",
      "state": {
       "accept": ".yml",
       "description_tooltip": null,
       "layout": "IPY_MODEL_0e688c9c9e0b449eb00e55fec9f6a481",
       "style": "IPY_MODEL_a859ae71b39b4a0ca23b9f906b483e2f"
      }
     },
     "268f3e1f612342c1b4a9fbb692157f11": {
      "model_module": "@jupyter-widgets/base",
      "model_module_version": "1.2.0",
      "model_name": "LayoutModel",
      "state": {}
     },
     "26f446e6d7414d10969e711a0f84a873": {
      "model_module": "@jupyter-widgets/controls",
      "model_module_version": "1.5.0",
      "model_name": "DescriptionStyleModel",
      "state": {
       "description_width": ""
      }
     },
     "26fc3d6c294d4f2f9cb6517ae5c95816": {
      "model_module": "@jupyter-widgets/base",
      "model_module_version": "1.2.0",
      "model_name": "LayoutModel",
      "state": {}
     },
     "271d17ee68a744678e37640bcc51aeec": {
      "model_module": "@jupyter-widgets/controls",
      "model_module_version": "1.5.0",
      "model_name": "HBoxModel",
      "state": {
       "children": [
        "IPY_MODEL_7567996d8ea24471b04a0e2987110971",
        "IPY_MODEL_5da10130569b4e81bc2bc432053ab4d5"
       ],
       "layout": "IPY_MODEL_f704e75c17124651a6c9bed8baa0b328"
      }
     },
     "2720d4cbca004a42a874a98f2997096e": {
      "model_module": "@jupyter-widgets/base",
      "model_module_version": "1.2.0",
      "model_name": "LayoutModel",
      "state": {}
     },
     "27918b01cf9e4ffc83aed3e585bbe7d7": {
      "model_module": "@jupyter-widgets/controls",
      "model_module_version": "1.5.0",
      "model_name": "HBoxModel",
      "state": {
       "children": [
        "IPY_MODEL_030d3671ff7d42ac9498f02668fd75fa",
        "IPY_MODEL_093de844a0ec430896449553b7363630"
       ],
       "layout": "IPY_MODEL_54d841108d41431ca42970b45c7886cb"
      }
     },
     "2824ab62e043442fb9e1492e99425dea": {
      "model_module": "@jupyter-widgets/controls",
      "model_module_version": "1.5.0",
      "model_name": "LabelModel",
      "state": {
       "layout": "IPY_MODEL_3fc5549ea4c24375a562c809459a9da6",
       "style": "IPY_MODEL_bb7b2b9b0cb5461ab99af031068a9cc8",
       "value": "None"
      }
     },
     "283ac10a3011483990ab7e83d4f73d6e": {
      "model_module": "@jupyter-widgets/base",
      "model_module_version": "1.2.0",
      "model_name": "LayoutModel",
      "state": {}
     },
     "284478a2e8fc4950b5c7737c80503340": {
      "model_module": "@jupyter-widgets/controls",
      "model_module_version": "1.5.0",
      "model_name": "DescriptionStyleModel",
      "state": {
       "description_width": ""
      }
     },
     "28618ef0798041aba97c7419120aea5e": {
      "model_module": "@jupyter-widgets/controls",
      "model_module_version": "1.5.0",
      "model_name": "LabelModel",
      "state": {
       "layout": "IPY_MODEL_f4a9a57a928840ac84f5d5534b86ab09",
       "style": "IPY_MODEL_a55d52b44a1f419e92c371c7072fbdb6",
       "value": "bcfb72d420055cec9d3cf56f0e0e3dea43602245"
      }
     },
     "2885c02fdb114ff6941311876668cf7b": {
      "model_module": "@jupyter-widgets/base",
      "model_module_version": "1.2.0",
      "model_name": "LayoutModel",
      "state": {}
     },
     "28e9c9fb17444564a37e2016b026efd3": {
      "model_module": "@jupyter-widgets/controls",
      "model_module_version": "1.5.0",
      "model_name": "DescriptionStyleModel",
      "state": {
       "description_width": ""
      }
     },
     "296968ccc71b4fc3bf4bed80996f164a": {
      "model_module": "@jupyter-widgets/base",
      "model_module_version": "1.2.0",
      "model_name": "LayoutModel",
      "state": {}
     },
     "29978f3d65e344ad8684fb3d67b814ea": {
      "model_module": "@jupyter-widgets/controls",
      "model_module_version": "1.5.0",
      "model_name": "LabelModel",
      "state": {
       "layout": "IPY_MODEL_d02c472e4c2142aba0b3d1a45fe91b78",
       "style": "IPY_MODEL_5f79767d1e93427084fbd1963019d220",
       "value": "resnet_model_2:1"
      }
     },
     "29f1815ca7464136bf0dcabeba99280c": {
      "model_module": "@jupyter-widgets/controls",
      "model_module_version": "1.5.0",
      "model_name": "LabelModel",
      "state": {
       "layout": "IPY_MODEL_faa3dff9761e40e891116f12ec829015",
       "style": "IPY_MODEL_0cb84dc49c6f49ce8bdbf59d6162c72a",
       "value": "1"
      }
     },
     "2a1f821fad134168831404e8f763e615": {
      "model_module": "@jupyter-widgets/controls",
      "model_module_version": "1.5.0",
      "model_name": "HBoxModel",
      "state": {
       "children": [
        "IPY_MODEL_348867775236470f9c3359502605ab6a",
        "IPY_MODEL_9ea2c4fc14b7464cb6304f1e77f002d6"
       ],
       "layout": "IPY_MODEL_5223d6107b7d47c497014c1ca518b0de"
      }
     },
     "2a74050291594c60b0f3a2cf87f97e41": {
      "model_module": "@jupyter-widgets/controls",
      "model_module_version": "1.5.0",
      "model_name": "HTMLModel",
      "state": {
       "layout": "IPY_MODEL_df52710971704265a2d146aa25c77afb",
       "style": "IPY_MODEL_5e02361dd0394910b958fd51db103a16",
       "value": "<b>r:</b>"
      }
     },
     "2c965d2193d04e0e924922fda3a9ebb6": {
      "model_module": "@jupyter-widgets/base",
      "model_module_version": "1.2.0",
      "model_name": "LayoutModel",
      "state": {}
     },
     "2d67924b2f8843fdb5e4a5ed6a3e7c1b": {
      "model_module": "@jupyter-widgets/base",
      "model_module_version": "1.2.0",
      "model_name": "LayoutModel",
      "state": {}
     },
     "2d769168da854ec2bfc88596d00cbae9": {
      "model_module": "@jupyter-widgets/controls",
      "model_module_version": "1.5.0",
      "model_name": "DescriptionStyleModel",
      "state": {
       "description_width": ""
      }
     },
     "2d90d00cc79447bcb568e1cf67b29987": {
      "model_module": "@jupyter-widgets/base",
      "model_module_version": "1.2.0",
      "model_name": "LayoutModel",
      "state": {}
     },
     "2dfa3910fef44a6fb3fead60c5043a41": {
      "model_module": "@jupyter-widgets/controls",
      "model_module_version": "1.5.0",
      "model_name": "DescriptionStyleModel",
      "state": {
       "description_width": ""
      }
     },
     "2e0eb849bfa64169af27684d2d3fd3d3": {
      "model_module": "@jupyter-widgets/controls",
      "model_module_version": "1.5.0",
      "model_name": "HBoxModel",
      "state": {
       "children": [
        "IPY_MODEL_dc82efdc907941c78974def142084b59",
        "IPY_MODEL_5a4b2ae84d0946b0b18ec41b40b6e522"
       ],
       "layout": "IPY_MODEL_ff7f13426e594242bce762871364e7ac"
      }
     },
     "2e200fd03524458286014c12ee3145cb": {
      "model_module": "@jupyter-widgets/base",
      "model_module_version": "1.2.0",
      "model_name": "LayoutModel",
      "state": {}
     },
     "2e31ed81250f413bb29630c3582c9e76": {
      "model_module": "@jupyter-widgets/controls",
      "model_module_version": "1.5.0",
      "model_name": "DescriptionStyleModel",
      "state": {
       "description_width": ""
      }
     },
     "2e61fbd5609241cab4254ae721092165": {
      "model_module": "@jupyter-widgets/base",
      "model_module_version": "1.2.0",
      "model_name": "LayoutModel",
      "state": {}
     },
     "2e622bba23914010bba3fdc6d6d0a05f": {
      "model_module": "@jupyter-widgets/controls",
      "model_module_version": "1.5.0",
      "model_name": "HTMLModel",
      "state": {
       "layout": "IPY_MODEL_35f183da49624548af3ec8c765008443",
       "style": "IPY_MODEL_d2744ae5f375428286332ed9078a0926",
       "value": "<b>userName:</b>"
      }
     },
     "2e99a648def2416b855d3e85cf559883": {
      "model_module": "@jupyter-widgets/base",
      "model_module_version": "1.2.0",
      "model_name": "LayoutModel",
      "state": {}
     },
     "2eae36d8b701486dbdf1c3bc7b7291fc": {
      "model_module": "@jupyter-widgets/base",
      "model_module_version": "1.2.0",
      "model_name": "LayoutModel",
      "state": {}
     },
     "2ee8ce1a0b0b481c9d0be85274060e7d": {
      "model_module": "@jupyter-widgets/base",
      "model_module_version": "1.2.0",
      "model_name": "LayoutModel",
      "state": {}
     },
     "2f19d8de4dda4047a26f615ca34e48f7": {
      "model_module": "@jupyter-widgets/controls",
      "model_module_version": "1.5.0",
      "model_name": "DescriptionStyleModel",
      "state": {
       "description_width": ""
      }
     },
     "2f79d02c120b40a4b73b40205a8ae74f": {
      "model_module": "@jupyter-widgets/controls",
      "model_module_version": "1.5.0",
      "model_name": "LabelModel",
      "state": {
       "layout": "IPY_MODEL_66e7a3f75f214c989042878c7d30ebd4",
       "style": "IPY_MODEL_da61792b14314684a04fd5d153e71ef9",
       "value": "{'EXAMPLE_ENV_VAR': 'EXAMPLE_VALUE'}"
      }
     },
     "2fa113c4d7934d82b02ec6eaad47b27b": {
      "model_module": "@jupyter-widgets/controls",
      "model_module_version": "1.5.0",
      "model_name": "HBoxModel",
      "state": {
       "children": [
        "IPY_MODEL_f3d916707fa64d62ab8cfdc419acb76c",
        "IPY_MODEL_8750e263f5a342408eabf13b57f548ec"
       ],
       "layout": "IPY_MODEL_ef284cde26bc40f3abc777939cbdb960"
      }
     },
     "2fb83d066e2e426dae2777e5fd2dbab4": {
      "model_module": "@jupyter-widgets/base",
      "model_module_version": "1.2.0",
      "model_name": "LayoutModel",
      "state": {}
     },
     "308e83b13a4a48a1b978695570f3ff3b": {
      "model_module": "@jupyter-widgets/base",
      "model_module_version": "1.2.0",
      "model_name": "LayoutModel",
      "state": {}
     },
     "30d7ee1eaf90483fa4fee3d4095eb755": {
      "model_module": "@jupyter-widgets/controls",
      "model_module_version": "1.5.0",
      "model_name": "DescriptionStyleModel",
      "state": {
       "description_width": ""
      }
     },
     "3121f96760124a328e17bd705289f6e6": {
      "model_module": "@jupyter-widgets/controls",
      "model_module_version": "1.5.0",
      "model_name": "LabelModel",
      "state": {
       "layout": "IPY_MODEL_96d14da868bf408ebd49470780465d66",
       "style": "IPY_MODEL_43942dcdbb584dbb830edb055b7fcce2",
       "value": "1"
      }
     },
     "32090213652e4c52b2bded3be97597f4": {
      "model_module": "@jupyter-widgets/base",
      "model_module_version": "1.2.0",
      "model_name": "LayoutModel",
      "state": {}
     },
     "321e46e163ea4b0cb9e63eeba80dec57": {
      "model_module": "@jupyter-widgets/base",
      "model_module_version": "1.2.0",
      "model_name": "LayoutModel",
      "state": {}
     },
     "32207884e6eb4d8b98372a246544cd5a": {
      "model_module": "@jupyter-widgets/base",
      "model_module_version": "1.2.0",
      "model_name": "LayoutModel",
      "state": {}
     },
     "3242fa5aded44f7db820d4e0f1fcc5df": {
      "model_module": "@jupyter-widgets/controls",
      "model_module_version": "1.5.0",
      "model_name": "LabelModel",
      "state": {
       "layout": "IPY_MODEL_23f31ec168b24594a44b46fe44383d96",
       "style": "IPY_MODEL_0b705b7718b143ee9804a189d80e7222",
       "value": "None"
      }
     },
     "32c27de18a8b4eef97fa26b8281441fd": {
      "model_module": "@jupyter-widgets/controls",
      "model_module_version": "1.5.0",
      "model_name": "HTMLModel",
      "state": {
       "layout": "IPY_MODEL_41f70099991e4f9b90e9ca8f42b2daa1",
       "style": "IPY_MODEL_d923c3bfe5d8461fb9bfc1b7cb2a2c1d",
       "value": "<b>sampleOutputDatasetId:</b>"
      }
     },
     "32d94be93e6b40bf99c9322f9f24e89a": {
      "model_module": "@jupyter-widgets/base",
      "model_module_version": "1.2.0",
      "model_name": "LayoutModel",
      "state": {}
     },
     "32f71056f7c54f3b8bd4cbc35ee90bbf": {
      "model_module": "@jupyter-widgets/base",
      "model_module_version": "1.2.0",
      "model_name": "LayoutModel",
      "state": {}
     },
     "334f675147714b44b2c0b58e071ff342": {
      "model_module": "@jupyter-widgets/controls",
      "model_module_version": "1.5.0",
      "model_name": "DescriptionStyleModel",
      "state": {
       "description_width": ""
      }
     },
     "3423fdc27135494fa74d0fcc261d21fe": {
      "model_module": "@jupyter-widgets/controls",
      "model_module_version": "1.5.0",
      "model_name": "HTMLModel",
      "state": {
       "layout": "IPY_MODEL_a58d55be263045d4822f7ab7688ba8c7",
       "style": "IPY_MODEL_acfe5f1348fa4f70b8bf9d95d2507c53",
       "value": "<b>maxConcurrentRequestsPerContainer:</b>"
      }
     },
     "342eccdbf8fa4ceda46ad8d24aa1425d": {
      "model_module": "@jupyter-widgets/controls",
      "model_module_version": "1.5.0",
      "model_name": "DescriptionStyleModel",
      "state": {
       "description_width": ""
      }
     },
     "348545e2599c4bd6939f39df65f925ad": {
      "model_module": "@jupyter-widgets/controls",
      "model_module_version": "1.5.0",
      "model_name": "HBoxModel",
      "state": {
       "children": [
        "IPY_MODEL_410e3adbbaff49889da087d92c6b0a7e",
        "IPY_MODEL_3635da468b884418a4b229acda48f147"
       ],
       "layout": "IPY_MODEL_d64da459512846d287f4d4908077d0a5"
      }
     },
     "348867775236470f9c3359502605ab6a": {
      "model_module": "@jupyter-widgets/controls",
      "model_module_version": "1.5.0",
      "model_name": "HTMLModel",
      "state": {
       "layout": "IPY_MODEL_c4c7a029441e4679b750428b9ccf756a",
       "style": "IPY_MODEL_cac3d1367b2144b9bf61bb242df0ea6c",
       "value": "<b>docker:</b>"
      }
     },
     "3558ecbaffa043ba8a27727df17f5d0f": {
      "model_module": "@jupyter-widgets/controls",
      "model_module_version": "1.5.0",
      "model_name": "DescriptionStyleModel",
      "state": {
       "description_width": ""
      }
     },
     "35cd5ee8e1d04d2cb33188c206f1439c": {
      "model_module": "@jupyter-widgets/controls",
      "model_module_version": "1.5.0",
      "model_name": "LabelModel",
      "state": {
       "layout": "IPY_MODEL_859a0d891f734884ae449efe5f52645d",
       "style": "IPY_MODEL_30d7ee1eaf90483fa4fee3d4095eb755",
       "value": "None"
      }
     },
     "35dae72c109e4ee5aa82c3f75bb4329e": {
      "model_module": "@jupyter-widgets/controls",
      "model_module_version": "1.5.0",
      "model_name": "HTMLModel",
      "state": {
       "layout": "IPY_MODEL_9abf4da213b74132b2062cc16ed2f4f9",
       "style": "IPY_MODEL_ac8f2ee7ed10432d9e61f841a44f867b",
       "value": "<b>userIss:</b>"
      }
     },
     "35f183da49624548af3ec8c765008443": {
      "model_module": "@jupyter-widgets/base",
      "model_module_version": "1.2.0",
      "model_name": "LayoutModel",
      "state": {}
     },
     "3635da468b884418a4b229acda48f147": {
      "model_module": "@jupyter-widgets/controls",
      "model_module_version": "1.5.0",
      "model_name": "LabelModel",
      "state": {
       "layout": "IPY_MODEL_600b595252cb4240a19a946b06aec4d4",
       "style": "IPY_MODEL_97ebda5a6c664ed49fd47e14506d10a3",
       "value": "2020-03-17T03:59:11.432120+00:00"
      }
     },
     "370efe793b044b30bef5068a30ac0a33": {
      "model_module": "@jupyter-widgets/controls",
      "model_module_version": "1.5.0",
      "model_name": "LabelModel",
      "state": {
       "layout": "IPY_MODEL_8b9aa95a5c04444ba2a0ad7d405d382e",
       "style": "IPY_MODEL_bbda698dfee34e45bbccd9fc1c0ade7c",
       "value": "10"
      }
     },
     "371b3eae9bcc4189974adc315afef669": {
      "model_module": "@jupyter-widgets/controls",
      "model_module_version": "1.5.0",
      "model_name": "DescriptionStyleModel",
      "state": {
       "description_width": ""
      }
     },
     "3738d3f5157446969058ac6b10d5ef38": {
      "model_module": "@jupyter-widgets/controls",
      "model_module_version": "1.5.0",
      "model_name": "LabelModel",
      "state": {
       "layout": "IPY_MODEL_5129cf7c4715416790ba1d62f8b2b44b",
       "style": "IPY_MODEL_62850470860944e4a403fb7a0c181078",
       "value": "70"
      }
     },
     "37536f339cc84998ab74a51c84f8f348": {
      "model_module": "@jupyter-widgets/base",
      "model_module_version": "1.2.0",
      "model_name": "LayoutModel",
      "state": {}
     },
     "37637228600c4135b60be3a202a40f78": {
      "model_module": "@jupyter-widgets/controls",
      "model_module_version": "1.5.0",
      "model_name": "DescriptionStyleModel",
      "state": {
       "description_width": ""
      }
     },
     "377004fd61d74c6b98775c6e4dbfc66a": {
      "model_module": "@jupyter-widgets/controls",
      "model_module_version": "1.5.0",
      "model_name": "LabelModel",
      "state": {
       "layout": "IPY_MODEL_7a53f7590f5948efacca07343363b547",
       "style": "IPY_MODEL_c4af8353ad1141bea92d07544ba0552b",
       "value": "500"
      }
     },
     "38033d4398644756a83f5dd19cb30d7d": {
      "model_module": "@jupyter-widgets/base",
      "model_module_version": "1.2.0",
      "model_name": "LayoutModel",
      "state": {}
     },
     "385b69585a6d4b78b7270808fa9eeead": {
      "model_module": "@jupyter-widgets/controls",
      "model_module_version": "1.5.0",
      "model_name": "DescriptionStyleModel",
      "state": {
       "description_width": ""
      }
     },
     "38e844b059e942488eda5dfc0618f000": {
      "model_module": "@jupyter-widgets/controls",
      "model_module_version": "1.5.0",
      "model_name": "HBoxModel",
      "state": {
       "children": [
        "IPY_MODEL_62f508bd0d6543e0b0223ff5c19f6bc5",
        "IPY_MODEL_fa13e0b4d2c84bf186c948370e708811"
       ],
       "layout": "IPY_MODEL_50170c58225446dd9f8302d7cfa85ca8"
      }
     },
     "394661e31628440194f9f9c434908360": {
      "model_module": "@jupyter-widgets/controls",
      "model_module_version": "1.5.0",
      "model_name": "LabelModel",
      "state": {
       "layout": "IPY_MODEL_5c644b6fc26e41bfbdb915968ae95717",
       "style": "IPY_MODEL_fd7025bd08ca445ca93bae35d6dc376d",
       "value": "None"
      }
     },
     "39901645428b46b0bdeb59e9faf988fa": {
      "model_module": "@jupyter-widgets/controls",
      "model_module_version": "1.5.0",
      "model_name": "HBoxModel",
      "state": {
       "children": [
        "IPY_MODEL_a8ca431457d74e51bace68b13c891b14",
        "IPY_MODEL_468dd869a65d4dc78f75f33ea9b103e6"
       ],
       "layout": "IPY_MODEL_115dbcae5db949368076968a19da9cae"
      }
     },
     "39cd298e6bf946259b5f9717fb924c49": {
      "model_module": "@jupyter-widgets/controls",
      "model_module_version": "1.5.0",
      "model_name": "HTMLModel",
      "state": {
       "layout": "IPY_MODEL_a44f082edcf4400f91c83f30fbb840e1",
       "style": "IPY_MODEL_9fbd5223cfed47cb945a3f4eb00c22c1",
       "value": "<b>userTenantId:</b>"
      }
     },
     "3a4db177b3a84c628d65e859f941d847": {
      "model_module": "@jupyter-widgets/controls",
      "model_module_version": "1.5.0",
      "model_name": "HTMLModel",
      "state": {
       "layout": "IPY_MODEL_4fbd70d3b9e445b0978e03aed940a9b9",
       "style": "IPY_MODEL_4dfe3e09da2247c588941abea894fcfb",
       "value": "<b>storageEnabled:</b>"
      }
     },
     "3a701bdf748f4fc79d6f200fb54f7f43": {
      "model_module": "@jupyter-widgets/controls",
      "model_module_version": "1.5.0",
      "model_name": "LabelModel",
      "state": {
       "layout": "IPY_MODEL_08319d5ab7044d10889f60ec22ca92f2",
       "style": "IPY_MODEL_67ec1b430978403599fb6e82b2e1d409",
       "value": "False"
      }
     },
     "3aa9a42c4adc4c2988bd52995b5bc98c": {
      "model_module": "@jupyter-widgets/base",
      "model_module_version": "1.2.0",
      "model_name": "LayoutModel",
      "state": {}
     },
     "3af31348678d4f6daa49ec8ca48792d3": {
      "model_module": "@jupyter-widgets/controls",
      "model_module_version": "1.5.0",
      "model_name": "HTMLModel",
      "state": {
       "layout": "IPY_MODEL_9df9c7cbfb91403f97c0b9574f449293",
       "style": "IPY_MODEL_975822f08b484cd28e08a4e308edb7d8",
       "value": "<b>description:</b>"
      }
     },
     "3af387905bbd4a3ba145d9ac40523768": {
      "model_module": "@jupyter-widgets/controls",
      "model_module_version": "1.5.0",
      "model_name": "DescriptionStyleModel",
      "state": {
       "description_width": ""
      }
     },
     "3b4072f0f90b4b3cbb8cf155384aa9af": {
      "model_module": "@jupyter-widgets/base",
      "model_module_version": "1.2.0",
      "model_name": "LayoutModel",
      "state": {}
     },
     "3b9f870661b44d6ba4bb38747c447ecb": {
      "model_module": "@jupyter-widgets/controls",
      "model_module_version": "1.5.0",
      "model_name": "VBoxModel",
      "state": {
       "children": [
        "IPY_MODEL_e06b331d0b14436d971da853e77de9e1",
        "IPY_MODEL_d44fce8a3f4d4008ba52d8de02ddfb53",
        "IPY_MODEL_c0be9cc6967f4799b20db1a517e7c701",
        "IPY_MODEL_d67beffbfd794a988d0780e73a88aea2",
        "IPY_MODEL_38e844b059e942488eda5dfc0618f000",
        "IPY_MODEL_4db7323330ea42e2b214c98e60417807",
        "IPY_MODEL_cdd48e6eedb24e31afb704f34b064330"
       ],
       "layout": "IPY_MODEL_62f6609207ff4fea8ac9b3ce270fabe3"
      }
     },
     "3bbb2abedbd046c1a617f16adfe068b5": {
      "model_module": "@jupyter-widgets/base",
      "model_module_version": "1.2.0",
      "model_name": "LayoutModel",
      "state": {}
     },
     "3c64b4fe46b1419b9403851368f890fa": {
      "model_module": "@jupyter-widgets/controls",
      "model_module_version": "1.5.0",
      "model_name": "HTMLModel",
      "state": {
       "layout": "IPY_MODEL_81e372608acb4b2b8ce22d3d4d4cdd91",
       "style": "IPY_MODEL_9c1947283c944803b616ced03b27321e",
       "value": "<b>isDefault:</b>"
      }
     },
     "3c69c03a4a0e463a9b24214294c72ac9": {
      "model_module": "@jupyter-widgets/controls",
      "model_module_version": "1.5.0",
      "model_name": "DescriptionStyleModel",
      "state": {
       "description_width": ""
      }
     },
     "3c72b0288a684a4e951f45fa6ef5e58d": {
      "model_module": "@jupyter-widgets/base",
      "model_module_version": "1.2.0",
      "model_name": "LayoutModel",
      "state": {}
     },
     "3d5a86b52de745328fad350dd7f5c06e": {
      "model_module": "@jupyter-widgets/controls",
      "model_module_version": "1.5.0",
      "model_name": "DescriptionStyleModel",
      "state": {
       "description_width": ""
      }
     },
     "3e4bece65af4496ea33b7df63d5ea8a8": {
      "model_module": "@jupyter-widgets/controls",
      "model_module_version": "1.5.0",
      "model_name": "HTMLModel",
      "state": {
       "layout": "IPY_MODEL_73e663de801d43658ed0a5774c6025bc",
       "style": "IPY_MODEL_ac0a4ea99e4a4e7f8dce3133f9912d74",
       "value": "<b>id:</b>"
      }
     },
     "3e7b1c9036324f7fbd61d2bf8dde80ca": {
      "model_module": "@jupyter-widgets/controls",
      "model_module_version": "1.5.0",
      "model_name": "LabelModel",
      "state": {
       "layout": "IPY_MODEL_85411c69106542d3945fb87b7944f49f",
       "style": "IPY_MODEL_13e60f394add433a829bd4962ddc9b91",
       "value": "dlrts-train-on-local"
      }
     },
     "3e7ded2c1b1745648d513a6b7b05712b": {
      "model_module": "@jupyter-widgets/controls",
      "model_module_version": "1.5.0",
      "model_name": "HBoxModel",
      "state": {
       "children": [
        "IPY_MODEL_bab349a3342045c794f70797f4f32d88",
        "IPY_MODEL_fb9f5e62a94346839d4b30e9e3c56e28"
       ],
       "layout": "IPY_MODEL_bda769d3576941e781d52c3d662c3329"
      }
     },
     "3f48493e28d649299beb2562ec68e02d": {
      "model_module": "@jupyter-widgets/controls",
      "model_module_version": "1.5.0",
      "model_name": "VBoxModel",
      "state": {
       "children": [
        "IPY_MODEL_a66dd2bb38004142a4ba48e96c841112"
       ],
       "layout": "IPY_MODEL_c9ab16f434694f92851e44c8b60e8ca6"
      }
     },
     "3f578d0806534c12aacb3ebec1106c98": {
      "model_module": "@jupyter-widgets/base",
      "model_module_version": "1.2.0",
      "model_name": "LayoutModel",
      "state": {}
     },
     "3f988128232c452da2cdb0c52ba3186b": {
      "model_module": "@jupyter-widgets/base",
      "model_module_version": "1.2.0",
      "model_name": "LayoutModel",
      "state": {}
     },
     "3fc5549ea4c24375a562c809459a9da6": {
      "model_module": "@jupyter-widgets/base",
      "model_module_version": "1.2.0",
      "model_name": "LayoutModel",
      "state": {}
     },
     "40ba619bbfbc40e6827ee9773d35c2bb": {
      "model_module": "@jupyter-widgets/controls",
      "model_module_version": "1.5.0",
      "model_name": "LabelModel",
      "state": {
       "layout": "IPY_MODEL_d962f05f309e4173b1f7d3509549e3b3",
       "style": "IPY_MODEL_6c69a4cf80a3438390c456f0dfaf6a22",
       "value": "0.1"
      }
     },
     "410e3adbbaff49889da087d92c6b0a7e": {
      "model_module": "@jupyter-widgets/controls",
      "model_module_version": "1.5.0",
      "model_name": "HTMLModel",
      "state": {
       "layout": "IPY_MODEL_3b4072f0f90b4b3cbb8cf155384aa9af",
       "style": "IPY_MODEL_b5e319c7dc0c4cec980a6e935d8010ce",
       "value": "<b>createdTime:</b>"
      }
     },
     "4173500505b7497e94cffb77337b4c22": {
      "model_module": "@jupyter-widgets/base",
      "model_module_version": "1.2.0",
      "model_name": "LayoutModel",
      "state": {}
     },
     "41dfeb62c7d34ac4960ec7cb17520fac": {
      "model_module": "@jupyter-widgets/controls",
      "model_module_version": "1.5.0",
      "model_name": "HBoxModel",
      "state": {
       "children": [
        "IPY_MODEL_140cc0034ed14e5c8803386ee8e604c0",
        "IPY_MODEL_76c12e9549644946a4d5901b814996df"
       ],
       "layout": "IPY_MODEL_53e79372725f4b2ea2ffff2bc9446648"
      }
     },
     "41f70099991e4f9b90e9ca8f42b2daa1": {
      "model_module": "@jupyter-widgets/base",
      "model_module_version": "1.2.0",
      "model_name": "LayoutModel",
      "state": {}
     },
     "430addcb68bd41eab17066fe25831abe": {
      "model_module": "@jupyter-widgets/base",
      "model_module_version": "1.2.0",
      "model_name": "LayoutModel",
      "state": {}
     },
     "4335cc7307694ee1ada8d8a51d014add": {
      "model_module": "@jupyter-widgets/controls",
      "model_module_version": "1.5.0",
      "model_name": "LabelModel",
      "state": {
       "layout": "IPY_MODEL_8e946be6c2724d58a20cda205c908b39",
       "style": "IPY_MODEL_9859a17f9a164feeb84468110bb2b1b6",
       "value": "azmlrts-eastus3"
      }
     },
     "43637a0b7df24ec69911eb1787fc37fa": {
      "model_module": "@jupyter-widgets/controls",
      "model_module_version": "1.5.0",
      "model_name": "LabelModel",
      "state": {
       "layout": "IPY_MODEL_8275828beb9f4bd3af4a5ad6e2fd747d",
       "style": "IPY_MODEL_e872df40657e41e6bdf3e777ac6ee56b",
       "value": "resnet_model_2"
      }
     },
     "43942dcdbb584dbb830edb055b7fcce2": {
      "model_module": "@jupyter-widgets/controls",
      "model_module_version": "1.5.0",
      "model_name": "DescriptionStyleModel",
      "state": {
       "description_width": ""
      }
     },
     "43bf430304cb4ddc88b75708c7750e4c": {
      "model_module": "@jupyter-widgets/controls",
      "model_module_version": "1.5.0",
      "model_name": "DescriptionStyleModel",
      "state": {
       "description_width": ""
      }
     },
     "44e397358c4c44e8934776be29974fbf": {
      "model_module": "@jupyter-widgets/controls",
      "model_module_version": "1.5.0",
      "model_name": "HTMLModel",
      "state": {
       "layout": "IPY_MODEL_6061f924a79b4db7aacba581070f8d30",
       "style": "IPY_MODEL_18d8b2d9c6d04e87af26fbe1575dab54",
       "value": "<b>userObjectId:</b>"
      }
     },
     "44e83a28aea34b5a918a01930fd4cb1f": {
      "model_module": "@jupyter-widgets/base",
      "model_module_version": "1.2.0",
      "model_name": "LayoutModel",
      "state": {}
     },
     "45aca66b73b64a99977df4d68a5af6cc": {
      "model_module": "@jupyter-widgets/controls",
      "model_module_version": "1.5.0",
      "model_name": "HBoxModel",
      "state": {
       "children": [
        "IPY_MODEL_6e51aee684944635ae0a42976fe52391",
        "IPY_MODEL_823fcf35805448f2981db0db9c218c4d"
       ],
       "layout": "IPY_MODEL_18fb7f111c2b4d25b3197342fdd71374"
      }
     },
     "45c519de290e4895882dd0c9445952ea": {
      "model_module": "@jupyter-widgets/controls",
      "model_module_version": "1.5.0",
      "model_name": "DescriptionStyleModel",
      "state": {
       "description_width": ""
      }
     },
     "45d8859bc73c4603bc257a5d9ae7fb46": {
      "model_module": "@jupyter-widgets/controls",
      "model_module_version": "1.5.0",
      "model_name": "HBoxModel",
      "state": {
       "children": [
        "IPY_MODEL_d352f3b7b6e54596b8709b84c1f1c78e",
        "IPY_MODEL_3242fa5aded44f7db820d4e0f1fcc5df"
       ],
       "layout": "IPY_MODEL_847a3e00f4ac4880b51834a6efa7922b"
      }
     },
     "46293a73defc4e34aca8c23f85d1f51d": {
      "model_module": "@jupyter-widgets/base",
      "model_module_version": "1.2.0",
      "model_name": "LayoutModel",
      "state": {}
     },
     "465feef05f8a4bcbada72432617064b2": {
      "model_module": "@jupyter-widgets/controls",
      "model_module_version": "1.5.0",
      "model_name": "HTMLModel",
      "state": {
       "layout": "IPY_MODEL_1955dc6793c3429fadd9af96b2d51805",
       "style": "IPY_MODEL_749abc681173466d8abe6e5e0bc059b5",
       "value": "<b>imageDetails:</b>"
      }
     },
     "468d31dd8e034db69da23281a18e298d": {
      "model_module": "@jupyter-widgets/base",
      "model_module_version": "1.2.0",
      "model_name": "LayoutModel",
      "state": {}
     },
     "468dd869a65d4dc78f75f33ea9b103e6": {
      "model_module": "@jupyter-widgets/controls",
      "model_module_version": "1.5.0",
      "model_name": "LabelModel",
      "state": {
       "layout": "IPY_MODEL_cb60d2d144d34ebe96798e141be9b4fe",
       "style": "IPY_MODEL_d8087ff8f78547febff362ce874cead3",
       "value": "bcfb72d420055cec9d3cf56f0e0e3dea43602245"
      }
     },
     "46f6758a52064de58b58e6ce33ca2cf0": {
      "model_module": "@jupyter-widgets/controls",
      "model_module_version": "1.5.0",
      "model_name": "HBoxModel",
      "state": {
       "children": [
        "IPY_MODEL_10b90c1d77004abfb32f7e634dc96c5e",
        "IPY_MODEL_81afe0280b244531896fc21ed904fc02"
       ],
       "layout": "IPY_MODEL_9c56febdc2b94b1c9b9120c154aef584"
      }
     },
     "47e86b8478a74617aa633c7764e09ffc": {
      "model_module": "@jupyter-widgets/controls",
      "model_module_version": "1.5.0",
      "model_name": "DescriptionStyleModel",
      "state": {
       "description_width": ""
      }
     },
     "481e0181e5b543cdbd3fcecd364c9919": {
      "model_module": "@jupyter-widgets/base",
      "model_module_version": "1.2.0",
      "model_name": "LayoutModel",
      "state": {}
     },
     "489257cc1b0c412eb8931352ebdf5b97": {
      "model_module": "@jupyter-widgets/base",
      "model_module_version": "1.2.0",
      "model_name": "LayoutModel",
      "state": {}
     },
     "492543dac4c84048a80ac076e62b80f0": {
      "model_module": "@jupyter-widgets/base",
      "model_module_version": "1.2.0",
      "model_name": "LayoutModel",
      "state": {}
     },
     "4942738bde614c83a229a6c3a4120a2d": {
      "model_module": "@jupyter-widgets/controls",
      "model_module_version": "1.5.0",
      "model_name": "HTMLModel",
      "state": {
       "layout": "IPY_MODEL_b7800cd350954c83ad540e6812e816ee",
       "style": "IPY_MODEL_ba5ef05827cd4ff9b5ae2d8c8bc70f08",
       "value": "<b>sampleInputDatasetId:</b>"
      }
     },
     "4984fea24ac9447ea95294b486c0b980": {
      "model_module": "@jupyter-widgets/base",
      "model_module_version": "1.2.0",
      "model_name": "LayoutModel",
      "state": {}
     },
     "498e620b78864681abbb1e6c7145b308": {
      "model_module": "@jupyter-widgets/controls",
      "model_module_version": "1.5.0",
      "model_name": "DropdownModel",
      "state": {
       "_options_labels": [
        "eastus",
        "eastus2",
        "canadacentral",
        "centralus",
        "northcentralus",
        "southcentralus",
        "westcentralus",
        "westus",
        "westus2"
       ],
       "description": "aks_location",
       "index": 0,
       "layout": "IPY_MODEL_481e0181e5b543cdbd3fcecd364c9919",
       "style": "IPY_MODEL_877050d8c05a48c8a0beaa91da4b5b17"
      }
     },
     "4b59cbd656cb4fe8b708a45a451ca724": {
      "model_module": "@jupyter-widgets/base",
      "model_module_version": "1.2.0",
      "model_name": "LayoutModel",
      "state": {}
     },
     "4bf2c33fada44d94aa7244f7a2c1af9a": {
      "model_module": "@jupyter-widgets/base",
      "model_module_version": "1.2.0",
      "model_name": "LayoutModel",
      "state": {}
     },
     "4c1e181dc88d4f4580003e10f64f9067": {
      "model_module": "@jupyter-widgets/controls",
      "model_module_version": "1.5.0",
      "model_name": "DescriptionStyleModel",
      "state": {
       "description_width": ""
      }
     },
     "4c3eb9fe2c684f4b84440a11bcf47763": {
      "model_module": "@jupyter-widgets/controls",
      "model_module_version": "1.5.0",
      "model_name": "HTMLModel",
      "state": {
       "layout": "IPY_MODEL_d3764a854abd4efa968a1425bcadf6d5",
       "style": "IPY_MODEL_5cfb63467c8049afb0f92fd5f8c7dc13",
       "value": "<b>resourceConfiguration:</b>"
      }
     },
     "4c60ace19295441e98c98d75ad56442a": {
      "model_module": "@jupyter-widgets/base",
      "model_module_version": "1.2.0",
      "model_name": "LayoutModel",
      "state": {}
     },
     "4d45ceecca4342b396d19625859cbc72": {
      "model_module": "@jupyter-widgets/controls",
      "model_module_version": "1.5.0",
      "model_name": "LabelModel",
      "state": {
       "layout": "IPY_MODEL_083e202a52294231b660b8bb1e50757b",
       "style": "IPY_MODEL_dc7333a07b8f4986a07a3810e2c614f8",
       "value": "2020-03-17T15:25:38.304710+00:00"
      }
     },
     "4db7323330ea42e2b214c98e60417807": {
      "model_module": "@jupyter-widgets/controls",
      "model_module_version": "1.5.0",
      "model_name": "HBoxModel",
      "state": {
       "children": [
        "IPY_MODEL_0e22bba80227430cb02dde3554c660aa",
        "IPY_MODEL_94e8cb39b92842b99beacac2e856e244"
       ],
       "layout": "IPY_MODEL_be5404da657d4fb9be3d9aa3ed5b71b6"
      }
     },
     "4dfe3e09da2247c588941abea894fcfb": {
      "model_module": "@jupyter-widgets/controls",
      "model_module_version": "1.5.0",
      "model_name": "DescriptionStyleModel",
      "state": {
       "description_width": ""
      }
     },
     "4f8146ce81f9462fb7c4476a3c5d19aa": {
      "model_module": "@jupyter-widgets/controls",
      "model_module_version": "1.5.0",
      "model_name": "DescriptionStyleModel",
      "state": {
       "description_width": ""
      }
     },
     "4fa2c6ee093f4f3aa622386fe17058c4": {
      "model_module": "@jupyter-widgets/base",
      "model_module_version": "1.2.0",
      "model_name": "LayoutModel",
      "state": {}
     },
     "4fbd70d3b9e445b0978e03aed940a9b9": {
      "model_module": "@jupyter-widgets/base",
      "model_module_version": "1.2.0",
      "model_name": "LayoutModel",
      "state": {}
     },
     "4ff19a19621b4d50950592de131639e0": {
      "model_module": "@jupyter-widgets/controls",
      "model_module_version": "1.5.0",
      "model_name": "LabelModel",
      "state": {
       "layout": "IPY_MODEL_d44a6bd521494664a349818988bf4c1d",
       "style": "IPY_MODEL_f177c6f74ae243ea9cf5d5c79a1c78a6",
       "value": "conda-env"
      }
     },
     "50170c58225446dd9f8302d7cfa85ca8": {
      "model_module": "@jupyter-widgets/base",
      "model_module_version": "1.2.0",
      "model_name": "LayoutModel",
      "state": {}
     },
     "50ac5bc7fded49dba323381eb7b20cf3": {
      "model_module": "@jupyter-widgets/base",
      "model_module_version": "1.2.0",
      "model_name": "LayoutModel",
      "state": {}
     },
     "51119a6b5ae14ad6843b44e836eb13de": {
      "model_module": "@jupyter-widgets/controls",
      "model_module_version": "1.5.0",
      "model_name": "DescriptionStyleModel",
      "state": {
       "description_width": ""
      }
     },
     "5129cf7c4715416790ba1d62f8b2b44b": {
      "model_module": "@jupyter-widgets/base",
      "model_module_version": "1.2.0",
      "model_name": "LayoutModel",
      "state": {}
     },
     "517101911aa049219550310c192a97e6": {
      "model_module": "@jupyter-widgets/controls",
      "model_module_version": "1.5.0",
      "model_name": "DescriptionStyleModel",
      "state": {
       "description_width": ""
      }
     },
     "5223d6107b7d47c497014c1ca518b0de": {
      "model_module": "@jupyter-widgets/base",
      "model_module_version": "1.2.0",
      "model_name": "LayoutModel",
      "state": {}
     },
     "524fa7cdf4634c09b20ff7b4cf25074c": {
      "model_module": "@jupyter-widgets/controls",
      "model_module_version": "1.5.0",
      "model_name": "HBoxModel",
      "state": {
       "children": [
        "IPY_MODEL_92685e517a6d4e959b2637fc72d28985",
        "IPY_MODEL_e391f39af2c046159ca0f8d125a41b24"
       ],
       "layout": "IPY_MODEL_8755eaa2c90849458f55df4fe2fc6f95"
      }
     },
     "526a95de27dd4b41ac088374b5e64907": {
      "model_module": "@jupyter-widgets/controls",
      "model_module_version": "1.5.0",
      "model_name": "LabelModel",
      "state": {
       "layout": "IPY_MODEL_b016b37395344e23a7d35f0b5e22459d",
       "style": "IPY_MODEL_69e16184d79143b0bc20106dce5ec2d2",
       "value": "3"
      }
     },
     "5273badea43842e5bb413f457055879f": {
      "model_module": "@jupyter-widgets/controls",
      "model_module_version": "1.5.0",
      "model_name": "HBoxModel",
      "state": {
       "children": [
        "IPY_MODEL_9b6b9b624dab430e84099449d3309f3c",
        "IPY_MODEL_1a344efb544d4b008bc62e7e1b5071c7"
       ],
       "layout": "IPY_MODEL_04f1e3696c6642b49fcf862001f69345"
      }
     },
     "52fcc563e449444588267f15df5092b6": {
      "model_module": "@jupyter-widgets/base",
      "model_module_version": "1.2.0",
      "model_name": "LayoutModel",
      "state": {}
     },
     "531775e2eab748de916715e2b059c739": {
      "model_module": "@jupyter-widgets/controls",
      "model_module_version": "1.5.0",
      "model_name": "DescriptionStyleModel",
      "state": {
       "description_width": ""
      }
     },
     "53c2c11aec654875865eee8a36104531": {
      "model_module": "@jupyter-widgets/controls",
      "model_module_version": "1.5.0",
      "model_name": "DescriptionStyleModel",
      "state": {
       "description_width": ""
      }
     },
     "53e79372725f4b2ea2ffff2bc9446648": {
      "model_module": "@jupyter-widgets/base",
      "model_module_version": "1.2.0",
      "model_name": "LayoutModel",
      "state": {}
     },
     "5476ca88ff1e492790e3a36311e3b350": {
      "model_module": "@jupyter-widgets/controls",
      "model_module_version": "1.5.0",
      "model_name": "HTMLModel",
      "state": {
       "layout": "IPY_MODEL_b34f1e4d9ab4460088796d870c149d27",
       "style": "IPY_MODEL_517101911aa049219550310c192a97e6",
       "value": "<b>createdTime:</b>"
      }
     },
     "54d841108d41431ca42970b45c7886cb": {
      "model_module": "@jupyter-widgets/base",
      "model_module_version": "1.2.0",
      "model_name": "LayoutModel",
      "state": {}
     },
     "5504134741e54b2487a550566e79950a": {
      "model_module": "@jupyter-widgets/base",
      "model_module_version": "1.2.0",
      "model_name": "LayoutModel",
      "state": {}
     },
     "550d243a9d3f4bd2a47f099084db705b": {
      "model_module": "@jupyter-widgets/controls",
      "model_module_version": "1.5.0",
      "model_name": "DescriptionStyleModel",
      "state": {
       "description_width": ""
      }
     },
     "554365faca824a4384c0d9d1f45e9d8f": {
      "model_module": "@jupyter-widgets/controls",
      "model_module_version": "1.5.0",
      "model_name": "VBoxModel",
      "state": {
       "children": [
        "IPY_MODEL_fb039722e60a4b28af2794ede4cfd86b",
        "IPY_MODEL_1037a4a1be9d47659f33b608abc89be1",
        "IPY_MODEL_81cbb9bb64b643ae8febbb57fa7a52dd",
        "IPY_MODEL_a3525d44bcdc48a2b972e95611131d2e",
        "IPY_MODEL_67fea8ebb31d4845a09c990c433a7a99"
       ],
       "layout": "IPY_MODEL_c0da224b23c249959973e3b962b9938c"
      }
     },
     "55ab41a6af82427e8c65c0093f8cdc13": {
      "model_module": "@jupyter-widgets/controls",
      "model_module_version": "1.5.0",
      "model_name": "DescriptionStyleModel",
      "state": {
       "description_width": ""
      }
     },
     "567ae2a4cf134c2ca293f7699820a1fc": {
      "model_module": "@jupyter-widgets/base",
      "model_module_version": "1.2.0",
      "model_name": "LayoutModel",
      "state": {}
     },
     "56c7398520254232b7a7ce7c80f29b58": {
      "model_module": "@jupyter-widgets/controls",
      "model_module_version": "1.5.0",
      "model_name": "DescriptionStyleModel",
      "state": {
       "description_width": ""
      }
     },
     "56f46366731a475e9f67f5437761a130": {
      "model_module": "@jupyter-widgets/base",
      "model_module_version": "1.2.0",
      "model_name": "LayoutModel",
      "state": {}
     },
     "5736612827b843d5bb22c03d06f76831": {
      "model_module": "@jupyter-widgets/base",
      "model_module_version": "1.2.0",
      "model_name": "LayoutModel",
      "state": {}
     },
     "574a0d0b68cf49a2b9130dc2b8e3e56c": {
      "model_module": "@jupyter-widgets/base",
      "model_module_version": "1.2.0",
      "model_name": "LayoutModel",
      "state": {}
     },
     "576c78f8af31433ab0778bd4145fe0ae": {
      "model_module": "@jupyter-widgets/base",
      "model_module_version": "1.2.0",
      "model_name": "LayoutModel",
      "state": {}
     },
     "57ead394acc14b01a7c00ccfac8ed5b9": {
      "model_module": "@jupyter-widgets/controls",
      "model_module_version": "1.5.0",
      "model_name": "LabelModel",
      "state": {
       "layout": "IPY_MODEL_e724da5cebdc4aec8e702189620e2666",
       "style": "IPY_MODEL_8f57f74cd19e466c99fe169e6f7377ae",
       "value": "5"
      }
     },
     "58386ca421a94526b4731489e53670bd": {
      "model_module": "@jupyter-widgets/controls",
      "model_module_version": "1.5.0",
      "model_name": "HBoxModel",
      "state": {
       "children": [
        "IPY_MODEL_be84ee39eb674db7bdd5adcb0c79dafd",
        "IPY_MODEL_98a4ddb3e8a34ea99e92a13f070a9f85"
       ],
       "layout": "IPY_MODEL_a57f45871b084027bba89e53805a2058"
      }
     },
     "58bbb1b05ae04b2395c621802832ee21": {
      "model_module": "@jupyter-widgets/controls",
      "model_module_version": "1.5.0",
      "model_name": "HTMLModel",
      "state": {
       "layout": "IPY_MODEL_2eae36d8b701486dbdf1c3bc7b7291fc",
       "style": "IPY_MODEL_7916575be00b4a8e8995565bce249dd7",
       "value": "<b>name:</b>"
      }
     },
     "58d084488dcc42208d8dae148bc02820": {
      "model_module": "@jupyter-widgets/controls",
      "model_module_version": "1.5.0",
      "model_name": "HTMLModel",
      "state": {
       "layout": "IPY_MODEL_70de3bd0bb3743dea3e72886206680df",
       "style": "IPY_MODEL_0a64bbf4e878438996226943aedc18c5",
       "value": "<b>appInsightsEnabled:</b>"
      }
     },
     "599c7caed43048a3b9acd5ad4fccd65a": {
      "model_module": "@jupyter-widgets/controls",
      "model_module_version": "1.5.0",
      "model_name": "HTMLModel",
      "state": {
       "layout": "IPY_MODEL_8cd2e4ab970b456eb586358e20c88760",
       "style": "IPY_MODEL_96b95bf4fe8f4a3a935e04088c1add76",
       "value": "<b>framework:</b>"
      }
     },
     "5a4b2ae84d0946b0b18ec41b40b6e522": {
      "model_module": "@jupyter-widgets/controls",
      "model_module_version": "1.5.0",
      "model_name": "LabelModel",
      "state": {
       "layout": "IPY_MODEL_f4a3e57b869d4f0ea72889471db4b251",
       "style": "IPY_MODEL_e8dd1d3797fb49d4aae6522f9db2f214",
       "value": "{'mavenLibraries': [], 'pypiLibraries': [], 'rcranLibraries': [], 'jarLibraries': [], 'eggLibraries': []}"
      }
     },
     "5a51a1f2b2d54cb6ac257a139a1caec4": {
      "model_module": "@jupyter-widgets/controls",
      "model_module_version": "1.5.0",
      "model_name": "DescriptionStyleModel",
      "state": {
       "description_width": ""
      }
     },
     "5ae72e2e38d34569a713ef1353ddb7e5": {
      "model_module": "@jupyter-widgets/base",
      "model_module_version": "1.2.0",
      "model_name": "LayoutModel",
      "state": {}
     },
     "5b20a609756143f08fbe9a0e6fe7d490": {
      "model_module": "@jupyter-widgets/controls",
      "model_module_version": "1.5.0",
      "model_name": "DescriptionStyleModel",
      "state": {
       "description_width": ""
      }
     },
     "5b5540ad8fec42f9a25e5ce21f4d56d9": {
      "model_module": "@jupyter-widgets/controls",
      "model_module_version": "1.5.0",
      "model_name": "HBoxModel",
      "state": {
       "children": [
        "IPY_MODEL_a3e0ccb7188a4a4bb1768932e7fc7a33",
        "IPY_MODEL_c79431facd6942eb9831bf23a55acb61"
       ],
       "layout": "IPY_MODEL_c3de18d301204f0fab6ffec9ac806e8a"
      }
     },
     "5b7f2c4181364303a0624bfdf16b7815": {
      "model_module": "@jupyter-widgets/base",
      "model_module_version": "1.2.0",
      "model_name": "LayoutModel",
      "state": {}
     },
     "5bcba9b4da3b43cfa52ca1f7b7a47db0": {
      "model_module": "@jupyter-widgets/controls",
      "model_module_version": "1.5.0",
      "model_name": "HTMLModel",
      "state": {
       "layout": "IPY_MODEL_61a21dfbfea5404e9a0178440b3f78ba",
       "style": "IPY_MODEL_e09d3f9e53d54212b4515d4dcf30ce63",
       "value": "<b>aadAuthEnabled:</b>"
      }
     },
     "5be30548337b476d815a7e712d9805b9": {
      "model_module": "@jupyter-widgets/controls",
      "model_module_version": "1.5.0",
      "model_name": "DescriptionStyleModel",
      "state": {
       "description_width": ""
      }
     },
     "5be38f39ba12477ea57e059b5ba56cde": {
      "model_module": "@jupyter-widgets/base",
      "model_module_version": "1.2.0",
      "model_name": "LayoutModel",
      "state": {}
     },
     "5c644b6fc26e41bfbdb915968ae95717": {
      "model_module": "@jupyter-widgets/base",
      "model_module_version": "1.2.0",
      "model_name": "LayoutModel",
      "state": {}
     },
     "5c67111350c642fd92996014b917dda0": {
      "model_module": "@jupyter-widgets/controls",
      "model_module_version": "1.5.0",
      "model_name": "DescriptionStyleModel",
      "state": {
       "description_width": ""
      }
     },
     "5cfb63467c8049afb0f92fd5f8c7dc13": {
      "model_module": "@jupyter-widgets/controls",
      "model_module_version": "1.5.0",
      "model_name": "DescriptionStyleModel",
      "state": {
       "description_width": ""
      }
     },
     "5d67b25f9efd4fd8bbffdbbbce26590f": {
      "model_module": "@jupyter-widgets/controls",
      "model_module_version": "1.5.0",
      "model_name": "HTMLModel",
      "state": {
       "layout": "IPY_MODEL_2e61fbd5609241cab4254ae721092165",
       "style": "IPY_MODEL_af85e2baa74d48258f2a6970893a261b",
       "value": "<b>updatedTime:</b>"
      }
     },
     "5da10130569b4e81bc2bc432053ab4d5": {
      "model_module": "@jupyter-widgets/controls",
      "model_module_version": "1.5.0",
      "model_name": "LabelModel",
      "state": {
       "layout": "IPY_MODEL_4984fea24ac9447ea95294b486c0b980",
       "style": "IPY_MODEL_d23ecdf9d93141f8a4b216acf8f84f90",
       "value": "deepaksservice3"
      }
     },
     "5dc4ff279b164135955cb0c612815366": {
      "model_module": "@jupyter-widgets/controls",
      "model_module_version": "1.5.0",
      "model_name": "HBoxModel",
      "state": {
       "children": [
        "IPY_MODEL_82c7061685894b6e8892a5c9f66ea9cb",
        "IPY_MODEL_d60bd19cff374b5da1595af2517fcec7"
       ],
       "layout": "IPY_MODEL_74a15c0b76d540dc9dc750acee14624b"
      }
     },
     "5dcf812c661946a08d68de1192f14b3b": {
      "model_module": "@jupyter-widgets/controls",
      "model_module_version": "1.5.0",
      "model_name": "VBoxModel",
      "state": {
       "children": [
        "IPY_MODEL_a68c7f9d4a1643afae5ca9a25bc57716",
        "IPY_MODEL_2614901d6bf44aea8a366fa091e4bea9",
        "IPY_MODEL_a82822738fed4b6485d958d058140a6b",
        "IPY_MODEL_71b7c7d5b0194213aa66bdadd76a9a74",
        "IPY_MODEL_a6db33f6bae8463bb8f56eea8d56bed6",
        "IPY_MODEL_91c63b78d31943568455579c0ccd53fa",
        "IPY_MODEL_f57b445d0cb648a1a17a2083720d45de",
        "IPY_MODEL_a2d3a9ac3cbc491c86fa8120d4afa606",
        "IPY_MODEL_498e620b78864681abbb1e6c7145b308",
        "IPY_MODEL_c395b572046141ef92c7f8604fa1c71d",
        "IPY_MODEL_aded7b9f7124423ea2cbdbbd8203b207",
        "IPY_MODEL_ef4bfeec23184e019752bf9903967d83",
        "IPY_MODEL_b2f3a44ee78047b093054d56fd872f01",
        "IPY_MODEL_9957519929bf49f1bf3e76583264da51"
       ],
       "layout": "IPY_MODEL_b3987aa4ef304160a89f9936f2281153"
      }
     },
     "5dd6abbde31c4fe3af961afce873fa67": {
      "model_module": "@jupyter-widgets/controls",
      "model_module_version": "1.5.0",
      "model_name": "DescriptionStyleModel",
      "state": {
       "description_width": ""
      }
     },
     "5de198920b7746869b8244d759681a0d": {
      "model_module": "@jupyter-widgets/controls",
      "model_module_version": "1.5.0",
      "model_name": "HTMLModel",
      "state": {
       "layout": "IPY_MODEL_c7038a0fd072423b8592178302ad9369",
       "style": "IPY_MODEL_1a2f107c8bbd4078bb62233a4f98eef4",
       "value": "<b>computeType:</b>"
      }
     },
     "5e02361dd0394910b958fd51db103a16": {
      "model_module": "@jupyter-widgets/controls",
      "model_module_version": "1.5.0",
      "model_name": "DescriptionStyleModel",
      "state": {
       "description_width": ""
      }
     },
     "5e84a23f48ba47158f9c6e9bf0738515": {
      "model_module": "@jupyter-widgets/base",
      "model_module_version": "1.2.0",
      "model_name": "LayoutModel",
      "state": {}
     },
     "5ec2e873d9d74915bf3d9367a4639e4c": {
      "model_module": "@jupyter-widgets/base",
      "model_module_version": "1.2.0",
      "model_name": "LayoutModel",
      "state": {}
     },
     "5f1c3a581cc841c18568e710f89456da": {
      "model_module": "@jupyter-widgets/base",
      "model_module_version": "1.2.0",
      "model_name": "LayoutModel",
      "state": {}
     },
     "5f3f46e3b28e40189105f3804a8f9a0e": {
      "model_module": "@jupyter-widgets/base",
      "model_module_version": "1.2.0",
      "model_name": "LayoutModel",
      "state": {}
     },
     "5f79767d1e93427084fbd1963019d220": {
      "model_module": "@jupyter-widgets/controls",
      "model_module_version": "1.5.0",
      "model_name": "DescriptionStyleModel",
      "state": {
       "description_width": ""
      }
     },
     "5f85476f523346a8a5b867e71ccb58b8": {
      "model_module": "@jupyter-widgets/controls",
      "model_module_version": "1.5.0",
      "model_name": "LabelModel",
      "state": {
       "layout": "IPY_MODEL_8d468f5de9d645f58470a4ee1b967c29",
       "style": "IPY_MODEL_241a2c5d4c77478a9509e334a2a32f12",
       "value": "None"
      }
     },
     "5fa330a8a03649c29378f0f166f683df": {
      "model_module": "@jupyter-widgets/controls",
      "model_module_version": "1.5.0",
      "model_name": "LabelModel",
      "state": {
       "layout": "IPY_MODEL_740101f039094828bc2f2c0fd15f386c",
       "style": "IPY_MODEL_9f173b65052647ef9cb6f510d7e4c924",
       "value": "Control"
      }
     },
     "5fcd974e96e94d6ba25e298bba90c298": {
      "model_module": "@jupyter-widgets/base",
      "model_module_version": "1.2.0",
      "model_name": "LayoutModel",
      "state": {}
     },
     "5fd7336440b141abb90809fd65612986": {
      "model_module": "@jupyter-widgets/controls",
      "model_module_version": "1.5.0",
      "model_name": "DescriptionStyleModel",
      "state": {
       "description_width": ""
      }
     },
     "600b595252cb4240a19a946b06aec4d4": {
      "model_module": "@jupyter-widgets/base",
      "model_module_version": "1.2.0",
      "model_name": "LayoutModel",
      "state": {}
     },
     "6045cc87992f41689f479a3960e2356c": {
      "model_module": "@jupyter-widgets/controls",
      "model_module_version": "1.5.0",
      "model_name": "DescriptionStyleModel",
      "state": {
       "description_width": ""
      }
     },
     "6061f924a79b4db7aacba581070f8d30": {
      "model_module": "@jupyter-widgets/base",
      "model_module_version": "1.2.0",
      "model_name": "LayoutModel",
      "state": {}
     },
     "61a21dfbfea5404e9a0178440b3f78ba": {
      "model_module": "@jupyter-widgets/base",
      "model_module_version": "1.2.0",
      "model_name": "LayoutModel",
      "state": {}
     },
     "62148e6a3ec9484d9df08062f7495aa5": {
      "model_module": "@jupyter-widgets/controls",
      "model_module_version": "1.5.0",
      "model_name": "LabelModel",
      "state": {
       "layout": "IPY_MODEL_c7aa019f784448fea39d5a98a96da845",
       "style": "IPY_MODEL_9504085df36c4daf9b01e28044642a5b",
       "value": "None"
      }
     },
     "624a744960cd4c5ba5b2b1291d13bfd2": {
      "model_module": "@jupyter-widgets/controls",
      "model_module_version": "1.5.0",
      "model_name": "HBoxModel",
      "state": {
       "children": [
        "IPY_MODEL_7dce8b51cd39471a88b5a32c218f0f34",
        "IPY_MODEL_62148e6a3ec9484d9df08062f7495aa5"
       ],
       "layout": "IPY_MODEL_cf289dd680c749fb9d2a5f290520c440"
      }
     },
     "6262410fc3dc45a88dd36a3f2adb134b": {
      "model_module": "@jupyter-widgets/base",
      "model_module_version": "1.2.0",
      "model_name": "LayoutModel",
      "state": {}
     },
     "626c01fd71634e2abf8057911e9579ea": {
      "model_module": "@jupyter-widgets/controls",
      "model_module_version": "1.5.0",
      "model_name": "DescriptionStyleModel",
      "state": {
       "description_width": ""
      }
     },
     "62850470860944e4a403fb7a0c181078": {
      "model_module": "@jupyter-widgets/controls",
      "model_module_version": "1.5.0",
      "model_name": "DescriptionStyleModel",
      "state": {
       "description_width": ""
      }
     },
     "62b4e14643ea4fecad15d9d5e39a73dd": {
      "model_module": "@jupyter-widgets/base",
      "model_module_version": "1.2.0",
      "model_name": "LayoutModel",
      "state": {}
     },
     "62ddd2ed396a428ba590d74fa193ca14": {
      "model_module": "@jupyter-widgets/controls",
      "model_module_version": "1.5.0",
      "model_name": "HBoxModel",
      "state": {
       "children": [
        "IPY_MODEL_99e35cf1848842e09c76a7d05793b51e",
        "IPY_MODEL_3738d3f5157446969058ac6b10d5ef38"
       ],
       "layout": "IPY_MODEL_321e46e163ea4b0cb9e63eeba80dec57"
      }
     },
     "62f508bd0d6543e0b0223ff5c19f6bc5": {
      "model_module": "@jupyter-widgets/controls",
      "model_module_version": "1.5.0",
      "model_name": "HTMLModel",
      "state": {
       "layout": "IPY_MODEL_b01c31a4bc7c42649744f34ff27eec12",
       "style": "IPY_MODEL_24ce193852ad48058c0ebece75db66a4",
       "value": "<b>userIss:</b>"
      }
     },
     "62f6609207ff4fea8ac9b3ce270fabe3": {
      "model_module": "@jupyter-widgets/base",
      "model_module_version": "1.2.0",
      "model_name": "LayoutModel",
      "state": {}
     },
     "63ba6e8ff9324ac3a8ae59fbf1fddc37": {
      "model_module": "@jupyter-widgets/base",
      "model_module_version": "1.2.0",
      "model_name": "LayoutModel",
      "state": {}
     },
     "64e51bac99e4467896bb5b3b5b33c819": {
      "model_module": "@jupyter-widgets/controls",
      "model_module_version": "1.5.0",
      "model_name": "DescriptionStyleModel",
      "state": {
       "description_width": ""
      }
     },
     "64ec111c698540af8bf353396c0b92b1": {
      "model_module": "@jupyter-widgets/base",
      "model_module_version": "1.2.0",
      "model_name": "LayoutModel",
      "state": {}
     },
     "64f35608f9984202b09d987a552f47a0": {
      "model_module": "@jupyter-widgets/base",
      "model_module_version": "1.2.0",
      "model_name": "LayoutModel",
      "state": {}
     },
     "66e7a3f75f214c989042878c7d30ebd4": {
      "model_module": "@jupyter-widgets/base",
      "model_module_version": "1.2.0",
      "model_name": "LayoutModel",
      "state": {}
     },
     "67400de19a09435386c031aa8cb473e0": {
      "model_module": "@jupyter-widgets/controls",
      "model_module_version": "1.5.0",
      "model_name": "LabelModel",
      "state": {
       "layout": "IPY_MODEL_b0a7f5d5e2cd4af4b84a000975c7e78d",
       "style": "IPY_MODEL_531775e2eab748de916715e2b059c739",
       "value": "AKS"
      }
     },
     "67ad8e9eb7c84fdc83f04148d027349d": {
      "model_module": "@jupyter-widgets/controls",
      "model_module_version": "1.5.0",
      "model_name": "HBoxModel",
      "state": {
       "children": [
        "IPY_MODEL_3af31348678d4f6daa49ec8ca48792d3",
        "IPY_MODEL_a3984c3c947c452281a494bff11ffebe"
       ],
       "layout": "IPY_MODEL_bb9a404045d04abcb64775819c1f39ac"
      }
     },
     "67b8668e4e9542478094bcd34c0ab012": {
      "model_module": "@jupyter-widgets/base",
      "model_module_version": "1.2.0",
      "model_name": "LayoutModel",
      "state": {}
     },
     "67bd864234124abe961fabf521a1249a": {
      "model_module": "@jupyter-widgets/controls",
      "model_module_version": "1.5.0",
      "model_name": "LabelModel",
      "state": {
       "layout": "IPY_MODEL_14c383632e58433aa3abfed40dc3f6b3",
       "style": "IPY_MODEL_114cb5a4313c4adab7fb58ae7bebad26",
       "value": "False"
      }
     },
     "67ec1b430978403599fb6e82b2e1d409": {
      "model_module": "@jupyter-widgets/controls",
      "model_module_version": "1.5.0",
      "model_name": "DescriptionStyleModel",
      "state": {
       "description_width": ""
      }
     },
     "67fea8ebb31d4845a09c990c433a7a99": {
      "model_module": "@jupyter-widgets/controls",
      "model_module_version": "1.5.0",
      "model_name": "HBoxModel",
      "state": {
       "children": [
        "IPY_MODEL_6f7df63314ab436b9ecbcc4b318e4143",
        "IPY_MODEL_526a95de27dd4b41ac088374b5e64907"
       ],
       "layout": "IPY_MODEL_468d31dd8e034db69da23281a18e298d"
      }
     },
     "683a9234a8234b8d9fea077adb829167": {
      "model_module": "@jupyter-widgets/controls",
      "model_module_version": "1.5.0",
      "model_name": "HBoxModel",
      "state": {
       "children": [
        "IPY_MODEL_d5cb5e233a3c4b3183baa7f62a7ccecf",
        "IPY_MODEL_bee7e5159dc84699acbf9e397678a569"
       ],
       "layout": "IPY_MODEL_2e99a648def2416b855d3e85cf559883"
      }
     },
     "684376232e39411f93367ff0abb0394f": {
      "model_module": "@jupyter-widgets/base",
      "model_module_version": "1.2.0",
      "model_name": "LayoutModel",
      "state": {}
     },
     "68631f69ad794da8babba1e343b7c0b3": {
      "model_module": "@jupyter-widgets/controls",
      "model_module_version": "1.5.0",
      "model_name": "VBoxModel",
      "state": {
       "children": [
        "IPY_MODEL_eeea37ce5b6e4cacbdcdb38cde31bd0a"
       ],
       "layout": "IPY_MODEL_9aba26ed687942beb18b676e47e3c971"
      }
     },
     "68906afb09b5475a84b84dde03036b3c": {
      "model_module": "@jupyter-widgets/controls",
      "model_module_version": "1.5.0",
      "model_name": "LabelModel",
      "state": {
       "layout": "IPY_MODEL_9009fa4af290457f9767ce41f9084d5a",
       "style": "IPY_MODEL_c3307d39b6ea4e78b1f42f67da05158f",
       "value": "2020-03-17T15:25:49.821062+00:00"
      }
     },
     "68978cc90005405282c8ba3c12d5b0da": {
      "model_module": "@jupyter-widgets/controls",
      "model_module_version": "1.5.0",
      "model_name": "LabelModel",
      "state": {
       "layout": "IPY_MODEL_710f7767b1dd4f69b67587a2b2f7aeb7",
       "style": "IPY_MODEL_abd23b7adc55415997dc6482172f5eca",
       "value": "False"
      }
     },
     "69c612fde64e48f2903369aa3d3e1a1d": {
      "model_module": "@jupyter-widgets/base",
      "model_module_version": "1.2.0",
      "model_name": "LayoutModel",
      "state": {}
     },
     "69d532c7b7524c97973702beff1d99ba": {
      "model_module": "@jupyter-widgets/controls",
      "model_module_version": "1.5.0",
      "model_name": "LabelModel",
      "state": {
       "layout": "IPY_MODEL_fc6b48d8bd4b4126ba273ff4bfc00f89",
       "style": "IPY_MODEL_81f7502fe3ea482a945a8a9b460b9c4a",
       "value": "1"
      }
     },
     "69e16184d79143b0bc20106dce5ec2d2": {
      "model_module": "@jupyter-widgets/controls",
      "model_module_version": "1.5.0",
      "model_name": "DescriptionStyleModel",
      "state": {
       "description_width": ""
      }
     },
     "6ad29e7bf3ac4762ada356c28064ec99": {
      "model_module": "@jupyter-widgets/controls",
      "model_module_version": "1.5.0",
      "model_name": "HBoxModel",
      "state": {
       "children": [
        "IPY_MODEL_edd0383624e749c09d8e0fa6f1a3ad1f",
        "IPY_MODEL_c97920d63ae04724b27c7a162128b3af"
       ],
       "layout": "IPY_MODEL_32090213652e4c52b2bded3be97597f4"
      }
     },
     "6add18bafb2f416d9eee0c4cc007acb8": {
      "model_module": "@jupyter-widgets/controls",
      "model_module_version": "1.5.0",
      "model_name": "LabelModel",
      "state": {
       "layout": "IPY_MODEL_2885c02fdb114ff6941311876668cf7b",
       "style": "IPY_MODEL_1eaa4fe4c6ef4cf0b30839a79a612c7c",
       "value": "http://23.96.60.25:80/api/v1/service/deepaksservice3/score"
      }
     },
     "6b080779a70e401190aecbe30141fcb7": {
      "model_module": "@jupyter-widgets/base",
      "model_module_version": "1.2.0",
      "model_name": "LayoutModel",
      "state": {}
     },
     "6b6f8f2bf7f942e3a5d33e58279d1330": {
      "model_module": "@jupyter-widgets/controls",
      "model_module_version": "1.5.0",
      "model_name": "LabelModel",
      "state": {
       "layout": "IPY_MODEL_dfed64943468427d9ffe8d467e2d548c",
       "style": "IPY_MODEL_039f21589a004bb69af58cd6c8b9b18e",
       "value": "310"
      }
     },
     "6bd06bc6c4154306b9384d9b50d52a8f": {
      "model_module": "@jupyter-widgets/base",
      "model_module_version": "1.2.0",
      "model_name": "LayoutModel",
      "state": {}
     },
     "6c2223db519544e590bd7df77da0a0b6": {
      "model_module": "@jupyter-widgets/controls",
      "model_module_version": "1.5.0",
      "model_name": "LabelModel",
      "state": {
       "layout": "IPY_MODEL_0efc4ca178ca481caaba3fd51a98e618",
       "style": "IPY_MODEL_5b20a609756143f08fbe9a0e6fe7d490",
       "value": "None"
      }
     },
     "6c69a4cf80a3438390c456f0dfaf6a22": {
      "model_module": "@jupyter-widgets/controls",
      "model_module_version": "1.5.0",
      "model_name": "DescriptionStyleModel",
      "state": {
       "description_width": ""
      }
     },
     "6cb9a3382a1b46f3a1ee65cb05f4cc38": {
      "model_module": "@jupyter-widgets/base",
      "model_module_version": "1.2.0",
      "model_name": "LayoutModel",
      "state": {}
     },
     "6d42e3eb3ee942cd8d7e59482f1b9825": {
      "model_module": "@jupyter-widgets/controls",
      "model_module_version": "1.5.0",
      "model_name": "LabelModel",
      "state": {
       "layout": "IPY_MODEL_1bb213e57cdc42a0a34e62d415470b4f",
       "style": "IPY_MODEL_c47d56b3017e4b5895965deb79615866",
       "value": "e6cc2e17-5968-49e6-bb8f-9fb978a0d450"
      }
     },
     "6d9d8285dfd34b7692e5595ad56dcff2": {
      "model_module": "@jupyter-widgets/controls",
      "model_module_version": "1.5.0",
      "model_name": "VBoxModel",
      "state": {
       "children": [
        "IPY_MODEL_9f7b613e61414cdc8a6eea579957ef4f",
        "IPY_MODEL_27918b01cf9e4ffc83aed3e585bbe7d7",
        "IPY_MODEL_f7c1ed15e93f4744a0d6a5210ff7ab33",
        "IPY_MODEL_45aca66b73b64a99977df4d68a5af6cc",
        "IPY_MODEL_a78c5f7e93bf44e7a258e775bdd3d472",
        "IPY_MODEL_39901645428b46b0bdeb59e9faf988fa",
        "IPY_MODEL_5dc4ff279b164135955cb0c612815366"
       ],
       "layout": "IPY_MODEL_50ac5bc7fded49dba323381eb7b20cf3"
      }
     },
     "6db3d13b88e846f7883e651118930421": {
      "model_module": "@jupyter-widgets/base",
      "model_module_version": "1.2.0",
      "model_name": "LayoutModel",
      "state": {}
     },
     "6e1a3bdeb7a142a1bdb8f65e935b8bf2": {
      "model_module": "@jupyter-widgets/base",
      "model_module_version": "1.2.0",
      "model_name": "LayoutModel",
      "state": {}
     },
     "6e31120c26d4489aaec950f901e25d23": {
      "model_module": "@jupyter-widgets/base",
      "model_module_version": "1.2.0",
      "model_name": "LayoutModel",
      "state": {}
     },
     "6e51aee684944635ae0a42976fe52391": {
      "model_module": "@jupyter-widgets/controls",
      "model_module_version": "1.5.0",
      "model_name": "HTMLModel",
      "state": {
       "layout": "IPY_MODEL_fdeb3520473e4ad19b312c4f93800d1b",
       "style": "IPY_MODEL_5dd6abbde31c4fe3af961afce873fa67",
       "value": "<b>mlflow.source.git.branch:</b>"
      }
     },
     "6f7df63314ab436b9ecbcc4b318e4143": {
      "model_module": "@jupyter-widgets/controls",
      "model_module_version": "1.5.0",
      "model_name": "HTMLModel",
      "state": {
       "layout": "IPY_MODEL_e531d5b11e5f44ddafc2998ad48ff77f",
       "style": "IPY_MODEL_28e9c9fb17444564a37e2016b026efd3",
       "value": "<b>failureThreshold:</b>"
      }
     },
     "6fc075014f5d464ca20a8f278b8eec2e": {
      "model_module": "@jupyter-widgets/controls",
      "model_module_version": "1.5.0",
      "model_name": "DescriptionStyleModel",
      "state": {
       "description_width": ""
      }
     },
     "7039890767c846b3845ff1ec801210c1": {
      "model_module": "@jupyter-widgets/base",
      "model_module_version": "1.2.0",
      "model_name": "LayoutModel",
      "state": {}
     },
     "70b87eec36914944bcc4de7510f0d71d": {
      "model_module": "@jupyter-widgets/controls",
      "model_module_version": "1.5.0",
      "model_name": "DescriptionStyleModel",
      "state": {
       "description_width": ""
      }
     },
     "70de3bd0bb3743dea3e72886206680df": {
      "model_module": "@jupyter-widgets/base",
      "model_module_version": "1.2.0",
      "model_name": "LayoutModel",
      "state": {}
     },
     "70e08a3acf7943eaae2dac838ff8e6d4": {
      "model_module": "@jupyter-widgets/controls",
      "model_module_version": "1.5.0",
      "model_name": "HBoxModel",
      "state": {
       "children": [
        "IPY_MODEL_e3b64adb101944ae80383be35c49d36a",
        "IPY_MODEL_b2b24cd8c5ee485f94f8b3af4ef74f99"
       ],
       "layout": "IPY_MODEL_4c60ace19295441e98c98d75ad56442a"
      }
     },
     "710f7767b1dd4f69b67587a2b2f7aeb7": {
      "model_module": "@jupyter-widgets/base",
      "model_module_version": "1.2.0",
      "model_name": "LayoutModel",
      "state": {}
     },
     "712e9ffff63841f19754b97fb3358831": {
      "model_module": "@jupyter-widgets/base",
      "model_module_version": "1.2.0",
      "model_name": "LayoutModel",
      "state": {}
     },
     "714b4a5bd04049a98adbbd03b248e6e4": {
      "model_module": "@jupyter-widgets/controls",
      "model_module_version": "1.5.0",
      "model_name": "LabelModel",
      "state": {
       "layout": "IPY_MODEL_63ba6e8ff9324ac3a8ae59fbf1fddc37",
       "style": "IPY_MODEL_4f8146ce81f9462fb7c4476a3c5d19aa",
       "value": "None"
      }
     },
     "717d003cd91f471e9bfe8bd1f95d78e9": {
      "model_module": "@jupyter-widgets/base",
      "model_module_version": "1.2.0",
      "model_name": "LayoutModel",
      "state": {}
     },
     "71b7c7d5b0194213aa66bdadd76a9a74": {
      "model_module": "@jupyter-widgets/controls",
      "model_module_version": "1.5.0",
      "model_name": "TextModel",
      "state": {
       "description": "resource_group",
       "layout": "IPY_MODEL_8094b1f3eefe4714afb7e1b96753176d",
       "placeholder": "Azure Resource Group Name",
       "style": "IPY_MODEL_faa1842f0c3b412898057019c33d00e3",
       "value": "azmlrts-eastus-stable3"
      }
     },
     "71d06a01c3804096b1633226aac4a596": {
      "model_module": "@jupyter-widgets/controls",
      "model_module_version": "1.5.0",
      "model_name": "HBoxModel",
      "state": {
       "children": [
        "IPY_MODEL_c6ee067af25c47b6865cd072aa97eda5",
        "IPY_MODEL_377004fd61d74c6b98775c6e4dbfc66a"
       ],
       "layout": "IPY_MODEL_9e9745e9feb9405e8e7fe6864b20f8ea"
      }
     },
     "734d5d2d7d2a4534bd819d4e97674814": {
      "model_module": "@jupyter-widgets/controls",
      "model_module_version": "1.5.0",
      "model_name": "HBoxModel",
      "state": {
       "children": [
        "IPY_MODEL_9874f65118b14bd8a84bf7ea9089565c",
        "IPY_MODEL_2824ab62e043442fb9e1492e99425dea"
       ],
       "layout": "IPY_MODEL_e0e95b19ecbb4662a2c1b24534d1d104"
      }
     },
     "7351cde1dd4c4430a66df8a785dcfc72": {
      "model_module": "@jupyter-widgets/base",
      "model_module_version": "1.2.0",
      "model_name": "LayoutModel",
      "state": {}
     },
     "73be4ec063d44511a284c6e488b25833": {
      "model_module": "@jupyter-widgets/controls",
      "model_module_version": "1.5.0",
      "model_name": "DescriptionStyleModel",
      "state": {
       "description_width": ""
      }
     },
     "73e663de801d43658ed0a5774c6025bc": {
      "model_module": "@jupyter-widgets/base",
      "model_module_version": "1.2.0",
      "model_name": "LayoutModel",
      "state": {}
     },
     "73fa245ecff4431ab6f0515d7b569aeb": {
      "model_module": "@jupyter-widgets/controls",
      "model_module_version": "1.5.0",
      "model_name": "DescriptionStyleModel",
      "state": {
       "description_width": ""
      }
     },
     "740101f039094828bc2f2c0fd15f386c": {
      "model_module": "@jupyter-widgets/base",
      "model_module_version": "1.2.0",
      "model_name": "LayoutModel",
      "state": {}
     },
     "74881f98e5674d1589ab28bcae318551": {
      "model_module": "@jupyter-widgets/controls",
      "model_module_version": "1.5.0",
      "model_name": "DescriptionStyleModel",
      "state": {
       "description_width": ""
      }
     },
     "749abc681173466d8abe6e5e0bc059b5": {
      "model_module": "@jupyter-widgets/controls",
      "model_module_version": "1.5.0",
      "model_name": "DescriptionStyleModel",
      "state": {
       "description_width": ""
      }
     },
     "74a15c0b76d540dc9dc750acee14624b": {
      "model_module": "@jupyter-widgets/base",
      "model_module_version": "1.2.0",
      "model_name": "LayoutModel",
      "state": {}
     },
     "74a3745388d5447f959a17a84462e351": {
      "model_module": "@jupyter-widgets/controls",
      "model_module_version": "1.5.0",
      "model_name": "DescriptionStyleModel",
      "state": {
       "description_width": ""
      }
     },
     "75111dafc0f542938a057e62b5015f5b": {
      "model_module": "@jupyter-widgets/controls",
      "model_module_version": "1.5.0",
      "model_name": "HTMLModel",
      "state": {
       "layout": "IPY_MODEL_a863e0f4f2d145f09ee588bfdc6216f4",
       "style": "IPY_MODEL_e0ef73e1a67b4321b6c3133ed4b7560b",
       "value": "<b>cpu:</b>"
      }
     },
     "7567996d8ea24471b04a0e2987110971": {
      "model_module": "@jupyter-widgets/controls",
      "model_module_version": "1.5.0",
      "model_name": "HTMLModel",
      "state": {
       "layout": "IPY_MODEL_1426ad66382146bf80748a7f7df52828",
       "style": "IPY_MODEL_f7f64ed794b44eac89f287f0aa392cea",
       "value": "<b>name:</b>"
      }
     },
     "7570c3cc0cf84262a428b20fbda7bf59": {
      "model_module": "@jupyter-widgets/controls",
      "model_module_version": "1.5.0",
      "model_name": "DescriptionStyleModel",
      "state": {
       "description_width": ""
      }
     },
     "75b1a8a885a641da84c8af785d996134": {
      "model_module": "@jupyter-widgets/base",
      "model_module_version": "1.2.0",
      "model_name": "LayoutModel",
      "state": {}
     },
     "76af4906491a41d880fe140d0d1243ff": {
      "model_module": "@jupyter-widgets/controls",
      "model_module_version": "1.5.0",
      "model_name": "DescriptionStyleModel",
      "state": {
       "description_width": ""
      }
     },
     "76c12e9549644946a4d5901b814996df": {
      "model_module": "@jupyter-widgets/controls",
      "model_module_version": "1.5.0",
      "model_name": "LabelModel",
      "state": {
       "layout": "IPY_MODEL_078a25ab6cc443e183b0f81a42ed0fef",
       "style": "IPY_MODEL_334f675147714b44b2c0b58e071ff342",
       "value": "None"
      }
     },
     "78847ad5e4f64207b7ea14a0ce0cf480": {
      "model_module": "@jupyter-widgets/base",
      "model_module_version": "1.2.0",
      "model_name": "LayoutModel",
      "state": {}
     },
     "7916575be00b4a8e8995565bce249dd7": {
      "model_module": "@jupyter-widgets/controls",
      "model_module_version": "1.5.0",
      "model_name": "DescriptionStyleModel",
      "state": {
       "description_width": ""
      }
     },
     "799f0f1587904fabb5d7dd456a52ed74": {
      "model_module": "@jupyter-widgets/controls",
      "model_module_version": "1.5.0",
      "model_name": "DescriptionStyleModel",
      "state": {
       "description_width": ""
      }
     },
     "79aeb400041f48dbb9e73c1e5397cec6": {
      "model_module": "@jupyter-widgets/controls",
      "model_module_version": "1.5.0",
      "model_name": "HTMLModel",
      "state": {
       "layout": "IPY_MODEL_9ce39e2fe6a34fa6af0eb45a54831d2c",
       "style": "IPY_MODEL_ea0568a42e074b68a7a2f50efaeffb61",
       "value": "<b>name:</b>"
      }
     },
     "7a4ba1b5bca344fd82195c1803e31de2": {
      "model_module": "@jupyter-widgets/controls",
      "model_module_version": "1.5.0",
      "model_name": "DescriptionStyleModel",
      "state": {
       "description_width": ""
      }
     },
     "7a53f7590f5948efacca07343363b547": {
      "model_module": "@jupyter-widgets/base",
      "model_module_version": "1.2.0",
      "model_name": "LayoutModel",
      "state": {}
     },
     "7a5c425a261e4e8d89f6168ad6dc6498": {
      "model_module": "@jupyter-widgets/controls",
      "model_module_version": "1.5.0",
      "model_name": "DescriptionStyleModel",
      "state": {
       "description_width": ""
      }
     },
     "7aa78b2c4d31421693c9578d8609865d": {
      "model_module": "@jupyter-widgets/controls",
      "model_module_version": "1.5.0",
      "model_name": "HBoxModel",
      "state": {
       "children": [
        "IPY_MODEL_a294fa7f8fb14ad7bb0b0e5c50f59c55",
        "IPY_MODEL_3a701bdf748f4fc79d6f200fb54f7f43"
       ],
       "layout": "IPY_MODEL_0cf02297c4df4ce081fb82657e8ef8d7"
      }
     },
     "7b73574b0e1047b4a31e1a307a484c35": {
      "model_module": "@jupyter-widgets/controls",
      "model_module_version": "1.5.0",
      "model_name": "DescriptionStyleModel",
      "state": {
       "description_width": ""
      }
     },
     "7b870fb20cd04c4b856d3566335306fb": {
      "model_module": "@jupyter-widgets/controls",
      "model_module_version": "1.5.0",
      "model_name": "DescriptionStyleModel",
      "state": {
       "description_width": ""
      }
     },
     "7bbd9a303f0e41709d6c610882279b9c": {
      "model_module": "@jupyter-widgets/controls",
      "model_module_version": "1.5.0",
      "model_name": "DescriptionStyleModel",
      "state": {
       "description_width": ""
      }
     },
     "7c24cbde9e314d09b21ed00e5f174f86": {
      "model_module": "@jupyter-widgets/base",
      "model_module_version": "1.2.0",
      "model_name": "LayoutModel",
      "state": {}
     },
     "7cc04af9d21d406688df4e57323ba97c": {
      "model_module": "@jupyter-widgets/base",
      "model_module_version": "1.2.0",
      "model_name": "LayoutModel",
      "state": {}
     },
     "7cf3681402f44d5abb8452c9ef2a754e": {
      "model_module": "@jupyter-widgets/controls",
      "model_module_version": "1.5.0",
      "model_name": "VBoxModel",
      "state": {
       "children": [
        "IPY_MODEL_92e74ba6e9714a1b8bbad3c166f9fd93",
        "IPY_MODEL_b981a109d7504eebbd717419aa582d58"
       ],
       "layout": "IPY_MODEL_9fda0dd7587242d3834227d690b11761"
      }
     },
     "7d347ef46e0c43558746dadfdd93219f": {
      "model_module": "@jupyter-widgets/controls",
      "model_module_version": "1.5.0",
      "model_name": "HBoxModel",
      "state": {
       "children": [
        "IPY_MODEL_cc9fe17b243a47898c0991bb7ba782f7",
        "IPY_MODEL_4335cc7307694ee1ada8d8a51d014add"
       ],
       "layout": "IPY_MODEL_92a5a680b0c344f28203e64092701f5e"
      }
     },
     "7dce8b51cd39471a88b5a32c218f0f34": {
      "model_module": "@jupyter-widgets/controls",
      "model_module_version": "1.5.0",
      "model_name": "HTMLModel",
      "state": {
       "layout": "IPY_MODEL_ae2422e36a104c4a9a13250033183450",
       "style": "IPY_MODEL_d1b00b913062407ea2220580444af042",
       "value": "<b>inferencingStackVersion:</b>"
      }
     },
     "7dda1d17c7c34067811b05cb9106b0fd": {
      "model_module": "@jupyter-widgets/controls",
      "model_module_version": "1.5.0",
      "model_name": "DescriptionStyleModel",
      "state": {
       "description_width": ""
      }
     },
     "7e4af02cd8174874a1a47a247eb38f5a": {
      "model_module": "@jupyter-widgets/base",
      "model_module_version": "1.2.0",
      "model_name": "LayoutModel",
      "state": {}
     },
     "7e5ee2c0b6834fe194cb932937bdac6a": {
      "model_module": "@jupyter-widgets/controls",
      "model_module_version": "1.5.0",
      "model_name": "LabelModel",
      "state": {
       "layout": "IPY_MODEL_93c080f8ccee42edbd558f26c5085e1e",
       "style": "IPY_MODEL_6fc075014f5d464ca20a8f278b8eec2e",
       "value": "None"
      }
     },
     "7f423b1918874db7b13332172867ccf5": {
      "model_module": "@jupyter-widgets/controls",
      "model_module_version": "1.5.0",
      "model_name": "VBoxModel",
      "state": {
       "children": [
        "IPY_MODEL_e5c9d891b9ba47aba20057933caabc5f",
        "IPY_MODEL_98d3343948814dc5bb0ccc38a2d531c9",
        "IPY_MODEL_41dfeb62c7d34ac4960ec7cb17520fac",
        "IPY_MODEL_aae86481557f49a2850e858d9ece7f97",
        "IPY_MODEL_c6e0520485bd4d8d93466b036a269855",
        "IPY_MODEL_98a876313f944934b51387901388133f",
        "IPY_MODEL_e1ed55e532db4689b0cd7bc40b7b9d7c"
       ],
       "layout": "IPY_MODEL_ccc21f07d41b4c6e9cb6a48f5ec2f432"
      }
     },
     "800adf10afa443dbaf60dd8d73505a11": {
      "model_module": "@jupyter-widgets/controls",
      "model_module_version": "1.5.0",
      "model_name": "HBoxModel",
      "state": {
       "children": [
        "IPY_MODEL_4c3eb9fe2c684f4b84440a11bcf47763",
        "IPY_MODEL_d7d067ff993548ebbc233272a76a9ea2"
       ],
       "layout": "IPY_MODEL_009eac57e71c42f3bae1ffbe6170bf9b"
      }
     },
     "8058aee7a51340898179228967d6b928": {
      "model_module": "@jupyter-widgets/controls",
      "model_module_version": "1.5.0",
      "model_name": "DescriptionStyleModel",
      "state": {
       "description_width": ""
      }
     },
     "8094b1f3eefe4714afb7e1b96753176d": {
      "model_module": "@jupyter-widgets/base",
      "model_module_version": "1.2.0",
      "model_name": "LayoutModel",
      "state": {}
     },
     "80f2c78edebd4204888d67e0d86c9550": {
      "model_module": "@jupyter-widgets/base",
      "model_module_version": "1.2.0",
      "model_name": "LayoutModel",
      "state": {}
     },
     "810572017c2b4b12be1b49d2abf22a40": {
      "model_module": "@jupyter-widgets/controls",
      "model_module_version": "1.5.0",
      "model_name": "DescriptionStyleModel",
      "state": {
       "description_width": ""
      }
     },
     "8127ec58819f4e8da4e6abcfe55d5dd6": {
      "model_module": "@jupyter-widgets/controls",
      "model_module_version": "1.5.0",
      "model_name": "DescriptionStyleModel",
      "state": {
       "description_width": ""
      }
     },
     "81afe0280b244531896fc21ed904fc02": {
      "model_module": "@jupyter-widgets/controls",
      "model_module_version": "1.5.0",
      "model_name": "LabelModel",
      "state": {
       "layout": "IPY_MODEL_2d90d00cc79447bcb568e1cf67b29987",
       "style": "IPY_MODEL_73fa245ecff4431ab6f0515d7b569aeb",
       "value": "None"
      }
     },
     "81cbb9bb64b643ae8febbb57fa7a52dd": {
      "model_module": "@jupyter-widgets/controls",
      "model_module_version": "1.5.0",
      "model_name": "HBoxModel",
      "state": {
       "children": [
        "IPY_MODEL_147238dacfc04087964b926360d7a80b",
        "IPY_MODEL_ea530a9ab4414b7e95dc0db13eede9bc"
       ],
       "layout": "IPY_MODEL_7039890767c846b3845ff1ec801210c1"
      }
     },
     "81e372608acb4b2b8ce22d3d4d4cdd91": {
      "model_module": "@jupyter-widgets/base",
      "model_module_version": "1.2.0",
      "model_name": "LayoutModel",
      "state": {}
     },
     "81f7502fe3ea482a945a8a9b460b9c4a": {
      "model_module": "@jupyter-widgets/controls",
      "model_module_version": "1.5.0",
      "model_name": "DescriptionStyleModel",
      "state": {
       "description_width": ""
      }
     },
     "823fcf35805448f2981db0db9c218c4d": {
      "model_module": "@jupyter-widgets/controls",
      "model_module_version": "1.5.0",
      "model_name": "LabelModel",
      "state": {
       "layout": "IPY_MODEL_9fd6b0b19478441fa64bd1533f6407eb",
       "style": "IPY_MODEL_2d769168da854ec2bfc88596d00cbae9",
       "value": "dciborow/no-cli"
      }
     },
     "8246291f589a4742b2b3f13518298009": {
      "model_module": "@jupyter-widgets/base",
      "model_module_version": "1.2.0",
      "model_name": "LayoutModel",
      "state": {}
     },
     "8275828beb9f4bd3af4a5ad6e2fd747d": {
      "model_module": "@jupyter-widgets/base",
      "model_module_version": "1.2.0",
      "model_name": "LayoutModel",
      "state": {}
     },
     "82c7061685894b6e8892a5c9f66ea9cb": {
      "model_module": "@jupyter-widgets/controls",
      "model_module_version": "1.5.0",
      "model_name": "HTMLModel",
      "state": {
       "layout": "IPY_MODEL_5fcd974e96e94d6ba25e298bba90c298",
       "style": "IPY_MODEL_f39494e0c0f14af9bcebab9fad19f174",
       "value": "<b>azureml.git.dirty:</b>"
      }
     },
     "837051c734be41f69f7fbd5833fb6d10": {
      "model_module": "@jupyter-widgets/controls",
      "model_module_version": "1.5.0",
      "model_name": "HBoxModel",
      "state": {
       "children": [
        "IPY_MODEL_f1023c3329564871b07668fbc59e972f",
        "IPY_MODEL_9846234ce3084f37a3400c10238ead30"
       ],
       "layout": "IPY_MODEL_3f988128232c452da2cdb0c52ba3186b"
      }
     },
     "83e3633099744a86a11f0ba94660a31f": {
      "model_module": "@jupyter-widgets/controls",
      "model_module_version": "1.5.0",
      "model_name": "DescriptionStyleModel",
      "state": {
       "description_width": ""
      }
     },
     "8403660016ff4e6aa20d253159c96aa6": {
      "model_module": "@jupyter-widgets/controls",
      "model_module_version": "1.5.0",
      "model_name": "DescriptionStyleModel",
      "state": {
       "description_width": ""
      }
     },
     "8419ac0dee664797b2768e1a3dfb71f5": {
      "model_module": "@jupyter-widgets/controls",
      "model_module_version": "1.5.0",
      "model_name": "HTMLModel",
      "state": {
       "layout": "IPY_MODEL_d86491c4af78477aacccfdfa8222eb14",
       "style": "IPY_MODEL_74a3745388d5447f959a17a84462e351",
       "value": "<b>trafficPercentile:</b>"
      }
     },
     "846713189e454fb4b122796368334f97": {
      "model_module": "@jupyter-widgets/controls",
      "model_module_version": "1.5.0",
      "model_name": "DescriptionStyleModel",
      "state": {
       "description_width": ""
      }
     },
     "847a3e00f4ac4880b51834a6efa7922b": {
      "model_module": "@jupyter-widgets/base",
      "model_module_version": "1.2.0",
      "model_name": "LayoutModel",
      "state": {}
     },
     "84b2a7b418c2456abf824c51ff00da2c": {
      "model_module": "@jupyter-widgets/base",
      "model_module_version": "1.2.0",
      "model_name": "LayoutModel",
      "state": {}
     },
     "85411c69106542d3945fb87b7944f49f": {
      "model_module": "@jupyter-widgets/base",
      "model_module_version": "1.2.0",
      "model_name": "LayoutModel",
      "state": {}
     },
     "854b0c14a15b4136b9ec7361b0ebd75c": {
      "model_module": "@jupyter-widgets/controls",
      "model_module_version": "1.5.0",
      "model_name": "DescriptionStyleModel",
      "state": {
       "description_width": ""
      }
     },
     "855952beba444968ae888cec655e7c2a": {
      "model_module": "@jupyter-widgets/base",
      "model_module_version": "1.2.0",
      "model_name": "LayoutModel",
      "state": {}
     },
     "859a0d891f734884ae449efe5f52645d": {
      "model_module": "@jupyter-widgets/base",
      "model_module_version": "1.2.0",
      "model_name": "LayoutModel",
      "state": {}
     },
     "864d713edce2413691a46a2eea85c365": {
      "model_module": "@jupyter-widgets/controls",
      "model_module_version": "1.5.0",
      "model_name": "DescriptionStyleModel",
      "state": {
       "description_width": ""
      }
     },
     "86c8ebb67cb94fc5b8736fe13769e940": {
      "model_module": "@jupyter-widgets/controls",
      "model_module_version": "1.5.0",
      "model_name": "HBoxModel",
      "state": {
       "children": [
        "IPY_MODEL_9b4aab5595e643e2bace71dd74b41cc2",
        "IPY_MODEL_bec5fff308da4d5abdee1d4a1106c204"
       ],
       "layout": "IPY_MODEL_712e9ffff63841f19754b97fb3358831"
      }
     },
     "8750e263f5a342408eabf13b57f548ec": {
      "model_module": "@jupyter-widgets/controls",
      "model_module_version": "1.5.0",
      "model_name": "LabelModel",
      "state": {
       "layout": "IPY_MODEL_f8c026869b9d4bb3aa5cfd61651405e0",
       "style": "IPY_MODEL_f79ba183afb14abd80b89f583316647f",
       "value": "dlrts-train-on-local_1584417363_b3599921"
      }
     },
     "8755eaa2c90849458f55df4fe2fc6f95": {
      "model_module": "@jupyter-widgets/base",
      "model_module_version": "1.2.0",
      "model_name": "LayoutModel",
      "state": {}
     },
     "877050d8c05a48c8a0beaa91da4b5b17": {
      "model_module": "@jupyter-widgets/controls",
      "model_module_version": "1.5.0",
      "model_name": "DescriptionStyleModel",
      "state": {
       "description_width": ""
      }
     },
     "87f6a44045814cc28c1cf1b136ba4538": {
      "model_module": "@jupyter-widgets/controls",
      "model_module_version": "1.5.0",
      "model_name": "HTMLModel",
      "state": {
       "layout": "IPY_MODEL_b419ef7c8b5e4690b21ae3d9f71eaf07",
       "style": "IPY_MODEL_284478a2e8fc4950b5c7737c80503340",
       "value": "<b>userAltSecId:</b>"
      }
     },
     "89006431e2794d09919f3887bb519171": {
      "model_module": "@jupyter-widgets/controls",
      "model_module_version": "1.5.0",
      "model_name": "DescriptionStyleModel",
      "state": {
       "description_width": ""
      }
     },
     "89348c42469c4959b7e7f00627d8d76b": {
      "model_module": "@jupyter-widgets/controls",
      "model_module_version": "1.5.0",
      "model_name": "DescriptionStyleModel",
      "state": {
       "description_width": ""
      }
     },
     "89b6d009553e46d6a347cbc24efbca31": {
      "model_module": "@jupyter-widgets/base",
      "model_module_version": "1.2.0",
      "model_name": "LayoutModel",
      "state": {}
     },
     "8a75683569c14d67b93e06724b6526e6": {
      "model_module": "@jupyter-widgets/controls",
      "model_module_version": "1.5.0",
      "model_name": "AccordionModel",
      "state": {
       "_titles": {
        "0": "livenessProbeRequirements"
       },
       "children": [
        "IPY_MODEL_554365faca824a4384c0d9d1f45e9d8f"
       ],
       "layout": "IPY_MODEL_c7884ed2a6094f58861b145a26081692"
      }
     },
     "8afec3fba0524ae885944e53c81134a9": {
      "model_module": "@jupyter-widgets/base",
      "model_module_version": "1.2.0",
      "model_name": "LayoutModel",
      "state": {}
     },
     "8b1c2b1c24f34ab8a1eca27aa12c847f": {
      "model_module": "@jupyter-widgets/controls",
      "model_module_version": "1.5.0",
      "model_name": "LabelModel",
      "state": {
       "layout": "IPY_MODEL_5f3f46e3b28e40189105f3804a8f9a0e",
       "style": "IPY_MODEL_4c1e181dc88d4f4580003e10f64f9067",
       "value": "True"
      }
     },
     "8b9aa95a5c04444ba2a0ad7d405d382e": {
      "model_module": "@jupyter-widgets/base",
      "model_module_version": "1.2.0",
      "model_name": "LayoutModel",
      "state": {}
     },
     "8bbbe02a43ec47beb7680bc33a746d7e": {
      "model_module": "@jupyter-widgets/base",
      "model_module_version": "1.2.0",
      "model_name": "LayoutModel",
      "state": {}
     },
     "8bf6ab7b41da4d4280e08a36f76a37cd": {
      "model_module": "@jupyter-widgets/controls",
      "model_module_version": "1.5.0",
      "model_name": "DescriptionStyleModel",
      "state": {
       "description_width": ""
      }
     },
     "8c4eb0666be5483888c165ead7a10c7f": {
      "model_module": "@jupyter-widgets/base",
      "model_module_version": "1.2.0",
      "model_name": "LayoutModel",
      "state": {}
     },
     "8cc460716da242f7a216eaae4e0384b2": {
      "model_module": "@jupyter-widgets/controls",
      "model_module_version": "1.5.0",
      "model_name": "HTMLModel",
      "state": {
       "layout": "IPY_MODEL_fa6dfaf2863a44279291fdec1831f71c",
       "style": "IPY_MODEL_73be4ec063d44511a284c6e488b25833",
       "value": "<b>azureml.git.branch:</b>"
      }
     },
     "8cd2e4ab970b456eb586358e20c88760": {
      "model_module": "@jupyter-widgets/base",
      "model_module_version": "1.2.0",
      "model_name": "LayoutModel",
      "state": {}
     },
     "8cd64f1c900a49979a5ac03e29fd20c8": {
      "model_module": "@jupyter-widgets/base",
      "model_module_version": "1.2.0",
      "model_name": "LayoutModel",
      "state": {}
     },
     "8cf4bd23ec41472a8a3ff2262ed902ed": {
      "model_module": "@jupyter-widgets/base",
      "model_module_version": "1.2.0",
      "model_name": "LayoutModel",
      "state": {}
     },
     "8d468f5de9d645f58470a4ee1b967c29": {
      "model_module": "@jupyter-widgets/base",
      "model_module_version": "1.2.0",
      "model_name": "LayoutModel",
      "state": {}
     },
     "8dfcee903c8c4be6bec9b46e71bca9d8": {
      "model_module": "@jupyter-widgets/controls",
      "model_module_version": "1.5.0",
      "model_name": "LabelModel",
      "state": {
       "layout": "IPY_MODEL_9d492aeb870a4d2ca354f9649f290e21",
       "style": "IPY_MODEL_ad3c13dd212e41a58ec43b47922de29d",
       "value": "None"
      }
     },
     "8e8ba31574dd4af3a520acea40b39f95": {
      "model_module": "@jupyter-widgets/controls",
      "model_module_version": "1.5.0",
      "model_name": "HTMLModel",
      "state": {
       "layout": "IPY_MODEL_44e83a28aea34b5a918a01930fd4cb1f",
       "style": "IPY_MODEL_37637228600c4135b60be3a202a40f78",
       "value": "<b>userName:</b>"
      }
     },
     "8e946be6c2724d58a20cda205c908b39": {
      "model_module": "@jupyter-widgets/base",
      "model_module_version": "1.2.0",
      "model_name": "LayoutModel",
      "state": {}
     },
     "8f57f74cd19e466c99fe169e6f7377ae": {
      "model_module": "@jupyter-widgets/controls",
      "model_module_version": "1.5.0",
      "model_name": "DescriptionStyleModel",
      "state": {
       "description_width": ""
      }
     },
     "9009fa4af290457f9767ce41f9084d5a": {
      "model_module": "@jupyter-widgets/base",
      "model_module_version": "1.2.0",
      "model_name": "LayoutModel",
      "state": {}
     },
     "90139d5d62ed4687883d7f8941573807": {
      "model_module": "@jupyter-widgets/controls",
      "model_module_version": "1.5.0",
      "model_name": "HBoxModel",
      "state": {
       "children": [
        "IPY_MODEL_b13199fc851b467182e9da44fc94bdbf",
        "IPY_MODEL_3e7b1c9036324f7fbd61d2bf8dde80ca"
       ],
       "layout": "IPY_MODEL_0527b10df51e4605b3adb8c69c9a23d1"
      }
     },
     "91148a07323d4f5dab43dfdb09497f60": {
      "model_module": "@jupyter-widgets/controls",
      "model_module_version": "1.5.0",
      "model_name": "DescriptionStyleModel",
      "state": {
       "description_width": ""
      }
     },
     "91c63b78d31943568455579c0ccd53fa": {
      "model_module": "@jupyter-widgets/controls",
      "model_module_version": "1.5.0",
      "model_name": "DropdownModel",
      "state": {
       "_options_labels": [
        "eastus",
        "eastus2",
        "canadacentral",
        "centralus",
        "northcentralus",
        "southcentralus",
        "westcentralus",
        "westus",
        "westus2"
       ],
       "description": "workspace_region",
       "index": 0,
       "layout": "IPY_MODEL_a5a5a0c82488434c8f08773ada3c5f89",
       "style": "IPY_MODEL_64e51bac99e4467896bb5b3b5b33c819"
      }
     },
     "92685e517a6d4e959b2637fc72d28985": {
      "model_module": "@jupyter-widgets/controls",
      "model_module_version": "1.5.0",
      "model_name": "HTMLModel",
      "state": {
       "layout": "IPY_MODEL_f64e8db64560440ba8456c447ba98e93",
       "style": "IPY_MODEL_0ad1791d1aa94385a5dd29e53fad0983",
       "value": "<b>version:</b>"
      }
     },
     "929193b8d99346caa28380994dab17cf": {
      "model_module": "@jupyter-widgets/controls",
      "model_module_version": "1.5.0",
      "model_name": "HTMLModel",
      "state": {
       "layout": "IPY_MODEL_84b2a7b418c2456abf824c51ff00da2c",
       "style": "IPY_MODEL_ca26797126c6461d959300e98605caaa",
       "value": "<b>frameworkVersion:</b>"
      }
     },
     "92a5a680b0c344f28203e64092701f5e": {
      "model_module": "@jupyter-widgets/base",
      "model_module_version": "1.2.0",
      "model_name": "LayoutModel",
      "state": {}
     },
     "92d4313f811d4cddba110ed67b76fc74": {
      "model_module": "@jupyter-widgets/controls",
      "model_module_version": "1.5.0",
      "model_name": "VBoxModel",
      "state": {
       "children": [
        "IPY_MODEL_6ad29e7bf3ac4762ada356c28064ec99",
        "IPY_MODEL_e668ce6203b04302906394079f30d88b",
        "IPY_MODEL_bf569d0138504782aa93d42eb2b38426",
        "IPY_MODEL_70e08a3acf7943eaae2dac838ff8e6d4",
        "IPY_MODEL_62ddd2ed396a428ba590d74fa193ca14"
       ],
       "layout": "IPY_MODEL_f01312898b6e40f5abd2723f3aa85711"
      }
     },
     "92df89a454bc46c5841122f23ffe7249": {
      "model_module": "@jupyter-widgets/base",
      "model_module_version": "1.2.0",
      "model_name": "LayoutModel",
      "state": {}
     },
     "92e3b4f58a7d44a8abfdca65f9d120d5": {
      "model_module": "@jupyter-widgets/base",
      "model_module_version": "1.2.0",
      "model_name": "LayoutModel",
      "state": {}
     },
     "92e74ba6e9714a1b8bbad3c166f9fd93": {
      "model_module": "@jupyter-widgets/controls",
      "model_module_version": "1.5.0",
      "model_name": "HBoxModel",
      "state": {
       "children": [
        "IPY_MODEL_1a7f96923ece406dbec73aba570dfe81",
        "IPY_MODEL_67bd864234124abe961fabf521a1249a"
       ],
       "layout": "IPY_MODEL_5ec2e873d9d74915bf3d9367a4639e4c"
      }
     },
     "93054a72271d4d90a476ffd9b1e41ae3": {
      "model_module": "@jupyter-widgets/controls",
      "model_module_version": "1.5.0",
      "model_name": "AccordionModel",
      "state": {
       "_titles": {
        "0": "Main",
        "1": "Availability",
        "2": "Performance",
        "3": "Load Testing"
       },
       "children": [
        "IPY_MODEL_eb0fafd3f83d4c7fafe62f2e0458efb4",
        "IPY_MODEL_b74be13920ba49178e1eaf715c1ddefd",
        "IPY_MODEL_9b0d8f5ca1ce41c0a436d67d1a55d34f",
        "IPY_MODEL_17f8925e7d854f9a91a446682ac237b0"
       ],
       "layout": "IPY_MODEL_d1d307054e3145edb1775f4cddc61212"
      }
     },
     "93c037b97bc44ac2a84fb972083e842b": {
      "model_module": "@jupyter-widgets/controls",
      "model_module_version": "1.5.0",
      "model_name": "AccordionModel",
      "state": {
       "_titles": {
        "0": "properties"
       },
       "children": [
        "IPY_MODEL_6d9d8285dfd34b7692e5595ad56dcff2"
       ],
       "layout": "IPY_MODEL_430addcb68bd41eab17066fe25831abe"
      }
     },
     "93c080f8ccee42edbd558f26c5085e1e": {
      "model_module": "@jupyter-widgets/base",
      "model_module_version": "1.2.0",
      "model_name": "LayoutModel",
      "state": {}
     },
     "93c53b28f2ea47d799edf721e57aef10": {
      "model_module": "@jupyter-widgets/controls",
      "model_module_version": "1.5.0",
      "model_name": "HTMLModel",
      "state": {
       "layout": "IPY_MODEL_a2aad481bb284bd0a4a51c3afa98ecc9",
       "style": "IPY_MODEL_04866467acc14a29b12606c75f99dc8a",
       "value": "<b>authEnabled:</b>"
      }
     },
     "9401b360a0514d3b81e665312319e51d": {
      "model_module": "@jupyter-widgets/base",
      "model_module_version": "1.2.0",
      "model_name": "LayoutModel",
      "state": {}
     },
     "9492871405d64d9e875e9d0c07fed68f": {
      "model_module": "@jupyter-widgets/controls",
      "model_module_version": "1.5.0",
      "model_name": "DescriptionStyleModel",
      "state": {
       "description_width": ""
      }
     },
     "9493c4c1063047a6894ef26f6e66322c": {
      "model_module": "@jupyter-widgets/controls",
      "model_module_version": "1.5.0",
      "model_name": "HTMLModel",
      "state": {
       "layout": "IPY_MODEL_e3e14a52f0e542c1b5e2a0655a0eca2c",
       "style": "IPY_MODEL_83e3633099744a86a11f0ba94660a31f",
       "value": "<b>periodSeconds:</b>"
      }
     },
     "94bd4b4175de4ad7a08bac71f515400b": {
      "model_module": "@jupyter-widgets/base",
      "model_module_version": "1.2.0",
      "model_name": "LayoutModel",
      "state": {}
     },
     "94e8cb39b92842b99beacac2e856e244": {
      "model_module": "@jupyter-widgets/controls",
      "model_module_version": "1.5.0",
      "model_name": "LabelModel",
      "state": {
       "layout": "IPY_MODEL_e189ff1ab3ad4057aac26badef4266a6",
       "style": "IPY_MODEL_253d93d641c44dfaa9ff75df1daf884e",
       "value": "72f988bf-86f1-41af-91ab-2d7cd011db47"
      }
     },
     "9504085df36c4daf9b01e28044642a5b": {
      "model_module": "@jupyter-widgets/controls",
      "model_module_version": "1.5.0",
      "model_name": "DescriptionStyleModel",
      "state": {
       "description_width": ""
      }
     },
     "9545c8e8806d46338f67c16ef43e32b9": {
      "model_module": "@jupyter-widgets/controls",
      "model_module_version": "1.5.0",
      "model_name": "HBoxModel",
      "state": {
       "children": [
        "IPY_MODEL_cce4246e24574abea2b0c06dfaa0dc9a",
        "IPY_MODEL_a587a18df7d24854bf8b60c55285f9b1"
       ],
       "layout": "IPY_MODEL_7c24cbde9e314d09b21ed00e5f174f86"
      }
     },
     "958ec1d250e24fab927f14da49190a53": {
      "model_module": "@jupyter-widgets/base",
      "model_module_version": "1.2.0",
      "model_name": "LayoutModel",
      "state": {}
     },
     "95a958e01f60402c88eb06bf709a7e89": {
      "model_module": "@jupyter-widgets/base",
      "model_module_version": "1.2.0",
      "model_name": "LayoutModel",
      "state": {}
     },
     "95d1e327e6a24a76a09f0df3720b9465": {
      "model_module": "@jupyter-widgets/controls",
      "model_module_version": "1.5.0",
      "model_name": "TextModel",
      "state": {
       "description": "deep_aks_location",
       "layout": "IPY_MODEL_32f71056f7c54f3b8bd4cbc35ee90bbf",
       "placeholder": "AKS Azure Region",
       "style": "IPY_MODEL_ee1c79a1d10243f5b5ab48f2f72e75d0",
       "value": "eastus"
      }
     },
     "95e156f7d0ce492ebf9b111140a25fc1": {
      "model_module": "@jupyter-widgets/base",
      "model_module_version": "1.2.0",
      "model_name": "LayoutModel",
      "state": {}
     },
     "967f69721e8748cda886a3ee4e440c9b": {
      "model_module": "@jupyter-widgets/controls",
      "model_module_version": "1.5.0",
      "model_name": "DescriptionStyleModel",
      "state": {
       "description_width": ""
      }
     },
     "96b95bf4fe8f4a3a935e04088c1add76": {
      "model_module": "@jupyter-widgets/controls",
      "model_module_version": "1.5.0",
      "model_name": "DescriptionStyleModel",
      "state": {
       "description_width": ""
      }
     },
     "96cd60bb948948449c0b3f060873a054": {
      "model_module": "@jupyter-widgets/base",
      "model_module_version": "1.2.0",
      "model_name": "LayoutModel",
      "state": {}
     },
     "96d14da868bf408ebd49470780465d66": {
      "model_module": "@jupyter-widgets/base",
      "model_module_version": "1.2.0",
      "model_name": "LayoutModel",
      "state": {}
     },
     "970a6c47413d42c2834cb96c5f4cfaf4": {
      "model_module": "@jupyter-widgets/base",
      "model_module_version": "1.2.0",
      "model_name": "LayoutModel",
      "state": {}
     },
     "975822f08b484cd28e08a4e308edb7d8": {
      "model_module": "@jupyter-widgets/controls",
      "model_module_version": "1.5.0",
      "model_name": "DescriptionStyleModel",
      "state": {
       "description_width": ""
      }
     },
     "97739f949726485392dd1b25fb6684d6": {
      "model_module": "@jupyter-widgets/controls",
      "model_module_version": "1.5.0",
      "model_name": "HBoxModel",
      "state": {
       "children": [
        "IPY_MODEL_5bcba9b4da3b43cfa52ca1f7b7a47db0",
        "IPY_MODEL_b2ad3306bb0543d5b39b2e37e2d1fbfc"
       ],
       "layout": "IPY_MODEL_4bf2c33fada44d94aa7244f7a2c1af9a"
      }
     },
     "97afb9405ab94e8a9f4b34a22930e430": {
      "model_module": "@jupyter-widgets/base",
      "model_module_version": "1.2.0",
      "model_name": "LayoutModel",
      "state": {}
     },
     "97ebda5a6c664ed49fd47e14506d10a3": {
      "model_module": "@jupyter-widgets/controls",
      "model_module_version": "1.5.0",
      "model_name": "DescriptionStyleModel",
      "state": {
       "description_width": ""
      }
     },
     "981283e326c94b90bbe10e945812e569": {
      "model_module": "@jupyter-widgets/controls",
      "model_module_version": "1.5.0",
      "model_name": "LabelModel",
      "state": {
       "layout": "IPY_MODEL_bb76d41d675449aba6a42c73f98016d8",
       "style": "IPY_MODEL_91148a07323d4f5dab43dfdb09497f60",
       "value": "None"
      }
     },
     "982c837054664a44b733440b75eaac29": {
      "model_module": "@jupyter-widgets/controls",
      "model_module_version": "1.5.0",
      "model_name": "DescriptionStyleModel",
      "state": {
       "description_width": ""
      }
     },
     "9833780b3be848b680d9662aceb0a562": {
      "model_module": "@jupyter-widgets/base",
      "model_module_version": "1.2.0",
      "model_name": "LayoutModel",
      "state": {}
     },
     "9846234ce3084f37a3400c10238ead30": {
      "model_module": "@jupyter-widgets/controls",
      "model_module_version": "1.5.0",
      "model_name": "LabelModel",
      "state": {
       "layout": "IPY_MODEL_62b4e14643ea4fecad15d9d5e39a73dd",
       "style": "IPY_MODEL_3c69c03a4a0e463a9b24214294c72ac9",
       "value": "1"
      }
     },
     "9859a17f9a164feeb84468110bb2b1b6": {
      "model_module": "@jupyter-widgets/controls",
      "model_module_version": "1.5.0",
      "model_name": "DescriptionStyleModel",
      "state": {
       "description_width": ""
      }
     },
     "9874f65118b14bd8a84bf7ea9089565c": {
      "model_module": "@jupyter-widgets/controls",
      "model_module_version": "1.5.0",
      "model_name": "HTMLModel",
      "state": {
       "layout": "IPY_MODEL_de18d48f6a9940c8b7a4057be3d101c8",
       "style": "IPY_MODEL_846713189e454fb4b122796368334f97",
       "value": "<b>gpu:</b>"
      }
     },
     "98a4ddb3e8a34ea99e92a13f070a9f85": {
      "model_module": "@jupyter-widgets/controls",
      "model_module_version": "1.5.0",
      "model_name": "LabelModel",
      "state": {
       "layout": "IPY_MODEL_8cd64f1c900a49979a5ac03e29fd20c8",
       "style": "IPY_MODEL_25cdd6bb97304a939d448d79a1e4db13",
       "value": "0.5"
      }
     },
     "98a876313f944934b51387901388133f": {
      "model_module": "@jupyter-widgets/controls",
      "model_module_version": "1.5.0",
      "model_name": "HBoxModel",
      "state": {
       "children": [
        "IPY_MODEL_39cd298e6bf946259b5f9717fb924c49",
        "IPY_MODEL_ed09bfc32ce740a3a8262fc5bbe47628"
       ],
       "layout": "IPY_MODEL_bb433ff14a41485aacea2220001225e8"
      }
     },
     "98d3343948814dc5bb0ccc38a2d531c9": {
      "model_module": "@jupyter-widgets/controls",
      "model_module_version": "1.5.0",
      "model_name": "HBoxModel",
      "state": {
       "children": [
        "IPY_MODEL_f13b676ac2754aa2929de571e865ddd3",
        "IPY_MODEL_bb6763bde17f4c998cbcff5d6438484e"
       ],
       "layout": "IPY_MODEL_1511074b602e4c3da4e2a1d6aaa732c2"
      }
     },
     "9957519929bf49f1bf3e76583264da51": {
      "model_module": "@jupyter-widgets/controls",
      "model_module_version": "1.5.0",
      "model_name": "DropdownModel",
      "state": {
       "_options_labels": [
        "eastus",
        "eastus2",
        "canadacentral",
        "centralus",
        "northcentralus",
        "southcentralus",
        "westcentralus",
        "westus",
        "westus2"
       ],
       "description": "deep_aks_location",
       "index": 0,
       "layout": "IPY_MODEL_308e83b13a4a48a1b978695570f3ff3b",
       "style": "IPY_MODEL_ea4fd326715a4134ad948a4b990cb5ce"
      }
     },
     "99749a09ce91460ba5ae98a1a6e76b52": {
      "model_module": "@jupyter-widgets/controls",
      "model_module_version": "1.5.0",
      "model_name": "DescriptionStyleModel",
      "state": {
       "description_width": ""
      }
     },
     "998a2b51174d4bd08e3d78cbf01390c7": {
      "model_module": "@jupyter-widgets/controls",
      "model_module_version": "1.5.0",
      "model_name": "HBoxModel",
      "state": {
       "children": [
        "IPY_MODEL_599c7caed43048a3b9acd5ad4fccd65a",
        "IPY_MODEL_1b7e937feec745f289e849b8d69fcd1d"
       ],
       "layout": "IPY_MODEL_26fc3d6c294d4f2f9cb6517ae5c95816"
      }
     },
     "99e35cf1848842e09c76a7d05793b51e": {
      "model_module": "@jupyter-widgets/controls",
      "model_module_version": "1.5.0",
      "model_name": "HTMLModel",
      "state": {
       "layout": "IPY_MODEL_ea131cebf72845f48b0ca4c3ca3cff42",
       "style": "IPY_MODEL_385b69585a6d4b78b7270808fa9eeead",
       "value": "<b>targetUtilization:</b>"
      }
     },
     "9aa7619049854e4d8b382a0c8c44b065": {
      "model_module": "@jupyter-widgets/base",
      "model_module_version": "1.2.0",
      "model_name": "LayoutModel",
      "state": {}
     },
     "9aba26ed687942beb18b676e47e3c971": {
      "model_module": "@jupyter-widgets/base",
      "model_module_version": "1.2.0",
      "model_name": "LayoutModel",
      "state": {}
     },
     "9abf4da213b74132b2062cc16ed2f4f9": {
      "model_module": "@jupyter-widgets/base",
      "model_module_version": "1.2.0",
      "model_name": "LayoutModel",
      "state": {}
     },
     "9ac9b6471a874c5cb1a59277563d2e6b": {
      "model_module": "@jupyter-widgets/controls",
      "model_module_version": "1.5.0",
      "model_name": "DescriptionStyleModel",
      "state": {
       "description_width": ""
      }
     },
     "9b0d8f5ca1ce41c0a436d67d1a55d34f": {
      "model_module": "@jupyter-widgets/controls",
      "model_module_version": "1.5.0",
      "model_name": "HTMLModel",
      "state": {
       "layout": "IPY_MODEL_c6d723f1c6d24c03b043f751a1918bf7",
       "style": "IPY_MODEL_47e86b8478a74617aa633c7764e09ffc",
       "value": "<img src=\"https://raw.githubusercontent.com/microsoft/AI-Utilities/master/docs/app_insights_perf_dash.png\">"
      }
     },
     "9b4aab5595e643e2bace71dd74b41cc2": {
      "model_module": "@jupyter-widgets/controls",
      "model_module_version": "1.5.0",
      "model_name": "HTMLModel",
      "state": {
       "layout": "IPY_MODEL_a10ba69afc68439da36b08dbe07496cb",
       "style": "IPY_MODEL_c22644a91ba24b26befe2b04154433d7",
       "value": "<b>python:</b>"
      }
     },
     "9b6b9b624dab430e84099449d3309f3c": {
      "model_module": "@jupyter-widgets/controls",
      "model_module_version": "1.5.0",
      "model_name": "HTMLModel",
      "state": {
       "layout": "IPY_MODEL_d5dadf0c3138416a974147b68c839e55",
       "style": "IPY_MODEL_3af387905bbd4a3ba145d9ac40523768",
       "value": "<b>runDetails:</b>"
      }
     },
     "9bbdccf5eace48099e3d3b261d8cc099": {
      "model_module": "@jupyter-widgets/controls",
      "model_module_version": "1.5.0",
      "model_name": "DescriptionStyleModel",
      "state": {
       "description_width": ""
      }
     },
     "9c1947283c944803b616ced03b27321e": {
      "model_module": "@jupyter-widgets/controls",
      "model_module_version": "1.5.0",
      "model_name": "DescriptionStyleModel",
      "state": {
       "description_width": ""
      }
     },
     "9c56febdc2b94b1c9b9120c154aef584": {
      "model_module": "@jupyter-widgets/base",
      "model_module_version": "1.2.0",
      "model_name": "LayoutModel",
      "state": {}
     },
     "9c7bacf2ce4b4ad48e95961b63d71bfb": {
      "model_module": "@jupyter-widgets/controls",
      "model_module_version": "1.5.0",
      "model_name": "LabelModel",
      "state": {
       "layout": "IPY_MODEL_14bca330409240a78527b751771ae17e",
       "style": "IPY_MODEL_239c2f8529ac4254bb33c2d12e43d9b2",
       "value": "None"
      }
     },
     "9cc0af8f17a840e887394f3eaaca0d38": {
      "model_module": "@jupyter-widgets/controls",
      "model_module_version": "1.5.0",
      "model_name": "DescriptionStyleModel",
      "state": {
       "description_width": ""
      }
     },
     "9ce39e2fe6a34fa6af0eb45a54831d2c": {
      "model_module": "@jupyter-widgets/base",
      "model_module_version": "1.2.0",
      "model_name": "LayoutModel",
      "state": {}
     },
     "9d492aeb870a4d2ca354f9649f290e21": {
      "model_module": "@jupyter-widgets/base",
      "model_module_version": "1.2.0",
      "model_name": "LayoutModel",
      "state": {}
     },
     "9d5575f6a76a4afaac149401e2937c1c": {
      "model_module": "@jupyter-widgets/base",
      "model_module_version": "1.2.0",
      "model_name": "LayoutModel",
      "state": {}
     },
     "9d81f63772854fc0b3cb462875d4ef43": {
      "model_module": "@jupyter-widgets/base",
      "model_module_version": "1.2.0",
      "model_name": "LayoutModel",
      "state": {}
     },
     "9de3c050dccc4913907508762140e410": {
      "model_module": "@jupyter-widgets/controls",
      "model_module_version": "1.5.0",
      "model_name": "DescriptionStyleModel",
      "state": {
       "description_width": ""
      }
     },
     "9df9c7cbfb91403f97c0b9574f449293": {
      "model_module": "@jupyter-widgets/base",
      "model_module_version": "1.2.0",
      "model_name": "LayoutModel",
      "state": {}
     },
     "9e8b18226f2c44f1b1d44820e8ddd70b": {
      "model_module": "@jupyter-widgets/base",
      "model_module_version": "1.2.0",
      "model_name": "LayoutModel",
      "state": {}
     },
     "9e9745e9feb9405e8e7fe6864b20f8ea": {
      "model_module": "@jupyter-widgets/base",
      "model_module_version": "1.2.0",
      "model_name": "LayoutModel",
      "state": {}
     },
     "9ea2c4fc14b7464cb6304f1e77f002d6": {
      "model_module": "@jupyter-widgets/controls",
      "model_module_version": "1.5.0",
      "model_name": "LabelModel",
      "state": {
       "layout": "IPY_MODEL_4fa2c6ee093f4f3aa622386fe17058c4",
       "style": "IPY_MODEL_a2943e4ea7aa4771b7b27a67156eb11b",
       "value": "{'enabled': False, 'baseImage': 'mcr.microsoft.com/azureml/base:intelmpi2018.3-ubuntu16.04', 'baseDockerfile': None, 'sharedVolumes': True, 'shmSize': None, 'arguments': [], 'baseImageRegistry': {'address': None, 'username': None, 'password': None}}"
      }
     },
     "9f173b65052647ef9cb6f510d7e4c924": {
      "model_module": "@jupyter-widgets/controls",
      "model_module_version": "1.5.0",
      "model_name": "DescriptionStyleModel",
      "state": {
       "description_width": ""
      }
     },
     "9f21edd25fdc405184ecb23d930b19ea": {
      "model_module": "@jupyter-widgets/controls",
      "model_module_version": "1.5.0",
      "model_name": "HTMLModel",
      "state": {
       "layout": "IPY_MODEL_9e8b18226f2c44f1b1d44820e8ddd70b",
       "style": "IPY_MODEL_ce67325efbb74dfbaf7385d87b55509b",
       "value": "<b>state:</b>"
      }
     },
     "9f7b613e61414cdc8a6eea579957ef4f": {
      "model_module": "@jupyter-widgets/controls",
      "model_module_version": "1.5.0",
      "model_name": "HBoxModel",
      "state": {
       "children": [
        "IPY_MODEL_b8e776d784ab4e4c883f5173307f67a1",
        "IPY_MODEL_a2c63fd9b24a4268a5a985cb49e5917d"
       ],
       "layout": "IPY_MODEL_80f2c78edebd4204888d67e0d86c9550"
      }
     },
     "9faa3e41d081485f8bf2f7ae0b0b6514": {
      "model_module": "@jupyter-widgets/controls",
      "model_module_version": "1.5.0",
      "model_name": "HBoxModel",
      "state": {
       "children": [
        "IPY_MODEL_2a74050291594c60b0f3a2cf87f97e41",
        "IPY_MODEL_bd3a44da492044b5bcf1dc277713aac9"
       ],
       "layout": "IPY_MODEL_010c4daca73a4e0db65c9f0881f45003"
      }
     },
     "9fbd5223cfed47cb945a3f4eb00c22c1": {
      "model_module": "@jupyter-widgets/controls",
      "model_module_version": "1.5.0",
      "model_name": "DescriptionStyleModel",
      "state": {
       "description_width": ""
      }
     },
     "9fd6b0b19478441fa64bd1533f6407eb": {
      "model_module": "@jupyter-widgets/base",
      "model_module_version": "1.2.0",
      "model_name": "LayoutModel",
      "state": {}
     },
     "9fda0dd7587242d3834227d690b11761": {
      "model_module": "@jupyter-widgets/base",
      "model_module_version": "1.2.0",
      "model_name": "LayoutModel",
      "state": {}
     },
     "a0644ddeb98a4134bf46a8207a032e1d": {
      "model_module": "@jupyter-widgets/base",
      "model_module_version": "1.2.0",
      "model_name": "LayoutModel",
      "state": {}
     },
     "a07d3067d2874dfc9954ef48082b99bd": {
      "model_module": "@jupyter-widgets/base",
      "model_module_version": "1.2.0",
      "model_name": "LayoutModel",
      "state": {}
     },
     "a0dea57653a84b19b3da7a48011a6828": {
      "model_module": "@jupyter-widgets/base",
      "model_module_version": "1.2.0",
      "model_name": "LayoutModel",
      "state": {}
     },
     "a10ba69afc68439da36b08dbe07496cb": {
      "model_module": "@jupyter-widgets/base",
      "model_module_version": "1.2.0",
      "model_name": "LayoutModel",
      "state": {}
     },
     "a115039efb3948dc8033cd762044043c": {
      "model_module": "@jupyter-widgets/controls",
      "model_module_version": "1.5.0",
      "model_name": "TextModel",
      "state": {
       "description": "workspace_region",
       "layout": "IPY_MODEL_fe0cb583d21447fca79922fbeec4d2b8",
       "placeholder": "Azure ML Workspace Region",
       "style": "IPY_MODEL_76af4906491a41d880fe140d0d1243ff",
       "value": "eastus"
      }
     },
     "a254dfaa8e22490195f2eda243a95c12": {
      "model_module": "@jupyter-widgets/controls",
      "model_module_version": "1.5.0",
      "model_name": "HBoxModel",
      "state": {
       "children": [
        "IPY_MODEL_0efed221c7694005bd6fdecf9bbe6980",
        "IPY_MODEL_1631ebbe7f5e46d88d5f9b88ae90c18e"
       ],
       "layout": "IPY_MODEL_e1beafc800004ac2af3a2c5335602df9"
      }
     },
     "a2943e4ea7aa4771b7b27a67156eb11b": {
      "model_module": "@jupyter-widgets/controls",
      "model_module_version": "1.5.0",
      "model_name": "DescriptionStyleModel",
      "state": {
       "description_width": ""
      }
     },
     "a294fa7f8fb14ad7bb0b0e5c50f59c55": {
      "model_module": "@jupyter-widgets/controls",
      "model_module_version": "1.5.0",
      "model_name": "HTMLModel",
      "state": {
       "layout": "IPY_MODEL_6262410fc3dc45a88dd36a3f2adb134b",
       "style": "IPY_MODEL_2e31ed81250f413bb29630c3582c9e76",
       "value": "<b>unpack:</b>"
      }
     },
     "a2aad481bb284bd0a4a51c3afa98ecc9": {
      "model_module": "@jupyter-widgets/base",
      "model_module_version": "1.2.0",
      "model_name": "LayoutModel",
      "state": {}
     },
     "a2be436ac3e548b6a0885ffb471443fe": {
      "model_module": "@jupyter-widgets/controls",
      "model_module_version": "1.5.0",
      "model_name": "HBoxModel",
      "state": {
       "children": [
        "IPY_MODEL_8419ac0dee664797b2768e1a3dfb71f5",
        "IPY_MODEL_e5af574dbd484e1e84846591c482eda5"
       ],
       "layout": "IPY_MODEL_0e87aaaf01ed4e018ae9e464c183a2cd"
      }
     },
     "a2c63fd9b24a4268a5a985cb49e5917d": {
      "model_module": "@jupyter-widgets/controls",
      "model_module_version": "1.5.0",
      "model_name": "LabelModel",
      "state": {
       "layout": "IPY_MODEL_9401b360a0514d3b81e665312319e51d",
       "style": "IPY_MODEL_b43fa282536741098bb2e614f957bb29",
       "value": "https://github.com/microsoft/AI-Utilities.git"
      }
     },
     "a2d3a9ac3cbc491c86fa8120d4afa606": {
      "model_module": "@jupyter-widgets/controls",
      "model_module_version": "1.5.0",
      "model_name": "TextModel",
      "state": {
       "description": "aks_service_name",
       "layout": "IPY_MODEL_492543dac4c84048a80ac076e62b80f0",
       "placeholder": "AKS Service Name",
       "style": "IPY_MODEL_eeda9c5154e34fc7aafcd1ff72862b67",
       "value": "aksservice3"
      }
     },
     "a3525d44bcdc48a2b972e95611131d2e": {
      "model_module": "@jupyter-widgets/controls",
      "model_module_version": "1.5.0",
      "model_name": "HBoxModel",
      "state": {
       "children": [
        "IPY_MODEL_f5087881c98648eab669dc11c02ee271",
        "IPY_MODEL_29f1815ca7464136bf0dcabeba99280c"
       ],
       "layout": "IPY_MODEL_89b6d009553e46d6a347cbc24efbca31"
      }
     },
     "a3984c3c947c452281a494bff11ffebe": {
      "model_module": "@jupyter-widgets/controls",
      "model_module_version": "1.5.0",
      "model_name": "LabelModel",
      "state": {
       "layout": "IPY_MODEL_e8376b4a57f4494890645f5d6a2ea5cc",
       "style": "IPY_MODEL_9bbdccf5eace48099e3d3b261d8cc099",
       "value": "None"
      }
     },
     "a3e0ccb7188a4a4bb1768932e7fc7a33": {
      "model_module": "@jupyter-widgets/controls",
      "model_module_version": "1.5.0",
      "model_name": "HTMLModel",
      "state": {
       "layout": "IPY_MODEL_32207884e6eb4d8b98372a246544cd5a",
       "style": "IPY_MODEL_d6e23725a5104bed8faab502fe4193bb",
       "value": "<b>deploymentStatus:</b>"
      }
     },
     "a44f082edcf4400f91c83f30fbb840e1": {
      "model_module": "@jupyter-widgets/base",
      "model_module_version": "1.2.0",
      "model_name": "LayoutModel",
      "state": {}
     },
     "a55d52b44a1f419e92c371c7072fbdb6": {
      "model_module": "@jupyter-widgets/controls",
      "model_module_version": "1.5.0",
      "model_name": "DescriptionStyleModel",
      "state": {
       "description_width": ""
      }
     },
     "a57f45871b084027bba89e53805a2058": {
      "model_module": "@jupyter-widgets/base",
      "model_module_version": "1.2.0",
      "model_name": "LayoutModel",
      "state": {}
     },
     "a587a18df7d24854bf8b60c55285f9b1": {
      "model_module": "@jupyter-widgets/controls",
      "model_module_version": "1.5.0",
      "model_name": "LabelModel",
      "state": {
       "layout": "IPY_MODEL_52fcc563e449444588267f15df5092b6",
       "style": "IPY_MODEL_89006431e2794d09919f3887bb519171",
       "value": "[{'createdTime': '2020-03-17T03:59:11.432120+00:00', 'createdBy': {'userObjectId': 'e6cc2e17-5968-49e6-bb8f-9fb978a0d450', 'userPuId': '1003BFFD8BE61032', 'userIdp': None, 'userAltSecId': None, 'userIss': 'https://sts.windows.net/72f988bf-86f1-41af-91ab-2d7cd011db47/', 'userTenantId': '72f988bf-86f1-41af-91ab-2d7cd011db47', 'userName': 'Daniel Ciborowski'}, 'description': None, 'id': 'resnet_model_2:1', 'mimeType': 'application/json', 'name': 'resnet_model_2', 'framework': 'Custom', 'frameworkVersion': None, 'tags': {}, 'properties': {}, 'unpack': False, 'url': 'aml://asset/b46b0b6eb7614a9cab4be793b5f2ca5b', 'version': 1, 'experimentName': 'dlrts-train-on-local', 'runId': 'dlrts-train-on-local_1584417363_b3599921', 'runDetails': 'Run(Experiment: dlrts-train-on-local,\\nId: dlrts-train-on-local_1584417363_b3599921,\\nType: azureml.scriptrun,\\nStatus: Completed)', 'datasets': {}, 'resourceConfiguration': None, 'sampleInputDatasetId': None, 'sampleOutputDatasetId': None}]"
      }
     },
     "a58d55be263045d4822f7ab7688ba8c7": {
      "model_module": "@jupyter-widgets/base",
      "model_module_version": "1.2.0",
      "model_name": "LayoutModel",
      "state": {}
     },
     "a5a5a0c82488434c8f08773ada3c5f89": {
      "model_module": "@jupyter-widgets/base",
      "model_module_version": "1.2.0",
      "model_name": "LayoutModel",
      "state": {}
     },
     "a5b51faa1a4949cfa7dbf1d9a441d0d7": {
      "model_module": "@jupyter-widgets/controls",
      "model_module_version": "1.5.0",
      "model_name": "DescriptionStyleModel",
      "state": {
       "description_width": ""
      }
     },
     "a66dd2bb38004142a4ba48e96c841112": {
      "model_module": "@jupyter-widgets/controls",
      "model_module_version": "1.5.0",
      "model_name": "VBoxModel",
      "state": {
       "children": [
        "IPY_MODEL_271d17ee68a744678e37640bcc51aeec",
        "IPY_MODEL_67ad8e9eb7c84fdc83f04148d027349d",
        "IPY_MODEL_93c037b97bc44ac2a84fb972083e842b",
        "IPY_MODEL_14b63eb3d46340ce9b46d9ddd28bb7a8",
        "IPY_MODEL_e7c19bad01a14018b43217f1ea316b27",
        "IPY_MODEL_18a5058a13c0458c94ea93cdc3766ec0",
        "IPY_MODEL_683a9234a8234b8d9fea077adb829167",
        "IPY_MODEL_df1aab450085471f9325d3c84b4f8547",
        "IPY_MODEL_7d347ef46e0c43558746dadfdd93219f",
        "IPY_MODEL_46f6758a52064de58b58e6ce33ca2cf0",
        "IPY_MODEL_3e7ded2c1b1745648d513a6b7b05712b",
        "IPY_MODEL_fab9fb130ec249a8ac4e35ceb28345aa",
        "IPY_MODEL_053756de842e4b9b955206285cc43b23",
        "IPY_MODEL_f4245bc721bb4ae3825bdc7d0f6f3bbe",
        "IPY_MODEL_c68d62fc38dc4a819f8053e06fc8bb54",
        "IPY_MODEL_f8265495ecea474e8cb57c2830e410d7",
        "IPY_MODEL_f247d67b5ff8450e8bd4cd8a4b161017",
        "IPY_MODEL_f4b21cbafc5640089e9baa411db45dc1",
        "IPY_MODEL_b959f1e6a87845118796c91a0ee39493",
        "IPY_MODEL_b49848122f1944c29b9df5af5649cadd",
        "IPY_MODEL_bde6509dbc4440aea71ff8d1d62098d9",
        "IPY_MODEL_71d06a01c3804096b1633226aac4a596",
        "IPY_MODEL_8a75683569c14d67b93e06724b6526e6",
        "IPY_MODEL_ec63274f52a34fb4b4f9d210e3aa559a",
        "IPY_MODEL_5b5540ad8fec42f9a25e5ce21f4d56d9",
        "IPY_MODEL_45d8859bc73c4603bc257a5d9ae7fb46",
        "IPY_MODEL_97739f949726485392dd1b25fb6684d6",
        "IPY_MODEL_cda7af5245f142a7bb1206c57fa58422",
        "IPY_MODEL_9545c8e8806d46338f67c16ef43e32b9",
        "IPY_MODEL_fa3d25736e944ef59946528058c28f1d",
        "IPY_MODEL_a2be436ac3e548b6a0885ffb471443fe",
        "IPY_MODEL_fbe0f0310c3b4cc9bcbec6dff375f6ab"
       ],
       "layout": "IPY_MODEL_113389a77af2464583da80d07a12eaee"
      }
     },
     "a68c7f9d4a1643afae5ca9a25bc57716": {
      "model_module": "@jupyter-widgets/output",
      "model_module_version": "1.0.0",
      "model_name": "OutputModel",
      "state": {
       "layout": "IPY_MODEL_9d5575f6a76a4afaac149401e2937c1c"
      }
     },
     "a6db33f6bae8463bb8f56eea8d56bed6": {
      "model_module": "@jupyter-widgets/controls",
      "model_module_version": "1.5.0",
      "model_name": "TextModel",
      "state": {
       "description": "workspace_name",
       "layout": "IPY_MODEL_f165718a4d534c97b184ac47cc5e8a0c",
       "placeholder": "Azure ML Workspace Name",
       "style": "IPY_MODEL_dc43cd493aeb4690b211381314c2c541",
       "value": "azmlrts-eastus3"
      }
     },
     "a737c912255d428b95deb5d7d2dbd8c4": {
      "model_module": "@jupyter-widgets/base",
      "model_module_version": "1.2.0",
      "model_name": "LayoutModel",
      "state": {}
     },
     "a7607016b5c04aa0abd69c0b1d884ec4": {
      "model_module": "@jupyter-widgets/controls",
      "model_module_version": "1.5.0",
      "model_name": "HTMLModel",
      "state": {
       "layout": "IPY_MODEL_094bf51e02334ffaa670fa99e63e284a",
       "style": "IPY_MODEL_9492871405d64d9e875e9d0c07fed68f",
       "value": "<b>userObjectId:</b>"
      }
     },
     "a78c5f7e93bf44e7a258e775bdd3d472": {
      "model_module": "@jupyter-widgets/controls",
      "model_module_version": "1.5.0",
      "model_name": "HBoxModel",
      "state": {
       "children": [
        "IPY_MODEL_f2f3fa536d664cdf9d77f2b638827731",
        "IPY_MODEL_28618ef0798041aba97c7419120aea5e"
       ],
       "layout": "IPY_MODEL_4b59cbd656cb4fe8b708a45a451ca724"
      }
     },
     "a82822738fed4b6485d958d058140a6b": {
      "model_module": "@jupyter-widgets/controls",
      "model_module_version": "1.5.0",
      "model_name": "TextModel",
      "state": {
       "description": "subscription_id",
       "layout": "IPY_MODEL_9aa7619049854e4d8b382a0c8c44b065",
       "placeholder": "Azure Subscription Id",
       "style": "IPY_MODEL_fcfc35c48e13428eb343d9d4489ffcda",
       "value": "0ca618d2-22a8-413a-96d0-0f1b531129c3"
      }
     },
     "a859ae71b39b4a0ca23b9f906b483e2f": {
      "model_module": "@jupyter-widgets/controls",
      "model_module_version": "1.5.0",
      "model_name": "ButtonStyleModel",
      "state": {}
     },
     "a863e0f4f2d145f09ee588bfdc6216f4": {
      "model_module": "@jupyter-widgets/base",
      "model_module_version": "1.2.0",
      "model_name": "LayoutModel",
      "state": {}
     },
     "a8ca431457d74e51bace68b13c891b14": {
      "model_module": "@jupyter-widgets/controls",
      "model_module_version": "1.5.0",
      "model_name": "HTMLModel",
      "state": {
       "layout": "IPY_MODEL_ab8040afd6ba464999c5cce328b6744e",
       "style": "IPY_MODEL_ac8d850249f14bebb173a6b45ef1d241",
       "value": "<b>mlflow.source.git.commit:</b>"
      }
     },
     "a970dbe864c6495ea16dfbfc9c53844a": {
      "model_module": "@jupyter-widgets/controls",
      "model_module_version": "1.5.0",
      "model_name": "DescriptionStyleModel",
      "state": {
       "description_width": ""
      }
     },
     "aa569698799e4d9796aab480c8f4be45": {
      "model_module": "@jupyter-widgets/base",
      "model_module_version": "1.2.0",
      "model_name": "LayoutModel",
      "state": {}
     },
     "aae86481557f49a2850e858d9ece7f97": {
      "model_module": "@jupyter-widgets/controls",
      "model_module_version": "1.5.0",
      "model_name": "HBoxModel",
      "state": {
       "children": [
        "IPY_MODEL_bb351ae2c92949bdbd56f03b7760dea9",
        "IPY_MODEL_394661e31628440194f9f9c434908360"
       ],
       "layout": "IPY_MODEL_8c4eb0666be5483888c165ead7a10c7f"
      }
     },
     "ab8040afd6ba464999c5cce328b6744e": {
      "model_module": "@jupyter-widgets/base",
      "model_module_version": "1.2.0",
      "model_name": "LayoutModel",
      "state": {}
     },
     "aba587ada01f4631b5adca658ad6e811": {
      "model_module": "@jupyter-widgets/controls",
      "model_module_version": "1.5.0",
      "model_name": "TextModel",
      "state": {
       "description": "aks_location",
       "layout": "IPY_MODEL_eeb5dbe0d9f24c7c8307bf0d6bbb4ca4",
       "placeholder": "AKS Azure Region",
       "style": "IPY_MODEL_b507fc3a3b134ad594a39bcad401968b",
       "value": "eastus"
      }
     },
     "abd23b7adc55415997dc6482172f5eca": {
      "model_module": "@jupyter-widgets/controls",
      "model_module_version": "1.5.0",
      "model_name": "DescriptionStyleModel",
      "state": {
       "description_width": ""
      }
     },
     "ac0a4ea99e4a4e7f8dce3133f9912d74": {
      "model_module": "@jupyter-widgets/controls",
      "model_module_version": "1.5.0",
      "model_name": "DescriptionStyleModel",
      "state": {
       "description_width": ""
      }
     },
     "ac3fbbf507874d35a035d6a0afed658e": {
      "model_module": "@jupyter-widgets/controls",
      "model_module_version": "1.5.0",
      "model_name": "AccordionModel",
      "state": {
       "_titles": {
        "0": "createdBy"
       },
       "children": [
        "IPY_MODEL_3b9f870661b44d6ba4bb38747c447ecb"
       ],
       "layout": "IPY_MODEL_69c612fde64e48f2903369aa3d3e1a1d"
      }
     },
     "ac7962a4d9c14e4980cc0519f9564237": {
      "model_module": "@jupyter-widgets/controls",
      "model_module_version": "1.5.0",
      "model_name": "DescriptionStyleModel",
      "state": {
       "description_width": ""
      }
     },
     "ac8d850249f14bebb173a6b45ef1d241": {
      "model_module": "@jupyter-widgets/controls",
      "model_module_version": "1.5.0",
      "model_name": "DescriptionStyleModel",
      "state": {
       "description_width": ""
      }
     },
     "ac8f2ee7ed10432d9e61f841a44f867b": {
      "model_module": "@jupyter-widgets/controls",
      "model_module_version": "1.5.0",
      "model_name": "DescriptionStyleModel",
      "state": {
       "description_width": ""
      }
     },
     "acfe5f1348fa4f70b8bf9d95d2507c53": {
      "model_module": "@jupyter-widgets/controls",
      "model_module_version": "1.5.0",
      "model_name": "DescriptionStyleModel",
      "state": {
       "description_width": ""
      }
     },
     "ad3c13dd212e41a58ec43b47922de29d": {
      "model_module": "@jupyter-widgets/controls",
      "model_module_version": "1.5.0",
      "model_name": "DescriptionStyleModel",
      "state": {
       "description_width": ""
      }
     },
     "ad6fd61b9ad04cf7942dac137b75ad90": {
      "model_module": "@jupyter-widgets/controls",
      "model_module_version": "1.5.0",
      "model_name": "LabelModel",
      "state": {
       "layout": "IPY_MODEL_a07d3067d2874dfc9954ef48082b99bd",
       "style": "IPY_MODEL_aea56fabec7046a5882a8c74952cd412",
       "value": "Daniel Ciborowski"
      }
     },
     "aded7b9f7124423ea2cbdbbd8203b207": {
      "model_module": "@jupyter-widgets/controls",
      "model_module_version": "1.5.0",
      "model_name": "TextModel",
      "state": {
       "description": "deep_image_name",
       "layout": "IPY_MODEL_0783559a724f4fb0b300385d63801bbe",
       "placeholder": "Docker Container Image Name",
       "style": "IPY_MODEL_7a4ba1b5bca344fd82195c1803e31de2",
       "value": "mydeepimage3"
      }
     },
     "ae2422e36a104c4a9a13250033183450": {
      "model_module": "@jupyter-widgets/base",
      "model_module_version": "1.2.0",
      "model_name": "LayoutModel",
      "state": {}
     },
     "ae676988f840432999560cab9803fb71": {
      "model_module": "@jupyter-widgets/controls",
      "model_module_version": "1.5.0",
      "model_name": "HBoxModel",
      "state": {
       "children": [
        "IPY_MODEL_e5e57c60bec043909eeb6ae5593f88e0",
        "IPY_MODEL_b662dca06f044886aaa7124ae8a15e1a"
       ],
       "layout": "IPY_MODEL_f475c81d960949d884bdf57a77c94feb"
      }
     },
     "aea56fabec7046a5882a8c74952cd412": {
      "model_module": "@jupyter-widgets/controls",
      "model_module_version": "1.5.0",
      "model_name": "DescriptionStyleModel",
      "state": {
       "description_width": ""
      }
     },
     "af85e2baa74d48258f2a6970893a261b": {
      "model_module": "@jupyter-widgets/controls",
      "model_module_version": "1.5.0",
      "model_name": "DescriptionStyleModel",
      "state": {
       "description_width": ""
      }
     },
     "b016b37395344e23a7d35f0b5e22459d": {
      "model_module": "@jupyter-widgets/base",
      "model_module_version": "1.2.0",
      "model_name": "LayoutModel",
      "state": {}
     },
     "b01c31a4bc7c42649744f34ff27eec12": {
      "model_module": "@jupyter-widgets/base",
      "model_module_version": "1.2.0",
      "model_name": "LayoutModel",
      "state": {}
     },
     "b0a7f5d5e2cd4af4b84a000975c7e78d": {
      "model_module": "@jupyter-widgets/base",
      "model_module_version": "1.2.0",
      "model_name": "LayoutModel",
      "state": {}
     },
     "b13199fc851b467182e9da44fc94bdbf": {
      "model_module": "@jupyter-widgets/controls",
      "model_module_version": "1.5.0",
      "model_name": "HTMLModel",
      "state": {
       "layout": "IPY_MODEL_05ee53c956134af7958402a485dbd4a6",
       "style": "IPY_MODEL_799f0f1587904fabb5d7dd456a52ed74",
       "value": "<b>experimentName:</b>"
      }
     },
     "b1d1d6b2eb2e41faae333d804e963284": {
      "model_module": "@jupyter-widgets/controls",
      "model_module_version": "1.5.0",
      "model_name": "DescriptionStyleModel",
      "state": {
       "description_width": ""
      }
     },
     "b2ad3306bb0543d5b39b2e37e2d1fbfc": {
      "model_module": "@jupyter-widgets/controls",
      "model_module_version": "1.5.0",
      "model_name": "LabelModel",
      "state": {
       "layout": "IPY_MODEL_b8575f9f52e04c738f4c94e28344c8b4",
       "style": "IPY_MODEL_8058aee7a51340898179228967d6b928",
       "value": "False"
      }
     },
     "b2b24cd8c5ee485f94f8b3af4ef74f99": {
      "model_module": "@jupyter-widgets/controls",
      "model_module_version": "1.5.0",
      "model_name": "LabelModel",
      "state": {
       "layout": "IPY_MODEL_e25170f1e89a46f2bf81b93b82adc009",
       "style": "IPY_MODEL_45c519de290e4895882dd0c9445952ea",
       "value": "1"
      }
     },
     "b2ceb9f95d704b6b81dd03472f38d57a": {
      "model_module": "@jupyter-widgets/controls",
      "model_module_version": "1.5.0",
      "model_name": "LabelModel",
      "state": {
       "layout": "IPY_MODEL_b529109e1256480389668b4804b7bde7",
       "style": "IPY_MODEL_967f69721e8748cda886a3ee4e440c9b",
       "value": "Daniel Ciborowski"
      }
     },
     "b2f3a44ee78047b093054d56fd872f01": {
      "model_module": "@jupyter-widgets/controls",
      "model_module_version": "1.5.0",
      "model_name": "TextModel",
      "state": {
       "description": "deep_aks_name",
       "layout": "IPY_MODEL_243560bf6f244d1595e295aff421443e",
       "placeholder": "AKS Cluster Name",
       "style": "IPY_MODEL_e07f6534ad6f4287825902aab480f13c",
       "value": "deepakscluster3"
      }
     },
     "b34f1e4d9ab4460088796d870c149d27": {
      "model_module": "@jupyter-widgets/base",
      "model_module_version": "1.2.0",
      "model_name": "LayoutModel",
      "state": {}
     },
     "b3987aa4ef304160a89f9936f2281153": {
      "model_module": "@jupyter-widgets/base",
      "model_module_version": "1.2.0",
      "model_name": "LayoutModel",
      "state": {}
     },
     "b419ef7c8b5e4690b21ae3d9f71eaf07": {
      "model_module": "@jupyter-widgets/base",
      "model_module_version": "1.2.0",
      "model_name": "LayoutModel",
      "state": {}
     },
     "b43fa282536741098bb2e614f957bb29": {
      "model_module": "@jupyter-widgets/controls",
      "model_module_version": "1.5.0",
      "model_name": "DescriptionStyleModel",
      "state": {
       "description_width": ""
      }
     },
     "b49848122f1944c29b9df5af5649cadd": {
      "model_module": "@jupyter-widgets/controls",
      "model_module_version": "1.5.0",
      "model_name": "AccordionModel",
      "state": {
       "_titles": {
        "0": "dataCollection"
       },
       "children": [
        "IPY_MODEL_7cf3681402f44d5abb8452c9ef2a754e"
       ],
       "layout": "IPY_MODEL_46293a73defc4e34aca8c23f85d1f51d"
      }
     },
     "b507fc3a3b134ad594a39bcad401968b": {
      "model_module": "@jupyter-widgets/controls",
      "model_module_version": "1.5.0",
      "model_name": "DescriptionStyleModel",
      "state": {
       "description_width": ""
      }
     },
     "b529109e1256480389668b4804b7bde7": {
      "model_module": "@jupyter-widgets/base",
      "model_module_version": "1.2.0",
      "model_name": "LayoutModel",
      "state": {}
     },
     "b5e319c7dc0c4cec980a6e935d8010ce": {
      "model_module": "@jupyter-widgets/controls",
      "model_module_version": "1.5.0",
      "model_name": "DescriptionStyleModel",
      "state": {
       "description_width": ""
      }
     },
     "b64aa3a47e0e48bbac063cf0e1084ab1": {
      "model_module": "@jupyter-widgets/base",
      "model_module_version": "1.2.0",
      "model_name": "LayoutModel",
      "state": {}
     },
     "b662dca06f044886aaa7124ae8a15e1a": {
      "model_module": "@jupyter-widgets/controls",
      "model_module_version": "1.5.0",
      "model_name": "LabelModel",
      "state": {
       "layout": "IPY_MODEL_5be38f39ba12477ea57e059b5ba56cde",
       "style": "IPY_MODEL_b1d1d6b2eb2e41faae333d804e963284",
       "value": "aml://asset/b46b0b6eb7614a9cab4be793b5f2ca5b"
      }
     },
     "b74be13920ba49178e1eaf715c1ddefd": {
      "model_module": "@jupyter-widgets/controls",
      "model_module_version": "1.5.0",
      "model_name": "HTMLModel",
      "state": {
       "layout": "IPY_MODEL_2d67924b2f8843fdb5e4a5ed6a3e7c1b",
       "style": "IPY_MODEL_3d5a86b52de745328fad350dd7f5c06e",
       "value": "<img src=\"https://raw.githubusercontent.com/microsoft/AI-Utilities/master/docs/app_insights_availability.png\">"
      }
     },
     "b7800cd350954c83ad540e6812e816ee": {
      "model_module": "@jupyter-widgets/base",
      "model_module_version": "1.2.0",
      "model_name": "LayoutModel",
      "state": {}
     },
     "b8575f9f52e04c738f4c94e28344c8b4": {
      "model_module": "@jupyter-widgets/base",
      "model_module_version": "1.2.0",
      "model_name": "LayoutModel",
      "state": {}
     },
     "b8e776d784ab4e4c883f5173307f67a1": {
      "model_module": "@jupyter-widgets/controls",
      "model_module_version": "1.5.0",
      "model_name": "HTMLModel",
      "state": {
       "layout": "IPY_MODEL_97afb9405ab94e8a9f4b34a22930e430",
       "style": "IPY_MODEL_7bbd9a303f0e41709d6c610882279b9c",
       "value": "<b>azureml.git.repository_uri:</b>"
      }
     },
     "b959f1e6a87845118796c91a0ee39493": {
      "model_module": "@jupyter-widgets/controls",
      "model_module_version": "1.5.0",
      "model_name": "AccordionModel",
      "state": {
       "_titles": {
        "0": "containerResourceRequirements"
       },
       "children": [
        "IPY_MODEL_1305ac2e910e4de8aed724cdb99192ee"
       ],
       "layout": "IPY_MODEL_3f578d0806534c12aacb3ebec1106c98"
      }
     },
     "b981a109d7504eebbd717419aa582d58": {
      "model_module": "@jupyter-widgets/controls",
      "model_module_version": "1.5.0",
      "model_name": "HBoxModel",
      "state": {
       "children": [
        "IPY_MODEL_3a4db177b3a84c628d65e859f941d847",
        "IPY_MODEL_68978cc90005405282c8ba3c12d5b0da"
       ],
       "layout": "IPY_MODEL_64f35608f9984202b09d987a552f47a0"
      }
     },
     "b9a2c70dbe284a53b84cb8c06a138562": {
      "model_module": "@jupyter-widgets/base",
      "model_module_version": "1.2.0",
      "model_name": "LayoutModel",
      "state": {}
     },
     "ba325358b820444b8a7aa36a1f8839d9": {
      "model_module": "@jupyter-widgets/controls",
      "model_module_version": "1.5.0",
      "model_name": "LabelModel",
      "state": {
       "layout": "IPY_MODEL_684376232e39411f93367ff0abb0394f",
       "style": "IPY_MODEL_206420ab29f14a17afa6b79bf231f5a1",
       "value": "deepakscluster3"
      }
     },
     "ba5ef05827cd4ff9b5ae2d8c8bc70f08": {
      "model_module": "@jupyter-widgets/controls",
      "model_module_version": "1.5.0",
      "model_name": "DescriptionStyleModel",
      "state": {
       "description_width": ""
      }
     },
     "bab349a3342045c794f70797f4f32d88": {
      "model_module": "@jupyter-widgets/controls",
      "model_module_version": "1.5.0",
      "model_name": "HTMLModel",
      "state": {
       "layout": "IPY_MODEL_c34ebbab5d164677b90f81750c53fff8",
       "style": "IPY_MODEL_982c837054664a44b733440b75eaac29",
       "value": "<b>imageDigest:</b>"
      }
     },
     "bb351ae2c92949bdbd56f03b7760dea9": {
      "model_module": "@jupyter-widgets/controls",
      "model_module_version": "1.5.0",
      "model_name": "HTMLModel",
      "state": {
       "layout": "IPY_MODEL_bf81477d7e87420e9c0a6014ad4415da",
       "style": "IPY_MODEL_74881f98e5674d1589ab28bcae318551",
       "value": "<b>userAltSecId:</b>"
      }
     },
     "bb433ff14a41485aacea2220001225e8": {
      "model_module": "@jupyter-widgets/base",
      "model_module_version": "1.2.0",
      "model_name": "LayoutModel",
      "state": {}
     },
     "bb6763bde17f4c998cbcff5d6438484e": {
      "model_module": "@jupyter-widgets/controls",
      "model_module_version": "1.5.0",
      "model_name": "LabelModel",
      "state": {
       "layout": "IPY_MODEL_e4760bacb4c145aca482268d3c792d5c",
       "style": "IPY_MODEL_70b87eec36914944bcc4de7510f0d71d",
       "value": "1003BFFD8BE61032"
      }
     },
     "bb76d41d675449aba6a42c73f98016d8": {
      "model_module": "@jupyter-widgets/base",
      "model_module_version": "1.2.0",
      "model_name": "LayoutModel",
      "state": {}
     },
     "bb7b2b9b0cb5461ab99af031068a9cc8": {
      "model_module": "@jupyter-widgets/controls",
      "model_module_version": "1.5.0",
      "model_name": "DescriptionStyleModel",
      "state": {
       "description_width": ""
      }
     },
     "bb9a404045d04abcb64775819c1f39ac": {
      "model_module": "@jupyter-widgets/base",
      "model_module_version": "1.2.0",
      "model_name": "LayoutModel",
      "state": {}
     },
     "bbda698dfee34e45bbccd9fc1c0ade7c": {
      "model_module": "@jupyter-widgets/controls",
      "model_module_version": "1.5.0",
      "model_name": "DescriptionStyleModel",
      "state": {
       "description_width": ""
      }
     },
     "bd3a44da492044b5bcf1dc277713aac9": {
      "model_module": "@jupyter-widgets/controls",
      "model_module_version": "1.5.0",
      "model_name": "LabelModel",
      "state": {
       "layout": "IPY_MODEL_6b080779a70e401190aecbe30141fcb7",
       "style": "IPY_MODEL_dc8c2807b28b41678726c5c31fd75450",
       "value": "None"
      }
     },
     "bda769d3576941e781d52c3d662c3329": {
      "model_module": "@jupyter-widgets/base",
      "model_module_version": "1.2.0",
      "model_name": "LayoutModel",
      "state": {}
     },
     "bdababb2c6f0450aabf59c2ce68afb6e": {
      "model_module": "@jupyter-widgets/base",
      "model_module_version": "1.2.0",
      "model_name": "LayoutModel",
      "state": {}
     },
     "bde6509dbc4440aea71ff8d1d62098d9": {
      "model_module": "@jupyter-widgets/controls",
      "model_module_version": "1.5.0",
      "model_name": "HBoxModel",
      "state": {
       "children": [
        "IPY_MODEL_3423fdc27135494fa74d0fcc261d21fe",
        "IPY_MODEL_3121f96760124a328e17bd705289f6e6"
       ],
       "layout": "IPY_MODEL_d2f7113ebe1c413cbb9053d9fd962cd4"
      }
     },
     "be52a22a9bd0440aaa2c4bb2e5d9e755": {
      "model_module": "@jupyter-widgets/controls",
      "model_module_version": "1.5.0",
      "model_name": "LabelModel",
      "state": {
       "layout": "IPY_MODEL_aa569698799e4d9796aab480c8f4be45",
       "style": "IPY_MODEL_7a5c425a261e4e8d89f6168ad6dc6498",
       "value": "None"
      }
     },
     "be5404da657d4fb9be3d9aa3ed5b71b6": {
      "model_module": "@jupyter-widgets/base",
      "model_module_version": "1.2.0",
      "model_name": "LayoutModel",
      "state": {}
     },
     "be84ee39eb674db7bdd5adcb0c79dafd": {
      "model_module": "@jupyter-widgets/controls",
      "model_module_version": "1.5.0",
      "model_name": "HTMLModel",
      "state": {
       "layout": "IPY_MODEL_dccbdf21b1e24222814589e3eb01eee7",
       "style": "IPY_MODEL_99749a09ce91460ba5ae98a1a6e76b52",
       "value": "<b>memoryInGB:</b>"
      }
     },
     "bec5fff308da4d5abdee1d4a1106c204": {
      "model_module": "@jupyter-widgets/controls",
      "model_module_version": "1.5.0",
      "model_name": "LabelModel",
      "state": {
       "layout": "IPY_MODEL_0d86372d475d4c1a8824f039e2fb9562",
       "style": "IPY_MODEL_342eccdbf8fa4ceda46ad8d24aa1425d",
       "value": "{'userManagedDependencies': False, 'interpreterPath': 'python', 'condaDependenciesFile': None, 'baseCondaEnvironment': None, 'condaDependencies': {'channels': ['anaconda', 'conda-forge'], 'dependencies': ['python=3.6.2', {'pip': ['azureml-defaults', 'azureml-contrib-services', 'toolz==0.9.0', 'git+https://github.com/microsoft/AI-Utilities.git@dciborow/no-cli']}, 'keras=2.3.1', 'pillow=7.0.0'], 'name': 'azureml_8e81e2311131822017046513ec68b4f1'}}"
      }
     },
     "bee7e5159dc84699acbf9e397678a569": {
      "model_module": "@jupyter-widgets/controls",
      "model_module_version": "1.5.0",
      "model_name": "LabelModel",
      "state": {
       "layout": "IPY_MODEL_5504134741e54b2487a550566e79950a",
       "style": "IPY_MODEL_56c7398520254232b7a7ce7c80f29b58",
       "value": "None"
      }
     },
     "bf569d0138504782aa93d42eb2b38426": {
      "model_module": "@jupyter-widgets/controls",
      "model_module_version": "1.5.0",
      "model_name": "HBoxModel",
      "state": {
       "children": [
        "IPY_MODEL_1ff629114ce4420c9351fe2073b6cdc5",
        "IPY_MODEL_370efe793b044b30bef5068a30ac0a33"
       ],
       "layout": "IPY_MODEL_e916af920c45447a9084ec3e9a692abe"
      }
     },
     "bf81477d7e87420e9c0a6014ad4415da": {
      "model_module": "@jupyter-widgets/base",
      "model_module_version": "1.2.0",
      "model_name": "LayoutModel",
      "state": {}
     },
     "bfe626a290494c4e8261db0413df6377": {
      "model_module": "@jupyter-widgets/base",
      "model_module_version": "1.2.0",
      "model_name": "LayoutModel",
      "state": {}
     },
     "bfe73f6e327e49fb83fc8eb0edc5d07d": {
      "model_module": "@jupyter-widgets/controls",
      "model_module_version": "1.5.0",
      "model_name": "DescriptionStyleModel",
      "state": {
       "description_width": ""
      }
     },
     "bff388702e6a4dabae37028d2d8743c6": {
      "model_module": "@jupyter-widgets/controls",
      "model_module_version": "1.5.0",
      "model_name": "DescriptionStyleModel",
      "state": {
       "description_width": ""
      }
     },
     "c0be9cc6967f4799b20db1a517e7c701": {
      "model_module": "@jupyter-widgets/controls",
      "model_module_version": "1.5.0",
      "model_name": "HBoxModel",
      "state": {
       "children": [
        "IPY_MODEL_d090cf9a44b54bf8b9f991982fdd63b5",
        "IPY_MODEL_5f85476f523346a8a5b867e71ccb58b8"
       ],
       "layout": "IPY_MODEL_d298e9a891e742158c7d680a40b99b80"
      }
     },
     "c0da224b23c249959973e3b962b9938c": {
      "model_module": "@jupyter-widgets/base",
      "model_module_version": "1.2.0",
      "model_name": "LayoutModel",
      "state": {}
     },
     "c17ec4b715244d049847da5155c942ba": {
      "model_module": "@jupyter-widgets/base",
      "model_module_version": "1.2.0",
      "model_name": "LayoutModel",
      "state": {}
     },
     "c1982eb266e34486b04cdd636abcba09": {
      "model_module": "@jupyter-widgets/base",
      "model_module_version": "1.2.0",
      "model_name": "LayoutModel",
      "state": {}
     },
     "c22644a91ba24b26befe2b04154433d7": {
      "model_module": "@jupyter-widgets/controls",
      "model_module_version": "1.5.0",
      "model_name": "DescriptionStyleModel",
      "state": {
       "description_width": ""
      }
     },
     "c257f1718c0747c5a230f9b82546d7ee": {
      "model_module": "@jupyter-widgets/base",
      "model_module_version": "1.2.0",
      "model_name": "LayoutModel",
      "state": {}
     },
     "c2e4375f63874f6db7724b01c2352ebc": {
      "model_module": "@jupyter-widgets/controls",
      "model_module_version": "1.5.0",
      "model_name": "DescriptionStyleModel",
      "state": {
       "description_width": ""
      }
     },
     "c3307d39b6ea4e78b1f42f67da05158f": {
      "model_module": "@jupyter-widgets/controls",
      "model_module_version": "1.5.0",
      "model_name": "DescriptionStyleModel",
      "state": {
       "description_width": ""
      }
     },
     "c34ebbab5d164677b90f81750c53fff8": {
      "model_module": "@jupyter-widgets/base",
      "model_module_version": "1.2.0",
      "model_name": "LayoutModel",
      "state": {}
     },
     "c395b572046141ef92c7f8604fa1c71d": {
      "model_module": "@jupyter-widgets/controls",
      "model_module_version": "1.5.0",
      "model_name": "TextModel",
      "state": {
       "description": "aks_name",
       "layout": "IPY_MODEL_5e84a23f48ba47158f9c6e9bf0738515",
       "placeholder": "AKS Cluster Name",
       "style": "IPY_MODEL_5fd7336440b141abb90809fd65612986",
       "value": "akscluster3"
      }
     },
     "c3de18d301204f0fab6ffec9ac806e8a": {
      "model_module": "@jupyter-widgets/base",
      "model_module_version": "1.2.0",
      "model_name": "LayoutModel",
      "state": {}
     },
     "c47d56b3017e4b5895965deb79615866": {
      "model_module": "@jupyter-widgets/controls",
      "model_module_version": "1.5.0",
      "model_name": "DescriptionStyleModel",
      "state": {
       "description_width": ""
      }
     },
     "c4af8353ad1141bea92d07544ba0552b": {
      "model_module": "@jupyter-widgets/controls",
      "model_module_version": "1.5.0",
      "model_name": "DescriptionStyleModel",
      "state": {
       "description_width": ""
      }
     },
     "c4c7a029441e4679b750428b9ccf756a": {
      "model_module": "@jupyter-widgets/base",
      "model_module_version": "1.2.0",
      "model_name": "LayoutModel",
      "state": {}
     },
     "c65165d71ab6496988f67bb11892c1e0": {
      "model_module": "@jupyter-widgets/controls",
      "model_module_version": "1.5.0",
      "model_name": "DescriptionStyleModel",
      "state": {
       "description_width": ""
      }
     },
     "c68d62fc38dc4a819f8053e06fc8bb54": {
      "model_module": "@jupyter-widgets/controls",
      "model_module_version": "1.5.0",
      "model_name": "HBoxModel",
      "state": {
       "children": [
        "IPY_MODEL_58d084488dcc42208d8dae148bc02820",
        "IPY_MODEL_215f2e66e7514df5815189fe0c908bbf"
       ],
       "layout": "IPY_MODEL_78847ad5e4f64207b7ea14a0ce0cf480"
      }
     },
     "c6d723f1c6d24c03b043f751a1918bf7": {
      "model_module": "@jupyter-widgets/base",
      "model_module_version": "1.2.0",
      "model_name": "LayoutModel",
      "state": {}
     },
     "c6e0520485bd4d8d93466b036a269855": {
      "model_module": "@jupyter-widgets/controls",
      "model_module_version": "1.5.0",
      "model_name": "HBoxModel",
      "state": {
       "children": [
        "IPY_MODEL_35dae72c109e4ee5aa82c3f75bb4329e",
        "IPY_MODEL_dbcad34a37f44228ae81a7409d997919"
       ],
       "layout": "IPY_MODEL_3aa9a42c4adc4c2988bd52995b5bc98c"
      }
     },
     "c6ee067af25c47b6865cd072aa97eda5": {
      "model_module": "@jupyter-widgets/controls",
      "model_module_version": "1.5.0",
      "model_name": "HTMLModel",
      "state": {
       "layout": "IPY_MODEL_5b7f2c4181364303a0624bfdf16b7815",
       "style": "IPY_MODEL_eb078e4968854a28a2f7c8bafad0496e",
       "value": "<b>maxQueueWaitMs:</b>"
      }
     },
     "c7038a0fd072423b8592178302ad9369": {
      "model_module": "@jupyter-widgets/base",
      "model_module_version": "1.2.0",
      "model_name": "LayoutModel",
      "state": {}
     },
     "c74db4b19f3f4802968f615fc6f6e446": {
      "model_module": "@jupyter-widgets/base",
      "model_module_version": "1.2.0",
      "model_name": "LayoutModel",
      "state": {}
     },
     "c7884ed2a6094f58861b145a26081692": {
      "model_module": "@jupyter-widgets/base",
      "model_module_version": "1.2.0",
      "model_name": "LayoutModel",
      "state": {}
     },
     "c79431facd6942eb9831bf23a55acb61": {
      "model_module": "@jupyter-widgets/controls",
      "model_module_version": "1.5.0",
      "model_name": "LabelModel",
      "state": {
       "layout": "IPY_MODEL_0f6ea66f069e448e82c594a72f198297",
       "style": "IPY_MODEL_8403660016ff4e6aa20d253159c96aa6",
       "value": "None"
      }
     },
     "c7aa019f784448fea39d5a98a96da845": {
      "model_module": "@jupyter-widgets/base",
      "model_module_version": "1.2.0",
      "model_name": "LayoutModel",
      "state": {}
     },
     "c8b1b35a58ed4d358ac47ebd41b957c7": {
      "model_module": "@jupyter-widgets/base",
      "model_module_version": "1.2.0",
      "model_name": "LayoutModel",
      "state": {}
     },
     "c97920d63ae04724b27c7a162128b3af": {
      "model_module": "@jupyter-widgets/controls",
      "model_module_version": "1.5.0",
      "model_name": "LabelModel",
      "state": {
       "layout": "IPY_MODEL_92df89a454bc46c5841122f23ffe7249",
       "style": "IPY_MODEL_f64a72c78ed84d9fa0920b2f82ab983f",
       "value": "True"
      }
     },
     "c9ab16f434694f92851e44c8b60e8ca6": {
      "model_module": "@jupyter-widgets/base",
      "model_module_version": "1.2.0",
      "model_name": "LayoutModel",
      "state": {}
     },
     "ca26797126c6461d959300e98605caaa": {
      "model_module": "@jupyter-widgets/controls",
      "model_module_version": "1.5.0",
      "model_name": "DescriptionStyleModel",
      "state": {
       "description_width": ""
      }
     },
     "cac3d1367b2144b9bf61bb242df0ea6c": {
      "model_module": "@jupyter-widgets/controls",
      "model_module_version": "1.5.0",
      "model_name": "DescriptionStyleModel",
      "state": {
       "description_width": ""
      }
     },
     "cb60d2d144d34ebe96798e141be9b4fe": {
      "model_module": "@jupyter-widgets/base",
      "model_module_version": "1.2.0",
      "model_name": "LayoutModel",
      "state": {}
     },
     "cc19e232def54c1ebfe03dec4101e0f0": {
      "model_module": "@jupyter-widgets/base",
      "model_module_version": "1.2.0",
      "model_name": "LayoutModel",
      "state": {}
     },
     "cc9fe17b243a47898c0991bb7ba782f7": {
      "model_module": "@jupyter-widgets/controls",
      "model_module_version": "1.5.0",
      "model_name": "HTMLModel",
      "state": {
       "layout": "IPY_MODEL_2c965d2193d04e0e924922fda3a9ebb6",
       "style": "IPY_MODEL_26f446e6d7414d10969e711a0f84a873",
       "value": "<b>workspaceName:</b>"
      }
     },
     "ccc21f07d41b4c6e9cb6a48f5ec2f432": {
      "model_module": "@jupyter-widgets/base",
      "model_module_version": "1.2.0",
      "model_name": "LayoutModel",
      "state": {}
     },
     "cce4246e24574abea2b0c06dfaa0dc9a": {
      "model_module": "@jupyter-widgets/controls",
      "model_module_version": "1.5.0",
      "model_name": "HTMLModel",
      "state": {
       "layout": "IPY_MODEL_268f3e1f612342c1b4a9fbb692157f11",
       "style": "IPY_MODEL_7570c3cc0cf84262a428b20fbda7bf59",
       "value": "<b>modelDetails:</b>"
      }
     },
     "cce841329532484095d3fe4987e4cdc6": {
      "model_module": "@jupyter-widgets/controls",
      "model_module_version": "1.5.0",
      "model_name": "DescriptionStyleModel",
      "state": {
       "description_width": ""
      }
     },
     "cda7af5245f142a7bb1206c57fa58422": {
      "model_module": "@jupyter-widgets/controls",
      "model_module_version": "1.5.0",
      "model_name": "AccordionModel",
      "state": {
       "_titles": {
        "0": "environmentDetails"
       },
       "children": [
        "IPY_MODEL_0e49bdbe495c41eba6d2931cabf18efc"
       ],
       "layout": "IPY_MODEL_2fb83d066e2e426dae2777e5fd2dbab4"
      }
     },
     "cdd48e6eedb24e31afb704f34b064330": {
      "model_module": "@jupyter-widgets/controls",
      "model_module_version": "1.5.0",
      "model_name": "HBoxModel",
      "state": {
       "children": [
        "IPY_MODEL_2e622bba23914010bba3fdc6d6d0a05f",
        "IPY_MODEL_b2ceb9f95d704b6b81dd03472f38d57a"
       ],
       "layout": "IPY_MODEL_bfe626a290494c4e8261db0413df6377"
      }
     },
     "ce33d12093b84ce2823f8eacf8f8b4f3": {
      "model_module": "@jupyter-widgets/controls",
      "model_module_version": "1.5.0",
      "model_name": "DescriptionStyleModel",
      "state": {
       "description_width": ""
      }
     },
     "ce67325efbb74dfbaf7385d87b55509b": {
      "model_module": "@jupyter-widgets/controls",
      "model_module_version": "1.5.0",
      "model_name": "DescriptionStyleModel",
      "state": {
       "description_width": ""
      }
     },
     "cf289dd680c749fb9d2a5f290520c440": {
      "model_module": "@jupyter-widgets/base",
      "model_module_version": "1.2.0",
      "model_name": "LayoutModel",
      "state": {}
     },
     "d02c472e4c2142aba0b3d1a45fe91b78": {
      "model_module": "@jupyter-widgets/base",
      "model_module_version": "1.2.0",
      "model_name": "LayoutModel",
      "state": {}
     },
     "d08dc0bebc4a40bcbee2d840247bb098": {
      "model_module": "@jupyter-widgets/base",
      "model_module_version": "1.2.0",
      "model_name": "LayoutModel",
      "state": {}
     },
     "d090cf9a44b54bf8b9f991982fdd63b5": {
      "model_module": "@jupyter-widgets/controls",
      "model_module_version": "1.5.0",
      "model_name": "HTMLModel",
      "state": {
       "layout": "IPY_MODEL_95a958e01f60402c88eb06bf709a7e89",
       "style": "IPY_MODEL_defcc9a79a2549a9814b0cb78ed6aebd",
       "value": "<b>userIdp:</b>"
      }
     },
     "d0b892061e4444faa7c1bd42e4af11c5": {
      "model_module": "@jupyter-widgets/controls",
      "model_module_version": "1.5.0",
      "model_name": "DescriptionStyleModel",
      "state": {
       "description_width": ""
      }
     },
     "d1b00b913062407ea2220580444af042": {
      "model_module": "@jupyter-widgets/controls",
      "model_module_version": "1.5.0",
      "model_name": "DescriptionStyleModel",
      "state": {
       "description_width": ""
      }
     },
     "d1d307054e3145edb1775f4cddc61212": {
      "model_module": "@jupyter-widgets/base",
      "model_module_version": "1.2.0",
      "model_name": "LayoutModel",
      "state": {}
     },
     "d213429fc86b4f35834f948f9199b198": {
      "model_module": "@jupyter-widgets/base",
      "model_module_version": "1.2.0",
      "model_name": "LayoutModel",
      "state": {}
     },
     "d23ecdf9d93141f8a4b216acf8f84f90": {
      "model_module": "@jupyter-widgets/controls",
      "model_module_version": "1.5.0",
      "model_name": "DescriptionStyleModel",
      "state": {
       "description_width": ""
      }
     },
     "d246735554194f38ad22e1a9cac42db1": {
      "model_module": "@jupyter-widgets/controls",
      "model_module_version": "1.5.0",
      "model_name": "HTMLModel",
      "state": {
       "layout": "IPY_MODEL_37536f339cc84998ab74a51c84f8f348",
       "style": "IPY_MODEL_a5b51faa1a4949cfa7dbf1d9a441d0d7",
       "value": "<img src=\"https://raw.githubusercontent.com/microsoft/AI-Utilities/master/docs/studio.png\">"
      }
     },
     "d2744ae5f375428286332ed9078a0926": {
      "model_module": "@jupyter-widgets/controls",
      "model_module_version": "1.5.0",
      "model_name": "DescriptionStyleModel",
      "state": {
       "description_width": ""
      }
     },
     "d298e9a891e742158c7d680a40b99b80": {
      "model_module": "@jupyter-widgets/base",
      "model_module_version": "1.2.0",
      "model_name": "LayoutModel",
      "state": {}
     },
     "d2f7113ebe1c413cbb9053d9fd962cd4": {
      "model_module": "@jupyter-widgets/base",
      "model_module_version": "1.2.0",
      "model_name": "LayoutModel",
      "state": {}
     },
     "d352f3b7b6e54596b8709b84c1f1c78e": {
      "model_module": "@jupyter-widgets/controls",
      "model_module_version": "1.5.0",
      "model_name": "HTMLModel",
      "state": {
       "layout": "IPY_MODEL_7cc04af9d21d406688df4e57323ba97c",
       "style": "IPY_MODEL_51119a6b5ae14ad6843b44e836eb13de",
       "value": "<b>scoringTimeoutMs:</b>"
      }
     },
     "d3764a854abd4efa968a1425bcadf6d5": {
      "model_module": "@jupyter-widgets/base",
      "model_module_version": "1.2.0",
      "model_name": "LayoutModel",
      "state": {}
     },
     "d44a6bd521494664a349818988bf4c1d": {
      "model_module": "@jupyter-widgets/base",
      "model_module_version": "1.2.0",
      "model_name": "LayoutModel",
      "state": {}
     },
     "d44fce8a3f4d4008ba52d8de02ddfb53": {
      "model_module": "@jupyter-widgets/controls",
      "model_module_version": "1.5.0",
      "model_name": "HBoxModel",
      "state": {
       "children": [
        "IPY_MODEL_0637bac20ce3494c810b32645aab5090",
        "IPY_MODEL_d4b116c712354427b967537b23260d7f"
       ],
       "layout": "IPY_MODEL_1a750abc464b40e894ae77b53beebc00"
      }
     },
     "d492e2a2ef404b6c82d9e2643b599647": {
      "model_module": "@jupyter-widgets/controls",
      "model_module_version": "1.5.0",
      "model_name": "DescriptionStyleModel",
      "state": {
       "description_width": ""
      }
     },
     "d4b116c712354427b967537b23260d7f": {
      "model_module": "@jupyter-widgets/controls",
      "model_module_version": "1.5.0",
      "model_name": "LabelModel",
      "state": {
       "layout": "IPY_MODEL_489257cc1b0c412eb8931352ebdf5b97",
       "style": "IPY_MODEL_9de3c050dccc4913907508762140e410",
       "value": "1003BFFD8BE61032"
      }
     },
     "d5cb5e233a3c4b3183baa7f62a7ccecf": {
      "model_module": "@jupyter-widgets/controls",
      "model_module_version": "1.5.0",
      "model_name": "HTMLModel",
      "state": {
       "layout": "IPY_MODEL_6bd06bc6c4154306b9384d9b50d52a8f",
       "style": "IPY_MODEL_d0b892061e4444faa7c1bd42e4af11c5",
       "value": "<b>error:</b>"
      }
     },
     "d5dadf0c3138416a974147b68c839e55": {
      "model_module": "@jupyter-widgets/base",
      "model_module_version": "1.2.0",
      "model_name": "LayoutModel",
      "state": {}
     },
     "d60bd19cff374b5da1595af2517fcec7": {
      "model_module": "@jupyter-widgets/controls",
      "model_module_version": "1.5.0",
      "model_name": "LabelModel",
      "state": {
       "layout": "IPY_MODEL_9833780b3be848b680d9662aceb0a562",
       "style": "IPY_MODEL_bfe73f6e327e49fb83fc8eb0edc5d07d",
       "value": "True"
      }
     },
     "d618c18fd1854c51b9f25f1cf52d25f3": {
      "model_module": "@jupyter-widgets/base",
      "model_module_version": "1.2.0",
      "model_name": "LayoutModel",
      "state": {}
     },
     "d64da459512846d287f4d4908077d0a5": {
      "model_module": "@jupyter-widgets/base",
      "model_module_version": "1.2.0",
      "model_name": "LayoutModel",
      "state": {}
     },
     "d66d0a332a594386b413a9c490aec6cf": {
      "model_module": "@jupyter-widgets/controls",
      "model_module_version": "1.5.0",
      "model_name": "DescriptionStyleModel",
      "state": {
       "description_width": ""
      }
     },
     "d67beffbfd794a988d0780e73a88aea2": {
      "model_module": "@jupyter-widgets/controls",
      "model_module_version": "1.5.0",
      "model_name": "HBoxModel",
      "state": {
       "children": [
        "IPY_MODEL_87f6a44045814cc28c1cf1b136ba4538",
        "IPY_MODEL_be52a22a9bd0440aaa2c4bb2e5d9e755"
       ],
       "layout": "IPY_MODEL_b9a2c70dbe284a53b84cb8c06a138562"
      }
     },
     "d6c43f41497d4b52bac59c961a8657b3": {
      "model_module": "@jupyter-widgets/base",
      "model_module_version": "1.2.0",
      "model_name": "LayoutModel",
      "state": {}
     },
     "d6e23725a5104bed8faab502fe4193bb": {
      "model_module": "@jupyter-widgets/controls",
      "model_module_version": "1.5.0",
      "model_name": "DescriptionStyleModel",
      "state": {
       "description_width": ""
      }
     },
     "d73c07bc943447f3956e6adbbfcf6712": {
      "model_module": "@jupyter-widgets/controls",
      "model_module_version": "1.5.0",
      "model_name": "DescriptionStyleModel",
      "state": {
       "description_width": ""
      }
     },
     "d7bf060744d941acb9866435cd9e43cf": {
      "model_module": "@jupyter-widgets/controls",
      "model_module_version": "1.5.0",
      "model_name": "HTMLModel",
      "state": {
       "layout": "IPY_MODEL_855952beba444968ae888cec655e7c2a",
       "style": "IPY_MODEL_810572017c2b4b12be1b49d2abf22a40",
       "value": "<b>spark:</b>"
      }
     },
     "d7d067ff993548ebbc233272a76a9ea2": {
      "model_module": "@jupyter-widgets/controls",
      "model_module_version": "1.5.0",
      "model_name": "LabelModel",
      "state": {
       "layout": "IPY_MODEL_fc5dd8b0407645beb90ad9b8c8afbf46",
       "style": "IPY_MODEL_a970dbe864c6495ea16dfbfc9c53844a",
       "value": "None"
      }
     },
     "d8087ff8f78547febff362ce874cead3": {
      "model_module": "@jupyter-widgets/controls",
      "model_module_version": "1.5.0",
      "model_name": "DescriptionStyleModel",
      "state": {
       "description_width": ""
      }
     },
     "d86491c4af78477aacccfdfa8222eb14": {
      "model_module": "@jupyter-widgets/base",
      "model_module_version": "1.2.0",
      "model_name": "LayoutModel",
      "state": {}
     },
     "d8abc542e69a4168af0929a1913adccd": {
      "model_module": "@jupyter-widgets/controls",
      "model_module_version": "1.5.0",
      "model_name": "DescriptionStyleModel",
      "state": {
       "description_width": ""
      }
     },
     "d923c3bfe5d8461fb9bfc1b7cb2a2c1d": {
      "model_module": "@jupyter-widgets/controls",
      "model_module_version": "1.5.0",
      "model_name": "DescriptionStyleModel",
      "state": {
       "description_width": ""
      }
     },
     "d9242613d97f49d0b5591c389a585eb5": {
      "model_module": "@jupyter-widgets/base",
      "model_module_version": "1.2.0",
      "model_name": "LayoutModel",
      "state": {}
     },
     "d962f05f309e4173b1f7d3509549e3b3": {
      "model_module": "@jupyter-widgets/base",
      "model_module_version": "1.2.0",
      "model_name": "LayoutModel",
      "state": {}
     },
     "d9f939d7069f44a2b086cdb2710c11d1": {
      "model_module": "@jupyter-widgets/base",
      "model_module_version": "1.2.0",
      "model_name": "LayoutModel",
      "state": {}
     },
     "da61792b14314684a04fd5d153e71ef9": {
      "model_module": "@jupyter-widgets/controls",
      "model_module_version": "1.5.0",
      "model_name": "DescriptionStyleModel",
      "state": {
       "description_width": ""
      }
     },
     "da68ddc269ef4bb2a9a960173fcd51b7": {
      "model_module": "@jupyter-widgets/controls",
      "model_module_version": "1.5.0",
      "model_name": "HBoxModel",
      "state": {
       "children": [
        "IPY_MODEL_75111dafc0f542938a057e62b5015f5b",
        "IPY_MODEL_40ba619bbfbc40e6827ee9773d35c2bb"
       ],
       "layout": "IPY_MODEL_cc19e232def54c1ebfe03dec4101e0f0"
      }
     },
     "dbcad34a37f44228ae81a7409d997919": {
      "model_module": "@jupyter-widgets/controls",
      "model_module_version": "1.5.0",
      "model_name": "LabelModel",
      "state": {
       "layout": "IPY_MODEL_7351cde1dd4c4430a66df8a785dcfc72",
       "style": "IPY_MODEL_5be30548337b476d815a7e712d9805b9",
       "value": "https://sts.windows.net/72f988bf-86f1-41af-91ab-2d7cd011db47/"
      }
     },
     "dc43cd493aeb4690b211381314c2c541": {
      "model_module": "@jupyter-widgets/controls",
      "model_module_version": "1.5.0",
      "model_name": "DescriptionStyleModel",
      "state": {
       "description_width": ""
      }
     },
     "dc7333a07b8f4986a07a3810e2c614f8": {
      "model_module": "@jupyter-widgets/controls",
      "model_module_version": "1.5.0",
      "model_name": "DescriptionStyleModel",
      "state": {
       "description_width": ""
      }
     },
     "dc82efdc907941c78974def142084b59": {
      "model_module": "@jupyter-widgets/controls",
      "model_module_version": "1.5.0",
      "model_name": "HTMLModel",
      "state": {
       "layout": "IPY_MODEL_576c78f8af31433ab0778bd4145fe0ae",
       "style": "IPY_MODEL_1a6ed1f9edae46839ed288bc80dd380c",
       "value": "<b>databricks:</b>"
      }
     },
     "dc8c2807b28b41678726c5c31fd75450": {
      "model_module": "@jupyter-widgets/controls",
      "model_module_version": "1.5.0",
      "model_name": "DescriptionStyleModel",
      "state": {
       "description_width": ""
      }
     },
     "dccbdf21b1e24222814589e3eb01eee7": {
      "model_module": "@jupyter-widgets/base",
      "model_module_version": "1.2.0",
      "model_name": "LayoutModel",
      "state": {}
     },
     "de18d48f6a9940c8b7a4057be3d101c8": {
      "model_module": "@jupyter-widgets/base",
      "model_module_version": "1.2.0",
      "model_name": "LayoutModel",
      "state": {}
     },
     "de4d1f9f95844f8abf654a8c41e1fe6f": {
      "model_module": "@jupyter-widgets/controls",
      "model_module_version": "1.5.0",
      "model_name": "DescriptionStyleModel",
      "state": {
       "description_width": ""
      }
     },
     "defcc9a79a2549a9814b0cb78ed6aebd": {
      "model_module": "@jupyter-widgets/controls",
      "model_module_version": "1.5.0",
      "model_name": "DescriptionStyleModel",
      "state": {
       "description_width": ""
      }
     },
     "df1aab450085471f9325d3c84b4f8547": {
      "model_module": "@jupyter-widgets/controls",
      "model_module_version": "1.5.0",
      "model_name": "HBoxModel",
      "state": {
       "children": [
        "IPY_MODEL_5de198920b7746869b8244d759681a0d",
        "IPY_MODEL_67400de19a09435386c031aa8cb473e0"
       ],
       "layout": "IPY_MODEL_4173500505b7497e94cffb77337b4c22"
      }
     },
     "df52710971704265a2d146aa25c77afb": {
      "model_module": "@jupyter-widgets/base",
      "model_module_version": "1.2.0",
      "model_name": "LayoutModel",
      "state": {}
     },
     "dfed64943468427d9ffe8d467e2d548c": {
      "model_module": "@jupyter-widgets/base",
      "model_module_version": "1.2.0",
      "model_name": "LayoutModel",
      "state": {}
     },
     "e0539d4485624d898a559be829c0f598": {
      "model_module": "@jupyter-widgets/base",
      "model_module_version": "1.2.0",
      "model_name": "LayoutModel",
      "state": {}
     },
     "e06b331d0b14436d971da853e77de9e1": {
      "model_module": "@jupyter-widgets/controls",
      "model_module_version": "1.5.0",
      "model_name": "HBoxModel",
      "state": {
       "children": [
        "IPY_MODEL_44e397358c4c44e8934776be29974fbf",
        "IPY_MODEL_6d42e3eb3ee942cd8d7e59482f1b9825"
       ],
       "layout": "IPY_MODEL_ead51af9ad2042eba2d68ef0387d397a"
      }
     },
     "e07f6534ad6f4287825902aab480f13c": {
      "model_module": "@jupyter-widgets/controls",
      "model_module_version": "1.5.0",
      "model_name": "DescriptionStyleModel",
      "state": {
       "description_width": ""
      }
     },
     "e09d3f9e53d54212b4515d4dcf30ce63": {
      "model_module": "@jupyter-widgets/controls",
      "model_module_version": "1.5.0",
      "model_name": "DescriptionStyleModel",
      "state": {
       "description_width": ""
      }
     },
     "e0e95b19ecbb4662a2c1b24534d1d104": {
      "model_module": "@jupyter-widgets/base",
      "model_module_version": "1.2.0",
      "model_name": "LayoutModel",
      "state": {}
     },
     "e0ef73e1a67b4321b6c3133ed4b7560b": {
      "model_module": "@jupyter-widgets/controls",
      "model_module_version": "1.5.0",
      "model_name": "DescriptionStyleModel",
      "state": {
       "description_width": ""
      }
     },
     "e189ff1ab3ad4057aac26badef4266a6": {
      "model_module": "@jupyter-widgets/base",
      "model_module_version": "1.2.0",
      "model_name": "LayoutModel",
      "state": {}
     },
     "e1beafc800004ac2af3a2c5335602df9": {
      "model_module": "@jupyter-widgets/base",
      "model_module_version": "1.2.0",
      "model_name": "LayoutModel",
      "state": {}
     },
     "e1ed55e532db4689b0cd7bc40b7b9d7c": {
      "model_module": "@jupyter-widgets/controls",
      "model_module_version": "1.5.0",
      "model_name": "HBoxModel",
      "state": {
       "children": [
        "IPY_MODEL_8e8ba31574dd4af3a520acea40b39f95",
        "IPY_MODEL_ad6fd61b9ad04cf7942dac137b75ad90"
       ],
       "layout": "IPY_MODEL_75b1a8a885a641da84c8af785d996134"
      }
     },
     "e24c62474dc44d47b7b59d90e8b39143": {
      "model_module": "@jupyter-widgets/base",
      "model_module_version": "1.2.0",
      "model_name": "LayoutModel",
      "state": {}
     },
     "e25170f1e89a46f2bf81b93b82adc009": {
      "model_module": "@jupyter-widgets/base",
      "model_module_version": "1.2.0",
      "model_name": "LayoutModel",
      "state": {}
     },
     "e391f39af2c046159ca0f8d125a41b24": {
      "model_module": "@jupyter-widgets/controls",
      "model_module_version": "1.5.0",
      "model_name": "LabelModel",
      "state": {
       "layout": "IPY_MODEL_7e4af02cd8174874a1a47a247eb38f5a",
       "style": "IPY_MODEL_c2e4375f63874f6db7724b01c2352ebc",
       "value": "Autosave_2020-03-17T04:20:30Z_38325591"
      }
     },
     "e3998ee08f064782af9253224a99479d": {
      "model_module": "@jupyter-widgets/controls",
      "model_module_version": "1.5.0",
      "model_name": "HTMLModel",
      "state": {
       "layout": "IPY_MODEL_d6c43f41497d4b52bac59c961a8657b3",
       "style": "IPY_MODEL_3558ecbaffa043ba8a27727df17f5d0f",
       "value": "<b>versionType:</b>"
      }
     },
     "e3b64adb101944ae80383be35c49d36a": {
      "model_module": "@jupyter-widgets/controls",
      "model_module_version": "1.5.0",
      "model_name": "HTMLModel",
      "state": {
       "layout": "IPY_MODEL_fb006f5f48e445e5a7e0cfe9218596ca",
       "style": "IPY_MODEL_854b0c14a15b4136b9ec7361b0ebd75c",
       "value": "<b>refreshPeriodInSeconds:</b>"
      }
     },
     "e3e14a52f0e542c1b5e2a0655a0eca2c": {
      "model_module": "@jupyter-widgets/base",
      "model_module_version": "1.2.0",
      "model_name": "LayoutModel",
      "state": {}
     },
     "e4760bacb4c145aca482268d3c792d5c": {
      "model_module": "@jupyter-widgets/base",
      "model_module_version": "1.2.0",
      "model_name": "LayoutModel",
      "state": {}
     },
     "e4948ee5efae4977a80732b7ba05f7ce": {
      "model_module": "@jupyter-widgets/controls",
      "model_module_version": "1.5.0",
      "model_name": "HTMLModel",
      "state": {
       "layout": "IPY_MODEL_1d27ee42ce184f2cbc56ea2476d6a248",
       "style": "IPY_MODEL_ac7962a4d9c14e4980cc0519f9564237",
       "value": "<b>description:</b>"
      }
     },
     "e4a64b1f356e4d11a072eaac8839f7d7": {
      "model_module": "@jupyter-widgets/base",
      "model_module_version": "1.2.0",
      "model_name": "LayoutModel",
      "state": {}
     },
     "e4f39bf1246a4566bbabc426c450756b": {
      "model_module": "@jupyter-widgets/base",
      "model_module_version": "1.2.0",
      "model_name": "LayoutModel",
      "state": {}
     },
     "e531d5b11e5f44ddafc2998ad48ff77f": {
      "model_module": "@jupyter-widgets/base",
      "model_module_version": "1.2.0",
      "model_name": "LayoutModel",
      "state": {}
     },
     "e5387381401040b9afb9e28d4ab09f75": {
      "model_module": "@jupyter-widgets/base",
      "model_module_version": "1.2.0",
      "model_name": "LayoutModel",
      "state": {}
     },
     "e57ca885d2b94bf596ff83a61dff2dab": {
      "model_module": "@jupyter-widgets/controls",
      "model_module_version": "1.5.0",
      "model_name": "DescriptionStyleModel",
      "state": {
       "description_width": ""
      }
     },
     "e5af574dbd484e1e84846591c482eda5": {
      "model_module": "@jupyter-widgets/controls",
      "model_module_version": "1.5.0",
      "model_name": "LabelModel",
      "state": {
       "layout": "IPY_MODEL_8afec3fba0524ae885944e53c81134a9",
       "style": "IPY_MODEL_55ab41a6af82427e8c65c0093f8cdc13",
       "value": "None"
      }
     },
     "e5c9d891b9ba47aba20057933caabc5f": {
      "model_module": "@jupyter-widgets/controls",
      "model_module_version": "1.5.0",
      "model_name": "HBoxModel",
      "state": {
       "children": [
        "IPY_MODEL_a7607016b5c04aa0abd69c0b1d884ec4",
        "IPY_MODEL_1d40afb510a1457692718d87d1837578"
       ],
       "layout": "IPY_MODEL_95e156f7d0ce492ebf9b111140a25fc1"
      }
     },
     "e5e57c60bec043909eeb6ae5593f88e0": {
      "model_module": "@jupyter-widgets/controls",
      "model_module_version": "1.5.0",
      "model_name": "HTMLModel",
      "state": {
       "layout": "IPY_MODEL_e5387381401040b9afb9e28d4ab09f75",
       "style": "IPY_MODEL_ecfbb02808674bc39fa60feb2ebe1273",
       "value": "<b>url:</b>"
      }
     },
     "e668ce6203b04302906394079f30d88b": {
      "model_module": "@jupyter-widgets/controls",
      "model_module_version": "1.5.0",
      "model_name": "HBoxModel",
      "state": {
       "children": [
        "IPY_MODEL_0875aea7f3524494803b35e1d7172195",
        "IPY_MODEL_69d532c7b7524c97973702beff1d99ba"
       ],
       "layout": "IPY_MODEL_f1d44246a05e407d9a6ecef3cd05216d"
      }
     },
     "e724da5cebdc4aec8e702189620e2666": {
      "model_module": "@jupyter-widgets/base",
      "model_module_version": "1.2.0",
      "model_name": "LayoutModel",
      "state": {}
     },
     "e798efaeed4b4e24b5cb68ecf120c253": {
      "model_module": "@jupyter-widgets/base",
      "model_module_version": "1.2.0",
      "model_name": "LayoutModel",
      "state": {}
     },
     "e7c19bad01a14018b43217f1ea316b27": {
      "model_module": "@jupyter-widgets/controls",
      "model_module_version": "1.5.0",
      "model_name": "HBoxModel",
      "state": {
       "children": [
        "IPY_MODEL_5476ca88ff1e492790e3a36311e3b350",
        "IPY_MODEL_4d45ceecca4342b396d19625859cbc72"
       ],
       "layout": "IPY_MODEL_c74db4b19f3f4802968f615fc6f6e446"
      }
     },
     "e80a316d824b44c8a8da4c6b9c05b071": {
      "model_module": "@jupyter-widgets/controls",
      "model_module_version": "1.5.0",
      "model_name": "HBoxModel",
      "state": {
       "children": [
        "IPY_MODEL_79aeb400041f48dbb9e73c1e5397cec6",
        "IPY_MODEL_43637a0b7df24ec69911eb1787fc37fa"
       ],
       "layout": "IPY_MODEL_2ee8ce1a0b0b481c9d0be85274060e7d"
      }
     },
     "e82ee2d03ed548a79501f26a42e8f304": {
      "model_module": "@jupyter-widgets/controls",
      "model_module_version": "1.5.0",
      "model_name": "HBoxModel",
      "state": {
       "children": [
        "IPY_MODEL_58bbb1b05ae04b2395c621802832ee21",
        "IPY_MODEL_4ff19a19621b4d50950592de131639e0"
       ],
       "layout": "IPY_MODEL_b64aa3a47e0e48bbac063cf0e1084ab1"
      }
     },
     "e8376b4a57f4494890645f5d6a2ea5cc": {
      "model_module": "@jupyter-widgets/base",
      "model_module_version": "1.2.0",
      "model_name": "LayoutModel",
      "state": {}
     },
     "e872df40657e41e6bdf3e777ac6ee56b": {
      "model_module": "@jupyter-widgets/controls",
      "model_module_version": "1.5.0",
      "model_name": "DescriptionStyleModel",
      "state": {
       "description_width": ""
      }
     },
     "e8dd1d3797fb49d4aae6522f9db2f214": {
      "model_module": "@jupyter-widgets/controls",
      "model_module_version": "1.5.0",
      "model_name": "DescriptionStyleModel",
      "state": {
       "description_width": ""
      }
     },
     "e916af920c45447a9084ec3e9a692abe": {
      "model_module": "@jupyter-widgets/base",
      "model_module_version": "1.2.0",
      "model_name": "LayoutModel",
      "state": {}
     },
     "e9f3c85d08184c11a7c7a8c814852cce": {
      "model_module": "@jupyter-widgets/base",
      "model_module_version": "1.2.0",
      "model_name": "LayoutModel",
      "state": {}
     },
     "ea0568a42e074b68a7a2f50efaeffb61": {
      "model_module": "@jupyter-widgets/controls",
      "model_module_version": "1.5.0",
      "model_name": "DescriptionStyleModel",
      "state": {
       "description_width": ""
      }
     },
     "ea131cebf72845f48b0ca4c3ca3cff42": {
      "model_module": "@jupyter-widgets/base",
      "model_module_version": "1.2.0",
      "model_name": "LayoutModel",
      "state": {}
     },
     "ea4fd326715a4134ad948a4b990cb5ce": {
      "model_module": "@jupyter-widgets/controls",
      "model_module_version": "1.5.0",
      "model_name": "DescriptionStyleModel",
      "state": {
       "description_width": ""
      }
     },
     "ea530a9ab4414b7e95dc0db13eede9bc": {
      "model_module": "@jupyter-widgets/controls",
      "model_module_version": "1.5.0",
      "model_name": "LabelModel",
      "state": {
       "layout": "IPY_MODEL_96cd60bb948948449c0b3f060873a054",
       "style": "IPY_MODEL_7b870fb20cd04c4b856d3566335306fb",
       "value": "120"
      }
     },
     "ead51af9ad2042eba2d68ef0387d397a": {
      "model_module": "@jupyter-widgets/base",
      "model_module_version": "1.2.0",
      "model_name": "LayoutModel",
      "state": {}
     },
     "eb078e4968854a28a2f7c8bafad0496e": {
      "model_module": "@jupyter-widgets/controls",
      "model_module_version": "1.5.0",
      "model_name": "DescriptionStyleModel",
      "state": {
       "description_width": ""
      }
     },
     "eb0fafd3f83d4c7fafe62f2e0458efb4": {
      "model_module": "@jupyter-widgets/controls",
      "model_module_version": "1.5.0",
      "model_name": "HTMLModel",
      "state": {
       "layout": "IPY_MODEL_67b8668e4e9542478094bcd34c0ab012",
       "style": "IPY_MODEL_9cc0af8f17a840e887394f3eaaca0d38",
       "value": "<img src=\"https://raw.githubusercontent.com/microsoft/AI-Utilities/master/docs/app_insights_1.png\">"
      }
     },
     "ebc2110713b241bda809959fc347ef4a": {
      "model_module": "@jupyter-widgets/controls",
      "model_module_version": "1.5.0",
      "model_name": "HTMLModel",
      "state": {
       "layout": "IPY_MODEL_3bbb2abedbd046c1a617f16adfe068b5",
       "style": "IPY_MODEL_371b3eae9bcc4189974adc315afef669",
       "value": "<b>scoringUri:</b>"
      }
     },
     "ebf2b559a6a54bf7a45f5c9da90747c4": {
      "model_module": "@jupyter-widgets/controls",
      "model_module_version": "1.5.0",
      "model_name": "LabelModel",
      "state": {
       "layout": "IPY_MODEL_d08dc0bebc4a40bcbee2d840247bb098",
       "style": "IPY_MODEL_5c67111350c642fd92996014b917dda0",
       "value": "dciborow/no-cli"
      }
     },
     "ec1d8a4684d441f0a0c5a2b1309d095e": {
      "model_module": "@jupyter-widgets/controls",
      "model_module_version": "1.5.0",
      "model_name": "DescriptionStyleModel",
      "state": {
       "description_width": ""
      }
     },
     "ec63274f52a34fb4b4f9d210e3aa559a": {
      "model_module": "@jupyter-widgets/controls",
      "model_module_version": "1.5.0",
      "model_name": "HBoxModel",
      "state": {
       "children": [
        "IPY_MODEL_00ec456b4bee49daba8df2c3f84bdc8d",
        "IPY_MODEL_f614b65b36c04054b6b329f48b47c73f"
       ],
       "layout": "IPY_MODEL_92e3b4f58a7d44a8abfdca65f9d120d5"
      }
     },
     "ec94c4db6e5d48c4bcf74693615a8832": {
      "model_module": "@jupyter-widgets/base",
      "model_module_version": "1.2.0",
      "model_name": "LayoutModel",
      "state": {}
     },
     "ecfbb02808674bc39fa60feb2ebe1273": {
      "model_module": "@jupyter-widgets/controls",
      "model_module_version": "1.5.0",
      "model_name": "DescriptionStyleModel",
      "state": {
       "description_width": ""
      }
     },
     "ed09bfc32ce740a3a8262fc5bbe47628": {
      "model_module": "@jupyter-widgets/controls",
      "model_module_version": "1.5.0",
      "model_name": "LabelModel",
      "state": {
       "layout": "IPY_MODEL_64ec111c698540af8bf353396c0b92b1",
       "style": "IPY_MODEL_d66d0a332a594386b413a9c490aec6cf",
       "value": "72f988bf-86f1-41af-91ab-2d7cd011db47"
      }
     },
     "ed83e383be49453291bda72e5ab6f2bf": {
      "model_module": "@jupyter-widgets/controls",
      "model_module_version": "1.5.0",
      "model_name": "DescriptionStyleModel",
      "state": {
       "description_width": ""
      }
     },
     "edc1642402374a778a781e52693101c2": {
      "model_module": "@jupyter-widgets/base",
      "model_module_version": "1.2.0",
      "model_name": "LayoutModel",
      "state": {}
     },
     "edd0383624e749c09d8e0fa6f1a3ad1f": {
      "model_module": "@jupyter-widgets/controls",
      "model_module_version": "1.5.0",
      "model_name": "HTMLModel",
      "state": {
       "layout": "IPY_MODEL_5ae72e2e38d34569a713ef1353ddb7e5",
       "style": "IPY_MODEL_7dda1d17c7c34067811b05cb9106b0fd",
       "value": "<b>autoscaleEnabled:</b>"
      }
     },
     "ee1c79a1d10243f5b5ab48f2f72e75d0": {
      "model_module": "@jupyter-widgets/controls",
      "model_module_version": "1.5.0",
      "model_name": "DescriptionStyleModel",
      "state": {
       "description_width": ""
      }
     },
     "eeb5dbe0d9f24c7c8307bf0d6bbb4ca4": {
      "model_module": "@jupyter-widgets/base",
      "model_module_version": "1.2.0",
      "model_name": "LayoutModel",
      "state": {}
     },
     "eeda9c5154e34fc7aafcd1ff72862b67": {
      "model_module": "@jupyter-widgets/controls",
      "model_module_version": "1.5.0",
      "model_name": "DescriptionStyleModel",
      "state": {
       "description_width": ""
      }
     },
     "eeea37ce5b6e4cacbdcdb38cde31bd0a": {
      "model_module": "@jupyter-widgets/controls",
      "model_module_version": "1.5.0",
      "model_name": "VBoxModel",
      "state": {
       "children": [
        "IPY_MODEL_348545e2599c4bd6939f39df65f925ad",
        "IPY_MODEL_ac3fbbf507874d35a035d6a0afed658e",
        "IPY_MODEL_01a64b0cbeb444539a8e8ebd4a9a6b2b",
        "IPY_MODEL_1b4e095463114c31a84f7ba90c0fd2aa",
        "IPY_MODEL_a254dfaa8e22490195f2eda243a95c12",
        "IPY_MODEL_e80a316d824b44c8a8da4c6b9c05b071",
        "IPY_MODEL_998a2b51174d4bd08e3d78cbf01390c7",
        "IPY_MODEL_1ad52a1968ce45ca9a7f35b7ed2e1ad6",
        "IPY_MODEL_7aa78b2c4d31421693c9578d8609865d",
        "IPY_MODEL_ae676988f840432999560cab9803fb71",
        "IPY_MODEL_837051c734be41f69f7fbd5833fb6d10",
        "IPY_MODEL_90139d5d62ed4687883d7f8941573807",
        "IPY_MODEL_2fa113c4d7934d82b02ec6eaad47b27b",
        "IPY_MODEL_5273badea43842e5bb413f457055879f",
        "IPY_MODEL_800adf10afa443dbaf60dd8d73505a11",
        "IPY_MODEL_f43fb191c7134e9290f934e457b5acb2",
        "IPY_MODEL_03bcb5221c5640459de066662dd31479"
       ],
       "layout": "IPY_MODEL_bdababb2c6f0450aabf59c2ce68afb6e"
      }
     },
     "ef284cde26bc40f3abc777939cbdb960": {
      "model_module": "@jupyter-widgets/base",
      "model_module_version": "1.2.0",
      "model_name": "LayoutModel",
      "state": {}
     },
     "ef4bfeec23184e019752bf9903967d83": {
      "model_module": "@jupyter-widgets/controls",
      "model_module_version": "1.5.0",
      "model_name": "TextModel",
      "state": {
       "description": "deep_aks_service_name",
       "layout": "IPY_MODEL_ec94c4db6e5d48c4bcf74693615a8832",
       "placeholder": "AKS Service Name",
       "style": "IPY_MODEL_626c01fd71634e2abf8057911e9579ea",
       "value": "deepaksservice3"
      }
     },
     "f01312898b6e40f5abd2723f3aa85711": {
      "model_module": "@jupyter-widgets/base",
      "model_module_version": "1.2.0",
      "model_name": "LayoutModel",
      "state": {}
     },
     "f1023c3329564871b07668fbc59e972f": {
      "model_module": "@jupyter-widgets/controls",
      "model_module_version": "1.5.0",
      "model_name": "HTMLModel",
      "state": {
       "layout": "IPY_MODEL_139628bbfec94a608ffe5127edcb1032",
       "style": "IPY_MODEL_2dfa3910fef44a6fb3fead60c5043a41",
       "value": "<b>version:</b>"
      }
     },
     "f13b676ac2754aa2929de571e865ddd3": {
      "model_module": "@jupyter-widgets/controls",
      "model_module_version": "1.5.0",
      "model_name": "HTMLModel",
      "state": {
       "layout": "IPY_MODEL_038e2746dedf49f4a211fcd24ad7f4ed",
       "style": "IPY_MODEL_5a51a1f2b2d54cb6ac257a139a1caec4",
       "value": "<b>userPuId:</b>"
      }
     },
     "f165718a4d534c97b184ac47cc5e8a0c": {
      "model_module": "@jupyter-widgets/base",
      "model_module_version": "1.2.0",
      "model_name": "LayoutModel",
      "state": {}
     },
     "f177c6f74ae243ea9cf5d5c79a1c78a6": {
      "model_module": "@jupyter-widgets/controls",
      "model_module_version": "1.5.0",
      "model_name": "DescriptionStyleModel",
      "state": {
       "description_width": ""
      }
     },
     "f1d44246a05e407d9a6ecef3cd05216d": {
      "model_module": "@jupyter-widgets/base",
      "model_module_version": "1.2.0",
      "model_name": "LayoutModel",
      "state": {}
     },
     "f24155d774f44901b978dd5f0bdbe3f7": {
      "model_module": "@jupyter-widgets/base",
      "model_module_version": "1.2.0",
      "model_name": "LayoutModel",
      "state": {}
     },
     "f247d67b5ff8450e8bd4cd8a4b161017": {
      "model_module": "@jupyter-widgets/controls",
      "model_module_version": "1.5.0",
      "model_name": "AccordionModel",
      "state": {
       "_titles": {
        "0": "autoScaler"
       },
       "children": [
        "IPY_MODEL_92d4313f811d4cddba110ed67b76fc74"
       ],
       "layout": "IPY_MODEL_f24155d774f44901b978dd5f0bdbe3f7"
      }
     },
     "f25988a982234c8aabf0f68f99aa6c51": {
      "model_module": "@jupyter-widgets/controls",
      "model_module_version": "1.5.0",
      "model_name": "TabModel",
      "state": {
       "_titles": {
        "0": "ML Studio",
        "1": "Kubernetes",
        "2": "Application Insights"
       },
       "children": [
        "IPY_MODEL_21d511d6d4884541b3e89288a6de434f",
        "IPY_MODEL_1a2669243178455abc504207170bb05d",
        "IPY_MODEL_93054a72271d4d90a476ffd9b1e41ae3"
       ],
       "layout": "IPY_MODEL_6cb9a3382a1b46f3a1ee65cb05f4cc38"
      }
     },
     "f2ce71548f944d49b4599206bd9a6d0b": {
      "model_module": "@jupyter-widgets/base",
      "model_module_version": "1.2.0",
      "model_name": "LayoutModel",
      "state": {}
     },
     "f2f3fa536d664cdf9d77f2b638827731": {
      "model_module": "@jupyter-widgets/controls",
      "model_module_version": "1.5.0",
      "model_name": "HTMLModel",
      "state": {
       "layout": "IPY_MODEL_717d003cd91f471e9bfe8bd1f95d78e9",
       "style": "IPY_MODEL_ec1d8a4684d441f0a0c5a2b1309d095e",
       "value": "<b>azureml.git.commit:</b>"
      }
     },
     "f39494e0c0f14af9bcebab9fad19f174": {
      "model_module": "@jupyter-widgets/controls",
      "model_module_version": "1.5.0",
      "model_name": "DescriptionStyleModel",
      "state": {
       "description_width": ""
      }
     },
     "f3d916707fa64d62ab8cfdc419acb76c": {
      "model_module": "@jupyter-widgets/controls",
      "model_module_version": "1.5.0",
      "model_name": "HTMLModel",
      "state": {
       "layout": "IPY_MODEL_f2ce71548f944d49b4599206bd9a6d0b",
       "style": "IPY_MODEL_ce33d12093b84ce2823f8eacf8f8b4f3",
       "value": "<b>runId:</b>"
      }
     },
     "f4245bc721bb4ae3825bdc7d0f6f3bbe": {
      "model_module": "@jupyter-widgets/controls",
      "model_module_version": "1.5.0",
      "model_name": "AccordionModel",
      "state": {
       "_titles": {
        "0": "createdBy"
       },
       "children": [
        "IPY_MODEL_7f423b1918874db7b13332172867ccf5"
       ],
       "layout": "IPY_MODEL_d618c18fd1854c51b9f25f1cf52d25f3"
      }
     },
     "f43fb191c7134e9290f934e457b5acb2": {
      "model_module": "@jupyter-widgets/controls",
      "model_module_version": "1.5.0",
      "model_name": "HBoxModel",
      "state": {
       "children": [
        "IPY_MODEL_4942738bde614c83a229a6c3a4120a2d",
        "IPY_MODEL_6c2223db519544e590bd7df77da0a0b6"
       ],
       "layout": "IPY_MODEL_e798efaeed4b4e24b5cb68ecf120c253"
      }
     },
     "f475c81d960949d884bdf57a77c94feb": {
      "model_module": "@jupyter-widgets/base",
      "model_module_version": "1.2.0",
      "model_name": "LayoutModel",
      "state": {}
     },
     "f4a3e57b869d4f0ea72889471db4b251": {
      "model_module": "@jupyter-widgets/base",
      "model_module_version": "1.2.0",
      "model_name": "LayoutModel",
      "state": {}
     },
     "f4a9a57a928840ac84f5d5534b86ab09": {
      "model_module": "@jupyter-widgets/base",
      "model_module_version": "1.2.0",
      "model_name": "LayoutModel",
      "state": {}
     },
     "f4b21cbafc5640089e9baa411db45dc1": {
      "model_module": "@jupyter-widgets/controls",
      "model_module_version": "1.5.0",
      "model_name": "HBoxModel",
      "state": {
       "children": [
        "IPY_MODEL_1a09c2850d694540a4a3192ae90f6103",
        "IPY_MODEL_ba325358b820444b8a7aa36a1f8839d9"
       ],
       "layout": "IPY_MODEL_24607634c536435c81c2a80aefeab540"
      }
     },
     "f5087881c98648eab669dc11c02ee271": {
      "model_module": "@jupyter-widgets/controls",
      "model_module_version": "1.5.0",
      "model_name": "HTMLModel",
      "state": {
       "layout": "IPY_MODEL_0c25b10dfe60445ab53d4518058ef934",
       "style": "IPY_MODEL_cce841329532484095d3fe4987e4cdc6",
       "value": "<b>successThreshold:</b>"
      }
     },
     "f57b445d0cb648a1a17a2083720d45de": {
      "model_module": "@jupyter-widgets/controls",
      "model_module_version": "1.5.0",
      "model_name": "TextModel",
      "state": {
       "description": "image_name",
       "layout": "IPY_MODEL_e4a64b1f356e4d11a072eaac8839f7d7",
       "placeholder": "Docker Container Image Name",
       "style": "IPY_MODEL_8bf6ab7b41da4d4280e08a36f76a37cd",
       "value": "mymlimage3"
      }
     },
     "f614b65b36c04054b6b329f48b47c73f": {
      "model_module": "@jupyter-widgets/controls",
      "model_module_version": "1.5.0",
      "model_name": "LabelModel",
      "state": {
       "layout": "IPY_MODEL_296968ccc71b4fc3bf4bed80996f164a",
       "style": "IPY_MODEL_fe130b7fcf9c46419307b48c13c8b947",
       "value": "None"
      }
     },
     "f6452ed974f2458581ab0e0361b3236d": {
      "model_module": "@jupyter-widgets/base",
      "model_module_version": "1.2.0",
      "model_name": "LayoutModel",
      "state": {}
     },
     "f64a72c78ed84d9fa0920b2f82ab983f": {
      "model_module": "@jupyter-widgets/controls",
      "model_module_version": "1.5.0",
      "model_name": "DescriptionStyleModel",
      "state": {
       "description_width": ""
      }
     },
     "f64e8db64560440ba8456c447ba98e93": {
      "model_module": "@jupyter-widgets/base",
      "model_module_version": "1.2.0",
      "model_name": "LayoutModel",
      "state": {}
     },
     "f704e75c17124651a6c9bed8baa0b328": {
      "model_module": "@jupyter-widgets/base",
      "model_module_version": "1.2.0",
      "model_name": "LayoutModel",
      "state": {}
     },
     "f79ba183afb14abd80b89f583316647f": {
      "model_module": "@jupyter-widgets/controls",
      "model_module_version": "1.5.0",
      "model_name": "DescriptionStyleModel",
      "state": {
       "description_width": ""
      }
     },
     "f7c1ed15e93f4744a0d6a5210ff7ab33": {
      "model_module": "@jupyter-widgets/controls",
      "model_module_version": "1.5.0",
      "model_name": "HBoxModel",
      "state": {
       "children": [
        "IPY_MODEL_8cc460716da242f7a216eaae4e0384b2",
        "IPY_MODEL_ebf2b559a6a54bf7a45f5c9da90747c4"
       ],
       "layout": "IPY_MODEL_0d610c02e76549cd9c5783007b3d926c"
      }
     },
     "f7f64ed794b44eac89f287f0aa392cea": {
      "model_module": "@jupyter-widgets/controls",
      "model_module_version": "1.5.0",
      "model_name": "DescriptionStyleModel",
      "state": {
       "description_width": ""
      }
     },
     "f8265495ecea474e8cb57c2830e410d7": {
      "model_module": "@jupyter-widgets/controls",
      "model_module_version": "1.5.0",
      "model_name": "HBoxModel",
      "state": {
       "children": [
        "IPY_MODEL_93c53b28f2ea47d799edf721e57aef10",
        "IPY_MODEL_8b1c2b1c24f34ab8a1eca27aa12c847f"
       ],
       "layout": "IPY_MODEL_8246291f589a4742b2b3f13518298009"
      }
     },
     "f8c026869b9d4bb3aa5cfd61651405e0": {
      "model_module": "@jupyter-widgets/base",
      "model_module_version": "1.2.0",
      "model_name": "LayoutModel",
      "state": {}
     },
     "f921c01c25b6438e95101b4e697e3a65": {
      "model_module": "@jupyter-widgets/controls",
      "model_module_version": "1.5.0",
      "model_name": "HTMLModel",
      "state": {
       "layout": "IPY_MODEL_c257f1718c0747c5a230f9b82546d7ee",
       "style": "IPY_MODEL_1fe482e60de1405dae74bda9cc15620e",
       "value": "<b>environmentVariables:</b>"
      }
     },
     "fa13e0b4d2c84bf186c948370e708811": {
      "model_module": "@jupyter-widgets/controls",
      "model_module_version": "1.5.0",
      "model_name": "LabelModel",
      "state": {
       "layout": "IPY_MODEL_56f46366731a475e9f67f5437761a130",
       "style": "IPY_MODEL_1794d548f68746f3bdbb9b2bc61ebda5",
       "value": "https://sts.windows.net/72f988bf-86f1-41af-91ab-2d7cd011db47/"
      }
     },
     "fa3d25736e944ef59946528058c28f1d": {
      "model_module": "@jupyter-widgets/controls",
      "model_module_version": "1.5.0",
      "model_name": "HBoxModel",
      "state": {
       "children": [
        "IPY_MODEL_3c64b4fe46b1419b9403851368f890fa",
        "IPY_MODEL_714b4a5bd04049a98adbbd03b248e6e4"
       ],
       "layout": "IPY_MODEL_e9f3c85d08184c11a7c7a8c814852cce"
      }
     },
     "fa6dfaf2863a44279291fdec1831f71c": {
      "model_module": "@jupyter-widgets/base",
      "model_module_version": "1.2.0",
      "model_name": "LayoutModel",
      "state": {}
     },
     "faa1842f0c3b412898057019c33d00e3": {
      "model_module": "@jupyter-widgets/controls",
      "model_module_version": "1.5.0",
      "model_name": "DescriptionStyleModel",
      "state": {
       "description_width": ""
      }
     },
     "faa3dff9761e40e891116f12ec829015": {
      "model_module": "@jupyter-widgets/base",
      "model_module_version": "1.2.0",
      "model_name": "LayoutModel",
      "state": {}
     },
     "fab9fb130ec249a8ac4e35ceb28345aa": {
      "model_module": "@jupyter-widgets/controls",
      "model_module_version": "1.5.0",
      "model_name": "HBoxModel",
      "state": {
       "children": [
        "IPY_MODEL_465feef05f8a4bcbada72432617064b2",
        "IPY_MODEL_8dfcee903c8c4be6bec9b46e71bca9d8"
       ],
       "layout": "IPY_MODEL_6db3d13b88e846f7883e651118930421"
      }
     },
     "fb006f5f48e445e5a7e0cfe9218596ca": {
      "model_module": "@jupyter-widgets/base",
      "model_module_version": "1.2.0",
      "model_name": "LayoutModel",
      "state": {}
     },
     "fb039722e60a4b28af2794ede4cfd86b": {
      "model_module": "@jupyter-widgets/controls",
      "model_module_version": "1.5.0",
      "model_name": "HBoxModel",
      "state": {
       "children": [
        "IPY_MODEL_9493c4c1063047a6894ef26f6e66322c",
        "IPY_MODEL_57ead394acc14b01a7c00ccfac8ed5b9"
       ],
       "layout": "IPY_MODEL_574a0d0b68cf49a2b9130dc2b8e3e56c"
      }
     },
     "fb9f5e62a94346839d4b30e9e3c56e28": {
      "model_module": "@jupyter-widgets/controls",
      "model_module_version": "1.5.0",
      "model_name": "LabelModel",
      "state": {
       "layout": "IPY_MODEL_2232f7a9fd09404fbab3619bc2f5da52",
       "style": "IPY_MODEL_53c2c11aec654875865eee8a36104531",
       "value": "None"
      }
     },
     "fbe0f0310c3b4cc9bcbec6dff375f6ab": {
      "model_module": "@jupyter-widgets/controls",
      "model_module_version": "1.5.0",
      "model_name": "HBoxModel",
      "state": {
       "children": [
        "IPY_MODEL_e3998ee08f064782af9253224a99479d",
        "IPY_MODEL_5fa330a8a03649c29378f0f166f683df"
       ],
       "layout": "IPY_MODEL_38033d4398644756a83f5dd19cb30d7d"
      }
     },
     "fc5dd8b0407645beb90ad9b8c8afbf46": {
      "model_module": "@jupyter-widgets/base",
      "model_module_version": "1.2.0",
      "model_name": "LayoutModel",
      "state": {}
     },
     "fc6b48d8bd4b4126ba273ff4bfc00f89": {
      "model_module": "@jupyter-widgets/base",
      "model_module_version": "1.2.0",
      "model_name": "LayoutModel",
      "state": {}
     },
     "fcfc35c48e13428eb343d9d4489ffcda": {
      "model_module": "@jupyter-widgets/controls",
      "model_module_version": "1.5.0",
      "model_name": "DescriptionStyleModel",
      "state": {
       "description_width": ""
      }
     },
     "fd7025bd08ca445ca93bae35d6dc376d": {
      "model_module": "@jupyter-widgets/controls",
      "model_module_version": "1.5.0",
      "model_name": "DescriptionStyleModel",
      "state": {
       "description_width": ""
      }
     },
     "fdeb3520473e4ad19b312c4f93800d1b": {
      "model_module": "@jupyter-widgets/base",
      "model_module_version": "1.2.0",
      "model_name": "LayoutModel",
      "state": {}
     },
     "fe0cb583d21447fca79922fbeec4d2b8": {
      "model_module": "@jupyter-widgets/base",
      "model_module_version": "1.2.0",
      "model_name": "LayoutModel",
      "state": {}
     },
     "fe130b7fcf9c46419307b48c13c8b947": {
      "model_module": "@jupyter-widgets/controls",
      "model_module_version": "1.5.0",
      "model_name": "DescriptionStyleModel",
      "state": {
       "description_width": ""
      }
     },
     "fe6f6e5eae344921902d8583c1b99294": {
      "model_module": "@jupyter-widgets/controls",
      "model_module_version": "1.5.0",
      "model_name": "DescriptionStyleModel",
      "state": {
       "description_width": ""
      }
     },
     "ff7f13426e594242bce762871364e7ac": {
      "model_module": "@jupyter-widgets/base",
      "model_module_version": "1.2.0",
      "model_name": "LayoutModel",
      "state": {}
     }
    },
    "version_major": 2,
    "version_minor": 0
   }
  }
 },
 "nbformat": 4,
 "nbformat_minor": 4
}
