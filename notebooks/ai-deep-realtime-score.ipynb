{
 "cells": [
  {
   "cell_type": "markdown",
   "metadata": {},
   "source": [
    "[![Azure Notebooks](https://notebooks.azure.com/launch.png)](https://notebooks.azure.com/import/gh/microsoft/AI-Utilities)\n",
    "[![Binder](https://mybinder.org/badge_logo.svg)](https://mybinder.org/v2/gh/microsoft/AI-Utilities/deep_learning_2?filepath=notebooks%2Fai-deep-realtime-score.ipynb)\n",
    "[![Open In Colab](https://colab.research.google.com/assets/colab-badge.svg)](http://colab.research.google.com/github/microsoft/AI-Utilities/blob/deep_learning_2/notebooks/ai-deep-realtime-score.ipynb)"
   ]
  },
  {
   "cell_type": "markdown",
   "metadata": {
    "toc": true
   },
   "source": [
    "<h1>Table of Contents<span class=\"tocSkip\"></span></h1>\n",
    "<div class=\"toc\"><ul class=\"toc-item\"><li><span><a href=\"#Deploy-Solution\" data-toc-modified-id=\"Deploy-Solution-1\">Deploy Solution</a></span><ul class=\"toc-item\"><li><span><a href=\"#Create-Configuration\" data-toc-modified-id=\"Create-Configuration-1.1\">Create Configuration</a></span></li><li><span><a href=\"#Create-Train.py\" data-toc-modified-id=\"Create-Train.py-1.2\">Create Train.py</a></span></li><li><span><a href=\"#Create-Score.py\" data-toc-modified-id=\"Create-Score.py-1.3\">Create Score.py</a></span></li><li><span><a href=\"#Deploy-to-Azure-Kubernetes-Service-with-Azure-ML\" data-toc-modified-id=\"Deploy-to-Azure-Kubernetes-Service-with-Azure-ML-1.4\">Deploy to Azure Kubernetes Service with Azure ML</a></span></li></ul></li><li><span><a href=\"#Deploy-Services\" data-toc-modified-id=\"Deploy-Services-2\">Deploy Services</a></span><ul class=\"toc-item\"><li><span><a href=\"#Machine-Learning-Studio\" data-toc-modified-id=\"Machine-Learning-Studio-2.1\">Machine Learning Studio</a></span></li><li><span><a href=\"#Kubernetes\" data-toc-modified-id=\"Kubernetes-2.2\">Kubernetes</a></span></li><li><span><a href=\"#Application-Insights\" data-toc-modified-id=\"Application-Insights-2.3\">Application Insights</a></span><ul class=\"toc-item\"><li><span><a href=\"#Main\" data-toc-modified-id=\"Main-2.3.1\">Main</a></span></li><li><span><a href=\"#Availability\" data-toc-modified-id=\"Availability-2.3.2\">Availability</a></span></li><li><span><a href=\"#Performance-Dashboard\" data-toc-modified-id=\"Performance-Dashboard-2.3.3\">Performance Dashboard</a></span></li><li><span><a href=\"#Load-Test\" data-toc-modified-id=\"Load-Test-2.3.4\">Load Test</a></span></li></ul></li></ul></li></ul></div>"
   ]
  },
  {
   "cell_type": "markdown",
   "metadata": {},
   "source": [
    "## Overview\n",
    "In the [az-deep-realtime-score repository](https://github.com/microsoft/az-deep-realtime-score) there are a number of tutorials in Jupyter notebooks that have step-by-step instructions on how to deploy a pretrained deep learning model on a GPU enabled Kubernetes cluster throught Azure Machine Learning (AzureML). The tutorials cover how to deploy models with the deep learning framework Keras (TensorFlow backend)\n",
    "\n",
    "![alt text](https://happypathspublic.blob.core.windows.net/aksdeploymenttutorialaml/example.png \"Example Classification\")\n",
    " \n",
    "We go through the following steps:\n",
    " * Create an AzureML Workspace\n",
    " * Model development where we load the pretrained model and test it by using it to score images\n",
    " * Develop the API that will call our model \n",
    " * AKS\n",
    "     * Creating our Kubernetes cluster and deploying our application to it\n",
    "     * Testing the deployed model\n",
    "     * Testing the throughput of our model\n",
    "     * Cleaning up resources\n",
    "\n",
    "## Design\n",
    "![](https://docs.microsoft.com/en-us/azure/architecture/reference-architectures/ai/_images/python-model-architecture.png)\n",
    "\n",
    "As described on the associated [Azure Reference Architecture page](https://docs.microsoft.com/en-us/azure/architecture/reference-architectures/ai/realtime-scoring-python), the application we will develop is a simple image classification service, where we will submit an image and get back what class the image belongs to. The application flow for the deep learning model is as follows:\n",
    "1.\tDeep learning model is registered to AzureML model registry.\n",
    "1.\tAzureML creates a docker image including the model and scoring script.\n",
    "1.\tAzureML deploys the scoring image on the chosen deployment compute target (AKS) as a web service.\n",
    "1.\tThe client sends a HTTP POST request with the encoded image data.\n",
    "1.\tThe web service created by AzureML preprocesses the image data and sends it to the model for scoring.\n",
    "1.\tThe predicted categories with their scores are then returned to the client.\n",
    "\n",
    "\n",
    "**NOTE**: The tutorial goes through step by step how to deploy a deep learning model on Azure; it **does** **not** include enterprise best practices such as securing the endpoints and setting up remote logging etc. \n",
    "\n",
    "**Deploying with GPUS:** For a detailed comparison of the deployments of various deep learning models, see the blog post [here](https://azure.microsoft.com/en-us/blog/gpus-vs-cpus-for-deployment-of-deep-learning-models/) which provides evidence that, at least in the scenarios tested, GPUs provide better throughput and stability at a lower cost.\n",
    "\n",
    "## Quick Start\n",
    "Run this notebook to quickly setup the entire solution, and explore the custom train.py and score.py used in this example.\n",
    "\n",
    "Run all the cells to get started. \n",
    "> _**Action Required:** You will be prompted to login to Azure before the Widget is displayed and the notebook can continue._\n",
    "\n",
    "### Sample Configuration Widget\n",
    "Run the following code to produce this configuration widget in order to provide setting for the Azure Machine Learning deployment. Enter configuration settings, or upload an existing project.yml.\n",
    "\n",
    "\n",
    "### Create Configuration Widget\n"
   ]
  },
  {
   "cell_type": "code",
   "execution_count": 1,
   "metadata": {
    "ExecuteTime": {
     "end_time": "2020-03-06T06:15:04.044101Z",
     "start_time": "2020-03-06T06:14:15.113616Z"
    },
    "init_cell": true,
    "pycharm": {
     "is_executing": true
    }
   },
   "outputs": [
    {
     "name": "stderr",
     "output_type": "stream",
     "text": [
      "C:\\Users\\dcibo\\Anaconda3\\envs\\ai-utilities\\lib\\site-packages\\tensorflow\\python\\framework\\dtypes.py:526: FutureWarning: Passing (type, 1) or '1type' as a synonym of type is deprecated; in a future version of numpy, it will be understood as (type, (1,)) / '(1,)type'.\n",
      "  _np_qint8 = np.dtype([(\"qint8\", np.int8, 1)])\n",
      "C:\\Users\\dcibo\\Anaconda3\\envs\\ai-utilities\\lib\\site-packages\\tensorflow\\python\\framework\\dtypes.py:527: FutureWarning: Passing (type, 1) or '1type' as a synonym of type is deprecated; in a future version of numpy, it will be understood as (type, (1,)) / '(1,)type'.\n",
      "  _np_quint8 = np.dtype([(\"quint8\", np.uint8, 1)])\n",
      "C:\\Users\\dcibo\\Anaconda3\\envs\\ai-utilities\\lib\\site-packages\\tensorflow\\python\\framework\\dtypes.py:528: FutureWarning: Passing (type, 1) or '1type' as a synonym of type is deprecated; in a future version of numpy, it will be understood as (type, (1,)) / '(1,)type'.\n",
      "  _np_qint16 = np.dtype([(\"qint16\", np.int16, 1)])\n",
      "C:\\Users\\dcibo\\Anaconda3\\envs\\ai-utilities\\lib\\site-packages\\tensorflow\\python\\framework\\dtypes.py:529: FutureWarning: Passing (type, 1) or '1type' as a synonym of type is deprecated; in a future version of numpy, it will be understood as (type, (1,)) / '(1,)type'.\n",
      "  _np_quint16 = np.dtype([(\"quint16\", np.uint16, 1)])\n",
      "C:\\Users\\dcibo\\Anaconda3\\envs\\ai-utilities\\lib\\site-packages\\tensorflow\\python\\framework\\dtypes.py:530: FutureWarning: Passing (type, 1) or '1type' as a synonym of type is deprecated; in a future version of numpy, it will be understood as (type, (1,)) / '(1,)type'.\n",
      "  _np_qint32 = np.dtype([(\"qint32\", np.int32, 1)])\n",
      "C:\\Users\\dcibo\\Anaconda3\\envs\\ai-utilities\\lib\\site-packages\\tensorflow\\python\\framework\\dtypes.py:535: FutureWarning: Passing (type, 1) or '1type' as a synonym of type is deprecated; in a future version of numpy, it will be understood as (type, (1,)) / '(1,)type'.\n",
      "  np_resource = np.dtype([(\"resource\", np.ubyte, 1)])\n"
     ]
    },
    {
     "data": {
      "application/vnd.jupyter.widget-view+json": {
       "model_id": "9ac8999f712945e3900bfd75a3c794c9",
       "version_major": 2,
       "version_minor": 0
      },
      "text/plain": [
       "VBox(children=(Output(), FileUpload(value={}, accept='.yml', description='Upload', layout=Layout(width='50%'))…"
      ]
     },
     "metadata": {},
     "output_type": "display_data"
    }
   ],
   "source": [
    "import os\n",
    "\n",
    "from azure_utils.notebook_widgets.notebook_configuration_widget import get_configuration_widget, test_train_py_button, test_score_py_button, deploy_button\n",
    "\n",
    "project_configuration = \"notebook_project.yml\"\n",
    "os.makedirs(\"script\", exist_ok=True)\n",
    "os.makedirs(\"source\", exist_ok=True)\n",
    "configuration_widget = get_configuration_widget(project_configuration)\n",
    "configuration_widget"
   ]
  },
  {
   "cell_type": "markdown",
   "metadata": {
    "pycharm": {
     "name": "#%% md\n"
    }
   },
   "source": [
    "### Create Train.py\n",
    "\n",
    "The following code trains a model and saves it to the output directory. For more details see this [sample notebook](https://github.com/microsoft/az-deep-realtime-score/blob/master/%7B%7Bcookiecutter.project_name%7D%7D/Keras_Tensorflow/01_DevelopModel.ipynb).\n",
    "\n",
    "\n",
    "```python\n",
    "import os\n",
    "\n",
    "from azure_utils.samples.deep_rts_samples import MakeResNet152\n",
    "\n",
    "if __name__ == \"__main__\":\n",
    "    import warnings\n",
    "\n",
    "    with warnings.catch_warnings():\n",
    "        warnings.filterwarnings(\"ignore\", category=FutureWarning)\n",
    "        import tensorflow as tf\n",
    "        tf.logging.set_verbosity(tf.logging.ERROR)\n",
    "\n",
    "        os.makedirs(\"outputs\", exist_ok=True)\n",
    "        model = MakeResNet152(include_top=False, input_shape=(200, 200, 3), pooling=\"avg\", weights=\"imagenet\")\n",
    "        model.save_weights(\"outputs/model.pkl\")\n",
    "```\n",
    "\n",
    "Write this file to a script that will be used to train the model locally with Azure Machine Learning."
   ]
  },
  {
   "cell_type": "code",
   "execution_count": 2,
   "metadata": {
    "pycharm": {
     "name": "#%%\n"
    }
   },
   "outputs": [
    {
     "name": "stdout",
     "output_type": "stream",
     "text": [
      "Overwriting script/train_dl.py\n"
     ]
    }
   ],
   "source": [
    "%%writefile script/train_dl.py\n",
    "\n",
    "def train():\n",
    "    import warnings\n",
    "    import os\n",
    "\n",
    "    from azure_utils.samples.deep_rts_samples import MakeResNet152\n",
    "\n",
    "\n",
    "    with warnings.catch_warnings():\n",
    "        warnings.filterwarnings(\"ignore\", category=FutureWarning)\n",
    "\n",
    "        os.makedirs(\"outputs\", exist_ok=True)\n",
    "        model = MakeResNet152(include_top=False, input_shape=(200, 200, 3), pooling=\"avg\", weights=\"imagenet\")\n",
    "        model.save_weights(\"outputs/model.pkl\")\n",
    "\n",
    "if __name__ == \"__main__\":\n",
    "    train()\n"
   ]
  },
  {
   "cell_type": "markdown",
   "metadata": {},
   "source": [
    "> _**Optional:** Test the training code locally before deployment. This is particularly useful when authoring a train.py file._"
   ]
  },
  {
   "cell_type": "code",
   "execution_count": 3,
   "metadata": {},
   "outputs": [
    {
     "data": {
      "application/vnd.jupyter.widget-view+json": {
       "model_id": "a86eb5fe99be43efb82d762a19471310",
       "version_major": 2,
       "version_minor": 0
      },
      "text/plain": [
       "VBox(children=(Button(description='Test train.py', layout=Layout(height='80px', width='80%'), style=ButtonStyl…"
      ]
     },
     "metadata": {},
     "output_type": "display_data"
    }
   ],
   "source": [
    "test_train_py_button()"
   ]
  },
  {
   "cell_type": "markdown",
   "metadata": {
    "pycharm": {
     "name": "#%% md\n"
    }
   },
   "source": [
    "### Create Score.py\n",
    "The scoring script is used to create a rest service. The model is loaded, and is used to make predictions on incoming requests. For more details see this [sample notebook](https://github.com/microsoft/az-deep-realtime-score/blob/master/%7B%7Bcookiecutter.project_name%7D%7D/Keras_Tensorflow/02_DevelopModelDriver.ipynb).\n",
    "\n",
    "```python\n",
    "import sys\n",
    "sys.setrecursionlimit(3000)\n",
    "\n",
    "from azureml.contrib.services.aml_request import rawhttp\n",
    "from azureml.contrib.services.aml_response import AMLResponse\n",
    "\n",
    "def init():\n",
    "    \"\"\" Initialise the model and scoring function\n",
    "    \"\"\"\n",
    "    global process_and_score\n",
    "    from azure_utils.samples.deep_rts_samples import get_model_api\n",
    "    process_and_score = get_model_api()\n",
    "\n",
    "\n",
    "@rawhttp\n",
    "def run(request):\n",
    "    \"\"\" Make a prediction based on the data passed in using the preloaded model\n",
    "    \"\"\"\n",
    "    from azure_utils.machine_learning.realtime import default_response\n",
    "    if request.method == 'POST':\n",
    "        return process_and_score(request.files)\n",
    "    return default_response(request)\n",
    "```\n",
    "This code will be used to create an API using the trained model."
   ]
  },
  {
   "cell_type": "code",
   "execution_count": 4,
   "metadata": {
    "collapsed": false,
    "jupyter": {
     "outputs_hidden": false
    },
    "pycharm": {
     "name": "#%%\n"
    }
   },
   "outputs": [
    {
     "name": "stdout",
     "output_type": "stream",
     "text": [
      "Overwriting source/score.py\n"
     ]
    }
   ],
   "source": [
    "%%writefile source/score.py\n",
    "\n",
    "import sys\n",
    "sys.setrecursionlimit(3000)\n",
    "\n",
    "from azureml.contrib.services.aml_request import rawhttp\n",
    "from azureml.contrib.services.aml_response import AMLResponse\n",
    "\n",
    "def init():\n",
    "    \"\"\" Initialise the model and scoring function\n",
    "    \"\"\"\n",
    "    global process_and_score\n",
    "    from azure_utils.samples.deep_rts_samples import get_model_api\n",
    "    process_and_score = get_model_api()\n",
    "\n",
    "\n",
    "@rawhttp\n",
    "def run(request):\n",
    "    \"\"\" Make a prediction based on the data passed in using the preloaded model\n",
    "    \"\"\"\n",
    "    from azure_utils.machine_learning.realtime import default_response\n",
    "    if request.method == 'POST':\n",
    "        return process_and_score(request.files)\n",
    "    return default_response(request)"
   ]
  },
  {
   "cell_type": "markdown",
   "metadata": {},
   "source": [
    "> _**Optional:** Test the code locally before deployment. This is particularly useful when authoring a score.py file.._"
   ]
  },
  {
   "cell_type": "code",
   "execution_count": 5,
   "metadata": {},
   "outputs": [
    {
     "data": {
      "application/vnd.jupyter.widget-view+json": {
       "model_id": "7b00b738e31d4daeb3735158fec00076",
       "version_major": 2,
       "version_minor": 0
      },
      "text/plain": [
       "VBox(children=(Button(description='Test score.py', layout=Layout(align_content='center', height='80px', width=…"
      ]
     },
     "metadata": {},
     "output_type": "display_data"
    }
   ],
   "source": [
    "test_score_py_button(score_py=\"source/score.py\")"
   ]
  },
  {
   "cell_type": "markdown",
   "metadata": {
    "pycharm": {
     "name": "#%% md\n"
    }
   },
   "source": [
    "### Deploy to Azure Kubernetes Service with Azure ML\n",
    "\n",
    "Train the model locally, and then deploy the web service to an Azure Kubernetes Cluster managed by an Azure Machine Learning Workspace. Use the output widget to explore the deployed resources.\n",
    "For more details see this [sample notebook](https://github.com/microsoft/az-deep-realtime-score/blob/master/%7B%7Bcookiecutter.project_name%7D%7D/Keras_Tensorflow/aks/04_DeployOnAKS.ipynb).\n",
    "\n",
    "> _**Action Required:** Press the button to deploy the scripts to Azure Machine Learning._"
   ]
  },
  {
   "cell_type": "code",
   "execution_count": 6,
   "metadata": {
    "pycharm": {
     "name": "#%%\n"
    }
   },
   "outputs": [
    {
     "data": {
      "application/vnd.jupyter.widget-view+json": {
       "model_id": "a1109f5f064f46d69b04422ef7057e00",
       "version_major": 2,
       "version_minor": 0
      },
      "text/plain": [
       "Button(description='Deploy Azure Machine Learning Services', layout=Layout(height='80px', justify_content='cen…"
      ]
     },
     "metadata": {},
     "output_type": "display_data"
    },
    {
     "data": {
      "application/vnd.jupyter.widget-view+json": {
       "model_id": "80d8fe0052bb48519d7460ed1f241149",
       "version_major": 2,
       "version_minor": 0
      },
      "text/plain": [
       "Output()"
      ]
     },
     "metadata": {},
     "output_type": "display_data"
    }
   ],
   "source": [
    "deploy_button(project_configuration, train_py=\"train_dl.py\", score_py=\"score.py\")"
   ]
  }
 ],
 "metadata": {
  "celltoolbar": "Initialization Cell",
  "kernelspec": {
   "display_name": "AI",
   "language": "python",
   "name": "ai-utilities"
  },
  "language_info": {
   "codemirror_mode": {
    "name": "ipython",
    "version": 3
   },
   "file_extension": ".py",
   "mimetype": "text/x-python",
   "name": "python",
   "nbconvert_exporter": "python",
   "pygments_lexer": "ipython3",
   "version": "3.7.6"
  },
  "toc": {
   "base_numbering": 1,
   "nav_menu": {},
   "number_sections": false,
   "sideBar": true,
   "skip_h1_title": false,
   "title_cell": "Table of Contents",
   "title_sidebar": "Contents",
   "toc_cell": true,
   "toc_position": {
    "height": "237px",
    "left": "488px",
    "top": "188px",
    "width": "561px"
   },
   "toc_section_display": true,
   "toc_window_display": false
  },
  "widgets": {
   "application/vnd.jupyter.widget-state+json": {
    "state": {
     "0823131333664845aafb92f3a7676ef9": {
      "model_module": "@jupyter-widgets/controls",
      "model_module_version": "1.5.0",
      "model_name": "DescriptionStyleModel",
      "state": {
       "description_width": "initial"
      }
     },
     "09537634a8994acd9b28991ebedda9ca": {
      "model_module": "@jupyter-widgets/output",
      "model_module_version": "1.0.0",
      "model_name": "OutputModel",
      "state": {
       "layout": "IPY_MODEL_6726a28ff0db408ea89400bdf062363b"
      }
     },
     "0986d3b4f51f4e51b6994366f24e5a2f": {
      "model_module": "@jupyter-widgets/base",
      "model_module_version": "1.2.0",
      "model_name": "LayoutModel",
      "state": {
       "width": "50%"
      }
     },
     "0da69c83cc7c4ec3b3d1a71f1691bfa4": {
      "model_module": "@jupyter-widgets/controls",
      "model_module_version": "1.5.0",
      "model_name": "TextModel",
      "state": {
       "description": "resource_group",
       "layout": "IPY_MODEL_443d7c422e3246e4ac6b5880be203cd2",
       "placeholder": "Azure Resource Group Name",
       "style": "IPY_MODEL_4f3f0062fb1d4c27bf0f403b66c2881f",
       "value": "azmlrts-eastus-stable"
      }
     },
     "108277b01a0846e0b4d5a1f0c81294f3": {
      "model_module": "@jupyter-widgets/base",
      "model_module_version": "1.2.0",
      "model_name": "LayoutModel",
      "state": {}
     },
     "1432b08c03ac4af2a1ed298415238cec": {
      "model_module": "@jupyter-widgets/controls",
      "model_module_version": "1.5.0",
      "model_name": "DescriptionStyleModel",
      "state": {
       "description_width": "initial"
      }
     },
     "19268b97222d46abb3b6584fdb1debae": {
      "model_module": "@jupyter-widgets/controls",
      "model_module_version": "1.5.0",
      "model_name": "TextModel",
      "state": {
       "description": "aks_location",
       "layout": "IPY_MODEL_ce5876768d9b42e18f62fb0889a6df29",
       "placeholder": " AKS Azure Region",
       "style": "IPY_MODEL_6a3d8c1dbab7456599ebef231d93adc8",
       "value": "eastus"
      }
     },
     "1a6ae00e36f14c6ebf46acc25df519b8": {
      "model_module": "@jupyter-widgets/controls",
      "model_module_version": "1.5.0",
      "model_name": "TextModel",
      "state": {
       "description": "deep_aks_location",
       "layout": "IPY_MODEL_2a4a7499b7284eb28cbcee8895ec8e53",
       "placeholder": "AKS Azure Region",
       "style": "IPY_MODEL_c50bb872fbc94621901e5a798f12b9ea",
       "value": "eastus"
      }
     },
     "1c49cb3062124fe5a8d3f9caadfb2361": {
      "model_module": "@jupyter-widgets/controls",
      "model_module_version": "1.5.0",
      "model_name": "TextModel",
      "state": {
       "description": "workspace_name",
       "layout": "IPY_MODEL_7dc3a0b4c3e74a9196acddda2efdea6e",
       "placeholder": "Azure ML Workspace Name",
       "style": "IPY_MODEL_1432b08c03ac4af2a1ed298415238cec",
       "value": "azmlrts-eastus"
      }
     },
     "2026d0024d7042eda849ebcbb8ecfbda": {
      "model_module": "@jupyter-widgets/base",
      "model_module_version": "1.2.0",
      "model_name": "LayoutModel",
      "state": {
       "width": "50%"
      }
     },
     "27223ad724984b738d4030abab3f4906": {
      "model_module": "@jupyter-widgets/base",
      "model_module_version": "1.2.0",
      "model_name": "LayoutModel",
      "state": {}
     },
     "29019528f8a84a3fa67b479a2c51f08f": {
      "model_module": "@jupyter-widgets/base",
      "model_module_version": "1.2.0",
      "model_name": "LayoutModel",
      "state": {
       "width": "50%"
      }
     },
     "2a4a7499b7284eb28cbcee8895ec8e53": {
      "model_module": "@jupyter-widgets/base",
      "model_module_version": "1.2.0",
      "model_name": "LayoutModel",
      "state": {
       "width": "50%"
      }
     },
     "2da4a2ae61d44552a6101f318e45ce97": {
      "model_module": "@jupyter-widgets/controls",
      "model_module_version": "1.5.0",
      "model_name": "TextModel",
      "state": {
       "description": "aks_name",
       "layout": "IPY_MODEL_eeede78ce3614dc0a99ff067027a9901",
       "placeholder": "AKS Cluster Name",
       "style": "IPY_MODEL_fbb86c16aaee461c98883a77e8cb582c",
       "value": "akscluster2"
      }
     },
     "333512d02ed946c690186ecc0af9999b": {
      "model_module": "@jupyter-widgets/controls",
      "model_module_version": "1.5.0",
      "model_name": "DropdownModel",
      "state": {
       "_options_labels": [
        "eastus",
        "eastus2",
        "canadacentral",
        "centralus",
        "northcentralus",
        "southcentralus",
        "westcentralus",
        "westus",
        "westus2"
       ],
       "description": "aks_location",
       "index": 0,
       "layout": "IPY_MODEL_866f03fa734545b3a366222bb1a439e9",
       "style": "IPY_MODEL_6b294d9dd18343c78b134707c7f39b18"
      }
     },
     "34538f31d0a044b3b87794636034c365": {
      "model_module": "@jupyter-widgets/base",
      "model_module_version": "1.2.0",
      "model_name": "LayoutModel",
      "state": {
       "width": "80%"
      }
     },
     "371f33004cba41ce93722a867007cd81": {
      "model_module": "@jupyter-widgets/controls",
      "model_module_version": "1.5.0",
      "model_name": "TextModel",
      "state": {
       "description": "deep_aks_service_name",
       "layout": "IPY_MODEL_ee5a21fc72754fcb950fac7ca76175fc",
       "placeholder": "AKS Service Name",
       "style": "IPY_MODEL_ed80ab69cab141e1b9ff80d02f260b66",
       "value": "deepaksservice"
      }
     },
     "3a3ffd823c46443eab0b71665df1ecc7": {
      "model_module": "@jupyter-widgets/base",
      "model_module_version": "1.2.0",
      "model_name": "LayoutModel",
      "state": {}
     },
     "42696171c48e40ff85199eeee8e92789": {
      "model_module": "@jupyter-widgets/controls",
      "model_module_version": "1.5.0",
      "model_name": "DropdownModel",
      "state": {
       "_options_labels": [
        "eastus",
        "eastus2",
        "canadacentral",
        "centralus",
        "northcentralus",
        "southcentralus",
        "westcentralus",
        "westus",
        "westus2"
       ],
       "description": "deep_aks_location",
       "index": 0,
       "layout": "IPY_MODEL_0986d3b4f51f4e51b6994366f24e5a2f",
       "style": "IPY_MODEL_641c27f67a5946b6b1e9748742e87bd6"
      }
     },
     "443d7c422e3246e4ac6b5880be203cd2": {
      "model_module": "@jupyter-widgets/base",
      "model_module_version": "1.2.0",
      "model_name": "LayoutModel",
      "state": {
       "width": "50%"
      }
     },
     "4799e136ee9a4837af2b7353db210fd9": {
      "model_module": "@jupyter-widgets/base",
      "model_module_version": "1.2.0",
      "model_name": "LayoutModel",
      "state": {}
     },
     "496e8cb6d531450fa5cde0279ecb0fe5": {
      "model_module": "@jupyter-widgets/controls",
      "model_module_version": "1.5.0",
      "model_name": "TextModel",
      "state": {
       "description": "image_name",
       "layout": "IPY_MODEL_cce5d71b73524f4593e6b50f5d47793f",
       "placeholder": "Docker Container Image Name",
       "style": "IPY_MODEL_0823131333664845aafb92f3a7676ef9",
       "value": "mymlimage2"
      }
     },
     "4e00206634d344e99ba6ab42174b851e": {
      "model_module": "@jupyter-widgets/base",
      "model_module_version": "1.2.0",
      "model_name": "LayoutModel",
      "state": {
       "width": "50%"
      }
     },
     "4f3f0062fb1d4c27bf0f403b66c2881f": {
      "model_module": "@jupyter-widgets/controls",
      "model_module_version": "1.5.0",
      "model_name": "DescriptionStyleModel",
      "state": {
       "description_width": "initial"
      }
     },
     "4fdad11d15fc493db3c91ac680f598d0": {
      "model_module": "@jupyter-widgets/base",
      "model_module_version": "1.2.0",
      "model_name": "LayoutModel",
      "state": {
       "width": "80%"
      }
     },
     "52303d9e5ee541e28e417e27123851ac": {
      "model_module": "@jupyter-widgets/base",
      "model_module_version": "1.2.0",
      "model_name": "LayoutModel",
      "state": {}
     },
     "530e22737e1e4922a0a3ec6787c8394c": {
      "model_module": "@jupyter-widgets/base",
      "model_module_version": "1.2.0",
      "model_name": "LayoutModel",
      "state": {
       "height": "80px",
       "justify_content": "center",
       "width": "80%"
      }
     },
     "58d70e850ee84d22bf7d10c332997206": {
      "model_module": "@jupyter-widgets/controls",
      "model_module_version": "1.5.0",
      "model_name": "TextModel",
      "state": {
       "description": "deep_aks_name",
       "layout": "IPY_MODEL_db8ad829bddc43efbd168f27c3d65833",
       "placeholder": "AKS Cluster Name",
       "style": "IPY_MODEL_b20feda7f31d485e89a09d3011f35305",
       "value": "deepakscluster"
      }
     },
     "5a4577038377403da47aa55863ca622a": {
      "model_module": "@jupyter-widgets/controls",
      "model_module_version": "1.5.0",
      "model_name": "ButtonStyleModel",
      "state": {}
     },
     "637c9bff3e774300914880a086d33e96": {
      "model_module": "@jupyter-widgets/base",
      "model_module_version": "1.2.0",
      "model_name": "LayoutModel",
      "state": {
       "width": "50%"
      }
     },
     "641c27f67a5946b6b1e9748742e87bd6": {
      "model_module": "@jupyter-widgets/controls",
      "model_module_version": "1.5.0",
      "model_name": "DescriptionStyleModel",
      "state": {
       "description_width": "initial"
      }
     },
     "65d24825bb574147a162c85315613740": {
      "model_module": "@jupyter-widgets/controls",
      "model_module_version": "1.5.0",
      "model_name": "FileUploadModel",
      "state": {
       "accept": ".yml",
       "description_tooltip": null,
       "layout": "IPY_MODEL_637c9bff3e774300914880a086d33e96",
       "style": "IPY_MODEL_af78850677e8460bb356c10f4dc26083"
      }
     },
     "6621a344f1344bcba65c5117cd39680b": {
      "model_module": "@jupyter-widgets/controls",
      "model_module_version": "1.5.0",
      "model_name": "DropdownModel",
      "state": {
       "_options_labels": [
        "eastus",
        "eastus2",
        "canadacentral",
        "centralus",
        "northcentralus",
        "southcentralus",
        "westcentralus",
        "westus",
        "westus2"
       ],
       "description": "workspace_region",
       "index": 0,
       "layout": "IPY_MODEL_4e00206634d344e99ba6ab42174b851e",
       "style": "IPY_MODEL_d6d71dd0ad0e4b32a84ed124dc2a50fe"
      }
     },
     "6726a28ff0db408ea89400bdf062363b": {
      "model_module": "@jupyter-widgets/base",
      "model_module_version": "1.2.0",
      "model_name": "LayoutModel",
      "state": {}
     },
     "6a3d8c1dbab7456599ebef231d93adc8": {
      "model_module": "@jupyter-widgets/controls",
      "model_module_version": "1.5.0",
      "model_name": "DescriptionStyleModel",
      "state": {
       "description_width": "initial"
      }
     },
     "6b294d9dd18343c78b134707c7f39b18": {
      "model_module": "@jupyter-widgets/controls",
      "model_module_version": "1.5.0",
      "model_name": "DescriptionStyleModel",
      "state": {
       "description_width": "initial"
      }
     },
     "7b00b738e31d4daeb3735158fec00076": {
      "model_module": "@jupyter-widgets/controls",
      "model_module_version": "1.5.0",
      "model_name": "VBoxModel",
      "state": {
       "children": [
        "IPY_MODEL_9ef133938e1a460c9c1ceb4cad60b8fb",
        "IPY_MODEL_af2a62c9d9d049e2ba33991517b9918f",
        "IPY_MODEL_09537634a8994acd9b28991ebedda9ca"
       ],
       "layout": "IPY_MODEL_4799e136ee9a4837af2b7353db210fd9"
      }
     },
     "7dc3a0b4c3e74a9196acddda2efdea6e": {
      "model_module": "@jupyter-widgets/base",
      "model_module_version": "1.2.0",
      "model_name": "LayoutModel",
      "state": {
       "width": "50%"
      }
     },
     "80d8fe0052bb48519d7460ed1f241149": {
      "model_module": "@jupyter-widgets/output",
      "model_module_version": "1.0.0",
      "model_name": "OutputModel",
      "state": {
       "layout": "IPY_MODEL_108277b01a0846e0b4d5a1f0c81294f3"
      }
     },
     "82dca67493784ff6a87414c16bfa71a7": {
      "model_module": "@jupyter-widgets/controls",
      "model_module_version": "1.5.0",
      "model_name": "DescriptionStyleModel",
      "state": {
       "description_width": "initial"
      }
     },
     "866f03fa734545b3a366222bb1a439e9": {
      "model_module": "@jupyter-widgets/base",
      "model_module_version": "1.2.0",
      "model_name": "LayoutModel",
      "state": {
       "width": "50%"
      }
     },
     "8730d2e8586b427eb7850f1cbf3c9aee": {
      "model_module": "@jupyter-widgets/controls",
      "model_module_version": "1.5.0",
      "model_name": "IntProgressModel",
      "state": {
       "layout": "IPY_MODEL_4fdad11d15fc493db3c91ac680f598d0",
       "style": "IPY_MODEL_f9fb043894954903a745569bd6f655bf"
      }
     },
     "8e8607f349f74948990dbc6e2025f798": {
      "model_module": "@jupyter-widgets/base",
      "model_module_version": "1.2.0",
      "model_name": "LayoutModel",
      "state": {
       "align_content": "center",
       "height": "80px",
       "width": "80%"
      }
     },
     "97629fccbeaa4879b0f42d57ed7cca2c": {
      "model_module": "@jupyter-widgets/output",
      "model_module_version": "1.0.0",
      "model_name": "OutputModel",
      "state": {
       "layout": "IPY_MODEL_3a3ffd823c46443eab0b71665df1ecc7"
      }
     },
     "9a37d244b22747568ec2cc02feed8246": {
      "model_module": "@jupyter-widgets/controls",
      "model_module_version": "1.5.0",
      "model_name": "ButtonStyleModel",
      "state": {}
     },
     "9ac8999f712945e3900bfd75a3c794c9": {
      "model_module": "@jupyter-widgets/controls",
      "model_module_version": "1.5.0",
      "model_name": "VBoxModel",
      "state": {
       "children": [
        "IPY_MODEL_f9e59b61b73e4ad897ef849727c07be1",
        "IPY_MODEL_65d24825bb574147a162c85315613740",
        "IPY_MODEL_f3df366129654283a158e1f12fb86f02",
        "IPY_MODEL_0da69c83cc7c4ec3b3d1a71f1691bfa4",
        "IPY_MODEL_1c49cb3062124fe5a8d3f9caadfb2361",
        "IPY_MODEL_6621a344f1344bcba65c5117cd39680b",
        "IPY_MODEL_496e8cb6d531450fa5cde0279ecb0fe5",
        "IPY_MODEL_a3b6b29b203447c190ca673b6e4eb3aa",
        "IPY_MODEL_333512d02ed946c690186ecc0af9999b",
        "IPY_MODEL_2da4a2ae61d44552a6101f318e45ce97",
        "IPY_MODEL_a10db2e2428648e5afcbd128f637ec75",
        "IPY_MODEL_371f33004cba41ce93722a867007cd81",
        "IPY_MODEL_58d70e850ee84d22bf7d10c332997206",
        "IPY_MODEL_42696171c48e40ff85199eeee8e92789"
       ],
       "layout": "IPY_MODEL_b4759421fdbb4e0c8b1c2c5fa1831185"
      }
     },
     "9c74aa36b1a0490391e02a5bfe153389": {
      "model_module": "@jupyter-widgets/controls",
      "model_module_version": "1.5.0",
      "model_name": "TextModel",
      "state": {
       "description": "workspace_region",
       "layout": "IPY_MODEL_fb4a236b4cec4260b503c33571cbef00",
       "placeholder": "Azure ML Workspace Region",
       "style": "IPY_MODEL_fead3da11b6449989137138a2371084a",
       "value": "eastus"
      }
     },
     "9ef133938e1a460c9c1ceb4cad60b8fb": {
      "model_module": "@jupyter-widgets/controls",
      "model_module_version": "1.5.0",
      "model_name": "ButtonModel",
      "state": {
       "description": "Test score.py",
       "layout": "IPY_MODEL_8e8607f349f74948990dbc6e2025f798",
       "style": "IPY_MODEL_5a4577038377403da47aa55863ca622a"
      }
     },
     "a10db2e2428648e5afcbd128f637ec75": {
      "model_module": "@jupyter-widgets/controls",
      "model_module_version": "1.5.0",
      "model_name": "TextModel",
      "state": {
       "description": "deep_image_name",
       "layout": "IPY_MODEL_aed28305fa25431e88f67b0d78a9540c",
       "placeholder": "Docker Container Image Name",
       "style": "IPY_MODEL_82dca67493784ff6a87414c16bfa71a7",
       "value": "mydeepimage"
      }
     },
     "a1109f5f064f46d69b04422ef7057e00": {
      "model_module": "@jupyter-widgets/controls",
      "model_module_version": "1.5.0",
      "model_name": "ButtonModel",
      "state": {
       "description": "Deploy Azure Machine Learning Services",
       "layout": "IPY_MODEL_530e22737e1e4922a0a3ec6787c8394c",
       "style": "IPY_MODEL_c93445a4985f4a938196fe113b850311"
      }
     },
     "a3b6b29b203447c190ca673b6e4eb3aa": {
      "model_module": "@jupyter-widgets/controls",
      "model_module_version": "1.5.0",
      "model_name": "TextModel",
      "state": {
       "description": "aks_service_name",
       "layout": "IPY_MODEL_29019528f8a84a3fa67b479a2c51f08f",
       "placeholder": "AKS Service Name",
       "style": "IPY_MODEL_d2347437a64c4eb4ad3be5d6e3b202e6",
       "value": "aksservice2"
      }
     },
     "a86eb5fe99be43efb82d762a19471310": {
      "model_module": "@jupyter-widgets/controls",
      "model_module_version": "1.5.0",
      "model_name": "VBoxModel",
      "state": {
       "children": [
        "IPY_MODEL_d6876f5c49c047aa808bd3729679dbd1",
        "IPY_MODEL_8730d2e8586b427eb7850f1cbf3c9aee",
        "IPY_MODEL_97629fccbeaa4879b0f42d57ed7cca2c"
       ],
       "layout": "IPY_MODEL_52303d9e5ee541e28e417e27123851ac"
      }
     },
     "aed28305fa25431e88f67b0d78a9540c": {
      "model_module": "@jupyter-widgets/base",
      "model_module_version": "1.2.0",
      "model_name": "LayoutModel",
      "state": {
       "width": "50%"
      }
     },
     "af2a62c9d9d049e2ba33991517b9918f": {
      "model_module": "@jupyter-widgets/controls",
      "model_module_version": "1.5.0",
      "model_name": "IntProgressModel",
      "state": {
       "layout": "IPY_MODEL_34538f31d0a044b3b87794636034c365",
       "style": "IPY_MODEL_e63cbb61562a4adaa16b73e76241b676"
      }
     },
     "af78850677e8460bb356c10f4dc26083": {
      "model_module": "@jupyter-widgets/controls",
      "model_module_version": "1.5.0",
      "model_name": "ButtonStyleModel",
      "state": {}
     },
     "b20feda7f31d485e89a09d3011f35305": {
      "model_module": "@jupyter-widgets/controls",
      "model_module_version": "1.5.0",
      "model_name": "DescriptionStyleModel",
      "state": {
       "description_width": "initial"
      }
     },
     "b4759421fdbb4e0c8b1c2c5fa1831185": {
      "model_module": "@jupyter-widgets/base",
      "model_module_version": "1.2.0",
      "model_name": "LayoutModel",
      "state": {}
     },
     "c50bb872fbc94621901e5a798f12b9ea": {
      "model_module": "@jupyter-widgets/controls",
      "model_module_version": "1.5.0",
      "model_name": "DescriptionStyleModel",
      "state": {
       "description_width": "initial"
      }
     },
     "c93445a4985f4a938196fe113b850311": {
      "model_module": "@jupyter-widgets/controls",
      "model_module_version": "1.5.0",
      "model_name": "ButtonStyleModel",
      "state": {}
     },
     "ca6950fe97fb40c496fa2123667e3498": {
      "model_module": "@jupyter-widgets/base",
      "model_module_version": "1.2.0",
      "model_name": "LayoutModel",
      "state": {
       "height": "80px",
       "width": "80%"
      }
     },
     "cce5d71b73524f4593e6b50f5d47793f": {
      "model_module": "@jupyter-widgets/base",
      "model_module_version": "1.2.0",
      "model_name": "LayoutModel",
      "state": {
       "width": "50%"
      }
     },
     "ce5876768d9b42e18f62fb0889a6df29": {
      "model_module": "@jupyter-widgets/base",
      "model_module_version": "1.2.0",
      "model_name": "LayoutModel",
      "state": {
       "width": "50%"
      }
     },
     "d2347437a64c4eb4ad3be5d6e3b202e6": {
      "model_module": "@jupyter-widgets/controls",
      "model_module_version": "1.5.0",
      "model_name": "DescriptionStyleModel",
      "state": {
       "description_width": "initial"
      }
     },
     "d6876f5c49c047aa808bd3729679dbd1": {
      "model_module": "@jupyter-widgets/controls",
      "model_module_version": "1.5.0",
      "model_name": "ButtonModel",
      "state": {
       "description": "Test train.py",
       "layout": "IPY_MODEL_ca6950fe97fb40c496fa2123667e3498",
       "style": "IPY_MODEL_9a37d244b22747568ec2cc02feed8246"
      }
     },
     "d6d71dd0ad0e4b32a84ed124dc2a50fe": {
      "model_module": "@jupyter-widgets/controls",
      "model_module_version": "1.5.0",
      "model_name": "DescriptionStyleModel",
      "state": {
       "description_width": "initial"
      }
     },
     "db8ad829bddc43efbd168f27c3d65833": {
      "model_module": "@jupyter-widgets/base",
      "model_module_version": "1.2.0",
      "model_name": "LayoutModel",
      "state": {
       "width": "50%"
      }
     },
     "e1ccbc68299346a88ceabceae00910ac": {
      "model_module": "@jupyter-widgets/controls",
      "model_module_version": "1.5.0",
      "model_name": "DescriptionStyleModel",
      "state": {
       "description_width": "initial"
      }
     },
     "e63cbb61562a4adaa16b73e76241b676": {
      "model_module": "@jupyter-widgets/controls",
      "model_module_version": "1.5.0",
      "model_name": "ProgressStyleModel",
      "state": {
       "description_width": ""
      }
     },
     "ed80ab69cab141e1b9ff80d02f260b66": {
      "model_module": "@jupyter-widgets/controls",
      "model_module_version": "1.5.0",
      "model_name": "DescriptionStyleModel",
      "state": {
       "description_width": "initial"
      }
     },
     "ee5a21fc72754fcb950fac7ca76175fc": {
      "model_module": "@jupyter-widgets/base",
      "model_module_version": "1.2.0",
      "model_name": "LayoutModel",
      "state": {
       "width": "50%"
      }
     },
     "eeede78ce3614dc0a99ff067027a9901": {
      "model_module": "@jupyter-widgets/base",
      "model_module_version": "1.2.0",
      "model_name": "LayoutModel",
      "state": {
       "width": "50%"
      }
     },
     "f3df366129654283a158e1f12fb86f02": {
      "model_module": "@jupyter-widgets/controls",
      "model_module_version": "1.5.0",
      "model_name": "DropdownModel",
      "state": {
       "_options_labels": [
        "AG-CE-AI-GPU-EXPERIMENTATION",
        "AG-AzureCAT-AITao-Test-COGSNonProd-IO1685734",
        "AG-CE-AI-DEVOPS",
        "AG-AzureCAT-AIDemos-Test-COGSNonProd-IO1685734",
        "AGCE-AI-DELETE-Sharat",
        "AG-AzureCAT-AILab-Test-COGSNonProd-IO1685734",
        "Visual Studio Ultimate with MSDN",
        "AG-AzureCAT-AIDataPM-Test-COGSNonProd-IO1685743",
        "AG-AzureCAT-AIDanielle-Test-COGSNonProd-IO1685734",
        "AG-CE-AI-MN-CICOMMERCIAL",
        "AG-CE-AI-MN-INCUBATION",
        "AG-CE-AI-MN-OSS",
        "AG-CE-AI-MN-E2E",
        "AG-CE-AI-MN-HU",
        "AG-CE-AI-MN-SEISMIC",
        "AG-CE-AI-STORAGE",
        "AG-CE-AI-MN-RETAIL",
        "AG-CE-AI-FEEDBACK",
        "AG-CE-AI-MN-LAB",
        "Deep Learning Group",
        "Azure SDK Engineering System",
        "Epic-Edge-ES-ReproVMLab",
        "ES-Stream-Operations",
        "Core-ES-BranchManagement",
        "WDG-ES-RnD-GITTrain",
        "Cosmos_WDG_Core_BnB_100292",
        "Azure Stack Diagnostics CI and Production VaaS",
        "Edge DevTools Client",
        "AppInsight Test",
        "ddverify",
        "VSEng MadDog-RPS Telemetry",
        "CAT_Eng",
        "RPS-cloud-common-2",
        "Core-ES-WorkManagement",
        "Azure_Maps_MDP_Engineering",
        "Test/Demo - VipSwapper Operations",
        "COSINE-ES-Signing Azure Service",
        "AI Infra Build",
        "AG-CE-E2E-AI",
        "Boston-DS-Brandon-Dev",
        "DEMO - how RepDemo are you",
        "ADS Demo Subscription",
        "AzureCAT E2E Blue Steel",
        "Azure Stack CSS Labs",
        "Azure Search DEV Service Layer (kmort,miwelsh,bohuan)",
        ""
       ],
       "description": "subscription_id",
       "index": 2,
       "layout": "IPY_MODEL_2026d0024d7042eda849ebcbb8ecfbda",
       "style": "IPY_MODEL_e1ccbc68299346a88ceabceae00910ac"
      }
     },
     "f9e59b61b73e4ad897ef849727c07be1": {
      "model_module": "@jupyter-widgets/output",
      "model_module_version": "1.0.0",
      "model_name": "OutputModel",
      "state": {
       "layout": "IPY_MODEL_27223ad724984b738d4030abab3f4906"
      }
     },
     "f9fb043894954903a745569bd6f655bf": {
      "model_module": "@jupyter-widgets/controls",
      "model_module_version": "1.5.0",
      "model_name": "ProgressStyleModel",
      "state": {
       "description_width": ""
      }
     },
     "fb4a236b4cec4260b503c33571cbef00": {
      "model_module": "@jupyter-widgets/base",
      "model_module_version": "1.2.0",
      "model_name": "LayoutModel",
      "state": {
       "width": "50%"
      }
     },
     "fbb86c16aaee461c98883a77e8cb582c": {
      "model_module": "@jupyter-widgets/controls",
      "model_module_version": "1.5.0",
      "model_name": "DescriptionStyleModel",
      "state": {
       "description_width": "initial"
      }
     },
     "fead3da11b6449989137138a2371084a": {
      "model_module": "@jupyter-widgets/controls",
      "model_module_version": "1.5.0",
      "model_name": "DescriptionStyleModel",
      "state": {
       "description_width": "initial"
      }
     }
    },
    "version_major": 2,
    "version_minor": 0
   }
  }
 },
 "nbformat": 4,
 "nbformat_minor": 4
}
