{
 "cells": [
  {
   "cell_type": "markdown",
   "metadata": {},
   "source": [
    "[![Azure Notebooks](https://notebooks.azure.com/launch.png)](https://notebooks.azure.com/import/gh/microsoft/AI-Utilities)\n",
    "[![Binder](https://mybinder.org/badge_logo.svg)](https://mybinder.org/v2/gh/microsoft/AI-Utilities/deep_learning_2?filepath=notebooks%2Fai-deep-realtime-score.ipynb)\n",
    "[![Open In Colab](https://colab.research.google.com/assets/colab-badge.svg)](http://colab.research.google.com/github/microsoft/AI-Utilities/blob/deep_learning_2/notebooks/ai-deep-realtime-score.ipynb)"
   ]
  },
  {
   "cell_type": "markdown",
   "metadata": {
    "toc": true
   },
   "source": [
    "<h1>Table of Contents<span class=\"tocSkip\"></span></h1>\n",
    "<div class=\"toc\"><ul class=\"toc-item\"><li><span><a href=\"#Deploy-Solution\" data-toc-modified-id=\"Deploy-Solution-1\">Deploy Solution</a></span><ul class=\"toc-item\"><li><span><a href=\"#Create-Configuration\" data-toc-modified-id=\"Create-Configuration-1.1\">Create Configuration</a></span></li><li><span><a href=\"#Create-Train.py\" data-toc-modified-id=\"Create-Train.py-1.2\">Create Train.py</a></span></li><li><span><a href=\"#Create-Score.py\" data-toc-modified-id=\"Create-Score.py-1.3\">Create Score.py</a></span></li><li><span><a href=\"#Deploy-to-Azure-Kubernetes-Service-with-Azure-ML\" data-toc-modified-id=\"Deploy-to-Azure-Kubernetes-Service-with-Azure-ML-1.4\">Deploy to Azure Kubernetes Service with Azure ML</a></span></li></ul></li><li><span><a href=\"#Deploy-Services\" data-toc-modified-id=\"Deploy-Services-2\">Deploy Services</a></span><ul class=\"toc-item\"><li><span><a href=\"#Machine-Learning-Studio\" data-toc-modified-id=\"Machine-Learning-Studio-2.1\">Machine Learning Studio</a></span></li><li><span><a href=\"#Kubernetes\" data-toc-modified-id=\"Kubernetes-2.2\">Kubernetes</a></span></li><li><span><a href=\"#Application-Insights\" data-toc-modified-id=\"Application-Insights-2.3\">Application Insights</a></span><ul class=\"toc-item\"><li><span><a href=\"#Main\" data-toc-modified-id=\"Main-2.3.1\">Main</a></span></li><li><span><a href=\"#Availability\" data-toc-modified-id=\"Availability-2.3.2\">Availability</a></span></li><li><span><a href=\"#Performance-Dashboard\" data-toc-modified-id=\"Performance-Dashboard-2.3.3\">Performance Dashboard</a></span></li><li><span><a href=\"#Load-Test\" data-toc-modified-id=\"Load-Test-2.3.4\">Load Test</a></span></li></ul></li></ul></li></ul></div>"
   ]
  },
  {
   "cell_type": "markdown",
   "metadata": {},
   "source": [
    "## Overview\n",
    "In the [az-deep-realtime-score repository](https://github.com/microsoft/az-deep-realtime-score) there are a number of tutorials in Jupyter notebooks that have step-by-step instructions on how to deploy a pretrained deep learning model on a GPU enabled Kubernetes cluster throught Azure Machine Learning (AzureML). The tutorials cover how to deploy models with the deep learning framework Keras (TensorFlow backend)\n",
    "\n",
    "![alt text](https://happypathspublic.blob.core.windows.net/aksdeploymenttutorialaml/example.png \"Example Classification\")\n",
    " \n",
    "We go through the following steps:\n",
    " * Create an AzureML Workspace\n",
    " * Model development where we load the pretrained model and test it by using it to score images\n",
    " * Develop the API that will call our model \n",
    " * AKS\n",
    "     * Creating our Kubernetes cluster and deploying our application to it\n",
    "     * Testing the deployed model\n",
    "     * Testing the throughput of our model\n",
    "     * Cleaning up resources\n",
    "\n",
    "## Design\n",
    "![](https://docs.microsoft.com/en-us/azure/architecture/reference-architectures/ai/_images/python-model-architecture.png)\n",
    "As described on the associated [Azure Reference Architecture page](https://docs.microsoft.com/en-us/azure/architecture/reference-architectures/ai/realtime-scoring-python), the application we will develop is a simple image classification service, where we will submit an image and get back what class the image belongs to. The application flow for the deep learning model is as follows:\n",
    "1.\tDeep learning model is registered to AzureML model registry.\n",
    "1.\tAzureML creates a docker image including the model and scoring script.\n",
    "1.\tAzureML deploys the scoring image on the chosen deployment compute target (AKS or IoT Edge) as a web service.\n",
    "1.\tThe client sends a HTTP POST request with the encoded image data.\n",
    "1.\tThe web service created by AzureML preprocesses the image data and sends it to the model for scoring.\n",
    "1.\tThe predicted categories with their scores are then returned to the client.\n",
    "\n",
    "\n",
    "**NOTE**: The tutorial goes through step by step how to deploy a deep learning model on Azure; it **does** **not** include enterprise best practices such as securing the endpoints and setting up remote logging etc. \n",
    "\n",
    "**Deploying with GPUS:** For a detailed comparison of the deployments of various deep learning models, see the blog post [here](https://azure.microsoft.com/en-us/blog/gpus-vs-cpus-for-deployment-of-deep-learning-models/) which provides evidence that, at least in the scenarios tested, GPUs provide better throughput and stability at a lower cost.\n",
    "\n",
    "## Quick Start\n",
    "Run this notebook to quickly setup the entire solution, and explore the custom train.py and score.py used in this example.\n",
    "\n",
    "Run all the cells to get started. \n",
    "> _**Action Required:** You will be prompted to login to Azure before the Widget is displayed and the notebook can continue._\n",
    "\n",
    "### Sample Configuration Widget\n",
    "Run the following code to produce this configuration widget in order to provide setting for the Azure Machine Learning deployment. Enter configuration settings, or upload an existing project.yml.\n",
    "\n",
    "\n",
    "### Create Configuration Widget\n"
   ]
  },
  {
   "cell_type": "code",
   "execution_count": 1,
   "metadata": {
    "ExecuteTime": {
     "end_time": "2020-03-06T06:15:04.044101Z",
     "start_time": "2020-03-06T06:14:15.113616Z"
    },
    "init_cell": true,
    "jupyter": {
     "source_hidden": true
    },
    "pycharm": {
     "is_executing": true
    }
   },
   "outputs": [
    {
     "data": {
      "application/vnd.jupyter.widget-view+json": {
       "model_id": "28efdb5e4711411885462b32536d0213",
       "version_major": 2,
       "version_minor": 0
      },
      "text/plain": [
       "VBox(children=(Output(), FileUpload(value={}, accept='.yml', description='Upload'), Text(value='0ca618d2-22a8-…"
      ]
     },
     "metadata": {},
     "output_type": "display_data"
    }
   ],
   "source": [
    "import os\n",
    "\n",
    "from azure_utils.notebook_widgets.notebook_configuration_widget import get_configuration_widget, test_train_py_button, test_score_py_button, deploy_button\n",
    "\n",
    "project_configuration = \"notebook_project.yml\"\n",
    "os.makedirs(\"script\", exist_ok=True)\n",
    "os.makedirs(\"source\", exist_ok=True)\n",
    "configuration_widget = get_configuration_widget(project_configuration)\n",
    "configuration_widget"
   ]
  },
  {
   "cell_type": "markdown",
   "metadata": {
    "pycharm": {
     "name": "#%% md\n"
    }
   },
   "source": [
    "### Create Train.py\n",
    "\n",
    "The following code trains a model and saves it to the output directory. For more details see this [sample notebook](https://github.com/microsoft/az-deep-realtime-score/blob/master/%7B%7Bcookiecutter.project_name%7D%7D/Keras_Tensorflow/01_DevelopModel.ipynb)."
   ]
  },
  {
   "cell_type": "code",
   "execution_count": 2,
   "metadata": {
    "pycharm": {
     "name": "#%%\n"
    }
   },
   "outputs": [
    {
     "name": "stdout",
     "output_type": "stream",
     "text": [
      "Overwriting script/train_dl.py\n"
     ]
    }
   ],
   "source": [
    "%%writefile script/train_dl.py\n",
    "import os\n",
    "\n",
    "from azure_utils.samples.deep_rts_samples import MakeResNet152\n",
    "\n",
    "if __name__ == \"__main__\":\n",
    "    import warnings\n",
    "\n",
    "    with warnings.catch_warnings():\n",
    "        warnings.filterwarnings(\"ignore\", category=FutureWarning)\n",
    "        import tensorflow as tf\n",
    "        tf.logging.set_verbosity(tf.logging.ERROR)\n",
    "\n",
    "        os.makedirs(\"outputs\", exist_ok=True)\n",
    "        model = MakeResNet152(include_top=False, input_shape=(200, 200, 3), pooling=\"avg\", weights=\"imagenet\")\n",
    "        model.save_weights(\"outputs/model.pkl\")\n"
   ]
  },
  {
   "cell_type": "markdown",
   "metadata": {},
   "source": [
    "> _**Optional:** Test the training code locally before deployment. This is particularly useful when authoring a train.py file._"
   ]
  },
  {
   "cell_type": "code",
   "execution_count": 3,
   "metadata": {},
   "outputs": [
    {
     "data": {
      "application/vnd.jupyter.widget-view+json": {
       "model_id": "d84bcfe30c164d49ad03dd531a6ba37f",
       "version_major": 2,
       "version_minor": 0
      },
      "text/plain": [
       "Button(description='Test train.py', style=ButtonStyle())"
      ]
     },
     "metadata": {},
     "output_type": "display_data"
    },
    {
     "data": {
      "application/vnd.jupyter.widget-view+json": {
       "model_id": "42788f17980341cd8c54bd7fc3c94bb0",
       "version_major": 2,
       "version_minor": 0
      },
      "text/plain": [
       "Output()"
      ]
     },
     "metadata": {},
     "output_type": "display_data"
    }
   ],
   "source": [
    "test_train_py_button(train_py=\"script/train_dl.py\")"
   ]
  },
  {
   "cell_type": "markdown",
   "metadata": {
    "pycharm": {
     "name": "#%% md\n"
    }
   },
   "source": [
    "### Create Score.py\n",
    "The scoring script is used to create a rest service. The model is loaded, and is used to make predictions on incoming requests. For more details see this [sample notebook](https://github.com/microsoft/az-deep-realtime-score/blob/master/%7B%7Bcookiecutter.project_name%7D%7D/Keras_Tensorflow/02_DevelopModelDriver.ipynb)."
   ]
  },
  {
   "cell_type": "code",
   "execution_count": 4,
   "metadata": {
    "collapsed": false,
    "jupyter": {
     "outputs_hidden": false
    },
    "pycharm": {
     "name": "#%%\n"
    }
   },
   "outputs": [
    {
     "name": "stdout",
     "output_type": "stream",
     "text": [
      "Overwriting source/score.py\n"
     ]
    }
   ],
   "source": [
    "%%writefile source/score.py\n",
    "\n",
    "import sys\n",
    "sys.setrecursionlimit(3000)\n",
    "\n",
    "from azureml.contrib.services.aml_request import rawhttp\n",
    "from azureml.contrib.services.aml_response import AMLResponse\n",
    "\n",
    "def init():\n",
    "    \"\"\" Initialise the model and scoring function\n",
    "    \"\"\"\n",
    "    global process_and_score\n",
    "    from azure_utils.samples.deep_rts_samples import get_model_api\n",
    "\n",
    "    process_and_score = get_model_api()\n",
    "\n",
    "\n",
    "@rawhttp\n",
    "def run(request):\n",
    "    \"\"\" Make a prediction based on the data passed in using the preloaded model\n",
    "    \"\"\"\n",
    "    from azure_utils.machine_learning.realtime import default_response\n",
    "    if request.method == 'POST':\n",
    "        return process_and_score(request.files)\n",
    "    return default_response(request)"
   ]
  },
  {
   "cell_type": "markdown",
   "metadata": {},
   "source": [
    "> _**Optional:** Test the code locally before deployment. This is particularly useful when authoring a score.py file.._"
   ]
  },
  {
   "cell_type": "code",
   "execution_count": 5,
   "metadata": {
    "jupyter": {
     "source_hidden": true
    }
   },
   "outputs": [
    {
     "data": {
      "application/vnd.jupyter.widget-view+json": {
       "model_id": "7304c33e13304a639f4f15e335870125",
       "version_major": 2,
       "version_minor": 0
      },
      "text/plain": [
       "Button(description='Test score.py', style=ButtonStyle())"
      ]
     },
     "metadata": {},
     "output_type": "display_data"
    },
    {
     "data": {
      "application/vnd.jupyter.widget-view+json": {
       "model_id": "f2cd9ad6e0b44a66948cecd91e2c7a02",
       "version_major": 2,
       "version_minor": 0
      },
      "text/plain": [
       "Output()"
      ]
     },
     "metadata": {},
     "output_type": "display_data"
    }
   ],
   "source": [
    "test_score_py_button(score_py=\"source/score.py\")"
   ]
  },
  {
   "cell_type": "markdown",
   "metadata": {
    "pycharm": {
     "name": "#%% md\n"
    }
   },
   "source": [
    "### Deploy to Azure Kubernetes Service with Azure ML\n",
    "\n",
    "Train the model locally, and then deploy the web service to an Azure Kubernetes Cluster managed by an Azure Machine Learning Workspace. Use the output widget to explore the deployed resources.\n",
    "For more details see this [sample notebook](https://github.com/microsoft/az-deep-realtime-score/blob/master/%7B%7Bcookiecutter.project_name%7D%7D/Keras_Tensorflow/aks/04_DeployOnAKS.ipynb).\n",
    "\n",
    "> _**Action Required:** Press the button to deploy the scripts to Azure Machine Learning._"
   ]
  },
  {
   "cell_type": "code",
   "execution_count": 6,
   "metadata": {
    "jupyter": {
     "source_hidden": true
    },
    "pycharm": {
     "name": "#%%\n"
    }
   },
   "outputs": [
    {
     "data": {
      "application/vnd.jupyter.widget-view+json": {
       "model_id": "0c5c2a38a3924391afe2aae960226196",
       "version_major": 2,
       "version_minor": 0
      },
      "text/plain": [
       "Button(description='Deploy Service', style=ButtonStyle())"
      ]
     },
     "metadata": {},
     "output_type": "display_data"
    },
    {
     "data": {
      "application/vnd.jupyter.widget-view+json": {
       "model_id": "3198aa05186944d5b51e75be13db6a76",
       "version_major": 2,
       "version_minor": 0
      },
      "text/plain": [
       "Output()"
      ]
     },
     "metadata": {},
     "output_type": "display_data"
    }
   ],
   "source": [
    "deploy_button(project_configuration, train_py=\"train_dl.py\", score_py=\"score.py\")"
   ]
  },
  {
   "cell_type": "markdown",
   "metadata": {},
   "source": [
    "For more details on how to test the endpoint see this [sample notebook](https://github.com/microsoft/az-deep-realtime-score/blob/master/%7B%7Bcookiecutter.project_name%7D%7D/Keras_Tensorflow/aks/05_TestWebApp.ipynb).\n",
    " \n",
    "For more details on how to load test the endpoint see this [sample notebook](https://github.com/microsoft/az-deep-realtime-score/blob/master/%7B%7Bcookiecutter.project_name%7D%7D/Keras_Tensorflow/aks/06_SpeedTestWebApp.ipynb).\n",
    "\n",
    "Notebook Finished."
   ]
  }
 ],
 "metadata": {
  "celltoolbar": "Initialization Cell",
  "kernelspec": {
   "display_name": "AI",
   "language": "python",
   "name": "ai-utilities"
  },
  "language_info": {
   "codemirror_mode": {
    "name": "ipython",
    "version": 3
   },
   "file_extension": ".py",
   "mimetype": "text/x-python",
   "name": "python",
   "nbconvert_exporter": "python",
   "pygments_lexer": "ipython3",
   "version": "3.7.6"
  },
  "toc": {
   "base_numbering": 1,
   "nav_menu": {},
   "number_sections": false,
   "sideBar": true,
   "skip_h1_title": false,
   "title_cell": "Table of Contents",
   "title_sidebar": "Contents",
   "toc_cell": true,
   "toc_position": {
    "height": "237px",
    "left": "488px",
    "top": "188px",
    "width": "561px"
   },
   "toc_section_display": true,
   "toc_window_display": false
  },
  "widgets": {
   "application/vnd.jupyter.widget-state+json": {
    "state": {
     "066f9c4b685b40448b92d5a76ddfdf3b": {
      "model_module": "@jupyter-widgets/base",
      "model_module_version": "1.2.0",
      "model_name": "LayoutModel",
      "state": {}
     },
     "086b9d1afb9e4fe8874e50c35af4a0d0": {
      "model_module": "@jupyter-widgets/base",
      "model_module_version": "1.2.0",
      "model_name": "LayoutModel",
      "state": {}
     },
     "0c5c2a38a3924391afe2aae960226196": {
      "model_module": "@jupyter-widgets/controls",
      "model_module_version": "1.5.0",
      "model_name": "ButtonModel",
      "state": {
       "description": "Deploy Service",
       "layout": "IPY_MODEL_e2613a6ff36342fca122b3aab2f7560b",
       "style": "IPY_MODEL_c291525bb6f74f4b852598284d9bc53f"
      }
     },
     "0d76723adff34480a7f75bdcf4da9da5": {
      "model_module": "@jupyter-widgets/controls",
      "model_module_version": "1.5.0",
      "model_name": "TextModel",
      "state": {
       "description": "aks_service_name",
       "layout": "IPY_MODEL_d856cbbd0acb4750ba5d27260427b9e6",
       "placeholder": "AKS Service Name",
       "style": "IPY_MODEL_861e129e0a8f4adaa0a6b071424cd5cc",
       "value": "aksservice3"
      }
     },
     "10ca65274e91401fba9a6bc8943b2a5d": {
      "model_module": "@jupyter-widgets/controls",
      "model_module_version": "1.5.0",
      "model_name": "ButtonStyleModel",
      "state": {}
     },
     "1de98ad67e734902bcab8cd3ee248c76": {
      "model_module": "@jupyter-widgets/base",
      "model_module_version": "1.2.0",
      "model_name": "LayoutModel",
      "state": {}
     },
     "1e200b05a4d541d3abfad2109ecae070": {
      "model_module": "@jupyter-widgets/base",
      "model_module_version": "1.2.0",
      "model_name": "LayoutModel",
      "state": {}
     },
     "22496caff2d24841b07756e946e5d2fe": {
      "model_module": "@jupyter-widgets/controls",
      "model_module_version": "1.5.0",
      "model_name": "DropdownModel",
      "state": {
       "_options_labels": [
        "eastus",
        "eastus2",
        "canadacentral",
        "centralus",
        "northcentralus",
        "southcentralus",
        "westcentralus",
        "westus",
        "westus2"
       ],
       "description": "aks_location",
       "index": 0,
       "layout": "IPY_MODEL_1e200b05a4d541d3abfad2109ecae070",
       "style": "IPY_MODEL_c6e6d751ef484e69ae5433c28ee25019"
      }
     },
     "25e5fb2da06d4e58bf2a3b8e2b5434d0": {
      "model_module": "@jupyter-widgets/base",
      "model_module_version": "1.2.0",
      "model_name": "LayoutModel",
      "state": {}
     },
     "26fc315168284a7b88f690db4520e334": {
      "model_module": "@jupyter-widgets/controls",
      "model_module_version": "1.5.0",
      "model_name": "TextModel",
      "state": {
       "description": "image_name",
       "layout": "IPY_MODEL_f99223051a6f4d329ec4f4014fab4a5e",
       "placeholder": "Docker Container Image Name",
       "style": "IPY_MODEL_e26dac793c0146e0b2af70a63b982895",
       "value": "mymlimage3"
      }
     },
     "28efdb5e4711411885462b32536d0213": {
      "model_module": "@jupyter-widgets/controls",
      "model_module_version": "1.5.0",
      "model_name": "VBoxModel",
      "state": {
       "children": [
        "IPY_MODEL_316bc187f5f142ec9a7156646907dd97",
        "IPY_MODEL_b2168ff8ffff494b8f097b1120c48b8f",
        "IPY_MODEL_31897801f3964a8d9115992cc3109253",
        "IPY_MODEL_5bb636908b2041c694fda1993e7aa2c2",
        "IPY_MODEL_70272d61911941e7a88a39c4f46a717c",
        "IPY_MODEL_3e051c7b20a5484ba085c30446d6692f",
        "IPY_MODEL_26fc315168284a7b88f690db4520e334",
        "IPY_MODEL_0d76723adff34480a7f75bdcf4da9da5",
        "IPY_MODEL_22496caff2d24841b07756e946e5d2fe",
        "IPY_MODEL_49418bb4ef8e43af8f3749bf4272c636",
        "IPY_MODEL_338aecb55a3f4752b5aa554a779b23e0",
        "IPY_MODEL_332fd67565f54b23b498602bd9c82eb3",
        "IPY_MODEL_b36da207755f4de687b7d1108cb6c263",
        "IPY_MODEL_db7ee982dfe14b0e8220210e8a0ddbe6"
       ],
       "layout": "IPY_MODEL_066f9c4b685b40448b92d5a76ddfdf3b"
      }
     },
     "29ce8ac7bbf745c0a6edfbac3a4a22f3": {
      "model_module": "@jupyter-widgets/base",
      "model_module_version": "1.2.0",
      "model_name": "LayoutModel",
      "state": {}
     },
     "2faf8ac0bf1b4892bfd4af0511e76475": {
      "model_module": "@jupyter-widgets/controls",
      "model_module_version": "1.5.0",
      "model_name": "DescriptionStyleModel",
      "state": {
       "description_width": ""
      }
     },
     "30a4fc653d3f4f11b92b4491d4e209a2": {
      "model_module": "@jupyter-widgets/controls",
      "model_module_version": "1.5.0",
      "model_name": "ButtonStyleModel",
      "state": {}
     },
     "316bc187f5f142ec9a7156646907dd97": {
      "model_module": "@jupyter-widgets/output",
      "model_module_version": "1.0.0",
      "model_name": "OutputModel",
      "state": {
       "layout": "IPY_MODEL_dc39005565784443b512ad0d4c76eb37"
      }
     },
     "31897801f3964a8d9115992cc3109253": {
      "model_module": "@jupyter-widgets/controls",
      "model_module_version": "1.5.0",
      "model_name": "TextModel",
      "state": {
       "description": "subscription_id",
       "layout": "IPY_MODEL_3682e7a759db4fba8feade99bb0b70d6",
       "placeholder": "Azure Subscription Id",
       "style": "IPY_MODEL_3e5623f3678346f39257f79a1633a427",
       "value": "0ca618d2-22a8-413a-96d0-0f1b531129c3"
      }
     },
     "3198aa05186944d5b51e75be13db6a76": {
      "model_module": "@jupyter-widgets/output",
      "model_module_version": "1.0.0",
      "model_name": "OutputModel",
      "state": {
       "layout": "IPY_MODEL_48cba9fa23fa44dda68f08d3c3501a75"
      }
     },
     "32b99ffb21084faeb090de7a1618acd7": {
      "model_module": "@jupyter-widgets/controls",
      "model_module_version": "1.5.0",
      "model_name": "DescriptionStyleModel",
      "state": {
       "description_width": ""
      }
     },
     "332fd67565f54b23b498602bd9c82eb3": {
      "model_module": "@jupyter-widgets/controls",
      "model_module_version": "1.5.0",
      "model_name": "TextModel",
      "state": {
       "description": "deep_aks_service_name",
       "layout": "IPY_MODEL_3f99190485824baaace862ea20edf941",
       "placeholder": "AKS Service Name",
       "style": "IPY_MODEL_537937c0ac92409197e5fd4ac1704da2",
       "value": "deepaksservice3"
      }
     },
     "338aecb55a3f4752b5aa554a779b23e0": {
      "model_module": "@jupyter-widgets/controls",
      "model_module_version": "1.5.0",
      "model_name": "TextModel",
      "state": {
       "description": "deep_image_name",
       "layout": "IPY_MODEL_84ba959ab72744c89f6eb03a73d08dca",
       "placeholder": "Docker Container Image Name",
       "style": "IPY_MODEL_f0efe00cea964de4ad2dfa573c02bf96",
       "value": "mydeepimage3"
      }
     },
     "347692ce22744167b6f91e2bf91c4fcb": {
      "model_module": "@jupyter-widgets/base",
      "model_module_version": "1.2.0",
      "model_name": "LayoutModel",
      "state": {}
     },
     "3682e7a759db4fba8feade99bb0b70d6": {
      "model_module": "@jupyter-widgets/base",
      "model_module_version": "1.2.0",
      "model_name": "LayoutModel",
      "state": {}
     },
     "3e051c7b20a5484ba085c30446d6692f": {
      "model_module": "@jupyter-widgets/controls",
      "model_module_version": "1.5.0",
      "model_name": "DropdownModel",
      "state": {
       "_options_labels": [
        "eastus",
        "eastus2",
        "canadacentral",
        "centralus",
        "northcentralus",
        "southcentralus",
        "westcentralus",
        "westus",
        "westus2"
       ],
       "description": "workspace_region",
       "index": 0,
       "layout": "IPY_MODEL_dd0b9bea71624d26be736b852cc14539",
       "style": "IPY_MODEL_eae63a776bb74a3fa64bef31032435bf"
      }
     },
     "3e5623f3678346f39257f79a1633a427": {
      "model_module": "@jupyter-widgets/controls",
      "model_module_version": "1.5.0",
      "model_name": "DescriptionStyleModel",
      "state": {
       "description_width": ""
      }
     },
     "3f9073173ee84a41b47a68655eb1ae1b": {
      "model_module": "@jupyter-widgets/controls",
      "model_module_version": "1.5.0",
      "model_name": "DescriptionStyleModel",
      "state": {
       "description_width": ""
      }
     },
     "3f99190485824baaace862ea20edf941": {
      "model_module": "@jupyter-widgets/base",
      "model_module_version": "1.2.0",
      "model_name": "LayoutModel",
      "state": {}
     },
     "42788f17980341cd8c54bd7fc3c94bb0": {
      "model_module": "@jupyter-widgets/output",
      "model_module_version": "1.0.0",
      "model_name": "OutputModel",
      "state": {
       "layout": "IPY_MODEL_dd2358d1ad7840609dee6d5ad6c448b9"
      }
     },
     "48cba9fa23fa44dda68f08d3c3501a75": {
      "model_module": "@jupyter-widgets/base",
      "model_module_version": "1.2.0",
      "model_name": "LayoutModel",
      "state": {}
     },
     "49418bb4ef8e43af8f3749bf4272c636": {
      "model_module": "@jupyter-widgets/controls",
      "model_module_version": "1.5.0",
      "model_name": "TextModel",
      "state": {
       "description": "aks_name",
       "layout": "IPY_MODEL_fd5444495fc747fdb3bd40202bd8ed9e",
       "placeholder": "AKS Cluster Name",
       "style": "IPY_MODEL_8d19161b84b842f4a2f0b1dd91c84db8",
       "value": "akscluster3"
      }
     },
     "509612ec1f624ad48dab9ef0b7940b1e": {
      "model_module": "@jupyter-widgets/base",
      "model_module_version": "1.2.0",
      "model_name": "LayoutModel",
      "state": {}
     },
     "537937c0ac92409197e5fd4ac1704da2": {
      "model_module": "@jupyter-widgets/controls",
      "model_module_version": "1.5.0",
      "model_name": "DescriptionStyleModel",
      "state": {
       "description_width": ""
      }
     },
     "5bb636908b2041c694fda1993e7aa2c2": {
      "model_module": "@jupyter-widgets/controls",
      "model_module_version": "1.5.0",
      "model_name": "TextModel",
      "state": {
       "description": "resource_group",
       "layout": "IPY_MODEL_b1ac0d39697e4444827f2df16361d700",
       "placeholder": "Azure Resource Group Name",
       "style": "IPY_MODEL_76cb10b8eac8455aa5d021651ae4eb3d",
       "value": "azmlrts-eastus-stable3"
      }
     },
     "60560c0a3c11491fa16f2721d6f77455": {
      "model_module": "@jupyter-widgets/controls",
      "model_module_version": "1.5.0",
      "model_name": "TextModel",
      "state": {
       "description": "aks_location",
       "layout": "IPY_MODEL_ea5ae468393042e78cf512b21e086c42",
       "placeholder": "AKS Azure Region",
       "style": "IPY_MODEL_fd71f5798030404bbd8f242057ce54de",
       "value": "eastus"
      }
     },
     "6f8c5b8feb3f453895dc503fe304b8d2": {
      "model_module": "@jupyter-widgets/base",
      "model_module_version": "1.2.0",
      "model_name": "LayoutModel",
      "state": {}
     },
     "70272d61911941e7a88a39c4f46a717c": {
      "model_module": "@jupyter-widgets/controls",
      "model_module_version": "1.5.0",
      "model_name": "TextModel",
      "state": {
       "description": "workspace_name",
       "layout": "IPY_MODEL_6f8c5b8feb3f453895dc503fe304b8d2",
       "placeholder": "Azure ML Workspace Name",
       "style": "IPY_MODEL_ec856b711aa84c72bf69a38c550018d3",
       "value": "azmlrts-eastus3"
      }
     },
     "7304c33e13304a639f4f15e335870125": {
      "model_module": "@jupyter-widgets/controls",
      "model_module_version": "1.5.0",
      "model_name": "ButtonModel",
      "state": {
       "description": "Test score.py",
       "layout": "IPY_MODEL_25e5fb2da06d4e58bf2a3b8e2b5434d0",
       "style": "IPY_MODEL_10ca65274e91401fba9a6bc8943b2a5d"
      }
     },
     "76cb10b8eac8455aa5d021651ae4eb3d": {
      "model_module": "@jupyter-widgets/controls",
      "model_module_version": "1.5.0",
      "model_name": "DescriptionStyleModel",
      "state": {
       "description_width": ""
      }
     },
     "7777a36b7968453dbdd9db77dea377af": {
      "model_module": "@jupyter-widgets/controls",
      "model_module_version": "1.5.0",
      "model_name": "TextModel",
      "state": {
       "description": "workspace_region",
       "layout": "IPY_MODEL_1de98ad67e734902bcab8cd3ee248c76",
       "placeholder": "Azure ML Workspace Region",
       "style": "IPY_MODEL_3f9073173ee84a41b47a68655eb1ae1b",
       "value": "eastus"
      }
     },
     "84ba959ab72744c89f6eb03a73d08dca": {
      "model_module": "@jupyter-widgets/base",
      "model_module_version": "1.2.0",
      "model_name": "LayoutModel",
      "state": {}
     },
     "861e129e0a8f4adaa0a6b071424cd5cc": {
      "model_module": "@jupyter-widgets/controls",
      "model_module_version": "1.5.0",
      "model_name": "DescriptionStyleModel",
      "state": {
       "description_width": ""
      }
     },
     "895a0a8da86a4a429826b6a66c103a6c": {
      "model_module": "@jupyter-widgets/controls",
      "model_module_version": "1.5.0",
      "model_name": "ButtonStyleModel",
      "state": {}
     },
     "8d19161b84b842f4a2f0b1dd91c84db8": {
      "model_module": "@jupyter-widgets/controls",
      "model_module_version": "1.5.0",
      "model_name": "DescriptionStyleModel",
      "state": {
       "description_width": ""
      }
     },
     "b1ac0d39697e4444827f2df16361d700": {
      "model_module": "@jupyter-widgets/base",
      "model_module_version": "1.2.0",
      "model_name": "LayoutModel",
      "state": {}
     },
     "b2168ff8ffff494b8f097b1120c48b8f": {
      "model_module": "@jupyter-widgets/controls",
      "model_module_version": "1.5.0",
      "model_name": "FileUploadModel",
      "state": {
       "accept": ".yml",
       "description_tooltip": null,
       "layout": "IPY_MODEL_347692ce22744167b6f91e2bf91c4fcb",
       "style": "IPY_MODEL_30a4fc653d3f4f11b92b4491d4e209a2"
      }
     },
     "b36da207755f4de687b7d1108cb6c263": {
      "model_module": "@jupyter-widgets/controls",
      "model_module_version": "1.5.0",
      "model_name": "TextModel",
      "state": {
       "description": "deep_aks_name",
       "layout": "IPY_MODEL_086b9d1afb9e4fe8874e50c35af4a0d0",
       "placeholder": "AKS Cluster Name",
       "style": "IPY_MODEL_b95d827a39244ebfbf77aaed3e672d3e",
       "value": "deepakscluster3"
      }
     },
     "b95d827a39244ebfbf77aaed3e672d3e": {
      "model_module": "@jupyter-widgets/controls",
      "model_module_version": "1.5.0",
      "model_name": "DescriptionStyleModel",
      "state": {
       "description_width": ""
      }
     },
     "c291525bb6f74f4b852598284d9bc53f": {
      "model_module": "@jupyter-widgets/controls",
      "model_module_version": "1.5.0",
      "model_name": "ButtonStyleModel",
      "state": {}
     },
     "c6e6d751ef484e69ae5433c28ee25019": {
      "model_module": "@jupyter-widgets/controls",
      "model_module_version": "1.5.0",
      "model_name": "DescriptionStyleModel",
      "state": {
       "description_width": ""
      }
     },
     "ce3745e6874f4e1d8e6b5b1be0b4d770": {
      "model_module": "@jupyter-widgets/base",
      "model_module_version": "1.2.0",
      "model_name": "LayoutModel",
      "state": {}
     },
     "d84bcfe30c164d49ad03dd531a6ba37f": {
      "model_module": "@jupyter-widgets/controls",
      "model_module_version": "1.5.0",
      "model_name": "ButtonModel",
      "state": {
       "description": "Test train.py",
       "layout": "IPY_MODEL_509612ec1f624ad48dab9ef0b7940b1e",
       "style": "IPY_MODEL_895a0a8da86a4a429826b6a66c103a6c"
      }
     },
     "d856cbbd0acb4750ba5d27260427b9e6": {
      "model_module": "@jupyter-widgets/base",
      "model_module_version": "1.2.0",
      "model_name": "LayoutModel",
      "state": {}
     },
     "db7ee982dfe14b0e8220210e8a0ddbe6": {
      "model_module": "@jupyter-widgets/controls",
      "model_module_version": "1.5.0",
      "model_name": "DropdownModel",
      "state": {
       "_options_labels": [
        "eastus",
        "eastus2",
        "canadacentral",
        "centralus",
        "northcentralus",
        "southcentralus",
        "westcentralus",
        "westus",
        "westus2"
       ],
       "description": "deep_aks_location",
       "index": 0,
       "layout": "IPY_MODEL_ce3745e6874f4e1d8e6b5b1be0b4d770",
       "style": "IPY_MODEL_2faf8ac0bf1b4892bfd4af0511e76475"
      }
     },
     "dc39005565784443b512ad0d4c76eb37": {
      "model_module": "@jupyter-widgets/base",
      "model_module_version": "1.2.0",
      "model_name": "LayoutModel",
      "state": {}
     },
     "dd0b9bea71624d26be736b852cc14539": {
      "model_module": "@jupyter-widgets/base",
      "model_module_version": "1.2.0",
      "model_name": "LayoutModel",
      "state": {}
     },
     "dd2358d1ad7840609dee6d5ad6c448b9": {
      "model_module": "@jupyter-widgets/base",
      "model_module_version": "1.2.0",
      "model_name": "LayoutModel",
      "state": {}
     },
     "e2613a6ff36342fca122b3aab2f7560b": {
      "model_module": "@jupyter-widgets/base",
      "model_module_version": "1.2.0",
      "model_name": "LayoutModel",
      "state": {}
     },
     "e26dac793c0146e0b2af70a63b982895": {
      "model_module": "@jupyter-widgets/controls",
      "model_module_version": "1.5.0",
      "model_name": "DescriptionStyleModel",
      "state": {
       "description_width": ""
      }
     },
     "e2e6aa5a4a26472db0f891a77acc3e26": {
      "model_module": "@jupyter-widgets/controls",
      "model_module_version": "1.5.0",
      "model_name": "TextModel",
      "state": {
       "description": "deep_aks_location",
       "layout": "IPY_MODEL_eabce0c58c834d748d851bb5e28b961b",
       "placeholder": "AKS Azure Region",
       "style": "IPY_MODEL_32b99ffb21084faeb090de7a1618acd7",
       "value": "eastus"
      }
     },
     "ea5ae468393042e78cf512b21e086c42": {
      "model_module": "@jupyter-widgets/base",
      "model_module_version": "1.2.0",
      "model_name": "LayoutModel",
      "state": {}
     },
     "eabce0c58c834d748d851bb5e28b961b": {
      "model_module": "@jupyter-widgets/base",
      "model_module_version": "1.2.0",
      "model_name": "LayoutModel",
      "state": {}
     },
     "eae63a776bb74a3fa64bef31032435bf": {
      "model_module": "@jupyter-widgets/controls",
      "model_module_version": "1.5.0",
      "model_name": "DescriptionStyleModel",
      "state": {
       "description_width": ""
      }
     },
     "ec856b711aa84c72bf69a38c550018d3": {
      "model_module": "@jupyter-widgets/controls",
      "model_module_version": "1.5.0",
      "model_name": "DescriptionStyleModel",
      "state": {
       "description_width": ""
      }
     },
     "f0efe00cea964de4ad2dfa573c02bf96": {
      "model_module": "@jupyter-widgets/controls",
      "model_module_version": "1.5.0",
      "model_name": "DescriptionStyleModel",
      "state": {
       "description_width": ""
      }
     },
     "f2cd9ad6e0b44a66948cecd91e2c7a02": {
      "model_module": "@jupyter-widgets/output",
      "model_module_version": "1.0.0",
      "model_name": "OutputModel",
      "state": {
       "layout": "IPY_MODEL_29ce8ac7bbf745c0a6edfbac3a4a22f3",
       "outputs": [
        {
         "name": "stderr",
         "output_type": "stream",
         "text": "Using TensorFlow backend.\n"
        },
        {
         "name": "stdout",
         "output_type": "stream",
         "text": "tracking <tf.Variable 'scale_conv1/scale_conv1_gamma:0' shape=(64,) dtype=float32> gamma\ntracking <tf.Variable 'scale_conv1/scale_conv1_beta:0' shape=(64,) dtype=float32> beta\ntracking <tf.Variable 'scale2a_branch2a/scale2a_branch2a_gamma:0' shape=(64,) dtype=float32> gamma\ntracking <tf.Variable 'scale2a_branch2a/scale2a_branch2a_beta:0' shape=(64,) dtype=float32> beta\ntracking <tf.Variable 'scale2a_branch2b/scale2a_branch2b_gamma:0' shape=(64,) dtype=float32> gamma\ntracking <tf.Variable 'scale2a_branch2b/scale2a_branch2b_beta:0' shape=(64,) dtype=float32> beta\ntracking <tf.Variable 'scale2a_branch2c/scale2a_branch2c_gamma:0' shape=(256,) dtype=float32> gamma\ntracking <tf.Variable 'scale2a_branch2c/scale2a_branch2c_beta:0' shape=(256,) dtype=float32> beta\ntracking <tf.Variable 'scale2a_branch1/scale2a_branch1_gamma:0' shape=(256,) dtype=float32> gamma\ntracking <tf.Variable 'scale2a_branch1/scale2a_branch1_beta:0' shape=(256,) dtype=float32> beta\ntracking <tf.Variable 'scale2b_branch2a/scale2b_branch2a_gamma:0' shape=(64,) dtype=float32> gamma\ntracking <tf.Variable 'scale2b_branch2a/scale2b_branch2a_beta:0' shape=(64,) dtype=float32> beta\ntracking <tf.Variable 'scale2b_branch2b/scale2b_branch2b_gamma:0' shape=(64,) dtype=float32> gamma\ntracking <tf.Variable 'scale2b_branch2b/scale2b_branch2b_beta:0' shape=(64,) dtype=float32> beta\ntracking <tf.Variable 'scale2b_branch2c/scale2b_branch2c_gamma:0' shape=(256,) dtype=float32> gamma\ntracking <tf.Variable 'scale2b_branch2c/scale2b_branch2c_beta:0' shape=(256,) dtype=float32> beta\ntracking <tf.Variable 'scale2c_branch2a/scale2c_branch2a_gamma:0' shape=(64,) dtype=float32> gamma\ntracking <tf.Variable 'scale2c_branch2a/scale2c_branch2a_beta:0' shape=(64,) dtype=float32> beta\ntracking <tf.Variable 'scale2c_branch2b/scale2c_branch2b_gamma:0' shape=(64,) dtype=float32> gamma\ntracking <tf.Variable 'scale2c_branch2b/scale2c_branch2b_beta:0' shape=(64,) dtype=float32> beta\ntracking <tf.Variable 'scale2c_branch2c/scale2c_branch2c_gamma:0' shape=(256,) dtype=float32> gamma\ntracking <tf.Variable 'scale2c_branch2c/scale2c_branch2c_beta:0' shape=(256,) dtype=float32> beta\ntracking <tf.Variable 'scale3a_branch2a/scale3a_branch2a_gamma:0' shape=(128,) dtype=float32> gamma\ntracking <tf.Variable 'scale3a_branch2a/scale3a_branch2a_beta:0' shape=(128,) dtype=float32> beta\ntracking <tf.Variable 'scale3a_branch2b/scale3a_branch2b_gamma:0' shape=(128,) dtype=float32> gamma\ntracking <tf.Variable 'scale3a_branch2b/scale3a_branch2b_beta:0' shape=(128,) dtype=float32> beta\ntracking <tf.Variable 'scale3a_branch2c/scale3a_branch2c_gamma:0' shape=(512,) dtype=float32> gamma\ntracking <tf.Variable 'scale3a_branch2c/scale3a_branch2c_beta:0' shape=(512,) dtype=float32> beta\ntracking <tf.Variable 'scale3a_branch1/scale3a_branch1_gamma:0' shape=(512,) dtype=float32> gamma\ntracking <tf.Variable 'scale3a_branch1/scale3a_branch1_beta:0' shape=(512,) dtype=float32> beta\ntracking <tf.Variable 'scale3b1_branch2a/scale3b1_branch2a_gamma:0' shape=(128,) dtype=float32> gamma\ntracking <tf.Variable 'scale3b1_branch2a/scale3b1_branch2a_beta:0' shape=(128,) dtype=float32> beta\ntracking <tf.Variable 'scale3b1_branch2b/scale3b1_branch2b_gamma:0' shape=(128,) dtype=float32> gamma\ntracking <tf.Variable 'scale3b1_branch2b/scale3b1_branch2b_beta:0' shape=(128,) dtype=float32> beta\ntracking <tf.Variable 'scale3b1_branch2c/scale3b1_branch2c_gamma:0' shape=(512,) dtype=float32> gamma\ntracking <tf.Variable 'scale3b1_branch2c/scale3b1_branch2c_beta:0' shape=(512,) dtype=float32> beta\ntracking <tf.Variable 'scale3b2_branch2a/scale3b2_branch2a_gamma:0' shape=(128,) dtype=float32> gamma\ntracking <tf.Variable 'scale3b2_branch2a/scale3b2_branch2a_beta:0' shape=(128,) dtype=float32> beta\ntracking <tf.Variable 'scale3b2_branch2b/scale3b2_branch2b_gamma:0' shape=(128,) dtype=float32> gamma\ntracking <tf.Variable 'scale3b2_branch2b/scale3b2_branch2b_beta:0' shape=(128,) dtype=float32> beta\ntracking <tf.Variable 'scale3b2_branch2c/scale3b2_branch2c_gamma:0' shape=(512,) dtype=float32> gamma\ntracking <tf.Variable 'scale3b2_branch2c/scale3b2_branch2c_beta:0' shape=(512,) dtype=float32> beta\ntracking <tf.Variable 'scale3b3_branch2a/scale3b3_branch2a_gamma:0' shape=(128,) dtype=float32> gamma\ntracking <tf.Variable 'scale3b3_branch2a/scale3b3_branch2a_beta:0' shape=(128,) dtype=float32> beta\ntracking <tf.Variable 'scale3b3_branch2b/scale3b3_branch2b_gamma:0' shape=(128,) dtype=float32> gamma\ntracking <tf.Variable 'scale3b3_branch2b/scale3b3_branch2b_beta:0' shape=(128,) dtype=float32> beta\ntracking <tf.Variable 'scale3b3_branch2c/scale3b3_branch2c_gamma:0' shape=(512,) dtype=float32> gamma\ntracking <tf.Variable 'scale3b3_branch2c/scale3b3_branch2c_beta:0' shape=(512,) dtype=float32> beta\ntracking <tf.Variable 'scale3b4_branch2a/scale3b4_branch2a_gamma:0' shape=(128,) dtype=float32> gamma\ntracking <tf.Variable 'scale3b4_branch2a/scale3b4_branch2a_beta:0' shape=(128,) dtype=float32> beta\ntracking <tf.Variable 'scale3b4_branch2b/scale3b4_branch2b_gamma:0' shape=(128,) dtype=float32> gamma\ntracking <tf.Variable 'scale3b4_branch2b/scale3b4_branch2b_beta:0' shape=(128,) dtype=float32> beta\ntracking <tf.Variable 'scale3b4_branch2c/scale3b4_branch2c_gamma:0' shape=(512,) dtype=float32> gamma\ntracking <tf.Variable 'scale3b4_branch2c/scale3b4_branch2c_beta:0' shape=(512,) dtype=float32> beta\ntracking <tf.Variable 'scale3b5_branch2a/scale3b5_branch2a_gamma:0' shape=(128,) dtype=float32> gamma\ntracking <tf.Variable 'scale3b5_branch2a/scale3b5_branch2a_beta:0' shape=(128,) dtype=float32> beta\ntracking <tf.Variable 'scale3b5_branch2b/scale3b5_branch2b_gamma:0' shape=(128,) dtype=float32> gamma\ntracking <tf.Variable 'scale3b5_branch2b/scale3b5_branch2b_beta:0' shape=(128,) dtype=float32> beta\ntracking <tf.Variable 'scale3b5_branch2c/scale3b5_branch2c_gamma:0' shape=(512,) dtype=float32> gamma\ntracking <tf.Variable 'scale3b5_branch2c/scale3b5_branch2c_beta:0' shape=(512,) dtype=float32> beta\ntracking <tf.Variable 'scale3b6_branch2a/scale3b6_branch2a_gamma:0' shape=(128,) dtype=float32> gamma\ntracking <tf.Variable 'scale3b6_branch2a/scale3b6_branch2a_beta:0' shape=(128,) dtype=float32> beta\ntracking <tf.Variable 'scale3b6_branch2b/scale3b6_branch2b_gamma:0' shape=(128,) dtype=float32> gamma\ntracking <tf.Variable 'scale3b6_branch2b/scale3b6_branch2b_beta:0' shape=(128,) dtype=float32> beta\ntracking <tf.Variable 'scale3b6_branch2c/scale3b6_branch2c_gamma:0' shape=(512,) dtype=float32> gamma\ntracking <tf.Variable 'scale3b6_branch2c/scale3b6_branch2c_beta:0' shape=(512,) dtype=float32> beta\ntracking <tf.Variable 'scale3b7_branch2a/scale3b7_branch2a_gamma:0' shape=(128,) dtype=float32> gamma\ntracking <tf.Variable 'scale3b7_branch2a/scale3b7_branch2a_beta:0' shape=(128,) dtype=float32> beta\ntracking <tf.Variable 'scale3b7_branch2b/scale3b7_branch2b_gamma:0' shape=(128,) dtype=float32> gamma\ntracking <tf.Variable 'scale3b7_branch2b/scale3b7_branch2b_beta:0' shape=(128,) dtype=float32> beta\ntracking <tf.Variable 'scale3b7_branch2c/scale3b7_branch2c_gamma:0' shape=(512,) dtype=float32> gamma\ntracking <tf.Variable 'scale3b7_branch2c/scale3b7_branch2c_beta:0' shape=(512,) dtype=float32> beta\ntracking <tf.Variable 'scale4a_branch2a/scale4a_branch2a_gamma:0' shape=(256,) dtype=float32> gamma\ntracking <tf.Variable 'scale4a_branch2a/scale4a_branch2a_beta:0' shape=(256,) dtype=float32> beta\ntracking <tf.Variable 'scale4a_branch2b/scale4a_branch2b_gamma:0' shape=(256,) dtype=float32> gamma\ntracking <tf.Variable 'scale4a_branch2b/scale4a_branch2b_beta:0' shape=(256,) dtype=float32> beta\ntracking <tf.Variable 'scale4a_branch2c/scale4a_branch2c_gamma:0' shape=(1024,) dtype=float32> gamma\ntracking <tf.Variable 'scale4a_branch2c/scale4a_branch2c_beta:0' shape=(1024,) dtype=float32> beta\ntracking <tf.Variable 'scale4a_branch1/scale4a_branch1_gamma:0' shape=(1024,) dtype=float32> gamma\ntracking <tf.Variable 'scale4a_branch1/scale4a_branch1_beta:0' shape=(1024,) dtype=float32> beta\ntracking <tf.Variable 'scale4b1_branch2a/scale4b1_branch2a_gamma:0' shape=(256,) dtype=float32> gamma\ntracking <tf.Variable 'scale4b1_branch2a/scale4b1_branch2a_beta:0' shape=(256,) dtype=float32> beta\ntracking <tf.Variable 'scale4b1_branch2b/scale4b1_branch2b_gamma:0' shape=(256,) dtype=float32> gamma\ntracking <tf.Variable 'scale4b1_branch2b/scale4b1_branch2b_beta:0' shape=(256,) dtype=float32> beta\ntracking <tf.Variable 'scale4b1_branch2c/scale4b1_branch2c_gamma:0' shape=(1024,) dtype=float32> gamma\ntracking <tf.Variable 'scale4b1_branch2c/scale4b1_branch2c_beta:0' shape=(1024,) dtype=float32> beta\ntracking <tf.Variable 'scale4b2_branch2a/scale4b2_branch2a_gamma:0' shape=(256,) dtype=float32> gamma\ntracking <tf.Variable 'scale4b2_branch2a/scale4b2_branch2a_beta:0' shape=(256,) dtype=float32> beta\ntracking <tf.Variable 'scale4b2_branch2b/scale4b2_branch2b_gamma:0' shape=(256,) dtype=float32> gamma\ntracking <tf.Variable 'scale4b2_branch2b/scale4b2_branch2b_beta:0' shape=(256,) dtype=float32> beta\ntracking <tf.Variable 'scale4b2_branch2c/scale4b2_branch2c_gamma:0' shape=(1024,) dtype=float32> gamma\ntracking <tf.Variable 'scale4b2_branch2c/scale4b2_branch2c_beta:0' shape=(1024,) dtype=float32> beta\ntracking <tf.Variable 'scale4b3_branch2a/scale4b3_branch2a_gamma:0' shape=(256,) dtype=float32> gamma\ntracking <tf.Variable 'scale4b3_branch2a/scale4b3_branch2a_beta:0' shape=(256,) dtype=float32> beta\ntracking <tf.Variable 'scale4b3_branch2b/scale4b3_branch2b_gamma:0' shape=(256,) dtype=float32> gamma\ntracking <tf.Variable 'scale4b3_branch2b/scale4b3_branch2b_beta:0' shape=(256,) dtype=float32> beta\ntracking <tf.Variable 'scale4b3_branch2c/scale4b3_branch2c_gamma:0' shape=(1024,) dtype=float32> gamma\ntracking <tf.Variable 'scale4b3_branch2c/scale4b3_branch2c_beta:0' shape=(1024,) dtype=float32> beta\ntracking <tf.Variable 'scale4b4_branch2a/scale4b4_branch2a_gamma:0' shape=(256,) dtype=float32> gamma\ntracking <tf.Variable 'scale4b4_branch2a/scale4b4_branch2a_beta:0' shape=(256,) dtype=float32> beta\ntracking <tf.Variable 'scale4b4_branch2b/scale4b4_branch2b_gamma:0' shape=(256,) dtype=float32> gamma\ntracking <tf.Variable 'scale4b4_branch2b/scale4b4_branch2b_beta:0' shape=(256,) dtype=float32> beta\ntracking <tf.Variable 'scale4b4_branch2c/scale4b4_branch2c_gamma:0' shape=(1024,) dtype=float32> gamma\ntracking <tf.Variable 'scale4b4_branch2c/scale4b4_branch2c_beta:0' shape=(1024,) dtype=float32> beta\ntracking <tf.Variable 'scale4b5_branch2a/scale4b5_branch2a_gamma:0' shape=(256,) dtype=float32> gamma\ntracking <tf.Variable 'scale4b5_branch2a/scale4b5_branch2a_beta:0' shape=(256,) dtype=float32> beta\ntracking <tf.Variable 'scale4b5_branch2b/scale4b5_branch2b_gamma:0' shape=(256,) dtype=float32> gamma\ntracking <tf.Variable 'scale4b5_branch2b/scale4b5_branch2b_beta:0' shape=(256,) dtype=float32> beta\ntracking <tf.Variable 'scale4b5_branch2c/scale4b5_branch2c_gamma:0' shape=(1024,) dtype=float32> gamma\ntracking <tf.Variable 'scale4b5_branch2c/scale4b5_branch2c_beta:0' shape=(1024,) dtype=float32> beta\ntracking <tf.Variable 'scale4b6_branch2a/scale4b6_branch2a_gamma:0' shape=(256,) dtype=float32> gamma\ntracking <tf.Variable 'scale4b6_branch2a/scale4b6_branch2a_beta:0' shape=(256,) dtype=float32> beta\ntracking <tf.Variable 'scale4b6_branch2b/scale4b6_branch2b_gamma:0' shape=(256,) dtype=float32> gamma\ntracking <tf.Variable 'scale4b6_branch2b/scale4b6_branch2b_beta:0' shape=(256,) dtype=float32> beta\ntracking <tf.Variable 'scale4b6_branch2c/scale4b6_branch2c_gamma:0' shape=(1024,) dtype=float32> gamma\ntracking <tf.Variable 'scale4b6_branch2c/scale4b6_branch2c_beta:0' shape=(1024,) dtype=float32> beta\ntracking <tf.Variable 'scale4b7_branch2a/scale4b7_branch2a_gamma:0' shape=(256,) dtype=float32> gamma\ntracking <tf.Variable 'scale4b7_branch2a/scale4b7_branch2a_beta:0' shape=(256,) dtype=float32> beta\ntracking <tf.Variable 'scale4b7_branch2b/scale4b7_branch2b_gamma:0' shape=(256,) dtype=float32> gamma\ntracking <tf.Variable 'scale4b7_branch2b/scale4b7_branch2b_beta:0' shape=(256,) dtype=float32> beta\ntracking <tf.Variable 'scale4b7_branch2c/scale4b7_branch2c_gamma:0' shape=(1024,) dtype=float32> gamma\ntracking <tf.Variable 'scale4b7_branch2c/scale4b7_branch2c_beta:0' shape=(1024,) dtype=float32> beta\ntracking <tf.Variable 'scale4b8_branch2a/scale4b8_branch2a_gamma:0' shape=(256,) dtype=float32> gamma\ntracking <tf.Variable 'scale4b8_branch2a/scale4b8_branch2a_beta:0' shape=(256,) dtype=float32> beta\ntracking <tf.Variable 'scale4b8_branch2b/scale4b8_branch2b_gamma:0' shape=(256,) dtype=float32> gamma\ntracking <tf.Variable 'scale4b8_branch2b/scale4b8_branch2b_beta:0' shape=(256,) dtype=float32> beta\ntracking <tf.Variable 'scale4b8_branch2c/scale4b8_branch2c_gamma:0' shape=(1024,) dtype=float32> gamma\ntracking <tf.Variable 'scale4b8_branch2c/scale4b8_branch2c_beta:0' shape=(1024,) dtype=float32> beta\ntracking <tf.Variable 'scale4b9_branch2a/scale4b9_branch2a_gamma:0' shape=(256,) dtype=float32> gamma\ntracking <tf.Variable 'scale4b9_branch2a/scale4b9_branch2a_beta:0' shape=(256,) dtype=float32> beta\ntracking <tf.Variable 'scale4b9_branch2b/scale4b9_branch2b_gamma:0' shape=(256,) dtype=float32> gamma\ntracking <tf.Variable 'scale4b9_branch2b/scale4b9_branch2b_beta:0' shape=(256,) dtype=float32> beta\ntracking <tf.Variable 'scale4b9_branch2c/scale4b9_branch2c_gamma:0' shape=(1024,) dtype=float32> gamma\ntracking <tf.Variable 'scale4b9_branch2c/scale4b9_branch2c_beta:0' shape=(1024,) dtype=float32> beta\ntracking <tf.Variable 'scale4b10_branch2a/scale4b10_branch2a_gamma:0' shape=(256,) dtype=float32> gamma\ntracking <tf.Variable 'scale4b10_branch2a/scale4b10_branch2a_beta:0' shape=(256,) dtype=float32> beta\ntracking <tf.Variable 'scale4b10_branch2b/scale4b10_branch2b_gamma:0' shape=(256,) dtype=float32> gamma\ntracking <tf.Variable 'scale4b10_branch2b/scale4b10_branch2b_beta:0' shape=(256,) dtype=float32> beta\ntracking <tf.Variable 'scale4b10_branch2c/scale4b10_branch2c_gamma:0' shape=(1024,) dtype=float32> gamma\ntracking <tf.Variable 'scale4b10_branch2c/scale4b10_branch2c_beta:0' shape=(1024,) dtype=float32> beta\ntracking <tf.Variable 'scale4b11_branch2a/scale4b11_branch2a_gamma:0' shape=(256,) dtype=float32> gamma\ntracking <tf.Variable 'scale4b11_branch2a/scale4b11_branch2a_beta:0' shape=(256,) dtype=float32> beta\ntracking <tf.Variable 'scale4b11_branch2b/scale4b11_branch2b_gamma:0' shape=(256,) dtype=float32> gamma\ntracking <tf.Variable 'scale4b11_branch2b/scale4b11_branch2b_beta:0' shape=(256,) dtype=float32> beta\ntracking <tf.Variable 'scale4b11_branch2c/scale4b11_branch2c_gamma:0' shape=(1024,) dtype=float32> gamma\ntracking <tf.Variable 'scale4b11_branch2c/scale4b11_branch2c_beta:0' shape=(1024,) dtype=float32> beta\ntracking <tf.Variable 'scale4b12_branch2a/scale4b12_branch2a_gamma:0' shape=(256,) dtype=float32> gamma\ntracking <tf.Variable 'scale4b12_branch2a/scale4b12_branch2a_beta:0' shape=(256,) dtype=float32> beta\ntracking <tf.Variable 'scale4b12_branch2b/scale4b12_branch2b_gamma:0' shape=(256,) dtype=float32> gamma\ntracking <tf.Variable 'scale4b12_branch2b/scale4b12_branch2b_beta:0' shape=(256,) dtype=float32> beta\ntracking <tf.Variable 'scale4b12_branch2c/scale4b12_branch2c_gamma:0' shape=(1024,) dtype=float32> gamma\ntracking <tf.Variable 'scale4b12_branch2c/scale4b12_branch2c_beta:0' shape=(1024,) dtype=float32> beta\ntracking <tf.Variable 'scale4b13_branch2a/scale4b13_branch2a_gamma:0' shape=(256,) dtype=float32> gamma\ntracking <tf.Variable 'scale4b13_branch2a/scale4b13_branch2a_beta:0' shape=(256,) dtype=float32> beta\ntracking <tf.Variable 'scale4b13_branch2b/scale4b13_branch2b_gamma:0' shape=(256,) dtype=float32> gamma\ntracking <tf.Variable 'scale4b13_branch2b/scale4b13_branch2b_beta:0' shape=(256,) dtype=float32> beta\ntracking <tf.Variable 'scale4b13_branch2c/scale4b13_branch2c_gamma:0' shape=(1024,) dtype=float32> gamma\ntracking <tf.Variable 'scale4b13_branch2c/scale4b13_branch2c_beta:0' shape=(1024,) dtype=float32> beta\ntracking <tf.Variable 'scale4b14_branch2a/scale4b14_branch2a_gamma:0' shape=(256,) dtype=float32> gamma\ntracking <tf.Variable 'scale4b14_branch2a/scale4b14_branch2a_beta:0' shape=(256,) dtype=float32> beta\ntracking <tf.Variable 'scale4b14_branch2b/scale4b14_branch2b_gamma:0' shape=(256,) dtype=float32> gamma\ntracking <tf.Variable 'scale4b14_branch2b/scale4b14_branch2b_beta:0' shape=(256,) dtype=float32> beta\ntracking <tf.Variable 'scale4b14_branch2c/scale4b14_branch2c_gamma:0' shape=(1024,) dtype=float32> gamma\ntracking <tf.Variable 'scale4b14_branch2c/scale4b14_branch2c_beta:0' shape=(1024,) dtype=float32> beta\ntracking <tf.Variable 'scale4b15_branch2a/scale4b15_branch2a_gamma:0' shape=(256,) dtype=float32> gamma\ntracking <tf.Variable 'scale4b15_branch2a/scale4b15_branch2a_beta:0' shape=(256,) dtype=float32> beta\ntracking <tf.Variable 'scale4b15_branch2b/scale4b15_branch2b_gamma:0' shape=(256,) dtype=float32> gamma\ntracking <tf.Variable 'scale4b15_branch2b/scale4b15_branch2b_beta:0' shape=(256,) dtype=float32> beta\ntracking <tf.Variable 'scale4b15_branch2c/scale4b15_branch2c_gamma:0' shape=(1024,) dtype=float32> gamma\ntracking <tf.Variable 'scale4b15_branch2c/scale4b15_branch2c_beta:0' shape=(1024,) dtype=float32> beta\ntracking <tf.Variable 'scale4b16_branch2a/scale4b16_branch2a_gamma:0' shape=(256,) dtype=float32> gamma\ntracking <tf.Variable 'scale4b16_branch2a/scale4b16_branch2a_beta:0' shape=(256,) dtype=float32> beta\ntracking <tf.Variable 'scale4b16_branch2b/scale4b16_branch2b_gamma:0' shape=(256,) dtype=float32> gamma\ntracking <tf.Variable 'scale4b16_branch2b/scale4b16_branch2b_beta:0' shape=(256,) dtype=float32> beta\ntracking <tf.Variable 'scale4b16_branch2c/scale4b16_branch2c_gamma:0' shape=(1024,) dtype=float32> gamma\ntracking <tf.Variable 'scale4b16_branch2c/scale4b16_branch2c_beta:0' shape=(1024,) dtype=float32> beta\ntracking <tf.Variable 'scale4b17_branch2a/scale4b17_branch2a_gamma:0' shape=(256,) dtype=float32> gamma\ntracking <tf.Variable 'scale4b17_branch2a/scale4b17_branch2a_beta:0' shape=(256,) dtype=float32> beta\ntracking <tf.Variable 'scale4b17_branch2b/scale4b17_branch2b_gamma:0' shape=(256,) dtype=float32> gamma\ntracking <tf.Variable 'scale4b17_branch2b/scale4b17_branch2b_beta:0' shape=(256,) dtype=float32> beta\ntracking <tf.Variable 'scale4b17_branch2c/scale4b17_branch2c_gamma:0' shape=(1024,) dtype=float32> gamma\ntracking <tf.Variable 'scale4b17_branch2c/scale4b17_branch2c_beta:0' shape=(1024,) dtype=float32> beta\ntracking <tf.Variable 'scale4b18_branch2a/scale4b18_branch2a_gamma:0' shape=(256,) dtype=float32> gamma\ntracking <tf.Variable 'scale4b18_branch2a/scale4b18_branch2a_beta:0' shape=(256,) dtype=float32> beta\ntracking <tf.Variable 'scale4b18_branch2b/scale4b18_branch2b_gamma:0' shape=(256,) dtype=float32> gamma\ntracking <tf.Variable 'scale4b18_branch2b/scale4b18_branch2b_beta:0' shape=(256,) dtype=float32> beta\ntracking <tf.Variable 'scale4b18_branch2c/scale4b18_branch2c_gamma:0' shape=(1024,) dtype=float32> gamma\ntracking <tf.Variable 'scale4b18_branch2c/scale4b18_branch2c_beta:0' shape=(1024,) dtype=float32> beta\ntracking <tf.Variable 'scale4b19_branch2a/scale4b19_branch2a_gamma:0' shape=(256,) dtype=float32> gamma\ntracking <tf.Variable 'scale4b19_branch2a/scale4b19_branch2a_beta:0' shape=(256,) dtype=float32> beta\ntracking <tf.Variable 'scale4b19_branch2b/scale4b19_branch2b_gamma:0' shape=(256,) dtype=float32> gamma\ntracking <tf.Variable 'scale4b19_branch2b/scale4b19_branch2b_beta:0' shape=(256,) dtype=float32> beta\ntracking <tf.Variable 'scale4b19_branch2c/scale4b19_branch2c_gamma:0' shape=(1024,) dtype=float32> gamma\ntracking <tf.Variable 'scale4b19_branch2c/scale4b19_branch2c_beta:0' shape=(1024,) dtype=float32> beta\ntracking <tf.Variable 'scale4b20_branch2a/scale4b20_branch2a_gamma:0' shape=(256,) dtype=float32> gamma\ntracking <tf.Variable 'scale4b20_branch2a/scale4b20_branch2a_beta:0' shape=(256,) dtype=float32> beta\ntracking <tf.Variable 'scale4b20_branch2b/scale4b20_branch2b_gamma:0' shape=(256,) dtype=float32> gamma\ntracking <tf.Variable 'scale4b20_branch2b/scale4b20_branch2b_beta:0' shape=(256,) dtype=float32> beta\ntracking <tf.Variable 'scale4b20_branch2c/scale4b20_branch2c_gamma:0' shape=(1024,) dtype=float32> gamma\ntracking <tf.Variable 'scale4b20_branch2c/scale4b20_branch2c_beta:0' shape=(1024,) dtype=float32> beta\ntracking <tf.Variable 'scale4b21_branch2a/scale4b21_branch2a_gamma:0' shape=(256,) dtype=float32> gamma\ntracking <tf.Variable 'scale4b21_branch2a/scale4b21_branch2a_beta:0' shape=(256,) dtype=float32> beta\ntracking <tf.Variable 'scale4b21_branch2b/scale4b21_branch2b_gamma:0' shape=(256,) dtype=float32> gamma\ntracking <tf.Variable 'scale4b21_branch2b/scale4b21_branch2b_beta:0' shape=(256,) dtype=float32> beta\ntracking <tf.Variable 'scale4b21_branch2c/scale4b21_branch2c_gamma:0' shape=(1024,) dtype=float32> gamma\ntracking <tf.Variable 'scale4b21_branch2c/scale4b21_branch2c_beta:0' shape=(1024,) dtype=float32> beta\ntracking <tf.Variable 'scale4b22_branch2a/scale4b22_branch2a_gamma:0' shape=(256,) dtype=float32> gamma\ntracking <tf.Variable 'scale4b22_branch2a/scale4b22_branch2a_beta:0' shape=(256,) dtype=float32> beta\ntracking <tf.Variable 'scale4b22_branch2b/scale4b22_branch2b_gamma:0' shape=(256,) dtype=float32> gamma\ntracking <tf.Variable 'scale4b22_branch2b/scale4b22_branch2b_beta:0' shape=(256,) dtype=float32> beta\ntracking <tf.Variable 'scale4b22_branch2c/scale4b22_branch2c_gamma:0' shape=(1024,) dtype=float32> gamma\ntracking <tf.Variable 'scale4b22_branch2c/scale4b22_branch2c_beta:0' shape=(1024,) dtype=float32> beta\ntracking <tf.Variable 'scale4b23_branch2a/scale4b23_branch2a_gamma:0' shape=(256,) dtype=float32> gamma\ntracking <tf.Variable 'scale4b23_branch2a/scale4b23_branch2a_beta:0' shape=(256,) dtype=float32> beta\ntracking <tf.Variable 'scale4b23_branch2b/scale4b23_branch2b_gamma:0' shape=(256,) dtype=float32> gamma\ntracking <tf.Variable 'scale4b23_branch2b/scale4b23_branch2b_beta:0' shape=(256,) dtype=float32> beta\ntracking <tf.Variable 'scale4b23_branch2c/scale4b23_branch2c_gamma:0' shape=(1024,) dtype=float32> gamma\ntracking <tf.Variable 'scale4b23_branch2c/scale4b23_branch2c_beta:0' shape=(1024,) dtype=float32> beta\ntracking <tf.Variable 'scale4b24_branch2a/scale4b24_branch2a_gamma:0' shape=(256,) dtype=float32> gamma\ntracking <tf.Variable 'scale4b24_branch2a/scale4b24_branch2a_beta:0' shape=(256,) dtype=float32> beta\ntracking <tf.Variable 'scale4b24_branch2b/scale4b24_branch2b_gamma:0' shape=(256,) dtype=float32> gamma\ntracking <tf.Variable 'scale4b24_branch2b/scale4b24_branch2b_beta:0' shape=(256,) dtype=float32> beta\ntracking <tf.Variable 'scale4b24_branch2c/scale4b24_branch2c_gamma:0' shape=(1024,) dtype=float32> gamma\ntracking <tf.Variable 'scale4b24_branch2c/scale4b24_branch2c_beta:0' shape=(1024,) dtype=float32> beta\ntracking <tf.Variable 'scale4b25_branch2a/scale4b25_branch2a_gamma:0' shape=(256,) dtype=float32> gamma\ntracking <tf.Variable 'scale4b25_branch2a/scale4b25_branch2a_beta:0' shape=(256,) dtype=float32> beta\ntracking <tf.Variable 'scale4b25_branch2b/scale4b25_branch2b_gamma:0' shape=(256,) dtype=float32> gamma\ntracking <tf.Variable 'scale4b25_branch2b/scale4b25_branch2b_beta:0' shape=(256,) dtype=float32> beta\ntracking <tf.Variable 'scale4b25_branch2c/scale4b25_branch2c_gamma:0' shape=(1024,) dtype=float32> gamma\ntracking <tf.Variable 'scale4b25_branch2c/scale4b25_branch2c_beta:0' shape=(1024,) dtype=float32> beta\ntracking <tf.Variable 'scale4b26_branch2a/scale4b26_branch2a_gamma:0' shape=(256,) dtype=float32> gamma\ntracking <tf.Variable 'scale4b26_branch2a/scale4b26_branch2a_beta:0' shape=(256,) dtype=float32> beta\ntracking <tf.Variable 'scale4b26_branch2b/scale4b26_branch2b_gamma:0' shape=(256,) dtype=float32> gamma\ntracking <tf.Variable 'scale4b26_branch2b/scale4b26_branch2b_beta:0' shape=(256,) dtype=float32> beta\ntracking <tf.Variable 'scale4b26_branch2c/scale4b26_branch2c_gamma:0' shape=(1024,) dtype=float32> gamma\ntracking <tf.Variable 'scale4b26_branch2c/scale4b26_branch2c_beta:0' shape=(1024,) dtype=float32> beta\ntracking <tf.Variable 'scale4b27_branch2a/scale4b27_branch2a_gamma:0' shape=(256,) dtype=float32> gamma\ntracking <tf.Variable 'scale4b27_branch2a/scale4b27_branch2a_beta:0' shape=(256,) dtype=float32> beta\ntracking <tf.Variable 'scale4b27_branch2b/scale4b27_branch2b_gamma:0' shape=(256,) dtype=float32> gamma\ntracking <tf.Variable 'scale4b27_branch2b/scale4b27_branch2b_beta:0' shape=(256,) dtype=float32> beta\ntracking <tf.Variable 'scale4b27_branch2c/scale4b27_branch2c_gamma:0' shape=(1024,) dtype=float32> gamma\ntracking <tf.Variable 'scale4b27_branch2c/scale4b27_branch2c_beta:0' shape=(1024,) dtype=float32> beta\ntracking <tf.Variable 'scale4b28_branch2a/scale4b28_branch2a_gamma:0' shape=(256,) dtype=float32> gamma\ntracking <tf.Variable 'scale4b28_branch2a/scale4b28_branch2a_beta:0' shape=(256,) dtype=float32> beta\ntracking <tf.Variable 'scale4b28_branch2b/scale4b28_branch2b_gamma:0' shape=(256,) dtype=float32> gamma\ntracking <tf.Variable 'scale4b28_branch2b/scale4b28_branch2b_beta:0' shape=(256,) dtype=float32> beta\ntracking <tf.Variable 'scale4b28_branch2c/scale4b28_branch2c_gamma:0' shape=(1024,) dtype=float32> gamma\ntracking <tf.Variable 'scale4b28_branch2c/scale4b28_branch2c_beta:0' shape=(1024,) dtype=float32> beta\ntracking <tf.Variable 'scale4b29_branch2a/scale4b29_branch2a_gamma:0' shape=(256,) dtype=float32> gamma\ntracking <tf.Variable 'scale4b29_branch2a/scale4b29_branch2a_beta:0' shape=(256,) dtype=float32> beta\ntracking <tf.Variable 'scale4b29_branch2b/scale4b29_branch2b_gamma:0' shape=(256,) dtype=float32> gamma\ntracking <tf.Variable 'scale4b29_branch2b/scale4b29_branch2b_beta:0' shape=(256,) dtype=float32> beta\ntracking <tf.Variable 'scale4b29_branch2c/scale4b29_branch2c_gamma:0' shape=(1024,) dtype=float32> gamma\ntracking <tf.Variable 'scale4b29_branch2c/scale4b29_branch2c_beta:0' shape=(1024,) dtype=float32> beta\ntracking <tf.Variable 'scale4b30_branch2a/scale4b30_branch2a_gamma:0' shape=(256,) dtype=float32> gamma\ntracking <tf.Variable 'scale4b30_branch2a/scale4b30_branch2a_beta:0' shape=(256,) dtype=float32> beta\ntracking <tf.Variable 'scale4b30_branch2b/scale4b30_branch2b_gamma:0' shape=(256,) dtype=float32> gamma\ntracking <tf.Variable 'scale4b30_branch2b/scale4b30_branch2b_beta:0' shape=(256,) dtype=float32> beta\ntracking <tf.Variable 'scale4b30_branch2c/scale4b30_branch2c_gamma:0' shape=(1024,) dtype=float32> gamma\ntracking <tf.Variable 'scale4b30_branch2c/scale4b30_branch2c_beta:0' shape=(1024,) dtype=float32> beta\ntracking <tf.Variable 'scale4b31_branch2a/scale4b31_branch2a_gamma:0' shape=(256,) dtype=float32> gamma\ntracking <tf.Variable 'scale4b31_branch2a/scale4b31_branch2a_beta:0' shape=(256,) dtype=float32> beta\ntracking <tf.Variable 'scale4b31_branch2b/scale4b31_branch2b_gamma:0' shape=(256,) dtype=float32> gamma\ntracking <tf.Variable 'scale4b31_branch2b/scale4b31_branch2b_beta:0' shape=(256,) dtype=float32> beta\ntracking <tf.Variable 'scale4b31_branch2c/scale4b31_branch2c_gamma:0' shape=(1024,) dtype=float32> gamma\ntracking <tf.Variable 'scale4b31_branch2c/scale4b31_branch2c_beta:0' shape=(1024,) dtype=float32> beta\ntracking <tf.Variable 'scale4b32_branch2a/scale4b32_branch2a_gamma:0' shape=(256,) dtype=float32> gamma\ntracking <tf.Variable 'scale4b32_branch2a/scale4b32_branch2a_beta:0' shape=(256,) dtype=float32> beta\ntracking <tf.Variable 'scale4b32_branch2b/scale4b32_branch2b_gamma:0' shape=(256,) dtype=float32> gamma\ntracking <tf.Variable 'scale4b32_branch2b/scale4b32_branch2b_beta:0' shape=(256,) dtype=float32> beta\ntracking <tf.Variable 'scale4b32_branch2c/scale4b32_branch2c_gamma:0' shape=(1024,) dtype=float32> gamma\ntracking <tf.Variable 'scale4b32_branch2c/scale4b32_branch2c_beta:0' shape=(1024,) dtype=float32> beta\ntracking <tf.Variable 'scale4b33_branch2a/scale4b33_branch2a_gamma:0' shape=(256,) dtype=float32> gamma\ntracking <tf.Variable 'scale4b33_branch2a/scale4b33_branch2a_beta:0' shape=(256,) dtype=float32> beta\ntracking <tf.Variable 'scale4b33_branch2b/scale4b33_branch2b_gamma:0' shape=(256,) dtype=float32> gamma\ntracking <tf.Variable 'scale4b33_branch2b/scale4b33_branch2b_beta:0' shape=(256,) dtype=float32> beta\ntracking <tf.Variable 'scale4b33_branch2c/scale4b33_branch2c_gamma:0' shape=(1024,) dtype=float32> gamma\ntracking <tf.Variable 'scale4b33_branch2c/scale4b33_branch2c_beta:0' shape=(1024,) dtype=float32> beta\ntracking <tf.Variable 'scale4b34_branch2a/scale4b34_branch2a_gamma:0' shape=(256,) dtype=float32> gamma\ntracking <tf.Variable 'scale4b34_branch2a/scale4b34_branch2a_beta:0' shape=(256,) dtype=float32> beta\ntracking <tf.Variable 'scale4b34_branch2b/scale4b34_branch2b_gamma:0' shape=(256,) dtype=float32> gamma\ntracking <tf.Variable 'scale4b34_branch2b/scale4b34_branch2b_beta:0' shape=(256,) dtype=float32> beta\ntracking <tf.Variable 'scale4b34_branch2c/scale4b34_branch2c_gamma:0' shape=(1024,) dtype=float32> gamma\ntracking <tf.Variable 'scale4b34_branch2c/scale4b34_branch2c_beta:0' shape=(1024,) dtype=float32> beta\ntracking <tf.Variable 'scale4b35_branch2a/scale4b35_branch2a_gamma:0' shape=(256,) dtype=float32> gamma\ntracking <tf.Variable 'scale4b35_branch2a/scale4b35_branch2a_beta:0' shape=(256,) dtype=float32> beta\ntracking <tf.Variable 'scale4b35_branch2b/scale4b35_branch2b_gamma:0' shape=(256,) dtype=float32> gamma\ntracking <tf.Variable 'scale4b35_branch2b/scale4b35_branch2b_beta:0' shape=(256,) dtype=float32> beta\ntracking <tf.Variable 'scale4b35_branch2c/scale4b35_branch2c_gamma:0' shape=(1024,) dtype=float32> gamma\ntracking <tf.Variable 'scale4b35_branch2c/scale4b35_branch2c_beta:0' shape=(1024,) dtype=float32> beta\ntracking <tf.Variable 'scale5a_branch2a/scale5a_branch2a_gamma:0' shape=(512,) dtype=float32> gamma\ntracking <tf.Variable 'scale5a_branch2a/scale5a_branch2a_beta:0' shape=(512,) dtype=float32> beta\ntracking <tf.Variable 'scale5a_branch2b/scale5a_branch2b_gamma:0' shape=(512,) dtype=float32> gamma\ntracking <tf.Variable 'scale5a_branch2b/scale5a_branch2b_beta:0' shape=(512,) dtype=float32> beta\ntracking <tf.Variable 'scale5a_branch2c/scale5a_branch2c_gamma:0' shape=(2048,) dtype=float32> gamma\ntracking <tf.Variable 'scale5a_branch2c/scale5a_branch2c_beta:0' shape=(2048,) dtype=float32> beta\ntracking <tf.Variable 'scale5a_branch1/scale5a_branch1_gamma:0' shape=(2048,) dtype=float32> gamma\ntracking <tf.Variable 'scale5a_branch1/scale5a_branch1_beta:0' shape=(2048,) dtype=float32> beta\ntracking <tf.Variable 'scale5b_branch2a/scale5b_branch2a_gamma:0' shape=(512,) dtype=float32> gamma\ntracking <tf.Variable 'scale5b_branch2a/scale5b_branch2a_beta:0' shape=(512,) dtype=float32> beta\ntracking <tf.Variable 'scale5b_branch2b/scale5b_branch2b_gamma:0' shape=(512,) dtype=float32> gamma\ntracking <tf.Variable 'scale5b_branch2b/scale5b_branch2b_beta:0' shape=(512,) dtype=float32> beta\ntracking <tf.Variable 'scale5b_branch2c/scale5b_branch2c_gamma:0' shape=(2048,) dtype=float32> gamma\ntracking <tf.Variable 'scale5b_branch2c/scale5b_branch2c_beta:0' shape=(2048,) dtype=float32> beta\ntracking <tf.Variable 'scale5c_branch2a/scale5c_branch2a_gamma:0' shape=(512,) dtype=float32> gamma\ntracking <tf.Variable 'scale5c_branch2a/scale5c_branch2a_beta:0' shape=(512,) dtype=float32> beta\ntracking <tf.Variable 'scale5c_branch2b/scale5c_branch2b_gamma:0' shape=(512,) dtype=float32> gamma\ntracking <tf.Variable 'scale5c_branch2b/scale5c_branch2b_beta:0' shape=(512,) dtype=float32> beta\ntracking <tf.Variable 'scale5c_branch2c/scale5c_branch2c_gamma:0' shape=(2048,) dtype=float32> gamma\ntracking <tf.Variable 'scale5c_branch2c/scale5c_branch2c_beta:0' shape=(2048,) dtype=float32> beta\n"
        }
       ]
      }
     },
     "f99223051a6f4d329ec4f4014fab4a5e": {
      "model_module": "@jupyter-widgets/base",
      "model_module_version": "1.2.0",
      "model_name": "LayoutModel",
      "state": {}
     },
     "fd5444495fc747fdb3bd40202bd8ed9e": {
      "model_module": "@jupyter-widgets/base",
      "model_module_version": "1.2.0",
      "model_name": "LayoutModel",
      "state": {}
     },
     "fd71f5798030404bbd8f242057ce54de": {
      "model_module": "@jupyter-widgets/controls",
      "model_module_version": "1.5.0",
      "model_name": "DescriptionStyleModel",
      "state": {
       "description_width": ""
      }
     }
    },
    "version_major": 2,
    "version_minor": 0
   }
  }
 },
 "nbformat": 4,
 "nbformat_minor": 4
}
