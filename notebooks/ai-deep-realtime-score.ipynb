{
 "cells": [
  {
   "cell_type": "markdown",
   "metadata": {},
   "source": [
    "[![Azure Notebooks](https://notebooks.azure.com/launch.png)](https://notebooks.azure.com/import/gh/microsoft/AI-Utilities)\n",
    "[![Binder](https://mybinder.org/badge_logo.svg)](https://mybinder.org/v2/gh/microsoft/AI-Utilities/deep_learning_2?filepath=notebooks%2Fai-deep-realtime-score.ipynb)\n",
    "[![Open In Colab](https://colab.research.google.com/assets/colab-badge.svg)](http://colab.research.google.com/github/microsoft/AI-Utilities/blob/deep_learning_2/notebooks/ai-deep-realtime-score.ipynb)"
   ]
  },
  {
   "cell_type": "markdown",
   "metadata": {
    "toc": true
   },
   "source": [
    "<h1>Table of Contents<span class=\"tocSkip\"></span></h1>\n",
    "<div class=\"toc\"><ul class=\"toc-item\"><li><span><a href=\"#Deploy-Solution\" data-toc-modified-id=\"Deploy-Solution-1\">Deploy Solution</a></span><ul class=\"toc-item\"><li><span><a href=\"#Create-Configuration\" data-toc-modified-id=\"Create-Configuration-1.1\">Create Configuration</a></span></li><li><span><a href=\"#Create-Train.py\" data-toc-modified-id=\"Create-Train.py-1.2\">Create Train.py</a></span></li><li><span><a href=\"#Create-Score.py\" data-toc-modified-id=\"Create-Score.py-1.3\">Create Score.py</a></span></li><li><span><a href=\"#Deploy-to-Azure-Kubernetes-Service-with-Azure-ML\" data-toc-modified-id=\"Deploy-to-Azure-Kubernetes-Service-with-Azure-ML-1.4\">Deploy to Azure Kubernetes Service with Azure ML</a></span></li></ul></li><li><span><a href=\"#Deploy-Services\" data-toc-modified-id=\"Deploy-Services-2\">Deploy Services</a></span><ul class=\"toc-item\"><li><span><a href=\"#Machine-Learning-Studio\" data-toc-modified-id=\"Machine-Learning-Studio-2.1\">Machine Learning Studio</a></span></li><li><span><a href=\"#Kubernetes\" data-toc-modified-id=\"Kubernetes-2.2\">Kubernetes</a></span></li><li><span><a href=\"#Application-Insights\" data-toc-modified-id=\"Application-Insights-2.3\">Application Insights</a></span><ul class=\"toc-item\"><li><span><a href=\"#Main\" data-toc-modified-id=\"Main-2.3.1\">Main</a></span></li><li><span><a href=\"#Availability\" data-toc-modified-id=\"Availability-2.3.2\">Availability</a></span></li><li><span><a href=\"#Performance-Dashboard\" data-toc-modified-id=\"Performance-Dashboard-2.3.3\">Performance Dashboard</a></span></li><li><span><a href=\"#Load-Test\" data-toc-modified-id=\"Load-Test-2.3.4\">Load Test</a></span></li></ul></li></ul></li></ul></div>"
   ]
  },
  {
   "cell_type": "markdown",
   "metadata": {},
   "source": [
    "## Deploy Solution\n",
    "Run all the cells to get started. You will need to login into Azure if you have not done so already.\n",
    "\n",
    "### Sample Configuration Widget\n",
    "![Configuration Widget](https://raw.githubusercontent.com/microsoft/AI-Utilities/master/docs/conda_ui.png)\n",
    "\n",
    "Above is an image of the Configuration Widget. Run the following code to produce this configuration widget in order to provide setting for the Azure Machine Learning deployment. Enter configuration settings, or upload an existing project.yml.\n",
    "\n",
    "> _**Action Required:** You will be prompted to login to Azure before the Widget is displayed and the notebook can continue._\n",
    "### Create Configuration Widget\n"
   ]
  },
  {
   "cell_type": "code",
   "execution_count": null,
   "metadata": {
    "ExecuteTime": {
     "end_time": "2020-03-06T06:15:04.044101Z",
     "start_time": "2020-03-06T06:14:15.113616Z"
    },
    "init_cell": true,
    "jupyter": {
     "source_hidden": true
    },
    "pycharm": {
     "is_executing": true
    }
   },
   "outputs": [],
   "source": [
    "import os\n",
    "\n",
    "from azure_utils.notebook_widgets.notebook_configuration_widget import get_configuration_widget, test_train_py_button, test_score_py_button, deploy_button\n",
    "\n",
    "project_configuration = \"notebook_project.yml\"\n",
    "os.makedirs(\"script\", exist_ok=True)\n",
    "os.makedirs(\"source\", exist_ok=True)\n",
    "configuration_widget = get_configuration_widget(project_configuration)\n",
    "configuration_widget"
   ]
  },
  {
   "cell_type": "markdown",
   "metadata": {
    "pycharm": {
     "name": "#%% md\n"
    }
   },
   "source": [
    "### Create Train.py\n",
    "\n",
    "The following code trains a model and saves it to the output directory."
   ]
  },
  {
   "cell_type": "code",
   "execution_count": null,
   "metadata": {
    "pycharm": {
     "name": "#%%\n"
    }
   },
   "outputs": [],
   "source": [
    "%%writefile script/train_dl.py\n",
    "import os\n",
    "\n",
    "from azure_utils.samples.deep_rts_samples import MakeResNet152\n",
    "\n",
    "if __name__ == \"__main__\":\n",
    "    import warnings\n",
    "\n",
    "    with warnings.catch_warnings():\n",
    "        warnings.filterwarnings(\"ignore\", category=FutureWarning)\n",
    "        import tensorflow as tf\n",
    "        tf.logging.set_verbosity(tf.logging.ERROR)\n",
    "\n",
    "        os.makedirs(\"outputs\", exist_ok=True)\n",
    "        model = MakeResNet152(include_top=False, input_shape=(200, 200, 3), pooling=\"avg\", weights=\"imagenet\")\n",
    "        model.save_weights(\"outputs/model.pkl\")\n"
   ]
  },
  {
   "cell_type": "markdown",
   "metadata": {},
   "source": [
    "> _**Optional:** Test the training code locally before deployment. This is particularly useful when authoring a train.py file._"
   ]
  },
  {
   "cell_type": "code",
   "execution_count": null,
   "metadata": {
    "jupyter": {
     "source_hidden": true
    }
   },
   "outputs": [],
   "source": [
    "test_train_py_button(train_py=\"script/train_dl.py\")"
   ]
  },
  {
   "cell_type": "markdown",
   "metadata": {
    "pycharm": {
     "name": "#%% md\n"
    }
   },
   "source": [
    "### Create Score.py\n",
    "The scoring script is used to create a rest service. The model is loaded, and is used to make predictions on incoming requests."
   ]
  },
  {
   "cell_type": "code",
   "execution_count": null,
   "metadata": {
    "collapsed": false,
    "jupyter": {
     "outputs_hidden": false
    },
    "pycharm": {
     "name": "#%%\n"
    }
   },
   "outputs": [],
   "source": [
    "%%writefile source/score.py\n",
    "\n",
    "import sys\n",
    "sys.setrecursionlimit(3000)\n",
    "\n",
    "from azureml.contrib.services.aml_request import rawhttp\n",
    "from azureml.contrib.services.aml_response import AMLResponse\n",
    "\n",
    "def init():\n",
    "    \"\"\" Initialise the model and scoring function\n",
    "    \"\"\"\n",
    "    global process_and_score\n",
    "    from azure_utils.samples.deep_rts_samples import get_model_api\n",
    "\n",
    "    process_and_score = get_model_api()\n",
    "\n",
    "\n",
    "@rawhttp\n",
    "def run(request):\n",
    "    \"\"\" Make a prediction based on the data passed in using the preloaded model\n",
    "    \"\"\"\n",
    "    if request.method == 'POST':\n",
    "        return process_and_score(request.files)\n",
    "    if request.method == 'GET':\n",
    "        resp_body = {\n",
    "            \"azEnvironment\": \"Azure\",\n",
    "            \"location\": \"westus2\",\n",
    "            \"osType\": \"Ubuntu 16.04\",\n",
    "            \"resourceGroupName\": \"\",\n",
    "            \"resourceId\": \"\",\n",
    "            \"sku\": \"\",\n",
    "            \"subscriptionId\": \"\",\n",
    "            \"uniqueId\": \"PythonMLRST\",\n",
    "            \"vmSize\": \"\",\n",
    "            \"zone\": \"\",\n",
    "            \"isServer\": False,\n",
    "            \"version\": \"\"\n",
    "        }\n",
    "        return resp_body\n",
    "    return AMLResponse(\"bad request\", 500)"
   ]
  },
  {
   "cell_type": "markdown",
   "metadata": {},
   "source": [
    "> _**Optional:** Test the code locally before deployment. This is particularly useful when authoring a score.py file.._"
   ]
  },
  {
   "cell_type": "code",
   "execution_count": null,
   "metadata": {
    "jupyter": {
     "source_hidden": true
    }
   },
   "outputs": [],
   "source": [
    "test_score_py_button(score_py=\"source/score.py\")"
   ]
  },
  {
   "cell_type": "markdown",
   "metadata": {
    "pycharm": {
     "name": "#%% md\n"
    }
   },
   "source": [
    "### Deploy to Azure Kubernetes Service with Azure ML\n",
    "\n",
    "Train the model locally, and then deploy the web service to an Azure Kubernetes Cluster managed by an Azure Machine Learning Workspace. Use the output widget to explore the deployed resources.\n",
    "\n",
    "> _**Action Required:** Press the button to deploy the scripts to Azure Machine Learning._"
   ]
  },
  {
   "cell_type": "code",
   "execution_count": null,
   "metadata": {
    "jupyter": {
     "source_hidden": true
    },
    "pycharm": {
     "name": "#%%\n"
    }
   },
   "outputs": [],
   "source": [
    "deploy_button(project_configuration, train_py=\"train_dl.py\", score_py=\"score.py\")"
   ]
  },
  {
   "cell_type": "markdown",
   "metadata": {},
   "source": [
    "Notebook Finished."
   ]
  }
 ],
 "metadata": {
  "celltoolbar": "Initialization Cell",
  "kernelspec": {
   "display_name": "AI",
   "language": "python",
   "name": "ai-utilities"
  },
  "language_info": {
   "codemirror_mode": {
    "name": "ipython",
    "version": 3
   },
   "file_extension": ".py",
   "mimetype": "text/x-python",
   "name": "python",
   "nbconvert_exporter": "python",
   "pygments_lexer": "ipython3",
   "version": "3.7.6"
  },
  "toc": {
   "base_numbering": 1,
   "nav_menu": {},
   "number_sections": false,
   "sideBar": true,
   "skip_h1_title": false,
   "title_cell": "Table of Contents",
   "title_sidebar": "Contents",
   "toc_cell": true,
   "toc_position": {
    "height": "237px",
    "left": "488px",
    "top": "188px",
    "width": "561px"
   },
   "toc_section_display": true,
   "toc_window_display": false
  },
  "widgets": {
   "application/vnd.jupyter.widget-state+json": {
    "state": {},
    "version_major": 2,
    "version_minor": 0
   }
  }
 },
 "nbformat": 4,
 "nbformat_minor": 4
}
