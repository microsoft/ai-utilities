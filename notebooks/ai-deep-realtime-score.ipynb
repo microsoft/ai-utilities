{
 "cells": [
  {
   "cell_type": "markdown",
   "metadata": {},
   "source": [
    "[![Azure Notebooks](https://notebooks.azure.com/launch.png)](https://notebooks.azure.com/import/gh/microsoft/AI-Utilities)\n",
    "[![Binder](https://mybinder.org/badge_logo.svg)](https://mybinder.org/v2/gh/microsoft/AI-Utilities/deep_learning_2?filepath=notebooks%2Fai-deep-realtime-score.ipynb)\n",
    "[![Open In Colab](https://colab.research.google.com/assets/colab-badge.svg)](http://colab.research.google.com/github/microsoft/AI-Utilities/blob/deep_learning_2/notebooks/ai-deep-realtime-score.ipynb)"
   ]
  },
  {
   "cell_type": "markdown",
   "metadata": {
    "toc": true
   },
   "source": [
    "<h1>Table of Contents<span class=\"tocSkip\"></span></h1>\n",
    "<div class=\"toc\"><ul class=\"toc-item\"><li><span><a href=\"#Deploy-Solution\" data-toc-modified-id=\"Deploy-Solution-1\">Deploy Solution</a></span><ul class=\"toc-item\"><li><span><a href=\"#Create-Configuration\" data-toc-modified-id=\"Create-Configuration-1.1\">Create Configuration</a></span></li><li><span><a href=\"#Create-Train.py\" data-toc-modified-id=\"Create-Train.py-1.2\">Create Train.py</a></span></li><li><span><a href=\"#Create-Score.py\" data-toc-modified-id=\"Create-Score.py-1.3\">Create Score.py</a></span></li><li><span><a href=\"#Deploy-to-Azure-Kubernetes-Service-with-Azure-ML\" data-toc-modified-id=\"Deploy-to-Azure-Kubernetes-Service-with-Azure-ML-1.4\">Deploy to Azure Kubernetes Service with Azure ML</a></span></li></ul></li><li><span><a href=\"#Deploy-Services\" data-toc-modified-id=\"Deploy-Services-2\">Deploy Services</a></span><ul class=\"toc-item\"><li><span><a href=\"#Machine-Learning-Studio\" data-toc-modified-id=\"Machine-Learning-Studio-2.1\">Machine Learning Studio</a></span></li><li><span><a href=\"#Kubernetes\" data-toc-modified-id=\"Kubernetes-2.2\">Kubernetes</a></span></li><li><span><a href=\"#Application-Insights\" data-toc-modified-id=\"Application-Insights-2.3\">Application Insights</a></span><ul class=\"toc-item\"><li><span><a href=\"#Main\" data-toc-modified-id=\"Main-2.3.1\">Main</a></span></li><li><span><a href=\"#Availability\" data-toc-modified-id=\"Availability-2.3.2\">Availability</a></span></li><li><span><a href=\"#Performance-Dashboard\" data-toc-modified-id=\"Performance-Dashboard-2.3.3\">Performance Dashboard</a></span></li><li><span><a href=\"#Load-Test\" data-toc-modified-id=\"Load-Test-2.3.4\">Load Test</a></span></li></ul></li></ul></li></ul></div>"
   ]
  },
  {
   "cell_type": "markdown",
   "metadata": {},
   "source": [
    "## Overview\n",
    "In the [az-deep-realtime-score repository](https://github.com/microsoft/az-deep-realtime-score) there are a number of tutorials in Jupyter notebooks that have step-by-step instructions on how to deploy a pretrained deep learning model on a GPU enabled Kubernetes cluster throught Azure Machine Learning (AzureML). The tutorials cover how to deploy models with the deep learning framework Keras (TensorFlow backend)\n",
    "\n",
    "![alt text](https://happypathspublic.blob.core.windows.net/aksdeploymenttutorialaml/example.png \"Example Classification\")\n",
    " \n",
    "We go through the following steps:\n",
    " * Create an AzureML Workspace\n",
    " * Model development where we load the pretrained model and test it by using it to score images\n",
    " * Develop the API that will call our model \n",
    " * AKS\n",
    "     * Creating our Kubernetes cluster and deploying our application to it\n",
    "     * Testing the deployed model\n",
    "     * Testing the throughput of our model\n",
    "     * Cleaning up resources\n",
    "\n",
    "## Design\n",
    "![](https://docs.microsoft.com/en-us/azure/architecture/reference-architectures/ai/_images/python-model-architecture.png)\n",
    "\n",
    "As described on the associated [Azure Reference Architecture page](https://docs.microsoft.com/en-us/azure/architecture/reference-architectures/ai/realtime-scoring-python), the application we will develop is a simple image classification service, where we will submit an image and get back what class the image belongs to. The application flow for the deep learning model is as follows:\n",
    "1.\tDeep learning model is registered to AzureML model registry.\n",
    "1.\tAzureML creates a docker image including the model and scoring script.\n",
    "1.\tAzureML deploys the scoring image on the chosen deployment compute target (AKS) as a web service.\n",
    "1.\tThe client sends a HTTP POST request with the encoded image data.\n",
    "1.\tThe web service created by AzureML preprocesses the image data and sends it to the model for scoring.\n",
    "1.\tThe predicted categories with their scores are then returned to the client.\n",
    "\n",
    "\n",
    "**NOTE**: The tutorial goes through step by step how to deploy a deep learning model on Azure; it **does** **not** include enterprise best practices such as securing the endpoints and setting up remote logging etc. \n",
    "\n",
    "**Deploying with GPUS:** For a detailed comparison of the deployments of various deep learning models, see the blog post [here](https://azure.microsoft.com/en-us/blog/gpus-vs-cpus-for-deployment-of-deep-learning-models/) which provides evidence that, at least in the scenarios tested, GPUs provide better throughput and stability at a lower cost.\n",
    "\n",
    "## Quick Start\n",
    "Run this notebook to quickly setup the entire solution, and explore the custom train.py and score.py used in this example.\n",
    "\n",
    "Run all the cells to get started. \n",
    "> _**Action Required:** You will be prompted to login to Azure before the Widget is displayed and the notebook can continue._\n",
    "\n",
    "### Sample Configuration Widget\n",
    "Run the following code to produce this configuration widget in order to provide setting for the Azure Machine Learning deployment. Enter configuration settings, or upload an existing project.yml.\n",
    "\n",
    "\n",
    "### Create Configuration Widget\n"
   ]
  },
  {
   "cell_type": "code",
   "execution_count": 1,
   "metadata": {
    "ExecuteTime": {
     "end_time": "2020-03-06T06:15:04.044101Z",
     "start_time": "2020-03-06T06:14:15.113616Z"
    },
    "init_cell": true,
    "pycharm": {
     "is_executing": true
    }
   },
   "outputs": [
    {
     "data": {
      "application/vnd.jupyter.widget-view+json": {
       "model_id": "100a742138014aa28cba269fad2029cb",
       "version_major": 2,
       "version_minor": 0
      },
      "text/plain": [
       "VBox(children=(Output(), FileUpload(value={}, accept='.yml', description='Upload'), Text(value='0ca618d2-22a8-…"
      ]
     },
     "metadata": {},
     "output_type": "display_data"
    }
   ],
   "source": [
    "import os\n",
    "\n",
    "from azure_utils.notebook_widgets.notebook_configuration_widget import get_configuration_widget, test_train_py_button, test_score_py_button, deploy_button\n",
    "\n",
    "project_configuration = \"notebook_project.yml\"\n",
    "os.makedirs(\"script\", exist_ok=True)\n",
    "os.makedirs(\"source\", exist_ok=True)\n",
    "configuration_widget = get_configuration_widget(project_configuration)\n",
    "configuration_widget"
   ]
  },
  {
   "cell_type": "markdown",
   "metadata": {
    "pycharm": {
     "name": "#%% md\n"
    }
   },
   "source": [
    "### Create Train.py\n",
    "\n",
    "The following code trains a model and saves it to the output directory. For more details see this [sample notebook](https://github.com/microsoft/az-deep-realtime-score/blob/master/%7B%7Bcookiecutter.project_name%7D%7D/Keras_Tensorflow/01_DevelopModel.ipynb)."
   ]
  },
  {
   "cell_type": "code",
   "execution_count": null,
   "metadata": {
    "pycharm": {
     "name": "#%%\n"
    }
   },
   "outputs": [],
   "source": [
    "%%writefile script/train_dl.py\n",
    "import os\n",
    "\n",
    "from azure_utils.samples.deep_rts_samples import MakeResNet152\n",
    "\n",
    "if __name__ == \"__main__\":\n",
    "    import warnings\n",
    "\n",
    "    with warnings.catch_warnings():\n",
    "        warnings.filterwarnings(\"ignore\", category=FutureWarning)\n",
    "        import tensorflow as tf\n",
    "        tf.logging.set_verbosity(tf.logging.ERROR)\n",
    "\n",
    "        os.makedirs(\"outputs\", exist_ok=True)\n",
    "        model = MakeResNet152(include_top=False, input_shape=(200, 200, 3), pooling=\"avg\", weights=\"imagenet\")\n",
    "        model.save_weights(\"outputs/model.pkl\")\n"
   ]
  },
  {
   "cell_type": "markdown",
   "metadata": {},
   "source": [
    "> _**Optional:** Test the training code locally before deployment. This is particularly useful when authoring a train.py file._"
   ]
  },
  {
   "cell_type": "code",
   "execution_count": null,
   "metadata": {},
   "outputs": [],
   "source": [
    "test_train_py_button(train_py=\"script/train_dl.py\")"
   ]
  },
  {
   "cell_type": "markdown",
   "metadata": {
    "pycharm": {
     "name": "#%% md\n"
    }
   },
   "source": [
    "### Create Score.py\n",
    "The scoring script is used to create a rest service. The model is loaded, and is used to make predictions on incoming requests. For more details see this [sample notebook](https://github.com/microsoft/az-deep-realtime-score/blob/master/%7B%7Bcookiecutter.project_name%7D%7D/Keras_Tensorflow/02_DevelopModelDriver.ipynb)."
   ]
  },
  {
   "cell_type": "code",
   "execution_count": null,
   "metadata": {
    "collapsed": false,
    "jupyter": {
     "outputs_hidden": false
    },
    "pycharm": {
     "name": "#%%\n"
    }
   },
   "outputs": [],
   "source": [
    "%%writefile source/score.py\n",
    "\n",
    "import sys\n",
    "sys.setrecursionlimit(3000)\n",
    "\n",
    "from azureml.contrib.services.aml_request import rawhttp\n",
    "from azureml.contrib.services.aml_response import AMLResponse\n",
    "\n",
    "def init():\n",
    "    \"\"\" Initialise the model and scoring function\n",
    "    \"\"\"\n",
    "    global process_and_score\n",
    "    from azure_utils.samples.deep_rts_samples import get_model_api\n",
    "\n",
    "    process_and_score = get_model_api()\n",
    "\n",
    "\n",
    "@rawhttp\n",
    "def run(request):\n",
    "    \"\"\" Make a prediction based on the data passed in using the preloaded model\n",
    "    \"\"\"\n",
    "    from azure_utils.machine_learning.realtime import default_response\n",
    "    if request.method == 'POST':\n",
    "        return process_and_score(request.files)\n",
    "    return default_response(request)"
   ]
  },
  {
   "cell_type": "markdown",
   "metadata": {},
   "source": [
    "> _**Optional:** Test the code locally before deployment. This is particularly useful when authoring a score.py file.._"
   ]
  },
  {
   "cell_type": "code",
   "execution_count": null,
   "metadata": {},
   "outputs": [],
   "source": [
    "test_score_py_button(score_py=\"source/score.py\")"
   ]
  },
  {
   "cell_type": "markdown",
   "metadata": {
    "pycharm": {
     "name": "#%% md\n"
    }
   },
   "source": [
    "### Deploy to Azure Kubernetes Service with Azure ML\n",
    "\n",
    "Train the model locally, and then deploy the web service to an Azure Kubernetes Cluster managed by an Azure Machine Learning Workspace. Use the output widget to explore the deployed resources.\n",
    "For more details see this [sample notebook](https://github.com/microsoft/az-deep-realtime-score/blob/master/%7B%7Bcookiecutter.project_name%7D%7D/Keras_Tensorflow/aks/04_DeployOnAKS.ipynb).\n",
    "\n",
    "> _**Action Required:** Press the button to deploy the scripts to Azure Machine Learning._"
   ]
  },
  {
   "cell_type": "code",
   "execution_count": null,
   "metadata": {
    "pycharm": {
     "name": "#%%\n"
    }
   },
   "outputs": [],
   "source": [
    "deploy_button(project_configuration, train_py=\"train_dl.py\", score_py=\"score.py\")"
   ]
  },
  {
   "cell_type": "markdown",
   "metadata": {},
   "source": [
    "For more details on how to test the endpoint see this [sample notebook](https://github.com/microsoft/az-deep-realtime-score/blob/master/%7B%7Bcookiecutter.project_name%7D%7D/Keras_Tensorflow/aks/05_TestWebApp.ipynb).\n",
    " \n",
    "For more details on how to load test the endpoint see this [sample notebook](https://github.com/microsoft/az-deep-realtime-score/blob/master/%7B%7Bcookiecutter.project_name%7D%7D/Keras_Tensorflow/aks/06_SpeedTestWebApp.ipynb).\n",
    "\n",
    "Notebook Finished."
   ]
  }
 ],
 "metadata": {
  "celltoolbar": "Initialization Cell",
  "kernelspec": {
   "display_name": "AI",
   "language": "python",
   "name": "ai-utilities"
  },
  "language_info": {
   "codemirror_mode": {
    "name": "ipython",
    "version": 3
   },
   "file_extension": ".py",
   "mimetype": "text/x-python",
   "name": "python",
   "nbconvert_exporter": "python",
   "pygments_lexer": "ipython3",
   "version": "3.7.6"
  },
  "toc": {
   "base_numbering": 1,
   "nav_menu": {},
   "number_sections": false,
   "sideBar": true,
   "skip_h1_title": false,
   "title_cell": "Table of Contents",
   "title_sidebar": "Contents",
   "toc_cell": true,
   "toc_position": {
    "height": "237px",
    "left": "488px",
    "top": "188px",
    "width": "561px"
   },
   "toc_section_display": true,
   "toc_window_display": false
  },
  "widgets": {
   "application/vnd.jupyter.widget-state+json": {
    "state": {
     "029e345ac2d142e585c81d4538d90ae4": {
      "model_module": "@jupyter-widgets/controls",
      "model_module_version": "1.5.0",
      "model_name": "DescriptionStyleModel",
      "state": {
       "description_width": ""
      }
     },
     "0a3e49a2a9b74f99908166663c1e6637": {
      "model_module": "@jupyter-widgets/base",
      "model_module_version": "1.2.0",
      "model_name": "LayoutModel",
      "state": {}
     },
     "0b66194d9e664db68da3f2bc672acc12": {
      "model_module": "@jupyter-widgets/controls",
      "model_module_version": "1.5.0",
      "model_name": "DescriptionStyleModel",
      "state": {
       "description_width": ""
      }
     },
     "0da0bf3f4fab483fb552fb7fbc690242": {
      "model_module": "@jupyter-widgets/controls",
      "model_module_version": "1.5.0",
      "model_name": "ButtonStyleModel",
      "state": {}
     },
     "100a742138014aa28cba269fad2029cb": {
      "model_module": "@jupyter-widgets/controls",
      "model_module_version": "1.5.0",
      "model_name": "VBoxModel",
      "state": {
       "children": [
        "IPY_MODEL_c250a6b93a434c3fa0f734fb534c4ae4",
        "IPY_MODEL_d03a2a9b428b49b5ba748c811c044371",
        "IPY_MODEL_a2ffd7586a634913be7e9d7ebf5f9393",
        "IPY_MODEL_edd643eb2a0e4d7bba00cd359f173b76",
        "IPY_MODEL_7042dc685899447c9369c4eed6b55793",
        "IPY_MODEL_b4b0673ab46045cba52a91d1f5e9e818",
        "IPY_MODEL_e3ee34fd08de4aee87b5f67faa919476",
        "IPY_MODEL_317fbbe5410a4c89a7f40c4b9fb59b7f",
        "IPY_MODEL_9f1c45fd380c4946b44d2863749477a0",
        "IPY_MODEL_ade31a653b1c4bd9b4c2c3a28449cad4",
        "IPY_MODEL_75cdc0e5ce444e7db0f500b63007e053",
        "IPY_MODEL_4fd52c3b803b4bc6b93ad30f5157246c",
        "IPY_MODEL_fffaa428a9284bcdad30d871a04cafa7",
        "IPY_MODEL_da265213605748bb95f25995ae82b911"
       ],
       "layout": "IPY_MODEL_26d16fc728c4487aae32f37dceef1d34"
      }
     },
     "14d2afd01cef4663bf66d25739b7b1a6": {
      "model_module": "@jupyter-widgets/base",
      "model_module_version": "1.2.0",
      "model_name": "LayoutModel",
      "state": {}
     },
     "162faa80618e4e3f863baa5bfbb3a995": {
      "model_module": "@jupyter-widgets/base",
      "model_module_version": "1.2.0",
      "model_name": "LayoutModel",
      "state": {}
     },
     "1965b0232c10420eb9f456fbfda367d2": {
      "model_module": "@jupyter-widgets/base",
      "model_module_version": "1.2.0",
      "model_name": "LayoutModel",
      "state": {}
     },
     "199d8569b96c47f5bef426f01587d3a5": {
      "model_module": "@jupyter-widgets/controls",
      "model_module_version": "1.5.0",
      "model_name": "DescriptionStyleModel",
      "state": {
       "description_width": ""
      }
     },
     "214861178c4a4879be266b0e03b172a7": {
      "model_module": "@jupyter-widgets/base",
      "model_module_version": "1.2.0",
      "model_name": "LayoutModel",
      "state": {}
     },
     "25eea33483aa49fc89170276a0ade8c8": {
      "model_module": "@jupyter-widgets/base",
      "model_module_version": "1.2.0",
      "model_name": "LayoutModel",
      "state": {}
     },
     "26d16fc728c4487aae32f37dceef1d34": {
      "model_module": "@jupyter-widgets/base",
      "model_module_version": "1.2.0",
      "model_name": "LayoutModel",
      "state": {}
     },
     "317fbbe5410a4c89a7f40c4b9fb59b7f": {
      "model_module": "@jupyter-widgets/controls",
      "model_module_version": "1.5.0",
      "model_name": "TextModel",
      "state": {
       "description": "aks_service_name",
       "layout": "IPY_MODEL_1965b0232c10420eb9f456fbfda367d2",
       "placeholder": "AKS Service Name",
       "style": "IPY_MODEL_f348b8373b3546d192f38249a104597c",
       "value": "aksservice3"
      }
     },
     "3956914acc7748fd8bba729e5637c698": {
      "model_module": "@jupyter-widgets/controls",
      "model_module_version": "1.5.0",
      "model_name": "DescriptionStyleModel",
      "state": {
       "description_width": ""
      }
     },
     "3c1df8a8296549ca964c4d7309bc8c6e": {
      "model_module": "@jupyter-widgets/controls",
      "model_module_version": "1.5.0",
      "model_name": "DescriptionStyleModel",
      "state": {
       "description_width": ""
      }
     },
     "3faf40ec881f4eeabc1aa53c3686a978": {
      "model_module": "@jupyter-widgets/controls",
      "model_module_version": "1.5.0",
      "model_name": "DescriptionStyleModel",
      "state": {
       "description_width": ""
      }
     },
     "47fc1810df724a1db076fadfdf2a508c": {
      "model_module": "@jupyter-widgets/base",
      "model_module_version": "1.2.0",
      "model_name": "LayoutModel",
      "state": {}
     },
     "4cf329fe606247dc8f4aa616439631b8": {
      "model_module": "@jupyter-widgets/base",
      "model_module_version": "1.2.0",
      "model_name": "LayoutModel",
      "state": {}
     },
     "4e34708011cf477dabaa67d2dd842be5": {
      "model_module": "@jupyter-widgets/controls",
      "model_module_version": "1.5.0",
      "model_name": "DescriptionStyleModel",
      "state": {
       "description_width": ""
      }
     },
     "4fd52c3b803b4bc6b93ad30f5157246c": {
      "model_module": "@jupyter-widgets/controls",
      "model_module_version": "1.5.0",
      "model_name": "TextModel",
      "state": {
       "description": "deep_aks_service_name",
       "layout": "IPY_MODEL_72658ebd807a49b1aa9829d870f29668",
       "placeholder": "AKS Service Name",
       "style": "IPY_MODEL_199d8569b96c47f5bef426f01587d3a5",
       "value": "deepaksservice3"
      }
     },
     "533760402e1f43ce91ebad1b1649fbf3": {
      "model_module": "@jupyter-widgets/controls",
      "model_module_version": "1.5.0",
      "model_name": "DescriptionStyleModel",
      "state": {
       "description_width": ""
      }
     },
     "7042dc685899447c9369c4eed6b55793": {
      "model_module": "@jupyter-widgets/controls",
      "model_module_version": "1.5.0",
      "model_name": "TextModel",
      "state": {
       "description": "workspace_name",
       "layout": "IPY_MODEL_eae92c0142d0493483c57cf9008afade",
       "placeholder": "Azure ML Workspace Name",
       "style": "IPY_MODEL_a016bb3c682141e4ae0b27d0dbf14bc3",
       "value": "azmlrts-eastus3"
      }
     },
     "72658ebd807a49b1aa9829d870f29668": {
      "model_module": "@jupyter-widgets/base",
      "model_module_version": "1.2.0",
      "model_name": "LayoutModel",
      "state": {}
     },
     "75cdc0e5ce444e7db0f500b63007e053": {
      "model_module": "@jupyter-widgets/controls",
      "model_module_version": "1.5.0",
      "model_name": "TextModel",
      "state": {
       "description": "deep_image_name",
       "layout": "IPY_MODEL_4cf329fe606247dc8f4aa616439631b8",
       "placeholder": "Docker Container Image Name",
       "style": "IPY_MODEL_da5205b7bc0542feabe6deb27b2e86e9",
       "value": "mydeepimage3"
      }
     },
     "7e27004d9c2e4a41ad0f1280747e3ce4": {
      "model_module": "@jupyter-widgets/base",
      "model_module_version": "1.2.0",
      "model_name": "LayoutModel",
      "state": {}
     },
     "873f0228522d489cb118e277c7237a17": {
      "model_module": "@jupyter-widgets/base",
      "model_module_version": "1.2.0",
      "model_name": "LayoutModel",
      "state": {}
     },
     "8acf1aecc8534613a3da35ca9b949aee": {
      "model_module": "@jupyter-widgets/base",
      "model_module_version": "1.2.0",
      "model_name": "LayoutModel",
      "state": {}
     },
     "9f1c45fd380c4946b44d2863749477a0": {
      "model_module": "@jupyter-widgets/controls",
      "model_module_version": "1.5.0",
      "model_name": "DropdownModel",
      "state": {
       "_options_labels": [
        "eastus",
        "eastus2",
        "canadacentral",
        "centralus",
        "northcentralus",
        "southcentralus",
        "westcentralus",
        "westus",
        "westus2"
       ],
       "description": "aks_location",
       "index": 0,
       "layout": "IPY_MODEL_873f0228522d489cb118e277c7237a17",
       "style": "IPY_MODEL_533760402e1f43ce91ebad1b1649fbf3"
      }
     },
     "a016bb3c682141e4ae0b27d0dbf14bc3": {
      "model_module": "@jupyter-widgets/controls",
      "model_module_version": "1.5.0",
      "model_name": "DescriptionStyleModel",
      "state": {
       "description_width": ""
      }
     },
     "a2ffd7586a634913be7e9d7ebf5f9393": {
      "model_module": "@jupyter-widgets/controls",
      "model_module_version": "1.5.0",
      "model_name": "TextModel",
      "state": {
       "description": "subscription_id",
       "layout": "IPY_MODEL_7e27004d9c2e4a41ad0f1280747e3ce4",
       "placeholder": "Azure Subscription Id",
       "style": "IPY_MODEL_029e345ac2d142e585c81d4538d90ae4",
       "value": "0ca618d2-22a8-413a-96d0-0f1b531129c3"
      }
     },
     "abbe87edcc1b44d38922d39aa92ff055": {
      "model_module": "@jupyter-widgets/controls",
      "model_module_version": "1.5.0",
      "model_name": "TextModel",
      "state": {
       "description": "aks_location",
       "layout": "IPY_MODEL_d95c6a175cec44debf3dc52d6033e813",
       "placeholder": "AKS Azure Region",
       "style": "IPY_MODEL_0b66194d9e664db68da3f2bc672acc12",
       "value": "eastus"
      }
     },
     "ade31a653b1c4bd9b4c2c3a28449cad4": {
      "model_module": "@jupyter-widgets/controls",
      "model_module_version": "1.5.0",
      "model_name": "TextModel",
      "state": {
       "description": "aks_name",
       "layout": "IPY_MODEL_214861178c4a4879be266b0e03b172a7",
       "placeholder": "AKS Cluster Name",
       "style": "IPY_MODEL_bdb92a24fb9843b9b13c8fddf265f2e5",
       "value": "akscluster3"
      }
     },
     "ae02bbfdc749413eab764210812d0633": {
      "model_module": "@jupyter-widgets/base",
      "model_module_version": "1.2.0",
      "model_name": "LayoutModel",
      "state": {}
     },
     "b3dcb98136434141b4fec51fcd9ee1dd": {
      "model_module": "@jupyter-widgets/base",
      "model_module_version": "1.2.0",
      "model_name": "LayoutModel",
      "state": {}
     },
     "b4b0673ab46045cba52a91d1f5e9e818": {
      "model_module": "@jupyter-widgets/controls",
      "model_module_version": "1.5.0",
      "model_name": "DropdownModel",
      "state": {
       "_options_labels": [
        "eastus",
        "eastus2",
        "canadacentral",
        "centralus",
        "northcentralus",
        "southcentralus",
        "westcentralus",
        "westus",
        "westus2"
       ],
       "description": "workspace_region",
       "index": 0,
       "layout": "IPY_MODEL_14d2afd01cef4663bf66d25739b7b1a6",
       "style": "IPY_MODEL_d35f147f28834108bf5f8ec720de8565"
      }
     },
     "bdb92a24fb9843b9b13c8fddf265f2e5": {
      "model_module": "@jupyter-widgets/controls",
      "model_module_version": "1.5.0",
      "model_name": "DescriptionStyleModel",
      "state": {
       "description_width": ""
      }
     },
     "c250a6b93a434c3fa0f734fb534c4ae4": {
      "model_module": "@jupyter-widgets/output",
      "model_module_version": "1.0.0",
      "model_name": "OutputModel",
      "state": {
       "layout": "IPY_MODEL_8acf1aecc8534613a3da35ca9b949aee"
      }
     },
     "c48a6abeb0a34613ad96840d04f975e0": {
      "model_module": "@jupyter-widgets/controls",
      "model_module_version": "1.5.0",
      "model_name": "DescriptionStyleModel",
      "state": {
       "description_width": ""
      }
     },
     "c8b6f4be1531494698c77b3fa42f5cfa": {
      "model_module": "@jupyter-widgets/base",
      "model_module_version": "1.2.0",
      "model_name": "LayoutModel",
      "state": {}
     },
     "d03a2a9b428b49b5ba748c811c044371": {
      "model_module": "@jupyter-widgets/controls",
      "model_module_version": "1.5.0",
      "model_name": "FileUploadModel",
      "state": {
       "accept": ".yml",
       "description_tooltip": null,
       "layout": "IPY_MODEL_b3dcb98136434141b4fec51fcd9ee1dd",
       "style": "IPY_MODEL_0da0bf3f4fab483fb552fb7fbc690242"
      }
     },
     "d16e23e660404c45a3426e1db3618a3f": {
      "model_module": "@jupyter-widgets/controls",
      "model_module_version": "1.5.0",
      "model_name": "TextModel",
      "state": {
       "description": "workspace_region",
       "layout": "IPY_MODEL_ae02bbfdc749413eab764210812d0633",
       "placeholder": "Azure ML Workspace Region",
       "style": "IPY_MODEL_4e34708011cf477dabaa67d2dd842be5",
       "value": "eastus"
      }
     },
     "d35f147f28834108bf5f8ec720de8565": {
      "model_module": "@jupyter-widgets/controls",
      "model_module_version": "1.5.0",
      "model_name": "DescriptionStyleModel",
      "state": {
       "description_width": ""
      }
     },
     "d690d4ffde3e48c6a3bc5d7eeff53b2c": {
      "model_module": "@jupyter-widgets/controls",
      "model_module_version": "1.5.0",
      "model_name": "DescriptionStyleModel",
      "state": {
       "description_width": ""
      }
     },
     "d95c6a175cec44debf3dc52d6033e813": {
      "model_module": "@jupyter-widgets/base",
      "model_module_version": "1.2.0",
      "model_name": "LayoutModel",
      "state": {}
     },
     "da265213605748bb95f25995ae82b911": {
      "model_module": "@jupyter-widgets/controls",
      "model_module_version": "1.5.0",
      "model_name": "DropdownModel",
      "state": {
       "_options_labels": [
        "eastus",
        "eastus2",
        "canadacentral",
        "centralus",
        "northcentralus",
        "southcentralus",
        "westcentralus",
        "westus",
        "westus2"
       ],
       "description": "deep_aks_location",
       "index": 0,
       "layout": "IPY_MODEL_0a3e49a2a9b74f99908166663c1e6637",
       "style": "IPY_MODEL_c48a6abeb0a34613ad96840d04f975e0"
      }
     },
     "da5205b7bc0542feabe6deb27b2e86e9": {
      "model_module": "@jupyter-widgets/controls",
      "model_module_version": "1.5.0",
      "model_name": "DescriptionStyleModel",
      "state": {
       "description_width": ""
      }
     },
     "e3ee34fd08de4aee87b5f67faa919476": {
      "model_module": "@jupyter-widgets/controls",
      "model_module_version": "1.5.0",
      "model_name": "TextModel",
      "state": {
       "description": "image_name",
       "layout": "IPY_MODEL_c8b6f4be1531494698c77b3fa42f5cfa",
       "placeholder": "Docker Container Image Name",
       "style": "IPY_MODEL_3c1df8a8296549ca964c4d7309bc8c6e",
       "value": "mymlimage3"
      }
     },
     "eae92c0142d0493483c57cf9008afade": {
      "model_module": "@jupyter-widgets/base",
      "model_module_version": "1.2.0",
      "model_name": "LayoutModel",
      "state": {}
     },
     "edd643eb2a0e4d7bba00cd359f173b76": {
      "model_module": "@jupyter-widgets/controls",
      "model_module_version": "1.5.0",
      "model_name": "TextModel",
      "state": {
       "description": "resource_group",
       "layout": "IPY_MODEL_162faa80618e4e3f863baa5bfbb3a995",
       "placeholder": "Azure Resource Group Name",
       "style": "IPY_MODEL_3956914acc7748fd8bba729e5637c698",
       "value": "azmlrts-eastus-stable3"
      }
     },
     "efcc3fe69c044c14afa5290371821631": {
      "model_module": "@jupyter-widgets/controls",
      "model_module_version": "1.5.0",
      "model_name": "TextModel",
      "state": {
       "description": "deep_aks_location",
       "layout": "IPY_MODEL_25eea33483aa49fc89170276a0ade8c8",
       "placeholder": "AKS Azure Region",
       "style": "IPY_MODEL_3faf40ec881f4eeabc1aa53c3686a978",
       "value": "eastus"
      }
     },
     "f348b8373b3546d192f38249a104597c": {
      "model_module": "@jupyter-widgets/controls",
      "model_module_version": "1.5.0",
      "model_name": "DescriptionStyleModel",
      "state": {
       "description_width": ""
      }
     },
     "fffaa428a9284bcdad30d871a04cafa7": {
      "model_module": "@jupyter-widgets/controls",
      "model_module_version": "1.5.0",
      "model_name": "TextModel",
      "state": {
       "description": "deep_aks_name",
       "layout": "IPY_MODEL_47fc1810df724a1db076fadfdf2a508c",
       "placeholder": "AKS Cluster Name",
       "style": "IPY_MODEL_d690d4ffde3e48c6a3bc5d7eeff53b2c",
       "value": "deepakscluster3"
      }
     }
    },
    "version_major": 2,
    "version_minor": 0
   }
  }
 },
 "nbformat": 4,
 "nbformat_minor": 4
}