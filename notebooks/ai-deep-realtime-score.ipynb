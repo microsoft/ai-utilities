{
 "cells": [
  {
   "cell_type": "markdown",
   "metadata": {},
   "source": [
    "[![Azure Notebooks](https://notebooks.azure.com/launch.png)](https://notebooks.azure.com/import/gh/microsoft/AI-Utilities)\n",
    "[![Binder](https://mybinder.org/badge_logo.svg)](https://mybinder.org/v2/gh/microsoft/AI-Utilities/deep_learning_2?filepath=notebooks%2Fai-deep-realtime-score.ipynb)\n",
    "[![Open In Colab](https://colab.research.google.com/assets/colab-badge.svg)](http://colab.research.google.com/github/microsoft/AI-Utilities/blob/deep_learning_2/notebooks/ai-deep-realtime-score.ipynb)"
   ]
  },
  {
   "cell_type": "markdown",
   "metadata": {
    "toc": true
   },
   "source": [
    "<h1>Table of Contents<span class=\"tocSkip\"></span></h1>\n",
    "<div class=\"toc\"><ul class=\"toc-item\"><li><span><a href=\"#Deploy-Solution\" data-toc-modified-id=\"Deploy-Solution-1\">Deploy Solution</a></span><ul class=\"toc-item\"><li><span><a href=\"#Create-Configuration\" data-toc-modified-id=\"Create-Configuration-1.1\">Create Configuration</a></span></li><li><span><a href=\"#Create-Train.py\" data-toc-modified-id=\"Create-Train.py-1.2\">Create Train.py</a></span></li><li><span><a href=\"#Create-Score.py\" data-toc-modified-id=\"Create-Score.py-1.3\">Create Score.py</a></span></li><li><span><a href=\"#Deploy-to-Azure-Kubernetes-Service-with-Azure-ML\" data-toc-modified-id=\"Deploy-to-Azure-Kubernetes-Service-with-Azure-ML-1.4\">Deploy to Azure Kubernetes Service with Azure ML</a></span></li></ul></li><li><span><a href=\"#Deploy-Services\" data-toc-modified-id=\"Deploy-Services-2\">Deploy Services</a></span><ul class=\"toc-item\"><li><span><a href=\"#Machine-Learning-Studio\" data-toc-modified-id=\"Machine-Learning-Studio-2.1\">Machine Learning Studio</a></span></li><li><span><a href=\"#Kubernetes\" data-toc-modified-id=\"Kubernetes-2.2\">Kubernetes</a></span></li><li><span><a href=\"#Application-Insights\" data-toc-modified-id=\"Application-Insights-2.3\">Application Insights</a></span><ul class=\"toc-item\"><li><span><a href=\"#Main\" data-toc-modified-id=\"Main-2.3.1\">Main</a></span></li><li><span><a href=\"#Availability\" data-toc-modified-id=\"Availability-2.3.2\">Availability</a></span></li><li><span><a href=\"#Performance-Dashboard\" data-toc-modified-id=\"Performance-Dashboard-2.3.3\">Performance Dashboard</a></span></li><li><span><a href=\"#Load-Test\" data-toc-modified-id=\"Load-Test-2.3.4\">Load Test</a></span></li></ul></li></ul></li></ul></div>"
   ]
  },
  {
   "cell_type": "markdown",
   "metadata": {},
   "source": [
    "## Overview\n",
    "In the [az-deep-realtime-score repository](https://github.com/microsoft/az-deep-realtime-score) there are a number of tutorials in Jupyter notebooks that have step-by-step instructions on how to deploy a pretrained deep learning model on a GPU enabled Kubernetes cluster throught Azure Machine Learning (AzureML). The tutorials cover how to deploy models with the deep learning framework Keras (TensorFlow backend)\n",
    "\n",
    "![alt text](https://happypathspublic.blob.core.windows.net/aksdeploymenttutorialaml/example.png \"Example Classification\")\n",
    " \n",
    "We go through the following steps:\n",
    " * Create an AzureML Workspace\n",
    " * Model development where we load the pretrained model and test it by using it to score images\n",
    " * Develop the API that will call our model \n",
    " * AKS\n",
    "     * Creating our Kubernetes cluster and deploying our application to it\n",
    "     * Testing the deployed model\n",
    "     * Testing the throughput of our model\n",
    "     * Cleaning up resources\n",
    "\n",
    "## Design\n",
    "![](https://docs.microsoft.com/en-us/azure/architecture/reference-architectures/ai/_images/python-model-architecture.png)\n",
    "\n",
    "As described on the associated [Azure Reference Architecture page](https://docs.microsoft.com/en-us/azure/architecture/reference-architectures/ai/realtime-scoring-python), the application we will develop is a simple image classification service, where we will submit an image and get back what class the image belongs to. The application flow for the deep learning model is as follows:\n",
    "1.\tDeep learning model is registered to AzureML model registry.\n",
    "1.\tAzureML creates a docker image including the model and scoring script.\n",
    "1.\tAzureML deploys the scoring image on the chosen deployment compute target (AKS) as a web service.\n",
    "1.\tThe client sends a HTTP POST request with the encoded image data.\n",
    "1.\tThe web service created by AzureML preprocesses the image data and sends it to the model for scoring.\n",
    "1.\tThe predicted categories with their scores are then returned to the client.\n",
    "\n",
    "\n",
    "**NOTE**: The tutorial goes through step by step how to deploy a deep learning model on Azure; it **does** **not** include enterprise best practices such as securing the endpoints and setting up remote logging etc. \n",
    "\n",
    "**Deploying with GPUS:** For a detailed comparison of the deployments of various deep learning models, see the blog post [here](https://azure.microsoft.com/en-us/blog/gpus-vs-cpus-for-deployment-of-deep-learning-models/) which provides evidence that, at least in the scenarios tested, GPUs provide better throughput and stability at a lower cost.\n",
    "\n",
    "## Quick Start\n",
    "Run this notebook to quickly setup the entire solution, and explore the custom train.py and score.py used in this example.\n",
    "\n",
    "Run all the cells to get started. \n",
    "> _**Action Required:** You will be prompted to login to Azure before the Widget is displayed and the notebook can continue._\n",
    "\n",
    "### Sample Configuration Widget\n",
    "Run the following code to produce this configuration widget in order to provide setting for the Azure Machine Learning deployment. Enter configuration settings, or upload an existing project.yml.\n",
    "\n",
    "\n",
    "### Create Configuration Widget\n"
   ]
  },
  {
   "cell_type": "code",
   "execution_count": 1,
   "metadata": {
    "ExecuteTime": {
     "end_time": "2020-03-06T06:15:04.044101Z",
     "start_time": "2020-03-06T06:14:15.113616Z"
    },
    "init_cell": true,
    "pycharm": {
     "is_executing": true
    }
   },
   "outputs": [
    {
     "name": "stderr",
     "output_type": "stream",
     "text": [
      "C:\\Users\\dcibo\\Anaconda3\\envs\\ai-utilities\\lib\\site-packages\\tensorflow\\python\\framework\\dtypes.py:526: FutureWarning: Passing (type, 1) or '1type' as a synonym of type is deprecated; in a future version of numpy, it will be understood as (type, (1,)) / '(1,)type'.\n",
      "  _np_qint8 = np.dtype([(\"qint8\", np.int8, 1)])\n",
      "C:\\Users\\dcibo\\Anaconda3\\envs\\ai-utilities\\lib\\site-packages\\tensorflow\\python\\framework\\dtypes.py:527: FutureWarning: Passing (type, 1) or '1type' as a synonym of type is deprecated; in a future version of numpy, it will be understood as (type, (1,)) / '(1,)type'.\n",
      "  _np_quint8 = np.dtype([(\"quint8\", np.uint8, 1)])\n",
      "C:\\Users\\dcibo\\Anaconda3\\envs\\ai-utilities\\lib\\site-packages\\tensorflow\\python\\framework\\dtypes.py:528: FutureWarning: Passing (type, 1) or '1type' as a synonym of type is deprecated; in a future version of numpy, it will be understood as (type, (1,)) / '(1,)type'.\n",
      "  _np_qint16 = np.dtype([(\"qint16\", np.int16, 1)])\n",
      "C:\\Users\\dcibo\\Anaconda3\\envs\\ai-utilities\\lib\\site-packages\\tensorflow\\python\\framework\\dtypes.py:529: FutureWarning: Passing (type, 1) or '1type' as a synonym of type is deprecated; in a future version of numpy, it will be understood as (type, (1,)) / '(1,)type'.\n",
      "  _np_quint16 = np.dtype([(\"quint16\", np.uint16, 1)])\n",
      "C:\\Users\\dcibo\\Anaconda3\\envs\\ai-utilities\\lib\\site-packages\\tensorflow\\python\\framework\\dtypes.py:530: FutureWarning: Passing (type, 1) or '1type' as a synonym of type is deprecated; in a future version of numpy, it will be understood as (type, (1,)) / '(1,)type'.\n",
      "  _np_qint32 = np.dtype([(\"qint32\", np.int32, 1)])\n",
      "C:\\Users\\dcibo\\Anaconda3\\envs\\ai-utilities\\lib\\site-packages\\tensorflow\\python\\framework\\dtypes.py:535: FutureWarning: Passing (type, 1) or '1type' as a synonym of type is deprecated; in a future version of numpy, it will be understood as (type, (1,)) / '(1,)type'.\n",
      "  np_resource = np.dtype([(\"resource\", np.ubyte, 1)])\n"
     ]
    },
    {
     "data": {
      "application/vnd.jupyter.widget-view+json": {
       "model_id": "445bf2d61f894581bb1a0893a13dfb32",
       "version_major": 2,
       "version_minor": 0
      },
      "text/plain": [
       "VBox(children=(Output(), FileUpload(value={}, accept='.yml', description='Upload', layout=Layout(width='50%'))…"
      ]
     },
     "metadata": {},
     "output_type": "display_data"
    }
   ],
   "source": [
    "import os\n",
    "\n",
    "from azure_utils.notebook_widgets.notebook_configuration_widget import get_configuration_widget, test_train_py_button, test_score_py_button, deploy_button\n",
    "\n",
    "project_configuration = \"notebook_project.yml\"\n",
    "os.makedirs(\"script\", exist_ok=True)\n",
    "os.makedirs(\"source\", exist_ok=True)\n",
    "configuration_widget = get_configuration_widget(project_configuration)\n",
    "configuration_widget"
   ]
  },
  {
   "cell_type": "markdown",
   "metadata": {
    "pycharm": {
     "name": "#%% md\n"
    }
   },
   "source": [
    "### Create Train.py\n",
    "\n",
    "The following code trains a model and saves it to the output directory. For more details see this [sample notebook](https://github.com/microsoft/az-deep-realtime-score/blob/master/%7B%7Bcookiecutter.project_name%7D%7D/Keras_Tensorflow/01_DevelopModel.ipynb).\n",
    "\n",
    "\n",
    "```python\n",
    "import os\n",
    "\n",
    "from azure_utils.samples.deep_rts_samples import MakeResNet152\n",
    "\n",
    "if __name__ == \"__main__\":\n",
    "    import warnings\n",
    "\n",
    "    with warnings.catch_warnings():\n",
    "        warnings.filterwarnings(\"ignore\", category=FutureWarning)\n",
    "        import tensorflow as tf\n",
    "        tf.logging.set_verbosity(tf.logging.ERROR)\n",
    "\n",
    "        os.makedirs(\"outputs\", exist_ok=True)\n",
    "        model = MakeResNet152(include_top=False, input_shape=(200, 200, 3), pooling=\"avg\", weights=\"imagenet\")\n",
    "        model.save_weights(\"outputs/model.pkl\")\n",
    "```\n",
    "\n",
    "Write this file to a script that will be used to train the model locally with Azure Machine Learning."
   ]
  },
  {
   "cell_type": "code",
   "execution_count": 2,
   "metadata": {
    "pycharm": {
     "name": "#%%\n"
    }
   },
   "outputs": [
    {
     "name": "stdout",
     "output_type": "stream",
     "text": [
      "Overwriting script/train_dl.py\n"
     ]
    }
   ],
   "source": [
    "%%writefile script/train_dl.py\n",
    "\n",
    "def train():\n",
    "    import warnings\n",
    "    import os\n",
    "\n",
    "    from azure_utils.samples.deep_rts_samples import MakeResNet152\n",
    "\n",
    "\n",
    "    with warnings.catch_warnings():\n",
    "        warnings.filterwarnings(\"ignore\", category=FutureWarning)\n",
    "\n",
    "        os.makedirs(\"outputs\", exist_ok=True)\n",
    "        model = MakeResNet152(include_top=False, input_shape=(200, 200, 3), pooling=\"avg\", weights=\"imagenet\")\n",
    "        model.save_weights(\"outputs/model.pkl\")\n",
    "\n",
    "if __name__ == \"__main__\":\n",
    "    train()\n"
   ]
  },
  {
   "cell_type": "markdown",
   "metadata": {},
   "source": [
    "> _**Optional:** Test the training code locally before deployment. This is particularly useful when authoring a train.py file._"
   ]
  },
  {
   "cell_type": "code",
   "execution_count": 3,
   "metadata": {},
   "outputs": [
    {
     "data": {
      "application/vnd.jupyter.widget-view+json": {
       "model_id": "8b82f971cc6f40dcad30572033b1a4c9",
       "version_major": 2,
       "version_minor": 0
      },
      "text/plain": [
       "VBox(children=(Button(description='Test train.py', layout=Layout(height='80px', width='80%'), style=ButtonStyl…"
      ]
     },
     "metadata": {},
     "output_type": "display_data"
    }
   ],
   "source": [
    "test_train_py_button()"
   ]
  },
  {
   "cell_type": "markdown",
   "metadata": {
    "pycharm": {
     "name": "#%% md\n"
    }
   },
   "source": [
    "### Create Score.py\n",
    "The scoring script is used to create a rest service. The model is loaded, and is used to make predictions on incoming requests. For more details see this [sample notebook](https://github.com/microsoft/az-deep-realtime-score/blob/master/%7B%7Bcookiecutter.project_name%7D%7D/Keras_Tensorflow/02_DevelopModelDriver.ipynb).\n",
    "\n",
    "```python\n",
    "import sys\n",
    "sys.setrecursionlimit(3000)\n",
    "\n",
    "from azureml.contrib.services.aml_request import rawhttp\n",
    "from azureml.contrib.services.aml_response import AMLResponse\n",
    "\n",
    "def init():\n",
    "    \"\"\" Initialise the model and scoring function\n",
    "    \"\"\"\n",
    "    global process_and_score\n",
    "    from azure_utils.samples.deep_rts_samples import get_model_api\n",
    "    process_and_score = get_model_api()\n",
    "\n",
    "\n",
    "@rawhttp\n",
    "def run(request):\n",
    "    \"\"\" Make a prediction based on the data passed in using the preloaded model\n",
    "    \"\"\"\n",
    "    from azure_utils.machine_learning.realtime import default_response\n",
    "    if request.method == 'POST':\n",
    "        return process_and_score(request.files)\n",
    "    return default_response(request)\n",
    "```\n",
    "This code will be used to create an API using the trained model."
   ]
  },
  {
   "cell_type": "code",
   "execution_count": 4,
   "metadata": {
    "collapsed": false,
    "jupyter": {
     "outputs_hidden": false
    },
    "pycharm": {
     "name": "#%%\n"
    }
   },
   "outputs": [
    {
     "name": "stdout",
     "output_type": "stream",
     "text": [
      "Overwriting source/score.py\n"
     ]
    }
   ],
   "source": [
    "%%writefile source/score.py\n",
    "\n",
    "import sys\n",
    "sys.setrecursionlimit(3000)\n",
    "\n",
    "from azureml.contrib.services.aml_request import rawhttp\n",
    "from azureml.contrib.services.aml_response import AMLResponse\n",
    "\n",
    "def init():\n",
    "    \"\"\" Initialise the model and scoring function\n",
    "    \"\"\"\n",
    "    global process_and_score\n",
    "    from azure_utils.samples.deep_rts_samples import get_model_api\n",
    "    process_and_score = get_model_api()\n",
    "\n",
    "\n",
    "@rawhttp\n",
    "def run(request):\n",
    "    \"\"\" Make a prediction based on the data passed in using the preloaded model\n",
    "    \"\"\"\n",
    "    from azure_utils.machine_learning.realtime import default_response\n",
    "    if request.method == 'POST':\n",
    "        return process_and_score(request.files)\n",
    "    return default_response(request)"
   ]
  },
  {
   "cell_type": "markdown",
   "metadata": {},
   "source": [
    "> _**Optional:** Test the code locally before deployment. This is particularly useful when authoring a score.py file.._"
   ]
  },
  {
   "cell_type": "code",
   "execution_count": 5,
   "metadata": {},
   "outputs": [
    {
     "data": {
      "application/vnd.jupyter.widget-view+json": {
       "model_id": "4fbac8423ee5488d9b9b5c9514e68e98",
       "version_major": 2,
       "version_minor": 0
      },
      "text/plain": [
       "VBox(children=(Button(description='Test score.py', layout=Layout(align_content='center', height='80px', width=…"
      ]
     },
     "metadata": {},
     "output_type": "display_data"
    }
   ],
   "source": [
    "test_score_py_button(score_py=\"source/score.py\")"
   ]
  },
  {
   "cell_type": "markdown",
   "metadata": {
    "pycharm": {
     "name": "#%% md\n"
    }
   },
   "source": [
    "### Deploy to Azure Kubernetes Service with Azure ML\n",
    "\n",
    "Train the model locally, and then deploy the web service to an Azure Kubernetes Cluster managed by an Azure Machine Learning Workspace. Use the output widget to explore the deployed resources.\n",
    "For more details see this [sample notebook](https://github.com/microsoft/az-deep-realtime-score/blob/master/%7B%7Bcookiecutter.project_name%7D%7D/Keras_Tensorflow/aks/04_DeployOnAKS.ipynb).\n",
    "\n",
    "> _**Action Required:** Press the button to deploy the scripts to Azure Machine Learning._"
   ]
  },
  {
   "cell_type": "code",
   "execution_count": 6,
   "metadata": {
    "pycharm": {
     "name": "#%%\n"
    }
   },
   "outputs": [
    {
     "data": {
      "application/vnd.jupyter.widget-view+json": {
       "model_id": "1c589710ea374a4293098663fd21f625",
       "version_major": 2,
       "version_minor": 0
      },
      "text/plain": [
       "VBox(children=(Button(description='Deploy Azure Machine Learning Services', layout=Layout(height='80px', justi…"
      ]
     },
     "metadata": {},
     "output_type": "display_data"
    }
   ],
   "source": [
    "deploy_button(project_configuration, train_py=\"train_dl.py\", score_py=\"score.py\")"
   ]
  }
 ],
 "metadata": {
  "celltoolbar": "Initialization Cell",
  "kernelspec": {
   "display_name": "AI",
   "language": "python",
   "name": "ai-utilities"
  },
  "language_info": {
   "codemirror_mode": {
    "name": "ipython",
    "version": 3
   },
   "file_extension": ".py",
   "mimetype": "text/x-python",
   "name": "python",
   "nbconvert_exporter": "python",
   "pygments_lexer": "ipython3",
   "version": "3.7.6"
  },
  "toc": {
   "base_numbering": 1,
   "nav_menu": {},
   "number_sections": false,
   "sideBar": true,
   "skip_h1_title": false,
   "title_cell": "Table of Contents",
   "title_sidebar": "Contents",
   "toc_cell": true,
   "toc_position": {
    "height": "237px",
    "left": "488px",
    "top": "188px",
    "width": "561px"
   },
   "toc_section_display": true,
   "toc_window_display": false
  },
  "widgets": {
   "application/vnd.jupyter.widget-state+json": {
    "state": {
     "0000af9242834b91b9276ef832aeb3b8": {
      "model_module": "@jupyter-widgets/base",
      "model_module_version": "1.2.0",
      "model_name": "LayoutModel",
      "state": {}
     },
     "000633679bcc42debd594774e9549afb": {
      "model_module": "@jupyter-widgets/controls",
      "model_module_version": "1.5.0",
      "model_name": "LabelModel",
      "state": {
       "layout": "IPY_MODEL_50f1430c429446378e79baebb6acb7aa",
       "style": "IPY_MODEL_4a940eda2a9a435d9c43498d3f5826df",
       "value": "None"
      }
     },
     "001e321f0704499b80f4a4a5f416b35b": {
      "model_module": "@jupyter-widgets/controls",
      "model_module_version": "1.5.0",
      "model_name": "AccordionModel",
      "state": {
       "_titles": {
        "0": "createdBy"
       },
       "children": [
        "IPY_MODEL_aa92b561931f4a5184f5f4e8880ec503"
       ],
       "layout": "IPY_MODEL_6b2eb7a02c654f9387b19427d81a3051"
      }
     },
     "0032a6fa96ba4d4e8221d279cade596b": {
      "model_module": "@jupyter-widgets/controls",
      "model_module_version": "1.5.0",
      "model_name": "HTMLModel",
      "state": {
       "layout": "IPY_MODEL_9d118614ccdc4a59ae62fe2fdd3434ba",
       "style": "IPY_MODEL_d93edb6dae6e4d2c95742c945e7bccd8",
       "value": "<b>unpack:</b>"
      }
     },
     "00c16f1ff11247e8bcd04e3ec678499c": {
      "model_module": "@jupyter-widgets/controls",
      "model_module_version": "1.5.0",
      "model_name": "LabelModel",
      "state": {
       "layout": "IPY_MODEL_75688fb13b514ead8d0460a3131263ab",
       "style": "IPY_MODEL_8c0ea425d356447b908f61f8a7c578f4",
       "value": "5"
      }
     },
     "00d64594a10c45b6acac9cfbc78daf53": {
      "model_module": "@jupyter-widgets/controls",
      "model_module_version": "1.5.0",
      "model_name": "HBoxModel",
      "state": {
       "children": [
        "IPY_MODEL_a067e06876604dcc8d7e4a16e916aef0",
        "IPY_MODEL_08b1a1bf01bb40b68ae9ef40aab91256"
       ],
       "layout": "IPY_MODEL_3d695c3a0bc74a8e9630d7bb34e30ec0"
      }
     },
     "01bb480ba2874022a16541a9316dcbc0": {
      "model_module": "@jupyter-widgets/controls",
      "model_module_version": "1.5.0",
      "model_name": "DescriptionStyleModel",
      "state": {
       "description_width": ""
      }
     },
     "023825871adc4eed87adef2db5262424": {
      "model_module": "@jupyter-widgets/controls",
      "model_module_version": "1.5.0",
      "model_name": "DescriptionStyleModel",
      "state": {
       "description_width": ""
      }
     },
     "02e519926af64e08bfa0cdf400c1537a": {
      "model_module": "@jupyter-widgets/base",
      "model_module_version": "1.2.0",
      "model_name": "LayoutModel",
      "state": {}
     },
     "03135dd8f29d4a07bcf6a0b3a89adc69": {
      "model_module": "@jupyter-widgets/base",
      "model_module_version": "1.2.0",
      "model_name": "LayoutModel",
      "state": {}
     },
     "0325700e0ede4e1e916415ec6b03a01d": {
      "model_module": "@jupyter-widgets/controls",
      "model_module_version": "1.5.0",
      "model_name": "HTMLModel",
      "state": {
       "layout": "IPY_MODEL_74c9557a729a4da5b5ee18dbef7ba781",
       "style": "IPY_MODEL_d8cd90838d9347ec93d9e85f5c5bb85d",
       "value": "<b>userIss:</b>"
      }
     },
     "03d1a889b7e7411f8292ffd107ccc138": {
      "model_module": "@jupyter-widgets/controls",
      "model_module_version": "1.5.0",
      "model_name": "DescriptionStyleModel",
      "state": {
       "description_width": ""
      }
     },
     "03f5a91f70a548e697bf780ac6d59128": {
      "model_module": "@jupyter-widgets/base",
      "model_module_version": "1.2.0",
      "model_name": "LayoutModel",
      "state": {}
     },
     "04161deea97a44e49989e1b2b9c8aea6": {
      "model_module": "@jupyter-widgets/controls",
      "model_module_version": "1.5.0",
      "model_name": "DescriptionStyleModel",
      "state": {
       "description_width": ""
      }
     },
     "04b9dfdb332d486b8d38cf1dd991daa8": {
      "model_module": "@jupyter-widgets/controls",
      "model_module_version": "1.5.0",
      "model_name": "HTMLModel",
      "state": {
       "layout": "IPY_MODEL_67e83107c7fd4dc8a954700629bece2e",
       "style": "IPY_MODEL_536349b113d444ff99bb1847faf108d5",
       "value": "<b>resourceConfiguration:</b>"
      }
     },
     "04df15cf21f04910bd4e2d83600b7298": {
      "model_module": "@jupyter-widgets/controls",
      "model_module_version": "1.5.0",
      "model_name": "DescriptionStyleModel",
      "state": {
       "description_width": "initial"
      }
     },
     "05109cddaf644663920b216946032fd3": {
      "model_module": "@jupyter-widgets/base",
      "model_module_version": "1.2.0",
      "model_name": "LayoutModel",
      "state": {}
     },
     "053821b34aea4bdf9995d037c1c1989b": {
      "model_module": "@jupyter-widgets/controls",
      "model_module_version": "1.5.0",
      "model_name": "HTMLModel",
      "state": {
       "layout": "IPY_MODEL_d65df4f2357d403fb4e730cc95d6b3a0",
       "style": "IPY_MODEL_1cb8b41a4c964f768a187e9a823a422a",
       "value": "<b>userIdp:</b>"
      }
     },
     "056ec7d96eb2463eba71d3a763273d18": {
      "model_module": "@jupyter-widgets/controls",
      "model_module_version": "1.5.0",
      "model_name": "DescriptionStyleModel",
      "state": {
       "description_width": ""
      }
     },
     "05d02c424f8546d6954d9bd483260e5e": {
      "model_module": "@jupyter-widgets/controls",
      "model_module_version": "1.5.0",
      "model_name": "DescriptionStyleModel",
      "state": {
       "description_width": ""
      }
     },
     "05f0024aedd84fefa25ceae822333d22": {
      "model_module": "@jupyter-widgets/controls",
      "model_module_version": "1.5.0",
      "model_name": "LabelModel",
      "state": {
       "layout": "IPY_MODEL_0fed0c56bead4ee29df2f1b0698630f6",
       "style": "IPY_MODEL_d1e17e295b364d98b83e0a922d5b84de",
       "value": "2020-03-18T21:25:26.495620+00:00"
      }
     },
     "065724c9d9f6414496c9edd2ddf38b1a": {
      "model_module": "@jupyter-widgets/base",
      "model_module_version": "1.2.0",
      "model_name": "LayoutModel",
      "state": {
       "height": "80px",
       "width": "80%"
      }
     },
     "070c61f0a00f415880815fe90a4035a1": {
      "model_module": "@jupyter-widgets/controls",
      "model_module_version": "1.5.0",
      "model_name": "DescriptionStyleModel",
      "state": {
       "description_width": ""
      }
     },
     "0791c6447e50427388acde490d028c4c": {
      "model_module": "@jupyter-widgets/controls",
      "model_module_version": "1.5.0",
      "model_name": "HTMLModel",
      "state": {
       "layout": "IPY_MODEL_43811a0f5dbd4e4ba8904f5614d37803",
       "style": "IPY_MODEL_c270e54792fa41a39b10211420f38988",
       "value": "<b>python:</b>"
      }
     },
     "0796facb8ce04aca9ec5ab8edb7f09bf": {
      "model_module": "@jupyter-widgets/controls",
      "model_module_version": "1.5.0",
      "model_name": "DescriptionStyleModel",
      "state": {
       "description_width": ""
      }
     },
     "07ca48d011764e8889579df71542a748": {
      "model_module": "@jupyter-widgets/controls",
      "model_module_version": "1.5.0",
      "model_name": "DescriptionStyleModel",
      "state": {
       "description_width": ""
      }
     },
     "08a07fcfbddd483f9cdffeb9966e674d": {
      "model_module": "@jupyter-widgets/base",
      "model_module_version": "1.2.0",
      "model_name": "LayoutModel",
      "state": {}
     },
     "08b1a1bf01bb40b68ae9ef40aab91256": {
      "model_module": "@jupyter-widgets/controls",
      "model_module_version": "1.5.0",
      "model_name": "LabelModel",
      "state": {
       "layout": "IPY_MODEL_f4ad46470e824a48b73328e38eaa177e",
       "style": "IPY_MODEL_53752d43d2ab4a66b3e8fbdc5f6f4724",
       "value": "None"
      }
     },
     "08da8f13822a41738eb471cd18f1d105": {
      "model_module": "@jupyter-widgets/base",
      "model_module_version": "1.2.0",
      "model_name": "LayoutModel",
      "state": {}
     },
     "094c89650693437fa10baf4fed0ee35f": {
      "model_module": "@jupyter-widgets/controls",
      "model_module_version": "1.5.0",
      "model_name": "DescriptionStyleModel",
      "state": {
       "description_width": ""
      }
     },
     "095ed9897d364539bc3d7518edb6cb9d": {
      "model_module": "@jupyter-widgets/controls",
      "model_module_version": "1.5.0",
      "model_name": "DescriptionStyleModel",
      "state": {
       "description_width": ""
      }
     },
     "09f0cce7d6134820873dfe6531396ed7": {
      "model_module": "@jupyter-widgets/controls",
      "model_module_version": "1.5.0",
      "model_name": "HBoxModel",
      "state": {
       "children": [
        "IPY_MODEL_c106f79fb0b64d0aa6959f268d58838e",
        "IPY_MODEL_30bbb201633042af934d168e7048a576"
       ],
       "layout": "IPY_MODEL_7a940858e5d543ca89454572f97ea974"
      }
     },
     "0a3207f81e154e6f8e78c8e7899f8671": {
      "model_module": "@jupyter-widgets/base",
      "model_module_version": "1.2.0",
      "model_name": "LayoutModel",
      "state": {}
     },
     "0a380faef72d4759ba9b41b4755ed2a4": {
      "model_module": "@jupyter-widgets/base",
      "model_module_version": "1.2.0",
      "model_name": "LayoutModel",
      "state": {}
     },
     "0a4ddce909dc4cac95de9bbfa6b5c2d0": {
      "model_module": "@jupyter-widgets/controls",
      "model_module_version": "1.5.0",
      "model_name": "HTMLModel",
      "state": {
       "layout": "IPY_MODEL_08a07fcfbddd483f9cdffeb9966e674d",
       "style": "IPY_MODEL_f210689d5cf4461a970de4b5bf738eb3",
       "value": "<b>createdTime:</b>"
      }
     },
     "0aa4b8809194483aa540b2d8f37f3849": {
      "model_module": "@jupyter-widgets/base",
      "model_module_version": "1.2.0",
      "model_name": "LayoutModel",
      "state": {}
     },
     "0ad56fbf51f847f8a9317bfd70b25f97": {
      "model_module": "@jupyter-widgets/base",
      "model_module_version": "1.2.0",
      "model_name": "LayoutModel",
      "state": {}
     },
     "0ae881871e72434ebbfccca4a7ef9d20": {
      "model_module": "@jupyter-widgets/controls",
      "model_module_version": "1.5.0",
      "model_name": "HBoxModel",
      "state": {
       "children": [
        "IPY_MODEL_0c65d3388c1e4795a49ba43f13baa1c5",
        "IPY_MODEL_743e2191cb0b4f00be143a3dea497e98"
       ],
       "layout": "IPY_MODEL_cfd5d16979ef47c5b4ef45e163a42f73"
      }
     },
     "0b1b7e9f561f4cd28cc93fceaa0a9eaf": {
      "model_module": "@jupyter-widgets/base",
      "model_module_version": "1.2.0",
      "model_name": "LayoutModel",
      "state": {}
     },
     "0b6158e269564da9803f14497f148e04": {
      "model_module": "@jupyter-widgets/controls",
      "model_module_version": "1.5.0",
      "model_name": "DescriptionStyleModel",
      "state": {
       "description_width": ""
      }
     },
     "0ba8b32292ab4df486743e8f37bdafa4": {
      "model_module": "@jupyter-widgets/controls",
      "model_module_version": "1.5.0",
      "model_name": "DescriptionStyleModel",
      "state": {
       "description_width": ""
      }
     },
     "0c2f1d56be5d4f89a9b7bfcf82d2ad7a": {
      "model_module": "@jupyter-widgets/base",
      "model_module_version": "1.2.0",
      "model_name": "LayoutModel",
      "state": {}
     },
     "0c424b3ee18d4f53ab920fd7c912ab73": {
      "model_module": "@jupyter-widgets/base",
      "model_module_version": "1.2.0",
      "model_name": "LayoutModel",
      "state": {}
     },
     "0c437844f9c44c348debb3f9a7fd237f": {
      "model_module": "@jupyter-widgets/controls",
      "model_module_version": "1.5.0",
      "model_name": "VBoxModel",
      "state": {
       "children": [
        "IPY_MODEL_7dc5bb34d23c4c7e9377e20cc267b611",
        "IPY_MODEL_d1bb4f309de94954aaf4fe81a99a0881",
        "IPY_MODEL_524dfbafd3554ef1b236efcfa7f18238",
        "IPY_MODEL_bceae47387d0462ab78a1e2f121e5e95",
        "IPY_MODEL_850977e1c6934d2f8f7682f183e24073"
       ],
       "layout": "IPY_MODEL_03f5a91f70a548e697bf780ac6d59128"
      }
     },
     "0c65d3388c1e4795a49ba43f13baa1c5": {
      "model_module": "@jupyter-widgets/controls",
      "model_module_version": "1.5.0",
      "model_name": "HTMLModel",
      "state": {
       "layout": "IPY_MODEL_966606a02de9466fb2f4c46147d122ae",
       "style": "IPY_MODEL_ec9cb2a6843d49729897675794c5ad61",
       "value": "<b>docker:</b>"
      }
     },
     "0cb6ff0591cb4f10b5b6f75b6e7e324a": {
      "model_module": "@jupyter-widgets/base",
      "model_module_version": "1.2.0",
      "model_name": "LayoutModel",
      "state": {}
     },
     "0cb799b40b944bd5b3b4ebcf23dee469": {
      "model_module": "@jupyter-widgets/controls",
      "model_module_version": "1.5.0",
      "model_name": "DescriptionStyleModel",
      "state": {
       "description_width": ""
      }
     },
     "0d2502f1f8524231aff25389344c08d1": {
      "model_module": "@jupyter-widgets/controls",
      "model_module_version": "1.5.0",
      "model_name": "HTMLModel",
      "state": {
       "layout": "IPY_MODEL_e1cf1037bc164b459b71f84ee1c5048b",
       "style": "IPY_MODEL_4b1a1196eaba493abed899ab410ceb08",
       "value": "<b>timeoutSeconds:</b>"
      }
     },
     "0d346543b67e4da388f625b45861e3e0": {
      "model_module": "@jupyter-widgets/base",
      "model_module_version": "1.2.0",
      "model_name": "LayoutModel",
      "state": {}
     },
     "0d8305e5dd50493ea1c2a6fc1d3e9f17": {
      "model_module": "@jupyter-widgets/controls",
      "model_module_version": "1.5.0",
      "model_name": "DescriptionStyleModel",
      "state": {
       "description_width": ""
      }
     },
     "0dd52cbda8c74f6c9bc0e1a75e12217e": {
      "model_module": "@jupyter-widgets/controls",
      "model_module_version": "1.5.0",
      "model_name": "LabelModel",
      "state": {
       "layout": "IPY_MODEL_969770b5b3e84c309cdc0533d21f145c",
       "style": "IPY_MODEL_5bdab9ff1ac2479196ae57ab7ec5b710",
       "value": "None"
      }
     },
     "0ddf06d1290c4fafb9f507ed0decee26": {
      "model_module": "@jupyter-widgets/controls",
      "model_module_version": "1.5.0",
      "model_name": "DescriptionStyleModel",
      "state": {
       "description_width": ""
      }
     },
     "0de5680346814209a97883fd88ca61cf": {
      "model_module": "@jupyter-widgets/base",
      "model_module_version": "1.2.0",
      "model_name": "LayoutModel",
      "state": {}
     },
     "0f2cedbc6bed4ea9a253454fa09ba8ba": {
      "model_module": "@jupyter-widgets/controls",
      "model_module_version": "1.5.0",
      "model_name": "DescriptionStyleModel",
      "state": {
       "description_width": ""
      }
     },
     "0f6305f247d34e5baf7be2a365ec6ae0": {
      "model_module": "@jupyter-widgets/controls",
      "model_module_version": "1.5.0",
      "model_name": "LabelModel",
      "state": {
       "layout": "IPY_MODEL_1931b7d4f8b442469fc5ee1540698397",
       "style": "IPY_MODEL_ef62c8a425ed431e8e7336c172250f93",
       "value": "{'EXAMPLE_ENV_VAR': 'EXAMPLE_VALUE'}"
      }
     },
     "0f6b75fe7fbd4426892c2cbd35b38355": {
      "model_module": "@jupyter-widgets/base",
      "model_module_version": "1.2.0",
      "model_name": "LayoutModel",
      "state": {
       "width": "50%"
      }
     },
     "0f6d5e607fd64f46850d957177d019f4": {
      "model_module": "@jupyter-widgets/controls",
      "model_module_version": "1.5.0",
      "model_name": "HBoxModel",
      "state": {
       "children": [
        "IPY_MODEL_a5a98349cf684b17b933fca9b3b26a41",
        "IPY_MODEL_ca2fc1da7eff4fd1974b9d9d4ca9581f"
       ],
       "layout": "IPY_MODEL_747f73b9360b45f3bd80da5c4c2b9eb1"
      }
     },
     "0f85c3112e2d4ed68d0e8bbcf2937c42": {
      "model_module": "@jupyter-widgets/controls",
      "model_module_version": "1.5.0",
      "model_name": "HTMLModel",
      "state": {
       "layout": "IPY_MODEL_44a685e4c8e648408b32423fa4b81302",
       "style": "IPY_MODEL_b961d01d002d49d19c9611144b782d7d",
       "value": "<b>minReplicas:</b>"
      }
     },
     "0fed0c56bead4ee29df2f1b0698630f6": {
      "model_module": "@jupyter-widgets/base",
      "model_module_version": "1.2.0",
      "model_name": "LayoutModel",
      "state": {}
     },
     "101c3c1cca614a729350a0654abdee15": {
      "model_module": "@jupyter-widgets/base",
      "model_module_version": "1.2.0",
      "model_name": "LayoutModel",
      "state": {}
     },
     "10504d1cca38484bbf5d7cec87f8e090": {
      "model_module": "@jupyter-widgets/controls",
      "model_module_version": "1.5.0",
      "model_name": "HBoxModel",
      "state": {
       "children": [
        "IPY_MODEL_47b5e3aae953475396d08aa3045496e6",
        "IPY_MODEL_2df11512b6a546e09064014626ba80b9"
       ],
       "layout": "IPY_MODEL_8ff4a873781046a1ba25c6256b9102f1"
      }
     },
     "10b503234c23476b9c8ff01bc8eb591e": {
      "model_module": "@jupyter-widgets/controls",
      "model_module_version": "1.5.0",
      "model_name": "LabelModel",
      "state": {
       "layout": "IPY_MODEL_a28593ca5c2a4258b92bf4ec31d274fa",
       "style": "IPY_MODEL_ee4cd4ab4a454d8b99a30967962bd0c2",
       "value": "{'userManagedDependencies': False, 'interpreterPath': 'python', 'condaDependenciesFile': None, 'baseCondaEnvironment': None, 'condaDependencies': {'channels': ['anaconda', 'conda-forge'], 'dependencies': ['python=3.6.2', {'pip': ['azureml-defaults', 'azureml-contrib-services', 'toolz==0.9.0', 'git+https://github.com/microsoft/AI-Utilities.git@dciborow/no-cli']}, 'keras=2.3.1', 'pillow=7.0.0'], 'name': 'azureml_8e81e2311131822017046513ec68b4f1'}}"
      }
     },
     "114f1a9e493a4576834de4f119780c54": {
      "model_module": "@jupyter-widgets/controls",
      "model_module_version": "1.5.0",
      "model_name": "LabelModel",
      "state": {
       "layout": "IPY_MODEL_bec5f52ed1fb43c795e9c024b9383d94",
       "style": "IPY_MODEL_6f41c479bf6c4243b44f57a7fe1c42c7",
       "value": "Unhealthy"
      }
     },
     "12195e44af3f42ac88893e894bec2463": {
      "model_module": "@jupyter-widgets/controls",
      "model_module_version": "1.5.0",
      "model_name": "DescriptionStyleModel",
      "state": {
       "description_width": ""
      }
     },
     "128e063b543b4ada8f47ed3e234a7ba5": {
      "model_module": "@jupyter-widgets/base",
      "model_module_version": "1.2.0",
      "model_name": "LayoutModel",
      "state": {}
     },
     "12bafa484024456299a6ae1928354406": {
      "model_module": "@jupyter-widgets/controls",
      "model_module_version": "1.5.0",
      "model_name": "HTMLModel",
      "state": {
       "layout": "IPY_MODEL_43f8de4a1d5940128d83a9a673707321",
       "style": "IPY_MODEL_e0e6ea74ceca44e0a1928ab6e9021f0d",
       "value": "<b>maxReplicas:</b>"
      }
     },
     "134bab1739cb42728397e4880ff560f4": {
      "model_module": "@jupyter-widgets/controls",
      "model_module_version": "1.5.0",
      "model_name": "AccordionModel",
      "state": {
       "_titles": {
        "0": "containerResourceRequirements"
       },
       "children": [
        "IPY_MODEL_bb01e4e0778c4473bb21c16376b1baa9"
       ],
       "layout": "IPY_MODEL_407afb2a2ca14d7a8111e75050e55eee"
      }
     },
     "138d59b397ac4b1ca7937ad55081c050": {
      "model_module": "@jupyter-widgets/base",
      "model_module_version": "1.2.0",
      "model_name": "LayoutModel",
      "state": {}
     },
     "1410c1e1128549679c5dbb68ac6780e4": {
      "model_module": "@jupyter-widgets/controls",
      "model_module_version": "1.5.0",
      "model_name": "HTMLModel",
      "state": {
       "layout": "IPY_MODEL_a2f00b2907494f9cafc0d0bfdc446922",
       "style": "IPY_MODEL_41dea9fe01d646c59deece18cd524841",
       "value": "<b>mlflow.source.git.commit:</b>"
      }
     },
     "15662e2bc5964976a320eafa3ae47227": {
      "model_module": "@jupyter-widgets/base",
      "model_module_version": "1.2.0",
      "model_name": "LayoutModel",
      "state": {}
     },
     "157037d3c9ca479bbb15ac48f57d9c15": {
      "model_module": "@jupyter-widgets/base",
      "model_module_version": "1.2.0",
      "model_name": "LayoutModel",
      "state": {}
     },
     "15b1e2f4b0db44b29387206d4909c984": {
      "model_module": "@jupyter-widgets/controls",
      "model_module_version": "1.5.0",
      "model_name": "LabelModel",
      "state": {
       "layout": "IPY_MODEL_b4dd20b1bd4947d489eee212ca581088",
       "style": "IPY_MODEL_0796facb8ce04aca9ec5ab8edb7f09bf",
       "value": "https://github.com/microsoft/AI-Utilities.git"
      }
     },
     "1611b2e6137f4479b24c2c4fb0c05e95": {
      "model_module": "@jupyter-widgets/controls",
      "model_module_version": "1.5.0",
      "model_name": "HBoxModel",
      "state": {
       "children": [
        "IPY_MODEL_ba856e5b7769442293787f896c229dcc",
        "IPY_MODEL_81f5131a213045bebda722fa4c055583"
       ],
       "layout": "IPY_MODEL_73b0409829144658a43e5dc9f79fc883"
      }
     },
     "16aa8babe5cf42b8a9b10faa0c5fbc9d": {
      "model_module": "@jupyter-widgets/controls",
      "model_module_version": "1.5.0",
      "model_name": "DescriptionStyleModel",
      "state": {
       "description_width": ""
      }
     },
     "16afe35c85444e21aa61cf8a48395a02": {
      "model_module": "@jupyter-widgets/controls",
      "model_module_version": "1.5.0",
      "model_name": "DescriptionStyleModel",
      "state": {
       "description_width": ""
      }
     },
     "1712d994f22841408c50c9c6c6c26815": {
      "model_module": "@jupyter-widgets/controls",
      "model_module_version": "1.5.0",
      "model_name": "HTMLModel",
      "state": {
       "layout": "IPY_MODEL_880119be3a5740ef85686cdfe922eba2",
       "style": "IPY_MODEL_fe17eb1efea14c7889b8499367e8819d",
       "value": "<b>userIss:</b>"
      }
     },
     "178ca58d98f04837a20efa0d7c613be7": {
      "model_module": "@jupyter-widgets/controls",
      "model_module_version": "1.5.0",
      "model_name": "DescriptionStyleModel",
      "state": {
       "description_width": ""
      }
     },
     "17d136fd141348fd83f2f7beb72c127c": {
      "model_module": "@jupyter-widgets/controls",
      "model_module_version": "1.5.0",
      "model_name": "LabelModel",
      "state": {
       "layout": "IPY_MODEL_94ec2bf7139e4d3380752482918ef518",
       "style": "IPY_MODEL_395726b90e0940299aba0b237504f114",
       "value": "0.5"
      }
     },
     "18548426450045b5a1be889ae069f4fb": {
      "model_module": "@jupyter-widgets/controls",
      "model_module_version": "1.5.0",
      "model_name": "DescriptionStyleModel",
      "state": {
       "description_width": ""
      }
     },
     "18bc32feec7b46c69b3567fb1592ca3f": {
      "model_module": "@jupyter-widgets/controls",
      "model_module_version": "1.5.0",
      "model_name": "ProgressStyleModel",
      "state": {
       "description_width": ""
      }
     },
     "191727a88be04b5e959c5e22b529fcb4": {
      "model_module": "@jupyter-widgets/controls",
      "model_module_version": "1.5.0",
      "model_name": "DescriptionStyleModel",
      "state": {
       "description_width": ""
      }
     },
     "1931b7d4f8b442469fc5ee1540698397": {
      "model_module": "@jupyter-widgets/base",
      "model_module_version": "1.2.0",
      "model_name": "LayoutModel",
      "state": {}
     },
     "19538ccf8f7a4e2d92c40641c00c3be9": {
      "model_module": "@jupyter-widgets/controls",
      "model_module_version": "1.5.0",
      "model_name": "DescriptionStyleModel",
      "state": {
       "description_width": ""
      }
     },
     "19d1834e2fb54728b0af5182f68c289a": {
      "model_module": "@jupyter-widgets/base",
      "model_module_version": "1.2.0",
      "model_name": "LayoutModel",
      "state": {}
     },
     "1a2c12d150fe4aba99e774e52aed890b": {
      "model_module": "@jupyter-widgets/controls",
      "model_module_version": "1.5.0",
      "model_name": "HBoxModel",
      "state": {
       "children": [
        "IPY_MODEL_9a7717b73f4f4b4d88fe1f8ac621c23a",
        "IPY_MODEL_baecd485daa04cb38027fa8ac92f40b9"
       ],
       "layout": "IPY_MODEL_f56a72debc3d4504a8a7144336707f51"
      }
     },
     "1a39b56762fd444096de2ec3288af794": {
      "model_module": "@jupyter-widgets/controls",
      "model_module_version": "1.5.0",
      "model_name": "HBoxModel",
      "state": {
       "children": [
        "IPY_MODEL_95240fee60324e6f9dc6f9ea6c29ccda",
        "IPY_MODEL_63e059425202481c8ec70c656058a558"
       ],
       "layout": "IPY_MODEL_4cefd5fef8ea4e44946290841017264d"
      }
     },
     "1a5df548735e4b3ab93fd212f37ff287": {
      "model_module": "@jupyter-widgets/controls",
      "model_module_version": "1.5.0",
      "model_name": "HTMLModel",
      "state": {
       "layout": "IPY_MODEL_e83f64b7baeb486c91673cef33ce3868",
       "style": "IPY_MODEL_4b0c197693d141ab97b42fc8f9729732",
       "value": "<b>userAltSecId:</b>"
      }
     },
     "1a8287e652964d5197de0c1d3d0a5726": {
      "model_module": "@jupyter-widgets/base",
      "model_module_version": "1.2.0",
      "model_name": "LayoutModel",
      "state": {}
     },
     "1aaa1cbb5f2949a68d2925d697cc01b9": {
      "model_module": "@jupyter-widgets/base",
      "model_module_version": "1.2.0",
      "model_name": "LayoutModel",
      "state": {}
     },
     "1aadb7c850934c67ae369675ae202294": {
      "model_module": "@jupyter-widgets/base",
      "model_module_version": "1.2.0",
      "model_name": "LayoutModel",
      "state": {}
     },
     "1ad209c7bce94bc1afd51e94ca279f0e": {
      "model_module": "@jupyter-widgets/base",
      "model_module_version": "1.2.0",
      "model_name": "LayoutModel",
      "state": {}
     },
     "1af717a3b3c7450bb11088a11fd246d0": {
      "model_module": "@jupyter-widgets/controls",
      "model_module_version": "1.5.0",
      "model_name": "TextModel",
      "state": {
       "description": "workspace_region",
       "layout": "IPY_MODEL_f03fd683dd284579afef20e013d1811a",
       "placeholder": "Azure ML Workspace Region",
       "style": "IPY_MODEL_d4485d4ee3a044aea784a63b220e9505",
       "value": "eastus"
      }
     },
     "1af7c15204e84075a9ac26c98bf0bebe": {
      "model_module": "@jupyter-widgets/controls",
      "model_module_version": "1.5.0",
      "model_name": "LabelModel",
      "state": {
       "layout": "IPY_MODEL_7f3ded5199514703b03b029a4b2b5a49",
       "style": "IPY_MODEL_178ca58d98f04837a20efa0d7c613be7",
       "value": "10"
      }
     },
     "1b1068e16e4f44bbbe99122146c5b652": {
      "model_module": "@jupyter-widgets/controls",
      "model_module_version": "1.5.0",
      "model_name": "LabelModel",
      "state": {
       "layout": "IPY_MODEL_bffa22b7f0cc436a859163c0e8864187",
       "style": "IPY_MODEL_864ef2694e634a1b937f89a36ed48144",
       "value": "{'mavenLibraries': [], 'pypiLibraries': [], 'rcranLibraries': [], 'jarLibraries': [], 'eggLibraries': []}"
      }
     },
     "1c2e228ca04d45d8bdbe59003edbb9ae": {
      "model_module": "@jupyter-widgets/controls",
      "model_module_version": "1.5.0",
      "model_name": "AccordionModel",
      "state": {
       "_titles": {
        "0": "error"
       },
       "children": [
        "IPY_MODEL_5dd6e7c4ce7944068736f0505ef3f86d"
       ],
       "layout": "IPY_MODEL_138d59b397ac4b1ca7937ad55081c050"
      }
     },
     "1c589710ea374a4293098663fd21f625": {
      "model_module": "@jupyter-widgets/controls",
      "model_module_version": "1.5.0",
      "model_name": "VBoxModel",
      "state": {
       "children": [
        "IPY_MODEL_488fa31781254a11b09a8bd944a16e8a",
        "IPY_MODEL_5a4c3c193d014b729b2111623cf19af4",
        "IPY_MODEL_e767dd84b27349999134340e023e820b"
       ],
       "layout": "IPY_MODEL_3db94aaab3a14492b68f73831d82eb75"
      }
     },
     "1ca59d00f1e240cb8516aaa7ce82426d": {
      "model_module": "@jupyter-widgets/base",
      "model_module_version": "1.2.0",
      "model_name": "LayoutModel",
      "state": {}
     },
     "1cabf33f15e8435ab4d2a8a0e4ab4c56": {
      "model_module": "@jupyter-widgets/controls",
      "model_module_version": "1.5.0",
      "model_name": "DescriptionStyleModel",
      "state": {
       "description_width": ""
      }
     },
     "1cb8b41a4c964f768a187e9a823a422a": {
      "model_module": "@jupyter-widgets/controls",
      "model_module_version": "1.5.0",
      "model_name": "DescriptionStyleModel",
      "state": {
       "description_width": ""
      }
     },
     "1d63c975e0244c1494030cbb5c62e785": {
      "model_module": "@jupyter-widgets/controls",
      "model_module_version": "1.5.0",
      "model_name": "HTMLModel",
      "state": {
       "layout": "IPY_MODEL_b7b29b33e2f348dabcbc641c0154d115",
       "style": "IPY_MODEL_861bfbd6a0454dae85b65cd2bcc5f0b4",
       "value": "<b>inferencingStackVersion:</b>"
      }
     },
     "1e5f31c4151c41878653b6b2ee4215c1": {
      "model_module": "@jupyter-widgets/base",
      "model_module_version": "1.2.0",
      "model_name": "LayoutModel",
      "state": {}
     },
     "1ec1a5d082b44a9c9f79cbcbc822e779": {
      "model_module": "@jupyter-widgets/controls",
      "model_module_version": "1.5.0",
      "model_name": "DescriptionStyleModel",
      "state": {
       "description_width": ""
      }
     },
     "1f6082825a4946d98d8880cbc662cb90": {
      "model_module": "@jupyter-widgets/base",
      "model_module_version": "1.2.0",
      "model_name": "LayoutModel",
      "state": {}
     },
     "1f953cbb890840c4b63e6cb17570e0ec": {
      "model_module": "@jupyter-widgets/base",
      "model_module_version": "1.2.0",
      "model_name": "LayoutModel",
      "state": {}
     },
     "1fbbdd3e7e0047a7b60a93281a4a5223": {
      "model_module": "@jupyter-widgets/controls",
      "model_module_version": "1.5.0",
      "model_name": "DescriptionStyleModel",
      "state": {
       "description_width": ""
      }
     },
     "20984a2ffaca47f1a2cb419740cd0f97": {
      "model_module": "@jupyter-widgets/controls",
      "model_module_version": "1.5.0",
      "model_name": "DescriptionStyleModel",
      "state": {
       "description_width": ""
      }
     },
     "209ff909690342fdb9db0f53cb8d732c": {
      "model_module": "@jupyter-widgets/base",
      "model_module_version": "1.2.0",
      "model_name": "LayoutModel",
      "state": {}
     },
     "20e056c2d3f74094864968ae42c6e8c1": {
      "model_module": "@jupyter-widgets/base",
      "model_module_version": "1.2.0",
      "model_name": "LayoutModel",
      "state": {}
     },
     "217b221d92624ec1a06a0588488a0263": {
      "model_module": "@jupyter-widgets/controls",
      "model_module_version": "1.5.0",
      "model_name": "HBoxModel",
      "state": {
       "children": [
        "IPY_MODEL_71b40283d6e84d02ab4fa1900c3acc17",
        "IPY_MODEL_1b1068e16e4f44bbbe99122146c5b652"
       ],
       "layout": "IPY_MODEL_b72d9bda6005434ba5591f9c1ec65ae0"
      }
     },
     "218d51519ebb4d57b8471e713ecdbd09": {
      "model_module": "@jupyter-widgets/controls",
      "model_module_version": "1.5.0",
      "model_name": "LabelModel",
      "state": {
       "layout": "IPY_MODEL_8bff5ecab7b34bfbbee7cbf517c86074",
       "style": "IPY_MODEL_1cabf33f15e8435ab4d2a8a0e4ab4c56",
       "value": "dciborow/no-cli"
      }
     },
     "21b6277847974185abd110fa99754d01": {
      "model_module": "@jupyter-widgets/controls",
      "model_module_version": "1.5.0",
      "model_name": "DescriptionStyleModel",
      "state": {
       "description_width": ""
      }
     },
     "21e6dfaa63274cb5b5cc841f29e270dc": {
      "model_module": "@jupyter-widgets/base",
      "model_module_version": "1.2.0",
      "model_name": "LayoutModel",
      "state": {}
     },
     "228aceccf239478a8b8046b2b882d9d0": {
      "model_module": "@jupyter-widgets/base",
      "model_module_version": "1.2.0",
      "model_name": "LayoutModel",
      "state": {}
     },
     "22a8c32ad8a84ad4a42411ee2ab798e4": {
      "model_module": "@jupyter-widgets/controls",
      "model_module_version": "1.5.0",
      "model_name": "DescriptionStyleModel",
      "state": {
       "description_width": ""
      }
     },
     "22fec02d0cd54b77be40bfff97b97646": {
      "model_module": "@jupyter-widgets/controls",
      "model_module_version": "1.5.0",
      "model_name": "HTMLModel",
      "state": {
       "layout": "IPY_MODEL_b79629786f53451aa3b1ded12c11b5f3",
       "style": "IPY_MODEL_095ed9897d364539bc3d7518edb6cb9d",
       "value": "<b>scoringUri:</b>"
      }
     },
     "23819790dc424831811a767fa14fcb3e": {
      "model_module": "@jupyter-widgets/controls",
      "model_module_version": "1.5.0",
      "model_name": "IntProgressModel",
      "state": {
       "layout": "IPY_MODEL_941bcb14f0f24a6aa8d5cd8102434cc1",
       "style": "IPY_MODEL_e42c62f932cb4bd4823257713c5c09bd"
      }
     },
     "238872e4a7bc4a9c91f02b450b0248d2": {
      "model_module": "@jupyter-widgets/controls",
      "model_module_version": "1.5.0",
      "model_name": "DescriptionStyleModel",
      "state": {
       "description_width": ""
      }
     },
     "2400eddfe3ae44e8bbced21954f57730": {
      "model_module": "@jupyter-widgets/controls",
      "model_module_version": "1.5.0",
      "model_name": "HTMLModel",
      "state": {
       "layout": "IPY_MODEL_6ccfa28457b7474f8003aa4a13cc7688",
       "style": "IPY_MODEL_30c6e7ee236344969c1a33291e458efc",
       "value": "<b>modelDetails:</b>"
      }
     },
     "242f51cd130047ff890709d079ae4828": {
      "model_module": "@jupyter-widgets/controls",
      "model_module_version": "1.5.0",
      "model_name": "HTMLModel",
      "state": {
       "layout": "IPY_MODEL_c74eea8d048f4bf3ad0bb9a90a91596f",
       "style": "IPY_MODEL_f9203dcd78e7485d87d9c1657c7ecc91",
       "value": "<b>id:</b>"
      }
     },
     "245d6e29a8c340b99ebbda5ea723289d": {
      "model_module": "@jupyter-widgets/base",
      "model_module_version": "1.2.0",
      "model_name": "LayoutModel",
      "state": {}
     },
     "246fdbf7163245a3ad0d6dbf5c19cfbb": {
      "model_module": "@jupyter-widgets/base",
      "model_module_version": "1.2.0",
      "model_name": "LayoutModel",
      "state": {}
     },
     "25042e98922d47ceaac727e0dbc1a2ec": {
      "model_module": "@jupyter-widgets/base",
      "model_module_version": "1.2.0",
      "model_name": "LayoutModel",
      "state": {}
     },
     "25bb87c82ab742c18fade54e7e5b9087": {
      "model_module": "@jupyter-widgets/controls",
      "model_module_version": "1.5.0",
      "model_name": "HBoxModel",
      "state": {
       "children": [
        "IPY_MODEL_4a384d05fa024c8aa5cb110b35ad8091",
        "IPY_MODEL_c6f54bd21e4349d39bb1e5767b072185"
       ],
       "layout": "IPY_MODEL_f90915db6b044a6aa36c9b09dd747d8e"
      }
     },
     "25cd4aee93104be6a07114d68656c5bb": {
      "model_module": "@jupyter-widgets/base",
      "model_module_version": "1.2.0",
      "model_name": "LayoutModel",
      "state": {}
     },
     "262767be1c7d42a29fc824d4b6e2b9a1": {
      "model_module": "@jupyter-widgets/controls",
      "model_module_version": "1.5.0",
      "model_name": "DescriptionStyleModel",
      "state": {
       "description_width": ""
      }
     },
     "269caf5c164d4afc8b5513ccf74e2c1a": {
      "model_module": "@jupyter-widgets/controls",
      "model_module_version": "1.5.0",
      "model_name": "AccordionModel",
      "state": {
       "_titles": {
        "0": "dataCollection"
       },
       "children": [
        "IPY_MODEL_eec560132a3148b9960476ae9b2a4255"
       ],
       "layout": "IPY_MODEL_9de66ffc29c44540987872c90ea5a27e"
      }
     },
     "26d0180444d44811bfb17165baf20295": {
      "model_module": "@jupyter-widgets/base",
      "model_module_version": "1.2.0",
      "model_name": "LayoutModel",
      "state": {}
     },
     "26f1855aed0240e78dea57677964da97": {
      "model_module": "@jupyter-widgets/controls",
      "model_module_version": "1.5.0",
      "model_name": "DescriptionStyleModel",
      "state": {
       "description_width": ""
      }
     },
     "28261d68256d42d5bc0b5631534b709a": {
      "model_module": "@jupyter-widgets/base",
      "model_module_version": "1.2.0",
      "model_name": "LayoutModel",
      "state": {}
     },
     "28272683d55d433082d06462a4a7d81c": {
      "model_module": "@jupyter-widgets/controls",
      "model_module_version": "1.5.0",
      "model_name": "DescriptionStyleModel",
      "state": {
       "description_width": ""
      }
     },
     "28762f6830b44f61bb8acfae372cde97": {
      "model_module": "@jupyter-widgets/base",
      "model_module_version": "1.2.0",
      "model_name": "LayoutModel",
      "state": {}
     },
     "28e1804fb52243c7ad414da95682dec6": {
      "model_module": "@jupyter-widgets/base",
      "model_module_version": "1.2.0",
      "model_name": "LayoutModel",
      "state": {}
     },
     "290e0fb66ade4212ba59e410de000d63": {
      "model_module": "@jupyter-widgets/controls",
      "model_module_version": "1.5.0",
      "model_name": "HTMLModel",
      "state": {
       "layout": "IPY_MODEL_c9d8c9d408d34516851712345c7f17d7",
       "style": "IPY_MODEL_22a8c32ad8a84ad4a42411ee2ab798e4",
       "value": "<b>details:</b>"
      }
     },
     "295cfbf720444bedb5bbbf6943a24175": {
      "model_module": "@jupyter-widgets/base",
      "model_module_version": "1.2.0",
      "model_name": "LayoutModel",
      "state": {}
     },
     "29a73d139ab6435196fefd697dad828a": {
      "model_module": "@jupyter-widgets/base",
      "model_module_version": "1.2.0",
      "model_name": "LayoutModel",
      "state": {}
     },
     "29b6be8cf02548028535d193e8ea5227": {
      "model_module": "@jupyter-widgets/controls",
      "model_module_version": "1.5.0",
      "model_name": "LabelModel",
      "state": {
       "layout": "IPY_MODEL_05109cddaf644663920b216946032fd3",
       "style": "IPY_MODEL_f108d1829d4640d28c44e0bea0879935",
       "value": "resnet_model_2"
      }
     },
     "2af8d2557bae41b3b0762625e53754ef": {
      "model_module": "@jupyter-widgets/controls",
      "model_module_version": "1.5.0",
      "model_name": "DescriptionStyleModel",
      "state": {
       "description_width": ""
      }
     },
     "2b742d3a911e415caece3942348af64e": {
      "model_module": "@jupyter-widgets/controls",
      "model_module_version": "1.5.0",
      "model_name": "DescriptionStyleModel",
      "state": {
       "description_width": ""
      }
     },
     "2b91ccd53cc9433abe00e081aefcc5d7": {
      "model_module": "@jupyter-widgets/controls",
      "model_module_version": "1.5.0",
      "model_name": "LabelModel",
      "state": {
       "layout": "IPY_MODEL_b58aa3bf09864fc8bec77a1496db89de",
       "style": "IPY_MODEL_7b826d9f41464c35ae5531d5bb57f2bc",
       "value": "False"
      }
     },
     "2ba3afa4f5a842a69af27c68a6f8f91b": {
      "model_module": "@jupyter-widgets/base",
      "model_module_version": "1.2.0",
      "model_name": "LayoutModel",
      "state": {}
     },
     "2bbfab9e686b4a0b875942a4a0c42c35": {
      "model_module": "@jupyter-widgets/base",
      "model_module_version": "1.2.0",
      "model_name": "LayoutModel",
      "state": {}
     },
     "2bc0671c979940f6ab067166c259e5af": {
      "model_module": "@jupyter-widgets/controls",
      "model_module_version": "1.5.0",
      "model_name": "HTMLModel",
      "state": {
       "layout": "IPY_MODEL_8f32adfcad06480ea220abadf51392d2",
       "style": "IPY_MODEL_023825871adc4eed87adef2db5262424",
       "value": "<b>mimeType:</b>"
      }
     },
     "2bcbc4adef524e11b606fdb050637b51": {
      "model_module": "@jupyter-widgets/controls",
      "model_module_version": "1.5.0",
      "model_name": "HTMLModel",
      "state": {
       "layout": "IPY_MODEL_d9d5d2c25b784bac91c819b36bf4b3f7",
       "style": "IPY_MODEL_3bdd4c25aac2428a94da86ac515bce52",
       "value": "<img src=\"https://raw.githubusercontent.com/microsoft/AI-Utilities/master/docs/app_insights_perf_dash.png\">"
      }
     },
     "2ca2413baa724dc8ba7385e527b0e616": {
      "model_module": "@jupyter-widgets/base",
      "model_module_version": "1.2.0",
      "model_name": "LayoutModel",
      "state": {}
     },
     "2cb04790ea2844d7abf40f36b2e57667": {
      "model_module": "@jupyter-widgets/base",
      "model_module_version": "1.2.0",
      "model_name": "LayoutModel",
      "state": {}
     },
     "2cb7d2ef87ca446d969e5d547ddc4482": {
      "model_module": "@jupyter-widgets/controls",
      "model_module_version": "1.5.0",
      "model_name": "LabelModel",
      "state": {
       "layout": "IPY_MODEL_6b4209ebc02a40a28e1815534c23c4ec",
       "style": "IPY_MODEL_9d4c8d9859cf41d48227e389b18f5aa2",
       "value": "1"
      }
     },
     "2cd9ecda8f1d4e31bfa7d15258c4c217": {
      "model_module": "@jupyter-widgets/controls",
      "model_module_version": "1.5.0",
      "model_name": "IntProgressModel",
      "state": {
       "bar_style": "success",
       "layout": "IPY_MODEL_364e5e40b0bb48998b78f4650a755e7b",
       "style": "IPY_MODEL_56b4bf16d98c481f9cb2eed425335748",
       "value": 100
      }
     },
     "2d4f3d8305a44d618f369658efc3567f": {
      "model_module": "@jupyter-widgets/base",
      "model_module_version": "1.2.0",
      "model_name": "LayoutModel",
      "state": {
       "width": "50%"
      }
     },
     "2d5c9d063803445098f271c5bf323f41": {
      "model_module": "@jupyter-widgets/output",
      "model_module_version": "1.0.0",
      "model_name": "OutputModel",
      "state": {
       "layout": "IPY_MODEL_ef39d738a1b84eb99c0b758a7d13c00a"
      }
     },
     "2d8f767dcd7748678db398fccc3a54de": {
      "model_module": "@jupyter-widgets/controls",
      "model_module_version": "1.5.0",
      "model_name": "HTMLModel",
      "state": {
       "layout": "IPY_MODEL_fea6632d03ec4932acefc576e0a553e8",
       "style": "IPY_MODEL_4cc6142effcf46368ec5233b5240b669",
       "value": "<b>azureml.git.commit:</b>"
      }
     },
     "2da79c4e18bc4bbb9ad632ced08bc72c": {
      "model_module": "@jupyter-widgets/base",
      "model_module_version": "1.2.0",
      "model_name": "LayoutModel",
      "state": {
       "width": "50%"
      }
     },
     "2da90cec94b3421f840fc74cab439e9c": {
      "model_module": "@jupyter-widgets/controls",
      "model_module_version": "1.5.0",
      "model_name": "LabelModel",
      "state": {
       "layout": "IPY_MODEL_4beb882d4d9c40e0b8149702b9f2f2f6",
       "style": "IPY_MODEL_238872e4a7bc4a9c91f02b450b0248d2",
       "value": "deepaksservice"
      }
     },
     "2df11512b6a546e09064014626ba80b9": {
      "model_module": "@jupyter-widgets/controls",
      "model_module_version": "1.5.0",
      "model_name": "LabelModel",
      "state": {
       "layout": "IPY_MODEL_4acad7238ad64720a0ce503276c65c8d",
       "style": "IPY_MODEL_f9f3d3af45d4401bace7860d1ac0cfa4",
       "value": "AKS"
      }
     },
     "2ebfb93eedfe4b72a360777f46d1e390": {
      "model_module": "@jupyter-widgets/controls",
      "model_module_version": "1.5.0",
      "model_name": "HBoxModel",
      "state": {
       "children": [
        "IPY_MODEL_dc286e61a8a545249699e39013fe6b4c",
        "IPY_MODEL_fb623b93e4b3434b9b1d64b04c8842e9"
       ],
       "layout": "IPY_MODEL_2ba3afa4f5a842a69af27c68a6f8f91b"
      }
     },
     "2f40811a8033443d9f17f3004228e04a": {
      "model_module": "@jupyter-widgets/base",
      "model_module_version": "1.2.0",
      "model_name": "LayoutModel",
      "state": {}
     },
     "2fddaa0f9b98411c8de57deea21049a5": {
      "model_module": "@jupyter-widgets/controls",
      "model_module_version": "1.5.0",
      "model_name": "HTMLModel",
      "state": {
       "layout": "IPY_MODEL_0b1b7e9f561f4cd28cc93fceaa0a9eaf",
       "style": "IPY_MODEL_87e44a7bca344c4bb0b270ca2250031a",
       "value": "<b>frameworkVersion:</b>"
      }
     },
     "3016257eee274e048b7fd79969df9ce3": {
      "model_module": "@jupyter-widgets/base",
      "model_module_version": "1.2.0",
      "model_name": "LayoutModel",
      "state": {}
     },
     "30243dc3ef364d159b690c119d55bb97": {
      "model_module": "@jupyter-widgets/controls",
      "model_module_version": "1.5.0",
      "model_name": "DescriptionStyleModel",
      "state": {
       "description_width": ""
      }
     },
     "3094f0c0ec64476da011a777d0969ce4": {
      "model_module": "@jupyter-widgets/controls",
      "model_module_version": "1.5.0",
      "model_name": "HTMLModel",
      "state": {
       "layout": "IPY_MODEL_e42541665be34988bbcc9d2c599db9dd",
       "style": "IPY_MODEL_4755e81249c947f4bea251b9ecab8f56",
       "value": "<b>imageDetails:</b>"
      }
     },
     "30bbb201633042af934d168e7048a576": {
      "model_module": "@jupyter-widgets/controls",
      "model_module_version": "1.5.0",
      "model_name": "LabelModel",
      "state": {
       "layout": "IPY_MODEL_d919e20cefad4a62a977d8f78bc1bcd8",
       "style": "IPY_MODEL_26f1855aed0240e78dea57677964da97",
       "value": "72f988bf-86f1-41af-91ab-2d7cd011db47"
      }
     },
     "30c6e7ee236344969c1a33291e458efc": {
      "model_module": "@jupyter-widgets/controls",
      "model_module_version": "1.5.0",
      "model_name": "DescriptionStyleModel",
      "state": {
       "description_width": ""
      }
     },
     "311d959cea994a0084fb9759251d2245": {
      "model_module": "@jupyter-widgets/controls",
      "model_module_version": "1.5.0",
      "model_name": "ButtonModel",
      "state": {
       "description": "Test train.py",
       "layout": "IPY_MODEL_065724c9d9f6414496c9edd2ddf38b1a",
       "style": "IPY_MODEL_f7dba0efbbec4e0fa2ad415ccce91289"
      }
     },
     "312700ceb4eb44a9901511ab633dfb3d": {
      "model_module": "@jupyter-widgets/base",
      "model_module_version": "1.2.0",
      "model_name": "LayoutModel",
      "state": {}
     },
     "313c3a6020154c6394a64e4cde57fa88": {
      "model_module": "@jupyter-widgets/controls",
      "model_module_version": "1.5.0",
      "model_name": "DescriptionStyleModel",
      "state": {
       "description_width": ""
      }
     },
     "3239a4b5b54d4b0ba1cba302c586319c": {
      "model_module": "@jupyter-widgets/base",
      "model_module_version": "1.2.0",
      "model_name": "LayoutModel",
      "state": {}
     },
     "323b8db480b1469c99709ea099964ac9": {
      "model_module": "@jupyter-widgets/base",
      "model_module_version": "1.2.0",
      "model_name": "LayoutModel",
      "state": {}
     },
     "33da8449cc5b4c5189fb50a5d504a7a6": {
      "model_module": "@jupyter-widgets/base",
      "model_module_version": "1.2.0",
      "model_name": "LayoutModel",
      "state": {}
     },
     "348fe5f0e6ca48b38fd9e5e8be2d78cd": {
      "model_module": "@jupyter-widgets/base",
      "model_module_version": "1.2.0",
      "model_name": "LayoutModel",
      "state": {}
     },
     "34ae9ec307444588826b3a779cdd367c": {
      "model_module": "@jupyter-widgets/base",
      "model_module_version": "1.2.0",
      "model_name": "LayoutModel",
      "state": {}
     },
     "3545323ed97e4d48946a4f609d90f230": {
      "model_module": "@jupyter-widgets/controls",
      "model_module_version": "1.5.0",
      "model_name": "DescriptionStyleModel",
      "state": {
       "description_width": ""
      }
     },
     "3559002fb1b94f93bf82c39339924e4a": {
      "model_module": "@jupyter-widgets/controls",
      "model_module_version": "1.5.0",
      "model_name": "DescriptionStyleModel",
      "state": {
       "description_width": ""
      }
     },
     "35922b1e7b9c451c9b70b0b020d2b36f": {
      "model_module": "@jupyter-widgets/controls",
      "model_module_version": "1.5.0",
      "model_name": "DescriptionStyleModel",
      "state": {
       "description_width": "initial"
      }
     },
     "35d5b0cec4fa4a45a39e424edac180b2": {
      "model_module": "@jupyter-widgets/controls",
      "model_module_version": "1.5.0",
      "model_name": "HBoxModel",
      "state": {
       "children": [
        "IPY_MODEL_f8fe39d874a348e0bc3eda3f6f422403",
        "IPY_MODEL_4d94abf227514a87b7003d6ec31d5f7c"
       ],
       "layout": "IPY_MODEL_4a9d54d671e446de8b1439491b6914e3"
      }
     },
     "35dac3a66f7b40edb34873d702923119": {
      "model_module": "@jupyter-widgets/base",
      "model_module_version": "1.2.0",
      "model_name": "LayoutModel",
      "state": {}
     },
     "362ab95f30ef488788545a304067738c": {
      "model_module": "@jupyter-widgets/base",
      "model_module_version": "1.2.0",
      "model_name": "LayoutModel",
      "state": {}
     },
     "364e5e40b0bb48998b78f4650a755e7b": {
      "model_module": "@jupyter-widgets/base",
      "model_module_version": "1.2.0",
      "model_name": "LayoutModel",
      "state": {
       "width": "80%"
      }
     },
     "36d5c46132124fdd8cddcf5b26079c54": {
      "model_module": "@jupyter-widgets/controls",
      "model_module_version": "1.5.0",
      "model_name": "HTMLModel",
      "state": {
       "layout": "IPY_MODEL_52fa10a869334e6a805c39b28334921f",
       "style": "IPY_MODEL_cb4ef060866b46ae865558a324733092",
       "value": "<b>code:</b>"
      }
     },
     "370b1d93dd764ae18065de19ff1b83d2": {
      "model_module": "@jupyter-widgets/base",
      "model_module_version": "1.2.0",
      "model_name": "LayoutModel",
      "state": {
       "width": "50%"
      }
     },
     "37fef37772cf427096b86c7158ef8815": {
      "model_module": "@jupyter-widgets/controls",
      "model_module_version": "1.5.0",
      "model_name": "HTMLModel",
      "state": {
       "layout": "IPY_MODEL_67de82658a56451786a384886bb388cc",
       "style": "IPY_MODEL_4a4c59d3bdcc4281824af155ac7a5274",
       "value": "<b>authEnabled:</b>"
      }
     },
     "3808237945fd46a1aeb6a1a844069c02": {
      "model_module": "@jupyter-widgets/controls",
      "model_module_version": "1.5.0",
      "model_name": "HBoxModel",
      "state": {
       "children": [
        "IPY_MODEL_5d9d12ee864445cebe68b981f8032c0b",
        "IPY_MODEL_d2184cda87a44fa48fc776dfb9649d96"
       ],
       "layout": "IPY_MODEL_21e6dfaa63274cb5b5cc841f29e270dc"
      }
     },
     "3816e3665796469b8954f0b82f98c8c5": {
      "model_module": "@jupyter-widgets/controls",
      "model_module_version": "1.5.0",
      "model_name": "DescriptionStyleModel",
      "state": {
       "description_width": ""
      }
     },
     "39343432cc1d4c7a80acc1b4194dc623": {
      "model_module": "@jupyter-widgets/controls",
      "model_module_version": "1.5.0",
      "model_name": "DescriptionStyleModel",
      "state": {
       "description_width": "initial"
      }
     },
     "395726b90e0940299aba0b237504f114": {
      "model_module": "@jupyter-widgets/controls",
      "model_module_version": "1.5.0",
      "model_name": "DescriptionStyleModel",
      "state": {
       "description_width": ""
      }
     },
     "3a1736b0dff14df38da356e325559ae3": {
      "model_module": "@jupyter-widgets/base",
      "model_module_version": "1.2.0",
      "model_name": "LayoutModel",
      "state": {}
     },
     "3a1b0ed004b9425a8c3ef09d54bfaea8": {
      "model_module": "@jupyter-widgets/controls",
      "model_module_version": "1.5.0",
      "model_name": "TextModel",
      "state": {
       "description": "deep_aks_service_name",
       "layout": "IPY_MODEL_2d4f3d8305a44d618f369658efc3567f",
       "placeholder": "AKS Service Name",
       "style": "IPY_MODEL_f9d518d9c55a40fbab1a5d07f2f08860",
       "value": "deepaksservice"
      }
     },
     "3a30b3e54b2e4b58803bbf9112b2d4c0": {
      "model_module": "@jupyter-widgets/controls",
      "model_module_version": "1.5.0",
      "model_name": "HBoxModel",
      "state": {
       "children": [
        "IPY_MODEL_37fef37772cf427096b86c7158ef8815",
        "IPY_MODEL_a8d00f5ac98e452980ae490684643d18"
       ],
       "layout": "IPY_MODEL_91c1a1099fe74145bb0bf059cd4e0a82"
      }
     },
     "3a739bb2a46942ceb684ea2c7cb363de": {
      "model_module": "@jupyter-widgets/controls",
      "model_module_version": "1.5.0",
      "model_name": "DescriptionStyleModel",
      "state": {
       "description_width": ""
      }
     },
     "3abe8f93870f461e80beda63cd34126b": {
      "model_module": "@jupyter-widgets/controls",
      "model_module_version": "1.5.0",
      "model_name": "TextModel",
      "state": {
       "description": "workspace_name",
       "layout": "IPY_MODEL_a1701c0f8a2b4636b957bb9f7c7f6580",
       "placeholder": "Azure ML Workspace Name",
       "style": "IPY_MODEL_54e8224a66654f0eae4137ff218edfe8",
       "value": "azmlrts-eastus"
      }
     },
     "3b7f75c2c4734a4a8f6bf1acc00bd4c4": {
      "model_module": "@jupyter-widgets/controls",
      "model_module_version": "1.5.0",
      "model_name": "HBoxModel",
      "state": {
       "children": [
        "IPY_MODEL_22fec02d0cd54b77be40bfff97b97646",
        "IPY_MODEL_bf598306529d4e23908243da85eede74"
       ],
       "layout": "IPY_MODEL_f945fda52cf14eebbf8aa92962d7f9e1"
      }
     },
     "3baf4e17e0a54cf4aff3199fe60e44ca": {
      "model_module": "@jupyter-widgets/base",
      "model_module_version": "1.2.0",
      "model_name": "LayoutModel",
      "state": {}
     },
     "3bd957b408344a9e848f9f32a6ced0b7": {
      "model_module": "@jupyter-widgets/controls",
      "model_module_version": "1.5.0",
      "model_name": "DescriptionStyleModel",
      "state": {
       "description_width": ""
      }
     },
     "3bdd4c25aac2428a94da86ac515bce52": {
      "model_module": "@jupyter-widgets/controls",
      "model_module_version": "1.5.0",
      "model_name": "DescriptionStyleModel",
      "state": {
       "description_width": ""
      }
     },
     "3bf2d9cd6ec84f0db95699f0ec818cdb": {
      "model_module": "@jupyter-widgets/controls",
      "model_module_version": "1.5.0",
      "model_name": "HBoxModel",
      "state": {
       "children": [
        "IPY_MODEL_c5f9103960ea430d9c840f264a68c737",
        "IPY_MODEL_15b1e2f4b0db44b29387206d4909c984"
       ],
       "layout": "IPY_MODEL_d160ee22adf547e39b4d1a4069f8383f"
      }
     },
     "3c7f31e319e24ed6b329b84ed6edbb29": {
      "model_module": "@jupyter-widgets/controls",
      "model_module_version": "1.5.0",
      "model_name": "DescriptionStyleModel",
      "state": {
       "description_width": ""
      }
     },
     "3cd8049380df4e5ab32fc2f95bcb7a84": {
      "model_module": "@jupyter-widgets/controls",
      "model_module_version": "1.5.0",
      "model_name": "HTMLModel",
      "state": {
       "layout": "IPY_MODEL_1ad209c7bce94bc1afd51e94ca279f0e",
       "style": "IPY_MODEL_3bd957b408344a9e848f9f32a6ced0b7",
       "value": "<img src=\"https://raw.githubusercontent.com/microsoft/AI-Utilities/master/docs/app_insights_1.png\">"
      }
     },
     "3cd980a080da43a5ac92ca043507f465": {
      "model_module": "@jupyter-widgets/base",
      "model_module_version": "1.2.0",
      "model_name": "LayoutModel",
      "state": {}
     },
     "3d2f867db6e44a06adce3f3eb6f37623": {
      "model_module": "@jupyter-widgets/controls",
      "model_module_version": "1.5.0",
      "model_name": "HTMLModel",
      "state": {
       "layout": "IPY_MODEL_c214640774cf41eb8f12d83da7c4543a",
       "style": "IPY_MODEL_070c61f0a00f415880815fe90a4035a1",
       "value": "<img src=\"https://raw.githubusercontent.com/microsoft/AI-Utilities/master/docs/kubernetes.png\">"
      }
     },
     "3d695c3a0bc74a8e9630d7bb34e30ec0": {
      "model_module": "@jupyter-widgets/base",
      "model_module_version": "1.2.0",
      "model_name": "LayoutModel",
      "state": {}
     },
     "3d92028bf4044f3fa3c18b091969208b": {
      "model_module": "@jupyter-widgets/controls",
      "model_module_version": "1.5.0",
      "model_name": "LabelModel",
      "state": {
       "layout": "IPY_MODEL_570ab56cec96425da46f50c3cbcef19f",
       "style": "IPY_MODEL_58c6a08e10e84efdbb7e0e7539f37c7b",
       "value": "fcf7950ee5d473a6ac61b217ef01527895499548"
      }
     },
     "3db94aaab3a14492b68f73831d82eb75": {
      "model_module": "@jupyter-widgets/base",
      "model_module_version": "1.2.0",
      "model_name": "LayoutModel",
      "state": {}
     },
     "3dcc751ddc32462194f2222be5c60a50": {
      "model_module": "@jupyter-widgets/controls",
      "model_module_version": "1.5.0",
      "model_name": "LabelModel",
      "state": {
       "layout": "IPY_MODEL_e3611963def4448a9acb2699737da0f7",
       "style": "IPY_MODEL_3e2a157813d14785b35b69f2413e1011",
       "value": "None"
      }
     },
     "3e23e7483bb94f1daee21910c3e06ec5": {
      "model_module": "@jupyter-widgets/base",
      "model_module_version": "1.2.0",
      "model_name": "LayoutModel",
      "state": {}
     },
     "3e2a157813d14785b35b69f2413e1011": {
      "model_module": "@jupyter-widgets/controls",
      "model_module_version": "1.5.0",
      "model_name": "DescriptionStyleModel",
      "state": {
       "description_width": ""
      }
     },
     "3f07a578a4e94874af68751216bab4df": {
      "model_module": "@jupyter-widgets/controls",
      "model_module_version": "1.5.0",
      "model_name": "DescriptionStyleModel",
      "state": {
       "description_width": ""
      }
     },
     "3f57ab8b3b894a22b29cc095b9a90122": {
      "model_module": "@jupyter-widgets/controls",
      "model_module_version": "1.5.0",
      "model_name": "DescriptionStyleModel",
      "state": {
       "description_width": ""
      }
     },
     "407afb2a2ca14d7a8111e75050e55eee": {
      "model_module": "@jupyter-widgets/base",
      "model_module_version": "1.2.0",
      "model_name": "LayoutModel",
      "state": {}
     },
     "407bc8f5976149f188c9d52ce7f36833": {
      "model_module": "@jupyter-widgets/base",
      "model_module_version": "1.2.0",
      "model_name": "LayoutModel",
      "state": {}
     },
     "4107a5a229e54d71825e4198f7c599ca": {
      "model_module": "@jupyter-widgets/controls",
      "model_module_version": "1.5.0",
      "model_name": "HBoxModel",
      "state": {
       "children": [
        "IPY_MODEL_4fe282b3d15748e49a52579ef6794c6c",
        "IPY_MODEL_61c492dd22274fe39aa42a4b900453ad"
       ],
       "layout": "IPY_MODEL_0000af9242834b91b9276ef832aeb3b8"
      }
     },
     "41cbde04a9584aaaadd23c6b5347d82b": {
      "model_module": "@jupyter-widgets/controls",
      "model_module_version": "1.5.0",
      "model_name": "DescriptionStyleModel",
      "state": {
       "description_width": ""
      }
     },
     "41dea9fe01d646c59deece18cd524841": {
      "model_module": "@jupyter-widgets/controls",
      "model_module_version": "1.5.0",
      "model_name": "DescriptionStyleModel",
      "state": {
       "description_width": ""
      }
     },
     "4249b93ddf0b42439132acf1ef589f8e": {
      "model_module": "@jupyter-widgets/controls",
      "model_module_version": "1.5.0",
      "model_name": "DescriptionStyleModel",
      "state": {
       "description_width": ""
      }
     },
     "4270d4e736c0462ab4b3959d5e0b3211": {
      "model_module": "@jupyter-widgets/base",
      "model_module_version": "1.2.0",
      "model_name": "LayoutModel",
      "state": {}
     },
     "4284720f4ab346149a6850424de3135f": {
      "model_module": "@jupyter-widgets/controls",
      "model_module_version": "1.5.0",
      "model_name": "ButtonStyleModel",
      "state": {}
     },
     "43811a0f5dbd4e4ba8904f5614d37803": {
      "model_module": "@jupyter-widgets/base",
      "model_module_version": "1.2.0",
      "model_name": "LayoutModel",
      "state": {}
     },
     "43b4ae9149734a0b82ea1bfb9e60b5ca": {
      "model_module": "@jupyter-widgets/controls",
      "model_module_version": "1.5.0",
      "model_name": "AccordionModel",
      "state": {
       "_titles": {
        "0": "Workspace",
        "1": "Model"
       },
       "children": [
        "IPY_MODEL_dfdba56159ed43ebbe18c8f8f070d676",
        "IPY_MODEL_57c28b037445404eb27230213385bc12"
       ],
       "layout": "IPY_MODEL_246fdbf7163245a3ad0d6dbf5c19cfbb"
      }
     },
     "43f8de4a1d5940128d83a9a673707321": {
      "model_module": "@jupyter-widgets/base",
      "model_module_version": "1.2.0",
      "model_name": "LayoutModel",
      "state": {}
     },
     "445bf2d61f894581bb1a0893a13dfb32": {
      "model_module": "@jupyter-widgets/controls",
      "model_module_version": "1.5.0",
      "model_name": "VBoxModel",
      "state": {
       "children": [
        "IPY_MODEL_911f9e82d8394b50945e91350ea11249",
        "IPY_MODEL_7275201d671d46f4a65b147049512a11",
        "IPY_MODEL_6a6630fbd9dc482a9fefec7611f41393",
        "IPY_MODEL_628e322447c0427aa543586a081b6949",
        "IPY_MODEL_3abe8f93870f461e80beda63cd34126b",
        "IPY_MODEL_e36e3a76f4a74a80960138b7720d1195",
        "IPY_MODEL_f8b70005832641479ff8561cdb09ef7f",
        "IPY_MODEL_b7e97d3af65d47159ae9594eb41b8e1a",
        "IPY_MODEL_d7d0a8add9064aa59f8f9e14ce040c5e",
        "IPY_MODEL_d76dcd8ea8904efb81f51175ea2df523",
        "IPY_MODEL_bb7a2841428a4eae8781f2f3972197c0",
        "IPY_MODEL_3a1b0ed004b9425a8c3ef09d54bfaea8",
        "IPY_MODEL_7f9e3c0656054011919158e37c326541",
        "IPY_MODEL_8798522176444598abeaf45e891b3e56"
       ],
       "layout": "IPY_MODEL_8f02f2bd54104f16ac5f10b5d1e3f23c"
      }
     },
     "44a685e4c8e648408b32423fa4b81302": {
      "model_module": "@jupyter-widgets/base",
      "model_module_version": "1.2.0",
      "model_name": "LayoutModel",
      "state": {}
     },
     "4529ead1a6bf458eb42a286244760454": {
      "model_module": "@jupyter-widgets/base",
      "model_module_version": "1.2.0",
      "model_name": "LayoutModel",
      "state": {}
     },
     "455ebeb76e6340028510d8834aef5fbc": {
      "model_module": "@jupyter-widgets/base",
      "model_module_version": "1.2.0",
      "model_name": "LayoutModel",
      "state": {}
     },
     "45d712f076a241f3baea327153241e62": {
      "model_module": "@jupyter-widgets/base",
      "model_module_version": "1.2.0",
      "model_name": "LayoutModel",
      "state": {}
     },
     "464cb7ec8929424987a1e1a1603d8299": {
      "model_module": "@jupyter-widgets/controls",
      "model_module_version": "1.5.0",
      "model_name": "LabelModel",
      "state": {
       "layout": "IPY_MODEL_a4891aad6d60489cb3e3b74280d0ed45",
       "style": "IPY_MODEL_77029f95ebb14f06a52ff9ca620f920e",
       "value": "{'repositories': [], 'packages': [], 'precachePackages': True}"
      }
     },
     "46583a1831d145f694488e9ba1d08672": {
      "model_module": "@jupyter-widgets/base",
      "model_module_version": "1.2.0",
      "model_name": "LayoutModel",
      "state": {}
     },
     "46d330e000a2428f83c6d67d532577d4": {
      "model_module": "@jupyter-widgets/base",
      "model_module_version": "1.2.0",
      "model_name": "LayoutModel",
      "state": {}
     },
     "46d6ffcf3422413fade965c23d9e4931": {
      "model_module": "@jupyter-widgets/controls",
      "model_module_version": "1.5.0",
      "model_name": "DescriptionStyleModel",
      "state": {
       "description_width": ""
      }
     },
     "4726913eff1b4e068534000f267300b4": {
      "model_module": "@jupyter-widgets/controls",
      "model_module_version": "1.5.0",
      "model_name": "HBoxModel",
      "state": {
       "children": [
        "IPY_MODEL_dea991f3f00c4816b90fcfb9dc74b922",
        "IPY_MODEL_52be557b880c4c94a0c27d63270b10b1"
       ],
       "layout": "IPY_MODEL_e294f205b1554a23bbe12e25fa67e4c8"
      }
     },
     "472a1e1d71eb423ab885310c3e4be7e4": {
      "model_module": "@jupyter-widgets/controls",
      "model_module_version": "1.5.0",
      "model_name": "DescriptionStyleModel",
      "state": {
       "description_width": ""
      }
     },
     "4732e3aeb86b495eb94b58e7e2ded679": {
      "model_module": "@jupyter-widgets/base",
      "model_module_version": "1.2.0",
      "model_name": "LayoutModel",
      "state": {}
     },
     "4755e81249c947f4bea251b9ecab8f56": {
      "model_module": "@jupyter-widgets/controls",
      "model_module_version": "1.5.0",
      "model_name": "DescriptionStyleModel",
      "state": {
       "description_width": ""
      }
     },
     "47576399f43040409efe03b610ed12e7": {
      "model_module": "@jupyter-widgets/controls",
      "model_module_version": "1.5.0",
      "model_name": "LabelModel",
      "state": {
       "layout": "IPY_MODEL_defce8b641034338a60937b3ce4eebf9",
       "style": "IPY_MODEL_51c4662728234b7fb9e30893b8d996f9",
       "value": "Autosave_2020-03-18T21:25:15Z_923a7b66"
      }
     },
     "47a84c885f0147ceb4ae5bc90390f8cd": {
      "model_module": "@jupyter-widgets/controls",
      "model_module_version": "1.5.0",
      "model_name": "HBoxModel",
      "state": {
       "children": [
        "IPY_MODEL_772f869900634d27bb37facdd9f61aa4",
        "IPY_MODEL_2cb7d2ef87ca446d969e5d547ddc4482"
       ],
       "layout": "IPY_MODEL_d36d2acb6def4b4bbdec6de234b5a3d6"
      }
     },
     "47b5e3aae953475396d08aa3045496e6": {
      "model_module": "@jupyter-widgets/controls",
      "model_module_version": "1.5.0",
      "model_name": "HTMLModel",
      "state": {
       "layout": "IPY_MODEL_c864ccd3244b44df9927fe4d2ca925f9",
       "style": "IPY_MODEL_dc81bb917c794c28b734c434ee1f2b20",
       "value": "<b>computeType:</b>"
      }
     },
     "488fa31781254a11b09a8bd944a16e8a": {
      "model_module": "@jupyter-widgets/controls",
      "model_module_version": "1.5.0",
      "model_name": "ButtonModel",
      "state": {
       "button_style": "info",
       "description": "Running",
       "disabled": true,
       "layout": "IPY_MODEL_823f364ba9af40d5ba34d7def03eefd5",
       "style": "IPY_MODEL_a5ad3d20668d4401955f0c8e71f3747d"
      }
     },
     "499330f202794a968a40eb0e85e96978": {
      "model_module": "@jupyter-widgets/controls",
      "model_module_version": "1.5.0",
      "model_name": "HBoxModel",
      "state": {
       "children": [
        "IPY_MODEL_e1f6143ed29344318a09798967142cf3",
        "IPY_MODEL_47576399f43040409efe03b610ed12e7"
       ],
       "layout": "IPY_MODEL_529a9389b8f04c84b448ddb19d47e522"
      }
     },
     "4a384d05fa024c8aa5cb110b35ad8091": {
      "model_module": "@jupyter-widgets/controls",
      "model_module_version": "1.5.0",
      "model_name": "HTMLModel",
      "state": {
       "layout": "IPY_MODEL_ffe6f4530e0442868945b29f64270d3d",
       "style": "IPY_MODEL_dbfbef71d97c470b9605ee6a8226a59d",
       "value": "<b>cpu:</b>"
      }
     },
     "4a4c59d3bdcc4281824af155ac7a5274": {
      "model_module": "@jupyter-widgets/controls",
      "model_module_version": "1.5.0",
      "model_name": "DescriptionStyleModel",
      "state": {
       "description_width": ""
      }
     },
     "4a569614de27491383574ac542982528": {
      "model_module": "@jupyter-widgets/controls",
      "model_module_version": "1.5.0",
      "model_name": "HTMLModel",
      "state": {
       "layout": "IPY_MODEL_ce497ed8c793466aab073cfea0f857d1",
       "style": "IPY_MODEL_0ba8b32292ab4df486743e8f37bdafa4",
       "value": "<b>versionType:</b>"
      }
     },
     "4a72381a0dae4d7f81bdcda60d350a96": {
      "model_module": "@jupyter-widgets/controls",
      "model_module_version": "1.5.0",
      "model_name": "DescriptionStyleModel",
      "state": {
       "description_width": ""
      }
     },
     "4a940eda2a9a435d9c43498d3f5826df": {
      "model_module": "@jupyter-widgets/controls",
      "model_module_version": "1.5.0",
      "model_name": "DescriptionStyleModel",
      "state": {
       "description_width": ""
      }
     },
     "4a9d54d671e446de8b1439491b6914e3": {
      "model_module": "@jupyter-widgets/base",
      "model_module_version": "1.2.0",
      "model_name": "LayoutModel",
      "state": {}
     },
     "4aa900c57ecf4285965a7f45651cd86d": {
      "model_module": "@jupyter-widgets/controls",
      "model_module_version": "1.5.0",
      "model_name": "HTMLModel",
      "state": {
       "layout": "IPY_MODEL_b0cb2adec7c946bb8b9d59bb6921df7f",
       "style": "IPY_MODEL_d19f2a53374f4da28b33b48a9a2cfc98",
       "value": "<b>gpu:</b>"
      }
     },
     "4acad7238ad64720a0ce503276c65c8d": {
      "model_module": "@jupyter-widgets/base",
      "model_module_version": "1.2.0",
      "model_name": "LayoutModel",
      "state": {}
     },
     "4b0c197693d141ab97b42fc8f9729732": {
      "model_module": "@jupyter-widgets/controls",
      "model_module_version": "1.5.0",
      "model_name": "DescriptionStyleModel",
      "state": {
       "description_width": ""
      }
     },
     "4b1a1196eaba493abed899ab410ceb08": {
      "model_module": "@jupyter-widgets/controls",
      "model_module_version": "1.5.0",
      "model_name": "DescriptionStyleModel",
      "state": {
       "description_width": ""
      }
     },
     "4b43cf6d5ce24cbcac685744751f8f23": {
      "model_module": "@jupyter-widgets/controls",
      "model_module_version": "1.5.0",
      "model_name": "DescriptionStyleModel",
      "state": {
       "description_width": ""
      }
     },
     "4b734aef838543358a5e106dc9bbb4ee": {
      "model_module": "@jupyter-widgets/controls",
      "model_module_version": "1.5.0",
      "model_name": "HBoxModel",
      "state": {
       "children": [
        "IPY_MODEL_c7f10709084e454ba09d97e312eb237f",
        "IPY_MODEL_6764a31af7ae4724be279afcc48f42da"
       ],
       "layout": "IPY_MODEL_8c41d7d73490408fba0ff61f0a643157"
      }
     },
     "4b919e3c0ac241e78e238b30c3c26e79": {
      "model_module": "@jupyter-widgets/controls",
      "model_module_version": "1.5.0",
      "model_name": "HTMLModel",
      "state": {
       "layout": "IPY_MODEL_b4ed45830f484fba8f23392ccb18a6db",
       "style": "IPY_MODEL_21b6277847974185abd110fa99754d01",
       "value": "<b>targetUtilization:</b>"
      }
     },
     "4beb882d4d9c40e0b8149702b9f2f2f6": {
      "model_module": "@jupyter-widgets/base",
      "model_module_version": "1.2.0",
      "model_name": "LayoutModel",
      "state": {}
     },
     "4c6dc2a6a625415499c33e5080ae3a7b": {
      "model_module": "@jupyter-widgets/controls",
      "model_module_version": "1.5.0",
      "model_name": "HBoxModel",
      "state": {
       "children": [
        "IPY_MODEL_1d63c975e0244c1494030cbb5c62e785",
        "IPY_MODEL_b4870579f8934ceab80736fc7b5b74cf"
       ],
       "layout": "IPY_MODEL_7631e79f681c42c5a709ee99f6a8ebef"
      }
     },
     "4c84c4af4a564016bb376a4780c5a3e7": {
      "model_module": "@jupyter-widgets/controls",
      "model_module_version": "1.5.0",
      "model_name": "DescriptionStyleModel",
      "state": {
       "description_width": ""
      }
     },
     "4cc6142effcf46368ec5233b5240b669": {
      "model_module": "@jupyter-widgets/controls",
      "model_module_version": "1.5.0",
      "model_name": "DescriptionStyleModel",
      "state": {
       "description_width": ""
      }
     },
     "4cefd5fef8ea4e44946290841017264d": {
      "model_module": "@jupyter-widgets/base",
      "model_module_version": "1.2.0",
      "model_name": "LayoutModel",
      "state": {}
     },
     "4cfe6a6729dd4eed84bc0d3f8c15447d": {
      "model_module": "@jupyter-widgets/base",
      "model_module_version": "1.2.0",
      "model_name": "LayoutModel",
      "state": {}
     },
     "4d94abf227514a87b7003d6ec31d5f7c": {
      "model_module": "@jupyter-widgets/controls",
      "model_module_version": "1.5.0",
      "model_name": "LabelModel",
      "state": {
       "layout": "IPY_MODEL_4cfe6a6729dd4eed84bc0d3f8c15447d",
       "style": "IPY_MODEL_a8bf1641329740ab8c77e402bad51775",
       "value": "1003BFFD8BE61032"
      }
     },
     "4db35228d5f54ec5bed145b4a21a6edc": {
      "model_module": "@jupyter-widgets/controls",
      "model_module_version": "1.5.0",
      "model_name": "HTMLModel",
      "state": {
       "layout": "IPY_MODEL_28e1804fb52243c7ad414da95682dec6",
       "style": "IPY_MODEL_bdbf4bca13e44e28b6ecae931a23eb1c",
       "value": "<img src=\"https://raw.githubusercontent.com/microsoft/AI-Utilities/master/docs/app_insights_availability.png\">"
      }
     },
     "4df24434de8f48e78afd137756ed1625": {
      "model_module": "@jupyter-widgets/controls",
      "model_module_version": "1.5.0",
      "model_name": "LabelModel",
      "state": {
       "layout": "IPY_MODEL_bc2149fdfed2477e8d7aa7d84721bca8",
       "style": "IPY_MODEL_094c89650693437fa10baf4fed0ee35f",
       "value": "1"
      }
     },
     "4df3dfde89584a0c82ab38fd349f3c58": {
      "model_module": "@jupyter-widgets/base",
      "model_module_version": "1.2.0",
      "model_name": "LayoutModel",
      "state": {}
     },
     "4e0a00dc3b154cb199c590b13c165fac": {
      "model_module": "@jupyter-widgets/controls",
      "model_module_version": "1.5.0",
      "model_name": "TextModel",
      "state": {
       "description": "deep_aks_location",
       "layout": "IPY_MODEL_8dde393393cd48629a06fcf4f5760e8c",
       "placeholder": "AKS Azure Region",
       "style": "IPY_MODEL_35922b1e7b9c451c9b70b0b020d2b36f",
       "value": "eastus"
      }
     },
     "4e326ebba64d4663bb00cd2593f3190e": {
      "model_module": "@jupyter-widgets/base",
      "model_module_version": "1.2.0",
      "model_name": "LayoutModel",
      "state": {}
     },
     "4e3f9c1004e14bff9b13426255afb2aa": {
      "model_module": "@jupyter-widgets/base",
      "model_module_version": "1.2.0",
      "model_name": "LayoutModel",
      "state": {}
     },
     "4e791584df63467fba6c1a541166fc68": {
      "model_module": "@jupyter-widgets/controls",
      "model_module_version": "1.5.0",
      "model_name": "HTMLModel",
      "state": {
       "layout": "IPY_MODEL_46583a1831d145f694488e9ba1d08672",
       "style": "IPY_MODEL_0d8305e5dd50493ea1c2a6fc1d3e9f17",
       "value": "<b>description:</b>"
      }
     },
     "4f74bd65647c40949dce13158fd2f668": {
      "model_module": "@jupyter-widgets/controls",
      "model_module_version": "1.5.0",
      "model_name": "VBoxModel",
      "state": {
       "children": [
        "IPY_MODEL_9b0d221503254c7595ea3ec1880694eb",
        "IPY_MODEL_001e321f0704499b80f4a4a5f416b35b",
        "IPY_MODEL_b415b6a31e584b2cad0b685789af2740",
        "IPY_MODEL_78c96babdf034df48a482e58ce5728e9",
        "IPY_MODEL_db9c8956a2f8456598b3e32d0fe32a53",
        "IPY_MODEL_fd211949a9084ddfbf28e1aa1e10c3ec",
        "IPY_MODEL_0f6d5e607fd64f46850d957177d019f4",
        "IPY_MODEL_b2f1c1a41137418db1ce24a6cb27d761",
        "IPY_MODEL_5a94ca6226674eeeab0fed828556cd5b",
        "IPY_MODEL_4726913eff1b4e068534000f267300b4",
        "IPY_MODEL_d83134e86535406294d4039399538517",
        "IPY_MODEL_1a39b56762fd444096de2ec3288af794",
        "IPY_MODEL_bca1d320950c499595fc190b9cf0a345",
        "IPY_MODEL_90c61e83d0d847d9ac6db0eb7b9c1c7d",
        "IPY_MODEL_fcd61ab68cd6498e8cbe54c4b309dccd",
        "IPY_MODEL_4107a5a229e54d71825e4198f7c599ca",
        "IPY_MODEL_6bbbfcfa8a7147dd993f956e745d95dc"
       ],
       "layout": "IPY_MODEL_794b50a7debe4221a9d3d0b8a37d2119"
      }
     },
     "4fbac8423ee5488d9b9b5c9514e68e98": {
      "model_module": "@jupyter-widgets/controls",
      "model_module_version": "1.5.0",
      "model_name": "VBoxModel",
      "state": {
       "children": [
        "IPY_MODEL_be286931a1f54f33b864fb5637bdac9c",
        "IPY_MODEL_2cd9ecda8f1d4e31bfa7d15258c4c217",
        "IPY_MODEL_efc53f97791b4dabbc6dd6e6f274b251"
       ],
       "layout": "IPY_MODEL_fc1579f9834f42179a643788b42ea462"
      }
     },
     "4fe282b3d15748e49a52579ef6794c6c": {
      "model_module": "@jupyter-widgets/controls",
      "model_module_version": "1.5.0",
      "model_name": "HTMLModel",
      "state": {
       "layout": "IPY_MODEL_bfbc65856c704b0e98c643c3b2973aef",
       "style": "IPY_MODEL_e6353b4544c64839be1e1d924b4ee295",
       "value": "<b>sampleInputDatasetId:</b>"
      }
     },
     "507e1bf9c7b14a0e90443f370669ae7e": {
      "model_module": "@jupyter-widgets/controls",
      "model_module_version": "1.5.0",
      "model_name": "HBoxModel",
      "state": {
       "children": [
        "IPY_MODEL_053821b34aea4bdf9995d037c1c1989b",
        "IPY_MODEL_000633679bcc42debd594774e9549afb"
       ],
       "layout": "IPY_MODEL_1e5f31c4151c41878653b6b2ee4215c1"
      }
     },
     "50a036c76398465dbe4d686a5663f600": {
      "model_module": "@jupyter-widgets/controls",
      "model_module_version": "1.5.0",
      "model_name": "DescriptionStyleModel",
      "state": {
       "description_width": ""
      }
     },
     "50a0e5e3e3034fdd8165997c40796873": {
      "model_module": "@jupyter-widgets/controls",
      "model_module_version": "1.5.0",
      "model_name": "HBoxModel",
      "state": {
       "children": [
        "IPY_MODEL_2400eddfe3ae44e8bbced21954f57730",
        "IPY_MODEL_e3aa8454b37a42718197fa8d5319ed42"
       ],
       "layout": "IPY_MODEL_f877cf12f8d741898db4f1662dd6543b"
      }
     },
     "50d41da340444a348313fc2b9f88cfe4": {
      "model_module": "@jupyter-widgets/base",
      "model_module_version": "1.2.0",
      "model_name": "LayoutModel",
      "state": {}
     },
     "50e4b169bba5496e8c4ab3d8d0304b84": {
      "model_module": "@jupyter-widgets/controls",
      "model_module_version": "1.5.0",
      "model_name": "DescriptionStyleModel",
      "state": {
       "description_width": "initial"
      }
     },
     "50f1430c429446378e79baebb6acb7aa": {
      "model_module": "@jupyter-widgets/base",
      "model_module_version": "1.2.0",
      "model_name": "LayoutModel",
      "state": {}
     },
     "5161813b639b4d95993f6f9889a79822": {
      "model_module": "@jupyter-widgets/controls",
      "model_module_version": "1.5.0",
      "model_name": "DescriptionStyleModel",
      "state": {
       "description_width": ""
      }
     },
     "518d3d4a78bd40ab801dfe6777e9d981": {
      "model_module": "@jupyter-widgets/controls",
      "model_module_version": "1.5.0",
      "model_name": "HTMLModel",
      "state": {
       "layout": "IPY_MODEL_c389fe3af3514aca9600e799ac476593",
       "style": "IPY_MODEL_7e2d8db0a71c49e78ebb1a5f6d3d6c30",
       "value": "<b>spark:</b>"
      }
     },
     "51b42afc2e8e47baaa04db292171b4e9": {
      "model_module": "@jupyter-widgets/controls",
      "model_module_version": "1.5.0",
      "model_name": "DescriptionStyleModel",
      "state": {
       "description_width": "initial"
      }
     },
     "51c4662728234b7fb9e30893b8d996f9": {
      "model_module": "@jupyter-widgets/controls",
      "model_module_version": "1.5.0",
      "model_name": "DescriptionStyleModel",
      "state": {
       "description_width": ""
      }
     },
     "520c0fdbc0224976ad06a2888cd442a7": {
      "model_module": "@jupyter-widgets/base",
      "model_module_version": "1.2.0",
      "model_name": "LayoutModel",
      "state": {}
     },
     "524dfbafd3554ef1b236efcfa7f18238": {
      "model_module": "@jupyter-widgets/controls",
      "model_module_version": "1.5.0",
      "model_name": "HBoxModel",
      "state": {
       "children": [
        "IPY_MODEL_12bafa484024456299a6ae1928354406",
        "IPY_MODEL_1af7c15204e84075a9ac26c98bf0bebe"
       ],
       "layout": "IPY_MODEL_af25b77d97714b3d8a717dbec56606ed"
      }
     },
     "525cb4280fbe4d829c396a3d8368c657": {
      "model_module": "@jupyter-widgets/base",
      "model_module_version": "1.2.0",
      "model_name": "LayoutModel",
      "state": {}
     },
     "52630919704644ac8f46a8d0f4924255": {
      "model_module": "@jupyter-widgets/base",
      "model_module_version": "1.2.0",
      "model_name": "LayoutModel",
      "state": {}
     },
     "5272123d5ef74894bca2615bfc3c7d5d": {
      "model_module": "@jupyter-widgets/controls",
      "model_module_version": "1.5.0",
      "model_name": "LabelModel",
      "state": {
       "layout": "IPY_MODEL_7d4c21cc8cbf4d64b6adc37583844769",
       "style": "IPY_MODEL_f6bd6c3b9e7e4defbaf239edd8c103a2",
       "value": "resnet_model_2:4"
      }
     },
     "529a9389b8f04c84b448ddb19d47e522": {
      "model_module": "@jupyter-widgets/base",
      "model_module_version": "1.2.0",
      "model_name": "LayoutModel",
      "state": {}
     },
     "52be557b880c4c94a0c27d63270b10b1": {
      "model_module": "@jupyter-widgets/controls",
      "model_module_version": "1.5.0",
      "model_name": "LabelModel",
      "state": {
       "layout": "IPY_MODEL_7946b0abd4d84c06a3d1bcde89bdcfa3",
       "style": "IPY_MODEL_d086a173a44347eba8359af18af866d5",
       "value": "aml://asset/5ab7f6be706a4cb8a658fa05810f9f97"
      }
     },
     "52fa10a869334e6a805c39b28334921f": {
      "model_module": "@jupyter-widgets/base",
      "model_module_version": "1.2.0",
      "model_name": "LayoutModel",
      "state": {}
     },
     "53470b14088643ccb275b5dba34870bf": {
      "model_module": "@jupyter-widgets/base",
      "model_module_version": "1.2.0",
      "model_name": "LayoutModel",
      "state": {}
     },
     "534866dfa4804b4fa68583418bbfca3f": {
      "model_module": "@jupyter-widgets/controls",
      "model_module_version": "1.5.0",
      "model_name": "HBoxModel",
      "state": {
       "children": [
        "IPY_MODEL_4a569614de27491383574ac542982528",
        "IPY_MODEL_6136a49fcc2f4237a306852f798e3427"
       ],
       "layout": "IPY_MODEL_f13710e6b6dc4d7293adf36dd1ec7942"
      }
     },
     "5350bc598f554ba5bdb2ac0253096604": {
      "model_module": "@jupyter-widgets/controls",
      "model_module_version": "1.5.0",
      "model_name": "DescriptionStyleModel",
      "state": {
       "description_width": ""
      }
     },
     "536349b113d444ff99bb1847faf108d5": {
      "model_module": "@jupyter-widgets/controls",
      "model_module_version": "1.5.0",
      "model_name": "DescriptionStyleModel",
      "state": {
       "description_width": ""
      }
     },
     "53752d43d2ab4a66b3e8fbdc5f6f4724": {
      "model_module": "@jupyter-widgets/controls",
      "model_module_version": "1.5.0",
      "model_name": "DescriptionStyleModel",
      "state": {
       "description_width": ""
      }
     },
     "5479da1440314d3dbdd75005f6381ec9": {
      "model_module": "@jupyter-widgets/controls",
      "model_module_version": "1.5.0",
      "model_name": "HBoxModel",
      "state": {
       "children": [
        "IPY_MODEL_c26b7ff51715404a9786ff7f112297bb",
        "IPY_MODEL_0f6305f247d34e5baf7be2a365ec6ae0"
       ],
       "layout": "IPY_MODEL_15662e2bc5964976a320eafa3ae47227"
      }
     },
     "549ce1beb9f64a3fb32e5cd5b1765cfe": {
      "model_module": "@jupyter-widgets/controls",
      "model_module_version": "1.5.0",
      "model_name": "HTMLModel",
      "state": {
       "layout": "IPY_MODEL_1f953cbb890840c4b63e6cb17570e0ec",
       "style": "IPY_MODEL_4249b93ddf0b42439132acf1ef589f8e",
       "value": "<b>eventHubEnabled:</b>"
      }
     },
     "54e8224a66654f0eae4137ff218edfe8": {
      "model_module": "@jupyter-widgets/controls",
      "model_module_version": "1.5.0",
      "model_name": "DescriptionStyleModel",
      "state": {
       "description_width": "initial"
      }
     },
     "54f9f0ff0fd7450d92eaf1740c36711b": {
      "model_module": "@jupyter-widgets/controls",
      "model_module_version": "1.5.0",
      "model_name": "HTMLModel",
      "state": {
       "layout": "IPY_MODEL_eba72125ac57463a9accc2a8d7ce2dda",
       "style": "IPY_MODEL_20984a2ffaca47f1a2cb419740cd0f97",
       "value": "<b>userName:</b>"
      }
     },
     "552ae78396f8483c83372e06368666f4": {
      "model_module": "@jupyter-widgets/controls",
      "model_module_version": "1.5.0",
      "model_name": "DescriptionStyleModel",
      "state": {
       "description_width": ""
      }
     },
     "55393c40022646b1932224deabe432c6": {
      "model_module": "@jupyter-widgets/controls",
      "model_module_version": "1.5.0",
      "model_name": "VBoxModel",
      "state": {
       "children": [
        "IPY_MODEL_6a8a6200faf040edab27fe054952cc34",
        "IPY_MODEL_a7f3ae5daacd436682fd95e9f82e6c21",
        "IPY_MODEL_507e1bf9c7b14a0e90443f370669ae7e",
        "IPY_MODEL_6c54d68dbce24bff97390bd5944e65a4",
        "IPY_MODEL_c520ccbba2094d9994ae96080c81425e",
        "IPY_MODEL_09f0cce7d6134820873dfe6531396ed7",
        "IPY_MODEL_c9a9f4ffc6204fbfb043714477dd9972"
       ],
       "layout": "IPY_MODEL_29a73d139ab6435196fefd697dad828a"
      }
     },
     "555c9772c160402692ed5702a4b9a70d": {
      "model_module": "@jupyter-widgets/base",
      "model_module_version": "1.2.0",
      "model_name": "LayoutModel",
      "state": {
       "width": "50%"
      }
     },
     "559b5a78e8074cd18070ca9bf4d95393": {
      "model_module": "@jupyter-widgets/controls",
      "model_module_version": "1.5.0",
      "model_name": "HTMLModel",
      "state": {
       "layout": "IPY_MODEL_75612d141aaa4793b93c8ce6bc6f22ca",
       "style": "IPY_MODEL_bbb30b6294e54034b8d6c90574e8cf1c",
       "value": "<b>state:</b>"
      }
     },
     "560569542ed14df68ff349bbf94ca249": {
      "model_module": "@jupyter-widgets/controls",
      "model_module_version": "1.5.0",
      "model_name": "DescriptionStyleModel",
      "state": {
       "description_width": ""
      }
     },
     "56059d442639472a9be8acd6137f2b45": {
      "model_module": "@jupyter-widgets/controls",
      "model_module_version": "1.5.0",
      "model_name": "DescriptionStyleModel",
      "state": {
       "description_width": ""
      }
     },
     "567c889721a64e4f9fc61431bc39992b": {
      "model_module": "@jupyter-widgets/controls",
      "model_module_version": "1.5.0",
      "model_name": "HBoxModel",
      "state": {
       "children": [
        "IPY_MODEL_a3761bac22924bd6926a6349f3c62c4e",
        "IPY_MODEL_00c16f1ff11247e8bcd04e3ec678499c"
       ],
       "layout": "IPY_MODEL_08da8f13822a41738eb471cd18f1d105"
      }
     },
     "56b4bf16d98c481f9cb2eed425335748": {
      "model_module": "@jupyter-widgets/controls",
      "model_module_version": "1.5.0",
      "model_name": "ProgressStyleModel",
      "state": {
       "description_width": ""
      }
     },
     "570ab56cec96425da46f50c3cbcef19f": {
      "model_module": "@jupyter-widgets/base",
      "model_module_version": "1.2.0",
      "model_name": "LayoutModel",
      "state": {}
     },
     "5718bd0ad12e4782b7e536f93dfa816b": {
      "model_module": "@jupyter-widgets/base",
      "model_module_version": "1.2.0",
      "model_name": "LayoutModel",
      "state": {}
     },
     "57a58109ba7c46d9bfe7a39a3b66dd5f": {
      "model_module": "@jupyter-widgets/controls",
      "model_module_version": "1.5.0",
      "model_name": "HTMLModel",
      "state": {
       "layout": "IPY_MODEL_6e242ae4978c44b7abe411fc8fc77625",
       "style": "IPY_MODEL_d7a1713aaf4847ebb0b9a87a46f0c552",
       "value": "<b>storageEnabled:</b>"
      }
     },
     "57c28b037445404eb27230213385bc12": {
      "model_module": "@jupyter-widgets/controls",
      "model_module_version": "1.5.0",
      "model_name": "VBoxModel",
      "state": {
       "children": [
        "IPY_MODEL_4f74bd65647c40949dce13158fd2f668"
       ],
       "layout": "IPY_MODEL_26d0180444d44811bfb17165baf20295"
      }
     },
     "57eb6ac2fcdb4f4f9cb044431b7983d4": {
      "model_module": "@jupyter-widgets/base",
      "model_module_version": "1.2.0",
      "model_name": "LayoutModel",
      "state": {}
     },
     "584a9c84494f4eb78cb6e1e48b4ba044": {
      "model_module": "@jupyter-widgets/controls",
      "model_module_version": "1.5.0",
      "model_name": "LabelModel",
      "state": {
       "layout": "IPY_MODEL_0c2f1d56be5d4f89a9b7bfcf82d2ad7a",
       "style": "IPY_MODEL_e5e796ba57eb4acd9b3e6f360b6a3527",
       "value": "None"
      }
     },
     "58624380598c4f28bd637ab2214d1370": {
      "model_module": "@jupyter-widgets/controls",
      "model_module_version": "1.5.0",
      "model_name": "AccordionModel",
      "state": {
       "_titles": {
        "0": "properties"
       },
       "children": [
        "IPY_MODEL_eb99f1bad0464706a1947d7ded2a1aa8"
       ],
       "layout": "IPY_MODEL_ee42893c543d4e49a391ed61f17ccda4"
      }
     },
     "58c6a08e10e84efdbb7e0e7539f37c7b": {
      "model_module": "@jupyter-widgets/controls",
      "model_module_version": "1.5.0",
      "model_name": "DescriptionStyleModel",
      "state": {
       "description_width": ""
      }
     },
     "58f1cc9d8585405f9b6ccd6238f77cf1": {
      "model_module": "@jupyter-widgets/controls",
      "model_module_version": "1.5.0",
      "model_name": "DescriptionStyleModel",
      "state": {
       "description_width": ""
      }
     },
     "59395506907f467cac66a4cf74fb4a82": {
      "model_module": "@jupyter-widgets/base",
      "model_module_version": "1.2.0",
      "model_name": "LayoutModel",
      "state": {}
     },
     "5a3d213b37044a1c9ecbc09a45cde99e": {
      "model_module": "@jupyter-widgets/controls",
      "model_module_version": "1.5.0",
      "model_name": "HBoxModel",
      "state": {
       "children": [
        "IPY_MODEL_1a5df548735e4b3ab93fd212f37ff287",
        "IPY_MODEL_584a9c84494f4eb78cb6e1e48b4ba044"
       ],
       "layout": "IPY_MODEL_2cb04790ea2844d7abf40f36b2e57667"
      }
     },
     "5a4c3c193d014b729b2111623cf19af4": {
      "model_module": "@jupyter-widgets/controls",
      "model_module_version": "1.5.0",
      "model_name": "IntProgressModel",
      "state": {
       "bar_style": "info",
       "layout": "IPY_MODEL_8b4f4ed76aaf48ee9f85e63810533984",
       "style": "IPY_MODEL_18bc32feec7b46c69b3567fb1592ca3f",
       "value": 13
      }
     },
     "5a94ca6226674eeeab0fed828556cd5b": {
      "model_module": "@jupyter-widgets/controls",
      "model_module_version": "1.5.0",
      "model_name": "HBoxModel",
      "state": {
       "children": [
        "IPY_MODEL_0032a6fa96ba4d4e8221d279cade596b",
        "IPY_MODEL_61ce8bb04f274426a6a408cdb7065674"
       ],
       "layout": "IPY_MODEL_25042e98922d47ceaac727e0dbc1a2ec"
      }
     },
     "5abb47b69d7848b88438b6b02987ed97": {
      "model_module": "@jupyter-widgets/controls",
      "model_module_version": "1.5.0",
      "model_name": "HBoxModel",
      "state": {
       "children": [
        "IPY_MODEL_9df491fec18f42bf9c4d89d641e5fa05",
        "IPY_MODEL_218d51519ebb4d57b8471e713ecdbd09"
       ],
       "layout": "IPY_MODEL_849998c6d3f14c0cba6dd836c84694c9"
      }
     },
     "5bdab9ff1ac2479196ae57ab7ec5b710": {
      "model_module": "@jupyter-widgets/controls",
      "model_module_version": "1.5.0",
      "model_name": "DescriptionStyleModel",
      "state": {
       "description_width": ""
      }
     },
     "5bdf8de70234457dae0c8089ebe8ac96": {
      "model_module": "@jupyter-widgets/base",
      "model_module_version": "1.2.0",
      "model_name": "LayoutModel",
      "state": {}
     },
     "5cc246f430f44393b0c1cdfcda1fd215": {
      "model_module": "@jupyter-widgets/controls",
      "model_module_version": "1.5.0",
      "model_name": "HTMLModel",
      "state": {
       "layout": "IPY_MODEL_88e4e13462e1475ead1f95c148e44655",
       "style": "IPY_MODEL_056ec7d96eb2463eba71d3a763273d18",
       "value": "<b>azureml.git.repository_uri:</b>"
      }
     },
     "5d9d12ee864445cebe68b981f8032c0b": {
      "model_module": "@jupyter-widgets/controls",
      "model_module_version": "1.5.0",
      "model_name": "HTMLModel",
      "state": {
       "layout": "IPY_MODEL_5bdf8de70234457dae0c8089ebe8ac96",
       "style": "IPY_MODEL_4b43cf6d5ce24cbcac685744751f8f23",
       "value": "<b>initialDelaySeconds:</b>"
      }
     },
     "5dd6e7c4ce7944068736f0505ef3f86d": {
      "model_module": "@jupyter-widgets/controls",
      "model_module_version": "1.5.0",
      "model_name": "VBoxModel",
      "state": {
       "children": [
        "IPY_MODEL_bad5e6a35b354f19a0b034ae16520552",
        "IPY_MODEL_76db110f9941437885b905acaee3b584",
        "IPY_MODEL_9f303bc0f2164012bbf1df6030738186",
        "IPY_MODEL_aa0de50579064db58629a61f9bcb2eb7"
       ],
       "layout": "IPY_MODEL_8607e5b0cff840efa96f5757e2c83477"
      }
     },
     "5dee1c8a8ba0469d81484fb44aef0c63": {
      "model_module": "@jupyter-widgets/base",
      "model_module_version": "1.2.0",
      "model_name": "LayoutModel",
      "state": {}
     },
     "5ee9cfd9b91d48dfb0871abb2274105c": {
      "model_module": "@jupyter-widgets/controls",
      "model_module_version": "1.5.0",
      "model_name": "DescriptionStyleModel",
      "state": {
       "description_width": ""
      }
     },
     "5f9550ef319c44c7be50be75ed5116a1": {
      "model_module": "@jupyter-widgets/controls",
      "model_module_version": "1.5.0",
      "model_name": "DescriptionStyleModel",
      "state": {
       "description_width": ""
      }
     },
     "5fda72c4723243aa94df26febb8ecfe0": {
      "model_module": "@jupyter-widgets/base",
      "model_module_version": "1.2.0",
      "model_name": "LayoutModel",
      "state": {}
     },
     "604abd6c1d9545e0ae38811987209976": {
      "model_module": "@jupyter-widgets/base",
      "model_module_version": "1.2.0",
      "model_name": "LayoutModel",
      "state": {}
     },
     "6070cd7c6b6f4f13a69db02f39d460d2": {
      "model_module": "@jupyter-widgets/controls",
      "model_module_version": "1.5.0",
      "model_name": "HBoxModel",
      "state": {
       "children": [
        "IPY_MODEL_a76e6b57e458445ead562e7261d211de",
        "IPY_MODEL_2b91ccd53cc9433abe00e081aefcc5d7"
       ],
       "layout": "IPY_MODEL_7ffc84f2dbbf4428b02ac26da0fd718a"
      }
     },
     "60b6f62d78e548f29b3c60b80256f6ab": {
      "model_module": "@jupyter-widgets/controls",
      "model_module_version": "1.5.0",
      "model_name": "HBoxModel",
      "state": {
       "children": [
        "IPY_MODEL_cb4bd91ea9ca47faae443546bb391b14",
        "IPY_MODEL_de3e486385454d80b09b9d17578e8d81"
       ],
       "layout": "IPY_MODEL_19d1834e2fb54728b0af5182f68c289a"
      }
     },
     "6136a49fcc2f4237a306852f798e3427": {
      "model_module": "@jupyter-widgets/controls",
      "model_module_version": "1.5.0",
      "model_name": "LabelModel",
      "state": {
       "layout": "IPY_MODEL_0de5680346814209a97883fd88ca61cf",
       "style": "IPY_MODEL_eff3c61204b74e2eaece752b3bd8392e",
       "value": "Control"
      }
     },
     "616941d6d18f46b59412621896209d1a": {
      "model_module": "@jupyter-widgets/controls",
      "model_module_version": "1.5.0",
      "model_name": "LabelModel",
      "state": {
       "layout": "IPY_MODEL_b66eb602f0df4650b7d1d6ad6cdc5623",
       "style": "IPY_MODEL_16afe35c85444e21aa61cf8a48395a02",
       "value": "120"
      }
     },
     "61a2ec063f274b1b9aeb325e78960d57": {
      "model_module": "@jupyter-widgets/controls",
      "model_module_version": "1.5.0",
      "model_name": "DescriptionStyleModel",
      "state": {
       "description_width": ""
      }
     },
     "61c492dd22274fe39aa42a4b900453ad": {
      "model_module": "@jupyter-widgets/controls",
      "model_module_version": "1.5.0",
      "model_name": "LabelModel",
      "state": {
       "layout": "IPY_MODEL_7c5f387a20b94244b215f59498dfaf11",
       "style": "IPY_MODEL_d12ab50755d54ea28b30ebe824267995",
       "value": "None"
      }
     },
     "61c95001eae04862be7acbd89dd872a6": {
      "model_module": "@jupyter-widgets/base",
      "model_module_version": "1.2.0",
      "model_name": "LayoutModel",
      "state": {}
     },
     "61ce8bb04f274426a6a408cdb7065674": {
      "model_module": "@jupyter-widgets/controls",
      "model_module_version": "1.5.0",
      "model_name": "LabelModel",
      "state": {
       "layout": "IPY_MODEL_8d097712d9e64e628255aa42ad73c154",
       "style": "IPY_MODEL_3816e3665796469b8954f0b82f98c8c5",
       "value": "False"
      }
     },
     "623a7e3672844f5b8e818eb134833753": {
      "model_module": "@jupyter-widgets/base",
      "model_module_version": "1.2.0",
      "model_name": "LayoutModel",
      "state": {}
     },
     "628e322447c0427aa543586a081b6949": {
      "model_module": "@jupyter-widgets/controls",
      "model_module_version": "1.5.0",
      "model_name": "TextModel",
      "state": {
       "description": "resource_group",
       "layout": "IPY_MODEL_778599d49cae4b62856422981112aaf4",
       "placeholder": "Azure Resource Group Name",
       "style": "IPY_MODEL_c110ac7a9a2a4683a1adaaa9cf3166c0",
       "value": "azmlrts-eastus-stable"
      }
     },
     "62b83474a7db49319d853fd786754750": {
      "model_module": "@jupyter-widgets/base",
      "model_module_version": "1.2.0",
      "model_name": "LayoutModel",
      "state": {}
     },
     "6389ff79b76b407898c527c793528f42": {
      "model_module": "@jupyter-widgets/base",
      "model_module_version": "1.2.0",
      "model_name": "LayoutModel",
      "state": {
       "width": "50%"
      }
     },
     "63b0052898de400a8f08e29d9e1b2b4e": {
      "model_module": "@jupyter-widgets/controls",
      "model_module_version": "1.5.0",
      "model_name": "DescriptionStyleModel",
      "state": {
       "description_width": ""
      }
     },
     "63e059425202481c8ec70c656058a558": {
      "model_module": "@jupyter-widgets/controls",
      "model_module_version": "1.5.0",
      "model_name": "LabelModel",
      "state": {
       "layout": "IPY_MODEL_c8c8c949cacf4757a5ef7c0d82eece48",
       "style": "IPY_MODEL_c270732b32e34bbf9c47ceb1e4a836c1",
       "value": "dlrts-train-on-local"
      }
     },
     "640fe2f81b8c4a5097f04b1c6c7acc71": {
      "model_module": "@jupyter-widgets/base",
      "model_module_version": "1.2.0",
      "model_name": "LayoutModel",
      "state": {}
     },
     "654a2c218da848a9a4c5be729d326d3b": {
      "model_module": "@jupyter-widgets/controls",
      "model_module_version": "1.5.0",
      "model_name": "DescriptionStyleModel",
      "state": {
       "description_width": ""
      }
     },
     "656d24dfca604f428fcb54f198b2a153": {
      "model_module": "@jupyter-widgets/base",
      "model_module_version": "1.2.0",
      "model_name": "LayoutModel",
      "state": {}
     },
     "659129bc7d824c868213b7dc34f96640": {
      "model_module": "@jupyter-widgets/controls",
      "model_module_version": "1.5.0",
      "model_name": "DescriptionStyleModel",
      "state": {
       "description_width": "initial"
      }
     },
     "65a42766bc78429487914ef48a037d54": {
      "model_module": "@jupyter-widgets/base",
      "model_module_version": "1.2.0",
      "model_name": "LayoutModel",
      "state": {}
     },
     "65ef81d9a38e4d8bbd85c9c53b8e6160": {
      "model_module": "@jupyter-widgets/controls",
      "model_module_version": "1.5.0",
      "model_name": "DescriptionStyleModel",
      "state": {
       "description_width": ""
      }
     },
     "65f50da909d640399551c0ad7f983fee": {
      "model_module": "@jupyter-widgets/controls",
      "model_module_version": "1.5.0",
      "model_name": "LabelModel",
      "state": {
       "layout": "IPY_MODEL_61c95001eae04862be7acbd89dd872a6",
       "style": "IPY_MODEL_1fbbdd3e7e0047a7b60a93281a4a5223",
       "value": "https://sts.windows.net/72f988bf-86f1-41af-91ab-2d7cd011db47/"
      }
     },
     "664611131b63488582af20696650f8c4": {
      "model_module": "@jupyter-widgets/base",
      "model_module_version": "1.2.0",
      "model_name": "LayoutModel",
      "state": {}
     },
     "6657bacde23e4e7d83ccd53b24818562": {
      "model_module": "@jupyter-widgets/controls",
      "model_module_version": "1.5.0",
      "model_name": "HBoxModel",
      "state": {
       "children": [
        "IPY_MODEL_c0ca6d5475c74acd9ab34d6b11f19fe6",
        "IPY_MODEL_b363361b2954492a8fc5ba3bdb6f158d"
       ],
       "layout": "IPY_MODEL_ec0ec8fc73c04bc198584fe8e4bcd984"
      }
     },
     "665fa8dbfbea433dad134e8122843b05": {
      "model_module": "@jupyter-widgets/base",
      "model_module_version": "1.2.0",
      "model_name": "LayoutModel",
      "state": {}
     },
     "66991b4f7fd744da96dbd5b54ef66a6f": {
      "model_module": "@jupyter-widgets/base",
      "model_module_version": "1.2.0",
      "model_name": "LayoutModel",
      "state": {}
     },
     "66c333cf823a4102988b600030143614": {
      "model_module": "@jupyter-widgets/base",
      "model_module_version": "1.2.0",
      "model_name": "LayoutModel",
      "state": {}
     },
     "673f7f73ea224cad8fc066a7f6256f68": {
      "model_module": "@jupyter-widgets/controls",
      "model_module_version": "1.5.0",
      "model_name": "DescriptionStyleModel",
      "state": {
       "description_width": ""
      }
     },
     "674e3a0419d54bc0bef03f531dd5f750": {
      "model_module": "@jupyter-widgets/controls",
      "model_module_version": "1.5.0",
      "model_name": "DescriptionStyleModel",
      "state": {
       "description_width": ""
      }
     },
     "6764a31af7ae4724be279afcc48f42da": {
      "model_module": "@jupyter-widgets/controls",
      "model_module_version": "1.5.0",
      "model_name": "LabelModel",
      "state": {
       "layout": "IPY_MODEL_62b83474a7db49319d853fd786754750",
       "style": "IPY_MODEL_918953e51f1e4f4da629e09a472cdffb",
       "value": "False"
      }
     },
     "679fc97961ad4365a1b454c9afee76f5": {
      "model_module": "@jupyter-widgets/controls",
      "model_module_version": "1.5.0",
      "model_name": "HBoxModel",
      "state": {
       "children": [
        "IPY_MODEL_5cc246f430f44393b0c1cdfcda1fd215",
        "IPY_MODEL_a0cdf936ebd54dbb84d26434784875df"
       ],
       "layout": "IPY_MODEL_f644f459876f4534b85aee21559c633f"
      }
     },
     "67de82658a56451786a384886bb388cc": {
      "model_module": "@jupyter-widgets/base",
      "model_module_version": "1.2.0",
      "model_name": "LayoutModel",
      "state": {}
     },
     "67e83107c7fd4dc8a954700629bece2e": {
      "model_module": "@jupyter-widgets/base",
      "model_module_version": "1.2.0",
      "model_name": "LayoutModel",
      "state": {}
     },
     "6840c669d07e45ce80b11b490a171e03": {
      "model_module": "@jupyter-widgets/base",
      "model_module_version": "1.2.0",
      "model_name": "LayoutModel",
      "state": {}
     },
     "68602b58758245d6be302cd60852358a": {
      "model_module": "@jupyter-widgets/base",
      "model_module_version": "1.2.0",
      "model_name": "LayoutModel",
      "state": {}
     },
     "68d3314e41844eb2bcfbcfbc33f7f916": {
      "model_module": "@jupyter-widgets/controls",
      "model_module_version": "1.5.0",
      "model_name": "LabelModel",
      "state": {
       "layout": "IPY_MODEL_02e519926af64e08bfa0cdf400c1537a",
       "style": "IPY_MODEL_41cbde04a9584aaaadd23c6b5347d82b",
       "value": "70"
      }
     },
     "69dd33edfeb94e7b9f2d26110ff70806": {
      "model_module": "@jupyter-widgets/controls",
      "model_module_version": "1.5.0",
      "model_name": "LabelModel",
      "state": {
       "layout": "IPY_MODEL_8f3fedc06cde45bdb529318ef009bb5e",
       "style": "IPY_MODEL_c05e68e87fdc43a59506ef547b5642ff",
       "value": "Daniel Ciborowski"
      }
     },
     "6a6630fbd9dc482a9fefec7611f41393": {
      "model_module": "@jupyter-widgets/controls",
      "model_module_version": "1.5.0",
      "model_name": "DropdownModel",
      "state": {
       "_options_labels": [
        "AG-CE-AI-GPU-EXPERIMENTATION",
        "AG-AzureCAT-AITao-Test-COGSNonProd-IO1685734",
        "AG-CE-AI-DEVOPS",
        "AG-AzureCAT-AIDemos-Test-COGSNonProd-IO1685734",
        "AGCE-AI-DELETE-Sharat",
        "AG-AzureCAT-AILab-Test-COGSNonProd-IO1685734",
        "Visual Studio Ultimate with MSDN",
        "AG-AzureCAT-AIDataPM-Test-COGSNonProd-IO1685743",
        "AG-AzureCAT-AIDanielle-Test-COGSNonProd-IO1685734",
        "AG-CE-AI-MN-CICOMMERCIAL",
        "AG-CE-AI-MN-INCUBATION",
        "AG-CE-AI-MN-OSS",
        "AG-CE-AI-MN-E2E",
        "AG-CE-AI-MN-HU",
        "AG-CE-AI-MN-SEISMIC",
        "AG-CE-AI-STORAGE",
        "AG-CE-AI-MN-RETAIL",
        "AG-CE-AI-FEEDBACK",
        "AG-CE-AI-MN-LAB",
        "Deep Learning Group",
        "Azure SDK Engineering System",
        "Epic-Edge-ES-ReproVMLab",
        "ES-Stream-Operations",
        "Core-ES-BranchManagement",
        "WDG-ES-RnD-GITTrain",
        "Cosmos_WDG_Core_BnB_100292",
        "Azure Stack Diagnostics CI and Production VaaS",
        "Edge DevTools Client",
        "AppInsight Test",
        "ddverify",
        "VSEng MadDog-RPS Telemetry",
        "CAT_Eng",
        "RPS-cloud-common-2",
        "Core-ES-WorkManagement",
        "Azure_Maps_MDP_Engineering",
        "Test/Demo - VipSwapper Operations",
        "COSINE-ES-Signing Azure Service",
        "AI Infra Build",
        "AG-CE-E2E-AI",
        "Boston-DS-Brandon-Dev",
        "DEMO - how RepDemo are you",
        "ADS Demo Subscription",
        "AzureCAT E2E Blue Steel",
        "Azure Stack CSS Labs",
        "Azure Search DEV Service Layer (kmort,miwelsh,bohuan)",
        ""
       ],
       "description": "subscription_id",
       "index": 2,
       "layout": "IPY_MODEL_787357c5e1454d9a8d6a405695517037",
       "style": "IPY_MODEL_e5aa966bac024dc4849743a985263a35"
      }
     },
     "6a7ad3334e5c4d1198e1f1ac669fc6a0": {
      "model_module": "@jupyter-widgets/base",
      "model_module_version": "1.2.0",
      "model_name": "LayoutModel",
      "state": {}
     },
     "6a8a6200faf040edab27fe054952cc34": {
      "model_module": "@jupyter-widgets/controls",
      "model_module_version": "1.5.0",
      "model_name": "HBoxModel",
      "state": {
       "children": [
        "IPY_MODEL_a0a37775d5d04f538ec15ee479aaf843",
        "IPY_MODEL_772da774e7374d0e86d7a42356b9641e"
       ],
       "layout": "IPY_MODEL_28762f6830b44f61bb8acfae372cde97"
      }
     },
     "6abc521ac40e46f6b389818f51393496": {
      "model_module": "@jupyter-widgets/controls",
      "model_module_version": "1.5.0",
      "model_name": "DescriptionStyleModel",
      "state": {
       "description_width": ""
      }
     },
     "6b2eb7a02c654f9387b19427d81a3051": {
      "model_module": "@jupyter-widgets/base",
      "model_module_version": "1.2.0",
      "model_name": "LayoutModel",
      "state": {}
     },
     "6b4209ebc02a40a28e1815534c23c4ec": {
      "model_module": "@jupyter-widgets/base",
      "model_module_version": "1.2.0",
      "model_name": "LayoutModel",
      "state": {}
     },
     "6b9d146916054690b8196499b0b7b0bb": {
      "model_module": "@jupyter-widgets/base",
      "model_module_version": "1.2.0",
      "model_name": "LayoutModel",
      "state": {}
     },
     "6bbbfcfa8a7147dd993f956e745d95dc": {
      "model_module": "@jupyter-widgets/controls",
      "model_module_version": "1.5.0",
      "model_name": "HBoxModel",
      "state": {
       "children": [
        "IPY_MODEL_b955ba4f09bc49e88d744e82bcc611c5",
        "IPY_MODEL_e7ddbc1b685049d18d375d0d3150b94b"
       ],
       "layout": "IPY_MODEL_5dee1c8a8ba0469d81484fb44aef0c63"
      }
     },
     "6c54d68dbce24bff97390bd5944e65a4": {
      "model_module": "@jupyter-widgets/controls",
      "model_module_version": "1.5.0",
      "model_name": "HBoxModel",
      "state": {
       "children": [
        "IPY_MODEL_9168d5bd16584abbbf13d9b20a88b3a3",
        "IPY_MODEL_b2907ed1fce548cc9b6a79db0163b9e4"
       ],
       "layout": "IPY_MODEL_dba8dec08c45470da78920b806f87660"
      }
     },
     "6ccfa28457b7474f8003aa4a13cc7688": {
      "model_module": "@jupyter-widgets/base",
      "model_module_version": "1.2.0",
      "model_name": "LayoutModel",
      "state": {}
     },
     "6da10cfd02784aa6a7d48b6ab5fe9538": {
      "model_module": "@jupyter-widgets/controls",
      "model_module_version": "1.5.0",
      "model_name": "LabelModel",
      "state": {
       "layout": "IPY_MODEL_45d712f076a241f3baea327153241e62",
       "style": "IPY_MODEL_89e7e8c457a94976a9920e75aa3b2aab",
       "value": "None"
      }
     },
     "6e242ae4978c44b7abe411fc8fc77625": {
      "model_module": "@jupyter-widgets/base",
      "model_module_version": "1.2.0",
      "model_name": "LayoutModel",
      "state": {}
     },
     "6eb22b11e0c34556b90f837dde9aac35": {
      "model_module": "@jupyter-widgets/controls",
      "model_module_version": "1.5.0",
      "model_name": "AccordionModel",
      "state": {
       "_titles": {
        "0": "livenessProbeRequirements"
       },
       "children": [
        "IPY_MODEL_77159b28d2e4490a83d2ebda311b3bb2"
       ],
       "layout": "IPY_MODEL_623a7e3672844f5b8e818eb134833753"
      }
     },
     "6f41c479bf6c4243b44f57a7fe1c42c7": {
      "model_module": "@jupyter-widgets/controls",
      "model_module_version": "1.5.0",
      "model_name": "DescriptionStyleModel",
      "state": {
       "description_width": ""
      }
     },
     "6fea34da79704b2a85501ae091866730": {
      "model_module": "@jupyter-widgets/controls",
      "model_module_version": "1.5.0",
      "model_name": "DescriptionStyleModel",
      "state": {
       "description_width": ""
      }
     },
     "70674147e1564029a064e6d0bdd16dbf": {
      "model_module": "@jupyter-widgets/base",
      "model_module_version": "1.2.0",
      "model_name": "LayoutModel",
      "state": {}
     },
     "70811d926017468ca99f8dd7a739073c": {
      "model_module": "@jupyter-widgets/controls",
      "model_module_version": "1.5.0",
      "model_name": "LabelModel",
      "state": {
       "layout": "IPY_MODEL_ddcbd4b54522496395f9bf73f08d76fc",
       "style": "IPY_MODEL_01bb480ba2874022a16541a9316dcbc0",
       "value": "1"
      }
     },
     "7181a62be068412b8ae4518c30b8d0df": {
      "model_module": "@jupyter-widgets/controls",
      "model_module_version": "1.5.0",
      "model_name": "DescriptionStyleModel",
      "state": {
       "description_width": ""
      }
     },
     "71b40283d6e84d02ab4fa1900c3acc17": {
      "model_module": "@jupyter-widgets/controls",
      "model_module_version": "1.5.0",
      "model_name": "HTMLModel",
      "state": {
       "layout": "IPY_MODEL_cf37b9c720d7458fa0ec25a1233e8cd2",
       "style": "IPY_MODEL_789b6944937e45f7bbf996b435fbaf23",
       "value": "<b>databricks:</b>"
      }
     },
     "71d3516fb3ae43f2ab19c6cfd2959704": {
      "model_module": "@jupyter-widgets/base",
      "model_module_version": "1.2.0",
      "model_name": "LayoutModel",
      "state": {}
     },
     "7235a2467e79431e9ce298c5c3c2542a": {
      "model_module": "@jupyter-widgets/controls",
      "model_module_version": "1.5.0",
      "model_name": "DescriptionStyleModel",
      "state": {
       "description_width": ""
      }
     },
     "7275201d671d46f4a65b147049512a11": {
      "model_module": "@jupyter-widgets/controls",
      "model_module_version": "1.5.0",
      "model_name": "FileUploadModel",
      "state": {
       "accept": ".yml",
       "description_tooltip": null,
       "layout": "IPY_MODEL_c58faddc147d43759d44f68451a36690",
       "style": "IPY_MODEL_f776a236c5804964b251ec29d177ecc2"
      }
     },
     "7310fa5f484a47d0af9662b4854e062f": {
      "model_module": "@jupyter-widgets/controls",
      "model_module_version": "1.5.0",
      "model_name": "DescriptionStyleModel",
      "state": {
       "description_width": ""
      }
     },
     "73b0409829144658a43e5dc9f79fc883": {
      "model_module": "@jupyter-widgets/base",
      "model_module_version": "1.2.0",
      "model_name": "LayoutModel",
      "state": {}
     },
     "743e2191cb0b4f00be143a3dea497e98": {
      "model_module": "@jupyter-widgets/controls",
      "model_module_version": "1.5.0",
      "model_name": "LabelModel",
      "state": {
       "layout": "IPY_MODEL_ef2f0190d0be456aafc837c1d1f85582",
       "style": "IPY_MODEL_ad3e7d03b3b14c31a89bba3ae71b7bf4",
       "value": "{'enabled': False, 'baseImage': 'mcr.microsoft.com/azureml/base:intelmpi2018.3-ubuntu16.04', 'baseDockerfile': None, 'sharedVolumes': True, 'shmSize': None, 'arguments': [], 'baseImageRegistry': {'address': None, 'username': None, 'password': None}}"
      }
     },
     "747f73b9360b45f3bd80da5c4c2b9eb1": {
      "model_module": "@jupyter-widgets/base",
      "model_module_version": "1.2.0",
      "model_name": "LayoutModel",
      "state": {}
     },
     "74adc20bcc244a89af5b4d83f7b109b7": {
      "model_module": "@jupyter-widgets/controls",
      "model_module_version": "1.5.0",
      "model_name": "DescriptionStyleModel",
      "state": {
       "description_width": ""
      }
     },
     "74c9557a729a4da5b5ee18dbef7ba781": {
      "model_module": "@jupyter-widgets/base",
      "model_module_version": "1.2.0",
      "model_name": "LayoutModel",
      "state": {}
     },
     "74e20f56a24f417282b4cbbf270f3a89": {
      "model_module": "@jupyter-widgets/controls",
      "model_module_version": "1.5.0",
      "model_name": "HBoxModel",
      "state": {
       "children": [
        "IPY_MODEL_549ce1beb9f64a3fb32e5cd5b1765cfe",
        "IPY_MODEL_c27285eb8c7b441b9d39182e530f37c8"
       ],
       "layout": "IPY_MODEL_50d41da340444a348313fc2b9f88cfe4"
      }
     },
     "750a43a1902d43d9962786d5c40f999e": {
      "model_module": "@jupyter-widgets/controls",
      "model_module_version": "1.5.0",
      "model_name": "HTMLModel",
      "state": {
       "layout": "IPY_MODEL_525cb4280fbe4d829c396a3d8368c657",
       "style": "IPY_MODEL_862cbad9b16746269a08b45052713c2e",
       "value": "<img src=\"https://raw.githubusercontent.com/microsoft/AI-Utilities/master/docs/app_insights_perf.png\">"
      }
     },
     "75612d141aaa4793b93c8ce6bc6f22ca": {
      "model_module": "@jupyter-widgets/base",
      "model_module_version": "1.2.0",
      "model_name": "LayoutModel",
      "state": {}
     },
     "75688fb13b514ead8d0460a3131263ab": {
      "model_module": "@jupyter-widgets/base",
      "model_module_version": "1.2.0",
      "model_name": "LayoutModel",
      "state": {}
     },
     "75ab234b87784484b9015eced14b80fc": {
      "model_module": "@jupyter-widgets/base",
      "model_module_version": "1.2.0",
      "model_name": "LayoutModel",
      "state": {}
     },
     "75bb707999fb4ef98bdff541198a6fd6": {
      "model_module": "@jupyter-widgets/controls",
      "model_module_version": "1.5.0",
      "model_name": "HTMLModel",
      "state": {
       "layout": "IPY_MODEL_898c4714e77347038e5513857f121d73",
       "style": "IPY_MODEL_28272683d55d433082d06462a4a7d81c",
       "value": "<b>autoscaleEnabled:</b>"
      }
     },
     "7631e79f681c42c5a709ee99f6a8ebef": {
      "model_module": "@jupyter-widgets/base",
      "model_module_version": "1.2.0",
      "model_name": "LayoutModel",
      "state": {}
     },
     "76726dff1fc846f19baadd07771487f2": {
      "model_module": "@jupyter-widgets/controls",
      "model_module_version": "1.5.0",
      "model_name": "HTMLModel",
      "state": {
       "layout": "IPY_MODEL_157037d3c9ca479bbb15ac48f57d9c15",
       "style": "IPY_MODEL_6abc521ac40e46f6b389818f51393496",
       "value": "<b>userPuId:</b>"
      }
     },
     "76a3097951d44526bbfc2c9852bf79e0": {
      "model_module": "@jupyter-widgets/base",
      "model_module_version": "1.2.0",
      "model_name": "LayoutModel",
      "state": {}
     },
     "76db110f9941437885b905acaee3b584": {
      "model_module": "@jupyter-widgets/controls",
      "model_module_version": "1.5.0",
      "model_name": "HBoxModel",
      "state": {
       "children": [
        "IPY_MODEL_d2cd7bcc35ee4089a8d7c62a0ce3d072",
        "IPY_MODEL_aceb5055476f47148ba18159566fe4ff"
       ],
       "layout": "IPY_MODEL_0cb6ff0591cb4f10b5b6f75b6e7e324a"
      }
     },
     "77029f95ebb14f06a52ff9ca620f920e": {
      "model_module": "@jupyter-widgets/controls",
      "model_module_version": "1.5.0",
      "model_name": "DescriptionStyleModel",
      "state": {
       "description_width": ""
      }
     },
     "77159b28d2e4490a83d2ebda311b3bb2": {
      "model_module": "@jupyter-widgets/controls",
      "model_module_version": "1.5.0",
      "model_name": "VBoxModel",
      "state": {
       "children": [
        "IPY_MODEL_567c889721a64e4f9fc61431bc39992b",
        "IPY_MODEL_3808237945fd46a1aeb6a1a844069c02",
        "IPY_MODEL_8182fc879f904d72b495d5ab59ee1cd2",
        "IPY_MODEL_dd379ec3c4794d8fa59f63c13f46a22f",
        "IPY_MODEL_e2ecc53d0c2f4071a73280e35bd0388b"
       ],
       "layout": "IPY_MODEL_e6102e8e1a7f4ce99f58a524df6634e5"
      }
     },
     "772da774e7374d0e86d7a42356b9641e": {
      "model_module": "@jupyter-widgets/controls",
      "model_module_version": "1.5.0",
      "model_name": "LabelModel",
      "state": {
       "layout": "IPY_MODEL_604abd6c1d9545e0ae38811987209976",
       "style": "IPY_MODEL_d8115e9c246542868576e1ed337d00d0",
       "value": "e6cc2e17-5968-49e6-bb8f-9fb978a0d450"
      }
     },
     "772f869900634d27bb37facdd9f61aa4": {
      "model_module": "@jupyter-widgets/controls",
      "model_module_version": "1.5.0",
      "model_name": "HTMLModel",
      "state": {
       "layout": "IPY_MODEL_b7c364321afb45ddac12c40fa106a0e8",
       "style": "IPY_MODEL_18548426450045b5a1be889ae069f4fb",
       "value": "<b>maxConcurrentRequestsPerContainer:</b>"
      }
     },
     "7732429e863c45e38598c7138fdc8768": {
      "model_module": "@jupyter-widgets/controls",
      "model_module_version": "1.5.0",
      "model_name": "HBoxModel",
      "state": {
       "children": [
        "IPY_MODEL_ef49411f27ec492a8e03979f5c78bb10",
        "IPY_MODEL_2da90cec94b3421f840fc74cab439e9c"
       ],
       "layout": "IPY_MODEL_1aadb7c850934c67ae369675ae202294"
      }
     },
     "777769c0a8534fffafaf463715fb861b": {
      "model_module": "@jupyter-widgets/base",
      "model_module_version": "1.2.0",
      "model_name": "LayoutModel",
      "state": {}
     },
     "778599d49cae4b62856422981112aaf4": {
      "model_module": "@jupyter-widgets/base",
      "model_module_version": "1.2.0",
      "model_name": "LayoutModel",
      "state": {
       "width": "50%"
      }
     },
     "77de5f3e8ee24630b269990b11eb3b7c": {
      "model_module": "@jupyter-widgets/base",
      "model_module_version": "1.2.0",
      "model_name": "LayoutModel",
      "state": {}
     },
     "7857c1983203420085a200e62bda8889": {
      "model_module": "@jupyter-widgets/controls",
      "model_module_version": "1.5.0",
      "model_name": "LabelModel",
      "state": {
       "layout": "IPY_MODEL_4529ead1a6bf458eb42a286244760454",
       "style": "IPY_MODEL_f74ee815c1cf4f96a1a0d0c93d265433",
       "value": "conda-env"
      }
     },
     "787357c5e1454d9a8d6a405695517037": {
      "model_module": "@jupyter-widgets/base",
      "model_module_version": "1.2.0",
      "model_name": "LayoutModel",
      "state": {
       "width": "50%"
      }
     },
     "789b6944937e45f7bbf996b435fbaf23": {
      "model_module": "@jupyter-widgets/controls",
      "model_module_version": "1.5.0",
      "model_name": "DescriptionStyleModel",
      "state": {
       "description_width": ""
      }
     },
     "78b2e5ede43e4968a5ef58bc676fc1bb": {
      "model_module": "@jupyter-widgets/controls",
      "model_module_version": "1.5.0",
      "model_name": "LabelModel",
      "state": {
       "layout": "IPY_MODEL_03135dd8f29d4a07bcf6a0b3a89adc69",
       "style": "IPY_MODEL_98438e17c6564e49ac22ac904fef0f3d",
       "value": "None"
      }
     },
     "78b7355886ba4595bf02da1684cc3311": {
      "model_module": "@jupyter-widgets/controls",
      "model_module_version": "1.5.0",
      "model_name": "HTMLModel",
      "state": {
       "layout": "IPY_MODEL_96a4c621f2934a6d89ef9bbd791fd095",
       "style": "IPY_MODEL_472a1e1d71eb423ab885310c3e4be7e4",
       "value": "<b>updatedTime:</b>"
      }
     },
     "78c96babdf034df48a482e58ce5728e9": {
      "model_module": "@jupyter-widgets/controls",
      "model_module_version": "1.5.0",
      "model_name": "HBoxModel",
      "state": {
       "children": [
        "IPY_MODEL_242f51cd130047ff890709d079ae4828",
        "IPY_MODEL_5272123d5ef74894bca2615bfc3c7d5d"
       ],
       "layout": "IPY_MODEL_68602b58758245d6be302cd60852358a"
      }
     },
     "7946b0abd4d84c06a3d1bcde89bdcfa3": {
      "model_module": "@jupyter-widgets/base",
      "model_module_version": "1.2.0",
      "model_name": "LayoutModel",
      "state": {}
     },
     "794b50a7debe4221a9d3d0b8a37d2119": {
      "model_module": "@jupyter-widgets/base",
      "model_module_version": "1.2.0",
      "model_name": "LayoutModel",
      "state": {}
     },
     "79f6dff93da1427288ae1ef7192c03ca": {
      "model_module": "@jupyter-widgets/controls",
      "model_module_version": "1.5.0",
      "model_name": "LabelModel",
      "state": {
       "layout": "IPY_MODEL_520c0fdbc0224976ad06a2888cd442a7",
       "style": "IPY_MODEL_b7dd4fd76c4748928b4057937f4c1516",
       "value": "2020-03-18T21:25:26.495620+00:00"
      }
     },
     "7a940858e5d543ca89454572f97ea974": {
      "model_module": "@jupyter-widgets/base",
      "model_module_version": "1.2.0",
      "model_name": "LayoutModel",
      "state": {}
     },
     "7b3a915fb4594bfdb1d16003daee02c1": {
      "model_module": "@jupyter-widgets/base",
      "model_module_version": "1.2.0",
      "model_name": "LayoutModel",
      "state": {
       "width": "50%"
      }
     },
     "7b826d9f41464c35ae5531d5bb57f2bc": {
      "model_module": "@jupyter-widgets/controls",
      "model_module_version": "1.5.0",
      "model_name": "DescriptionStyleModel",
      "state": {
       "description_width": ""
      }
     },
     "7c03217174804674b45926a1cac1d7be": {
      "model_module": "@jupyter-widgets/base",
      "model_module_version": "1.2.0",
      "model_name": "LayoutModel",
      "state": {}
     },
     "7c5f387a20b94244b215f59498dfaf11": {
      "model_module": "@jupyter-widgets/base",
      "model_module_version": "1.2.0",
      "model_name": "LayoutModel",
      "state": {}
     },
     "7c8427013d0548308849ae079a46250f": {
      "model_module": "@jupyter-widgets/base",
      "model_module_version": "1.2.0",
      "model_name": "LayoutModel",
      "state": {}
     },
     "7d4c21cc8cbf4d64b6adc37583844769": {
      "model_module": "@jupyter-widgets/base",
      "model_module_version": "1.2.0",
      "model_name": "LayoutModel",
      "state": {}
     },
     "7daf322b6bcc4e958330bd4596230daf": {
      "model_module": "@jupyter-widgets/controls",
      "model_module_version": "1.5.0",
      "model_name": "DescriptionStyleModel",
      "state": {
       "description_width": ""
      }
     },
     "7dc5bb34d23c4c7e9377e20cc267b611": {
      "model_module": "@jupyter-widgets/controls",
      "model_module_version": "1.5.0",
      "model_name": "HBoxModel",
      "state": {
       "children": [
        "IPY_MODEL_75bb707999fb4ef98bdff541198a6fd6",
        "IPY_MODEL_e454f4430b6c4809b8b6a606a05cb993"
       ],
       "layout": "IPY_MODEL_d276e6ac27e548b0b0972144d49dd332"
      }
     },
     "7e0b1ca056c6467eb9c851d7636d9cc2": {
      "model_module": "@jupyter-widgets/base",
      "model_module_version": "1.2.0",
      "model_name": "LayoutModel",
      "state": {}
     },
     "7e2d8db0a71c49e78ebb1a5f6d3d6c30": {
      "model_module": "@jupyter-widgets/controls",
      "model_module_version": "1.5.0",
      "model_name": "DescriptionStyleModel",
      "state": {
       "description_width": ""
      }
     },
     "7e4612e775294e3ab0d2d03b1e47b1bc": {
      "model_module": "@jupyter-widgets/base",
      "model_module_version": "1.2.0",
      "model_name": "LayoutModel",
      "state": {}
     },
     "7eb68c8d80934829869344f368084a76": {
      "model_module": "@jupyter-widgets/controls",
      "model_module_version": "1.5.0",
      "model_name": "HBoxModel",
      "state": {
       "children": [
        "IPY_MODEL_b323fce9663c4e8781c617cc12cb0fda",
        "IPY_MODEL_7857c1983203420085a200e62bda8889"
       ],
       "layout": "IPY_MODEL_c9d92d8431f845869b2510c6b8b42db2"
      }
     },
     "7f075977c7674e0d9d102470e1694dd9": {
      "model_module": "@jupyter-widgets/controls",
      "model_module_version": "1.5.0",
      "model_name": "DescriptionStyleModel",
      "state": {
       "description_width": ""
      }
     },
     "7f3ded5199514703b03b029a4b2b5a49": {
      "model_module": "@jupyter-widgets/base",
      "model_module_version": "1.2.0",
      "model_name": "LayoutModel",
      "state": {}
     },
     "7f9502193ebe4c8a90a3ad3f8abc13ac": {
      "model_module": "@jupyter-widgets/controls",
      "model_module_version": "1.5.0",
      "model_name": "DescriptionStyleModel",
      "state": {
       "description_width": "initial"
      }
     },
     "7f9e3c0656054011919158e37c326541": {
      "model_module": "@jupyter-widgets/controls",
      "model_module_version": "1.5.0",
      "model_name": "TextModel",
      "state": {
       "description": "deep_aks_name",
       "layout": "IPY_MODEL_ea1d324a79264d65bdb9d19b2d3e3a95",
       "placeholder": "AKS Cluster Name",
       "style": "IPY_MODEL_659129bc7d824c868213b7dc34f96640",
       "value": "deepakscluster"
      }
     },
     "7fde7198e36244c4a9aaeee208dd0143": {
      "model_module": "@jupyter-widgets/controls",
      "model_module_version": "1.5.0",
      "model_name": "HTMLModel",
      "state": {
       "layout": "IPY_MODEL_3a1736b0dff14df38da356e325559ae3",
       "style": "IPY_MODEL_9fc4a162f79243018e9067754714a88d",
       "value": "<b>userTenantId:</b>"
      }
     },
     "7ffc84f2dbbf4428b02ac26da0fd718a": {
      "model_module": "@jupyter-widgets/base",
      "model_module_version": "1.2.0",
      "model_name": "LayoutModel",
      "state": {}
     },
     "80a0a7aa776e43c9ab68db994ab768c6": {
      "model_module": "@jupyter-widgets/controls",
      "model_module_version": "1.5.0",
      "model_name": "AccordionModel",
      "state": {
       "_titles": {
        "0": "autoScaler"
       },
       "children": [
        "IPY_MODEL_0c437844f9c44c348debb3f9a7fd237f"
       ],
       "layout": "IPY_MODEL_9fe9a440c0bd40b2a93b6a3b11f85203"
      }
     },
     "80ea047f1519412dbf88a93198403380": {
      "model_module": "@jupyter-widgets/base",
      "model_module_version": "1.2.0",
      "model_name": "LayoutModel",
      "state": {}
     },
     "80edf0a6a9ec4f61bcf25bccaf571c78": {
      "model_module": "@jupyter-widgets/base",
      "model_module_version": "1.2.0",
      "model_name": "LayoutModel",
      "state": {
       "width": "50%"
      }
     },
     "817c33b5a7664b449f222130c5b1c936": {
      "model_module": "@jupyter-widgets/controls",
      "model_module_version": "1.5.0",
      "model_name": "DescriptionStyleModel",
      "state": {
       "description_width": "initial"
      }
     },
     "8182fc879f904d72b495d5ab59ee1cd2": {
      "model_module": "@jupyter-widgets/controls",
      "model_module_version": "1.5.0",
      "model_name": "HBoxModel",
      "state": {
       "children": [
        "IPY_MODEL_0d2502f1f8524231aff25389344c08d1",
        "IPY_MODEL_616941d6d18f46b59412621896209d1a"
       ],
       "layout": "IPY_MODEL_2f40811a8033443d9f17f3004228e04a"
      }
     },
     "81b9442d1dd944f29b7efcfeee8d99a2": {
      "model_module": "@jupyter-widgets/controls",
      "model_module_version": "1.5.0",
      "model_name": "HBoxModel",
      "state": {
       "children": [
        "IPY_MODEL_78b7355886ba4595bf02da1684cc3311",
        "IPY_MODEL_79f6dff93da1427288ae1ef7192c03ca"
       ],
       "layout": "IPY_MODEL_b24348ea8c304776b8891e5852fd5cd9"
      }
     },
     "81f5131a213045bebda722fa4c055583": {
      "model_module": "@jupyter-widgets/controls",
      "model_module_version": "1.5.0",
      "model_name": "LabelModel",
      "state": {
       "layout": "IPY_MODEL_362ab95f30ef488788545a304067738c",
       "style": "IPY_MODEL_7235a2467e79431e9ce298c5c3c2542a",
       "value": "None"
      }
     },
     "820a6f7629124d7f8c22cc797064ad26": {
      "model_module": "@jupyter-widgets/base",
      "model_module_version": "1.2.0",
      "model_name": "LayoutModel",
      "state": {
       "align_content": "center",
       "height": "80px",
       "width": "80%"
      }
     },
     "823f364ba9af40d5ba34d7def03eefd5": {
      "model_module": "@jupyter-widgets/base",
      "model_module_version": "1.2.0",
      "model_name": "LayoutModel",
      "state": {
       "height": "80px",
       "justify_content": "center",
       "width": "80%"
      }
     },
     "82841a37f5da491b894fa75384c6665d": {
      "model_module": "@jupyter-widgets/base",
      "model_module_version": "1.2.0",
      "model_name": "LayoutModel",
      "state": {}
     },
     "843aa69d3dfa49db8c67982d4016056e": {
      "model_module": "@jupyter-widgets/controls",
      "model_module_version": "1.5.0",
      "model_name": "LabelModel",
      "state": {
       "layout": "IPY_MODEL_b07b3c17aa4448aab50bc20c57cd9eae",
       "style": "IPY_MODEL_7310fa5f484a47d0af9662b4854e062f",
       "value": "1003BFFD8BE61032"
      }
     },
     "844732b444444baab2221af416771e23": {
      "model_module": "@jupyter-widgets/controls",
      "model_module_version": "1.5.0",
      "model_name": "HBoxModel",
      "state": {
       "children": [
        "IPY_MODEL_57a58109ba7c46d9bfe7a39a3b66dd5f",
        "IPY_MODEL_f8e8e3e643e44bf4abee3da20a777996"
       ],
       "layout": "IPY_MODEL_b4788d5ffe994748a50ad488acc4ba52"
      }
     },
     "849998c6d3f14c0cba6dd836c84694c9": {
      "model_module": "@jupyter-widgets/base",
      "model_module_version": "1.2.0",
      "model_name": "LayoutModel",
      "state": {}
     },
     "850977e1c6934d2f8f7682f183e24073": {
      "model_module": "@jupyter-widgets/controls",
      "model_module_version": "1.5.0",
      "model_name": "HBoxModel",
      "state": {
       "children": [
        "IPY_MODEL_4b919e3c0ac241e78e238b30c3c26e79",
        "IPY_MODEL_68d3314e41844eb2bcfbcfbc33f7f916"
       ],
       "layout": "IPY_MODEL_dbf655e5bbb54b4d927a3ed4f795872e"
      }
     },
     "85f4ebb6301847388c73730d280a59c0": {
      "model_module": "@jupyter-widgets/controls",
      "model_module_version": "1.5.0",
      "model_name": "HBoxModel",
      "state": {
       "children": [
        "IPY_MODEL_54f9f0ff0fd7450d92eaf1740c36711b",
        "IPY_MODEL_d292397b867f4452a218230f85e29ad4"
       ],
       "layout": "IPY_MODEL_4270d4e736c0462ab4b3959d5e0b3211"
      }
     },
     "8607e5b0cff840efa96f5757e2c83477": {
      "model_module": "@jupyter-widgets/base",
      "model_module_version": "1.2.0",
      "model_name": "LayoutModel",
      "state": {}
     },
     "861bfbd6a0454dae85b65cd2bcc5f0b4": {
      "model_module": "@jupyter-widgets/controls",
      "model_module_version": "1.5.0",
      "model_name": "DescriptionStyleModel",
      "state": {
       "description_width": ""
      }
     },
     "862cbad9b16746269a08b45052713c2e": {
      "model_module": "@jupyter-widgets/controls",
      "model_module_version": "1.5.0",
      "model_name": "DescriptionStyleModel",
      "state": {
       "description_width": ""
      }
     },
     "864ef2694e634a1b937f89a36ed48144": {
      "model_module": "@jupyter-widgets/controls",
      "model_module_version": "1.5.0",
      "model_name": "DescriptionStyleModel",
      "state": {
       "description_width": ""
      }
     },
     "86617494ace44568b0e37124f081d433": {
      "model_module": "@jupyter-widgets/controls",
      "model_module_version": "1.5.0",
      "model_name": "HBoxModel",
      "state": {
       "children": [
        "IPY_MODEL_8d2438bddd2d4e88b481e38354e54da6",
        "IPY_MODEL_17d136fd141348fd83f2f7beb72c127c"
       ],
       "layout": "IPY_MODEL_a8762097575840f587125a7c58cd2294"
      }
     },
     "8684f3c954214cef96efd4d04523298d": {
      "model_module": "@jupyter-widgets/controls",
      "model_module_version": "1.5.0",
      "model_name": "HBoxModel",
      "state": {
       "children": [
        "IPY_MODEL_b74d2b57d29b42f1b1c537438ca9b20a",
        "IPY_MODEL_3dcc751ddc32462194f2222be5c60a50"
       ],
       "layout": "IPY_MODEL_e50802a8bb684e73bcfa60699c16a512"
      }
     },
     "871e11ea52dd4cee81934d3b1b91c44e": {
      "model_module": "@jupyter-widgets/base",
      "model_module_version": "1.2.0",
      "model_name": "LayoutModel",
      "state": {}
     },
     "873fe33e2fb34c84843465e23e8c6a10": {
      "model_module": "@jupyter-widgets/controls",
      "model_module_version": "1.5.0",
      "model_name": "LabelModel",
      "state": {
       "layout": "IPY_MODEL_caec676f56c04f7097572174288dbba7",
       "style": "IPY_MODEL_30243dc3ef364d159b690c119d55bb97",
       "value": "https://sts.windows.net/72f988bf-86f1-41af-91ab-2d7cd011db47/"
      }
     },
     "8798522176444598abeaf45e891b3e56": {
      "model_module": "@jupyter-widgets/controls",
      "model_module_version": "1.5.0",
      "model_name": "DropdownModel",
      "state": {
       "_options_labels": [
        "eastus",
        "eastus2",
        "canadacentral",
        "centralus",
        "northcentralus",
        "southcentralus",
        "westcentralus",
        "westus",
        "westus2"
       ],
       "description": "deep_aks_location",
       "index": 0,
       "layout": "IPY_MODEL_2da79c4e18bc4bbb9ad632ced08bc72c",
       "style": "IPY_MODEL_50e4b169bba5496e8c4ab3d8d0304b84"
      }
     },
     "87e44a7bca344c4bb0b270ca2250031a": {
      "model_module": "@jupyter-widgets/controls",
      "model_module_version": "1.5.0",
      "model_name": "DescriptionStyleModel",
      "state": {
       "description_width": ""
      }
     },
     "880119be3a5740ef85686cdfe922eba2": {
      "model_module": "@jupyter-widgets/base",
      "model_module_version": "1.2.0",
      "model_name": "LayoutModel",
      "state": {}
     },
     "881e3a12135442f1bea103ae2dfcc72d": {
      "model_module": "@jupyter-widgets/controls",
      "model_module_version": "1.5.0",
      "model_name": "DescriptionStyleModel",
      "state": {
       "description_width": ""
      }
     },
     "8841f91c964141d3a90a4a28bc56f379": {
      "model_module": "@jupyter-widgets/controls",
      "model_module_version": "1.5.0",
      "model_name": "HBoxModel",
      "state": {
       "children": [
        "IPY_MODEL_2d8f767dcd7748678db398fccc3a54de",
        "IPY_MODEL_d96a1887447e4f81adc11824fac47f30"
       ],
       "layout": "IPY_MODEL_f2a5f52dc9da4fc386f5fd9299a902f5"
      }
     },
     "88dde4741a034bc8ad0bd4835c782bcb": {
      "model_module": "@jupyter-widgets/controls",
      "model_module_version": "1.5.0",
      "model_name": "VBoxModel",
      "state": {
       "children": [
        "IPY_MODEL_c14deed2fb3145718c9511718e722db7"
       ],
       "layout": "IPY_MODEL_e5030196a21c4993ae3ee6b43f22f7eb"
      }
     },
     "88e4e13462e1475ead1f95c148e44655": {
      "model_module": "@jupyter-widgets/base",
      "model_module_version": "1.2.0",
      "model_name": "LayoutModel",
      "state": {}
     },
     "88f9462d16d54449afd33fa905ea593f": {
      "model_module": "@jupyter-widgets/controls",
      "model_module_version": "1.5.0",
      "model_name": "HTMLModel",
      "state": {
       "layout": "IPY_MODEL_0ad56fbf51f847f8a9317bfd70b25f97",
       "style": "IPY_MODEL_d8ab194221d24b8cb5cfbe7d05db0232",
       "value": "<b>message:</b>"
      }
     },
     "8947847caa114503b89cddb92c35c17b": {
      "model_module": "@jupyter-widgets/base",
      "model_module_version": "1.2.0",
      "model_name": "LayoutModel",
      "state": {}
     },
     "8987279c0ebb4cc1b4d91977c43d769d": {
      "model_module": "@jupyter-widgets/controls",
      "model_module_version": "1.5.0",
      "model_name": "AccordionModel",
      "state": {
       "_titles": {
        "0": "Main",
        "1": "Performance"
       },
       "children": [
        "IPY_MODEL_88dde4741a034bc8ad0bd4835c782bcb",
        "IPY_MODEL_3d2f867db6e44a06adce3f3eb6f37623"
       ],
       "layout": "IPY_MODEL_4e326ebba64d4663bb00cd2593f3190e"
      }
     },
     "898c4714e77347038e5513857f121d73": {
      "model_module": "@jupyter-widgets/base",
      "model_module_version": "1.2.0",
      "model_name": "LayoutModel",
      "state": {}
     },
     "89dd38778ac8487c92d782128ab69666": {
      "model_module": "@jupyter-widgets/base",
      "model_module_version": "1.2.0",
      "model_name": "LayoutModel",
      "state": {}
     },
     "89e7e8c457a94976a9920e75aa3b2aab": {
      "model_module": "@jupyter-widgets/controls",
      "model_module_version": "1.5.0",
      "model_name": "DescriptionStyleModel",
      "state": {
       "description_width": ""
      }
     },
     "8a62de0aa6a54215bf7bbd5b1e12f3ce": {
      "model_module": "@jupyter-widgets/controls",
      "model_module_version": "1.5.0",
      "model_name": "LabelModel",
      "state": {
       "layout": "IPY_MODEL_8b9f0840f12542c89a60ebc2485ae06e",
       "style": "IPY_MODEL_881e3a12135442f1bea103ae2dfcc72d",
       "value": "e6cc2e17-5968-49e6-bb8f-9fb978a0d450"
      }
     },
     "8ae929a9c3654a79b42660396e909999": {
      "model_module": "@jupyter-widgets/controls",
      "model_module_version": "1.5.0",
      "model_name": "LabelModel",
      "state": {
       "layout": "IPY_MODEL_4df3dfde89584a0c82ab38fd349f3c58",
       "style": "IPY_MODEL_a1afb8ae91f94eb2b0aa5a0d1ed229bf",
       "value": "azmlrts-eastus"
      }
     },
     "8b4f4ed76aaf48ee9f85e63810533984": {
      "model_module": "@jupyter-widgets/base",
      "model_module_version": "1.2.0",
      "model_name": "LayoutModel",
      "state": {
       "width": "80%"
      }
     },
     "8b82f971cc6f40dcad30572033b1a4c9": {
      "model_module": "@jupyter-widgets/controls",
      "model_module_version": "1.5.0",
      "model_name": "VBoxModel",
      "state": {
       "children": [
        "IPY_MODEL_311d959cea994a0084fb9759251d2245",
        "IPY_MODEL_23819790dc424831811a767fa14fcb3e",
        "IPY_MODEL_2d5c9d063803445098f271c5bf323f41"
       ],
       "layout": "IPY_MODEL_9c603373dbdc4444ad6cae685b9f2767"
      }
     },
     "8b9f0840f12542c89a60ebc2485ae06e": {
      "model_module": "@jupyter-widgets/base",
      "model_module_version": "1.2.0",
      "model_name": "LayoutModel",
      "state": {}
     },
     "8bff5ecab7b34bfbbee7cbf517c86074": {
      "model_module": "@jupyter-widgets/base",
      "model_module_version": "1.2.0",
      "model_name": "LayoutModel",
      "state": {}
     },
     "8c0ea425d356447b908f61f8a7c578f4": {
      "model_module": "@jupyter-widgets/controls",
      "model_module_version": "1.5.0",
      "model_name": "DescriptionStyleModel",
      "state": {
       "description_width": ""
      }
     },
     "8c41d7d73490408fba0ff61f0a643157": {
      "model_module": "@jupyter-widgets/base",
      "model_module_version": "1.2.0",
      "model_name": "LayoutModel",
      "state": {}
     },
     "8d097712d9e64e628255aa42ad73c154": {
      "model_module": "@jupyter-widgets/base",
      "model_module_version": "1.2.0",
      "model_name": "LayoutModel",
      "state": {}
     },
     "8d2438bddd2d4e88b481e38354e54da6": {
      "model_module": "@jupyter-widgets/controls",
      "model_module_version": "1.5.0",
      "model_name": "HTMLModel",
      "state": {
       "layout": "IPY_MODEL_e89ba5d221244757871aedb016802c1c",
       "style": "IPY_MODEL_ddfbd35fd45e4f3f8d85e68e150408a0",
       "value": "<b>memoryInGB:</b>"
      }
     },
     "8d9e9342dfb640408ff6341d83848c4e": {
      "model_module": "@jupyter-widgets/controls",
      "model_module_version": "1.5.0",
      "model_name": "DescriptionStyleModel",
      "state": {
       "description_width": ""
      }
     },
     "8dde393393cd48629a06fcf4f5760e8c": {
      "model_module": "@jupyter-widgets/base",
      "model_module_version": "1.2.0",
      "model_name": "LayoutModel",
      "state": {
       "width": "50%"
      }
     },
     "8e06f1d6670447b79041b182776b11df": {
      "model_module": "@jupyter-widgets/controls",
      "model_module_version": "1.5.0",
      "model_name": "DescriptionStyleModel",
      "state": {
       "description_width": ""
      }
     },
     "8f02f2bd54104f16ac5f10b5d1e3f23c": {
      "model_module": "@jupyter-widgets/base",
      "model_module_version": "1.2.0",
      "model_name": "LayoutModel",
      "state": {}
     },
     "8f32adfcad06480ea220abadf51392d2": {
      "model_module": "@jupyter-widgets/base",
      "model_module_version": "1.2.0",
      "model_name": "LayoutModel",
      "state": {}
     },
     "8f3fedc06cde45bdb529318ef009bb5e": {
      "model_module": "@jupyter-widgets/base",
      "model_module_version": "1.2.0",
      "model_name": "LayoutModel",
      "state": {}
     },
     "8ff4a873781046a1ba25c6256b9102f1": {
      "model_module": "@jupyter-widgets/base",
      "model_module_version": "1.2.0",
      "model_name": "LayoutModel",
      "state": {}
     },
     "90a805e4b36943108ac9b99065d7f2e2": {
      "model_module": "@jupyter-widgets/controls",
      "model_module_version": "1.5.0",
      "model_name": "HBoxModel",
      "state": {
       "children": [
        "IPY_MODEL_abef8d5e627c43999dfa68ea510ae53d",
        "IPY_MODEL_ad838a0bc920462aba372c7bbb31447b"
       ],
       "layout": "IPY_MODEL_ee86355c81bf4a59829d49ca18f1186d"
      }
     },
     "90c61e83d0d847d9ac6db0eb7b9c1c7d": {
      "model_module": "@jupyter-widgets/controls",
      "model_module_version": "1.5.0",
      "model_name": "HBoxModel",
      "state": {
       "children": [
        "IPY_MODEL_e97016901e6341979986f469227421df",
        "IPY_MODEL_ed8b675a9b754d25b2642a482bc1bcd2"
       ],
       "layout": "IPY_MODEL_f9b5d1a508d54fa98b318e6215381bbb"
      }
     },
     "911f9e82d8394b50945e91350ea11249": {
      "model_module": "@jupyter-widgets/output",
      "model_module_version": "1.0.0",
      "model_name": "OutputModel",
      "state": {
       "layout": "IPY_MODEL_ab1fb4cab8774cdcb60eaf534b964ee8"
      }
     },
     "914130b3a074437a9accd4a1bf354a5c": {
      "model_module": "@jupyter-widgets/controls",
      "model_module_version": "1.5.0",
      "model_name": "HTMLModel",
      "state": {
       "layout": "IPY_MODEL_fb1089a97b5840d796220a5316191305",
       "style": "IPY_MODEL_f9b51fc39aad4e118fd162299b54a1b9",
       "value": "<b>azureml.git.dirty:</b>"
      }
     },
     "9168d5bd16584abbbf13d9b20a88b3a3": {
      "model_module": "@jupyter-widgets/controls",
      "model_module_version": "1.5.0",
      "model_name": "HTMLModel",
      "state": {
       "layout": "IPY_MODEL_89dd38778ac8487c92d782128ab69666",
       "style": "IPY_MODEL_c715fdefd51d4591aab034a8f81b8353",
       "value": "<b>userAltSecId:</b>"
      }
     },
     "918953e51f1e4f4da629e09a472cdffb": {
      "model_module": "@jupyter-widgets/controls",
      "model_module_version": "1.5.0",
      "model_name": "DescriptionStyleModel",
      "state": {
       "description_width": ""
      }
     },
     "91c1a1099fe74145bb0bf059cd4e0a82": {
      "model_module": "@jupyter-widgets/base",
      "model_module_version": "1.2.0",
      "model_name": "LayoutModel",
      "state": {}
     },
     "91c688cbf9014a20a5b6deb7863082db": {
      "model_module": "@jupyter-widgets/base",
      "model_module_version": "1.2.0",
      "model_name": "LayoutModel",
      "state": {}
     },
     "92986099e14f4265a8bad56b2ca0fdf1": {
      "model_module": "@jupyter-widgets/controls",
      "model_module_version": "1.5.0",
      "model_name": "LabelModel",
      "state": {
       "layout": "IPY_MODEL_e037226577e046fea6e14f4ad649bbeb",
       "style": "IPY_MODEL_3545323ed97e4d48946a4f609d90f230",
       "value": "500"
      }
     },
     "9376555e50154cc9a81a1290910ec822": {
      "model_module": "@jupyter-widgets/controls",
      "model_module_version": "1.5.0",
      "model_name": "HBoxModel",
      "state": {
       "children": [
        "IPY_MODEL_3094f0c0ec64476da011a777d0969ce4",
        "IPY_MODEL_78b2e5ede43e4968a5ef58bc676fc1bb"
       ],
       "layout": "IPY_MODEL_e761b2590c32405ab424c98dee0a28ba"
      }
     },
     "941bcb14f0f24a6aa8d5cd8102434cc1": {
      "model_module": "@jupyter-widgets/base",
      "model_module_version": "1.2.0",
      "model_name": "LayoutModel",
      "state": {
       "width": "80%"
      }
     },
     "9465ef84981f4bceaa0e05359b5f96ee": {
      "model_module": "@jupyter-widgets/controls",
      "model_module_version": "1.5.0",
      "model_name": "HBoxModel",
      "state": {
       "children": [
        "IPY_MODEL_bd30e88711114e5ea33265d1e30bf753",
        "IPY_MODEL_afa6a8cf55d74e34a39fe9038806867b"
       ],
       "layout": "IPY_MODEL_665fa8dbfbea433dad134e8122843b05"
      }
     },
     "946d637885664915a139ddb03e11a744": {
      "model_module": "@jupyter-widgets/controls",
      "model_module_version": "1.5.0",
      "model_name": "DescriptionStyleModel",
      "state": {
       "description_width": ""
      }
     },
     "949eaa1d264647a599bbda444b9e2c65": {
      "model_module": "@jupyter-widgets/controls",
      "model_module_version": "1.5.0",
      "model_name": "HBoxModel",
      "state": {
       "children": [
        "IPY_MODEL_b29f9cff659d48eebe68522ee29d55f5",
        "IPY_MODEL_92986099e14f4265a8bad56b2ca0fdf1"
       ],
       "layout": "IPY_MODEL_3e23e7483bb94f1daee21910c3e06ec5"
      }
     },
     "94aa2b07d7764e6f83fc369e35fef8df": {
      "model_module": "@jupyter-widgets/controls",
      "model_module_version": "1.5.0",
      "model_name": "DescriptionStyleModel",
      "state": {
       "description_width": ""
      }
     },
     "94be80b2677d46e5a711d3c5b8d677b0": {
      "model_module": "@jupyter-widgets/base",
      "model_module_version": "1.2.0",
      "model_name": "LayoutModel",
      "state": {}
     },
     "94ec2bf7139e4d3380752482918ef518": {
      "model_module": "@jupyter-widgets/base",
      "model_module_version": "1.2.0",
      "model_name": "LayoutModel",
      "state": {}
     },
     "95240fee60324e6f9dc6f9ea6c29ccda": {
      "model_module": "@jupyter-widgets/controls",
      "model_module_version": "1.5.0",
      "model_name": "HTMLModel",
      "state": {
       "layout": "IPY_MODEL_b5967fe16b274df183a37c24502b9824",
       "style": "IPY_MODEL_74adc20bcc244a89af5b4d83f7b109b7",
       "value": "<b>experimentName:</b>"
      }
     },
     "966606a02de9466fb2f4c46147d122ae": {
      "model_module": "@jupyter-widgets/base",
      "model_module_version": "1.2.0",
      "model_name": "LayoutModel",
      "state": {}
     },
     "969770b5b3e84c309cdc0533d21f145c": {
      "model_module": "@jupyter-widgets/base",
      "model_module_version": "1.2.0",
      "model_name": "LayoutModel",
      "state": {}
     },
     "96a4c621f2934a6d89ef9bbd791fd095": {
      "model_module": "@jupyter-widgets/base",
      "model_module_version": "1.2.0",
      "model_name": "LayoutModel",
      "state": {}
     },
     "97e2ad916d87428aa5b176ce7d26b453": {
      "model_module": "@jupyter-widgets/controls",
      "model_module_version": "1.5.0",
      "model_name": "DescriptionStyleModel",
      "state": {
       "description_width": ""
      }
     },
     "98438e17c6564e49ac22ac904fef0f3d": {
      "model_module": "@jupyter-widgets/controls",
      "model_module_version": "1.5.0",
      "model_name": "DescriptionStyleModel",
      "state": {
       "description_width": ""
      }
     },
     "98785d89b99f465894b66c78b213a86e": {
      "model_module": "@jupyter-widgets/controls",
      "model_module_version": "1.5.0",
      "model_name": "LabelModel",
      "state": {
       "layout": "IPY_MODEL_4e3f9c1004e14bff9b13426255afb2aa",
       "style": "IPY_MODEL_5f9550ef319c44c7be50be75ed5116a1",
       "value": "None"
      }
     },
     "992618db07ca4c8f94a75470caad3104": {
      "model_module": "@jupyter-widgets/controls",
      "model_module_version": "1.5.0",
      "model_name": "HTMLModel",
      "state": {
       "layout": "IPY_MODEL_245d6e29a8c340b99ebbda5ea723289d",
       "style": "IPY_MODEL_3a739bb2a46942ceb684ea2c7cb363de",
       "value": "<b>version:</b>"
      }
     },
     "99964851ca88435fb023248c69cb8a16": {
      "model_module": "@jupyter-widgets/base",
      "model_module_version": "1.2.0",
      "model_name": "LayoutModel",
      "state": {}
     },
     "9a7717b73f4f4b4d88fe1f8ac621c23a": {
      "model_module": "@jupyter-widgets/controls",
      "model_module_version": "1.5.0",
      "model_name": "HTMLModel",
      "state": {
       "layout": "IPY_MODEL_7c8427013d0548308849ae079a46250f",
       "style": "IPY_MODEL_7f075977c7674e0d9d102470e1694dd9",
       "value": "<b>r:</b>"
      }
     },
     "9b0d221503254c7595ea3ec1880694eb": {
      "model_module": "@jupyter-widgets/controls",
      "model_module_version": "1.5.0",
      "model_name": "HBoxModel",
      "state": {
       "children": [
        "IPY_MODEL_d507edea85594fd390d4af3a5484b1bb",
        "IPY_MODEL_bcc0ec8c163f4dc79471e04a8341d02d"
       ],
       "layout": "IPY_MODEL_6840c669d07e45ce80b11b490a171e03"
      }
     },
     "9b901f8fe5b9455494969f1f257fbd56": {
      "model_module": "@jupyter-widgets/controls",
      "model_module_version": "1.5.0",
      "model_name": "DescriptionStyleModel",
      "state": {
       "description_width": ""
      }
     },
     "9c603373dbdc4444ad6cae685b9f2767": {
      "model_module": "@jupyter-widgets/base",
      "model_module_version": "1.2.0",
      "model_name": "LayoutModel",
      "state": {}
     },
     "9ce836cdc77d4faf9e482c8370f9bd48": {
      "model_module": "@jupyter-widgets/base",
      "model_module_version": "1.2.0",
      "model_name": "LayoutModel",
      "state": {}
     },
     "9d118614ccdc4a59ae62fe2fdd3434ba": {
      "model_module": "@jupyter-widgets/base",
      "model_module_version": "1.2.0",
      "model_name": "LayoutModel",
      "state": {}
     },
     "9d4c8d9859cf41d48227e389b18f5aa2": {
      "model_module": "@jupyter-widgets/controls",
      "model_module_version": "1.5.0",
      "model_name": "DescriptionStyleModel",
      "state": {
       "description_width": ""
      }
     },
     "9da23fd688284aaca57a95317a43d06b": {
      "model_module": "@jupyter-widgets/base",
      "model_module_version": "1.2.0",
      "model_name": "LayoutModel",
      "state": {}
     },
     "9db9625a8bc24b20a8f9f33021952158": {
      "model_module": "@jupyter-widgets/base",
      "model_module_version": "1.2.0",
      "model_name": "LayoutModel",
      "state": {}
     },
     "9de66ffc29c44540987872c90ea5a27e": {
      "model_module": "@jupyter-widgets/base",
      "model_module_version": "1.2.0",
      "model_name": "LayoutModel",
      "state": {}
     },
     "9df491fec18f42bf9c4d89d641e5fa05": {
      "model_module": "@jupyter-widgets/controls",
      "model_module_version": "1.5.0",
      "model_name": "HTMLModel",
      "state": {
       "layout": "IPY_MODEL_209ff909690342fdb9db0f53cb8d732c",
       "style": "IPY_MODEL_97e2ad916d87428aa5b176ce7d26b453",
       "value": "<b>mlflow.source.git.branch:</b>"
      }
     },
     "9e17c62f8d4944738f285b683b18754c": {
      "model_module": "@jupyter-widgets/controls",
      "model_module_version": "1.5.0",
      "model_name": "HBoxModel",
      "state": {
       "children": [
        "IPY_MODEL_518d3d4a78bd40ab801dfe6777e9d981",
        "IPY_MODEL_464cb7ec8929424987a1e1a1603d8299"
       ],
       "layout": "IPY_MODEL_b259bea13b7841ddb91a3a94d12a789b"
      }
     },
     "9e6c46b87db84da1a27a7b8f1d91d037": {
      "model_module": "@jupyter-widgets/controls",
      "model_module_version": "1.5.0",
      "model_name": "DescriptionStyleModel",
      "state": {
       "description_width": ""
      }
     },
     "9f303bc0f2164012bbf1df6030738186": {
      "model_module": "@jupyter-widgets/controls",
      "model_module_version": "1.5.0",
      "model_name": "HBoxModel",
      "state": {
       "children": [
        "IPY_MODEL_88f9462d16d54449afd33fa905ea593f",
        "IPY_MODEL_f10c8e3eefc9444c860495a039152ee5"
       ],
       "layout": "IPY_MODEL_0d346543b67e4da388f625b45861e3e0"
      }
     },
     "9f98652b2759469e901fe70fed43d58e": {
      "model_module": "@jupyter-widgets/controls",
      "model_module_version": "1.5.0",
      "model_name": "DescriptionStyleModel",
      "state": {
       "description_width": ""
      }
     },
     "9fc4a162f79243018e9067754714a88d": {
      "model_module": "@jupyter-widgets/controls",
      "model_module_version": "1.5.0",
      "model_name": "DescriptionStyleModel",
      "state": {
       "description_width": ""
      }
     },
     "9fe9a440c0bd40b2a93b6a3b11f85203": {
      "model_module": "@jupyter-widgets/base",
      "model_module_version": "1.2.0",
      "model_name": "LayoutModel",
      "state": {}
     },
     "a067e06876604dcc8d7e4a16e916aef0": {
      "model_module": "@jupyter-widgets/controls",
      "model_module_version": "1.5.0",
      "model_name": "HTMLModel",
      "state": {
       "layout": "IPY_MODEL_b332f19d55be4acc8db261c036385ca4",
       "style": "IPY_MODEL_b1ac1706b1cb47e7908abfbde8b63d19",
       "value": "<b>deploymentStatus:</b>"
      }
     },
     "a0a37775d5d04f538ec15ee479aaf843": {
      "model_module": "@jupyter-widgets/controls",
      "model_module_version": "1.5.0",
      "model_name": "HTMLModel",
      "state": {
       "layout": "IPY_MODEL_94be80b2677d46e5a711d3c5b8d677b0",
       "style": "IPY_MODEL_0f2cedbc6bed4ea9a253454fa09ba8ba",
       "value": "<b>userObjectId:</b>"
      }
     },
     "a0cdf936ebd54dbb84d26434784875df": {
      "model_module": "@jupyter-widgets/controls",
      "model_module_version": "1.5.0",
      "model_name": "LabelModel",
      "state": {
       "layout": "IPY_MODEL_70674147e1564029a064e6d0bdd16dbf",
       "style": "IPY_MODEL_4c84c4af4a564016bb376a4780c5a3e7",
       "value": "https://github.com/microsoft/AI-Utilities.git"
      }
     },
     "a1701c0f8a2b4636b957bb9f7c7f6580": {
      "model_module": "@jupyter-widgets/base",
      "model_module_version": "1.2.0",
      "model_name": "LayoutModel",
      "state": {
       "width": "50%"
      }
     },
     "a1afb8ae91f94eb2b0aa5a0d1ed229bf": {
      "model_module": "@jupyter-widgets/controls",
      "model_module_version": "1.5.0",
      "model_name": "DescriptionStyleModel",
      "state": {
       "description_width": ""
      }
     },
     "a28593ca5c2a4258b92bf4ec31d274fa": {
      "model_module": "@jupyter-widgets/base",
      "model_module_version": "1.2.0",
      "model_name": "LayoutModel",
      "state": {}
     },
     "a2d87cd7b10f41819cb9b462af74510e": {
      "model_module": "@jupyter-widgets/controls",
      "model_module_version": "1.5.0",
      "model_name": "VBoxModel",
      "state": {
       "children": [
        "IPY_MODEL_7eb68c8d80934829869344f368084a76",
        "IPY_MODEL_499330f202794a968a40eb0e85e96978",
        "IPY_MODEL_5479da1440314d3dbdd75005f6381ec9",
        "IPY_MODEL_b41f2188bbb4402dbdc04aded69019d5",
        "IPY_MODEL_0ae881871e72434ebbfccca4a7ef9d20",
        "IPY_MODEL_9e17c62f8d4944738f285b683b18754c",
        "IPY_MODEL_217b221d92624ec1a06a0588488a0263",
        "IPY_MODEL_1a2c12d150fe4aba99e774e52aed890b",
        "IPY_MODEL_4c6dc2a6a625415499c33e5080ae3a7b"
       ],
       "layout": "IPY_MODEL_dc7a3ab92902447bb44cebe9ae2e0360"
      }
     },
     "a2f00b2907494f9cafc0d0bfdc446922": {
      "model_module": "@jupyter-widgets/base",
      "model_module_version": "1.2.0",
      "model_name": "LayoutModel",
      "state": {}
     },
     "a349d5a2a44c4ee08949fdfbf35ae99e": {
      "model_module": "@jupyter-widgets/controls",
      "model_module_version": "1.5.0",
      "model_name": "LabelModel",
      "state": {
       "layout": "IPY_MODEL_baf98b177ae746b7975f2fd7b909f77e",
       "style": "IPY_MODEL_654a2c218da848a9a4c5be729d326d3b",
       "value": "[]"
      }
     },
     "a3761bac22924bd6926a6349f3c62c4e": {
      "model_module": "@jupyter-widgets/controls",
      "model_module_version": "1.5.0",
      "model_name": "HTMLModel",
      "state": {
       "layout": "IPY_MODEL_348fe5f0e6ca48b38fd9e5e8be2d78cd",
       "style": "IPY_MODEL_94aa2b07d7764e6f83fc369e35fef8df",
       "value": "<b>periodSeconds:</b>"
      }
     },
     "a3fe6276d4d24434b129e94ae32c067f": {
      "model_module": "@jupyter-widgets/controls",
      "model_module_version": "1.5.0",
      "model_name": "DescriptionStyleModel",
      "state": {
       "description_width": ""
      }
     },
     "a40cf2496e084e4282c5c2951ff8a077": {
      "model_module": "@jupyter-widgets/controls",
      "model_module_version": "1.5.0",
      "model_name": "DescriptionStyleModel",
      "state": {
       "description_width": ""
      }
     },
     "a4891aad6d60489cb3e3b74280d0ed45": {
      "model_module": "@jupyter-widgets/base",
      "model_module_version": "1.2.0",
      "model_name": "LayoutModel",
      "state": {}
     },
     "a5a98349cf684b17b933fca9b3b26a41": {
      "model_module": "@jupyter-widgets/controls",
      "model_module_version": "1.5.0",
      "model_name": "HTMLModel",
      "state": {
       "layout": "IPY_MODEL_59395506907f467cac66a4cf74fb4a82",
       "style": "IPY_MODEL_dfb647ba3e794b65adf18c2b7b995f94",
       "value": "<b>framework:</b>"
      }
     },
     "a5ad3d20668d4401955f0c8e71f3747d": {
      "model_module": "@jupyter-widgets/controls",
      "model_module_version": "1.5.0",
      "model_name": "ButtonStyleModel",
      "state": {}
     },
     "a732e9d3d8454c38ad0d0624a34e54e5": {
      "model_module": "@jupyter-widgets/controls",
      "model_module_version": "1.5.0",
      "model_name": "HBoxModel",
      "state": {
       "children": [
        "IPY_MODEL_a974c1b4bee140a581bd0e781ff62a30",
        "IPY_MODEL_8ae929a9c3654a79b42660396e909999"
       ],
       "layout": "IPY_MODEL_640fe2f81b8c4a5097f04b1c6c7acc71"
      }
     },
     "a76e6b57e458445ead562e7261d211de": {
      "model_module": "@jupyter-widgets/controls",
      "model_module_version": "1.5.0",
      "model_name": "HTMLModel",
      "state": {
       "layout": "IPY_MODEL_c32ced5b45514c05b7feb301db5e3ff0",
       "style": "IPY_MODEL_ce209eb35293432aabb585bb0cb4bf83",
       "value": "<b>aadAuthEnabled:</b>"
      }
     },
     "a78c4d081afd4553b06e4fea9ac72c93": {
      "model_module": "@jupyter-widgets/base",
      "model_module_version": "1.2.0",
      "model_name": "LayoutModel",
      "state": {}
     },
     "a7f3ae5daacd436682fd95e9f82e6c21": {
      "model_module": "@jupyter-widgets/controls",
      "model_module_version": "1.5.0",
      "model_name": "HBoxModel",
      "state": {
       "children": [
        "IPY_MODEL_76726dff1fc846f19baadd07771487f2",
        "IPY_MODEL_843aa69d3dfa49db8c67982d4016056e"
       ],
       "layout": "IPY_MODEL_25cd4aee93104be6a07114d68656c5bb"
      }
     },
     "a8181b658f664c02bf52cc9367679c58": {
      "model_module": "@jupyter-widgets/base",
      "model_module_version": "1.2.0",
      "model_name": "LayoutModel",
      "state": {}
     },
     "a8762097575840f587125a7c58cd2294": {
      "model_module": "@jupyter-widgets/base",
      "model_module_version": "1.2.0",
      "model_name": "LayoutModel",
      "state": {}
     },
     "a894cd43f3474de6ba4c0a1bb7d2bc7f": {
      "model_module": "@jupyter-widgets/base",
      "model_module_version": "1.2.0",
      "model_name": "LayoutModel",
      "state": {}
     },
     "a8a636d6b9f345a9a708cf3ea1d8a939": {
      "model_module": "@jupyter-widgets/base",
      "model_module_version": "1.2.0",
      "model_name": "LayoutModel",
      "state": {}
     },
     "a8af5ec3a2c14bb0aadad02b27118505": {
      "model_module": "@jupyter-widgets/controls",
      "model_module_version": "1.5.0",
      "model_name": "DescriptionStyleModel",
      "state": {
       "description_width": ""
      }
     },
     "a8bf1641329740ab8c77e402bad51775": {
      "model_module": "@jupyter-widgets/controls",
      "model_module_version": "1.5.0",
      "model_name": "DescriptionStyleModel",
      "state": {
       "description_width": ""
      }
     },
     "a8d00f5ac98e452980ae490684643d18": {
      "model_module": "@jupyter-widgets/controls",
      "model_module_version": "1.5.0",
      "model_name": "LabelModel",
      "state": {
       "layout": "IPY_MODEL_9da23fd688284aaca57a95317a43d06b",
       "style": "IPY_MODEL_a8af5ec3a2c14bb0aadad02b27118505",
       "value": "True"
      }
     },
     "a96ab8ac248c4dff9e4d3ed58fa6ab5f": {
      "model_module": "@jupyter-widgets/base",
      "model_module_version": "1.2.0",
      "model_name": "LayoutModel",
      "state": {}
     },
     "a974c1b4bee140a581bd0e781ff62a30": {
      "model_module": "@jupyter-widgets/controls",
      "model_module_version": "1.5.0",
      "model_name": "HTMLModel",
      "state": {
       "layout": "IPY_MODEL_e69d66d45a6c4669be5300d6e4af00f2",
       "style": "IPY_MODEL_46d6ffcf3422413fade965c23d9e4931",
       "value": "<b>workspaceName:</b>"
      }
     },
     "a9757eb2e8644733a987f3d3329de4eb": {
      "model_module": "@jupyter-widgets/base",
      "model_module_version": "1.2.0",
      "model_name": "LayoutModel",
      "state": {}
     },
     "a98076d3205e4a298109120a078f1378": {
      "model_module": "@jupyter-widgets/controls",
      "model_module_version": "1.5.0",
      "model_name": "HBoxModel",
      "state": {
       "children": [
        "IPY_MODEL_0a4ddce909dc4cac95de9bbfa6b5c2d0",
        "IPY_MODEL_05f0024aedd84fefa25ceae822333d22"
       ],
       "layout": "IPY_MODEL_d0ddcc0e50274db4b1bd17f2ad05c4ff"
      }
     },
     "aa0de50579064db58629a61f9bcb2eb7": {
      "model_module": "@jupyter-widgets/controls",
      "model_module_version": "1.5.0",
      "model_name": "HBoxModel",
      "state": {
       "children": [
        "IPY_MODEL_290e0fb66ade4212ba59e410de000d63",
        "IPY_MODEL_a349d5a2a44c4ee08949fdfbf35ae99e"
       ],
       "layout": "IPY_MODEL_65a42766bc78429487914ef48a037d54"
      }
     },
     "aa72309dcdd54f7692f7edd2712d25da": {
      "model_module": "@jupyter-widgets/controls",
      "model_module_version": "1.5.0",
      "model_name": "TabModel",
      "state": {
       "_titles": {
        "0": "ML Studio",
        "1": "Kubernetes",
        "2": "Application Insights"
       },
       "children": [
        "IPY_MODEL_43b4ae9149734a0b82ea1bfb9e60b5ca",
        "IPY_MODEL_8987279c0ebb4cc1b4d91977c43d769d",
        "IPY_MODEL_ac10bcfdd5e148e2abb7f1abe00512b5"
       ],
       "layout": "IPY_MODEL_b7291ab9df9f4e3a92057bd982ef794e"
      }
     },
     "aa92b561931f4a5184f5f4e8880ec503": {
      "model_module": "@jupyter-widgets/controls",
      "model_module_version": "1.5.0",
      "model_name": "VBoxModel",
      "state": {
       "children": [
        "IPY_MODEL_f547d46c69d740c28830f7c8a4d6a651",
        "IPY_MODEL_35d5b0cec4fa4a45a39e424edac180b2",
        "IPY_MODEL_60b6f62d78e548f29b3c60b80256f6ab",
        "IPY_MODEL_5a3d213b37044a1c9ecbc09a45cde99e",
        "IPY_MODEL_efd5aef332e648d0b084d5ed6620c462",
        "IPY_MODEL_be74a76499da4dd79f34a77dcfe755af",
        "IPY_MODEL_85f4ebb6301847388c73730d280a59c0"
       ],
       "layout": "IPY_MODEL_eba152cc6d6d4da7b7024b4cf9a05c9b"
      }
     },
     "ab1fb4cab8774cdcb60eaf534b964ee8": {
      "model_module": "@jupyter-widgets/base",
      "model_module_version": "1.2.0",
      "model_name": "LayoutModel",
      "state": {}
     },
     "abef8d5e627c43999dfa68ea510ae53d": {
      "model_module": "@jupyter-widgets/controls",
      "model_module_version": "1.5.0",
      "model_name": "HTMLModel",
      "state": {
       "layout": "IPY_MODEL_cc96807f2a0d4bef91dd07115ca5e337",
       "style": "IPY_MODEL_b0b0939c78d34201850d68ca016c84fa",
       "value": "<b>scoringTimeoutMs:</b>"
      }
     },
     "ac10bcfdd5e148e2abb7f1abe00512b5": {
      "model_module": "@jupyter-widgets/controls",
      "model_module_version": "1.5.0",
      "model_name": "AccordionModel",
      "state": {
       "_titles": {
        "0": "Main",
        "1": "Availability",
        "2": "Performance",
        "3": "Load Testing"
       },
       "children": [
        "IPY_MODEL_3cd8049380df4e5ab32fc2f95bcb7a84",
        "IPY_MODEL_4db35228d5f54ec5bed145b4a21a6edc",
        "IPY_MODEL_2bcbc4adef524e11b606fdb050637b51",
        "IPY_MODEL_750a43a1902d43d9962786d5c40f999e"
       ],
       "layout": "IPY_MODEL_46d330e000a2428f83c6d67d532577d4"
      }
     },
     "acc89483db0143a6bf8a12fa5ace4b79": {
      "model_module": "@jupyter-widgets/controls",
      "model_module_version": "1.5.0",
      "model_name": "HTMLModel",
      "state": {
       "layout": "IPY_MODEL_f710e256aa2246aaa70583365f3c066f",
       "style": "IPY_MODEL_6fea34da79704b2a85501ae091866730",
       "value": "<b>runId:</b>"
      }
     },
     "aceb5055476f47148ba18159566fe4ff": {
      "model_module": "@jupyter-widgets/controls",
      "model_module_version": "1.5.0",
      "model_name": "LabelModel",
      "state": {
       "layout": "IPY_MODEL_656d24dfca604f428fcb54f198b2a153",
       "style": "IPY_MODEL_19538ccf8f7a4e2d92c40641c00c3be9",
       "value": "404"
      }
     },
     "ad3beb4cbef345a981ffea7cd4ebd776": {
      "model_module": "@jupyter-widgets/base",
      "model_module_version": "1.2.0",
      "model_name": "LayoutModel",
      "state": {}
     },
     "ad3e7d03b3b14c31a89bba3ae71b7bf4": {
      "model_module": "@jupyter-widgets/controls",
      "model_module_version": "1.5.0",
      "model_name": "DescriptionStyleModel",
      "state": {
       "description_width": ""
      }
     },
     "ad838a0bc920462aba372c7bbb31447b": {
      "model_module": "@jupyter-widgets/controls",
      "model_module_version": "1.5.0",
      "model_name": "LabelModel",
      "state": {
       "layout": "IPY_MODEL_e57ebe03842a403087510f01f53aa63b",
       "style": "IPY_MODEL_9b901f8fe5b9455494969f1f257fbd56",
       "value": "None"
      }
     },
     "af20c315c81048a2a19d96cfc1a2d1c4": {
      "model_module": "@jupyter-widgets/controls",
      "model_module_version": "1.5.0",
      "model_name": "LabelModel",
      "state": {
       "layout": "IPY_MODEL_3016257eee274e048b7fd79969df9ce3",
       "style": "IPY_MODEL_b094d76032564d40b43d0c8405c13c3f",
       "value": "None"
      }
     },
     "af25b77d97714b3d8a717dbec56606ed": {
      "model_module": "@jupyter-widgets/base",
      "model_module_version": "1.2.0",
      "model_name": "LayoutModel",
      "state": {}
     },
     "afa6a8cf55d74e34a39fe9038806867b": {
      "model_module": "@jupyter-widgets/controls",
      "model_module_version": "1.5.0",
      "model_name": "LabelModel",
      "state": {
       "layout": "IPY_MODEL_e0f524e89ed4443b91611ef113ec889f",
       "style": "IPY_MODEL_f9f98cd0d2644cbab3b5d31dfadb1f9e",
       "value": "None"
      }
     },
     "b054020a504b46ea8e3a59ae8fa43913": {
      "model_module": "@jupyter-widgets/controls",
      "model_module_version": "1.5.0",
      "model_name": "HTMLModel",
      "state": {
       "layout": "IPY_MODEL_228aceccf239478a8b8046b2b882d9d0",
       "style": "IPY_MODEL_c6aa1e5d52424e97a491e3e1231c8bdc",
       "value": "<b>successThreshold:</b>"
      }
     },
     "b07b3c17aa4448aab50bc20c57cd9eae": {
      "model_module": "@jupyter-widgets/base",
      "model_module_version": "1.2.0",
      "model_name": "LayoutModel",
      "state": {}
     },
     "b094d76032564d40b43d0c8405c13c3f": {
      "model_module": "@jupyter-widgets/controls",
      "model_module_version": "1.5.0",
      "model_name": "DescriptionStyleModel",
      "state": {
       "description_width": ""
      }
     },
     "b0b0939c78d34201850d68ca016c84fa": {
      "model_module": "@jupyter-widgets/controls",
      "model_module_version": "1.5.0",
      "model_name": "DescriptionStyleModel",
      "state": {
       "description_width": ""
      }
     },
     "b0bc4e92a6e24fc7b43d169b06e1f67c": {
      "model_module": "@jupyter-widgets/base",
      "model_module_version": "1.2.0",
      "model_name": "LayoutModel",
      "state": {}
     },
     "b0cb2adec7c946bb8b9d59bb6921df7f": {
      "model_module": "@jupyter-widgets/base",
      "model_module_version": "1.2.0",
      "model_name": "LayoutModel",
      "state": {}
     },
     "b1ac1706b1cb47e7908abfbde8b63d19": {
      "model_module": "@jupyter-widgets/controls",
      "model_module_version": "1.5.0",
      "model_name": "DescriptionStyleModel",
      "state": {
       "description_width": ""
      }
     },
     "b1bf1df2d2384632a8e0ee8b3485fc37": {
      "model_module": "@jupyter-widgets/controls",
      "model_module_version": "1.5.0",
      "model_name": "DescriptionStyleModel",
      "state": {
       "description_width": ""
      }
     },
     "b1d118c133b84afa83ba38acd366a9ac": {
      "model_module": "@jupyter-widgets/controls",
      "model_module_version": "1.5.0",
      "model_name": "DescriptionStyleModel",
      "state": {
       "description_width": ""
      }
     },
     "b1e0e7c5c14a4e799707101337e7a75f": {
      "model_module": "@jupyter-widgets/controls",
      "model_module_version": "1.5.0",
      "model_name": "DescriptionStyleModel",
      "state": {
       "description_width": ""
      }
     },
     "b24348ea8c304776b8891e5852fd5cd9": {
      "model_module": "@jupyter-widgets/base",
      "model_module_version": "1.2.0",
      "model_name": "LayoutModel",
      "state": {}
     },
     "b259bea13b7841ddb91a3a94d12a789b": {
      "model_module": "@jupyter-widgets/base",
      "model_module_version": "1.2.0",
      "model_name": "LayoutModel",
      "state": {}
     },
     "b2907ed1fce548cc9b6a79db0163b9e4": {
      "model_module": "@jupyter-widgets/controls",
      "model_module_version": "1.5.0",
      "model_name": "LabelModel",
      "state": {
       "layout": "IPY_MODEL_80ea047f1519412dbf88a93198403380",
       "style": "IPY_MODEL_ce60b91cf5da4f6e9e8072990b2c859d",
       "value": "None"
      }
     },
     "b29f9cff659d48eebe68522ee29d55f5": {
      "model_module": "@jupyter-widgets/controls",
      "model_module_version": "1.5.0",
      "model_name": "HTMLModel",
      "state": {
       "layout": "IPY_MODEL_e35c475b409f4d618c58298952c571f0",
       "style": "IPY_MODEL_552ae78396f8483c83372e06368666f4",
       "value": "<b>maxQueueWaitMs:</b>"
      }
     },
     "b2f1c1a41137418db1ce24a6cb27d761": {
      "model_module": "@jupyter-widgets/controls",
      "model_module_version": "1.5.0",
      "model_name": "HBoxModel",
      "state": {
       "children": [
        "IPY_MODEL_2fddaa0f9b98411c8de57deea21049a5",
        "IPY_MODEL_af20c315c81048a2a19d96cfc1a2d1c4"
       ],
       "layout": "IPY_MODEL_66991b4f7fd744da96dbd5b54ef66a6f"
      }
     },
     "b323fce9663c4e8781c617cc12cb0fda": {
      "model_module": "@jupyter-widgets/controls",
      "model_module_version": "1.5.0",
      "model_name": "HTMLModel",
      "state": {
       "layout": "IPY_MODEL_71d3516fb3ae43f2ab19c6cfd2959704",
       "style": "IPY_MODEL_b1bf1df2d2384632a8e0ee8b3485fc37",
       "value": "<b>name:</b>"
      }
     },
     "b332f19d55be4acc8db261c036385ca4": {
      "model_module": "@jupyter-widgets/base",
      "model_module_version": "1.2.0",
      "model_name": "LayoutModel",
      "state": {}
     },
     "b363361b2954492a8fc5ba3bdb6f158d": {
      "model_module": "@jupyter-widgets/controls",
      "model_module_version": "1.5.0",
      "model_name": "LabelModel",
      "state": {
       "layout": "IPY_MODEL_ee75f819b3424574bb7b170f2d6a14c9",
       "style": "IPY_MODEL_9f98652b2759469e901fe70fed43d58e",
       "value": "None"
      }
     },
     "b3a4ebb294214a9ea289693610792db6": {
      "model_module": "@jupyter-widgets/base",
      "model_module_version": "1.2.0",
      "model_name": "LayoutModel",
      "state": {}
     },
     "b3b287381635432cb433b2a225845ef3": {
      "model_module": "@jupyter-widgets/base",
      "model_module_version": "1.2.0",
      "model_name": "LayoutModel",
      "state": {}
     },
     "b415b6a31e584b2cad0b685789af2740": {
      "model_module": "@jupyter-widgets/controls",
      "model_module_version": "1.5.0",
      "model_name": "HBoxModel",
      "state": {
       "children": [
        "IPY_MODEL_bb90032adba64e3bb04c99de3d80329a",
        "IPY_MODEL_6da10cfd02784aa6a7d48b6ab5fe9538"
       ],
       "layout": "IPY_MODEL_7e0b1ca056c6467eb9c851d7636d9cc2"
      }
     },
     "b41f2188bbb4402dbdc04aded69019d5": {
      "model_module": "@jupyter-widgets/controls",
      "model_module_version": "1.5.0",
      "model_name": "HBoxModel",
      "state": {
       "children": [
        "IPY_MODEL_0791c6447e50427388acde490d028c4c",
        "IPY_MODEL_10b503234c23476b9c8ff01bc8eb591e"
       ],
       "layout": "IPY_MODEL_0a3207f81e154e6f8e78c8e7899f8671"
      }
     },
     "b4788d5ffe994748a50ad488acc4ba52": {
      "model_module": "@jupyter-widgets/base",
      "model_module_version": "1.2.0",
      "model_name": "LayoutModel",
      "state": {}
     },
     "b4870579f8934ceab80736fc7b5b74cf": {
      "model_module": "@jupyter-widgets/controls",
      "model_module_version": "1.5.0",
      "model_name": "LabelModel",
      "state": {
       "layout": "IPY_MODEL_5718bd0ad12e4782b7e536f93dfa816b",
       "style": "IPY_MODEL_3559002fb1b94f93bf82c39339924e4a",
       "value": "None"
      }
     },
     "b4d39aae6a5b4b49a01fc193e74bbf7f": {
      "model_module": "@jupyter-widgets/controls",
      "model_module_version": "1.5.0",
      "model_name": "DescriptionStyleModel",
      "state": {
       "description_width": ""
      }
     },
     "b4dd20b1bd4947d489eee212ca581088": {
      "model_module": "@jupyter-widgets/base",
      "model_module_version": "1.2.0",
      "model_name": "LayoutModel",
      "state": {}
     },
     "b4ed45830f484fba8f23392ccb18a6db": {
      "model_module": "@jupyter-widgets/base",
      "model_module_version": "1.2.0",
      "model_name": "LayoutModel",
      "state": {}
     },
     "b58aa3bf09864fc8bec77a1496db89de": {
      "model_module": "@jupyter-widgets/base",
      "model_module_version": "1.2.0",
      "model_name": "LayoutModel",
      "state": {}
     },
     "b5967fe16b274df183a37c24502b9824": {
      "model_module": "@jupyter-widgets/base",
      "model_module_version": "1.2.0",
      "model_name": "LayoutModel",
      "state": {}
     },
     "b65deff8c1284120a6fc6f6a0f328347": {
      "model_module": "@jupyter-widgets/controls",
      "model_module_version": "1.5.0",
      "model_name": "LabelModel",
      "state": {
       "layout": "IPY_MODEL_c3e324ed66ac472ea3a88f1ff28200ec",
       "style": "IPY_MODEL_d9dab197dce5455e888212297dd226ac",
       "value": "4"
      }
     },
     "b66eb602f0df4650b7d1d6ad6cdc5623": {
      "model_module": "@jupyter-widgets/base",
      "model_module_version": "1.2.0",
      "model_name": "LayoutModel",
      "state": {}
     },
     "b7291ab9df9f4e3a92057bd982ef794e": {
      "model_module": "@jupyter-widgets/base",
      "model_module_version": "1.2.0",
      "model_name": "LayoutModel",
      "state": {}
     },
     "b72d9bda6005434ba5591f9c1ec65ae0": {
      "model_module": "@jupyter-widgets/base",
      "model_module_version": "1.2.0",
      "model_name": "LayoutModel",
      "state": {}
     },
     "b74d2b57d29b42f1b1c537438ca9b20a": {
      "model_module": "@jupyter-widgets/controls",
      "model_module_version": "1.5.0",
      "model_name": "HTMLModel",
      "state": {
       "layout": "IPY_MODEL_b3b287381635432cb433b2a225845ef3",
       "style": "IPY_MODEL_5161813b639b4d95993f6f9889a79822",
       "value": "<b>imageId:</b>"
      }
     },
     "b79629786f53451aa3b1ded12c11b5f3": {
      "model_module": "@jupyter-widgets/base",
      "model_module_version": "1.2.0",
      "model_name": "LayoutModel",
      "state": {}
     },
     "b7b29b33e2f348dabcbc641c0154d115": {
      "model_module": "@jupyter-widgets/base",
      "model_module_version": "1.2.0",
      "model_name": "LayoutModel",
      "state": {}
     },
     "b7c364321afb45ddac12c40fa106a0e8": {
      "model_module": "@jupyter-widgets/base",
      "model_module_version": "1.2.0",
      "model_name": "LayoutModel",
      "state": {}
     },
     "b7dd4fd76c4748928b4057937f4c1516": {
      "model_module": "@jupyter-widgets/controls",
      "model_module_version": "1.5.0",
      "model_name": "DescriptionStyleModel",
      "state": {
       "description_width": ""
      }
     },
     "b7e97d3af65d47159ae9594eb41b8e1a": {
      "model_module": "@jupyter-widgets/controls",
      "model_module_version": "1.5.0",
      "model_name": "TextModel",
      "state": {
       "description": "aks_service_name",
       "layout": "IPY_MODEL_80edf0a6a9ec4f61bcf25bccaf571c78",
       "placeholder": "AKS Service Name",
       "style": "IPY_MODEL_e5ec23eea005488294df56d4b9455795",
       "value": "aksservice2"
      }
     },
     "b955ba4f09bc49e88d744e82bcc611c5": {
      "model_module": "@jupyter-widgets/controls",
      "model_module_version": "1.5.0",
      "model_name": "HTMLModel",
      "state": {
       "layout": "IPY_MODEL_1aaa1cbb5f2949a68d2925d697cc01b9",
       "style": "IPY_MODEL_2af8d2557bae41b3b0762625e53754ef",
       "value": "<b>sampleOutputDatasetId:</b>"
      }
     },
     "b961d01d002d49d19c9611144b782d7d": {
      "model_module": "@jupyter-widgets/controls",
      "model_module_version": "1.5.0",
      "model_name": "DescriptionStyleModel",
      "state": {
       "description_width": ""
      }
     },
     "ba052d6cb6e5426392293f8581dcd5ec": {
      "model_module": "@jupyter-widgets/base",
      "model_module_version": "1.2.0",
      "model_name": "LayoutModel",
      "state": {}
     },
     "ba856e5b7769442293787f896c229dcc": {
      "model_module": "@jupyter-widgets/controls",
      "model_module_version": "1.5.0",
      "model_name": "HTMLModel",
      "state": {
       "layout": "IPY_MODEL_d7597c0b8b304cbf9825743fe15fe35b",
       "style": "IPY_MODEL_cf537d6ef305429eaac862ebc9d0f98b",
       "value": "<b>trafficPercentile:</b>"
      }
     },
     "bad5e6a35b354f19a0b034ae16520552": {
      "model_module": "@jupyter-widgets/controls",
      "model_module_version": "1.5.0",
      "model_name": "HBoxModel",
      "state": {
       "children": [
        "IPY_MODEL_36d5c46132124fdd8cddcf5b26079c54",
        "IPY_MODEL_be108d6c57294131ae33362f05955b97"
       ],
       "layout": "IPY_MODEL_b0bc4e92a6e24fc7b43d169b06e1f67c"
      }
     },
     "badda3ed745f4cc18a055b34ce5961d2": {
      "model_module": "@jupyter-widgets/controls",
      "model_module_version": "1.5.0",
      "model_name": "AccordionModel",
      "state": {
       "_titles": {
        "0": "createdBy"
       },
       "children": [
        "IPY_MODEL_55393c40022646b1932224deabe432c6"
       ],
       "layout": "IPY_MODEL_0c424b3ee18d4f53ab920fd7c912ab73"
      }
     },
     "baecd485daa04cb38027fa8ac92f40b9": {
      "model_module": "@jupyter-widgets/controls",
      "model_module_version": "1.5.0",
      "model_name": "LabelModel",
      "state": {
       "layout": "IPY_MODEL_9ce836cdc77d4faf9e482c8370f9bd48",
       "style": "IPY_MODEL_3f57ab8b3b894a22b29cc095b9a90122",
       "value": "None"
      }
     },
     "baf98b177ae746b7975f2fd7b909f77e": {
      "model_module": "@jupyter-widgets/base",
      "model_module_version": "1.2.0",
      "model_name": "LayoutModel",
      "state": {}
     },
     "bb01e4e0778c4473bb21c16376b1baa9": {
      "model_module": "@jupyter-widgets/controls",
      "model_module_version": "1.5.0",
      "model_name": "VBoxModel",
      "state": {
       "children": [
        "IPY_MODEL_25bb87c82ab742c18fade54e7e5b9087",
        "IPY_MODEL_86617494ace44568b0e37124f081d433",
        "IPY_MODEL_dab2d6193b8c4887a77b2c049daea98c"
       ],
       "layout": "IPY_MODEL_bfb04453f54c44b19744b6422bf6586a"
      }
     },
     "bb7a2841428a4eae8781f2f3972197c0": {
      "model_module": "@jupyter-widgets/controls",
      "model_module_version": "1.5.0",
      "model_name": "TextModel",
      "state": {
       "description": "deep_image_name",
       "layout": "IPY_MODEL_370b1d93dd764ae18065de19ff1b83d2",
       "placeholder": "Docker Container Image Name",
       "style": "IPY_MODEL_c99fd4811def498a815dff0641587041",
       "value": "mydeepimage"
      }
     },
     "bb90032adba64e3bb04c99de3d80329a": {
      "model_module": "@jupyter-widgets/controls",
      "model_module_version": "1.5.0",
      "model_name": "HTMLModel",
      "state": {
       "layout": "IPY_MODEL_20e056c2d3f74094864968ae42c6e8c1",
       "style": "IPY_MODEL_673f7f73ea224cad8fc066a7f6256f68",
       "value": "<b>description:</b>"
      }
     },
     "bbac84ff3a8f40b3a3e45062d1090c0d": {
      "model_module": "@jupyter-widgets/controls",
      "model_module_version": "1.5.0",
      "model_name": "LabelModel",
      "state": {
       "layout": "IPY_MODEL_da447cdd8ced458f95fd5082bed37bf9",
       "style": "IPY_MODEL_b1d118c133b84afa83ba38acd366a9ac",
       "value": "application/json"
      }
     },
     "bbb30b6294e54034b8d6c90574e8cf1c": {
      "model_module": "@jupyter-widgets/controls",
      "model_module_version": "1.5.0",
      "model_name": "DescriptionStyleModel",
      "state": {
       "description_width": ""
      }
     },
     "bc1f7933e88141cab091ac25c774f767": {
      "model_module": "@jupyter-widgets/controls",
      "model_module_version": "1.5.0",
      "model_name": "LabelModel",
      "state": {
       "layout": "IPY_MODEL_eaa8d95e91244adabcf1758606db5488",
       "style": "IPY_MODEL_0cb799b40b944bd5b3b4ebcf23dee469",
       "value": "72f988bf-86f1-41af-91ab-2d7cd011db47"
      }
     },
     "bc2149fdfed2477e8d7aa7d84721bca8": {
      "model_module": "@jupyter-widgets/base",
      "model_module_version": "1.2.0",
      "model_name": "LayoutModel",
      "state": {}
     },
     "bc2c12122ba04e8597c44e61bb4fa277": {
      "model_module": "@jupyter-widgets/controls",
      "model_module_version": "1.5.0",
      "model_name": "HBoxModel",
      "state": {
       "children": [
        "IPY_MODEL_1410c1e1128549679c5dbb68ac6780e4",
        "IPY_MODEL_3d92028bf4044f3fa3c18b091969208b"
       ],
       "layout": "IPY_MODEL_7c03217174804674b45926a1cac1d7be"
      }
     },
     "bca1d320950c499595fc190b9cf0a345": {
      "model_module": "@jupyter-widgets/controls",
      "model_module_version": "1.5.0",
      "model_name": "HBoxModel",
      "state": {
       "children": [
        "IPY_MODEL_acc89483db0143a6bf8a12fa5ace4b79",
        "IPY_MODEL_f8ce63e77ec2484f9ead3a409b83e803"
       ],
       "layout": "IPY_MODEL_cdcf1405a5cc4a8e8ef864de75422f97"
      }
     },
     "bcc0ec8c163f4dc79471e04a8341d02d": {
      "model_module": "@jupyter-widgets/controls",
      "model_module_version": "1.5.0",
      "model_name": "LabelModel",
      "state": {
       "layout": "IPY_MODEL_becafd10a1f94701908db1bdc18bdef0",
       "style": "IPY_MODEL_262767be1c7d42a29fc824d4b6e2b9a1",
       "value": "2020-03-04T01:05:12.753405+00:00"
      }
     },
     "bceae47387d0462ab78a1e2f121e5e95": {
      "model_module": "@jupyter-widgets/controls",
      "model_module_version": "1.5.0",
      "model_name": "HBoxModel",
      "state": {
       "children": [
        "IPY_MODEL_bd5ed3e20e284c42a5fd62914c0fe7fb",
        "IPY_MODEL_f9ae343672974ae791b43d635fe8d898"
       ],
       "layout": "IPY_MODEL_33da8449cc5b4c5189fb50a5d504a7a6"
      }
     },
     "bd30e88711114e5ea33265d1e30bf753": {
      "model_module": "@jupyter-widgets/controls",
      "model_module_version": "1.5.0",
      "model_name": "HTMLModel",
      "state": {
       "layout": "IPY_MODEL_c5eb9aa5764c442c9972d52a6c75791a",
       "style": "IPY_MODEL_a3fe6276d4d24434b129e94ae32c067f",
       "value": "<b>isDefault:</b>"
      }
     },
     "bd5ed3e20e284c42a5fd62914c0fe7fb": {
      "model_module": "@jupyter-widgets/controls",
      "model_module_version": "1.5.0",
      "model_name": "HTMLModel",
      "state": {
       "layout": "IPY_MODEL_407bc8f5976149f188c9d52ce7f36833",
       "style": "IPY_MODEL_e95702f0686642bfa60fa48a1198a73a",
       "value": "<b>refreshPeriodInSeconds:</b>"
      }
     },
     "bdbf4bca13e44e28b6ecae931a23eb1c": {
      "model_module": "@jupyter-widgets/controls",
      "model_module_version": "1.5.0",
      "model_name": "DescriptionStyleModel",
      "state": {
       "description_width": ""
      }
     },
     "be108d6c57294131ae33362f05955b97": {
      "model_module": "@jupyter-widgets/controls",
      "model_module_version": "1.5.0",
      "model_name": "LabelModel",
      "state": {
       "layout": "IPY_MODEL_e6437be401d04211a6f8f3e2eca3705e",
       "style": "IPY_MODEL_56059d442639472a9be8acd6137f2b45",
       "value": "NotFoundComputeResource"
      }
     },
     "be286931a1f54f33b864fb5637bdac9c": {
      "model_module": "@jupyter-widgets/controls",
      "model_module_version": "1.5.0",
      "model_name": "ButtonModel",
      "state": {
       "button_style": "success",
       "description": "Complete, rerun?",
       "layout": "IPY_MODEL_820a6f7629124d7f8c22cc797064ad26",
       "style": "IPY_MODEL_4284720f4ab346149a6850424de3135f"
      }
     },
     "be6d7b4968834548ba74e5694d9a2345": {
      "model_module": "@jupyter-widgets/base",
      "model_module_version": "1.2.0",
      "model_name": "LayoutModel",
      "state": {}
     },
     "be74a76499da4dd79f34a77dcfe755af": {
      "model_module": "@jupyter-widgets/controls",
      "model_module_version": "1.5.0",
      "model_name": "HBoxModel",
      "state": {
       "children": [
        "IPY_MODEL_7fde7198e36244c4a9aaeee208dd0143",
        "IPY_MODEL_bc1f7933e88141cab091ac25c774f767"
       ],
       "layout": "IPY_MODEL_3cd980a080da43a5ac92ca043507f465"
      }
     },
     "bec5f52ed1fb43c795e9c024b9383d94": {
      "model_module": "@jupyter-widgets/base",
      "model_module_version": "1.2.0",
      "model_name": "LayoutModel",
      "state": {}
     },
     "becafd10a1f94701908db1bdc18bdef0": {
      "model_module": "@jupyter-widgets/base",
      "model_module_version": "1.2.0",
      "model_name": "LayoutModel",
      "state": {}
     },
     "bf598306529d4e23908243da85eede74": {
      "model_module": "@jupyter-widgets/controls",
      "model_module_version": "1.5.0",
      "model_name": "LabelModel",
      "state": {
       "layout": "IPY_MODEL_0aa4b8809194483aa540b2d8f37f3849",
       "style": "IPY_MODEL_674e3a0419d54bc0bef03f531dd5f750",
       "value": "None"
      }
     },
     "bfb04453f54c44b19744b6422bf6586a": {
      "model_module": "@jupyter-widgets/base",
      "model_module_version": "1.2.0",
      "model_name": "LayoutModel",
      "state": {}
     },
     "bfbbe32f4b3443f687e9e819fa04f7cf": {
      "model_module": "@jupyter-widgets/controls",
      "model_module_version": "1.5.0",
      "model_name": "HBoxModel",
      "state": {
       "children": [
        "IPY_MODEL_914130b3a074437a9accd4a1bf354a5c",
        "IPY_MODEL_dc7e14523cdd4fa5b452f9af3659839f"
       ],
       "layout": "IPY_MODEL_9db9625a8bc24b20a8f9f33021952158"
      }
     },
     "bfbc65856c704b0e98c643c3b2973aef": {
      "model_module": "@jupyter-widgets/base",
      "model_module_version": "1.2.0",
      "model_name": "LayoutModel",
      "state": {}
     },
     "bffa22b7f0cc436a859163c0e8864187": {
      "model_module": "@jupyter-widgets/base",
      "model_module_version": "1.2.0",
      "model_name": "LayoutModel",
      "state": {}
     },
     "c05e68e87fdc43a59506ef547b5642ff": {
      "model_module": "@jupyter-widgets/controls",
      "model_module_version": "1.5.0",
      "model_name": "DescriptionStyleModel",
      "state": {
       "description_width": ""
      }
     },
     "c0ca6d5475c74acd9ab34d6b11f19fe6": {
      "model_module": "@jupyter-widgets/controls",
      "model_module_version": "1.5.0",
      "model_name": "HTMLModel",
      "state": {
       "layout": "IPY_MODEL_312700ceb4eb44a9901511ab633dfb3d",
       "style": "IPY_MODEL_c1a8992ec1ae43cbaa279656dc5f936d",
       "value": "<b>numReplicas:</b>"
      }
     },
     "c106f79fb0b64d0aa6959f268d58838e": {
      "model_module": "@jupyter-widgets/controls",
      "model_module_version": "1.5.0",
      "model_name": "HTMLModel",
      "state": {
       "layout": "IPY_MODEL_a9757eb2e8644733a987f3d3329de4eb",
       "style": "IPY_MODEL_63b0052898de400a8f08e29d9e1b2b4e",
       "value": "<b>userTenantId:</b>"
      }
     },
     "c110ac7a9a2a4683a1adaaa9cf3166c0": {
      "model_module": "@jupyter-widgets/controls",
      "model_module_version": "1.5.0",
      "model_name": "DescriptionStyleModel",
      "state": {
       "description_width": "initial"
      }
     },
     "c14deed2fb3145718c9511718e722db7": {
      "model_module": "@jupyter-widgets/controls",
      "model_module_version": "1.5.0",
      "model_name": "VBoxModel",
      "state": {
       "children": [
        "IPY_MODEL_7732429e863c45e38598c7138fdc8768",
        "IPY_MODEL_d228c02625f14b48a94b7155faf19484",
        "IPY_MODEL_58624380598c4f28bd637ab2214d1370",
        "IPY_MODEL_dc8a05db18c3458595d29564c9083ac7",
        "IPY_MODEL_a98076d3205e4a298109120a078f1378",
        "IPY_MODEL_81b9442d1dd944f29b7efcfeee8d99a2",
        "IPY_MODEL_1c2e228ca04d45d8bdbe59003edbb9ae",
        "IPY_MODEL_10504d1cca38484bbf5d7cec87f8e090",
        "IPY_MODEL_a732e9d3d8454c38ad0d0624a34e54e5",
        "IPY_MODEL_8684f3c954214cef96efd4d04523298d",
        "IPY_MODEL_f9e079555acf4db58c7089f96679de72",
        "IPY_MODEL_9376555e50154cc9a81a1290910ec822",
        "IPY_MODEL_3b7f75c2c4734a4a8f6bf1acc00bd4c4",
        "IPY_MODEL_badda3ed745f4cc18a055b34ce5961d2",
        "IPY_MODEL_4b734aef838543358a5e106dc9bbb4ee",
        "IPY_MODEL_3a30b3e54b2e4b58803bbf9112b2d4c0",
        "IPY_MODEL_80a0a7aa776e43c9ab68db994ab768c6",
        "IPY_MODEL_2ebfb93eedfe4b72a360777f46d1e390",
        "IPY_MODEL_134bab1739cb42728397e4880ff560f4",
        "IPY_MODEL_269caf5c164d4afc8b5513ccf74e2c1a",
        "IPY_MODEL_47a84c885f0147ceb4ae5bc90390f8cd",
        "IPY_MODEL_949eaa1d264647a599bbda444b9e2c65",
        "IPY_MODEL_6eb22b11e0c34556b90f837dde9aac35",
        "IPY_MODEL_6657bacde23e4e7d83ccd53b24818562",
        "IPY_MODEL_00d64594a10c45b6acac9cfbc78daf53",
        "IPY_MODEL_90a805e4b36943108ac9b99065d7f2e2",
        "IPY_MODEL_6070cd7c6b6f4f13a69db02f39d460d2",
        "IPY_MODEL_cc9c085f1334404190dcfcd94b85772d",
        "IPY_MODEL_50a0e5e3e3034fdd8165997c40796873",
        "IPY_MODEL_9465ef84981f4bceaa0e05359b5f96ee",
        "IPY_MODEL_1611b2e6137f4479b24c2c4fb0c05e95",
        "IPY_MODEL_534866dfa4804b4fa68583418bbfca3f"
       ],
       "layout": "IPY_MODEL_c687e94a8e06413eb0488e0e7c785525"
      }
     },
     "c1a8992ec1ae43cbaa279656dc5f936d": {
      "model_module": "@jupyter-widgets/controls",
      "model_module_version": "1.5.0",
      "model_name": "DescriptionStyleModel",
      "state": {
       "description_width": ""
      }
     },
     "c214640774cf41eb8f12d83da7c4543a": {
      "model_module": "@jupyter-widgets/base",
      "model_module_version": "1.2.0",
      "model_name": "LayoutModel",
      "state": {}
     },
     "c26b7ff51715404a9786ff7f112297bb": {
      "model_module": "@jupyter-widgets/controls",
      "model_module_version": "1.5.0",
      "model_name": "HTMLModel",
      "state": {
       "layout": "IPY_MODEL_ad3beb4cbef345a981ffea7cd4ebd776",
       "style": "IPY_MODEL_7181a62be068412b8ae4518c30b8d0df",
       "value": "<b>environmentVariables:</b>"
      }
     },
     "c270732b32e34bbf9c47ceb1e4a836c1": {
      "model_module": "@jupyter-widgets/controls",
      "model_module_version": "1.5.0",
      "model_name": "DescriptionStyleModel",
      "state": {
       "description_width": ""
      }
     },
     "c270e54792fa41a39b10211420f38988": {
      "model_module": "@jupyter-widgets/controls",
      "model_module_version": "1.5.0",
      "model_name": "DescriptionStyleModel",
      "state": {
       "description_width": ""
      }
     },
     "c27285eb8c7b441b9d39182e530f37c8": {
      "model_module": "@jupyter-widgets/controls",
      "model_module_version": "1.5.0",
      "model_name": "LabelModel",
      "state": {
       "layout": "IPY_MODEL_4732e3aeb86b495eb94b58e7e2ded679",
       "style": "IPY_MODEL_03d1a889b7e7411f8292ffd107ccc138",
       "value": "False"
      }
     },
     "c30fc372881542cbbe8339ebdf8458c4": {
      "model_module": "@jupyter-widgets/base",
      "model_module_version": "1.2.0",
      "model_name": "LayoutModel",
      "state": {}
     },
     "c328e40396db45f5bd369c4828d953c4": {
      "model_module": "@jupyter-widgets/base",
      "model_module_version": "1.2.0",
      "model_name": "LayoutModel",
      "state": {}
     },
     "c32ced5b45514c05b7feb301db5e3ff0": {
      "model_module": "@jupyter-widgets/base",
      "model_module_version": "1.2.0",
      "model_name": "LayoutModel",
      "state": {}
     },
     "c389fe3af3514aca9600e799ac476593": {
      "model_module": "@jupyter-widgets/base",
      "model_module_version": "1.2.0",
      "model_name": "LayoutModel",
      "state": {}
     },
     "c3de7b6abfa24cea978f8d6eb5af08b1": {
      "model_module": "@jupyter-widgets/controls",
      "model_module_version": "1.5.0",
      "model_name": "HTMLModel",
      "state": {
       "layout": "IPY_MODEL_91c688cbf9014a20a5b6deb7863082db",
       "style": "IPY_MODEL_946d637885664915a139ddb03e11a744",
       "value": "<b>userName:</b>"
      }
     },
     "c3e324ed66ac472ea3a88f1ff28200ec": {
      "model_module": "@jupyter-widgets/base",
      "model_module_version": "1.2.0",
      "model_name": "LayoutModel",
      "state": {}
     },
     "c47eabdfee7041a194d8a1a237467d5a": {
      "model_module": "@jupyter-widgets/controls",
      "model_module_version": "1.5.0",
      "model_name": "DescriptionStyleModel",
      "state": {
       "description_width": ""
      }
     },
     "c520ccbba2094d9994ae96080c81425e": {
      "model_module": "@jupyter-widgets/controls",
      "model_module_version": "1.5.0",
      "model_name": "HBoxModel",
      "state": {
       "children": [
        "IPY_MODEL_1712d994f22841408c50c9c6c6c26815",
        "IPY_MODEL_65f50da909d640399551c0ad7f983fee"
       ],
       "layout": "IPY_MODEL_c5a76917c0484f6cb6a705d179407a43"
      }
     },
     "c58faddc147d43759d44f68451a36690": {
      "model_module": "@jupyter-widgets/base",
      "model_module_version": "1.2.0",
      "model_name": "LayoutModel",
      "state": {
       "width": "50%"
      }
     },
     "c5a76917c0484f6cb6a705d179407a43": {
      "model_module": "@jupyter-widgets/base",
      "model_module_version": "1.2.0",
      "model_name": "LayoutModel",
      "state": {}
     },
     "c5eb9aa5764c442c9972d52a6c75791a": {
      "model_module": "@jupyter-widgets/base",
      "model_module_version": "1.2.0",
      "model_name": "LayoutModel",
      "state": {}
     },
     "c5f9103960ea430d9c840f264a68c737": {
      "model_module": "@jupyter-widgets/controls",
      "model_module_version": "1.5.0",
      "model_name": "HTMLModel",
      "state": {
       "layout": "IPY_MODEL_a8a636d6b9f345a9a708cf3ea1d8a939",
       "style": "IPY_MODEL_3f07a578a4e94874af68751216bab4df",
       "value": "<b>mlflow.source.git.repoURL:</b>"
      }
     },
     "c687e94a8e06413eb0488e0e7c785525": {
      "model_module": "@jupyter-widgets/base",
      "model_module_version": "1.2.0",
      "model_name": "LayoutModel",
      "state": {}
     },
     "c6aa1e5d52424e97a491e3e1231c8bdc": {
      "model_module": "@jupyter-widgets/controls",
      "model_module_version": "1.5.0",
      "model_name": "DescriptionStyleModel",
      "state": {
       "description_width": ""
      }
     },
     "c6f54bd21e4349d39bb1e5767b072185": {
      "model_module": "@jupyter-widgets/controls",
      "model_module_version": "1.5.0",
      "model_name": "LabelModel",
      "state": {
       "layout": "IPY_MODEL_0a380faef72d4759ba9b41b4755ed2a4",
       "style": "IPY_MODEL_8d9e9342dfb640408ff6341d83848c4e",
       "value": "0.1"
      }
     },
     "c715fdefd51d4591aab034a8f81b8353": {
      "model_module": "@jupyter-widgets/controls",
      "model_module_version": "1.5.0",
      "model_name": "DescriptionStyleModel",
      "state": {
       "description_width": ""
      }
     },
     "c74eea8d048f4bf3ad0bb9a90a91596f": {
      "model_module": "@jupyter-widgets/base",
      "model_module_version": "1.2.0",
      "model_name": "LayoutModel",
      "state": {}
     },
     "c7f10709084e454ba09d97e312eb237f": {
      "model_module": "@jupyter-widgets/controls",
      "model_module_version": "1.5.0",
      "model_name": "HTMLModel",
      "state": {
       "layout": "IPY_MODEL_66c333cf823a4102988b600030143614",
       "style": "IPY_MODEL_12195e44af3f42ac88893e894bec2463",
       "value": "<b>appInsightsEnabled:</b>"
      }
     },
     "c864ccd3244b44df9927fe4d2ca925f9": {
      "model_module": "@jupyter-widgets/base",
      "model_module_version": "1.2.0",
      "model_name": "LayoutModel",
      "state": {}
     },
     "c886d3edf33b4683a621a3a8d41b26f6": {
      "model_module": "@jupyter-widgets/controls",
      "model_module_version": "1.5.0",
      "model_name": "HBoxModel",
      "state": {
       "children": [
        "IPY_MODEL_dc502fe70b1f4ac3aa96d86b95488050",
        "IPY_MODEL_d3746e5f44fd4b228e00ba4c01f3e655"
       ],
       "layout": "IPY_MODEL_1ca59d00f1e240cb8516aaa7ce82426d"
      }
     },
     "c8c8c949cacf4757a5ef7c0d82eece48": {
      "model_module": "@jupyter-widgets/base",
      "model_module_version": "1.2.0",
      "model_name": "LayoutModel",
      "state": {}
     },
     "c95a907567dc4583ad294e21036c2a2a": {
      "model_module": "@jupyter-widgets/base",
      "model_module_version": "1.2.0",
      "model_name": "LayoutModel",
      "state": {}
     },
     "c99fd4811def498a815dff0641587041": {
      "model_module": "@jupyter-widgets/controls",
      "model_module_version": "1.5.0",
      "model_name": "DescriptionStyleModel",
      "state": {
       "description_width": "initial"
      }
     },
     "c9a9f4ffc6204fbfb043714477dd9972": {
      "model_module": "@jupyter-widgets/controls",
      "model_module_version": "1.5.0",
      "model_name": "HBoxModel",
      "state": {
       "children": [
        "IPY_MODEL_c3de7b6abfa24cea978f8d6eb5af08b1",
        "IPY_MODEL_69dd33edfeb94e7b9f2d26110ff70806"
       ],
       "layout": "IPY_MODEL_dc50a399831645d985ad4753fc8f63bd"
      }
     },
     "c9d8c9d408d34516851712345c7f17d7": {
      "model_module": "@jupyter-widgets/base",
      "model_module_version": "1.2.0",
      "model_name": "LayoutModel",
      "state": {}
     },
     "c9d92d8431f845869b2510c6b8b42db2": {
      "model_module": "@jupyter-widgets/base",
      "model_module_version": "1.2.0",
      "model_name": "LayoutModel",
      "state": {}
     },
     "ca2fc1da7eff4fd1974b9d9d4ca9581f": {
      "model_module": "@jupyter-widgets/controls",
      "model_module_version": "1.5.0",
      "model_name": "LabelModel",
      "state": {
       "layout": "IPY_MODEL_53470b14088643ccb275b5dba34870bf",
       "style": "IPY_MODEL_4a72381a0dae4d7f81bdcda60d350a96",
       "value": "Custom"
      }
     },
     "caec676f56c04f7097572174288dbba7": {
      "model_module": "@jupyter-widgets/base",
      "model_module_version": "1.2.0",
      "model_name": "LayoutModel",
      "state": {}
     },
     "cb4bd91ea9ca47faae443546bb391b14": {
      "model_module": "@jupyter-widgets/controls",
      "model_module_version": "1.5.0",
      "model_name": "HTMLModel",
      "state": {
       "layout": "IPY_MODEL_3baf4e17e0a54cf4aff3199fe60e44ca",
       "style": "IPY_MODEL_0ddf06d1290c4fafb9f507ed0decee26",
       "value": "<b>userIdp:</b>"
      }
     },
     "cb4ef060866b46ae865558a324733092": {
      "model_module": "@jupyter-widgets/controls",
      "model_module_version": "1.5.0",
      "model_name": "DescriptionStyleModel",
      "state": {
       "description_width": ""
      }
     },
     "cc0c1a8fae194b91a4aad5b19f1742ff": {
      "model_module": "@jupyter-widgets/controls",
      "model_module_version": "1.5.0",
      "model_name": "DescriptionStyleModel",
      "state": {
       "description_width": ""
      }
     },
     "cc96807f2a0d4bef91dd07115ca5e337": {
      "model_module": "@jupyter-widgets/base",
      "model_module_version": "1.2.0",
      "model_name": "LayoutModel",
      "state": {}
     },
     "cc9c085f1334404190dcfcd94b85772d": {
      "model_module": "@jupyter-widgets/controls",
      "model_module_version": "1.5.0",
      "model_name": "AccordionModel",
      "state": {
       "_titles": {
        "0": "environmentDetails"
       },
       "children": [
        "IPY_MODEL_a2d87cd7b10f41819cb9b462af74510e"
       ],
       "layout": "IPY_MODEL_2ca2413baa724dc8ba7385e527b0e616"
      }
     },
     "cdcf1405a5cc4a8e8ef864de75422f97": {
      "model_module": "@jupyter-widgets/base",
      "model_module_version": "1.2.0",
      "model_name": "LayoutModel",
      "state": {}
     },
     "cdff0e6be1b64f8f9f7b03bf01b4d751": {
      "model_module": "@jupyter-widgets/base",
      "model_module_version": "1.2.0",
      "model_name": "LayoutModel",
      "state": {}
     },
     "ce209eb35293432aabb585bb0cb4bf83": {
      "model_module": "@jupyter-widgets/controls",
      "model_module_version": "1.5.0",
      "model_name": "DescriptionStyleModel",
      "state": {
       "description_width": ""
      }
     },
     "ce23b83863a243679bd535cb2d7035f5": {
      "model_module": "@jupyter-widgets/base",
      "model_module_version": "1.2.0",
      "model_name": "LayoutModel",
      "state": {}
     },
     "ce497ed8c793466aab073cfea0f857d1": {
      "model_module": "@jupyter-widgets/base",
      "model_module_version": "1.2.0",
      "model_name": "LayoutModel",
      "state": {}
     },
     "ce60b91cf5da4f6e9e8072990b2c859d": {
      "model_module": "@jupyter-widgets/controls",
      "model_module_version": "1.5.0",
      "model_name": "DescriptionStyleModel",
      "state": {
       "description_width": ""
      }
     },
     "ced8f9f53c87416c9b8f075c8ed9959b": {
      "model_module": "@jupyter-widgets/base",
      "model_module_version": "1.2.0",
      "model_name": "LayoutModel",
      "state": {}
     },
     "cf37b9c720d7458fa0ec25a1233e8cd2": {
      "model_module": "@jupyter-widgets/base",
      "model_module_version": "1.2.0",
      "model_name": "LayoutModel",
      "state": {}
     },
     "cf537d6ef305429eaac862ebc9d0f98b": {
      "model_module": "@jupyter-widgets/controls",
      "model_module_version": "1.5.0",
      "model_name": "DescriptionStyleModel",
      "state": {
       "description_width": ""
      }
     },
     "cfd5d16979ef47c5b4ef45e163a42f73": {
      "model_module": "@jupyter-widgets/base",
      "model_module_version": "1.2.0",
      "model_name": "LayoutModel",
      "state": {}
     },
     "d01f68c89f96443ca1d081b290ec9db1": {
      "model_module": "@jupyter-widgets/controls",
      "model_module_version": "1.5.0",
      "model_name": "HTMLModel",
      "state": {
       "layout": "IPY_MODEL_a78c4d081afd4553b06e4fea9ac72c93",
       "style": "IPY_MODEL_50a036c76398465dbe4d686a5663f600",
       "value": "<b>imageDigest:</b>"
      }
     },
     "d086a173a44347eba8359af18af866d5": {
      "model_module": "@jupyter-widgets/controls",
      "model_module_version": "1.5.0",
      "model_name": "DescriptionStyleModel",
      "state": {
       "description_width": ""
      }
     },
     "d0ddcc0e50274db4b1bd17f2ad05c4ff": {
      "model_module": "@jupyter-widgets/base",
      "model_module_version": "1.2.0",
      "model_name": "LayoutModel",
      "state": {}
     },
     "d12ab50755d54ea28b30ebe824267995": {
      "model_module": "@jupyter-widgets/controls",
      "model_module_version": "1.5.0",
      "model_name": "DescriptionStyleModel",
      "state": {
       "description_width": ""
      }
     },
     "d160ee22adf547e39b4d1a4069f8383f": {
      "model_module": "@jupyter-widgets/base",
      "model_module_version": "1.2.0",
      "model_name": "LayoutModel",
      "state": {}
     },
     "d19f2a53374f4da28b33b48a9a2cfc98": {
      "model_module": "@jupyter-widgets/controls",
      "model_module_version": "1.5.0",
      "model_name": "DescriptionStyleModel",
      "state": {
       "description_width": ""
      }
     },
     "d1bb4f309de94954aaf4fe81a99a0881": {
      "model_module": "@jupyter-widgets/controls",
      "model_module_version": "1.5.0",
      "model_name": "HBoxModel",
      "state": {
       "children": [
        "IPY_MODEL_0f85c3112e2d4ed68d0e8bbcf2937c42",
        "IPY_MODEL_70811d926017468ca99f8dd7a739073c"
       ],
       "layout": "IPY_MODEL_3239a4b5b54d4b0ba1cba302c586319c"
      }
     },
     "d1e17e295b364d98b83e0a922d5b84de": {
      "model_module": "@jupyter-widgets/controls",
      "model_module_version": "1.5.0",
      "model_name": "DescriptionStyleModel",
      "state": {
       "description_width": ""
      }
     },
     "d2184cda87a44fa48fc776dfb9649d96": {
      "model_module": "@jupyter-widgets/controls",
      "model_module_version": "1.5.0",
      "model_name": "LabelModel",
      "state": {
       "layout": "IPY_MODEL_28261d68256d42d5bc0b5631534b709a",
       "style": "IPY_MODEL_5350bc598f554ba5bdb2ac0253096604",
       "value": "310"
      }
     },
     "d228c02625f14b48a94b7155faf19484": {
      "model_module": "@jupyter-widgets/controls",
      "model_module_version": "1.5.0",
      "model_name": "HBoxModel",
      "state": {
       "children": [
        "IPY_MODEL_4e791584df63467fba6c1a541166fc68",
        "IPY_MODEL_98785d89b99f465894b66c78b213a86e"
       ],
       "layout": "IPY_MODEL_871e11ea52dd4cee81934d3b1b91c44e"
      }
     },
     "d276e6ac27e548b0b0972144d49dd332": {
      "model_module": "@jupyter-widgets/base",
      "model_module_version": "1.2.0",
      "model_name": "LayoutModel",
      "state": {}
     },
     "d292397b867f4452a218230f85e29ad4": {
      "model_module": "@jupyter-widgets/controls",
      "model_module_version": "1.5.0",
      "model_name": "LabelModel",
      "state": {
       "layout": "IPY_MODEL_fae0e96a06de46248b051712f4431af8",
       "style": "IPY_MODEL_1ec1a5d082b44a9c9f79cbcbc822e779",
       "value": "Daniel Ciborowski"
      }
     },
     "d2cd7bcc35ee4089a8d7c62a0ce3d072": {
      "model_module": "@jupyter-widgets/controls",
      "model_module_version": "1.5.0",
      "model_name": "HTMLModel",
      "state": {
       "layout": "IPY_MODEL_d94206f54f104a2d86cdf0c1030bba29",
       "style": "IPY_MODEL_a40cf2496e084e4282c5c2951ff8a077",
       "value": "<b>statusCode:</b>"
      }
     },
     "d36d2acb6def4b4bbdec6de234b5a3d6": {
      "model_module": "@jupyter-widgets/base",
      "model_module_version": "1.2.0",
      "model_name": "LayoutModel",
      "state": {}
     },
     "d3746e5f44fd4b228e00ba4c01f3e655": {
      "model_module": "@jupyter-widgets/controls",
      "model_module_version": "1.5.0",
      "model_name": "LabelModel",
      "state": {
       "layout": "IPY_MODEL_b3a4ebb294214a9ea289693610792db6",
       "style": "IPY_MODEL_0b6158e269564da9803f14497f148e04",
       "value": "dciborow/no-cli"
      }
     },
     "d4485d4ee3a044aea784a63b220e9505": {
      "model_module": "@jupyter-widgets/controls",
      "model_module_version": "1.5.0",
      "model_name": "DescriptionStyleModel",
      "state": {
       "description_width": "initial"
      }
     },
     "d4cb4b3664134b3a96586fdf6ab48fc0": {
      "model_module": "@jupyter-widgets/controls",
      "model_module_version": "1.5.0",
      "model_name": "LabelModel",
      "state": {
       "layout": "IPY_MODEL_455ebeb76e6340028510d8834aef5fbc",
       "style": "IPY_MODEL_c47eabdfee7041a194d8a1a237467d5a",
       "value": "None"
      }
     },
     "d507edea85594fd390d4af3a5484b1bb": {
      "model_module": "@jupyter-widgets/controls",
      "model_module_version": "1.5.0",
      "model_name": "HTMLModel",
      "state": {
       "layout": "IPY_MODEL_99964851ca88435fb023248c69cb8a16",
       "style": "IPY_MODEL_9e6c46b87db84da1a27a7b8f1d91d037",
       "value": "<b>createdTime:</b>"
      }
     },
     "d65df4f2357d403fb4e730cc95d6b3a0": {
      "model_module": "@jupyter-widgets/base",
      "model_module_version": "1.2.0",
      "model_name": "LayoutModel",
      "state": {}
     },
     "d7597c0b8b304cbf9825743fe15fe35b": {
      "model_module": "@jupyter-widgets/base",
      "model_module_version": "1.2.0",
      "model_name": "LayoutModel",
      "state": {}
     },
     "d76dcd8ea8904efb81f51175ea2df523": {
      "model_module": "@jupyter-widgets/controls",
      "model_module_version": "1.5.0",
      "model_name": "TextModel",
      "state": {
       "description": "aks_name",
       "layout": "IPY_MODEL_0f6b75fe7fbd4426892c2cbd35b38355",
       "placeholder": "AKS Cluster Name",
       "style": "IPY_MODEL_51b42afc2e8e47baaa04db292171b4e9",
       "value": "akscluster2"
      }
     },
     "d7a1713aaf4847ebb0b9a87a46f0c552": {
      "model_module": "@jupyter-widgets/controls",
      "model_module_version": "1.5.0",
      "model_name": "DescriptionStyleModel",
      "state": {
       "description_width": ""
      }
     },
     "d7d0a8add9064aa59f8f9e14ce040c5e": {
      "model_module": "@jupyter-widgets/controls",
      "model_module_version": "1.5.0",
      "model_name": "DropdownModel",
      "state": {
       "_options_labels": [
        "eastus",
        "eastus2",
        "canadacentral",
        "centralus",
        "northcentralus",
        "southcentralus",
        "westcentralus",
        "westus",
        "westus2"
       ],
       "description": "aks_location",
       "index": 0,
       "layout": "IPY_MODEL_6389ff79b76b407898c527c793528f42",
       "style": "IPY_MODEL_817c33b5a7664b449f222130c5b1c936"
      }
     },
     "d8115e9c246542868576e1ed337d00d0": {
      "model_module": "@jupyter-widgets/controls",
      "model_module_version": "1.5.0",
      "model_name": "DescriptionStyleModel",
      "state": {
       "description_width": ""
      }
     },
     "d83134e86535406294d4039399538517": {
      "model_module": "@jupyter-widgets/controls",
      "model_module_version": "1.5.0",
      "model_name": "HBoxModel",
      "state": {
       "children": [
        "IPY_MODEL_992618db07ca4c8f94a75470caad3104",
        "IPY_MODEL_b65deff8c1284120a6fc6f6a0f328347"
       ],
       "layout": "IPY_MODEL_6b9d146916054690b8196499b0b7b0bb"
      }
     },
     "d8ab194221d24b8cb5cfbe7d05db0232": {
      "model_module": "@jupyter-widgets/controls",
      "model_module_version": "1.5.0",
      "model_name": "DescriptionStyleModel",
      "state": {
       "description_width": ""
      }
     },
     "d8cd90838d9347ec93d9e85f5c5bb85d": {
      "model_module": "@jupyter-widgets/controls",
      "model_module_version": "1.5.0",
      "model_name": "DescriptionStyleModel",
      "state": {
       "description_width": ""
      }
     },
     "d9112801466f46aa98565c84b833c084": {
      "model_module": "@jupyter-widgets/controls",
      "model_module_version": "1.5.0",
      "model_name": "DescriptionStyleModel",
      "state": {
       "description_width": ""
      }
     },
     "d919e20cefad4a62a977d8f78bc1bcd8": {
      "model_module": "@jupyter-widgets/base",
      "model_module_version": "1.2.0",
      "model_name": "LayoutModel",
      "state": {}
     },
     "d93edb6dae6e4d2c95742c945e7bccd8": {
      "model_module": "@jupyter-widgets/controls",
      "model_module_version": "1.5.0",
      "model_name": "DescriptionStyleModel",
      "state": {
       "description_width": ""
      }
     },
     "d94206f54f104a2d86cdf0c1030bba29": {
      "model_module": "@jupyter-widgets/base",
      "model_module_version": "1.2.0",
      "model_name": "LayoutModel",
      "state": {}
     },
     "d96a1887447e4f81adc11824fac47f30": {
      "model_module": "@jupyter-widgets/controls",
      "model_module_version": "1.5.0",
      "model_name": "LabelModel",
      "state": {
       "layout": "IPY_MODEL_35dac3a66f7b40edb34873d702923119",
       "style": "IPY_MODEL_f764e74fc14b4f5d8216b5833c1559be",
       "value": "fcf7950ee5d473a6ac61b217ef01527895499548"
      }
     },
     "d9d5d2c25b784bac91c819b36bf4b3f7": {
      "model_module": "@jupyter-widgets/base",
      "model_module_version": "1.2.0",
      "model_name": "LayoutModel",
      "state": {}
     },
     "d9dab197dce5455e888212297dd226ac": {
      "model_module": "@jupyter-widgets/controls",
      "model_module_version": "1.5.0",
      "model_name": "DescriptionStyleModel",
      "state": {
       "description_width": ""
      }
     },
     "da447cdd8ced458f95fd5082bed37bf9": {
      "model_module": "@jupyter-widgets/base",
      "model_module_version": "1.2.0",
      "model_name": "LayoutModel",
      "state": {}
     },
     "dab2d6193b8c4887a77b2c049daea98c": {
      "model_module": "@jupyter-widgets/controls",
      "model_module_version": "1.5.0",
      "model_name": "HBoxModel",
      "state": {
       "children": [
        "IPY_MODEL_4aa900c57ecf4285965a7f45651cd86d",
        "IPY_MODEL_0dd52cbda8c74f6c9bc0e1a75e12217e"
       ],
       "layout": "IPY_MODEL_664611131b63488582af20696650f8c4"
      }
     },
     "dad9e1c961534e3ab8af9062304c6903": {
      "model_module": "@jupyter-widgets/base",
      "model_module_version": "1.2.0",
      "model_name": "LayoutModel",
      "state": {}
     },
     "db9c8956a2f8456598b3e32d0fe32a53": {
      "model_module": "@jupyter-widgets/controls",
      "model_module_version": "1.5.0",
      "model_name": "HBoxModel",
      "state": {
       "children": [
        "IPY_MODEL_2bc0671c979940f6ab067166c259e5af",
        "IPY_MODEL_bbac84ff3a8f40b3a3e45062d1090c0d"
       ],
       "layout": "IPY_MODEL_82841a37f5da491b894fa75384c6665d"
      }
     },
     "dba8dec08c45470da78920b806f87660": {
      "model_module": "@jupyter-widgets/base",
      "model_module_version": "1.2.0",
      "model_name": "LayoutModel",
      "state": {}
     },
     "dbf655e5bbb54b4d927a3ed4f795872e": {
      "model_module": "@jupyter-widgets/base",
      "model_module_version": "1.2.0",
      "model_name": "LayoutModel",
      "state": {}
     },
     "dbfbef71d97c470b9605ee6a8226a59d": {
      "model_module": "@jupyter-widgets/controls",
      "model_module_version": "1.5.0",
      "model_name": "DescriptionStyleModel",
      "state": {
       "description_width": ""
      }
     },
     "dc286e61a8a545249699e39013fe6b4c": {
      "model_module": "@jupyter-widgets/controls",
      "model_module_version": "1.5.0",
      "model_name": "HTMLModel",
      "state": {
       "layout": "IPY_MODEL_dad9e1c961534e3ab8af9062304c6903",
       "style": "IPY_MODEL_05d02c424f8546d6954d9bd483260e5e",
       "value": "<b>computeName:</b>"
      }
     },
     "dc502fe70b1f4ac3aa96d86b95488050": {
      "model_module": "@jupyter-widgets/controls",
      "model_module_version": "1.5.0",
      "model_name": "HTMLModel",
      "state": {
       "layout": "IPY_MODEL_5fda72c4723243aa94df26febb8ecfe0",
       "style": "IPY_MODEL_07ca48d011764e8889579df71542a748",
       "value": "<b>azureml.git.branch:</b>"
      }
     },
     "dc50a399831645d985ad4753fc8f63bd": {
      "model_module": "@jupyter-widgets/base",
      "model_module_version": "1.2.0",
      "model_name": "LayoutModel",
      "state": {}
     },
     "dc69bbcdfada4b0bbb301b99102bec09": {
      "model_module": "@jupyter-widgets/base",
      "model_module_version": "1.2.0",
      "model_name": "LayoutModel",
      "state": {}
     },
     "dc7a3ab92902447bb44cebe9ae2e0360": {
      "model_module": "@jupyter-widgets/base",
      "model_module_version": "1.2.0",
      "model_name": "LayoutModel",
      "state": {}
     },
     "dc7e14523cdd4fa5b452f9af3659839f": {
      "model_module": "@jupyter-widgets/controls",
      "model_module_version": "1.5.0",
      "model_name": "LabelModel",
      "state": {
       "layout": "IPY_MODEL_1f6082825a4946d98d8880cbc662cb90",
       "style": "IPY_MODEL_ff3dee15d12b49e89ba746a9f72c97f8",
       "value": "True"
      }
     },
     "dc81bb917c794c28b734c434ee1f2b20": {
      "model_module": "@jupyter-widgets/controls",
      "model_module_version": "1.5.0",
      "model_name": "DescriptionStyleModel",
      "state": {
       "description_width": ""
      }
     },
     "dc8a05db18c3458595d29564c9083ac7": {
      "model_module": "@jupyter-widgets/controls",
      "model_module_version": "1.5.0",
      "model_name": "HBoxModel",
      "state": {
       "children": [
        "IPY_MODEL_559b5a78e8074cd18070ca9bf4d95393",
        "IPY_MODEL_114f1a9e493a4576834de4f119780c54"
       ],
       "layout": "IPY_MODEL_52630919704644ac8f46a8d0f4924255"
      }
     },
     "dd379ec3c4794d8fa59f63c13f46a22f": {
      "model_module": "@jupyter-widgets/controls",
      "model_module_version": "1.5.0",
      "model_name": "HBoxModel",
      "state": {
       "children": [
        "IPY_MODEL_b054020a504b46ea8e3a59ae8fa43913",
        "IPY_MODEL_4df24434de8f48e78afd137756ed1625"
       ],
       "layout": "IPY_MODEL_6a7ad3334e5c4d1198e1f1ac669fc6a0"
      }
     },
     "ddcbd4b54522496395f9bf73f08d76fc": {
      "model_module": "@jupyter-widgets/base",
      "model_module_version": "1.2.0",
      "model_name": "LayoutModel",
      "state": {}
     },
     "ddfbd35fd45e4f3f8d85e68e150408a0": {
      "model_module": "@jupyter-widgets/controls",
      "model_module_version": "1.5.0",
      "model_name": "DescriptionStyleModel",
      "state": {
       "description_width": ""
      }
     },
     "de3e486385454d80b09b9d17578e8d81": {
      "model_module": "@jupyter-widgets/controls",
      "model_module_version": "1.5.0",
      "model_name": "LabelModel",
      "state": {
       "layout": "IPY_MODEL_34ae9ec307444588826b3a779cdd367c",
       "style": "IPY_MODEL_2b742d3a911e415caece3942348af64e",
       "value": "None"
      }
     },
     "de79761d170848beb380660d45ce0af8": {
      "model_module": "@jupyter-widgets/base",
      "model_module_version": "1.2.0",
      "model_name": "LayoutModel",
      "state": {}
     },
     "dea991f3f00c4816b90fcfb9dc74b922": {
      "model_module": "@jupyter-widgets/controls",
      "model_module_version": "1.5.0",
      "model_name": "HTMLModel",
      "state": {
       "layout": "IPY_MODEL_77de5f3e8ee24630b269990b11eb3b7c",
       "style": "IPY_MODEL_cc0c1a8fae194b91a4aad5b19f1742ff",
       "value": "<b>url:</b>"
      }
     },
     "defce8b641034338a60937b3ce4eebf9": {
      "model_module": "@jupyter-widgets/base",
      "model_module_version": "1.2.0",
      "model_name": "LayoutModel",
      "state": {}
     },
     "dfb647ba3e794b65adf18c2b7b995f94": {
      "model_module": "@jupyter-widgets/controls",
      "model_module_version": "1.5.0",
      "model_name": "DescriptionStyleModel",
      "state": {
       "description_width": ""
      }
     },
     "dfdba56159ed43ebbe18c8f8f070d676": {
      "model_module": "@jupyter-widgets/controls",
      "model_module_version": "1.5.0",
      "model_name": "HTMLModel",
      "state": {
       "layout": "IPY_MODEL_323b8db480b1469c99709ea099964ac9",
       "style": "IPY_MODEL_191727a88be04b5e959c5e22b529fcb4",
       "value": "<img src=\"https://raw.githubusercontent.com/microsoft/AI-Utilities/master/docs/studio.png\">"
      }
     },
     "e037226577e046fea6e14f4ad649bbeb": {
      "model_module": "@jupyter-widgets/base",
      "model_module_version": "1.2.0",
      "model_name": "LayoutModel",
      "state": {}
     },
     "e0e6ea74ceca44e0a1928ab6e9021f0d": {
      "model_module": "@jupyter-widgets/controls",
      "model_module_version": "1.5.0",
      "model_name": "DescriptionStyleModel",
      "state": {
       "description_width": ""
      }
     },
     "e0f524e89ed4443b91611ef113ec889f": {
      "model_module": "@jupyter-widgets/base",
      "model_module_version": "1.2.0",
      "model_name": "LayoutModel",
      "state": {}
     },
     "e10b00d5e75c4209806d70b1a444b73e": {
      "model_module": "@jupyter-widgets/base",
      "model_module_version": "1.2.0",
      "model_name": "LayoutModel",
      "state": {}
     },
     "e1cf1037bc164b459b71f84ee1c5048b": {
      "model_module": "@jupyter-widgets/base",
      "model_module_version": "1.2.0",
      "model_name": "LayoutModel",
      "state": {}
     },
     "e1f6143ed29344318a09798967142cf3": {
      "model_module": "@jupyter-widgets/controls",
      "model_module_version": "1.5.0",
      "model_name": "HTMLModel",
      "state": {
       "layout": "IPY_MODEL_ced8f9f53c87416c9b8f075c8ed9959b",
       "style": "IPY_MODEL_04161deea97a44e49989e1b2b9c8aea6",
       "value": "<b>version:</b>"
      }
     },
     "e294f205b1554a23bbe12e25fa67e4c8": {
      "model_module": "@jupyter-widgets/base",
      "model_module_version": "1.2.0",
      "model_name": "LayoutModel",
      "state": {}
     },
     "e2ecc53d0c2f4071a73280e35bd0388b": {
      "model_module": "@jupyter-widgets/controls",
      "model_module_version": "1.5.0",
      "model_name": "HBoxModel",
      "state": {
       "children": [
        "IPY_MODEL_f0e9cc8912b2444780fdcefe8673e897",
        "IPY_MODEL_fc94227120954101ac7ed39091885ce6"
       ],
       "layout": "IPY_MODEL_dc69bbcdfada4b0bbb301b99102bec09"
      }
     },
     "e35c475b409f4d618c58298952c571f0": {
      "model_module": "@jupyter-widgets/base",
      "model_module_version": "1.2.0",
      "model_name": "LayoutModel",
      "state": {}
     },
     "e3611963def4448a9acb2699737da0f7": {
      "model_module": "@jupyter-widgets/base",
      "model_module_version": "1.2.0",
      "model_name": "LayoutModel",
      "state": {}
     },
     "e36e3a76f4a74a80960138b7720d1195": {
      "model_module": "@jupyter-widgets/controls",
      "model_module_version": "1.5.0",
      "model_name": "DropdownModel",
      "state": {
       "_options_labels": [
        "eastus",
        "eastus2",
        "canadacentral",
        "centralus",
        "northcentralus",
        "southcentralus",
        "westcentralus",
        "westus",
        "westus2"
       ],
       "description": "workspace_region",
       "index": 0,
       "layout": "IPY_MODEL_ef53501d28cd4da8989477b08b72c6b9",
       "style": "IPY_MODEL_04df15cf21f04910bd4e2d83600b7298"
      }
     },
     "e3aa8454b37a42718197fa8d5319ed42": {
      "model_module": "@jupyter-widgets/controls",
      "model_module_version": "1.5.0",
      "model_name": "LabelModel",
      "state": {
       "layout": "IPY_MODEL_ebed3412e7bb4b85b5f27da8863ab22f",
       "style": "IPY_MODEL_f4747487379c45e78e4d514b094abe3d",
       "value": "[{'createdTime': '2020-03-04T01:05:12.753405+00:00', 'createdBy': {'userObjectId': 'e6cc2e17-5968-49e6-bb8f-9fb978a0d450', 'userPuId': '1003BFFD8BE61032', 'userIdp': None, 'userAltSecId': None, 'userIss': 'https://sts.windows.net/72f988bf-86f1-41af-91ab-2d7cd011db47/', 'userTenantId': '72f988bf-86f1-41af-91ab-2d7cd011db47', 'userName': 'Daniel Ciborowski'}, 'description': None, 'id': 'resnet_model_2:4', 'mimeType': 'application/json', 'name': 'resnet_model_2', 'framework': 'Custom', 'frameworkVersion': None, 'tags': {}, 'properties': {}, 'unpack': False, 'url': 'aml://asset/5ab7f6be706a4cb8a658fa05810f9f97', 'version': 4, 'experimentName': 'dlrts-train-on-local', 'runId': 'dlrts-train-on-local_1583283740_f474032a', 'runDetails': 'Run(Experiment: dlrts-train-on-local,\\nId: dlrts-train-on-local_1583283740_f474032a,\\nType: azureml.scriptrun,\\nStatus: Completed)', 'datasets': {}, 'resourceConfiguration': None, 'sampleInputDatasetId': None, 'sampleOutputDatasetId': None}]"
      }
     },
     "e42541665be34988bbcc9d2c599db9dd": {
      "model_module": "@jupyter-widgets/base",
      "model_module_version": "1.2.0",
      "model_name": "LayoutModel",
      "state": {}
     },
     "e42c62f932cb4bd4823257713c5c09bd": {
      "model_module": "@jupyter-widgets/controls",
      "model_module_version": "1.5.0",
      "model_name": "ProgressStyleModel",
      "state": {
       "description_width": ""
      }
     },
     "e454f4430b6c4809b8b6a606a05cb993": {
      "model_module": "@jupyter-widgets/controls",
      "model_module_version": "1.5.0",
      "model_name": "LabelModel",
      "state": {
       "layout": "IPY_MODEL_2bbfab9e686b4a0b875942a4a0c42c35",
       "style": "IPY_MODEL_7daf322b6bcc4e958330bd4596230daf",
       "value": "True"
      }
     },
     "e502683164d8407c8ae1f97dd3f563e5": {
      "model_module": "@jupyter-widgets/controls",
      "model_module_version": "1.5.0",
      "model_name": "TextModel",
      "state": {
       "description": "aks_location",
       "layout": "IPY_MODEL_7b3a915fb4594bfdb1d16003daee02c1",
       "placeholder": " AKS Azure Region",
       "style": "IPY_MODEL_39343432cc1d4c7a80acc1b4194dc623",
       "value": "eastus"
      }
     },
     "e5030196a21c4993ae3ee6b43f22f7eb": {
      "model_module": "@jupyter-widgets/base",
      "model_module_version": "1.2.0",
      "model_name": "LayoutModel",
      "state": {}
     },
     "e50802a8bb684e73bcfa60699c16a512": {
      "model_module": "@jupyter-widgets/base",
      "model_module_version": "1.2.0",
      "model_name": "LayoutModel",
      "state": {}
     },
     "e57ebe03842a403087510f01f53aa63b": {
      "model_module": "@jupyter-widgets/base",
      "model_module_version": "1.2.0",
      "model_name": "LayoutModel",
      "state": {}
     },
     "e5aa966bac024dc4849743a985263a35": {
      "model_module": "@jupyter-widgets/controls",
      "model_module_version": "1.5.0",
      "model_name": "DescriptionStyleModel",
      "state": {
       "description_width": "initial"
      }
     },
     "e5e796ba57eb4acd9b3e6f360b6a3527": {
      "model_module": "@jupyter-widgets/controls",
      "model_module_version": "1.5.0",
      "model_name": "DescriptionStyleModel",
      "state": {
       "description_width": ""
      }
     },
     "e5ec23eea005488294df56d4b9455795": {
      "model_module": "@jupyter-widgets/controls",
      "model_module_version": "1.5.0",
      "model_name": "DescriptionStyleModel",
      "state": {
       "description_width": "initial"
      }
     },
     "e6102e8e1a7f4ce99f58a524df6634e5": {
      "model_module": "@jupyter-widgets/base",
      "model_module_version": "1.2.0",
      "model_name": "LayoutModel",
      "state": {}
     },
     "e61ccbf2b5644b83aabfe775e09ef528": {
      "model_module": "@jupyter-widgets/base",
      "model_module_version": "1.2.0",
      "model_name": "LayoutModel",
      "state": {}
     },
     "e6353b4544c64839be1e1d924b4ee295": {
      "model_module": "@jupyter-widgets/controls",
      "model_module_version": "1.5.0",
      "model_name": "DescriptionStyleModel",
      "state": {
       "description_width": ""
      }
     },
     "e6437be401d04211a6f8f3e2eca3705e": {
      "model_module": "@jupyter-widgets/base",
      "model_module_version": "1.2.0",
      "model_name": "LayoutModel",
      "state": {}
     },
     "e646822a064e45c9957f8ff5391ff98a": {
      "model_module": "@jupyter-widgets/controls",
      "model_module_version": "1.5.0",
      "model_name": "DescriptionStyleModel",
      "state": {
       "description_width": ""
      }
     },
     "e69d66d45a6c4669be5300d6e4af00f2": {
      "model_module": "@jupyter-widgets/base",
      "model_module_version": "1.2.0",
      "model_name": "LayoutModel",
      "state": {}
     },
     "e761b2590c32405ab424c98dee0a28ba": {
      "model_module": "@jupyter-widgets/base",
      "model_module_version": "1.2.0",
      "model_name": "LayoutModel",
      "state": {}
     },
     "e767dd84b27349999134340e023e820b": {
      "model_module": "@jupyter-widgets/output",
      "model_module_version": "1.0.0",
      "model_name": "OutputModel",
      "state": {
       "layout": "IPY_MODEL_eaf26c7c13bc455ca6d97d36823d7185",
       "msg_id": "dd1ef8c4-d1db-4fc2-97ed-f19b243b1732",
       "outputs": [
        {
         "name": "stdout",
         "output_type": "stream",
         "text": "Begin Deployment.\nStep 1: Get or Create Model\nCheck if Model exists.\nModel does exists.\nStep 2: Create Inference Configuration\nStep 3: Get or Create Kubernetes Cluster\nCheck if Cluster exists.\nCluster does exists.\nStep 4: Get or Create Web Service\nCheck if AKS Service Exists\nAKS Service Does Not Exists\nTest Score File Locally - Begin\nTest Score File Locally - Success\nModel Deploy - Begin\nRunning..........."
        }
       ]
      }
     },
     "e7ddbc1b685049d18d375d0d3150b94b": {
      "model_module": "@jupyter-widgets/controls",
      "model_module_version": "1.5.0",
      "model_name": "LabelModel",
      "state": {
       "layout": "IPY_MODEL_7e4612e775294e3ab0d2d03b1e47b1bc",
       "style": "IPY_MODEL_8e06f1d6670447b79041b182776b11df",
       "value": "None"
      }
     },
     "e83f64b7baeb486c91673cef33ce3868": {
      "model_module": "@jupyter-widgets/base",
      "model_module_version": "1.2.0",
      "model_name": "LayoutModel",
      "state": {}
     },
     "e89ba5d221244757871aedb016802c1c": {
      "model_module": "@jupyter-widgets/base",
      "model_module_version": "1.2.0",
      "model_name": "LayoutModel",
      "state": {}
     },
     "e95702f0686642bfa60fa48a1198a73a": {
      "model_module": "@jupyter-widgets/controls",
      "model_module_version": "1.5.0",
      "model_name": "DescriptionStyleModel",
      "state": {
       "description_width": ""
      }
     },
     "e97016901e6341979986f469227421df": {
      "model_module": "@jupyter-widgets/controls",
      "model_module_version": "1.5.0",
      "model_name": "HTMLModel",
      "state": {
       "layout": "IPY_MODEL_57eb6ac2fcdb4f4f9cb044431b7983d4",
       "style": "IPY_MODEL_16aa8babe5cf42b8a9b10faa0c5fbc9d",
       "value": "<b>runDetails:</b>"
      }
     },
     "ea1d324a79264d65bdb9d19b2d3e3a95": {
      "model_module": "@jupyter-widgets/base",
      "model_module_version": "1.2.0",
      "model_name": "LayoutModel",
      "state": {
       "width": "50%"
      }
     },
     "eaa8d95e91244adabcf1758606db5488": {
      "model_module": "@jupyter-widgets/base",
      "model_module_version": "1.2.0",
      "model_name": "LayoutModel",
      "state": {}
     },
     "eaf26c7c13bc455ca6d97d36823d7185": {
      "model_module": "@jupyter-widgets/base",
      "model_module_version": "1.2.0",
      "model_name": "LayoutModel",
      "state": {}
     },
     "eb99f1bad0464706a1947d7ded2a1aa8": {
      "model_module": "@jupyter-widgets/controls",
      "model_module_version": "1.5.0",
      "model_name": "VBoxModel",
      "state": {
       "children": [
        "IPY_MODEL_679fc97961ad4365a1b454c9afee76f5",
        "IPY_MODEL_3bf2d9cd6ec84f0db95699f0ec818cdb",
        "IPY_MODEL_c886d3edf33b4683a621a3a8d41b26f6",
        "IPY_MODEL_5abb47b69d7848b88438b6b02987ed97",
        "IPY_MODEL_8841f91c964141d3a90a4a28bc56f379",
        "IPY_MODEL_bc2c12122ba04e8597c44e61bb4fa277",
        "IPY_MODEL_bfbbe32f4b3443f687e9e819fa04f7cf"
       ],
       "layout": "IPY_MODEL_ba052d6cb6e5426392293f8581dcd5ec"
      }
     },
     "eba152cc6d6d4da7b7024b4cf9a05c9b": {
      "model_module": "@jupyter-widgets/base",
      "model_module_version": "1.2.0",
      "model_name": "LayoutModel",
      "state": {}
     },
     "eba72125ac57463a9accc2a8d7ce2dda": {
      "model_module": "@jupyter-widgets/base",
      "model_module_version": "1.2.0",
      "model_name": "LayoutModel",
      "state": {}
     },
     "ebed3412e7bb4b85b5f27da8863ab22f": {
      "model_module": "@jupyter-widgets/base",
      "model_module_version": "1.2.0",
      "model_name": "LayoutModel",
      "state": {}
     },
     "ec0ec8fc73c04bc198584fe8e4bcd984": {
      "model_module": "@jupyter-widgets/base",
      "model_module_version": "1.2.0",
      "model_name": "LayoutModel",
      "state": {}
     },
     "ec9cb2a6843d49729897675794c5ad61": {
      "model_module": "@jupyter-widgets/controls",
      "model_module_version": "1.5.0",
      "model_name": "DescriptionStyleModel",
      "state": {
       "description_width": ""
      }
     },
     "ed8b675a9b754d25b2642a482bc1bcd2": {
      "model_module": "@jupyter-widgets/controls",
      "model_module_version": "1.5.0",
      "model_name": "LabelModel",
      "state": {
       "layout": "IPY_MODEL_8947847caa114503b89cddb92c35c17b",
       "style": "IPY_MODEL_fe67f096cf0b411d827475ccf2aa5c19",
       "value": "Run(Experiment: dlrts-train-on-local,\nId: dlrts-train-on-local_1583283740_f474032a,\nType: azureml.scriptrun,\nStatus: Completed)"
      }
     },
     "ededed3a1dde4fe08b002d0f9906113a": {
      "model_module": "@jupyter-widgets/controls",
      "model_module_version": "1.5.0",
      "model_name": "HTMLModel",
      "state": {
       "layout": "IPY_MODEL_295cfbf720444bedb5bbbf6943a24175",
       "style": "IPY_MODEL_58f1cc9d8585405f9b6ccd6238f77cf1",
       "value": "<b>name:</b>"
      }
     },
     "ee42893c543d4e49a391ed61f17ccda4": {
      "model_module": "@jupyter-widgets/base",
      "model_module_version": "1.2.0",
      "model_name": "LayoutModel",
      "state": {}
     },
     "ee4cd4ab4a454d8b99a30967962bd0c2": {
      "model_module": "@jupyter-widgets/controls",
      "model_module_version": "1.5.0",
      "model_name": "DescriptionStyleModel",
      "state": {
       "description_width": ""
      }
     },
     "ee75f819b3424574bb7b170f2d6a14c9": {
      "model_module": "@jupyter-widgets/base",
      "model_module_version": "1.2.0",
      "model_name": "LayoutModel",
      "state": {}
     },
     "ee86355c81bf4a59829d49ca18f1186d": {
      "model_module": "@jupyter-widgets/base",
      "model_module_version": "1.2.0",
      "model_name": "LayoutModel",
      "state": {}
     },
     "eec560132a3148b9960476ae9b2a4255": {
      "model_module": "@jupyter-widgets/controls",
      "model_module_version": "1.5.0",
      "model_name": "VBoxModel",
      "state": {
       "children": [
        "IPY_MODEL_74e20f56a24f417282b4cbbf270f3a89",
        "IPY_MODEL_844732b444444baab2221af416771e23"
       ],
       "layout": "IPY_MODEL_e10b00d5e75c4209806d70b1a444b73e"
      }
     },
     "ef2f0190d0be456aafc837c1d1f85582": {
      "model_module": "@jupyter-widgets/base",
      "model_module_version": "1.2.0",
      "model_name": "LayoutModel",
      "state": {}
     },
     "ef39d738a1b84eb99c0b758a7d13c00a": {
      "model_module": "@jupyter-widgets/base",
      "model_module_version": "1.2.0",
      "model_name": "LayoutModel",
      "state": {}
     },
     "ef49411f27ec492a8e03979f5c78bb10": {
      "model_module": "@jupyter-widgets/controls",
      "model_module_version": "1.5.0",
      "model_name": "HTMLModel",
      "state": {
       "layout": "IPY_MODEL_1a8287e652964d5197de0c1d3d0a5726",
       "style": "IPY_MODEL_61a2ec063f274b1b9aeb325e78960d57",
       "value": "<b>name:</b>"
      }
     },
     "ef53501d28cd4da8989477b08b72c6b9": {
      "model_module": "@jupyter-widgets/base",
      "model_module_version": "1.2.0",
      "model_name": "LayoutModel",
      "state": {
       "width": "50%"
      }
     },
     "ef62c8a425ed431e8e7336c172250f93": {
      "model_module": "@jupyter-widgets/controls",
      "model_module_version": "1.5.0",
      "model_name": "DescriptionStyleModel",
      "state": {
       "description_width": ""
      }
     },
     "efc53f97791b4dabbc6dd6e6f274b251": {
      "model_module": "@jupyter-widgets/output",
      "model_module_version": "1.0.0",
      "model_name": "OutputModel",
      "state": {
       "layout": "IPY_MODEL_a96ab8ac248c4dff9e4d3ed58fa6ab5f",
       "outputs": [
        {
         "name": "stdout",
         "output_type": "stream",
         "text": "Test Begin\nScore Test Complete\n"
        }
       ]
      }
     },
     "efd5aef332e648d0b084d5ed6620c462": {
      "model_module": "@jupyter-widgets/controls",
      "model_module_version": "1.5.0",
      "model_name": "HBoxModel",
      "state": {
       "children": [
        "IPY_MODEL_0325700e0ede4e1e916415ec6b03a01d",
        "IPY_MODEL_873fe33e2fb34c84843465e23e8c6a10"
       ],
       "layout": "IPY_MODEL_c30fc372881542cbbe8339ebdf8458c4"
      }
     },
     "eff3c61204b74e2eaece752b3bd8392e": {
      "model_module": "@jupyter-widgets/controls",
      "model_module_version": "1.5.0",
      "model_name": "DescriptionStyleModel",
      "state": {
       "description_width": ""
      }
     },
     "f03fd683dd284579afef20e013d1811a": {
      "model_module": "@jupyter-widgets/base",
      "model_module_version": "1.2.0",
      "model_name": "LayoutModel",
      "state": {
       "width": "50%"
      }
     },
     "f0e9cc8912b2444780fdcefe8673e897": {
      "model_module": "@jupyter-widgets/controls",
      "model_module_version": "1.5.0",
      "model_name": "HTMLModel",
      "state": {
       "layout": "IPY_MODEL_101c3c1cca614a729350a0654abdee15",
       "style": "IPY_MODEL_b4d39aae6a5b4b49a01fc193e74bbf7f",
       "value": "<b>failureThreshold:</b>"
      }
     },
     "f108d1829d4640d28c44e0bea0879935": {
      "model_module": "@jupyter-widgets/controls",
      "model_module_version": "1.5.0",
      "model_name": "DescriptionStyleModel",
      "state": {
       "description_width": ""
      }
     },
     "f10c8e3eefc9444c860495a039152ee5": {
      "model_module": "@jupyter-widgets/controls",
      "model_module_version": "1.5.0",
      "model_name": "LabelModel",
      "state": {
       "layout": "IPY_MODEL_c95a907567dc4583ad294e21036c2a2a",
       "style": "IPY_MODEL_5ee9cfd9b91d48dfb0871abb2274105c",
       "value": "Compute Resource deepakscluster doesn't exist."
      }
     },
     "f13710e6b6dc4d7293adf36dd1ec7942": {
      "model_module": "@jupyter-widgets/base",
      "model_module_version": "1.2.0",
      "model_name": "LayoutModel",
      "state": {}
     },
     "f210689d5cf4461a970de4b5bf738eb3": {
      "model_module": "@jupyter-widgets/controls",
      "model_module_version": "1.5.0",
      "model_name": "DescriptionStyleModel",
      "state": {
       "description_width": ""
      }
     },
     "f2a5f52dc9da4fc386f5fd9299a902f5": {
      "model_module": "@jupyter-widgets/base",
      "model_module_version": "1.2.0",
      "model_name": "LayoutModel",
      "state": {}
     },
     "f4747487379c45e78e4d514b094abe3d": {
      "model_module": "@jupyter-widgets/controls",
      "model_module_version": "1.5.0",
      "model_name": "DescriptionStyleModel",
      "state": {
       "description_width": ""
      }
     },
     "f4ad46470e824a48b73328e38eaa177e": {
      "model_module": "@jupyter-widgets/base",
      "model_module_version": "1.2.0",
      "model_name": "LayoutModel",
      "state": {}
     },
     "f547d46c69d740c28830f7c8a4d6a651": {
      "model_module": "@jupyter-widgets/controls",
      "model_module_version": "1.5.0",
      "model_name": "HBoxModel",
      "state": {
       "children": [
        "IPY_MODEL_fa42efcc30144b3485163d3e9240c2b4",
        "IPY_MODEL_8a62de0aa6a54215bf7bbd5b1e12f3ce"
       ],
       "layout": "IPY_MODEL_be6d7b4968834548ba74e5694d9a2345"
      }
     },
     "f56a72debc3d4504a8a7144336707f51": {
      "model_module": "@jupyter-widgets/base",
      "model_module_version": "1.2.0",
      "model_name": "LayoutModel",
      "state": {}
     },
     "f644f459876f4534b85aee21559c633f": {
      "model_module": "@jupyter-widgets/base",
      "model_module_version": "1.2.0",
      "model_name": "LayoutModel",
      "state": {}
     },
     "f6bd6c3b9e7e4defbaf239edd8c103a2": {
      "model_module": "@jupyter-widgets/controls",
      "model_module_version": "1.5.0",
      "model_name": "DescriptionStyleModel",
      "state": {
       "description_width": ""
      }
     },
     "f710e256aa2246aaa70583365f3c066f": {
      "model_module": "@jupyter-widgets/base",
      "model_module_version": "1.2.0",
      "model_name": "LayoutModel",
      "state": {}
     },
     "f74ee815c1cf4f96a1a0d0c93d265433": {
      "model_module": "@jupyter-widgets/controls",
      "model_module_version": "1.5.0",
      "model_name": "DescriptionStyleModel",
      "state": {
       "description_width": ""
      }
     },
     "f764e74fc14b4f5d8216b5833c1559be": {
      "model_module": "@jupyter-widgets/controls",
      "model_module_version": "1.5.0",
      "model_name": "DescriptionStyleModel",
      "state": {
       "description_width": ""
      }
     },
     "f776a236c5804964b251ec29d177ecc2": {
      "model_module": "@jupyter-widgets/controls",
      "model_module_version": "1.5.0",
      "model_name": "ButtonStyleModel",
      "state": {}
     },
     "f7dba0efbbec4e0fa2ad415ccce91289": {
      "model_module": "@jupyter-widgets/controls",
      "model_module_version": "1.5.0",
      "model_name": "ButtonStyleModel",
      "state": {}
     },
     "f86781e3f35a4661bf7569c599378e13": {
      "model_module": "@jupyter-widgets/controls",
      "model_module_version": "1.5.0",
      "model_name": "DescriptionStyleModel",
      "state": {
       "description_width": ""
      }
     },
     "f877cf12f8d741898db4f1662dd6543b": {
      "model_module": "@jupyter-widgets/base",
      "model_module_version": "1.2.0",
      "model_name": "LayoutModel",
      "state": {}
     },
     "f8b70005832641479ff8561cdb09ef7f": {
      "model_module": "@jupyter-widgets/controls",
      "model_module_version": "1.5.0",
      "model_name": "TextModel",
      "state": {
       "description": "image_name",
       "layout": "IPY_MODEL_555c9772c160402692ed5702a4b9a70d",
       "placeholder": "Docker Container Image Name",
       "style": "IPY_MODEL_7f9502193ebe4c8a90a3ad3f8abc13ac",
       "value": "mymlimage2"
      }
     },
     "f8ce63e77ec2484f9ead3a409b83e803": {
      "model_module": "@jupyter-widgets/controls",
      "model_module_version": "1.5.0",
      "model_name": "LabelModel",
      "state": {
       "layout": "IPY_MODEL_a8181b658f664c02bf52cc9367679c58",
       "style": "IPY_MODEL_65ef81d9a38e4d8bbd85c9c53b8e6160",
       "value": "dlrts-train-on-local_1583283740_f474032a"
      }
     },
     "f8e8e3e643e44bf4abee3da20a777996": {
      "model_module": "@jupyter-widgets/controls",
      "model_module_version": "1.5.0",
      "model_name": "LabelModel",
      "state": {
       "layout": "IPY_MODEL_128e063b543b4ada8f47ed3e234a7ba5",
       "style": "IPY_MODEL_560569542ed14df68ff349bbf94ca249",
       "value": "False"
      }
     },
     "f8fe39d874a348e0bc3eda3f6f422403": {
      "model_module": "@jupyter-widgets/controls",
      "model_module_version": "1.5.0",
      "model_name": "HTMLModel",
      "state": {
       "layout": "IPY_MODEL_e61ccbf2b5644b83aabfe775e09ef528",
       "style": "IPY_MODEL_b1e0e7c5c14a4e799707101337e7a75f",
       "value": "<b>userPuId:</b>"
      }
     },
     "f90915db6b044a6aa36c9b09dd747d8e": {
      "model_module": "@jupyter-widgets/base",
      "model_module_version": "1.2.0",
      "model_name": "LayoutModel",
      "state": {}
     },
     "f9203dcd78e7485d87d9c1657c7ecc91": {
      "model_module": "@jupyter-widgets/controls",
      "model_module_version": "1.5.0",
      "model_name": "DescriptionStyleModel",
      "state": {
       "description_width": ""
      }
     },
     "f945fda52cf14eebbf8aa92962d7f9e1": {
      "model_module": "@jupyter-widgets/base",
      "model_module_version": "1.2.0",
      "model_name": "LayoutModel",
      "state": {}
     },
     "f9ae343672974ae791b43d635fe8d898": {
      "model_module": "@jupyter-widgets/controls",
      "model_module_version": "1.5.0",
      "model_name": "LabelModel",
      "state": {
       "layout": "IPY_MODEL_ce23b83863a243679bd535cb2d7035f5",
       "style": "IPY_MODEL_e646822a064e45c9957f8ff5391ff98a",
       "value": "1"
      }
     },
     "f9b51fc39aad4e118fd162299b54a1b9": {
      "model_module": "@jupyter-widgets/controls",
      "model_module_version": "1.5.0",
      "model_name": "DescriptionStyleModel",
      "state": {
       "description_width": ""
      }
     },
     "f9b5d1a508d54fa98b318e6215381bbb": {
      "model_module": "@jupyter-widgets/base",
      "model_module_version": "1.2.0",
      "model_name": "LayoutModel",
      "state": {}
     },
     "f9d518d9c55a40fbab1a5d07f2f08860": {
      "model_module": "@jupyter-widgets/controls",
      "model_module_version": "1.5.0",
      "model_name": "DescriptionStyleModel",
      "state": {
       "description_width": "initial"
      }
     },
     "f9e079555acf4db58c7089f96679de72": {
      "model_module": "@jupyter-widgets/controls",
      "model_module_version": "1.5.0",
      "model_name": "HBoxModel",
      "state": {
       "children": [
        "IPY_MODEL_d01f68c89f96443ca1d081b290ec9db1",
        "IPY_MODEL_d4cb4b3664134b3a96586fdf6ab48fc0"
       ],
       "layout": "IPY_MODEL_c328e40396db45f5bd369c4828d953c4"
      }
     },
     "f9f3d3af45d4401bace7860d1ac0cfa4": {
      "model_module": "@jupyter-widgets/controls",
      "model_module_version": "1.5.0",
      "model_name": "DescriptionStyleModel",
      "state": {
       "description_width": ""
      }
     },
     "f9f98cd0d2644cbab3b5d31dfadb1f9e": {
      "model_module": "@jupyter-widgets/controls",
      "model_module_version": "1.5.0",
      "model_name": "DescriptionStyleModel",
      "state": {
       "description_width": ""
      }
     },
     "fa42efcc30144b3485163d3e9240c2b4": {
      "model_module": "@jupyter-widgets/controls",
      "model_module_version": "1.5.0",
      "model_name": "HTMLModel",
      "state": {
       "layout": "IPY_MODEL_de79761d170848beb380660d45ce0af8",
       "style": "IPY_MODEL_313c3a6020154c6394a64e4cde57fa88",
       "value": "<b>userObjectId:</b>"
      }
     },
     "fae0e96a06de46248b051712f4431af8": {
      "model_module": "@jupyter-widgets/base",
      "model_module_version": "1.2.0",
      "model_name": "LayoutModel",
      "state": {}
     },
     "fb1089a97b5840d796220a5316191305": {
      "model_module": "@jupyter-widgets/base",
      "model_module_version": "1.2.0",
      "model_name": "LayoutModel",
      "state": {}
     },
     "fb623b93e4b3434b9b1d64b04c8842e9": {
      "model_module": "@jupyter-widgets/controls",
      "model_module_version": "1.5.0",
      "model_name": "LabelModel",
      "state": {
       "layout": "IPY_MODEL_75ab234b87784484b9015eced14b80fc",
       "style": "IPY_MODEL_d9112801466f46aa98565c84b833c084",
       "value": "deepakscluster"
      }
     },
     "fc1579f9834f42179a643788b42ea462": {
      "model_module": "@jupyter-widgets/base",
      "model_module_version": "1.2.0",
      "model_name": "LayoutModel",
      "state": {}
     },
     "fc94227120954101ac7ed39091885ce6": {
      "model_module": "@jupyter-widgets/controls",
      "model_module_version": "1.5.0",
      "model_name": "LabelModel",
      "state": {
       "layout": "IPY_MODEL_cdff0e6be1b64f8f9f7b03bf01b4d751",
       "style": "IPY_MODEL_3c7f31e319e24ed6b329b84ed6edbb29",
       "value": "3"
      }
     },
     "fcd61ab68cd6498e8cbe54c4b309dccd": {
      "model_module": "@jupyter-widgets/controls",
      "model_module_version": "1.5.0",
      "model_name": "HBoxModel",
      "state": {
       "children": [
        "IPY_MODEL_04b9dfdb332d486b8d38cf1dd991daa8",
        "IPY_MODEL_ffb603fe90874bae855d6e2a012cc7ad"
       ],
       "layout": "IPY_MODEL_a894cd43f3474de6ba4c0a1bb7d2bc7f"
      }
     },
     "fd211949a9084ddfbf28e1aa1e10c3ec": {
      "model_module": "@jupyter-widgets/controls",
      "model_module_version": "1.5.0",
      "model_name": "HBoxModel",
      "state": {
       "children": [
        "IPY_MODEL_ededed3a1dde4fe08b002d0f9906113a",
        "IPY_MODEL_29b6be8cf02548028535d193e8ea5227"
       ],
       "layout": "IPY_MODEL_777769c0a8534fffafaf463715fb861b"
      }
     },
     "fe17eb1efea14c7889b8499367e8819d": {
      "model_module": "@jupyter-widgets/controls",
      "model_module_version": "1.5.0",
      "model_name": "DescriptionStyleModel",
      "state": {
       "description_width": ""
      }
     },
     "fe67f096cf0b411d827475ccf2aa5c19": {
      "model_module": "@jupyter-widgets/controls",
      "model_module_version": "1.5.0",
      "model_name": "DescriptionStyleModel",
      "state": {
       "description_width": ""
      }
     },
     "fea6632d03ec4932acefc576e0a553e8": {
      "model_module": "@jupyter-widgets/base",
      "model_module_version": "1.2.0",
      "model_name": "LayoutModel",
      "state": {}
     },
     "ff3dee15d12b49e89ba746a9f72c97f8": {
      "model_module": "@jupyter-widgets/controls",
      "model_module_version": "1.5.0",
      "model_name": "DescriptionStyleModel",
      "state": {
       "description_width": ""
      }
     },
     "ffb603fe90874bae855d6e2a012cc7ad": {
      "model_module": "@jupyter-widgets/controls",
      "model_module_version": "1.5.0",
      "model_name": "LabelModel",
      "state": {
       "layout": "IPY_MODEL_76a3097951d44526bbfc2c9852bf79e0",
       "style": "IPY_MODEL_f86781e3f35a4661bf7569c599378e13",
       "value": "None"
      }
     },
     "ffe6f4530e0442868945b29f64270d3d": {
      "model_module": "@jupyter-widgets/base",
      "model_module_version": "1.2.0",
      "model_name": "LayoutModel",
      "state": {}
     }
    },
    "version_major": 2,
    "version_minor": 0
   }
  }
 },
 "nbformat": 4,
 "nbformat_minor": 4
}
