{
 "cells": [
  {
   "cell_type": "markdown",
   "metadata": {},
   "source": [
    "[![Azure Notebooks](https://notebooks.azure.com/launch.png)](https://notebooks.azure.com/import/gh/microsoft/AI-Utilities)\n",
    "[![Binder](https://mybinder.org/badge_logo.svg)](https://mybinder.org/v2/gh/microsoft/AI-Utilities/deep_learning_2?filepath=notebooks%2Fai-deep-realtime-score.ipynb)\n",
    "[![Open In Colab](https://colab.research.google.com/assets/colab-badge.svg)](http://colab.research.google.com/github/microsoft/AI-Utilities/blob/deep_learning_2/notebooks/ai-deep-realtime-score.ipynb)"
   ]
  },
  {
   "cell_type": "markdown",
   "metadata": {
    "toc": true
   },
   "source": [
    "<h1>Table of Contents<span class=\"tocSkip\"></span></h1>\n",
    "<div class=\"toc\"><ul class=\"toc-item\"><li><span><a href=\"#Deploy-Solution\" data-toc-modified-id=\"Deploy-Solution-1\">Deploy Solution</a></span><ul class=\"toc-item\"><li><span><a href=\"#Create-Configuration\" data-toc-modified-id=\"Create-Configuration-1.1\">Create Configuration</a></span></li><li><span><a href=\"#Create-Train.py\" data-toc-modified-id=\"Create-Train.py-1.2\">Create Train.py</a></span></li><li><span><a href=\"#Create-Score.py\" data-toc-modified-id=\"Create-Score.py-1.3\">Create Score.py</a></span></li><li><span><a href=\"#Deploy-to-Azure-Kubernetes-Service-with-Azure-ML\" data-toc-modified-id=\"Deploy-to-Azure-Kubernetes-Service-with-Azure-ML-1.4\">Deploy to Azure Kubernetes Service with Azure ML</a></span></li></ul></li><li><span><a href=\"#Deploy-Services\" data-toc-modified-id=\"Deploy-Services-2\">Deploy Services</a></span><ul class=\"toc-item\"><li><span><a href=\"#Machine-Learning-Studio\" data-toc-modified-id=\"Machine-Learning-Studio-2.1\">Machine Learning Studio</a></span></li><li><span><a href=\"#Kubernetes\" data-toc-modified-id=\"Kubernetes-2.2\">Kubernetes</a></span></li><li><span><a href=\"#Application-Insights\" data-toc-modified-id=\"Application-Insights-2.3\">Application Insights</a></span><ul class=\"toc-item\"><li><span><a href=\"#Main\" data-toc-modified-id=\"Main-2.3.1\">Main</a></span></li><li><span><a href=\"#Availability\" data-toc-modified-id=\"Availability-2.3.2\">Availability</a></span></li><li><span><a href=\"#Performance-Dashboard\" data-toc-modified-id=\"Performance-Dashboard-2.3.3\">Performance Dashboard</a></span></li><li><span><a href=\"#Load-Test\" data-toc-modified-id=\"Load-Test-2.3.4\">Load Test</a></span></li></ul></li></ul></li></ul></div>"
   ]
  },
  {
   "cell_type": "markdown",
   "metadata": {},
   "source": [
    "## Overview\n",
    "In the [az-deep-realtime-score repository](https://github.com/microsoft/az-deep-realtime-score) there are a number of tutorials in Jupyter notebooks that have step-by-step instructions on how to deploy a pretrained deep learning model on a GPU enabled Kubernetes cluster throught Azure Machine Learning (AzureML). The tutorials cover how to deploy models with the deep learning framework Keras (TensorFlow backend)\n",
    "\n",
    "![alt text](https://happypathspublic.blob.core.windows.net/aksdeploymenttutorialaml/example.png \"Example Classification\")\n",
    " \n",
    "We go through the following steps:\n",
    " * Create an AzureML Workspace\n",
    " * Model development where we load the pretrained model and test it by using it to score images\n",
    " * Develop the API that will call our model \n",
    " * AKS\n",
    "     * Creating our Kubernetes cluster and deploying our application to it\n",
    "     * Testing the deployed model\n",
    "     * Testing the throughput of our model\n",
    "     * Cleaning up resources\n",
    "\n",
    "## Design\n",
    "![](https://docs.microsoft.com/en-us/azure/architecture/reference-architectures/ai/_images/python-model-architecture.png)\n",
    "\n",
    "As described on the associated [Azure Reference Architecture page](https://docs.microsoft.com/en-us/azure/architecture/reference-architectures/ai/realtime-scoring-python), the application we will develop is a simple image classification service, where we will submit an image and get back what class the image belongs to. The application flow for the deep learning model is as follows:\n",
    "1.\tDeep learning model is registered to AzureML model registry.\n",
    "1.\tAzureML creates a docker image including the model and scoring script.\n",
    "1.\tAzureML deploys the scoring image on the chosen deployment compute target (AKS) as a web service.\n",
    "1.\tThe client sends a HTTP POST request with the encoded image data.\n",
    "1.\tThe web service created by AzureML preprocesses the image data and sends it to the model for scoring.\n",
    "1.\tThe predicted categories with their scores are then returned to the client.\n",
    "\n",
    "\n",
    "**NOTE**: The tutorial goes through step by step how to deploy a deep learning model on Azure; it **does** **not** include enterprise best practices such as securing the endpoints and setting up remote logging etc. \n",
    "\n",
    "**Deploying with GPUS:** For a detailed comparison of the deployments of various deep learning models, see the blog post [here](https://azure.microsoft.com/en-us/blog/gpus-vs-cpus-for-deployment-of-deep-learning-models/) which provides evidence that, at least in the scenarios tested, GPUs provide better throughput and stability at a lower cost.\n",
    "\n",
    "## Quick Start\n",
    "Run this notebook to quickly setup the entire solution, and explore the custom train.py and score.py used in this example.\n",
    "\n",
    "Run all the cells to get started. \n",
    "> _**Action Required:** You will be prompted to login to Azure before the Widget is displayed and the notebook can continue._\n",
    "\n",
    "### Sample Configuration Widget\n",
    "Run the following code to produce this configuration widget in order to provide setting for the Azure Machine Learning deployment. Enter configuration settings, or upload an existing project.yml.\n",
    "\n",
    "\n",
    "### Create Configuration Widget\n"
   ]
  },
  {
   "cell_type": "code",
   "execution_count": 7,
   "metadata": {
    "ExecuteTime": {
     "end_time": "2020-03-06T06:15:04.044101Z",
     "start_time": "2020-03-06T06:14:15.113616Z"
    },
    "init_cell": true,
    "pycharm": {
     "is_executing": true
    }
   },
   "outputs": [
    {
     "data": {
      "application/vnd.jupyter.widget-view+json": {
       "model_id": "1ca11c59b2ec4e26858abb347e40ab69",
       "version_major": 2,
       "version_minor": 0
      },
      "text/plain": [
       "VBox(children=(Output(), FileUpload(value={}, accept='.yml', description='Upload', layout=Layout(width='50%'))…"
      ]
     },
     "metadata": {},
     "output_type": "display_data"
    }
   ],
   "source": [
    "import os\n",
    "\n",
    "from azure_utils.notebook_widgets.notebook_configuration_widget import get_configuration_widget, test_train_py_button, test_score_py_button, deploy_button\n",
    "\n",
    "project_configuration = \"notebook_project.yml\"\n",
    "os.makedirs(\"script\", exist_ok=True)\n",
    "os.makedirs(\"source\", exist_ok=True)\n",
    "configuration_widget = get_configuration_widget(project_configuration)\n",
    "configuration_widget"
   ]
  },
  {
   "cell_type": "markdown",
   "metadata": {
    "pycharm": {
     "name": "#%% md\n"
    }
   },
   "source": [
    "### Create Train.py\n",
    "\n",
    "The following code trains a model and saves it to the output directory. For more details see this [sample notebook](https://github.com/microsoft/az-deep-realtime-score/blob/master/%7B%7Bcookiecutter.project_name%7D%7D/Keras_Tensorflow/01_DevelopModel.ipynb).\n",
    "\n",
    "\n",
    "```python\n",
    "import os\n",
    "\n",
    "from azure_utils.samples.deep_rts_samples import MakeResNet152\n",
    "\n",
    "if __name__ == \"__main__\":\n",
    "    import warnings\n",
    "\n",
    "    with warnings.catch_warnings():\n",
    "        warnings.filterwarnings(\"ignore\", category=FutureWarning)\n",
    "        import tensorflow as tf\n",
    "        tf.logging.set_verbosity(tf.logging.ERROR)\n",
    "\n",
    "        os.makedirs(\"outputs\", exist_ok=True)\n",
    "        model = MakeResNet152(include_top=False, input_shape=(200, 200, 3), pooling=\"avg\", weights=\"imagenet\")\n",
    "        model.save_weights(\"outputs/model.pkl\")\n",
    "```\n",
    "\n",
    "Write this file to a script that will be used to train the model locally with Azure Machine Learning."
   ]
  },
  {
   "cell_type": "code",
   "execution_count": 2,
   "metadata": {
    "pycharm": {
     "name": "#%%\n"
    }
   },
   "outputs": [
    {
     "name": "stdout",
     "output_type": "stream",
     "text": [
      "Overwriting script/train_dl.py\n"
     ]
    }
   ],
   "source": [
    "%%writefile script/train_dl.py\n",
    "\n",
    "def train():\n",
    "    import warnings\n",
    "    import os\n",
    "\n",
    "    from azure_utils.samples.deep_rts_samples import MakeResNet152\n",
    "\n",
    "\n",
    "    with warnings.catch_warnings():\n",
    "        warnings.filterwarnings(\"ignore\", category=FutureWarning)\n",
    "\n",
    "        os.makedirs(\"outputs\", exist_ok=True)\n",
    "        model = MakeResNet152(include_top=False, input_shape=(200, 200, 3), pooling=\"avg\", weights=\"imagenet\")\n",
    "        model.save_weights(\"outputs/model.pkl\")\n",
    "\n",
    "if __name__ == \"__main__\":\n",
    "    train()\n"
   ]
  },
  {
   "cell_type": "markdown",
   "metadata": {},
   "source": [
    "> _**Optional:** Test the training code locally before deployment. This is particularly useful when authoring a train.py file._"
   ]
  },
  {
   "cell_type": "code",
   "execution_count": 3,
   "metadata": {},
   "outputs": [
    {
     "data": {
      "application/vnd.jupyter.widget-view+json": {
       "model_id": "8b82f971cc6f40dcad30572033b1a4c9",
       "version_major": 2,
       "version_minor": 0
      },
      "text/plain": [
       "VBox(children=(Button(description='Test train.py', layout=Layout(height='80px', width='80%'), style=ButtonStyl…"
      ]
     },
     "metadata": {},
     "output_type": "display_data"
    }
   ],
   "source": [
    "test_train_py_button()"
   ]
  },
  {
   "cell_type": "markdown",
   "metadata": {
    "pycharm": {
     "name": "#%% md\n"
    }
   },
   "source": [
    "### Create Score.py\n",
    "The scoring script is used to create a rest service. The model is loaded, and is used to make predictions on incoming requests. For more details see this [sample notebook](https://github.com/microsoft/az-deep-realtime-score/blob/master/%7B%7Bcookiecutter.project_name%7D%7D/Keras_Tensorflow/02_DevelopModelDriver.ipynb).\n",
    "\n",
    "```python\n",
    "import sys\n",
    "sys.setrecursionlimit(3000)\n",
    "\n",
    "from azureml.contrib.services.aml_request import rawhttp\n",
    "from azureml.contrib.services.aml_response import AMLResponse\n",
    "\n",
    "def init():\n",
    "    \"\"\" Initialise the model and scoring function\n",
    "    \"\"\"\n",
    "    global process_and_score\n",
    "    from azure_utils.samples.deep_rts_samples import get_model_api\n",
    "    process_and_score = get_model_api()\n",
    "\n",
    "\n",
    "@rawhttp\n",
    "def run(request):\n",
    "    \"\"\" Make a prediction based on the data passed in using the preloaded model\n",
    "    \"\"\"\n",
    "    from azure_utils.machine_learning.realtime import default_response\n",
    "    if request.method == 'POST':\n",
    "        return process_and_score(request.files)\n",
    "    return default_response(request)\n",
    "```\n",
    "This code will be used to create an API using the trained model."
   ]
  },
  {
   "cell_type": "code",
   "execution_count": 4,
   "metadata": {
    "collapsed": false,
    "jupyter": {
     "outputs_hidden": false
    },
    "pycharm": {
     "name": "#%%\n"
    }
   },
   "outputs": [
    {
     "name": "stdout",
     "output_type": "stream",
     "text": [
      "Overwriting source/score.py\n"
     ]
    }
   ],
   "source": [
    "%%writefile source/score.py\n",
    "\n",
    "import sys\n",
    "sys.setrecursionlimit(3000)\n",
    "\n",
    "from azureml.contrib.services.aml_request import rawhttp\n",
    "from azureml.contrib.services.aml_response import AMLResponse\n",
    "\n",
    "def init():\n",
    "    \"\"\" Initialise the model and scoring function\n",
    "    \"\"\"\n",
    "    global process_and_score\n",
    "    from azure_utils.samples.deep_rts_samples import get_model_api\n",
    "    process_and_score = get_model_api()\n",
    "\n",
    "\n",
    "@rawhttp\n",
    "def run(request):\n",
    "    \"\"\" Make a prediction based on the data passed in using the preloaded model\n",
    "    \"\"\"\n",
    "    from azure_utils.machine_learning.realtime import default_response\n",
    "    if request.method == 'POST':\n",
    "        return process_and_score(request.files)\n",
    "    return default_response(request)"
   ]
  },
  {
   "cell_type": "markdown",
   "metadata": {},
   "source": [
    "> _**Optional:** Test the code locally before deployment. This is particularly useful when authoring a score.py file.._"
   ]
  },
  {
   "cell_type": "code",
   "execution_count": 5,
   "metadata": {},
   "outputs": [
    {
     "data": {
      "application/vnd.jupyter.widget-view+json": {
       "model_id": "4fbac8423ee5488d9b9b5c9514e68e98",
       "version_major": 2,
       "version_minor": 0
      },
      "text/plain": [
       "VBox(children=(Button(description='Test score.py', layout=Layout(align_content='center', height='80px', width=…"
      ]
     },
     "metadata": {},
     "output_type": "display_data"
    }
   ],
   "source": [
    "test_score_py_button(score_py=\"source/score.py\")"
   ]
  },
  {
   "cell_type": "markdown",
   "metadata": {
    "pycharm": {
     "name": "#%% md\n"
    }
   },
   "source": [
    "### Deploy to Azure Kubernetes Service with Azure ML\n",
    "\n",
    "Train the model locally, and then deploy the web service to an Azure Kubernetes Cluster managed by an Azure Machine Learning Workspace. Use the output widget to explore the deployed resources.\n",
    "For more details see this [sample notebook](https://github.com/microsoft/az-deep-realtime-score/blob/master/%7B%7Bcookiecutter.project_name%7D%7D/Keras_Tensorflow/aks/04_DeployOnAKS.ipynb).\n",
    "\n",
    "> _**Action Required:** Press the button to deploy the scripts to Azure Machine Learning._"
   ]
  },
  {
   "cell_type": "code",
   "execution_count": 8,
   "metadata": {
    "pycharm": {
     "name": "#%%\n"
    }
   },
   "outputs": [
    {
     "data": {
      "application/vnd.jupyter.widget-view+json": {
       "model_id": "2236a6b2a0434b61a912b6fe24543742",
       "version_major": 2,
       "version_minor": 0
      },
      "text/plain": [
       "VBox(children=(Button(description='Deploy Azure Machine Learning Services', layout=Layout(height='80px', justi…"
      ]
     },
     "metadata": {},
     "output_type": "display_data"
    }
   ],
   "source": [
    "deploy_button(project_configuration, train_py=\"train_dl.py\", score_py=\"score.py\")"
   ]
  },
  {
   "cell_type": "code",
   "execution_count": null,
   "metadata": {},
   "outputs": [],
   "source": []
  }
 ],
 "metadata": {
  "celltoolbar": "Initialization Cell",
  "kernelspec": {
   "display_name": "AI",
   "language": "python",
   "name": "ai-utilities"
  },
  "language_info": {
   "codemirror_mode": {
    "name": "ipython",
    "version": 3
   },
   "file_extension": ".py",
   "mimetype": "text/x-python",
   "name": "python",
   "nbconvert_exporter": "python",
   "pygments_lexer": "ipython3",
   "version": "3.7.6"
  },
  "toc": {
   "base_numbering": 1,
   "nav_menu": {},
   "number_sections": false,
   "sideBar": true,
   "skip_h1_title": false,
   "title_cell": "Table of Contents",
   "title_sidebar": "Contents",
   "toc_cell": true,
   "toc_position": {
    "height": "237px",
    "left": "488px",
    "top": "188px",
    "width": "561px"
   },
   "toc_section_display": true,
   "toc_window_display": false
  },
  "widgets": {
   "application/vnd.jupyter.widget-state+json": {
    "state": {
     "0000af9242834b91b9276ef832aeb3b8": {
      "model_module": "@jupyter-widgets/base",
      "model_module_version": "1.2.0",
      "model_name": "LayoutModel",
      "state": {}
     },
     "000633679bcc42debd594774e9549afb": {
      "model_module": "@jupyter-widgets/controls",
      "model_module_version": "1.5.0",
      "model_name": "LabelModel",
      "state": {
       "layout": "IPY_MODEL_50f1430c429446378e79baebb6acb7aa",
       "style": "IPY_MODEL_4a940eda2a9a435d9c43498d3f5826df",
       "value": "None"
      }
     },
     "001e321f0704499b80f4a4a5f416b35b": {
      "model_module": "@jupyter-widgets/controls",
      "model_module_version": "1.5.0",
      "model_name": "AccordionModel",
      "state": {
       "_titles": {
        "0": "createdBy"
       },
       "children": [
        "IPY_MODEL_aa92b561931f4a5184f5f4e8880ec503"
       ],
       "layout": "IPY_MODEL_6b2eb7a02c654f9387b19427d81a3051"
      }
     },
     "002f1e027ae54a11a3cea6be5c888ec6": {
      "model_module": "@jupyter-widgets/controls",
      "model_module_version": "1.5.0",
      "model_name": "HBoxModel",
      "state": {
       "children": [
        "IPY_MODEL_3108c7a579834b77bf3b15812fe2ba62",
        "IPY_MODEL_7c06237cde3f432f9ff3ffb5b9bd37e2"
       ],
       "layout": "IPY_MODEL_c47f33302a8d42688e2d4ef44ab69a94"
      }
     },
     "0032a6fa96ba4d4e8221d279cade596b": {
      "model_module": "@jupyter-widgets/controls",
      "model_module_version": "1.5.0",
      "model_name": "HTMLModel",
      "state": {
       "layout": "IPY_MODEL_9d118614ccdc4a59ae62fe2fdd3434ba",
       "style": "IPY_MODEL_d93edb6dae6e4d2c95742c945e7bccd8",
       "value": "<b>unpack:</b>"
      }
     },
     "004be6fc7ab54f838c9ce1b26546035f": {
      "model_module": "@jupyter-widgets/controls",
      "model_module_version": "1.5.0",
      "model_name": "AccordionModel",
      "state": {
       "_titles": {
        "0": "createdBy"
       },
       "children": [
        "IPY_MODEL_1f5f192026bb4fcfb043c4ba85d1c1ca"
       ],
       "layout": "IPY_MODEL_6dd25fa8d5fa48278f5bdc869fcb10a1"
      }
     },
     "0057ebf2f3554a6192a562f3c718be96": {
      "model_module": "@jupyter-widgets/base",
      "model_module_version": "1.2.0",
      "model_name": "LayoutModel",
      "state": {}
     },
     "008d56006006470eab5c4fdfe7ca7614": {
      "model_module": "@jupyter-widgets/controls",
      "model_module_version": "1.5.0",
      "model_name": "DescriptionStyleModel",
      "state": {
       "description_width": ""
      }
     },
     "009de68de38f4199a664ccab3a7b5426": {
      "model_module": "@jupyter-widgets/base",
      "model_module_version": "1.2.0",
      "model_name": "LayoutModel",
      "state": {}
     },
     "00b24a41bb3c4a5fb7418ee0ef102806": {
      "model_module": "@jupyter-widgets/controls",
      "model_module_version": "1.5.0",
      "model_name": "LabelModel",
      "state": {
       "layout": "IPY_MODEL_24261975f624409b966bf5f8a933739c",
       "style": "IPY_MODEL_4fe3666b42334702b9ec12d70b79f239",
       "value": "None"
      }
     },
     "00beffc2bf76493eb089683a31f9dc51": {
      "model_module": "@jupyter-widgets/controls",
      "model_module_version": "1.5.0",
      "model_name": "DescriptionStyleModel",
      "state": {
       "description_width": ""
      }
     },
     "00c16f1ff11247e8bcd04e3ec678499c": {
      "model_module": "@jupyter-widgets/controls",
      "model_module_version": "1.5.0",
      "model_name": "LabelModel",
      "state": {
       "layout": "IPY_MODEL_75688fb13b514ead8d0460a3131263ab",
       "style": "IPY_MODEL_8c0ea425d356447b908f61f8a7c578f4",
       "value": "5"
      }
     },
     "00d210d756bb4880a2dab94bfc727dc2": {
      "model_module": "@jupyter-widgets/base",
      "model_module_version": "1.2.0",
      "model_name": "LayoutModel",
      "state": {}
     },
     "00d64594a10c45b6acac9cfbc78daf53": {
      "model_module": "@jupyter-widgets/controls",
      "model_module_version": "1.5.0",
      "model_name": "HBoxModel",
      "state": {
       "children": [
        "IPY_MODEL_a067e06876604dcc8d7e4a16e916aef0",
        "IPY_MODEL_08b1a1bf01bb40b68ae9ef40aab91256"
       ],
       "layout": "IPY_MODEL_3d695c3a0bc74a8e9630d7bb34e30ec0"
      }
     },
     "011472d544b240d9b9fd65a4d6cbf0ab": {
      "model_module": "@jupyter-widgets/controls",
      "model_module_version": "1.5.0",
      "model_name": "DescriptionStyleModel",
      "state": {
       "description_width": ""
      }
     },
     "0114b8c2ce444aaca255275db3f71842": {
      "model_module": "@jupyter-widgets/controls",
      "model_module_version": "1.5.0",
      "model_name": "HBoxModel",
      "state": {
       "children": [
        "IPY_MODEL_ecd5537408ae44b98f1d22282a70c7e2",
        "IPY_MODEL_b2965b5f9df34e52858e509da11ded5c"
       ],
       "layout": "IPY_MODEL_584a8a2211ab45e8b543b9e98b5348e1"
      }
     },
     "015b9d2178274b19bdc1e80f585011d0": {
      "model_module": "@jupyter-widgets/base",
      "model_module_version": "1.2.0",
      "model_name": "LayoutModel",
      "state": {}
     },
     "017c19d1087442dfaf3680137e015e04": {
      "model_module": "@jupyter-widgets/base",
      "model_module_version": "1.2.0",
      "model_name": "LayoutModel",
      "state": {}
     },
     "01a0430ce04341308c3ae52e056eda76": {
      "model_module": "@jupyter-widgets/controls",
      "model_module_version": "1.5.0",
      "model_name": "HBoxModel",
      "state": {
       "children": [
        "IPY_MODEL_c4241f6f2afe4642ab41f0be662b8fb4",
        "IPY_MODEL_ca98de2ea248462984672af625f642f8"
       ],
       "layout": "IPY_MODEL_386a9b51a00e485c8ab9e95ec6d01e09"
      }
     },
     "01bb0e83107348559d2967c639d64070": {
      "model_module": "@jupyter-widgets/base",
      "model_module_version": "1.2.0",
      "model_name": "LayoutModel",
      "state": {}
     },
     "01bb480ba2874022a16541a9316dcbc0": {
      "model_module": "@jupyter-widgets/controls",
      "model_module_version": "1.5.0",
      "model_name": "DescriptionStyleModel",
      "state": {
       "description_width": ""
      }
     },
     "01c77d46cfb94e24bde5c9ae75676168": {
      "model_module": "@jupyter-widgets/base",
      "model_module_version": "1.2.0",
      "model_name": "LayoutModel",
      "state": {}
     },
     "01da7c3753574215a1b60d49205207fa": {
      "model_module": "@jupyter-widgets/base",
      "model_module_version": "1.2.0",
      "model_name": "LayoutModel",
      "state": {}
     },
     "01df0942ef8e41e29ff5619d1bb4b3f7": {
      "model_module": "@jupyter-widgets/controls",
      "model_module_version": "1.5.0",
      "model_name": "DescriptionStyleModel",
      "state": {
       "description_width": ""
      }
     },
     "0210e9278f7d4ee9be427a2fc111fbd9": {
      "model_module": "@jupyter-widgets/base",
      "model_module_version": "1.2.0",
      "model_name": "LayoutModel",
      "state": {}
     },
     "021e585ae00d43c7b621954c065e6c6a": {
      "model_module": "@jupyter-widgets/controls",
      "model_module_version": "1.5.0",
      "model_name": "LabelModel",
      "state": {
       "layout": "IPY_MODEL_55c67d3d102c4fc39ab99e8447073693",
       "style": "IPY_MODEL_ae89495d6eff42da959f38bbae2f7867",
       "value": "None"
      }
     },
     "022b43e1ec93477ab4909fc48ad2fe71": {
      "model_module": "@jupyter-widgets/controls",
      "model_module_version": "1.5.0",
      "model_name": "DescriptionStyleModel",
      "state": {
       "description_width": ""
      }
     },
     "022dc7f8653d47dc9aafdd6b7669ec31": {
      "model_module": "@jupyter-widgets/base",
      "model_module_version": "1.2.0",
      "model_name": "LayoutModel",
      "state": {}
     },
     "022e8733a62f4e7ca83ea4949e8c51d9": {
      "model_module": "@jupyter-widgets/base",
      "model_module_version": "1.2.0",
      "model_name": "LayoutModel",
      "state": {}
     },
     "023825871adc4eed87adef2db5262424": {
      "model_module": "@jupyter-widgets/controls",
      "model_module_version": "1.5.0",
      "model_name": "DescriptionStyleModel",
      "state": {
       "description_width": ""
      }
     },
     "0247a69b129642ef94b96d9180cfbcd0": {
      "model_module": "@jupyter-widgets/controls",
      "model_module_version": "1.5.0",
      "model_name": "DescriptionStyleModel",
      "state": {
       "description_width": ""
      }
     },
     "024b61ecda0147e2a9a6dbcd2d9c1590": {
      "model_module": "@jupyter-widgets/base",
      "model_module_version": "1.2.0",
      "model_name": "LayoutModel",
      "state": {}
     },
     "02815d45bdfc4e9aa5691bd61a70fd4d": {
      "model_module": "@jupyter-widgets/controls",
      "model_module_version": "1.5.0",
      "model_name": "HTMLModel",
      "state": {
       "layout": "IPY_MODEL_6e84eb7920f14c9dbf650e79e93a29eb",
       "style": "IPY_MODEL_63f455df84cd426ebac77c9c83d62d7f",
       "value": "<b>r:</b>"
      }
     },
     "02921f150ea8463199cb105e0aa935b6": {
      "model_module": "@jupyter-widgets/controls",
      "model_module_version": "1.5.0",
      "model_name": "HBoxModel",
      "state": {
       "children": [
        "IPY_MODEL_2ec98d63e4cc402baa4cdacdc8d16999",
        "IPY_MODEL_5adb9aa6971b4bdcb65ef5e83f61da01"
       ],
       "layout": "IPY_MODEL_8f99a2227de049548c6bcdb6b632ab88"
      }
     },
     "02e519926af64e08bfa0cdf400c1537a": {
      "model_module": "@jupyter-widgets/base",
      "model_module_version": "1.2.0",
      "model_name": "LayoutModel",
      "state": {}
     },
     "0312c0933a434ba99ccab36a8fdfcb1c": {
      "model_module": "@jupyter-widgets/controls",
      "model_module_version": "1.5.0",
      "model_name": "DescriptionStyleModel",
      "state": {
       "description_width": ""
      }
     },
     "03135dd8f29d4a07bcf6a0b3a89adc69": {
      "model_module": "@jupyter-widgets/base",
      "model_module_version": "1.2.0",
      "model_name": "LayoutModel",
      "state": {}
     },
     "0320989b7d8f4622b0f67919979c4d4d": {
      "model_module": "@jupyter-widgets/base",
      "model_module_version": "1.2.0",
      "model_name": "LayoutModel",
      "state": {}
     },
     "0325700e0ede4e1e916415ec6b03a01d": {
      "model_module": "@jupyter-widgets/controls",
      "model_module_version": "1.5.0",
      "model_name": "HTMLModel",
      "state": {
       "layout": "IPY_MODEL_74c9557a729a4da5b5ee18dbef7ba781",
       "style": "IPY_MODEL_d8cd90838d9347ec93d9e85f5c5bb85d",
       "value": "<b>userIss:</b>"
      }
     },
     "0343f7eb56a649889414a12548ed3ccf": {
      "model_module": "@jupyter-widgets/base",
      "model_module_version": "1.2.0",
      "model_name": "LayoutModel",
      "state": {}
     },
     "036b805a04164ebaad2b8a2f9446b1c1": {
      "model_module": "@jupyter-widgets/controls",
      "model_module_version": "1.5.0",
      "model_name": "LabelModel",
      "state": {
       "layout": "IPY_MODEL_ba5d1727be8a44d9bf1565d1c7ce03cd",
       "style": "IPY_MODEL_5d318e5a0af44ce1953acd7ab478ac88",
       "value": "resnet_model_2:4"
      }
     },
     "0373880217d74da8b09bf8c63e205bb4": {
      "model_module": "@jupyter-widgets/controls",
      "model_module_version": "1.5.0",
      "model_name": "DescriptionStyleModel",
      "state": {
       "description_width": ""
      }
     },
     "03766c46b41043949d912ad43db60fef": {
      "model_module": "@jupyter-widgets/controls",
      "model_module_version": "1.5.0",
      "model_name": "HBoxModel",
      "state": {
       "children": [
        "IPY_MODEL_5c6effaee82843b18c3e7abbf4120a7c",
        "IPY_MODEL_7cb5bd4249a8415fb66707d27ce4cf7c"
       ],
       "layout": "IPY_MODEL_c00b5ee9199f4625b7cf5560af997f4c"
      }
     },
     "037ce58dc1034dfaae1d32385d607a93": {
      "model_module": "@jupyter-widgets/controls",
      "model_module_version": "1.5.0",
      "model_name": "DescriptionStyleModel",
      "state": {
       "description_width": ""
      }
     },
     "03a93df5911141f49356102665afcccb": {
      "model_module": "@jupyter-widgets/controls",
      "model_module_version": "1.5.0",
      "model_name": "LabelModel",
      "state": {
       "layout": "IPY_MODEL_89392feb18fb4529b5b0cd063e752c9d",
       "style": "IPY_MODEL_b023f079959544429accf7d48e21cb50",
       "value": "https://sts.windows.net/72f988bf-86f1-41af-91ab-2d7cd011db47/"
      }
     },
     "03aa4f7551254dc3806b46d103dda771": {
      "model_module": "@jupyter-widgets/controls",
      "model_module_version": "1.5.0",
      "model_name": "HTMLModel",
      "state": {
       "layout": "IPY_MODEL_0676ebc108e54e85a2561039d69c5858",
       "style": "IPY_MODEL_7577bcb77b17424faf9f3e881d0e0ae8",
       "value": "<b>cpu:</b>"
      }
     },
     "03d1a889b7e7411f8292ffd107ccc138": {
      "model_module": "@jupyter-widgets/controls",
      "model_module_version": "1.5.0",
      "model_name": "DescriptionStyleModel",
      "state": {
       "description_width": ""
      }
     },
     "03db221209774b8e9a45cddec8ae2e58": {
      "model_module": "@jupyter-widgets/controls",
      "model_module_version": "1.5.0",
      "model_name": "DescriptionStyleModel",
      "state": {
       "description_width": ""
      }
     },
     "03f5a91f70a548e697bf780ac6d59128": {
      "model_module": "@jupyter-widgets/base",
      "model_module_version": "1.2.0",
      "model_name": "LayoutModel",
      "state": {}
     },
     "040d0a4b9b7641ca9277729876cb8cac": {
      "model_module": "@jupyter-widgets/controls",
      "model_module_version": "1.5.0",
      "model_name": "HBoxModel",
      "state": {
       "children": [
        "IPY_MODEL_5ee0f568573b46c8bd5d142858748ade",
        "IPY_MODEL_ddfe9175903f49ac831e66f83d0ce78d"
       ],
       "layout": "IPY_MODEL_e26c71e1737b4c0ab1665748016d4022"
      }
     },
     "04161deea97a44e49989e1b2b9c8aea6": {
      "model_module": "@jupyter-widgets/controls",
      "model_module_version": "1.5.0",
      "model_name": "DescriptionStyleModel",
      "state": {
       "description_width": ""
      }
     },
     "04590b42372f4667861674f4ca7670d1": {
      "model_module": "@jupyter-widgets/base",
      "model_module_version": "1.2.0",
      "model_name": "LayoutModel",
      "state": {}
     },
     "046710e83b084fb9a85c8dd25bc69d99": {
      "model_module": "@jupyter-widgets/base",
      "model_module_version": "1.2.0",
      "model_name": "LayoutModel",
      "state": {}
     },
     "0484a77a386d49ef896f2201cd677316": {
      "model_module": "@jupyter-widgets/controls",
      "model_module_version": "1.5.0",
      "model_name": "DescriptionStyleModel",
      "state": {
       "description_width": ""
      }
     },
     "04a7bf9fb8504148b8b11f77194ec2b5": {
      "model_module": "@jupyter-widgets/base",
      "model_module_version": "1.2.0",
      "model_name": "LayoutModel",
      "state": {}
     },
     "04b9dfdb332d486b8d38cf1dd991daa8": {
      "model_module": "@jupyter-widgets/controls",
      "model_module_version": "1.5.0",
      "model_name": "HTMLModel",
      "state": {
       "layout": "IPY_MODEL_67e83107c7fd4dc8a954700629bece2e",
       "style": "IPY_MODEL_536349b113d444ff99bb1847faf108d5",
       "value": "<b>resourceConfiguration:</b>"
      }
     },
     "04df15cf21f04910bd4e2d83600b7298": {
      "model_module": "@jupyter-widgets/controls",
      "model_module_version": "1.5.0",
      "model_name": "DescriptionStyleModel",
      "state": {
       "description_width": "initial"
      }
     },
     "05109cddaf644663920b216946032fd3": {
      "model_module": "@jupyter-widgets/base",
      "model_module_version": "1.2.0",
      "model_name": "LayoutModel",
      "state": {}
     },
     "05182b083b374449af8a5b8ddb6ce667": {
      "model_module": "@jupyter-widgets/controls",
      "model_module_version": "1.5.0",
      "model_name": "HTMLModel",
      "state": {
       "layout": "IPY_MODEL_94d589eb407a478bbf4d24fe8776acd2",
       "style": "IPY_MODEL_f303d1e69d5b46b79352b54c8098aae5",
       "value": "<img src=\"https://raw.githubusercontent.com/microsoft/AI-Utilities/master/docs/app_insights_perf.png\">"
      }
     },
     "05248d09a1c6415f8a421f453cb0e469": {
      "model_module": "@jupyter-widgets/controls",
      "model_module_version": "1.5.0",
      "model_name": "DescriptionStyleModel",
      "state": {
       "description_width": ""
      }
     },
     "053821b34aea4bdf9995d037c1c1989b": {
      "model_module": "@jupyter-widgets/controls",
      "model_module_version": "1.5.0",
      "model_name": "HTMLModel",
      "state": {
       "layout": "IPY_MODEL_d65df4f2357d403fb4e730cc95d6b3a0",
       "style": "IPY_MODEL_1cb8b41a4c964f768a187e9a823a422a",
       "value": "<b>userIdp:</b>"
      }
     },
     "056ec7d96eb2463eba71d3a763273d18": {
      "model_module": "@jupyter-widgets/controls",
      "model_module_version": "1.5.0",
      "model_name": "DescriptionStyleModel",
      "state": {
       "description_width": ""
      }
     },
     "05742d3c9e594b2698c76ac6b0f0472a": {
      "model_module": "@jupyter-widgets/controls",
      "model_module_version": "1.5.0",
      "model_name": "AccordionModel",
      "state": {
       "_titles": {
        "0": "containerResourceRequirements"
       },
       "children": [
        "IPY_MODEL_6f625de1a2bf48e1abaaef769fd73455"
       ],
       "layout": "IPY_MODEL_c839ae48f1a548b1806a81cb4fa39aa4"
      }
     },
     "0577748530114bdb8fc07cfdc3f5fb80": {
      "model_module": "@jupyter-widgets/base",
      "model_module_version": "1.2.0",
      "model_name": "LayoutModel",
      "state": {}
     },
     "058304bc1cf24700966656663a1f7b1e": {
      "model_module": "@jupyter-widgets/base",
      "model_module_version": "1.2.0",
      "model_name": "LayoutModel",
      "state": {}
     },
     "058d927ca09b47a5bd485eb627ba03b4": {
      "model_module": "@jupyter-widgets/controls",
      "model_module_version": "1.5.0",
      "model_name": "DescriptionStyleModel",
      "state": {
       "description_width": ""
      }
     },
     "05b5930989df482da245ea46d48a4015": {
      "model_module": "@jupyter-widgets/controls",
      "model_module_version": "1.5.0",
      "model_name": "HBoxModel",
      "state": {
       "children": [
        "IPY_MODEL_a38125c821404fbb93c10ecba7a3e5d8",
        "IPY_MODEL_569e44dae3334d9ea7b96da63c650072"
       ],
       "layout": "IPY_MODEL_8335bd49477243238d400941422cfb8f"
      }
     },
     "05d02c424f8546d6954d9bd483260e5e": {
      "model_module": "@jupyter-widgets/controls",
      "model_module_version": "1.5.0",
      "model_name": "DescriptionStyleModel",
      "state": {
       "description_width": ""
      }
     },
     "05f0024aedd84fefa25ceae822333d22": {
      "model_module": "@jupyter-widgets/controls",
      "model_module_version": "1.5.0",
      "model_name": "LabelModel",
      "state": {
       "layout": "IPY_MODEL_0fed0c56bead4ee29df2f1b0698630f6",
       "style": "IPY_MODEL_d1e17e295b364d98b83e0a922d5b84de",
       "value": "2020-03-18T21:25:26.495620+00:00"
      }
     },
     "060e76da3d0b45f7bec8c5070fb43dbe": {
      "model_module": "@jupyter-widgets/controls",
      "model_module_version": "1.5.0",
      "model_name": "DescriptionStyleModel",
      "state": {
       "description_width": ""
      }
     },
     "061117518fb64bfdbf760393c23691c1": {
      "model_module": "@jupyter-widgets/controls",
      "model_module_version": "1.5.0",
      "model_name": "DescriptionStyleModel",
      "state": {
       "description_width": ""
      }
     },
     "065724c9d9f6414496c9edd2ddf38b1a": {
      "model_module": "@jupyter-widgets/base",
      "model_module_version": "1.2.0",
      "model_name": "LayoutModel",
      "state": {
       "height": "80px",
       "width": "80%"
      }
     },
     "06629b252a104574bcb83bac6370bd5d": {
      "model_module": "@jupyter-widgets/controls",
      "model_module_version": "1.5.0",
      "model_name": "LabelModel",
      "state": {
       "layout": "IPY_MODEL_25c397bb8e24424789edaa3a1eb1a568",
       "style": "IPY_MODEL_a09133194769483a9f2e9039a87d33b8",
       "value": "https://github.com/microsoft/AI-Utilities.git"
      }
     },
     "0676ebc108e54e85a2561039d69c5858": {
      "model_module": "@jupyter-widgets/base",
      "model_module_version": "1.2.0",
      "model_name": "LayoutModel",
      "state": {}
     },
     "068799826afd4c76be9cddbb34284e60": {
      "model_module": "@jupyter-widgets/base",
      "model_module_version": "1.2.0",
      "model_name": "LayoutModel",
      "state": {}
     },
     "06d300674fc3473bbfed0dcfdfc6c771": {
      "model_module": "@jupyter-widgets/controls",
      "model_module_version": "1.5.0",
      "model_name": "HBoxModel",
      "state": {
       "children": [
        "IPY_MODEL_ef0f6e4d70cb4cd69ea708a9205c3801",
        "IPY_MODEL_f368df9335c34e09b6fdf3bde6561d2c"
       ],
       "layout": "IPY_MODEL_32f12b1da5e44535963851e86f260569"
      }
     },
     "06fbef16d61c463ca923d976bf834532": {
      "model_module": "@jupyter-widgets/controls",
      "model_module_version": "1.5.0",
      "model_name": "HBoxModel",
      "state": {
       "children": [
        "IPY_MODEL_390882ad89c44df9b2801399fce91f5f",
        "IPY_MODEL_52f4120f006b4e23b4a88459bfd57434"
       ],
       "layout": "IPY_MODEL_a47bccaa3d544f7d9420f5b1204b9e10"
      }
     },
     "0705cc80fdcb4dc9b7caadd74c2e0123": {
      "model_module": "@jupyter-widgets/base",
      "model_module_version": "1.2.0",
      "model_name": "LayoutModel",
      "state": {}
     },
     "070c61f0a00f415880815fe90a4035a1": {
      "model_module": "@jupyter-widgets/controls",
      "model_module_version": "1.5.0",
      "model_name": "DescriptionStyleModel",
      "state": {
       "description_width": ""
      }
     },
     "0710605046384d46921e084fee6340d7": {
      "model_module": "@jupyter-widgets/controls",
      "model_module_version": "1.5.0",
      "model_name": "LabelModel",
      "state": {
       "layout": "IPY_MODEL_b7280b3f08d94e939a262a88d725fdf6",
       "style": "IPY_MODEL_ee4d181277224de4856c4dac6e8d7af8",
       "value": "None"
      }
     },
     "07210d0017764d198dbffad7eedc44a1": {
      "model_module": "@jupyter-widgets/controls",
      "model_module_version": "1.5.0",
      "model_name": "HTMLModel",
      "state": {
       "layout": "IPY_MODEL_ebfc6c31e79e48dba8ad64b20a6dca88",
       "style": "IPY_MODEL_7a176a7963f749b2870968e53dde532b",
       "value": "<b>userTenantId:</b>"
      }
     },
     "076520b3242b444db20ffef7a8db3cb3": {
      "model_module": "@jupyter-widgets/base",
      "model_module_version": "1.2.0",
      "model_name": "LayoutModel",
      "state": {}
     },
     "0791c6447e50427388acde490d028c4c": {
      "model_module": "@jupyter-widgets/controls",
      "model_module_version": "1.5.0",
      "model_name": "HTMLModel",
      "state": {
       "layout": "IPY_MODEL_43811a0f5dbd4e4ba8904f5614d37803",
       "style": "IPY_MODEL_c270e54792fa41a39b10211420f38988",
       "value": "<b>python:</b>"
      }
     },
     "0796facb8ce04aca9ec5ab8edb7f09bf": {
      "model_module": "@jupyter-widgets/controls",
      "model_module_version": "1.5.0",
      "model_name": "DescriptionStyleModel",
      "state": {
       "description_width": ""
      }
     },
     "079da93dbb0e43af9949a9c101f90c28": {
      "model_module": "@jupyter-widgets/controls",
      "model_module_version": "1.5.0",
      "model_name": "HTMLModel",
      "state": {
       "layout": "IPY_MODEL_f54e1a93cc244ea4818ac544523d5939",
       "style": "IPY_MODEL_700c64a713ce49169b6cba329af89f5d",
       "value": "<b>initialDelaySeconds:</b>"
      }
     },
     "07c9f76324004801b11f6e9512cebfd6": {
      "model_module": "@jupyter-widgets/controls",
      "model_module_version": "1.5.0",
      "model_name": "DescriptionStyleModel",
      "state": {
       "description_width": ""
      }
     },
     "07ca48d011764e8889579df71542a748": {
      "model_module": "@jupyter-widgets/controls",
      "model_module_version": "1.5.0",
      "model_name": "DescriptionStyleModel",
      "state": {
       "description_width": ""
      }
     },
     "07d577a1c096412f97ef53c6561591ea": {
      "model_module": "@jupyter-widgets/base",
      "model_module_version": "1.2.0",
      "model_name": "LayoutModel",
      "state": {}
     },
     "07ea75882943485590df246b3d463007": {
      "model_module": "@jupyter-widgets/base",
      "model_module_version": "1.2.0",
      "model_name": "LayoutModel",
      "state": {}
     },
     "07fb7f1f91784a9088af889e644eb2cd": {
      "model_module": "@jupyter-widgets/base",
      "model_module_version": "1.2.0",
      "model_name": "LayoutModel",
      "state": {}
     },
     "080898d8613c44adb2e3a52b1483d68d": {
      "model_module": "@jupyter-widgets/controls",
      "model_module_version": "1.5.0",
      "model_name": "VBoxModel",
      "state": {
       "children": [
        "IPY_MODEL_1d1d6930c62a481b9a8719827dd038a4",
        "IPY_MODEL_0f6767f3a26a470e919167e1bfdc5ea5"
       ],
       "layout": "IPY_MODEL_c1c2ba3b52ac445db5a305490a70c778"
      }
     },
     "084352b5c41a49d3953c5e6ef6cc14e9": {
      "model_module": "@jupyter-widgets/controls",
      "model_module_version": "1.5.0",
      "model_name": "HBoxModel",
      "state": {
       "children": [
        "IPY_MODEL_6d7fdc185e2e4c4e9bfc5cf4fe73f70b",
        "IPY_MODEL_9f108551bc7645158b255fea3b4ff05e"
       ],
       "layout": "IPY_MODEL_6056e0014ce94530aa2d4777320ed5d7"
      }
     },
     "0856b6e2e6e149a68333d16d9bec05f5": {
      "model_module": "@jupyter-widgets/controls",
      "model_module_version": "1.5.0",
      "model_name": "DescriptionStyleModel",
      "state": {
       "description_width": ""
      }
     },
     "087f5f4342ec462c8576395e74fedbdc": {
      "model_module": "@jupyter-widgets/controls",
      "model_module_version": "1.5.0",
      "model_name": "DescriptionStyleModel",
      "state": {
       "description_width": ""
      }
     },
     "088f3c3d9a084e9681f11581c39633a3": {
      "model_module": "@jupyter-widgets/controls",
      "model_module_version": "1.5.0",
      "model_name": "DescriptionStyleModel",
      "state": {
       "description_width": ""
      }
     },
     "0895a895f7eb4fbfa287df5adb952324": {
      "model_module": "@jupyter-widgets/controls",
      "model_module_version": "1.5.0",
      "model_name": "HBoxModel",
      "state": {
       "children": [
        "IPY_MODEL_54b7ec52360a449292f44da1d3a1de22",
        "IPY_MODEL_e69db83e9e3a4d10b037ff891b3391ad"
       ],
       "layout": "IPY_MODEL_b0a8fa9063d24623a4c21d78960040b0"
      }
     },
     "08a07fcfbddd483f9cdffeb9966e674d": {
      "model_module": "@jupyter-widgets/base",
      "model_module_version": "1.2.0",
      "model_name": "LayoutModel",
      "state": {}
     },
     "08b1a1bf01bb40b68ae9ef40aab91256": {
      "model_module": "@jupyter-widgets/controls",
      "model_module_version": "1.5.0",
      "model_name": "LabelModel",
      "state": {
       "layout": "IPY_MODEL_f4ad46470e824a48b73328e38eaa177e",
       "style": "IPY_MODEL_53752d43d2ab4a66b3e8fbdc5f6f4724",
       "value": "None"
      }
     },
     "08da8f13822a41738eb471cd18f1d105": {
      "model_module": "@jupyter-widgets/base",
      "model_module_version": "1.2.0",
      "model_name": "LayoutModel",
      "state": {}
     },
     "0910e8e76d324d2fa5a548e15bc71343": {
      "model_module": "@jupyter-widgets/controls",
      "model_module_version": "1.5.0",
      "model_name": "LabelModel",
      "state": {
       "layout": "IPY_MODEL_f4de2961a5484071855de6f01ecaaa3d",
       "style": "IPY_MODEL_762bc9c289474af5ba3fe5acdc5f2f52",
       "value": "2020-03-18T21:25:26.495620+00:00"
      }
     },
     "09198dc310b24ef8b4a906cef845e670": {
      "model_module": "@jupyter-widgets/controls",
      "model_module_version": "1.5.0",
      "model_name": "DescriptionStyleModel",
      "state": {
       "description_width": ""
      }
     },
     "094c3ca2541f4de0af985fe5368e2725": {
      "model_module": "@jupyter-widgets/controls",
      "model_module_version": "1.5.0",
      "model_name": "LabelModel",
      "state": {
       "layout": "IPY_MODEL_b17a9b0804da45cebd8eceebe6328497",
       "style": "IPY_MODEL_36735505eb1b44e8aa0a596b031c369c",
       "value": "None"
      }
     },
     "094c89650693437fa10baf4fed0ee35f": {
      "model_module": "@jupyter-widgets/controls",
      "model_module_version": "1.5.0",
      "model_name": "DescriptionStyleModel",
      "state": {
       "description_width": ""
      }
     },
     "095ed9897d364539bc3d7518edb6cb9d": {
      "model_module": "@jupyter-widgets/controls",
      "model_module_version": "1.5.0",
      "model_name": "DescriptionStyleModel",
      "state": {
       "description_width": ""
      }
     },
     "0992ecf9e8284efd85908a5124341ce0": {
      "model_module": "@jupyter-widgets/controls",
      "model_module_version": "1.5.0",
      "model_name": "LabelModel",
      "state": {
       "layout": "IPY_MODEL_20dd9cfb691f43df80db63f06c738fa5",
       "style": "IPY_MODEL_b816f421953a4ae2bbc6f10729978535",
       "value": "0.1"
      }
     },
     "09d9d3933fbe499fa18e8ef9fec46606": {
      "model_module": "@jupyter-widgets/controls",
      "model_module_version": "1.5.0",
      "model_name": "DescriptionStyleModel",
      "state": {
       "description_width": ""
      }
     },
     "09ddcf44c74e4afea565e0ee69afe263": {
      "model_module": "@jupyter-widgets/controls",
      "model_module_version": "1.5.0",
      "model_name": "HTMLModel",
      "state": {
       "layout": "IPY_MODEL_49ef76f0eb764a29a1fa3e799455ab8a",
       "style": "IPY_MODEL_9e3402434a9644daaa8a41201de058fd",
       "value": "<b>modelDetails:</b>"
      }
     },
     "09f0cce7d6134820873dfe6531396ed7": {
      "model_module": "@jupyter-widgets/controls",
      "model_module_version": "1.5.0",
      "model_name": "HBoxModel",
      "state": {
       "children": [
        "IPY_MODEL_c106f79fb0b64d0aa6959f268d58838e",
        "IPY_MODEL_30bbb201633042af934d168e7048a576"
       ],
       "layout": "IPY_MODEL_7a940858e5d543ca89454572f97ea974"
      }
     },
     "0a3207f81e154e6f8e78c8e7899f8671": {
      "model_module": "@jupyter-widgets/base",
      "model_module_version": "1.2.0",
      "model_name": "LayoutModel",
      "state": {}
     },
     "0a380faef72d4759ba9b41b4755ed2a4": {
      "model_module": "@jupyter-widgets/base",
      "model_module_version": "1.2.0",
      "model_name": "LayoutModel",
      "state": {}
     },
     "0a4d6e06e1484fe39782413f92b8e1c5": {
      "model_module": "@jupyter-widgets/base",
      "model_module_version": "1.2.0",
      "model_name": "LayoutModel",
      "state": {}
     },
     "0a4ddce909dc4cac95de9bbfa6b5c2d0": {
      "model_module": "@jupyter-widgets/controls",
      "model_module_version": "1.5.0",
      "model_name": "HTMLModel",
      "state": {
       "layout": "IPY_MODEL_08a07fcfbddd483f9cdffeb9966e674d",
       "style": "IPY_MODEL_f210689d5cf4461a970de4b5bf738eb3",
       "value": "<b>createdTime:</b>"
      }
     },
     "0a589d7e68c84aa785ebb5eb93189c2f": {
      "model_module": "@jupyter-widgets/base",
      "model_module_version": "1.2.0",
      "model_name": "LayoutModel",
      "state": {}
     },
     "0a5ad67d2f134efdb54107ff83252a0f": {
      "model_module": "@jupyter-widgets/base",
      "model_module_version": "1.2.0",
      "model_name": "LayoutModel",
      "state": {}
     },
     "0aa4b8809194483aa540b2d8f37f3849": {
      "model_module": "@jupyter-widgets/base",
      "model_module_version": "1.2.0",
      "model_name": "LayoutModel",
      "state": {}
     },
     "0aa8a5df1b8347d78d41060d6a9a305c": {
      "model_module": "@jupyter-widgets/controls",
      "model_module_version": "1.5.0",
      "model_name": "HBoxModel",
      "state": {
       "children": [
        "IPY_MODEL_f89f191582e2445fb86f46fc5f97e7f1",
        "IPY_MODEL_4d226cdc512f418784c9208b210ea340"
       ],
       "layout": "IPY_MODEL_f1b4e3bbc253417cae4d4a7e274397e0"
      }
     },
     "0ad56fbf51f847f8a9317bfd70b25f97": {
      "model_module": "@jupyter-widgets/base",
      "model_module_version": "1.2.0",
      "model_name": "LayoutModel",
      "state": {}
     },
     "0ad7fd018e74476c8a7e2ef967dd1c2d": {
      "model_module": "@jupyter-widgets/controls",
      "model_module_version": "1.5.0",
      "model_name": "DescriptionStyleModel",
      "state": {
       "description_width": ""
      }
     },
     "0ad83f26168d47fa93eae12542d8de9c": {
      "model_module": "@jupyter-widgets/base",
      "model_module_version": "1.2.0",
      "model_name": "LayoutModel",
      "state": {}
     },
     "0ae881871e72434ebbfccca4a7ef9d20": {
      "model_module": "@jupyter-widgets/controls",
      "model_module_version": "1.5.0",
      "model_name": "HBoxModel",
      "state": {
       "children": [
        "IPY_MODEL_0c65d3388c1e4795a49ba43f13baa1c5",
        "IPY_MODEL_743e2191cb0b4f00be143a3dea497e98"
       ],
       "layout": "IPY_MODEL_cfd5d16979ef47c5b4ef45e163a42f73"
      }
     },
     "0af725f3795f4b1b8550692e1a2913f8": {
      "model_module": "@jupyter-widgets/base",
      "model_module_version": "1.2.0",
      "model_name": "LayoutModel",
      "state": {}
     },
     "0afdf719f91547c3aff9592013f14f62": {
      "model_module": "@jupyter-widgets/controls",
      "model_module_version": "1.5.0",
      "model_name": "DescriptionStyleModel",
      "state": {
       "description_width": ""
      }
     },
     "0b1b7e9f561f4cd28cc93fceaa0a9eaf": {
      "model_module": "@jupyter-widgets/base",
      "model_module_version": "1.2.0",
      "model_name": "LayoutModel",
      "state": {}
     },
     "0b6158e269564da9803f14497f148e04": {
      "model_module": "@jupyter-widgets/controls",
      "model_module_version": "1.5.0",
      "model_name": "DescriptionStyleModel",
      "state": {
       "description_width": ""
      }
     },
     "0ba8b32292ab4df486743e8f37bdafa4": {
      "model_module": "@jupyter-widgets/controls",
      "model_module_version": "1.5.0",
      "model_name": "DescriptionStyleModel",
      "state": {
       "description_width": ""
      }
     },
     "0bf518bba52c4c32ada0d10eb1bbd5fb": {
      "model_module": "@jupyter-widgets/controls",
      "model_module_version": "1.5.0",
      "model_name": "DescriptionStyleModel",
      "state": {
       "description_width": ""
      }
     },
     "0c12a22e3c674dd5b63786c14085f226": {
      "model_module": "@jupyter-widgets/base",
      "model_module_version": "1.2.0",
      "model_name": "LayoutModel",
      "state": {}
     },
     "0c17f332f3a54a28817b84c3d0d6f6ce": {
      "model_module": "@jupyter-widgets/base",
      "model_module_version": "1.2.0",
      "model_name": "LayoutModel",
      "state": {}
     },
     "0c2f1d56be5d4f89a9b7bfcf82d2ad7a": {
      "model_module": "@jupyter-widgets/base",
      "model_module_version": "1.2.0",
      "model_name": "LayoutModel",
      "state": {}
     },
     "0c424b3ee18d4f53ab920fd7c912ab73": {
      "model_module": "@jupyter-widgets/base",
      "model_module_version": "1.2.0",
      "model_name": "LayoutModel",
      "state": {}
     },
     "0c437844f9c44c348debb3f9a7fd237f": {
      "model_module": "@jupyter-widgets/controls",
      "model_module_version": "1.5.0",
      "model_name": "VBoxModel",
      "state": {
       "children": [
        "IPY_MODEL_7dc5bb34d23c4c7e9377e20cc267b611",
        "IPY_MODEL_d1bb4f309de94954aaf4fe81a99a0881",
        "IPY_MODEL_524dfbafd3554ef1b236efcfa7f18238",
        "IPY_MODEL_bceae47387d0462ab78a1e2f121e5e95",
        "IPY_MODEL_850977e1c6934d2f8f7682f183e24073"
       ],
       "layout": "IPY_MODEL_03f5a91f70a548e697bf780ac6d59128"
      }
     },
     "0c65d3388c1e4795a49ba43f13baa1c5": {
      "model_module": "@jupyter-widgets/controls",
      "model_module_version": "1.5.0",
      "model_name": "HTMLModel",
      "state": {
       "layout": "IPY_MODEL_966606a02de9466fb2f4c46147d122ae",
       "style": "IPY_MODEL_ec9cb2a6843d49729897675794c5ad61",
       "value": "<b>docker:</b>"
      }
     },
     "0c690d7387a643d4beec532ed8798a8e": {
      "model_module": "@jupyter-widgets/controls",
      "model_module_version": "1.5.0",
      "model_name": "HTMLModel",
      "state": {
       "layout": "IPY_MODEL_058304bc1cf24700966656663a1f7b1e",
       "style": "IPY_MODEL_6710261424384620b3bb755f507fba77",
       "value": "<b>runDetails:</b>"
      }
     },
     "0c902609d1e14b2bab9d457cdbd4559a": {
      "model_module": "@jupyter-widgets/controls",
      "model_module_version": "1.5.0",
      "model_name": "DescriptionStyleModel",
      "state": {
       "description_width": ""
      }
     },
     "0ca4c44e14084b8bbaf4cdcedd4ff224": {
      "model_module": "@jupyter-widgets/controls",
      "model_module_version": "1.5.0",
      "model_name": "LabelModel",
      "state": {
       "layout": "IPY_MODEL_076520b3242b444db20ffef7a8db3cb3",
       "style": "IPY_MODEL_aad0fa2d73524b94bef97299b5329e2a",
       "value": "Custom"
      }
     },
     "0cb6ff0591cb4f10b5b6f75b6e7e324a": {
      "model_module": "@jupyter-widgets/base",
      "model_module_version": "1.2.0",
      "model_name": "LayoutModel",
      "state": {}
     },
     "0cb799b40b944bd5b3b4ebcf23dee469": {
      "model_module": "@jupyter-widgets/controls",
      "model_module_version": "1.5.0",
      "model_name": "DescriptionStyleModel",
      "state": {
       "description_width": ""
      }
     },
     "0cd828f155cb45d297778fc7d5a498a5": {
      "model_module": "@jupyter-widgets/base",
      "model_module_version": "1.2.0",
      "model_name": "LayoutModel",
      "state": {}
     },
     "0cffb4c6c36d4069b2c0270c4d4fefd7": {
      "model_module": "@jupyter-widgets/base",
      "model_module_version": "1.2.0",
      "model_name": "LayoutModel",
      "state": {}
     },
     "0d04c53533ec4595bcf98cdab543fc4d": {
      "model_module": "@jupyter-widgets/base",
      "model_module_version": "1.2.0",
      "model_name": "LayoutModel",
      "state": {}
     },
     "0d05332de0ff4328b986fdb780d90e4a": {
      "model_module": "@jupyter-widgets/controls",
      "model_module_version": "1.5.0",
      "model_name": "DescriptionStyleModel",
      "state": {
       "description_width": ""
      }
     },
     "0d2502f1f8524231aff25389344c08d1": {
      "model_module": "@jupyter-widgets/controls",
      "model_module_version": "1.5.0",
      "model_name": "HTMLModel",
      "state": {
       "layout": "IPY_MODEL_e1cf1037bc164b459b71f84ee1c5048b",
       "style": "IPY_MODEL_4b1a1196eaba493abed899ab410ceb08",
       "value": "<b>timeoutSeconds:</b>"
      }
     },
     "0d346543b67e4da388f625b45861e3e0": {
      "model_module": "@jupyter-widgets/base",
      "model_module_version": "1.2.0",
      "model_name": "LayoutModel",
      "state": {}
     },
     "0d35373d08cb42d482a8c1e3911db0de": {
      "model_module": "@jupyter-widgets/controls",
      "model_module_version": "1.5.0",
      "model_name": "LabelModel",
      "state": {
       "layout": "IPY_MODEL_d4125e69c67041a8a2ae69d187daefc5",
       "style": "IPY_MODEL_40d5e7e26faa4208bc2cbe990209666a",
       "value": "{'enabled': False, 'baseImage': 'mcr.microsoft.com/azureml/base:intelmpi2018.3-ubuntu16.04', 'baseDockerfile': None, 'sharedVolumes': True, 'shmSize': None, 'arguments': [], 'baseImageRegistry': {'address': None, 'username': None, 'password': None}}"
      }
     },
     "0d5b4019881d492f9e6b7fbdd8863895": {
      "model_module": "@jupyter-widgets/base",
      "model_module_version": "1.2.0",
      "model_name": "LayoutModel",
      "state": {}
     },
     "0d76dc5a0af942eab508bb32156af4fe": {
      "model_module": "@jupyter-widgets/base",
      "model_module_version": "1.2.0",
      "model_name": "LayoutModel",
      "state": {}
     },
     "0d8305e5dd50493ea1c2a6fc1d3e9f17": {
      "model_module": "@jupyter-widgets/controls",
      "model_module_version": "1.5.0",
      "model_name": "DescriptionStyleModel",
      "state": {
       "description_width": ""
      }
     },
     "0d86e56cab5a4deaab47231bf5832d19": {
      "model_module": "@jupyter-widgets/base",
      "model_module_version": "1.2.0",
      "model_name": "LayoutModel",
      "state": {}
     },
     "0da449f016784e1d97122895283199a8": {
      "model_module": "@jupyter-widgets/controls",
      "model_module_version": "1.5.0",
      "model_name": "HBoxModel",
      "state": {
       "children": [
        "IPY_MODEL_646e3bfa8d474760bac02ad627b3ac59",
        "IPY_MODEL_a6b88c2a382c4c558269b361e1e82768"
       ],
       "layout": "IPY_MODEL_7f82f796b61843ac8e7da1625f144815"
      }
     },
     "0dac1d3f38974d53b27585896df61107": {
      "model_module": "@jupyter-widgets/base",
      "model_module_version": "1.2.0",
      "model_name": "LayoutModel",
      "state": {}
     },
     "0db78659465f4c2999b71520dfb88037": {
      "model_module": "@jupyter-widgets/controls",
      "model_module_version": "1.5.0",
      "model_name": "LabelModel",
      "state": {
       "layout": "IPY_MODEL_5e812a38bcea4c69b43ae792e8c643e8",
       "style": "IPY_MODEL_d6ccdc31867c49e7a24118ca1e9f8eff",
       "value": "1"
      }
     },
     "0dc22dbf05b84d8c85b38a831460cbb4": {
      "model_module": "@jupyter-widgets/base",
      "model_module_version": "1.2.0",
      "model_name": "LayoutModel",
      "state": {}
     },
     "0dd52cbda8c74f6c9bc0e1a75e12217e": {
      "model_module": "@jupyter-widgets/controls",
      "model_module_version": "1.5.0",
      "model_name": "LabelModel",
      "state": {
       "layout": "IPY_MODEL_969770b5b3e84c309cdc0533d21f145c",
       "style": "IPY_MODEL_5bdab9ff1ac2479196ae57ab7ec5b710",
       "value": "None"
      }
     },
     "0ddf06d1290c4fafb9f507ed0decee26": {
      "model_module": "@jupyter-widgets/controls",
      "model_module_version": "1.5.0",
      "model_name": "DescriptionStyleModel",
      "state": {
       "description_width": ""
      }
     },
     "0de5680346814209a97883fd88ca61cf": {
      "model_module": "@jupyter-widgets/base",
      "model_module_version": "1.2.0",
      "model_name": "LayoutModel",
      "state": {}
     },
     "0e10936066ca4d97a4d67f4ff60323dd": {
      "model_module": "@jupyter-widgets/controls",
      "model_module_version": "1.5.0",
      "model_name": "HTMLModel",
      "state": {
       "layout": "IPY_MODEL_e47b5f0bfbe44a49bddbff85f1b6f3f6",
       "style": "IPY_MODEL_d36e5bc1d8f5477dbb6b9551bae64a20",
       "value": "<b>appInsightsEnabled:</b>"
      }
     },
     "0e253238d21b4238a10ba5bb6f6a252d": {
      "model_module": "@jupyter-widgets/controls",
      "model_module_version": "1.5.0",
      "model_name": "HTMLModel",
      "state": {
       "layout": "IPY_MODEL_4747371f33524ee4ad01022b61a22882",
       "style": "IPY_MODEL_4fd18af9dd2d4a238da94abc27332241",
       "value": "<b>inferencingStackVersion:</b>"
      }
     },
     "0e3ad2bdcc7941aea824c22c05acf0b5": {
      "model_module": "@jupyter-widgets/base",
      "model_module_version": "1.2.0",
      "model_name": "LayoutModel",
      "state": {
       "width": "50%"
      }
     },
     "0e538ac5245f4d3da3c8376aa956d0fe": {
      "model_module": "@jupyter-widgets/base",
      "model_module_version": "1.2.0",
      "model_name": "LayoutModel",
      "state": {}
     },
     "0e6193eb5a594563925d8fbd623a828f": {
      "model_module": "@jupyter-widgets/base",
      "model_module_version": "1.2.0",
      "model_name": "LayoutModel",
      "state": {}
     },
     "0e68a33923784f69a8bbd73d415649d7": {
      "model_module": "@jupyter-widgets/controls",
      "model_module_version": "1.5.0",
      "model_name": "DescriptionStyleModel",
      "state": {
       "description_width": ""
      }
     },
     "0e9c9bb294b2422b9fcef6af15a8817c": {
      "model_module": "@jupyter-widgets/controls",
      "model_module_version": "1.5.0",
      "model_name": "DescriptionStyleModel",
      "state": {
       "description_width": ""
      }
     },
     "0eb954e5db91462987096edde95edc9a": {
      "model_module": "@jupyter-widgets/controls",
      "model_module_version": "1.5.0",
      "model_name": "HBoxModel",
      "state": {
       "children": [
        "IPY_MODEL_30e83171ea984cfbabfa41572ac0ce33",
        "IPY_MODEL_224d5aa7c82946719f233b5b19cf5604"
       ],
       "layout": "IPY_MODEL_95763fbf5e664d08a8c97e1c2596cf2e"
      }
     },
     "0ec287a23a934f33aad1a4f07f17ef34": {
      "model_module": "@jupyter-widgets/controls",
      "model_module_version": "1.5.0",
      "model_name": "HTMLModel",
      "state": {
       "layout": "IPY_MODEL_d85579c55ca54cb6854e24a8abc3826f",
       "style": "IPY_MODEL_1cb2143723de435c8fb1632074401f11",
       "value": "<b>successThreshold:</b>"
      }
     },
     "0edf3f042b9b4d9c99e205a27e48aad9": {
      "model_module": "@jupyter-widgets/controls",
      "model_module_version": "1.5.0",
      "model_name": "HBoxModel",
      "state": {
       "children": [
        "IPY_MODEL_b1d38b7bd5cd4ea09bc1c8a365a5c2e6",
        "IPY_MODEL_959890ec3bf04daebd863932baa42baa"
       ],
       "layout": "IPY_MODEL_56933ed55aec468f9df21b810f4aef9e"
      }
     },
     "0f16e02eb1844ca1adf22dd8b64c9dbf": {
      "model_module": "@jupyter-widgets/controls",
      "model_module_version": "1.5.0",
      "model_name": "LabelModel",
      "state": {
       "layout": "IPY_MODEL_929d4e86f93d4243b7bebb12cd6b6f37",
       "style": "IPY_MODEL_c3e58468d5544f4fb00dff56710991a8",
       "value": "dlrts-train-on-local"
      }
     },
     "0f22724eef48410095c6c8aae984eef7": {
      "model_module": "@jupyter-widgets/controls",
      "model_module_version": "1.5.0",
      "model_name": "DescriptionStyleModel",
      "state": {
       "description_width": ""
      }
     },
     "0f2888b46569409f897e54902a9fc08b": {
      "model_module": "@jupyter-widgets/controls",
      "model_module_version": "1.5.0",
      "model_name": "HTMLModel",
      "state": {
       "layout": "IPY_MODEL_48bfbbe158a047ecbc947f5689cd9cd2",
       "style": "IPY_MODEL_523cae4ccde94a9f98f9491b0158e730",
       "value": "<b>name:</b>"
      }
     },
     "0f2cedbc6bed4ea9a253454fa09ba8ba": {
      "model_module": "@jupyter-widgets/controls",
      "model_module_version": "1.5.0",
      "model_name": "DescriptionStyleModel",
      "state": {
       "description_width": ""
      }
     },
     "0f3cee763b974573a4b6c119c793f302": {
      "model_module": "@jupyter-widgets/base",
      "model_module_version": "1.2.0",
      "model_name": "LayoutModel",
      "state": {}
     },
     "0f6305f247d34e5baf7be2a365ec6ae0": {
      "model_module": "@jupyter-widgets/controls",
      "model_module_version": "1.5.0",
      "model_name": "LabelModel",
      "state": {
       "layout": "IPY_MODEL_1931b7d4f8b442469fc5ee1540698397",
       "style": "IPY_MODEL_ef62c8a425ed431e8e7336c172250f93",
       "value": "{'EXAMPLE_ENV_VAR': 'EXAMPLE_VALUE'}"
      }
     },
     "0f6767f3a26a470e919167e1bfdc5ea5": {
      "model_module": "@jupyter-widgets/controls",
      "model_module_version": "1.5.0",
      "model_name": "HBoxModel",
      "state": {
       "children": [
        "IPY_MODEL_d98d231f9e6840e7afb0acf3a5061b9a",
        "IPY_MODEL_26480bdbf4344536b550d286512f5c41"
       ],
       "layout": "IPY_MODEL_50f3e57c07324f16a707e0c2e3b3594e"
      }
     },
     "0f6b75fe7fbd4426892c2cbd35b38355": {
      "model_module": "@jupyter-widgets/base",
      "model_module_version": "1.2.0",
      "model_name": "LayoutModel",
      "state": {
       "width": "50%"
      }
     },
     "0f6d5e607fd64f46850d957177d019f4": {
      "model_module": "@jupyter-widgets/controls",
      "model_module_version": "1.5.0",
      "model_name": "HBoxModel",
      "state": {
       "children": [
        "IPY_MODEL_a5a98349cf684b17b933fca9b3b26a41",
        "IPY_MODEL_ca2fc1da7eff4fd1974b9d9d4ca9581f"
       ],
       "layout": "IPY_MODEL_747f73b9360b45f3bd80da5c4c2b9eb1"
      }
     },
     "0f85c3112e2d4ed68d0e8bbcf2937c42": {
      "model_module": "@jupyter-widgets/controls",
      "model_module_version": "1.5.0",
      "model_name": "HTMLModel",
      "state": {
       "layout": "IPY_MODEL_44a685e4c8e648408b32423fa4b81302",
       "style": "IPY_MODEL_b961d01d002d49d19c9611144b782d7d",
       "value": "<b>minReplicas:</b>"
      }
     },
     "0fe924bf9c1d48729d3cea8181de7d3e": {
      "model_module": "@jupyter-widgets/controls",
      "model_module_version": "1.5.0",
      "model_name": "HTMLModel",
      "state": {
       "layout": "IPY_MODEL_6db718fdf4e54812953aecdc8fda986a",
       "style": "IPY_MODEL_2977543161e54e9f86cb57960084a150",
       "value": "<b>r:</b>"
      }
     },
     "0fed0c56bead4ee29df2f1b0698630f6": {
      "model_module": "@jupyter-widgets/base",
      "model_module_version": "1.2.0",
      "model_name": "LayoutModel",
      "state": {}
     },
     "0ff306ed2c684d3597278736f139e707": {
      "model_module": "@jupyter-widgets/controls",
      "model_module_version": "1.5.0",
      "model_name": "DescriptionStyleModel",
      "state": {
       "description_width": ""
      }
     },
     "0ff585f8ad1c479f8c2c3951953b4866": {
      "model_module": "@jupyter-widgets/base",
      "model_module_version": "1.2.0",
      "model_name": "LayoutModel",
      "state": {}
     },
     "0ff907629814407c8eb0df1203da2970": {
      "model_module": "@jupyter-widgets/controls",
      "model_module_version": "1.5.0",
      "model_name": "LabelModel",
      "state": {
       "layout": "IPY_MODEL_820feec4e8464278b7eddab8ee635971",
       "style": "IPY_MODEL_525ddaa6efd743e096faae183c5b81a3",
       "value": "1"
      }
     },
     "101c3c1cca614a729350a0654abdee15": {
      "model_module": "@jupyter-widgets/base",
      "model_module_version": "1.2.0",
      "model_name": "LayoutModel",
      "state": {}
     },
     "102dc14eb0724454bb1e56bbc2098670": {
      "model_module": "@jupyter-widgets/controls",
      "model_module_version": "1.5.0",
      "model_name": "DescriptionStyleModel",
      "state": {
       "description_width": ""
      }
     },
     "10504d1cca38484bbf5d7cec87f8e090": {
      "model_module": "@jupyter-widgets/controls",
      "model_module_version": "1.5.0",
      "model_name": "HBoxModel",
      "state": {
       "children": [
        "IPY_MODEL_47b5e3aae953475396d08aa3045496e6",
        "IPY_MODEL_2df11512b6a546e09064014626ba80b9"
       ],
       "layout": "IPY_MODEL_8ff4a873781046a1ba25c6256b9102f1"
      }
     },
     "10637a4e19054e64ba324bf2882f9ace": {
      "model_module": "@jupyter-widgets/base",
      "model_module_version": "1.2.0",
      "model_name": "LayoutModel",
      "state": {}
     },
     "1081f69ad2214072aee254ba59daca3d": {
      "model_module": "@jupyter-widgets/controls",
      "model_module_version": "1.5.0",
      "model_name": "HBoxModel",
      "state": {
       "children": [
        "IPY_MODEL_bddc1543b9064409a5622f0e223d015e",
        "IPY_MODEL_a220bbef6e8a402e82095cda8cbe2e34"
       ],
       "layout": "IPY_MODEL_1302c6586cf34b7ba9790b9bf78f1405"
      }
     },
     "109f306b74b949bdb81c19333b6e6c2a": {
      "model_module": "@jupyter-widgets/controls",
      "model_module_version": "1.5.0",
      "model_name": "HBoxModel",
      "state": {
       "children": [
        "IPY_MODEL_9b92d4f0b41544a88e929248acd4128b",
        "IPY_MODEL_2068c033884044369ba6a3473d525a2f"
       ],
       "layout": "IPY_MODEL_db04d39c70494b35a38dfb1b81cd6fd3"
      }
     },
     "10b503234c23476b9c8ff01bc8eb591e": {
      "model_module": "@jupyter-widgets/controls",
      "model_module_version": "1.5.0",
      "model_name": "LabelModel",
      "state": {
       "layout": "IPY_MODEL_a28593ca5c2a4258b92bf4ec31d274fa",
       "style": "IPY_MODEL_ee4cd4ab4a454d8b99a30967962bd0c2",
       "value": "{'userManagedDependencies': False, 'interpreterPath': 'python', 'condaDependenciesFile': None, 'baseCondaEnvironment': None, 'condaDependencies': {'channels': ['anaconda', 'conda-forge'], 'dependencies': ['python=3.6.2', {'pip': ['azureml-defaults', 'azureml-contrib-services', 'toolz==0.9.0', 'git+https://github.com/microsoft/AI-Utilities.git@dciborow/no-cli']}, 'keras=2.3.1', 'pillow=7.0.0'], 'name': 'azureml_8e81e2311131822017046513ec68b4f1'}}"
      }
     },
     "10e73ca1bf384e6bacb9800502a97886": {
      "model_module": "@jupyter-widgets/base",
      "model_module_version": "1.2.0",
      "model_name": "LayoutModel",
      "state": {}
     },
     "112c47746cc141f5a728f78e3de66f59": {
      "model_module": "@jupyter-widgets/controls",
      "model_module_version": "1.5.0",
      "model_name": "DescriptionStyleModel",
      "state": {
       "description_width": ""
      }
     },
     "114ee9cc3a26489188b1c2d0bce117f9": {
      "model_module": "@jupyter-widgets/base",
      "model_module_version": "1.2.0",
      "model_name": "LayoutModel",
      "state": {}
     },
     "114f1a9e493a4576834de4f119780c54": {
      "model_module": "@jupyter-widgets/controls",
      "model_module_version": "1.5.0",
      "model_name": "LabelModel",
      "state": {
       "layout": "IPY_MODEL_bec5f52ed1fb43c795e9c024b9383d94",
       "style": "IPY_MODEL_6f41c479bf6c4243b44f57a7fe1c42c7",
       "value": "Unhealthy"
      }
     },
     "115b4e8b80e8475cbbf2d1b5a0a40cb7": {
      "model_module": "@jupyter-widgets/controls",
      "model_module_version": "1.5.0",
      "model_name": "DescriptionStyleModel",
      "state": {
       "description_width": ""
      }
     },
     "116a17f253cd4f328a61104df94302b1": {
      "model_module": "@jupyter-widgets/controls",
      "model_module_version": "1.5.0",
      "model_name": "DescriptionStyleModel",
      "state": {
       "description_width": ""
      }
     },
     "117810cee2fb4c34b893fd7f71ecbc95": {
      "model_module": "@jupyter-widgets/controls",
      "model_module_version": "1.5.0",
      "model_name": "LabelModel",
      "state": {
       "layout": "IPY_MODEL_af4a49c8911a4765a049db0a64fef696",
       "style": "IPY_MODEL_1654d589331b48fb8b2f506743328b9a",
       "value": "True"
      }
     },
     "11d25ee265fb432bba0b0a7bca22b0c8": {
      "model_module": "@jupyter-widgets/base",
      "model_module_version": "1.2.0",
      "model_name": "LayoutModel",
      "state": {}
     },
     "11d72cdbd7d74291aa7b3d5ac61adae0": {
      "model_module": "@jupyter-widgets/controls",
      "model_module_version": "1.5.0",
      "model_name": "DescriptionStyleModel",
      "state": {
       "description_width": "initial"
      }
     },
     "11dcf6f0f18d45278aa5a255cc9e1fd3": {
      "model_module": "@jupyter-widgets/base",
      "model_module_version": "1.2.0",
      "model_name": "LayoutModel",
      "state": {}
     },
     "1212a95a729e4f0985f7f7921c8d34a1": {
      "model_module": "@jupyter-widgets/base",
      "model_module_version": "1.2.0",
      "model_name": "LayoutModel",
      "state": {}
     },
     "12195e44af3f42ac88893e894bec2463": {
      "model_module": "@jupyter-widgets/controls",
      "model_module_version": "1.5.0",
      "model_name": "DescriptionStyleModel",
      "state": {
       "description_width": ""
      }
     },
     "128e063b543b4ada8f47ed3e234a7ba5": {
      "model_module": "@jupyter-widgets/base",
      "model_module_version": "1.2.0",
      "model_name": "LayoutModel",
      "state": {}
     },
     "128ece26a74949d1bb0bc73463ce107a": {
      "model_module": "@jupyter-widgets/controls",
      "model_module_version": "1.5.0",
      "model_name": "DescriptionStyleModel",
      "state": {
       "description_width": ""
      }
     },
     "1294b644dc6e45568fcddd93675a8104": {
      "model_module": "@jupyter-widgets/controls",
      "model_module_version": "1.5.0",
      "model_name": "DescriptionStyleModel",
      "state": {
       "description_width": ""
      }
     },
     "12bafa484024456299a6ae1928354406": {
      "model_module": "@jupyter-widgets/controls",
      "model_module_version": "1.5.0",
      "model_name": "HTMLModel",
      "state": {
       "layout": "IPY_MODEL_43f8de4a1d5940128d83a9a673707321",
       "style": "IPY_MODEL_e0e6ea74ceca44e0a1928ab6e9021f0d",
       "value": "<b>maxReplicas:</b>"
      }
     },
     "12d4405258424d84894fa60c5bd363cc": {
      "model_module": "@jupyter-widgets/controls",
      "model_module_version": "1.5.0",
      "model_name": "LabelModel",
      "state": {
       "layout": "IPY_MODEL_8b0671bef9a9496fb1b56a14e555622d",
       "style": "IPY_MODEL_d062773aaa194c729ffde4db7a519ff6",
       "value": "None"
      }
     },
     "12e391f243ad44babd5b48d38ef993e3": {
      "model_module": "@jupyter-widgets/base",
      "model_module_version": "1.2.0",
      "model_name": "LayoutModel",
      "state": {}
     },
     "12ef013e29e94e0b892b0e1b81dbc325": {
      "model_module": "@jupyter-widgets/controls",
      "model_module_version": "1.5.0",
      "model_name": "LabelModel",
      "state": {
       "layout": "IPY_MODEL_ac2506cbf35e4e0e83f4eba994772d6e",
       "style": "IPY_MODEL_793c3055653d42bcb8164204a199c50a",
       "value": "dciborow/no-cli"
      }
     },
     "12fef67faa38462fa90d03056968a26f": {
      "model_module": "@jupyter-widgets/controls",
      "model_module_version": "1.5.0",
      "model_name": "HBoxModel",
      "state": {
       "children": [
        "IPY_MODEL_c57d97a85ed145d1ae0786022aca5245",
        "IPY_MODEL_355029eb4da74da39293422f51d1c78d"
       ],
       "layout": "IPY_MODEL_3b653c487966401f8356e3c79ef301b3"
      }
     },
     "1302c6586cf34b7ba9790b9bf78f1405": {
      "model_module": "@jupyter-widgets/base",
      "model_module_version": "1.2.0",
      "model_name": "LayoutModel",
      "state": {}
     },
     "1336f2c1d9044c31913e6094deafe18e": {
      "model_module": "@jupyter-widgets/controls",
      "model_module_version": "1.5.0",
      "model_name": "DescriptionStyleModel",
      "state": {
       "description_width": ""
      }
     },
     "134bab1739cb42728397e4880ff560f4": {
      "model_module": "@jupyter-widgets/controls",
      "model_module_version": "1.5.0",
      "model_name": "AccordionModel",
      "state": {
       "_titles": {
        "0": "containerResourceRequirements"
       },
       "children": [
        "IPY_MODEL_bb01e4e0778c4473bb21c16376b1baa9"
       ],
       "layout": "IPY_MODEL_407afb2a2ca14d7a8111e75050e55eee"
      }
     },
     "1360f4aa350a4bcbb2ba8f047b435ae3": {
      "model_module": "@jupyter-widgets/controls",
      "model_module_version": "1.5.0",
      "model_name": "HBoxModel",
      "state": {
       "children": [
        "IPY_MODEL_ec0d9e9f70ef409b8b72f001895562ef",
        "IPY_MODEL_6e6f7caec4494f8983e3fbabb5353a9b"
       ],
       "layout": "IPY_MODEL_610eb2b3b1614003b911e82dc2e1c3b4"
      }
     },
     "138aaf6f4bc843cd9005e3f908c6fb65": {
      "model_module": "@jupyter-widgets/controls",
      "model_module_version": "1.5.0",
      "model_name": "LabelModel",
      "state": {
       "layout": "IPY_MODEL_d9d719addb0f43ddaaaa2b1256a685d7",
       "style": "IPY_MODEL_037ce58dc1034dfaae1d32385d607a93",
       "value": "aml://asset/5ab7f6be706a4cb8a658fa05810f9f97"
      }
     },
     "138d59b397ac4b1ca7937ad55081c050": {
      "model_module": "@jupyter-widgets/base",
      "model_module_version": "1.2.0",
      "model_name": "LayoutModel",
      "state": {}
     },
     "13e93d5447534af9b94bab8c3e5d7a57": {
      "model_module": "@jupyter-widgets/base",
      "model_module_version": "1.2.0",
      "model_name": "LayoutModel",
      "state": {}
     },
     "140b0ec3b2bc43858cf9be728a27df55": {
      "model_module": "@jupyter-widgets/controls",
      "model_module_version": "1.5.0",
      "model_name": "DescriptionStyleModel",
      "state": {
       "description_width": ""
      }
     },
     "1410c1e1128549679c5dbb68ac6780e4": {
      "model_module": "@jupyter-widgets/controls",
      "model_module_version": "1.5.0",
      "model_name": "HTMLModel",
      "state": {
       "layout": "IPY_MODEL_a2f00b2907494f9cafc0d0bfdc446922",
       "style": "IPY_MODEL_41dea9fe01d646c59deece18cd524841",
       "value": "<b>mlflow.source.git.commit:</b>"
      }
     },
     "14a67622c2d6498f9df2e4b8e4b10888": {
      "model_module": "@jupyter-widgets/controls",
      "model_module_version": "1.5.0",
      "model_name": "DescriptionStyleModel",
      "state": {
       "description_width": ""
      }
     },
     "14bca055dfe34d8aaebc9a22817f93e0": {
      "model_module": "@jupyter-widgets/base",
      "model_module_version": "1.2.0",
      "model_name": "LayoutModel",
      "state": {}
     },
     "14bd42e898754941a24385f973f2aa40": {
      "model_module": "@jupyter-widgets/base",
      "model_module_version": "1.2.0",
      "model_name": "LayoutModel",
      "state": {}
     },
     "14bee6c14c3f49ef8658e5a8ae836919": {
      "model_module": "@jupyter-widgets/base",
      "model_module_version": "1.2.0",
      "model_name": "LayoutModel",
      "state": {}
     },
     "14de7cb469944ad19dd8c1f17e81e2c1": {
      "model_module": "@jupyter-widgets/controls",
      "model_module_version": "1.5.0",
      "model_name": "HBoxModel",
      "state": {
       "children": [
        "IPY_MODEL_0f2888b46569409f897e54902a9fc08b",
        "IPY_MODEL_730ae967fd9e4d16b53a7df308396b49"
       ],
       "layout": "IPY_MODEL_bb5532bca9ed48b1844155717cc84ef2"
      }
     },
     "15063d31bb7640799bcbd5b28748452f": {
      "model_module": "@jupyter-widgets/controls",
      "model_module_version": "1.5.0",
      "model_name": "DescriptionStyleModel",
      "state": {
       "description_width": ""
      }
     },
     "1526b31b88b343dbb48f1614ed8e8684": {
      "model_module": "@jupyter-widgets/base",
      "model_module_version": "1.2.0",
      "model_name": "LayoutModel",
      "state": {}
     },
     "15433bb0d1ab4d89a19b5946a3f49316": {
      "model_module": "@jupyter-widgets/base",
      "model_module_version": "1.2.0",
      "model_name": "LayoutModel",
      "state": {}
     },
     "15605aa8a06e494e8b56aaf180392f20": {
      "model_module": "@jupyter-widgets/base",
      "model_module_version": "1.2.0",
      "model_name": "LayoutModel",
      "state": {}
     },
     "1562e79659b14acdbaf95d8aef7b9329": {
      "model_module": "@jupyter-widgets/base",
      "model_module_version": "1.2.0",
      "model_name": "LayoutModel",
      "state": {}
     },
     "15662e2bc5964976a320eafa3ae47227": {
      "model_module": "@jupyter-widgets/base",
      "model_module_version": "1.2.0",
      "model_name": "LayoutModel",
      "state": {}
     },
     "157037d3c9ca479bbb15ac48f57d9c15": {
      "model_module": "@jupyter-widgets/base",
      "model_module_version": "1.2.0",
      "model_name": "LayoutModel",
      "state": {}
     },
     "158ffec0f8c44e3b874f1d0581e13053": {
      "model_module": "@jupyter-widgets/controls",
      "model_module_version": "1.5.0",
      "model_name": "DescriptionStyleModel",
      "state": {
       "description_width": ""
      }
     },
     "15b1e2f4b0db44b29387206d4909c984": {
      "model_module": "@jupyter-widgets/controls",
      "model_module_version": "1.5.0",
      "model_name": "LabelModel",
      "state": {
       "layout": "IPY_MODEL_b4dd20b1bd4947d489eee212ca581088",
       "style": "IPY_MODEL_0796facb8ce04aca9ec5ab8edb7f09bf",
       "value": "https://github.com/microsoft/AI-Utilities.git"
      }
     },
     "15d59c4072ee42bab10720a06374c66e": {
      "model_module": "@jupyter-widgets/controls",
      "model_module_version": "1.5.0",
      "model_name": "LabelModel",
      "state": {
       "layout": "IPY_MODEL_8785be924ead4583b2cae94a36471b64",
       "style": "IPY_MODEL_bb107ac05fef46a48949384e3e751902",
       "value": "AKS"
      }
     },
     "1607d73b65504eab971a92442e7bde2f": {
      "model_module": "@jupyter-widgets/controls",
      "model_module_version": "1.5.0",
      "model_name": "HTMLModel",
      "state": {
       "layout": "IPY_MODEL_f639088f5f724b1b9cc2664ca32aa373",
       "style": "IPY_MODEL_c78c4c69d94345bba9834ccf7ad05025",
       "value": "<b>trafficPercentile:</b>"
      }
     },
     "1611b2e6137f4479b24c2c4fb0c05e95": {
      "model_module": "@jupyter-widgets/controls",
      "model_module_version": "1.5.0",
      "model_name": "HBoxModel",
      "state": {
       "children": [
        "IPY_MODEL_ba856e5b7769442293787f896c229dcc",
        "IPY_MODEL_81f5131a213045bebda722fa4c055583"
       ],
       "layout": "IPY_MODEL_73b0409829144658a43e5dc9f79fc883"
      }
     },
     "16135329018342059b0fcb553acb4032": {
      "model_module": "@jupyter-widgets/controls",
      "model_module_version": "1.5.0",
      "model_name": "DescriptionStyleModel",
      "state": {
       "description_width": ""
      }
     },
     "163a5c04442245f4973c6fe9eb6ecbc1": {
      "model_module": "@jupyter-widgets/base",
      "model_module_version": "1.2.0",
      "model_name": "LayoutModel",
      "state": {
       "width": "50%"
      }
     },
     "1654d589331b48fb8b2f506743328b9a": {
      "model_module": "@jupyter-widgets/controls",
      "model_module_version": "1.5.0",
      "model_name": "DescriptionStyleModel",
      "state": {
       "description_width": ""
      }
     },
     "1667acd8626d48b9be6debc14b69dcbb": {
      "model_module": "@jupyter-widgets/base",
      "model_module_version": "1.2.0",
      "model_name": "LayoutModel",
      "state": {}
     },
     "167afcabd0bf46deacbdacee37bf406b": {
      "model_module": "@jupyter-widgets/controls",
      "model_module_version": "1.5.0",
      "model_name": "HTMLModel",
      "state": {
       "layout": "IPY_MODEL_5444a3decde840f3ac8463bd8d09d7e0",
       "style": "IPY_MODEL_88049019ddca4663885d461c0137c98d",
       "value": "<b>inferencingStackVersion:</b>"
      }
     },
     "16aa8babe5cf42b8a9b10faa0c5fbc9d": {
      "model_module": "@jupyter-widgets/controls",
      "model_module_version": "1.5.0",
      "model_name": "DescriptionStyleModel",
      "state": {
       "description_width": ""
      }
     },
     "16afe35c85444e21aa61cf8a48395a02": {
      "model_module": "@jupyter-widgets/controls",
      "model_module_version": "1.5.0",
      "model_name": "DescriptionStyleModel",
      "state": {
       "description_width": ""
      }
     },
     "16cb74ca57f8471ca09480daad72f46c": {
      "model_module": "@jupyter-widgets/controls",
      "model_module_version": "1.5.0",
      "model_name": "DescriptionStyleModel",
      "state": {
       "description_width": ""
      }
     },
     "16ce5bfd42a1429abda1bd15a218f500": {
      "model_module": "@jupyter-widgets/controls",
      "model_module_version": "1.5.0",
      "model_name": "DescriptionStyleModel",
      "state": {
       "description_width": ""
      }
     },
     "16dd8b0a316b46e793979a8216d197ab": {
      "model_module": "@jupyter-widgets/controls",
      "model_module_version": "1.5.0",
      "model_name": "LabelModel",
      "state": {
       "layout": "IPY_MODEL_72013b9833b84722b789f1ec0fce05f7",
       "style": "IPY_MODEL_128ece26a74949d1bb0bc73463ce107a",
       "value": "Control"
      }
     },
     "1712d994f22841408c50c9c6c6c26815": {
      "model_module": "@jupyter-widgets/controls",
      "model_module_version": "1.5.0",
      "model_name": "HTMLModel",
      "state": {
       "layout": "IPY_MODEL_880119be3a5740ef85686cdfe922eba2",
       "style": "IPY_MODEL_fe17eb1efea14c7889b8499367e8819d",
       "value": "<b>userIss:</b>"
      }
     },
     "1717fee0cd85484bb13cc9e23c23a543": {
      "model_module": "@jupyter-widgets/controls",
      "model_module_version": "1.5.0",
      "model_name": "AccordionModel",
      "state": {
       "_titles": {
        "0": "environmentDetails"
       },
       "children": [
        "IPY_MODEL_1897330bca1e4e6fbcd13a7db107009d"
       ],
       "layout": "IPY_MODEL_4f0ac9d824f64ad89d67e7992b604b44"
      }
     },
     "171ec4d323c94851b8ff0aa9fd86520a": {
      "model_module": "@jupyter-widgets/base",
      "model_module_version": "1.2.0",
      "model_name": "LayoutModel",
      "state": {}
     },
     "1748355bdc10447e8f0b11a41073ec17": {
      "model_module": "@jupyter-widgets/base",
      "model_module_version": "1.2.0",
      "model_name": "LayoutModel",
      "state": {}
     },
     "1763f8ad221a4618a13e6abeee389b97": {
      "model_module": "@jupyter-widgets/controls",
      "model_module_version": "1.5.0",
      "model_name": "HBoxModel",
      "state": {
       "children": [
        "IPY_MODEL_678aa5220b22477ea40f08375460e85e",
        "IPY_MODEL_d7d71f9952624733aef7abdfe4478bd5"
       ],
       "layout": "IPY_MODEL_f0ae2204c5f049e0bb97aff7382a43d4"
      }
     },
     "178ca58d98f04837a20efa0d7c613be7": {
      "model_module": "@jupyter-widgets/controls",
      "model_module_version": "1.5.0",
      "model_name": "DescriptionStyleModel",
      "state": {
       "description_width": ""
      }
     },
     "17c3f35720c2421db7ddf6b63b4ba083": {
      "model_module": "@jupyter-widgets/base",
      "model_module_version": "1.2.0",
      "model_name": "LayoutModel",
      "state": {}
     },
     "17d136fd141348fd83f2f7beb72c127c": {
      "model_module": "@jupyter-widgets/controls",
      "model_module_version": "1.5.0",
      "model_name": "LabelModel",
      "state": {
       "layout": "IPY_MODEL_94ec2bf7139e4d3380752482918ef518",
       "style": "IPY_MODEL_395726b90e0940299aba0b237504f114",
       "value": "0.5"
      }
     },
     "1815604b8e7d4f06a2ac9e9933409309": {
      "model_module": "@jupyter-widgets/controls",
      "model_module_version": "1.5.0",
      "model_name": "HBoxModel",
      "state": {
       "children": [
        "IPY_MODEL_82ea280e1d244927b0b68ac67f54db6a",
        "IPY_MODEL_59e3850222484b2db4011e5b3d761ec4"
       ],
       "layout": "IPY_MODEL_fe9058dcd8bb470a8a450dc2fe19b7aa"
      }
     },
     "181d4b173ccb424a963aa4e2e798495b": {
      "model_module": "@jupyter-widgets/controls",
      "model_module_version": "1.5.0",
      "model_name": "HTMLModel",
      "state": {
       "layout": "IPY_MODEL_6d0bd6024d324b1cb41736a4c74b47f6",
       "style": "IPY_MODEL_0c902609d1e14b2bab9d457cdbd4559a",
       "value": "<b>description:</b>"
      }
     },
     "182362dbc59f4b70be8f36a8afcef693": {
      "model_module": "@jupyter-widgets/base",
      "model_module_version": "1.2.0",
      "model_name": "LayoutModel",
      "state": {}
     },
     "1850e4ba62594540b4153088e059e1ef": {
      "model_module": "@jupyter-widgets/controls",
      "model_module_version": "1.5.0",
      "model_name": "HBoxModel",
      "state": {
       "children": [
        "IPY_MODEL_c85b614c79a44f918321119f6b0a0888",
        "IPY_MODEL_45c36c9effbb42c1b53217c25c07a856"
       ],
       "layout": "IPY_MODEL_273fd5c97c4946d5bda719effab2831c"
      }
     },
     "18548426450045b5a1be889ae069f4fb": {
      "model_module": "@jupyter-widgets/controls",
      "model_module_version": "1.5.0",
      "model_name": "DescriptionStyleModel",
      "state": {
       "description_width": ""
      }
     },
     "18873d53bcc34d6593e872326b3cb7f2": {
      "model_module": "@jupyter-widgets/controls",
      "model_module_version": "1.5.0",
      "model_name": "DescriptionStyleModel",
      "state": {
       "description_width": ""
      }
     },
     "1897330bca1e4e6fbcd13a7db107009d": {
      "model_module": "@jupyter-widgets/controls",
      "model_module_version": "1.5.0",
      "model_name": "VBoxModel",
      "state": {
       "children": [
        "IPY_MODEL_5a194f2f6e2346ad986286d6c327e55e",
        "IPY_MODEL_ef290305781848fd8498c24e3ff30aa1",
        "IPY_MODEL_a524225519074bbbbdad0bb825351b5c",
        "IPY_MODEL_44744c40e09f475e89b0fa591288e0b6",
        "IPY_MODEL_20e3236733ee464b88064cb2e06db91f",
        "IPY_MODEL_25ae584edc3d422ca5c366ef1186417f",
        "IPY_MODEL_03766c46b41043949d912ad43db60fef",
        "IPY_MODEL_c0322599f8bb4fed82cd58d1091cc1e1",
        "IPY_MODEL_1ea368c78a2845499bb05e03d3e67903"
       ],
       "layout": "IPY_MODEL_bbbc5103ec0e4e0ea48e658937244ca6"
      }
     },
     "18bafc974924460e98edeb516bb70502": {
      "model_module": "@jupyter-widgets/controls",
      "model_module_version": "1.5.0",
      "model_name": "DescriptionStyleModel",
      "state": {
       "description_width": ""
      }
     },
     "18bc32feec7b46c69b3567fb1592ca3f": {
      "model_module": "@jupyter-widgets/controls",
      "model_module_version": "1.5.0",
      "model_name": "ProgressStyleModel",
      "state": {
       "description_width": ""
      }
     },
     "191727a88be04b5e959c5e22b529fcb4": {
      "model_module": "@jupyter-widgets/controls",
      "model_module_version": "1.5.0",
      "model_name": "DescriptionStyleModel",
      "state": {
       "description_width": ""
      }
     },
     "1931b7d4f8b442469fc5ee1540698397": {
      "model_module": "@jupyter-widgets/base",
      "model_module_version": "1.2.0",
      "model_name": "LayoutModel",
      "state": {}
     },
     "19538ccf8f7a4e2d92c40641c00c3be9": {
      "model_module": "@jupyter-widgets/controls",
      "model_module_version": "1.5.0",
      "model_name": "DescriptionStyleModel",
      "state": {
       "description_width": ""
      }
     },
     "197c4f15152844f089c2dff8a9ab2172": {
      "model_module": "@jupyter-widgets/controls",
      "model_module_version": "1.5.0",
      "model_name": "HBoxModel",
      "state": {
       "children": [
        "IPY_MODEL_f6bfc79da03f4580a8234b0bb6e10e7b",
        "IPY_MODEL_8b377a7771f647f5802d3d6f0bc4437b"
       ],
       "layout": "IPY_MODEL_4cabd39bdecc4a5fadb4a8695e323292"
      }
     },
     "19d1834e2fb54728b0af5182f68c289a": {
      "model_module": "@jupyter-widgets/base",
      "model_module_version": "1.2.0",
      "model_name": "LayoutModel",
      "state": {}
     },
     "19e05c53fb3541da920a176e2a9d37cc": {
      "model_module": "@jupyter-widgets/base",
      "model_module_version": "1.2.0",
      "model_name": "LayoutModel",
      "state": {}
     },
     "19f856c8e23a4cdcb326a7a9b0d46d2b": {
      "model_module": "@jupyter-widgets/controls",
      "model_module_version": "1.5.0",
      "model_name": "HTMLModel",
      "state": {
       "layout": "IPY_MODEL_d47eb41535434673942ae5d1a0411db8",
       "style": "IPY_MODEL_5f244886e98547569cd45ef435a7bcbe",
       "value": "<b>userObjectId:</b>"
      }
     },
     "1a0ebbe6925e43b8b7cac452e01b31bb": {
      "model_module": "@jupyter-widgets/controls",
      "model_module_version": "1.5.0",
      "model_name": "DescriptionStyleModel",
      "state": {
       "description_width": ""
      }
     },
     "1a2c12d150fe4aba99e774e52aed890b": {
      "model_module": "@jupyter-widgets/controls",
      "model_module_version": "1.5.0",
      "model_name": "HBoxModel",
      "state": {
       "children": [
        "IPY_MODEL_9a7717b73f4f4b4d88fe1f8ac621c23a",
        "IPY_MODEL_baecd485daa04cb38027fa8ac92f40b9"
       ],
       "layout": "IPY_MODEL_f56a72debc3d4504a8a7144336707f51"
      }
     },
     "1a37951925b24e1bbeab376413979a68": {
      "model_module": "@jupyter-widgets/controls",
      "model_module_version": "1.5.0",
      "model_name": "HBoxModel",
      "state": {
       "children": [
        "IPY_MODEL_a151fc0e11cb4f67aa5a0a573e990719",
        "IPY_MODEL_16dd8b0a316b46e793979a8216d197ab"
       ],
       "layout": "IPY_MODEL_ba994cbe628e47c4af8d6fed99e12424"
      }
     },
     "1a39b56762fd444096de2ec3288af794": {
      "model_module": "@jupyter-widgets/controls",
      "model_module_version": "1.5.0",
      "model_name": "HBoxModel",
      "state": {
       "children": [
        "IPY_MODEL_95240fee60324e6f9dc6f9ea6c29ccda",
        "IPY_MODEL_63e059425202481c8ec70c656058a558"
       ],
       "layout": "IPY_MODEL_4cefd5fef8ea4e44946290841017264d"
      }
     },
     "1a4f40e72bb74a07bd879a32a7796625": {
      "model_module": "@jupyter-widgets/controls",
      "model_module_version": "1.5.0",
      "model_name": "DescriptionStyleModel",
      "state": {
       "description_width": ""
      }
     },
     "1a5df548735e4b3ab93fd212f37ff287": {
      "model_module": "@jupyter-widgets/controls",
      "model_module_version": "1.5.0",
      "model_name": "HTMLModel",
      "state": {
       "layout": "IPY_MODEL_e83f64b7baeb486c91673cef33ce3868",
       "style": "IPY_MODEL_4b0c197693d141ab97b42fc8f9729732",
       "value": "<b>userAltSecId:</b>"
      }
     },
     "1a734fd055cb4e59a8a999e822d39d58": {
      "model_module": "@jupyter-widgets/base",
      "model_module_version": "1.2.0",
      "model_name": "LayoutModel",
      "state": {
       "width": "80%"
      }
     },
     "1a73811ebd6040aca95cc56f60084e55": {
      "model_module": "@jupyter-widgets/controls",
      "model_module_version": "1.5.0",
      "model_name": "LabelModel",
      "state": {
       "layout": "IPY_MODEL_8153530a28044ad8b6dc4a57505ff1df",
       "style": "IPY_MODEL_27d564b2ea3d41abb5d0491c4d99aa74",
       "value": "None"
      }
     },
     "1a802956dd99410da3bca2fc8a8447f8": {
      "model_module": "@jupyter-widgets/base",
      "model_module_version": "1.2.0",
      "model_name": "LayoutModel",
      "state": {}
     },
     "1a8287e652964d5197de0c1d3d0a5726": {
      "model_module": "@jupyter-widgets/base",
      "model_module_version": "1.2.0",
      "model_name": "LayoutModel",
      "state": {}
     },
     "1aaa1cbb5f2949a68d2925d697cc01b9": {
      "model_module": "@jupyter-widgets/base",
      "model_module_version": "1.2.0",
      "model_name": "LayoutModel",
      "state": {}
     },
     "1aadb7c850934c67ae369675ae202294": {
      "model_module": "@jupyter-widgets/base",
      "model_module_version": "1.2.0",
      "model_name": "LayoutModel",
      "state": {}
     },
     "1ab09191846a4ca7ad7452c448225061": {
      "model_module": "@jupyter-widgets/controls",
      "model_module_version": "1.5.0",
      "model_name": "LabelModel",
      "state": {
       "layout": "IPY_MODEL_2f806082aba749b0b58ae2e342692cca",
       "style": "IPY_MODEL_a73d9a8a37f84c09bb4c0095d01a256f",
       "value": "{'EXAMPLE_ENV_VAR': 'EXAMPLE_VALUE'}"
      }
     },
     "1ad209c7bce94bc1afd51e94ca279f0e": {
      "model_module": "@jupyter-widgets/base",
      "model_module_version": "1.2.0",
      "model_name": "LayoutModel",
      "state": {}
     },
     "1ae3b54b0c994ed9bfad0843ec799c1a": {
      "model_module": "@jupyter-widgets/controls",
      "model_module_version": "1.5.0",
      "model_name": "HBoxModel",
      "state": {
       "children": [
        "IPY_MODEL_85402151a7e14aed919ab0d7e9528d89",
        "IPY_MODEL_369c33e075984337b514ddb2101f1410"
       ],
       "layout": "IPY_MODEL_4044618d5ed4483db9df34f4b59326aa"
      }
     },
     "1af717a3b3c7450bb11088a11fd246d0": {
      "model_module": "@jupyter-widgets/controls",
      "model_module_version": "1.5.0",
      "model_name": "TextModel",
      "state": {
       "description": "workspace_region",
       "layout": "IPY_MODEL_f03fd683dd284579afef20e013d1811a",
       "placeholder": "Azure ML Workspace Region",
       "style": "IPY_MODEL_d4485d4ee3a044aea784a63b220e9505",
       "value": "eastus"
      }
     },
     "1af7c15204e84075a9ac26c98bf0bebe": {
      "model_module": "@jupyter-widgets/controls",
      "model_module_version": "1.5.0",
      "model_name": "LabelModel",
      "state": {
       "layout": "IPY_MODEL_7f3ded5199514703b03b029a4b2b5a49",
       "style": "IPY_MODEL_178ca58d98f04837a20efa0d7c613be7",
       "value": "10"
      }
     },
     "1b1068e16e4f44bbbe99122146c5b652": {
      "model_module": "@jupyter-widgets/controls",
      "model_module_version": "1.5.0",
      "model_name": "LabelModel",
      "state": {
       "layout": "IPY_MODEL_bffa22b7f0cc436a859163c0e8864187",
       "style": "IPY_MODEL_864ef2694e634a1b937f89a36ed48144",
       "value": "{'mavenLibraries': [], 'pypiLibraries': [], 'rcranLibraries': [], 'jarLibraries': [], 'eggLibraries': []}"
      }
     },
     "1b361ef154a747f58b8c52dc9784a706": {
      "model_module": "@jupyter-widgets/controls",
      "model_module_version": "1.5.0",
      "model_name": "DescriptionStyleModel",
      "state": {
       "description_width": ""
      }
     },
     "1b3d363ecc604fc3945d973262a75154": {
      "model_module": "@jupyter-widgets/controls",
      "model_module_version": "1.5.0",
      "model_name": "LabelModel",
      "state": {
       "layout": "IPY_MODEL_b3f9847e69b34fa7a7a439fd87dfa746",
       "style": "IPY_MODEL_3ce675b7d1ee427fb6290995cde37c60",
       "value": "{'mavenLibraries': [], 'pypiLibraries': [], 'rcranLibraries': [], 'jarLibraries': [], 'eggLibraries': []}"
      }
     },
     "1b824c06503149389db81a1dcce000b4": {
      "model_module": "@jupyter-widgets/controls",
      "model_module_version": "1.5.0",
      "model_name": "LabelModel",
      "state": {
       "layout": "IPY_MODEL_f6edaeab81684b66a068e576a26f597d",
       "style": "IPY_MODEL_cb7e6c5ab06048f789e48c73d58f737c",
       "value": "True"
      }
     },
     "1bb137cd4410482a99c1ad87ff55bb9f": {
      "model_module": "@jupyter-widgets/base",
      "model_module_version": "1.2.0",
      "model_name": "LayoutModel",
      "state": {}
     },
     "1bf333ccaad442f89a979af123754daf": {
      "model_module": "@jupyter-widgets/controls",
      "model_module_version": "1.5.0",
      "model_name": "DescriptionStyleModel",
      "state": {
       "description_width": ""
      }
     },
     "1c2e228ca04d45d8bdbe59003edbb9ae": {
      "model_module": "@jupyter-widgets/controls",
      "model_module_version": "1.5.0",
      "model_name": "AccordionModel",
      "state": {
       "_titles": {
        "0": "error"
       },
       "children": [
        "IPY_MODEL_5dd6e7c4ce7944068736f0505ef3f86d"
       ],
       "layout": "IPY_MODEL_138d59b397ac4b1ca7937ad55081c050"
      }
     },
     "1c589710ea374a4293098663fd21f625": {
      "model_module": "@jupyter-widgets/controls",
      "model_module_version": "1.5.0",
      "model_name": "VBoxModel",
      "state": {
       "children": [
        "IPY_MODEL_488fa31781254a11b09a8bd944a16e8a",
        "IPY_MODEL_5a4c3c193d014b729b2111623cf19af4",
        "IPY_MODEL_e767dd84b27349999134340e023e820b"
       ],
       "layout": "IPY_MODEL_3db94aaab3a14492b68f73831d82eb75"
      }
     },
     "1ca11c59b2ec4e26858abb347e40ab69": {
      "model_module": "@jupyter-widgets/controls",
      "model_module_version": "1.5.0",
      "model_name": "VBoxModel",
      "state": {
       "children": [
        "IPY_MODEL_4c3562f080384cf8b521a3f9ce1fc736",
        "IPY_MODEL_cfaa06a186ea4f2599facea927576621",
        "IPY_MODEL_d7b3a2340aa5413c964458b8f94b8e86",
        "IPY_MODEL_26ebb0396cd04f6ea0d81be1657fa35a",
        "IPY_MODEL_835c572dab884081b6b60b7024e64550",
        "IPY_MODEL_20e3d757934c44a9b104148f218fef3e",
        "IPY_MODEL_5187676e35b3420488763cd7621f29c6",
        "IPY_MODEL_5363e8c7dc4048f6961ff65130df6cf2",
        "IPY_MODEL_87c44eb36b4747debbf7925864bc27b4",
        "IPY_MODEL_588e1abccde54aeea1878c98bc25075d",
        "IPY_MODEL_fb6e4945aad14f249d625ce541ad82a0",
        "IPY_MODEL_378406f134ae479ab950844553e20dba",
        "IPY_MODEL_a76403fa814b45ec8cca9ea0dd564920",
        "IPY_MODEL_e40656ce1b6643feb1005a6c28107ddb"
       ],
       "layout": "IPY_MODEL_ce38c1d30a70481f8701980a97c3db5e"
      }
     },
     "1ca24dbc131b4cd78c74322205654842": {
      "model_module": "@jupyter-widgets/controls",
      "model_module_version": "1.5.0",
      "model_name": "LabelModel",
      "state": {
       "layout": "IPY_MODEL_d569308451684e95b19e6c5df17c05c9",
       "style": "IPY_MODEL_660d973fae1b487caa4b5b9998064a4c",
       "value": "1"
      }
     },
     "1ca59d00f1e240cb8516aaa7ce82426d": {
      "model_module": "@jupyter-widgets/base",
      "model_module_version": "1.2.0",
      "model_name": "LayoutModel",
      "state": {}
     },
     "1cabf33f15e8435ab4d2a8a0e4ab4c56": {
      "model_module": "@jupyter-widgets/controls",
      "model_module_version": "1.5.0",
      "model_name": "DescriptionStyleModel",
      "state": {
       "description_width": ""
      }
     },
     "1cb1aa7da3d5400596180e011452987a": {
      "model_module": "@jupyter-widgets/base",
      "model_module_version": "1.2.0",
      "model_name": "LayoutModel",
      "state": {}
     },
     "1cb2143723de435c8fb1632074401f11": {
      "model_module": "@jupyter-widgets/controls",
      "model_module_version": "1.5.0",
      "model_name": "DescriptionStyleModel",
      "state": {
       "description_width": ""
      }
     },
     "1cb8b41a4c964f768a187e9a823a422a": {
      "model_module": "@jupyter-widgets/controls",
      "model_module_version": "1.5.0",
      "model_name": "DescriptionStyleModel",
      "state": {
       "description_width": ""
      }
     },
     "1cc9eb7f141047f5b3abfee7b14f6125": {
      "model_module": "@jupyter-widgets/base",
      "model_module_version": "1.2.0",
      "model_name": "LayoutModel",
      "state": {}
     },
     "1cf474270c8c4a6b9d5fce1c04b97968": {
      "model_module": "@jupyter-widgets/controls",
      "model_module_version": "1.5.0",
      "model_name": "HBoxModel",
      "state": {
       "children": [
        "IPY_MODEL_c4424eb40375495bb1e0b1d05c9743fb",
        "IPY_MODEL_826a2f889c8145d295f982dd19ce8e6b"
       ],
       "layout": "IPY_MODEL_b368f12c6c924e3f90623d6108ebb538"
      }
     },
     "1d1d6930c62a481b9a8719827dd038a4": {
      "model_module": "@jupyter-widgets/controls",
      "model_module_version": "1.5.0",
      "model_name": "HBoxModel",
      "state": {
       "children": [
        "IPY_MODEL_2867cb38c282402a9368b7a1f2387513",
        "IPY_MODEL_2ea953e356624dfe8122dfb19753f1d3"
       ],
       "layout": "IPY_MODEL_613ff484702d4853807725953959ef8b"
      }
     },
     "1d4632c5f3ba4f738b6a3b14fb731a48": {
      "model_module": "@jupyter-widgets/controls",
      "model_module_version": "1.5.0",
      "model_name": "LabelModel",
      "state": {
       "layout": "IPY_MODEL_a84aba87d0e4457fae6be25190e66051",
       "style": "IPY_MODEL_ad30c7b83cf442c5a0f1efd3dafb4a96",
       "value": "True"
      }
     },
     "1d585d5f2aeb40ca8055cbcf7751c366": {
      "model_module": "@jupyter-widgets/base",
      "model_module_version": "1.2.0",
      "model_name": "LayoutModel",
      "state": {}
     },
     "1d61450040c84b6c9bfb9fac2b2bbc63": {
      "model_module": "@jupyter-widgets/base",
      "model_module_version": "1.2.0",
      "model_name": "LayoutModel",
      "state": {}
     },
     "1d63c975e0244c1494030cbb5c62e785": {
      "model_module": "@jupyter-widgets/controls",
      "model_module_version": "1.5.0",
      "model_name": "HTMLModel",
      "state": {
       "layout": "IPY_MODEL_b7b29b33e2f348dabcbc641c0154d115",
       "style": "IPY_MODEL_861bfbd6a0454dae85b65cd2bcc5f0b4",
       "value": "<b>inferencingStackVersion:</b>"
      }
     },
     "1d852570018447f2a6162b015a945d64": {
      "model_module": "@jupyter-widgets/base",
      "model_module_version": "1.2.0",
      "model_name": "LayoutModel",
      "state": {}
     },
     "1d9bd5ba6e8f4e51af72830ac0eb1b49": {
      "model_module": "@jupyter-widgets/controls",
      "model_module_version": "1.5.0",
      "model_name": "DescriptionStyleModel",
      "state": {
       "description_width": ""
      }
     },
     "1de4962aa702492884e175ad7481e5da": {
      "model_module": "@jupyter-widgets/controls",
      "model_module_version": "1.5.0",
      "model_name": "HBoxModel",
      "state": {
       "children": [
        "IPY_MODEL_fcf10cc4b2ca4164aa4b03878d251a2b",
        "IPY_MODEL_8a2a6047479a4892bcdadd04be1bbe1a"
       ],
       "layout": "IPY_MODEL_0a5ad67d2f134efdb54107ff83252a0f"
      }
     },
     "1df49bdee9c24b9887f442e1960161b2": {
      "model_module": "@jupyter-widgets/base",
      "model_module_version": "1.2.0",
      "model_name": "LayoutModel",
      "state": {}
     },
     "1e325f71410d42349ab7aee4a06cec1f": {
      "model_module": "@jupyter-widgets/controls",
      "model_module_version": "1.5.0",
      "model_name": "HTMLModel",
      "state": {
       "layout": "IPY_MODEL_114ee9cc3a26489188b1c2d0bce117f9",
       "style": "IPY_MODEL_f5e102c891c342f992c2cbbb7278fad2",
       "value": "<b>storageEnabled:</b>"
      }
     },
     "1e5cea833b974268b92402d71afbf598": {
      "model_module": "@jupyter-widgets/controls",
      "model_module_version": "1.5.0",
      "model_name": "HBoxModel",
      "state": {
       "children": [
        "IPY_MODEL_4d87072d25b24508b43c5ea229fde915",
        "IPY_MODEL_0910e8e76d324d2fa5a548e15bc71343"
       ],
       "layout": "IPY_MODEL_ad2136ac2153458ca69adc94c775821c"
      }
     },
     "1e5f31c4151c41878653b6b2ee4215c1": {
      "model_module": "@jupyter-widgets/base",
      "model_module_version": "1.2.0",
      "model_name": "LayoutModel",
      "state": {}
     },
     "1e6ee877bcf44c2087592a6634d987e4": {
      "model_module": "@jupyter-widgets/controls",
      "model_module_version": "1.5.0",
      "model_name": "LabelModel",
      "state": {
       "layout": "IPY_MODEL_8a81bcd5b2f943029ecbc059cab6fddd",
       "style": "IPY_MODEL_308d87cd9e7f4a03a4712e48302faa80",
       "value": "None"
      }
     },
     "1ea368c78a2845499bb05e03d3e67903": {
      "model_module": "@jupyter-widgets/controls",
      "model_module_version": "1.5.0",
      "model_name": "HBoxModel",
      "state": {
       "children": [
        "IPY_MODEL_167afcabd0bf46deacbdacee37bf406b",
        "IPY_MODEL_0710605046384d46921e084fee6340d7"
       ],
       "layout": "IPY_MODEL_0705cc80fdcb4dc9b7caadd74c2e0123"
      }
     },
     "1ea9d0beaff34d4fa52c36ec5b5f9e04": {
      "model_module": "@jupyter-widgets/controls",
      "model_module_version": "1.5.0",
      "model_name": "DescriptionStyleModel",
      "state": {
       "description_width": ""
      }
     },
     "1ec1a5d082b44a9c9f79cbcbc822e779": {
      "model_module": "@jupyter-widgets/controls",
      "model_module_version": "1.5.0",
      "model_name": "DescriptionStyleModel",
      "state": {
       "description_width": ""
      }
     },
     "1f47f9d683f84af1ae7950721a5507ce": {
      "model_module": "@jupyter-widgets/base",
      "model_module_version": "1.2.0",
      "model_name": "LayoutModel",
      "state": {}
     },
     "1f4f697b2a894ca890e70e3cfea1117c": {
      "model_module": "@jupyter-widgets/controls",
      "model_module_version": "1.5.0",
      "model_name": "DescriptionStyleModel",
      "state": {
       "description_width": ""
      }
     },
     "1f5f192026bb4fcfb043c4ba85d1c1ca": {
      "model_module": "@jupyter-widgets/controls",
      "model_module_version": "1.5.0",
      "model_name": "VBoxModel",
      "state": {
       "children": [
        "IPY_MODEL_05b5930989df482da245ea46d48a4015",
        "IPY_MODEL_b279030750344fec8b742a2ec2bb328e",
        "IPY_MODEL_8aa675c53e6440eeadc74ed53862082a",
        "IPY_MODEL_abd762be39b24a3f9246d4a53912a6f2",
        "IPY_MODEL_29400bf6ea6d4942800a3e7d4845933d",
        "IPY_MODEL_1ae3b54b0c994ed9bfad0843ec799c1a",
        "IPY_MODEL_5ee69b6c0fbc47e691db438921f0bc08"
       ],
       "layout": "IPY_MODEL_0a4d6e06e1484fe39782413f92b8e1c5"
      }
     },
     "1f6082825a4946d98d8880cbc662cb90": {
      "model_module": "@jupyter-widgets/base",
      "model_module_version": "1.2.0",
      "model_name": "LayoutModel",
      "state": {}
     },
     "1f7a05e0546a4ea98c5a7b19e41110b3": {
      "model_module": "@jupyter-widgets/base",
      "model_module_version": "1.2.0",
      "model_name": "LayoutModel",
      "state": {
       "width": "50%"
      }
     },
     "1f953cbb890840c4b63e6cb17570e0ec": {
      "model_module": "@jupyter-widgets/base",
      "model_module_version": "1.2.0",
      "model_name": "LayoutModel",
      "state": {}
     },
     "1fbbdd3e7e0047a7b60a93281a4a5223": {
      "model_module": "@jupyter-widgets/controls",
      "model_module_version": "1.5.0",
      "model_name": "DescriptionStyleModel",
      "state": {
       "description_width": ""
      }
     },
     "1ff87baa5b3f427782455f02681eac1e": {
      "model_module": "@jupyter-widgets/controls",
      "model_module_version": "1.5.0",
      "model_name": "DescriptionStyleModel",
      "state": {
       "description_width": ""
      }
     },
     "200a7655863240cdaef8460aee195c35": {
      "model_module": "@jupyter-widgets/base",
      "model_module_version": "1.2.0",
      "model_name": "LayoutModel",
      "state": {}
     },
     "2030c48307674c1daa79a07d8a4bf7e9": {
      "model_module": "@jupyter-widgets/base",
      "model_module_version": "1.2.0",
      "model_name": "LayoutModel",
      "state": {}
     },
     "204aeff028424b20a65462930ed74505": {
      "model_module": "@jupyter-widgets/controls",
      "model_module_version": "1.5.0",
      "model_name": "HTMLModel",
      "state": {
       "layout": "IPY_MODEL_d66a0db599a74e5b8d691c76097affa7",
       "style": "IPY_MODEL_89cde88f86a64311833b9e4ac447aae0",
       "value": "<b>sampleInputDatasetId:</b>"
      }
     },
     "2057e678a3b449aa9c4c2d7d02a7363c": {
      "model_module": "@jupyter-widgets/controls",
      "model_module_version": "1.5.0",
      "model_name": "DescriptionStyleModel",
      "state": {
       "description_width": ""
      }
     },
     "2068c033884044369ba6a3473d525a2f": {
      "model_module": "@jupyter-widgets/controls",
      "model_module_version": "1.5.0",
      "model_name": "LabelModel",
      "state": {
       "layout": "IPY_MODEL_acd0b3e63e214c94a9cefcc7a284399c",
       "style": "IPY_MODEL_518f972b6aa74ed994acee1d9d34a47b",
       "value": "None"
      }
     },
     "20984a2ffaca47f1a2cb419740cd0f97": {
      "model_module": "@jupyter-widgets/controls",
      "model_module_version": "1.5.0",
      "model_name": "DescriptionStyleModel",
      "state": {
       "description_width": ""
      }
     },
     "209ff909690342fdb9db0f53cb8d732c": {
      "model_module": "@jupyter-widgets/base",
      "model_module_version": "1.2.0",
      "model_name": "LayoutModel",
      "state": {}
     },
     "20d07447a5e84ae98ebaeb739faa3f1c": {
      "model_module": "@jupyter-widgets/base",
      "model_module_version": "1.2.0",
      "model_name": "LayoutModel",
      "state": {}
     },
     "20d1c6f2816148a4a976e2d82f8766a6": {
      "model_module": "@jupyter-widgets/base",
      "model_module_version": "1.2.0",
      "model_name": "LayoutModel",
      "state": {}
     },
     "20dd9cfb691f43df80db63f06c738fa5": {
      "model_module": "@jupyter-widgets/base",
      "model_module_version": "1.2.0",
      "model_name": "LayoutModel",
      "state": {}
     },
     "20e056c2d3f74094864968ae42c6e8c1": {
      "model_module": "@jupyter-widgets/base",
      "model_module_version": "1.2.0",
      "model_name": "LayoutModel",
      "state": {}
     },
     "20e3236733ee464b88064cb2e06db91f": {
      "model_module": "@jupyter-widgets/controls",
      "model_module_version": "1.5.0",
      "model_name": "HBoxModel",
      "state": {
       "children": [
        "IPY_MODEL_7443bde2040c464cae8df9542c258154",
        "IPY_MODEL_9d4e5b5e2fef4ab08703b6413320cf6b"
       ],
       "layout": "IPY_MODEL_ac411e97b6c644e886845d7303e95603"
      }
     },
     "20e3d757934c44a9b104148f218fef3e": {
      "model_module": "@jupyter-widgets/controls",
      "model_module_version": "1.5.0",
      "model_name": "DropdownModel",
      "state": {
       "_options_labels": [
        "eastus",
        "eastus2",
        "canadacentral",
        "centralus",
        "northcentralus",
        "southcentralus",
        "westcentralus",
        "westus",
        "westus2"
       ],
       "description": "workspace_region",
       "index": 0,
       "layout": "IPY_MODEL_e6fb4d08a0614f7d9e3630c1b394e3a2",
       "style": "IPY_MODEL_80c98fc5835c4d7aa90065379b5f785c"
      }
     },
     "217b221d92624ec1a06a0588488a0263": {
      "model_module": "@jupyter-widgets/controls",
      "model_module_version": "1.5.0",
      "model_name": "HBoxModel",
      "state": {
       "children": [
        "IPY_MODEL_71b40283d6e84d02ab4fa1900c3acc17",
        "IPY_MODEL_1b1068e16e4f44bbbe99122146c5b652"
       ],
       "layout": "IPY_MODEL_b72d9bda6005434ba5591f9c1ec65ae0"
      }
     },
     "218d51519ebb4d57b8471e713ecdbd09": {
      "model_module": "@jupyter-widgets/controls",
      "model_module_version": "1.5.0",
      "model_name": "LabelModel",
      "state": {
       "layout": "IPY_MODEL_8bff5ecab7b34bfbbee7cbf517c86074",
       "style": "IPY_MODEL_1cabf33f15e8435ab4d2a8a0e4ab4c56",
       "value": "dciborow/no-cli"
      }
     },
     "21b6277847974185abd110fa99754d01": {
      "model_module": "@jupyter-widgets/controls",
      "model_module_version": "1.5.0",
      "model_name": "DescriptionStyleModel",
      "state": {
       "description_width": ""
      }
     },
     "21dc8dc91aa546039f8bd09582db9b9a": {
      "model_module": "@jupyter-widgets/base",
      "model_module_version": "1.2.0",
      "model_name": "LayoutModel",
      "state": {
       "width": "50%"
      }
     },
     "21e6dfaa63274cb5b5cc841f29e270dc": {
      "model_module": "@jupyter-widgets/base",
      "model_module_version": "1.2.0",
      "model_name": "LayoutModel",
      "state": {}
     },
     "2223684150504a4593b745241f0982be": {
      "model_module": "@jupyter-widgets/controls",
      "model_module_version": "1.5.0",
      "model_name": "LabelModel",
      "state": {
       "layout": "IPY_MODEL_d71a7e8c85f04187a54be4db4b93270e",
       "style": "IPY_MODEL_9a6b8ec553e4464c876a6b308d689797",
       "value": "Daniel Ciborowski"
      }
     },
     "2236a6b2a0434b61a912b6fe24543742": {
      "model_module": "@jupyter-widgets/controls",
      "model_module_version": "1.5.0",
      "model_name": "VBoxModel",
      "state": {
       "children": [
        "IPY_MODEL_56f37b39a94141b59f63e57b44135dfd",
        "IPY_MODEL_4b382c62bfbf47c3bf93d6857b2f3095",
        "IPY_MODEL_d13dd40bd7de4844bd850eed9899bf57"
       ],
       "layout": "IPY_MODEL_c7388f693d1349ebb9c690bf61b2727d"
      }
     },
     "224d5aa7c82946719f233b5b19cf5604": {
      "model_module": "@jupyter-widgets/controls",
      "model_module_version": "1.5.0",
      "model_name": "LabelModel",
      "state": {
       "layout": "IPY_MODEL_526d3290d4f24fa099ad7ea035994331",
       "style": "IPY_MODEL_115b4e8b80e8475cbbf2d1b5a0a40cb7",
       "value": "None"
      }
     },
     "228aceccf239478a8b8046b2b882d9d0": {
      "model_module": "@jupyter-widgets/base",
      "model_module_version": "1.2.0",
      "model_name": "LayoutModel",
      "state": {}
     },
     "22922a59537b413b91a5ddc258e07043": {
      "model_module": "@jupyter-widgets/controls",
      "model_module_version": "1.5.0",
      "model_name": "DescriptionStyleModel",
      "state": {
       "description_width": ""
      }
     },
     "22a8c32ad8a84ad4a42411ee2ab798e4": {
      "model_module": "@jupyter-widgets/controls",
      "model_module_version": "1.5.0",
      "model_name": "DescriptionStyleModel",
      "state": {
       "description_width": ""
      }
     },
     "22b265fc537d46ee8e289acf39432726": {
      "model_module": "@jupyter-widgets/controls",
      "model_module_version": "1.5.0",
      "model_name": "HTMLModel",
      "state": {
       "layout": "IPY_MODEL_2a46348572964de3919f036d2f766efc",
       "style": "IPY_MODEL_55abe56ef6b24064bafc3841e034c003",
       "value": "<b>initialDelaySeconds:</b>"
      }
     },
     "22fec02d0cd54b77be40bfff97b97646": {
      "model_module": "@jupyter-widgets/controls",
      "model_module_version": "1.5.0",
      "model_name": "HTMLModel",
      "state": {
       "layout": "IPY_MODEL_b79629786f53451aa3b1ded12c11b5f3",
       "style": "IPY_MODEL_095ed9897d364539bc3d7518edb6cb9d",
       "value": "<b>scoringUri:</b>"
      }
     },
     "23819790dc424831811a767fa14fcb3e": {
      "model_module": "@jupyter-widgets/controls",
      "model_module_version": "1.5.0",
      "model_name": "IntProgressModel",
      "state": {
       "layout": "IPY_MODEL_941bcb14f0f24a6aa8d5cd8102434cc1",
       "style": "IPY_MODEL_e42c62f932cb4bd4823257713c5c09bd"
      }
     },
     "238872e4a7bc4a9c91f02b450b0248d2": {
      "model_module": "@jupyter-widgets/controls",
      "model_module_version": "1.5.0",
      "model_name": "DescriptionStyleModel",
      "state": {
       "description_width": ""
      }
     },
     "2394ab8edf8c43a7902f211a2842e7db": {
      "model_module": "@jupyter-widgets/controls",
      "model_module_version": "1.5.0",
      "model_name": "LabelModel",
      "state": {
       "layout": "IPY_MODEL_9ce1e12ec7f8428a87ee19417fe2eaa7",
       "style": "IPY_MODEL_58630debce8b4974aad0f113afccfb6b",
       "value": "None"
      }
     },
     "2399d2e0f43445988929414ea5aa3590": {
      "model_module": "@jupyter-widgets/controls",
      "model_module_version": "1.5.0",
      "model_name": "DescriptionStyleModel",
      "state": {
       "description_width": ""
      }
     },
     "23cc7ad9dc0e41b485a431be8a2099bd": {
      "model_module": "@jupyter-widgets/base",
      "model_module_version": "1.2.0",
      "model_name": "LayoutModel",
      "state": {}
     },
     "23e16907393c4a7b8b843ade4643c7dd": {
      "model_module": "@jupyter-widgets/controls",
      "model_module_version": "1.5.0",
      "model_name": "DescriptionStyleModel",
      "state": {
       "description_width": ""
      }
     },
     "23e212571a9c4e35ab1b3dc1d1859658": {
      "model_module": "@jupyter-widgets/controls",
      "model_module_version": "1.5.0",
      "model_name": "LabelModel",
      "state": {
       "layout": "IPY_MODEL_15433bb0d1ab4d89a19b5946a3f49316",
       "style": "IPY_MODEL_f96b95169503414294cb235489222fbb",
       "value": "None"
      }
     },
     "2400eddfe3ae44e8bbced21954f57730": {
      "model_module": "@jupyter-widgets/controls",
      "model_module_version": "1.5.0",
      "model_name": "HTMLModel",
      "state": {
       "layout": "IPY_MODEL_6ccfa28457b7474f8003aa4a13cc7688",
       "style": "IPY_MODEL_30c6e7ee236344969c1a33291e458efc",
       "value": "<b>modelDetails:</b>"
      }
     },
     "240741b2803645f2a051688cf1e85501": {
      "model_module": "@jupyter-widgets/controls",
      "model_module_version": "1.5.0",
      "model_name": "LabelModel",
      "state": {
       "layout": "IPY_MODEL_df9db4ff20524601b72b3a48f1db88cb",
       "style": "IPY_MODEL_a3515e5dfccc4216935cf224aeb9d4df",
       "value": "None"
      }
     },
     "24261975f624409b966bf5f8a933739c": {
      "model_module": "@jupyter-widgets/base",
      "model_module_version": "1.2.0",
      "model_name": "LayoutModel",
      "state": {}
     },
     "242dee2e72bf43bd9082276a0ad6aed3": {
      "model_module": "@jupyter-widgets/base",
      "model_module_version": "1.2.0",
      "model_name": "LayoutModel",
      "state": {}
     },
     "242f51cd130047ff890709d079ae4828": {
      "model_module": "@jupyter-widgets/controls",
      "model_module_version": "1.5.0",
      "model_name": "HTMLModel",
      "state": {
       "layout": "IPY_MODEL_c74eea8d048f4bf3ad0bb9a90a91596f",
       "style": "IPY_MODEL_f9203dcd78e7485d87d9c1657c7ecc91",
       "value": "<b>id:</b>"
      }
     },
     "245d6e29a8c340b99ebbda5ea723289d": {
      "model_module": "@jupyter-widgets/base",
      "model_module_version": "1.2.0",
      "model_name": "LayoutModel",
      "state": {}
     },
     "246fdbf7163245a3ad0d6dbf5c19cfbb": {
      "model_module": "@jupyter-widgets/base",
      "model_module_version": "1.2.0",
      "model_name": "LayoutModel",
      "state": {}
     },
     "2497ee0b6ab64f26bc52e3c2bb278aa2": {
      "model_module": "@jupyter-widgets/base",
      "model_module_version": "1.2.0",
      "model_name": "LayoutModel",
      "state": {}
     },
     "249b53095a534dabbb14742c5ea7d32d": {
      "model_module": "@jupyter-widgets/base",
      "model_module_version": "1.2.0",
      "model_name": "LayoutModel",
      "state": {}
     },
     "24def447c4214a4c871c671584518cc0": {
      "model_module": "@jupyter-widgets/base",
      "model_module_version": "1.2.0",
      "model_name": "LayoutModel",
      "state": {}
     },
     "250225cc814f409eaec45d5e58e37367": {
      "model_module": "@jupyter-widgets/controls",
      "model_module_version": "1.5.0",
      "model_name": "DescriptionStyleModel",
      "state": {
       "description_width": ""
      }
     },
     "25042e98922d47ceaac727e0dbc1a2ec": {
      "model_module": "@jupyter-widgets/base",
      "model_module_version": "1.2.0",
      "model_name": "LayoutModel",
      "state": {}
     },
     "25267b4ca55b4eda8f3024ad44dd91a8": {
      "model_module": "@jupyter-widgets/base",
      "model_module_version": "1.2.0",
      "model_name": "LayoutModel",
      "state": {}
     },
     "255d347fa26a48a4baba2fa2f4a46dda": {
      "model_module": "@jupyter-widgets/controls",
      "model_module_version": "1.5.0",
      "model_name": "LabelModel",
      "state": {
       "layout": "IPY_MODEL_13e93d5447534af9b94bab8c3e5d7a57",
       "style": "IPY_MODEL_80d48195adbd4292b5154973eaaee0a5",
       "value": "False"
      }
     },
     "2561837f1b9447e0993e91725e67e3e7": {
      "model_module": "@jupyter-widgets/base",
      "model_module_version": "1.2.0",
      "model_name": "LayoutModel",
      "state": {}
     },
     "25ae584edc3d422ca5c366ef1186417f": {
      "model_module": "@jupyter-widgets/controls",
      "model_module_version": "1.5.0",
      "model_name": "HBoxModel",
      "state": {
       "children": [
        "IPY_MODEL_d6a6876a703b413bb3e4b9d05be0e95e",
        "IPY_MODEL_62dd9223a40a436487338e3bf83cdd1c"
       ],
       "layout": "IPY_MODEL_d84a0e571dc74e11bc7d3bd6e97ed994"
      }
     },
     "25bb87c82ab742c18fade54e7e5b9087": {
      "model_module": "@jupyter-widgets/controls",
      "model_module_version": "1.5.0",
      "model_name": "HBoxModel",
      "state": {
       "children": [
        "IPY_MODEL_4a384d05fa024c8aa5cb110b35ad8091",
        "IPY_MODEL_c6f54bd21e4349d39bb1e5767b072185"
       ],
       "layout": "IPY_MODEL_f90915db6b044a6aa36c9b09dd747d8e"
      }
     },
     "25c397bb8e24424789edaa3a1eb1a568": {
      "model_module": "@jupyter-widgets/base",
      "model_module_version": "1.2.0",
      "model_name": "LayoutModel",
      "state": {}
     },
     "25cd4aee93104be6a07114d68656c5bb": {
      "model_module": "@jupyter-widgets/base",
      "model_module_version": "1.2.0",
      "model_name": "LayoutModel",
      "state": {}
     },
     "26222eab65c3450bb9edc519e43ed348": {
      "model_module": "@jupyter-widgets/base",
      "model_module_version": "1.2.0",
      "model_name": "LayoutModel",
      "state": {}
     },
     "262767be1c7d42a29fc824d4b6e2b9a1": {
      "model_module": "@jupyter-widgets/controls",
      "model_module_version": "1.5.0",
      "model_name": "DescriptionStyleModel",
      "state": {
       "description_width": ""
      }
     },
     "26480bdbf4344536b550d286512f5c41": {
      "model_module": "@jupyter-widgets/controls",
      "model_module_version": "1.5.0",
      "model_name": "LabelModel",
      "state": {
       "layout": "IPY_MODEL_28d23f9fd7a544bab42a191643080d47",
       "style": "IPY_MODEL_caeda13cee9e40cdaecfb6f3f4dbbfc4",
       "value": "False"
      }
     },
     "26836d4fc1ea4387a0db6d184d332627": {
      "model_module": "@jupyter-widgets/base",
      "model_module_version": "1.2.0",
      "model_name": "LayoutModel",
      "state": {}
     },
     "269caf5c164d4afc8b5513ccf74e2c1a": {
      "model_module": "@jupyter-widgets/controls",
      "model_module_version": "1.5.0",
      "model_name": "AccordionModel",
      "state": {
       "_titles": {
        "0": "dataCollection"
       },
       "children": [
        "IPY_MODEL_eec560132a3148b9960476ae9b2a4255"
       ],
       "layout": "IPY_MODEL_9de66ffc29c44540987872c90ea5a27e"
      }
     },
     "26c3e9afe1ae45a9a98cd267d4c671b2": {
      "model_module": "@jupyter-widgets/controls",
      "model_module_version": "1.5.0",
      "model_name": "AccordionModel",
      "state": {
       "_titles": {
        "0": "createdBy"
       },
       "children": [
        "IPY_MODEL_2827041f3dcb4cf184568a731fc5b559"
       ],
       "layout": "IPY_MODEL_07ea75882943485590df246b3d463007"
      }
     },
     "26d0180444d44811bfb17165baf20295": {
      "model_module": "@jupyter-widgets/base",
      "model_module_version": "1.2.0",
      "model_name": "LayoutModel",
      "state": {}
     },
     "26e1d25d6818470abff4ab50ff1b7a51": {
      "model_module": "@jupyter-widgets/base",
      "model_module_version": "1.2.0",
      "model_name": "LayoutModel",
      "state": {
       "width": "50%"
      }
     },
     "26ebb0396cd04f6ea0d81be1657fa35a": {
      "model_module": "@jupyter-widgets/controls",
      "model_module_version": "1.5.0",
      "model_name": "TextModel",
      "state": {
       "description": "resource_group",
       "layout": "IPY_MODEL_2cd30b7a21b643e9adc13c8b61e52db4",
       "placeholder": "Azure Resource Group Name",
       "style": "IPY_MODEL_b40528b663f043e0bcd3a3b6aaffeed7",
       "value": "azmlrts-eastus-stable"
      }
     },
     "26f1855aed0240e78dea57677964da97": {
      "model_module": "@jupyter-widgets/controls",
      "model_module_version": "1.5.0",
      "model_name": "DescriptionStyleModel",
      "state": {
       "description_width": ""
      }
     },
     "26fc7852783b47bc94117275c35cca17": {
      "model_module": "@jupyter-widgets/base",
      "model_module_version": "1.2.0",
      "model_name": "LayoutModel",
      "state": {}
     },
     "271d05543d1243a0a445127063dfaa0b": {
      "model_module": "@jupyter-widgets/base",
      "model_module_version": "1.2.0",
      "model_name": "LayoutModel",
      "state": {}
     },
     "27229f54810842178e91fc7d9e9236bc": {
      "model_module": "@jupyter-widgets/controls",
      "model_module_version": "1.5.0",
      "model_name": "DescriptionStyleModel",
      "state": {
       "description_width": ""
      }
     },
     "27399b009b244269aba42a28d97dde59": {
      "model_module": "@jupyter-widgets/base",
      "model_module_version": "1.2.0",
      "model_name": "LayoutModel",
      "state": {}
     },
     "273fd5c97c4946d5bda719effab2831c": {
      "model_module": "@jupyter-widgets/base",
      "model_module_version": "1.2.0",
      "model_name": "LayoutModel",
      "state": {}
     },
     "278f2812a05842aa99b640df9df96e7a": {
      "model_module": "@jupyter-widgets/controls",
      "model_module_version": "1.5.0",
      "model_name": "DescriptionStyleModel",
      "state": {
       "description_width": ""
      }
     },
     "27aed8fde1cf4f6a9771c507f801fc8e": {
      "model_module": "@jupyter-widgets/base",
      "model_module_version": "1.2.0",
      "model_name": "LayoutModel",
      "state": {}
     },
     "27d564b2ea3d41abb5d0491c4d99aa74": {
      "model_module": "@jupyter-widgets/controls",
      "model_module_version": "1.5.0",
      "model_name": "DescriptionStyleModel",
      "state": {
       "description_width": ""
      }
     },
     "281355b7a47d406ca29cd0dd4ec6420b": {
      "model_module": "@jupyter-widgets/controls",
      "model_module_version": "1.5.0",
      "model_name": "DescriptionStyleModel",
      "state": {
       "description_width": ""
      }
     },
     "28261d68256d42d5bc0b5631534b709a": {
      "model_module": "@jupyter-widgets/base",
      "model_module_version": "1.2.0",
      "model_name": "LayoutModel",
      "state": {}
     },
     "2827041f3dcb4cf184568a731fc5b559": {
      "model_module": "@jupyter-widgets/controls",
      "model_module_version": "1.5.0",
      "model_name": "VBoxModel",
      "state": {
       "children": [
        "IPY_MODEL_d51c525070c34215abd11592fc48a1b2",
        "IPY_MODEL_e1afa65fd2e844b3b764933d52db425e",
        "IPY_MODEL_0eb954e5db91462987096edde95edc9a",
        "IPY_MODEL_825f37634eed4a97b71eb7deaa0a8ead",
        "IPY_MODEL_0edf3f042b9b4d9c99e205a27e48aad9",
        "IPY_MODEL_f067583aa2814afc9dba9b77e4332be4",
        "IPY_MODEL_7cb929d893444d4d9037d3c6a8bf88e1"
       ],
       "layout": "IPY_MODEL_e2adf22dea7141c4876d88ed6c14bab9"
      }
     },
     "28272683d55d433082d06462a4a7d81c": {
      "model_module": "@jupyter-widgets/controls",
      "model_module_version": "1.5.0",
      "model_name": "DescriptionStyleModel",
      "state": {
       "description_width": ""
      }
     },
     "2829526e60e6402ca792ceec40061faf": {
      "model_module": "@jupyter-widgets/base",
      "model_module_version": "1.2.0",
      "model_name": "LayoutModel",
      "state": {}
     },
     "2867cb38c282402a9368b7a1f2387513": {
      "model_module": "@jupyter-widgets/controls",
      "model_module_version": "1.5.0",
      "model_name": "HTMLModel",
      "state": {
       "layout": "IPY_MODEL_022e8733a62f4e7ca83ea4949e8c51d9",
       "style": "IPY_MODEL_112c47746cc141f5a728f78e3de66f59",
       "value": "<b>eventHubEnabled:</b>"
      }
     },
     "28762f6830b44f61bb8acfae372cde97": {
      "model_module": "@jupyter-widgets/base",
      "model_module_version": "1.2.0",
      "model_name": "LayoutModel",
      "state": {}
     },
     "28d23f9fd7a544bab42a191643080d47": {
      "model_module": "@jupyter-widgets/base",
      "model_module_version": "1.2.0",
      "model_name": "LayoutModel",
      "state": {}
     },
     "28d422f546274e4892355c490e970f38": {
      "model_module": "@jupyter-widgets/controls",
      "model_module_version": "1.5.0",
      "model_name": "DescriptionStyleModel",
      "state": {
       "description_width": ""
      }
     },
     "28e1804fb52243c7ad414da95682dec6": {
      "model_module": "@jupyter-widgets/base",
      "model_module_version": "1.2.0",
      "model_name": "LayoutModel",
      "state": {}
     },
     "290e0fb66ade4212ba59e410de000d63": {
      "model_module": "@jupyter-widgets/controls",
      "model_module_version": "1.5.0",
      "model_name": "HTMLModel",
      "state": {
       "layout": "IPY_MODEL_c9d8c9d408d34516851712345c7f17d7",
       "style": "IPY_MODEL_22a8c32ad8a84ad4a42411ee2ab798e4",
       "value": "<b>details:</b>"
      }
     },
     "29400bf6ea6d4942800a3e7d4845933d": {
      "model_module": "@jupyter-widgets/controls",
      "model_module_version": "1.5.0",
      "model_name": "HBoxModel",
      "state": {
       "children": [
        "IPY_MODEL_98f4528648dc4d2caaccf51f6ccef290",
        "IPY_MODEL_9a6ec826e48447b88c600cd8bb65e2b3"
       ],
       "layout": "IPY_MODEL_1a802956dd99410da3bca2fc8a8447f8"
      }
     },
     "294d1e18da164364b4a892dd5b422d2f": {
      "model_module": "@jupyter-widgets/controls",
      "model_module_version": "1.5.0",
      "model_name": "DescriptionStyleModel",
      "state": {
       "description_width": ""
      }
     },
     "295cfbf720444bedb5bbbf6943a24175": {
      "model_module": "@jupyter-widgets/base",
      "model_module_version": "1.2.0",
      "model_name": "LayoutModel",
      "state": {}
     },
     "2977543161e54e9f86cb57960084a150": {
      "model_module": "@jupyter-widgets/controls",
      "model_module_version": "1.5.0",
      "model_name": "DescriptionStyleModel",
      "state": {
       "description_width": ""
      }
     },
     "29a73d139ab6435196fefd697dad828a": {
      "model_module": "@jupyter-widgets/base",
      "model_module_version": "1.2.0",
      "model_name": "LayoutModel",
      "state": {}
     },
     "29b6be8cf02548028535d193e8ea5227": {
      "model_module": "@jupyter-widgets/controls",
      "model_module_version": "1.5.0",
      "model_name": "LabelModel",
      "state": {
       "layout": "IPY_MODEL_05109cddaf644663920b216946032fd3",
       "style": "IPY_MODEL_f108d1829d4640d28c44e0bea0879935",
       "value": "resnet_model_2"
      }
     },
     "29f8f8d00383497f9d53f71b675ecb74": {
      "model_module": "@jupyter-widgets/controls",
      "model_module_version": "1.5.0",
      "model_name": "DescriptionStyleModel",
      "state": {
       "description_width": ""
      }
     },
     "2a46348572964de3919f036d2f766efc": {
      "model_module": "@jupyter-widgets/base",
      "model_module_version": "1.2.0",
      "model_name": "LayoutModel",
      "state": {}
     },
     "2ac317b5b21b4c868211f73732c8ba15": {
      "model_module": "@jupyter-widgets/controls",
      "model_module_version": "1.5.0",
      "model_name": "HBoxModel",
      "state": {
       "children": [
        "IPY_MODEL_7239be7a37ec41e7b0a7162b4d2dd639",
        "IPY_MODEL_860298d562cc4029b0842384d616a46f"
       ],
       "layout": "IPY_MODEL_9eed3f00f9f543969f9a6ba79d85339a"
      }
     },
     "2acdae910b1b46e5abd7b66250b27bad": {
      "model_module": "@jupyter-widgets/controls",
      "model_module_version": "1.5.0",
      "model_name": "DescriptionStyleModel",
      "state": {
       "description_width": ""
      }
     },
     "2ad5c31b8af244fd834a7bfe8723f4c6": {
      "model_module": "@jupyter-widgets/controls",
      "model_module_version": "1.5.0",
      "model_name": "HTMLModel",
      "state": {
       "layout": "IPY_MODEL_e518d4e68e1f4691b36d53e7d28faa14",
       "style": "IPY_MODEL_fe5f5be55f854b249a96266e1dcc5d6f",
       "value": "<b>isDefault:</b>"
      }
     },
     "2af8d2557bae41b3b0762625e53754ef": {
      "model_module": "@jupyter-widgets/controls",
      "model_module_version": "1.5.0",
      "model_name": "DescriptionStyleModel",
      "state": {
       "description_width": ""
      }
     },
     "2b407147ca6e42499f62c80843ca1aaa": {
      "model_module": "@jupyter-widgets/controls",
      "model_module_version": "1.5.0",
      "model_name": "DescriptionStyleModel",
      "state": {
       "description_width": "initial"
      }
     },
     "2b742d3a911e415caece3942348af64e": {
      "model_module": "@jupyter-widgets/controls",
      "model_module_version": "1.5.0",
      "model_name": "DescriptionStyleModel",
      "state": {
       "description_width": ""
      }
     },
     "2b91ccd53cc9433abe00e081aefcc5d7": {
      "model_module": "@jupyter-widgets/controls",
      "model_module_version": "1.5.0",
      "model_name": "LabelModel",
      "state": {
       "layout": "IPY_MODEL_b58aa3bf09864fc8bec77a1496db89de",
       "style": "IPY_MODEL_7b826d9f41464c35ae5531d5bb57f2bc",
       "value": "False"
      }
     },
     "2b988a619d1d4be39daa06fe9fe454f1": {
      "model_module": "@jupyter-widgets/base",
      "model_module_version": "1.2.0",
      "model_name": "LayoutModel",
      "state": {}
     },
     "2ba3afa4f5a842a69af27c68a6f8f91b": {
      "model_module": "@jupyter-widgets/base",
      "model_module_version": "1.2.0",
      "model_name": "LayoutModel",
      "state": {}
     },
     "2bbfab9e686b4a0b875942a4a0c42c35": {
      "model_module": "@jupyter-widgets/base",
      "model_module_version": "1.2.0",
      "model_name": "LayoutModel",
      "state": {}
     },
     "2bc0671c979940f6ab067166c259e5af": {
      "model_module": "@jupyter-widgets/controls",
      "model_module_version": "1.5.0",
      "model_name": "HTMLModel",
      "state": {
       "layout": "IPY_MODEL_8f32adfcad06480ea220abadf51392d2",
       "style": "IPY_MODEL_023825871adc4eed87adef2db5262424",
       "value": "<b>mimeType:</b>"
      }
     },
     "2bcbc4adef524e11b606fdb050637b51": {
      "model_module": "@jupyter-widgets/controls",
      "model_module_version": "1.5.0",
      "model_name": "HTMLModel",
      "state": {
       "layout": "IPY_MODEL_d9d5d2c25b784bac91c819b36bf4b3f7",
       "style": "IPY_MODEL_3bdd4c25aac2428a94da86ac515bce52",
       "value": "<img src=\"https://raw.githubusercontent.com/microsoft/AI-Utilities/master/docs/app_insights_perf_dash.png\">"
      }
     },
     "2bdb1def764d482eaa1a4f3189ce6ca4": {
      "model_module": "@jupyter-widgets/base",
      "model_module_version": "1.2.0",
      "model_name": "LayoutModel",
      "state": {}
     },
     "2bec0a2d33f44cb8b44526bdbb00d8f3": {
      "model_module": "@jupyter-widgets/base",
      "model_module_version": "1.2.0",
      "model_name": "LayoutModel",
      "state": {}
     },
     "2c175b027d8e401b9a9a0109b8d72c2d": {
      "model_module": "@jupyter-widgets/base",
      "model_module_version": "1.2.0",
      "model_name": "LayoutModel",
      "state": {}
     },
     "2c1bb970a81e4468a1697cb4e831471f": {
      "model_module": "@jupyter-widgets/controls",
      "model_module_version": "1.5.0",
      "model_name": "HTMLModel",
      "state": {
       "layout": "IPY_MODEL_b1c695c36a684ca4868491b6bb4c05db",
       "style": "IPY_MODEL_058d927ca09b47a5bd485eb627ba03b4",
       "value": "<b>scoringUri:</b>"
      }
     },
     "2c61224473424fb297a22ad452fe76ed": {
      "model_module": "@jupyter-widgets/controls",
      "model_module_version": "1.5.0",
      "model_name": "DescriptionStyleModel",
      "state": {
       "description_width": ""
      }
     },
     "2c62ff5f19de45478677065f85a103e0": {
      "model_module": "@jupyter-widgets/controls",
      "model_module_version": "1.5.0",
      "model_name": "AccordionModel",
      "state": {
       "_titles": {
        "0": "livenessProbeRequirements"
       },
       "children": [
        "IPY_MODEL_67dc369651c5481eba75bd81f004e0df"
       ],
       "layout": "IPY_MODEL_8dd3d9b1725b467e94628e70f20c5372"
      }
     },
     "2c9947b18e5d45239eaff34e2edda621": {
      "model_module": "@jupyter-widgets/base",
      "model_module_version": "1.2.0",
      "model_name": "LayoutModel",
      "state": {}
     },
     "2ca2413baa724dc8ba7385e527b0e616": {
      "model_module": "@jupyter-widgets/base",
      "model_module_version": "1.2.0",
      "model_name": "LayoutModel",
      "state": {}
     },
     "2cb04790ea2844d7abf40f36b2e57667": {
      "model_module": "@jupyter-widgets/base",
      "model_module_version": "1.2.0",
      "model_name": "LayoutModel",
      "state": {}
     },
     "2cb7d2ef87ca446d969e5d547ddc4482": {
      "model_module": "@jupyter-widgets/controls",
      "model_module_version": "1.5.0",
      "model_name": "LabelModel",
      "state": {
       "layout": "IPY_MODEL_6b4209ebc02a40a28e1815534c23c4ec",
       "style": "IPY_MODEL_9d4c8d9859cf41d48227e389b18f5aa2",
       "value": "1"
      }
     },
     "2cc0cd0d88df44e392f59d7c6935f257": {
      "model_module": "@jupyter-widgets/controls",
      "model_module_version": "1.5.0",
      "model_name": "DescriptionStyleModel",
      "state": {
       "description_width": ""
      }
     },
     "2cd30b7a21b643e9adc13c8b61e52db4": {
      "model_module": "@jupyter-widgets/base",
      "model_module_version": "1.2.0",
      "model_name": "LayoutModel",
      "state": {
       "width": "50%"
      }
     },
     "2cd74d361d1a4aac981a5a2a3c9e8db8": {
      "model_module": "@jupyter-widgets/base",
      "model_module_version": "1.2.0",
      "model_name": "LayoutModel",
      "state": {}
     },
     "2cd9ecda8f1d4e31bfa7d15258c4c217": {
      "model_module": "@jupyter-widgets/controls",
      "model_module_version": "1.5.0",
      "model_name": "IntProgressModel",
      "state": {
       "bar_style": "success",
       "layout": "IPY_MODEL_364e5e40b0bb48998b78f4650a755e7b",
       "style": "IPY_MODEL_56b4bf16d98c481f9cb2eed425335748",
       "value": 100
      }
     },
     "2cf5aadd5a9246bdbfd604c88fee291e": {
      "model_module": "@jupyter-widgets/base",
      "model_module_version": "1.2.0",
      "model_name": "LayoutModel",
      "state": {}
     },
     "2d4f3d8305a44d618f369658efc3567f": {
      "model_module": "@jupyter-widgets/base",
      "model_module_version": "1.2.0",
      "model_name": "LayoutModel",
      "state": {
       "width": "50%"
      }
     },
     "2d5c9d063803445098f271c5bf323f41": {
      "model_module": "@jupyter-widgets/output",
      "model_module_version": "1.0.0",
      "model_name": "OutputModel",
      "state": {
       "layout": "IPY_MODEL_ef39d738a1b84eb99c0b758a7d13c00a"
      }
     },
     "2d643ce3276745caaafbb68a062ebe42": {
      "model_module": "@jupyter-widgets/controls",
      "model_module_version": "1.5.0",
      "model_name": "HTMLModel",
      "state": {
       "layout": "IPY_MODEL_78442e6af7ef4cd7915104f1438da05d",
       "style": "IPY_MODEL_7e15a77cf7ff48e09f65913035a78d0a",
       "value": "<b>azureml.git.repository_uri:</b>"
      }
     },
     "2d8f767dcd7748678db398fccc3a54de": {
      "model_module": "@jupyter-widgets/controls",
      "model_module_version": "1.5.0",
      "model_name": "HTMLModel",
      "state": {
       "layout": "IPY_MODEL_fea6632d03ec4932acefc576e0a553e8",
       "style": "IPY_MODEL_4cc6142effcf46368ec5233b5240b669",
       "value": "<b>azureml.git.commit:</b>"
      }
     },
     "2d965c6fb6c54ec0804127698776187d": {
      "model_module": "@jupyter-widgets/base",
      "model_module_version": "1.2.0",
      "model_name": "LayoutModel",
      "state": {}
     },
     "2da79c4e18bc4bbb9ad632ced08bc72c": {
      "model_module": "@jupyter-widgets/base",
      "model_module_version": "1.2.0",
      "model_name": "LayoutModel",
      "state": {
       "width": "50%"
      }
     },
     "2da90cec94b3421f840fc74cab439e9c": {
      "model_module": "@jupyter-widgets/controls",
      "model_module_version": "1.5.0",
      "model_name": "LabelModel",
      "state": {
       "layout": "IPY_MODEL_4beb882d4d9c40e0b8149702b9f2f2f6",
       "style": "IPY_MODEL_238872e4a7bc4a9c91f02b450b0248d2",
       "value": "deepaksservice"
      }
     },
     "2db0b3a50b14421e87e3a623d925d172": {
      "model_module": "@jupyter-widgets/controls",
      "model_module_version": "1.5.0",
      "model_name": "AccordionModel",
      "state": {
       "_titles": {
        "0": "livenessProbeRequirements"
       },
       "children": [
        "IPY_MODEL_733ef681566046c9a3442c20c298c6b5"
       ],
       "layout": "IPY_MODEL_2b988a619d1d4be39daa06fe9fe454f1"
      }
     },
     "2dc05f76b6aa41eb837f62a5015399af": {
      "model_module": "@jupyter-widgets/base",
      "model_module_version": "1.2.0",
      "model_name": "LayoutModel",
      "state": {}
     },
     "2df11512b6a546e09064014626ba80b9": {
      "model_module": "@jupyter-widgets/controls",
      "model_module_version": "1.5.0",
      "model_name": "LabelModel",
      "state": {
       "layout": "IPY_MODEL_4acad7238ad64720a0ce503276c65c8d",
       "style": "IPY_MODEL_f9f3d3af45d4401bace7860d1ac0cfa4",
       "value": "AKS"
      }
     },
     "2df8fce362674ac1906f5eaaefd0830f": {
      "model_module": "@jupyter-widgets/controls",
      "model_module_version": "1.5.0",
      "model_name": "DescriptionStyleModel",
      "state": {
       "description_width": ""
      }
     },
     "2e5152806f8647bb942a564712b17216": {
      "model_module": "@jupyter-widgets/base",
      "model_module_version": "1.2.0",
      "model_name": "LayoutModel",
      "state": {}
     },
     "2ea953e356624dfe8122dfb19753f1d3": {
      "model_module": "@jupyter-widgets/controls",
      "model_module_version": "1.5.0",
      "model_name": "LabelModel",
      "state": {
       "layout": "IPY_MODEL_ee13dad800fa4a049d46e0f875198baa",
       "style": "IPY_MODEL_5c838b3b74794ab2bf65bff32cbc6be1",
       "value": "False"
      }
     },
     "2ebfb93eedfe4b72a360777f46d1e390": {
      "model_module": "@jupyter-widgets/controls",
      "model_module_version": "1.5.0",
      "model_name": "HBoxModel",
      "state": {
       "children": [
        "IPY_MODEL_dc286e61a8a545249699e39013fe6b4c",
        "IPY_MODEL_fb623b93e4b3434b9b1d64b04c8842e9"
       ],
       "layout": "IPY_MODEL_2ba3afa4f5a842a69af27c68a6f8f91b"
      }
     },
     "2ec98d63e4cc402baa4cdacdc8d16999": {
      "model_module": "@jupyter-widgets/controls",
      "model_module_version": "1.5.0",
      "model_name": "HTMLModel",
      "state": {
       "layout": "IPY_MODEL_38b66827e0ca43a1af864e7417e14df8",
       "style": "IPY_MODEL_d8439e09e1d9408c83d3680ccf2ff546",
       "value": "<b>description:</b>"
      }
     },
     "2ed508f731ae472387541965c37fa998": {
      "model_module": "@jupyter-widgets/controls",
      "model_module_version": "1.5.0",
      "model_name": "DescriptionStyleModel",
      "state": {
       "description_width": ""
      }
     },
     "2f1085efa7244bf4823a2e82a1985b2f": {
      "model_module": "@jupyter-widgets/base",
      "model_module_version": "1.2.0",
      "model_name": "LayoutModel",
      "state": {}
     },
     "2f40811a8033443d9f17f3004228e04a": {
      "model_module": "@jupyter-widgets/base",
      "model_module_version": "1.2.0",
      "model_name": "LayoutModel",
      "state": {}
     },
     "2f806082aba749b0b58ae2e342692cca": {
      "model_module": "@jupyter-widgets/base",
      "model_module_version": "1.2.0",
      "model_name": "LayoutModel",
      "state": {}
     },
     "2f933924d18d44ca9029c790ac68243e": {
      "model_module": "@jupyter-widgets/controls",
      "model_module_version": "1.5.0",
      "model_name": "DescriptionStyleModel",
      "state": {
       "description_width": ""
      }
     },
     "2fddaa0f9b98411c8de57deea21049a5": {
      "model_module": "@jupyter-widgets/controls",
      "model_module_version": "1.5.0",
      "model_name": "HTMLModel",
      "state": {
       "layout": "IPY_MODEL_0b1b7e9f561f4cd28cc93fceaa0a9eaf",
       "style": "IPY_MODEL_87e44a7bca344c4bb0b270ca2250031a",
       "value": "<b>frameworkVersion:</b>"
      }
     },
     "2fe49db95b974b94a115ed13ab9b75a0": {
      "model_module": "@jupyter-widgets/controls",
      "model_module_version": "1.5.0",
      "model_name": "HBoxModel",
      "state": {
       "children": [
        "IPY_MODEL_b916ef8fe1314d95b41b56a77c2be8e2",
        "IPY_MODEL_5fb883b786704ceebe46366eecab76b0"
       ],
       "layout": "IPY_MODEL_7f893dff6f0b44f1a74a9259e68fd952"
      }
     },
     "3016257eee274e048b7fd79969df9ce3": {
      "model_module": "@jupyter-widgets/base",
      "model_module_version": "1.2.0",
      "model_name": "LayoutModel",
      "state": {}
     },
     "30243dc3ef364d159b690c119d55bb97": {
      "model_module": "@jupyter-widgets/controls",
      "model_module_version": "1.5.0",
      "model_name": "DescriptionStyleModel",
      "state": {
       "description_width": ""
      }
     },
     "308d87cd9e7f4a03a4712e48302faa80": {
      "model_module": "@jupyter-widgets/controls",
      "model_module_version": "1.5.0",
      "model_name": "DescriptionStyleModel",
      "state": {
       "description_width": ""
      }
     },
     "3094f0c0ec64476da011a777d0969ce4": {
      "model_module": "@jupyter-widgets/controls",
      "model_module_version": "1.5.0",
      "model_name": "HTMLModel",
      "state": {
       "layout": "IPY_MODEL_e42541665be34988bbcc9d2c599db9dd",
       "style": "IPY_MODEL_4755e81249c947f4bea251b9ecab8f56",
       "value": "<b>imageDetails:</b>"
      }
     },
     "30b1a2f550574a94b53669d55579aa08": {
      "model_module": "@jupyter-widgets/base",
      "model_module_version": "1.2.0",
      "model_name": "LayoutModel",
      "state": {}
     },
     "30b91b2049004913b8f5541a7a7f22c7": {
      "model_module": "@jupyter-widgets/controls",
      "model_module_version": "1.5.0",
      "model_name": "LabelModel",
      "state": {
       "layout": "IPY_MODEL_9350adf3a8a848478f20f61bcde4dc32",
       "style": "IPY_MODEL_011472d544b240d9b9fd65a4d6cbf0ab",
       "value": "120"
      }
     },
     "30bbb201633042af934d168e7048a576": {
      "model_module": "@jupyter-widgets/controls",
      "model_module_version": "1.5.0",
      "model_name": "LabelModel",
      "state": {
       "layout": "IPY_MODEL_d919e20cefad4a62a977d8f78bc1bcd8",
       "style": "IPY_MODEL_26f1855aed0240e78dea57677964da97",
       "value": "72f988bf-86f1-41af-91ab-2d7cd011db47"
      }
     },
     "30c6e7ee236344969c1a33291e458efc": {
      "model_module": "@jupyter-widgets/controls",
      "model_module_version": "1.5.0",
      "model_name": "DescriptionStyleModel",
      "state": {
       "description_width": ""
      }
     },
     "30d9aa26e0e648fea337b1a4adae7f00": {
      "model_module": "@jupyter-widgets/controls",
      "model_module_version": "1.5.0",
      "model_name": "HTMLModel",
      "state": {
       "layout": "IPY_MODEL_4122cbd638044e919658b26a49c2ea45",
       "style": "IPY_MODEL_d154183a9f1444819568537436a03143",
       "value": "<b>version:</b>"
      }
     },
     "30e20d8307ea4911a3c79c5db5ca3821": {
      "model_module": "@jupyter-widgets/controls",
      "model_module_version": "1.5.0",
      "model_name": "DescriptionStyleModel",
      "state": {
       "description_width": ""
      }
     },
     "30e83171ea984cfbabfa41572ac0ce33": {
      "model_module": "@jupyter-widgets/controls",
      "model_module_version": "1.5.0",
      "model_name": "HTMLModel",
      "state": {
       "layout": "IPY_MODEL_deb4593fbe464b07a2640072528f22e5",
       "style": "IPY_MODEL_37c01de33078476b8b0cfe74a2847d01",
       "value": "<b>userIdp:</b>"
      }
     },
     "3100d78d3d39469a8f98fbb94485f37e": {
      "model_module": "@jupyter-widgets/controls",
      "model_module_version": "1.5.0",
      "model_name": "HTMLModel",
      "state": {
       "layout": "IPY_MODEL_46064b1b429c4f65ac32a343cd03ec2b",
       "style": "IPY_MODEL_c33217749b644485940eec482a58f506",
       "value": "<b>error:</b>"
      }
     },
     "3108c7a579834b77bf3b15812fe2ba62": {
      "model_module": "@jupyter-widgets/controls",
      "model_module_version": "1.5.0",
      "model_name": "HTMLModel",
      "state": {
       "layout": "IPY_MODEL_1cc9eb7f141047f5b3abfee7b14f6125",
       "style": "IPY_MODEL_008d56006006470eab5c4fdfe7ca7614",
       "value": "<b>framework:</b>"
      }
     },
     "311d959cea994a0084fb9759251d2245": {
      "model_module": "@jupyter-widgets/controls",
      "model_module_version": "1.5.0",
      "model_name": "ButtonModel",
      "state": {
       "description": "Test train.py",
       "layout": "IPY_MODEL_065724c9d9f6414496c9edd2ddf38b1a",
       "style": "IPY_MODEL_f7dba0efbbec4e0fa2ad415ccce91289"
      }
     },
     "312700ceb4eb44a9901511ab633dfb3d": {
      "model_module": "@jupyter-widgets/base",
      "model_module_version": "1.2.0",
      "model_name": "LayoutModel",
      "state": {}
     },
     "313c3a6020154c6394a64e4cde57fa88": {
      "model_module": "@jupyter-widgets/controls",
      "model_module_version": "1.5.0",
      "model_name": "DescriptionStyleModel",
      "state": {
       "description_width": ""
      }
     },
     "319559b1529f43429a28aadf830b7b04": {
      "model_module": "@jupyter-widgets/controls",
      "model_module_version": "1.5.0",
      "model_name": "HTMLModel",
      "state": {
       "layout": "IPY_MODEL_404b7c4daba24c70b562007d05225a01",
       "style": "IPY_MODEL_f40024c32bd04ea7a46249ac7e31ba78",
       "value": "<b>refreshPeriodInSeconds:</b>"
      }
     },
     "31980fed3e154b71b98143d8380f5df6": {
      "model_module": "@jupyter-widgets/base",
      "model_module_version": "1.2.0",
      "model_name": "LayoutModel",
      "state": {}
     },
     "31aba22b5bad4274add55717eb775fb8": {
      "model_module": "@jupyter-widgets/base",
      "model_module_version": "1.2.0",
      "model_name": "LayoutModel",
      "state": {}
     },
     "31b076c9682c4cb19c3103afb61a9906": {
      "model_module": "@jupyter-widgets/controls",
      "model_module_version": "1.5.0",
      "model_name": "DescriptionStyleModel",
      "state": {
       "description_width": ""
      }
     },
     "31cf7690d5ff4ef29a0611c2b8739eac": {
      "model_module": "@jupyter-widgets/controls",
      "model_module_version": "1.5.0",
      "model_name": "LabelModel",
      "state": {
       "layout": "IPY_MODEL_f2c51c54702146af8fc1a34b0cace051",
       "style": "IPY_MODEL_07c9f76324004801b11f6e9512cebfd6",
       "value": "None"
      }
     },
     "3201611a755e4a19aad16a8b5068b447": {
      "model_module": "@jupyter-widgets/controls",
      "model_module_version": "1.5.0",
      "model_name": "AccordionModel",
      "state": {
       "_titles": {
        "0": "Workspace",
        "1": "Model"
       },
       "children": [
        "IPY_MODEL_52593d636c69426997d8d67c11ccf2bc",
        "IPY_MODEL_d3821f27596047dea5173a90d7fa129c"
       ],
       "layout": "IPY_MODEL_c0b0ee49aba54397858d3557e502849a"
      }
     },
     "3239a4b5b54d4b0ba1cba302c586319c": {
      "model_module": "@jupyter-widgets/base",
      "model_module_version": "1.2.0",
      "model_name": "LayoutModel",
      "state": {}
     },
     "3239da4179f942abb5c9e3764f0f9c35": {
      "model_module": "@jupyter-widgets/controls",
      "model_module_version": "1.5.0",
      "model_name": "DescriptionStyleModel",
      "state": {
       "description_width": ""
      }
     },
     "323b8db480b1469c99709ea099964ac9": {
      "model_module": "@jupyter-widgets/base",
      "model_module_version": "1.2.0",
      "model_name": "LayoutModel",
      "state": {}
     },
     "32bb229ce3c84d319acb5a43a6d8b19d": {
      "model_module": "@jupyter-widgets/base",
      "model_module_version": "1.2.0",
      "model_name": "LayoutModel",
      "state": {}
     },
     "32df0b060ad24592ad08949246ac8052": {
      "model_module": "@jupyter-widgets/controls",
      "model_module_version": "1.5.0",
      "model_name": "HTMLModel",
      "state": {
       "layout": "IPY_MODEL_3c0c3f9d211d488d99910fdacc10961a",
       "style": "IPY_MODEL_5f30d1a7cde94e9bac934c399eefa13f",
       "value": "<b>id:</b>"
      }
     },
     "32eac12ccc574154b032f45b552268d2": {
      "model_module": "@jupyter-widgets/controls",
      "model_module_version": "1.5.0",
      "model_name": "DescriptionStyleModel",
      "state": {
       "description_width": ""
      }
     },
     "32f12b1da5e44535963851e86f260569": {
      "model_module": "@jupyter-widgets/base",
      "model_module_version": "1.2.0",
      "model_name": "LayoutModel",
      "state": {}
     },
     "32fb5e7550a64891b0e8c822390a8eec": {
      "model_module": "@jupyter-widgets/controls",
      "model_module_version": "1.5.0",
      "model_name": "DescriptionStyleModel",
      "state": {
       "description_width": ""
      }
     },
     "330e8bd7ee584b24acfe5f92cb513232": {
      "model_module": "@jupyter-widgets/controls",
      "model_module_version": "1.5.0",
      "model_name": "HBoxModel",
      "state": {
       "children": [
        "IPY_MODEL_3a63ae13f83840519cdcc55b2c60242d",
        "IPY_MODEL_7ce97ee2300e47bb80a71d3524b7d378"
       ],
       "layout": "IPY_MODEL_0210e9278f7d4ee9be427a2fc111fbd9"
      }
     },
     "3318bbf41a5846899bb0a11582eba6b1": {
      "model_module": "@jupyter-widgets/controls",
      "model_module_version": "1.5.0",
      "model_name": "DescriptionStyleModel",
      "state": {
       "description_width": ""
      }
     },
     "33254f055e6f4e8ab8ded70f6e817cfb": {
      "model_module": "@jupyter-widgets/controls",
      "model_module_version": "1.5.0",
      "model_name": "HBoxModel",
      "state": {
       "children": [
        "IPY_MODEL_b120f9a0a21443f2abb27cad9e45e7e6",
        "IPY_MODEL_9a8bc7de4f5a40dcb497c86783152e22"
       ],
       "layout": "IPY_MODEL_64d6d03b6ea14ca7b44fde80f1a61622"
      }
     },
     "332e58187b2344de831187914e6ea10c": {
      "model_module": "@jupyter-widgets/controls",
      "model_module_version": "1.5.0",
      "model_name": "VBoxModel",
      "state": {
       "children": [
        "IPY_MODEL_a507037a244946d1adaa22be636e5809",
        "IPY_MODEL_5be41ee317a649d8a129f5fec27846ac",
        "IPY_MODEL_93bbfd4437cf420a8399a35dea608c01",
        "IPY_MODEL_a26500ec347e4a619a50ff47778e285b",
        "IPY_MODEL_5810d818209d462fa303ada5279c720b",
        "IPY_MODEL_ba074b4ec74a4a26b0083ebb237ffcee",
        "IPY_MODEL_33d7d6b465354ecfbbde46a6790bf6f7"
       ],
       "layout": "IPY_MODEL_f6770d980bb846c8818397657c90344f"
      }
     },
     "336caaa179d048ffbc1b08d1107e77d3": {
      "model_module": "@jupyter-widgets/controls",
      "model_module_version": "1.5.0",
      "model_name": "HBoxModel",
      "state": {
       "children": [
        "IPY_MODEL_491ca39806ae4e5f826908f9c0caf0f2",
        "IPY_MODEL_47cbd10917ce4259aaa1e5ef3caff082"
       ],
       "layout": "IPY_MODEL_66e64c87070042028e27cdac74fa6450"
      }
     },
     "33aa1fd80d674c55b808104b1ad60b87": {
      "model_module": "@jupyter-widgets/base",
      "model_module_version": "1.2.0",
      "model_name": "LayoutModel",
      "state": {}
     },
     "33d7d6b465354ecfbbde46a6790bf6f7": {
      "model_module": "@jupyter-widgets/controls",
      "model_module_version": "1.5.0",
      "model_name": "HBoxModel",
      "state": {
       "children": [
        "IPY_MODEL_92c3cbd515f14e7f8d6707d4c176bd9e",
        "IPY_MODEL_da52ac4205b84b4e88e42000162cd004"
       ],
       "layout": "IPY_MODEL_6d447986debd4c17accf1cf30b95793f"
      }
     },
     "33da8449cc5b4c5189fb50a5d504a7a6": {
      "model_module": "@jupyter-widgets/base",
      "model_module_version": "1.2.0",
      "model_name": "LayoutModel",
      "state": {}
     },
     "33f9bc48f7764a97bdc66436dede5b5f": {
      "model_module": "@jupyter-widgets/controls",
      "model_module_version": "1.5.0",
      "model_name": "DescriptionStyleModel",
      "state": {
       "description_width": ""
      }
     },
     "3407b3386d05408d818fb915b43e2c80": {
      "model_module": "@jupyter-widgets/base",
      "model_module_version": "1.2.0",
      "model_name": "LayoutModel",
      "state": {}
     },
     "341121c76ae4426b9bd694d6b3dbd6c7": {
      "model_module": "@jupyter-widgets/controls",
      "model_module_version": "1.5.0",
      "model_name": "DescriptionStyleModel",
      "state": {
       "description_width": ""
      }
     },
     "341231c92ba643d19d477650db15f03d": {
      "model_module": "@jupyter-widgets/controls",
      "model_module_version": "1.5.0",
      "model_name": "HTMLModel",
      "state": {
       "layout": "IPY_MODEL_5065442fdc864d94a43d606cd4a189cf",
       "style": "IPY_MODEL_7b14170e0523492991a98475c8d9cf4f",
       "value": "<b>targetUtilization:</b>"
      }
     },
     "345259f8101248ebb0972eb18bd7755a": {
      "model_module": "@jupyter-widgets/controls",
      "model_module_version": "1.5.0",
      "model_name": "TextModel",
      "state": {
       "description": "deep_aks_location",
       "layout": "IPY_MODEL_0e3ad2bdcc7941aea824c22c05acf0b5",
       "placeholder": "AKS Azure Region",
       "style": "IPY_MODEL_f3ba2a842871400d84dfce4ff1ae793a",
       "value": "eastus"
      }
     },
     "348fe5f0e6ca48b38fd9e5e8be2d78cd": {
      "model_module": "@jupyter-widgets/base",
      "model_module_version": "1.2.0",
      "model_name": "LayoutModel",
      "state": {}
     },
     "34ae9ec307444588826b3a779cdd367c": {
      "model_module": "@jupyter-widgets/base",
      "model_module_version": "1.2.0",
      "model_name": "LayoutModel",
      "state": {}
     },
     "34d84093910e478fbc51569f7b069563": {
      "model_module": "@jupyter-widgets/base",
      "model_module_version": "1.2.0",
      "model_name": "LayoutModel",
      "state": {}
     },
     "3545323ed97e4d48946a4f609d90f230": {
      "model_module": "@jupyter-widgets/controls",
      "model_module_version": "1.5.0",
      "model_name": "DescriptionStyleModel",
      "state": {
       "description_width": ""
      }
     },
     "355029eb4da74da39293422f51d1c78d": {
      "model_module": "@jupyter-widgets/controls",
      "model_module_version": "1.5.0",
      "model_name": "LabelModel",
      "state": {
       "layout": "IPY_MODEL_c0718427822b45d68146b5f57ad7cc41",
       "style": "IPY_MODEL_67001c3eff1a47a193532beb4e999841",
       "value": "dciborow/no-cli"
      }
     },
     "3559002fb1b94f93bf82c39339924e4a": {
      "model_module": "@jupyter-widgets/controls",
      "model_module_version": "1.5.0",
      "model_name": "DescriptionStyleModel",
      "state": {
       "description_width": ""
      }
     },
     "3586cb6bcc1c41a3a03fa07d9f3dc791": {
      "model_module": "@jupyter-widgets/controls",
      "model_module_version": "1.5.0",
      "model_name": "HBoxModel",
      "state": {
       "children": [
        "IPY_MODEL_58ae3092becc442ab43567ad50b2d9cc",
        "IPY_MODEL_1b3d363ecc604fc3945d973262a75154"
       ],
       "layout": "IPY_MODEL_c2375cd212964cc1a732c57aa47b0d98"
      }
     },
     "35922b1e7b9c451c9b70b0b020d2b36f": {
      "model_module": "@jupyter-widgets/controls",
      "model_module_version": "1.5.0",
      "model_name": "DescriptionStyleModel",
      "state": {
       "description_width": "initial"
      }
     },
     "35d5b0cec4fa4a45a39e424edac180b2": {
      "model_module": "@jupyter-widgets/controls",
      "model_module_version": "1.5.0",
      "model_name": "HBoxModel",
      "state": {
       "children": [
        "IPY_MODEL_f8fe39d874a348e0bc3eda3f6f422403",
        "IPY_MODEL_4d94abf227514a87b7003d6ec31d5f7c"
       ],
       "layout": "IPY_MODEL_4a9d54d671e446de8b1439491b6914e3"
      }
     },
     "35dac3a66f7b40edb34873d702923119": {
      "model_module": "@jupyter-widgets/base",
      "model_module_version": "1.2.0",
      "model_name": "LayoutModel",
      "state": {}
     },
     "3612ef8eea464566bb4e8ee0ea9a6dea": {
      "model_module": "@jupyter-widgets/controls",
      "model_module_version": "1.5.0",
      "model_name": "HTMLModel",
      "state": {
       "layout": "IPY_MODEL_5d501a361c4c4b929581a502b71b5776",
       "style": "IPY_MODEL_0312c0933a434ba99ccab36a8fdfcb1c",
       "value": "<b>unpack:</b>"
      }
     },
     "362ab95f30ef488788545a304067738c": {
      "model_module": "@jupyter-widgets/base",
      "model_module_version": "1.2.0",
      "model_name": "LayoutModel",
      "state": {}
     },
     "364e5e40b0bb48998b78f4650a755e7b": {
      "model_module": "@jupyter-widgets/base",
      "model_module_version": "1.2.0",
      "model_name": "LayoutModel",
      "state": {
       "width": "80%"
      }
     },
     "366f702a0a8549ff8e37073e0aa583ba": {
      "model_module": "@jupyter-widgets/controls",
      "model_module_version": "1.5.0",
      "model_name": "HTMLModel",
      "state": {
       "layout": "IPY_MODEL_9d0dcf072fc04d44a62d9fc04c570bd1",
       "style": "IPY_MODEL_8b5f0d17e26f4b7bb6c132f1056a9f49",
       "value": "<b>imageDetails:</b>"
      }
     },
     "36735505eb1b44e8aa0a596b031c369c": {
      "model_module": "@jupyter-widgets/controls",
      "model_module_version": "1.5.0",
      "model_name": "DescriptionStyleModel",
      "state": {
       "description_width": ""
      }
     },
     "367b316fc96e46faa6f669faddc88d7a": {
      "model_module": "@jupyter-widgets/controls",
      "model_module_version": "1.5.0",
      "model_name": "HBoxModel",
      "state": {
       "children": [
        "IPY_MODEL_30d9aa26e0e648fea337b1a4adae7f00",
        "IPY_MODEL_f420744582de4ef3b64b7420f454eb99"
       ],
       "layout": "IPY_MODEL_36a8f1c5d25443fd8b66183d2321dcad"
      }
     },
     "369c33e075984337b514ddb2101f1410": {
      "model_module": "@jupyter-widgets/controls",
      "model_module_version": "1.5.0",
      "model_name": "LabelModel",
      "state": {
       "layout": "IPY_MODEL_dc58d4471e6142e1b2658567fed3680d",
       "style": "IPY_MODEL_116a17f253cd4f328a61104df94302b1",
       "value": "72f988bf-86f1-41af-91ab-2d7cd011db47"
      }
     },
     "36a8f1c5d25443fd8b66183d2321dcad": {
      "model_module": "@jupyter-widgets/base",
      "model_module_version": "1.2.0",
      "model_name": "LayoutModel",
      "state": {}
     },
     "36d5c46132124fdd8cddcf5b26079c54": {
      "model_module": "@jupyter-widgets/controls",
      "model_module_version": "1.5.0",
      "model_name": "HTMLModel",
      "state": {
       "layout": "IPY_MODEL_52fa10a869334e6a805c39b28334921f",
       "style": "IPY_MODEL_cb4ef060866b46ae865558a324733092",
       "value": "<b>code:</b>"
      }
     },
     "370b1d93dd764ae18065de19ff1b83d2": {
      "model_module": "@jupyter-widgets/base",
      "model_module_version": "1.2.0",
      "model_name": "LayoutModel",
      "state": {
       "width": "50%"
      }
     },
     "371d76cd6a5e4a57bb2ae1d6a0b9d4dd": {
      "model_module": "@jupyter-widgets/controls",
      "model_module_version": "1.5.0",
      "model_name": "HTMLModel",
      "state": {
       "layout": "IPY_MODEL_4e79c1782ba8432fa42ff4c5f5e35994",
       "style": "IPY_MODEL_f4ce03f2c3b845e59b0c88a29aaf5f0b",
       "value": "<b>description:</b>"
      }
     },
     "374ffe100dbe4d86b62e654c632b07ac": {
      "model_module": "@jupyter-widgets/controls",
      "model_module_version": "1.5.0",
      "model_name": "DescriptionStyleModel",
      "state": {
       "description_width": ""
      }
     },
     "376cf7b5d4a94cbea33ef9b8fd3019da": {
      "model_module": "@jupyter-widgets/controls",
      "model_module_version": "1.5.0",
      "model_name": "LabelModel",
      "state": {
       "layout": "IPY_MODEL_7a1a8df63bd24dc09fccbc90ca10147d",
       "style": "IPY_MODEL_3aea05ca534c4bf9947b854ecd1e4dd0",
       "value": "None"
      }
     },
     "378406f134ae479ab950844553e20dba": {
      "model_module": "@jupyter-widgets/controls",
      "model_module_version": "1.5.0",
      "model_name": "TextModel",
      "state": {
       "description": "deep_aks_service_name",
       "layout": "IPY_MODEL_6b94d38b4fd549729ebbae1f20860a83",
       "placeholder": "AKS Service Name",
       "style": "IPY_MODEL_3861a147e79c4f2daa4ee4745d2cdc8b",
       "value": "deepaksservice"
      }
     },
     "37a8286109d146c7ad2ac3704febf3e8": {
      "model_module": "@jupyter-widgets/base",
      "model_module_version": "1.2.0",
      "model_name": "LayoutModel",
      "state": {}
     },
     "37b6902b2c6c4ce5937371401f735f0a": {
      "model_module": "@jupyter-widgets/base",
      "model_module_version": "1.2.0",
      "model_name": "LayoutModel",
      "state": {}
     },
     "37c01de33078476b8b0cfe74a2847d01": {
      "model_module": "@jupyter-widgets/controls",
      "model_module_version": "1.5.0",
      "model_name": "DescriptionStyleModel",
      "state": {
       "description_width": ""
      }
     },
     "37d3e380b2e347cbb058f485e1b920c8": {
      "model_module": "@jupyter-widgets/controls",
      "model_module_version": "1.5.0",
      "model_name": "HTMLModel",
      "state": {
       "layout": "IPY_MODEL_c242d2ce46b744f9a55af5cf080ab9aa",
       "style": "IPY_MODEL_f7b3d249dd7947d0951a24656d6c5de7",
       "value": "<b>deploymentStatus:</b>"
      }
     },
     "37fac01c5a4e433db4e3d13741ad9d6c": {
      "model_module": "@jupyter-widgets/controls",
      "model_module_version": "1.5.0",
      "model_name": "LabelModel",
      "state": {
       "layout": "IPY_MODEL_242dee2e72bf43bd9082276a0ad6aed3",
       "style": "IPY_MODEL_38007de5ce9e4622969eebd45e353db1",
       "value": "dlrts-train-on-local"
      }
     },
     "37fef37772cf427096b86c7158ef8815": {
      "model_module": "@jupyter-widgets/controls",
      "model_module_version": "1.5.0",
      "model_name": "HTMLModel",
      "state": {
       "layout": "IPY_MODEL_67de82658a56451786a384886bb388cc",
       "style": "IPY_MODEL_4a4c59d3bdcc4281824af155ac7a5274",
       "value": "<b>authEnabled:</b>"
      }
     },
     "38007de5ce9e4622969eebd45e353db1": {
      "model_module": "@jupyter-widgets/controls",
      "model_module_version": "1.5.0",
      "model_name": "DescriptionStyleModel",
      "state": {
       "description_width": ""
      }
     },
     "3808237945fd46a1aeb6a1a844069c02": {
      "model_module": "@jupyter-widgets/controls",
      "model_module_version": "1.5.0",
      "model_name": "HBoxModel",
      "state": {
       "children": [
        "IPY_MODEL_5d9d12ee864445cebe68b981f8032c0b",
        "IPY_MODEL_d2184cda87a44fa48fc776dfb9649d96"
       ],
       "layout": "IPY_MODEL_21e6dfaa63274cb5b5cc841f29e270dc"
      }
     },
     "3816e3665796469b8954f0b82f98c8c5": {
      "model_module": "@jupyter-widgets/controls",
      "model_module_version": "1.5.0",
      "model_name": "DescriptionStyleModel",
      "state": {
       "description_width": ""
      }
     },
     "3861a147e79c4f2daa4ee4745d2cdc8b": {
      "model_module": "@jupyter-widgets/controls",
      "model_module_version": "1.5.0",
      "model_name": "DescriptionStyleModel",
      "state": {
       "description_width": "initial"
      }
     },
     "386a9b51a00e485c8ab9e95ec6d01e09": {
      "model_module": "@jupyter-widgets/base",
      "model_module_version": "1.2.0",
      "model_name": "LayoutModel",
      "state": {}
     },
     "38a00ce1df614257b62bdc61629f389c": {
      "model_module": "@jupyter-widgets/base",
      "model_module_version": "1.2.0",
      "model_name": "LayoutModel",
      "state": {}
     },
     "38b66827e0ca43a1af864e7417e14df8": {
      "model_module": "@jupyter-widgets/base",
      "model_module_version": "1.2.0",
      "model_name": "LayoutModel",
      "state": {}
     },
     "38b76677ec3f4c1bbdd8997212e2732c": {
      "model_module": "@jupyter-widgets/controls",
      "model_module_version": "1.5.0",
      "model_name": "HTMLModel",
      "state": {
       "layout": "IPY_MODEL_b4173b1731c64cb4b4403686e914f373",
       "style": "IPY_MODEL_4a30bd6f9a1440429d1cd736f4247fd2",
       "value": "<b>mlflow.source.git.branch:</b>"
      }
     },
     "38dfda32b1d24d848af7fec4f0b8b7b6": {
      "model_module": "@jupyter-widgets/controls",
      "model_module_version": "1.5.0",
      "model_name": "DescriptionStyleModel",
      "state": {
       "description_width": ""
      }
     },
     "390882ad89c44df9b2801399fce91f5f": {
      "model_module": "@jupyter-widgets/controls",
      "model_module_version": "1.5.0",
      "model_name": "HTMLModel",
      "state": {
       "layout": "IPY_MODEL_6baed59733c348d2ab05cefd0e696c6c",
       "style": "IPY_MODEL_95224255a0ff409c93f043d51d181a1f",
       "value": "<b>targetUtilization:</b>"
      }
     },
     "39343432cc1d4c7a80acc1b4194dc623": {
      "model_module": "@jupyter-widgets/controls",
      "model_module_version": "1.5.0",
      "model_name": "DescriptionStyleModel",
      "state": {
       "description_width": "initial"
      }
     },
     "395726b90e0940299aba0b237504f114": {
      "model_module": "@jupyter-widgets/controls",
      "model_module_version": "1.5.0",
      "model_name": "DescriptionStyleModel",
      "state": {
       "description_width": ""
      }
     },
     "3a1736b0dff14df38da356e325559ae3": {
      "model_module": "@jupyter-widgets/base",
      "model_module_version": "1.2.0",
      "model_name": "LayoutModel",
      "state": {}
     },
     "3a1b0ed004b9425a8c3ef09d54bfaea8": {
      "model_module": "@jupyter-widgets/controls",
      "model_module_version": "1.5.0",
      "model_name": "TextModel",
      "state": {
       "description": "deep_aks_service_name",
       "layout": "IPY_MODEL_2d4f3d8305a44d618f369658efc3567f",
       "placeholder": "AKS Service Name",
       "style": "IPY_MODEL_f9d518d9c55a40fbab1a5d07f2f08860",
       "value": "deepaksservice"
      }
     },
     "3a30b3e54b2e4b58803bbf9112b2d4c0": {
      "model_module": "@jupyter-widgets/controls",
      "model_module_version": "1.5.0",
      "model_name": "HBoxModel",
      "state": {
       "children": [
        "IPY_MODEL_37fef37772cf427096b86c7158ef8815",
        "IPY_MODEL_a8d00f5ac98e452980ae490684643d18"
       ],
       "layout": "IPY_MODEL_91c1a1099fe74145bb0bf059cd4e0a82"
      }
     },
     "3a63ae13f83840519cdcc55b2c60242d": {
      "model_module": "@jupyter-widgets/controls",
      "model_module_version": "1.5.0",
      "model_name": "HTMLModel",
      "state": {
       "layout": "IPY_MODEL_07fb7f1f91784a9088af889e644eb2cd",
       "style": "IPY_MODEL_bb7521844c364b0ea56ed68c7c2ecb08",
       "value": "<b>imageDigest:</b>"
      }
     },
     "3a739bb2a46942ceb684ea2c7cb363de": {
      "model_module": "@jupyter-widgets/controls",
      "model_module_version": "1.5.0",
      "model_name": "DescriptionStyleModel",
      "state": {
       "description_width": ""
      }
     },
     "3abae71d7925453e83d61adfabcf1fc4": {
      "model_module": "@jupyter-widgets/controls",
      "model_module_version": "1.5.0",
      "model_name": "HBoxModel",
      "state": {
       "children": [
        "IPY_MODEL_319559b1529f43429a28aadf830b7b04",
        "IPY_MODEL_66bf54a5a1cb40bcb5ad46791a777cd7"
       ],
       "layout": "IPY_MODEL_0e6193eb5a594563925d8fbd623a828f"
      }
     },
     "3abe8f93870f461e80beda63cd34126b": {
      "model_module": "@jupyter-widgets/controls",
      "model_module_version": "1.5.0",
      "model_name": "TextModel",
      "state": {
       "description": "workspace_name",
       "layout": "IPY_MODEL_a1701c0f8a2b4636b957bb9f7c7f6580",
       "placeholder": "Azure ML Workspace Name",
       "style": "IPY_MODEL_54e8224a66654f0eae4137ff218edfe8",
       "value": "azmlrts-eastus"
      }
     },
     "3aea05ca534c4bf9947b854ecd1e4dd0": {
      "model_module": "@jupyter-widgets/controls",
      "model_module_version": "1.5.0",
      "model_name": "DescriptionStyleModel",
      "state": {
       "description_width": ""
      }
     },
     "3b653c487966401f8356e3c79ef301b3": {
      "model_module": "@jupyter-widgets/base",
      "model_module_version": "1.2.0",
      "model_name": "LayoutModel",
      "state": {}
     },
     "3b7f75c2c4734a4a8f6bf1acc00bd4c4": {
      "model_module": "@jupyter-widgets/controls",
      "model_module_version": "1.5.0",
      "model_name": "HBoxModel",
      "state": {
       "children": [
        "IPY_MODEL_22fec02d0cd54b77be40bfff97b97646",
        "IPY_MODEL_bf598306529d4e23908243da85eede74"
       ],
       "layout": "IPY_MODEL_f945fda52cf14eebbf8aa92962d7f9e1"
      }
     },
     "3b8fe845594a4e6198b517742775e77b": {
      "model_module": "@jupyter-widgets/base",
      "model_module_version": "1.2.0",
      "model_name": "LayoutModel",
      "state": {}
     },
     "3b972901eb0d4deb96a8444f96f05a2d": {
      "model_module": "@jupyter-widgets/controls",
      "model_module_version": "1.5.0",
      "model_name": "DescriptionStyleModel",
      "state": {
       "description_width": ""
      }
     },
     "3baf4e17e0a54cf4aff3199fe60e44ca": {
      "model_module": "@jupyter-widgets/base",
      "model_module_version": "1.2.0",
      "model_name": "LayoutModel",
      "state": {}
     },
     "3bd957b408344a9e848f9f32a6ced0b7": {
      "model_module": "@jupyter-widgets/controls",
      "model_module_version": "1.5.0",
      "model_name": "DescriptionStyleModel",
      "state": {
       "description_width": ""
      }
     },
     "3bdd4c25aac2428a94da86ac515bce52": {
      "model_module": "@jupyter-widgets/controls",
      "model_module_version": "1.5.0",
      "model_name": "DescriptionStyleModel",
      "state": {
       "description_width": ""
      }
     },
     "3bf2d9cd6ec84f0db95699f0ec818cdb": {
      "model_module": "@jupyter-widgets/controls",
      "model_module_version": "1.5.0",
      "model_name": "HBoxModel",
      "state": {
       "children": [
        "IPY_MODEL_c5f9103960ea430d9c840f264a68c737",
        "IPY_MODEL_15b1e2f4b0db44b29387206d4909c984"
       ],
       "layout": "IPY_MODEL_d160ee22adf547e39b4d1a4069f8383f"
      }
     },
     "3c0c3f9d211d488d99910fdacc10961a": {
      "model_module": "@jupyter-widgets/base",
      "model_module_version": "1.2.0",
      "model_name": "LayoutModel",
      "state": {}
     },
     "3c10fd18fdd949aeb6c5f87d53603955": {
      "model_module": "@jupyter-widgets/controls",
      "model_module_version": "1.5.0",
      "model_name": "HBoxModel",
      "state": {
       "children": [
        "IPY_MODEL_517f74f518be491098c712a443305ee8",
        "IPY_MODEL_97c4dd1ed5d0454b8e18e66c9e3330d4"
       ],
       "layout": "IPY_MODEL_48be809727ca49c0a332bb88ddf78520"
      }
     },
     "3c7f31e319e24ed6b329b84ed6edbb29": {
      "model_module": "@jupyter-widgets/controls",
      "model_module_version": "1.5.0",
      "model_name": "DescriptionStyleModel",
      "state": {
       "description_width": ""
      }
     },
     "3cb1cb8aae6f48d49e055af2606c7991": {
      "model_module": "@jupyter-widgets/controls",
      "model_module_version": "1.5.0",
      "model_name": "HBoxModel",
      "state": {
       "children": [
        "IPY_MODEL_ad7a66fcc8e0410c819087b170cef029",
        "IPY_MODEL_758ab18671a140feba9c456c906b0784"
       ],
       "layout": "IPY_MODEL_dcb3684c079f4289be8356d5cbce8c8a"
      }
     },
     "3cd7c8f372e64e57a10097fbc2800cac": {
      "model_module": "@jupyter-widgets/base",
      "model_module_version": "1.2.0",
      "model_name": "LayoutModel",
      "state": {}
     },
     "3cd8049380df4e5ab32fc2f95bcb7a84": {
      "model_module": "@jupyter-widgets/controls",
      "model_module_version": "1.5.0",
      "model_name": "HTMLModel",
      "state": {
       "layout": "IPY_MODEL_1ad209c7bce94bc1afd51e94ca279f0e",
       "style": "IPY_MODEL_3bd957b408344a9e848f9f32a6ced0b7",
       "value": "<img src=\"https://raw.githubusercontent.com/microsoft/AI-Utilities/master/docs/app_insights_1.png\">"
      }
     },
     "3cd980a080da43a5ac92ca043507f465": {
      "model_module": "@jupyter-widgets/base",
      "model_module_version": "1.2.0",
      "model_name": "LayoutModel",
      "state": {}
     },
     "3ce675b7d1ee427fb6290995cde37c60": {
      "model_module": "@jupyter-widgets/controls",
      "model_module_version": "1.5.0",
      "model_name": "DescriptionStyleModel",
      "state": {
       "description_width": ""
      }
     },
     "3d0f905528c949d28b67bfb98bebc5a4": {
      "model_module": "@jupyter-widgets/base",
      "model_module_version": "1.2.0",
      "model_name": "LayoutModel",
      "state": {}
     },
     "3d22195c51e7476e8f3c68398a683e83": {
      "model_module": "@jupyter-widgets/base",
      "model_module_version": "1.2.0",
      "model_name": "LayoutModel",
      "state": {}
     },
     "3d2f867db6e44a06adce3f3eb6f37623": {
      "model_module": "@jupyter-widgets/controls",
      "model_module_version": "1.5.0",
      "model_name": "HTMLModel",
      "state": {
       "layout": "IPY_MODEL_c214640774cf41eb8f12d83da7c4543a",
       "style": "IPY_MODEL_070c61f0a00f415880815fe90a4035a1",
       "value": "<img src=\"https://raw.githubusercontent.com/microsoft/AI-Utilities/master/docs/kubernetes.png\">"
      }
     },
     "3d695c3a0bc74a8e9630d7bb34e30ec0": {
      "model_module": "@jupyter-widgets/base",
      "model_module_version": "1.2.0",
      "model_name": "LayoutModel",
      "state": {}
     },
     "3d92028bf4044f3fa3c18b091969208b": {
      "model_module": "@jupyter-widgets/controls",
      "model_module_version": "1.5.0",
      "model_name": "LabelModel",
      "state": {
       "layout": "IPY_MODEL_570ab56cec96425da46f50c3cbcef19f",
       "style": "IPY_MODEL_58c6a08e10e84efdbb7e0e7539f37c7b",
       "value": "fcf7950ee5d473a6ac61b217ef01527895499548"
      }
     },
     "3d968e30102d416fb5aa17dd53b9875f": {
      "model_module": "@jupyter-widgets/base",
      "model_module_version": "1.2.0",
      "model_name": "LayoutModel",
      "state": {}
     },
     "3d97b84a955e4497bcf3f0e04ce38b90": {
      "model_module": "@jupyter-widgets/controls",
      "model_module_version": "1.5.0",
      "model_name": "HBoxModel",
      "state": {
       "children": [
        "IPY_MODEL_ec0e50887ade43ada13c418d3c08f89e",
        "IPY_MODEL_7f2ade5e035e44f2b5f269448f932f42"
       ],
       "layout": "IPY_MODEL_14bd42e898754941a24385f973f2aa40"
      }
     },
     "3da4e0dbc2144d5187979f8117f91a11": {
      "model_module": "@jupyter-widgets/controls",
      "model_module_version": "1.5.0",
      "model_name": "HTMLModel",
      "state": {
       "layout": "IPY_MODEL_ae7199ff40d44940a96e2119eb453b5c",
       "style": "IPY_MODEL_70dd68118e48495684b6939265be8026",
       "value": "<b>framework:</b>"
      }
     },
     "3db94aaab3a14492b68f73831d82eb75": {
      "model_module": "@jupyter-widgets/base",
      "model_module_version": "1.2.0",
      "model_name": "LayoutModel",
      "state": {}
     },
     "3dcc751ddc32462194f2222be5c60a50": {
      "model_module": "@jupyter-widgets/controls",
      "model_module_version": "1.5.0",
      "model_name": "LabelModel",
      "state": {
       "layout": "IPY_MODEL_e3611963def4448a9acb2699737da0f7",
       "style": "IPY_MODEL_3e2a157813d14785b35b69f2413e1011",
       "value": "None"
      }
     },
     "3e1706955a474d86b57346973d1055fc": {
      "model_module": "@jupyter-widgets/controls",
      "model_module_version": "1.5.0",
      "model_name": "HTMLModel",
      "state": {
       "layout": "IPY_MODEL_27399b009b244269aba42a28d97dde59",
       "style": "IPY_MODEL_2df8fce362674ac1906f5eaaefd0830f",
       "value": "<b>userObjectId:</b>"
      }
     },
     "3e23e7483bb94f1daee21910c3e06ec5": {
      "model_module": "@jupyter-widgets/base",
      "model_module_version": "1.2.0",
      "model_name": "LayoutModel",
      "state": {}
     },
     "3e2a157813d14785b35b69f2413e1011": {
      "model_module": "@jupyter-widgets/controls",
      "model_module_version": "1.5.0",
      "model_name": "DescriptionStyleModel",
      "state": {
       "description_width": ""
      }
     },
     "3e38e42bd5e84cdab3c35b474557980d": {
      "model_module": "@jupyter-widgets/controls",
      "model_module_version": "1.5.0",
      "model_name": "DescriptionStyleModel",
      "state": {
       "description_width": ""
      }
     },
     "3f07a578a4e94874af68751216bab4df": {
      "model_module": "@jupyter-widgets/controls",
      "model_module_version": "1.5.0",
      "model_name": "DescriptionStyleModel",
      "state": {
       "description_width": ""
      }
     },
     "3f2abba4c0f9421bb702ee3e14d6194b": {
      "model_module": "@jupyter-widgets/base",
      "model_module_version": "1.2.0",
      "model_name": "LayoutModel",
      "state": {}
     },
     "3f57ab8b3b894a22b29cc095b9a90122": {
      "model_module": "@jupyter-widgets/controls",
      "model_module_version": "1.5.0",
      "model_name": "DescriptionStyleModel",
      "state": {
       "description_width": ""
      }
     },
     "402b7f2278ce411db85384478c3131f7": {
      "model_module": "@jupyter-widgets/controls",
      "model_module_version": "1.5.0",
      "model_name": "DescriptionStyleModel",
      "state": {
       "description_width": ""
      }
     },
     "4044618d5ed4483db9df34f4b59326aa": {
      "model_module": "@jupyter-widgets/base",
      "model_module_version": "1.2.0",
      "model_name": "LayoutModel",
      "state": {}
     },
     "404b7c4daba24c70b562007d05225a01": {
      "model_module": "@jupyter-widgets/base",
      "model_module_version": "1.2.0",
      "model_name": "LayoutModel",
      "state": {}
     },
     "407afb2a2ca14d7a8111e75050e55eee": {
      "model_module": "@jupyter-widgets/base",
      "model_module_version": "1.2.0",
      "model_name": "LayoutModel",
      "state": {}
     },
     "407bc8f5976149f188c9d52ce7f36833": {
      "model_module": "@jupyter-widgets/base",
      "model_module_version": "1.2.0",
      "model_name": "LayoutModel",
      "state": {}
     },
     "40abe69b9b814ba1a513febcfb54df8f": {
      "model_module": "@jupyter-widgets/controls",
      "model_module_version": "1.5.0",
      "model_name": "LabelModel",
      "state": {
       "layout": "IPY_MODEL_c7578cf036ae4ed4bf7c71f0f7f33876",
       "style": "IPY_MODEL_c54afd1730b34476add9f72828a8ed44",
       "value": "None"
      }
     },
     "40d5e7e26faa4208bc2cbe990209666a": {
      "model_module": "@jupyter-widgets/controls",
      "model_module_version": "1.5.0",
      "model_name": "DescriptionStyleModel",
      "state": {
       "description_width": ""
      }
     },
     "4102c819d35a4f508eb479de24f4944a": {
      "model_module": "@jupyter-widgets/controls",
      "model_module_version": "1.5.0",
      "model_name": "HBoxModel",
      "state": {
       "children": [
        "IPY_MODEL_bcab70969d644d50bfdf8cff3fef138a",
        "IPY_MODEL_d46ce548e9cb4971b3c40c539cd62e15"
       ],
       "layout": "IPY_MODEL_9f912579a9d44045a2e4d7f35e1acc6f"
      }
     },
     "4107a5a229e54d71825e4198f7c599ca": {
      "model_module": "@jupyter-widgets/controls",
      "model_module_version": "1.5.0",
      "model_name": "HBoxModel",
      "state": {
       "children": [
        "IPY_MODEL_4fe282b3d15748e49a52579ef6794c6c",
        "IPY_MODEL_61c492dd22274fe39aa42a4b900453ad"
       ],
       "layout": "IPY_MODEL_0000af9242834b91b9276ef832aeb3b8"
      }
     },
     "4122cbd638044e919658b26a49c2ea45": {
      "model_module": "@jupyter-widgets/base",
      "model_module_version": "1.2.0",
      "model_name": "LayoutModel",
      "state": {}
     },
     "412e48bff010499f9e53f1b1c1c8cc94": {
      "model_module": "@jupyter-widgets/base",
      "model_module_version": "1.2.0",
      "model_name": "LayoutModel",
      "state": {}
     },
     "41cbde04a9584aaaadd23c6b5347d82b": {
      "model_module": "@jupyter-widgets/controls",
      "model_module_version": "1.5.0",
      "model_name": "DescriptionStyleModel",
      "state": {
       "description_width": ""
      }
     },
     "41dea9fe01d646c59deece18cd524841": {
      "model_module": "@jupyter-widgets/controls",
      "model_module_version": "1.5.0",
      "model_name": "DescriptionStyleModel",
      "state": {
       "description_width": ""
      }
     },
     "421ca213320e40f2bc3a091dde9244d3": {
      "model_module": "@jupyter-widgets/controls",
      "model_module_version": "1.5.0",
      "model_name": "HTMLModel",
      "state": {
       "layout": "IPY_MODEL_1df49bdee9c24b9887f442e1960161b2",
       "style": "IPY_MODEL_2ed508f731ae472387541965c37fa998",
       "value": "<b>modelDetails:</b>"
      }
     },
     "4243511e38de45b0872025051d6b2d82": {
      "model_module": "@jupyter-widgets/base",
      "model_module_version": "1.2.0",
      "model_name": "LayoutModel",
      "state": {}
     },
     "4249b93ddf0b42439132acf1ef589f8e": {
      "model_module": "@jupyter-widgets/controls",
      "model_module_version": "1.5.0",
      "model_name": "DescriptionStyleModel",
      "state": {
       "description_width": ""
      }
     },
     "426797dd8cc840b1b88546f260df5667": {
      "model_module": "@jupyter-widgets/base",
      "model_module_version": "1.2.0",
      "model_name": "LayoutModel",
      "state": {}
     },
     "4270d4e736c0462ab4b3959d5e0b3211": {
      "model_module": "@jupyter-widgets/base",
      "model_module_version": "1.2.0",
      "model_name": "LayoutModel",
      "state": {}
     },
     "4275157cb02d412492894841d092342b": {
      "model_module": "@jupyter-widgets/base",
      "model_module_version": "1.2.0",
      "model_name": "LayoutModel",
      "state": {
       "width": "50%"
      }
     },
     "427f6a9cb8034a1f8d2a48e558686c24": {
      "model_module": "@jupyter-widgets/controls",
      "model_module_version": "1.5.0",
      "model_name": "TabModel",
      "state": {
       "_titles": {
        "0": "ML Studio",
        "1": "Kubernetes",
        "2": "Application Insights"
       },
       "children": [
        "IPY_MODEL_3201611a755e4a19aad16a8b5068b447",
        "IPY_MODEL_884be36b848443e8b51f406d3d957c63",
        "IPY_MODEL_8e9eeee754d44d79a0cf3784807c9b7d"
       ],
       "layout": "IPY_MODEL_25267b4ca55b4eda8f3024ad44dd91a8"
      }
     },
     "4284720f4ab346149a6850424de3135f": {
      "model_module": "@jupyter-widgets/controls",
      "model_module_version": "1.5.0",
      "model_name": "ButtonStyleModel",
      "state": {}
     },
     "42de020fa69845a1b7d8424c0bf55f8b": {
      "model_module": "@jupyter-widgets/base",
      "model_module_version": "1.2.0",
      "model_name": "LayoutModel",
      "state": {}
     },
     "4307f828d8ae4c3ea1e6d4522ca69df5": {
      "model_module": "@jupyter-widgets/base",
      "model_module_version": "1.2.0",
      "model_name": "LayoutModel",
      "state": {}
     },
     "4342628262db400794044888758f382f": {
      "model_module": "@jupyter-widgets/base",
      "model_module_version": "1.2.0",
      "model_name": "LayoutModel",
      "state": {}
     },
     "435aa6055c22456181945a2bfd1226ae": {
      "model_module": "@jupyter-widgets/base",
      "model_module_version": "1.2.0",
      "model_name": "LayoutModel",
      "state": {}
     },
     "4379454348e744cdae1d02da9c8d7b5d": {
      "model_module": "@jupyter-widgets/base",
      "model_module_version": "1.2.0",
      "model_name": "LayoutModel",
      "state": {}
     },
     "43811a0f5dbd4e4ba8904f5614d37803": {
      "model_module": "@jupyter-widgets/base",
      "model_module_version": "1.2.0",
      "model_name": "LayoutModel",
      "state": {}
     },
     "43b4ae9149734a0b82ea1bfb9e60b5ca": {
      "model_module": "@jupyter-widgets/controls",
      "model_module_version": "1.5.0",
      "model_name": "AccordionModel",
      "state": {
       "_titles": {
        "0": "Workspace",
        "1": "Model"
       },
       "children": [
        "IPY_MODEL_dfdba56159ed43ebbe18c8f8f070d676",
        "IPY_MODEL_57c28b037445404eb27230213385bc12"
       ],
       "layout": "IPY_MODEL_246fdbf7163245a3ad0d6dbf5c19cfbb"
      }
     },
     "43dbb08cac454b9fb8e3a821cd5b8b56": {
      "model_module": "@jupyter-widgets/controls",
      "model_module_version": "1.5.0",
      "model_name": "DescriptionStyleModel",
      "state": {
       "description_width": ""
      }
     },
     "43ed1a08277c494e81bc5e4dfd1b13c1": {
      "model_module": "@jupyter-widgets/controls",
      "model_module_version": "1.5.0",
      "model_name": "LabelModel",
      "state": {
       "layout": "IPY_MODEL_0c12a22e3c674dd5b63786c14085f226",
       "style": "IPY_MODEL_01df0942ef8e41e29ff5619d1bb4b3f7",
       "value": "None"
      }
     },
     "43f8de4a1d5940128d83a9a673707321": {
      "model_module": "@jupyter-widgets/base",
      "model_module_version": "1.2.0",
      "model_name": "LayoutModel",
      "state": {}
     },
     "443541a1970f405f9d258ccb7531c9f6": {
      "model_module": "@jupyter-widgets/base",
      "model_module_version": "1.2.0",
      "model_name": "LayoutModel",
      "state": {}
     },
     "44518784f6a344b2af034872bebb097d": {
      "model_module": "@jupyter-widgets/controls",
      "model_module_version": "1.5.0",
      "model_name": "LabelModel",
      "state": {
       "layout": "IPY_MODEL_59a960e717ec4d0bb4d9f3625770e883",
       "style": "IPY_MODEL_ff1dc9d74adf412e8ed9d66b65bac41d",
       "value": "None"
      }
     },
     "445bf2d61f894581bb1a0893a13dfb32": {
      "model_module": "@jupyter-widgets/controls",
      "model_module_version": "1.5.0",
      "model_name": "VBoxModel",
      "state": {
       "children": [
        "IPY_MODEL_911f9e82d8394b50945e91350ea11249",
        "IPY_MODEL_7275201d671d46f4a65b147049512a11",
        "IPY_MODEL_6a6630fbd9dc482a9fefec7611f41393",
        "IPY_MODEL_628e322447c0427aa543586a081b6949",
        "IPY_MODEL_3abe8f93870f461e80beda63cd34126b",
        "IPY_MODEL_e36e3a76f4a74a80960138b7720d1195",
        "IPY_MODEL_f8b70005832641479ff8561cdb09ef7f",
        "IPY_MODEL_b7e97d3af65d47159ae9594eb41b8e1a",
        "IPY_MODEL_d7d0a8add9064aa59f8f9e14ce040c5e",
        "IPY_MODEL_d76dcd8ea8904efb81f51175ea2df523",
        "IPY_MODEL_bb7a2841428a4eae8781f2f3972197c0",
        "IPY_MODEL_3a1b0ed004b9425a8c3ef09d54bfaea8",
        "IPY_MODEL_7f9e3c0656054011919158e37c326541",
        "IPY_MODEL_8798522176444598abeaf45e891b3e56"
       ],
       "layout": "IPY_MODEL_8f02f2bd54104f16ac5f10b5d1e3f23c"
      }
     },
     "44744c40e09f475e89b0fa591288e0b6": {
      "model_module": "@jupyter-widgets/controls",
      "model_module_version": "1.5.0",
      "model_name": "HBoxModel",
      "state": {
       "children": [
        "IPY_MODEL_8e5c743081344d59a5bb8783260f918b",
        "IPY_MODEL_edd8651408b04145b485b6af0e2318f7"
       ],
       "layout": "IPY_MODEL_d57db8e0e0b24ef1bab0a46825175cd4"
      }
     },
     "449122e3c44e45c5953e392bc7349c52": {
      "model_module": "@jupyter-widgets/controls",
      "model_module_version": "1.5.0",
      "model_name": "HBoxModel",
      "state": {
       "children": [
        "IPY_MODEL_b470ff04151441bb9bd1ffee8365e7a1",
        "IPY_MODEL_8033cb65e7f4423abeeb5d5ce32a84e0"
       ],
       "layout": "IPY_MODEL_e7aece7a92974662b52b2823587b508e"
      }
     },
     "4499024707bb4f57b8fa22f30125e523": {
      "model_module": "@jupyter-widgets/controls",
      "model_module_version": "1.5.0",
      "model_name": "HBoxModel",
      "state": {
       "children": [
        "IPY_MODEL_d790b642ffc94a6693b1651461f16043",
        "IPY_MODEL_2394ab8edf8c43a7902f211a2842e7db"
       ],
       "layout": "IPY_MODEL_7b783379b66e4723ad5b0176071d57cc"
      }
     },
     "449c6bdc1d1c446c9cf0c8c9e2456510": {
      "model_module": "@jupyter-widgets/controls",
      "model_module_version": "1.5.0",
      "model_name": "HTMLModel",
      "state": {
       "layout": "IPY_MODEL_e6c56cea3362436ca8b3b4085d4c8746",
       "style": "IPY_MODEL_83d989605f6b47208c3c9a910e1eb8ff",
       "value": "<b>mimeType:</b>"
      }
     },
     "44a33ea378164c0986204e412e44a5da": {
      "model_module": "@jupyter-widgets/base",
      "model_module_version": "1.2.0",
      "model_name": "LayoutModel",
      "state": {}
     },
     "44a685e4c8e648408b32423fa4b81302": {
      "model_module": "@jupyter-widgets/base",
      "model_module_version": "1.2.0",
      "model_name": "LayoutModel",
      "state": {}
     },
     "44b3d2c0d2974bda8aa71d248629a340": {
      "model_module": "@jupyter-widgets/base",
      "model_module_version": "1.2.0",
      "model_name": "LayoutModel",
      "state": {}
     },
     "44e98ba9a72c4064b49c936246e60a0f": {
      "model_module": "@jupyter-widgets/base",
      "model_module_version": "1.2.0",
      "model_name": "LayoutModel",
      "state": {}
     },
     "44f70300f390428f95172269f5a15da1": {
      "model_module": "@jupyter-widgets/controls",
      "model_module_version": "1.5.0",
      "model_name": "DescriptionStyleModel",
      "state": {
       "description_width": ""
      }
     },
     "4529ead1a6bf458eb42a286244760454": {
      "model_module": "@jupyter-widgets/base",
      "model_module_version": "1.2.0",
      "model_name": "LayoutModel",
      "state": {}
     },
     "455ebeb76e6340028510d8834aef5fbc": {
      "model_module": "@jupyter-widgets/base",
      "model_module_version": "1.2.0",
      "model_name": "LayoutModel",
      "state": {}
     },
     "4586a85842f6476ebb144564a8c0779d": {
      "model_module": "@jupyter-widgets/base",
      "model_module_version": "1.2.0",
      "model_name": "LayoutModel",
      "state": {}
     },
     "45b2e3c9d5c64a7f9b0a79357ec11ddb": {
      "model_module": "@jupyter-widgets/base",
      "model_module_version": "1.2.0",
      "model_name": "LayoutModel",
      "state": {}
     },
     "45c36c9effbb42c1b53217c25c07a856": {
      "model_module": "@jupyter-widgets/controls",
      "model_module_version": "1.5.0",
      "model_name": "LabelModel",
      "state": {
       "layout": "IPY_MODEL_0f3cee763b974573a4b6c119c793f302",
       "style": "IPY_MODEL_4d1072ab7fa54043b1739aa02a066ce6",
       "value": "fcf7950ee5d473a6ac61b217ef01527895499548"
      }
     },
     "45d712f076a241f3baea327153241e62": {
      "model_module": "@jupyter-widgets/base",
      "model_module_version": "1.2.0",
      "model_name": "LayoutModel",
      "state": {}
     },
     "46064b1b429c4f65ac32a343cd03ec2b": {
      "model_module": "@jupyter-widgets/base",
      "model_module_version": "1.2.0",
      "model_name": "LayoutModel",
      "state": {}
     },
     "4642b920bdc34a13a104c33c0369c638": {
      "model_module": "@jupyter-widgets/controls",
      "model_module_version": "1.5.0",
      "model_name": "DescriptionStyleModel",
      "state": {
       "description_width": ""
      }
     },
     "464cb7ec8929424987a1e1a1603d8299": {
      "model_module": "@jupyter-widgets/controls",
      "model_module_version": "1.5.0",
      "model_name": "LabelModel",
      "state": {
       "layout": "IPY_MODEL_a4891aad6d60489cb3e3b74280d0ed45",
       "style": "IPY_MODEL_77029f95ebb14f06a52ff9ca620f920e",
       "value": "{'repositories': [], 'packages': [], 'precachePackages': True}"
      }
     },
     "46583a1831d145f694488e9ba1d08672": {
      "model_module": "@jupyter-widgets/base",
      "model_module_version": "1.2.0",
      "model_name": "LayoutModel",
      "state": {}
     },
     "465a8e8192b1475bb3172e0d0d37d6e1": {
      "model_module": "@jupyter-widgets/base",
      "model_module_version": "1.2.0",
      "model_name": "LayoutModel",
      "state": {}
     },
     "46cf47b1de5e4668ac48e7ece07141e1": {
      "model_module": "@jupyter-widgets/controls",
      "model_module_version": "1.5.0",
      "model_name": "HBoxModel",
      "state": {
       "children": [
        "IPY_MODEL_80c799e7167a4a228dd506b48941285c",
        "IPY_MODEL_96f8e779302f4e88af8dd89bd97a292f"
       ],
       "layout": "IPY_MODEL_5c5d4177f5fd4c8b8a43f74828bc228f"
      }
     },
     "46d330e000a2428f83c6d67d532577d4": {
      "model_module": "@jupyter-widgets/base",
      "model_module_version": "1.2.0",
      "model_name": "LayoutModel",
      "state": {}
     },
     "46d6ffcf3422413fade965c23d9e4931": {
      "model_module": "@jupyter-widgets/controls",
      "model_module_version": "1.5.0",
      "model_name": "DescriptionStyleModel",
      "state": {
       "description_width": ""
      }
     },
     "46e19a06e4c14e6ab71ec1183be36588": {
      "model_module": "@jupyter-widgets/base",
      "model_module_version": "1.2.0",
      "model_name": "LayoutModel",
      "state": {}
     },
     "46f58fa58db5494d87d657fa0875d827": {
      "model_module": "@jupyter-widgets/controls",
      "model_module_version": "1.5.0",
      "model_name": "DescriptionStyleModel",
      "state": {
       "description_width": ""
      }
     },
     "47038f4a69fc4074b82c66742b1c8eee": {
      "model_module": "@jupyter-widgets/base",
      "model_module_version": "1.2.0",
      "model_name": "LayoutModel",
      "state": {}
     },
     "470b42bf5c52451d9e215a886b577861": {
      "model_module": "@jupyter-widgets/base",
      "model_module_version": "1.2.0",
      "model_name": "LayoutModel",
      "state": {}
     },
     "4726913eff1b4e068534000f267300b4": {
      "model_module": "@jupyter-widgets/controls",
      "model_module_version": "1.5.0",
      "model_name": "HBoxModel",
      "state": {
       "children": [
        "IPY_MODEL_dea991f3f00c4816b90fcfb9dc74b922",
        "IPY_MODEL_52be557b880c4c94a0c27d63270b10b1"
       ],
       "layout": "IPY_MODEL_e294f205b1554a23bbe12e25fa67e4c8"
      }
     },
     "472a1e1d71eb423ab885310c3e4be7e4": {
      "model_module": "@jupyter-widgets/controls",
      "model_module_version": "1.5.0",
      "model_name": "DescriptionStyleModel",
      "state": {
       "description_width": ""
      }
     },
     "47324781090743caa485fb232359a094": {
      "model_module": "@jupyter-widgets/controls",
      "model_module_version": "1.5.0",
      "model_name": "HBoxModel",
      "state": {
       "children": [
        "IPY_MODEL_4caff36342a044a7950ee37e3306478b",
        "IPY_MODEL_f349147e5d0d4c2fa207fd1321f0d77b"
       ],
       "layout": "IPY_MODEL_6f5e4fce483b4e6dad3333a287ddfef8"
      }
     },
     "4732e3aeb86b495eb94b58e7e2ded679": {
      "model_module": "@jupyter-widgets/base",
      "model_module_version": "1.2.0",
      "model_name": "LayoutModel",
      "state": {}
     },
     "4747371f33524ee4ad01022b61a22882": {
      "model_module": "@jupyter-widgets/base",
      "model_module_version": "1.2.0",
      "model_name": "LayoutModel",
      "state": {}
     },
     "4755e81249c947f4bea251b9ecab8f56": {
      "model_module": "@jupyter-widgets/controls",
      "model_module_version": "1.5.0",
      "model_name": "DescriptionStyleModel",
      "state": {
       "description_width": ""
      }
     },
     "47576399f43040409efe03b610ed12e7": {
      "model_module": "@jupyter-widgets/controls",
      "model_module_version": "1.5.0",
      "model_name": "LabelModel",
      "state": {
       "layout": "IPY_MODEL_defce8b641034338a60937b3ce4eebf9",
       "style": "IPY_MODEL_51c4662728234b7fb9e30893b8d996f9",
       "value": "Autosave_2020-03-18T21:25:15Z_923a7b66"
      }
     },
     "475db81eae1443d5931fd7df0b8c67f3": {
      "model_module": "@jupyter-widgets/base",
      "model_module_version": "1.2.0",
      "model_name": "LayoutModel",
      "state": {}
     },
     "47a84c885f0147ceb4ae5bc90390f8cd": {
      "model_module": "@jupyter-widgets/controls",
      "model_module_version": "1.5.0",
      "model_name": "HBoxModel",
      "state": {
       "children": [
        "IPY_MODEL_772f869900634d27bb37facdd9f61aa4",
        "IPY_MODEL_2cb7d2ef87ca446d969e5d547ddc4482"
       ],
       "layout": "IPY_MODEL_d36d2acb6def4b4bbdec6de234b5a3d6"
      }
     },
     "47b5e3aae953475396d08aa3045496e6": {
      "model_module": "@jupyter-widgets/controls",
      "model_module_version": "1.5.0",
      "model_name": "HTMLModel",
      "state": {
       "layout": "IPY_MODEL_c864ccd3244b44df9927fe4d2ca925f9",
       "style": "IPY_MODEL_dc81bb917c794c28b734c434ee1f2b20",
       "value": "<b>computeType:</b>"
      }
     },
     "47cbd10917ce4259aaa1e5ef3caff082": {
      "model_module": "@jupyter-widgets/controls",
      "model_module_version": "1.5.0",
      "model_name": "LabelModel",
      "state": {
       "layout": "IPY_MODEL_32bb229ce3c84d319acb5a43a6d8b19d",
       "style": "IPY_MODEL_022b43e1ec93477ab4909fc48ad2fe71",
       "value": "False"
      }
     },
     "47dd8283a9b94659989961aabb1197d0": {
      "model_module": "@jupyter-widgets/base",
      "model_module_version": "1.2.0",
      "model_name": "LayoutModel",
      "state": {}
     },
     "47de548495a64e69a12cde7a07431d81": {
      "model_module": "@jupyter-widgets/base",
      "model_module_version": "1.2.0",
      "model_name": "LayoutModel",
      "state": {}
     },
     "47ee6544929248299787c9503490d431": {
      "model_module": "@jupyter-widgets/controls",
      "model_module_version": "1.5.0",
      "model_name": "LabelModel",
      "state": {
       "layout": "IPY_MODEL_e5f015974cd946c8bb2eb3ea993e5c70",
       "style": "IPY_MODEL_7e15b502ba134aeaac0de44405d68efa",
       "value": "70"
      }
     },
     "47f02e8394784c8ba73f0de4b7b69eaa": {
      "model_module": "@jupyter-widgets/base",
      "model_module_version": "1.2.0",
      "model_name": "LayoutModel",
      "state": {}
     },
     "4825d90865f0482081583af5d2e15367": {
      "model_module": "@jupyter-widgets/base",
      "model_module_version": "1.2.0",
      "model_name": "LayoutModel",
      "state": {}
     },
     "4836120cc44840f094213768a5ed0988": {
      "model_module": "@jupyter-widgets/base",
      "model_module_version": "1.2.0",
      "model_name": "LayoutModel",
      "state": {}
     },
     "486e6305361a41d0bd42b40b94668c7f": {
      "model_module": "@jupyter-widgets/base",
      "model_module_version": "1.2.0",
      "model_name": "LayoutModel",
      "state": {}
     },
     "488fa31781254a11b09a8bd944a16e8a": {
      "model_module": "@jupyter-widgets/controls",
      "model_module_version": "1.5.0",
      "model_name": "ButtonModel",
      "state": {
       "button_style": "success",
       "description": "Complete, rerun?",
       "layout": "IPY_MODEL_823f364ba9af40d5ba34d7def03eefd5",
       "style": "IPY_MODEL_a5ad3d20668d4401955f0c8e71f3747d"
      }
     },
     "48b333d707ae49348d0ae381fe565a7d": {
      "model_module": "@jupyter-widgets/controls",
      "model_module_version": "1.5.0",
      "model_name": "DescriptionStyleModel",
      "state": {
       "description_width": ""
      }
     },
     "48be809727ca49c0a332bb88ddf78520": {
      "model_module": "@jupyter-widgets/base",
      "model_module_version": "1.2.0",
      "model_name": "LayoutModel",
      "state": {}
     },
     "48bfbbe158a047ecbc947f5689cd9cd2": {
      "model_module": "@jupyter-widgets/base",
      "model_module_version": "1.2.0",
      "model_name": "LayoutModel",
      "state": {}
     },
     "491ca39806ae4e5f826908f9c0caf0f2": {
      "model_module": "@jupyter-widgets/controls",
      "model_module_version": "1.5.0",
      "model_name": "HTMLModel",
      "state": {
       "layout": "IPY_MODEL_11dcf6f0f18d45278aa5a255cc9e1fd3",
       "style": "IPY_MODEL_b90c59d132704018bda6746f976d08e1",
       "value": "<b>aadAuthEnabled:</b>"
      }
     },
     "492fcb65558f411aa5fc11e74f284d1c": {
      "model_module": "@jupyter-widgets/controls",
      "model_module_version": "1.5.0",
      "model_name": "VBoxModel",
      "state": {
       "children": [
        "IPY_MODEL_f55cd8e8fa824144b77f2f4740d05fb8",
        "IPY_MODEL_9da521bb38a04bd99abdad6d00190943",
        "IPY_MODEL_e6aff38d16014bcbbf66adfdddbdfd88",
        "IPY_MODEL_9f3aacb4f9924421bce4534ab0ee551c",
        "IPY_MODEL_bc40a7df13a14026b19a953b918a39ee",
        "IPY_MODEL_cf82cfc4f48447b28fe8c4633b1912b4",
        "IPY_MODEL_acd6855d6ced4b789374025738fd51d1",
        "IPY_MODEL_2ac317b5b21b4c868211f73732c8ba15",
        "IPY_MODEL_040d0a4b9b7641ca9277729876cb8cac",
        "IPY_MODEL_33254f055e6f4e8ab8ded70f6e817cfb",
        "IPY_MODEL_cad6beedc5764fca94cad74dd9528157",
        "IPY_MODEL_a04bd5153fe248a88c0dfe889828bc3d",
        "IPY_MODEL_5eeb09406cb941d0835b84e4b57334c8",
        "IPY_MODEL_26c3e9afe1ae45a9a98cd267d4c671b2",
        "IPY_MODEL_51f81ac176774eb4be90c5973087a4be",
        "IPY_MODEL_fab289d25255422484b2dd8dfffd7d03",
        "IPY_MODEL_4b698091fed847c08c0307c696ebf6d0",
        "IPY_MODEL_5e67d0d717ec4afc9e8d0cd22454902b",
        "IPY_MODEL_05742d3c9e594b2698c76ac6b0f0472a",
        "IPY_MODEL_73571ecddf50477e91ee1c86e7d97fb1",
        "IPY_MODEL_95957e016b6d4f6784589db16b6faa6a",
        "IPY_MODEL_ca22c8cb5388447ebc7e4240ef95c998",
        "IPY_MODEL_2c62ff5f19de45478677065f85a103e0",
        "IPY_MODEL_6a34c0e1e1f3485ca0439925507e8e42",
        "IPY_MODEL_7893b0db7df748ad812e99420370dcd9",
        "IPY_MODEL_1815604b8e7d4f06a2ac9e9933409309",
        "IPY_MODEL_336caaa179d048ffbc1b08d1107e77d3",
        "IPY_MODEL_ad3fede890da4674885c6beab8abcadd",
        "IPY_MODEL_6a5066428a344722a88f54a5f77635f4",
        "IPY_MODEL_5aead064c8b046a7993bd8c7f7f0c04c",
        "IPY_MODEL_f28ccd0d3f8942aebeb76d41caeb9683",
        "IPY_MODEL_1de4962aa702492884e175ad7481e5da"
       ],
       "layout": "IPY_MODEL_2cd74d361d1a4aac981a5a2a3c9e8db8"
      }
     },
     "495223148778404eac992f8d1945a2af": {
      "model_module": "@jupyter-widgets/controls",
      "model_module_version": "1.5.0",
      "model_name": "DescriptionStyleModel",
      "state": {
       "description_width": ""
      }
     },
     "497fd5064acf4f49a5692bce9f8fa81f": {
      "model_module": "@jupyter-widgets/base",
      "model_module_version": "1.2.0",
      "model_name": "LayoutModel",
      "state": {}
     },
     "499330f202794a968a40eb0e85e96978": {
      "model_module": "@jupyter-widgets/controls",
      "model_module_version": "1.5.0",
      "model_name": "HBoxModel",
      "state": {
       "children": [
        "IPY_MODEL_e1f6143ed29344318a09798967142cf3",
        "IPY_MODEL_47576399f43040409efe03b610ed12e7"
       ],
       "layout": "IPY_MODEL_529a9389b8f04c84b448ddb19d47e522"
      }
     },
     "49aa2c75c1b048388051ec0b535d6094": {
      "model_module": "@jupyter-widgets/controls",
      "model_module_version": "1.5.0",
      "model_name": "ButtonStyleModel",
      "state": {}
     },
     "49ef76f0eb764a29a1fa3e799455ab8a": {
      "model_module": "@jupyter-widgets/base",
      "model_module_version": "1.2.0",
      "model_name": "LayoutModel",
      "state": {}
     },
     "49f1ae63a7214b14b2876daf1c429f0d": {
      "model_module": "@jupyter-widgets/controls",
      "model_module_version": "1.5.0",
      "model_name": "DescriptionStyleModel",
      "state": {
       "description_width": ""
      }
     },
     "49f34da5532d46cc83f47694823cd221": {
      "model_module": "@jupyter-widgets/controls",
      "model_module_version": "1.5.0",
      "model_name": "VBoxModel",
      "state": {
       "children": [
        "IPY_MODEL_0aa8a5df1b8347d78d41060d6a9a305c",
        "IPY_MODEL_0114b8c2ce444aaca255275db3f71842",
        "IPY_MODEL_46cf47b1de5e4668ac48e7ece07141e1",
        "IPY_MODEL_838a8952a3a5470fb54dcd994ff7b0f8",
        "IPY_MODEL_1cf474270c8c4a6b9d5fce1c04b97968",
        "IPY_MODEL_2fe49db95b974b94a115ed13ab9b75a0",
        "IPY_MODEL_84954912bbe845c1a201e578fdc95b77"
       ],
       "layout": "IPY_MODEL_ce09ebc0fea8415691235dfe08bb822a"
      }
     },
     "49f80057d13042f1a15ce7b434e2d11c": {
      "model_module": "@jupyter-widgets/controls",
      "model_module_version": "1.5.0",
      "model_name": "HTMLModel",
      "state": {
       "layout": "IPY_MODEL_b7fa1ab1349047f0bb0245442c9f7df6",
       "style": "IPY_MODEL_6936cd1365d74e5dbd8a374f36d135e9",
       "value": "<b>resourceConfiguration:</b>"
      }
     },
     "4a30bd6f9a1440429d1cd736f4247fd2": {
      "model_module": "@jupyter-widgets/controls",
      "model_module_version": "1.5.0",
      "model_name": "DescriptionStyleModel",
      "state": {
       "description_width": ""
      }
     },
     "4a384d05fa024c8aa5cb110b35ad8091": {
      "model_module": "@jupyter-widgets/controls",
      "model_module_version": "1.5.0",
      "model_name": "HTMLModel",
      "state": {
       "layout": "IPY_MODEL_ffe6f4530e0442868945b29f64270d3d",
       "style": "IPY_MODEL_dbfbef71d97c470b9605ee6a8226a59d",
       "value": "<b>cpu:</b>"
      }
     },
     "4a4c59d3bdcc4281824af155ac7a5274": {
      "model_module": "@jupyter-widgets/controls",
      "model_module_version": "1.5.0",
      "model_name": "DescriptionStyleModel",
      "state": {
       "description_width": ""
      }
     },
     "4a569614de27491383574ac542982528": {
      "model_module": "@jupyter-widgets/controls",
      "model_module_version": "1.5.0",
      "model_name": "HTMLModel",
      "state": {
       "layout": "IPY_MODEL_ce497ed8c793466aab073cfea0f857d1",
       "style": "IPY_MODEL_0ba8b32292ab4df486743e8f37bdafa4",
       "value": "<b>versionType:</b>"
      }
     },
     "4a72381a0dae4d7f81bdcda60d350a96": {
      "model_module": "@jupyter-widgets/controls",
      "model_module_version": "1.5.0",
      "model_name": "DescriptionStyleModel",
      "state": {
       "description_width": ""
      }
     },
     "4a940eda2a9a435d9c43498d3f5826df": {
      "model_module": "@jupyter-widgets/controls",
      "model_module_version": "1.5.0",
      "model_name": "DescriptionStyleModel",
      "state": {
       "description_width": ""
      }
     },
     "4a9d54d671e446de8b1439491b6914e3": {
      "model_module": "@jupyter-widgets/base",
      "model_module_version": "1.2.0",
      "model_name": "LayoutModel",
      "state": {}
     },
     "4aa900c57ecf4285965a7f45651cd86d": {
      "model_module": "@jupyter-widgets/controls",
      "model_module_version": "1.5.0",
      "model_name": "HTMLModel",
      "state": {
       "layout": "IPY_MODEL_b0cb2adec7c946bb8b9d59bb6921df7f",
       "style": "IPY_MODEL_d19f2a53374f4da28b33b48a9a2cfc98",
       "value": "<b>gpu:</b>"
      }
     },
     "4acad7238ad64720a0ce503276c65c8d": {
      "model_module": "@jupyter-widgets/base",
      "model_module_version": "1.2.0",
      "model_name": "LayoutModel",
      "state": {}
     },
     "4add35a69e2642bd9f2b95ee3859d903": {
      "model_module": "@jupyter-widgets/base",
      "model_module_version": "1.2.0",
      "model_name": "LayoutModel",
      "state": {}
     },
     "4aef58b864dc4ded80a66df71ffa1c57": {
      "model_module": "@jupyter-widgets/base",
      "model_module_version": "1.2.0",
      "model_name": "LayoutModel",
      "state": {}
     },
     "4af4009d9a1f49468adad14f539eb787": {
      "model_module": "@jupyter-widgets/base",
      "model_module_version": "1.2.0",
      "model_name": "LayoutModel",
      "state": {}
     },
     "4b042aeef699418098c815fb49daee29": {
      "model_module": "@jupyter-widgets/base",
      "model_module_version": "1.2.0",
      "model_name": "LayoutModel",
      "state": {}
     },
     "4b0c197693d141ab97b42fc8f9729732": {
      "model_module": "@jupyter-widgets/controls",
      "model_module_version": "1.5.0",
      "model_name": "DescriptionStyleModel",
      "state": {
       "description_width": ""
      }
     },
     "4b1a1196eaba493abed899ab410ceb08": {
      "model_module": "@jupyter-widgets/controls",
      "model_module_version": "1.5.0",
      "model_name": "DescriptionStyleModel",
      "state": {
       "description_width": ""
      }
     },
     "4b382c62bfbf47c3bf93d6857b2f3095": {
      "model_module": "@jupyter-widgets/controls",
      "model_module_version": "1.5.0",
      "model_name": "IntProgressModel",
      "state": {
       "bar_style": "info",
       "layout": "IPY_MODEL_1a734fd055cb4e59a8a999e822d39d58",
       "style": "IPY_MODEL_f5b6c56d6fc848eb94d8ff0c6f923bde",
       "value": 100
      }
     },
     "4b43cf6d5ce24cbcac685744751f8f23": {
      "model_module": "@jupyter-widgets/controls",
      "model_module_version": "1.5.0",
      "model_name": "DescriptionStyleModel",
      "state": {
       "description_width": ""
      }
     },
     "4b698091fed847c08c0307c696ebf6d0": {
      "model_module": "@jupyter-widgets/controls",
      "model_module_version": "1.5.0",
      "model_name": "AccordionModel",
      "state": {
       "_titles": {
        "0": "autoScaler"
       },
       "children": [
        "IPY_MODEL_d1b2ee21ae7d4d31a4930461dbca09b8"
       ],
       "layout": "IPY_MODEL_712177039eef42e4ae12212b0367f7b7"
      }
     },
     "4b734aef838543358a5e106dc9bbb4ee": {
      "model_module": "@jupyter-widgets/controls",
      "model_module_version": "1.5.0",
      "model_name": "HBoxModel",
      "state": {
       "children": [
        "IPY_MODEL_c7f10709084e454ba09d97e312eb237f",
        "IPY_MODEL_6764a31af7ae4724be279afcc48f42da"
       ],
       "layout": "IPY_MODEL_8c41d7d73490408fba0ff61f0a643157"
      }
     },
     "4b75535a69dc4fd5a415a2a383e1ebe9": {
      "model_module": "@jupyter-widgets/base",
      "model_module_version": "1.2.0",
      "model_name": "LayoutModel",
      "state": {}
     },
     "4b77d7f3fd5d462680cf923624abea46": {
      "model_module": "@jupyter-widgets/base",
      "model_module_version": "1.2.0",
      "model_name": "LayoutModel",
      "state": {}
     },
     "4b7e13a4adfa42959d90a652e00e469f": {
      "model_module": "@jupyter-widgets/base",
      "model_module_version": "1.2.0",
      "model_name": "LayoutModel",
      "state": {}
     },
     "4b919e3c0ac241e78e238b30c3c26e79": {
      "model_module": "@jupyter-widgets/controls",
      "model_module_version": "1.5.0",
      "model_name": "HTMLModel",
      "state": {
       "layout": "IPY_MODEL_b4ed45830f484fba8f23392ccb18a6db",
       "style": "IPY_MODEL_21b6277847974185abd110fa99754d01",
       "value": "<b>targetUtilization:</b>"
      }
     },
     "4beb882d4d9c40e0b8149702b9f2f2f6": {
      "model_module": "@jupyter-widgets/base",
      "model_module_version": "1.2.0",
      "model_name": "LayoutModel",
      "state": {}
     },
     "4c2490fccb6d4eaeb7cf6dfd6ce61192": {
      "model_module": "@jupyter-widgets/controls",
      "model_module_version": "1.5.0",
      "model_name": "LabelModel",
      "state": {
       "layout": "IPY_MODEL_17c3f35720c2421db7ddf6b63b4ba083",
       "style": "IPY_MODEL_087f5f4342ec462c8576395e74fedbdc",
       "value": "2020-03-18T21:25:26.495620+00:00"
      }
     },
     "4c311e94e9da4516b65f553402bba65d": {
      "model_module": "@jupyter-widgets/controls",
      "model_module_version": "1.5.0",
      "model_name": "LabelModel",
      "state": {
       "layout": "IPY_MODEL_e9596b1e897b4be4b02b777bb34d475d",
       "style": "IPY_MODEL_16135329018342059b0fcb553acb4032",
       "value": "Run(Experiment: dlrts-train-on-local,\nId: dlrts-train-on-local_1583283740_f474032a,\nType: azureml.scriptrun,\nStatus: Completed)"
      }
     },
     "4c3562f080384cf8b521a3f9ce1fc736": {
      "model_module": "@jupyter-widgets/output",
      "model_module_version": "1.0.0",
      "model_name": "OutputModel",
      "state": {
       "layout": "IPY_MODEL_8d8b33351f7f4e10a5970cc75521fbb2"
      }
     },
     "4c6dc2a6a625415499c33e5080ae3a7b": {
      "model_module": "@jupyter-widgets/controls",
      "model_module_version": "1.5.0",
      "model_name": "HBoxModel",
      "state": {
       "children": [
        "IPY_MODEL_1d63c975e0244c1494030cbb5c62e785",
        "IPY_MODEL_b4870579f8934ceab80736fc7b5b74cf"
       ],
       "layout": "IPY_MODEL_7631e79f681c42c5a709ee99f6a8ebef"
      }
     },
     "4c84c4af4a564016bb376a4780c5a3e7": {
      "model_module": "@jupyter-widgets/controls",
      "model_module_version": "1.5.0",
      "model_name": "DescriptionStyleModel",
      "state": {
       "description_width": ""
      }
     },
     "4c86e0994d754a9796506cc7f815f077": {
      "model_module": "@jupyter-widgets/base",
      "model_module_version": "1.2.0",
      "model_name": "LayoutModel",
      "state": {}
     },
     "4c9003a241094a3d935b01cb14f034c6": {
      "model_module": "@jupyter-widgets/controls",
      "model_module_version": "1.5.0",
      "model_name": "DescriptionStyleModel",
      "state": {
       "description_width": ""
      }
     },
     "4cabd39bdecc4a5fadb4a8695e323292": {
      "model_module": "@jupyter-widgets/base",
      "model_module_version": "1.2.0",
      "model_name": "LayoutModel",
      "state": {}
     },
     "4caff36342a044a7950ee37e3306478b": {
      "model_module": "@jupyter-widgets/controls",
      "model_module_version": "1.5.0",
      "model_name": "HTMLModel",
      "state": {
       "layout": "IPY_MODEL_a0288ec5b4e14355b23128e3b9dd10a7",
       "style": "IPY_MODEL_a36f9ae9c3b24f6686eac2de876496db",
       "value": "<b>unpack:</b>"
      }
     },
     "4cc6142effcf46368ec5233b5240b669": {
      "model_module": "@jupyter-widgets/controls",
      "model_module_version": "1.5.0",
      "model_name": "DescriptionStyleModel",
      "state": {
       "description_width": ""
      }
     },
     "4cefd5fef8ea4e44946290841017264d": {
      "model_module": "@jupyter-widgets/base",
      "model_module_version": "1.2.0",
      "model_name": "LayoutModel",
      "state": {}
     },
     "4cfe6a6729dd4eed84bc0d3f8c15447d": {
      "model_module": "@jupyter-widgets/base",
      "model_module_version": "1.2.0",
      "model_name": "LayoutModel",
      "state": {}
     },
     "4d0c5f3d8cf04190925e4dcc109c321e": {
      "model_module": "@jupyter-widgets/controls",
      "model_module_version": "1.5.0",
      "model_name": "LabelModel",
      "state": {
       "layout": "IPY_MODEL_a0bdc998423144248b3ed093c89b910b",
       "style": "IPY_MODEL_519811429063441ea2fe3448b731a1cb",
       "value": "2020-03-04T01:05:12.753405+00:00"
      }
     },
     "4d1072ab7fa54043b1739aa02a066ce6": {
      "model_module": "@jupyter-widgets/controls",
      "model_module_version": "1.5.0",
      "model_name": "DescriptionStyleModel",
      "state": {
       "description_width": ""
      }
     },
     "4d226cdc512f418784c9208b210ea340": {
      "model_module": "@jupyter-widgets/controls",
      "model_module_version": "1.5.0",
      "model_name": "LabelModel",
      "state": {
       "layout": "IPY_MODEL_7938f5701f34407d8662b68820bb7318",
       "style": "IPY_MODEL_00beffc2bf76493eb089683a31f9dc51",
       "value": "https://github.com/microsoft/AI-Utilities.git"
      }
     },
     "4d506dfdf917486f860634a20342d5cd": {
      "model_module": "@jupyter-widgets/controls",
      "model_module_version": "1.5.0",
      "model_name": "DescriptionStyleModel",
      "state": {
       "description_width": ""
      }
     },
     "4d6008d6b1b9412e81eaa6476feea7bb": {
      "model_module": "@jupyter-widgets/base",
      "model_module_version": "1.2.0",
      "model_name": "LayoutModel",
      "state": {}
     },
     "4d7ebdf3d17245178f9dd72e2bcbfe0a": {
      "model_module": "@jupyter-widgets/base",
      "model_module_version": "1.2.0",
      "model_name": "LayoutModel",
      "state": {}
     },
     "4d87072d25b24508b43c5ea229fde915": {
      "model_module": "@jupyter-widgets/controls",
      "model_module_version": "1.5.0",
      "model_name": "HTMLModel",
      "state": {
       "layout": "IPY_MODEL_c5cebd076f3a4b9c806b74ceec673088",
       "style": "IPY_MODEL_52bc01ab0c1142b882c2819ecb0ddbb0",
       "value": "<b>updatedTime:</b>"
      }
     },
     "4d94abf227514a87b7003d6ec31d5f7c": {
      "model_module": "@jupyter-widgets/controls",
      "model_module_version": "1.5.0",
      "model_name": "LabelModel",
      "state": {
       "layout": "IPY_MODEL_4cfe6a6729dd4eed84bc0d3f8c15447d",
       "style": "IPY_MODEL_a8bf1641329740ab8c77e402bad51775",
       "value": "1003BFFD8BE61032"
      }
     },
     "4db35228d5f54ec5bed145b4a21a6edc": {
      "model_module": "@jupyter-widgets/controls",
      "model_module_version": "1.5.0",
      "model_name": "HTMLModel",
      "state": {
       "layout": "IPY_MODEL_28e1804fb52243c7ad414da95682dec6",
       "style": "IPY_MODEL_bdbf4bca13e44e28b6ecae931a23eb1c",
       "value": "<img src=\"https://raw.githubusercontent.com/microsoft/AI-Utilities/master/docs/app_insights_availability.png\">"
      }
     },
     "4dd97ebfb669463299854b893a73e247": {
      "model_module": "@jupyter-widgets/controls",
      "model_module_version": "1.5.0",
      "model_name": "LabelModel",
      "state": {
       "layout": "IPY_MODEL_5c450aeed80540509ac7c4fb8a28b69c",
       "style": "IPY_MODEL_9ceb2ceded4147a3a6c89e485b2aae13",
       "value": "https://github.com/microsoft/AI-Utilities.git"
      }
     },
     "4df24434de8f48e78afd137756ed1625": {
      "model_module": "@jupyter-widgets/controls",
      "model_module_version": "1.5.0",
      "model_name": "LabelModel",
      "state": {
       "layout": "IPY_MODEL_bc2149fdfed2477e8d7aa7d84721bca8",
       "style": "IPY_MODEL_094c89650693437fa10baf4fed0ee35f",
       "value": "1"
      }
     },
     "4df3dfde89584a0c82ab38fd349f3c58": {
      "model_module": "@jupyter-widgets/base",
      "model_module_version": "1.2.0",
      "model_name": "LayoutModel",
      "state": {}
     },
     "4e0a00dc3b154cb199c590b13c165fac": {
      "model_module": "@jupyter-widgets/controls",
      "model_module_version": "1.5.0",
      "model_name": "TextModel",
      "state": {
       "description": "deep_aks_location",
       "layout": "IPY_MODEL_8dde393393cd48629a06fcf4f5760e8c",
       "placeholder": "AKS Azure Region",
       "style": "IPY_MODEL_35922b1e7b9c451c9b70b0b020d2b36f",
       "value": "eastus"
      }
     },
     "4e326ebba64d4663bb00cd2593f3190e": {
      "model_module": "@jupyter-widgets/base",
      "model_module_version": "1.2.0",
      "model_name": "LayoutModel",
      "state": {}
     },
     "4e3f9c1004e14bff9b13426255afb2aa": {
      "model_module": "@jupyter-widgets/base",
      "model_module_version": "1.2.0",
      "model_name": "LayoutModel",
      "state": {}
     },
     "4e791584df63467fba6c1a541166fc68": {
      "model_module": "@jupyter-widgets/controls",
      "model_module_version": "1.5.0",
      "model_name": "HTMLModel",
      "state": {
       "layout": "IPY_MODEL_46583a1831d145f694488e9ba1d08672",
       "style": "IPY_MODEL_0d8305e5dd50493ea1c2a6fc1d3e9f17",
       "value": "<b>description:</b>"
      }
     },
     "4e79c1782ba8432fa42ff4c5f5e35994": {
      "model_module": "@jupyter-widgets/base",
      "model_module_version": "1.2.0",
      "model_name": "LayoutModel",
      "state": {}
     },
     "4eb984f238e8484cb87963a17ac969f0": {
      "model_module": "@jupyter-widgets/controls",
      "model_module_version": "1.5.0",
      "model_name": "HTMLModel",
      "state": {
       "layout": "IPY_MODEL_e8fe170edd5e4f38ab772f8865128759",
       "style": "IPY_MODEL_eef2e56682b9421a8a6b5e4ad4ce6b6d",
       "value": "<img src=\"https://raw.githubusercontent.com/microsoft/AI-Utilities/master/docs/app_insights_perf_dash.png\">"
      }
     },
     "4ebc066c0eeb4d7eba8dba05eb604251": {
      "model_module": "@jupyter-widgets/base",
      "model_module_version": "1.2.0",
      "model_name": "LayoutModel",
      "state": {}
     },
     "4f01e8a9141e48bfac3ad96ec461d57a": {
      "model_module": "@jupyter-widgets/base",
      "model_module_version": "1.2.0",
      "model_name": "LayoutModel",
      "state": {}
     },
     "4f07584fcac94a9bbc4ff0d7526dfaff": {
      "model_module": "@jupyter-widgets/controls",
      "model_module_version": "1.5.0",
      "model_name": "LabelModel",
      "state": {
       "layout": "IPY_MODEL_be56c2c9fd5247919d5ab303643d5a52",
       "style": "IPY_MODEL_48b333d707ae49348d0ae381fe565a7d",
       "value": "None"
      }
     },
     "4f0ac9d824f64ad89d67e7992b604b44": {
      "model_module": "@jupyter-widgets/base",
      "model_module_version": "1.2.0",
      "model_name": "LayoutModel",
      "state": {}
     },
     "4f74bd65647c40949dce13158fd2f668": {
      "model_module": "@jupyter-widgets/controls",
      "model_module_version": "1.5.0",
      "model_name": "VBoxModel",
      "state": {
       "children": [
        "IPY_MODEL_9b0d221503254c7595ea3ec1880694eb",
        "IPY_MODEL_001e321f0704499b80f4a4a5f416b35b",
        "IPY_MODEL_b415b6a31e584b2cad0b685789af2740",
        "IPY_MODEL_78c96babdf034df48a482e58ce5728e9",
        "IPY_MODEL_db9c8956a2f8456598b3e32d0fe32a53",
        "IPY_MODEL_fd211949a9084ddfbf28e1aa1e10c3ec",
        "IPY_MODEL_0f6d5e607fd64f46850d957177d019f4",
        "IPY_MODEL_b2f1c1a41137418db1ce24a6cb27d761",
        "IPY_MODEL_5a94ca6226674eeeab0fed828556cd5b",
        "IPY_MODEL_4726913eff1b4e068534000f267300b4",
        "IPY_MODEL_d83134e86535406294d4039399538517",
        "IPY_MODEL_1a39b56762fd444096de2ec3288af794",
        "IPY_MODEL_bca1d320950c499595fc190b9cf0a345",
        "IPY_MODEL_90c61e83d0d847d9ac6db0eb7b9c1c7d",
        "IPY_MODEL_fcd61ab68cd6498e8cbe54c4b309dccd",
        "IPY_MODEL_4107a5a229e54d71825e4198f7c599ca",
        "IPY_MODEL_6bbbfcfa8a7147dd993f956e745d95dc"
       ],
       "layout": "IPY_MODEL_794b50a7debe4221a9d3d0b8a37d2119"
      }
     },
     "4fb375e8ce3844e785d40de6bdf8a1d5": {
      "model_module": "@jupyter-widgets/base",
      "model_module_version": "1.2.0",
      "model_name": "LayoutModel",
      "state": {}
     },
     "4fbac8423ee5488d9b9b5c9514e68e98": {
      "model_module": "@jupyter-widgets/controls",
      "model_module_version": "1.5.0",
      "model_name": "VBoxModel",
      "state": {
       "children": [
        "IPY_MODEL_be286931a1f54f33b864fb5637bdac9c",
        "IPY_MODEL_2cd9ecda8f1d4e31bfa7d15258c4c217",
        "IPY_MODEL_efc53f97791b4dabbc6dd6e6f274b251"
       ],
       "layout": "IPY_MODEL_fc1579f9834f42179a643788b42ea462"
      }
     },
     "4fd18af9dd2d4a238da94abc27332241": {
      "model_module": "@jupyter-widgets/controls",
      "model_module_version": "1.5.0",
      "model_name": "DescriptionStyleModel",
      "state": {
       "description_width": ""
      }
     },
     "4fe282b3d15748e49a52579ef6794c6c": {
      "model_module": "@jupyter-widgets/controls",
      "model_module_version": "1.5.0",
      "model_name": "HTMLModel",
      "state": {
       "layout": "IPY_MODEL_bfbc65856c704b0e98c643c3b2973aef",
       "style": "IPY_MODEL_e6353b4544c64839be1e1d924b4ee295",
       "value": "<b>sampleInputDatasetId:</b>"
      }
     },
     "4fe3666b42334702b9ec12d70b79f239": {
      "model_module": "@jupyter-widgets/controls",
      "model_module_version": "1.5.0",
      "model_name": "DescriptionStyleModel",
      "state": {
       "description_width": ""
      }
     },
     "500592e5d8314c19bf19e1a72f35a76a": {
      "model_module": "@jupyter-widgets/controls",
      "model_module_version": "1.5.0",
      "model_name": "DescriptionStyleModel",
      "state": {
       "description_width": ""
      }
     },
     "5007e331e9f54dc39931e33ce4e86f17": {
      "model_module": "@jupyter-widgets/base",
      "model_module_version": "1.2.0",
      "model_name": "LayoutModel",
      "state": {}
     },
     "5065442fdc864d94a43d606cd4a189cf": {
      "model_module": "@jupyter-widgets/base",
      "model_module_version": "1.2.0",
      "model_name": "LayoutModel",
      "state": {}
     },
     "507e1bf9c7b14a0e90443f370669ae7e": {
      "model_module": "@jupyter-widgets/controls",
      "model_module_version": "1.5.0",
      "model_name": "HBoxModel",
      "state": {
       "children": [
        "IPY_MODEL_053821b34aea4bdf9995d037c1c1989b",
        "IPY_MODEL_000633679bcc42debd594774e9549afb"
       ],
       "layout": "IPY_MODEL_1e5f31c4151c41878653b6b2ee4215c1"
      }
     },
     "508457da786843bebb5cb6d9e3994def": {
      "model_module": "@jupyter-widgets/base",
      "model_module_version": "1.2.0",
      "model_name": "LayoutModel",
      "state": {}
     },
     "508bd567d5e440a4a549a8d972c28e74": {
      "model_module": "@jupyter-widgets/controls",
      "model_module_version": "1.5.0",
      "model_name": "LabelModel",
      "state": {
       "layout": "IPY_MODEL_a876e3e1df404257be76aa031fc3cf22",
       "style": "IPY_MODEL_9589434206a94b6a8b0063b22040d6fd",
       "value": "None"
      }
     },
     "5091150d6441450da8612d57821e6e03": {
      "model_module": "@jupyter-widgets/controls",
      "model_module_version": "1.5.0",
      "model_name": "HTMLModel",
      "state": {
       "layout": "IPY_MODEL_0ff585f8ad1c479f8c2c3951953b4866",
       "style": "IPY_MODEL_278f2812a05842aa99b640df9df96e7a",
       "value": "<img src=\"https://raw.githubusercontent.com/microsoft/AI-Utilities/master/docs/app_insights_perf_dash.png\">"
      }
     },
     "50a036c76398465dbe4d686a5663f600": {
      "model_module": "@jupyter-widgets/controls",
      "model_module_version": "1.5.0",
      "model_name": "DescriptionStyleModel",
      "state": {
       "description_width": ""
      }
     },
     "50a0e5e3e3034fdd8165997c40796873": {
      "model_module": "@jupyter-widgets/controls",
      "model_module_version": "1.5.0",
      "model_name": "HBoxModel",
      "state": {
       "children": [
        "IPY_MODEL_2400eddfe3ae44e8bbced21954f57730",
        "IPY_MODEL_e3aa8454b37a42718197fa8d5319ed42"
       ],
       "layout": "IPY_MODEL_f877cf12f8d741898db4f1662dd6543b"
      }
     },
     "50bbb7f45bb34eb3b8b76147b8630dcf": {
      "model_module": "@jupyter-widgets/controls",
      "model_module_version": "1.5.0",
      "model_name": "VBoxModel",
      "state": {
       "children": [
        "IPY_MODEL_f4eaa910b9e54831836d91ed5d544bbe"
       ],
       "layout": "IPY_MODEL_1d852570018447f2a6162b015a945d64"
      }
     },
     "50d41da340444a348313fc2b9f88cfe4": {
      "model_module": "@jupyter-widgets/base",
      "model_module_version": "1.2.0",
      "model_name": "LayoutModel",
      "state": {}
     },
     "50e4b169bba5496e8c4ab3d8d0304b84": {
      "model_module": "@jupyter-widgets/controls",
      "model_module_version": "1.5.0",
      "model_name": "DescriptionStyleModel",
      "state": {
       "description_width": "initial"
      }
     },
     "50f1430c429446378e79baebb6acb7aa": {
      "model_module": "@jupyter-widgets/base",
      "model_module_version": "1.2.0",
      "model_name": "LayoutModel",
      "state": {}
     },
     "50f3e57c07324f16a707e0c2e3b3594e": {
      "model_module": "@jupyter-widgets/base",
      "model_module_version": "1.2.0",
      "model_name": "LayoutModel",
      "state": {}
     },
     "50fa8a41984443df9f26a9c5d3837809": {
      "model_module": "@jupyter-widgets/base",
      "model_module_version": "1.2.0",
      "model_name": "LayoutModel",
      "state": {}
     },
     "5161813b639b4d95993f6f9889a79822": {
      "model_module": "@jupyter-widgets/controls",
      "model_module_version": "1.5.0",
      "model_name": "DescriptionStyleModel",
      "state": {
       "description_width": ""
      }
     },
     "517f74f518be491098c712a443305ee8": {
      "model_module": "@jupyter-widgets/controls",
      "model_module_version": "1.5.0",
      "model_name": "HTMLModel",
      "state": {
       "layout": "IPY_MODEL_9030a357d0b64b5a91e6d2b5470ca5de",
       "style": "IPY_MODEL_1b361ef154a747f58b8c52dc9784a706",
       "value": "<b>failureThreshold:</b>"
      }
     },
     "5187676e35b3420488763cd7621f29c6": {
      "model_module": "@jupyter-widgets/controls",
      "model_module_version": "1.5.0",
      "model_name": "TextModel",
      "state": {
       "description": "image_name",
       "layout": "IPY_MODEL_646b30e294b74d2a8c779394c6c4c053",
       "placeholder": "Docker Container Image Name",
       "style": "IPY_MODEL_7d385d95a7f745eca8a294d91d45be22",
       "value": "mymlimage2"
      }
     },
     "518d3d4a78bd40ab801dfe6777e9d981": {
      "model_module": "@jupyter-widgets/controls",
      "model_module_version": "1.5.0",
      "model_name": "HTMLModel",
      "state": {
       "layout": "IPY_MODEL_c389fe3af3514aca9600e799ac476593",
       "style": "IPY_MODEL_7e2d8db0a71c49e78ebb1a5f6d3d6c30",
       "value": "<b>spark:</b>"
      }
     },
     "518f972b6aa74ed994acee1d9d34a47b": {
      "model_module": "@jupyter-widgets/controls",
      "model_module_version": "1.5.0",
      "model_name": "DescriptionStyleModel",
      "state": {
       "description_width": ""
      }
     },
     "519811429063441ea2fe3448b731a1cb": {
      "model_module": "@jupyter-widgets/controls",
      "model_module_version": "1.5.0",
      "model_name": "DescriptionStyleModel",
      "state": {
       "description_width": ""
      }
     },
     "51b42afc2e8e47baaa04db292171b4e9": {
      "model_module": "@jupyter-widgets/controls",
      "model_module_version": "1.5.0",
      "model_name": "DescriptionStyleModel",
      "state": {
       "description_width": "initial"
      }
     },
     "51c4662728234b7fb9e30893b8d996f9": {
      "model_module": "@jupyter-widgets/controls",
      "model_module_version": "1.5.0",
      "model_name": "DescriptionStyleModel",
      "state": {
       "description_width": ""
      }
     },
     "51f81ac176774eb4be90c5973087a4be": {
      "model_module": "@jupyter-widgets/controls",
      "model_module_version": "1.5.0",
      "model_name": "HBoxModel",
      "state": {
       "children": [
        "IPY_MODEL_a469dc74f7944b95b02b2605666a035b",
        "IPY_MODEL_b00bef45508f4feb8b0ea63fa86acb4b"
       ],
       "layout": "IPY_MODEL_2f1085efa7244bf4823a2e82a1985b2f"
      }
     },
     "520c0fdbc0224976ad06a2888cd442a7": {
      "model_module": "@jupyter-widgets/base",
      "model_module_version": "1.2.0",
      "model_name": "LayoutModel",
      "state": {}
     },
     "523cae4ccde94a9f98f9491b0158e730": {
      "model_module": "@jupyter-widgets/controls",
      "model_module_version": "1.5.0",
      "model_name": "DescriptionStyleModel",
      "state": {
       "description_width": ""
      }
     },
     "524dfbafd3554ef1b236efcfa7f18238": {
      "model_module": "@jupyter-widgets/controls",
      "model_module_version": "1.5.0",
      "model_name": "HBoxModel",
      "state": {
       "children": [
        "IPY_MODEL_12bafa484024456299a6ae1928354406",
        "IPY_MODEL_1af7c15204e84075a9ac26c98bf0bebe"
       ],
       "layout": "IPY_MODEL_af25b77d97714b3d8a717dbec56606ed"
      }
     },
     "52593d636c69426997d8d67c11ccf2bc": {
      "model_module": "@jupyter-widgets/controls",
      "model_module_version": "1.5.0",
      "model_name": "HTMLModel",
      "state": {
       "layout": "IPY_MODEL_b44311bb52d74c9586a1b74cb21711db",
       "style": "IPY_MODEL_e44516d340734e27b0f8a6199836c850",
       "value": "<img src=\"https://raw.githubusercontent.com/microsoft/AI-Utilities/master/docs/studio.png\">"
      }
     },
     "525cb4280fbe4d829c396a3d8368c657": {
      "model_module": "@jupyter-widgets/base",
      "model_module_version": "1.2.0",
      "model_name": "LayoutModel",
      "state": {}
     },
     "525ddaa6efd743e096faae183c5b81a3": {
      "model_module": "@jupyter-widgets/controls",
      "model_module_version": "1.5.0",
      "model_name": "DescriptionStyleModel",
      "state": {
       "description_width": ""
      }
     },
     "52630919704644ac8f46a8d0f4924255": {
      "model_module": "@jupyter-widgets/base",
      "model_module_version": "1.2.0",
      "model_name": "LayoutModel",
      "state": {}
     },
     "526d3290d4f24fa099ad7ea035994331": {
      "model_module": "@jupyter-widgets/base",
      "model_module_version": "1.2.0",
      "model_name": "LayoutModel",
      "state": {}
     },
     "5272123d5ef74894bca2615bfc3c7d5d": {
      "model_module": "@jupyter-widgets/controls",
      "model_module_version": "1.5.0",
      "model_name": "LabelModel",
      "state": {
       "layout": "IPY_MODEL_7d4c21cc8cbf4d64b6adc37583844769",
       "style": "IPY_MODEL_f6bd6c3b9e7e4defbaf239edd8c103a2",
       "value": "resnet_model_2:4"
      }
     },
     "529a9389b8f04c84b448ddb19d47e522": {
      "model_module": "@jupyter-widgets/base",
      "model_module_version": "1.2.0",
      "model_name": "LayoutModel",
      "state": {}
     },
     "52a417af3b8d453992103064c75a3bb7": {
      "model_module": "@jupyter-widgets/controls",
      "model_module_version": "1.5.0",
      "model_name": "AccordionModel",
      "state": {
       "_titles": {
        "0": "Main",
        "1": "Availability",
        "2": "Performance",
        "3": "Load Testing"
       },
       "children": [
        "IPY_MODEL_ee86929b932e42a28738d98aa82189a5",
        "IPY_MODEL_b534b58194814153bc04411ee0e1ea64",
        "IPY_MODEL_4eb984f238e8484cb87963a17ac969f0",
        "IPY_MODEL_a1d4ebe6654844b39a7bb3562ddf6e81"
       ],
       "layout": "IPY_MODEL_c6655005f27a4e8d852e1170566a69b6"
      }
     },
     "52bc01ab0c1142b882c2819ecb0ddbb0": {
      "model_module": "@jupyter-widgets/controls",
      "model_module_version": "1.5.0",
      "model_name": "DescriptionStyleModel",
      "state": {
       "description_width": ""
      }
     },
     "52be557b880c4c94a0c27d63270b10b1": {
      "model_module": "@jupyter-widgets/controls",
      "model_module_version": "1.5.0",
      "model_name": "LabelModel",
      "state": {
       "layout": "IPY_MODEL_7946b0abd4d84c06a3d1bcde89bdcfa3",
       "style": "IPY_MODEL_d086a173a44347eba8359af18af866d5",
       "value": "aml://asset/5ab7f6be706a4cb8a658fa05810f9f97"
      }
     },
     "52d962f47d2b4743b79db871ef94dfb2": {
      "model_module": "@jupyter-widgets/controls",
      "model_module_version": "1.5.0",
      "model_name": "DescriptionStyleModel",
      "state": {
       "description_width": ""
      }
     },
     "52f4120f006b4e23b4a88459bfd57434": {
      "model_module": "@jupyter-widgets/controls",
      "model_module_version": "1.5.0",
      "model_name": "LabelModel",
      "state": {
       "layout": "IPY_MODEL_20d07447a5e84ae98ebaeb739faa3f1c",
       "style": "IPY_MODEL_16ce5bfd42a1429abda1bd15a218f500",
       "value": "70"
      }
     },
     "52f449637c7a45beac7c02383414c9c2": {
      "model_module": "@jupyter-widgets/base",
      "model_module_version": "1.2.0",
      "model_name": "LayoutModel",
      "state": {}
     },
     "52f78ce559c241b0b55ee31ca406127f": {
      "model_module": "@jupyter-widgets/controls",
      "model_module_version": "1.5.0",
      "model_name": "DescriptionStyleModel",
      "state": {
       "description_width": ""
      }
     },
     "52fa10a869334e6a805c39b28334921f": {
      "model_module": "@jupyter-widgets/base",
      "model_module_version": "1.2.0",
      "model_name": "LayoutModel",
      "state": {}
     },
     "532668394c1c44608abf032924d8a3de": {
      "model_module": "@jupyter-widgets/controls",
      "model_module_version": "1.5.0",
      "model_name": "LabelModel",
      "state": {
       "layout": "IPY_MODEL_737ce00a018f4309a2f07a1c8f32ec24",
       "style": "IPY_MODEL_05248d09a1c6415f8a421f453cb0e469",
       "value": "None"
      }
     },
     "5326f886ef094c9ba890c4d4e206c04b": {
      "model_module": "@jupyter-widgets/controls",
      "model_module_version": "1.5.0",
      "model_name": "DescriptionStyleModel",
      "state": {
       "description_width": ""
      }
     },
     "53470b14088643ccb275b5dba34870bf": {
      "model_module": "@jupyter-widgets/base",
      "model_module_version": "1.2.0",
      "model_name": "LayoutModel",
      "state": {}
     },
     "534866dfa4804b4fa68583418bbfca3f": {
      "model_module": "@jupyter-widgets/controls",
      "model_module_version": "1.5.0",
      "model_name": "HBoxModel",
      "state": {
       "children": [
        "IPY_MODEL_4a569614de27491383574ac542982528",
        "IPY_MODEL_6136a49fcc2f4237a306852f798e3427"
       ],
       "layout": "IPY_MODEL_f13710e6b6dc4d7293adf36dd1ec7942"
      }
     },
     "53508be39b3748bda84f67394d600e4b": {
      "model_module": "@jupyter-widgets/controls",
      "model_module_version": "1.5.0",
      "model_name": "DescriptionStyleModel",
      "state": {
       "description_width": ""
      }
     },
     "5350bc598f554ba5bdb2ac0253096604": {
      "model_module": "@jupyter-widgets/controls",
      "model_module_version": "1.5.0",
      "model_name": "DescriptionStyleModel",
      "state": {
       "description_width": ""
      }
     },
     "536349b113d444ff99bb1847faf108d5": {
      "model_module": "@jupyter-widgets/controls",
      "model_module_version": "1.5.0",
      "model_name": "DescriptionStyleModel",
      "state": {
       "description_width": ""
      }
     },
     "5363e8c7dc4048f6961ff65130df6cf2": {
      "model_module": "@jupyter-widgets/controls",
      "model_module_version": "1.5.0",
      "model_name": "TextModel",
      "state": {
       "description": "aks_service_name",
       "layout": "IPY_MODEL_4275157cb02d412492894841d092342b",
       "placeholder": "AKS Service Name",
       "style": "IPY_MODEL_c7c104853b14407e927b1f8a35c659c5",
       "value": "aksservice2"
      }
     },
     "53752d43d2ab4a66b3e8fbdc5f6f4724": {
      "model_module": "@jupyter-widgets/controls",
      "model_module_version": "1.5.0",
      "model_name": "DescriptionStyleModel",
      "state": {
       "description_width": ""
      }
     },
     "53c74cbbcebf41bd8360692af2cb213b": {
      "model_module": "@jupyter-widgets/base",
      "model_module_version": "1.2.0",
      "model_name": "LayoutModel",
      "state": {}
     },
     "53ce3842fef34e8481e2719c99e3a20b": {
      "model_module": "@jupyter-widgets/base",
      "model_module_version": "1.2.0",
      "model_name": "LayoutModel",
      "state": {}
     },
     "53d22c915cc64a06bfa9a18e97485514": {
      "model_module": "@jupyter-widgets/controls",
      "model_module_version": "1.5.0",
      "model_name": "LabelModel",
      "state": {
       "layout": "IPY_MODEL_951399e33ff344c1a40245fb3479f575",
       "style": "IPY_MODEL_badd3776f0364f02a652eba09c33ed97",
       "value": "{'userManagedDependencies': False, 'interpreterPath': 'python', 'condaDependenciesFile': None, 'baseCondaEnvironment': None, 'condaDependencies': {'channels': ['anaconda', 'conda-forge'], 'dependencies': ['python=3.6.2', {'pip': ['azureml-defaults', 'azureml-contrib-services', 'toolz==0.9.0', 'git+https://github.com/microsoft/AI-Utilities.git@dciborow/no-cli']}, 'keras=2.3.1', 'pillow=7.0.0'], 'name': 'azureml_8e81e2311131822017046513ec68b4f1'}}"
      }
     },
     "5403305c8f1c481f82a0e1da1a74d7ad": {
      "model_module": "@jupyter-widgets/controls",
      "model_module_version": "1.5.0",
      "model_name": "DescriptionStyleModel",
      "state": {
       "description_width": ""
      }
     },
     "5444a3decde840f3ac8463bd8d09d7e0": {
      "model_module": "@jupyter-widgets/base",
      "model_module_version": "1.2.0",
      "model_name": "LayoutModel",
      "state": {}
     },
     "5469d469482b4db289cc4e510cc7f821": {
      "model_module": "@jupyter-widgets/base",
      "model_module_version": "1.2.0",
      "model_name": "LayoutModel",
      "state": {}
     },
     "5479da1440314d3dbdd75005f6381ec9": {
      "model_module": "@jupyter-widgets/controls",
      "model_module_version": "1.5.0",
      "model_name": "HBoxModel",
      "state": {
       "children": [
        "IPY_MODEL_c26b7ff51715404a9786ff7f112297bb",
        "IPY_MODEL_0f6305f247d34e5baf7be2a365ec6ae0"
       ],
       "layout": "IPY_MODEL_15662e2bc5964976a320eafa3ae47227"
      }
     },
     "5499392ad7a040b5b88a2f8c88887e64": {
      "model_module": "@jupyter-widgets/controls",
      "model_module_version": "1.5.0",
      "model_name": "DescriptionStyleModel",
      "state": {
       "description_width": ""
      }
     },
     "549ce1beb9f64a3fb32e5cd5b1765cfe": {
      "model_module": "@jupyter-widgets/controls",
      "model_module_version": "1.5.0",
      "model_name": "HTMLModel",
      "state": {
       "layout": "IPY_MODEL_1f953cbb890840c4b63e6cb17570e0ec",
       "style": "IPY_MODEL_4249b93ddf0b42439132acf1ef589f8e",
       "value": "<b>eventHubEnabled:</b>"
      }
     },
     "54b7ec52360a449292f44da1d3a1de22": {
      "model_module": "@jupyter-widgets/controls",
      "model_module_version": "1.5.0",
      "model_name": "HTMLModel",
      "state": {
       "layout": "IPY_MODEL_d762017711e24e86bcb3d5deaed825ff",
       "style": "IPY_MODEL_903bc991d5074a6c9c0bc44b6bf133f4",
       "value": "<b>workspaceName:</b>"
      }
     },
     "54e8224a66654f0eae4137ff218edfe8": {
      "model_module": "@jupyter-widgets/controls",
      "model_module_version": "1.5.0",
      "model_name": "DescriptionStyleModel",
      "state": {
       "description_width": "initial"
      }
     },
     "54f9f0ff0fd7450d92eaf1740c36711b": {
      "model_module": "@jupyter-widgets/controls",
      "model_module_version": "1.5.0",
      "model_name": "HTMLModel",
      "state": {
       "layout": "IPY_MODEL_eba72125ac57463a9accc2a8d7ce2dda",
       "style": "IPY_MODEL_20984a2ffaca47f1a2cb419740cd0f97",
       "value": "<b>userName:</b>"
      }
     },
     "552ae78396f8483c83372e06368666f4": {
      "model_module": "@jupyter-widgets/controls",
      "model_module_version": "1.5.0",
      "model_name": "DescriptionStyleModel",
      "state": {
       "description_width": ""
      }
     },
     "553870befa4549cb9172d9f188fda63c": {
      "model_module": "@jupyter-widgets/base",
      "model_module_version": "1.2.0",
      "model_name": "LayoutModel",
      "state": {}
     },
     "55393c40022646b1932224deabe432c6": {
      "model_module": "@jupyter-widgets/controls",
      "model_module_version": "1.5.0",
      "model_name": "VBoxModel",
      "state": {
       "children": [
        "IPY_MODEL_6a8a6200faf040edab27fe054952cc34",
        "IPY_MODEL_a7f3ae5daacd436682fd95e9f82e6c21",
        "IPY_MODEL_507e1bf9c7b14a0e90443f370669ae7e",
        "IPY_MODEL_6c54d68dbce24bff97390bd5944e65a4",
        "IPY_MODEL_c520ccbba2094d9994ae96080c81425e",
        "IPY_MODEL_09f0cce7d6134820873dfe6531396ed7",
        "IPY_MODEL_c9a9f4ffc6204fbfb043714477dd9972"
       ],
       "layout": "IPY_MODEL_29a73d139ab6435196fefd697dad828a"
      }
     },
     "554e5ed0719a4151a9f72e68fba6c6e7": {
      "model_module": "@jupyter-widgets/controls",
      "model_module_version": "1.5.0",
      "model_name": "DescriptionStyleModel",
      "state": {
       "description_width": ""
      }
     },
     "555c9772c160402692ed5702a4b9a70d": {
      "model_module": "@jupyter-widgets/base",
      "model_module_version": "1.2.0",
      "model_name": "LayoutModel",
      "state": {
       "width": "50%"
      }
     },
     "556afd0918884f6891e80e0de05d6a28": {
      "model_module": "@jupyter-widgets/controls",
      "model_module_version": "1.5.0",
      "model_name": "DescriptionStyleModel",
      "state": {
       "description_width": ""
      }
     },
     "559b5a78e8074cd18070ca9bf4d95393": {
      "model_module": "@jupyter-widgets/controls",
      "model_module_version": "1.5.0",
      "model_name": "HTMLModel",
      "state": {
       "layout": "IPY_MODEL_75612d141aaa4793b93c8ce6bc6f22ca",
       "style": "IPY_MODEL_bbb30b6294e54034b8d6c90574e8cf1c",
       "value": "<b>state:</b>"
      }
     },
     "55a35d1ffd9c41229e7ea736d3b7ce2b": {
      "model_module": "@jupyter-widgets/controls",
      "model_module_version": "1.5.0",
      "model_name": "HTMLModel",
      "state": {
       "layout": "IPY_MODEL_847c6d38c6a14e9293dabbcc8f81243c",
       "style": "IPY_MODEL_9078931fb9f8490a97cb21cb13620f92",
       "value": "<b>python:</b>"
      }
     },
     "55abe56ef6b24064bafc3841e034c003": {
      "model_module": "@jupyter-widgets/controls",
      "model_module_version": "1.5.0",
      "model_name": "DescriptionStyleModel",
      "state": {
       "description_width": ""
      }
     },
     "55aeed11507e4241b4a57f0cf271c8d0": {
      "model_module": "@jupyter-widgets/controls",
      "model_module_version": "1.5.0",
      "model_name": "DescriptionStyleModel",
      "state": {
       "description_width": ""
      }
     },
     "55c67d3d102c4fc39ab99e8447073693": {
      "model_module": "@jupyter-widgets/base",
      "model_module_version": "1.2.0",
      "model_name": "LayoutModel",
      "state": {}
     },
     "55dc5c2e03c240b08dea4023d5abb5a1": {
      "model_module": "@jupyter-widgets/base",
      "model_module_version": "1.2.0",
      "model_name": "LayoutModel",
      "state": {}
     },
     "55e1a9e0c81f4c598a956d05e7939865": {
      "model_module": "@jupyter-widgets/base",
      "model_module_version": "1.2.0",
      "model_name": "LayoutModel",
      "state": {}
     },
     "55fbf081f6ec422ca723fd10b48f6fbd": {
      "model_module": "@jupyter-widgets/base",
      "model_module_version": "1.2.0",
      "model_name": "LayoutModel",
      "state": {}
     },
     "560569542ed14df68ff349bbf94ca249": {
      "model_module": "@jupyter-widgets/controls",
      "model_module_version": "1.5.0",
      "model_name": "DescriptionStyleModel",
      "state": {
       "description_width": ""
      }
     },
     "56059d442639472a9be8acd6137f2b45": {
      "model_module": "@jupyter-widgets/controls",
      "model_module_version": "1.5.0",
      "model_name": "DescriptionStyleModel",
      "state": {
       "description_width": ""
      }
     },
     "56296c3dfee44cd1afba44dc532dd043": {
      "model_module": "@jupyter-widgets/controls",
      "model_module_version": "1.5.0",
      "model_name": "HTMLModel",
      "state": {
       "layout": "IPY_MODEL_497fd5064acf4f49a5692bce9f8fa81f",
       "style": "IPY_MODEL_3e38e42bd5e84cdab3c35b474557980d",
       "value": "<b>userIss:</b>"
      }
     },
     "567c889721a64e4f9fc61431bc39992b": {
      "model_module": "@jupyter-widgets/controls",
      "model_module_version": "1.5.0",
      "model_name": "HBoxModel",
      "state": {
       "children": [
        "IPY_MODEL_a3761bac22924bd6926a6349f3c62c4e",
        "IPY_MODEL_00c16f1ff11247e8bcd04e3ec678499c"
       ],
       "layout": "IPY_MODEL_08da8f13822a41738eb471cd18f1d105"
      }
     },
     "56933ed55aec468f9df21b810f4aef9e": {
      "model_module": "@jupyter-widgets/base",
      "model_module_version": "1.2.0",
      "model_name": "LayoutModel",
      "state": {}
     },
     "569e44dae3334d9ea7b96da63c650072": {
      "model_module": "@jupyter-widgets/controls",
      "model_module_version": "1.5.0",
      "model_name": "LabelModel",
      "state": {
       "layout": "IPY_MODEL_55e1a9e0c81f4c598a956d05e7939865",
       "style": "IPY_MODEL_94db1f5efc6f4a718d510b94393d1f60",
       "value": "e6cc2e17-5968-49e6-bb8f-9fb978a0d450"
      }
     },
     "56b4bf16d98c481f9cb2eed425335748": {
      "model_module": "@jupyter-widgets/controls",
      "model_module_version": "1.5.0",
      "model_name": "ProgressStyleModel",
      "state": {
       "description_width": ""
      }
     },
     "56baaf6f11e3487b8803425503d6360c": {
      "model_module": "@jupyter-widgets/controls",
      "model_module_version": "1.5.0",
      "model_name": "AccordionModel",
      "state": {
       "_titles": {
        "0": "createdBy"
       },
       "children": [
        "IPY_MODEL_332e58187b2344de831187914e6ea10c"
       ],
       "layout": "IPY_MODEL_99ea66a3199a433698fee66597a93e53"
      }
     },
     "56f37b39a94141b59f63e57b44135dfd": {
      "model_module": "@jupyter-widgets/controls",
      "model_module_version": "1.5.0",
      "model_name": "ButtonModel",
      "state": {
       "button_style": "success",
       "description": "Complete, rerun?",
       "layout": "IPY_MODEL_6669264998d1412bb68985ef58b25337",
       "style": "IPY_MODEL_49aa2c75c1b048388051ec0b535d6094"
      }
     },
     "570ab56cec96425da46f50c3cbcef19f": {
      "model_module": "@jupyter-widgets/base",
      "model_module_version": "1.2.0",
      "model_name": "LayoutModel",
      "state": {}
     },
     "5718bd0ad12e4782b7e536f93dfa816b": {
      "model_module": "@jupyter-widgets/base",
      "model_module_version": "1.2.0",
      "model_name": "LayoutModel",
      "state": {}
     },
     "578c5660a32d4b5990f0b382456c4dec": {
      "model_module": "@jupyter-widgets/controls",
      "model_module_version": "1.5.0",
      "model_name": "DescriptionStyleModel",
      "state": {
       "description_width": ""
      }
     },
     "579f6d82f1144ff4b4eff53da0b1c967": {
      "model_module": "@jupyter-widgets/controls",
      "model_module_version": "1.5.0",
      "model_name": "DescriptionStyleModel",
      "state": {
       "description_width": ""
      }
     },
     "57a58109ba7c46d9bfe7a39a3b66dd5f": {
      "model_module": "@jupyter-widgets/controls",
      "model_module_version": "1.5.0",
      "model_name": "HTMLModel",
      "state": {
       "layout": "IPY_MODEL_6e242ae4978c44b7abe411fc8fc77625",
       "style": "IPY_MODEL_d7a1713aaf4847ebb0b9a87a46f0c552",
       "value": "<b>storageEnabled:</b>"
      }
     },
     "57c28b037445404eb27230213385bc12": {
      "model_module": "@jupyter-widgets/controls",
      "model_module_version": "1.5.0",
      "model_name": "VBoxModel",
      "state": {
       "children": [
        "IPY_MODEL_4f74bd65647c40949dce13158fd2f668"
       ],
       "layout": "IPY_MODEL_26d0180444d44811bfb17165baf20295"
      }
     },
     "57eb6ac2fcdb4f4f9cb044431b7983d4": {
      "model_module": "@jupyter-widgets/base",
      "model_module_version": "1.2.0",
      "model_name": "LayoutModel",
      "state": {}
     },
     "5810d818209d462fa303ada5279c720b": {
      "model_module": "@jupyter-widgets/controls",
      "model_module_version": "1.5.0",
      "model_name": "HBoxModel",
      "state": {
       "children": [
        "IPY_MODEL_56296c3dfee44cd1afba44dc532dd043",
        "IPY_MODEL_03a93df5911141f49356102665afcccb"
       ],
       "layout": "IPY_MODEL_68b452de0d6b44f6b4ab456de4568e1e"
      }
     },
     "5816206599a34dd5922738c606cad691": {
      "model_module": "@jupyter-widgets/controls",
      "model_module_version": "1.5.0",
      "model_name": "HTMLModel",
      "state": {
       "layout": "IPY_MODEL_8719e097c4a04bde81880126bff88d56",
       "style": "IPY_MODEL_bc985d6452ff401fa4eb3c4e0d4c09bf",
       "value": "<b>userObjectId:</b>"
      }
     },
     "58350d7113b04985be3eeca386b6c3f1": {
      "model_module": "@jupyter-widgets/controls",
      "model_module_version": "1.5.0",
      "model_name": "ButtonStyleModel",
      "state": {}
     },
     "583a38d4bdfa4558886a219be6d70774": {
      "model_module": "@jupyter-widgets/controls",
      "model_module_version": "1.5.0",
      "model_name": "HTMLModel",
      "state": {
       "layout": "IPY_MODEL_d4fc21d245724c5597141adf4689adcf",
       "style": "IPY_MODEL_3b972901eb0d4deb96a8444f96f05a2d",
       "value": "<b>autoscaleEnabled:</b>"
      }
     },
     "584a8a2211ab45e8b543b9e98b5348e1": {
      "model_module": "@jupyter-widgets/base",
      "model_module_version": "1.2.0",
      "model_name": "LayoutModel",
      "state": {}
     },
     "584a9c84494f4eb78cb6e1e48b4ba044": {
      "model_module": "@jupyter-widgets/controls",
      "model_module_version": "1.5.0",
      "model_name": "LabelModel",
      "state": {
       "layout": "IPY_MODEL_0c2f1d56be5d4f89a9b7bfcf82d2ad7a",
       "style": "IPY_MODEL_e5e796ba57eb4acd9b3e6f360b6a3527",
       "value": "None"
      }
     },
     "58624380598c4f28bd637ab2214d1370": {
      "model_module": "@jupyter-widgets/controls",
      "model_module_version": "1.5.0",
      "model_name": "AccordionModel",
      "state": {
       "_titles": {
        "0": "properties"
       },
       "children": [
        "IPY_MODEL_eb99f1bad0464706a1947d7ded2a1aa8"
       ],
       "layout": "IPY_MODEL_ee42893c543d4e49a391ed61f17ccda4"
      }
     },
     "58630debce8b4974aad0f113afccfb6b": {
      "model_module": "@jupyter-widgets/controls",
      "model_module_version": "1.5.0",
      "model_name": "DescriptionStyleModel",
      "state": {
       "description_width": ""
      }
     },
     "588e1abccde54aeea1878c98bc25075d": {
      "model_module": "@jupyter-widgets/controls",
      "model_module_version": "1.5.0",
      "model_name": "TextModel",
      "state": {
       "description": "aks_name",
       "layout": "IPY_MODEL_26e1d25d6818470abff4ab50ff1b7a51",
       "placeholder": "AKS Cluster Name",
       "style": "IPY_MODEL_e349f4dc109f4120be87d09fc801dbdd",
       "value": "akscluster2"
      }
     },
     "58ae3092becc442ab43567ad50b2d9cc": {
      "model_module": "@jupyter-widgets/controls",
      "model_module_version": "1.5.0",
      "model_name": "HTMLModel",
      "state": {
       "layout": "IPY_MODEL_53c74cbbcebf41bd8360692af2cb213b",
       "style": "IPY_MODEL_f159f38006934035a5283b5be0f5866e",
       "value": "<b>databricks:</b>"
      }
     },
     "58c6a08e10e84efdbb7e0e7539f37c7b": {
      "model_module": "@jupyter-widgets/controls",
      "model_module_version": "1.5.0",
      "model_name": "DescriptionStyleModel",
      "state": {
       "description_width": ""
      }
     },
     "58e4bad3bc604a5a977c6501a5c34d5c": {
      "model_module": "@jupyter-widgets/controls",
      "model_module_version": "1.5.0",
      "model_name": "HBoxModel",
      "state": {
       "children": [
        "IPY_MODEL_3612ef8eea464566bb4e8ee0ea9a6dea",
        "IPY_MODEL_dbda7e02129d4fd7bf9cdc916149609e"
       ],
       "layout": "IPY_MODEL_787c8fa27d774620ba8b8a7f02f24cce"
      }
     },
     "58f1cc9d8585405f9b6ccd6238f77cf1": {
      "model_module": "@jupyter-widgets/controls",
      "model_module_version": "1.5.0",
      "model_name": "DescriptionStyleModel",
      "state": {
       "description_width": ""
      }
     },
     "58f2625ea2b049be98c94a522516700d": {
      "model_module": "@jupyter-widgets/controls",
      "model_module_version": "1.5.0",
      "model_name": "HTMLModel",
      "state": {
       "layout": "IPY_MODEL_ca3cd8dad16e45379b6cc7535d39d55d",
       "style": "IPY_MODEL_18873d53bcc34d6593e872326b3cb7f2",
       "value": "<img src=\"https://raw.githubusercontent.com/microsoft/AI-Utilities/master/docs/app_insights_1.png\">"
      }
     },
     "5909dac7f32f4bb599bd0187c8148d0c": {
      "model_module": "@jupyter-widgets/controls",
      "model_module_version": "1.5.0",
      "model_name": "DescriptionStyleModel",
      "state": {
       "description_width": ""
      }
     },
     "5922156add6945d29e97c5cd847a11d6": {
      "model_module": "@jupyter-widgets/controls",
      "model_module_version": "1.5.0",
      "model_name": "DescriptionStyleModel",
      "state": {
       "description_width": ""
      }
     },
     "5923b062b79342b6af835e5e978fc7d5": {
      "model_module": "@jupyter-widgets/controls",
      "model_module_version": "1.5.0",
      "model_name": "HBoxModel",
      "state": {
       "children": [
        "IPY_MODEL_ae4169548ca24672813eef4fdc53c0a2",
        "IPY_MODEL_138aaf6f4bc843cd9005e3f908c6fb65"
       ],
       "layout": "IPY_MODEL_c1d0d4ea121c49b5a27b378eae1eab17"
      }
     },
     "59395506907f467cac66a4cf74fb4a82": {
      "model_module": "@jupyter-widgets/base",
      "model_module_version": "1.2.0",
      "model_name": "LayoutModel",
      "state": {}
     },
     "5991d68533cc4c73abb68cecf7ac5c2b": {
      "model_module": "@jupyter-widgets/controls",
      "model_module_version": "1.5.0",
      "model_name": "DescriptionStyleModel",
      "state": {
       "description_width": ""
      }
     },
     "59a5d97c16e04bf0a522f7a4300d9d25": {
      "model_module": "@jupyter-widgets/controls",
      "model_module_version": "1.5.0",
      "model_name": "HTMLModel",
      "state": {
       "layout": "IPY_MODEL_91b38cb1be0f4585ad8bfc7779450319",
       "style": "IPY_MODEL_060e76da3d0b45f7bec8c5070fb43dbe",
       "value": "<b>name:</b>"
      }
     },
     "59a960e717ec4d0bb4d9f3625770e883": {
      "model_module": "@jupyter-widgets/base",
      "model_module_version": "1.2.0",
      "model_name": "LayoutModel",
      "state": {}
     },
     "59b9087797d84c579d05d8ac22627d69": {
      "model_module": "@jupyter-widgets/controls",
      "model_module_version": "1.5.0",
      "model_name": "DescriptionStyleModel",
      "state": {
       "description_width": "initial"
      }
     },
     "59c3d02912194010b1e6e8e3ef6a187f": {
      "model_module": "@jupyter-widgets/controls",
      "model_module_version": "1.5.0",
      "model_name": "DescriptionStyleModel",
      "state": {
       "description_width": ""
      }
     },
     "59e3850222484b2db4011e5b3d761ec4": {
      "model_module": "@jupyter-widgets/controls",
      "model_module_version": "1.5.0",
      "model_name": "LabelModel",
      "state": {
       "layout": "IPY_MODEL_71054fd9fe4b4ebc9bec8f47b70035b4",
       "style": "IPY_MODEL_ec056d71c01d4c05826023cb883485ea",
       "value": "None"
      }
     },
     "59f73f31b46e49019296112f063be7dc": {
      "model_module": "@jupyter-widgets/base",
      "model_module_version": "1.2.0",
      "model_name": "LayoutModel",
      "state": {}
     },
     "5a194f2f6e2346ad986286d6c327e55e": {
      "model_module": "@jupyter-widgets/controls",
      "model_module_version": "1.5.0",
      "model_name": "HBoxModel",
      "state": {
       "children": [
        "IPY_MODEL_f93d73a36ef04e1f9432a37521c9b7fd",
        "IPY_MODEL_e49ba0bcb4a248738820c5d0c92341da"
       ],
       "layout": "IPY_MODEL_3d968e30102d416fb5aa17dd53b9875f"
      }
     },
     "5a22a958b3b74b9f8fd5af205748ef69": {
      "model_module": "@jupyter-widgets/controls",
      "model_module_version": "1.5.0",
      "model_name": "LabelModel",
      "state": {
       "layout": "IPY_MODEL_0dc22dbf05b84d8c85b38a831460cbb4",
       "style": "IPY_MODEL_495223148778404eac992f8d1945a2af",
       "value": "Autosave_2020-03-18T21:25:15Z_923a7b66"
      }
     },
     "5a3d213b37044a1c9ecbc09a45cde99e": {
      "model_module": "@jupyter-widgets/controls",
      "model_module_version": "1.5.0",
      "model_name": "HBoxModel",
      "state": {
       "children": [
        "IPY_MODEL_1a5df548735e4b3ab93fd212f37ff287",
        "IPY_MODEL_584a9c84494f4eb78cb6e1e48b4ba044"
       ],
       "layout": "IPY_MODEL_2cb04790ea2844d7abf40f36b2e57667"
      }
     },
     "5a4c3c193d014b729b2111623cf19af4": {
      "model_module": "@jupyter-widgets/controls",
      "model_module_version": "1.5.0",
      "model_name": "IntProgressModel",
      "state": {
       "bar_style": "info",
       "layout": "IPY_MODEL_8b4f4ed76aaf48ee9f85e63810533984",
       "style": "IPY_MODEL_18bc32feec7b46c69b3567fb1592ca3f",
       "value": 100
      }
     },
     "5a602dbd581e4e71b921e4e928fd8008": {
      "model_module": "@jupyter-widgets/controls",
      "model_module_version": "1.5.0",
      "model_name": "DescriptionStyleModel",
      "state": {
       "description_width": ""
      }
     },
     "5a94ca6226674eeeab0fed828556cd5b": {
      "model_module": "@jupyter-widgets/controls",
      "model_module_version": "1.5.0",
      "model_name": "HBoxModel",
      "state": {
       "children": [
        "IPY_MODEL_0032a6fa96ba4d4e8221d279cade596b",
        "IPY_MODEL_61ce8bb04f274426a6a408cdb7065674"
       ],
       "layout": "IPY_MODEL_25042e98922d47ceaac727e0dbc1a2ec"
      }
     },
     "5ab9049f985045b59c937f1c1b5f3acf": {
      "model_module": "@jupyter-widgets/base",
      "model_module_version": "1.2.0",
      "model_name": "LayoutModel",
      "state": {}
     },
     "5abb47b69d7848b88438b6b02987ed97": {
      "model_module": "@jupyter-widgets/controls",
      "model_module_version": "1.5.0",
      "model_name": "HBoxModel",
      "state": {
       "children": [
        "IPY_MODEL_9df491fec18f42bf9c4d89d641e5fa05",
        "IPY_MODEL_218d51519ebb4d57b8471e713ecdbd09"
       ],
       "layout": "IPY_MODEL_849998c6d3f14c0cba6dd836c84694c9"
      }
     },
     "5adb9aa6971b4bdcb65ef5e83f61da01": {
      "model_module": "@jupyter-widgets/controls",
      "model_module_version": "1.5.0",
      "model_name": "LabelModel",
      "state": {
       "layout": "IPY_MODEL_bf124e7df23b4080b2c3ad6221894332",
       "style": "IPY_MODEL_dc0c9c9be4ca4a39ba2045415c5f5d0a",
       "value": "None"
      }
     },
     "5aead064c8b046a7993bd8c7f7f0c04c": {
      "model_module": "@jupyter-widgets/controls",
      "model_module_version": "1.5.0",
      "model_name": "HBoxModel",
      "state": {
       "children": [
        "IPY_MODEL_2ad5c31b8af244fd834a7bfe8723f4c6",
        "IPY_MODEL_81aa9b368ad14010888c4442a8c33ae4"
       ],
       "layout": "IPY_MODEL_24def447c4214a4c871c671584518cc0"
      }
     },
     "5af06209d9624fb8ab8b289662c7e3fd": {
      "model_module": "@jupyter-widgets/base",
      "model_module_version": "1.2.0",
      "model_name": "LayoutModel",
      "state": {}
     },
     "5b8d1b4a0ceb4d63aeca07d67c5eb90f": {
      "model_module": "@jupyter-widgets/base",
      "model_module_version": "1.2.0",
      "model_name": "LayoutModel",
      "state": {}
     },
     "5bac820007e94b17a0ebdc280bc78497": {
      "model_module": "@jupyter-widgets/base",
      "model_module_version": "1.2.0",
      "model_name": "LayoutModel",
      "state": {}
     },
     "5bdab9ff1ac2479196ae57ab7ec5b710": {
      "model_module": "@jupyter-widgets/controls",
      "model_module_version": "1.5.0",
      "model_name": "DescriptionStyleModel",
      "state": {
       "description_width": ""
      }
     },
     "5bdf8de70234457dae0c8089ebe8ac96": {
      "model_module": "@jupyter-widgets/base",
      "model_module_version": "1.2.0",
      "model_name": "LayoutModel",
      "state": {}
     },
     "5be41ee317a649d8a129f5fec27846ac": {
      "model_module": "@jupyter-widgets/controls",
      "model_module_version": "1.5.0",
      "model_name": "HBoxModel",
      "state": {
       "children": [
        "IPY_MODEL_fed98af427fd4eeeb79da8a1fd82257f",
        "IPY_MODEL_d5176c63e79a4aeb992377c2bc61274a"
       ],
       "layout": "IPY_MODEL_4aef58b864dc4ded80a66df71ffa1c57"
      }
     },
     "5c4342641b364f688fe74e3019b7de2e": {
      "model_module": "@jupyter-widgets/controls",
      "model_module_version": "1.5.0",
      "model_name": "HTMLModel",
      "state": {
       "layout": "IPY_MODEL_0343f7eb56a649889414a12548ed3ccf",
       "style": "IPY_MODEL_a54f5b7859ac4ef3b04b9c1ccb6d5d76",
       "value": "<b>cpu:</b>"
      }
     },
     "5c450aeed80540509ac7c4fb8a28b69c": {
      "model_module": "@jupyter-widgets/base",
      "model_module_version": "1.2.0",
      "model_name": "LayoutModel",
      "state": {}
     },
     "5c5d4177f5fd4c8b8a43f74828bc228f": {
      "model_module": "@jupyter-widgets/base",
      "model_module_version": "1.2.0",
      "model_name": "LayoutModel",
      "state": {}
     },
     "5c611032c42d4037a75255e662a375a2": {
      "model_module": "@jupyter-widgets/controls",
      "model_module_version": "1.5.0",
      "model_name": "AccordionModel",
      "state": {
       "_titles": {
        "0": "createdBy"
       },
       "children": [
        "IPY_MODEL_9a3251d388cf4c76be44c1a283737c31"
       ],
       "layout": "IPY_MODEL_c779a1b90e264a00971125f02d6475de"
      }
     },
     "5c6effaee82843b18c3e7abbf4120a7c": {
      "model_module": "@jupyter-widgets/controls",
      "model_module_version": "1.5.0",
      "model_name": "HTMLModel",
      "state": {
       "layout": "IPY_MODEL_90a0c02c15ab44b3a394da9bf37ea726",
       "style": "IPY_MODEL_e366e0bad0a247ec9cce84b35bfbcb13",
       "value": "<b>databricks:</b>"
      }
     },
     "5c7d0fcaec1248d69979abd05b004367": {
      "model_module": "@jupyter-widgets/controls",
      "model_module_version": "1.5.0",
      "model_name": "HBoxModel",
      "state": {
       "children": [
        "IPY_MODEL_5fb1bfc289d84b989d2350ef3af4dd9b",
        "IPY_MODEL_0d35373d08cb42d482a8c1e3911db0de"
       ],
       "layout": "IPY_MODEL_07d577a1c096412f97ef53c6561591ea"
      }
     },
     "5c7e74ec383c40bb9d979ba42cae5a1a": {
      "model_module": "@jupyter-widgets/base",
      "model_module_version": "1.2.0",
      "model_name": "LayoutModel",
      "state": {}
     },
     "5c838b3b74794ab2bf65bff32cbc6be1": {
      "model_module": "@jupyter-widgets/controls",
      "model_module_version": "1.5.0",
      "model_name": "DescriptionStyleModel",
      "state": {
       "description_width": ""
      }
     },
     "5c972e6e662e46b1aab81526c73bb6be": {
      "model_module": "@jupyter-widgets/controls",
      "model_module_version": "1.5.0",
      "model_name": "DescriptionStyleModel",
      "state": {
       "description_width": ""
      }
     },
     "5cc246f430f44393b0c1cdfcda1fd215": {
      "model_module": "@jupyter-widgets/controls",
      "model_module_version": "1.5.0",
      "model_name": "HTMLModel",
      "state": {
       "layout": "IPY_MODEL_88e4e13462e1475ead1f95c148e44655",
       "style": "IPY_MODEL_056ec7d96eb2463eba71d3a763273d18",
       "value": "<b>azureml.git.repository_uri:</b>"
      }
     },
     "5ccac4f9b86a44258870ac078adbf849": {
      "model_module": "@jupyter-widgets/base",
      "model_module_version": "1.2.0",
      "model_name": "LayoutModel",
      "state": {}
     },
     "5cf54fec5b4f4df8abf30c0738b5e111": {
      "model_module": "@jupyter-widgets/controls",
      "model_module_version": "1.5.0",
      "model_name": "HTMLModel",
      "state": {
       "layout": "IPY_MODEL_412e48bff010499f9e53f1b1c1c8cc94",
       "style": "IPY_MODEL_74d0c32e8e1242afa361e77f90963b11",
       "value": "<b>createdTime:</b>"
      }
     },
     "5cfad9b456dd444e8bb1edbb5099f97a": {
      "model_module": "@jupyter-widgets/controls",
      "model_module_version": "1.5.0",
      "model_name": "HTMLModel",
      "state": {
       "layout": "IPY_MODEL_7bac873ed338441fbc3befe2918e054d",
       "style": "IPY_MODEL_4c9003a241094a3d935b01cb14f034c6",
       "value": "<b>computeName:</b>"
      }
     },
     "5d318e5a0af44ce1953acd7ab478ac88": {
      "model_module": "@jupyter-widgets/controls",
      "model_module_version": "1.5.0",
      "model_name": "DescriptionStyleModel",
      "state": {
       "description_width": ""
      }
     },
     "5d501a361c4c4b929581a502b71b5776": {
      "model_module": "@jupyter-widgets/base",
      "model_module_version": "1.2.0",
      "model_name": "LayoutModel",
      "state": {}
     },
     "5d5439c2406d4227a746bca6d09d3a48": {
      "model_module": "@jupyter-widgets/controls",
      "model_module_version": "1.5.0",
      "model_name": "DescriptionStyleModel",
      "state": {
       "description_width": ""
      }
     },
     "5d59c7e792134875b2c20253a9352197": {
      "model_module": "@jupyter-widgets/controls",
      "model_module_version": "1.5.0",
      "model_name": "DescriptionStyleModel",
      "state": {
       "description_width": ""
      }
     },
     "5d8e7f08468349f88ca34ba1c16d79cc": {
      "model_module": "@jupyter-widgets/controls",
      "model_module_version": "1.5.0",
      "model_name": "HBoxModel",
      "state": {
       "children": [
        "IPY_MODEL_5816206599a34dd5922738c606cad691",
        "IPY_MODEL_d0e8a1aa798f41e3843d38e99114ba78"
       ],
       "layout": "IPY_MODEL_9b9a4b78217043b59b560c953b41e596"
      }
     },
     "5d9d12ee864445cebe68b981f8032c0b": {
      "model_module": "@jupyter-widgets/controls",
      "model_module_version": "1.5.0",
      "model_name": "HTMLModel",
      "state": {
       "layout": "IPY_MODEL_5bdf8de70234457dae0c8089ebe8ac96",
       "style": "IPY_MODEL_4b43cf6d5ce24cbcac685744751f8f23",
       "value": "<b>initialDelaySeconds:</b>"
      }
     },
     "5da914adc7e24eeeb6d5db673015220e": {
      "model_module": "@jupyter-widgets/base",
      "model_module_version": "1.2.0",
      "model_name": "LayoutModel",
      "state": {}
     },
     "5dcf49c7cb2d49448f00d790dac477c1": {
      "model_module": "@jupyter-widgets/base",
      "model_module_version": "1.2.0",
      "model_name": "LayoutModel",
      "state": {}
     },
     "5dd6e7c4ce7944068736f0505ef3f86d": {
      "model_module": "@jupyter-widgets/controls",
      "model_module_version": "1.5.0",
      "model_name": "VBoxModel",
      "state": {
       "children": [
        "IPY_MODEL_bad5e6a35b354f19a0b034ae16520552",
        "IPY_MODEL_76db110f9941437885b905acaee3b584",
        "IPY_MODEL_9f303bc0f2164012bbf1df6030738186",
        "IPY_MODEL_aa0de50579064db58629a61f9bcb2eb7"
       ],
       "layout": "IPY_MODEL_8607e5b0cff840efa96f5757e2c83477"
      }
     },
     "5dee1c8a8ba0469d81484fb44aef0c63": {
      "model_module": "@jupyter-widgets/base",
      "model_module_version": "1.2.0",
      "model_name": "LayoutModel",
      "state": {}
     },
     "5e67d0d717ec4afc9e8d0cd22454902b": {
      "model_module": "@jupyter-widgets/controls",
      "model_module_version": "1.5.0",
      "model_name": "HBoxModel",
      "state": {
       "children": [
        "IPY_MODEL_5cfad9b456dd444e8bb1edbb5099f97a",
        "IPY_MODEL_9122a4466c9d40f9856299cf0d266166"
       ],
       "layout": "IPY_MODEL_19e05c53fb3541da920a176e2a9d37cc"
      }
     },
     "5e812a38bcea4c69b43ae792e8c643e8": {
      "model_module": "@jupyter-widgets/base",
      "model_module_version": "1.2.0",
      "model_name": "LayoutModel",
      "state": {}
     },
     "5e9685879e6f469f9090b0975b07ab79": {
      "model_module": "@jupyter-widgets/controls",
      "model_module_version": "1.5.0",
      "model_name": "HBoxModel",
      "state": {
       "children": [
        "IPY_MODEL_adf870ffd1274973b5aed750f6800a96",
        "IPY_MODEL_eab3953bc09f447e9681be361bbbfc7f"
       ],
       "layout": "IPY_MODEL_eafcb7cfaa144dfd92f28b416f1adedc"
      }
     },
     "5e9975d0a20043e59b786231898f7eda": {
      "model_module": "@jupyter-widgets/base",
      "model_module_version": "1.2.0",
      "model_name": "LayoutModel",
      "state": {}
     },
     "5ee0f568573b46c8bd5d142858748ade": {
      "model_module": "@jupyter-widgets/controls",
      "model_module_version": "1.5.0",
      "model_name": "HTMLModel",
      "state": {
       "layout": "IPY_MODEL_10637a4e19054e64ba324bf2882f9ace",
       "style": "IPY_MODEL_ed3aa76a7c324c4a96f5203d86a9a309",
       "value": "<b>workspaceName:</b>"
      }
     },
     "5ee69b6c0fbc47e691db438921f0bc08": {
      "model_module": "@jupyter-widgets/controls",
      "model_module_version": "1.5.0",
      "model_name": "HBoxModel",
      "state": {
       "children": [
        "IPY_MODEL_d3ad77a85c97491189203fdc9a7df465",
        "IPY_MODEL_d2186c05085641ba962e5804e0f5dfc0"
       ],
       "layout": "IPY_MODEL_3d22195c51e7476e8f3c68398a683e83"
      }
     },
     "5ee9cfd9b91d48dfb0871abb2274105c": {
      "model_module": "@jupyter-widgets/controls",
      "model_module_version": "1.5.0",
      "model_name": "DescriptionStyleModel",
      "state": {
       "description_width": ""
      }
     },
     "5eeb09406cb941d0835b84e4b57334c8": {
      "model_module": "@jupyter-widgets/controls",
      "model_module_version": "1.5.0",
      "model_name": "HBoxModel",
      "state": {
       "children": [
        "IPY_MODEL_890468f3d3ef40b595c9b253a1a3a87d",
        "IPY_MODEL_240741b2803645f2a051688cf1e85501"
       ],
       "layout": "IPY_MODEL_b82829630e1041b8921ed8b5e507901f"
      }
     },
     "5ef60fae651946e899ec451c234abbd6": {
      "model_module": "@jupyter-widgets/controls",
      "model_module_version": "1.5.0",
      "model_name": "HBoxModel",
      "state": {
       "children": [
        "IPY_MODEL_7fb0dfe020134014841b15c9763a788e",
        "IPY_MODEL_70c407382a6140ec841a2fd4a14b12ae"
       ],
       "layout": "IPY_MODEL_ad7b6bd09d704db8af0443fed78b024a"
      }
     },
     "5f0e9602b37649c79e5cf227abab855f": {
      "model_module": "@jupyter-widgets/base",
      "model_module_version": "1.2.0",
      "model_name": "LayoutModel",
      "state": {}
     },
     "5f244886e98547569cd45ef435a7bcbe": {
      "model_module": "@jupyter-widgets/controls",
      "model_module_version": "1.5.0",
      "model_name": "DescriptionStyleModel",
      "state": {
       "description_width": ""
      }
     },
     "5f30d1a7cde94e9bac934c399eefa13f": {
      "model_module": "@jupyter-widgets/controls",
      "model_module_version": "1.5.0",
      "model_name": "DescriptionStyleModel",
      "state": {
       "description_width": ""
      }
     },
     "5f861d9e036847e8a8324ed5d10134a0": {
      "model_module": "@jupyter-widgets/base",
      "model_module_version": "1.2.0",
      "model_name": "LayoutModel",
      "state": {}
     },
     "5f8d7c23748d48039c49ab0dbee7a868": {
      "model_module": "@jupyter-widgets/controls",
      "model_module_version": "1.5.0",
      "model_name": "DescriptionStyleModel",
      "state": {
       "description_width": ""
      }
     },
     "5f9550ef319c44c7be50be75ed5116a1": {
      "model_module": "@jupyter-widgets/controls",
      "model_module_version": "1.5.0",
      "model_name": "DescriptionStyleModel",
      "state": {
       "description_width": ""
      }
     },
     "5fb1bfc289d84b989d2350ef3af4dd9b": {
      "model_module": "@jupyter-widgets/controls",
      "model_module_version": "1.5.0",
      "model_name": "HTMLModel",
      "state": {
       "layout": "IPY_MODEL_ae2f330026c5453b8e99549a740736b3",
       "style": "IPY_MODEL_9d29f4cf42ea486a84d3da45e7fa5615",
       "value": "<b>docker:</b>"
      }
     },
     "5fb883b786704ceebe46366eecab76b0": {
      "model_module": "@jupyter-widgets/controls",
      "model_module_version": "1.5.0",
      "model_name": "LabelModel",
      "state": {
       "layout": "IPY_MODEL_2561837f1b9447e0993e91725e67e3e7",
       "style": "IPY_MODEL_e80bee067f394a69b62fc4543ee55779",
       "value": "fcf7950ee5d473a6ac61b217ef01527895499548"
      }
     },
     "5fda72c4723243aa94df26febb8ecfe0": {
      "model_module": "@jupyter-widgets/base",
      "model_module_version": "1.2.0",
      "model_name": "LayoutModel",
      "state": {}
     },
     "601da6eb3a5843868d95953ef58bdfd3": {
      "model_module": "@jupyter-widgets/base",
      "model_module_version": "1.2.0",
      "model_name": "LayoutModel",
      "state": {}
     },
     "6029bd9385444c21bc27c09f1acf4a98": {
      "model_module": "@jupyter-widgets/base",
      "model_module_version": "1.2.0",
      "model_name": "LayoutModel",
      "state": {}
     },
     "604abd6c1d9545e0ae38811987209976": {
      "model_module": "@jupyter-widgets/base",
      "model_module_version": "1.2.0",
      "model_name": "LayoutModel",
      "state": {}
     },
     "6056e0014ce94530aa2d4777320ed5d7": {
      "model_module": "@jupyter-widgets/base",
      "model_module_version": "1.2.0",
      "model_name": "LayoutModel",
      "state": {}
     },
     "60608c711d7c4a51850c14771cdf80de": {
      "model_module": "@jupyter-widgets/base",
      "model_module_version": "1.2.0",
      "model_name": "LayoutModel",
      "state": {}
     },
     "6061308f3400406180e5cec6b2eb7dfc": {
      "model_module": "@jupyter-widgets/base",
      "model_module_version": "1.2.0",
      "model_name": "LayoutModel",
      "state": {}
     },
     "6070cd7c6b6f4f13a69db02f39d460d2": {
      "model_module": "@jupyter-widgets/controls",
      "model_module_version": "1.5.0",
      "model_name": "HBoxModel",
      "state": {
       "children": [
        "IPY_MODEL_a76e6b57e458445ead562e7261d211de",
        "IPY_MODEL_2b91ccd53cc9433abe00e081aefcc5d7"
       ],
       "layout": "IPY_MODEL_7ffc84f2dbbf4428b02ac26da0fd718a"
      }
     },
     "60b6f62d78e548f29b3c60b80256f6ab": {
      "model_module": "@jupyter-widgets/controls",
      "model_module_version": "1.5.0",
      "model_name": "HBoxModel",
      "state": {
       "children": [
        "IPY_MODEL_cb4bd91ea9ca47faae443546bb391b14",
        "IPY_MODEL_de3e486385454d80b09b9d17578e8d81"
       ],
       "layout": "IPY_MODEL_19d1834e2fb54728b0af5182f68c289a"
      }
     },
     "610eb2b3b1614003b911e82dc2e1c3b4": {
      "model_module": "@jupyter-widgets/base",
      "model_module_version": "1.2.0",
      "model_name": "LayoutModel",
      "state": {}
     },
     "6123c09a47df497f9bc4c675ebb0dcdf": {
      "model_module": "@jupyter-widgets/controls",
      "model_module_version": "1.5.0",
      "model_name": "HTMLModel",
      "state": {
       "layout": "IPY_MODEL_c4145519015f45968fb0e7356ed5cd1c",
       "style": "IPY_MODEL_18bafc974924460e98edeb516bb70502",
       "value": "<b>maxConcurrentRequestsPerContainer:</b>"
      }
     },
     "612c5354002c49f38d2ec93c2d55e1fc": {
      "model_module": "@jupyter-widgets/base",
      "model_module_version": "1.2.0",
      "model_name": "LayoutModel",
      "state": {}
     },
     "6136a49fcc2f4237a306852f798e3427": {
      "model_module": "@jupyter-widgets/controls",
      "model_module_version": "1.5.0",
      "model_name": "LabelModel",
      "state": {
       "layout": "IPY_MODEL_0de5680346814209a97883fd88ca61cf",
       "style": "IPY_MODEL_eff3c61204b74e2eaece752b3bd8392e",
       "value": "Control"
      }
     },
     "613ca1d03daf49949e0ac2c1664c0dd8": {
      "model_module": "@jupyter-widgets/controls",
      "model_module_version": "1.5.0",
      "model_name": "HBoxModel",
      "state": {
       "children": [
        "IPY_MODEL_583a38d4bdfa4558886a219be6d70774",
        "IPY_MODEL_117810cee2fb4c34b893fd7f71ecbc95"
       ],
       "layout": "IPY_MODEL_4d6008d6b1b9412e81eaa6476feea7bb"
      }
     },
     "613ff484702d4853807725953959ef8b": {
      "model_module": "@jupyter-widgets/base",
      "model_module_version": "1.2.0",
      "model_name": "LayoutModel",
      "state": {}
     },
     "616941d6d18f46b59412621896209d1a": {
      "model_module": "@jupyter-widgets/controls",
      "model_module_version": "1.5.0",
      "model_name": "LabelModel",
      "state": {
       "layout": "IPY_MODEL_b66eb602f0df4650b7d1d6ad6cdc5623",
       "style": "IPY_MODEL_16afe35c85444e21aa61cf8a48395a02",
       "value": "120"
      }
     },
     "61a2ec063f274b1b9aeb325e78960d57": {
      "model_module": "@jupyter-widgets/controls",
      "model_module_version": "1.5.0",
      "model_name": "DescriptionStyleModel",
      "state": {
       "description_width": ""
      }
     },
     "61c492dd22274fe39aa42a4b900453ad": {
      "model_module": "@jupyter-widgets/controls",
      "model_module_version": "1.5.0",
      "model_name": "LabelModel",
      "state": {
       "layout": "IPY_MODEL_7c5f387a20b94244b215f59498dfaf11",
       "style": "IPY_MODEL_d12ab50755d54ea28b30ebe824267995",
       "value": "None"
      }
     },
     "61c95001eae04862be7acbd89dd872a6": {
      "model_module": "@jupyter-widgets/base",
      "model_module_version": "1.2.0",
      "model_name": "LayoutModel",
      "state": {}
     },
     "61ce8bb04f274426a6a408cdb7065674": {
      "model_module": "@jupyter-widgets/controls",
      "model_module_version": "1.5.0",
      "model_name": "LabelModel",
      "state": {
       "layout": "IPY_MODEL_8d097712d9e64e628255aa42ad73c154",
       "style": "IPY_MODEL_3816e3665796469b8954f0b82f98c8c5",
       "value": "False"
      }
     },
     "61fda316a3234359ba67856f3e12e455": {
      "model_module": "@jupyter-widgets/controls",
      "model_module_version": "1.5.0",
      "model_name": "DescriptionStyleModel",
      "state": {
       "description_width": ""
      }
     },
     "62308f50d61342b087a0742a3beda5e5": {
      "model_module": "@jupyter-widgets/base",
      "model_module_version": "1.2.0",
      "model_name": "LayoutModel",
      "state": {}
     },
     "623a7e3672844f5b8e818eb134833753": {
      "model_module": "@jupyter-widgets/base",
      "model_module_version": "1.2.0",
      "model_name": "LayoutModel",
      "state": {}
     },
     "628e322447c0427aa543586a081b6949": {
      "model_module": "@jupyter-widgets/controls",
      "model_module_version": "1.5.0",
      "model_name": "TextModel",
      "state": {
       "description": "resource_group",
       "layout": "IPY_MODEL_778599d49cae4b62856422981112aaf4",
       "placeholder": "Azure Resource Group Name",
       "style": "IPY_MODEL_c110ac7a9a2a4683a1adaaa9cf3166c0",
       "value": "azmlrts-eastus-stable"
      }
     },
     "62aa5d794a2346109a814c3066d97e5d": {
      "model_module": "@jupyter-widgets/controls",
      "model_module_version": "1.5.0",
      "model_name": "DescriptionStyleModel",
      "state": {
       "description_width": ""
      }
     },
     "62b83474a7db49319d853fd786754750": {
      "model_module": "@jupyter-widgets/base",
      "model_module_version": "1.2.0",
      "model_name": "LayoutModel",
      "state": {}
     },
     "62ccc6f2b17a47b09469184d019694c7": {
      "model_module": "@jupyter-widgets/controls",
      "model_module_version": "1.5.0",
      "model_name": "DescriptionStyleModel",
      "state": {
       "description_width": ""
      }
     },
     "62dd9223a40a436487338e3bf83cdd1c": {
      "model_module": "@jupyter-widgets/controls",
      "model_module_version": "1.5.0",
      "model_name": "LabelModel",
      "state": {
       "layout": "IPY_MODEL_d916ec65e0f24f12a97c592ff537c707",
       "style": "IPY_MODEL_982ad02a28b74ea481b37ca49b2b6008",
       "value": "{'repositories': [], 'packages': [], 'precachePackages': True}"
      }
     },
     "62e69e08cae34305bc216cc0483e1a31": {
      "model_module": "@jupyter-widgets/controls",
      "model_module_version": "1.5.0",
      "model_name": "DescriptionStyleModel",
      "state": {
       "description_width": ""
      }
     },
     "62f47cc41ef849ad9b83a2c8945a2a7d": {
      "model_module": "@jupyter-widgets/base",
      "model_module_version": "1.2.0",
      "model_name": "LayoutModel",
      "state": {}
     },
     "6389ff79b76b407898c527c793528f42": {
      "model_module": "@jupyter-widgets/base",
      "model_module_version": "1.2.0",
      "model_name": "LayoutModel",
      "state": {
       "width": "50%"
      }
     },
     "63b0052898de400a8f08e29d9e1b2b4e": {
      "model_module": "@jupyter-widgets/controls",
      "model_module_version": "1.5.0",
      "model_name": "DescriptionStyleModel",
      "state": {
       "description_width": ""
      }
     },
     "63e059425202481c8ec70c656058a558": {
      "model_module": "@jupyter-widgets/controls",
      "model_module_version": "1.5.0",
      "model_name": "LabelModel",
      "state": {
       "layout": "IPY_MODEL_c8c8c949cacf4757a5ef7c0d82eece48",
       "style": "IPY_MODEL_c270732b32e34bbf9c47ceb1e4a836c1",
       "value": "dlrts-train-on-local"
      }
     },
     "63edca324e284bc29348e4cbeeb84608": {
      "model_module": "@jupyter-widgets/base",
      "model_module_version": "1.2.0",
      "model_name": "LayoutModel",
      "state": {}
     },
     "63f455df84cd426ebac77c9c83d62d7f": {
      "model_module": "@jupyter-widgets/controls",
      "model_module_version": "1.5.0",
      "model_name": "DescriptionStyleModel",
      "state": {
       "description_width": ""
      }
     },
     "640fe2f81b8c4a5097f04b1c6c7acc71": {
      "model_module": "@jupyter-widgets/base",
      "model_module_version": "1.2.0",
      "model_name": "LayoutModel",
      "state": {}
     },
     "6446089b2a5d4d1fb0b893ce4f455408": {
      "model_module": "@jupyter-widgets/base",
      "model_module_version": "1.2.0",
      "model_name": "LayoutModel",
      "state": {}
     },
     "645a41f5284c46ab8e47db5dd6f51d94": {
      "model_module": "@jupyter-widgets/base",
      "model_module_version": "1.2.0",
      "model_name": "LayoutModel",
      "state": {}
     },
     "6463a16818164a7eb9850f93ef2ee344": {
      "model_module": "@jupyter-widgets/base",
      "model_module_version": "1.2.0",
      "model_name": "LayoutModel",
      "state": {}
     },
     "646b30e294b74d2a8c779394c6c4c053": {
      "model_module": "@jupyter-widgets/base",
      "model_module_version": "1.2.0",
      "model_name": "LayoutModel",
      "state": {
       "width": "50%"
      }
     },
     "646e3bfa8d474760bac02ad627b3ac59": {
      "model_module": "@jupyter-widgets/controls",
      "model_module_version": "1.5.0",
      "model_name": "HTMLModel",
      "state": {
       "layout": "IPY_MODEL_200a7655863240cdaef8460aee195c35",
       "style": "IPY_MODEL_0e68a33923784f69a8bbd73d415649d7",
       "value": "<b>maxReplicas:</b>"
      }
     },
     "6474b74e29194bdc8e038084482ca998": {
      "model_module": "@jupyter-widgets/base",
      "model_module_version": "1.2.0",
      "model_name": "LayoutModel",
      "state": {}
     },
     "6485ae5b26e540748d992c06036e35a1": {
      "model_module": "@jupyter-widgets/controls",
      "model_module_version": "1.5.0",
      "model_name": "DescriptionStyleModel",
      "state": {
       "description_width": ""
      }
     },
     "6493600f59114ba9b2149269091b8c4f": {
      "model_module": "@jupyter-widgets/controls",
      "model_module_version": "1.5.0",
      "model_name": "LabelModel",
      "state": {
       "layout": "IPY_MODEL_a1d1073eed5e4e59a483b1b092ad5a7e",
       "style": "IPY_MODEL_8b195a1a661648f8a2c0217afd9aa3dc",
       "value": "5"
      }
     },
     "64d6d03b6ea14ca7b44fde80f1a61622": {
      "model_module": "@jupyter-widgets/base",
      "model_module_version": "1.2.0",
      "model_name": "LayoutModel",
      "state": {}
     },
     "64ec27ebee254ca088efd4720441e4d6": {
      "model_module": "@jupyter-widgets/base",
      "model_module_version": "1.2.0",
      "model_name": "LayoutModel",
      "state": {}
     },
     "65230a1e1dad426ca3c1790aa04ebf4a": {
      "model_module": "@jupyter-widgets/base",
      "model_module_version": "1.2.0",
      "model_name": "LayoutModel",
      "state": {}
     },
     "652d579a2d67470bbad37cdcdd73796d": {
      "model_module": "@jupyter-widgets/controls",
      "model_module_version": "1.5.0",
      "model_name": "HTMLModel",
      "state": {
       "layout": "IPY_MODEL_711d38f94b80446e99aac19ba5ec6124",
       "style": "IPY_MODEL_1f4f697b2a894ca890e70e3cfea1117c",
       "value": "<b>userAltSecId:</b>"
      }
     },
     "654a2c218da848a9a4c5be729d326d3b": {
      "model_module": "@jupyter-widgets/controls",
      "model_module_version": "1.5.0",
      "model_name": "DescriptionStyleModel",
      "state": {
       "description_width": ""
      }
     },
     "656d24dfca604f428fcb54f198b2a153": {
      "model_module": "@jupyter-widgets/base",
      "model_module_version": "1.2.0",
      "model_name": "LayoutModel",
      "state": {}
     },
     "659129bc7d824c868213b7dc34f96640": {
      "model_module": "@jupyter-widgets/controls",
      "model_module_version": "1.5.0",
      "model_name": "DescriptionStyleModel",
      "state": {
       "description_width": "initial"
      }
     },
     "659804e5f40448e4abb2e78064ef6dfc": {
      "model_module": "@jupyter-widgets/controls",
      "model_module_version": "1.5.0",
      "model_name": "HTMLModel",
      "state": {
       "layout": "IPY_MODEL_5e9975d0a20043e59b786231898f7eda",
       "style": "IPY_MODEL_38dfda32b1d24d848af7fec4f0b8b7b6",
       "value": "<b>version:</b>"
      }
     },
     "65a42766bc78429487914ef48a037d54": {
      "model_module": "@jupyter-widgets/base",
      "model_module_version": "1.2.0",
      "model_name": "LayoutModel",
      "state": {}
     },
     "65a85a6c86f743f893edc6aa01debfa5": {
      "model_module": "@jupyter-widgets/base",
      "model_module_version": "1.2.0",
      "model_name": "LayoutModel",
      "state": {}
     },
     "65a9ad17cf504706b69e875fd0cc7b2f": {
      "model_module": "@jupyter-widgets/controls",
      "model_module_version": "1.5.0",
      "model_name": "DescriptionStyleModel",
      "state": {
       "description_width": ""
      }
     },
     "65b7f5528bb14bed90733dad0c5c1c08": {
      "model_module": "@jupyter-widgets/base",
      "model_module_version": "1.2.0",
      "model_name": "LayoutModel",
      "state": {}
     },
     "65ef81d9a38e4d8bbd85c9c53b8e6160": {
      "model_module": "@jupyter-widgets/controls",
      "model_module_version": "1.5.0",
      "model_name": "DescriptionStyleModel",
      "state": {
       "description_width": ""
      }
     },
     "65f50da909d640399551c0ad7f983fee": {
      "model_module": "@jupyter-widgets/controls",
      "model_module_version": "1.5.0",
      "model_name": "LabelModel",
      "state": {
       "layout": "IPY_MODEL_61c95001eae04862be7acbd89dd872a6",
       "style": "IPY_MODEL_1fbbdd3e7e0047a7b60a93281a4a5223",
       "value": "https://sts.windows.net/72f988bf-86f1-41af-91ab-2d7cd011db47/"
      }
     },
     "660d973fae1b487caa4b5b9998064a4c": {
      "model_module": "@jupyter-widgets/controls",
      "model_module_version": "1.5.0",
      "model_name": "DescriptionStyleModel",
      "state": {
       "description_width": ""
      }
     },
     "664611131b63488582af20696650f8c4": {
      "model_module": "@jupyter-widgets/base",
      "model_module_version": "1.2.0",
      "model_name": "LayoutModel",
      "state": {}
     },
     "6657bacde23e4e7d83ccd53b24818562": {
      "model_module": "@jupyter-widgets/controls",
      "model_module_version": "1.5.0",
      "model_name": "HBoxModel",
      "state": {
       "children": [
        "IPY_MODEL_c0ca6d5475c74acd9ab34d6b11f19fe6",
        "IPY_MODEL_b363361b2954492a8fc5ba3bdb6f158d"
       ],
       "layout": "IPY_MODEL_ec0ec8fc73c04bc198584fe8e4bcd984"
      }
     },
     "665fa8dbfbea433dad134e8122843b05": {
      "model_module": "@jupyter-widgets/base",
      "model_module_version": "1.2.0",
      "model_name": "LayoutModel",
      "state": {}
     },
     "6669264998d1412bb68985ef58b25337": {
      "model_module": "@jupyter-widgets/base",
      "model_module_version": "1.2.0",
      "model_name": "LayoutModel",
      "state": {
       "height": "80px",
       "justify_content": "center",
       "width": "80%"
      }
     },
     "667cd850a9854a3a8863255b5eb6e827": {
      "model_module": "@jupyter-widgets/base",
      "model_module_version": "1.2.0",
      "model_name": "LayoutModel",
      "state": {}
     },
     "66991b4f7fd744da96dbd5b54ef66a6f": {
      "model_module": "@jupyter-widgets/base",
      "model_module_version": "1.2.0",
      "model_name": "LayoutModel",
      "state": {}
     },
     "66bf54a5a1cb40bcb5ad46791a777cd7": {
      "model_module": "@jupyter-widgets/controls",
      "model_module_version": "1.5.0",
      "model_name": "LabelModel",
      "state": {
       "layout": "IPY_MODEL_b4976ef13ee345ceb8d142594824f9e0",
       "style": "IPY_MODEL_81ddf4bf05354e9baf91b68d70a6a5f9",
       "value": "1"
      }
     },
     "66c333cf823a4102988b600030143614": {
      "model_module": "@jupyter-widgets/base",
      "model_module_version": "1.2.0",
      "model_name": "LayoutModel",
      "state": {}
     },
     "66d81dbdd2304aa6ae73eb0f85501570": {
      "model_module": "@jupyter-widgets/controls",
      "model_module_version": "1.5.0",
      "model_name": "LabelModel",
      "state": {
       "layout": "IPY_MODEL_9601e147c9b54b239e0891845948e9e0",
       "style": "IPY_MODEL_d7f4c9f9e2b84dcdbf1233d2d04469a1",
       "value": "72f988bf-86f1-41af-91ab-2d7cd011db47"
      }
     },
     "66e64c87070042028e27cdac74fa6450": {
      "model_module": "@jupyter-widgets/base",
      "model_module_version": "1.2.0",
      "model_name": "LayoutModel",
      "state": {}
     },
     "66f12230f6954925a1915bfb7a507f1e": {
      "model_module": "@jupyter-widgets/base",
      "model_module_version": "1.2.0",
      "model_name": "LayoutModel",
      "state": {}
     },
     "67001c3eff1a47a193532beb4e999841": {
      "model_module": "@jupyter-widgets/controls",
      "model_module_version": "1.5.0",
      "model_name": "DescriptionStyleModel",
      "state": {
       "description_width": ""
      }
     },
     "6710261424384620b3bb755f507fba77": {
      "model_module": "@jupyter-widgets/controls",
      "model_module_version": "1.5.0",
      "model_name": "DescriptionStyleModel",
      "state": {
       "description_width": ""
      }
     },
     "6717a33da9354c33b3e462ddba7a7727": {
      "model_module": "@jupyter-widgets/controls",
      "model_module_version": "1.5.0",
      "model_name": "HTMLModel",
      "state": {
       "layout": "IPY_MODEL_7d1fd23277034fd48eba7b76fd406283",
       "style": "IPY_MODEL_f152c093c6644ff8a0ebc9380cfb901f",
       "value": "<b>autoscaleEnabled:</b>"
      }
     },
     "673f7f73ea224cad8fc066a7f6256f68": {
      "model_module": "@jupyter-widgets/controls",
      "model_module_version": "1.5.0",
      "model_name": "DescriptionStyleModel",
      "state": {
       "description_width": ""
      }
     },
     "674e3a0419d54bc0bef03f531dd5f750": {
      "model_module": "@jupyter-widgets/controls",
      "model_module_version": "1.5.0",
      "model_name": "DescriptionStyleModel",
      "state": {
       "description_width": ""
      }
     },
     "6764a31af7ae4724be279afcc48f42da": {
      "model_module": "@jupyter-widgets/controls",
      "model_module_version": "1.5.0",
      "model_name": "LabelModel",
      "state": {
       "layout": "IPY_MODEL_62b83474a7db49319d853fd786754750",
       "style": "IPY_MODEL_918953e51f1e4f4da629e09a472cdffb",
       "value": "False"
      }
     },
     "6769c8d8d1a04f73b664b9cadf60bf77": {
      "model_module": "@jupyter-widgets/controls",
      "model_module_version": "1.5.0",
      "model_name": "LabelModel",
      "state": {
       "layout": "IPY_MODEL_c2c4d2d0a3674381ac1ea4571823282a",
       "style": "IPY_MODEL_7d111b2521ae4fdcb29e18a03994a135",
       "value": "None"
      }
     },
     "67718ba68edb45fca2a8e2bdef22c870": {
      "model_module": "@jupyter-widgets/base",
      "model_module_version": "1.2.0",
      "model_name": "LayoutModel",
      "state": {}
     },
     "678aa5220b22477ea40f08375460e85e": {
      "model_module": "@jupyter-widgets/controls",
      "model_module_version": "1.5.0",
      "model_name": "HTMLModel",
      "state": {
       "layout": "IPY_MODEL_601da6eb3a5843868d95953ef58bdfd3",
       "style": "IPY_MODEL_6e2eee100b6d437ba35262b8609d40b7",
       "value": "<b>deploymentStatus:</b>"
      }
     },
     "679fc97961ad4365a1b454c9afee76f5": {
      "model_module": "@jupyter-widgets/controls",
      "model_module_version": "1.5.0",
      "model_name": "HBoxModel",
      "state": {
       "children": [
        "IPY_MODEL_5cc246f430f44393b0c1cdfcda1fd215",
        "IPY_MODEL_a0cdf936ebd54dbb84d26434784875df"
       ],
       "layout": "IPY_MODEL_f644f459876f4534b85aee21559c633f"
      }
     },
     "67dc369651c5481eba75bd81f004e0df": {
      "model_module": "@jupyter-widgets/controls",
      "model_module_version": "1.5.0",
      "model_name": "VBoxModel",
      "state": {
       "children": [
        "IPY_MODEL_a86b9614c41d4a41bea51a6fbf9d5b3f",
        "IPY_MODEL_8e0aa48ceec842e6bee3cbbf263df01b",
        "IPY_MODEL_084352b5c41a49d3953c5e6ef6cc14e9",
        "IPY_MODEL_77d5bfbeed204a498a0e554d339cdad8",
        "IPY_MODEL_3c10fd18fdd949aeb6c5f87d53603955"
       ],
       "layout": "IPY_MODEL_67718ba68edb45fca2a8e2bdef22c870"
      }
     },
     "67de82658a56451786a384886bb388cc": {
      "model_module": "@jupyter-widgets/base",
      "model_module_version": "1.2.0",
      "model_name": "LayoutModel",
      "state": {}
     },
     "67e83107c7fd4dc8a954700629bece2e": {
      "model_module": "@jupyter-widgets/base",
      "model_module_version": "1.2.0",
      "model_name": "LayoutModel",
      "state": {}
     },
     "683f24ecd0404c44bc894c7a5e24b956": {
      "model_module": "@jupyter-widgets/base",
      "model_module_version": "1.2.0",
      "model_name": "LayoutModel",
      "state": {}
     },
     "6840c669d07e45ce80b11b490a171e03": {
      "model_module": "@jupyter-widgets/base",
      "model_module_version": "1.2.0",
      "model_name": "LayoutModel",
      "state": {}
     },
     "6858fd83369947cc94215d84ea5281ca": {
      "model_module": "@jupyter-widgets/controls",
      "model_module_version": "1.5.0",
      "model_name": "DescriptionStyleModel",
      "state": {
       "description_width": ""
      }
     },
     "68602b58758245d6be302cd60852358a": {
      "model_module": "@jupyter-widgets/base",
      "model_module_version": "1.2.0",
      "model_name": "LayoutModel",
      "state": {}
     },
     "687001af24b047a4990e4eb196054b78": {
      "model_module": "@jupyter-widgets/controls",
      "model_module_version": "1.5.0",
      "model_name": "HBoxModel",
      "state": {
       "children": [
        "IPY_MODEL_dc9e0a3f117a4592b10ab6d174723b0c",
        "IPY_MODEL_e254c4bd600946a3a420dc4a07113ddf"
       ],
       "layout": "IPY_MODEL_fe8de767a11b43c5803e9fc3971aee4e"
      }
     },
     "68b452de0d6b44f6b4ab456de4568e1e": {
      "model_module": "@jupyter-widgets/base",
      "model_module_version": "1.2.0",
      "model_name": "LayoutModel",
      "state": {}
     },
     "68cecc4186d741ae8c7cee2c89b7b716": {
      "model_module": "@jupyter-widgets/controls",
      "model_module_version": "1.5.0",
      "model_name": "HBoxModel",
      "state": {
       "children": [
        "IPY_MODEL_6717a33da9354c33b3e462ddba7a7727",
        "IPY_MODEL_1d4632c5f3ba4f738b6a3b14fb731a48"
       ],
       "layout": "IPY_MODEL_98fc5629d27a43f6a9cc0a34413909ef"
      }
     },
     "68d3314e41844eb2bcfbcfbc33f7f916": {
      "model_module": "@jupyter-widgets/controls",
      "model_module_version": "1.5.0",
      "model_name": "LabelModel",
      "state": {
       "layout": "IPY_MODEL_02e519926af64e08bfa0cdf400c1537a",
       "style": "IPY_MODEL_41cbde04a9584aaaadd23c6b5347d82b",
       "value": "70"
      }
     },
     "691f6deffd4f4a8f80803984e8078402": {
      "model_module": "@jupyter-widgets/base",
      "model_module_version": "1.2.0",
      "model_name": "LayoutModel",
      "state": {}
     },
     "6936cd1365d74e5dbd8a374f36d135e9": {
      "model_module": "@jupyter-widgets/controls",
      "model_module_version": "1.5.0",
      "model_name": "DescriptionStyleModel",
      "state": {
       "description_width": ""
      }
     },
     "693f2a3d3ec642eaa0c7302c70a97611": {
      "model_module": "@jupyter-widgets/controls",
      "model_module_version": "1.5.0",
      "model_name": "DescriptionStyleModel",
      "state": {
       "description_width": ""
      }
     },
     "699356849bed4edea68cd3d6d879319b": {
      "model_module": "@jupyter-widgets/base",
      "model_module_version": "1.2.0",
      "model_name": "LayoutModel",
      "state": {}
     },
     "69dd33edfeb94e7b9f2d26110ff70806": {
      "model_module": "@jupyter-widgets/controls",
      "model_module_version": "1.5.0",
      "model_name": "LabelModel",
      "state": {
       "layout": "IPY_MODEL_8f3fedc06cde45bdb529318ef009bb5e",
       "style": "IPY_MODEL_c05e68e87fdc43a59506ef547b5642ff",
       "value": "Daniel Ciborowski"
      }
     },
     "6a03e1d68b1a4a119599e8d11fcdd3d2": {
      "model_module": "@jupyter-widgets/base",
      "model_module_version": "1.2.0",
      "model_name": "LayoutModel",
      "state": {
       "width": "50%"
      }
     },
     "6a34c0e1e1f3485ca0439925507e8e42": {
      "model_module": "@jupyter-widgets/controls",
      "model_module_version": "1.5.0",
      "model_name": "HBoxModel",
      "state": {
       "children": [
        "IPY_MODEL_7176841e65ee43da9a81e395d358aeb9",
        "IPY_MODEL_6769c8d8d1a04f73b664b9cadf60bf77"
       ],
       "layout": "IPY_MODEL_8239f8e44c25477cb1b0cd90ce4d8ca7"
      }
     },
     "6a5066428a344722a88f54a5f77635f4": {
      "model_module": "@jupyter-widgets/controls",
      "model_module_version": "1.5.0",
      "model_name": "HBoxModel",
      "state": {
       "children": [
        "IPY_MODEL_09ddcf44c74e4afea565e0ee69afe263",
        "IPY_MODEL_bc891b5799734fce89105dde453d4f42"
       ],
       "layout": "IPY_MODEL_f51aa7b46fc842ae8d96ad23dabe48e6"
      }
     },
     "6a6630fbd9dc482a9fefec7611f41393": {
      "model_module": "@jupyter-widgets/controls",
      "model_module_version": "1.5.0",
      "model_name": "DropdownModel",
      "state": {
       "_options_labels": [
        "AG-CE-AI-GPU-EXPERIMENTATION",
        "AG-AzureCAT-AITao-Test-COGSNonProd-IO1685734",
        "AG-CE-AI-DEVOPS",
        "AG-AzureCAT-AIDemos-Test-COGSNonProd-IO1685734",
        "AGCE-AI-DELETE-Sharat",
        "AG-AzureCAT-AILab-Test-COGSNonProd-IO1685734",
        "Visual Studio Ultimate with MSDN",
        "AG-AzureCAT-AIDataPM-Test-COGSNonProd-IO1685743",
        "AG-AzureCAT-AIDanielle-Test-COGSNonProd-IO1685734",
        "AG-CE-AI-MN-CICOMMERCIAL",
        "AG-CE-AI-MN-INCUBATION",
        "AG-CE-AI-MN-OSS",
        "AG-CE-AI-MN-E2E",
        "AG-CE-AI-MN-HU",
        "AG-CE-AI-MN-SEISMIC",
        "AG-CE-AI-STORAGE",
        "AG-CE-AI-MN-RETAIL",
        "AG-CE-AI-FEEDBACK",
        "AG-CE-AI-MN-LAB",
        "Deep Learning Group",
        "Azure SDK Engineering System",
        "Epic-Edge-ES-ReproVMLab",
        "ES-Stream-Operations",
        "Core-ES-BranchManagement",
        "WDG-ES-RnD-GITTrain",
        "Cosmos_WDG_Core_BnB_100292",
        "Azure Stack Diagnostics CI and Production VaaS",
        "Edge DevTools Client",
        "AppInsight Test",
        "ddverify",
        "VSEng MadDog-RPS Telemetry",
        "CAT_Eng",
        "RPS-cloud-common-2",
        "Core-ES-WorkManagement",
        "Azure_Maps_MDP_Engineering",
        "Test/Demo - VipSwapper Operations",
        "COSINE-ES-Signing Azure Service",
        "AI Infra Build",
        "AG-CE-E2E-AI",
        "Boston-DS-Brandon-Dev",
        "DEMO - how RepDemo are you",
        "ADS Demo Subscription",
        "AzureCAT E2E Blue Steel",
        "Azure Stack CSS Labs",
        "Azure Search DEV Service Layer (kmort,miwelsh,bohuan)",
        ""
       ],
       "description": "subscription_id",
       "index": 2,
       "layout": "IPY_MODEL_787357c5e1454d9a8d6a405695517037",
       "style": "IPY_MODEL_e5aa966bac024dc4849743a985263a35"
      }
     },
     "6a7ad3334e5c4d1198e1f1ac669fc6a0": {
      "model_module": "@jupyter-widgets/base",
      "model_module_version": "1.2.0",
      "model_name": "LayoutModel",
      "state": {}
     },
     "6a89969d2d624fc2b55432bf18d9bbbb": {
      "model_module": "@jupyter-widgets/controls",
      "model_module_version": "1.5.0",
      "model_name": "DescriptionStyleModel",
      "state": {
       "description_width": ""
      }
     },
     "6a8a6200faf040edab27fe054952cc34": {
      "model_module": "@jupyter-widgets/controls",
      "model_module_version": "1.5.0",
      "model_name": "HBoxModel",
      "state": {
       "children": [
        "IPY_MODEL_a0a37775d5d04f538ec15ee479aaf843",
        "IPY_MODEL_772da774e7374d0e86d7a42356b9641e"
       ],
       "layout": "IPY_MODEL_28762f6830b44f61bb8acfae372cde97"
      }
     },
     "6abc521ac40e46f6b389818f51393496": {
      "model_module": "@jupyter-widgets/controls",
      "model_module_version": "1.5.0",
      "model_name": "DescriptionStyleModel",
      "state": {
       "description_width": ""
      }
     },
     "6af3341cdab043d3bb0977fdc5b103a8": {
      "model_module": "@jupyter-widgets/base",
      "model_module_version": "1.2.0",
      "model_name": "LayoutModel",
      "state": {}
     },
     "6af68c12c3604ab99586567b55602f88": {
      "model_module": "@jupyter-widgets/controls",
      "model_module_version": "1.5.0",
      "model_name": "HBoxModel",
      "state": {
       "children": [
        "IPY_MODEL_03aa4f7551254dc3806b46d103dda771",
        "IPY_MODEL_0992ecf9e8284efd85908a5124341ce0"
       ],
       "layout": "IPY_MODEL_5c7e74ec383c40bb9d979ba42cae5a1a"
      }
     },
     "6b2eb7a02c654f9387b19427d81a3051": {
      "model_module": "@jupyter-widgets/base",
      "model_module_version": "1.2.0",
      "model_name": "LayoutModel",
      "state": {}
     },
     "6b4209ebc02a40a28e1815534c23c4ec": {
      "model_module": "@jupyter-widgets/base",
      "model_module_version": "1.2.0",
      "model_name": "LayoutModel",
      "state": {}
     },
     "6b94d38b4fd549729ebbae1f20860a83": {
      "model_module": "@jupyter-widgets/base",
      "model_module_version": "1.2.0",
      "model_name": "LayoutModel",
      "state": {
       "width": "50%"
      }
     },
     "6b9d146916054690b8196499b0b7b0bb": {
      "model_module": "@jupyter-widgets/base",
      "model_module_version": "1.2.0",
      "model_name": "LayoutModel",
      "state": {}
     },
     "6baed59733c348d2ab05cefd0e696c6c": {
      "model_module": "@jupyter-widgets/base",
      "model_module_version": "1.2.0",
      "model_name": "LayoutModel",
      "state": {}
     },
     "6bb9d70b92cd4ad5ac8f3fab3ac94b5c": {
      "model_module": "@jupyter-widgets/controls",
      "model_module_version": "1.5.0",
      "model_name": "LabelModel",
      "state": {
       "layout": "IPY_MODEL_1748355bdc10447e8f0b11a41073ec17",
       "style": "IPY_MODEL_aacb77b2ab904535b67c5ceb3d9b0031",
       "value": "0.5"
      }
     },
     "6bbbfcfa8a7147dd993f956e745d95dc": {
      "model_module": "@jupyter-widgets/controls",
      "model_module_version": "1.5.0",
      "model_name": "HBoxModel",
      "state": {
       "children": [
        "IPY_MODEL_b955ba4f09bc49e88d744e82bcc611c5",
        "IPY_MODEL_e7ddbc1b685049d18d375d0d3150b94b"
       ],
       "layout": "IPY_MODEL_5dee1c8a8ba0469d81484fb44aef0c63"
      }
     },
     "6c3c93b40250418bb224c0c4380cb112": {
      "model_module": "@jupyter-widgets/controls",
      "model_module_version": "1.5.0",
      "model_name": "DescriptionStyleModel",
      "state": {
       "description_width": ""
      }
     },
     "6c54d68dbce24bff97390bd5944e65a4": {
      "model_module": "@jupyter-widgets/controls",
      "model_module_version": "1.5.0",
      "model_name": "HBoxModel",
      "state": {
       "children": [
        "IPY_MODEL_9168d5bd16584abbbf13d9b20a88b3a3",
        "IPY_MODEL_b2907ed1fce548cc9b6a79db0163b9e4"
       ],
       "layout": "IPY_MODEL_dba8dec08c45470da78920b806f87660"
      }
     },
     "6c66f02e0fee449db1b47f098e540df2": {
      "model_module": "@jupyter-widgets/controls",
      "model_module_version": "1.5.0",
      "model_name": "HBoxModel",
      "state": {
       "children": [
        "IPY_MODEL_449c6bdc1d1c446c9cf0c8c9e2456510",
        "IPY_MODEL_f3c3318c291c44ac894c900d35c26c0c"
       ],
       "layout": "IPY_MODEL_470b42bf5c52451d9e215a886b577861"
      }
     },
     "6ccfa28457b7474f8003aa4a13cc7688": {
      "model_module": "@jupyter-widgets/base",
      "model_module_version": "1.2.0",
      "model_name": "LayoutModel",
      "state": {}
     },
     "6cd5c84de72245f688201b0b6dfa7b5e": {
      "model_module": "@jupyter-widgets/base",
      "model_module_version": "1.2.0",
      "model_name": "LayoutModel",
      "state": {}
     },
     "6cd8d77fced6487daac93cc1c4364d4e": {
      "model_module": "@jupyter-widgets/controls",
      "model_module_version": "1.5.0",
      "model_name": "HBoxModel",
      "state": {
       "children": [
        "IPY_MODEL_fc498e20026b4004889ee1d7d3df2bb7",
        "IPY_MODEL_4c311e94e9da4516b65f553402bba65d"
       ],
       "layout": "IPY_MODEL_3b8fe845594a4e6198b517742775e77b"
      }
     },
     "6d0bd6024d324b1cb41736a4c74b47f6": {
      "model_module": "@jupyter-widgets/base",
      "model_module_version": "1.2.0",
      "model_name": "LayoutModel",
      "state": {}
     },
     "6d0cd9d9650e4cbc948343715d49f988": {
      "model_module": "@jupyter-widgets/controls",
      "model_module_version": "1.5.0",
      "model_name": "LabelModel",
      "state": {
       "layout": "IPY_MODEL_fd35340496a644edbbac56011595c04f",
       "style": "IPY_MODEL_fe343faf347c4292a8a49668fe658215",
       "value": "1003BFFD8BE61032"
      }
     },
     "6d447986debd4c17accf1cf30b95793f": {
      "model_module": "@jupyter-widgets/base",
      "model_module_version": "1.2.0",
      "model_name": "LayoutModel",
      "state": {}
     },
     "6d651d46cb4249af934818db052ae7a2": {
      "model_module": "@jupyter-widgets/base",
      "model_module_version": "1.2.0",
      "model_name": "LayoutModel",
      "state": {}
     },
     "6d7bd1fa21f2422297111cfce1f2261a": {
      "model_module": "@jupyter-widgets/controls",
      "model_module_version": "1.5.0",
      "model_name": "DescriptionStyleModel",
      "state": {
       "description_width": ""
      }
     },
     "6d7fdc185e2e4c4e9bfc5cf4fe73f70b": {
      "model_module": "@jupyter-widgets/controls",
      "model_module_version": "1.5.0",
      "model_name": "HTMLModel",
      "state": {
       "layout": "IPY_MODEL_93d8bb7c0c654e59b92d8cd5cd012de0",
       "style": "IPY_MODEL_ba7b8228529742bb916a1a737ca64ce1",
       "value": "<b>timeoutSeconds:</b>"
      }
     },
     "6d89e174fe384c4d841da24ed53512b7": {
      "model_module": "@jupyter-widgets/base",
      "model_module_version": "1.2.0",
      "model_name": "LayoutModel",
      "state": {}
     },
     "6da10cfd02784aa6a7d48b6ab5fe9538": {
      "model_module": "@jupyter-widgets/controls",
      "model_module_version": "1.5.0",
      "model_name": "LabelModel",
      "state": {
       "layout": "IPY_MODEL_45d712f076a241f3baea327153241e62",
       "style": "IPY_MODEL_89e7e8c457a94976a9920e75aa3b2aab",
       "value": "None"
      }
     },
     "6db718fdf4e54812953aecdc8fda986a": {
      "model_module": "@jupyter-widgets/base",
      "model_module_version": "1.2.0",
      "model_name": "LayoutModel",
      "state": {}
     },
     "6dd25fa8d5fa48278f5bdc869fcb10a1": {
      "model_module": "@jupyter-widgets/base",
      "model_module_version": "1.2.0",
      "model_name": "LayoutModel",
      "state": {}
     },
     "6de400f988e041f1b614bc431e47f2a8": {
      "model_module": "@jupyter-widgets/controls",
      "model_module_version": "1.5.0",
      "model_name": "DescriptionStyleModel",
      "state": {
       "description_width": ""
      }
     },
     "6e20d21f5f5a484793148d688199d0e2": {
      "model_module": "@jupyter-widgets/controls",
      "model_module_version": "1.5.0",
      "model_name": "DescriptionStyleModel",
      "state": {
       "description_width": ""
      }
     },
     "6e242ae4978c44b7abe411fc8fc77625": {
      "model_module": "@jupyter-widgets/base",
      "model_module_version": "1.2.0",
      "model_name": "LayoutModel",
      "state": {}
     },
     "6e2eee100b6d437ba35262b8609d40b7": {
      "model_module": "@jupyter-widgets/controls",
      "model_module_version": "1.5.0",
      "model_name": "DescriptionStyleModel",
      "state": {
       "description_width": ""
      }
     },
     "6e6f7caec4494f8983e3fbabb5353a9b": {
      "model_module": "@jupyter-widgets/controls",
      "model_module_version": "1.5.0",
      "model_name": "LabelModel",
      "state": {
       "layout": "IPY_MODEL_23cc7ad9dc0e41b485a431be8a2099bd",
       "style": "IPY_MODEL_dae460b9c75648e092268062d9584a71",
       "value": "1"
      }
     },
     "6e84eb7920f14c9dbf650e79e93a29eb": {
      "model_module": "@jupyter-widgets/base",
      "model_module_version": "1.2.0",
      "model_name": "LayoutModel",
      "state": {}
     },
     "6ea11990081c4d8baea66f17ffe8844a": {
      "model_module": "@jupyter-widgets/base",
      "model_module_version": "1.2.0",
      "model_name": "LayoutModel",
      "state": {}
     },
     "6eb22b11e0c34556b90f837dde9aac35": {
      "model_module": "@jupyter-widgets/controls",
      "model_module_version": "1.5.0",
      "model_name": "AccordionModel",
      "state": {
       "_titles": {
        "0": "livenessProbeRequirements"
       },
       "children": [
        "IPY_MODEL_77159b28d2e4490a83d2ebda311b3bb2"
       ],
       "layout": "IPY_MODEL_623a7e3672844f5b8e818eb134833753"
      }
     },
     "6ec5a65eba874fd3b0fa6271cadee7d5": {
      "model_module": "@jupyter-widgets/controls",
      "model_module_version": "1.5.0",
      "model_name": "HBoxModel",
      "state": {
       "children": [
        "IPY_MODEL_2d643ce3276745caaafbb68a062ebe42",
        "IPY_MODEL_06629b252a104574bcb83bac6370bd5d"
       ],
       "layout": "IPY_MODEL_78d4b1dc30fe4b85bbbab6693f3153e8"
      }
     },
     "6f374740cd3e4f5cb8ce0a125bde71fb": {
      "model_module": "@jupyter-widgets/controls",
      "model_module_version": "1.5.0",
      "model_name": "HBoxModel",
      "state": {
       "children": [
        "IPY_MODEL_e564579e352c4a54a557a98b61288558",
        "IPY_MODEL_d02946a1706f40099c6c871be52855f1"
       ],
       "layout": "IPY_MODEL_9b1d19db2e7d45eb8497b96c827cef03"
      }
     },
     "6f41c479bf6c4243b44f57a7fe1c42c7": {
      "model_module": "@jupyter-widgets/controls",
      "model_module_version": "1.5.0",
      "model_name": "DescriptionStyleModel",
      "state": {
       "description_width": ""
      }
     },
     "6f5e4fce483b4e6dad3333a287ddfef8": {
      "model_module": "@jupyter-widgets/base",
      "model_module_version": "1.2.0",
      "model_name": "LayoutModel",
      "state": {}
     },
     "6f625de1a2bf48e1abaaef769fd73455": {
      "model_module": "@jupyter-widgets/controls",
      "model_module_version": "1.5.0",
      "model_name": "VBoxModel",
      "state": {
       "children": [
        "IPY_MODEL_7da4c709252f4e5f9aa51ecbca8a8353",
        "IPY_MODEL_eed4385c3a98443d90228c122603a223",
        "IPY_MODEL_4499024707bb4f57b8fa22f30125e523"
       ],
       "layout": "IPY_MODEL_a6b2440bd3054b408c7347a82e4ddfc6"
      }
     },
     "6fc06c97a5c74a5bbd64f26fbc49a184": {
      "model_module": "@jupyter-widgets/controls",
      "model_module_version": "1.5.0",
      "model_name": "DescriptionStyleModel",
      "state": {
       "description_width": ""
      }
     },
     "6fc1fc501a104a83aaaaea3315d3df72": {
      "model_module": "@jupyter-widgets/controls",
      "model_module_version": "1.5.0",
      "model_name": "HTMLModel",
      "state": {
       "layout": "IPY_MODEL_1212a95a729e4f0985f7f7921c8d34a1",
       "style": "IPY_MODEL_5d5439c2406d4227a746bca6d09d3a48",
       "value": "<b>authEnabled:</b>"
      }
     },
     "6fc3c28b1f9f431393e1bdc90239de52": {
      "model_module": "@jupyter-widgets/controls",
      "model_module_version": "1.5.0",
      "model_name": "HTMLModel",
      "state": {
       "layout": "IPY_MODEL_7ddc8fa530fa4dd2a04c64627ea975ec",
       "style": "IPY_MODEL_6fc06c97a5c74a5bbd64f26fbc49a184",
       "value": "<img src=\"https://raw.githubusercontent.com/microsoft/AI-Utilities/master/docs/studio.png\">"
      }
     },
     "6fea34da79704b2a85501ae091866730": {
      "model_module": "@jupyter-widgets/controls",
      "model_module_version": "1.5.0",
      "model_name": "DescriptionStyleModel",
      "state": {
       "description_width": ""
      }
     },
     "700c64a713ce49169b6cba329af89f5d": {
      "model_module": "@jupyter-widgets/controls",
      "model_module_version": "1.5.0",
      "model_name": "DescriptionStyleModel",
      "state": {
       "description_width": ""
      }
     },
     "700f869fb07d4b218f8a5fcdea308fb2": {
      "model_module": "@jupyter-widgets/controls",
      "model_module_version": "1.5.0",
      "model_name": "HBoxModel",
      "state": {
       "children": [
        "IPY_MODEL_0ec287a23a934f33aad1a4f07f17ef34",
        "IPY_MODEL_0ff907629814407c8eb0df1203da2970"
       ],
       "layout": "IPY_MODEL_87f38f34a5b741a8a42ad072e6259de7"
      }
     },
     "7037980a8c14401bb9f255e5fe84d6c5": {
      "model_module": "@jupyter-widgets/base",
      "model_module_version": "1.2.0",
      "model_name": "LayoutModel",
      "state": {}
     },
     "70489331726848cb840fe7b96b624a86": {
      "model_module": "@jupyter-widgets/controls",
      "model_module_version": "1.5.0",
      "model_name": "DescriptionStyleModel",
      "state": {
       "description_width": ""
      }
     },
     "7053979c5f78482b98ca34b0632afe9f": {
      "model_module": "@jupyter-widgets/controls",
      "model_module_version": "1.5.0",
      "model_name": "TextModel",
      "state": {
       "description": "aks_location",
       "layout": "IPY_MODEL_7503e124eb3f4b09993ee4dc471776d6",
       "placeholder": " AKS Azure Region",
       "style": "IPY_MODEL_11d72cdbd7d74291aa7b3d5ac61adae0",
       "value": "eastus"
      }
     },
     "70674147e1564029a064e6d0bdd16dbf": {
      "model_module": "@jupyter-widgets/base",
      "model_module_version": "1.2.0",
      "model_name": "LayoutModel",
      "state": {}
     },
     "70811d926017468ca99f8dd7a739073c": {
      "model_module": "@jupyter-widgets/controls",
      "model_module_version": "1.5.0",
      "model_name": "LabelModel",
      "state": {
       "layout": "IPY_MODEL_ddcbd4b54522496395f9bf73f08d76fc",
       "style": "IPY_MODEL_01bb480ba2874022a16541a9316dcbc0",
       "value": "1"
      }
     },
     "70848c1e9aa540c4a054161474ce8d7a": {
      "model_module": "@jupyter-widgets/controls",
      "model_module_version": "1.5.0",
      "model_name": "DescriptionStyleModel",
      "state": {
       "description_width": ""
      }
     },
     "70986bb92df3455ba79d4c100928edb2": {
      "model_module": "@jupyter-widgets/controls",
      "model_module_version": "1.5.0",
      "model_name": "DescriptionStyleModel",
      "state": {
       "description_width": ""
      }
     },
     "70c407382a6140ec841a2fd4a14b12ae": {
      "model_module": "@jupyter-widgets/controls",
      "model_module_version": "1.5.0",
      "model_name": "LabelModel",
      "state": {
       "layout": "IPY_MODEL_4f01e8a9141e48bfac3ad96ec461d57a",
       "style": "IPY_MODEL_ed617e8a771e4ee2ae8930a5d83ffff9",
       "value": "aml://asset/5ab7f6be706a4cb8a658fa05810f9f97"
      }
     },
     "70dd68118e48495684b6939265be8026": {
      "model_module": "@jupyter-widgets/controls",
      "model_module_version": "1.5.0",
      "model_name": "DescriptionStyleModel",
      "state": {
       "description_width": ""
      }
     },
     "71054fd9fe4b4ebc9bec8f47b70035b4": {
      "model_module": "@jupyter-widgets/base",
      "model_module_version": "1.2.0",
      "model_name": "LayoutModel",
      "state": {}
     },
     "711d38f94b80446e99aac19ba5ec6124": {
      "model_module": "@jupyter-widgets/base",
      "model_module_version": "1.2.0",
      "model_name": "LayoutModel",
      "state": {}
     },
     "7120847684a940f4b003198196858af6": {
      "model_module": "@jupyter-widgets/controls",
      "model_module_version": "1.5.0",
      "model_name": "HTMLModel",
      "state": {
       "layout": "IPY_MODEL_4379454348e744cdae1d02da9c8d7b5d",
       "style": "IPY_MODEL_97fa288f81eb435cb8eb5410ce86b900",
       "value": "<b>successThreshold:</b>"
      }
     },
     "712177039eef42e4ae12212b0367f7b7": {
      "model_module": "@jupyter-widgets/base",
      "model_module_version": "1.2.0",
      "model_name": "LayoutModel",
      "state": {}
     },
     "7122434f5c1341aa8e31a557c8abda8c": {
      "model_module": "@jupyter-widgets/base",
      "model_module_version": "1.2.0",
      "model_name": "LayoutModel",
      "state": {}
     },
     "7127302cfcf44fb7b0d1217efc286e6c": {
      "model_module": "@jupyter-widgets/controls",
      "model_module_version": "1.5.0",
      "model_name": "LabelModel",
      "state": {
       "layout": "IPY_MODEL_9c5845d1e4d24c45947b044d72e4fafb",
       "style": "IPY_MODEL_1336f2c1d9044c31913e6094deafe18e",
       "value": "2020-03-18T21:25:26.495620+00:00"
      }
     },
     "7142499ee39744e392dc37239e4ccff4": {
      "model_module": "@jupyter-widgets/base",
      "model_module_version": "1.2.0",
      "model_name": "LayoutModel",
      "state": {}
     },
     "716f8ce598d842cdb83478031c8bd2d0": {
      "model_module": "@jupyter-widgets/controls",
      "model_module_version": "1.5.0",
      "model_name": "DescriptionStyleModel",
      "state": {
       "description_width": ""
      }
     },
     "7176841e65ee43da9a81e395d358aeb9": {
      "model_module": "@jupyter-widgets/controls",
      "model_module_version": "1.5.0",
      "model_name": "HTMLModel",
      "state": {
       "layout": "IPY_MODEL_2d965c6fb6c54ec0804127698776187d",
       "style": "IPY_MODEL_e0e534d6e89a46968710361ad50c9260",
       "value": "<b>numReplicas:</b>"
      }
     },
     "7181a62be068412b8ae4518c30b8d0df": {
      "model_module": "@jupyter-widgets/controls",
      "model_module_version": "1.5.0",
      "model_name": "DescriptionStyleModel",
      "state": {
       "description_width": ""
      }
     },
     "71b40283d6e84d02ab4fa1900c3acc17": {
      "model_module": "@jupyter-widgets/controls",
      "model_module_version": "1.5.0",
      "model_name": "HTMLModel",
      "state": {
       "layout": "IPY_MODEL_cf37b9c720d7458fa0ec25a1233e8cd2",
       "style": "IPY_MODEL_789b6944937e45f7bbf996b435fbaf23",
       "value": "<b>databricks:</b>"
      }
     },
     "71d3516fb3ae43f2ab19c6cfd2959704": {
      "model_module": "@jupyter-widgets/base",
      "model_module_version": "1.2.0",
      "model_name": "LayoutModel",
      "state": {}
     },
     "71f55d3278ab4373800f35ab1f3f7add": {
      "model_module": "@jupyter-widgets/controls",
      "model_module_version": "1.5.0",
      "model_name": "HBoxModel",
      "state": {
       "children": [
        "IPY_MODEL_7416e5b251e840de89059ddbd56fbf0c",
        "IPY_MODEL_6bb9d70b92cd4ad5ac8f3fab3ac94b5c"
       ],
       "layout": "IPY_MODEL_26222eab65c3450bb9edc519e43ed348"
      }
     },
     "72013b9833b84722b789f1ec0fce05f7": {
      "model_module": "@jupyter-widgets/base",
      "model_module_version": "1.2.0",
      "model_name": "LayoutModel",
      "state": {}
     },
     "723010021c1848da8d09e73936c173ba": {
      "model_module": "@jupyter-widgets/controls",
      "model_module_version": "1.5.0",
      "model_name": "HTMLModel",
      "state": {
       "layout": "IPY_MODEL_4825d90865f0482081583af5d2e15367",
       "style": "IPY_MODEL_1ea9d0beaff34d4fa52c36ec5b5f9e04",
       "value": "<b>spark:</b>"
      }
     },
     "7235a2467e79431e9ce298c5c3c2542a": {
      "model_module": "@jupyter-widgets/controls",
      "model_module_version": "1.5.0",
      "model_name": "DescriptionStyleModel",
      "state": {
       "description_width": ""
      }
     },
     "7239be7a37ec41e7b0a7162b4d2dd639": {
      "model_module": "@jupyter-widgets/controls",
      "model_module_version": "1.5.0",
      "model_name": "HTMLModel",
      "state": {
       "layout": "IPY_MODEL_fa253d7aecf54e14af3559f29736d533",
       "style": "IPY_MODEL_85bf98ccef4740e09ad8c2f39b5becb7",
       "value": "<b>computeType:</b>"
      }
     },
     "7275201d671d46f4a65b147049512a11": {
      "model_module": "@jupyter-widgets/controls",
      "model_module_version": "1.5.0",
      "model_name": "FileUploadModel",
      "state": {
       "accept": ".yml",
       "description_tooltip": null,
       "layout": "IPY_MODEL_c58faddc147d43759d44f68451a36690",
       "style": "IPY_MODEL_f776a236c5804964b251ec29d177ecc2"
      }
     },
     "72935b6877a04fa6a1b1e747cb244ff8": {
      "model_module": "@jupyter-widgets/controls",
      "model_module_version": "1.5.0",
      "model_name": "DescriptionStyleModel",
      "state": {
       "description_width": ""
      }
     },
     "72975f8177904a489dfd0079b7013710": {
      "model_module": "@jupyter-widgets/base",
      "model_module_version": "1.2.0",
      "model_name": "LayoutModel",
      "state": {}
     },
     "729861f5cd034137b50503263be1f9d6": {
      "model_module": "@jupyter-widgets/controls",
      "model_module_version": "1.5.0",
      "model_name": "DescriptionStyleModel",
      "state": {
       "description_width": ""
      }
     },
     "72c7a7f73c874b35bae93a7dd71b8f5c": {
      "model_module": "@jupyter-widgets/base",
      "model_module_version": "1.2.0",
      "model_name": "LayoutModel",
      "state": {}
     },
     "72f92022327b4dec87accc5a6fbd4fb2": {
      "model_module": "@jupyter-widgets/controls",
      "model_module_version": "1.5.0",
      "model_name": "DescriptionStyleModel",
      "state": {
       "description_width": ""
      }
     },
     "730ae967fd9e4d16b53a7df308396b49": {
      "model_module": "@jupyter-widgets/controls",
      "model_module_version": "1.5.0",
      "model_name": "LabelModel",
      "state": {
       "layout": "IPY_MODEL_553870befa4549cb9172d9f188fda63c",
       "style": "IPY_MODEL_6485ae5b26e540748d992c06036e35a1",
       "value": "deepaksservice"
      }
     },
     "7310fa5f484a47d0af9662b4854e062f": {
      "model_module": "@jupyter-widgets/controls",
      "model_module_version": "1.5.0",
      "model_name": "DescriptionStyleModel",
      "state": {
       "description_width": ""
      }
     },
     "732f3b8e129e4bc49243bb83ec6c50ca": {
      "model_module": "@jupyter-widgets/controls",
      "model_module_version": "1.5.0",
      "model_name": "HBoxModel",
      "state": {
       "children": [
        "IPY_MODEL_0e253238d21b4238a10ba5bb6f6a252d",
        "IPY_MODEL_a9912d8b4bcb4cfdbaabf0027b674266"
       ],
       "layout": "IPY_MODEL_024b61ecda0147e2a9a6dbcd2d9c1590"
      }
     },
     "7334ede3cf584b8694bc9c831974d5e8": {
      "model_module": "@jupyter-widgets/controls",
      "model_module_version": "1.5.0",
      "model_name": "LabelModel",
      "state": {
       "layout": "IPY_MODEL_046710e83b084fb9a85c8dd25bc69d99",
       "style": "IPY_MODEL_9032fe5a6c90403088e26f831d87da63",
       "value": "5"
      }
     },
     "733ef681566046c9a3442c20c298c6b5": {
      "model_module": "@jupyter-widgets/controls",
      "model_module_version": "1.5.0",
      "model_name": "VBoxModel",
      "state": {
       "children": [
        "IPY_MODEL_74305b294141409c978ea3eed78380b2",
        "IPY_MODEL_d739920a04dc406282904609e6b12960",
        "IPY_MODEL_8b106fa0a7ce4d6c93e725c1ac7b5f6a",
        "IPY_MODEL_700f869fb07d4b218f8a5fcdea308fb2",
        "IPY_MODEL_c33cfb379e75493a8694fa72e0405c00"
       ],
       "layout": "IPY_MODEL_a27676f6e1a94252922774328322f7d8"
      }
     },
     "73512508f00547a7bb6d08349b6e2527": {
      "model_module": "@jupyter-widgets/controls",
      "model_module_version": "1.5.0",
      "model_name": "DescriptionStyleModel",
      "state": {
       "description_width": ""
      }
     },
     "7352abe2f71d488d953bc0374f80097c": {
      "model_module": "@jupyter-widgets/base",
      "model_module_version": "1.2.0",
      "model_name": "LayoutModel",
      "state": {}
     },
     "73571ecddf50477e91ee1c86e7d97fb1": {
      "model_module": "@jupyter-widgets/controls",
      "model_module_version": "1.5.0",
      "model_name": "AccordionModel",
      "state": {
       "_titles": {
        "0": "dataCollection"
       },
       "children": [
        "IPY_MODEL_d4c26be010a947c0979c61e6e87ae1d1"
       ],
       "layout": "IPY_MODEL_ac307cadc3624b39af8422174b73c7b6"
      }
     },
     "736a1835af2f4545810fe7c530e9ec3e": {
      "model_module": "@jupyter-widgets/base",
      "model_module_version": "1.2.0",
      "model_name": "LayoutModel",
      "state": {}
     },
     "737ce00a018f4309a2f07a1c8f32ec24": {
      "model_module": "@jupyter-widgets/base",
      "model_module_version": "1.2.0",
      "model_name": "LayoutModel",
      "state": {}
     },
     "73b0409829144658a43e5dc9f79fc883": {
      "model_module": "@jupyter-widgets/base",
      "model_module_version": "1.2.0",
      "model_name": "LayoutModel",
      "state": {}
     },
     "73b4952122bd43009d72e2449bfe3eee": {
      "model_module": "@jupyter-widgets/controls",
      "model_module_version": "1.5.0",
      "model_name": "VBoxModel",
      "state": {
       "children": [
        "IPY_MODEL_7d5b82d4376a495592d410ed0e47df57",
        "IPY_MODEL_56baaf6f11e3487b8803425503d6360c",
        "IPY_MODEL_c91f415522f44414a455779f0378c150",
        "IPY_MODEL_7d8473d10873408382f5b329e5136ab3",
        "IPY_MODEL_6c66f02e0fee449db1b47f098e540df2",
        "IPY_MODEL_687001af24b047a4990e4eb196054b78",
        "IPY_MODEL_002f1e027ae54a11a3cea6be5c888ec6",
        "IPY_MODEL_f371ce33f3fb4fed829ce62874c4a3d8",
        "IPY_MODEL_47324781090743caa485fb232359a094",
        "IPY_MODEL_5ef60fae651946e899ec451c234abbd6",
        "IPY_MODEL_3d97b84a955e4497bcf3f0e04ce38b90",
        "IPY_MODEL_c2a287c252ac4e16a11fa9d6536ce0e3",
        "IPY_MODEL_eec04c9da81b4a6d9e7f015d81a0b75a",
        "IPY_MODEL_6cd8d77fced6487daac93cc1c4364d4e",
        "IPY_MODEL_7537a57811184cbda0e313637fd16bc3",
        "IPY_MODEL_ca86795b59dd49868e93922bbd4d0369",
        "IPY_MODEL_cfa1e7266c13438dbaf92eaac704643a"
       ],
       "layout": "IPY_MODEL_ca25ab5b34e9408aa12437bbfcff5dff"
      }
     },
     "7415fb6084cf436590f7f61fdd17413b": {
      "model_module": "@jupyter-widgets/controls",
      "model_module_version": "1.5.0",
      "model_name": "HTMLModel",
      "state": {
       "layout": "IPY_MODEL_60608c711d7c4a51850c14771cdf80de",
       "style": "IPY_MODEL_88a8f9444b964238ae922eb6c8a062aa",
       "value": "<b>timeoutSeconds:</b>"
      }
     },
     "7416e5b251e840de89059ddbd56fbf0c": {
      "model_module": "@jupyter-widgets/controls",
      "model_module_version": "1.5.0",
      "model_name": "HTMLModel",
      "state": {
       "layout": "IPY_MODEL_1667acd8626d48b9be6debc14b69dcbb",
       "style": "IPY_MODEL_3318bbf41a5846899bb0a11582eba6b1",
       "value": "<b>memoryInGB:</b>"
      }
     },
     "74305b294141409c978ea3eed78380b2": {
      "model_module": "@jupyter-widgets/controls",
      "model_module_version": "1.5.0",
      "model_name": "HBoxModel",
      "state": {
       "children": [
        "IPY_MODEL_b44ce02b98314e2caf99d2a2d5eccee2",
        "IPY_MODEL_6493600f59114ba9b2149269091b8c4f"
       ],
       "layout": "IPY_MODEL_27aed8fde1cf4f6a9771c507f801fc8e"
      }
     },
     "743a7cd84f644bfe9207753d02a1bd43": {
      "model_module": "@jupyter-widgets/base",
      "model_module_version": "1.2.0",
      "model_name": "LayoutModel",
      "state": {}
     },
     "743e2191cb0b4f00be143a3dea497e98": {
      "model_module": "@jupyter-widgets/controls",
      "model_module_version": "1.5.0",
      "model_name": "LabelModel",
      "state": {
       "layout": "IPY_MODEL_ef2f0190d0be456aafc837c1d1f85582",
       "style": "IPY_MODEL_ad3e7d03b3b14c31a89bba3ae71b7bf4",
       "value": "{'enabled': False, 'baseImage': 'mcr.microsoft.com/azureml/base:intelmpi2018.3-ubuntu16.04', 'baseDockerfile': None, 'sharedVolumes': True, 'shmSize': None, 'arguments': [], 'baseImageRegistry': {'address': None, 'username': None, 'password': None}}"
      }
     },
     "7443bde2040c464cae8df9542c258154": {
      "model_module": "@jupyter-widgets/controls",
      "model_module_version": "1.5.0",
      "model_name": "HTMLModel",
      "state": {
       "layout": "IPY_MODEL_a0efa7ee30be425392ca4bd6b4fbebac",
       "style": "IPY_MODEL_554e5ed0719a4151a9f72e68fba6c6e7",
       "value": "<b>docker:</b>"
      }
     },
     "746efef7c2884318bed06dd5caf6dd05": {
      "model_module": "@jupyter-widgets/controls",
      "model_module_version": "1.5.0",
      "model_name": "HBoxModel",
      "state": {
       "children": [
        "IPY_MODEL_1e325f71410d42349ab7aee4a06cec1f",
        "IPY_MODEL_255d347fa26a48a4baba2fa2f4a46dda"
       ],
       "layout": "IPY_MODEL_79e4a04a58aa4e4ca587b8e592277bb7"
      }
     },
     "747f73b9360b45f3bd80da5c4c2b9eb1": {
      "model_module": "@jupyter-widgets/base",
      "model_module_version": "1.2.0",
      "model_name": "LayoutModel",
      "state": {}
     },
     "7490f92a6dcb4a3786c994bf67237d43": {
      "model_module": "@jupyter-widgets/base",
      "model_module_version": "1.2.0",
      "model_name": "LayoutModel",
      "state": {}
     },
     "7496f420a55d4a2d996f975995bdc4f6": {
      "model_module": "@jupyter-widgets/base",
      "model_module_version": "1.2.0",
      "model_name": "LayoutModel",
      "state": {}
     },
     "74adc20bcc244a89af5b4d83f7b109b7": {
      "model_module": "@jupyter-widgets/controls",
      "model_module_version": "1.5.0",
      "model_name": "DescriptionStyleModel",
      "state": {
       "description_width": ""
      }
     },
     "74c9557a729a4da5b5ee18dbef7ba781": {
      "model_module": "@jupyter-widgets/base",
      "model_module_version": "1.2.0",
      "model_name": "LayoutModel",
      "state": {}
     },
     "74d0c32e8e1242afa361e77f90963b11": {
      "model_module": "@jupyter-widgets/controls",
      "model_module_version": "1.5.0",
      "model_name": "DescriptionStyleModel",
      "state": {
       "description_width": ""
      }
     },
     "74d8073c8d3e4ce5994899d507a5defe": {
      "model_module": "@jupyter-widgets/controls",
      "model_module_version": "1.5.0",
      "model_name": "DescriptionStyleModel",
      "state": {
       "description_width": ""
      }
     },
     "74e20f56a24f417282b4cbbf270f3a89": {
      "model_module": "@jupyter-widgets/controls",
      "model_module_version": "1.5.0",
      "model_name": "HBoxModel",
      "state": {
       "children": [
        "IPY_MODEL_549ce1beb9f64a3fb32e5cd5b1765cfe",
        "IPY_MODEL_c27285eb8c7b441b9d39182e530f37c8"
       ],
       "layout": "IPY_MODEL_50d41da340444a348313fc2b9f88cfe4"
      }
     },
     "7503e124eb3f4b09993ee4dc471776d6": {
      "model_module": "@jupyter-widgets/base",
      "model_module_version": "1.2.0",
      "model_name": "LayoutModel",
      "state": {
       "width": "50%"
      }
     },
     "750a43a1902d43d9962786d5c40f999e": {
      "model_module": "@jupyter-widgets/controls",
      "model_module_version": "1.5.0",
      "model_name": "HTMLModel",
      "state": {
       "layout": "IPY_MODEL_525cb4280fbe4d829c396a3d8368c657",
       "style": "IPY_MODEL_862cbad9b16746269a08b45052713c2e",
       "value": "<img src=\"https://raw.githubusercontent.com/microsoft/AI-Utilities/master/docs/app_insights_perf.png\">"
      }
     },
     "7537a57811184cbda0e313637fd16bc3": {
      "model_module": "@jupyter-widgets/controls",
      "model_module_version": "1.5.0",
      "model_name": "HBoxModel",
      "state": {
       "children": [
        "IPY_MODEL_49f80057d13042f1a15ce7b434e2d11c",
        "IPY_MODEL_aa6f5f0342b24fd1b12881166d955b7d"
       ],
       "layout": "IPY_MODEL_7621979d0fe04cd69bfd6649f240d774"
      }
     },
     "753ad9a462954ec19ddbf60d9167a2f0": {
      "model_module": "@jupyter-widgets/controls",
      "model_module_version": "1.5.0",
      "model_name": "HTMLModel",
      "state": {
       "layout": "IPY_MODEL_55dc5c2e03c240b08dea4023d5abb5a1",
       "style": "IPY_MODEL_b00671be11a94391b14172a23c5df5d5",
       "value": "<b>sampleOutputDatasetId:</b>"
      }
     },
     "75612d141aaa4793b93c8ce6bc6f22ca": {
      "model_module": "@jupyter-widgets/base",
      "model_module_version": "1.2.0",
      "model_name": "LayoutModel",
      "state": {}
     },
     "75688fb13b514ead8d0460a3131263ab": {
      "model_module": "@jupyter-widgets/base",
      "model_module_version": "1.2.0",
      "model_name": "LayoutModel",
      "state": {}
     },
     "7577bcb77b17424faf9f3e881d0e0ae8": {
      "model_module": "@jupyter-widgets/controls",
      "model_module_version": "1.5.0",
      "model_name": "DescriptionStyleModel",
      "state": {
       "description_width": ""
      }
     },
     "7577c95d31a6433591b7a6824b779948": {
      "model_module": "@jupyter-widgets/base",
      "model_module_version": "1.2.0",
      "model_name": "LayoutModel",
      "state": {}
     },
     "758ab18671a140feba9c456c906b0784": {
      "model_module": "@jupyter-widgets/controls",
      "model_module_version": "1.5.0",
      "model_name": "LabelModel",
      "state": {
       "layout": "IPY_MODEL_59f73f31b46e49019296112f063be7dc",
       "style": "IPY_MODEL_5326f886ef094c9ba890c4d4e206c04b",
       "value": "True"
      }
     },
     "75ab234b87784484b9015eced14b80fc": {
      "model_module": "@jupyter-widgets/base",
      "model_module_version": "1.2.0",
      "model_name": "LayoutModel",
      "state": {}
     },
     "75bb707999fb4ef98bdff541198a6fd6": {
      "model_module": "@jupyter-widgets/controls",
      "model_module_version": "1.5.0",
      "model_name": "HTMLModel",
      "state": {
       "layout": "IPY_MODEL_898c4714e77347038e5513857f121d73",
       "style": "IPY_MODEL_28272683d55d433082d06462a4a7d81c",
       "value": "<b>autoscaleEnabled:</b>"
      }
     },
     "75fba00fbc4f435ca5724dfa36c76538": {
      "model_module": "@jupyter-widgets/base",
      "model_module_version": "1.2.0",
      "model_name": "LayoutModel",
      "state": {}
     },
     "75fe9d87a72642e296886e689409b6d3": {
      "model_module": "@jupyter-widgets/base",
      "model_module_version": "1.2.0",
      "model_name": "LayoutModel",
      "state": {}
     },
     "760b53432cc24dafae04803e717a925a": {
      "model_module": "@jupyter-widgets/controls",
      "model_module_version": "1.5.0",
      "model_name": "DescriptionStyleModel",
      "state": {
       "description_width": ""
      }
     },
     "761e2d4f70c14d15b72442eee36cc3ea": {
      "model_module": "@jupyter-widgets/controls",
      "model_module_version": "1.5.0",
      "model_name": "DescriptionStyleModel",
      "state": {
       "description_width": ""
      }
     },
     "7621979d0fe04cd69bfd6649f240d774": {
      "model_module": "@jupyter-widgets/base",
      "model_module_version": "1.2.0",
      "model_name": "LayoutModel",
      "state": {}
     },
     "762bc9c289474af5ba3fe5acdc5f2f52": {
      "model_module": "@jupyter-widgets/controls",
      "model_module_version": "1.5.0",
      "model_name": "DescriptionStyleModel",
      "state": {
       "description_width": ""
      }
     },
     "7631e79f681c42c5a709ee99f6a8ebef": {
      "model_module": "@jupyter-widgets/base",
      "model_module_version": "1.2.0",
      "model_name": "LayoutModel",
      "state": {}
     },
     "7640e0ab45e64e128722f2b3f4abb996": {
      "model_module": "@jupyter-widgets/controls",
      "model_module_version": "1.5.0",
      "model_name": "HBoxModel",
      "state": {
       "children": [
        "IPY_MODEL_02815d45bdfc4e9aa5691bd61a70fd4d",
        "IPY_MODEL_e606b8fa3c5343fba145a4e041856485"
       ],
       "layout": "IPY_MODEL_55fbf081f6ec422ca723fd10b48f6fbd"
      }
     },
     "76726dff1fc846f19baadd07771487f2": {
      "model_module": "@jupyter-widgets/controls",
      "model_module_version": "1.5.0",
      "model_name": "HTMLModel",
      "state": {
       "layout": "IPY_MODEL_157037d3c9ca479bbb15ac48f57d9c15",
       "style": "IPY_MODEL_6abc521ac40e46f6b389818f51393496",
       "value": "<b>userPuId:</b>"
      }
     },
     "7694f33b748043c792e13966bb6e7840": {
      "model_module": "@jupyter-widgets/controls",
      "model_module_version": "1.5.0",
      "model_name": "LabelModel",
      "state": {
       "layout": "IPY_MODEL_0dac1d3f38974d53b27585896df61107",
       "style": "IPY_MODEL_760b53432cc24dafae04803e717a925a",
       "value": "2020-03-04T01:05:12.753405+00:00"
      }
     },
     "76a3097951d44526bbfc2c9852bf79e0": {
      "model_module": "@jupyter-widgets/base",
      "model_module_version": "1.2.0",
      "model_name": "LayoutModel",
      "state": {}
     },
     "76db110f9941437885b905acaee3b584": {
      "model_module": "@jupyter-widgets/controls",
      "model_module_version": "1.5.0",
      "model_name": "HBoxModel",
      "state": {
       "children": [
        "IPY_MODEL_d2cd7bcc35ee4089a8d7c62a0ce3d072",
        "IPY_MODEL_aceb5055476f47148ba18159566fe4ff"
       ],
       "layout": "IPY_MODEL_0cb6ff0591cb4f10b5b6f75b6e7e324a"
      }
     },
     "76f8813e693f4f058a604a7e0c325fc5": {
      "model_module": "@jupyter-widgets/controls",
      "model_module_version": "1.5.0",
      "model_name": "HTMLModel",
      "state": {
       "layout": "IPY_MODEL_f6746a9f8cd843f4895540a271d40d11",
       "style": "IPY_MODEL_578c5660a32d4b5990f0b382456c4dec",
       "value": "<b>frameworkVersion:</b>"
      }
     },
     "77029f95ebb14f06a52ff9ca620f920e": {
      "model_module": "@jupyter-widgets/controls",
      "model_module_version": "1.5.0",
      "model_name": "DescriptionStyleModel",
      "state": {
       "description_width": ""
      }
     },
     "77159b28d2e4490a83d2ebda311b3bb2": {
      "model_module": "@jupyter-widgets/controls",
      "model_module_version": "1.5.0",
      "model_name": "VBoxModel",
      "state": {
       "children": [
        "IPY_MODEL_567c889721a64e4f9fc61431bc39992b",
        "IPY_MODEL_3808237945fd46a1aeb6a1a844069c02",
        "IPY_MODEL_8182fc879f904d72b495d5ab59ee1cd2",
        "IPY_MODEL_dd379ec3c4794d8fa59f63c13f46a22f",
        "IPY_MODEL_e2ecc53d0c2f4071a73280e35bd0388b"
       ],
       "layout": "IPY_MODEL_e6102e8e1a7f4ce99f58a524df6634e5"
      }
     },
     "772da774e7374d0e86d7a42356b9641e": {
      "model_module": "@jupyter-widgets/controls",
      "model_module_version": "1.5.0",
      "model_name": "LabelModel",
      "state": {
       "layout": "IPY_MODEL_604abd6c1d9545e0ae38811987209976",
       "style": "IPY_MODEL_d8115e9c246542868576e1ed337d00d0",
       "value": "e6cc2e17-5968-49e6-bb8f-9fb978a0d450"
      }
     },
     "772f869900634d27bb37facdd9f61aa4": {
      "model_module": "@jupyter-widgets/controls",
      "model_module_version": "1.5.0",
      "model_name": "HTMLModel",
      "state": {
       "layout": "IPY_MODEL_b7c364321afb45ddac12c40fa106a0e8",
       "style": "IPY_MODEL_18548426450045b5a1be889ae069f4fb",
       "value": "<b>maxConcurrentRequestsPerContainer:</b>"
      }
     },
     "7732429e863c45e38598c7138fdc8768": {
      "model_module": "@jupyter-widgets/controls",
      "model_module_version": "1.5.0",
      "model_name": "HBoxModel",
      "state": {
       "children": [
        "IPY_MODEL_ef49411f27ec492a8e03979f5c78bb10",
        "IPY_MODEL_2da90cec94b3421f840fc74cab439e9c"
       ],
       "layout": "IPY_MODEL_1aadb7c850934c67ae369675ae202294"
      }
     },
     "777769c0a8534fffafaf463715fb861b": {
      "model_module": "@jupyter-widgets/base",
      "model_module_version": "1.2.0",
      "model_name": "LayoutModel",
      "state": {}
     },
     "778513021ba8412a9cccf60d5d786aa6": {
      "model_module": "@jupyter-widgets/controls",
      "model_module_version": "1.5.0",
      "model_name": "VBoxModel",
      "state": {
       "children": [
        "IPY_MODEL_b5f3448e546e4a5994a12a29b216d061",
        "IPY_MODEL_5c611032c42d4037a75255e662a375a2",
        "IPY_MODEL_b6eabe865b454b44a7729bc6f90e4f5c",
        "IPY_MODEL_b613ffe3cca44e6c9fe704985b583bc4",
        "IPY_MODEL_c2059aba9c8a4cdc84da2c49e86eaaeb",
        "IPY_MODEL_959442d6b05948878770f922c088040a",
        "IPY_MODEL_dcb9e0991f1840cca040ac785efa707b",
        "IPY_MODEL_8a5a8465bb0c4901bbbfe2c5c83b0d48",
        "IPY_MODEL_58e4bad3bc604a5a977c6501a5c34d5c",
        "IPY_MODEL_5923b062b79342b6af835e5e978fc7d5",
        "IPY_MODEL_367b316fc96e46faa6f669faddc88d7a",
        "IPY_MODEL_8e7c8b48a259471f9432076d4c626ce5",
        "IPY_MODEL_7803a7b8ce7444589703242435db224b",
        "IPY_MODEL_eb22f4aad765482c901405698085786f",
        "IPY_MODEL_e696c3ee82c243358b3270aa419e012c",
        "IPY_MODEL_db8a66974ee0469584d14a5cbbda8e0e",
        "IPY_MODEL_f773f590672d4f5f985423734991e07c"
       ],
       "layout": "IPY_MODEL_f66801a318c24081bf6a1a56b865475b"
      }
     },
     "778599d49cae4b62856422981112aaf4": {
      "model_module": "@jupyter-widgets/base",
      "model_module_version": "1.2.0",
      "model_name": "LayoutModel",
      "state": {
       "width": "50%"
      }
     },
     "77d2fbaf6e3045a9be75450d045d598a": {
      "model_module": "@jupyter-widgets/base",
      "model_module_version": "1.2.0",
      "model_name": "LayoutModel",
      "state": {}
     },
     "77d5bfbeed204a498a0e554d339cdad8": {
      "model_module": "@jupyter-widgets/controls",
      "model_module_version": "1.5.0",
      "model_name": "HBoxModel",
      "state": {
       "children": [
        "IPY_MODEL_7120847684a940f4b003198196858af6",
        "IPY_MODEL_f95ad38c0b28425095879a8653990359"
       ],
       "layout": "IPY_MODEL_743a7cd84f644bfe9207753d02a1bd43"
      }
     },
     "77de5f3e8ee24630b269990b11eb3b7c": {
      "model_module": "@jupyter-widgets/base",
      "model_module_version": "1.2.0",
      "model_name": "LayoutModel",
      "state": {}
     },
     "7803a7b8ce7444589703242435db224b": {
      "model_module": "@jupyter-widgets/controls",
      "model_module_version": "1.5.0",
      "model_name": "HBoxModel",
      "state": {
       "children": [
        "IPY_MODEL_bc531b2648ad4f64b6ad92c3bc3629ad",
        "IPY_MODEL_fb5b9d2d41164c8a9a646549810fae92"
       ],
       "layout": "IPY_MODEL_a08f5ecaa34640709c364319a65a08ee"
      }
     },
     "78442e6af7ef4cd7915104f1438da05d": {
      "model_module": "@jupyter-widgets/base",
      "model_module_version": "1.2.0",
      "model_name": "LayoutModel",
      "state": {}
     },
     "78524b62b12e486ebcdd1531e8a4b2aa": {
      "model_module": "@jupyter-widgets/base",
      "model_module_version": "1.2.0",
      "model_name": "LayoutModel",
      "state": {}
     },
     "7857c1983203420085a200e62bda8889": {
      "model_module": "@jupyter-widgets/controls",
      "model_module_version": "1.5.0",
      "model_name": "LabelModel",
      "state": {
       "layout": "IPY_MODEL_4529ead1a6bf458eb42a286244760454",
       "style": "IPY_MODEL_f74ee815c1cf4f96a1a0d0c93d265433",
       "value": "conda-env"
      }
     },
     "787357c5e1454d9a8d6a405695517037": {
      "model_module": "@jupyter-widgets/base",
      "model_module_version": "1.2.0",
      "model_name": "LayoutModel",
      "state": {
       "width": "50%"
      }
     },
     "787c8fa27d774620ba8b8a7f02f24cce": {
      "model_module": "@jupyter-widgets/base",
      "model_module_version": "1.2.0",
      "model_name": "LayoutModel",
      "state": {}
     },
     "7893b0db7df748ad812e99420370dcd9": {
      "model_module": "@jupyter-widgets/controls",
      "model_module_version": "1.5.0",
      "model_name": "HBoxModel",
      "state": {
       "children": [
        "IPY_MODEL_37d3e380b2e347cbb058f485e1b920c8",
        "IPY_MODEL_40abe69b9b814ba1a513febcfb54df8f"
       ],
       "layout": "IPY_MODEL_9b31793e43d844d6b5fa9d988746b62b"
      }
     },
     "789b6944937e45f7bbf996b435fbaf23": {
      "model_module": "@jupyter-widgets/controls",
      "model_module_version": "1.5.0",
      "model_name": "DescriptionStyleModel",
      "state": {
       "description_width": ""
      }
     },
     "78b2e5ede43e4968a5ef58bc676fc1bb": {
      "model_module": "@jupyter-widgets/controls",
      "model_module_version": "1.5.0",
      "model_name": "LabelModel",
      "state": {
       "layout": "IPY_MODEL_03135dd8f29d4a07bcf6a0b3a89adc69",
       "style": "IPY_MODEL_98438e17c6564e49ac22ac904fef0f3d",
       "value": "None"
      }
     },
     "78b7355886ba4595bf02da1684cc3311": {
      "model_module": "@jupyter-widgets/controls",
      "model_module_version": "1.5.0",
      "model_name": "HTMLModel",
      "state": {
       "layout": "IPY_MODEL_96a4c621f2934a6d89ef9bbd791fd095",
       "style": "IPY_MODEL_472a1e1d71eb423ab885310c3e4be7e4",
       "value": "<b>updatedTime:</b>"
      }
     },
     "78c96babdf034df48a482e58ce5728e9": {
      "model_module": "@jupyter-widgets/controls",
      "model_module_version": "1.5.0",
      "model_name": "HBoxModel",
      "state": {
       "children": [
        "IPY_MODEL_242f51cd130047ff890709d079ae4828",
        "IPY_MODEL_5272123d5ef74894bca2615bfc3c7d5d"
       ],
       "layout": "IPY_MODEL_68602b58758245d6be302cd60852358a"
      }
     },
     "78d4b1dc30fe4b85bbbab6693f3153e8": {
      "model_module": "@jupyter-widgets/base",
      "model_module_version": "1.2.0",
      "model_name": "LayoutModel",
      "state": {}
     },
     "7916745d5ed846cf8dbd331577063ce4": {
      "model_module": "@jupyter-widgets/controls",
      "model_module_version": "1.5.0",
      "model_name": "LabelModel",
      "state": {
       "layout": "IPY_MODEL_d4206d2efe8a46f5a615c338c96b7543",
       "style": "IPY_MODEL_7a7c5e83e120434693421f0e8e1e89fa",
       "value": "None"
      }
     },
     "7938f5701f34407d8662b68820bb7318": {
      "model_module": "@jupyter-widgets/base",
      "model_module_version": "1.2.0",
      "model_name": "LayoutModel",
      "state": {}
     },
     "7939c0629af74bb7b856086bb84cf533": {
      "model_module": "@jupyter-widgets/controls",
      "model_module_version": "1.5.0",
      "model_name": "DescriptionStyleModel",
      "state": {
       "description_width": ""
      }
     },
     "793c3055653d42bcb8164204a199c50a": {
      "model_module": "@jupyter-widgets/controls",
      "model_module_version": "1.5.0",
      "model_name": "DescriptionStyleModel",
      "state": {
       "description_width": ""
      }
     },
     "7946b0abd4d84c06a3d1bcde89bdcfa3": {
      "model_module": "@jupyter-widgets/base",
      "model_module_version": "1.2.0",
      "model_name": "LayoutModel",
      "state": {}
     },
     "794b50a7debe4221a9d3d0b8a37d2119": {
      "model_module": "@jupyter-widgets/base",
      "model_module_version": "1.2.0",
      "model_name": "LayoutModel",
      "state": {}
     },
     "79a7bfb980654ca99fc6a4c1dffa5107": {
      "model_module": "@jupyter-widgets/controls",
      "model_module_version": "1.5.0",
      "model_name": "HTMLModel",
      "state": {
       "layout": "IPY_MODEL_efffa21a07d14071a62fa5d19292ceaf",
       "style": "IPY_MODEL_b6925b134c3049eaac8f76c304525c16",
       "value": "<b>aadAuthEnabled:</b>"
      }
     },
     "79e4a04a58aa4e4ca587b8e592277bb7": {
      "model_module": "@jupyter-widgets/base",
      "model_module_version": "1.2.0",
      "model_name": "LayoutModel",
      "state": {}
     },
     "79f6dff93da1427288ae1ef7192c03ca": {
      "model_module": "@jupyter-widgets/controls",
      "model_module_version": "1.5.0",
      "model_name": "LabelModel",
      "state": {
       "layout": "IPY_MODEL_520c0fdbc0224976ad06a2888cd442a7",
       "style": "IPY_MODEL_b7dd4fd76c4748928b4057937f4c1516",
       "value": "2020-03-18T21:25:26.495620+00:00"
      }
     },
     "7a0d0017d5d6406d922d2d345e5937bf": {
      "model_module": "@jupyter-widgets/controls",
      "model_module_version": "1.5.0",
      "model_name": "DescriptionStyleModel",
      "state": {
       "description_width": ""
      }
     },
     "7a176a7963f749b2870968e53dde532b": {
      "model_module": "@jupyter-widgets/controls",
      "model_module_version": "1.5.0",
      "model_name": "DescriptionStyleModel",
      "state": {
       "description_width": ""
      }
     },
     "7a1a8df63bd24dc09fccbc90ca10147d": {
      "model_module": "@jupyter-widgets/base",
      "model_module_version": "1.2.0",
      "model_name": "LayoutModel",
      "state": {}
     },
     "7a5222c042f84eca8388fa486687eb06": {
      "model_module": "@jupyter-widgets/controls",
      "model_module_version": "1.5.0",
      "model_name": "DescriptionStyleModel",
      "state": {
       "description_width": "initial"
      }
     },
     "7a7c5e83e120434693421f0e8e1e89fa": {
      "model_module": "@jupyter-widgets/controls",
      "model_module_version": "1.5.0",
      "model_name": "DescriptionStyleModel",
      "state": {
       "description_width": ""
      }
     },
     "7a7c946866f5408f85abe071207f4440": {
      "model_module": "@jupyter-widgets/controls",
      "model_module_version": "1.5.0",
      "model_name": "VBoxModel",
      "state": {
       "children": [
        "IPY_MODEL_6af68c12c3604ab99586567b55602f88",
        "IPY_MODEL_71f55d3278ab4373800f35ab1f3f7add",
        "IPY_MODEL_7e576b97eb15464281703ada66ad8787"
       ],
       "layout": "IPY_MODEL_efd8d2bec6e14a53bbaa701fa0c58dc5"
      }
     },
     "7a940858e5d543ca89454572f97ea974": {
      "model_module": "@jupyter-widgets/base",
      "model_module_version": "1.2.0",
      "model_name": "LayoutModel",
      "state": {}
     },
     "7b0a869e32d641cf9cad9818d3073229": {
      "model_module": "@jupyter-widgets/base",
      "model_module_version": "1.2.0",
      "model_name": "LayoutModel",
      "state": {
       "width": "50%"
      }
     },
     "7b14170e0523492991a98475c8d9cf4f": {
      "model_module": "@jupyter-widgets/controls",
      "model_module_version": "1.5.0",
      "model_name": "DescriptionStyleModel",
      "state": {
       "description_width": ""
      }
     },
     "7b17d99e2e5e4fc4afe736e55829a783": {
      "model_module": "@jupyter-widgets/base",
      "model_module_version": "1.2.0",
      "model_name": "LayoutModel",
      "state": {}
     },
     "7b3a915fb4594bfdb1d16003daee02c1": {
      "model_module": "@jupyter-widgets/base",
      "model_module_version": "1.2.0",
      "model_name": "LayoutModel",
      "state": {
       "width": "50%"
      }
     },
     "7b6e1499c19d4f5abcf5b01ca4e7d4d5": {
      "model_module": "@jupyter-widgets/controls",
      "model_module_version": "1.5.0",
      "model_name": "HBoxModel",
      "state": {
       "children": [
        "IPY_MODEL_55a35d1ffd9c41229e7ea736d3b7ce2b",
        "IPY_MODEL_53d22c915cc64a06bfa9a18e97485514"
       ],
       "layout": "IPY_MODEL_0d04c53533ec4595bcf98cdab543fc4d"
      }
     },
     "7b783379b66e4723ad5b0176071d57cc": {
      "model_module": "@jupyter-widgets/base",
      "model_module_version": "1.2.0",
      "model_name": "LayoutModel",
      "state": {}
     },
     "7b826d9f41464c35ae5531d5bb57f2bc": {
      "model_module": "@jupyter-widgets/controls",
      "model_module_version": "1.5.0",
      "model_name": "DescriptionStyleModel",
      "state": {
       "description_width": ""
      }
     },
     "7ba1d3f1d42545c4a66e4ac7c3acaad3": {
      "model_module": "@jupyter-widgets/controls",
      "model_module_version": "1.5.0",
      "model_name": "HBoxModel",
      "state": {
       "children": [
        "IPY_MODEL_366f702a0a8549ff8e37073e0aa583ba",
        "IPY_MODEL_1a73811ebd6040aca95cc56f60084e55"
       ],
       "layout": "IPY_MODEL_88c13c3b3cd74e5f990834635991eb13"
      }
     },
     "7bac873ed338441fbc3befe2918e054d": {
      "model_module": "@jupyter-widgets/base",
      "model_module_version": "1.2.0",
      "model_name": "LayoutModel",
      "state": {}
     },
     "7bfd14baeac142ea96832ff88f57755e": {
      "model_module": "@jupyter-widgets/controls",
      "model_module_version": "1.5.0",
      "model_name": "DescriptionStyleModel",
      "state": {
       "description_width": "initial"
      }
     },
     "7c03217174804674b45926a1cac1d7be": {
      "model_module": "@jupyter-widgets/base",
      "model_module_version": "1.2.0",
      "model_name": "LayoutModel",
      "state": {}
     },
     "7c06237cde3f432f9ff3ffb5b9bd37e2": {
      "model_module": "@jupyter-widgets/controls",
      "model_module_version": "1.5.0",
      "model_name": "LabelModel",
      "state": {
       "layout": "IPY_MODEL_5bac820007e94b17a0ebdc280bc78497",
       "style": "IPY_MODEL_97739afa0e9b4c81a290c268de4eb831",
       "value": "Custom"
      }
     },
     "7c5733e2641b42639708e6193966729e": {
      "model_module": "@jupyter-widgets/base",
      "model_module_version": "1.2.0",
      "model_name": "LayoutModel",
      "state": {}
     },
     "7c5f387a20b94244b215f59498dfaf11": {
      "model_module": "@jupyter-widgets/base",
      "model_module_version": "1.2.0",
      "model_name": "LayoutModel",
      "state": {}
     },
     "7c6eda3bd26041adb383272eff5451ad": {
      "model_module": "@jupyter-widgets/controls",
      "model_module_version": "1.5.0",
      "model_name": "DescriptionStyleModel",
      "state": {
       "description_width": ""
      }
     },
     "7c776a0ac38e4cbf9bfd40fbbc21d60f": {
      "model_module": "@jupyter-widgets/base",
      "model_module_version": "1.2.0",
      "model_name": "LayoutModel",
      "state": {}
     },
     "7c7bc5f8b26d49a2977a2ebe3a299075": {
      "model_module": "@jupyter-widgets/controls",
      "model_module_version": "1.5.0",
      "model_name": "DescriptionStyleModel",
      "state": {
       "description_width": ""
      }
     },
     "7c8427013d0548308849ae079a46250f": {
      "model_module": "@jupyter-widgets/base",
      "model_module_version": "1.2.0",
      "model_name": "LayoutModel",
      "state": {}
     },
     "7c9bdd4e35a944c895f6314cc9336b18": {
      "model_module": "@jupyter-widgets/controls",
      "model_module_version": "1.5.0",
      "model_name": "DescriptionStyleModel",
      "state": {
       "description_width": ""
      }
     },
     "7cb5bd4249a8415fb66707d27ce4cf7c": {
      "model_module": "@jupyter-widgets/controls",
      "model_module_version": "1.5.0",
      "model_name": "LabelModel",
      "state": {
       "layout": "IPY_MODEL_b6b766d265b345b19c1e332173bae309",
       "style": "IPY_MODEL_0ff306ed2c684d3597278736f139e707",
       "value": "{'mavenLibraries': [], 'pypiLibraries': [], 'rcranLibraries': [], 'jarLibraries': [], 'eggLibraries': []}"
      }
     },
     "7cb61ae77ad740959c4776b2ad3f0121": {
      "model_module": "@jupyter-widgets/controls",
      "model_module_version": "1.5.0",
      "model_name": "HBoxModel",
      "state": {
       "children": [
        "IPY_MODEL_bde55e60552b441ca983c256bf495316",
        "IPY_MODEL_eb88a9798a84409aa841f186fb0a16a9"
       ],
       "layout": "IPY_MODEL_e29a0feaf8554a97a661f86cb5fd28bf"
      }
     },
     "7cb929d893444d4d9037d3c6a8bf88e1": {
      "model_module": "@jupyter-widgets/controls",
      "model_module_version": "1.5.0",
      "model_name": "HBoxModel",
      "state": {
       "children": [
        "IPY_MODEL_f97f674830114c0686c4921797e49600",
        "IPY_MODEL_bee1440b302f4c97ba469baabea6968c"
       ],
       "layout": "IPY_MODEL_957a413a65224287aa6c210732d44822"
      }
     },
     "7ce97ee2300e47bb80a71d3524b7d378": {
      "model_module": "@jupyter-widgets/controls",
      "model_module_version": "1.5.0",
      "model_name": "LabelModel",
      "state": {
       "layout": "IPY_MODEL_dc5dfd2c3927471f9356be7623667bed",
       "style": "IPY_MODEL_70489331726848cb840fe7b96b624a86",
       "value": "None"
      }
     },
     "7d111b2521ae4fdcb29e18a03994a135": {
      "model_module": "@jupyter-widgets/controls",
      "model_module_version": "1.5.0",
      "model_name": "DescriptionStyleModel",
      "state": {
       "description_width": ""
      }
     },
     "7d1fd23277034fd48eba7b76fd406283": {
      "model_module": "@jupyter-widgets/base",
      "model_module_version": "1.2.0",
      "model_name": "LayoutModel",
      "state": {}
     },
     "7d385d95a7f745eca8a294d91d45be22": {
      "model_module": "@jupyter-widgets/controls",
      "model_module_version": "1.5.0",
      "model_name": "DescriptionStyleModel",
      "state": {
       "description_width": "initial"
      }
     },
     "7d4c21cc8cbf4d64b6adc37583844769": {
      "model_module": "@jupyter-widgets/base",
      "model_module_version": "1.2.0",
      "model_name": "LayoutModel",
      "state": {}
     },
     "7d552ecdd6ac454da73384f164fc6a21": {
      "model_module": "@jupyter-widgets/base",
      "model_module_version": "1.2.0",
      "model_name": "LayoutModel",
      "state": {}
     },
     "7d5b82d4376a495592d410ed0e47df57": {
      "model_module": "@jupyter-widgets/controls",
      "model_module_version": "1.5.0",
      "model_name": "HBoxModel",
      "state": {
       "children": [
        "IPY_MODEL_d29f52df8b55464b9dcbbaa255e90064",
        "IPY_MODEL_4d0c5f3d8cf04190925e4dcc109c321e"
       ],
       "layout": "IPY_MODEL_65b7f5528bb14bed90733dad0c5c1c08"
      }
     },
     "7d71ac836af249789818ced29afe4843": {
      "model_module": "@jupyter-widgets/base",
      "model_module_version": "1.2.0",
      "model_name": "LayoutModel",
      "state": {}
     },
     "7d8473d10873408382f5b329e5136ab3": {
      "model_module": "@jupyter-widgets/controls",
      "model_module_version": "1.5.0",
      "model_name": "HBoxModel",
      "state": {
       "children": [
        "IPY_MODEL_32df0b060ad24592ad08949246ac8052",
        "IPY_MODEL_036b805a04164ebaad2b8a2f9446b1c1"
       ],
       "layout": "IPY_MODEL_960f0bb0393840c9a21689a991632bbf"
      }
     },
     "7da4c709252f4e5f9aa51ecbca8a8353": {
      "model_module": "@jupyter-widgets/controls",
      "model_module_version": "1.5.0",
      "model_name": "HBoxModel",
      "state": {
       "children": [
        "IPY_MODEL_5c4342641b364f688fe74e3019b7de2e",
        "IPY_MODEL_8c960c42427b4e81ad1fd59c9f0db382"
       ],
       "layout": "IPY_MODEL_645a41f5284c46ab8e47db5dd6f51d94"
      }
     },
     "7daf322b6bcc4e958330bd4596230daf": {
      "model_module": "@jupyter-widgets/controls",
      "model_module_version": "1.5.0",
      "model_name": "DescriptionStyleModel",
      "state": {
       "description_width": ""
      }
     },
     "7dc5bb34d23c4c7e9377e20cc267b611": {
      "model_module": "@jupyter-widgets/controls",
      "model_module_version": "1.5.0",
      "model_name": "HBoxModel",
      "state": {
       "children": [
        "IPY_MODEL_75bb707999fb4ef98bdff541198a6fd6",
        "IPY_MODEL_e454f4430b6c4809b8b6a606a05cb993"
       ],
       "layout": "IPY_MODEL_d276e6ac27e548b0b0972144d49dd332"
      }
     },
     "7ddc8fa530fa4dd2a04c64627ea975ec": {
      "model_module": "@jupyter-widgets/base",
      "model_module_version": "1.2.0",
      "model_name": "LayoutModel",
      "state": {}
     },
     "7e0b1ca056c6467eb9c851d7636d9cc2": {
      "model_module": "@jupyter-widgets/base",
      "model_module_version": "1.2.0",
      "model_name": "LayoutModel",
      "state": {}
     },
     "7e15a77cf7ff48e09f65913035a78d0a": {
      "model_module": "@jupyter-widgets/controls",
      "model_module_version": "1.5.0",
      "model_name": "DescriptionStyleModel",
      "state": {
       "description_width": ""
      }
     },
     "7e15b502ba134aeaac0de44405d68efa": {
      "model_module": "@jupyter-widgets/controls",
      "model_module_version": "1.5.0",
      "model_name": "DescriptionStyleModel",
      "state": {
       "description_width": ""
      }
     },
     "7e180ee251024814b565a473b3bf6ab1": {
      "model_module": "@jupyter-widgets/controls",
      "model_module_version": "1.5.0",
      "model_name": "DescriptionStyleModel",
      "state": {
       "description_width": ""
      }
     },
     "7e2d8db0a71c49e78ebb1a5f6d3d6c30": {
      "model_module": "@jupyter-widgets/controls",
      "model_module_version": "1.5.0",
      "model_name": "DescriptionStyleModel",
      "state": {
       "description_width": ""
      }
     },
     "7e4612e775294e3ab0d2d03b1e47b1bc": {
      "model_module": "@jupyter-widgets/base",
      "model_module_version": "1.2.0",
      "model_name": "LayoutModel",
      "state": {}
     },
     "7e576b97eb15464281703ada66ad8787": {
      "model_module": "@jupyter-widgets/controls",
      "model_module_version": "1.5.0",
      "model_name": "HBoxModel",
      "state": {
       "children": [
        "IPY_MODEL_d9e9c7ca34de45febee4b73ba5cbfc71",
        "IPY_MODEL_7916745d5ed846cf8dbd331577063ce4"
       ],
       "layout": "IPY_MODEL_ac19bc6ea5334a7e951f3f45175995a5"
      }
     },
     "7ea38c53da004e91b2caf5baca7f3f38": {
      "model_module": "@jupyter-widgets/controls",
      "model_module_version": "1.5.0",
      "model_name": "HTMLModel",
      "state": {
       "layout": "IPY_MODEL_9daec5c5aabc4a90818f053f76306f45",
       "style": "IPY_MODEL_982e52edbed14bfdb4d7f4d6ee3e83fa",
       "value": "<b>mlflow.source.git.repoURL:</b>"
      }
     },
     "7eb68c8d80934829869344f368084a76": {
      "model_module": "@jupyter-widgets/controls",
      "model_module_version": "1.5.0",
      "model_name": "HBoxModel",
      "state": {
       "children": [
        "IPY_MODEL_b323fce9663c4e8781c617cc12cb0fda",
        "IPY_MODEL_7857c1983203420085a200e62bda8889"
       ],
       "layout": "IPY_MODEL_c9d92d8431f845869b2510c6b8b42db2"
      }
     },
     "7f075977c7674e0d9d102470e1694dd9": {
      "model_module": "@jupyter-widgets/controls",
      "model_module_version": "1.5.0",
      "model_name": "DescriptionStyleModel",
      "state": {
       "description_width": ""
      }
     },
     "7f2ade5e035e44f2b5f269448f932f42": {
      "model_module": "@jupyter-widgets/controls",
      "model_module_version": "1.5.0",
      "model_name": "LabelModel",
      "state": {
       "layout": "IPY_MODEL_bea0815468f34a02a24da5affa7b23f2",
       "style": "IPY_MODEL_c7ee917647244830a2ac548ece65f100",
       "value": "4"
      }
     },
     "7f3ded5199514703b03b029a4b2b5a49": {
      "model_module": "@jupyter-widgets/base",
      "model_module_version": "1.2.0",
      "model_name": "LayoutModel",
      "state": {}
     },
     "7f82f796b61843ac8e7da1625f144815": {
      "model_module": "@jupyter-widgets/base",
      "model_module_version": "1.2.0",
      "model_name": "LayoutModel",
      "state": {}
     },
     "7f893dff6f0b44f1a74a9259e68fd952": {
      "model_module": "@jupyter-widgets/base",
      "model_module_version": "1.2.0",
      "model_name": "LayoutModel",
      "state": {}
     },
     "7f9502193ebe4c8a90a3ad3f8abc13ac": {
      "model_module": "@jupyter-widgets/controls",
      "model_module_version": "1.5.0",
      "model_name": "DescriptionStyleModel",
      "state": {
       "description_width": "initial"
      }
     },
     "7f9e3c0656054011919158e37c326541": {
      "model_module": "@jupyter-widgets/controls",
      "model_module_version": "1.5.0",
      "model_name": "TextModel",
      "state": {
       "description": "deep_aks_name",
       "layout": "IPY_MODEL_ea1d324a79264d65bdb9d19b2d3e3a95",
       "placeholder": "AKS Cluster Name",
       "style": "IPY_MODEL_659129bc7d824c868213b7dc34f96640",
       "value": "deepakscluster"
      }
     },
     "7fb0dfe020134014841b15c9763a788e": {
      "model_module": "@jupyter-widgets/controls",
      "model_module_version": "1.5.0",
      "model_name": "HTMLModel",
      "state": {
       "layout": "IPY_MODEL_94832e25733249d9b4f87646b7ed4254",
       "style": "IPY_MODEL_2cc0cd0d88df44e392f59d7c6935f257",
       "value": "<b>url:</b>"
      }
     },
     "7fde7198e36244c4a9aaeee208dd0143": {
      "model_module": "@jupyter-widgets/controls",
      "model_module_version": "1.5.0",
      "model_name": "HTMLModel",
      "state": {
       "layout": "IPY_MODEL_3a1736b0dff14df38da356e325559ae3",
       "style": "IPY_MODEL_9fc4a162f79243018e9067754714a88d",
       "value": "<b>userTenantId:</b>"
      }
     },
     "7ffc84f2dbbf4428b02ac26da0fd718a": {
      "model_module": "@jupyter-widgets/base",
      "model_module_version": "1.2.0",
      "model_name": "LayoutModel",
      "state": {}
     },
     "8033cb65e7f4423abeeb5d5ce32a84e0": {
      "model_module": "@jupyter-widgets/controls",
      "model_module_version": "1.5.0",
      "model_name": "LabelModel",
      "state": {
       "layout": "IPY_MODEL_44e98ba9a72c4064b49c936246e60a0f",
       "style": "IPY_MODEL_b8e5118b9c9b4a1fa5b7b9bde7d7f414",
       "value": "10"
      }
     },
     "805c1b0277cf45d69235cae8fff0e5af": {
      "model_module": "@jupyter-widgets/base",
      "model_module_version": "1.2.0",
      "model_name": "LayoutModel",
      "state": {}
     },
     "809f97645cc142809716e4f36ce4251f": {
      "model_module": "@jupyter-widgets/controls",
      "model_module_version": "1.5.0",
      "model_name": "DescriptionStyleModel",
      "state": {
       "description_width": ""
      }
     },
     "80a0a7aa776e43c9ab68db994ab768c6": {
      "model_module": "@jupyter-widgets/controls",
      "model_module_version": "1.5.0",
      "model_name": "AccordionModel",
      "state": {
       "_titles": {
        "0": "autoScaler"
       },
       "children": [
        "IPY_MODEL_0c437844f9c44c348debb3f9a7fd237f"
       ],
       "layout": "IPY_MODEL_9fe9a440c0bd40b2a93b6a3b11f85203"
      }
     },
     "80acd029e59e4711a7f4c81b60935924": {
      "model_module": "@jupyter-widgets/controls",
      "model_module_version": "1.5.0",
      "model_name": "HBoxModel",
      "state": {
       "children": [
        "IPY_MODEL_e2319a79c3a6485cb13e7ad5dd2a2cea",
        "IPY_MODEL_a7541604b1b54acb9c998757258474bc"
       ],
       "layout": "IPY_MODEL_47dd8283a9b94659989961aabb1197d0"
      }
     },
     "80c799e7167a4a228dd506b48941285c": {
      "model_module": "@jupyter-widgets/controls",
      "model_module_version": "1.5.0",
      "model_name": "HTMLModel",
      "state": {
       "layout": "IPY_MODEL_e18eb4dce7134193afb6ea0ea43656fa",
       "style": "IPY_MODEL_27229f54810842178e91fc7d9e9236bc",
       "value": "<b>azureml.git.branch:</b>"
      }
     },
     "80c98fc5835c4d7aa90065379b5f785c": {
      "model_module": "@jupyter-widgets/controls",
      "model_module_version": "1.5.0",
      "model_name": "DescriptionStyleModel",
      "state": {
       "description_width": "initial"
      }
     },
     "80d48195adbd4292b5154973eaaee0a5": {
      "model_module": "@jupyter-widgets/controls",
      "model_module_version": "1.5.0",
      "model_name": "DescriptionStyleModel",
      "state": {
       "description_width": ""
      }
     },
     "80dcba9d2c16404faca8b4e077ccfac4": {
      "model_module": "@jupyter-widgets/base",
      "model_module_version": "1.2.0",
      "model_name": "LayoutModel",
      "state": {
       "width": "50%"
      }
     },
     "80ea047f1519412dbf88a93198403380": {
      "model_module": "@jupyter-widgets/base",
      "model_module_version": "1.2.0",
      "model_name": "LayoutModel",
      "state": {}
     },
     "80edf0a6a9ec4f61bcf25bccaf571c78": {
      "model_module": "@jupyter-widgets/base",
      "model_module_version": "1.2.0",
      "model_name": "LayoutModel",
      "state": {
       "width": "50%"
      }
     },
     "813e313a930a484d874bf8f9d28e8881": {
      "model_module": "@jupyter-widgets/controls",
      "model_module_version": "1.5.0",
      "model_name": "LabelModel",
      "state": {
       "layout": "IPY_MODEL_2bec0a2d33f44cb8b44526bdbb00d8f3",
       "style": "IPY_MODEL_999920a313f949d794698ce1322f911a",
       "value": "0.5"
      }
     },
     "8153530a28044ad8b6dc4a57505ff1df": {
      "model_module": "@jupyter-widgets/base",
      "model_module_version": "1.2.0",
      "model_name": "LayoutModel",
      "state": {}
     },
     "81657612851a4184badec0310d479582": {
      "model_module": "@jupyter-widgets/controls",
      "model_module_version": "1.5.0",
      "model_name": "VBoxModel",
      "state": {
       "children": [
        "IPY_MODEL_778513021ba8412a9cccf60d5d786aa6"
       ],
       "layout": "IPY_MODEL_72975f8177904a489dfd0079b7013710"
      }
     },
     "817c33b5a7664b449f222130c5b1c936": {
      "model_module": "@jupyter-widgets/controls",
      "model_module_version": "1.5.0",
      "model_name": "DescriptionStyleModel",
      "state": {
       "description_width": "initial"
      }
     },
     "8182fc879f904d72b495d5ab59ee1cd2": {
      "model_module": "@jupyter-widgets/controls",
      "model_module_version": "1.5.0",
      "model_name": "HBoxModel",
      "state": {
       "children": [
        "IPY_MODEL_0d2502f1f8524231aff25389344c08d1",
        "IPY_MODEL_616941d6d18f46b59412621896209d1a"
       ],
       "layout": "IPY_MODEL_2f40811a8033443d9f17f3004228e04a"
      }
     },
     "81aa9b368ad14010888c4442a8c33ae4": {
      "model_module": "@jupyter-widgets/controls",
      "model_module_version": "1.5.0",
      "model_name": "LabelModel",
      "state": {
       "layout": "IPY_MODEL_f4a7a347e9e747a7bf4ffd7b09dae01a",
       "style": "IPY_MODEL_3239da4179f942abb5c9e3764f0f9c35",
       "value": "None"
      }
     },
     "81b9442d1dd944f29b7efcfeee8d99a2": {
      "model_module": "@jupyter-widgets/controls",
      "model_module_version": "1.5.0",
      "model_name": "HBoxModel",
      "state": {
       "children": [
        "IPY_MODEL_78b7355886ba4595bf02da1684cc3311",
        "IPY_MODEL_79f6dff93da1427288ae1ef7192c03ca"
       ],
       "layout": "IPY_MODEL_b24348ea8c304776b8891e5852fd5cd9"
      }
     },
     "81ddf4bf05354e9baf91b68d70a6a5f9": {
      "model_module": "@jupyter-widgets/controls",
      "model_module_version": "1.5.0",
      "model_name": "DescriptionStyleModel",
      "state": {
       "description_width": ""
      }
     },
     "81f5131a213045bebda722fa4c055583": {
      "model_module": "@jupyter-widgets/controls",
      "model_module_version": "1.5.0",
      "model_name": "LabelModel",
      "state": {
       "layout": "IPY_MODEL_362ab95f30ef488788545a304067738c",
       "style": "IPY_MODEL_7235a2467e79431e9ce298c5c3c2542a",
       "value": "None"
      }
     },
     "820a6f7629124d7f8c22cc797064ad26": {
      "model_module": "@jupyter-widgets/base",
      "model_module_version": "1.2.0",
      "model_name": "LayoutModel",
      "state": {
       "align_content": "center",
       "height": "80px",
       "width": "80%"
      }
     },
     "820feec4e8464278b7eddab8ee635971": {
      "model_module": "@jupyter-widgets/base",
      "model_module_version": "1.2.0",
      "model_name": "LayoutModel",
      "state": {}
     },
     "8239f8e44c25477cb1b0cd90ce4d8ca7": {
      "model_module": "@jupyter-widgets/base",
      "model_module_version": "1.2.0",
      "model_name": "LayoutModel",
      "state": {}
     },
     "823f364ba9af40d5ba34d7def03eefd5": {
      "model_module": "@jupyter-widgets/base",
      "model_module_version": "1.2.0",
      "model_name": "LayoutModel",
      "state": {
       "height": "80px",
       "justify_content": "center",
       "width": "80%"
      }
     },
     "825f37634eed4a97b71eb7deaa0a8ead": {
      "model_module": "@jupyter-widgets/controls",
      "model_module_version": "1.5.0",
      "model_name": "HBoxModel",
      "state": {
       "children": [
        "IPY_MODEL_c084695c2e0f456e9dee341240890636",
        "IPY_MODEL_f7e3b4708c51435b8744fd576227bd4e"
       ],
       "layout": "IPY_MODEL_a710bb0c88cb42cb9f19e768b9459016"
      }
     },
     "826a2f889c8145d295f982dd19ce8e6b": {
      "model_module": "@jupyter-widgets/controls",
      "model_module_version": "1.5.0",
      "model_name": "LabelModel",
      "state": {
       "layout": "IPY_MODEL_2bdb1def764d482eaa1a4f3189ce6ca4",
       "style": "IPY_MODEL_55aeed11507e4241b4a57f0cf271c8d0",
       "value": "fcf7950ee5d473a6ac61b217ef01527895499548"
      }
     },
     "82841a37f5da491b894fa75384c6665d": {
      "model_module": "@jupyter-widgets/base",
      "model_module_version": "1.2.0",
      "model_name": "LayoutModel",
      "state": {}
     },
     "82c749dca7af47789c4b49144568293c": {
      "model_module": "@jupyter-widgets/base",
      "model_module_version": "1.2.0",
      "model_name": "LayoutModel",
      "state": {}
     },
     "82ea280e1d244927b0b68ac67f54db6a": {
      "model_module": "@jupyter-widgets/controls",
      "model_module_version": "1.5.0",
      "model_name": "HTMLModel",
      "state": {
       "layout": "IPY_MODEL_fa805f4f701c450793f13e6df24a354b",
       "style": "IPY_MODEL_dc74250905b847e4ae7ea83f1a27c17f",
       "value": "<b>scoringTimeoutMs:</b>"
      }
     },
     "8335bd49477243238d400941422cfb8f": {
      "model_module": "@jupyter-widgets/base",
      "model_module_version": "1.2.0",
      "model_name": "LayoutModel",
      "state": {}
     },
     "835c572dab884081b6b60b7024e64550": {
      "model_module": "@jupyter-widgets/controls",
      "model_module_version": "1.5.0",
      "model_name": "TextModel",
      "state": {
       "description": "workspace_name",
       "layout": "IPY_MODEL_c673775e77704fcc8ca30ab0e2806316",
       "placeholder": "Azure ML Workspace Name",
       "style": "IPY_MODEL_e0a99c655a624170894522cfa33bbe9d",
       "value": "azmlrts-eastus"
      }
     },
     "838a8952a3a5470fb54dcd994ff7b0f8": {
      "model_module": "@jupyter-widgets/controls",
      "model_module_version": "1.5.0",
      "model_name": "HBoxModel",
      "state": {
       "children": [
        "IPY_MODEL_38b76677ec3f4c1bbdd8997212e2732c",
        "IPY_MODEL_12ef013e29e94e0b892b0e1b81dbc325"
       ],
       "layout": "IPY_MODEL_5dcf49c7cb2d49448f00d790dac477c1"
      }
     },
     "83d989605f6b47208c3c9a910e1eb8ff": {
      "model_module": "@jupyter-widgets/controls",
      "model_module_version": "1.5.0",
      "model_name": "DescriptionStyleModel",
      "state": {
       "description_width": ""
      }
     },
     "840f93d09fd34b759db77161f06bf899": {
      "model_module": "@jupyter-widgets/controls",
      "model_module_version": "1.5.0",
      "model_name": "HTMLModel",
      "state": {
       "layout": "IPY_MODEL_eba4c9b462c14523896ec55ea517eca0",
       "style": "IPY_MODEL_a32d94f60d5840b292eaf2c83bcb2a7e",
       "value": "<b>mimeType:</b>"
      }
     },
     "843aa69d3dfa49db8c67982d4016056e": {
      "model_module": "@jupyter-widgets/controls",
      "model_module_version": "1.5.0",
      "model_name": "LabelModel",
      "state": {
       "layout": "IPY_MODEL_b07b3c17aa4448aab50bc20c57cd9eae",
       "style": "IPY_MODEL_7310fa5f484a47d0af9662b4854e062f",
       "value": "1003BFFD8BE61032"
      }
     },
     "844732b444444baab2221af416771e23": {
      "model_module": "@jupyter-widgets/controls",
      "model_module_version": "1.5.0",
      "model_name": "HBoxModel",
      "state": {
       "children": [
        "IPY_MODEL_57a58109ba7c46d9bfe7a39a3b66dd5f",
        "IPY_MODEL_f8e8e3e643e44bf4abee3da20a777996"
       ],
       "layout": "IPY_MODEL_b4788d5ffe994748a50ad488acc4ba52"
      }
     },
     "847c6d38c6a14e9293dabbcc8f81243c": {
      "model_module": "@jupyter-widgets/base",
      "model_module_version": "1.2.0",
      "model_name": "LayoutModel",
      "state": {}
     },
     "848938b7c7a541669b0e5364f33c2b57": {
      "model_module": "@jupyter-widgets/controls",
      "model_module_version": "1.5.0",
      "model_name": "LabelModel",
      "state": {
       "layout": "IPY_MODEL_465a8e8192b1475bb3172e0d0d37d6e1",
       "style": "IPY_MODEL_e41cb29238e44166921c6f3bc8f6fd3b",
       "value": "True"
      }
     },
     "84954912bbe845c1a201e578fdc95b77": {
      "model_module": "@jupyter-widgets/controls",
      "model_module_version": "1.5.0",
      "model_name": "HBoxModel",
      "state": {
       "children": [
        "IPY_MODEL_c49e729a1e0947228a8eba77b8ccbd9f",
        "IPY_MODEL_9d2a85b208294675b39215c8ca7fa287"
       ],
       "layout": "IPY_MODEL_d7bb96142a4d474ab0b2d19b307e885c"
      }
     },
     "849998c6d3f14c0cba6dd836c84694c9": {
      "model_module": "@jupyter-widgets/base",
      "model_module_version": "1.2.0",
      "model_name": "LayoutModel",
      "state": {}
     },
     "849f4be0a0c64f549e84b832d50c5357": {
      "model_module": "@jupyter-widgets/base",
      "model_module_version": "1.2.0",
      "model_name": "LayoutModel",
      "state": {}
     },
     "84e44f52fad94d22b17a71913e88cf8b": {
      "model_module": "@jupyter-widgets/base",
      "model_module_version": "1.2.0",
      "model_name": "LayoutModel",
      "state": {}
     },
     "850977e1c6934d2f8f7682f183e24073": {
      "model_module": "@jupyter-widgets/controls",
      "model_module_version": "1.5.0",
      "model_name": "HBoxModel",
      "state": {
       "children": [
        "IPY_MODEL_4b919e3c0ac241e78e238b30c3c26e79",
        "IPY_MODEL_68d3314e41844eb2bcfbcfbc33f7f916"
       ],
       "layout": "IPY_MODEL_dbf655e5bbb54b4d927a3ed4f795872e"
      }
     },
     "85402151a7e14aed919ab0d7e9528d89": {
      "model_module": "@jupyter-widgets/controls",
      "model_module_version": "1.5.0",
      "model_name": "HTMLModel",
      "state": {
       "layout": "IPY_MODEL_f62c43ffe82042379d96e31d53c4332f",
       "style": "IPY_MODEL_374ffe100dbe4d86b62e654c632b07ac",
       "value": "<b>userTenantId:</b>"
      }
     },
     "858c7ae393a24eb2b672d47f5872915e": {
      "model_module": "@jupyter-widgets/base",
      "model_module_version": "1.2.0",
      "model_name": "LayoutModel",
      "state": {}
     },
     "858cf485676d4ce2a60ce2f6f4d845d7": {
      "model_module": "@jupyter-widgets/controls",
      "model_module_version": "1.5.0",
      "model_name": "DescriptionStyleModel",
      "state": {
       "description_width": ""
      }
     },
     "85bf98ccef4740e09ad8c2f39b5becb7": {
      "model_module": "@jupyter-widgets/controls",
      "model_module_version": "1.5.0",
      "model_name": "DescriptionStyleModel",
      "state": {
       "description_width": ""
      }
     },
     "85e20d76f138458d8d735f0c8544130a": {
      "model_module": "@jupyter-widgets/base",
      "model_module_version": "1.2.0",
      "model_name": "LayoutModel",
      "state": {}
     },
     "85ea6ff73e0041418d27114096457e31": {
      "model_module": "@jupyter-widgets/controls",
      "model_module_version": "1.5.0",
      "model_name": "HTMLModel",
      "state": {
       "layout": "IPY_MODEL_15605aa8a06e494e8b56aaf180392f20",
       "style": "IPY_MODEL_29f8f8d00383497f9d53f71b675ecb74",
       "value": "<b>memoryInGB:</b>"
      }
     },
     "85f4ebb6301847388c73730d280a59c0": {
      "model_module": "@jupyter-widgets/controls",
      "model_module_version": "1.5.0",
      "model_name": "HBoxModel",
      "state": {
       "children": [
        "IPY_MODEL_54f9f0ff0fd7450d92eaf1740c36711b",
        "IPY_MODEL_d292397b867f4452a218230f85e29ad4"
       ],
       "layout": "IPY_MODEL_4270d4e736c0462ab4b3959d5e0b3211"
      }
     },
     "860298d562cc4029b0842384d616a46f": {
      "model_module": "@jupyter-widgets/controls",
      "model_module_version": "1.5.0",
      "model_name": "LabelModel",
      "state": {
       "layout": "IPY_MODEL_2497ee0b6ab64f26bc52e3c2bb278aa2",
       "style": "IPY_MODEL_0bf518bba52c4c32ada0d10eb1bbd5fb",
       "value": "AKS"
      }
     },
     "8607e5b0cff840efa96f5757e2c83477": {
      "model_module": "@jupyter-widgets/base",
      "model_module_version": "1.2.0",
      "model_name": "LayoutModel",
      "state": {}
     },
     "861bfbd6a0454dae85b65cd2bcc5f0b4": {
      "model_module": "@jupyter-widgets/controls",
      "model_module_version": "1.5.0",
      "model_name": "DescriptionStyleModel",
      "state": {
       "description_width": ""
      }
     },
     "862cbad9b16746269a08b45052713c2e": {
      "model_module": "@jupyter-widgets/controls",
      "model_module_version": "1.5.0",
      "model_name": "DescriptionStyleModel",
      "state": {
       "description_width": ""
      }
     },
     "864ef2694e634a1b937f89a36ed48144": {
      "model_module": "@jupyter-widgets/controls",
      "model_module_version": "1.5.0",
      "model_name": "DescriptionStyleModel",
      "state": {
       "description_width": ""
      }
     },
     "86617494ace44568b0e37124f081d433": {
      "model_module": "@jupyter-widgets/controls",
      "model_module_version": "1.5.0",
      "model_name": "HBoxModel",
      "state": {
       "children": [
        "IPY_MODEL_8d2438bddd2d4e88b481e38354e54da6",
        "IPY_MODEL_17d136fd141348fd83f2f7beb72c127c"
       ],
       "layout": "IPY_MODEL_a8762097575840f587125a7c58cd2294"
      }
     },
     "8684f3c954214cef96efd4d04523298d": {
      "model_module": "@jupyter-widgets/controls",
      "model_module_version": "1.5.0",
      "model_name": "HBoxModel",
      "state": {
       "children": [
        "IPY_MODEL_b74d2b57d29b42f1b1c537438ca9b20a",
        "IPY_MODEL_3dcc751ddc32462194f2222be5c60a50"
       ],
       "layout": "IPY_MODEL_e50802a8bb684e73bcfa60699c16a512"
      }
     },
     "870eeff4015744e2b12d12f5dda608d3": {
      "model_module": "@jupyter-widgets/controls",
      "model_module_version": "1.5.0",
      "model_name": "HTMLModel",
      "state": {
       "layout": "IPY_MODEL_e7cd41d0da2944baa7e7814b5511bae7",
       "style": "IPY_MODEL_a1b02375542648f4a03cc639f2dd3ca4",
       "value": "<img src=\"https://raw.githubusercontent.com/microsoft/AI-Utilities/master/docs/app_insights_availability.png\">"
      }
     },
     "8719e097c4a04bde81880126bff88d56": {
      "model_module": "@jupyter-widgets/base",
      "model_module_version": "1.2.0",
      "model_name": "LayoutModel",
      "state": {}
     },
     "871e11ea52dd4cee81934d3b1b91c44e": {
      "model_module": "@jupyter-widgets/base",
      "model_module_version": "1.2.0",
      "model_name": "LayoutModel",
      "state": {}
     },
     "873fe33e2fb34c84843465e23e8c6a10": {
      "model_module": "@jupyter-widgets/controls",
      "model_module_version": "1.5.0",
      "model_name": "LabelModel",
      "state": {
       "layout": "IPY_MODEL_caec676f56c04f7097572174288dbba7",
       "style": "IPY_MODEL_30243dc3ef364d159b690c119d55bb97",
       "value": "https://sts.windows.net/72f988bf-86f1-41af-91ab-2d7cd011db47/"
      }
     },
     "8785be924ead4583b2cae94a36471b64": {
      "model_module": "@jupyter-widgets/base",
      "model_module_version": "1.2.0",
      "model_name": "LayoutModel",
      "state": {}
     },
     "8798522176444598abeaf45e891b3e56": {
      "model_module": "@jupyter-widgets/controls",
      "model_module_version": "1.5.0",
      "model_name": "DropdownModel",
      "state": {
       "_options_labels": [
        "eastus",
        "eastus2",
        "canadacentral",
        "centralus",
        "northcentralus",
        "southcentralus",
        "westcentralus",
        "westus",
        "westus2"
       ],
       "description": "deep_aks_location",
       "index": 0,
       "layout": "IPY_MODEL_2da79c4e18bc4bbb9ad632ced08bc72c",
       "style": "IPY_MODEL_50e4b169bba5496e8c4ab3d8d0304b84"
      }
     },
     "87a8852376fa4afeb55d9799d4e305f4": {
      "model_module": "@jupyter-widgets/controls",
      "model_module_version": "1.5.0",
      "model_name": "DescriptionStyleModel",
      "state": {
       "description_width": ""
      }
     },
     "87ab94d0d3ff4b3884337baf7659f7a7": {
      "model_module": "@jupyter-widgets/controls",
      "model_module_version": "1.5.0",
      "model_name": "DescriptionStyleModel",
      "state": {
       "description_width": ""
      }
     },
     "87c44eb36b4747debbf7925864bc27b4": {
      "model_module": "@jupyter-widgets/controls",
      "model_module_version": "1.5.0",
      "model_name": "DropdownModel",
      "state": {
       "_options_labels": [
        "eastus",
        "eastus2",
        "canadacentral",
        "centralus",
        "northcentralus",
        "southcentralus",
        "westcentralus",
        "westus",
        "westus2"
       ],
       "description": "aks_location",
       "index": 0,
       "layout": "IPY_MODEL_7b0a869e32d641cf9cad9818d3073229",
       "style": "IPY_MODEL_2b407147ca6e42499f62c80843ca1aaa"
      }
     },
     "87d54583e53f446a9d43eada44f59b4f": {
      "model_module": "@jupyter-widgets/controls",
      "model_module_version": "1.5.0",
      "model_name": "DescriptionStyleModel",
      "state": {
       "description_width": ""
      }
     },
     "87e44a7bca344c4bb0b270ca2250031a": {
      "model_module": "@jupyter-widgets/controls",
      "model_module_version": "1.5.0",
      "model_name": "DescriptionStyleModel",
      "state": {
       "description_width": ""
      }
     },
     "87f38f34a5b741a8a42ad072e6259de7": {
      "model_module": "@jupyter-widgets/base",
      "model_module_version": "1.2.0",
      "model_name": "LayoutModel",
      "state": {}
     },
     "880119be3a5740ef85686cdfe922eba2": {
      "model_module": "@jupyter-widgets/base",
      "model_module_version": "1.2.0",
      "model_name": "LayoutModel",
      "state": {}
     },
     "88049019ddca4663885d461c0137c98d": {
      "model_module": "@jupyter-widgets/controls",
      "model_module_version": "1.5.0",
      "model_name": "DescriptionStyleModel",
      "state": {
       "description_width": ""
      }
     },
     "881e3a12135442f1bea103ae2dfcc72d": {
      "model_module": "@jupyter-widgets/controls",
      "model_module_version": "1.5.0",
      "model_name": "DescriptionStyleModel",
      "state": {
       "description_width": ""
      }
     },
     "8841f91c964141d3a90a4a28bc56f379": {
      "model_module": "@jupyter-widgets/controls",
      "model_module_version": "1.5.0",
      "model_name": "HBoxModel",
      "state": {
       "children": [
        "IPY_MODEL_2d8f767dcd7748678db398fccc3a54de",
        "IPY_MODEL_d96a1887447e4f81adc11824fac47f30"
       ],
       "layout": "IPY_MODEL_f2a5f52dc9da4fc386f5fd9299a902f5"
      }
     },
     "884be36b848443e8b51f406d3d957c63": {
      "model_module": "@jupyter-widgets/controls",
      "model_module_version": "1.5.0",
      "model_name": "AccordionModel",
      "state": {
       "_titles": {
        "0": "Main",
        "1": "Performance"
       },
       "children": [
        "IPY_MODEL_e7a587e0d2d942f79c69fcf92690e1a4",
        "IPY_MODEL_8cc777e5eee24bf4bffc8d84606bddd4"
       ],
       "layout": "IPY_MODEL_9fbf199d2de74c2888fe05a7503b77f6"
      }
     },
     "88a8f9444b964238ae922eb6c8a062aa": {
      "model_module": "@jupyter-widgets/controls",
      "model_module_version": "1.5.0",
      "model_name": "DescriptionStyleModel",
      "state": {
       "description_width": ""
      }
     },
     "88c13c3b3cd74e5f990834635991eb13": {
      "model_module": "@jupyter-widgets/base",
      "model_module_version": "1.2.0",
      "model_name": "LayoutModel",
      "state": {}
     },
     "88dde4741a034bc8ad0bd4835c782bcb": {
      "model_module": "@jupyter-widgets/controls",
      "model_module_version": "1.5.0",
      "model_name": "VBoxModel",
      "state": {
       "children": [
        "IPY_MODEL_c14deed2fb3145718c9511718e722db7"
       ],
       "layout": "IPY_MODEL_e5030196a21c4993ae3ee6b43f22f7eb"
      }
     },
     "88e4e13462e1475ead1f95c148e44655": {
      "model_module": "@jupyter-widgets/base",
      "model_module_version": "1.2.0",
      "model_name": "LayoutModel",
      "state": {}
     },
     "88f9462d16d54449afd33fa905ea593f": {
      "model_module": "@jupyter-widgets/controls",
      "model_module_version": "1.5.0",
      "model_name": "HTMLModel",
      "state": {
       "layout": "IPY_MODEL_0ad56fbf51f847f8a9317bfd70b25f97",
       "style": "IPY_MODEL_d8ab194221d24b8cb5cfbe7d05db0232",
       "value": "<b>message:</b>"
      }
     },
     "890051121da1430fa69a332c1a0d0c1e": {
      "model_module": "@jupyter-widgets/controls",
      "model_module_version": "1.5.0",
      "model_name": "DescriptionStyleModel",
      "state": {
       "description_width": ""
      }
     },
     "8904655d02fb459ab2f338ddcbb84002": {
      "model_module": "@jupyter-widgets/controls",
      "model_module_version": "1.5.0",
      "model_name": "HTMLModel",
      "state": {
       "layout": "IPY_MODEL_fabbc78b677f4ebbb9f1f6e40cc78d66",
       "style": "IPY_MODEL_03db221209774b8e9a45cddec8ae2e58",
       "value": "<b>id:</b>"
      }
     },
     "890468f3d3ef40b595c9b253a1a3a87d": {
      "model_module": "@jupyter-widgets/controls",
      "model_module_version": "1.5.0",
      "model_name": "HTMLModel",
      "state": {
       "layout": "IPY_MODEL_015b9d2178274b19bdc1e80f585011d0",
       "style": "IPY_MODEL_716f8ce598d842cdb83478031c8bd2d0",
       "value": "<b>scoringUri:</b>"
      }
     },
     "89392feb18fb4529b5b0cd063e752c9d": {
      "model_module": "@jupyter-widgets/base",
      "model_module_version": "1.2.0",
      "model_name": "LayoutModel",
      "state": {}
     },
     "8947847caa114503b89cddb92c35c17b": {
      "model_module": "@jupyter-widgets/base",
      "model_module_version": "1.2.0",
      "model_name": "LayoutModel",
      "state": {}
     },
     "89543158f75a472f8d97420be78a6664": {
      "model_module": "@jupyter-widgets/controls",
      "model_module_version": "1.5.0",
      "model_name": "HBoxModel",
      "state": {
       "children": [
        "IPY_MODEL_9e5b38af07bd4bba8f0665eb150d8903",
        "IPY_MODEL_43ed1a08277c494e81bc5e4dfd1b13c1"
       ],
       "layout": "IPY_MODEL_0d5b4019881d492f9e6b7fbdd8863895"
      }
     },
     "8987279c0ebb4cc1b4d91977c43d769d": {
      "model_module": "@jupyter-widgets/controls",
      "model_module_version": "1.5.0",
      "model_name": "AccordionModel",
      "state": {
       "_titles": {
        "0": "Main",
        "1": "Performance"
       },
       "children": [
        "IPY_MODEL_88dde4741a034bc8ad0bd4835c782bcb",
        "IPY_MODEL_3d2f867db6e44a06adce3f3eb6f37623"
       ],
       "layout": "IPY_MODEL_4e326ebba64d4663bb00cd2593f3190e"
      }
     },
     "898c4714e77347038e5513857f121d73": {
      "model_module": "@jupyter-widgets/base",
      "model_module_version": "1.2.0",
      "model_name": "LayoutModel",
      "state": {}
     },
     "89cde88f86a64311833b9e4ac447aae0": {
      "model_module": "@jupyter-widgets/controls",
      "model_module_version": "1.5.0",
      "model_name": "DescriptionStyleModel",
      "state": {
       "description_width": ""
      }
     },
     "89dd38778ac8487c92d782128ab69666": {
      "model_module": "@jupyter-widgets/base",
      "model_module_version": "1.2.0",
      "model_name": "LayoutModel",
      "state": {}
     },
     "89e7e8c457a94976a9920e75aa3b2aab": {
      "model_module": "@jupyter-widgets/controls",
      "model_module_version": "1.5.0",
      "model_name": "DescriptionStyleModel",
      "state": {
       "description_width": ""
      }
     },
     "89f5ad09afb54e478623ea141155f271": {
      "model_module": "@jupyter-widgets/controls",
      "model_module_version": "1.5.0",
      "model_name": "HBoxModel",
      "state": {
       "children": [
        "IPY_MODEL_d6987c192aa345e886a14bf6296e11ff",
        "IPY_MODEL_2223684150504a4593b745241f0982be"
       ],
       "layout": "IPY_MODEL_486e6305361a41d0bd42b40b94668c7f"
      }
     },
     "8a2a6047479a4892bcdadd04be1bbe1a": {
      "model_module": "@jupyter-widgets/controls",
      "model_module_version": "1.5.0",
      "model_name": "LabelModel",
      "state": {
       "layout": "IPY_MODEL_0d86e56cab5a4deaab47231bf5832d19",
       "style": "IPY_MODEL_9ee200b4e3ef48a0b6ac54ac500645fe",
       "value": "Control"
      }
     },
     "8a5a8465bb0c4901bbbfe2c5c83b0d48": {
      "model_module": "@jupyter-widgets/controls",
      "model_module_version": "1.5.0",
      "model_name": "HBoxModel",
      "state": {
       "children": [
        "IPY_MODEL_76f8813e693f4f058a604a7e0c325fc5",
        "IPY_MODEL_c836ed296409406eb40679931b3eca3b"
       ],
       "layout": "IPY_MODEL_0320989b7d8f4622b0f67919979c4d4d"
      }
     },
     "8a62de0aa6a54215bf7bbd5b1e12f3ce": {
      "model_module": "@jupyter-widgets/controls",
      "model_module_version": "1.5.0",
      "model_name": "LabelModel",
      "state": {
       "layout": "IPY_MODEL_8b9f0840f12542c89a60ebc2485ae06e",
       "style": "IPY_MODEL_881e3a12135442f1bea103ae2dfcc72d",
       "value": "e6cc2e17-5968-49e6-bb8f-9fb978a0d450"
      }
     },
     "8a673dc3f28c44ada7e36ea57faaaa6c": {
      "model_module": "@jupyter-widgets/controls",
      "model_module_version": "1.5.0",
      "model_name": "LabelModel",
      "state": {
       "layout": "IPY_MODEL_b94a27fdb2c0411493a7aebe2b72fab7",
       "style": "IPY_MODEL_b8e664a68ae0436d97428e314a075e1f",
       "value": "False"
      }
     },
     "8a81bcd5b2f943029ecbc059cab6fddd": {
      "model_module": "@jupyter-widgets/base",
      "model_module_version": "1.2.0",
      "model_name": "LayoutModel",
      "state": {}
     },
     "8a8bb90863c84740b6469afced05aef5": {
      "model_module": "@jupyter-widgets/controls",
      "model_module_version": "1.5.0",
      "model_name": "DescriptionStyleModel",
      "state": {
       "description_width": ""
      }
     },
     "8aa675c53e6440eeadc74ed53862082a": {
      "model_module": "@jupyter-widgets/controls",
      "model_module_version": "1.5.0",
      "model_name": "HBoxModel",
      "state": {
       "children": [
        "IPY_MODEL_8eb67e055165483ab9f00d7b474f288d",
        "IPY_MODEL_fc3355bd7df34c7ab71d5edbd6f13e8c"
       ],
       "layout": "IPY_MODEL_3cd7c8f372e64e57a10097fbc2800cac"
      }
     },
     "8ae929a9c3654a79b42660396e909999": {
      "model_module": "@jupyter-widgets/controls",
      "model_module_version": "1.5.0",
      "model_name": "LabelModel",
      "state": {
       "layout": "IPY_MODEL_4df3dfde89584a0c82ab38fd349f3c58",
       "style": "IPY_MODEL_a1afb8ae91f94eb2b0aa5a0d1ed229bf",
       "value": "azmlrts-eastus"
      }
     },
     "8af5ab2970394e7c9448ab86c6b72431": {
      "model_module": "@jupyter-widgets/controls",
      "model_module_version": "1.5.0",
      "model_name": "DescriptionStyleModel",
      "state": {
       "description_width": ""
      }
     },
     "8b0671bef9a9496fb1b56a14e555622d": {
      "model_module": "@jupyter-widgets/base",
      "model_module_version": "1.2.0",
      "model_name": "LayoutModel",
      "state": {}
     },
     "8b106fa0a7ce4d6c93e725c1ac7b5f6a": {
      "model_module": "@jupyter-widgets/controls",
      "model_module_version": "1.5.0",
      "model_name": "HBoxModel",
      "state": {
       "children": [
        "IPY_MODEL_7415fb6084cf436590f7f61fdd17413b",
        "IPY_MODEL_30b91b2049004913b8f5541a7a7f22c7"
       ],
       "layout": "IPY_MODEL_0a589d7e68c84aa785ebb5eb93189c2f"
      }
     },
     "8b195a1a661648f8a2c0217afd9aa3dc": {
      "model_module": "@jupyter-widgets/controls",
      "model_module_version": "1.5.0",
      "model_name": "DescriptionStyleModel",
      "state": {
       "description_width": ""
      }
     },
     "8b22837053d14a849553404d1ba07836": {
      "model_module": "@jupyter-widgets/controls",
      "model_module_version": "1.5.0",
      "model_name": "HTMLModel",
      "state": {
       "layout": "IPY_MODEL_11d25ee265fb432bba0b0a7bca22b0c8",
       "style": "IPY_MODEL_a61c08c3b4f24f6abcabbfab209d0172",
       "value": "<b>error:</b>"
      }
     },
     "8b377a7771f647f5802d3d6f0bc4437b": {
      "model_module": "@jupyter-widgets/controls",
      "model_module_version": "1.5.0",
      "model_name": "LabelModel",
      "state": {
       "layout": "IPY_MODEL_699356849bed4edea68cd3d6d879319b",
       "style": "IPY_MODEL_140b0ec3b2bc43858cf9be728a27df55",
       "value": "72f988bf-86f1-41af-91ab-2d7cd011db47"
      }
     },
     "8b4741d1d86c4ac3bb146305a0e6b6f6": {
      "model_module": "@jupyter-widgets/base",
      "model_module_version": "1.2.0",
      "model_name": "LayoutModel",
      "state": {}
     },
     "8b4bf309b02442a898e460b4da3b9e32": {
      "model_module": "@jupyter-widgets/base",
      "model_module_version": "1.2.0",
      "model_name": "LayoutModel",
      "state": {}
     },
     "8b4f4ed76aaf48ee9f85e63810533984": {
      "model_module": "@jupyter-widgets/base",
      "model_module_version": "1.2.0",
      "model_name": "LayoutModel",
      "state": {
       "width": "80%"
      }
     },
     "8b5f0d17e26f4b7bb6c132f1056a9f49": {
      "model_module": "@jupyter-widgets/controls",
      "model_module_version": "1.5.0",
      "model_name": "DescriptionStyleModel",
      "state": {
       "description_width": ""
      }
     },
     "8b82f971cc6f40dcad30572033b1a4c9": {
      "model_module": "@jupyter-widgets/controls",
      "model_module_version": "1.5.0",
      "model_name": "VBoxModel",
      "state": {
       "children": [
        "IPY_MODEL_311d959cea994a0084fb9759251d2245",
        "IPY_MODEL_23819790dc424831811a767fa14fcb3e",
        "IPY_MODEL_2d5c9d063803445098f271c5bf323f41"
       ],
       "layout": "IPY_MODEL_9c603373dbdc4444ad6cae685b9f2767"
      }
     },
     "8b9f0840f12542c89a60ebc2485ae06e": {
      "model_module": "@jupyter-widgets/base",
      "model_module_version": "1.2.0",
      "model_name": "LayoutModel",
      "state": {}
     },
     "8be0f3c6313d4cf8a297c1691c3bf2eb": {
      "model_module": "@jupyter-widgets/controls",
      "model_module_version": "1.5.0",
      "model_name": "DescriptionStyleModel",
      "state": {
       "description_width": ""
      }
     },
     "8bf8e46daf524f3da811903d6178187a": {
      "model_module": "@jupyter-widgets/controls",
      "model_module_version": "1.5.0",
      "model_name": "HTMLModel",
      "state": {
       "layout": "IPY_MODEL_068799826afd4c76be9cddbb34284e60",
       "style": "IPY_MODEL_d2546bde6f984fcea69780853adaa452",
       "value": "<b>sampleOutputDatasetId:</b>"
      }
     },
     "8bff5ecab7b34bfbbee7cbf517c86074": {
      "model_module": "@jupyter-widgets/base",
      "model_module_version": "1.2.0",
      "model_name": "LayoutModel",
      "state": {}
     },
     "8c0ea425d356447b908f61f8a7c578f4": {
      "model_module": "@jupyter-widgets/controls",
      "model_module_version": "1.5.0",
      "model_name": "DescriptionStyleModel",
      "state": {
       "description_width": ""
      }
     },
     "8c41d7d73490408fba0ff61f0a643157": {
      "model_module": "@jupyter-widgets/base",
      "model_module_version": "1.2.0",
      "model_name": "LayoutModel",
      "state": {}
     },
     "8c960c42427b4e81ad1fd59c9f0db382": {
      "model_module": "@jupyter-widgets/controls",
      "model_module_version": "1.5.0",
      "model_name": "LabelModel",
      "state": {
       "layout": "IPY_MODEL_cbd8071c56564e0aaa3a15226ed60033",
       "style": "IPY_MODEL_ab4de8b051cf494aacfdd174b7403329",
       "value": "0.1"
      }
     },
     "8cc777e5eee24bf4bffc8d84606bddd4": {
      "model_module": "@jupyter-widgets/controls",
      "model_module_version": "1.5.0",
      "model_name": "HTMLModel",
      "state": {
       "layout": "IPY_MODEL_0ad83f26168d47fa93eae12542d8de9c",
       "style": "IPY_MODEL_2057e678a3b449aa9c4c2d7d02a7363c",
       "value": "<img src=\"https://raw.githubusercontent.com/microsoft/AI-Utilities/master/docs/kubernetes.png\">"
      }
     },
     "8ce1e3cb768543aeb7e9dc1eaec44a9b": {
      "model_module": "@jupyter-widgets/base",
      "model_module_version": "1.2.0",
      "model_name": "LayoutModel",
      "state": {}
     },
     "8d097712d9e64e628255aa42ad73c154": {
      "model_module": "@jupyter-widgets/base",
      "model_module_version": "1.2.0",
      "model_name": "LayoutModel",
      "state": {}
     },
     "8d2438bddd2d4e88b481e38354e54da6": {
      "model_module": "@jupyter-widgets/controls",
      "model_module_version": "1.5.0",
      "model_name": "HTMLModel",
      "state": {
       "layout": "IPY_MODEL_e89ba5d221244757871aedb016802c1c",
       "style": "IPY_MODEL_ddfbd35fd45e4f3f8d85e68e150408a0",
       "value": "<b>memoryInGB:</b>"
      }
     },
     "8d3d33cf4d3f48ac81a68e0f70e9b087": {
      "model_module": "@jupyter-widgets/base",
      "model_module_version": "1.2.0",
      "model_name": "LayoutModel",
      "state": {}
     },
     "8d4424f92c8c488db4e8be6bb89a655b": {
      "model_module": "@jupyter-widgets/controls",
      "model_module_version": "1.5.0",
      "model_name": "DescriptionStyleModel",
      "state": {
       "description_width": ""
      }
     },
     "8d8b33351f7f4e10a5970cc75521fbb2": {
      "model_module": "@jupyter-widgets/base",
      "model_module_version": "1.2.0",
      "model_name": "LayoutModel",
      "state": {}
     },
     "8d9e9342dfb640408ff6341d83848c4e": {
      "model_module": "@jupyter-widgets/controls",
      "model_module_version": "1.5.0",
      "model_name": "DescriptionStyleModel",
      "state": {
       "description_width": ""
      }
     },
     "8dd3d9b1725b467e94628e70f20c5372": {
      "model_module": "@jupyter-widgets/base",
      "model_module_version": "1.2.0",
      "model_name": "LayoutModel",
      "state": {}
     },
     "8dde393393cd48629a06fcf4f5760e8c": {
      "model_module": "@jupyter-widgets/base",
      "model_module_version": "1.2.0",
      "model_name": "LayoutModel",
      "state": {
       "width": "50%"
      }
     },
     "8e04e13e2a1540b4b7416df3bd36178b": {
      "model_module": "@jupyter-widgets/controls",
      "model_module_version": "1.5.0",
      "model_name": "DescriptionStyleModel",
      "state": {
       "description_width": ""
      }
     },
     "8e06f1d6670447b79041b182776b11df": {
      "model_module": "@jupyter-widgets/controls",
      "model_module_version": "1.5.0",
      "model_name": "DescriptionStyleModel",
      "state": {
       "description_width": ""
      }
     },
     "8e0aa48ceec842e6bee3cbbf263df01b": {
      "model_module": "@jupyter-widgets/controls",
      "model_module_version": "1.5.0",
      "model_name": "HBoxModel",
      "state": {
       "children": [
        "IPY_MODEL_079da93dbb0e43af9949a9c101f90c28",
        "IPY_MODEL_f41d296182ed47d991c4ab39f9d4f1fb"
       ],
       "layout": "IPY_MODEL_9cb0a7dda6654e55886fb832b2308fbd"
      }
     },
     "8e5c743081344d59a5bb8783260f918b": {
      "model_module": "@jupyter-widgets/controls",
      "model_module_version": "1.5.0",
      "model_name": "HTMLModel",
      "state": {
       "layout": "IPY_MODEL_0cd828f155cb45d297778fc7d5a498a5",
       "style": "IPY_MODEL_2c61224473424fb297a22ad452fe76ed",
       "value": "<b>python:</b>"
      }
     },
     "8e7c8b48a259471f9432076d4c626ce5": {
      "model_module": "@jupyter-widgets/controls",
      "model_module_version": "1.5.0",
      "model_name": "HBoxModel",
      "state": {
       "children": [
        "IPY_MODEL_ef9c08cc132042179bedd6171a6cf350",
        "IPY_MODEL_0f16e02eb1844ca1adf22dd8b64c9dbf"
       ],
       "layout": "IPY_MODEL_a220e13995b443119a7127d9c37e5a94"
      }
     },
     "8e8375603d0d4fccb3570fa514766a25": {
      "model_module": "@jupyter-widgets/controls",
      "model_module_version": "1.5.0",
      "model_name": "AccordionModel",
      "state": {
       "_titles": {
        "0": "dataCollection"
       },
       "children": [
        "IPY_MODEL_080898d8613c44adb2e3a52b1483d68d"
       ],
       "layout": "IPY_MODEL_0af725f3795f4b1b8550692e1a2913f8"
      }
     },
     "8e96abf40b934c76a86127b647e27805": {
      "model_module": "@jupyter-widgets/controls",
      "model_module_version": "1.5.0",
      "model_name": "DescriptionStyleModel",
      "state": {
       "description_width": ""
      }
     },
     "8e9eeee754d44d79a0cf3784807c9b7d": {
      "model_module": "@jupyter-widgets/controls",
      "model_module_version": "1.5.0",
      "model_name": "AccordionModel",
      "state": {
       "_titles": {
        "0": "Main",
        "1": "Availability",
        "2": "Performance",
        "3": "Load Testing"
       },
       "children": [
        "IPY_MODEL_58f2625ea2b049be98c94a522516700d",
        "IPY_MODEL_870eeff4015744e2b12d12f5dda608d3",
        "IPY_MODEL_5091150d6441450da8612d57821e6e03",
        "IPY_MODEL_05182b083b374449af8a5b8ddb6ce667"
       ],
       "layout": "IPY_MODEL_44a33ea378164c0986204e412e44a5da"
      }
     },
     "8eb67e055165483ab9f00d7b474f288d": {
      "model_module": "@jupyter-widgets/controls",
      "model_module_version": "1.5.0",
      "model_name": "HTMLModel",
      "state": {
       "layout": "IPY_MODEL_7037980a8c14401bb9f255e5fe84d6c5",
       "style": "IPY_MODEL_dc6652e6151e4c658689fa168eee07ee",
       "value": "<b>userIdp:</b>"
      }
     },
     "8f02f2bd54104f16ac5f10b5d1e3f23c": {
      "model_module": "@jupyter-widgets/base",
      "model_module_version": "1.2.0",
      "model_name": "LayoutModel",
      "state": {}
     },
     "8f2360f73006462ab6f5085ad13dc55a": {
      "model_module": "@jupyter-widgets/controls",
      "model_module_version": "1.5.0",
      "model_name": "HTMLModel",
      "state": {
       "layout": "IPY_MODEL_0057ebf2f3554a6192a562f3c718be96",
       "style": "IPY_MODEL_d3601fba9f8b46e7baa274bf50935b07",
       "value": "<b>maxQueueWaitMs:</b>"
      }
     },
     "8f32adfcad06480ea220abadf51392d2": {
      "model_module": "@jupyter-widgets/base",
      "model_module_version": "1.2.0",
      "model_name": "LayoutModel",
      "state": {}
     },
     "8f3fedc06cde45bdb529318ef009bb5e": {
      "model_module": "@jupyter-widgets/base",
      "model_module_version": "1.2.0",
      "model_name": "LayoutModel",
      "state": {}
     },
     "8f55305831034021aa7cd2bad9d6652d": {
      "model_module": "@jupyter-widgets/base",
      "model_module_version": "1.2.0",
      "model_name": "LayoutModel",
      "state": {}
     },
     "8f57bc7603df409886facc2502dffc81": {
      "model_module": "@jupyter-widgets/controls",
      "model_module_version": "1.5.0",
      "model_name": "AccordionModel",
      "state": {
       "_titles": {
        "0": "Main",
        "1": "Performance"
       },
       "children": [
        "IPY_MODEL_50bbb7f45bb34eb3b8b76147b8630dcf",
        "IPY_MODEL_dd80e28a577f4afa8d3096bffe27eb88"
       ],
       "layout": "IPY_MODEL_47de548495a64e69a12cde7a07431d81"
      }
     },
     "8f99a2227de049548c6bcdb6b632ab88": {
      "model_module": "@jupyter-widgets/base",
      "model_module_version": "1.2.0",
      "model_name": "LayoutModel",
      "state": {}
     },
     "8fe858d39e224d09b0ac6b03428dc468": {
      "model_module": "@jupyter-widgets/controls",
      "model_module_version": "1.5.0",
      "model_name": "HBoxModel",
      "state": {
       "children": [
        "IPY_MODEL_a06495b0c53c4208b184bf8fec80d958",
        "IPY_MODEL_15d59c4072ee42bab10720a06374c66e"
       ],
       "layout": "IPY_MODEL_cbb8b35564ab426eb722d8cff689121f"
      }
     },
     "8ff4a873781046a1ba25c6256b9102f1": {
      "model_module": "@jupyter-widgets/base",
      "model_module_version": "1.2.0",
      "model_name": "LayoutModel",
      "state": {}
     },
     "8ffb8523f6054b938445dc63af4c8b90": {
      "model_module": "@jupyter-widgets/controls",
      "model_module_version": "1.5.0",
      "model_name": "DescriptionStyleModel",
      "state": {
       "description_width": ""
      }
     },
     "90217b2fe3a742fba38002986f3871c3": {
      "model_module": "@jupyter-widgets/controls",
      "model_module_version": "1.5.0",
      "model_name": "HTMLModel",
      "state": {
       "layout": "IPY_MODEL_99ba96a79f584feeb7bf683248538c5d",
       "style": "IPY_MODEL_8af5ab2970394e7c9448ab86c6b72431",
       "value": "<b>sampleInputDatasetId:</b>"
      }
     },
     "9030a357d0b64b5a91e6d2b5470ca5de": {
      "model_module": "@jupyter-widgets/base",
      "model_module_version": "1.2.0",
      "model_name": "LayoutModel",
      "state": {}
     },
     "9032fe5a6c90403088e26f831d87da63": {
      "model_module": "@jupyter-widgets/controls",
      "model_module_version": "1.5.0",
      "model_name": "DescriptionStyleModel",
      "state": {
       "description_width": ""
      }
     },
     "903bc991d5074a6c9c0bc44b6bf133f4": {
      "model_module": "@jupyter-widgets/controls",
      "model_module_version": "1.5.0",
      "model_name": "DescriptionStyleModel",
      "state": {
       "description_width": ""
      }
     },
     "9049a16c0b144dfdbaf92eaad01a8a30": {
      "model_module": "@jupyter-widgets/controls",
      "model_module_version": "1.5.0",
      "model_name": "VBoxModel",
      "state": {
       "children": [
        "IPY_MODEL_5e9685879e6f469f9090b0975b07ab79",
        "IPY_MODEL_e6ab3b249b5e41af94c5fd914f61bff3",
        "IPY_MODEL_eff4cf90765245a2b14894a6b7abbf3e",
        "IPY_MODEL_7b6e1499c19d4f5abcf5b01ca4e7d4d5",
        "IPY_MODEL_5c7d0fcaec1248d69979abd05b004367",
        "IPY_MODEL_b151e7891df04554be94e4cf18d7bd4f",
        "IPY_MODEL_3586cb6bcc1c41a3a03fa07d9f3dc791",
        "IPY_MODEL_7640e0ab45e64e128722f2b3f4abb996",
        "IPY_MODEL_732f3b8e129e4bc49243bb83ec6c50ca"
       ],
       "layout": "IPY_MODEL_d903a4266a0a4a5c9118660258475221"
      }
     },
     "9051b7a3ecb44a2bab1614a410fe057f": {
      "model_module": "@jupyter-widgets/controls",
      "model_module_version": "1.5.0",
      "model_name": "HBoxModel",
      "state": {
       "children": [
        "IPY_MODEL_c265536db23a4000b0c5b6485764c076",
        "IPY_MODEL_1ca24dbc131b4cd78c74322205654842"
       ],
       "layout": "IPY_MODEL_4add35a69e2642bd9f2b95ee3859d903"
      }
     },
     "9078931fb9f8490a97cb21cb13620f92": {
      "model_module": "@jupyter-widgets/controls",
      "model_module_version": "1.5.0",
      "model_name": "DescriptionStyleModel",
      "state": {
       "description_width": ""
      }
     },
     "90a0c02c15ab44b3a394da9bf37ea726": {
      "model_module": "@jupyter-widgets/base",
      "model_module_version": "1.2.0",
      "model_name": "LayoutModel",
      "state": {}
     },
     "90a805e4b36943108ac9b99065d7f2e2": {
      "model_module": "@jupyter-widgets/controls",
      "model_module_version": "1.5.0",
      "model_name": "HBoxModel",
      "state": {
       "children": [
        "IPY_MODEL_abef8d5e627c43999dfa68ea510ae53d",
        "IPY_MODEL_ad838a0bc920462aba372c7bbb31447b"
       ],
       "layout": "IPY_MODEL_ee86355c81bf4a59829d49ca18f1186d"
      }
     },
     "90c61e83d0d847d9ac6db0eb7b9c1c7d": {
      "model_module": "@jupyter-widgets/controls",
      "model_module_version": "1.5.0",
      "model_name": "HBoxModel",
      "state": {
       "children": [
        "IPY_MODEL_e97016901e6341979986f469227421df",
        "IPY_MODEL_ed8b675a9b754d25b2642a482bc1bcd2"
       ],
       "layout": "IPY_MODEL_f9b5d1a508d54fa98b318e6215381bbb"
      }
     },
     "911f9e82d8394b50945e91350ea11249": {
      "model_module": "@jupyter-widgets/output",
      "model_module_version": "1.0.0",
      "model_name": "OutputModel",
      "state": {
       "layout": "IPY_MODEL_ab1fb4cab8774cdcb60eaf534b964ee8"
      }
     },
     "9122a4466c9d40f9856299cf0d266166": {
      "model_module": "@jupyter-widgets/controls",
      "model_module_version": "1.5.0",
      "model_name": "LabelModel",
      "state": {
       "layout": "IPY_MODEL_4af4009d9a1f49468adad14f539eb787",
       "style": "IPY_MODEL_96f71b8889084e97b2e3803b2506ee06",
       "value": "deepakscluster"
      }
     },
     "914130b3a074437a9accd4a1bf354a5c": {
      "model_module": "@jupyter-widgets/controls",
      "model_module_version": "1.5.0",
      "model_name": "HTMLModel",
      "state": {
       "layout": "IPY_MODEL_fb1089a97b5840d796220a5316191305",
       "style": "IPY_MODEL_f9b51fc39aad4e118fd162299b54a1b9",
       "value": "<b>azureml.git.dirty:</b>"
      }
     },
     "91570aa85e954a2e924e12e3943fd603": {
      "model_module": "@jupyter-widgets/base",
      "model_module_version": "1.2.0",
      "model_name": "LayoutModel",
      "state": {}
     },
     "9168d5bd16584abbbf13d9b20a88b3a3": {
      "model_module": "@jupyter-widgets/controls",
      "model_module_version": "1.5.0",
      "model_name": "HTMLModel",
      "state": {
       "layout": "IPY_MODEL_89dd38778ac8487c92d782128ab69666",
       "style": "IPY_MODEL_c715fdefd51d4591aab034a8f81b8353",
       "value": "<b>userAltSecId:</b>"
      }
     },
     "918953e51f1e4f4da629e09a472cdffb": {
      "model_module": "@jupyter-widgets/controls",
      "model_module_version": "1.5.0",
      "model_name": "DescriptionStyleModel",
      "state": {
       "description_width": ""
      }
     },
     "91a1d6249d634eaca1b0c9f6e61de8ba": {
      "model_module": "@jupyter-widgets/base",
      "model_module_version": "1.2.0",
      "model_name": "LayoutModel",
      "state": {}
     },
     "91b38cb1be0f4585ad8bfc7779450319": {
      "model_module": "@jupyter-widgets/base",
      "model_module_version": "1.2.0",
      "model_name": "LayoutModel",
      "state": {}
     },
     "91c1a1099fe74145bb0bf059cd4e0a82": {
      "model_module": "@jupyter-widgets/base",
      "model_module_version": "1.2.0",
      "model_name": "LayoutModel",
      "state": {}
     },
     "91c688cbf9014a20a5b6deb7863082db": {
      "model_module": "@jupyter-widgets/base",
      "model_module_version": "1.2.0",
      "model_name": "LayoutModel",
      "state": {}
     },
     "92729d620d4e47f5b9ef0d34af877cf5": {
      "model_module": "@jupyter-widgets/base",
      "model_module_version": "1.2.0",
      "model_name": "LayoutModel",
      "state": {}
     },
     "9297ff2bd96d4ef9a7d3f378a68111fd": {
      "model_module": "@jupyter-widgets/base",
      "model_module_version": "1.2.0",
      "model_name": "LayoutModel",
      "state": {}
     },
     "92986099e14f4265a8bad56b2ca0fdf1": {
      "model_module": "@jupyter-widgets/controls",
      "model_module_version": "1.5.0",
      "model_name": "LabelModel",
      "state": {
       "layout": "IPY_MODEL_e037226577e046fea6e14f4ad649bbeb",
       "style": "IPY_MODEL_3545323ed97e4d48946a4f609d90f230",
       "value": "500"
      }
     },
     "929d4e86f93d4243b7bebb12cd6b6f37": {
      "model_module": "@jupyter-widgets/base",
      "model_module_version": "1.2.0",
      "model_name": "LayoutModel",
      "state": {}
     },
     "92c3cbd515f14e7f8d6707d4c176bd9e": {
      "model_module": "@jupyter-widgets/controls",
      "model_module_version": "1.5.0",
      "model_name": "HTMLModel",
      "state": {
       "layout": "IPY_MODEL_f484a705dba4431e8c309b028054b253",
       "style": "IPY_MODEL_0373880217d74da8b09bf8c63e205bb4",
       "value": "<b>userName:</b>"
      }
     },
     "9319d066264745c89fc233881b214180": {
      "model_module": "@jupyter-widgets/base",
      "model_module_version": "1.2.0",
      "model_name": "LayoutModel",
      "state": {}
     },
     "934161976b3d42f2bbb9db9d215cd01e": {
      "model_module": "@jupyter-widgets/base",
      "model_module_version": "1.2.0",
      "model_name": "LayoutModel",
      "state": {}
     },
     "9350adf3a8a848478f20f61bcde4dc32": {
      "model_module": "@jupyter-widgets/base",
      "model_module_version": "1.2.0",
      "model_name": "LayoutModel",
      "state": {}
     },
     "9376555e50154cc9a81a1290910ec822": {
      "model_module": "@jupyter-widgets/controls",
      "model_module_version": "1.5.0",
      "model_name": "HBoxModel",
      "state": {
       "children": [
        "IPY_MODEL_3094f0c0ec64476da011a777d0969ce4",
        "IPY_MODEL_78b2e5ede43e4968a5ef58bc676fc1bb"
       ],
       "layout": "IPY_MODEL_e761b2590c32405ab424c98dee0a28ba"
      }
     },
     "93bbfd4437cf420a8399a35dea608c01": {
      "model_module": "@jupyter-widgets/controls",
      "model_module_version": "1.5.0",
      "model_name": "HBoxModel",
      "state": {
       "children": [
        "IPY_MODEL_bd6a2f947f40461d9cd4f5b8fd4f36ba",
        "IPY_MODEL_23e212571a9c4e35ab1b3dc1d1859658"
       ],
       "layout": "IPY_MODEL_e5bb1994560f4b8d9e46efcf91143ef6"
      }
     },
     "93d8bb7c0c654e59b92d8cd5cd012de0": {
      "model_module": "@jupyter-widgets/base",
      "model_module_version": "1.2.0",
      "model_name": "LayoutModel",
      "state": {}
     },
     "9413b472f56e428f8696353b581bf6f0": {
      "model_module": "@jupyter-widgets/controls",
      "model_module_version": "1.5.0",
      "model_name": "DescriptionStyleModel",
      "state": {
       "description_width": "initial"
      }
     },
     "941bcb14f0f24a6aa8d5cd8102434cc1": {
      "model_module": "@jupyter-widgets/base",
      "model_module_version": "1.2.0",
      "model_name": "LayoutModel",
      "state": {
       "width": "80%"
      }
     },
     "9465ef84981f4bceaa0e05359b5f96ee": {
      "model_module": "@jupyter-widgets/controls",
      "model_module_version": "1.5.0",
      "model_name": "HBoxModel",
      "state": {
       "children": [
        "IPY_MODEL_bd30e88711114e5ea33265d1e30bf753",
        "IPY_MODEL_afa6a8cf55d74e34a39fe9038806867b"
       ],
       "layout": "IPY_MODEL_665fa8dbfbea433dad134e8122843b05"
      }
     },
     "946d637885664915a139ddb03e11a744": {
      "model_module": "@jupyter-widgets/controls",
      "model_module_version": "1.5.0",
      "model_name": "DescriptionStyleModel",
      "state": {
       "description_width": ""
      }
     },
     "94832e25733249d9b4f87646b7ed4254": {
      "model_module": "@jupyter-widgets/base",
      "model_module_version": "1.2.0",
      "model_name": "LayoutModel",
      "state": {}
     },
     "949eaa1d264647a599bbda444b9e2c65": {
      "model_module": "@jupyter-widgets/controls",
      "model_module_version": "1.5.0",
      "model_name": "HBoxModel",
      "state": {
       "children": [
        "IPY_MODEL_b29f9cff659d48eebe68522ee29d55f5",
        "IPY_MODEL_92986099e14f4265a8bad56b2ca0fdf1"
       ],
       "layout": "IPY_MODEL_3e23e7483bb94f1daee21910c3e06ec5"
      }
     },
     "94aa2b07d7764e6f83fc369e35fef8df": {
      "model_module": "@jupyter-widgets/controls",
      "model_module_version": "1.5.0",
      "model_name": "DescriptionStyleModel",
      "state": {
       "description_width": ""
      }
     },
     "94be80b2677d46e5a711d3c5b8d677b0": {
      "model_module": "@jupyter-widgets/base",
      "model_module_version": "1.2.0",
      "model_name": "LayoutModel",
      "state": {}
     },
     "94d589eb407a478bbf4d24fe8776acd2": {
      "model_module": "@jupyter-widgets/base",
      "model_module_version": "1.2.0",
      "model_name": "LayoutModel",
      "state": {}
     },
     "94db1f5efc6f4a718d510b94393d1f60": {
      "model_module": "@jupyter-widgets/controls",
      "model_module_version": "1.5.0",
      "model_name": "DescriptionStyleModel",
      "state": {
       "description_width": ""
      }
     },
     "94ec2bf7139e4d3380752482918ef518": {
      "model_module": "@jupyter-widgets/base",
      "model_module_version": "1.2.0",
      "model_name": "LayoutModel",
      "state": {}
     },
     "951399e33ff344c1a40245fb3479f575": {
      "model_module": "@jupyter-widgets/base",
      "model_module_version": "1.2.0",
      "model_name": "LayoutModel",
      "state": {}
     },
     "95224255a0ff409c93f043d51d181a1f": {
      "model_module": "@jupyter-widgets/controls",
      "model_module_version": "1.5.0",
      "model_name": "DescriptionStyleModel",
      "state": {
       "description_width": ""
      }
     },
     "95240fee60324e6f9dc6f9ea6c29ccda": {
      "model_module": "@jupyter-widgets/controls",
      "model_module_version": "1.5.0",
      "model_name": "HTMLModel",
      "state": {
       "layout": "IPY_MODEL_b5967fe16b274df183a37c24502b9824",
       "style": "IPY_MODEL_74adc20bcc244a89af5b4d83f7b109b7",
       "value": "<b>experimentName:</b>"
      }
     },
     "95763fbf5e664d08a8c97e1c2596cf2e": {
      "model_module": "@jupyter-widgets/base",
      "model_module_version": "1.2.0",
      "model_name": "LayoutModel",
      "state": {}
     },
     "957a413a65224287aa6c210732d44822": {
      "model_module": "@jupyter-widgets/base",
      "model_module_version": "1.2.0",
      "model_name": "LayoutModel",
      "state": {}
     },
     "9589434206a94b6a8b0063b22040d6fd": {
      "model_module": "@jupyter-widgets/controls",
      "model_module_version": "1.5.0",
      "model_name": "DescriptionStyleModel",
      "state": {
       "description_width": ""
      }
     },
     "95934f3951ea4ac59cb684f4dc858752": {
      "model_module": "@jupyter-widgets/base",
      "model_module_version": "1.2.0",
      "model_name": "LayoutModel",
      "state": {}
     },
     "959442d6b05948878770f922c088040a": {
      "model_module": "@jupyter-widgets/controls",
      "model_module_version": "1.5.0",
      "model_name": "HBoxModel",
      "state": {
       "children": [
        "IPY_MODEL_59a5d97c16e04bf0a522f7a4300d9d25",
        "IPY_MODEL_b7e87846d02149ebb5b3ee1758ffd527"
       ],
       "layout": "IPY_MODEL_d3bfd713dbc64781be2f6be018b9530b"
      }
     },
     "95957e016b6d4f6784589db16b6faa6a": {
      "model_module": "@jupyter-widgets/controls",
      "model_module_version": "1.5.0",
      "model_name": "HBoxModel",
      "state": {
       "children": [
        "IPY_MODEL_6123c09a47df497f9bc4c675ebb0dcdf",
        "IPY_MODEL_0db78659465f4c2999b71520dfb88037"
       ],
       "layout": "IPY_MODEL_c48b7e550970418dbfbb4cffa6d9a12d"
      }
     },
     "959890ec3bf04daebd863932baa42baa": {
      "model_module": "@jupyter-widgets/controls",
      "model_module_version": "1.5.0",
      "model_name": "LabelModel",
      "state": {
       "layout": "IPY_MODEL_ef18405c6e804273bead9a3b2af864c1",
       "style": "IPY_MODEL_6c3c93b40250418bb224c0c4380cb112",
       "value": "https://sts.windows.net/72f988bf-86f1-41af-91ab-2d7cd011db47/"
      }
     },
     "9601e147c9b54b239e0891845948e9e0": {
      "model_module": "@jupyter-widgets/base",
      "model_module_version": "1.2.0",
      "model_name": "LayoutModel",
      "state": {}
     },
     "960f0bb0393840c9a21689a991632bbf": {
      "model_module": "@jupyter-widgets/base",
      "model_module_version": "1.2.0",
      "model_name": "LayoutModel",
      "state": {}
     },
     "962d8dd467a74d2aaa9b93e5bd78d7c8": {
      "model_module": "@jupyter-widgets/base",
      "model_module_version": "1.2.0",
      "model_name": "LayoutModel",
      "state": {}
     },
     "96301b0846dd4e33bd113c644e283b7e": {
      "model_module": "@jupyter-widgets/controls",
      "model_module_version": "1.5.0",
      "model_name": "HTMLModel",
      "state": {
       "layout": "IPY_MODEL_95934f3951ea4ac59cb684f4dc858752",
       "style": "IPY_MODEL_7e180ee251024814b565a473b3bf6ab1",
       "value": "<b>userAltSecId:</b>"
      }
     },
     "966606a02de9466fb2f4c46147d122ae": {
      "model_module": "@jupyter-widgets/base",
      "model_module_version": "1.2.0",
      "model_name": "LayoutModel",
      "state": {}
     },
     "969770b5b3e84c309cdc0533d21f145c": {
      "model_module": "@jupyter-widgets/base",
      "model_module_version": "1.2.0",
      "model_name": "LayoutModel",
      "state": {}
     },
     "96a4c621f2934a6d89ef9bbd791fd095": {
      "model_module": "@jupyter-widgets/base",
      "model_module_version": "1.2.0",
      "model_name": "LayoutModel",
      "state": {}
     },
     "96f71b8889084e97b2e3803b2506ee06": {
      "model_module": "@jupyter-widgets/controls",
      "model_module_version": "1.5.0",
      "model_name": "DescriptionStyleModel",
      "state": {
       "description_width": ""
      }
     },
     "96f8e779302f4e88af8dd89bd97a292f": {
      "model_module": "@jupyter-widgets/controls",
      "model_module_version": "1.5.0",
      "model_name": "LabelModel",
      "state": {
       "layout": "IPY_MODEL_d69509aec62040cc9985c92c5293464e",
       "style": "IPY_MODEL_579f6d82f1144ff4b4eff53da0b1c967",
       "value": "dciborow/no-cli"
      }
     },
     "97739afa0e9b4c81a290c268de4eb831": {
      "model_module": "@jupyter-widgets/controls",
      "model_module_version": "1.5.0",
      "model_name": "DescriptionStyleModel",
      "state": {
       "description_width": ""
      }
     },
     "978654c2d4584952942851dd4708b7b9": {
      "model_module": "@jupyter-widgets/base",
      "model_module_version": "1.2.0",
      "model_name": "LayoutModel",
      "state": {}
     },
     "979a561d9e41447880e4c17477411f9c": {
      "model_module": "@jupyter-widgets/controls",
      "model_module_version": "1.5.0",
      "model_name": "HTMLModel",
      "state": {
       "layout": "IPY_MODEL_683f24ecd0404c44bc894c7a5e24b956",
       "style": "IPY_MODEL_d9f4568bd2db46309fab9737174455e1",
       "value": "<b>environmentVariables:</b>"
      }
     },
     "97c4dd1ed5d0454b8e18e66c9e3330d4": {
      "model_module": "@jupyter-widgets/controls",
      "model_module_version": "1.5.0",
      "model_name": "LabelModel",
      "state": {
       "layout": "IPY_MODEL_2cf5aadd5a9246bdbfd604c88fee291e",
       "style": "IPY_MODEL_729861f5cd034137b50503263be1f9d6",
       "value": "3"
      }
     },
     "97e2ad916d87428aa5b176ce7d26b453": {
      "model_module": "@jupyter-widgets/controls",
      "model_module_version": "1.5.0",
      "model_name": "DescriptionStyleModel",
      "state": {
       "description_width": ""
      }
     },
     "97e9612fe4fb4c7daf374ce0d17bc223": {
      "model_module": "@jupyter-widgets/controls",
      "model_module_version": "1.5.0",
      "model_name": "LabelModel",
      "state": {
       "layout": "IPY_MODEL_65a85a6c86f743f893edc6aa01debfa5",
       "style": "IPY_MODEL_8e96abf40b934c76a86127b647e27805",
       "value": "None"
      }
     },
     "97f44ee9954042c29277ddd0de099b83": {
      "model_module": "@jupyter-widgets/controls",
      "model_module_version": "1.5.0",
      "model_name": "HTMLModel",
      "state": {
       "layout": "IPY_MODEL_38a00ce1df614257b62bdc61629f389c",
       "style": "IPY_MODEL_e88718a2f4ab49ec8ad00fb6fc9972d6",
       "value": "<b>maxQueueWaitMs:</b>"
      }
     },
     "97fa288f81eb435cb8eb5410ce86b900": {
      "model_module": "@jupyter-widgets/controls",
      "model_module_version": "1.5.0",
      "model_name": "DescriptionStyleModel",
      "state": {
       "description_width": ""
      }
     },
     "98221aa2c6c5409e8c32f57df2858ee3": {
      "model_module": "@jupyter-widgets/controls",
      "model_module_version": "1.5.0",
      "model_name": "DescriptionStyleModel",
      "state": {
       "description_width": ""
      }
     },
     "982ad02a28b74ea481b37ca49b2b6008": {
      "model_module": "@jupyter-widgets/controls",
      "model_module_version": "1.5.0",
      "model_name": "DescriptionStyleModel",
      "state": {
       "description_width": ""
      }
     },
     "982e52edbed14bfdb4d7f4d6ee3e83fa": {
      "model_module": "@jupyter-widgets/controls",
      "model_module_version": "1.5.0",
      "model_name": "DescriptionStyleModel",
      "state": {
       "description_width": ""
      }
     },
     "98438e17c6564e49ac22ac904fef0f3d": {
      "model_module": "@jupyter-widgets/controls",
      "model_module_version": "1.5.0",
      "model_name": "DescriptionStyleModel",
      "state": {
       "description_width": ""
      }
     },
     "9850cb99fafd4442a3caf258106862ec": {
      "model_module": "@jupyter-widgets/base",
      "model_module_version": "1.2.0",
      "model_name": "LayoutModel",
      "state": {}
     },
     "9855124a456e4dab9263365919cad1c5": {
      "model_module": "@jupyter-widgets/controls",
      "model_module_version": "1.5.0",
      "model_name": "LabelModel",
      "state": {
       "layout": "IPY_MODEL_31aba22b5bad4274add55717eb775fb8",
       "style": "IPY_MODEL_2acdae910b1b46e5abd7b66250b27bad",
       "value": "3"
      }
     },
     "9872fe39bfc94ee89994202a082eaed0": {
      "model_module": "@jupyter-widgets/controls",
      "model_module_version": "1.5.0",
      "model_name": "HBoxModel",
      "state": {
       "children": [
        "IPY_MODEL_7ea38c53da004e91b2caf5baca7f3f38",
        "IPY_MODEL_4dd97ebfb669463299854b893a73e247"
       ],
       "layout": "IPY_MODEL_4b7e13a4adfa42959d90a652e00e469f"
      }
     },
     "98785d89b99f465894b66c78b213a86e": {
      "model_module": "@jupyter-widgets/controls",
      "model_module_version": "1.5.0",
      "model_name": "LabelModel",
      "state": {
       "layout": "IPY_MODEL_4e3f9c1004e14bff9b13426255afb2aa",
       "style": "IPY_MODEL_5f9550ef319c44c7be50be75ed5116a1",
       "value": "None"
      }
     },
     "98c735cc487546b2902ff52909e5649b": {
      "model_module": "@jupyter-widgets/controls",
      "model_module_version": "1.5.0",
      "model_name": "HBoxModel",
      "state": {
       "children": [
        "IPY_MODEL_341231c92ba643d19d477650db15f03d",
        "IPY_MODEL_47ee6544929248299787c9503490d431"
       ],
       "layout": "IPY_MODEL_171ec4d323c94851b8ff0aa9fd86520a"
      }
     },
     "98f4528648dc4d2caaccf51f6ccef290": {
      "model_module": "@jupyter-widgets/controls",
      "model_module_version": "1.5.0",
      "model_name": "HTMLModel",
      "state": {
       "layout": "IPY_MODEL_b8508bc1dc5b4c5eb10920c183f7e8d9",
       "style": "IPY_MODEL_62e69e08cae34305bc216cc0483e1a31",
       "value": "<b>userIss:</b>"
      }
     },
     "98fc5629d27a43f6a9cc0a34413909ef": {
      "model_module": "@jupyter-widgets/base",
      "model_module_version": "1.2.0",
      "model_name": "LayoutModel",
      "state": {}
     },
     "992618db07ca4c8f94a75470caad3104": {
      "model_module": "@jupyter-widgets/controls",
      "model_module_version": "1.5.0",
      "model_name": "HTMLModel",
      "state": {
       "layout": "IPY_MODEL_245d6e29a8c340b99ebbda5ea723289d",
       "style": "IPY_MODEL_3a739bb2a46942ceb684ea2c7cb363de",
       "value": "<b>version:</b>"
      }
     },
     "9929ef73abe24166b5d3e598856de19a": {
      "model_module": "@jupyter-widgets/controls",
      "model_module_version": "1.5.0",
      "model_name": "HTMLModel",
      "state": {
       "layout": "IPY_MODEL_249b53095a534dabbb14742c5ea7d32d",
       "style": "IPY_MODEL_98221aa2c6c5409e8c32f57df2858ee3",
       "value": "<b>resourceConfiguration:</b>"
      }
     },
     "99964851ca88435fb023248c69cb8a16": {
      "model_module": "@jupyter-widgets/base",
      "model_module_version": "1.2.0",
      "model_name": "LayoutModel",
      "state": {}
     },
     "999920a313f949d794698ce1322f911a": {
      "model_module": "@jupyter-widgets/controls",
      "model_module_version": "1.5.0",
      "model_name": "DescriptionStyleModel",
      "state": {
       "description_width": ""
      }
     },
     "99ba96a79f584feeb7bf683248538c5d": {
      "model_module": "@jupyter-widgets/base",
      "model_module_version": "1.2.0",
      "model_name": "LayoutModel",
      "state": {}
     },
     "99ea66a3199a433698fee66597a93e53": {
      "model_module": "@jupyter-widgets/base",
      "model_module_version": "1.2.0",
      "model_name": "LayoutModel",
      "state": {}
     },
     "9a0f60c5345044d5a9f2a7912df12b86": {
      "model_module": "@jupyter-widgets/controls",
      "model_module_version": "1.5.0",
      "model_name": "LabelModel",
      "state": {
       "layout": "IPY_MODEL_3407b3386d05408d818fb915b43e2c80",
       "style": "IPY_MODEL_b4b2e9d0bba14728953ba9bc1c4dfa91",
       "value": "None"
      }
     },
     "9a3251d388cf4c76be44c1a283737c31": {
      "model_module": "@jupyter-widgets/controls",
      "model_module_version": "1.5.0",
      "model_name": "VBoxModel",
      "state": {
       "children": [
        "IPY_MODEL_5d8e7f08468349f88ca34ba1c16d79cc",
        "IPY_MODEL_06d300674fc3473bbfed0dcfdfc6c771",
        "IPY_MODEL_f53b2ca25e794e798b02f41ab29e6bde",
        "IPY_MODEL_89543158f75a472f8d97420be78a6664",
        "IPY_MODEL_c904c1cccda74a8aa68c354ae9406df8",
        "IPY_MODEL_197c4f15152844f089c2dff8a9ab2172",
        "IPY_MODEL_89f5ad09afb54e478623ea141155f271"
       ],
       "layout": "IPY_MODEL_fad5fd43b7084a23a9bfc957a7ed3d0b"
      }
     },
     "9a6b8ec553e4464c876a6b308d689797": {
      "model_module": "@jupyter-widgets/controls",
      "model_module_version": "1.5.0",
      "model_name": "DescriptionStyleModel",
      "state": {
       "description_width": ""
      }
     },
     "9a6ec826e48447b88c600cd8bb65e2b3": {
      "model_module": "@jupyter-widgets/controls",
      "model_module_version": "1.5.0",
      "model_name": "LabelModel",
      "state": {
       "layout": "IPY_MODEL_e66139c56a02424d83e657b03e721316",
       "style": "IPY_MODEL_af0151d1c4b340e6bb04b6b6747b9e93",
       "value": "https://sts.windows.net/72f988bf-86f1-41af-91ab-2d7cd011db47/"
      }
     },
     "9a7717b73f4f4b4d88fe1f8ac621c23a": {
      "model_module": "@jupyter-widgets/controls",
      "model_module_version": "1.5.0",
      "model_name": "HTMLModel",
      "state": {
       "layout": "IPY_MODEL_7c8427013d0548308849ae079a46250f",
       "style": "IPY_MODEL_7f075977c7674e0d9d102470e1694dd9",
       "value": "<b>r:</b>"
      }
     },
     "9a8bc7de4f5a40dcb497c86783152e22": {
      "model_module": "@jupyter-widgets/controls",
      "model_module_version": "1.5.0",
      "model_name": "LabelModel",
      "state": {
       "layout": "IPY_MODEL_db248d9d5c5e4a73b9055eff18174923",
       "style": "IPY_MODEL_d81b47bf8da1487bbfecd750c6dbd428",
       "value": "None"
      }
     },
     "9a91b053c1ec419ca9d0f9678caad662": {
      "model_module": "@jupyter-widgets/base",
      "model_module_version": "1.2.0",
      "model_name": "LayoutModel",
      "state": {}
     },
     "9aceb12f239c459f8ad8529acee0bb13": {
      "model_module": "@jupyter-widgets/controls",
      "model_module_version": "1.5.0",
      "model_name": "HTMLModel",
      "state": {
       "layout": "IPY_MODEL_1562e79659b14acdbaf95d8aef7b9329",
       "style": "IPY_MODEL_b58b769c4564405badb0745784c51db9",
       "value": "<b>state:</b>"
      }
     },
     "9b0d221503254c7595ea3ec1880694eb": {
      "model_module": "@jupyter-widgets/controls",
      "model_module_version": "1.5.0",
      "model_name": "HBoxModel",
      "state": {
       "children": [
        "IPY_MODEL_d507edea85594fd390d4af3a5484b1bb",
        "IPY_MODEL_bcc0ec8c163f4dc79471e04a8341d02d"
       ],
       "layout": "IPY_MODEL_6840c669d07e45ce80b11b490a171e03"
      }
     },
     "9b1d19db2e7d45eb8497b96c827cef03": {
      "model_module": "@jupyter-widgets/base",
      "model_module_version": "1.2.0",
      "model_name": "LayoutModel",
      "state": {}
     },
     "9b31793e43d844d6b5fa9d988746b62b": {
      "model_module": "@jupyter-widgets/base",
      "model_module_version": "1.2.0",
      "model_name": "LayoutModel",
      "state": {}
     },
     "9b901f8fe5b9455494969f1f257fbd56": {
      "model_module": "@jupyter-widgets/controls",
      "model_module_version": "1.5.0",
      "model_name": "DescriptionStyleModel",
      "state": {
       "description_width": ""
      }
     },
     "9b92d4f0b41544a88e929248acd4128b": {
      "model_module": "@jupyter-widgets/controls",
      "model_module_version": "1.5.0",
      "model_name": "HTMLModel",
      "state": {
       "layout": "IPY_MODEL_c476cea70b204c6e9077447cde9073de",
       "style": "IPY_MODEL_ac4f961d763548c59bc392456ab1f95d",
       "value": "<b>imageId:</b>"
      }
     },
     "9b9a4b78217043b59b560c953b41e596": {
      "model_module": "@jupyter-widgets/base",
      "model_module_version": "1.2.0",
      "model_name": "LayoutModel",
      "state": {}
     },
     "9c5845d1e4d24c45947b044d72e4fafb": {
      "model_module": "@jupyter-widgets/base",
      "model_module_version": "1.2.0",
      "model_name": "LayoutModel",
      "state": {}
     },
     "9c603373dbdc4444ad6cae685b9f2767": {
      "model_module": "@jupyter-widgets/base",
      "model_module_version": "1.2.0",
      "model_name": "LayoutModel",
      "state": {}
     },
     "9cb0a7dda6654e55886fb832b2308fbd": {
      "model_module": "@jupyter-widgets/base",
      "model_module_version": "1.2.0",
      "model_name": "LayoutModel",
      "state": {}
     },
     "9cb5b164e3334fdabccda86f1606233a": {
      "model_module": "@jupyter-widgets/base",
      "model_module_version": "1.2.0",
      "model_name": "LayoutModel",
      "state": {}
     },
     "9cd792a7f223455e8e61e9d1b245d485": {
      "model_module": "@jupyter-widgets/controls",
      "model_module_version": "1.5.0",
      "model_name": "HBoxModel",
      "state": {
       "children": [
        "IPY_MODEL_97f44ee9954042c29277ddd0de099b83",
        "IPY_MODEL_b9ffe0962b47454c8ce21a80208bb0a3"
       ],
       "layout": "IPY_MODEL_ea42745b01eb4be18ed1bd14efbdf9a3"
      }
     },
     "9ce1e12ec7f8428a87ee19417fe2eaa7": {
      "model_module": "@jupyter-widgets/base",
      "model_module_version": "1.2.0",
      "model_name": "LayoutModel",
      "state": {}
     },
     "9ce836cdc77d4faf9e482c8370f9bd48": {
      "model_module": "@jupyter-widgets/base",
      "model_module_version": "1.2.0",
      "model_name": "LayoutModel",
      "state": {}
     },
     "9ceb2ceded4147a3a6c89e485b2aae13": {
      "model_module": "@jupyter-widgets/controls",
      "model_module_version": "1.5.0",
      "model_name": "DescriptionStyleModel",
      "state": {
       "description_width": ""
      }
     },
     "9d0c6b17d05348e0a5302c1900843921": {
      "model_module": "@jupyter-widgets/controls",
      "model_module_version": "1.5.0",
      "model_name": "DescriptionStyleModel",
      "state": {
       "description_width": ""
      }
     },
     "9d0dcf072fc04d44a62d9fc04c570bd1": {
      "model_module": "@jupyter-widgets/base",
      "model_module_version": "1.2.0",
      "model_name": "LayoutModel",
      "state": {}
     },
     "9d118614ccdc4a59ae62fe2fdd3434ba": {
      "model_module": "@jupyter-widgets/base",
      "model_module_version": "1.2.0",
      "model_name": "LayoutModel",
      "state": {}
     },
     "9d29f4cf42ea486a84d3da45e7fa5615": {
      "model_module": "@jupyter-widgets/controls",
      "model_module_version": "1.5.0",
      "model_name": "DescriptionStyleModel",
      "state": {
       "description_width": ""
      }
     },
     "9d2a85b208294675b39215c8ca7fa287": {
      "model_module": "@jupyter-widgets/controls",
      "model_module_version": "1.5.0",
      "model_name": "LabelModel",
      "state": {
       "layout": "IPY_MODEL_d965019611ad45188651c4bcdeaee760",
       "style": "IPY_MODEL_e477a97945a64ff2995adaad04a82524",
       "value": "True"
      }
     },
     "9d4c8d9859cf41d48227e389b18f5aa2": {
      "model_module": "@jupyter-widgets/controls",
      "model_module_version": "1.5.0",
      "model_name": "DescriptionStyleModel",
      "state": {
       "description_width": ""
      }
     },
     "9d4e5b5e2fef4ab08703b6413320cf6b": {
      "model_module": "@jupyter-widgets/controls",
      "model_module_version": "1.5.0",
      "model_name": "LabelModel",
      "state": {
       "layout": "IPY_MODEL_9297ff2bd96d4ef9a7d3f378a68111fd",
       "style": "IPY_MODEL_d9dc6177c7584425b2c53b731c025470",
       "value": "{'enabled': False, 'baseImage': 'mcr.microsoft.com/azureml/base:intelmpi2018.3-ubuntu16.04', 'baseDockerfile': None, 'sharedVolumes': True, 'shmSize': None, 'arguments': [], 'baseImageRegistry': {'address': None, 'username': None, 'password': None}}"
      }
     },
     "9d4f4a281361475ba5fecf523625e618": {
      "model_module": "@jupyter-widgets/base",
      "model_module_version": "1.2.0",
      "model_name": "LayoutModel",
      "state": {}
     },
     "9d9856ac1c1046de8aa4404eb217b8c9": {
      "model_module": "@jupyter-widgets/controls",
      "model_module_version": "1.5.0",
      "model_name": "DescriptionStyleModel",
      "state": {
       "description_width": ""
      }
     },
     "9da23fd688284aaca57a95317a43d06b": {
      "model_module": "@jupyter-widgets/base",
      "model_module_version": "1.2.0",
      "model_name": "LayoutModel",
      "state": {}
     },
     "9da521bb38a04bd99abdad6d00190943": {
      "model_module": "@jupyter-widgets/controls",
      "model_module_version": "1.5.0",
      "model_name": "HBoxModel",
      "state": {
       "children": [
        "IPY_MODEL_181d4b173ccb424a963aa4e2e798495b",
        "IPY_MODEL_4f07584fcac94a9bbc4ff0d7526dfaff"
       ],
       "layout": "IPY_MODEL_a42f2f04b23247789ef255af350e62ec"
      }
     },
     "9daec5c5aabc4a90818f053f76306f45": {
      "model_module": "@jupyter-widgets/base",
      "model_module_version": "1.2.0",
      "model_name": "LayoutModel",
      "state": {}
     },
     "9db9625a8bc24b20a8f9f33021952158": {
      "model_module": "@jupyter-widgets/base",
      "model_module_version": "1.2.0",
      "model_name": "LayoutModel",
      "state": {}
     },
     "9de66ffc29c44540987872c90ea5a27e": {
      "model_module": "@jupyter-widgets/base",
      "model_module_version": "1.2.0",
      "model_name": "LayoutModel",
      "state": {}
     },
     "9df491fec18f42bf9c4d89d641e5fa05": {
      "model_module": "@jupyter-widgets/controls",
      "model_module_version": "1.5.0",
      "model_name": "HTMLModel",
      "state": {
       "layout": "IPY_MODEL_209ff909690342fdb9db0f53cb8d732c",
       "style": "IPY_MODEL_97e2ad916d87428aa5b176ce7d26b453",
       "value": "<b>mlflow.source.git.branch:</b>"
      }
     },
     "9e17c62f8d4944738f285b683b18754c": {
      "model_module": "@jupyter-widgets/controls",
      "model_module_version": "1.5.0",
      "model_name": "HBoxModel",
      "state": {
       "children": [
        "IPY_MODEL_518d3d4a78bd40ab801dfe6777e9d981",
        "IPY_MODEL_464cb7ec8929424987a1e1a1603d8299"
       ],
       "layout": "IPY_MODEL_b259bea13b7841ddb91a3a94d12a789b"
      }
     },
     "9e3402434a9644daaa8a41201de058fd": {
      "model_module": "@jupyter-widgets/controls",
      "model_module_version": "1.5.0",
      "model_name": "DescriptionStyleModel",
      "state": {
       "description_width": ""
      }
     },
     "9e5b38af07bd4bba8f0665eb150d8903": {
      "model_module": "@jupyter-widgets/controls",
      "model_module_version": "1.5.0",
      "model_name": "HTMLModel",
      "state": {
       "layout": "IPY_MODEL_fe9765467c22474c89613e2cea8d958d",
       "style": "IPY_MODEL_341121c76ae4426b9bd694d6b3dbd6c7",
       "value": "<b>userAltSecId:</b>"
      }
     },
     "9e6c46b87db84da1a27a7b8f1d91d037": {
      "model_module": "@jupyter-widgets/controls",
      "model_module_version": "1.5.0",
      "model_name": "DescriptionStyleModel",
      "state": {
       "description_width": ""
      }
     },
     "9e6dd5bea8d7424f9042ecfa47cbbe7d": {
      "model_module": "@jupyter-widgets/base",
      "model_module_version": "1.2.0",
      "model_name": "LayoutModel",
      "state": {}
     },
     "9e8ef21e0f2347eb848de49089fd1a2f": {
      "model_module": "@jupyter-widgets/controls",
      "model_module_version": "1.5.0",
      "model_name": "HTMLModel",
      "state": {
       "layout": "IPY_MODEL_5ab9049f985045b59c937f1c1b5f3acf",
       "style": "IPY_MODEL_52d962f47d2b4743b79db871ef94dfb2",
       "value": "<b>userTenantId:</b>"
      }
     },
     "9ed9a6c59dec47d9868099ed097c086c": {
      "model_module": "@jupyter-widgets/controls",
      "model_module_version": "1.5.0",
      "model_name": "LabelModel",
      "state": {
       "layout": "IPY_MODEL_858c7ae393a24eb2b672d47f5872915e",
       "style": "IPY_MODEL_e1ea7618fe264e36a823d043cf5a3848",
       "value": "deepaksservice"
      }
     },
     "9ee200b4e3ef48a0b6ac54ac500645fe": {
      "model_module": "@jupyter-widgets/controls",
      "model_module_version": "1.5.0",
      "model_name": "DescriptionStyleModel",
      "state": {
       "description_width": ""
      }
     },
     "9eed3f00f9f543969f9a6ba79d85339a": {
      "model_module": "@jupyter-widgets/base",
      "model_module_version": "1.2.0",
      "model_name": "LayoutModel",
      "state": {}
     },
     "9f108551bc7645158b255fea3b4ff05e": {
      "model_module": "@jupyter-widgets/controls",
      "model_module_version": "1.5.0",
      "model_name": "LabelModel",
      "state": {
       "layout": "IPY_MODEL_022dc7f8653d47dc9aafdd6b7669ec31",
       "style": "IPY_MODEL_1294b644dc6e45568fcddd93675a8104",
       "value": "120"
      }
     },
     "9f303bc0f2164012bbf1df6030738186": {
      "model_module": "@jupyter-widgets/controls",
      "model_module_version": "1.5.0",
      "model_name": "HBoxModel",
      "state": {
       "children": [
        "IPY_MODEL_88f9462d16d54449afd33fa905ea593f",
        "IPY_MODEL_f10c8e3eefc9444c860495a039152ee5"
       ],
       "layout": "IPY_MODEL_0d346543b67e4da388f625b45861e3e0"
      }
     },
     "9f3aacb4f9924421bce4534ab0ee551c": {
      "model_module": "@jupyter-widgets/controls",
      "model_module_version": "1.5.0",
      "model_name": "HBoxModel",
      "state": {
       "children": [
        "IPY_MODEL_e4479f02bbbe4591a915369633552c72",
        "IPY_MODEL_f1343b1c6d594287ae72bd6fd9e0af20"
       ],
       "layout": "IPY_MODEL_85e20d76f138458d8d735f0c8544130a"
      }
     },
     "9f912579a9d44045a2e4d7f35e1acc6f": {
      "model_module": "@jupyter-widgets/base",
      "model_module_version": "1.2.0",
      "model_name": "LayoutModel",
      "state": {}
     },
     "9f98652b2759469e901fe70fed43d58e": {
      "model_module": "@jupyter-widgets/controls",
      "model_module_version": "1.5.0",
      "model_name": "DescriptionStyleModel",
      "state": {
       "description_width": ""
      }
     },
     "9fbf199d2de74c2888fe05a7503b77f6": {
      "model_module": "@jupyter-widgets/base",
      "model_module_version": "1.2.0",
      "model_name": "LayoutModel",
      "state": {}
     },
     "9fc4a162f79243018e9067754714a88d": {
      "model_module": "@jupyter-widgets/controls",
      "model_module_version": "1.5.0",
      "model_name": "DescriptionStyleModel",
      "state": {
       "description_width": ""
      }
     },
     "9fe9a440c0bd40b2a93b6a3b11f85203": {
      "model_module": "@jupyter-widgets/base",
      "model_module_version": "1.2.0",
      "model_name": "LayoutModel",
      "state": {}
     },
     "a0288ec5b4e14355b23128e3b9dd10a7": {
      "model_module": "@jupyter-widgets/base",
      "model_module_version": "1.2.0",
      "model_name": "LayoutModel",
      "state": {}
     },
     "a04bd5153fe248a88c0dfe889828bc3d": {
      "model_module": "@jupyter-widgets/controls",
      "model_module_version": "1.5.0",
      "model_name": "HBoxModel",
      "state": {
       "children": [
        "IPY_MODEL_aec24806713d4f93b2e9dadfdd796deb",
        "IPY_MODEL_d87680cba1f84ae19a1a255117c5d96b"
       ],
       "layout": "IPY_MODEL_ec4d9a51d6ee4cc1856e91814427ffb1"
      }
     },
     "a06495b0c53c4208b184bf8fec80d958": {
      "model_module": "@jupyter-widgets/controls",
      "model_module_version": "1.5.0",
      "model_name": "HTMLModel",
      "state": {
       "layout": "IPY_MODEL_92729d620d4e47f5b9ef0d34af877cf5",
       "style": "IPY_MODEL_c01c47ee0bb3470abf595f4a85e74c84",
       "value": "<b>computeType:</b>"
      }
     },
     "a067e06876604dcc8d7e4a16e916aef0": {
      "model_module": "@jupyter-widgets/controls",
      "model_module_version": "1.5.0",
      "model_name": "HTMLModel",
      "state": {
       "layout": "IPY_MODEL_b332f19d55be4acc8db261c036385ca4",
       "style": "IPY_MODEL_b1ac1706b1cb47e7908abfbde8b63d19",
       "value": "<b>deploymentStatus:</b>"
      }
     },
     "a08e0a594366427c829b4a07a82fc0a7": {
      "model_module": "@jupyter-widgets/controls",
      "model_module_version": "1.5.0",
      "model_name": "HBoxModel",
      "state": {
       "children": [
        "IPY_MODEL_f59a14f6dcdb439182315f846390577c",
        "IPY_MODEL_532668394c1c44608abf032924d8a3de"
       ],
       "layout": "IPY_MODEL_8b4bf309b02442a898e460b4da3b9e32"
      }
     },
     "a08f5ecaa34640709c364319a65a08ee": {
      "model_module": "@jupyter-widgets/base",
      "model_module_version": "1.2.0",
      "model_name": "LayoutModel",
      "state": {}
     },
     "a09133194769483a9f2e9039a87d33b8": {
      "model_module": "@jupyter-widgets/controls",
      "model_module_version": "1.5.0",
      "model_name": "DescriptionStyleModel",
      "state": {
       "description_width": ""
      }
     },
     "a0a37775d5d04f538ec15ee479aaf843": {
      "model_module": "@jupyter-widgets/controls",
      "model_module_version": "1.5.0",
      "model_name": "HTMLModel",
      "state": {
       "layout": "IPY_MODEL_94be80b2677d46e5a711d3c5b8d677b0",
       "style": "IPY_MODEL_0f2cedbc6bed4ea9a253454fa09ba8ba",
       "value": "<b>userObjectId:</b>"
      }
     },
     "a0bdc998423144248b3ed093c89b910b": {
      "model_module": "@jupyter-widgets/base",
      "model_module_version": "1.2.0",
      "model_name": "LayoutModel",
      "state": {}
     },
     "a0cdf936ebd54dbb84d26434784875df": {
      "model_module": "@jupyter-widgets/controls",
      "model_module_version": "1.5.0",
      "model_name": "LabelModel",
      "state": {
       "layout": "IPY_MODEL_70674147e1564029a064e6d0bdd16dbf",
       "style": "IPY_MODEL_4c84c4af4a564016bb376a4780c5a3e7",
       "value": "https://github.com/microsoft/AI-Utilities.git"
      }
     },
     "a0efa7ee30be425392ca4bd6b4fbebac": {
      "model_module": "@jupyter-widgets/base",
      "model_module_version": "1.2.0",
      "model_name": "LayoutModel",
      "state": {}
     },
     "a131694ab61e45ca9af90599576bef76": {
      "model_module": "@jupyter-widgets/base",
      "model_module_version": "1.2.0",
      "model_name": "LayoutModel",
      "state": {}
     },
     "a151fc0e11cb4f67aa5a0a573e990719": {
      "model_module": "@jupyter-widgets/controls",
      "model_module_version": "1.5.0",
      "model_name": "HTMLModel",
      "state": {
       "layout": "IPY_MODEL_1526b31b88b343dbb48f1614ed8e8684",
       "style": "IPY_MODEL_49f1ae63a7214b14b2876daf1c429f0d",
       "value": "<b>versionType:</b>"
      }
     },
     "a1532945a04147b1bb9b6de10ab794aa": {
      "model_module": "@jupyter-widgets/controls",
      "model_module_version": "1.5.0",
      "model_name": "LabelModel",
      "state": {
       "layout": "IPY_MODEL_91570aa85e954a2e924e12e3943fd603",
       "style": "IPY_MODEL_d5b4ffbb67b442cc9b967e6c9dfb1df9",
       "value": "[{'createdTime': '2020-03-04T01:05:12.753405+00:00', 'createdBy': {'userObjectId': 'e6cc2e17-5968-49e6-bb8f-9fb978a0d450', 'userPuId': '1003BFFD8BE61032', 'userIdp': None, 'userAltSecId': None, 'userIss': 'https://sts.windows.net/72f988bf-86f1-41af-91ab-2d7cd011db47/', 'userTenantId': '72f988bf-86f1-41af-91ab-2d7cd011db47', 'userName': 'Daniel Ciborowski'}, 'description': None, 'id': 'resnet_model_2:4', 'mimeType': 'application/json', 'name': 'resnet_model_2', 'framework': 'Custom', 'frameworkVersion': None, 'tags': {}, 'properties': {}, 'unpack': False, 'url': 'aml://asset/5ab7f6be706a4cb8a658fa05810f9f97', 'version': 4, 'experimentName': 'dlrts-train-on-local', 'runId': 'dlrts-train-on-local_1583283740_f474032a', 'runDetails': 'Run(Experiment: dlrts-train-on-local,\\nId: dlrts-train-on-local_1583283740_f474032a,\\nType: azureml.scriptrun,\\nStatus: Completed)', 'datasets': {}, 'resourceConfiguration': None, 'sampleInputDatasetId': None, 'sampleOutputDatasetId': None}]"
      }
     },
     "a1701c0f8a2b4636b957bb9f7c7f6580": {
      "model_module": "@jupyter-widgets/base",
      "model_module_version": "1.2.0",
      "model_name": "LayoutModel",
      "state": {
       "width": "50%"
      }
     },
     "a1afb8ae91f94eb2b0aa5a0d1ed229bf": {
      "model_module": "@jupyter-widgets/controls",
      "model_module_version": "1.5.0",
      "model_name": "DescriptionStyleModel",
      "state": {
       "description_width": ""
      }
     },
     "a1b02375542648f4a03cc639f2dd3ca4": {
      "model_module": "@jupyter-widgets/controls",
      "model_module_version": "1.5.0",
      "model_name": "DescriptionStyleModel",
      "state": {
       "description_width": ""
      }
     },
     "a1d1073eed5e4e59a483b1b092ad5a7e": {
      "model_module": "@jupyter-widgets/base",
      "model_module_version": "1.2.0",
      "model_name": "LayoutModel",
      "state": {}
     },
     "a1d4ebe6654844b39a7bb3562ddf6e81": {
      "model_module": "@jupyter-widgets/controls",
      "model_module_version": "1.5.0",
      "model_name": "HTMLModel",
      "state": {
       "layout": "IPY_MODEL_475db81eae1443d5931fd7df0b8c67f3",
       "style": "IPY_MODEL_0f22724eef48410095c6c8aae984eef7",
       "value": "<img src=\"https://raw.githubusercontent.com/microsoft/AI-Utilities/master/docs/app_insights_perf.png\">"
      }
     },
     "a220bbef6e8a402e82095cda8cbe2e34": {
      "model_module": "@jupyter-widgets/controls",
      "model_module_version": "1.5.0",
      "model_name": "LabelModel",
      "state": {
       "layout": "IPY_MODEL_c1918c58f2ef4563b5e5c5e5d103c932",
       "style": "IPY_MODEL_0247a69b129642ef94b96d9180cfbcd0",
       "value": "fcf7950ee5d473a6ac61b217ef01527895499548"
      }
     },
     "a220e13995b443119a7127d9c37e5a94": {
      "model_module": "@jupyter-widgets/base",
      "model_module_version": "1.2.0",
      "model_name": "LayoutModel",
      "state": {}
     },
     "a236071c3e6b45fa960544a3b7136ad8": {
      "model_module": "@jupyter-widgets/base",
      "model_module_version": "1.2.0",
      "model_name": "LayoutModel",
      "state": {}
     },
     "a26500ec347e4a619a50ff47778e285b": {
      "model_module": "@jupyter-widgets/controls",
      "model_module_version": "1.5.0",
      "model_name": "HBoxModel",
      "state": {
       "children": [
        "IPY_MODEL_652d579a2d67470bbad37cdcdd73796d",
        "IPY_MODEL_508bd567d5e440a4a549a8d972c28e74"
       ],
       "layout": "IPY_MODEL_5469d469482b4db289cc4e510cc7f821"
      }
     },
     "a27676f6e1a94252922774328322f7d8": {
      "model_module": "@jupyter-widgets/base",
      "model_module_version": "1.2.0",
      "model_name": "LayoutModel",
      "state": {}
     },
     "a28593ca5c2a4258b92bf4ec31d274fa": {
      "model_module": "@jupyter-widgets/base",
      "model_module_version": "1.2.0",
      "model_name": "LayoutModel",
      "state": {}
     },
     "a2cd71f4521e491e8042a12a13f58c62": {
      "model_module": "@jupyter-widgets/controls",
      "model_module_version": "1.5.0",
      "model_name": "DescriptionStyleModel",
      "state": {
       "description_width": ""
      }
     },
     "a2d87cd7b10f41819cb9b462af74510e": {
      "model_module": "@jupyter-widgets/controls",
      "model_module_version": "1.5.0",
      "model_name": "VBoxModel",
      "state": {
       "children": [
        "IPY_MODEL_7eb68c8d80934829869344f368084a76",
        "IPY_MODEL_499330f202794a968a40eb0e85e96978",
        "IPY_MODEL_5479da1440314d3dbdd75005f6381ec9",
        "IPY_MODEL_b41f2188bbb4402dbdc04aded69019d5",
        "IPY_MODEL_0ae881871e72434ebbfccca4a7ef9d20",
        "IPY_MODEL_9e17c62f8d4944738f285b683b18754c",
        "IPY_MODEL_217b221d92624ec1a06a0588488a0263",
        "IPY_MODEL_1a2c12d150fe4aba99e774e52aed890b",
        "IPY_MODEL_4c6dc2a6a625415499c33e5080ae3a7b"
       ],
       "layout": "IPY_MODEL_dc7a3ab92902447bb44cebe9ae2e0360"
      }
     },
     "a2f00b2907494f9cafc0d0bfdc446922": {
      "model_module": "@jupyter-widgets/base",
      "model_module_version": "1.2.0",
      "model_name": "LayoutModel",
      "state": {}
     },
     "a32d94f60d5840b292eaf2c83bcb2a7e": {
      "model_module": "@jupyter-widgets/controls",
      "model_module_version": "1.5.0",
      "model_name": "DescriptionStyleModel",
      "state": {
       "description_width": ""
      }
     },
     "a349d5a2a44c4ee08949fdfbf35ae99e": {
      "model_module": "@jupyter-widgets/controls",
      "model_module_version": "1.5.0",
      "model_name": "LabelModel",
      "state": {
       "layout": "IPY_MODEL_baf98b177ae746b7975f2fd7b909f77e",
       "style": "IPY_MODEL_654a2c218da848a9a4c5be729d326d3b",
       "value": "[]"
      }
     },
     "a3515e5dfccc4216935cf224aeb9d4df": {
      "model_module": "@jupyter-widgets/controls",
      "model_module_version": "1.5.0",
      "model_name": "DescriptionStyleModel",
      "state": {
       "description_width": ""
      }
     },
     "a36f9ae9c3b24f6686eac2de876496db": {
      "model_module": "@jupyter-widgets/controls",
      "model_module_version": "1.5.0",
      "model_name": "DescriptionStyleModel",
      "state": {
       "description_width": ""
      }
     },
     "a3761bac22924bd6926a6349f3c62c4e": {
      "model_module": "@jupyter-widgets/controls",
      "model_module_version": "1.5.0",
      "model_name": "HTMLModel",
      "state": {
       "layout": "IPY_MODEL_348fe5f0e6ca48b38fd9e5e8be2d78cd",
       "style": "IPY_MODEL_94aa2b07d7764e6f83fc369e35fef8df",
       "value": "<b>periodSeconds:</b>"
      }
     },
     "a38125c821404fbb93c10ecba7a3e5d8": {
      "model_module": "@jupyter-widgets/controls",
      "model_module_version": "1.5.0",
      "model_name": "HTMLModel",
      "state": {
       "layout": "IPY_MODEL_ccb350151b5e490593a42017297065d7",
       "style": "IPY_MODEL_158ffec0f8c44e3b874f1d0581e13053",
       "value": "<b>userObjectId:</b>"
      }
     },
     "a3bb5a80bf9e44e1ba55dc92a6f98eaa": {
      "model_module": "@jupyter-widgets/base",
      "model_module_version": "1.2.0",
      "model_name": "LayoutModel",
      "state": {}
     },
     "a3bcb11f05234336865c0ba905b34c76": {
      "model_module": "@jupyter-widgets/base",
      "model_module_version": "1.2.0",
      "model_name": "LayoutModel",
      "state": {}
     },
     "a3fe6276d4d24434b129e94ae32c067f": {
      "model_module": "@jupyter-widgets/controls",
      "model_module_version": "1.5.0",
      "model_name": "DescriptionStyleModel",
      "state": {
       "description_width": ""
      }
     },
     "a40cf2496e084e4282c5c2951ff8a077": {
      "model_module": "@jupyter-widgets/controls",
      "model_module_version": "1.5.0",
      "model_name": "DescriptionStyleModel",
      "state": {
       "description_width": ""
      }
     },
     "a42f2f04b23247789ef255af350e62ec": {
      "model_module": "@jupyter-widgets/base",
      "model_module_version": "1.2.0",
      "model_name": "LayoutModel",
      "state": {}
     },
     "a43091e2f4ba4869a3246793c7342141": {
      "model_module": "@jupyter-widgets/controls",
      "model_module_version": "1.5.0",
      "model_name": "DescriptionStyleModel",
      "state": {
       "description_width": ""
      }
     },
     "a4388fe250914d328e6db8cf2edb9991": {
      "model_module": "@jupyter-widgets/base",
      "model_module_version": "1.2.0",
      "model_name": "LayoutModel",
      "state": {}
     },
     "a4449820c9154a77b2cc419a10c82818": {
      "model_module": "@jupyter-widgets/base",
      "model_module_version": "1.2.0",
      "model_name": "LayoutModel",
      "state": {}
     },
     "a469dc74f7944b95b02b2605666a035b": {
      "model_module": "@jupyter-widgets/controls",
      "model_module_version": "1.5.0",
      "model_name": "HTMLModel",
      "state": {
       "layout": "IPY_MODEL_667cd850a9854a3a8863255b5eb6e827",
       "style": "IPY_MODEL_72935b6877a04fa6a1b1e747cb244ff8",
       "value": "<b>appInsightsEnabled:</b>"
      }
     },
     "a47bccaa3d544f7d9420f5b1204b9e10": {
      "model_module": "@jupyter-widgets/base",
      "model_module_version": "1.2.0",
      "model_name": "LayoutModel",
      "state": {}
     },
     "a4891aad6d60489cb3e3b74280d0ed45": {
      "model_module": "@jupyter-widgets/base",
      "model_module_version": "1.2.0",
      "model_name": "LayoutModel",
      "state": {}
     },
     "a4bb11733aca456dbe6488666c2e242f": {
      "model_module": "@jupyter-widgets/base",
      "model_module_version": "1.2.0",
      "model_name": "LayoutModel",
      "state": {}
     },
     "a4e04262352f4f13bd0d91015f9c0e40": {
      "model_module": "@jupyter-widgets/base",
      "model_module_version": "1.2.0",
      "model_name": "LayoutModel",
      "state": {}
     },
     "a507037a244946d1adaa22be636e5809": {
      "model_module": "@jupyter-widgets/controls",
      "model_module_version": "1.5.0",
      "model_name": "HBoxModel",
      "state": {
       "children": [
        "IPY_MODEL_3e1706955a474d86b57346973d1055fc",
        "IPY_MODEL_fdf74655ab8946d4a02eec04f41089ec"
       ],
       "layout": "IPY_MODEL_435aa6055c22456181945a2bfd1226ae"
      }
     },
     "a51500b0167d4869bac70dcf106195f7": {
      "model_module": "@jupyter-widgets/base",
      "model_module_version": "1.2.0",
      "model_name": "LayoutModel",
      "state": {}
     },
     "a520d8b0931d44658e00bed9ac15b513": {
      "model_module": "@jupyter-widgets/base",
      "model_module_version": "1.2.0",
      "model_name": "LayoutModel",
      "state": {}
     },
     "a524225519074bbbbdad0bb825351b5c": {
      "model_module": "@jupyter-widgets/controls",
      "model_module_version": "1.5.0",
      "model_name": "HBoxModel",
      "state": {
       "children": [
        "IPY_MODEL_979a561d9e41447880e4c17477411f9c",
        "IPY_MODEL_1ab09191846a4ca7ad7452c448225061"
       ],
       "layout": "IPY_MODEL_ac5bcd29c0ac4c3cb8a9d211f2511f10"
      }
     },
     "a54f5b7859ac4ef3b04b9c1ccb6d5d76": {
      "model_module": "@jupyter-widgets/controls",
      "model_module_version": "1.5.0",
      "model_name": "DescriptionStyleModel",
      "state": {
       "description_width": ""
      }
     },
     "a567110d133d4d8d8a456003e6a23652": {
      "model_module": "@jupyter-widgets/controls",
      "model_module_version": "1.5.0",
      "model_name": "HBoxModel",
      "state": {
       "children": [
        "IPY_MODEL_ecc33db89e77465aaae834ed5d851a5c",
        "IPY_MODEL_fdf7cd5afdca47aaaf51b9053224ae3b"
       ],
       "layout": "IPY_MODEL_df2ac0985b694deeb941db8106f18640"
      }
     },
     "a56a5d92eb3a4f3c95dac22258bc1eec": {
      "model_module": "@jupyter-widgets/base",
      "model_module_version": "1.2.0",
      "model_name": "LayoutModel",
      "state": {}
     },
     "a5a98349cf684b17b933fca9b3b26a41": {
      "model_module": "@jupyter-widgets/controls",
      "model_module_version": "1.5.0",
      "model_name": "HTMLModel",
      "state": {
       "layout": "IPY_MODEL_59395506907f467cac66a4cf74fb4a82",
       "style": "IPY_MODEL_dfb647ba3e794b65adf18c2b7b995f94",
       "value": "<b>framework:</b>"
      }
     },
     "a5ad3d20668d4401955f0c8e71f3747d": {
      "model_module": "@jupyter-widgets/controls",
      "model_module_version": "1.5.0",
      "model_name": "ButtonStyleModel",
      "state": {}
     },
     "a61c08c3b4f24f6abcabbfab209d0172": {
      "model_module": "@jupyter-widgets/controls",
      "model_module_version": "1.5.0",
      "model_name": "DescriptionStyleModel",
      "state": {
       "description_width": ""
      }
     },
     "a62d71b1daa84f8bb953957af466c22d": {
      "model_module": "@jupyter-widgets/base",
      "model_module_version": "1.2.0",
      "model_name": "LayoutModel",
      "state": {}
     },
     "a685e8170fbc488d9682b45b8d6e9109": {
      "model_module": "@jupyter-widgets/controls",
      "model_module_version": "1.5.0",
      "model_name": "DescriptionStyleModel",
      "state": {
       "description_width": ""
      }
     },
     "a6b2440bd3054b408c7347a82e4ddfc6": {
      "model_module": "@jupyter-widgets/base",
      "model_module_version": "1.2.0",
      "model_name": "LayoutModel",
      "state": {}
     },
     "a6b88c2a382c4c558269b361e1e82768": {
      "model_module": "@jupyter-widgets/controls",
      "model_module_version": "1.5.0",
      "model_name": "LabelModel",
      "state": {
       "layout": "IPY_MODEL_50fa8a41984443df9f26a9c5d3837809",
       "style": "IPY_MODEL_f7db2eb5341147a7bf47d6193718d137",
       "value": "10"
      }
     },
     "a6c4118ec1d54856b0b41f35dbfc3199": {
      "model_module": "@jupyter-widgets/controls",
      "model_module_version": "1.5.0",
      "model_name": "DescriptionStyleModel",
      "state": {
       "description_width": ""
      }
     },
     "a710bb0c88cb42cb9f19e768b9459016": {
      "model_module": "@jupyter-widgets/base",
      "model_module_version": "1.2.0",
      "model_name": "LayoutModel",
      "state": {}
     },
     "a732e9d3d8454c38ad0d0624a34e54e5": {
      "model_module": "@jupyter-widgets/controls",
      "model_module_version": "1.5.0",
      "model_name": "HBoxModel",
      "state": {
       "children": [
        "IPY_MODEL_a974c1b4bee140a581bd0e781ff62a30",
        "IPY_MODEL_8ae929a9c3654a79b42660396e909999"
       ],
       "layout": "IPY_MODEL_640fe2f81b8c4a5097f04b1c6c7acc71"
      }
     },
     "a73d9a8a37f84c09bb4c0095d01a256f": {
      "model_module": "@jupyter-widgets/controls",
      "model_module_version": "1.5.0",
      "model_name": "DescriptionStyleModel",
      "state": {
       "description_width": ""
      }
     },
     "a7541604b1b54acb9c998757258474bc": {
      "model_module": "@jupyter-widgets/controls",
      "model_module_version": "1.5.0",
      "model_name": "LabelModel",
      "state": {
       "layout": "IPY_MODEL_ccec7fd9a686404d9b03ad87681f0567",
       "style": "IPY_MODEL_62ccc6f2b17a47b09469184d019694c7",
       "value": "dciborow/no-cli"
      }
     },
     "a76403fa814b45ec8cca9ea0dd564920": {
      "model_module": "@jupyter-widgets/controls",
      "model_module_version": "1.5.0",
      "model_name": "TextModel",
      "state": {
       "description": "deep_aks_name",
       "layout": "IPY_MODEL_163a5c04442245f4973c6fe9eb6ecbc1",
       "placeholder": "AKS Cluster Name",
       "style": "IPY_MODEL_ac06477fb87c4c9a88c4e399297ece38",
       "value": "deepakscluster"
      }
     },
     "a76e6b57e458445ead562e7261d211de": {
      "model_module": "@jupyter-widgets/controls",
      "model_module_version": "1.5.0",
      "model_name": "HTMLModel",
      "state": {
       "layout": "IPY_MODEL_c32ced5b45514c05b7feb301db5e3ff0",
       "style": "IPY_MODEL_ce209eb35293432aabb585bb0cb4bf83",
       "value": "<b>aadAuthEnabled:</b>"
      }
     },
     "a7705c11cb7344e58cd91f7ca616556e": {
      "model_module": "@jupyter-widgets/base",
      "model_module_version": "1.2.0",
      "model_name": "LayoutModel",
      "state": {}
     },
     "a78c4d081afd4553b06e4fea9ac72c93": {
      "model_module": "@jupyter-widgets/base",
      "model_module_version": "1.2.0",
      "model_name": "LayoutModel",
      "state": {}
     },
     "a7f3ae5daacd436682fd95e9f82e6c21": {
      "model_module": "@jupyter-widgets/controls",
      "model_module_version": "1.5.0",
      "model_name": "HBoxModel",
      "state": {
       "children": [
        "IPY_MODEL_76726dff1fc846f19baadd07771487f2",
        "IPY_MODEL_843aa69d3dfa49db8c67982d4016056e"
       ],
       "layout": "IPY_MODEL_25cd4aee93104be6a07114d68656c5bb"
      }
     },
     "a8181b658f664c02bf52cc9367679c58": {
      "model_module": "@jupyter-widgets/base",
      "model_module_version": "1.2.0",
      "model_name": "LayoutModel",
      "state": {}
     },
     "a84167a1231a4564a3202596eed0bc11": {
      "model_module": "@jupyter-widgets/controls",
      "model_module_version": "1.5.0",
      "model_name": "LabelModel",
      "state": {
       "layout": "IPY_MODEL_66f12230f6954925a1915bfb7a507f1e",
       "style": "IPY_MODEL_1ff87baa5b3f427782455f02681eac1e",
       "value": "None"
      }
     },
     "a84aba87d0e4457fae6be25190e66051": {
      "model_module": "@jupyter-widgets/base",
      "model_module_version": "1.2.0",
      "model_name": "LayoutModel",
      "state": {}
     },
     "a86376293300419994d75de3d307d7a6": {
      "model_module": "@jupyter-widgets/base",
      "model_module_version": "1.2.0",
      "model_name": "LayoutModel",
      "state": {}
     },
     "a86b9614c41d4a41bea51a6fbf9d5b3f": {
      "model_module": "@jupyter-widgets/controls",
      "model_module_version": "1.5.0",
      "model_name": "HBoxModel",
      "state": {
       "children": [
        "IPY_MODEL_f89f8d49cb1d42b396b893c319b4046c",
        "IPY_MODEL_7334ede3cf584b8694bc9c831974d5e8"
       ],
       "layout": "IPY_MODEL_53ce3842fef34e8481e2719c99e3a20b"
      }
     },
     "a8762097575840f587125a7c58cd2294": {
      "model_module": "@jupyter-widgets/base",
      "model_module_version": "1.2.0",
      "model_name": "LayoutModel",
      "state": {}
     },
     "a876e3e1df404257be76aa031fc3cf22": {
      "model_module": "@jupyter-widgets/base",
      "model_module_version": "1.2.0",
      "model_name": "LayoutModel",
      "state": {}
     },
     "a88ab2a6a3ca4f1db2aff44504c99954": {
      "model_module": "@jupyter-widgets/controls",
      "model_module_version": "1.5.0",
      "model_name": "HTMLModel",
      "state": {
       "layout": "IPY_MODEL_84e44f52fad94d22b17a71913e88cf8b",
       "style": "IPY_MODEL_eeb1858d95e14f148b2bfe52b6f02ae3",
       "value": "<b>userPuId:</b>"
      }
     },
     "a894cd43f3474de6ba4c0a1bb7d2bc7f": {
      "model_module": "@jupyter-widgets/base",
      "model_module_version": "1.2.0",
      "model_name": "LayoutModel",
      "state": {}
     },
     "a8a636d6b9f345a9a708cf3ea1d8a939": {
      "model_module": "@jupyter-widgets/base",
      "model_module_version": "1.2.0",
      "model_name": "LayoutModel",
      "state": {}
     },
     "a8af3cbc61da43388b332da0428bc0c8": {
      "model_module": "@jupyter-widgets/controls",
      "model_module_version": "1.5.0",
      "model_name": "HTMLModel",
      "state": {
       "layout": "IPY_MODEL_a51500b0167d4869bac70dcf106195f7",
       "style": "IPY_MODEL_44f70300f390428f95172269f5a15da1",
       "value": "<b>userIdp:</b>"
      }
     },
     "a8af5ec3a2c14bb0aadad02b27118505": {
      "model_module": "@jupyter-widgets/controls",
      "model_module_version": "1.5.0",
      "model_name": "DescriptionStyleModel",
      "state": {
       "description_width": ""
      }
     },
     "a8bf1641329740ab8c77e402bad51775": {
      "model_module": "@jupyter-widgets/controls",
      "model_module_version": "1.5.0",
      "model_name": "DescriptionStyleModel",
      "state": {
       "description_width": ""
      }
     },
     "a8d00f5ac98e452980ae490684643d18": {
      "model_module": "@jupyter-widgets/controls",
      "model_module_version": "1.5.0",
      "model_name": "LabelModel",
      "state": {
       "layout": "IPY_MODEL_9da23fd688284aaca57a95317a43d06b",
       "style": "IPY_MODEL_a8af5ec3a2c14bb0aadad02b27118505",
       "value": "True"
      }
     },
     "a96ab8ac248c4dff9e4d3ed58fa6ab5f": {
      "model_module": "@jupyter-widgets/base",
      "model_module_version": "1.2.0",
      "model_name": "LayoutModel",
      "state": {}
     },
     "a974c1b4bee140a581bd0e781ff62a30": {
      "model_module": "@jupyter-widgets/controls",
      "model_module_version": "1.5.0",
      "model_name": "HTMLModel",
      "state": {
       "layout": "IPY_MODEL_e69d66d45a6c4669be5300d6e4af00f2",
       "style": "IPY_MODEL_46d6ffcf3422413fade965c23d9e4931",
       "value": "<b>workspaceName:</b>"
      }
     },
     "a9757eb2e8644733a987f3d3329de4eb": {
      "model_module": "@jupyter-widgets/base",
      "model_module_version": "1.2.0",
      "model_name": "LayoutModel",
      "state": {}
     },
     "a98076d3205e4a298109120a078f1378": {
      "model_module": "@jupyter-widgets/controls",
      "model_module_version": "1.5.0",
      "model_name": "HBoxModel",
      "state": {
       "children": [
        "IPY_MODEL_0a4ddce909dc4cac95de9bbfa6b5c2d0",
        "IPY_MODEL_05f0024aedd84fefa25ceae822333d22"
       ],
       "layout": "IPY_MODEL_d0ddcc0e50274db4b1bd17f2ad05c4ff"
      }
     },
     "a9912d8b4bcb4cfdbaabf0027b674266": {
      "model_module": "@jupyter-widgets/controls",
      "model_module_version": "1.5.0",
      "model_name": "LabelModel",
      "state": {
       "layout": "IPY_MODEL_978654c2d4584952942851dd4708b7b9",
       "style": "IPY_MODEL_e19b808559fd4a2e953b42722a47b333",
       "value": "None"
      }
     },
     "a9c6d1e289644398ad28ac83fb522401": {
      "model_module": "@jupyter-widgets/controls",
      "model_module_version": "1.5.0",
      "model_name": "DescriptionStyleModel",
      "state": {
       "description_width": ""
      }
     },
     "aa030f810fac4028982f5ba5e84c470b": {
      "model_module": "@jupyter-widgets/base",
      "model_module_version": "1.2.0",
      "model_name": "LayoutModel",
      "state": {}
     },
     "aa0de50579064db58629a61f9bcb2eb7": {
      "model_module": "@jupyter-widgets/controls",
      "model_module_version": "1.5.0",
      "model_name": "HBoxModel",
      "state": {
       "children": [
        "IPY_MODEL_290e0fb66ade4212ba59e410de000d63",
        "IPY_MODEL_a349d5a2a44c4ee08949fdfbf35ae99e"
       ],
       "layout": "IPY_MODEL_65a42766bc78429487914ef48a037d54"
      }
     },
     "aa6f5f0342b24fd1b12881166d955b7d": {
      "model_module": "@jupyter-widgets/controls",
      "model_module_version": "1.5.0",
      "model_name": "LabelModel",
      "state": {
       "layout": "IPY_MODEL_00d210d756bb4880a2dab94bfc727dc2",
       "style": "IPY_MODEL_bc4fac4373e44643aebf28a990c7afd3",
       "value": "None"
      }
     },
     "aa72309dcdd54f7692f7edd2712d25da": {
      "model_module": "@jupyter-widgets/controls",
      "model_module_version": "1.5.0",
      "model_name": "TabModel",
      "state": {
       "_titles": {
        "0": "ML Studio",
        "1": "Kubernetes",
        "2": "Application Insights"
       },
       "children": [
        "IPY_MODEL_43b4ae9149734a0b82ea1bfb9e60b5ca",
        "IPY_MODEL_8987279c0ebb4cc1b4d91977c43d769d",
        "IPY_MODEL_ac10bcfdd5e148e2abb7f1abe00512b5"
       ],
       "layout": "IPY_MODEL_b7291ab9df9f4e3a92057bd982ef794e"
      }
     },
     "aa92b561931f4a5184f5f4e8880ec503": {
      "model_module": "@jupyter-widgets/controls",
      "model_module_version": "1.5.0",
      "model_name": "VBoxModel",
      "state": {
       "children": [
        "IPY_MODEL_f547d46c69d740c28830f7c8a4d6a651",
        "IPY_MODEL_35d5b0cec4fa4a45a39e424edac180b2",
        "IPY_MODEL_60b6f62d78e548f29b3c60b80256f6ab",
        "IPY_MODEL_5a3d213b37044a1c9ecbc09a45cde99e",
        "IPY_MODEL_efd5aef332e648d0b084d5ed6620c462",
        "IPY_MODEL_be74a76499da4dd79f34a77dcfe755af",
        "IPY_MODEL_85f4ebb6301847388c73730d280a59c0"
       ],
       "layout": "IPY_MODEL_eba152cc6d6d4da7b7024b4cf9a05c9b"
      }
     },
     "aa9ba41d5d3441ec8975f04c9c7a1051": {
      "model_module": "@jupyter-widgets/controls",
      "model_module_version": "1.5.0",
      "model_name": "DescriptionStyleModel",
      "state": {
       "description_width": ""
      }
     },
     "aacb77b2ab904535b67c5ceb3d9b0031": {
      "model_module": "@jupyter-widgets/controls",
      "model_module_version": "1.5.0",
      "model_name": "DescriptionStyleModel",
      "state": {
       "description_width": ""
      }
     },
     "aad0fa2d73524b94bef97299b5329e2a": {
      "model_module": "@jupyter-widgets/controls",
      "model_module_version": "1.5.0",
      "model_name": "DescriptionStyleModel",
      "state": {
       "description_width": ""
      }
     },
     "ab1fb4cab8774cdcb60eaf534b964ee8": {
      "model_module": "@jupyter-widgets/base",
      "model_module_version": "1.2.0",
      "model_name": "LayoutModel",
      "state": {}
     },
     "ab4de8b051cf494aacfdd174b7403329": {
      "model_module": "@jupyter-widgets/controls",
      "model_module_version": "1.5.0",
      "model_name": "DescriptionStyleModel",
      "state": {
       "description_width": ""
      }
     },
     "abd762be39b24a3f9246d4a53912a6f2": {
      "model_module": "@jupyter-widgets/controls",
      "model_module_version": "1.5.0",
      "model_name": "HBoxModel",
      "state": {
       "children": [
        "IPY_MODEL_96301b0846dd4e33bd113c644e283b7e",
        "IPY_MODEL_00b24a41bb3c4a5fb7418ee0ef102806"
       ],
       "layout": "IPY_MODEL_da8fc5f7d2264c19ae68c62846e568f5"
      }
     },
     "abef8d5e627c43999dfa68ea510ae53d": {
      "model_module": "@jupyter-widgets/controls",
      "model_module_version": "1.5.0",
      "model_name": "HTMLModel",
      "state": {
       "layout": "IPY_MODEL_cc96807f2a0d4bef91dd07115ca5e337",
       "style": "IPY_MODEL_b0b0939c78d34201850d68ca016c84fa",
       "value": "<b>scoringTimeoutMs:</b>"
      }
     },
     "ac06477fb87c4c9a88c4e399297ece38": {
      "model_module": "@jupyter-widgets/controls",
      "model_module_version": "1.5.0",
      "model_name": "DescriptionStyleModel",
      "state": {
       "description_width": "initial"
      }
     },
     "ac10bcfdd5e148e2abb7f1abe00512b5": {
      "model_module": "@jupyter-widgets/controls",
      "model_module_version": "1.5.0",
      "model_name": "AccordionModel",
      "state": {
       "_titles": {
        "0": "Main",
        "1": "Availability",
        "2": "Performance",
        "3": "Load Testing"
       },
       "children": [
        "IPY_MODEL_3cd8049380df4e5ab32fc2f95bcb7a84",
        "IPY_MODEL_4db35228d5f54ec5bed145b4a21a6edc",
        "IPY_MODEL_2bcbc4adef524e11b606fdb050637b51",
        "IPY_MODEL_750a43a1902d43d9962786d5c40f999e"
       ],
       "layout": "IPY_MODEL_46d330e000a2428f83c6d67d532577d4"
      }
     },
     "ac19bc6ea5334a7e951f3f45175995a5": {
      "model_module": "@jupyter-widgets/base",
      "model_module_version": "1.2.0",
      "model_name": "LayoutModel",
      "state": {}
     },
     "ac2506cbf35e4e0e83f4eba994772d6e": {
      "model_module": "@jupyter-widgets/base",
      "model_module_version": "1.2.0",
      "model_name": "LayoutModel",
      "state": {}
     },
     "ac307cadc3624b39af8422174b73c7b6": {
      "model_module": "@jupyter-widgets/base",
      "model_module_version": "1.2.0",
      "model_name": "LayoutModel",
      "state": {}
     },
     "ac411e97b6c644e886845d7303e95603": {
      "model_module": "@jupyter-widgets/base",
      "model_module_version": "1.2.0",
      "model_name": "LayoutModel",
      "state": {}
     },
     "ac4f961d763548c59bc392456ab1f95d": {
      "model_module": "@jupyter-widgets/controls",
      "model_module_version": "1.5.0",
      "model_name": "DescriptionStyleModel",
      "state": {
       "description_width": ""
      }
     },
     "ac5bcd29c0ac4c3cb8a9d211f2511f10": {
      "model_module": "@jupyter-widgets/base",
      "model_module_version": "1.2.0",
      "model_name": "LayoutModel",
      "state": {}
     },
     "acc89483db0143a6bf8a12fa5ace4b79": {
      "model_module": "@jupyter-widgets/controls",
      "model_module_version": "1.5.0",
      "model_name": "HTMLModel",
      "state": {
       "layout": "IPY_MODEL_f710e256aa2246aaa70583365f3c066f",
       "style": "IPY_MODEL_6fea34da79704b2a85501ae091866730",
       "value": "<b>runId:</b>"
      }
     },
     "acd0b3e63e214c94a9cefcc7a284399c": {
      "model_module": "@jupyter-widgets/base",
      "model_module_version": "1.2.0",
      "model_name": "LayoutModel",
      "state": {}
     },
     "acd6855d6ced4b789374025738fd51d1": {
      "model_module": "@jupyter-widgets/controls",
      "model_module_version": "1.5.0",
      "model_name": "HBoxModel",
      "state": {
       "children": [
        "IPY_MODEL_3100d78d3d39469a8f98fbb94485f37e",
        "IPY_MODEL_97e9612fe4fb4c7daf374ce0d17bc223"
       ],
       "layout": "IPY_MODEL_9a91b053c1ec419ca9d0f9678caad662"
      }
     },
     "aceb5055476f47148ba18159566fe4ff": {
      "model_module": "@jupyter-widgets/controls",
      "model_module_version": "1.5.0",
      "model_name": "LabelModel",
      "state": {
       "layout": "IPY_MODEL_656d24dfca604f428fcb54f198b2a153",
       "style": "IPY_MODEL_19538ccf8f7a4e2d92c40641c00c3be9",
       "value": "404"
      }
     },
     "acf323fce15b4d28871c691100bfa236": {
      "model_module": "@jupyter-widgets/controls",
      "model_module_version": "1.5.0",
      "model_name": "LabelModel",
      "state": {
       "layout": "IPY_MODEL_30b1a2f550574a94b53669d55579aa08",
       "style": "IPY_MODEL_14a67622c2d6498f9df2e4b8e4b10888",
       "value": "None"
      }
     },
     "ad1dbae815bb437ca3edf36cf84f92fc": {
      "model_module": "@jupyter-widgets/controls",
      "model_module_version": "1.5.0",
      "model_name": "DescriptionStyleModel",
      "state": {
       "description_width": ""
      }
     },
     "ad2136ac2153458ca69adc94c775821c": {
      "model_module": "@jupyter-widgets/base",
      "model_module_version": "1.2.0",
      "model_name": "LayoutModel",
      "state": {}
     },
     "ad30c7b83cf442c5a0f1efd3dafb4a96": {
      "model_module": "@jupyter-widgets/controls",
      "model_module_version": "1.5.0",
      "model_name": "DescriptionStyleModel",
      "state": {
       "description_width": ""
      }
     },
     "ad3beb4cbef345a981ffea7cd4ebd776": {
      "model_module": "@jupyter-widgets/base",
      "model_module_version": "1.2.0",
      "model_name": "LayoutModel",
      "state": {}
     },
     "ad3e7d03b3b14c31a89bba3ae71b7bf4": {
      "model_module": "@jupyter-widgets/controls",
      "model_module_version": "1.5.0",
      "model_name": "DescriptionStyleModel",
      "state": {
       "description_width": ""
      }
     },
     "ad3fede890da4674885c6beab8abcadd": {
      "model_module": "@jupyter-widgets/controls",
      "model_module_version": "1.5.0",
      "model_name": "AccordionModel",
      "state": {
       "_titles": {
        "0": "environmentDetails"
       },
       "children": [
        "IPY_MODEL_9049a16c0b144dfdbaf92eaad01a8a30"
       ],
       "layout": "IPY_MODEL_443541a1970f405f9d258ccb7531c9f6"
      }
     },
     "ad7a66fcc8e0410c819087b170cef029": {
      "model_module": "@jupyter-widgets/controls",
      "model_module_version": "1.5.0",
      "model_name": "HTMLModel",
      "state": {
       "layout": "IPY_MODEL_1d585d5f2aeb40ca8055cbcf7751c366",
       "style": "IPY_MODEL_1d9bd5ba6e8f4e51af72830ac0eb1b49",
       "value": "<b>authEnabled:</b>"
      }
     },
     "ad7b6bd09d704db8af0443fed78b024a": {
      "model_module": "@jupyter-widgets/base",
      "model_module_version": "1.2.0",
      "model_name": "LayoutModel",
      "state": {}
     },
     "ad838a0bc920462aba372c7bbb31447b": {
      "model_module": "@jupyter-widgets/controls",
      "model_module_version": "1.5.0",
      "model_name": "LabelModel",
      "state": {
       "layout": "IPY_MODEL_e57ebe03842a403087510f01f53aa63b",
       "style": "IPY_MODEL_9b901f8fe5b9455494969f1f257fbd56",
       "value": "None"
      }
     },
     "add8881247b8452481e32aaaa2ce20c7": {
      "model_module": "@jupyter-widgets/controls",
      "model_module_version": "1.5.0",
      "model_name": "HTMLModel",
      "state": {
       "layout": "IPY_MODEL_c8c288ee287c4d3f815296b12a0e2b77",
       "style": "IPY_MODEL_7939c0629af74bb7b856086bb84cf533",
       "value": "<b>createdTime:</b>"
      }
     },
     "adf36b3da6174fcaba81420487441fea": {
      "model_module": "@jupyter-widgets/base",
      "model_module_version": "1.2.0",
      "model_name": "LayoutModel",
      "state": {}
     },
     "adf870ffd1274973b5aed750f6800a96": {
      "model_module": "@jupyter-widgets/controls",
      "model_module_version": "1.5.0",
      "model_name": "HTMLModel",
      "state": {
       "layout": "IPY_MODEL_bc1db012054d45c2af80b4c61c4d9daa",
       "style": "IPY_MODEL_73512508f00547a7bb6d08349b6e2527",
       "value": "<b>name:</b>"
      }
     },
     "ae2f330026c5453b8e99549a740736b3": {
      "model_module": "@jupyter-widgets/base",
      "model_module_version": "1.2.0",
      "model_name": "LayoutModel",
      "state": {}
     },
     "ae4169548ca24672813eef4fdc53c0a2": {
      "model_module": "@jupyter-widgets/controls",
      "model_module_version": "1.5.0",
      "model_name": "HTMLModel",
      "state": {
       "layout": "IPY_MODEL_1bb137cd4410482a99c1ad87ff55bb9f",
       "style": "IPY_MODEL_dc564bf42bbc43178649b1d02bcf609c",
       "value": "<b>url:</b>"
      }
     },
     "ae7199ff40d44940a96e2119eb453b5c": {
      "model_module": "@jupyter-widgets/base",
      "model_module_version": "1.2.0",
      "model_name": "LayoutModel",
      "state": {}
     },
     "ae89495d6eff42da959f38bbae2f7867": {
      "model_module": "@jupyter-widgets/controls",
      "model_module_version": "1.5.0",
      "model_name": "DescriptionStyleModel",
      "state": {
       "description_width": ""
      }
     },
     "aebff512ba6343a98033972008ac17cb": {
      "model_module": "@jupyter-widgets/controls",
      "model_module_version": "1.5.0",
      "model_name": "LabelModel",
      "state": {
       "layout": "IPY_MODEL_271d05543d1243a0a445127063dfaa0b",
       "style": "IPY_MODEL_858cf485676d4ce2a60ce2f6f4d845d7",
       "value": "{'EXAMPLE_ENV_VAR': 'EXAMPLE_VALUE'}"
      }
     },
     "aec24806713d4f93b2e9dadfdd796deb": {
      "model_module": "@jupyter-widgets/controls",
      "model_module_version": "1.5.0",
      "model_name": "HTMLModel",
      "state": {
       "layout": "IPY_MODEL_3d0f905528c949d28b67bfb98bebc5a4",
       "style": "IPY_MODEL_5a602dbd581e4e71b921e4e928fd8008",
       "value": "<b>imageDetails:</b>"
      }
     },
     "aefba8292a3249489a866cbb786ba840": {
      "model_module": "@jupyter-widgets/controls",
      "model_module_version": "1.5.0",
      "model_name": "HTMLModel",
      "state": {
       "layout": "IPY_MODEL_75fba00fbc4f435ca5724dfa36c76538",
       "style": "IPY_MODEL_6de400f988e041f1b614bc431e47f2a8",
       "value": "<b>failureThreshold:</b>"
      }
     },
     "af0151d1c4b340e6bb04b6b6747b9e93": {
      "model_module": "@jupyter-widgets/controls",
      "model_module_version": "1.5.0",
      "model_name": "DescriptionStyleModel",
      "state": {
       "description_width": ""
      }
     },
     "af20c315c81048a2a19d96cfc1a2d1c4": {
      "model_module": "@jupyter-widgets/controls",
      "model_module_version": "1.5.0",
      "model_name": "LabelModel",
      "state": {
       "layout": "IPY_MODEL_3016257eee274e048b7fd79969df9ce3",
       "style": "IPY_MODEL_b094d76032564d40b43d0c8405c13c3f",
       "value": "None"
      }
     },
     "af25b77d97714b3d8a717dbec56606ed": {
      "model_module": "@jupyter-widgets/base",
      "model_module_version": "1.2.0",
      "model_name": "LayoutModel",
      "state": {}
     },
     "af37c28971054d1d998eb5c8f1a32892": {
      "model_module": "@jupyter-widgets/controls",
      "model_module_version": "1.5.0",
      "model_name": "HTMLModel",
      "state": {
       "layout": "IPY_MODEL_9cb5b164e3334fdabccda86f1606233a",
       "style": "IPY_MODEL_22922a59537b413b91a5ddc258e07043",
       "value": "<b>name:</b>"
      }
     },
     "af4a49c8911a4765a049db0a64fef696": {
      "model_module": "@jupyter-widgets/base",
      "model_module_version": "1.2.0",
      "model_name": "LayoutModel",
      "state": {}
     },
     "afa6a8cf55d74e34a39fe9038806867b": {
      "model_module": "@jupyter-widgets/controls",
      "model_module_version": "1.5.0",
      "model_name": "LabelModel",
      "state": {
       "layout": "IPY_MODEL_e0f524e89ed4443b91611ef113ec889f",
       "style": "IPY_MODEL_f9f98cd0d2644cbab3b5d31dfadb1f9e",
       "value": "None"
      }
     },
     "b00671be11a94391b14172a23c5df5d5": {
      "model_module": "@jupyter-widgets/controls",
      "model_module_version": "1.5.0",
      "model_name": "DescriptionStyleModel",
      "state": {
       "description_width": ""
      }
     },
     "b00bef45508f4feb8b0ea63fa86acb4b": {
      "model_module": "@jupyter-widgets/controls",
      "model_module_version": "1.5.0",
      "model_name": "LabelModel",
      "state": {
       "layout": "IPY_MODEL_47038f4a69fc4074b82c66742b1c8eee",
       "style": "IPY_MODEL_5403305c8f1c481f82a0e1da1a74d7ad",
       "value": "False"
      }
     },
     "b023f079959544429accf7d48e21cb50": {
      "model_module": "@jupyter-widgets/controls",
      "model_module_version": "1.5.0",
      "model_name": "DescriptionStyleModel",
      "state": {
       "description_width": ""
      }
     },
     "b054020a504b46ea8e3a59ae8fa43913": {
      "model_module": "@jupyter-widgets/controls",
      "model_module_version": "1.5.0",
      "model_name": "HTMLModel",
      "state": {
       "layout": "IPY_MODEL_228aceccf239478a8b8046b2b882d9d0",
       "style": "IPY_MODEL_c6aa1e5d52424e97a491e3e1231c8bdc",
       "value": "<b>successThreshold:</b>"
      }
     },
     "b07b3c17aa4448aab50bc20c57cd9eae": {
      "model_module": "@jupyter-widgets/base",
      "model_module_version": "1.2.0",
      "model_name": "LayoutModel",
      "state": {}
     },
     "b094d76032564d40b43d0c8405c13c3f": {
      "model_module": "@jupyter-widgets/controls",
      "model_module_version": "1.5.0",
      "model_name": "DescriptionStyleModel",
      "state": {
       "description_width": ""
      }
     },
     "b0a8fa9063d24623a4c21d78960040b0": {
      "model_module": "@jupyter-widgets/base",
      "model_module_version": "1.2.0",
      "model_name": "LayoutModel",
      "state": {}
     },
     "b0b0939c78d34201850d68ca016c84fa": {
      "model_module": "@jupyter-widgets/controls",
      "model_module_version": "1.5.0",
      "model_name": "DescriptionStyleModel",
      "state": {
       "description_width": ""
      }
     },
     "b0bc4e92a6e24fc7b43d169b06e1f67c": {
      "model_module": "@jupyter-widgets/base",
      "model_module_version": "1.2.0",
      "model_name": "LayoutModel",
      "state": {}
     },
     "b0cb2adec7c946bb8b9d59bb6921df7f": {
      "model_module": "@jupyter-widgets/base",
      "model_module_version": "1.2.0",
      "model_name": "LayoutModel",
      "state": {}
     },
     "b0fd33a136d4442cbe6c3b299f532d4d": {
      "model_module": "@jupyter-widgets/controls",
      "model_module_version": "1.5.0",
      "model_name": "DescriptionStyleModel",
      "state": {
       "description_width": ""
      }
     },
     "b120f9a0a21443f2abb27cad9e45e7e6": {
      "model_module": "@jupyter-widgets/controls",
      "model_module_version": "1.5.0",
      "model_name": "HTMLModel",
      "state": {
       "layout": "IPY_MODEL_1d61450040c84b6c9bfb9fac2b2bbc63",
       "style": "IPY_MODEL_c44b3334923d46aa9727f8fdeb7f8fb2",
       "value": "<b>imageId:</b>"
      }
     },
     "b1467c613eea4853af0482fc37aa94b5": {
      "model_module": "@jupyter-widgets/base",
      "model_module_version": "1.2.0",
      "model_name": "LayoutModel",
      "state": {}
     },
     "b151e7891df04554be94e4cf18d7bd4f": {
      "model_module": "@jupyter-widgets/controls",
      "model_module_version": "1.5.0",
      "model_name": "HBoxModel",
      "state": {
       "children": [
        "IPY_MODEL_723010021c1848da8d09e73936c173ba",
        "IPY_MODEL_fb99c6a6a2ff4726a7653392f78b9750"
       ],
       "layout": "IPY_MODEL_6cd5c84de72245f688201b0b6dfa7b5e"
      }
     },
     "b17a9b0804da45cebd8eceebe6328497": {
      "model_module": "@jupyter-widgets/base",
      "model_module_version": "1.2.0",
      "model_name": "LayoutModel",
      "state": {}
     },
     "b19fa6b703b9466d9a82c17b4436ff22": {
      "model_module": "@jupyter-widgets/controls",
      "model_module_version": "1.5.0",
      "model_name": "LabelModel",
      "state": {
       "layout": "IPY_MODEL_ed42bcd376504817b4adacce8e6a7ee8",
       "style": "IPY_MODEL_09d9d3933fbe499fa18e8ef9fec46606",
       "value": "resnet_model_2:4"
      }
     },
     "b1ac1706b1cb47e7908abfbde8b63d19": {
      "model_module": "@jupyter-widgets/controls",
      "model_module_version": "1.5.0",
      "model_name": "DescriptionStyleModel",
      "state": {
       "description_width": ""
      }
     },
     "b1b846cbf7d0489c97a76b9c52277898": {
      "model_module": "@jupyter-widgets/base",
      "model_module_version": "1.2.0",
      "model_name": "LayoutModel",
      "state": {}
     },
     "b1bf1df2d2384632a8e0ee8b3485fc37": {
      "model_module": "@jupyter-widgets/controls",
      "model_module_version": "1.5.0",
      "model_name": "DescriptionStyleModel",
      "state": {
       "description_width": ""
      }
     },
     "b1c695c36a684ca4868491b6bb4c05db": {
      "model_module": "@jupyter-widgets/base",
      "model_module_version": "1.2.0",
      "model_name": "LayoutModel",
      "state": {}
     },
     "b1d118c133b84afa83ba38acd366a9ac": {
      "model_module": "@jupyter-widgets/controls",
      "model_module_version": "1.5.0",
      "model_name": "DescriptionStyleModel",
      "state": {
       "description_width": ""
      }
     },
     "b1d38b7bd5cd4ea09bc1c8a365a5c2e6": {
      "model_module": "@jupyter-widgets/controls",
      "model_module_version": "1.5.0",
      "model_name": "HTMLModel",
      "state": {
       "layout": "IPY_MODEL_adf36b3da6174fcaba81420487441fea",
       "style": "IPY_MODEL_7c6eda3bd26041adb383272eff5451ad",
       "value": "<b>userIss:</b>"
      }
     },
     "b1e0e7c5c14a4e799707101337e7a75f": {
      "model_module": "@jupyter-widgets/controls",
      "model_module_version": "1.5.0",
      "model_name": "DescriptionStyleModel",
      "state": {
       "description_width": ""
      }
     },
     "b1f1baed1da34d0daf07c84232352224": {
      "model_module": "@jupyter-widgets/controls",
      "model_module_version": "1.5.0",
      "model_name": "LabelModel",
      "state": {
       "layout": "IPY_MODEL_34d84093910e478fbc51569f7b069563",
       "style": "IPY_MODEL_f303cd0d5ef54badae177c36e3ee6799",
       "value": "310"
      }
     },
     "b24348ea8c304776b8891e5852fd5cd9": {
      "model_module": "@jupyter-widgets/base",
      "model_module_version": "1.2.0",
      "model_name": "LayoutModel",
      "state": {}
     },
     "b259bea13b7841ddb91a3a94d12a789b": {
      "model_module": "@jupyter-widgets/base",
      "model_module_version": "1.2.0",
      "model_name": "LayoutModel",
      "state": {}
     },
     "b279030750344fec8b742a2ec2bb328e": {
      "model_module": "@jupyter-widgets/controls",
      "model_module_version": "1.5.0",
      "model_name": "HBoxModel",
      "state": {
       "children": [
        "IPY_MODEL_a88ab2a6a3ca4f1db2aff44504c99954",
        "IPY_MODEL_eda622578c8f4b99bdf94c2b9c9a3944"
       ],
       "layout": "IPY_MODEL_7490f92a6dcb4a3786c994bf67237d43"
      }
     },
     "b2907ed1fce548cc9b6a79db0163b9e4": {
      "model_module": "@jupyter-widgets/controls",
      "model_module_version": "1.5.0",
      "model_name": "LabelModel",
      "state": {
       "layout": "IPY_MODEL_80ea047f1519412dbf88a93198403380",
       "style": "IPY_MODEL_ce60b91cf5da4f6e9e8072990b2c859d",
       "value": "None"
      }
     },
     "b2965b5f9df34e52858e509da11ded5c": {
      "model_module": "@jupyter-widgets/controls",
      "model_module_version": "1.5.0",
      "model_name": "LabelModel",
      "state": {
       "layout": "IPY_MODEL_e60868eeec2e4a5a82df5e47ea3c2cab",
       "style": "IPY_MODEL_70986bb92df3455ba79d4c100928edb2",
       "value": "https://github.com/microsoft/AI-Utilities.git"
      }
     },
     "b29f9cff659d48eebe68522ee29d55f5": {
      "model_module": "@jupyter-widgets/controls",
      "model_module_version": "1.5.0",
      "model_name": "HTMLModel",
      "state": {
       "layout": "IPY_MODEL_e35c475b409f4d618c58298952c571f0",
       "style": "IPY_MODEL_552ae78396f8483c83372e06368666f4",
       "value": "<b>maxQueueWaitMs:</b>"
      }
     },
     "b2c9ef3b84d74939b7a0cf0c44513b2d": {
      "model_module": "@jupyter-widgets/controls",
      "model_module_version": "1.5.0",
      "model_name": "HTMLModel",
      "state": {
       "layout": "IPY_MODEL_7122434f5c1341aa8e31a557c8abda8c",
       "style": "IPY_MODEL_d122d2f1fa3246228892bd744ef3d695",
       "value": "<b>experimentName:</b>"
      }
     },
     "b2d476fe8a23431bb7260154dc949346": {
      "model_module": "@jupyter-widgets/base",
      "model_module_version": "1.2.0",
      "model_name": "LayoutModel",
      "state": {}
     },
     "b2f1c1a41137418db1ce24a6cb27d761": {
      "model_module": "@jupyter-widgets/controls",
      "model_module_version": "1.5.0",
      "model_name": "HBoxModel",
      "state": {
       "children": [
        "IPY_MODEL_2fddaa0f9b98411c8de57deea21049a5",
        "IPY_MODEL_af20c315c81048a2a19d96cfc1a2d1c4"
       ],
       "layout": "IPY_MODEL_66991b4f7fd744da96dbd5b54ef66a6f"
      }
     },
     "b323fce9663c4e8781c617cc12cb0fda": {
      "model_module": "@jupyter-widgets/controls",
      "model_module_version": "1.5.0",
      "model_name": "HTMLModel",
      "state": {
       "layout": "IPY_MODEL_71d3516fb3ae43f2ab19c6cfd2959704",
       "style": "IPY_MODEL_b1bf1df2d2384632a8e0ee8b3485fc37",
       "value": "<b>name:</b>"
      }
     },
     "b332f19d55be4acc8db261c036385ca4": {
      "model_module": "@jupyter-widgets/base",
      "model_module_version": "1.2.0",
      "model_name": "LayoutModel",
      "state": {}
     },
     "b363361b2954492a8fc5ba3bdb6f158d": {
      "model_module": "@jupyter-widgets/controls",
      "model_module_version": "1.5.0",
      "model_name": "LabelModel",
      "state": {
       "layout": "IPY_MODEL_ee75f819b3424574bb7b170f2d6a14c9",
       "style": "IPY_MODEL_9f98652b2759469e901fe70fed43d58e",
       "value": "None"
      }
     },
     "b368f12c6c924e3f90623d6108ebb538": {
      "model_module": "@jupyter-widgets/base",
      "model_module_version": "1.2.0",
      "model_name": "LayoutModel",
      "state": {}
     },
     "b37e7a53421a4e5997db946f8e0e1908": {
      "model_module": "@jupyter-widgets/controls",
      "model_module_version": "1.5.0",
      "model_name": "LabelModel",
      "state": {
       "layout": "IPY_MODEL_01bb0e83107348559d2967c639d64070",
       "style": "IPY_MODEL_5f8d7c23748d48039c49ab0dbee7a868",
       "value": "None"
      }
     },
     "b3a4ebb294214a9ea289693610792db6": {
      "model_module": "@jupyter-widgets/base",
      "model_module_version": "1.2.0",
      "model_name": "LayoutModel",
      "state": {}
     },
     "b3b287381635432cb433b2a225845ef3": {
      "model_module": "@jupyter-widgets/base",
      "model_module_version": "1.2.0",
      "model_name": "LayoutModel",
      "state": {}
     },
     "b3c29d694f1c405fb2473fd75c94af0a": {
      "model_module": "@jupyter-widgets/controls",
      "model_module_version": "1.5.0",
      "model_name": "AccordionModel",
      "state": {
       "_titles": {
        "0": "autoScaler"
       },
       "children": [
        "IPY_MODEL_e7572f68985d4ff3a23baf7c6f636367"
       ],
       "layout": "IPY_MODEL_962d8dd467a74d2aaa9b93e5bd78d7c8"
      }
     },
     "b3f9847e69b34fa7a7a439fd87dfa746": {
      "model_module": "@jupyter-widgets/base",
      "model_module_version": "1.2.0",
      "model_name": "LayoutModel",
      "state": {}
     },
     "b40528b663f043e0bcd3a3b6aaffeed7": {
      "model_module": "@jupyter-widgets/controls",
      "model_module_version": "1.5.0",
      "model_name": "DescriptionStyleModel",
      "state": {
       "description_width": "initial"
      }
     },
     "b415b6a31e584b2cad0b685789af2740": {
      "model_module": "@jupyter-widgets/controls",
      "model_module_version": "1.5.0",
      "model_name": "HBoxModel",
      "state": {
       "children": [
        "IPY_MODEL_bb90032adba64e3bb04c99de3d80329a",
        "IPY_MODEL_6da10cfd02784aa6a7d48b6ab5fe9538"
       ],
       "layout": "IPY_MODEL_7e0b1ca056c6467eb9c851d7636d9cc2"
      }
     },
     "b4173b1731c64cb4b4403686e914f373": {
      "model_module": "@jupyter-widgets/base",
      "model_module_version": "1.2.0",
      "model_name": "LayoutModel",
      "state": {}
     },
     "b41f2188bbb4402dbdc04aded69019d5": {
      "model_module": "@jupyter-widgets/controls",
      "model_module_version": "1.5.0",
      "model_name": "HBoxModel",
      "state": {
       "children": [
        "IPY_MODEL_0791c6447e50427388acde490d028c4c",
        "IPY_MODEL_10b503234c23476b9c8ff01bc8eb591e"
       ],
       "layout": "IPY_MODEL_0a3207f81e154e6f8e78c8e7899f8671"
      }
     },
     "b432f7b4d2df467fb62e666a647827c7": {
      "model_module": "@jupyter-widgets/controls",
      "model_module_version": "1.5.0",
      "model_name": "LabelModel",
      "state": {
       "layout": "IPY_MODEL_6446089b2a5d4d1fb0b893ce4f455408",
       "style": "IPY_MODEL_c88ac3edd4f94abc8588c9cda517169b",
       "value": "None"
      }
     },
     "b44311bb52d74c9586a1b74cb21711db": {
      "model_module": "@jupyter-widgets/base",
      "model_module_version": "1.2.0",
      "model_name": "LayoutModel",
      "state": {}
     },
     "b44ce02b98314e2caf99d2a2d5eccee2": {
      "model_module": "@jupyter-widgets/controls",
      "model_module_version": "1.5.0",
      "model_name": "HTMLModel",
      "state": {
       "layout": "IPY_MODEL_ff763786482a41a280131c01634023a8",
       "style": "IPY_MODEL_1a4f40e72bb74a07bd879a32a7796625",
       "value": "<b>periodSeconds:</b>"
      }
     },
     "b470ff04151441bb9bd1ffee8365e7a1": {
      "model_module": "@jupyter-widgets/controls",
      "model_module_version": "1.5.0",
      "model_name": "HTMLModel",
      "state": {
       "layout": "IPY_MODEL_26fc7852783b47bc94117275c35cca17",
       "style": "IPY_MODEL_4d506dfdf917486f860634a20342d5cd",
       "value": "<b>maxReplicas:</b>"
      }
     },
     "b4788d5ffe994748a50ad488acc4ba52": {
      "model_module": "@jupyter-widgets/base",
      "model_module_version": "1.2.0",
      "model_name": "LayoutModel",
      "state": {}
     },
     "b4870579f8934ceab80736fc7b5b74cf": {
      "model_module": "@jupyter-widgets/controls",
      "model_module_version": "1.5.0",
      "model_name": "LabelModel",
      "state": {
       "layout": "IPY_MODEL_5718bd0ad12e4782b7e536f93dfa816b",
       "style": "IPY_MODEL_3559002fb1b94f93bf82c39339924e4a",
       "value": "None"
      }
     },
     "b4976ef13ee345ceb8d142594824f9e0": {
      "model_module": "@jupyter-widgets/base",
      "model_module_version": "1.2.0",
      "model_name": "LayoutModel",
      "state": {}
     },
     "b4b2e9d0bba14728953ba9bc1c4dfa91": {
      "model_module": "@jupyter-widgets/controls",
      "model_module_version": "1.5.0",
      "model_name": "DescriptionStyleModel",
      "state": {
       "description_width": ""
      }
     },
     "b4d39aae6a5b4b49a01fc193e74bbf7f": {
      "model_module": "@jupyter-widgets/controls",
      "model_module_version": "1.5.0",
      "model_name": "DescriptionStyleModel",
      "state": {
       "description_width": ""
      }
     },
     "b4dd20b1bd4947d489eee212ca581088": {
      "model_module": "@jupyter-widgets/base",
      "model_module_version": "1.2.0",
      "model_name": "LayoutModel",
      "state": {}
     },
     "b4ed45830f484fba8f23392ccb18a6db": {
      "model_module": "@jupyter-widgets/base",
      "model_module_version": "1.2.0",
      "model_name": "LayoutModel",
      "state": {}
     },
     "b531e5b24d8344c591911e1cc505165c": {
      "model_module": "@jupyter-widgets/controls",
      "model_module_version": "1.5.0",
      "model_name": "HTMLModel",
      "state": {
       "layout": "IPY_MODEL_e3cf3962a0a147a98d5d660b07694fff",
       "style": "IPY_MODEL_e0b166e7637b430dbd4f5507acfd21d1",
       "value": "<b>version:</b>"
      }
     },
     "b5320be86af84fd797f4ce9c3df1cbea": {
      "model_module": "@jupyter-widgets/base",
      "model_module_version": "1.2.0",
      "model_name": "LayoutModel",
      "state": {}
     },
     "b534b58194814153bc04411ee0e1ea64": {
      "model_module": "@jupyter-widgets/controls",
      "model_module_version": "1.5.0",
      "model_name": "HTMLModel",
      "state": {
       "layout": "IPY_MODEL_7577c95d31a6433591b7a6824b779948",
       "style": "IPY_MODEL_fadd13d3ac824de7bc2040920d06013c",
       "value": "<img src=\"https://raw.githubusercontent.com/microsoft/AI-Utilities/master/docs/app_insights_availability.png\">"
      }
     },
     "b58aa3bf09864fc8bec77a1496db89de": {
      "model_module": "@jupyter-widgets/base",
      "model_module_version": "1.2.0",
      "model_name": "LayoutModel",
      "state": {}
     },
     "b58b769c4564405badb0745784c51db9": {
      "model_module": "@jupyter-widgets/controls",
      "model_module_version": "1.5.0",
      "model_name": "DescriptionStyleModel",
      "state": {
       "description_width": ""
      }
     },
     "b5967fe16b274df183a37c24502b9824": {
      "model_module": "@jupyter-widgets/base",
      "model_module_version": "1.2.0",
      "model_name": "LayoutModel",
      "state": {}
     },
     "b5f3448e546e4a5994a12a29b216d061": {
      "model_module": "@jupyter-widgets/controls",
      "model_module_version": "1.5.0",
      "model_name": "HBoxModel",
      "state": {
       "children": [
        "IPY_MODEL_5cf54fec5b4f4df8abf30c0738b5e111",
        "IPY_MODEL_7694f33b748043c792e13966bb6e7840"
       ],
       "layout": "IPY_MODEL_62f47cc41ef849ad9b83a2c8945a2a7d"
      }
     },
     "b613ffe3cca44e6c9fe704985b583bc4": {
      "model_module": "@jupyter-widgets/controls",
      "model_module_version": "1.5.0",
      "model_name": "HBoxModel",
      "state": {
       "children": [
        "IPY_MODEL_8904655d02fb459ab2f338ddcbb84002",
        "IPY_MODEL_b19fa6b703b9466d9a82c17b4436ff22"
       ],
       "layout": "IPY_MODEL_46e19a06e4c14e6ab71ec1183be36588"
      }
     },
     "b65deff8c1284120a6fc6f6a0f328347": {
      "model_module": "@jupyter-widgets/controls",
      "model_module_version": "1.5.0",
      "model_name": "LabelModel",
      "state": {
       "layout": "IPY_MODEL_c3e324ed66ac472ea3a88f1ff28200ec",
       "style": "IPY_MODEL_d9dab197dce5455e888212297dd226ac",
       "value": "4"
      }
     },
     "b66eb602f0df4650b7d1d6ad6cdc5623": {
      "model_module": "@jupyter-widgets/base",
      "model_module_version": "1.2.0",
      "model_name": "LayoutModel",
      "state": {}
     },
     "b6925b134c3049eaac8f76c304525c16": {
      "model_module": "@jupyter-widgets/controls",
      "model_module_version": "1.5.0",
      "model_name": "DescriptionStyleModel",
      "state": {
       "description_width": ""
      }
     },
     "b6b766d265b345b19c1e332173bae309": {
      "model_module": "@jupyter-widgets/base",
      "model_module_version": "1.2.0",
      "model_name": "LayoutModel",
      "state": {}
     },
     "b6eabe865b454b44a7729bc6f90e4f5c": {
      "model_module": "@jupyter-widgets/controls",
      "model_module_version": "1.5.0",
      "model_name": "HBoxModel",
      "state": {
       "children": [
        "IPY_MODEL_371d76cd6a5e4a57bb2ae1d6a0b9d4dd",
        "IPY_MODEL_b37e7a53421a4e5997db946f8e0e1908"
       ],
       "layout": "IPY_MODEL_6d89e174fe384c4d841da24ed53512b7"
      }
     },
     "b7280b3f08d94e939a262a88d725fdf6": {
      "model_module": "@jupyter-widgets/base",
      "model_module_version": "1.2.0",
      "model_name": "LayoutModel",
      "state": {}
     },
     "b7291ab9df9f4e3a92057bd982ef794e": {
      "model_module": "@jupyter-widgets/base",
      "model_module_version": "1.2.0",
      "model_name": "LayoutModel",
      "state": {}
     },
     "b72d9bda6005434ba5591f9c1ec65ae0": {
      "model_module": "@jupyter-widgets/base",
      "model_module_version": "1.2.0",
      "model_name": "LayoutModel",
      "state": {}
     },
     "b74d2b57d29b42f1b1c537438ca9b20a": {
      "model_module": "@jupyter-widgets/controls",
      "model_module_version": "1.5.0",
      "model_name": "HTMLModel",
      "state": {
       "layout": "IPY_MODEL_b3b287381635432cb433b2a225845ef3",
       "style": "IPY_MODEL_5161813b639b4d95993f6f9889a79822",
       "value": "<b>imageId:</b>"
      }
     },
     "b77bce8086614518b8f00bf3a4981f6a": {
      "model_module": "@jupyter-widgets/controls",
      "model_module_version": "1.5.0",
      "model_name": "HTMLModel",
      "state": {
       "layout": "IPY_MODEL_62308f50d61342b087a0742a3beda5e5",
       "style": "IPY_MODEL_32fb5e7550a64891b0e8c822390a8eec",
       "value": "<b>environmentVariables:</b>"
      }
     },
     "b77e2906c6d443e28514022d6845c2d8": {
      "model_module": "@jupyter-widgets/base",
      "model_module_version": "1.2.0",
      "model_name": "LayoutModel",
      "state": {}
     },
     "b79629786f53451aa3b1ded12c11b5f3": {
      "model_module": "@jupyter-widgets/base",
      "model_module_version": "1.2.0",
      "model_name": "LayoutModel",
      "state": {}
     },
     "b7afb4eabe2a426d97458bacc8cb2d6f": {
      "model_module": "@jupyter-widgets/controls",
      "model_module_version": "1.5.0",
      "model_name": "LabelModel",
      "state": {
       "layout": "IPY_MODEL_6ea11990081c4d8baea66f17ffe8844a",
       "style": "IPY_MODEL_7c9bdd4e35a944c895f6314cc9336b18",
       "value": "https://sts.windows.net/72f988bf-86f1-41af-91ab-2d7cd011db47/"
      }
     },
     "b7b29b33e2f348dabcbc641c0154d115": {
      "model_module": "@jupyter-widgets/base",
      "model_module_version": "1.2.0",
      "model_name": "LayoutModel",
      "state": {}
     },
     "b7c364321afb45ddac12c40fa106a0e8": {
      "model_module": "@jupyter-widgets/base",
      "model_module_version": "1.2.0",
      "model_name": "LayoutModel",
      "state": {}
     },
     "b7dd4fd76c4748928b4057937f4c1516": {
      "model_module": "@jupyter-widgets/controls",
      "model_module_version": "1.5.0",
      "model_name": "DescriptionStyleModel",
      "state": {
       "description_width": ""
      }
     },
     "b7e87846d02149ebb5b3ee1758ffd527": {
      "model_module": "@jupyter-widgets/controls",
      "model_module_version": "1.5.0",
      "model_name": "LabelModel",
      "state": {
       "layout": "IPY_MODEL_8b4741d1d86c4ac3bb146305a0e6b6f6",
       "style": "IPY_MODEL_d0d31192f9cf4489ae7e529948041f9d",
       "value": "resnet_model_2"
      }
     },
     "b7e97d3af65d47159ae9594eb41b8e1a": {
      "model_module": "@jupyter-widgets/controls",
      "model_module_version": "1.5.0",
      "model_name": "TextModel",
      "state": {
       "description": "aks_service_name",
       "layout": "IPY_MODEL_80edf0a6a9ec4f61bcf25bccaf571c78",
       "placeholder": "AKS Service Name",
       "style": "IPY_MODEL_e5ec23eea005488294df56d4b9455795",
       "value": "aksservice2"
      }
     },
     "b7fa1ab1349047f0bb0245442c9f7df6": {
      "model_module": "@jupyter-widgets/base",
      "model_module_version": "1.2.0",
      "model_name": "LayoutModel",
      "state": {}
     },
     "b816f421953a4ae2bbc6f10729978535": {
      "model_module": "@jupyter-widgets/controls",
      "model_module_version": "1.5.0",
      "model_name": "DescriptionStyleModel",
      "state": {
       "description_width": ""
      }
     },
     "b82829630e1041b8921ed8b5e507901f": {
      "model_module": "@jupyter-widgets/base",
      "model_module_version": "1.2.0",
      "model_name": "LayoutModel",
      "state": {}
     },
     "b8508bc1dc5b4c5eb10920c183f7e8d9": {
      "model_module": "@jupyter-widgets/base",
      "model_module_version": "1.2.0",
      "model_name": "LayoutModel",
      "state": {}
     },
     "b8e5118b9c9b4a1fa5b7b9bde7d7f414": {
      "model_module": "@jupyter-widgets/controls",
      "model_module_version": "1.5.0",
      "model_name": "DescriptionStyleModel",
      "state": {
       "description_width": ""
      }
     },
     "b8e664a68ae0436d97428e314a075e1f": {
      "model_module": "@jupyter-widgets/controls",
      "model_module_version": "1.5.0",
      "model_name": "DescriptionStyleModel",
      "state": {
       "description_width": ""
      }
     },
     "b90c59d132704018bda6746f976d08e1": {
      "model_module": "@jupyter-widgets/controls",
      "model_module_version": "1.5.0",
      "model_name": "DescriptionStyleModel",
      "state": {
       "description_width": ""
      }
     },
     "b916ef8fe1314d95b41b56a77c2be8e2": {
      "model_module": "@jupyter-widgets/controls",
      "model_module_version": "1.5.0",
      "model_name": "HTMLModel",
      "state": {
       "layout": "IPY_MODEL_52f449637c7a45beac7c02383414c9c2",
       "style": "IPY_MODEL_33f9bc48f7764a97bdc66436dede5b5f",
       "value": "<b>mlflow.source.git.commit:</b>"
      }
     },
     "b92cd55874c045a19a6ab83703ab0f2a": {
      "model_module": "@jupyter-widgets/controls",
      "model_module_version": "1.5.0",
      "model_name": "DescriptionStyleModel",
      "state": {
       "description_width": ""
      }
     },
     "b94a27fdb2c0411493a7aebe2b72fab7": {
      "model_module": "@jupyter-widgets/base",
      "model_module_version": "1.2.0",
      "model_name": "LayoutModel",
      "state": {}
     },
     "b955ba4f09bc49e88d744e82bcc611c5": {
      "model_module": "@jupyter-widgets/controls",
      "model_module_version": "1.5.0",
      "model_name": "HTMLModel",
      "state": {
       "layout": "IPY_MODEL_1aaa1cbb5f2949a68d2925d697cc01b9",
       "style": "IPY_MODEL_2af8d2557bae41b3b0762625e53754ef",
       "value": "<b>sampleOutputDatasetId:</b>"
      }
     },
     "b9597980ad1d43d289b45494411dab0b": {
      "model_module": "@jupyter-widgets/base",
      "model_module_version": "1.2.0",
      "model_name": "LayoutModel",
      "state": {}
     },
     "b961d01d002d49d19c9611144b782d7d": {
      "model_module": "@jupyter-widgets/controls",
      "model_module_version": "1.5.0",
      "model_name": "DescriptionStyleModel",
      "state": {
       "description_width": ""
      }
     },
     "b97bd8f72b2e4c9ab223fab99aa34cd1": {
      "model_module": "@jupyter-widgets/controls",
      "model_module_version": "1.5.0",
      "model_name": "DescriptionStyleModel",
      "state": {
       "description_width": ""
      }
     },
     "b9df0c8975f54974941e84c9b1351982": {
      "model_module": "@jupyter-widgets/controls",
      "model_module_version": "1.5.0",
      "model_name": "DescriptionStyleModel",
      "state": {
       "description_width": ""
      }
     },
     "b9ffe0962b47454c8ce21a80208bb0a3": {
      "model_module": "@jupyter-widgets/controls",
      "model_module_version": "1.5.0",
      "model_name": "LabelModel",
      "state": {
       "layout": "IPY_MODEL_4ebc066c0eeb4d7eba8dba05eb604251",
       "style": "IPY_MODEL_c700f05b86af4d99b2c08bfcea100e86",
       "value": "500"
      }
     },
     "ba052d6cb6e5426392293f8581dcd5ec": {
      "model_module": "@jupyter-widgets/base",
      "model_module_version": "1.2.0",
      "model_name": "LayoutModel",
      "state": {}
     },
     "ba074b4ec74a4a26b0083ebb237ffcee": {
      "model_module": "@jupyter-widgets/controls",
      "model_module_version": "1.5.0",
      "model_name": "HBoxModel",
      "state": {
       "children": [
        "IPY_MODEL_07210d0017764d198dbffad7eedc44a1",
        "IPY_MODEL_66d81dbdd2304aa6ae73eb0f85501570"
       ],
       "layout": "IPY_MODEL_65230a1e1dad426ca3c1790aa04ebf4a"
      }
     },
     "ba1b7637f8fc48369abbf88d06b20019": {
      "model_module": "@jupyter-widgets/controls",
      "model_module_version": "1.5.0",
      "model_name": "HTMLModel",
      "state": {
       "layout": "IPY_MODEL_934161976b3d42f2bbb9db9d215cd01e",
       "style": "IPY_MODEL_5c972e6e662e46b1aab81526c73bb6be",
       "value": "<b>updatedTime:</b>"
      }
     },
     "ba26d94bda804abeb9ae2a93453472d9": {
      "model_module": "@jupyter-widgets/controls",
      "model_module_version": "1.5.0",
      "model_name": "DescriptionStyleModel",
      "state": {
       "description_width": ""
      }
     },
     "ba5d1727be8a44d9bf1565d1c7ce03cd": {
      "model_module": "@jupyter-widgets/base",
      "model_module_version": "1.2.0",
      "model_name": "LayoutModel",
      "state": {}
     },
     "ba5f93eb9610458b9dfe31c01a1637e5": {
      "model_module": "@jupyter-widgets/controls",
      "model_module_version": "1.5.0",
      "model_name": "DescriptionStyleModel",
      "state": {
       "description_width": ""
      }
     },
     "ba65c60c3d324327a056b52943b6fa4e": {
      "model_module": "@jupyter-widgets/controls",
      "model_module_version": "1.5.0",
      "model_name": "HBoxModel",
      "state": {
       "children": [
        "IPY_MODEL_2c1bb970a81e4468a1697cb4e831471f",
        "IPY_MODEL_e2366cc268bf47449512302b86261557"
       ],
       "layout": "IPY_MODEL_47f02e8394784c8ba73f0de4b7b69eaa"
      }
     },
     "ba7b8228529742bb916a1a737ca64ce1": {
      "model_module": "@jupyter-widgets/controls",
      "model_module_version": "1.5.0",
      "model_name": "DescriptionStyleModel",
      "state": {
       "description_width": ""
      }
     },
     "ba856e5b7769442293787f896c229dcc": {
      "model_module": "@jupyter-widgets/controls",
      "model_module_version": "1.5.0",
      "model_name": "HTMLModel",
      "state": {
       "layout": "IPY_MODEL_d7597c0b8b304cbf9825743fe15fe35b",
       "style": "IPY_MODEL_cf537d6ef305429eaac862ebc9d0f98b",
       "value": "<b>trafficPercentile:</b>"
      }
     },
     "ba994cbe628e47c4af8d6fed99e12424": {
      "model_module": "@jupyter-widgets/base",
      "model_module_version": "1.2.0",
      "model_name": "LayoutModel",
      "state": {}
     },
     "bad5e6a35b354f19a0b034ae16520552": {
      "model_module": "@jupyter-widgets/controls",
      "model_module_version": "1.5.0",
      "model_name": "HBoxModel",
      "state": {
       "children": [
        "IPY_MODEL_36d5c46132124fdd8cddcf5b26079c54",
        "IPY_MODEL_be108d6c57294131ae33362f05955b97"
       ],
       "layout": "IPY_MODEL_b0bc4e92a6e24fc7b43d169b06e1f67c"
      }
     },
     "badd3776f0364f02a652eba09c33ed97": {
      "model_module": "@jupyter-widgets/controls",
      "model_module_version": "1.5.0",
      "model_name": "DescriptionStyleModel",
      "state": {
       "description_width": ""
      }
     },
     "badda3ed745f4cc18a055b34ce5961d2": {
      "model_module": "@jupyter-widgets/controls",
      "model_module_version": "1.5.0",
      "model_name": "AccordionModel",
      "state": {
       "_titles": {
        "0": "createdBy"
       },
       "children": [
        "IPY_MODEL_55393c40022646b1932224deabe432c6"
       ],
       "layout": "IPY_MODEL_0c424b3ee18d4f53ab920fd7c912ab73"
      }
     },
     "baecd485daa04cb38027fa8ac92f40b9": {
      "model_module": "@jupyter-widgets/controls",
      "model_module_version": "1.5.0",
      "model_name": "LabelModel",
      "state": {
       "layout": "IPY_MODEL_9ce836cdc77d4faf9e482c8370f9bd48",
       "style": "IPY_MODEL_3f57ab8b3b894a22b29cc095b9a90122",
       "value": "None"
      }
     },
     "baf98b177ae746b7975f2fd7b909f77e": {
      "model_module": "@jupyter-widgets/base",
      "model_module_version": "1.2.0",
      "model_name": "LayoutModel",
      "state": {}
     },
     "bb01e4e0778c4473bb21c16376b1baa9": {
      "model_module": "@jupyter-widgets/controls",
      "model_module_version": "1.5.0",
      "model_name": "VBoxModel",
      "state": {
       "children": [
        "IPY_MODEL_25bb87c82ab742c18fade54e7e5b9087",
        "IPY_MODEL_86617494ace44568b0e37124f081d433",
        "IPY_MODEL_dab2d6193b8c4887a77b2c049daea98c"
       ],
       "layout": "IPY_MODEL_bfb04453f54c44b19744b6422bf6586a"
      }
     },
     "bb0a704148964ffe8f49745addc66420": {
      "model_module": "@jupyter-widgets/controls",
      "model_module_version": "1.5.0",
      "model_name": "DescriptionStyleModel",
      "state": {
       "description_width": ""
      }
     },
     "bb107ac05fef46a48949384e3e751902": {
      "model_module": "@jupyter-widgets/controls",
      "model_module_version": "1.5.0",
      "model_name": "DescriptionStyleModel",
      "state": {
       "description_width": ""
      }
     },
     "bb5532bca9ed48b1844155717cc84ef2": {
      "model_module": "@jupyter-widgets/base",
      "model_module_version": "1.2.0",
      "model_name": "LayoutModel",
      "state": {}
     },
     "bb7521844c364b0ea56ed68c7c2ecb08": {
      "model_module": "@jupyter-widgets/controls",
      "model_module_version": "1.5.0",
      "model_name": "DescriptionStyleModel",
      "state": {
       "description_width": ""
      }
     },
     "bb7a2841428a4eae8781f2f3972197c0": {
      "model_module": "@jupyter-widgets/controls",
      "model_module_version": "1.5.0",
      "model_name": "TextModel",
      "state": {
       "description": "deep_image_name",
       "layout": "IPY_MODEL_370b1d93dd764ae18065de19ff1b83d2",
       "placeholder": "Docker Container Image Name",
       "style": "IPY_MODEL_c99fd4811def498a815dff0641587041",
       "value": "mydeepimage"
      }
     },
     "bb90032adba64e3bb04c99de3d80329a": {
      "model_module": "@jupyter-widgets/controls",
      "model_module_version": "1.5.0",
      "model_name": "HTMLModel",
      "state": {
       "layout": "IPY_MODEL_20e056c2d3f74094864968ae42c6e8c1",
       "style": "IPY_MODEL_673f7f73ea224cad8fc066a7f6256f68",
       "value": "<b>description:</b>"
      }
     },
     "bbac84ff3a8f40b3a3e45062d1090c0d": {
      "model_module": "@jupyter-widgets/controls",
      "model_module_version": "1.5.0",
      "model_name": "LabelModel",
      "state": {
       "layout": "IPY_MODEL_da447cdd8ced458f95fd5082bed37bf9",
       "style": "IPY_MODEL_b1d118c133b84afa83ba38acd366a9ac",
       "value": "application/json"
      }
     },
     "bbb30b6294e54034b8d6c90574e8cf1c": {
      "model_module": "@jupyter-widgets/controls",
      "model_module_version": "1.5.0",
      "model_name": "DescriptionStyleModel",
      "state": {
       "description_width": ""
      }
     },
     "bbbc5103ec0e4e0ea48e658937244ca6": {
      "model_module": "@jupyter-widgets/base",
      "model_module_version": "1.2.0",
      "model_name": "LayoutModel",
      "state": {}
     },
     "bc1adf7f203a402e8c9867aab5292587": {
      "model_module": "@jupyter-widgets/base",
      "model_module_version": "1.2.0",
      "model_name": "LayoutModel",
      "state": {}
     },
     "bc1db012054d45c2af80b4c61c4d9daa": {
      "model_module": "@jupyter-widgets/base",
      "model_module_version": "1.2.0",
      "model_name": "LayoutModel",
      "state": {}
     },
     "bc1f7933e88141cab091ac25c774f767": {
      "model_module": "@jupyter-widgets/controls",
      "model_module_version": "1.5.0",
      "model_name": "LabelModel",
      "state": {
       "layout": "IPY_MODEL_eaa8d95e91244adabcf1758606db5488",
       "style": "IPY_MODEL_0cb799b40b944bd5b3b4ebcf23dee469",
       "value": "72f988bf-86f1-41af-91ab-2d7cd011db47"
      }
     },
     "bc2149fdfed2477e8d7aa7d84721bca8": {
      "model_module": "@jupyter-widgets/base",
      "model_module_version": "1.2.0",
      "model_name": "LayoutModel",
      "state": {}
     },
     "bc2c12122ba04e8597c44e61bb4fa277": {
      "model_module": "@jupyter-widgets/controls",
      "model_module_version": "1.5.0",
      "model_name": "HBoxModel",
      "state": {
       "children": [
        "IPY_MODEL_1410c1e1128549679c5dbb68ac6780e4",
        "IPY_MODEL_3d92028bf4044f3fa3c18b091969208b"
       ],
       "layout": "IPY_MODEL_7c03217174804674b45926a1cac1d7be"
      }
     },
     "bc40a7df13a14026b19a953b918a39ee": {
      "model_module": "@jupyter-widgets/controls",
      "model_module_version": "1.5.0",
      "model_name": "HBoxModel",
      "state": {
       "children": [
        "IPY_MODEL_add8881247b8452481e32aaaa2ce20c7",
        "IPY_MODEL_7127302cfcf44fb7b0d1217efc286e6c"
       ],
       "layout": "IPY_MODEL_ddb6ac5cccf84cdbb065068a994f9058"
      }
     },
     "bc4fac4373e44643aebf28a990c7afd3": {
      "model_module": "@jupyter-widgets/controls",
      "model_module_version": "1.5.0",
      "model_name": "DescriptionStyleModel",
      "state": {
       "description_width": ""
      }
     },
     "bc531b2648ad4f64b6ad92c3bc3629ad": {
      "model_module": "@jupyter-widgets/controls",
      "model_module_version": "1.5.0",
      "model_name": "HTMLModel",
      "state": {
       "layout": "IPY_MODEL_a236071c3e6b45fa960544a3b7136ad8",
       "style": "IPY_MODEL_556afd0918884f6891e80e0de05d6a28",
       "value": "<b>runId:</b>"
      }
     },
     "bc7b23e51a224045816a1e4b4e0345df": {
      "model_module": "@jupyter-widgets/controls",
      "model_module_version": "1.5.0",
      "model_name": "DescriptionStyleModel",
      "state": {
       "description_width": ""
      }
     },
     "bc891b5799734fce89105dde453d4f42": {
      "model_module": "@jupyter-widgets/controls",
      "model_module_version": "1.5.0",
      "model_name": "LabelModel",
      "state": {
       "layout": "IPY_MODEL_e1124dda93864e8ba81ba2e6648f9f5b",
       "style": "IPY_MODEL_809f97645cc142809716e4f36ce4251f",
       "value": "[{'createdTime': '2020-03-04T01:05:12.753405+00:00', 'createdBy': {'userObjectId': 'e6cc2e17-5968-49e6-bb8f-9fb978a0d450', 'userPuId': '1003BFFD8BE61032', 'userIdp': None, 'userAltSecId': None, 'userIss': 'https://sts.windows.net/72f988bf-86f1-41af-91ab-2d7cd011db47/', 'userTenantId': '72f988bf-86f1-41af-91ab-2d7cd011db47', 'userName': 'Daniel Ciborowski'}, 'description': None, 'id': 'resnet_model_2:4', 'mimeType': 'application/json', 'name': 'resnet_model_2', 'framework': 'Custom', 'frameworkVersion': None, 'tags': {}, 'properties': {}, 'unpack': False, 'url': 'aml://asset/5ab7f6be706a4cb8a658fa05810f9f97', 'version': 4, 'experimentName': 'dlrts-train-on-local', 'runId': 'dlrts-train-on-local_1583283740_f474032a', 'runDetails': 'Run(Experiment: dlrts-train-on-local,\\nId: dlrts-train-on-local_1583283740_f474032a,\\nType: azureml.scriptrun,\\nStatus: Completed)', 'datasets': {}, 'resourceConfiguration': None, 'sampleInputDatasetId': None, 'sampleOutputDatasetId': None}]"
      }
     },
     "bc985d6452ff401fa4eb3c4e0d4c09bf": {
      "model_module": "@jupyter-widgets/controls",
      "model_module_version": "1.5.0",
      "model_name": "DescriptionStyleModel",
      "state": {
       "description_width": ""
      }
     },
     "bca1d320950c499595fc190b9cf0a345": {
      "model_module": "@jupyter-widgets/controls",
      "model_module_version": "1.5.0",
      "model_name": "HBoxModel",
      "state": {
       "children": [
        "IPY_MODEL_acc89483db0143a6bf8a12fa5ace4b79",
        "IPY_MODEL_f8ce63e77ec2484f9ead3a409b83e803"
       ],
       "layout": "IPY_MODEL_cdcf1405a5cc4a8e8ef864de75422f97"
      }
     },
     "bcab70969d644d50bfdf8cff3fef138a": {
      "model_module": "@jupyter-widgets/controls",
      "model_module_version": "1.5.0",
      "model_name": "HTMLModel",
      "state": {
       "layout": "IPY_MODEL_64ec27ebee254ca088efd4720441e4d6",
       "style": "IPY_MODEL_761e2d4f70c14d15b72442eee36cc3ea",
       "value": "<b>minReplicas:</b>"
      }
     },
     "bcc0ec8c163f4dc79471e04a8341d02d": {
      "model_module": "@jupyter-widgets/controls",
      "model_module_version": "1.5.0",
      "model_name": "LabelModel",
      "state": {
       "layout": "IPY_MODEL_becafd10a1f94701908db1bdc18bdef0",
       "style": "IPY_MODEL_262767be1c7d42a29fc824d4b6e2b9a1",
       "value": "2020-03-04T01:05:12.753405+00:00"
      }
     },
     "bcc11565139249f48352388b1d9d42bf": {
      "model_module": "@jupyter-widgets/controls",
      "model_module_version": "1.5.0",
      "model_name": "LabelModel",
      "state": {
       "layout": "IPY_MODEL_04590b42372f4667861674f4ca7670d1",
       "style": "IPY_MODEL_5922156add6945d29e97c5cd847a11d6",
       "value": "application/json"
      }
     },
     "bceae47387d0462ab78a1e2f121e5e95": {
      "model_module": "@jupyter-widgets/controls",
      "model_module_version": "1.5.0",
      "model_name": "HBoxModel",
      "state": {
       "children": [
        "IPY_MODEL_bd5ed3e20e284c42a5fd62914c0fe7fb",
        "IPY_MODEL_f9ae343672974ae791b43d635fe8d898"
       ],
       "layout": "IPY_MODEL_33da8449cc5b4c5189fb50a5d504a7a6"
      }
     },
     "bd30e88711114e5ea33265d1e30bf753": {
      "model_module": "@jupyter-widgets/controls",
      "model_module_version": "1.5.0",
      "model_name": "HTMLModel",
      "state": {
       "layout": "IPY_MODEL_c5eb9aa5764c442c9972d52a6c75791a",
       "style": "IPY_MODEL_a3fe6276d4d24434b129e94ae32c067f",
       "value": "<b>isDefault:</b>"
      }
     },
     "bd5ed3e20e284c42a5fd62914c0fe7fb": {
      "model_module": "@jupyter-widgets/controls",
      "model_module_version": "1.5.0",
      "model_name": "HTMLModel",
      "state": {
       "layout": "IPY_MODEL_407bc8f5976149f188c9d52ce7f36833",
       "style": "IPY_MODEL_e95702f0686642bfa60fa48a1198a73a",
       "value": "<b>refreshPeriodInSeconds:</b>"
      }
     },
     "bd68f67627e14ef19ae1dd041f9c8580": {
      "model_module": "@jupyter-widgets/base",
      "model_module_version": "1.2.0",
      "model_name": "LayoutModel",
      "state": {}
     },
     "bd6a2f947f40461d9cd4f5b8fd4f36ba": {
      "model_module": "@jupyter-widgets/controls",
      "model_module_version": "1.5.0",
      "model_name": "HTMLModel",
      "state": {
       "layout": "IPY_MODEL_7c5733e2641b42639708e6193966729e",
       "style": "IPY_MODEL_31b076c9682c4cb19c3103afb61a9906",
       "value": "<b>userIdp:</b>"
      }
     },
     "bd9f4bf99f6344659f544c03b45b29d9": {
      "model_module": "@jupyter-widgets/base",
      "model_module_version": "1.2.0",
      "model_name": "LayoutModel",
      "state": {}
     },
     "bdbf4bca13e44e28b6ecae931a23eb1c": {
      "model_module": "@jupyter-widgets/controls",
      "model_module_version": "1.5.0",
      "model_name": "DescriptionStyleModel",
      "state": {
       "description_width": ""
      }
     },
     "bddc1543b9064409a5622f0e223d015e": {
      "model_module": "@jupyter-widgets/controls",
      "model_module_version": "1.5.0",
      "model_name": "HTMLModel",
      "state": {
       "layout": "IPY_MODEL_e20f14f1d7844ed7be51e2b00e8bb742",
       "style": "IPY_MODEL_5909dac7f32f4bb599bd0187c8148d0c",
       "value": "<b>azureml.git.commit:</b>"
      }
     },
     "bde55e60552b441ca983c256bf495316": {
      "model_module": "@jupyter-widgets/controls",
      "model_module_version": "1.5.0",
      "model_name": "HTMLModel",
      "state": {
       "layout": "IPY_MODEL_4b75535a69dc4fd5a415a2a383e1ebe9",
       "style": "IPY_MODEL_250225cc814f409eaec45d5e58e37367",
       "value": "<b>computeName:</b>"
      }
     },
     "be108d6c57294131ae33362f05955b97": {
      "model_module": "@jupyter-widgets/controls",
      "model_module_version": "1.5.0",
      "model_name": "LabelModel",
      "state": {
       "layout": "IPY_MODEL_e6437be401d04211a6f8f3e2eca3705e",
       "style": "IPY_MODEL_56059d442639472a9be8acd6137f2b45",
       "value": "NotFoundComputeResource"
      }
     },
     "be286931a1f54f33b864fb5637bdac9c": {
      "model_module": "@jupyter-widgets/controls",
      "model_module_version": "1.5.0",
      "model_name": "ButtonModel",
      "state": {
       "button_style": "success",
       "description": "Complete, rerun?",
       "layout": "IPY_MODEL_820a6f7629124d7f8c22cc797064ad26",
       "style": "IPY_MODEL_4284720f4ab346149a6850424de3135f"
      }
     },
     "be56c2c9fd5247919d5ab303643d5a52": {
      "model_module": "@jupyter-widgets/base",
      "model_module_version": "1.2.0",
      "model_name": "LayoutModel",
      "state": {}
     },
     "be6d7b4968834548ba74e5694d9a2345": {
      "model_module": "@jupyter-widgets/base",
      "model_module_version": "1.2.0",
      "model_name": "LayoutModel",
      "state": {}
     },
     "be74a76499da4dd79f34a77dcfe755af": {
      "model_module": "@jupyter-widgets/controls",
      "model_module_version": "1.5.0",
      "model_name": "HBoxModel",
      "state": {
       "children": [
        "IPY_MODEL_7fde7198e36244c4a9aaeee208dd0143",
        "IPY_MODEL_bc1f7933e88141cab091ac25c774f767"
       ],
       "layout": "IPY_MODEL_3cd980a080da43a5ac92ca043507f465"
      }
     },
     "be99eb0192a0465997f06c463a978d9d": {
      "model_module": "@jupyter-widgets/base",
      "model_module_version": "1.2.0",
      "model_name": "LayoutModel",
      "state": {}
     },
     "bea0815468f34a02a24da5affa7b23f2": {
      "model_module": "@jupyter-widgets/base",
      "model_module_version": "1.2.0",
      "model_name": "LayoutModel",
      "state": {}
     },
     "bea254670fea41b782f6d11848bf6c84": {
      "model_module": "@jupyter-widgets/controls",
      "model_module_version": "1.5.0",
      "model_name": "HTMLModel",
      "state": {
       "layout": "IPY_MODEL_c06ddbf44aac407fa0ea2c888baf681f",
       "style": "IPY_MODEL_890051121da1430fa69a332c1a0d0c1e",
       "value": "<b>numReplicas:</b>"
      }
     },
     "bec5f52ed1fb43c795e9c024b9383d94": {
      "model_module": "@jupyter-widgets/base",
      "model_module_version": "1.2.0",
      "model_name": "LayoutModel",
      "state": {}
     },
     "becafd10a1f94701908db1bdc18bdef0": {
      "model_module": "@jupyter-widgets/base",
      "model_module_version": "1.2.0",
      "model_name": "LayoutModel",
      "state": {}
     },
     "bee1440b302f4c97ba469baabea6968c": {
      "model_module": "@jupyter-widgets/controls",
      "model_module_version": "1.5.0",
      "model_name": "LabelModel",
      "state": {
       "layout": "IPY_MODEL_c265e31a46e54a979709b4517a4e5033",
       "style": "IPY_MODEL_e34c3cc2d4a84bde826a8f3354c5eebb",
       "value": "Daniel Ciborowski"
      }
     },
     "bf124e7df23b4080b2c3ad6221894332": {
      "model_module": "@jupyter-widgets/base",
      "model_module_version": "1.2.0",
      "model_name": "LayoutModel",
      "state": {}
     },
     "bf236e0e820d49c8a7dd8e2eb779bb7a": {
      "model_module": "@jupyter-widgets/controls",
      "model_module_version": "1.5.0",
      "model_name": "DescriptionStyleModel",
      "state": {
       "description_width": ""
      }
     },
     "bf598306529d4e23908243da85eede74": {
      "model_module": "@jupyter-widgets/controls",
      "model_module_version": "1.5.0",
      "model_name": "LabelModel",
      "state": {
       "layout": "IPY_MODEL_0aa4b8809194483aa540b2d8f37f3849",
       "style": "IPY_MODEL_674e3a0419d54bc0bef03f531dd5f750",
       "value": "None"
      }
     },
     "bf789c1b7128493e80f720fe098c1e0d": {
      "model_module": "@jupyter-widgets/controls",
      "model_module_version": "1.5.0",
      "model_name": "LabelModel",
      "state": {
       "layout": "IPY_MODEL_da77e6f4fcb4462a9c7aae6cb38a11f0",
       "style": "IPY_MODEL_6d7bd1fa21f2422297111cfce1f2261a",
       "value": "e6cc2e17-5968-49e6-bb8f-9fb978a0d450"
      }
     },
     "bfb04453f54c44b19744b6422bf6586a": {
      "model_module": "@jupyter-widgets/base",
      "model_module_version": "1.2.0",
      "model_name": "LayoutModel",
      "state": {}
     },
     "bfbbe32f4b3443f687e9e819fa04f7cf": {
      "model_module": "@jupyter-widgets/controls",
      "model_module_version": "1.5.0",
      "model_name": "HBoxModel",
      "state": {
       "children": [
        "IPY_MODEL_914130b3a074437a9accd4a1bf354a5c",
        "IPY_MODEL_dc7e14523cdd4fa5b452f9af3659839f"
       ],
       "layout": "IPY_MODEL_9db9625a8bc24b20a8f9f33021952158"
      }
     },
     "bfbc65856c704b0e98c643c3b2973aef": {
      "model_module": "@jupyter-widgets/base",
      "model_module_version": "1.2.0",
      "model_name": "LayoutModel",
      "state": {}
     },
     "bffa22b7f0cc436a859163c0e8864187": {
      "model_module": "@jupyter-widgets/base",
      "model_module_version": "1.2.0",
      "model_name": "LayoutModel",
      "state": {}
     },
     "c00b5ee9199f4625b7cf5560af997f4c": {
      "model_module": "@jupyter-widgets/base",
      "model_module_version": "1.2.0",
      "model_name": "LayoutModel",
      "state": {}
     },
     "c01c47ee0bb3470abf595f4a85e74c84": {
      "model_module": "@jupyter-widgets/controls",
      "model_module_version": "1.5.0",
      "model_name": "DescriptionStyleModel",
      "state": {
       "description_width": ""
      }
     },
     "c0322599f8bb4fed82cd58d1091cc1e1": {
      "model_module": "@jupyter-widgets/controls",
      "model_module_version": "1.5.0",
      "model_name": "HBoxModel",
      "state": {
       "children": [
        "IPY_MODEL_0fe924bf9c1d48729d3cea8181de7d3e",
        "IPY_MODEL_b432f7b4d2df467fb62e666a647827c7"
       ],
       "layout": "IPY_MODEL_8f55305831034021aa7cd2bad9d6652d"
      }
     },
     "c05e68e87fdc43a59506ef547b5642ff": {
      "model_module": "@jupyter-widgets/controls",
      "model_module_version": "1.5.0",
      "model_name": "DescriptionStyleModel",
      "state": {
       "description_width": ""
      }
     },
     "c06ddbf44aac407fa0ea2c888baf681f": {
      "model_module": "@jupyter-widgets/base",
      "model_module_version": "1.2.0",
      "model_name": "LayoutModel",
      "state": {}
     },
     "c0718427822b45d68146b5f57ad7cc41": {
      "model_module": "@jupyter-widgets/base",
      "model_module_version": "1.2.0",
      "model_name": "LayoutModel",
      "state": {}
     },
     "c084695c2e0f456e9dee341240890636": {
      "model_module": "@jupyter-widgets/controls",
      "model_module_version": "1.5.0",
      "model_name": "HTMLModel",
      "state": {
       "layout": "IPY_MODEL_14bca055dfe34d8aaebc9a22817f93e0",
       "style": "IPY_MODEL_0afdf719f91547c3aff9592013f14f62",
       "value": "<b>userAltSecId:</b>"
      }
     },
     "c0b0ee49aba54397858d3557e502849a": {
      "model_module": "@jupyter-widgets/base",
      "model_module_version": "1.2.0",
      "model_name": "LayoutModel",
      "state": {}
     },
     "c0ca6d5475c74acd9ab34d6b11f19fe6": {
      "model_module": "@jupyter-widgets/controls",
      "model_module_version": "1.5.0",
      "model_name": "HTMLModel",
      "state": {
       "layout": "IPY_MODEL_312700ceb4eb44a9901511ab633dfb3d",
       "style": "IPY_MODEL_c1a8992ec1ae43cbaa279656dc5f936d",
       "value": "<b>numReplicas:</b>"
      }
     },
     "c106f79fb0b64d0aa6959f268d58838e": {
      "model_module": "@jupyter-widgets/controls",
      "model_module_version": "1.5.0",
      "model_name": "HTMLModel",
      "state": {
       "layout": "IPY_MODEL_a9757eb2e8644733a987f3d3329de4eb",
       "style": "IPY_MODEL_63b0052898de400a8f08e29d9e1b2b4e",
       "value": "<b>userTenantId:</b>"
      }
     },
     "c110ac7a9a2a4683a1adaaa9cf3166c0": {
      "model_module": "@jupyter-widgets/controls",
      "model_module_version": "1.5.0",
      "model_name": "DescriptionStyleModel",
      "state": {
       "description_width": "initial"
      }
     },
     "c14deed2fb3145718c9511718e722db7": {
      "model_module": "@jupyter-widgets/controls",
      "model_module_version": "1.5.0",
      "model_name": "VBoxModel",
      "state": {
       "children": [
        "IPY_MODEL_7732429e863c45e38598c7138fdc8768",
        "IPY_MODEL_d228c02625f14b48a94b7155faf19484",
        "IPY_MODEL_58624380598c4f28bd637ab2214d1370",
        "IPY_MODEL_dc8a05db18c3458595d29564c9083ac7",
        "IPY_MODEL_a98076d3205e4a298109120a078f1378",
        "IPY_MODEL_81b9442d1dd944f29b7efcfeee8d99a2",
        "IPY_MODEL_1c2e228ca04d45d8bdbe59003edbb9ae",
        "IPY_MODEL_10504d1cca38484bbf5d7cec87f8e090",
        "IPY_MODEL_a732e9d3d8454c38ad0d0624a34e54e5",
        "IPY_MODEL_8684f3c954214cef96efd4d04523298d",
        "IPY_MODEL_f9e079555acf4db58c7089f96679de72",
        "IPY_MODEL_9376555e50154cc9a81a1290910ec822",
        "IPY_MODEL_3b7f75c2c4734a4a8f6bf1acc00bd4c4",
        "IPY_MODEL_badda3ed745f4cc18a055b34ce5961d2",
        "IPY_MODEL_4b734aef838543358a5e106dc9bbb4ee",
        "IPY_MODEL_3a30b3e54b2e4b58803bbf9112b2d4c0",
        "IPY_MODEL_80a0a7aa776e43c9ab68db994ab768c6",
        "IPY_MODEL_2ebfb93eedfe4b72a360777f46d1e390",
        "IPY_MODEL_134bab1739cb42728397e4880ff560f4",
        "IPY_MODEL_269caf5c164d4afc8b5513ccf74e2c1a",
        "IPY_MODEL_47a84c885f0147ceb4ae5bc90390f8cd",
        "IPY_MODEL_949eaa1d264647a599bbda444b9e2c65",
        "IPY_MODEL_6eb22b11e0c34556b90f837dde9aac35",
        "IPY_MODEL_6657bacde23e4e7d83ccd53b24818562",
        "IPY_MODEL_00d64594a10c45b6acac9cfbc78daf53",
        "IPY_MODEL_90a805e4b36943108ac9b99065d7f2e2",
        "IPY_MODEL_6070cd7c6b6f4f13a69db02f39d460d2",
        "IPY_MODEL_cc9c085f1334404190dcfcd94b85772d",
        "IPY_MODEL_50a0e5e3e3034fdd8165997c40796873",
        "IPY_MODEL_9465ef84981f4bceaa0e05359b5f96ee",
        "IPY_MODEL_1611b2e6137f4479b24c2c4fb0c05e95",
        "IPY_MODEL_534866dfa4804b4fa68583418bbfca3f"
       ],
       "layout": "IPY_MODEL_c687e94a8e06413eb0488e0e7c785525"
      }
     },
     "c1918c58f2ef4563b5e5c5e5d103c932": {
      "model_module": "@jupyter-widgets/base",
      "model_module_version": "1.2.0",
      "model_name": "LayoutModel",
      "state": {}
     },
     "c1a8992ec1ae43cbaa279656dc5f936d": {
      "model_module": "@jupyter-widgets/controls",
      "model_module_version": "1.5.0",
      "model_name": "DescriptionStyleModel",
      "state": {
       "description_width": ""
      }
     },
     "c1b2818ddd5844d7a66357ce467e9e78": {
      "model_module": "@jupyter-widgets/controls",
      "model_module_version": "1.5.0",
      "model_name": "HBoxModel",
      "state": {
       "children": [
        "IPY_MODEL_421ca213320e40f2bc3a091dde9244d3",
        "IPY_MODEL_a1532945a04147b1bb9b6de10ab794aa"
       ],
       "layout": "IPY_MODEL_009de68de38f4199a664ccab3a7b5426"
      }
     },
     "c1c2ba3b52ac445db5a305490a70c778": {
      "model_module": "@jupyter-widgets/base",
      "model_module_version": "1.2.0",
      "model_name": "LayoutModel",
      "state": {}
     },
     "c1d0d4ea121c49b5a27b378eae1eab17": {
      "model_module": "@jupyter-widgets/base",
      "model_module_version": "1.2.0",
      "model_name": "LayoutModel",
      "state": {}
     },
     "c2059aba9c8a4cdc84da2c49e86eaaeb": {
      "model_module": "@jupyter-widgets/controls",
      "model_module_version": "1.5.0",
      "model_name": "HBoxModel",
      "state": {
       "children": [
        "IPY_MODEL_840f93d09fd34b759db77161f06bf899",
        "IPY_MODEL_bcc11565139249f48352388b1d9d42bf"
       ],
       "layout": "IPY_MODEL_5af06209d9624fb8ab8b289662c7e3fd"
      }
     },
     "c214640774cf41eb8f12d83da7c4543a": {
      "model_module": "@jupyter-widgets/base",
      "model_module_version": "1.2.0",
      "model_name": "LayoutModel",
      "state": {}
     },
     "c2375cd212964cc1a732c57aa47b0d98": {
      "model_module": "@jupyter-widgets/base",
      "model_module_version": "1.2.0",
      "model_name": "LayoutModel",
      "state": {}
     },
     "c242d2ce46b744f9a55af5cf080ab9aa": {
      "model_module": "@jupyter-widgets/base",
      "model_module_version": "1.2.0",
      "model_name": "LayoutModel",
      "state": {}
     },
     "c265536db23a4000b0c5b6485764c076": {
      "model_module": "@jupyter-widgets/controls",
      "model_module_version": "1.5.0",
      "model_name": "HTMLModel",
      "state": {
       "layout": "IPY_MODEL_77d2fbaf6e3045a9be75450d045d598a",
       "style": "IPY_MODEL_ba5f93eb9610458b9dfe31c01a1637e5",
       "value": "<b>maxConcurrentRequestsPerContainer:</b>"
      }
     },
     "c265e31a46e54a979709b4517a4e5033": {
      "model_module": "@jupyter-widgets/base",
      "model_module_version": "1.2.0",
      "model_name": "LayoutModel",
      "state": {}
     },
     "c26b7ff51715404a9786ff7f112297bb": {
      "model_module": "@jupyter-widgets/controls",
      "model_module_version": "1.5.0",
      "model_name": "HTMLModel",
      "state": {
       "layout": "IPY_MODEL_ad3beb4cbef345a981ffea7cd4ebd776",
       "style": "IPY_MODEL_7181a62be068412b8ae4518c30b8d0df",
       "value": "<b>environmentVariables:</b>"
      }
     },
     "c270732b32e34bbf9c47ceb1e4a836c1": {
      "model_module": "@jupyter-widgets/controls",
      "model_module_version": "1.5.0",
      "model_name": "DescriptionStyleModel",
      "state": {
       "description_width": ""
      }
     },
     "c270e54792fa41a39b10211420f38988": {
      "model_module": "@jupyter-widgets/controls",
      "model_module_version": "1.5.0",
      "model_name": "DescriptionStyleModel",
      "state": {
       "description_width": ""
      }
     },
     "c27285eb8c7b441b9d39182e530f37c8": {
      "model_module": "@jupyter-widgets/controls",
      "model_module_version": "1.5.0",
      "model_name": "LabelModel",
      "state": {
       "layout": "IPY_MODEL_4732e3aeb86b495eb94b58e7e2ded679",
       "style": "IPY_MODEL_03d1a889b7e7411f8292ffd107ccc138",
       "value": "False"
      }
     },
     "c2a287c252ac4e16a11fa9d6536ce0e3": {
      "model_module": "@jupyter-widgets/controls",
      "model_module_version": "1.5.0",
      "model_name": "HBoxModel",
      "state": {
       "children": [
        "IPY_MODEL_b2c9ef3b84d74939b7a0cf0c44513b2d",
        "IPY_MODEL_37fac01c5a4e433db4e3d13741ad9d6c"
       ],
       "layout": "IPY_MODEL_e10f7599d33841c7a2d6fd283a78fda5"
      }
     },
     "c2c4d2d0a3674381ac1ea4571823282a": {
      "model_module": "@jupyter-widgets/base",
      "model_module_version": "1.2.0",
      "model_name": "LayoutModel",
      "state": {}
     },
     "c30fc372881542cbbe8339ebdf8458c4": {
      "model_module": "@jupyter-widgets/base",
      "model_module_version": "1.2.0",
      "model_name": "LayoutModel",
      "state": {}
     },
     "c328e40396db45f5bd369c4828d953c4": {
      "model_module": "@jupyter-widgets/base",
      "model_module_version": "1.2.0",
      "model_name": "LayoutModel",
      "state": {}
     },
     "c32ced5b45514c05b7feb301db5e3ff0": {
      "model_module": "@jupyter-widgets/base",
      "model_module_version": "1.2.0",
      "model_name": "LayoutModel",
      "state": {}
     },
     "c33217749b644485940eec482a58f506": {
      "model_module": "@jupyter-widgets/controls",
      "model_module_version": "1.5.0",
      "model_name": "DescriptionStyleModel",
      "state": {
       "description_width": ""
      }
     },
     "c33cfb379e75493a8694fa72e0405c00": {
      "model_module": "@jupyter-widgets/controls",
      "model_module_version": "1.5.0",
      "model_name": "HBoxModel",
      "state": {
       "children": [
        "IPY_MODEL_aefba8292a3249489a866cbb786ba840",
        "IPY_MODEL_9855124a456e4dab9263365919cad1c5"
       ],
       "layout": "IPY_MODEL_ca095fe7fc784b1b94205f20809b7af1"
      }
     },
     "c36ca82279ed43eead83a0535b3d7826": {
      "model_module": "@jupyter-widgets/controls",
      "model_module_version": "1.5.0",
      "model_name": "HTMLModel",
      "state": {
       "layout": "IPY_MODEL_a86376293300419994d75de3d307d7a6",
       "style": "IPY_MODEL_102dc14eb0724454bb1e56bbc2098670",
       "value": "<b>scoringTimeoutMs:</b>"
      }
     },
     "c376827dcab14e739720072218b2dfde": {
      "model_module": "@jupyter-widgets/controls",
      "model_module_version": "1.5.0",
      "model_name": "HBoxModel",
      "state": {
       "children": [
        "IPY_MODEL_79a7bfb980654ca99fc6a4c1dffa5107",
        "IPY_MODEL_8a673dc3f28c44ada7e36ea57faaaa6c"
       ],
       "layout": "IPY_MODEL_7d71ac836af249789818ced29afe4843"
      }
     },
     "c389fe3af3514aca9600e799ac476593": {
      "model_module": "@jupyter-widgets/base",
      "model_module_version": "1.2.0",
      "model_name": "LayoutModel",
      "state": {}
     },
     "c3cf404413fb4973ae2da54d5c96b3b9": {
      "model_module": "@jupyter-widgets/controls",
      "model_module_version": "1.5.0",
      "model_name": "DescriptionStyleModel",
      "state": {
       "description_width": ""
      }
     },
     "c3de7b6abfa24cea978f8d6eb5af08b1": {
      "model_module": "@jupyter-widgets/controls",
      "model_module_version": "1.5.0",
      "model_name": "HTMLModel",
      "state": {
       "layout": "IPY_MODEL_91c688cbf9014a20a5b6deb7863082db",
       "style": "IPY_MODEL_946d637885664915a139ddb03e11a744",
       "value": "<b>userName:</b>"
      }
     },
     "c3e324ed66ac472ea3a88f1ff28200ec": {
      "model_module": "@jupyter-widgets/base",
      "model_module_version": "1.2.0",
      "model_name": "LayoutModel",
      "state": {}
     },
     "c3e58468d5544f4fb00dff56710991a8": {
      "model_module": "@jupyter-widgets/controls",
      "model_module_version": "1.5.0",
      "model_name": "DescriptionStyleModel",
      "state": {
       "description_width": ""
      }
     },
     "c4145519015f45968fb0e7356ed5cd1c": {
      "model_module": "@jupyter-widgets/base",
      "model_module_version": "1.2.0",
      "model_name": "LayoutModel",
      "state": {}
     },
     "c4241f6f2afe4642ab41f0be662b8fb4": {
      "model_module": "@jupyter-widgets/controls",
      "model_module_version": "1.5.0",
      "model_name": "HTMLModel",
      "state": {
       "layout": "IPY_MODEL_01c77d46cfb94e24bde5c9ae75676168",
       "style": "IPY_MODEL_5d59c7e792134875b2c20253a9352197",
       "value": "<b>refreshPeriodInSeconds:</b>"
      }
     },
     "c4424eb40375495bb1e0b1d05c9743fb": {
      "model_module": "@jupyter-widgets/controls",
      "model_module_version": "1.5.0",
      "model_name": "HTMLModel",
      "state": {
       "layout": "IPY_MODEL_91a1d6249d634eaca1b0c9f6e61de8ba",
       "style": "IPY_MODEL_23e16907393c4a7b8b843ade4643c7dd",
       "value": "<b>azureml.git.commit:</b>"
      }
     },
     "c44b3334923d46aa9727f8fdeb7f8fb2": {
      "model_module": "@jupyter-widgets/controls",
      "model_module_version": "1.5.0",
      "model_name": "DescriptionStyleModel",
      "state": {
       "description_width": ""
      }
     },
     "c476cea70b204c6e9077447cde9073de": {
      "model_module": "@jupyter-widgets/base",
      "model_module_version": "1.2.0",
      "model_name": "LayoutModel",
      "state": {}
     },
     "c47eabdfee7041a194d8a1a237467d5a": {
      "model_module": "@jupyter-widgets/controls",
      "model_module_version": "1.5.0",
      "model_name": "DescriptionStyleModel",
      "state": {
       "description_width": ""
      }
     },
     "c47f33302a8d42688e2d4ef44ab69a94": {
      "model_module": "@jupyter-widgets/base",
      "model_module_version": "1.2.0",
      "model_name": "LayoutModel",
      "state": {}
     },
     "c48b7e550970418dbfbb4cffa6d9a12d": {
      "model_module": "@jupyter-widgets/base",
      "model_module_version": "1.2.0",
      "model_name": "LayoutModel",
      "state": {}
     },
     "c49e729a1e0947228a8eba77b8ccbd9f": {
      "model_module": "@jupyter-widgets/controls",
      "model_module_version": "1.5.0",
      "model_name": "HTMLModel",
      "state": {
       "layout": "IPY_MODEL_a3bcb11f05234336865c0ba905b34c76",
       "style": "IPY_MODEL_61fda316a3234359ba67856f3e12e455",
       "value": "<b>azureml.git.dirty:</b>"
      }
     },
     "c520ccbba2094d9994ae96080c81425e": {
      "model_module": "@jupyter-widgets/controls",
      "model_module_version": "1.5.0",
      "model_name": "HBoxModel",
      "state": {
       "children": [
        "IPY_MODEL_1712d994f22841408c50c9c6c6c26815",
        "IPY_MODEL_65f50da909d640399551c0ad7f983fee"
       ],
       "layout": "IPY_MODEL_c5a76917c0484f6cb6a705d179407a43"
      }
     },
     "c54afd1730b34476add9f72828a8ed44": {
      "model_module": "@jupyter-widgets/controls",
      "model_module_version": "1.5.0",
      "model_name": "DescriptionStyleModel",
      "state": {
       "description_width": ""
      }
     },
     "c57d97a85ed145d1ae0786022aca5245": {
      "model_module": "@jupyter-widgets/controls",
      "model_module_version": "1.5.0",
      "model_name": "HTMLModel",
      "state": {
       "layout": "IPY_MODEL_44b3d2c0d2974bda8aa71d248629a340",
       "style": "IPY_MODEL_7c7bc5f8b26d49a2977a2ebe3a299075",
       "value": "<b>mlflow.source.git.branch:</b>"
      }
     },
     "c58faddc147d43759d44f68451a36690": {
      "model_module": "@jupyter-widgets/base",
      "model_module_version": "1.2.0",
      "model_name": "LayoutModel",
      "state": {
       "width": "50%"
      }
     },
     "c5a76917c0484f6cb6a705d179407a43": {
      "model_module": "@jupyter-widgets/base",
      "model_module_version": "1.2.0",
      "model_name": "LayoutModel",
      "state": {}
     },
     "c5c85a2fdfbe4bf188bbd7106df69f0c": {
      "model_module": "@jupyter-widgets/controls",
      "model_module_version": "1.5.0",
      "model_name": "HBoxModel",
      "state": {
       "children": [
        "IPY_MODEL_9aceb12f239c459f8ad8529acee0bb13",
        "IPY_MODEL_c7c34fdfa9724f419f09853b54047a3a"
       ],
       "layout": "IPY_MODEL_9d4f4a281361475ba5fecf523625e618"
      }
     },
     "c5cebd076f3a4b9c806b74ceec673088": {
      "model_module": "@jupyter-widgets/base",
      "model_module_version": "1.2.0",
      "model_name": "LayoutModel",
      "state": {}
     },
     "c5eaf93c25e8456796d7d99d3d0be055": {
      "model_module": "@jupyter-widgets/controls",
      "model_module_version": "1.5.0",
      "model_name": "LabelModel",
      "state": {
       "layout": "IPY_MODEL_7d552ecdd6ac454da73384f164fc6a21",
       "style": "IPY_MODEL_bb0a704148964ffe8f49745addc66420",
       "value": "Run(Experiment: dlrts-train-on-local,\nId: dlrts-train-on-local_1583283740_f474032a,\nType: azureml.scriptrun,\nStatus: Completed)"
      }
     },
     "c5eb9aa5764c442c9972d52a6c75791a": {
      "model_module": "@jupyter-widgets/base",
      "model_module_version": "1.2.0",
      "model_name": "LayoutModel",
      "state": {}
     },
     "c5f9103960ea430d9c840f264a68c737": {
      "model_module": "@jupyter-widgets/controls",
      "model_module_version": "1.5.0",
      "model_name": "HTMLModel",
      "state": {
       "layout": "IPY_MODEL_a8a636d6b9f345a9a708cf3ea1d8a939",
       "style": "IPY_MODEL_3f07a578a4e94874af68751216bab4df",
       "value": "<b>mlflow.source.git.repoURL:</b>"
      }
     },
     "c6655005f27a4e8d852e1170566a69b6": {
      "model_module": "@jupyter-widgets/base",
      "model_module_version": "1.2.0",
      "model_name": "LayoutModel",
      "state": {}
     },
     "c673775e77704fcc8ca30ab0e2806316": {
      "model_module": "@jupyter-widgets/base",
      "model_module_version": "1.2.0",
      "model_name": "LayoutModel",
      "state": {
       "width": "50%"
      }
     },
     "c687e94a8e06413eb0488e0e7c785525": {
      "model_module": "@jupyter-widgets/base",
      "model_module_version": "1.2.0",
      "model_name": "LayoutModel",
      "state": {}
     },
     "c69c341625fb429da62a4115916c05a1": {
      "model_module": "@jupyter-widgets/controls",
      "model_module_version": "1.5.0",
      "model_name": "HTMLModel",
      "state": {
       "layout": "IPY_MODEL_691f6deffd4f4a8f80803984e8078402",
       "style": "IPY_MODEL_0d05332de0ff4328b986fdb780d90e4a",
       "value": "<b>frameworkVersion:</b>"
      }
     },
     "c6aa1e5d52424e97a491e3e1231c8bdc": {
      "model_module": "@jupyter-widgets/controls",
      "model_module_version": "1.5.0",
      "model_name": "DescriptionStyleModel",
      "state": {
       "description_width": ""
      }
     },
     "c6b38139acc94f9588eb78b409b729e9": {
      "model_module": "@jupyter-widgets/base",
      "model_module_version": "1.2.0",
      "model_name": "LayoutModel",
      "state": {}
     },
     "c6f54bd21e4349d39bb1e5767b072185": {
      "model_module": "@jupyter-widgets/controls",
      "model_module_version": "1.5.0",
      "model_name": "LabelModel",
      "state": {
       "layout": "IPY_MODEL_0a380faef72d4759ba9b41b4755ed2a4",
       "style": "IPY_MODEL_8d9e9342dfb640408ff6341d83848c4e",
       "value": "0.1"
      }
     },
     "c700f05b86af4d99b2c08bfcea100e86": {
      "model_module": "@jupyter-widgets/controls",
      "model_module_version": "1.5.0",
      "model_name": "DescriptionStyleModel",
      "state": {
       "description_width": ""
      }
     },
     "c715fdefd51d4591aab034a8f81b8353": {
      "model_module": "@jupyter-widgets/controls",
      "model_module_version": "1.5.0",
      "model_name": "DescriptionStyleModel",
      "state": {
       "description_width": ""
      }
     },
     "c7388f693d1349ebb9c690bf61b2727d": {
      "model_module": "@jupyter-widgets/base",
      "model_module_version": "1.2.0",
      "model_name": "LayoutModel",
      "state": {}
     },
     "c74eea8d048f4bf3ad0bb9a90a91596f": {
      "model_module": "@jupyter-widgets/base",
      "model_module_version": "1.2.0",
      "model_name": "LayoutModel",
      "state": {}
     },
     "c7578cf036ae4ed4bf7c71f0f7f33876": {
      "model_module": "@jupyter-widgets/base",
      "model_module_version": "1.2.0",
      "model_name": "LayoutModel",
      "state": {}
     },
     "c779a1b90e264a00971125f02d6475de": {
      "model_module": "@jupyter-widgets/base",
      "model_module_version": "1.2.0",
      "model_name": "LayoutModel",
      "state": {}
     },
     "c78c4c69d94345bba9834ccf7ad05025": {
      "model_module": "@jupyter-widgets/controls",
      "model_module_version": "1.5.0",
      "model_name": "DescriptionStyleModel",
      "state": {
       "description_width": ""
      }
     },
     "c7a260ca78624d4692358cb62e47ff96": {
      "model_module": "@jupyter-widgets/controls",
      "model_module_version": "1.5.0",
      "model_name": "LabelModel",
      "state": {
       "layout": "IPY_MODEL_f344cc3271a24e5b8e9ba9aed4b33e3a",
       "style": "IPY_MODEL_ebce421404ce4eecb3f546980eebcb24",
       "value": "False"
      }
     },
     "c7b56bde7ce24850ac4567c6e1cff5e9": {
      "model_module": "@jupyter-widgets/base",
      "model_module_version": "1.2.0",
      "model_name": "LayoutModel",
      "state": {}
     },
     "c7c104853b14407e927b1f8a35c659c5": {
      "model_module": "@jupyter-widgets/controls",
      "model_module_version": "1.5.0",
      "model_name": "DescriptionStyleModel",
      "state": {
       "description_width": "initial"
      }
     },
     "c7c34fdfa9724f419f09853b54047a3a": {
      "model_module": "@jupyter-widgets/controls",
      "model_module_version": "1.5.0",
      "model_name": "LabelModel",
      "state": {
       "layout": "IPY_MODEL_4d7ebdf3d17245178f9dd72e2bcbfe0a",
       "style": "IPY_MODEL_b9df0c8975f54974941e84c9b1351982",
       "value": "None"
      }
     },
     "c7cf0493f338482cbd5d36e8bb102621": {
      "model_module": "@jupyter-widgets/base",
      "model_module_version": "1.2.0",
      "model_name": "LayoutModel",
      "state": {}
     },
     "c7ee917647244830a2ac548ece65f100": {
      "model_module": "@jupyter-widgets/controls",
      "model_module_version": "1.5.0",
      "model_name": "DescriptionStyleModel",
      "state": {
       "description_width": ""
      }
     },
     "c7f10709084e454ba09d97e312eb237f": {
      "model_module": "@jupyter-widgets/controls",
      "model_module_version": "1.5.0",
      "model_name": "HTMLModel",
      "state": {
       "layout": "IPY_MODEL_66c333cf823a4102988b600030143614",
       "style": "IPY_MODEL_12195e44af3f42ac88893e894bec2463",
       "value": "<b>appInsightsEnabled:</b>"
      }
     },
     "c82587985ed449adb29ab6a90084a5f2": {
      "model_module": "@jupyter-widgets/controls",
      "model_module_version": "1.5.0",
      "model_name": "DescriptionStyleModel",
      "state": {
       "description_width": ""
      }
     },
     "c8361cffa61e42cab05703ff2b2514d7": {
      "model_module": "@jupyter-widgets/controls",
      "model_module_version": "1.5.0",
      "model_name": "DescriptionStyleModel",
      "state": {
       "description_width": ""
      }
     },
     "c836ed296409406eb40679931b3eca3b": {
      "model_module": "@jupyter-widgets/controls",
      "model_module_version": "1.5.0",
      "model_name": "LabelModel",
      "state": {
       "layout": "IPY_MODEL_a520d8b0931d44658e00bed9ac15b513",
       "style": "IPY_MODEL_a43091e2f4ba4869a3246793c7342141",
       "value": "None"
      }
     },
     "c839ae48f1a548b1806a81cb4fa39aa4": {
      "model_module": "@jupyter-widgets/base",
      "model_module_version": "1.2.0",
      "model_name": "LayoutModel",
      "state": {}
     },
     "c83ec37dcd694e6989039d7c9d729e04": {
      "model_module": "@jupyter-widgets/controls",
      "model_module_version": "1.5.0",
      "model_name": "HTMLModel",
      "state": {
       "layout": "IPY_MODEL_d2cc59b9241f4c329748d0e6e733cd3a",
       "style": "IPY_MODEL_8a8bb90863c84740b6469afced05aef5",
       "value": "<b>description:</b>"
      }
     },
     "c85b614c79a44f918321119f6b0a0888": {
      "model_module": "@jupyter-widgets/controls",
      "model_module_version": "1.5.0",
      "model_name": "HTMLModel",
      "state": {
       "layout": "IPY_MODEL_612c5354002c49f38d2ec93c2d55e1fc",
       "style": "IPY_MODEL_f6e5d1d89eda4e859a2619111be1f407",
       "value": "<b>mlflow.source.git.commit:</b>"
      }
     },
     "c864ccd3244b44df9927fe4d2ca925f9": {
      "model_module": "@jupyter-widgets/base",
      "model_module_version": "1.2.0",
      "model_name": "LayoutModel",
      "state": {}
     },
     "c8742b978ce74e8aa733174793ee21da": {
      "model_module": "@jupyter-widgets/base",
      "model_module_version": "1.2.0",
      "model_name": "LayoutModel",
      "state": {}
     },
     "c886d3edf33b4683a621a3a8d41b26f6": {
      "model_module": "@jupyter-widgets/controls",
      "model_module_version": "1.5.0",
      "model_name": "HBoxModel",
      "state": {
       "children": [
        "IPY_MODEL_dc502fe70b1f4ac3aa96d86b95488050",
        "IPY_MODEL_d3746e5f44fd4b228e00ba4c01f3e655"
       ],
       "layout": "IPY_MODEL_1ca59d00f1e240cb8516aaa7ce82426d"
      }
     },
     "c88ac3edd4f94abc8588c9cda517169b": {
      "model_module": "@jupyter-widgets/controls",
      "model_module_version": "1.5.0",
      "model_name": "DescriptionStyleModel",
      "state": {
       "description_width": ""
      }
     },
     "c894f8703784466fb3cff4c33e87d5ef": {
      "model_module": "@jupyter-widgets/controls",
      "model_module_version": "1.5.0",
      "model_name": "HBoxModel",
      "state": {
       "children": [
        "IPY_MODEL_8b22837053d14a849553404d1ba07836",
        "IPY_MODEL_1e6ee877bcf44c2087592a6634d987e4"
       ],
       "layout": "IPY_MODEL_6474b74e29194bdc8e038084482ca998"
      }
     },
     "c8c288ee287c4d3f815296b12a0e2b77": {
      "model_module": "@jupyter-widgets/base",
      "model_module_version": "1.2.0",
      "model_name": "LayoutModel",
      "state": {}
     },
     "c8c8c949cacf4757a5ef7c0d82eece48": {
      "model_module": "@jupyter-widgets/base",
      "model_module_version": "1.2.0",
      "model_name": "LayoutModel",
      "state": {}
     },
     "c904c1cccda74a8aa68c354ae9406df8": {
      "model_module": "@jupyter-widgets/controls",
      "model_module_version": "1.5.0",
      "model_name": "HBoxModel",
      "state": {
       "children": [
        "IPY_MODEL_d85a6dd95652430488a5d4b2551a920b",
        "IPY_MODEL_b7afb4eabe2a426d97458bacc8cb2d6f"
       ],
       "layout": "IPY_MODEL_a3bb5a80bf9e44e1ba55dc92a6f98eaa"
      }
     },
     "c91f415522f44414a455779f0378c150": {
      "model_module": "@jupyter-widgets/controls",
      "model_module_version": "1.5.0",
      "model_name": "HBoxModel",
      "state": {
       "children": [
        "IPY_MODEL_c83ec37dcd694e6989039d7c9d729e04",
        "IPY_MODEL_ca1526dc0ce2477195e33882ceb528fb"
       ],
       "layout": "IPY_MODEL_4243511e38de45b0872025051d6b2d82"
      }
     },
     "c95a907567dc4583ad294e21036c2a2a": {
      "model_module": "@jupyter-widgets/base",
      "model_module_version": "1.2.0",
      "model_name": "LayoutModel",
      "state": {}
     },
     "c98536cf9ff1451e9d2a98bb6067b49e": {
      "model_module": "@jupyter-widgets/controls",
      "model_module_version": "1.5.0",
      "model_name": "DescriptionStyleModel",
      "state": {
       "description_width": ""
      }
     },
     "c99fd4811def498a815dff0641587041": {
      "model_module": "@jupyter-widgets/controls",
      "model_module_version": "1.5.0",
      "model_name": "DescriptionStyleModel",
      "state": {
       "description_width": "initial"
      }
     },
     "c9a9f4ffc6204fbfb043714477dd9972": {
      "model_module": "@jupyter-widgets/controls",
      "model_module_version": "1.5.0",
      "model_name": "HBoxModel",
      "state": {
       "children": [
        "IPY_MODEL_c3de7b6abfa24cea978f8d6eb5af08b1",
        "IPY_MODEL_69dd33edfeb94e7b9f2d26110ff70806"
       ],
       "layout": "IPY_MODEL_dc50a399831645d985ad4753fc8f63bd"
      }
     },
     "c9c4f0acfea84d6eac4bcd6d40451d78": {
      "model_module": "@jupyter-widgets/controls",
      "model_module_version": "1.5.0",
      "model_name": "HBoxModel",
      "state": {
       "children": [
        "IPY_MODEL_1607d73b65504eab971a92442e7bde2f",
        "IPY_MODEL_a84167a1231a4564a3202596eed0bc11"
       ],
       "layout": "IPY_MODEL_26836d4fc1ea4387a0db6d184d332627"
      }
     },
     "c9d8c9d408d34516851712345c7f17d7": {
      "model_module": "@jupyter-widgets/base",
      "model_module_version": "1.2.0",
      "model_name": "LayoutModel",
      "state": {}
     },
     "c9d92d8431f845869b2510c6b8b42db2": {
      "model_module": "@jupyter-widgets/base",
      "model_module_version": "1.2.0",
      "model_name": "LayoutModel",
      "state": {}
     },
     "ca095fe7fc784b1b94205f20809b7af1": {
      "model_module": "@jupyter-widgets/base",
      "model_module_version": "1.2.0",
      "model_name": "LayoutModel",
      "state": {}
     },
     "ca1526dc0ce2477195e33882ceb528fb": {
      "model_module": "@jupyter-widgets/controls",
      "model_module_version": "1.5.0",
      "model_name": "LabelModel",
      "state": {
       "layout": "IPY_MODEL_14bee6c14c3f49ef8658e5a8ae836919",
       "style": "IPY_MODEL_aa9ba41d5d3441ec8975f04c9c7a1051",
       "value": "None"
      }
     },
     "ca22c8cb5388447ebc7e4240ef95c998": {
      "model_module": "@jupyter-widgets/controls",
      "model_module_version": "1.5.0",
      "model_name": "HBoxModel",
      "state": {
       "children": [
        "IPY_MODEL_8f2360f73006462ab6f5085ad13dc55a",
        "IPY_MODEL_d028ba16a9ac47b4818284abc1ead2de"
       ],
       "layout": "IPY_MODEL_a56a5d92eb3a4f3c95dac22258bc1eec"
      }
     },
     "ca25ab5b34e9408aa12437bbfcff5dff": {
      "model_module": "@jupyter-widgets/base",
      "model_module_version": "1.2.0",
      "model_name": "LayoutModel",
      "state": {}
     },
     "ca2fc1da7eff4fd1974b9d9d4ca9581f": {
      "model_module": "@jupyter-widgets/controls",
      "model_module_version": "1.5.0",
      "model_name": "LabelModel",
      "state": {
       "layout": "IPY_MODEL_53470b14088643ccb275b5dba34870bf",
       "style": "IPY_MODEL_4a72381a0dae4d7f81bdcda60d350a96",
       "value": "Custom"
      }
     },
     "ca3cd8dad16e45379b6cc7535d39d55d": {
      "model_module": "@jupyter-widgets/base",
      "model_module_version": "1.2.0",
      "model_name": "LayoutModel",
      "state": {}
     },
     "ca86795b59dd49868e93922bbd4d0369": {
      "model_module": "@jupyter-widgets/controls",
      "model_module_version": "1.5.0",
      "model_name": "HBoxModel",
      "state": {
       "children": [
        "IPY_MODEL_204aeff028424b20a65462930ed74505",
        "IPY_MODEL_094c3ca2541f4de0af985fe5368e2725"
       ],
       "layout": "IPY_MODEL_a131694ab61e45ca9af90599576bef76"
      }
     },
     "ca98de2ea248462984672af625f642f8": {
      "model_module": "@jupyter-widgets/controls",
      "model_module_version": "1.5.0",
      "model_name": "LabelModel",
      "state": {
       "layout": "IPY_MODEL_ce519e4cd77f4a8394b8f263a40e80a0",
       "style": "IPY_MODEL_52f78ce559c241b0b55ee31ca406127f",
       "value": "1"
      }
     },
     "caab35be39ed4d38ac9f83e7f8b39d9f": {
      "model_module": "@jupyter-widgets/controls",
      "model_module_version": "1.5.0",
      "model_name": "DescriptionStyleModel",
      "state": {
       "description_width": ""
      }
     },
     "cad6beedc5764fca94cad74dd9528157": {
      "model_module": "@jupyter-widgets/controls",
      "model_module_version": "1.5.0",
      "model_name": "HBoxModel",
      "state": {
       "children": [
        "IPY_MODEL_f9da1d349d29473bb5403de150494803",
        "IPY_MODEL_12d4405258424d84894fa60c5bd363cc"
       ],
       "layout": "IPY_MODEL_e9fd1683f37e48e49baa2a6055cfb029"
      }
     },
     "caec676f56c04f7097572174288dbba7": {
      "model_module": "@jupyter-widgets/base",
      "model_module_version": "1.2.0",
      "model_name": "LayoutModel",
      "state": {}
     },
     "caeda13cee9e40cdaecfb6f3f4dbbfc4": {
      "model_module": "@jupyter-widgets/controls",
      "model_module_version": "1.5.0",
      "model_name": "DescriptionStyleModel",
      "state": {
       "description_width": ""
      }
     },
     "cb4bd91ea9ca47faae443546bb391b14": {
      "model_module": "@jupyter-widgets/controls",
      "model_module_version": "1.5.0",
      "model_name": "HTMLModel",
      "state": {
       "layout": "IPY_MODEL_3baf4e17e0a54cf4aff3199fe60e44ca",
       "style": "IPY_MODEL_0ddf06d1290c4fafb9f507ed0decee26",
       "value": "<b>userIdp:</b>"
      }
     },
     "cb4ef060866b46ae865558a324733092": {
      "model_module": "@jupyter-widgets/controls",
      "model_module_version": "1.5.0",
      "model_name": "DescriptionStyleModel",
      "state": {
       "description_width": ""
      }
     },
     "cb7e6c5ab06048f789e48c73d58f737c": {
      "model_module": "@jupyter-widgets/controls",
      "model_module_version": "1.5.0",
      "model_name": "DescriptionStyleModel",
      "state": {
       "description_width": ""
      }
     },
     "cba8f2601d6f43f3826a60979182d7bf": {
      "model_module": "@jupyter-widgets/controls",
      "model_module_version": "1.5.0",
      "model_name": "DescriptionStyleModel",
      "state": {
       "description_width": ""
      }
     },
     "cbb8b35564ab426eb722d8cff689121f": {
      "model_module": "@jupyter-widgets/base",
      "model_module_version": "1.2.0",
      "model_name": "LayoutModel",
      "state": {}
     },
     "cbd8071c56564e0aaa3a15226ed60033": {
      "model_module": "@jupyter-widgets/base",
      "model_module_version": "1.2.0",
      "model_name": "LayoutModel",
      "state": {}
     },
     "cc0c1a8fae194b91a4aad5b19f1742ff": {
      "model_module": "@jupyter-widgets/controls",
      "model_module_version": "1.5.0",
      "model_name": "DescriptionStyleModel",
      "state": {
       "description_width": ""
      }
     },
     "cc96807f2a0d4bef91dd07115ca5e337": {
      "model_module": "@jupyter-widgets/base",
      "model_module_version": "1.2.0",
      "model_name": "LayoutModel",
      "state": {}
     },
     "cc9c085f1334404190dcfcd94b85772d": {
      "model_module": "@jupyter-widgets/controls",
      "model_module_version": "1.5.0",
      "model_name": "AccordionModel",
      "state": {
       "_titles": {
        "0": "environmentDetails"
       },
       "children": [
        "IPY_MODEL_a2d87cd7b10f41819cb9b462af74510e"
       ],
       "layout": "IPY_MODEL_2ca2413baa724dc8ba7385e527b0e616"
      }
     },
     "ccb350151b5e490593a42017297065d7": {
      "model_module": "@jupyter-widgets/base",
      "model_module_version": "1.2.0",
      "model_name": "LayoutModel",
      "state": {}
     },
     "ccec7fd9a686404d9b03ad87681f0567": {
      "model_module": "@jupyter-widgets/base",
      "model_module_version": "1.2.0",
      "model_name": "LayoutModel",
      "state": {}
     },
     "ccf9e293321d46e2bafa259782f4c402": {
      "model_module": "@jupyter-widgets/controls",
      "model_module_version": "1.5.0",
      "model_name": "VBoxModel",
      "state": {
       "children": [
        "IPY_MODEL_6ec5a65eba874fd3b0fa6271cadee7d5",
        "IPY_MODEL_9872fe39bfc94ee89994202a082eaed0",
        "IPY_MODEL_80acd029e59e4711a7f4c81b60935924",
        "IPY_MODEL_12fef67faa38462fa90d03056968a26f",
        "IPY_MODEL_1081f69ad2214072aee254ba59daca3d",
        "IPY_MODEL_1850e4ba62594540b4153088e059e1ef",
        "IPY_MODEL_de814c3dcf8e46a1883493234fb0fb62"
       ],
       "layout": "IPY_MODEL_7c776a0ac38e4cbf9bfd40fbbc21d60f"
      }
     },
     "cdcf1405a5cc4a8e8ef864de75422f97": {
      "model_module": "@jupyter-widgets/base",
      "model_module_version": "1.2.0",
      "model_name": "LayoutModel",
      "state": {}
     },
     "cdff0e6be1b64f8f9f7b03bf01b4d751": {
      "model_module": "@jupyter-widgets/base",
      "model_module_version": "1.2.0",
      "model_name": "LayoutModel",
      "state": {}
     },
     "ce09ebc0fea8415691235dfe08bb822a": {
      "model_module": "@jupyter-widgets/base",
      "model_module_version": "1.2.0",
      "model_name": "LayoutModel",
      "state": {}
     },
     "ce209eb35293432aabb585bb0cb4bf83": {
      "model_module": "@jupyter-widgets/controls",
      "model_module_version": "1.5.0",
      "model_name": "DescriptionStyleModel",
      "state": {
       "description_width": ""
      }
     },
     "ce23b83863a243679bd535cb2d7035f5": {
      "model_module": "@jupyter-widgets/base",
      "model_module_version": "1.2.0",
      "model_name": "LayoutModel",
      "state": {}
     },
     "ce38c1d30a70481f8701980a97c3db5e": {
      "model_module": "@jupyter-widgets/base",
      "model_module_version": "1.2.0",
      "model_name": "LayoutModel",
      "state": {}
     },
     "ce497ed8c793466aab073cfea0f857d1": {
      "model_module": "@jupyter-widgets/base",
      "model_module_version": "1.2.0",
      "model_name": "LayoutModel",
      "state": {}
     },
     "ce519e4cd77f4a8394b8f263a40e80a0": {
      "model_module": "@jupyter-widgets/base",
      "model_module_version": "1.2.0",
      "model_name": "LayoutModel",
      "state": {}
     },
     "ce60b91cf5da4f6e9e8072990b2c859d": {
      "model_module": "@jupyter-widgets/controls",
      "model_module_version": "1.5.0",
      "model_name": "DescriptionStyleModel",
      "state": {
       "description_width": ""
      }
     },
     "ced8f9f53c87416c9b8f075c8ed9959b": {
      "model_module": "@jupyter-widgets/base",
      "model_module_version": "1.2.0",
      "model_name": "LayoutModel",
      "state": {}
     },
     "cf179385bdd24d3cabb8ca8da829fc19": {
      "model_module": "@jupyter-widgets/controls",
      "model_module_version": "1.5.0",
      "model_name": "LabelModel",
      "state": {
       "layout": "IPY_MODEL_5007e331e9f54dc39931e33ce4e86f17",
       "style": "IPY_MODEL_bf236e0e820d49c8a7dd8e2eb779bb7a",
       "value": "dlrts-train-on-local_1583283740_f474032a"
      }
     },
     "cf37b9c720d7458fa0ec25a1233e8cd2": {
      "model_module": "@jupyter-widgets/base",
      "model_module_version": "1.2.0",
      "model_name": "LayoutModel",
      "state": {}
     },
     "cf537d6ef305429eaac862ebc9d0f98b": {
      "model_module": "@jupyter-widgets/controls",
      "model_module_version": "1.5.0",
      "model_name": "DescriptionStyleModel",
      "state": {
       "description_width": ""
      }
     },
     "cf82cfc4f48447b28fe8c4633b1912b4": {
      "model_module": "@jupyter-widgets/controls",
      "model_module_version": "1.5.0",
      "model_name": "HBoxModel",
      "state": {
       "children": [
        "IPY_MODEL_ba1b7637f8fc48369abbf88d06b20019",
        "IPY_MODEL_4c2490fccb6d4eaeb7cf6dfd6ce61192"
       ],
       "layout": "IPY_MODEL_a4e04262352f4f13bd0d91015f9c0e40"
      }
     },
     "cfa1e7266c13438dbaf92eaac704643a": {
      "model_module": "@jupyter-widgets/controls",
      "model_module_version": "1.5.0",
      "model_name": "HBoxModel",
      "state": {
       "children": [
        "IPY_MODEL_8bf8e46daf524f3da811903d6178187a",
        "IPY_MODEL_9a0f60c5345044d5a9f2a7912df12b86"
       ],
       "layout": "IPY_MODEL_736a1835af2f4545810fe7c530e9ec3e"
      }
     },
     "cfaa06a186ea4f2599facea927576621": {
      "model_module": "@jupyter-widgets/controls",
      "model_module_version": "1.5.0",
      "model_name": "FileUploadModel",
      "state": {
       "accept": ".yml",
       "description_tooltip": null,
       "layout": "IPY_MODEL_80dcba9d2c16404faca8b4e077ccfac4",
       "style": "IPY_MODEL_58350d7113b04985be3eeca386b6c3f1"
      }
     },
     "cfd5d16979ef47c5b4ef45e163a42f73": {
      "model_module": "@jupyter-widgets/base",
      "model_module_version": "1.2.0",
      "model_name": "LayoutModel",
      "state": {}
     },
     "d01f68c89f96443ca1d081b290ec9db1": {
      "model_module": "@jupyter-widgets/controls",
      "model_module_version": "1.5.0",
      "model_name": "HTMLModel",
      "state": {
       "layout": "IPY_MODEL_a78c4d081afd4553b06e4fea9ac72c93",
       "style": "IPY_MODEL_50a036c76398465dbe4d686a5663f600",
       "value": "<b>imageDigest:</b>"
      }
     },
     "d028ba16a9ac47b4818284abc1ead2de": {
      "model_module": "@jupyter-widgets/controls",
      "model_module_version": "1.5.0",
      "model_name": "LabelModel",
      "state": {
       "layout": "IPY_MODEL_4c86e0994d754a9796506cc7f815f077",
       "style": "IPY_MODEL_9d0c6b17d05348e0a5302c1900843921",
       "value": "500"
      }
     },
     "d02946a1706f40099c6c871be52855f1": {
      "model_module": "@jupyter-widgets/controls",
      "model_module_version": "1.5.0",
      "model_name": "LabelModel",
      "state": {
       "layout": "IPY_MODEL_b5320be86af84fd797f4ce9c3df1cbea",
       "style": "IPY_MODEL_87d54583e53f446a9d43eada44f59b4f",
       "value": "False"
      }
     },
     "d062773aaa194c729ffde4db7a519ff6": {
      "model_module": "@jupyter-widgets/controls",
      "model_module_version": "1.5.0",
      "model_name": "DescriptionStyleModel",
      "state": {
       "description_width": ""
      }
     },
     "d086a173a44347eba8359af18af866d5": {
      "model_module": "@jupyter-widgets/controls",
      "model_module_version": "1.5.0",
      "model_name": "DescriptionStyleModel",
      "state": {
       "description_width": ""
      }
     },
     "d0d31192f9cf4489ae7e529948041f9d": {
      "model_module": "@jupyter-widgets/controls",
      "model_module_version": "1.5.0",
      "model_name": "DescriptionStyleModel",
      "state": {
       "description_width": ""
      }
     },
     "d0ddcc0e50274db4b1bd17f2ad05c4ff": {
      "model_module": "@jupyter-widgets/base",
      "model_module_version": "1.2.0",
      "model_name": "LayoutModel",
      "state": {}
     },
     "d0e8a1aa798f41e3843d38e99114ba78": {
      "model_module": "@jupyter-widgets/controls",
      "model_module_version": "1.5.0",
      "model_name": "LabelModel",
      "state": {
       "layout": "IPY_MODEL_182362dbc59f4b70be8f36a8afcef693",
       "style": "IPY_MODEL_5499392ad7a040b5b88a2f8c88887e64",
       "value": "e6cc2e17-5968-49e6-bb8f-9fb978a0d450"
      }
     },
     "d115165b85bf4478b8eb46690817ec78": {
      "model_module": "@jupyter-widgets/controls",
      "model_module_version": "1.5.0",
      "model_name": "DescriptionStyleModel",
      "state": {
       "description_width": ""
      }
     },
     "d122d2f1fa3246228892bd744ef3d695": {
      "model_module": "@jupyter-widgets/controls",
      "model_module_version": "1.5.0",
      "model_name": "DescriptionStyleModel",
      "state": {
       "description_width": ""
      }
     },
     "d12ab50755d54ea28b30ebe824267995": {
      "model_module": "@jupyter-widgets/controls",
      "model_module_version": "1.5.0",
      "model_name": "DescriptionStyleModel",
      "state": {
       "description_width": ""
      }
     },
     "d13dd40bd7de4844bd850eed9899bf57": {
      "model_module": "@jupyter-widgets/output",
      "model_module_version": "1.0.0",
      "model_name": "OutputModel",
      "state": {
       "layout": "IPY_MODEL_78524b62b12e486ebcdd1531e8a4b2aa",
       "outputs": [
        {
         "name": "stdout",
         "output_type": "stream",
         "text": "Begin Deployment.\nStep 1: Get or Create Model\nCheck if Model exists.\nModel does exists.\nStep 2: Create Inference Configuration\nStep 3: Get or Create Kubernetes Cluster\nCheck if Cluster exists.\nCluster does exists.\nStep 4: Get or Create Web Service\nCheck if AKS Service Exists\nAKS Service Exists\nAll Steps Completed\nDeploy Complete\n"
        },
        {
         "data": {
          "application/vnd.jupyter.widget-view+json": {
           "model_id": "427f6a9cb8034a1f8d2a48e558686c24",
           "version_major": 2,
           "version_minor": 0
          },
          "text/plain": "Tab(children=(Accordion(children=(HTML(value='<img src=\"https://raw.githubusercontent.com/microsoft/AI-Utiliti…"
         },
         "metadata": {},
         "output_type": "display_data"
        }
       ]
      }
     },
     "d154183a9f1444819568537436a03143": {
      "model_module": "@jupyter-widgets/controls",
      "model_module_version": "1.5.0",
      "model_name": "DescriptionStyleModel",
      "state": {
       "description_width": ""
      }
     },
     "d160ee22adf547e39b4d1a4069f8383f": {
      "model_module": "@jupyter-widgets/base",
      "model_module_version": "1.2.0",
      "model_name": "LayoutModel",
      "state": {}
     },
     "d19f2a53374f4da28b33b48a9a2cfc98": {
      "model_module": "@jupyter-widgets/controls",
      "model_module_version": "1.5.0",
      "model_name": "DescriptionStyleModel",
      "state": {
       "description_width": ""
      }
     },
     "d1b2ee21ae7d4d31a4930461dbca09b8": {
      "model_module": "@jupyter-widgets/controls",
      "model_module_version": "1.5.0",
      "model_name": "VBoxModel",
      "state": {
       "children": [
        "IPY_MODEL_68cecc4186d741ae8c7cee2c89b7b716",
        "IPY_MODEL_4102c819d35a4f508eb479de24f4944a",
        "IPY_MODEL_0da449f016784e1d97122895283199a8",
        "IPY_MODEL_3abae71d7925453e83d61adfabcf1fc4",
        "IPY_MODEL_06fbef16d61c463ca923d976bf834532"
       ],
       "layout": "IPY_MODEL_bd9f4bf99f6344659f544c03b45b29d9"
      }
     },
     "d1bb4f309de94954aaf4fe81a99a0881": {
      "model_module": "@jupyter-widgets/controls",
      "model_module_version": "1.5.0",
      "model_name": "HBoxModel",
      "state": {
       "children": [
        "IPY_MODEL_0f85c3112e2d4ed68d0e8bbcf2937c42",
        "IPY_MODEL_70811d926017468ca99f8dd7a739073c"
       ],
       "layout": "IPY_MODEL_3239a4b5b54d4b0ba1cba302c586319c"
      }
     },
     "d1e17e295b364d98b83e0a922d5b84de": {
      "model_module": "@jupyter-widgets/controls",
      "model_module_version": "1.5.0",
      "model_name": "DescriptionStyleModel",
      "state": {
       "description_width": ""
      }
     },
     "d21531ecda7f4b23b8867acb4cf12602": {
      "model_module": "@jupyter-widgets/controls",
      "model_module_version": "1.5.0",
      "model_name": "LabelModel",
      "state": {
       "layout": "IPY_MODEL_4307f828d8ae4c3ea1e6d4522ca69df5",
       "style": "IPY_MODEL_32eac12ccc574154b032f45b552268d2",
       "value": "None"
      }
     },
     "d2184cda87a44fa48fc776dfb9649d96": {
      "model_module": "@jupyter-widgets/controls",
      "model_module_version": "1.5.0",
      "model_name": "LabelModel",
      "state": {
       "layout": "IPY_MODEL_28261d68256d42d5bc0b5631534b709a",
       "style": "IPY_MODEL_5350bc598f554ba5bdb2ac0253096604",
       "value": "310"
      }
     },
     "d2186c05085641ba962e5804e0f5dfc0": {
      "model_module": "@jupyter-widgets/controls",
      "model_module_version": "1.5.0",
      "model_name": "LabelModel",
      "state": {
       "layout": "IPY_MODEL_01da7c3753574215a1b60d49205207fa",
       "style": "IPY_MODEL_09198dc310b24ef8b4a906cef845e670",
       "value": "Daniel Ciborowski"
      }
     },
     "d228c02625f14b48a94b7155faf19484": {
      "model_module": "@jupyter-widgets/controls",
      "model_module_version": "1.5.0",
      "model_name": "HBoxModel",
      "state": {
       "children": [
        "IPY_MODEL_4e791584df63467fba6c1a541166fc68",
        "IPY_MODEL_98785d89b99f465894b66c78b213a86e"
       ],
       "layout": "IPY_MODEL_871e11ea52dd4cee81934d3b1b91c44e"
      }
     },
     "d2546bde6f984fcea69780853adaa452": {
      "model_module": "@jupyter-widgets/controls",
      "model_module_version": "1.5.0",
      "model_name": "DescriptionStyleModel",
      "state": {
       "description_width": ""
      }
     },
     "d276e6ac27e548b0b0972144d49dd332": {
      "model_module": "@jupyter-widgets/base",
      "model_module_version": "1.2.0",
      "model_name": "LayoutModel",
      "state": {}
     },
     "d292397b867f4452a218230f85e29ad4": {
      "model_module": "@jupyter-widgets/controls",
      "model_module_version": "1.5.0",
      "model_name": "LabelModel",
      "state": {
       "layout": "IPY_MODEL_fae0e96a06de46248b051712f4431af8",
       "style": "IPY_MODEL_1ec1a5d082b44a9c9f79cbcbc822e779",
       "value": "Daniel Ciborowski"
      }
     },
     "d29f52df8b55464b9dcbbaa255e90064": {
      "model_module": "@jupyter-widgets/controls",
      "model_module_version": "1.5.0",
      "model_name": "HTMLModel",
      "state": {
       "layout": "IPY_MODEL_bd68f67627e14ef19ae1dd041f9c8580",
       "style": "IPY_MODEL_28d422f546274e4892355c490e970f38",
       "value": "<b>createdTime:</b>"
      }
     },
     "d2cc59b9241f4c329748d0e6e733cd3a": {
      "model_module": "@jupyter-widgets/base",
      "model_module_version": "1.2.0",
      "model_name": "LayoutModel",
      "state": {}
     },
     "d2cd7bcc35ee4089a8d7c62a0ce3d072": {
      "model_module": "@jupyter-widgets/controls",
      "model_module_version": "1.5.0",
      "model_name": "HTMLModel",
      "state": {
       "layout": "IPY_MODEL_d94206f54f104a2d86cdf0c1030bba29",
       "style": "IPY_MODEL_a40cf2496e084e4282c5c2951ff8a077",
       "value": "<b>statusCode:</b>"
      }
     },
     "d3601fba9f8b46e7baa274bf50935b07": {
      "model_module": "@jupyter-widgets/controls",
      "model_module_version": "1.5.0",
      "model_name": "DescriptionStyleModel",
      "state": {
       "description_width": ""
      }
     },
     "d36d2acb6def4b4bbdec6de234b5a3d6": {
      "model_module": "@jupyter-widgets/base",
      "model_module_version": "1.2.0",
      "model_name": "LayoutModel",
      "state": {}
     },
     "d36e5bc1d8f5477dbb6b9551bae64a20": {
      "model_module": "@jupyter-widgets/controls",
      "model_module_version": "1.5.0",
      "model_name": "DescriptionStyleModel",
      "state": {
       "description_width": ""
      }
     },
     "d3746e5f44fd4b228e00ba4c01f3e655": {
      "model_module": "@jupyter-widgets/controls",
      "model_module_version": "1.5.0",
      "model_name": "LabelModel",
      "state": {
       "layout": "IPY_MODEL_b3a4ebb294214a9ea289693610792db6",
       "style": "IPY_MODEL_0b6158e269564da9803f14497f148e04",
       "value": "dciborow/no-cli"
      }
     },
     "d3821f27596047dea5173a90d7fa129c": {
      "model_module": "@jupyter-widgets/controls",
      "model_module_version": "1.5.0",
      "model_name": "VBoxModel",
      "state": {
       "children": [
        "IPY_MODEL_73b4952122bd43009d72e2449bfe3eee"
       ],
       "layout": "IPY_MODEL_04a7bf9fb8504148b8b11f77194ec2b5"
      }
     },
     "d3ad77a85c97491189203fdc9a7df465": {
      "model_module": "@jupyter-widgets/controls",
      "model_module_version": "1.5.0",
      "model_name": "HTMLModel",
      "state": {
       "layout": "IPY_MODEL_a4449820c9154a77b2cc419a10c82818",
       "style": "IPY_MODEL_0e9c9bb294b2422b9fcef6af15a8817c",
       "value": "<b>userName:</b>"
      }
     },
     "d3bfd713dbc64781be2f6be018b9530b": {
      "model_module": "@jupyter-widgets/base",
      "model_module_version": "1.2.0",
      "model_name": "LayoutModel",
      "state": {}
     },
     "d4125e69c67041a8a2ae69d187daefc5": {
      "model_module": "@jupyter-widgets/base",
      "model_module_version": "1.2.0",
      "model_name": "LayoutModel",
      "state": {}
     },
     "d4206d2efe8a46f5a615c338c96b7543": {
      "model_module": "@jupyter-widgets/base",
      "model_module_version": "1.2.0",
      "model_name": "LayoutModel",
      "state": {}
     },
     "d4485d4ee3a044aea784a63b220e9505": {
      "model_module": "@jupyter-widgets/controls",
      "model_module_version": "1.5.0",
      "model_name": "DescriptionStyleModel",
      "state": {
       "description_width": "initial"
      }
     },
     "d46ce548e9cb4971b3c40c539cd62e15": {
      "model_module": "@jupyter-widgets/controls",
      "model_module_version": "1.5.0",
      "model_name": "LabelModel",
      "state": {
       "layout": "IPY_MODEL_df290c179eb0497b9dd5217f3d5d2f43",
       "style": "IPY_MODEL_d115165b85bf4478b8eb46690817ec78",
       "value": "1"
      }
     },
     "d47eb41535434673942ae5d1a0411db8": {
      "model_module": "@jupyter-widgets/base",
      "model_module_version": "1.2.0",
      "model_name": "LayoutModel",
      "state": {}
     },
     "d4c26be010a947c0979c61e6e87ae1d1": {
      "model_module": "@jupyter-widgets/controls",
      "model_module_version": "1.5.0",
      "model_name": "VBoxModel",
      "state": {
       "children": [
        "IPY_MODEL_6f374740cd3e4f5cb8ce0a125bde71fb",
        "IPY_MODEL_746efef7c2884318bed06dd5caf6dd05"
       ],
       "layout": "IPY_MODEL_6af3341cdab043d3bb0977fdc5b103a8"
      }
     },
     "d4cb4b3664134b3a96586fdf6ab48fc0": {
      "model_module": "@jupyter-widgets/controls",
      "model_module_version": "1.5.0",
      "model_name": "LabelModel",
      "state": {
       "layout": "IPY_MODEL_455ebeb76e6340028510d8834aef5fbc",
       "style": "IPY_MODEL_c47eabdfee7041a194d8a1a237467d5a",
       "value": "None"
      }
     },
     "d4eee2ca3b724b99ab63b719ad4011df": {
      "model_module": "@jupyter-widgets/controls",
      "model_module_version": "1.5.0",
      "model_name": "HBoxModel",
      "state": {
       "children": [
        "IPY_MODEL_bea254670fea41b782f6d11848bf6c84",
        "IPY_MODEL_acf323fce15b4d28871c691100bfa236"
       ],
       "layout": "IPY_MODEL_42de020fa69845a1b7d8424c0bf55f8b"
      }
     },
     "d4fc21d245724c5597141adf4689adcf": {
      "model_module": "@jupyter-widgets/base",
      "model_module_version": "1.2.0",
      "model_name": "LayoutModel",
      "state": {}
     },
     "d507edea85594fd390d4af3a5484b1bb": {
      "model_module": "@jupyter-widgets/controls",
      "model_module_version": "1.5.0",
      "model_name": "HTMLModel",
      "state": {
       "layout": "IPY_MODEL_99964851ca88435fb023248c69cb8a16",
       "style": "IPY_MODEL_9e6c46b87db84da1a27a7b8f1d91d037",
       "value": "<b>createdTime:</b>"
      }
     },
     "d5176c63e79a4aeb992377c2bc61274a": {
      "model_module": "@jupyter-widgets/controls",
      "model_module_version": "1.5.0",
      "model_name": "LabelModel",
      "state": {
       "layout": "IPY_MODEL_dca5bb01353d4aec94f5ef6458be84db",
       "style": "IPY_MODEL_d68c13c8721f42448d7472ae9720dce9",
       "value": "1003BFFD8BE61032"
      }
     },
     "d51c525070c34215abd11592fc48a1b2": {
      "model_module": "@jupyter-widgets/controls",
      "model_module_version": "1.5.0",
      "model_name": "HBoxModel",
      "state": {
       "children": [
        "IPY_MODEL_19f856c8e23a4cdcb326a7a9b0d46d2b",
        "IPY_MODEL_bf789c1b7128493e80f720fe098c1e0d"
       ],
       "layout": "IPY_MODEL_aa030f810fac4028982f5ba5e84c470b"
      }
     },
     "d569308451684e95b19e6c5df17c05c9": {
      "model_module": "@jupyter-widgets/base",
      "model_module_version": "1.2.0",
      "model_name": "LayoutModel",
      "state": {}
     },
     "d57db8e0e0b24ef1bab0a46825175cd4": {
      "model_module": "@jupyter-widgets/base",
      "model_module_version": "1.2.0",
      "model_name": "LayoutModel",
      "state": {}
     },
     "d5b4ffbb67b442cc9b967e6c9dfb1df9": {
      "model_module": "@jupyter-widgets/controls",
      "model_module_version": "1.5.0",
      "model_name": "DescriptionStyleModel",
      "state": {
       "description_width": ""
      }
     },
     "d5c86036a8ec48f28239e743f5c306e1": {
      "model_module": "@jupyter-widgets/base",
      "model_module_version": "1.2.0",
      "model_name": "LayoutModel",
      "state": {}
     },
     "d65df4f2357d403fb4e730cc95d6b3a0": {
      "model_module": "@jupyter-widgets/base",
      "model_module_version": "1.2.0",
      "model_name": "LayoutModel",
      "state": {}
     },
     "d66a0db599a74e5b8d691c76097affa7": {
      "model_module": "@jupyter-widgets/base",
      "model_module_version": "1.2.0",
      "model_name": "LayoutModel",
      "state": {}
     },
     "d68c13c8721f42448d7472ae9720dce9": {
      "model_module": "@jupyter-widgets/controls",
      "model_module_version": "1.5.0",
      "model_name": "DescriptionStyleModel",
      "state": {
       "description_width": ""
      }
     },
     "d69509aec62040cc9985c92c5293464e": {
      "model_module": "@jupyter-widgets/base",
      "model_module_version": "1.2.0",
      "model_name": "LayoutModel",
      "state": {}
     },
     "d6987c192aa345e886a14bf6296e11ff": {
      "model_module": "@jupyter-widgets/controls",
      "model_module_version": "1.5.0",
      "model_name": "HTMLModel",
      "state": {
       "layout": "IPY_MODEL_2c9947b18e5d45239eaff34e2edda621",
       "style": "IPY_MODEL_65a9ad17cf504706b69e875fd0cc7b2f",
       "value": "<b>userName:</b>"
      }
     },
     "d6a6876a703b413bb3e4b9d05be0e95e": {
      "model_module": "@jupyter-widgets/controls",
      "model_module_version": "1.5.0",
      "model_name": "HTMLModel",
      "state": {
       "layout": "IPY_MODEL_f765a67377554d09acc9fe34e98bf602",
       "style": "IPY_MODEL_b92cd55874c045a19a6ab83703ab0f2a",
       "value": "<b>spark:</b>"
      }
     },
     "d6ccdc31867c49e7a24118ca1e9f8eff": {
      "model_module": "@jupyter-widgets/controls",
      "model_module_version": "1.5.0",
      "model_name": "DescriptionStyleModel",
      "state": {
       "description_width": ""
      }
     },
     "d71a7e8c85f04187a54be4db4b93270e": {
      "model_module": "@jupyter-widgets/base",
      "model_module_version": "1.2.0",
      "model_name": "LayoutModel",
      "state": {}
     },
     "d739920a04dc406282904609e6b12960": {
      "model_module": "@jupyter-widgets/controls",
      "model_module_version": "1.5.0",
      "model_name": "HBoxModel",
      "state": {
       "children": [
        "IPY_MODEL_22b265fc537d46ee8e289acf39432726",
        "IPY_MODEL_b1f1baed1da34d0daf07c84232352224"
       ],
       "layout": "IPY_MODEL_b2d476fe8a23431bb7260154dc949346"
      }
     },
     "d7544ab340dd47229297077077179c26": {
      "model_module": "@jupyter-widgets/base",
      "model_module_version": "1.2.0",
      "model_name": "LayoutModel",
      "state": {}
     },
     "d7597c0b8b304cbf9825743fe15fe35b": {
      "model_module": "@jupyter-widgets/base",
      "model_module_version": "1.2.0",
      "model_name": "LayoutModel",
      "state": {}
     },
     "d762017711e24e86bcb3d5deaed825ff": {
      "model_module": "@jupyter-widgets/base",
      "model_module_version": "1.2.0",
      "model_name": "LayoutModel",
      "state": {}
     },
     "d76dcd8ea8904efb81f51175ea2df523": {
      "model_module": "@jupyter-widgets/controls",
      "model_module_version": "1.5.0",
      "model_name": "TextModel",
      "state": {
       "description": "aks_name",
       "layout": "IPY_MODEL_0f6b75fe7fbd4426892c2cbd35b38355",
       "placeholder": "AKS Cluster Name",
       "style": "IPY_MODEL_51b42afc2e8e47baaa04db292171b4e9",
       "value": "akscluster2"
      }
     },
     "d78e721bf19f407eaff1e4e6a0520643": {
      "model_module": "@jupyter-widgets/controls",
      "model_module_version": "1.5.0",
      "model_name": "AccordionModel",
      "state": {
       "_titles": {
        "0": "properties"
       },
       "children": [
        "IPY_MODEL_ccf9e293321d46e2bafa259782f4c402"
       ],
       "layout": "IPY_MODEL_dcf0208238d344cb9f32a931e15a1390"
      }
     },
     "d790b642ffc94a6693b1651461f16043": {
      "model_module": "@jupyter-widgets/controls",
      "model_module_version": "1.5.0",
      "model_name": "HTMLModel",
      "state": {
       "layout": "IPY_MODEL_b1467c613eea4853af0482fc37aa94b5",
       "style": "IPY_MODEL_ba26d94bda804abeb9ae2a93453472d9",
       "value": "<b>gpu:</b>"
      }
     },
     "d7a1713aaf4847ebb0b9a87a46f0c552": {
      "model_module": "@jupyter-widgets/controls",
      "model_module_version": "1.5.0",
      "model_name": "DescriptionStyleModel",
      "state": {
       "description_width": ""
      }
     },
     "d7b3a2340aa5413c964458b8f94b8e86": {
      "model_module": "@jupyter-widgets/controls",
      "model_module_version": "1.5.0",
      "model_name": "DropdownModel",
      "state": {
       "_options_labels": [
        "AG-CE-AI-GPU-EXPERIMENTATION",
        "AG-AzureCAT-AITao-Test-COGSNonProd-IO1685734",
        "AG-CE-AI-DEVOPS",
        "AG-AzureCAT-AIDemos-Test-COGSNonProd-IO1685734",
        "AGCE-AI-DELETE-Sharat",
        "AG-AzureCAT-AILab-Test-COGSNonProd-IO1685734",
        "Visual Studio Ultimate with MSDN",
        "AG-AzureCAT-AIDataPM-Test-COGSNonProd-IO1685743",
        "AG-AzureCAT-AIDanielle-Test-COGSNonProd-IO1685734",
        "AG-CE-AI-MN-CICOMMERCIAL",
        "AG-CE-AI-MN-INCUBATION",
        "AG-CE-AI-MN-OSS",
        "AG-CE-AI-MN-E2E",
        "AG-CE-AI-MN-HU",
        "AG-CE-AI-MN-SEISMIC",
        "AG-CE-AI-STORAGE",
        "AG-CE-AI-MN-RETAIL",
        "AG-CE-AI-FEEDBACK",
        "AG-CE-AI-MN-LAB",
        "Deep Learning Group",
        "Azure SDK Engineering System",
        "Epic-Edge-ES-ReproVMLab",
        "ES-Stream-Operations",
        "Core-ES-BranchManagement",
        "WDG-ES-RnD-GITTrain",
        "Cosmos_WDG_Core_BnB_100292",
        "Azure Stack Diagnostics CI and Production VaaS",
        "Edge DevTools Client",
        "AppInsight Test",
        "ddverify",
        "VSEng MadDog-RPS Telemetry",
        "CAT_Eng",
        "RPS-cloud-common-2",
        "Core-ES-WorkManagement",
        "Azure_Maps_MDP_Engineering",
        "Test/Demo - VipSwapper Operations",
        "COSINE-ES-Signing Azure Service",
        "AI Infra Build",
        "AG-CE-E2E-AI",
        "Boston-DS-Brandon-Dev",
        "DEMO - how RepDemo are you",
        "ADS Demo Subscription",
        "AzureCAT E2E Blue Steel",
        "Azure Stack CSS Labs",
        "Azure Search DEV Service Layer (kmort,miwelsh,bohuan)",
        ""
       ],
       "description": "subscription_id",
       "index": 2,
       "layout": "IPY_MODEL_6a03e1d68b1a4a119599e8d11fcdd3d2",
       "style": "IPY_MODEL_7bfd14baeac142ea96832ff88f57755e"
      }
     },
     "d7bb96142a4d474ab0b2d19b307e885c": {
      "model_module": "@jupyter-widgets/base",
      "model_module_version": "1.2.0",
      "model_name": "LayoutModel",
      "state": {}
     },
     "d7cb508fd5104346957571735f6c1495": {
      "model_module": "@jupyter-widgets/controls",
      "model_module_version": "1.5.0",
      "model_name": "TabModel",
      "state": {
       "_titles": {
        "0": "ML Studio",
        "1": "Kubernetes",
        "2": "Application Insights"
       },
       "children": [
        "IPY_MODEL_ff575ba5ac2440b182db08a84d6c2ce4",
        "IPY_MODEL_8f57bc7603df409886facc2502dffc81",
        "IPY_MODEL_52a417af3b8d453992103064c75a3bb7"
       ],
       "layout": "IPY_MODEL_fe507f14244a488d88b5592b9d239012"
      }
     },
     "d7d0a8add9064aa59f8f9e14ce040c5e": {
      "model_module": "@jupyter-widgets/controls",
      "model_module_version": "1.5.0",
      "model_name": "DropdownModel",
      "state": {
       "_options_labels": [
        "eastus",
        "eastus2",
        "canadacentral",
        "centralus",
        "northcentralus",
        "southcentralus",
        "westcentralus",
        "westus",
        "westus2"
       ],
       "description": "aks_location",
       "index": 0,
       "layout": "IPY_MODEL_6389ff79b76b407898c527c793528f42",
       "style": "IPY_MODEL_817c33b5a7664b449f222130c5b1c936"
      }
     },
     "d7d71f9952624733aef7abdfe4478bd5": {
      "model_module": "@jupyter-widgets/controls",
      "model_module_version": "1.5.0",
      "model_name": "LabelModel",
      "state": {
       "layout": "IPY_MODEL_31980fed3e154b71b98143d8380f5df6",
       "style": "IPY_MODEL_70848c1e9aa540c4a054161474ce8d7a",
       "value": "None"
      }
     },
     "d7f4c9f9e2b84dcdbf1233d2d04469a1": {
      "model_module": "@jupyter-widgets/controls",
      "model_module_version": "1.5.0",
      "model_name": "DescriptionStyleModel",
      "state": {
       "description_width": ""
      }
     },
     "d80c975b72b1452792a998433daa3e03": {
      "model_module": "@jupyter-widgets/base",
      "model_module_version": "1.2.0",
      "model_name": "LayoutModel",
      "state": {}
     },
     "d8115e9c246542868576e1ed337d00d0": {
      "model_module": "@jupyter-widgets/controls",
      "model_module_version": "1.5.0",
      "model_name": "DescriptionStyleModel",
      "state": {
       "description_width": ""
      }
     },
     "d81b47bf8da1487bbfecd750c6dbd428": {
      "model_module": "@jupyter-widgets/controls",
      "model_module_version": "1.5.0",
      "model_name": "DescriptionStyleModel",
      "state": {
       "description_width": ""
      }
     },
     "d83134e86535406294d4039399538517": {
      "model_module": "@jupyter-widgets/controls",
      "model_module_version": "1.5.0",
      "model_name": "HBoxModel",
      "state": {
       "children": [
        "IPY_MODEL_992618db07ca4c8f94a75470caad3104",
        "IPY_MODEL_b65deff8c1284120a6fc6f6a0f328347"
       ],
       "layout": "IPY_MODEL_6b9d146916054690b8196499b0b7b0bb"
      }
     },
     "d8439e09e1d9408c83d3680ccf2ff546": {
      "model_module": "@jupyter-widgets/controls",
      "model_module_version": "1.5.0",
      "model_name": "DescriptionStyleModel",
      "state": {
       "description_width": ""
      }
     },
     "d84a0e571dc74e11bc7d3bd6e97ed994": {
      "model_module": "@jupyter-widgets/base",
      "model_module_version": "1.2.0",
      "model_name": "LayoutModel",
      "state": {}
     },
     "d85579c55ca54cb6854e24a8abc3826f": {
      "model_module": "@jupyter-widgets/base",
      "model_module_version": "1.2.0",
      "model_name": "LayoutModel",
      "state": {}
     },
     "d85a6dd95652430488a5d4b2551a920b": {
      "model_module": "@jupyter-widgets/controls",
      "model_module_version": "1.5.0",
      "model_name": "HTMLModel",
      "state": {
       "layout": "IPY_MODEL_6061308f3400406180e5cec6b2eb7dfc",
       "style": "IPY_MODEL_eea1e9e6b6b74a86b8026bdad4718b8a",
       "value": "<b>userIss:</b>"
      }
     },
     "d87680cba1f84ae19a1a255117c5d96b": {
      "model_module": "@jupyter-widgets/controls",
      "model_module_version": "1.5.0",
      "model_name": "LabelModel",
      "state": {
       "layout": "IPY_MODEL_2dc05f76b6aa41eb837f62a5015399af",
       "style": "IPY_MODEL_061117518fb64bfdbf760393c23691c1",
       "value": "None"
      }
     },
     "d8ab194221d24b8cb5cfbe7d05db0232": {
      "model_module": "@jupyter-widgets/controls",
      "model_module_version": "1.5.0",
      "model_name": "DescriptionStyleModel",
      "state": {
       "description_width": ""
      }
     },
     "d8cd90838d9347ec93d9e85f5c5bb85d": {
      "model_module": "@jupyter-widgets/controls",
      "model_module_version": "1.5.0",
      "model_name": "DescriptionStyleModel",
      "state": {
       "description_width": ""
      }
     },
     "d8fb96af7a6045bf971ac616fb0eb396": {
      "model_module": "@jupyter-widgets/controls",
      "model_module_version": "1.5.0",
      "model_name": "LabelModel",
      "state": {
       "layout": "IPY_MODEL_0577748530114bdb8fc07cfdc3f5fb80",
       "style": "IPY_MODEL_5991d68533cc4c73abb68cecf7ac5c2b",
       "value": "None"
      }
     },
     "d903a4266a0a4a5c9118660258475221": {
      "model_module": "@jupyter-widgets/base",
      "model_module_version": "1.2.0",
      "model_name": "LayoutModel",
      "state": {}
     },
     "d9112801466f46aa98565c84b833c084": {
      "model_module": "@jupyter-widgets/controls",
      "model_module_version": "1.5.0",
      "model_name": "DescriptionStyleModel",
      "state": {
       "description_width": ""
      }
     },
     "d916ec65e0f24f12a97c592ff537c707": {
      "model_module": "@jupyter-widgets/base",
      "model_module_version": "1.2.0",
      "model_name": "LayoutModel",
      "state": {}
     },
     "d919e20cefad4a62a977d8f78bc1bcd8": {
      "model_module": "@jupyter-widgets/base",
      "model_module_version": "1.2.0",
      "model_name": "LayoutModel",
      "state": {}
     },
     "d93edb6dae6e4d2c95742c945e7bccd8": {
      "model_module": "@jupyter-widgets/controls",
      "model_module_version": "1.5.0",
      "model_name": "DescriptionStyleModel",
      "state": {
       "description_width": ""
      }
     },
     "d94206f54f104a2d86cdf0c1030bba29": {
      "model_module": "@jupyter-widgets/base",
      "model_module_version": "1.2.0",
      "model_name": "LayoutModel",
      "state": {}
     },
     "d965019611ad45188651c4bcdeaee760": {
      "model_module": "@jupyter-widgets/base",
      "model_module_version": "1.2.0",
      "model_name": "LayoutModel",
      "state": {}
     },
     "d96a1887447e4f81adc11824fac47f30": {
      "model_module": "@jupyter-widgets/controls",
      "model_module_version": "1.5.0",
      "model_name": "LabelModel",
      "state": {
       "layout": "IPY_MODEL_35dac3a66f7b40edb34873d702923119",
       "style": "IPY_MODEL_f764e74fc14b4f5d8216b5833c1559be",
       "value": "fcf7950ee5d473a6ac61b217ef01527895499548"
      }
     },
     "d98d231f9e6840e7afb0acf3a5061b9a": {
      "model_module": "@jupyter-widgets/controls",
      "model_module_version": "1.5.0",
      "model_name": "HTMLModel",
      "state": {
       "layout": "IPY_MODEL_b9597980ad1d43d289b45494411dab0b",
       "style": "IPY_MODEL_59c3d02912194010b1e6e8e3ef6a187f",
       "value": "<b>storageEnabled:</b>"
      }
     },
     "d9d5d2c25b784bac91c819b36bf4b3f7": {
      "model_module": "@jupyter-widgets/base",
      "model_module_version": "1.2.0",
      "model_name": "LayoutModel",
      "state": {}
     },
     "d9d719addb0f43ddaaaa2b1256a685d7": {
      "model_module": "@jupyter-widgets/base",
      "model_module_version": "1.2.0",
      "model_name": "LayoutModel",
      "state": {}
     },
     "d9dab197dce5455e888212297dd226ac": {
      "model_module": "@jupyter-widgets/controls",
      "model_module_version": "1.5.0",
      "model_name": "DescriptionStyleModel",
      "state": {
       "description_width": ""
      }
     },
     "d9dc6177c7584425b2c53b731c025470": {
      "model_module": "@jupyter-widgets/controls",
      "model_module_version": "1.5.0",
      "model_name": "DescriptionStyleModel",
      "state": {
       "description_width": ""
      }
     },
     "d9e5817239784556a38f970f4f60a683": {
      "model_module": "@jupyter-widgets/base",
      "model_module_version": "1.2.0",
      "model_name": "LayoutModel",
      "state": {}
     },
     "d9e9c7ca34de45febee4b73ba5cbfc71": {
      "model_module": "@jupyter-widgets/controls",
      "model_module_version": "1.5.0",
      "model_name": "HTMLModel",
      "state": {
       "layout": "IPY_MODEL_0c17f332f3a54a28817b84c3d0d6f6ce",
       "style": "IPY_MODEL_72f92022327b4dec87accc5a6fbd4fb2",
       "value": "<b>gpu:</b>"
      }
     },
     "d9f4568bd2db46309fab9737174455e1": {
      "model_module": "@jupyter-widgets/controls",
      "model_module_version": "1.5.0",
      "model_name": "DescriptionStyleModel",
      "state": {
       "description_width": ""
      }
     },
     "da2fae4880364d2cb2b327419160bf79": {
      "model_module": "@jupyter-widgets/controls",
      "model_module_version": "1.5.0",
      "model_name": "DescriptionStyleModel",
      "state": {
       "description_width": ""
      }
     },
     "da447cdd8ced458f95fd5082bed37bf9": {
      "model_module": "@jupyter-widgets/base",
      "model_module_version": "1.2.0",
      "model_name": "LayoutModel",
      "state": {}
     },
     "da52ac4205b84b4e88e42000162cd004": {
      "model_module": "@jupyter-widgets/controls",
      "model_module_version": "1.5.0",
      "model_name": "LabelModel",
      "state": {
       "layout": "IPY_MODEL_1f47f9d683f84af1ae7950721a5507ce",
       "style": "IPY_MODEL_8d4424f92c8c488db4e8be6bb89a655b",
       "value": "Daniel Ciborowski"
      }
     },
     "da77e6f4fcb4462a9c7aae6cb38a11f0": {
      "model_module": "@jupyter-widgets/base",
      "model_module_version": "1.2.0",
      "model_name": "LayoutModel",
      "state": {}
     },
     "da8fc5f7d2264c19ae68c62846e568f5": {
      "model_module": "@jupyter-widgets/base",
      "model_module_version": "1.2.0",
      "model_name": "LayoutModel",
      "state": {}
     },
     "dab2d6193b8c4887a77b2c049daea98c": {
      "model_module": "@jupyter-widgets/controls",
      "model_module_version": "1.5.0",
      "model_name": "HBoxModel",
      "state": {
       "children": [
        "IPY_MODEL_4aa900c57ecf4285965a7f45651cd86d",
        "IPY_MODEL_0dd52cbda8c74f6c9bc0e1a75e12217e"
       ],
       "layout": "IPY_MODEL_664611131b63488582af20696650f8c4"
      }
     },
     "dad9e1c961534e3ab8af9062304c6903": {
      "model_module": "@jupyter-widgets/base",
      "model_module_version": "1.2.0",
      "model_name": "LayoutModel",
      "state": {}
     },
     "dae460b9c75648e092268062d9584a71": {
      "model_module": "@jupyter-widgets/controls",
      "model_module_version": "1.5.0",
      "model_name": "DescriptionStyleModel",
      "state": {
       "description_width": ""
      }
     },
     "db04d39c70494b35a38dfb1b81cd6fd3": {
      "model_module": "@jupyter-widgets/base",
      "model_module_version": "1.2.0",
      "model_name": "LayoutModel",
      "state": {}
     },
     "db2160ed65fd432d828fb7a363d20f17": {
      "model_module": "@jupyter-widgets/controls",
      "model_module_version": "1.5.0",
      "model_name": "DescriptionStyleModel",
      "state": {
       "description_width": ""
      }
     },
     "db248d9d5c5e4a73b9055eff18174923": {
      "model_module": "@jupyter-widgets/base",
      "model_module_version": "1.2.0",
      "model_name": "LayoutModel",
      "state": {}
     },
     "db8a66974ee0469584d14a5cbbda8e0e": {
      "model_module": "@jupyter-widgets/controls",
      "model_module_version": "1.5.0",
      "model_name": "HBoxModel",
      "state": {
       "children": [
        "IPY_MODEL_90217b2fe3a742fba38002986f3871c3",
        "IPY_MODEL_d21531ecda7f4b23b8867acb4cf12602"
       ],
       "layout": "IPY_MODEL_20d1c6f2816148a4a976e2d82f8766a6"
      }
     },
     "db9c8956a2f8456598b3e32d0fe32a53": {
      "model_module": "@jupyter-widgets/controls",
      "model_module_version": "1.5.0",
      "model_name": "HBoxModel",
      "state": {
       "children": [
        "IPY_MODEL_2bc0671c979940f6ab067166c259e5af",
        "IPY_MODEL_bbac84ff3a8f40b3a3e45062d1090c0d"
       ],
       "layout": "IPY_MODEL_82841a37f5da491b894fa75384c6665d"
      }
     },
     "dba8dec08c45470da78920b806f87660": {
      "model_module": "@jupyter-widgets/base",
      "model_module_version": "1.2.0",
      "model_name": "LayoutModel",
      "state": {}
     },
     "dbda7e02129d4fd7bf9cdc916149609e": {
      "model_module": "@jupyter-widgets/controls",
      "model_module_version": "1.5.0",
      "model_name": "LabelModel",
      "state": {
       "layout": "IPY_MODEL_4586a85842f6476ebb144564a8c0779d",
       "style": "IPY_MODEL_74d8073c8d3e4ce5994899d507a5defe",
       "value": "False"
      }
     },
     "dbf655e5bbb54b4d927a3ed4f795872e": {
      "model_module": "@jupyter-widgets/base",
      "model_module_version": "1.2.0",
      "model_name": "LayoutModel",
      "state": {}
     },
     "dbfbef71d97c470b9605ee6a8226a59d": {
      "model_module": "@jupyter-widgets/controls",
      "model_module_version": "1.5.0",
      "model_name": "DescriptionStyleModel",
      "state": {
       "description_width": ""
      }
     },
     "dc0c9c9be4ca4a39ba2045415c5f5d0a": {
      "model_module": "@jupyter-widgets/controls",
      "model_module_version": "1.5.0",
      "model_name": "DescriptionStyleModel",
      "state": {
       "description_width": ""
      }
     },
     "dc286e61a8a545249699e39013fe6b4c": {
      "model_module": "@jupyter-widgets/controls",
      "model_module_version": "1.5.0",
      "model_name": "HTMLModel",
      "state": {
       "layout": "IPY_MODEL_dad9e1c961534e3ab8af9062304c6903",
       "style": "IPY_MODEL_05d02c424f8546d6954d9bd483260e5e",
       "value": "<b>computeName:</b>"
      }
     },
     "dc502fe70b1f4ac3aa96d86b95488050": {
      "model_module": "@jupyter-widgets/controls",
      "model_module_version": "1.5.0",
      "model_name": "HTMLModel",
      "state": {
       "layout": "IPY_MODEL_5fda72c4723243aa94df26febb8ecfe0",
       "style": "IPY_MODEL_07ca48d011764e8889579df71542a748",
       "value": "<b>azureml.git.branch:</b>"
      }
     },
     "dc50a399831645d985ad4753fc8f63bd": {
      "model_module": "@jupyter-widgets/base",
      "model_module_version": "1.2.0",
      "model_name": "LayoutModel",
      "state": {}
     },
     "dc564bf42bbc43178649b1d02bcf609c": {
      "model_module": "@jupyter-widgets/controls",
      "model_module_version": "1.5.0",
      "model_name": "DescriptionStyleModel",
      "state": {
       "description_width": ""
      }
     },
     "dc58d4471e6142e1b2658567fed3680d": {
      "model_module": "@jupyter-widgets/base",
      "model_module_version": "1.2.0",
      "model_name": "LayoutModel",
      "state": {}
     },
     "dc5dfd2c3927471f9356be7623667bed": {
      "model_module": "@jupyter-widgets/base",
      "model_module_version": "1.2.0",
      "model_name": "LayoutModel",
      "state": {}
     },
     "dc6652e6151e4c658689fa168eee07ee": {
      "model_module": "@jupyter-widgets/controls",
      "model_module_version": "1.5.0",
      "model_name": "DescriptionStyleModel",
      "state": {
       "description_width": ""
      }
     },
     "dc69bbcdfada4b0bbb301b99102bec09": {
      "model_module": "@jupyter-widgets/base",
      "model_module_version": "1.2.0",
      "model_name": "LayoutModel",
      "state": {}
     },
     "dc74250905b847e4ae7ea83f1a27c17f": {
      "model_module": "@jupyter-widgets/controls",
      "model_module_version": "1.5.0",
      "model_name": "DescriptionStyleModel",
      "state": {
       "description_width": ""
      }
     },
     "dc7a3ab92902447bb44cebe9ae2e0360": {
      "model_module": "@jupyter-widgets/base",
      "model_module_version": "1.2.0",
      "model_name": "LayoutModel",
      "state": {}
     },
     "dc7e14523cdd4fa5b452f9af3659839f": {
      "model_module": "@jupyter-widgets/controls",
      "model_module_version": "1.5.0",
      "model_name": "LabelModel",
      "state": {
       "layout": "IPY_MODEL_1f6082825a4946d98d8880cbc662cb90",
       "style": "IPY_MODEL_ff3dee15d12b49e89ba746a9f72c97f8",
       "value": "True"
      }
     },
     "dc81bb917c794c28b734c434ee1f2b20": {
      "model_module": "@jupyter-widgets/controls",
      "model_module_version": "1.5.0",
      "model_name": "DescriptionStyleModel",
      "state": {
       "description_width": ""
      }
     },
     "dc8913ece1c44b7bbdb6311d9247dfb3": {
      "model_module": "@jupyter-widgets/base",
      "model_module_version": "1.2.0",
      "model_name": "LayoutModel",
      "state": {}
     },
     "dc8a05db18c3458595d29564c9083ac7": {
      "model_module": "@jupyter-widgets/controls",
      "model_module_version": "1.5.0",
      "model_name": "HBoxModel",
      "state": {
       "children": [
        "IPY_MODEL_559b5a78e8074cd18070ca9bf4d95393",
        "IPY_MODEL_114f1a9e493a4576834de4f119780c54"
       ],
       "layout": "IPY_MODEL_52630919704644ac8f46a8d0f4924255"
      }
     },
     "dc9e0a3f117a4592b10ab6d174723b0c": {
      "model_module": "@jupyter-widgets/controls",
      "model_module_version": "1.5.0",
      "model_name": "HTMLModel",
      "state": {
       "layout": "IPY_MODEL_4b042aeef699418098c815fb49daee29",
       "style": "IPY_MODEL_bc7b23e51a224045816a1e4b4e0345df",
       "value": "<b>name:</b>"
      }
     },
     "dca5bb01353d4aec94f5ef6458be84db": {
      "model_module": "@jupyter-widgets/base",
      "model_module_version": "1.2.0",
      "model_name": "LayoutModel",
      "state": {}
     },
     "dcb3684c079f4289be8356d5cbce8c8a": {
      "model_module": "@jupyter-widgets/base",
      "model_module_version": "1.2.0",
      "model_name": "LayoutModel",
      "state": {}
     },
     "dcb9e0991f1840cca040ac785efa707b": {
      "model_module": "@jupyter-widgets/controls",
      "model_module_version": "1.5.0",
      "model_name": "HBoxModel",
      "state": {
       "children": [
        "IPY_MODEL_3da4e0dbc2144d5187979f8117f91a11",
        "IPY_MODEL_0ca4c44e14084b8bbaf4cdcedd4ff224"
       ],
       "layout": "IPY_MODEL_0e538ac5245f4d3da3c8376aa956d0fe"
      }
     },
     "dcf0208238d344cb9f32a931e15a1390": {
      "model_module": "@jupyter-widgets/base",
      "model_module_version": "1.2.0",
      "model_name": "LayoutModel",
      "state": {}
     },
     "dcf45ace15fc480f98e70e5ae9505ea4": {
      "model_module": "@jupyter-widgets/controls",
      "model_module_version": "1.5.0",
      "model_name": "HTMLModel",
      "state": {
       "layout": "IPY_MODEL_3f2abba4c0f9421bb702ee3e14d6194b",
       "style": "IPY_MODEL_c3cf404413fb4973ae2da54d5c96b3b9",
       "value": "<b>trafficPercentile:</b>"
      }
     },
     "dd1adbf8e12445418777c9de37308403": {
      "model_module": "@jupyter-widgets/base",
      "model_module_version": "1.2.0",
      "model_name": "LayoutModel",
      "state": {}
     },
     "dd379ec3c4794d8fa59f63c13f46a22f": {
      "model_module": "@jupyter-widgets/controls",
      "model_module_version": "1.5.0",
      "model_name": "HBoxModel",
      "state": {
       "children": [
        "IPY_MODEL_b054020a504b46ea8e3a59ae8fa43913",
        "IPY_MODEL_4df24434de8f48e78afd137756ed1625"
       ],
       "layout": "IPY_MODEL_6a7ad3334e5c4d1198e1f1ac669fc6a0"
      }
     },
     "dd80e28a577f4afa8d3096bffe27eb88": {
      "model_module": "@jupyter-widgets/controls",
      "model_module_version": "1.5.0",
      "model_name": "HTMLModel",
      "state": {
       "layout": "IPY_MODEL_f6e428eea2e7469b860f660ff1d040a8",
       "style": "IPY_MODEL_294d1e18da164364b4a892dd5b422d2f",
       "value": "<img src=\"https://raw.githubusercontent.com/microsoft/AI-Utilities/master/docs/kubernetes.png\">"
      }
     },
     "ddb6ac5cccf84cdbb065068a994f9058": {
      "model_module": "@jupyter-widgets/base",
      "model_module_version": "1.2.0",
      "model_name": "LayoutModel",
      "state": {}
     },
     "ddca2b72d37e43f69a6736abb12d8363": {
      "model_module": "@jupyter-widgets/base",
      "model_module_version": "1.2.0",
      "model_name": "LayoutModel",
      "state": {}
     },
     "ddcbd4b54522496395f9bf73f08d76fc": {
      "model_module": "@jupyter-widgets/base",
      "model_module_version": "1.2.0",
      "model_name": "LayoutModel",
      "state": {}
     },
     "ddeafa9717464c319303c5022923f1c6": {
      "model_module": "@jupyter-widgets/base",
      "model_module_version": "1.2.0",
      "model_name": "LayoutModel",
      "state": {}
     },
     "ddfbd35fd45e4f3f8d85e68e150408a0": {
      "model_module": "@jupyter-widgets/controls",
      "model_module_version": "1.5.0",
      "model_name": "DescriptionStyleModel",
      "state": {
       "description_width": ""
      }
     },
     "ddfe9175903f49ac831e66f83d0ce78d": {
      "model_module": "@jupyter-widgets/controls",
      "model_module_version": "1.5.0",
      "model_name": "LabelModel",
      "state": {
       "layout": "IPY_MODEL_849f4be0a0c64f549e84b832d50c5357",
       "style": "IPY_MODEL_46f58fa58db5494d87d657fa0875d827",
       "value": "azmlrts-eastus"
      }
     },
     "de3e486385454d80b09b9d17578e8d81": {
      "model_module": "@jupyter-widgets/controls",
      "model_module_version": "1.5.0",
      "model_name": "LabelModel",
      "state": {
       "layout": "IPY_MODEL_34ae9ec307444588826b3a779cdd367c",
       "style": "IPY_MODEL_2b742d3a911e415caece3942348af64e",
       "value": "None"
      }
     },
     "de62efcc82d140da810fa045c43e4e49": {
      "model_module": "@jupyter-widgets/controls",
      "model_module_version": "1.5.0",
      "model_name": "HTMLModel",
      "state": {
       "layout": "IPY_MODEL_c7cf0493f338482cbd5d36e8bb102621",
       "style": "IPY_MODEL_da2fae4880364d2cb2b327419160bf79",
       "value": "<b>runId:</b>"
      }
     },
     "de79761d170848beb380660d45ce0af8": {
      "model_module": "@jupyter-widgets/base",
      "model_module_version": "1.2.0",
      "model_name": "LayoutModel",
      "state": {}
     },
     "de814c3dcf8e46a1883493234fb0fb62": {
      "model_module": "@jupyter-widgets/controls",
      "model_module_version": "1.5.0",
      "model_name": "HBoxModel",
      "state": {
       "children": [
        "IPY_MODEL_e04f16fa27c246c3be050f47203c63ec",
        "IPY_MODEL_1b824c06503149389db81a1dcce000b4"
       ],
       "layout": "IPY_MODEL_ea82f609f55648f889d15a299c7061f3"
      }
     },
     "dea991f3f00c4816b90fcfb9dc74b922": {
      "model_module": "@jupyter-widgets/controls",
      "model_module_version": "1.5.0",
      "model_name": "HTMLModel",
      "state": {
       "layout": "IPY_MODEL_77de5f3e8ee24630b269990b11eb3b7c",
       "style": "IPY_MODEL_cc0c1a8fae194b91a4aad5b19f1742ff",
       "value": "<b>url:</b>"
      }
     },
     "deb4593fbe464b07a2640072528f22e5": {
      "model_module": "@jupyter-widgets/base",
      "model_module_version": "1.2.0",
      "model_name": "LayoutModel",
      "state": {}
     },
     "debe15a7205d46958cc764f6fcfdcc9e": {
      "model_module": "@jupyter-widgets/base",
      "model_module_version": "1.2.0",
      "model_name": "LayoutModel",
      "state": {}
     },
     "defce8b641034338a60937b3ce4eebf9": {
      "model_module": "@jupyter-widgets/base",
      "model_module_version": "1.2.0",
      "model_name": "LayoutModel",
      "state": {}
     },
     "df290c179eb0497b9dd5217f3d5d2f43": {
      "model_module": "@jupyter-widgets/base",
      "model_module_version": "1.2.0",
      "model_name": "LayoutModel",
      "state": {}
     },
     "df2ac0985b694deeb941db8106f18640": {
      "model_module": "@jupyter-widgets/base",
      "model_module_version": "1.2.0",
      "model_name": "LayoutModel",
      "state": {}
     },
     "df57c4b0a3c4467eb5a3765240f2f609": {
      "model_module": "@jupyter-widgets/base",
      "model_module_version": "1.2.0",
      "model_name": "LayoutModel",
      "state": {}
     },
     "df9db4ff20524601b72b3a48f1db88cb": {
      "model_module": "@jupyter-widgets/base",
      "model_module_version": "1.2.0",
      "model_name": "LayoutModel",
      "state": {}
     },
     "dfb647ba3e794b65adf18c2b7b995f94": {
      "model_module": "@jupyter-widgets/controls",
      "model_module_version": "1.5.0",
      "model_name": "DescriptionStyleModel",
      "state": {
       "description_width": ""
      }
     },
     "dfdba56159ed43ebbe18c8f8f070d676": {
      "model_module": "@jupyter-widgets/controls",
      "model_module_version": "1.5.0",
      "model_name": "HTMLModel",
      "state": {
       "layout": "IPY_MODEL_323b8db480b1469c99709ea099964ac9",
       "style": "IPY_MODEL_191727a88be04b5e959c5e22b529fcb4",
       "value": "<img src=\"https://raw.githubusercontent.com/microsoft/AI-Utilities/master/docs/studio.png\">"
      }
     },
     "e037226577e046fea6e14f4ad649bbeb": {
      "model_module": "@jupyter-widgets/base",
      "model_module_version": "1.2.0",
      "model_name": "LayoutModel",
      "state": {}
     },
     "e04f16fa27c246c3be050f47203c63ec": {
      "model_module": "@jupyter-widgets/controls",
      "model_module_version": "1.5.0",
      "model_name": "HTMLModel",
      "state": {
       "layout": "IPY_MODEL_2c175b027d8e401b9a9a0109b8d72c2d",
       "style": "IPY_MODEL_6a89969d2d624fc2b55432bf18d9bbbb",
       "value": "<b>azureml.git.dirty:</b>"
      }
     },
     "e0a99c655a624170894522cfa33bbe9d": {
      "model_module": "@jupyter-widgets/controls",
      "model_module_version": "1.5.0",
      "model_name": "DescriptionStyleModel",
      "state": {
       "description_width": "initial"
      }
     },
     "e0b166e7637b430dbd4f5507acfd21d1": {
      "model_module": "@jupyter-widgets/controls",
      "model_module_version": "1.5.0",
      "model_name": "DescriptionStyleModel",
      "state": {
       "description_width": ""
      }
     },
     "e0e534d6e89a46968710361ad50c9260": {
      "model_module": "@jupyter-widgets/controls",
      "model_module_version": "1.5.0",
      "model_name": "DescriptionStyleModel",
      "state": {
       "description_width": ""
      }
     },
     "e0e6ea74ceca44e0a1928ab6e9021f0d": {
      "model_module": "@jupyter-widgets/controls",
      "model_module_version": "1.5.0",
      "model_name": "DescriptionStyleModel",
      "state": {
       "description_width": ""
      }
     },
     "e0f524e89ed4443b91611ef113ec889f": {
      "model_module": "@jupyter-widgets/base",
      "model_module_version": "1.2.0",
      "model_name": "LayoutModel",
      "state": {}
     },
     "e10b00d5e75c4209806d70b1a444b73e": {
      "model_module": "@jupyter-widgets/base",
      "model_module_version": "1.2.0",
      "model_name": "LayoutModel",
      "state": {}
     },
     "e10f7599d33841c7a2d6fd283a78fda5": {
      "model_module": "@jupyter-widgets/base",
      "model_module_version": "1.2.0",
      "model_name": "LayoutModel",
      "state": {}
     },
     "e1124dda93864e8ba81ba2e6648f9f5b": {
      "model_module": "@jupyter-widgets/base",
      "model_module_version": "1.2.0",
      "model_name": "LayoutModel",
      "state": {}
     },
     "e18eb4dce7134193afb6ea0ea43656fa": {
      "model_module": "@jupyter-widgets/base",
      "model_module_version": "1.2.0",
      "model_name": "LayoutModel",
      "state": {}
     },
     "e19b808559fd4a2e953b42722a47b333": {
      "model_module": "@jupyter-widgets/controls",
      "model_module_version": "1.5.0",
      "model_name": "DescriptionStyleModel",
      "state": {
       "description_width": ""
      }
     },
     "e1afa65fd2e844b3b764933d52db425e": {
      "model_module": "@jupyter-widgets/controls",
      "model_module_version": "1.5.0",
      "model_name": "HBoxModel",
      "state": {
       "children": [
        "IPY_MODEL_ea1310c090b84381b761fe060286da4b",
        "IPY_MODEL_6d0cd9d9650e4cbc948343715d49f988"
       ],
       "layout": "IPY_MODEL_d9e5817239784556a38f970f4f60a683"
      }
     },
     "e1cf1037bc164b459b71f84ee1c5048b": {
      "model_module": "@jupyter-widgets/base",
      "model_module_version": "1.2.0",
      "model_name": "LayoutModel",
      "state": {}
     },
     "e1ea7618fe264e36a823d043cf5a3848": {
      "model_module": "@jupyter-widgets/controls",
      "model_module_version": "1.5.0",
      "model_name": "DescriptionStyleModel",
      "state": {
       "description_width": ""
      }
     },
     "e1f6143ed29344318a09798967142cf3": {
      "model_module": "@jupyter-widgets/controls",
      "model_module_version": "1.5.0",
      "model_name": "HTMLModel",
      "state": {
       "layout": "IPY_MODEL_ced8f9f53c87416c9b8f075c8ed9959b",
       "style": "IPY_MODEL_04161deea97a44e49989e1b2b9c8aea6",
       "value": "<b>version:</b>"
      }
     },
     "e20f14f1d7844ed7be51e2b00e8bb742": {
      "model_module": "@jupyter-widgets/base",
      "model_module_version": "1.2.0",
      "model_name": "LayoutModel",
      "state": {}
     },
     "e2319a79c3a6485cb13e7ad5dd2a2cea": {
      "model_module": "@jupyter-widgets/controls",
      "model_module_version": "1.5.0",
      "model_name": "HTMLModel",
      "state": {
       "layout": "IPY_MODEL_dd1adbf8e12445418777c9de37308403",
       "style": "IPY_MODEL_a685e8170fbc488d9682b45b8d6e9109",
       "value": "<b>azureml.git.branch:</b>"
      }
     },
     "e2366cc268bf47449512302b86261557": {
      "model_module": "@jupyter-widgets/controls",
      "model_module_version": "1.5.0",
      "model_name": "LabelModel",
      "state": {
       "layout": "IPY_MODEL_e92eebe748174e8592e9eae3274764e8",
       "style": "IPY_MODEL_16cb74ca57f8471ca09480daad72f46c",
       "value": "None"
      }
     },
     "e24f6dbc5e8f4da4b37444f8a70ca12d": {
      "model_module": "@jupyter-widgets/controls",
      "model_module_version": "1.5.0",
      "model_name": "DescriptionStyleModel",
      "state": {
       "description_width": ""
      }
     },
     "e254c4bd600946a3a420dc4a07113ddf": {
      "model_module": "@jupyter-widgets/controls",
      "model_module_version": "1.5.0",
      "model_name": "LabelModel",
      "state": {
       "layout": "IPY_MODEL_2e5152806f8647bb942a564712b17216",
       "style": "IPY_MODEL_fe826c89f3cb46d9bc1d088596db84c4",
       "value": "resnet_model_2"
      }
     },
     "e26c71e1737b4c0ab1665748016d4022": {
      "model_module": "@jupyter-widgets/base",
      "model_module_version": "1.2.0",
      "model_name": "LayoutModel",
      "state": {}
     },
     "e294f205b1554a23bbe12e25fa67e4c8": {
      "model_module": "@jupyter-widgets/base",
      "model_module_version": "1.2.0",
      "model_name": "LayoutModel",
      "state": {}
     },
     "e29a0feaf8554a97a661f86cb5fd28bf": {
      "model_module": "@jupyter-widgets/base",
      "model_module_version": "1.2.0",
      "model_name": "LayoutModel",
      "state": {}
     },
     "e2adf22dea7141c4876d88ed6c14bab9": {
      "model_module": "@jupyter-widgets/base",
      "model_module_version": "1.2.0",
      "model_name": "LayoutModel",
      "state": {}
     },
     "e2ecc53d0c2f4071a73280e35bd0388b": {
      "model_module": "@jupyter-widgets/controls",
      "model_module_version": "1.5.0",
      "model_name": "HBoxModel",
      "state": {
       "children": [
        "IPY_MODEL_f0e9cc8912b2444780fdcefe8673e897",
        "IPY_MODEL_fc94227120954101ac7ed39091885ce6"
       ],
       "layout": "IPY_MODEL_dc69bbcdfada4b0bbb301b99102bec09"
      }
     },
     "e2f9f77f00fb4e248ced993b6c555fa7": {
      "model_module": "@jupyter-widgets/controls",
      "model_module_version": "1.5.0",
      "model_name": "HBoxModel",
      "state": {
       "children": [
        "IPY_MODEL_c36ca82279ed43eead83a0535b3d7826",
        "IPY_MODEL_f253f2af39974532b953423ca74c28c5"
       ],
       "layout": "IPY_MODEL_d7544ab340dd47229297077077179c26"
      }
     },
     "e33915a5aecf44b68c5f1851a0360519": {
      "model_module": "@jupyter-widgets/controls",
      "model_module_version": "1.5.0",
      "model_name": "DescriptionStyleModel",
      "state": {
       "description_width": ""
      }
     },
     "e349f4dc109f4120be87d09fc801dbdd": {
      "model_module": "@jupyter-widgets/controls",
      "model_module_version": "1.5.0",
      "model_name": "DescriptionStyleModel",
      "state": {
       "description_width": "initial"
      }
     },
     "e34c3cc2d4a84bde826a8f3354c5eebb": {
      "model_module": "@jupyter-widgets/controls",
      "model_module_version": "1.5.0",
      "model_name": "DescriptionStyleModel",
      "state": {
       "description_width": ""
      }
     },
     "e35c475b409f4d618c58298952c571f0": {
      "model_module": "@jupyter-widgets/base",
      "model_module_version": "1.2.0",
      "model_name": "LayoutModel",
      "state": {}
     },
     "e3611963def4448a9acb2699737da0f7": {
      "model_module": "@jupyter-widgets/base",
      "model_module_version": "1.2.0",
      "model_name": "LayoutModel",
      "state": {}
     },
     "e366e0bad0a247ec9cce84b35bfbcb13": {
      "model_module": "@jupyter-widgets/controls",
      "model_module_version": "1.5.0",
      "model_name": "DescriptionStyleModel",
      "state": {
       "description_width": ""
      }
     },
     "e36e3a76f4a74a80960138b7720d1195": {
      "model_module": "@jupyter-widgets/controls",
      "model_module_version": "1.5.0",
      "model_name": "DropdownModel",
      "state": {
       "_options_labels": [
        "eastus",
        "eastus2",
        "canadacentral",
        "centralus",
        "northcentralus",
        "southcentralus",
        "westcentralus",
        "westus",
        "westus2"
       ],
       "description": "workspace_region",
       "index": 0,
       "layout": "IPY_MODEL_ef53501d28cd4da8989477b08b72c6b9",
       "style": "IPY_MODEL_04df15cf21f04910bd4e2d83600b7298"
      }
     },
     "e3aa8454b37a42718197fa8d5319ed42": {
      "model_module": "@jupyter-widgets/controls",
      "model_module_version": "1.5.0",
      "model_name": "LabelModel",
      "state": {
       "layout": "IPY_MODEL_ebed3412e7bb4b85b5f27da8863ab22f",
       "style": "IPY_MODEL_f4747487379c45e78e4d514b094abe3d",
       "value": "[{'createdTime': '2020-03-04T01:05:12.753405+00:00', 'createdBy': {'userObjectId': 'e6cc2e17-5968-49e6-bb8f-9fb978a0d450', 'userPuId': '1003BFFD8BE61032', 'userIdp': None, 'userAltSecId': None, 'userIss': 'https://sts.windows.net/72f988bf-86f1-41af-91ab-2d7cd011db47/', 'userTenantId': '72f988bf-86f1-41af-91ab-2d7cd011db47', 'userName': 'Daniel Ciborowski'}, 'description': None, 'id': 'resnet_model_2:4', 'mimeType': 'application/json', 'name': 'resnet_model_2', 'framework': 'Custom', 'frameworkVersion': None, 'tags': {}, 'properties': {}, 'unpack': False, 'url': 'aml://asset/5ab7f6be706a4cb8a658fa05810f9f97', 'version': 4, 'experimentName': 'dlrts-train-on-local', 'runId': 'dlrts-train-on-local_1583283740_f474032a', 'runDetails': 'Run(Experiment: dlrts-train-on-local,\\nId: dlrts-train-on-local_1583283740_f474032a,\\nType: azureml.scriptrun,\\nStatus: Completed)', 'datasets': {}, 'resourceConfiguration': None, 'sampleInputDatasetId': None, 'sampleOutputDatasetId': None}]"
      }
     },
     "e3cf3962a0a147a98d5d660b07694fff": {
      "model_module": "@jupyter-widgets/base",
      "model_module_version": "1.2.0",
      "model_name": "LayoutModel",
      "state": {}
     },
     "e40656ce1b6643feb1005a6c28107ddb": {
      "model_module": "@jupyter-widgets/controls",
      "model_module_version": "1.5.0",
      "model_name": "DropdownModel",
      "state": {
       "_options_labels": [
        "eastus",
        "eastus2",
        "canadacentral",
        "centralus",
        "northcentralus",
        "southcentralus",
        "westcentralus",
        "westus",
        "westus2"
       ],
       "description": "deep_aks_location",
       "index": 0,
       "layout": "IPY_MODEL_ea7bce18cfad40b1a9c85447c93b7d8f",
       "style": "IPY_MODEL_9413b472f56e428f8696353b581bf6f0"
      }
     },
     "e41cb29238e44166921c6f3bc8f6fd3b": {
      "model_module": "@jupyter-widgets/controls",
      "model_module_version": "1.5.0",
      "model_name": "DescriptionStyleModel",
      "state": {
       "description_width": ""
      }
     },
     "e41dc7e66bad43bc834cdf134d0131da": {
      "model_module": "@jupyter-widgets/base",
      "model_module_version": "1.2.0",
      "model_name": "LayoutModel",
      "state": {}
     },
     "e42541665be34988bbcc9d2c599db9dd": {
      "model_module": "@jupyter-widgets/base",
      "model_module_version": "1.2.0",
      "model_name": "LayoutModel",
      "state": {}
     },
     "e42c62f932cb4bd4823257713c5c09bd": {
      "model_module": "@jupyter-widgets/controls",
      "model_module_version": "1.5.0",
      "model_name": "ProgressStyleModel",
      "state": {
       "description_width": ""
      }
     },
     "e44516d340734e27b0f8a6199836c850": {
      "model_module": "@jupyter-widgets/controls",
      "model_module_version": "1.5.0",
      "model_name": "DescriptionStyleModel",
      "state": {
       "description_width": ""
      }
     },
     "e4479f02bbbe4591a915369633552c72": {
      "model_module": "@jupyter-widgets/controls",
      "model_module_version": "1.5.0",
      "model_name": "HTMLModel",
      "state": {
       "layout": "IPY_MODEL_9850cb99fafd4442a3caf258106862ec",
       "style": "IPY_MODEL_43dbb08cac454b9fb8e3a821cd5b8b56",
       "value": "<b>state:</b>"
      }
     },
     "e454f4430b6c4809b8b6a606a05cb993": {
      "model_module": "@jupyter-widgets/controls",
      "model_module_version": "1.5.0",
      "model_name": "LabelModel",
      "state": {
       "layout": "IPY_MODEL_2bbfab9e686b4a0b875942a4a0c42c35",
       "style": "IPY_MODEL_7daf322b6bcc4e958330bd4596230daf",
       "value": "True"
      }
     },
     "e477a97945a64ff2995adaad04a82524": {
      "model_module": "@jupyter-widgets/controls",
      "model_module_version": "1.5.0",
      "model_name": "DescriptionStyleModel",
      "state": {
       "description_width": ""
      }
     },
     "e47b5f0bfbe44a49bddbff85f1b6f3f6": {
      "model_module": "@jupyter-widgets/base",
      "model_module_version": "1.2.0",
      "model_name": "LayoutModel",
      "state": {}
     },
     "e49ba0bcb4a248738820c5d0c92341da": {
      "model_module": "@jupyter-widgets/controls",
      "model_module_version": "1.5.0",
      "model_name": "LabelModel",
      "state": {
       "layout": "IPY_MODEL_37a8286109d146c7ad2ac3704febf3e8",
       "style": "IPY_MODEL_0484a77a386d49ef896f2201cd677316",
       "value": "conda-env"
      }
     },
     "e502683164d8407c8ae1f97dd3f563e5": {
      "model_module": "@jupyter-widgets/controls",
      "model_module_version": "1.5.0",
      "model_name": "TextModel",
      "state": {
       "description": "aks_location",
       "layout": "IPY_MODEL_7b3a915fb4594bfdb1d16003daee02c1",
       "placeholder": " AKS Azure Region",
       "style": "IPY_MODEL_39343432cc1d4c7a80acc1b4194dc623",
       "value": "eastus"
      }
     },
     "e5030196a21c4993ae3ee6b43f22f7eb": {
      "model_module": "@jupyter-widgets/base",
      "model_module_version": "1.2.0",
      "model_name": "LayoutModel",
      "state": {}
     },
     "e50802a8bb684e73bcfa60699c16a512": {
      "model_module": "@jupyter-widgets/base",
      "model_module_version": "1.2.0",
      "model_name": "LayoutModel",
      "state": {}
     },
     "e518d4e68e1f4691b36d53e7d28faa14": {
      "model_module": "@jupyter-widgets/base",
      "model_module_version": "1.2.0",
      "model_name": "LayoutModel",
      "state": {}
     },
     "e564579e352c4a54a557a98b61288558": {
      "model_module": "@jupyter-widgets/controls",
      "model_module_version": "1.5.0",
      "model_name": "HTMLModel",
      "state": {
       "layout": "IPY_MODEL_debe15a7205d46958cc764f6fcfdcc9e",
       "style": "IPY_MODEL_a9c6d1e289644398ad28ac83fb522401",
       "value": "<b>eventHubEnabled:</b>"
      }
     },
     "e57ebe03842a403087510f01f53aa63b": {
      "model_module": "@jupyter-widgets/base",
      "model_module_version": "1.2.0",
      "model_name": "LayoutModel",
      "state": {}
     },
     "e5aa966bac024dc4849743a985263a35": {
      "model_module": "@jupyter-widgets/controls",
      "model_module_version": "1.5.0",
      "model_name": "DescriptionStyleModel",
      "state": {
       "description_width": "initial"
      }
     },
     "e5bb1994560f4b8d9e46efcf91143ef6": {
      "model_module": "@jupyter-widgets/base",
      "model_module_version": "1.2.0",
      "model_name": "LayoutModel",
      "state": {}
     },
     "e5e796ba57eb4acd9b3e6f360b6a3527": {
      "model_module": "@jupyter-widgets/controls",
      "model_module_version": "1.5.0",
      "model_name": "DescriptionStyleModel",
      "state": {
       "description_width": ""
      }
     },
     "e5ec23eea005488294df56d4b9455795": {
      "model_module": "@jupyter-widgets/controls",
      "model_module_version": "1.5.0",
      "model_name": "DescriptionStyleModel",
      "state": {
       "description_width": "initial"
      }
     },
     "e5f015974cd946c8bb2eb3ea993e5c70": {
      "model_module": "@jupyter-widgets/base",
      "model_module_version": "1.2.0",
      "model_name": "LayoutModel",
      "state": {}
     },
     "e606b8fa3c5343fba145a4e041856485": {
      "model_module": "@jupyter-widgets/controls",
      "model_module_version": "1.5.0",
      "model_name": "LabelModel",
      "state": {
       "layout": "IPY_MODEL_5f0e9602b37649c79e5cf227abab855f",
       "style": "IPY_MODEL_693f2a3d3ec642eaa0c7302c70a97611",
       "value": "None"
      }
     },
     "e60868eeec2e4a5a82df5e47ea3c2cab": {
      "model_module": "@jupyter-widgets/base",
      "model_module_version": "1.2.0",
      "model_name": "LayoutModel",
      "state": {}
     },
     "e6102e8e1a7f4ce99f58a524df6634e5": {
      "model_module": "@jupyter-widgets/base",
      "model_module_version": "1.2.0",
      "model_name": "LayoutModel",
      "state": {}
     },
     "e61ccbf2b5644b83aabfe775e09ef528": {
      "model_module": "@jupyter-widgets/base",
      "model_module_version": "1.2.0",
      "model_name": "LayoutModel",
      "state": {}
     },
     "e6353b4544c64839be1e1d924b4ee295": {
      "model_module": "@jupyter-widgets/controls",
      "model_module_version": "1.5.0",
      "model_name": "DescriptionStyleModel",
      "state": {
       "description_width": ""
      }
     },
     "e6437be401d04211a6f8f3e2eca3705e": {
      "model_module": "@jupyter-widgets/base",
      "model_module_version": "1.2.0",
      "model_name": "LayoutModel",
      "state": {}
     },
     "e646822a064e45c9957f8ff5391ff98a": {
      "model_module": "@jupyter-widgets/controls",
      "model_module_version": "1.5.0",
      "model_name": "DescriptionStyleModel",
      "state": {
       "description_width": ""
      }
     },
     "e66139c56a02424d83e657b03e721316": {
      "model_module": "@jupyter-widgets/base",
      "model_module_version": "1.2.0",
      "model_name": "LayoutModel",
      "state": {}
     },
     "e696c3ee82c243358b3270aa419e012c": {
      "model_module": "@jupyter-widgets/controls",
      "model_module_version": "1.5.0",
      "model_name": "HBoxModel",
      "state": {
       "children": [
        "IPY_MODEL_9929ef73abe24166b5d3e598856de19a",
        "IPY_MODEL_d8fb96af7a6045bf971ac616fb0eb396"
       ],
       "layout": "IPY_MODEL_d80c975b72b1452792a998433daa3e03"
      }
     },
     "e69d66d45a6c4669be5300d6e4af00f2": {
      "model_module": "@jupyter-widgets/base",
      "model_module_version": "1.2.0",
      "model_name": "LayoutModel",
      "state": {}
     },
     "e69db83e9e3a4d10b037ff891b3391ad": {
      "model_module": "@jupyter-widgets/controls",
      "model_module_version": "1.5.0",
      "model_name": "LabelModel",
      "state": {
       "layout": "IPY_MODEL_9319d066264745c89fc233881b214180",
       "style": "IPY_MODEL_e24f6dbc5e8f4da4b37444f8a70ca12d",
       "value": "azmlrts-eastus"
      }
     },
     "e6ab3b249b5e41af94c5fd914f61bff3": {
      "model_module": "@jupyter-widgets/controls",
      "model_module_version": "1.5.0",
      "model_name": "HBoxModel",
      "state": {
       "children": [
        "IPY_MODEL_659804e5f40448e4abb2e78064ef6dfc",
        "IPY_MODEL_f4285ed3d573494791085a1985cfbdeb"
       ],
       "layout": "IPY_MODEL_9e6dd5bea8d7424f9042ecfa47cbbe7d"
      }
     },
     "e6aff38d16014bcbbf66adfdddbdfd88": {
      "model_module": "@jupyter-widgets/controls",
      "model_module_version": "1.5.0",
      "model_name": "AccordionModel",
      "state": {
       "_titles": {
        "0": "properties"
       },
       "children": [
        "IPY_MODEL_49f34da5532d46cc83f47694823cd221"
       ],
       "layout": "IPY_MODEL_f7ba1c9e6c194123b224faf5f6eb47e8"
      }
     },
     "e6c56cea3362436ca8b3b4085d4c8746": {
      "model_module": "@jupyter-widgets/base",
      "model_module_version": "1.2.0",
      "model_name": "LayoutModel",
      "state": {}
     },
     "e6fb4d08a0614f7d9e3630c1b394e3a2": {
      "model_module": "@jupyter-widgets/base",
      "model_module_version": "1.2.0",
      "model_name": "LayoutModel",
      "state": {
       "width": "50%"
      }
     },
     "e7572f68985d4ff3a23baf7c6f636367": {
      "model_module": "@jupyter-widgets/controls",
      "model_module_version": "1.5.0",
      "model_name": "VBoxModel",
      "state": {
       "children": [
        "IPY_MODEL_613ca1d03daf49949e0ac2c1664c0dd8",
        "IPY_MODEL_1360f4aa350a4bcbb2ba8f047b435ae3",
        "IPY_MODEL_449122e3c44e45c5953e392bc7349c52",
        "IPY_MODEL_01a0430ce04341308c3ae52e056eda76",
        "IPY_MODEL_98c735cc487546b2902ff52909e5649b"
       ],
       "layout": "IPY_MODEL_5da914adc7e24eeeb6d5db673015220e"
      }
     },
     "e761b2590c32405ab424c98dee0a28ba": {
      "model_module": "@jupyter-widgets/base",
      "model_module_version": "1.2.0",
      "model_name": "LayoutModel",
      "state": {}
     },
     "e767dd84b27349999134340e023e820b": {
      "model_module": "@jupyter-widgets/output",
      "model_module_version": "1.0.0",
      "model_name": "OutputModel",
      "state": {
       "layout": "IPY_MODEL_eaf26c7c13bc455ca6d97d36823d7185",
       "outputs": [
        {
         "name": "stdout",
         "output_type": "stream",
         "text": "Begin Deployment.\nStep 1: Get or Create Model\nCheck if Model exists.\nModel does exists.\nStep 2: Create Inference Configuration\nStep 3: Get or Create Kubernetes Cluster\nCheck if Cluster exists.\nCluster does exists.\nStep 4: Get or Create Web Service\nCheck if AKS Service Exists\nAKS Service Does Not Exists\nTest Score File Locally - Begin\nTest Score File Locally - Success\nModel Deploy - Begin\nRunning................................................................................................\nFailed\n"
        },
        {
         "name": "stderr",
         "output_type": "stream",
         "text": "ERROR - Service deployment polling reached non-successful terminal state, current service state: Unhealthy\nOperation ID: 62d01ef6-31c7-4dc5-8fba-74cfaf64e88a\nCurrent sub-operation type not known, more logs unavailable.\nError:\n{\n  \"code\": \"NotFound\",\n  \"statusCode\": 404,\n  \"message\": \"The specified resource was not found\",\n  \"details\": [\n    {\n      \"code\": \"NotFoundComputeResource\",\n      \"message\": \"Compute Resource deepakscluster doesn't exist.\"\n    }\n  ]\n}\n\nERROR - Service deployment polling reached non-successful terminal state, current service state: Unhealthy\nOperation ID: 62d01ef6-31c7-4dc5-8fba-74cfaf64e88a\nCurrent sub-operation type not known, more logs unavailable.\nError:\n{\n  \"code\": \"NotFound\",\n  \"statusCode\": 404,\n  \"message\": \"The specified resource was not found\",\n  \"details\": [\n    {\n      \"code\": \"NotFoundComputeResource\",\n      \"message\": \"Compute Resource deepakscluster doesn't exist.\"\n    }\n  ]\n}\n\nERROR - Received bad response from Model Management Service:\nResponse Code: 404\nHeaders: {'Date': 'Wed, 18 Mar 2020 21:36:33 GMT', 'Content-Type': 'application/json', 'Transfer-Encoding': 'chunked', 'Connection': 'keep-alive', 'Vary': 'Accept-Encoding', 'Request-Context': 'appId=cid-v1:2d2e8e63-272e-4b3c-8598-4ee570a0e70d', 'x-ms-client-request-id': 'af692e42f8594a72bdba6a0b9310715e', 'x-ms-client-session-id': '', 'api-supported-versions': '1.0, 2018-03-01-preview, 2018-11-19', 'Strict-Transport-Security': 'max-age=15724800; includeSubDomains; preload', 'Content-Encoding': 'gzip'}\nContent: b'{\"code\":\"NotFound\",\"statusCode\":404,\"message\":\"The specified resource was not found\",\"details\":[{\"code\":\"NotFoundComputeResource\",\"message\":\"Compute Resource deepakscluster doesn\\'t exist.\"}]}'\n\n"
        },
        {
         "ename": "WebserviceException",
         "evalue": "WebserviceException:\n\tMessage: Received bad response from Model Management Service:\nResponse Code: 404\nHeaders: {'Date': 'Wed, 18 Mar 2020 21:36:33 GMT', 'Content-Type': 'application/json', 'Transfer-Encoding': 'chunked', 'Connection': 'keep-alive', 'Vary': 'Accept-Encoding', 'Request-Context': 'appId=cid-v1:2d2e8e63-272e-4b3c-8598-4ee570a0e70d', 'x-ms-client-request-id': 'af692e42f8594a72bdba6a0b9310715e', 'x-ms-client-session-id': '', 'api-supported-versions': '1.0, 2018-03-01-preview, 2018-11-19', 'Strict-Transport-Security': 'max-age=15724800; includeSubDomains; preload', 'Content-Encoding': 'gzip'}\nContent: b'{\"code\":\"NotFound\",\"statusCode\":404,\"message\":\"The specified resource was not found\",\"details\":[{\"code\":\"NotFoundComputeResource\",\"message\":\"Compute Resource deepakscluster doesn\\'t exist.\"}]}'\n\tInnerException None\n\tErrorResponse \n{\n    \"error\": {\n        \"message\": \"Received bad response from Model Management Service:\\nResponse Code: 404\\nHeaders: {'Date': 'Wed, 18 Mar 2020 21:36:33 GMT', 'Content-Type': 'application/json', 'Transfer-Encoding': 'chunked', 'Connection': 'keep-alive', 'Vary': 'Accept-Encoding', 'Request-Context': 'appId=cid-v1:2d2e8e63-272e-4b3c-8598-4ee570a0e70d', 'x-ms-client-request-id': 'af692e42f8594a72bdba6a0b9310715e', 'x-ms-client-session-id': '', 'api-supported-versions': '1.0, 2018-03-01-preview, 2018-11-19', 'Strict-Transport-Security': 'max-age=15724800; includeSubDomains; preload', 'Content-Encoding': 'gzip'}\\nContent: b'{\\\"code\\\":\\\"NotFound\\\",\\\"statusCode\\\":404,\\\"message\\\":\\\"The specified resource was not found\\\",\\\"details\\\":[{\\\"code\\\":\\\"NotFoundComputeResource\\\",\\\"message\\\":\\\"Compute Resource deepakscluster doesn\\\\'t exist.\\\"}]}'\"\n    }\n}",
         "output_type": "error",
         "traceback": [
          "\u001b[1;31m---------------------------------------------------------------------------\u001b[0m",
          "\u001b[1;31mWebserviceException\u001b[0m                       Traceback (most recent call last)",
          "\u001b[1;32m~\\Anaconda3\\envs\\ai-utilities\\lib\\site-packages\\azureml\\core\\webservice\\webservice.py\u001b[0m in \u001b[0;36mwait_for_deployment\u001b[1;34m(self, show_output)\u001b[0m\n\u001b[0;32m    676\u001b[0m                                           '{}'.format(self.state, self._operation_endpoint.split('/')[-1],\n\u001b[1;32m--> 677\u001b[1;33m                                                       logs_response, error_response), logger=module_logger)\n\u001b[0m\u001b[0;32m    678\u001b[0m             print('{} service creation operation finished, operation \"{}\"'.format(self._webservice_type,\n",
          "\u001b[1;31mWebserviceException\u001b[0m: WebserviceException:\n\tMessage: Service deployment polling reached non-successful terminal state, current service state: Unhealthy\nOperation ID: 62d01ef6-31c7-4dc5-8fba-74cfaf64e88a\nCurrent sub-operation type not known, more logs unavailable.\nError:\n{\n  \"code\": \"NotFound\",\n  \"statusCode\": 404,\n  \"message\": \"The specified resource was not found\",\n  \"details\": [\n    {\n      \"code\": \"NotFoundComputeResource\",\n      \"message\": \"Compute Resource deepakscluster doesn't exist.\"\n    }\n  ]\n}\n\tInnerException None\n\tErrorResponse \n{\n    \"error\": {\n        \"message\": \"Service deployment polling reached non-successful terminal state, current service state: Unhealthy\\nOperation ID: 62d01ef6-31c7-4dc5-8fba-74cfaf64e88a\\nCurrent sub-operation type not known, more logs unavailable.\\nError:\\n{\\n  \\\"code\\\": \\\"NotFound\\\",\\n  \\\"statusCode\\\": 404,\\n  \\\"message\\\": \\\"The specified resource was not found\\\",\\n  \\\"details\\\": [\\n    {\\n      \\\"code\\\": \\\"NotFoundComputeResource\\\",\\n      \\\"message\\\": \\\"Compute Resource deepakscluster doesn't exist.\\\"\\n    }\\n  ]\\n}\"\n    }\n}",
          "\nDuring handling of the above exception, another exception occurred:\n",
          "\u001b[1;31mWebserviceException\u001b[0m                       Traceback (most recent call last)",
          "\u001b[1;32mc:\\users\\dcibo\\source\\repos\\ai-utilities\\azure_utils\\machine_learning\\contexts\\realtime_score_context.py\u001b[0m in \u001b[0;36mget_or_create_aks_service\u001b[1;34m(self, model, aks_target, inference_config)\u001b[0m\n\u001b[0;32m    388\u001b[0m             \u001b[1;32mif\u001b[0m \u001b[0mself\u001b[0m\u001b[1;33m.\u001b[0m\u001b[0mwait_for_completion\u001b[0m\u001b[1;33m:\u001b[0m\u001b[1;33m\u001b[0m\u001b[1;33m\u001b[0m\u001b[0m\n\u001b[1;32m--> 389\u001b[1;33m                 \u001b[0mself\u001b[0m\u001b[1;33m.\u001b[0m\u001b[0mwait_then_configure_ping_test\u001b[0m\u001b[1;33m(\u001b[0m\u001b[0maks_service\u001b[0m\u001b[1;33m,\u001b[0m \u001b[0mself\u001b[0m\u001b[1;33m.\u001b[0m\u001b[0maks_service_name\u001b[0m\u001b[1;33m)\u001b[0m\u001b[1;33m\u001b[0m\u001b[1;33m\u001b[0m\u001b[0m\n\u001b[0m\u001b[0;32m    390\u001b[0m                 \u001b[0mprint\u001b[0m\u001b[1;33m(\u001b[0m\u001b[1;34m\"Model Deploy - Success\"\u001b[0m\u001b[1;33m)\u001b[0m\u001b[1;33m\u001b[0m\u001b[1;33m\u001b[0m\u001b[0m\n",
          "\u001b[1;32mc:\\users\\dcibo\\source\\repos\\ai-utilities\\azure_utils\\machine_learning\\contexts\\realtime_score_context.py\u001b[0m in \u001b[0;36mwait_then_configure_ping_test\u001b[1;34m(self, aks_service, aks_service_name)\u001b[0m\n\u001b[0;32m    410\u001b[0m         \"\"\"\n\u001b[1;32m--> 411\u001b[1;33m         \u001b[0maks_service\u001b[0m\u001b[1;33m.\u001b[0m\u001b[0mwait_for_deployment\u001b[0m\u001b[1;33m(\u001b[0m\u001b[0mshow_output\u001b[0m\u001b[1;33m=\u001b[0m\u001b[0mself\u001b[0m\u001b[1;33m.\u001b[0m\u001b[0mshow_output\u001b[0m\u001b[1;33m)\u001b[0m\u001b[1;33m\u001b[0m\u001b[1;33m\u001b[0m\u001b[0m\n\u001b[0m\u001b[0;32m    412\u001b[0m         \u001b[1;31m# self.configure_ping_test(\u001b[0m\u001b[1;33m\u001b[0m\u001b[1;33m\u001b[0m\u001b[1;33m\u001b[0m\u001b[0m\n",
          "\u001b[1;32m~\\Anaconda3\\envs\\ai-utilities\\lib\\site-packages\\azureml\\core\\webservice\\webservice.py\u001b[0m in \u001b[0;36mwait_for_deployment\u001b[1;34m(self, show_output)\u001b[0m\n\u001b[0;32m    685\u001b[0m             \u001b[1;32melse\u001b[0m\u001b[1;33m:\u001b[0m\u001b[1;33m\u001b[0m\u001b[1;33m\u001b[0m\u001b[0m\n\u001b[1;32m--> 686\u001b[1;33m                 \u001b[1;32mraise\u001b[0m \u001b[0mWebserviceException\u001b[0m\u001b[1;33m(\u001b[0m\u001b[0me\u001b[0m\u001b[1;33m.\u001b[0m\u001b[0mmessage\u001b[0m\u001b[1;33m,\u001b[0m \u001b[0mlogger\u001b[0m\u001b[1;33m=\u001b[0m\u001b[0mmodule_logger\u001b[0m\u001b[1;33m)\u001b[0m\u001b[1;33m\u001b[0m\u001b[1;33m\u001b[0m\u001b[0m\n\u001b[0m\u001b[0;32m    687\u001b[0m \u001b[1;33m\u001b[0m\u001b[0m\n",
          "\u001b[1;31mWebserviceException\u001b[0m: WebserviceException:\n\tMessage: Service deployment polling reached non-successful terminal state, current service state: Unhealthy\nOperation ID: 62d01ef6-31c7-4dc5-8fba-74cfaf64e88a\nCurrent sub-operation type not known, more logs unavailable.\nError:\n{\n  \"code\": \"NotFound\",\n  \"statusCode\": 404,\n  \"message\": \"The specified resource was not found\",\n  \"details\": [\n    {\n      \"code\": \"NotFoundComputeResource\",\n      \"message\": \"Compute Resource deepakscluster doesn't exist.\"\n    }\n  ]\n}\n\tInnerException None\n\tErrorResponse \n{\n    \"error\": {\n        \"message\": \"Service deployment polling reached non-successful terminal state, current service state: Unhealthy\\nOperation ID: 62d01ef6-31c7-4dc5-8fba-74cfaf64e88a\\nCurrent sub-operation type not known, more logs unavailable.\\nError:\\n{\\n  \\\"code\\\": \\\"NotFound\\\",\\n  \\\"statusCode\\\": 404,\\n  \\\"message\\\": \\\"The specified resource was not found\\\",\\n  \\\"details\\\": [\\n    {\\n      \\\"code\\\": \\\"NotFoundComputeResource\\\",\\n      \\\"message\\\": \\\"Compute Resource deepakscluster doesn't exist.\\\"\\n    }\\n  ]\\n}\"\n    }\n}",
          "\nDuring handling of the above exception, another exception occurred:\n",
          "\u001b[1;31mWebserviceException\u001b[0m                       Traceback (most recent call last)",
          "\u001b[1;32mc:\\users\\dcibo\\source\\repos\\ai-utilities\\azure_utils\\notebook_widgets\\notebook_configuration_widget.py\u001b[0m in \u001b[0;36mon_button_clicked\u001b[1;34m(b)\u001b[0m\n\u001b[0;32m    478\u001b[0m                     \u001b[0mconfiguration_file\u001b[0m\u001b[1;33m=\u001b[0m\u001b[0mproject_configuration\u001b[0m\u001b[1;33m,\u001b[0m\u001b[1;33m\u001b[0m\u001b[1;33m\u001b[0m\u001b[0m\n\u001b[0;32m    479\u001b[0m                     \u001b[0mtrain_py\u001b[0m\u001b[1;33m=\u001b[0m\u001b[0mtrain_py\u001b[0m\u001b[1;33m,\u001b[0m\u001b[1;33m\u001b[0m\u001b[1;33m\u001b[0m\u001b[0m\n\u001b[1;32m--> 480\u001b[1;33m                     \u001b[0mscore_py\u001b[0m\u001b[1;33m=\u001b[0m\u001b[0mscore_py\u001b[0m\u001b[1;33m,\u001b[0m\u001b[1;33m\u001b[0m\u001b[1;33m\u001b[0m\u001b[0m\n\u001b[0m\u001b[0;32m    481\u001b[0m                 )\n\u001b[0;32m    482\u001b[0m                 \u001b[0mbutton\u001b[0m\u001b[1;33m.\u001b[0m\u001b[0mbutton_style\u001b[0m \u001b[1;33m=\u001b[0m \u001b[1;34m\"success\"\u001b[0m\u001b[1;33m\u001b[0m\u001b[1;33m\u001b[0m\u001b[0m\n",
          "\u001b[1;32mc:\\users\\dcibo\\source\\repos\\ai-utilities\\azure_utils\\machine_learning\\contexts\\realtime_score_context.py\u001b[0m in \u001b[0;36mget_or_or_create\u001b[1;34m(cls, configuration_file, train_py, score_py)\u001b[0m\n\u001b[0;32m    277\u001b[0m         \u001b[0mprint\u001b[0m\u001b[1;33m(\u001b[0m\u001b[1;34m\"Step 4: Get or Create Web Service\"\u001b[0m\u001b[1;33m)\u001b[0m\u001b[1;33m\u001b[0m\u001b[1;33m\u001b[0m\u001b[0m\n\u001b[0;32m    278\u001b[0m         web_service = workspace.get_or_create_aks_service(\n\u001b[1;32m--> 279\u001b[1;33m             \u001b[0mmodel\u001b[0m\u001b[1;33m,\u001b[0m \u001b[0maks_target\u001b[0m\u001b[1;33m,\u001b[0m \u001b[0minference_config\u001b[0m\u001b[1;33m\u001b[0m\u001b[1;33m\u001b[0m\u001b[0m\n\u001b[0m\u001b[0;32m    280\u001b[0m         )\n\u001b[0;32m    281\u001b[0m         \u001b[0mprint\u001b[0m\u001b[1;33m(\u001b[0m\u001b[1;34m\"All Steps Completed\"\u001b[0m\u001b[1;33m)\u001b[0m\u001b[1;33m\u001b[0m\u001b[1;33m\u001b[0m\u001b[0m\n",
          "\u001b[1;32mc:\\users\\dcibo\\source\\repos\\ai-utilities\\azure_utils\\machine_learning\\contexts\\realtime_score_context.py\u001b[0m in \u001b[0;36mget_or_create_aks_service\u001b[1;34m(self, model, aks_target, inference_config)\u001b[0m\n\u001b[0;32m    391\u001b[0m         \u001b[1;32mfinally\u001b[0m\u001b[1;33m:\u001b[0m\u001b[1;33m\u001b[0m\u001b[1;33m\u001b[0m\u001b[0m\n\u001b[0;32m    392\u001b[0m             \u001b[1;32mif\u001b[0m \u001b[0mself\u001b[0m\u001b[1;33m.\u001b[0m\u001b[0mshow_output\u001b[0m\u001b[1;33m:\u001b[0m\u001b[1;33m\u001b[0m\u001b[1;33m\u001b[0m\u001b[0m\n\u001b[1;32m--> 393\u001b[1;33m                 \u001b[0mprint\u001b[0m\u001b[1;33m(\u001b[0m\u001b[0maks_service\u001b[0m\u001b[1;33m.\u001b[0m\u001b[0mget_logs\u001b[0m\u001b[1;33m(\u001b[0m\u001b[1;33m)\u001b[0m\u001b[1;33m)\u001b[0m\u001b[1;33m\u001b[0m\u001b[1;33m\u001b[0m\u001b[0m\n\u001b[0m\u001b[0;32m    394\u001b[0m         \u001b[1;32mreturn\u001b[0m \u001b[0maks_service\u001b[0m\u001b[1;33m\u001b[0m\u001b[1;33m\u001b[0m\u001b[0m\n\u001b[0;32m    395\u001b[0m \u001b[1;33m\u001b[0m\u001b[0m\n",
          "\u001b[1;32m~\\Anaconda3\\envs\\ai-utilities\\lib\\site-packages\\azureml\\core\\webservice\\webservice.py\u001b[0m in \u001b[0;36mget_logs\u001b[1;34m(self, num_lines)\u001b[0m\n\u001b[0;32m    943\u001b[0m                                       \u001b[1;34m'Headers: {}\\n'\u001b[0m\u001b[1;33m\u001b[0m\u001b[1;33m\u001b[0m\u001b[0m\n\u001b[0;32m    944\u001b[0m                                       \u001b[1;34m'Content: {}'\u001b[0m\u001b[1;33m.\u001b[0m\u001b[0mformat\u001b[0m\u001b[1;33m(\u001b[0m\u001b[0mresp\u001b[0m\u001b[1;33m.\u001b[0m\u001b[0mstatus_code\u001b[0m\u001b[1;33m,\u001b[0m \u001b[0mresp\u001b[0m\u001b[1;33m.\u001b[0m\u001b[0mheaders\u001b[0m\u001b[1;33m,\u001b[0m \u001b[0mresp\u001b[0m\u001b[1;33m.\u001b[0m\u001b[0mcontent\u001b[0m\u001b[1;33m)\u001b[0m\u001b[1;33m,\u001b[0m\u001b[1;33m\u001b[0m\u001b[1;33m\u001b[0m\u001b[0m\n\u001b[1;32m--> 945\u001b[1;33m                                       logger=module_logger)\n\u001b[0m\u001b[0;32m    946\u001b[0m         \u001b[1;32melse\u001b[0m\u001b[1;33m:\u001b[0m\u001b[1;33m\u001b[0m\u001b[1;33m\u001b[0m\u001b[0m\n\u001b[0;32m    947\u001b[0m             \u001b[0mcontent\u001b[0m \u001b[1;33m=\u001b[0m \u001b[0mresp\u001b[0m\u001b[1;33m.\u001b[0m\u001b[0mcontent\u001b[0m\u001b[1;33m\u001b[0m\u001b[1;33m\u001b[0m\u001b[0m\n",
          "\u001b[1;31mWebserviceException\u001b[0m: WebserviceException:\n\tMessage: Received bad response from Model Management Service:\nResponse Code: 404\nHeaders: {'Date': 'Wed, 18 Mar 2020 21:36:33 GMT', 'Content-Type': 'application/json', 'Transfer-Encoding': 'chunked', 'Connection': 'keep-alive', 'Vary': 'Accept-Encoding', 'Request-Context': 'appId=cid-v1:2d2e8e63-272e-4b3c-8598-4ee570a0e70d', 'x-ms-client-request-id': 'af692e42f8594a72bdba6a0b9310715e', 'x-ms-client-session-id': '', 'api-supported-versions': '1.0, 2018-03-01-preview, 2018-11-19', 'Strict-Transport-Security': 'max-age=15724800; includeSubDomains; preload', 'Content-Encoding': 'gzip'}\nContent: b'{\"code\":\"NotFound\",\"statusCode\":404,\"message\":\"The specified resource was not found\",\"details\":[{\"code\":\"NotFoundComputeResource\",\"message\":\"Compute Resource deepakscluster doesn\\'t exist.\"}]}'\n\tInnerException None\n\tErrorResponse \n{\n    \"error\": {\n        \"message\": \"Received bad response from Model Management Service:\\nResponse Code: 404\\nHeaders: {'Date': 'Wed, 18 Mar 2020 21:36:33 GMT', 'Content-Type': 'application/json', 'Transfer-Encoding': 'chunked', 'Connection': 'keep-alive', 'Vary': 'Accept-Encoding', 'Request-Context': 'appId=cid-v1:2d2e8e63-272e-4b3c-8598-4ee570a0e70d', 'x-ms-client-request-id': 'af692e42f8594a72bdba6a0b9310715e', 'x-ms-client-session-id': '', 'api-supported-versions': '1.0, 2018-03-01-preview, 2018-11-19', 'Strict-Transport-Security': 'max-age=15724800; includeSubDomains; preload', 'Content-Encoding': 'gzip'}\\nContent: b'{\\\"code\\\":\\\"NotFound\\\",\\\"statusCode\\\":404,\\\"message\\\":\\\"The specified resource was not found\\\",\\\"details\\\":[{\\\"code\\\":\\\"NotFoundComputeResource\\\",\\\"message\\\":\\\"Compute Resource deepakscluster doesn\\\\'t exist.\\\"}]}'\"\n    }\n}"
         ]
        },
        {
         "name": "stdout",
         "output_type": "stream",
         "text": "Begin Deployment.\nStep 1: Get or Create Model\nCheck if Model exists.\nModel does exists.\nStep 2: Create Inference Configuration\nStep 3: Get or Create Kubernetes Cluster\nCheck if Cluster exists.\nCluster does exists.\nStep 4: Get or Create Web Service\nCheck if AKS Service Exists\nAKS Service Exists\nAll Steps Completed\nDeploy Complete\n"
        },
        {
         "data": {
          "application/vnd.jupyter.widget-view+json": {
           "model_id": "",
           "version_major": 2,
           "version_minor": 0
          },
          "text/plain": "Tab(children=(Accordion(children=(HTML(value='<img src=\"https://raw.githubusercontent.com/microsoft/AI-Utiliti…"
         },
         "metadata": {},
         "output_type": "display_data"
        }
       ]
      }
     },
     "e7693c852f0846339e5334a3cf996eac": {
      "model_module": "@jupyter-widgets/base",
      "model_module_version": "1.2.0",
      "model_name": "LayoutModel",
      "state": {}
     },
     "e7a587e0d2d942f79c69fcf92690e1a4": {
      "model_module": "@jupyter-widgets/controls",
      "model_module_version": "1.5.0",
      "model_name": "VBoxModel",
      "state": {
       "children": [
        "IPY_MODEL_492fcb65558f411aa5fc11e74f284d1c"
       ],
       "layout": "IPY_MODEL_4b77d7f3fd5d462680cf923624abea46"
      }
     },
     "e7aece7a92974662b52b2823587b508e": {
      "model_module": "@jupyter-widgets/base",
      "model_module_version": "1.2.0",
      "model_name": "LayoutModel",
      "state": {}
     },
     "e7cd41d0da2944baa7e7814b5511bae7": {
      "model_module": "@jupyter-widgets/base",
      "model_module_version": "1.2.0",
      "model_name": "LayoutModel",
      "state": {}
     },
     "e7ddbc1b685049d18d375d0d3150b94b": {
      "model_module": "@jupyter-widgets/controls",
      "model_module_version": "1.5.0",
      "model_name": "LabelModel",
      "state": {
       "layout": "IPY_MODEL_7e4612e775294e3ab0d2d03b1e47b1bc",
       "style": "IPY_MODEL_8e06f1d6670447b79041b182776b11df",
       "value": "None"
      }
     },
     "e80bee067f394a69b62fc4543ee55779": {
      "model_module": "@jupyter-widgets/controls",
      "model_module_version": "1.5.0",
      "model_name": "DescriptionStyleModel",
      "state": {
       "description_width": ""
      }
     },
     "e83f64b7baeb486c91673cef33ce3868": {
      "model_module": "@jupyter-widgets/base",
      "model_module_version": "1.2.0",
      "model_name": "LayoutModel",
      "state": {}
     },
     "e88718a2f4ab49ec8ad00fb6fc9972d6": {
      "model_module": "@jupyter-widgets/controls",
      "model_module_version": "1.5.0",
      "model_name": "DescriptionStyleModel",
      "state": {
       "description_width": ""
      }
     },
     "e890de1eb82f429f9a51ba1a60a58cf5": {
      "model_module": "@jupyter-widgets/controls",
      "model_module_version": "1.5.0",
      "model_name": "LabelModel",
      "state": {
       "layout": "IPY_MODEL_c6b38139acc94f9588eb78b409b729e9",
       "style": "IPY_MODEL_1bf333ccaad442f89a979af123754daf",
       "value": "72f988bf-86f1-41af-91ab-2d7cd011db47"
      }
     },
     "e89ba5d221244757871aedb016802c1c": {
      "model_module": "@jupyter-widgets/base",
      "model_module_version": "1.2.0",
      "model_name": "LayoutModel",
      "state": {}
     },
     "e8fe170edd5e4f38ab772f8865128759": {
      "model_module": "@jupyter-widgets/base",
      "model_module_version": "1.2.0",
      "model_name": "LayoutModel",
      "state": {}
     },
     "e92eebe748174e8592e9eae3274764e8": {
      "model_module": "@jupyter-widgets/base",
      "model_module_version": "1.2.0",
      "model_name": "LayoutModel",
      "state": {}
     },
     "e95702f0686642bfa60fa48a1198a73a": {
      "model_module": "@jupyter-widgets/controls",
      "model_module_version": "1.5.0",
      "model_name": "DescriptionStyleModel",
      "state": {
       "description_width": ""
      }
     },
     "e9596b1e897b4be4b02b777bb34d475d": {
      "model_module": "@jupyter-widgets/base",
      "model_module_version": "1.2.0",
      "model_name": "LayoutModel",
      "state": {}
     },
     "e97016901e6341979986f469227421df": {
      "model_module": "@jupyter-widgets/controls",
      "model_module_version": "1.5.0",
      "model_name": "HTMLModel",
      "state": {
       "layout": "IPY_MODEL_57eb6ac2fcdb4f4f9cb044431b7983d4",
       "style": "IPY_MODEL_16aa8babe5cf42b8a9b10faa0c5fbc9d",
       "value": "<b>runDetails:</b>"
      }
     },
     "e9fd1683f37e48e49baa2a6055cfb029": {
      "model_module": "@jupyter-widgets/base",
      "model_module_version": "1.2.0",
      "model_name": "LayoutModel",
      "state": {}
     },
     "ea1310c090b84381b761fe060286da4b": {
      "model_module": "@jupyter-widgets/controls",
      "model_module_version": "1.5.0",
      "model_name": "HTMLModel",
      "state": {
       "layout": "IPY_MODEL_e7693c852f0846339e5334a3cf996eac",
       "style": "IPY_MODEL_088f3c3d9a084e9681f11581c39633a3",
       "value": "<b>userPuId:</b>"
      }
     },
     "ea1d324a79264d65bdb9d19b2d3e3a95": {
      "model_module": "@jupyter-widgets/base",
      "model_module_version": "1.2.0",
      "model_name": "LayoutModel",
      "state": {
       "width": "50%"
      }
     },
     "ea42745b01eb4be18ed1bd14efbdf9a3": {
      "model_module": "@jupyter-widgets/base",
      "model_module_version": "1.2.0",
      "model_name": "LayoutModel",
      "state": {}
     },
     "ea7bce18cfad40b1a9c85447c93b7d8f": {
      "model_module": "@jupyter-widgets/base",
      "model_module_version": "1.2.0",
      "model_name": "LayoutModel",
      "state": {
       "width": "50%"
      }
     },
     "ea82f609f55648f889d15a299c7061f3": {
      "model_module": "@jupyter-widgets/base",
      "model_module_version": "1.2.0",
      "model_name": "LayoutModel",
      "state": {}
     },
     "eaa8d95e91244adabcf1758606db5488": {
      "model_module": "@jupyter-widgets/base",
      "model_module_version": "1.2.0",
      "model_name": "LayoutModel",
      "state": {}
     },
     "eab3953bc09f447e9681be361bbbfc7f": {
      "model_module": "@jupyter-widgets/controls",
      "model_module_version": "1.5.0",
      "model_name": "LabelModel",
      "state": {
       "layout": "IPY_MODEL_bc1adf7f203a402e8c9867aab5292587",
       "style": "IPY_MODEL_402b7f2278ce411db85384478c3131f7",
       "value": "conda-env"
      }
     },
     "eaf26c7c13bc455ca6d97d36823d7185": {
      "model_module": "@jupyter-widgets/base",
      "model_module_version": "1.2.0",
      "model_name": "LayoutModel",
      "state": {}
     },
     "eafcb7cfaa144dfd92f28b416f1adedc": {
      "model_module": "@jupyter-widgets/base",
      "model_module_version": "1.2.0",
      "model_name": "LayoutModel",
      "state": {}
     },
     "eb22f4aad765482c901405698085786f": {
      "model_module": "@jupyter-widgets/controls",
      "model_module_version": "1.5.0",
      "model_name": "HBoxModel",
      "state": {
       "children": [
        "IPY_MODEL_0c690d7387a643d4beec532ed8798a8e",
        "IPY_MODEL_c5eaf93c25e8456796d7d99d3d0be055"
       ],
       "layout": "IPY_MODEL_33aa1fd80d674c55b808104b1ad60b87"
      }
     },
     "eb88a9798a84409aa841f186fb0a16a9": {
      "model_module": "@jupyter-widgets/controls",
      "model_module_version": "1.5.0",
      "model_name": "LabelModel",
      "state": {
       "layout": "IPY_MODEL_7142499ee39744e392dc37239e4ccff4",
       "style": "IPY_MODEL_b97bd8f72b2e4c9ab223fab99aa34cd1",
       "value": "deepakscluster"
      }
     },
     "eb99f1bad0464706a1947d7ded2a1aa8": {
      "model_module": "@jupyter-widgets/controls",
      "model_module_version": "1.5.0",
      "model_name": "VBoxModel",
      "state": {
       "children": [
        "IPY_MODEL_679fc97961ad4365a1b454c9afee76f5",
        "IPY_MODEL_3bf2d9cd6ec84f0db95699f0ec818cdb",
        "IPY_MODEL_c886d3edf33b4683a621a3a8d41b26f6",
        "IPY_MODEL_5abb47b69d7848b88438b6b02987ed97",
        "IPY_MODEL_8841f91c964141d3a90a4a28bc56f379",
        "IPY_MODEL_bc2c12122ba04e8597c44e61bb4fa277",
        "IPY_MODEL_bfbbe32f4b3443f687e9e819fa04f7cf"
       ],
       "layout": "IPY_MODEL_ba052d6cb6e5426392293f8581dcd5ec"
      }
     },
     "eba152cc6d6d4da7b7024b4cf9a05c9b": {
      "model_module": "@jupyter-widgets/base",
      "model_module_version": "1.2.0",
      "model_name": "LayoutModel",
      "state": {}
     },
     "eba4c9b462c14523896ec55ea517eca0": {
      "model_module": "@jupyter-widgets/base",
      "model_module_version": "1.2.0",
      "model_name": "LayoutModel",
      "state": {}
     },
     "eba72125ac57463a9accc2a8d7ce2dda": {
      "model_module": "@jupyter-widgets/base",
      "model_module_version": "1.2.0",
      "model_name": "LayoutModel",
      "state": {}
     },
     "ebce421404ce4eecb3f546980eebcb24": {
      "model_module": "@jupyter-widgets/controls",
      "model_module_version": "1.5.0",
      "model_name": "DescriptionStyleModel",
      "state": {
       "description_width": ""
      }
     },
     "ebed3412e7bb4b85b5f27da8863ab22f": {
      "model_module": "@jupyter-widgets/base",
      "model_module_version": "1.2.0",
      "model_name": "LayoutModel",
      "state": {}
     },
     "ebfc6c31e79e48dba8ad64b20a6dca88": {
      "model_module": "@jupyter-widgets/base",
      "model_module_version": "1.2.0",
      "model_name": "LayoutModel",
      "state": {}
     },
     "ec056d71c01d4c05826023cb883485ea": {
      "model_module": "@jupyter-widgets/controls",
      "model_module_version": "1.5.0",
      "model_name": "DescriptionStyleModel",
      "state": {
       "description_width": ""
      }
     },
     "ec0d9e9f70ef409b8b72f001895562ef": {
      "model_module": "@jupyter-widgets/controls",
      "model_module_version": "1.5.0",
      "model_name": "HTMLModel",
      "state": {
       "layout": "IPY_MODEL_6d651d46cb4249af934818db052ae7a2",
       "style": "IPY_MODEL_62aa5d794a2346109a814c3066d97e5d",
       "value": "<b>minReplicas:</b>"
      }
     },
     "ec0e50887ade43ada13c418d3c08f89e": {
      "model_module": "@jupyter-widgets/controls",
      "model_module_version": "1.5.0",
      "model_name": "HTMLModel",
      "state": {
       "layout": "IPY_MODEL_a4bb11733aca456dbe6488666c2e242f",
       "style": "IPY_MODEL_f20c4d5766684e23ad245c1fdedb79ac",
       "value": "<b>version:</b>"
      }
     },
     "ec0ec8fc73c04bc198584fe8e4bcd984": {
      "model_module": "@jupyter-widgets/base",
      "model_module_version": "1.2.0",
      "model_name": "LayoutModel",
      "state": {}
     },
     "ec4d9a51d6ee4cc1856e91814427ffb1": {
      "model_module": "@jupyter-widgets/base",
      "model_module_version": "1.2.0",
      "model_name": "LayoutModel",
      "state": {}
     },
     "ec9cb2a6843d49729897675794c5ad61": {
      "model_module": "@jupyter-widgets/controls",
      "model_module_version": "1.5.0",
      "model_name": "DescriptionStyleModel",
      "state": {
       "description_width": ""
      }
     },
     "ecc33db89e77465aaae834ed5d851a5c": {
      "model_module": "@jupyter-widgets/controls",
      "model_module_version": "1.5.0",
      "model_name": "HTMLModel",
      "state": {
       "layout": "IPY_MODEL_2829526e60e6402ca792ceec40061faf",
       "style": "IPY_MODEL_caab35be39ed4d38ac9f83e7f8b39d9f",
       "value": "<b>createdTime:</b>"
      }
     },
     "ecd5537408ae44b98f1d22282a70c7e2": {
      "model_module": "@jupyter-widgets/controls",
      "model_module_version": "1.5.0",
      "model_name": "HTMLModel",
      "state": {
       "layout": "IPY_MODEL_2030c48307674c1daa79a07d8a4bf7e9",
       "style": "IPY_MODEL_6e20d21f5f5a484793148d688199d0e2",
       "value": "<b>mlflow.source.git.repoURL:</b>"
      }
     },
     "ed3aa76a7c324c4a96f5203d86a9a309": {
      "model_module": "@jupyter-widgets/controls",
      "model_module_version": "1.5.0",
      "model_name": "DescriptionStyleModel",
      "state": {
       "description_width": ""
      }
     },
     "ed42bcd376504817b4adacce8e6a7ee8": {
      "model_module": "@jupyter-widgets/base",
      "model_module_version": "1.2.0",
      "model_name": "LayoutModel",
      "state": {}
     },
     "ed617e8a771e4ee2ae8930a5d83ffff9": {
      "model_module": "@jupyter-widgets/controls",
      "model_module_version": "1.5.0",
      "model_name": "DescriptionStyleModel",
      "state": {
       "description_width": ""
      }
     },
     "ed8b675a9b754d25b2642a482bc1bcd2": {
      "model_module": "@jupyter-widgets/controls",
      "model_module_version": "1.5.0",
      "model_name": "LabelModel",
      "state": {
       "layout": "IPY_MODEL_8947847caa114503b89cddb92c35c17b",
       "style": "IPY_MODEL_fe67f096cf0b411d827475ccf2aa5c19",
       "value": "Run(Experiment: dlrts-train-on-local,\nId: dlrts-train-on-local_1583283740_f474032a,\nType: azureml.scriptrun,\nStatus: Completed)"
      }
     },
     "eda622578c8f4b99bdf94c2b9c9a3944": {
      "model_module": "@jupyter-widgets/controls",
      "model_module_version": "1.5.0",
      "model_name": "LabelModel",
      "state": {
       "layout": "IPY_MODEL_72c7a7f73c874b35bae93a7dd71b8f5c",
       "style": "IPY_MODEL_8e04e13e2a1540b4b7416df3bd36178b",
       "value": "1003BFFD8BE61032"
      }
     },
     "edd8651408b04145b485b6af0e2318f7": {
      "model_module": "@jupyter-widgets/controls",
      "model_module_version": "1.5.0",
      "model_name": "LabelModel",
      "state": {
       "layout": "IPY_MODEL_6463a16818164a7eb9850f93ef2ee344",
       "style": "IPY_MODEL_15063d31bb7640799bcbd5b28748452f",
       "value": "{'userManagedDependencies': False, 'interpreterPath': 'python', 'condaDependenciesFile': None, 'baseCondaEnvironment': None, 'condaDependencies': {'channels': ['anaconda', 'conda-forge'], 'dependencies': ['python=3.6.2', {'pip': ['azureml-defaults', 'azureml-contrib-services', 'toolz==0.9.0', 'git+https://github.com/microsoft/AI-Utilities.git@dciborow/no-cli']}, 'keras=2.3.1', 'pillow=7.0.0'], 'name': 'azureml_8e81e2311131822017046513ec68b4f1'}}"
      }
     },
     "ededed3a1dde4fe08b002d0f9906113a": {
      "model_module": "@jupyter-widgets/controls",
      "model_module_version": "1.5.0",
      "model_name": "HTMLModel",
      "state": {
       "layout": "IPY_MODEL_295cfbf720444bedb5bbbf6943a24175",
       "style": "IPY_MODEL_58f1cc9d8585405f9b6ccd6238f77cf1",
       "value": "<b>name:</b>"
      }
     },
     "ee13dad800fa4a049d46e0f875198baa": {
      "model_module": "@jupyter-widgets/base",
      "model_module_version": "1.2.0",
      "model_name": "LayoutModel",
      "state": {}
     },
     "ee42893c543d4e49a391ed61f17ccda4": {
      "model_module": "@jupyter-widgets/base",
      "model_module_version": "1.2.0",
      "model_name": "LayoutModel",
      "state": {}
     },
     "ee4cd4ab4a454d8b99a30967962bd0c2": {
      "model_module": "@jupyter-widgets/controls",
      "model_module_version": "1.5.0",
      "model_name": "DescriptionStyleModel",
      "state": {
       "description_width": ""
      }
     },
     "ee4d181277224de4856c4dac6e8d7af8": {
      "model_module": "@jupyter-widgets/controls",
      "model_module_version": "1.5.0",
      "model_name": "DescriptionStyleModel",
      "state": {
       "description_width": ""
      }
     },
     "ee75f819b3424574bb7b170f2d6a14c9": {
      "model_module": "@jupyter-widgets/base",
      "model_module_version": "1.2.0",
      "model_name": "LayoutModel",
      "state": {}
     },
     "ee86355c81bf4a59829d49ca18f1186d": {
      "model_module": "@jupyter-widgets/base",
      "model_module_version": "1.2.0",
      "model_name": "LayoutModel",
      "state": {}
     },
     "ee86929b932e42a28738d98aa82189a5": {
      "model_module": "@jupyter-widgets/controls",
      "model_module_version": "1.5.0",
      "model_name": "HTMLModel",
      "state": {
       "layout": "IPY_MODEL_be99eb0192a0465997f06c463a978d9d",
       "style": "IPY_MODEL_53508be39b3748bda84f67394d600e4b",
       "value": "<img src=\"https://raw.githubusercontent.com/microsoft/AI-Utilities/master/docs/app_insights_1.png\">"
      }
     },
     "eea1e9e6b6b74a86b8026bdad4718b8a": {
      "model_module": "@jupyter-widgets/controls",
      "model_module_version": "1.5.0",
      "model_name": "DescriptionStyleModel",
      "state": {
       "description_width": ""
      }
     },
     "eeb1858d95e14f148b2bfe52b6f02ae3": {
      "model_module": "@jupyter-widgets/controls",
      "model_module_version": "1.5.0",
      "model_name": "DescriptionStyleModel",
      "state": {
       "description_width": ""
      }
     },
     "eeba8703f0184837b735f8a14f98d7f7": {
      "model_module": "@jupyter-widgets/base",
      "model_module_version": "1.2.0",
      "model_name": "LayoutModel",
      "state": {}
     },
     "eec04c9da81b4a6d9e7f015d81a0b75a": {
      "model_module": "@jupyter-widgets/controls",
      "model_module_version": "1.5.0",
      "model_name": "HBoxModel",
      "state": {
       "children": [
        "IPY_MODEL_de62efcc82d140da810fa045c43e4e49",
        "IPY_MODEL_cf179385bdd24d3cabb8ca8da829fc19"
       ],
       "layout": "IPY_MODEL_7496f420a55d4a2d996f975995bdc4f6"
      }
     },
     "eec560132a3148b9960476ae9b2a4255": {
      "model_module": "@jupyter-widgets/controls",
      "model_module_version": "1.5.0",
      "model_name": "VBoxModel",
      "state": {
       "children": [
        "IPY_MODEL_74e20f56a24f417282b4cbbf270f3a89",
        "IPY_MODEL_844732b444444baab2221af416771e23"
       ],
       "layout": "IPY_MODEL_e10b00d5e75c4209806d70b1a444b73e"
      }
     },
     "eed4385c3a98443d90228c122603a223": {
      "model_module": "@jupyter-widgets/controls",
      "model_module_version": "1.5.0",
      "model_name": "HBoxModel",
      "state": {
       "children": [
        "IPY_MODEL_85ea6ff73e0041418d27114096457e31",
        "IPY_MODEL_813e313a930a484d874bf8f9d28e8881"
       ],
       "layout": "IPY_MODEL_5f861d9e036847e8a8324ed5d10134a0"
      }
     },
     "eef2e56682b9421a8a6b5e4ad4ce6b6d": {
      "model_module": "@jupyter-widgets/controls",
      "model_module_version": "1.5.0",
      "model_name": "DescriptionStyleModel",
      "state": {
       "description_width": ""
      }
     },
     "ef0f6e4d70cb4cd69ea708a9205c3801": {
      "model_module": "@jupyter-widgets/controls",
      "model_module_version": "1.5.0",
      "model_name": "HTMLModel",
      "state": {
       "layout": "IPY_MODEL_0d76dc5a0af942eab508bb32156af4fe",
       "style": "IPY_MODEL_4642b920bdc34a13a104c33c0369c638",
       "value": "<b>userPuId:</b>"
      }
     },
     "ef18405c6e804273bead9a3b2af864c1": {
      "model_module": "@jupyter-widgets/base",
      "model_module_version": "1.2.0",
      "model_name": "LayoutModel",
      "state": {}
     },
     "ef290305781848fd8498c24e3ff30aa1": {
      "model_module": "@jupyter-widgets/controls",
      "model_module_version": "1.5.0",
      "model_name": "HBoxModel",
      "state": {
       "children": [
        "IPY_MODEL_b531e5b24d8344c591911e1cc505165c",
        "IPY_MODEL_5a22a958b3b74b9f8fd5af205748ef69"
       ],
       "layout": "IPY_MODEL_a4388fe250914d328e6db8cf2edb9991"
      }
     },
     "ef2f0190d0be456aafc837c1d1f85582": {
      "model_module": "@jupyter-widgets/base",
      "model_module_version": "1.2.0",
      "model_name": "LayoutModel",
      "state": {}
     },
     "ef39d738a1b84eb99c0b758a7d13c00a": {
      "model_module": "@jupyter-widgets/base",
      "model_module_version": "1.2.0",
      "model_name": "LayoutModel",
      "state": {}
     },
     "ef49411f27ec492a8e03979f5c78bb10": {
      "model_module": "@jupyter-widgets/controls",
      "model_module_version": "1.5.0",
      "model_name": "HTMLModel",
      "state": {
       "layout": "IPY_MODEL_1a8287e652964d5197de0c1d3d0a5726",
       "style": "IPY_MODEL_61a2ec063f274b1b9aeb325e78960d57",
       "value": "<b>name:</b>"
      }
     },
     "ef53501d28cd4da8989477b08b72c6b9": {
      "model_module": "@jupyter-widgets/base",
      "model_module_version": "1.2.0",
      "model_name": "LayoutModel",
      "state": {
       "width": "50%"
      }
     },
     "ef62c8a425ed431e8e7336c172250f93": {
      "model_module": "@jupyter-widgets/controls",
      "model_module_version": "1.5.0",
      "model_name": "DescriptionStyleModel",
      "state": {
       "description_width": ""
      }
     },
     "ef9c08cc132042179bedd6171a6cf350": {
      "model_module": "@jupyter-widgets/controls",
      "model_module_version": "1.5.0",
      "model_name": "HTMLModel",
      "state": {
       "layout": "IPY_MODEL_c8742b978ce74e8aa733174793ee21da",
       "style": "IPY_MODEL_0856b6e2e6e149a68333d16d9bec05f5",
       "value": "<b>experimentName:</b>"
      }
     },
     "efc53f97791b4dabbc6dd6e6f274b251": {
      "model_module": "@jupyter-widgets/output",
      "model_module_version": "1.0.0",
      "model_name": "OutputModel",
      "state": {
       "layout": "IPY_MODEL_a96ab8ac248c4dff9e4d3ed58fa6ab5f",
       "outputs": [
        {
         "name": "stdout",
         "output_type": "stream",
         "text": "Test Begin\nScore Test Complete\n"
        }
       ]
      }
     },
     "efd5aef332e648d0b084d5ed6620c462": {
      "model_module": "@jupyter-widgets/controls",
      "model_module_version": "1.5.0",
      "model_name": "HBoxModel",
      "state": {
       "children": [
        "IPY_MODEL_0325700e0ede4e1e916415ec6b03a01d",
        "IPY_MODEL_873fe33e2fb34c84843465e23e8c6a10"
       ],
       "layout": "IPY_MODEL_c30fc372881542cbbe8339ebdf8458c4"
      }
     },
     "efd8d2bec6e14a53bbaa701fa0c58dc5": {
      "model_module": "@jupyter-widgets/base",
      "model_module_version": "1.2.0",
      "model_name": "LayoutModel",
      "state": {}
     },
     "eff3c61204b74e2eaece752b3bd8392e": {
      "model_module": "@jupyter-widgets/controls",
      "model_module_version": "1.5.0",
      "model_name": "DescriptionStyleModel",
      "state": {
       "description_width": ""
      }
     },
     "eff4cf90765245a2b14894a6b7abbf3e": {
      "model_module": "@jupyter-widgets/controls",
      "model_module_version": "1.5.0",
      "model_name": "HBoxModel",
      "state": {
       "children": [
        "IPY_MODEL_b77bce8086614518b8f00bf3a4981f6a",
        "IPY_MODEL_aebff512ba6343a98033972008ac17cb"
       ],
       "layout": "IPY_MODEL_dc8913ece1c44b7bbdb6311d9247dfb3"
      }
     },
     "efffa21a07d14071a62fa5d19292ceaf": {
      "model_module": "@jupyter-widgets/base",
      "model_module_version": "1.2.0",
      "model_name": "LayoutModel",
      "state": {}
     },
     "f03fd683dd284579afef20e013d1811a": {
      "model_module": "@jupyter-widgets/base",
      "model_module_version": "1.2.0",
      "model_name": "LayoutModel",
      "state": {
       "width": "50%"
      }
     },
     "f067583aa2814afc9dba9b77e4332be4": {
      "model_module": "@jupyter-widgets/controls",
      "model_module_version": "1.5.0",
      "model_name": "HBoxModel",
      "state": {
       "children": [
        "IPY_MODEL_9e8ef21e0f2347eb848de49089fd1a2f",
        "IPY_MODEL_e890de1eb82f429f9a51ba1a60a58cf5"
       ],
       "layout": "IPY_MODEL_eeba8703f0184837b735f8a14f98d7f7"
      }
     },
     "f0ae2204c5f049e0bb97aff7382a43d4": {
      "model_module": "@jupyter-widgets/base",
      "model_module_version": "1.2.0",
      "model_name": "LayoutModel",
      "state": {}
     },
     "f0e9cc8912b2444780fdcefe8673e897": {
      "model_module": "@jupyter-widgets/controls",
      "model_module_version": "1.5.0",
      "model_name": "HTMLModel",
      "state": {
       "layout": "IPY_MODEL_101c3c1cca614a729350a0654abdee15",
       "style": "IPY_MODEL_b4d39aae6a5b4b49a01fc193e74bbf7f",
       "value": "<b>failureThreshold:</b>"
      }
     },
     "f108d1829d4640d28c44e0bea0879935": {
      "model_module": "@jupyter-widgets/controls",
      "model_module_version": "1.5.0",
      "model_name": "DescriptionStyleModel",
      "state": {
       "description_width": ""
      }
     },
     "f10c8e3eefc9444c860495a039152ee5": {
      "model_module": "@jupyter-widgets/controls",
      "model_module_version": "1.5.0",
      "model_name": "LabelModel",
      "state": {
       "layout": "IPY_MODEL_c95a907567dc4583ad294e21036c2a2a",
       "style": "IPY_MODEL_5ee9cfd9b91d48dfb0871abb2274105c",
       "value": "Compute Resource deepakscluster doesn't exist."
      }
     },
     "f1343b1c6d594287ae72bd6fd9e0af20": {
      "model_module": "@jupyter-widgets/controls",
      "model_module_version": "1.5.0",
      "model_name": "LabelModel",
      "state": {
       "layout": "IPY_MODEL_45b2e3c9d5c64a7f9b0a79357ec11ddb",
       "style": "IPY_MODEL_8ffb8523f6054b938445dc63af4c8b90",
       "value": "None"
      }
     },
     "f13710e6b6dc4d7293adf36dd1ec7942": {
      "model_module": "@jupyter-widgets/base",
      "model_module_version": "1.2.0",
      "model_name": "LayoutModel",
      "state": {}
     },
     "f152c093c6644ff8a0ebc9380cfb901f": {
      "model_module": "@jupyter-widgets/controls",
      "model_module_version": "1.5.0",
      "model_name": "DescriptionStyleModel",
      "state": {
       "description_width": ""
      }
     },
     "f159f38006934035a5283b5be0f5866e": {
      "model_module": "@jupyter-widgets/controls",
      "model_module_version": "1.5.0",
      "model_name": "DescriptionStyleModel",
      "state": {
       "description_width": ""
      }
     },
     "f192de01eb834b72b288469f4b8ad55a": {
      "model_module": "@jupyter-widgets/base",
      "model_module_version": "1.2.0",
      "model_name": "LayoutModel",
      "state": {}
     },
     "f1b4e3bbc253417cae4d4a7e274397e0": {
      "model_module": "@jupyter-widgets/base",
      "model_module_version": "1.2.0",
      "model_name": "LayoutModel",
      "state": {}
     },
     "f20c4d5766684e23ad245c1fdedb79ac": {
      "model_module": "@jupyter-widgets/controls",
      "model_module_version": "1.5.0",
      "model_name": "DescriptionStyleModel",
      "state": {
       "description_width": ""
      }
     },
     "f210689d5cf4461a970de4b5bf738eb3": {
      "model_module": "@jupyter-widgets/controls",
      "model_module_version": "1.5.0",
      "model_name": "DescriptionStyleModel",
      "state": {
       "description_width": ""
      }
     },
     "f253f2af39974532b953423ca74c28c5": {
      "model_module": "@jupyter-widgets/controls",
      "model_module_version": "1.5.0",
      "model_name": "LabelModel",
      "state": {
       "layout": "IPY_MODEL_c7b56bde7ce24850ac4567c6e1cff5e9",
       "style": "IPY_MODEL_9d9856ac1c1046de8aa4404eb217b8c9",
       "value": "None"
      }
     },
     "f28ccd0d3f8942aebeb76d41caeb9683": {
      "model_module": "@jupyter-widgets/controls",
      "model_module_version": "1.5.0",
      "model_name": "HBoxModel",
      "state": {
       "children": [
        "IPY_MODEL_dcf45ace15fc480f98e70e5ae9505ea4",
        "IPY_MODEL_376cf7b5d4a94cbea33ef9b8fd3019da"
       ],
       "layout": "IPY_MODEL_12e391f243ad44babd5b48d38ef993e3"
      }
     },
     "f2a5f52dc9da4fc386f5fd9299a902f5": {
      "model_module": "@jupyter-widgets/base",
      "model_module_version": "1.2.0",
      "model_name": "LayoutModel",
      "state": {}
     },
     "f2c51c54702146af8fc1a34b0cace051": {
      "model_module": "@jupyter-widgets/base",
      "model_module_version": "1.2.0",
      "model_name": "LayoutModel",
      "state": {}
     },
     "f303cd0d5ef54badae177c36e3ee6799": {
      "model_module": "@jupyter-widgets/controls",
      "model_module_version": "1.5.0",
      "model_name": "DescriptionStyleModel",
      "state": {
       "description_width": ""
      }
     },
     "f303d1e69d5b46b79352b54c8098aae5": {
      "model_module": "@jupyter-widgets/controls",
      "model_module_version": "1.5.0",
      "model_name": "DescriptionStyleModel",
      "state": {
       "description_width": ""
      }
     },
     "f344cc3271a24e5b8e9ba9aed4b33e3a": {
      "model_module": "@jupyter-widgets/base",
      "model_module_version": "1.2.0",
      "model_name": "LayoutModel",
      "state": {}
     },
     "f349147e5d0d4c2fa207fd1321f0d77b": {
      "model_module": "@jupyter-widgets/controls",
      "model_module_version": "1.5.0",
      "model_name": "LabelModel",
      "state": {
       "layout": "IPY_MODEL_017c19d1087442dfaf3680137e015e04",
       "style": "IPY_MODEL_a2cd71f4521e491e8042a12a13f58c62",
       "value": "False"
      }
     },
     "f368df9335c34e09b6fdf3bde6561d2c": {
      "model_module": "@jupyter-widgets/controls",
      "model_module_version": "1.5.0",
      "model_name": "LabelModel",
      "state": {
       "layout": "IPY_MODEL_b1b846cbf7d0489c97a76b9c52277898",
       "style": "IPY_MODEL_f5e086cf4ac445c79abf0fa402a2c7a0",
       "value": "1003BFFD8BE61032"
      }
     },
     "f371ce33f3fb4fed829ce62874c4a3d8": {
      "model_module": "@jupyter-widgets/controls",
      "model_module_version": "1.5.0",
      "model_name": "HBoxModel",
      "state": {
       "children": [
        "IPY_MODEL_c69c341625fb429da62a4115916c05a1",
        "IPY_MODEL_44518784f6a344b2af034872bebb097d"
       ],
       "layout": "IPY_MODEL_b77e2906c6d443e28514022d6845c2d8"
      }
     },
     "f3ba2a842871400d84dfce4ff1ae793a": {
      "model_module": "@jupyter-widgets/controls",
      "model_module_version": "1.5.0",
      "model_name": "DescriptionStyleModel",
      "state": {
       "description_width": "initial"
      }
     },
     "f3c3318c291c44ac894c900d35c26c0c": {
      "model_module": "@jupyter-widgets/controls",
      "model_module_version": "1.5.0",
      "model_name": "LabelModel",
      "state": {
       "layout": "IPY_MODEL_d5c86036a8ec48f28239e743f5c306e1",
       "style": "IPY_MODEL_ad1dbae815bb437ca3edf36cf84f92fc",
       "value": "application/json"
      }
     },
     "f40024c32bd04ea7a46249ac7e31ba78": {
      "model_module": "@jupyter-widgets/controls",
      "model_module_version": "1.5.0",
      "model_name": "DescriptionStyleModel",
      "state": {
       "description_width": ""
      }
     },
     "f41d296182ed47d991c4ab39f9d4f1fb": {
      "model_module": "@jupyter-widgets/controls",
      "model_module_version": "1.5.0",
      "model_name": "LabelModel",
      "state": {
       "layout": "IPY_MODEL_0cffb4c6c36d4069b2c0270c4d4fefd7",
       "style": "IPY_MODEL_87ab94d0d3ff4b3884337baf7659f7a7",
       "value": "310"
      }
     },
     "f420744582de4ef3b64b7420f454eb99": {
      "model_module": "@jupyter-widgets/controls",
      "model_module_version": "1.5.0",
      "model_name": "LabelModel",
      "state": {
       "layout": "IPY_MODEL_75fe9d87a72642e296886e689409b6d3",
       "style": "IPY_MODEL_1a0ebbe6925e43b8b7cac452e01b31bb",
       "value": "4"
      }
     },
     "f4285ed3d573494791085a1985cfbdeb": {
      "model_module": "@jupyter-widgets/controls",
      "model_module_version": "1.5.0",
      "model_name": "LabelModel",
      "state": {
       "layout": "IPY_MODEL_6029bd9385444c21bc27c09f1acf4a98",
       "style": "IPY_MODEL_c82587985ed449adb29ab6a90084a5f2",
       "value": "Autosave_2020-03-18T21:25:15Z_923a7b66"
      }
     },
     "f4747487379c45e78e4d514b094abe3d": {
      "model_module": "@jupyter-widgets/controls",
      "model_module_version": "1.5.0",
      "model_name": "DescriptionStyleModel",
      "state": {
       "description_width": ""
      }
     },
     "f484a705dba4431e8c309b028054b253": {
      "model_module": "@jupyter-widgets/base",
      "model_module_version": "1.2.0",
      "model_name": "LayoutModel",
      "state": {}
     },
     "f4a7a347e9e747a7bf4ffd7b09dae01a": {
      "model_module": "@jupyter-widgets/base",
      "model_module_version": "1.2.0",
      "model_name": "LayoutModel",
      "state": {}
     },
     "f4ad46470e824a48b73328e38eaa177e": {
      "model_module": "@jupyter-widgets/base",
      "model_module_version": "1.2.0",
      "model_name": "LayoutModel",
      "state": {}
     },
     "f4ce03f2c3b845e59b0c88a29aaf5f0b": {
      "model_module": "@jupyter-widgets/controls",
      "model_module_version": "1.5.0",
      "model_name": "DescriptionStyleModel",
      "state": {
       "description_width": ""
      }
     },
     "f4de2961a5484071855de6f01ecaaa3d": {
      "model_module": "@jupyter-widgets/base",
      "model_module_version": "1.2.0",
      "model_name": "LayoutModel",
      "state": {}
     },
     "f4eaa910b9e54831836d91ed5d544bbe": {
      "model_module": "@jupyter-widgets/controls",
      "model_module_version": "1.5.0",
      "model_name": "VBoxModel",
      "state": {
       "children": [
        "IPY_MODEL_14de7cb469944ad19dd8c1f17e81e2c1",
        "IPY_MODEL_02921f150ea8463199cb105e0aa935b6",
        "IPY_MODEL_d78e721bf19f407eaff1e4e6a0520643",
        "IPY_MODEL_c5c85a2fdfbe4bf188bbd7106df69f0c",
        "IPY_MODEL_a567110d133d4d8d8a456003e6a23652",
        "IPY_MODEL_1e5cea833b974268b92402d71afbf598",
        "IPY_MODEL_c894f8703784466fb3cff4c33e87d5ef",
        "IPY_MODEL_8fe858d39e224d09b0ac6b03428dc468",
        "IPY_MODEL_0895a895f7eb4fbfa287df5adb952324",
        "IPY_MODEL_109f306b74b949bdb81c19333b6e6c2a",
        "IPY_MODEL_330e8bd7ee584b24acfe5f92cb513232",
        "IPY_MODEL_7ba1d3f1d42545c4a66e4ac7c3acaad3",
        "IPY_MODEL_ba65c60c3d324327a056b52943b6fa4e",
        "IPY_MODEL_004be6fc7ab54f838c9ce1b26546035f",
        "IPY_MODEL_fd5a0b1fa730424b98ae53c68183869e",
        "IPY_MODEL_3cb1cb8aae6f48d49e055af2606c7991",
        "IPY_MODEL_b3c29d694f1c405fb2473fd75c94af0a",
        "IPY_MODEL_7cb61ae77ad740959c4776b2ad3f0121",
        "IPY_MODEL_fc713eb5482e4017b46cd32aa143ed98",
        "IPY_MODEL_8e8375603d0d4fccb3570fa514766a25",
        "IPY_MODEL_9051b7a3ecb44a2bab1614a410fe057f",
        "IPY_MODEL_9cd792a7f223455e8e61e9d1b245d485",
        "IPY_MODEL_2db0b3a50b14421e87e3a623d925d172",
        "IPY_MODEL_d4eee2ca3b724b99ab63b719ad4011df",
        "IPY_MODEL_1763f8ad221a4618a13e6abeee389b97",
        "IPY_MODEL_e2f9f77f00fb4e248ced993b6c555fa7",
        "IPY_MODEL_c376827dcab14e739720072218b2dfde",
        "IPY_MODEL_1717fee0cd85484bb13cc9e23c23a543",
        "IPY_MODEL_c1b2818ddd5844d7a66357ce467e9e78",
        "IPY_MODEL_a08e0a594366427c829b4a07a82fc0a7",
        "IPY_MODEL_c9c4f0acfea84d6eac4bcd6d40451d78",
        "IPY_MODEL_1a37951925b24e1bbeab376413979a68"
       ],
       "layout": "IPY_MODEL_8d3d33cf4d3f48ac81a68e0f70e9b087"
      }
     },
     "f51aa7b46fc842ae8d96ad23dabe48e6": {
      "model_module": "@jupyter-widgets/base",
      "model_module_version": "1.2.0",
      "model_name": "LayoutModel",
      "state": {}
     },
     "f53b2ca25e794e798b02f41ab29e6bde": {
      "model_module": "@jupyter-widgets/controls",
      "model_module_version": "1.5.0",
      "model_name": "HBoxModel",
      "state": {
       "children": [
        "IPY_MODEL_a8af3cbc61da43388b332da0428bc0c8",
        "IPY_MODEL_021e585ae00d43c7b621954c065e6c6a"
       ],
       "layout": "IPY_MODEL_508457da786843bebb5cb6d9e3994def"
      }
     },
     "f547d46c69d740c28830f7c8a4d6a651": {
      "model_module": "@jupyter-widgets/controls",
      "model_module_version": "1.5.0",
      "model_name": "HBoxModel",
      "state": {
       "children": [
        "IPY_MODEL_fa42efcc30144b3485163d3e9240c2b4",
        "IPY_MODEL_8a62de0aa6a54215bf7bbd5b1e12f3ce"
       ],
       "layout": "IPY_MODEL_be6d7b4968834548ba74e5694d9a2345"
      }
     },
     "f54e1a93cc244ea4818ac544523d5939": {
      "model_module": "@jupyter-widgets/base",
      "model_module_version": "1.2.0",
      "model_name": "LayoutModel",
      "state": {}
     },
     "f55cd8e8fa824144b77f2f4740d05fb8": {
      "model_module": "@jupyter-widgets/controls",
      "model_module_version": "1.5.0",
      "model_name": "HBoxModel",
      "state": {
       "children": [
        "IPY_MODEL_af37c28971054d1d998eb5c8f1a32892",
        "IPY_MODEL_9ed9a6c59dec47d9868099ed097c086c"
       ],
       "layout": "IPY_MODEL_7352abe2f71d488d953bc0374f80097c"
      }
     },
     "f56a72debc3d4504a8a7144336707f51": {
      "model_module": "@jupyter-widgets/base",
      "model_module_version": "1.2.0",
      "model_name": "LayoutModel",
      "state": {}
     },
     "f59a14f6dcdb439182315f846390577c": {
      "model_module": "@jupyter-widgets/controls",
      "model_module_version": "1.5.0",
      "model_name": "HTMLModel",
      "state": {
       "layout": "IPY_MODEL_1cb1aa7da3d5400596180e011452987a",
       "style": "IPY_MODEL_6858fd83369947cc94215d84ea5281ca",
       "value": "<b>isDefault:</b>"
      }
     },
     "f5b6c56d6fc848eb94d8ff0c6f923bde": {
      "model_module": "@jupyter-widgets/controls",
      "model_module_version": "1.5.0",
      "model_name": "ProgressStyleModel",
      "state": {
       "description_width": ""
      }
     },
     "f5e086cf4ac445c79abf0fa402a2c7a0": {
      "model_module": "@jupyter-widgets/controls",
      "model_module_version": "1.5.0",
      "model_name": "DescriptionStyleModel",
      "state": {
       "description_width": ""
      }
     },
     "f5e102c891c342f992c2cbbb7278fad2": {
      "model_module": "@jupyter-widgets/controls",
      "model_module_version": "1.5.0",
      "model_name": "DescriptionStyleModel",
      "state": {
       "description_width": ""
      }
     },
     "f62c43ffe82042379d96e31d53c4332f": {
      "model_module": "@jupyter-widgets/base",
      "model_module_version": "1.2.0",
      "model_name": "LayoutModel",
      "state": {}
     },
     "f639088f5f724b1b9cc2664ca32aa373": {
      "model_module": "@jupyter-widgets/base",
      "model_module_version": "1.2.0",
      "model_name": "LayoutModel",
      "state": {}
     },
     "f644f459876f4534b85aee21559c633f": {
      "model_module": "@jupyter-widgets/base",
      "model_module_version": "1.2.0",
      "model_name": "LayoutModel",
      "state": {}
     },
     "f66801a318c24081bf6a1a56b865475b": {
      "model_module": "@jupyter-widgets/base",
      "model_module_version": "1.2.0",
      "model_name": "LayoutModel",
      "state": {}
     },
     "f6746a9f8cd843f4895540a271d40d11": {
      "model_module": "@jupyter-widgets/base",
      "model_module_version": "1.2.0",
      "model_name": "LayoutModel",
      "state": {}
     },
     "f6770d980bb846c8818397657c90344f": {
      "model_module": "@jupyter-widgets/base",
      "model_module_version": "1.2.0",
      "model_name": "LayoutModel",
      "state": {}
     },
     "f6bd6c3b9e7e4defbaf239edd8c103a2": {
      "model_module": "@jupyter-widgets/controls",
      "model_module_version": "1.5.0",
      "model_name": "DescriptionStyleModel",
      "state": {
       "description_width": ""
      }
     },
     "f6bfc79da03f4580a8234b0bb6e10e7b": {
      "model_module": "@jupyter-widgets/controls",
      "model_module_version": "1.5.0",
      "model_name": "HTMLModel",
      "state": {
       "layout": "IPY_MODEL_63edca324e284bc29348e4cbeeb84608",
       "style": "IPY_MODEL_8be0f3c6313d4cf8a297c1691c3bf2eb",
       "value": "<b>userTenantId:</b>"
      }
     },
     "f6e428eea2e7469b860f660ff1d040a8": {
      "model_module": "@jupyter-widgets/base",
      "model_module_version": "1.2.0",
      "model_name": "LayoutModel",
      "state": {}
     },
     "f6e5d1d89eda4e859a2619111be1f407": {
      "model_module": "@jupyter-widgets/controls",
      "model_module_version": "1.5.0",
      "model_name": "DescriptionStyleModel",
      "state": {
       "description_width": ""
      }
     },
     "f6edaeab81684b66a068e576a26f597d": {
      "model_module": "@jupyter-widgets/base",
      "model_module_version": "1.2.0",
      "model_name": "LayoutModel",
      "state": {}
     },
     "f710e256aa2246aaa70583365f3c066f": {
      "model_module": "@jupyter-widgets/base",
      "model_module_version": "1.2.0",
      "model_name": "LayoutModel",
      "state": {}
     },
     "f74ee815c1cf4f96a1a0d0c93d265433": {
      "model_module": "@jupyter-widgets/controls",
      "model_module_version": "1.5.0",
      "model_name": "DescriptionStyleModel",
      "state": {
       "description_width": ""
      }
     },
     "f764e74fc14b4f5d8216b5833c1559be": {
      "model_module": "@jupyter-widgets/controls",
      "model_module_version": "1.5.0",
      "model_name": "DescriptionStyleModel",
      "state": {
       "description_width": ""
      }
     },
     "f765a67377554d09acc9fe34e98bf602": {
      "model_module": "@jupyter-widgets/base",
      "model_module_version": "1.2.0",
      "model_name": "LayoutModel",
      "state": {}
     },
     "f773f590672d4f5f985423734991e07c": {
      "model_module": "@jupyter-widgets/controls",
      "model_module_version": "1.5.0",
      "model_name": "HBoxModel",
      "state": {
       "children": [
        "IPY_MODEL_753ad9a462954ec19ddbf60d9167a2f0",
        "IPY_MODEL_31cf7690d5ff4ef29a0611c2b8739eac"
       ],
       "layout": "IPY_MODEL_5ccac4f9b86a44258870ac078adbf849"
      }
     },
     "f776a236c5804964b251ec29d177ecc2": {
      "model_module": "@jupyter-widgets/controls",
      "model_module_version": "1.5.0",
      "model_name": "ButtonStyleModel",
      "state": {}
     },
     "f7b3d249dd7947d0951a24656d6c5de7": {
      "model_module": "@jupyter-widgets/controls",
      "model_module_version": "1.5.0",
      "model_name": "DescriptionStyleModel",
      "state": {
       "description_width": ""
      }
     },
     "f7ba1c9e6c194123b224faf5f6eb47e8": {
      "model_module": "@jupyter-widgets/base",
      "model_module_version": "1.2.0",
      "model_name": "LayoutModel",
      "state": {}
     },
     "f7db2eb5341147a7bf47d6193718d137": {
      "model_module": "@jupyter-widgets/controls",
      "model_module_version": "1.5.0",
      "model_name": "DescriptionStyleModel",
      "state": {
       "description_width": ""
      }
     },
     "f7dba0efbbec4e0fa2ad415ccce91289": {
      "model_module": "@jupyter-widgets/controls",
      "model_module_version": "1.5.0",
      "model_name": "ButtonStyleModel",
      "state": {}
     },
     "f7e3b4708c51435b8744fd576227bd4e": {
      "model_module": "@jupyter-widgets/controls",
      "model_module_version": "1.5.0",
      "model_name": "LabelModel",
      "state": {
       "layout": "IPY_MODEL_df57c4b0a3c4467eb5a3765240f2f609",
       "style": "IPY_MODEL_a6c4118ec1d54856b0b41f35dbfc3199",
       "value": "None"
      }
     },
     "f86781e3f35a4661bf7569c599378e13": {
      "model_module": "@jupyter-widgets/controls",
      "model_module_version": "1.5.0",
      "model_name": "DescriptionStyleModel",
      "state": {
       "description_width": ""
      }
     },
     "f877cf12f8d741898db4f1662dd6543b": {
      "model_module": "@jupyter-widgets/base",
      "model_module_version": "1.2.0",
      "model_name": "LayoutModel",
      "state": {}
     },
     "f89f191582e2445fb86f46fc5f97e7f1": {
      "model_module": "@jupyter-widgets/controls",
      "model_module_version": "1.5.0",
      "model_name": "HTMLModel",
      "state": {
       "layout": "IPY_MODEL_805c1b0277cf45d69235cae8fff0e5af",
       "style": "IPY_MODEL_500592e5d8314c19bf19e1a72f35a76a",
       "value": "<b>azureml.git.repository_uri:</b>"
      }
     },
     "f89f8d49cb1d42b396b893c319b4046c": {
      "model_module": "@jupyter-widgets/controls",
      "model_module_version": "1.5.0",
      "model_name": "HTMLModel",
      "state": {
       "layout": "IPY_MODEL_10e73ca1bf384e6bacb9800502a97886",
       "style": "IPY_MODEL_30e20d8307ea4911a3c79c5db5ca3821",
       "value": "<b>periodSeconds:</b>"
      }
     },
     "f8b70005832641479ff8561cdb09ef7f": {
      "model_module": "@jupyter-widgets/controls",
      "model_module_version": "1.5.0",
      "model_name": "TextModel",
      "state": {
       "description": "image_name",
       "layout": "IPY_MODEL_555c9772c160402692ed5702a4b9a70d",
       "placeholder": "Docker Container Image Name",
       "style": "IPY_MODEL_7f9502193ebe4c8a90a3ad3f8abc13ac",
       "value": "mymlimage2"
      }
     },
     "f8ce63e77ec2484f9ead3a409b83e803": {
      "model_module": "@jupyter-widgets/controls",
      "model_module_version": "1.5.0",
      "model_name": "LabelModel",
      "state": {
       "layout": "IPY_MODEL_a8181b658f664c02bf52cc9367679c58",
       "style": "IPY_MODEL_65ef81d9a38e4d8bbd85c9c53b8e6160",
       "value": "dlrts-train-on-local_1583283740_f474032a"
      }
     },
     "f8e8e3e643e44bf4abee3da20a777996": {
      "model_module": "@jupyter-widgets/controls",
      "model_module_version": "1.5.0",
      "model_name": "LabelModel",
      "state": {
       "layout": "IPY_MODEL_128e063b543b4ada8f47ed3e234a7ba5",
       "style": "IPY_MODEL_560569542ed14df68ff349bbf94ca249",
       "value": "False"
      }
     },
     "f8fe39d874a348e0bc3eda3f6f422403": {
      "model_module": "@jupyter-widgets/controls",
      "model_module_version": "1.5.0",
      "model_name": "HTMLModel",
      "state": {
       "layout": "IPY_MODEL_e61ccbf2b5644b83aabfe775e09ef528",
       "style": "IPY_MODEL_b1e0e7c5c14a4e799707101337e7a75f",
       "value": "<b>userPuId:</b>"
      }
     },
     "f90915db6b044a6aa36c9b09dd747d8e": {
      "model_module": "@jupyter-widgets/base",
      "model_module_version": "1.2.0",
      "model_name": "LayoutModel",
      "state": {}
     },
     "f9203dcd78e7485d87d9c1657c7ecc91": {
      "model_module": "@jupyter-widgets/controls",
      "model_module_version": "1.5.0",
      "model_name": "DescriptionStyleModel",
      "state": {
       "description_width": ""
      }
     },
     "f93d73a36ef04e1f9432a37521c9b7fd": {
      "model_module": "@jupyter-widgets/controls",
      "model_module_version": "1.5.0",
      "model_name": "HTMLModel",
      "state": {
       "layout": "IPY_MODEL_426797dd8cc840b1b88546f260df5667",
       "style": "IPY_MODEL_b0fd33a136d4442cbe6c3b299f532d4d",
       "value": "<b>name:</b>"
      }
     },
     "f945fda52cf14eebbf8aa92962d7f9e1": {
      "model_module": "@jupyter-widgets/base",
      "model_module_version": "1.2.0",
      "model_name": "LayoutModel",
      "state": {}
     },
     "f95ad38c0b28425095879a8653990359": {
      "model_module": "@jupyter-widgets/controls",
      "model_module_version": "1.5.0",
      "model_name": "LabelModel",
      "state": {
       "layout": "IPY_MODEL_e41dc7e66bad43bc834cdf134d0131da",
       "style": "IPY_MODEL_c8361cffa61e42cab05703ff2b2514d7",
       "value": "1"
      }
     },
     "f96b95169503414294cb235489222fbb": {
      "model_module": "@jupyter-widgets/controls",
      "model_module_version": "1.5.0",
      "model_name": "DescriptionStyleModel",
      "state": {
       "description_width": ""
      }
     },
     "f97f674830114c0686c4921797e49600": {
      "model_module": "@jupyter-widgets/controls",
      "model_module_version": "1.5.0",
      "model_name": "HTMLModel",
      "state": {
       "layout": "IPY_MODEL_37b6902b2c6c4ce5937371401f735f0a",
       "style": "IPY_MODEL_0ad7fd018e74476c8a7e2ef967dd1c2d",
       "value": "<b>userName:</b>"
      }
     },
     "f9ae343672974ae791b43d635fe8d898": {
      "model_module": "@jupyter-widgets/controls",
      "model_module_version": "1.5.0",
      "model_name": "LabelModel",
      "state": {
       "layout": "IPY_MODEL_ce23b83863a243679bd535cb2d7035f5",
       "style": "IPY_MODEL_e646822a064e45c9957f8ff5391ff98a",
       "value": "1"
      }
     },
     "f9b51fc39aad4e118fd162299b54a1b9": {
      "model_module": "@jupyter-widgets/controls",
      "model_module_version": "1.5.0",
      "model_name": "DescriptionStyleModel",
      "state": {
       "description_width": ""
      }
     },
     "f9b5d1a508d54fa98b318e6215381bbb": {
      "model_module": "@jupyter-widgets/base",
      "model_module_version": "1.2.0",
      "model_name": "LayoutModel",
      "state": {}
     },
     "f9d518d9c55a40fbab1a5d07f2f08860": {
      "model_module": "@jupyter-widgets/controls",
      "model_module_version": "1.5.0",
      "model_name": "DescriptionStyleModel",
      "state": {
       "description_width": "initial"
      }
     },
     "f9da1d349d29473bb5403de150494803": {
      "model_module": "@jupyter-widgets/controls",
      "model_module_version": "1.5.0",
      "model_name": "HTMLModel",
      "state": {
       "layout": "IPY_MODEL_4836120cc44840f094213768a5ed0988",
       "style": "IPY_MODEL_2f933924d18d44ca9029c790ac68243e",
       "value": "<b>imageDigest:</b>"
      }
     },
     "f9e079555acf4db58c7089f96679de72": {
      "model_module": "@jupyter-widgets/controls",
      "model_module_version": "1.5.0",
      "model_name": "HBoxModel",
      "state": {
       "children": [
        "IPY_MODEL_d01f68c89f96443ca1d081b290ec9db1",
        "IPY_MODEL_d4cb4b3664134b3a96586fdf6ab48fc0"
       ],
       "layout": "IPY_MODEL_c328e40396db45f5bd369c4828d953c4"
      }
     },
     "f9f3d3af45d4401bace7860d1ac0cfa4": {
      "model_module": "@jupyter-widgets/controls",
      "model_module_version": "1.5.0",
      "model_name": "DescriptionStyleModel",
      "state": {
       "description_width": ""
      }
     },
     "f9f98cd0d2644cbab3b5d31dfadb1f9e": {
      "model_module": "@jupyter-widgets/controls",
      "model_module_version": "1.5.0",
      "model_name": "DescriptionStyleModel",
      "state": {
       "description_width": ""
      }
     },
     "fa253d7aecf54e14af3559f29736d533": {
      "model_module": "@jupyter-widgets/base",
      "model_module_version": "1.2.0",
      "model_name": "LayoutModel",
      "state": {}
     },
     "fa42efcc30144b3485163d3e9240c2b4": {
      "model_module": "@jupyter-widgets/controls",
      "model_module_version": "1.5.0",
      "model_name": "HTMLModel",
      "state": {
       "layout": "IPY_MODEL_de79761d170848beb380660d45ce0af8",
       "style": "IPY_MODEL_313c3a6020154c6394a64e4cde57fa88",
       "value": "<b>userObjectId:</b>"
      }
     },
     "fa805f4f701c450793f13e6df24a354b": {
      "model_module": "@jupyter-widgets/base",
      "model_module_version": "1.2.0",
      "model_name": "LayoutModel",
      "state": {}
     },
     "fab289d25255422484b2dd8dfffd7d03": {
      "model_module": "@jupyter-widgets/controls",
      "model_module_version": "1.5.0",
      "model_name": "HBoxModel",
      "state": {
       "children": [
        "IPY_MODEL_6fc1fc501a104a83aaaaea3315d3df72",
        "IPY_MODEL_848938b7c7a541669b0e5364f33c2b57"
       ],
       "layout": "IPY_MODEL_ff20ccb9f2ce4465ad5858f3b7a9a582"
      }
     },
     "fabbc78b677f4ebbb9f1f6e40cc78d66": {
      "model_module": "@jupyter-widgets/base",
      "model_module_version": "1.2.0",
      "model_name": "LayoutModel",
      "state": {}
     },
     "fad5fd43b7084a23a9bfc957a7ed3d0b": {
      "model_module": "@jupyter-widgets/base",
      "model_module_version": "1.2.0",
      "model_name": "LayoutModel",
      "state": {}
     },
     "fadd13d3ac824de7bc2040920d06013c": {
      "model_module": "@jupyter-widgets/controls",
      "model_module_version": "1.5.0",
      "model_name": "DescriptionStyleModel",
      "state": {
       "description_width": ""
      }
     },
     "fae0e96a06de46248b051712f4431af8": {
      "model_module": "@jupyter-widgets/base",
      "model_module_version": "1.2.0",
      "model_name": "LayoutModel",
      "state": {}
     },
     "fb1089a97b5840d796220a5316191305": {
      "model_module": "@jupyter-widgets/base",
      "model_module_version": "1.2.0",
      "model_name": "LayoutModel",
      "state": {}
     },
     "fb5b9d2d41164c8a9a646549810fae92": {
      "model_module": "@jupyter-widgets/controls",
      "model_module_version": "1.5.0",
      "model_name": "LabelModel",
      "state": {
       "layout": "IPY_MODEL_ddeafa9717464c319303c5022923f1c6",
       "style": "IPY_MODEL_db2160ed65fd432d828fb7a363d20f17",
       "value": "dlrts-train-on-local_1583283740_f474032a"
      }
     },
     "fb623b93e4b3434b9b1d64b04c8842e9": {
      "model_module": "@jupyter-widgets/controls",
      "model_module_version": "1.5.0",
      "model_name": "LabelModel",
      "state": {
       "layout": "IPY_MODEL_75ab234b87784484b9015eced14b80fc",
       "style": "IPY_MODEL_d9112801466f46aa98565c84b833c084",
       "value": "deepakscluster"
      }
     },
     "fb6e4945aad14f249d625ce541ad82a0": {
      "model_module": "@jupyter-widgets/controls",
      "model_module_version": "1.5.0",
      "model_name": "TextModel",
      "state": {
       "description": "deep_image_name",
       "layout": "IPY_MODEL_21dc8dc91aa546039f8bd09582db9b9a",
       "placeholder": "Docker Container Image Name",
       "style": "IPY_MODEL_59b9087797d84c579d05d8ac22627d69",
       "value": "mydeepimage"
      }
     },
     "fb99c6a6a2ff4726a7653392f78b9750": {
      "model_module": "@jupyter-widgets/controls",
      "model_module_version": "1.5.0",
      "model_name": "LabelModel",
      "state": {
       "layout": "IPY_MODEL_ddca2b72d37e43f69a6736abb12d8363",
       "style": "IPY_MODEL_e33915a5aecf44b68c5f1851a0360519",
       "value": "{'repositories': [], 'packages': [], 'precachePackages': True}"
      }
     },
     "fc1579f9834f42179a643788b42ea462": {
      "model_module": "@jupyter-widgets/base",
      "model_module_version": "1.2.0",
      "model_name": "LayoutModel",
      "state": {}
     },
     "fc3355bd7df34c7ab71d5edbd6f13e8c": {
      "model_module": "@jupyter-widgets/controls",
      "model_module_version": "1.5.0",
      "model_name": "LabelModel",
      "state": {
       "layout": "IPY_MODEL_4342628262db400794044888758f382f",
       "style": "IPY_MODEL_2399d2e0f43445988929414ea5aa3590",
       "value": "None"
      }
     },
     "fc498e20026b4004889ee1d7d3df2bb7": {
      "model_module": "@jupyter-widgets/controls",
      "model_module_version": "1.5.0",
      "model_name": "HTMLModel",
      "state": {
       "layout": "IPY_MODEL_7b17d99e2e5e4fc4afe736e55829a783",
       "style": "IPY_MODEL_87a8852376fa4afeb55d9799d4e305f4",
       "value": "<b>runDetails:</b>"
      }
     },
     "fc713eb5482e4017b46cd32aa143ed98": {
      "model_module": "@jupyter-widgets/controls",
      "model_module_version": "1.5.0",
      "model_name": "AccordionModel",
      "state": {
       "_titles": {
        "0": "containerResourceRequirements"
       },
       "children": [
        "IPY_MODEL_7a7c946866f5408f85abe071207f4440"
       ],
       "layout": "IPY_MODEL_f192de01eb834b72b288469f4b8ad55a"
      }
     },
     "fc94227120954101ac7ed39091885ce6": {
      "model_module": "@jupyter-widgets/controls",
      "model_module_version": "1.5.0",
      "model_name": "LabelModel",
      "state": {
       "layout": "IPY_MODEL_cdff0e6be1b64f8f9f7b03bf01b4d751",
       "style": "IPY_MODEL_3c7f31e319e24ed6b329b84ed6edbb29",
       "value": "3"
      }
     },
     "fcd61ab68cd6498e8cbe54c4b309dccd": {
      "model_module": "@jupyter-widgets/controls",
      "model_module_version": "1.5.0",
      "model_name": "HBoxModel",
      "state": {
       "children": [
        "IPY_MODEL_04b9dfdb332d486b8d38cf1dd991daa8",
        "IPY_MODEL_ffb603fe90874bae855d6e2a012cc7ad"
       ],
       "layout": "IPY_MODEL_a894cd43f3474de6ba4c0a1bb7d2bc7f"
      }
     },
     "fcf10cc4b2ca4164aa4b03878d251a2b": {
      "model_module": "@jupyter-widgets/controls",
      "model_module_version": "1.5.0",
      "model_name": "HTMLModel",
      "state": {
       "layout": "IPY_MODEL_5b8d1b4a0ceb4d63aeca07d67c5eb90f",
       "style": "IPY_MODEL_7a0d0017d5d6406d922d2d345e5937bf",
       "value": "<b>versionType:</b>"
      }
     },
     "fd211949a9084ddfbf28e1aa1e10c3ec": {
      "model_module": "@jupyter-widgets/controls",
      "model_module_version": "1.5.0",
      "model_name": "HBoxModel",
      "state": {
       "children": [
        "IPY_MODEL_ededed3a1dde4fe08b002d0f9906113a",
        "IPY_MODEL_29b6be8cf02548028535d193e8ea5227"
       ],
       "layout": "IPY_MODEL_777769c0a8534fffafaf463715fb861b"
      }
     },
     "fd35340496a644edbbac56011595c04f": {
      "model_module": "@jupyter-widgets/base",
      "model_module_version": "1.2.0",
      "model_name": "LayoutModel",
      "state": {}
     },
     "fd5a0b1fa730424b98ae53c68183869e": {
      "model_module": "@jupyter-widgets/controls",
      "model_module_version": "1.5.0",
      "model_name": "HBoxModel",
      "state": {
       "children": [
        "IPY_MODEL_0e10936066ca4d97a4d67f4ff60323dd",
        "IPY_MODEL_c7a260ca78624d4692358cb62e47ff96"
       ],
       "layout": "IPY_MODEL_4fb375e8ce3844e785d40de6bdf8a1d5"
      }
     },
     "fd71044b8b94477e8b0bd010a6ec0343": {
      "model_module": "@jupyter-widgets/controls",
      "model_module_version": "1.5.0",
      "model_name": "TextModel",
      "state": {
       "description": "workspace_region",
       "layout": "IPY_MODEL_1f7a05e0546a4ea98c5a7b19e41110b3",
       "placeholder": "Azure ML Workspace Region",
       "style": "IPY_MODEL_7a5222c042f84eca8388fa486687eb06",
       "value": "eastus"
      }
     },
     "fdf74655ab8946d4a02eec04f41089ec": {
      "model_module": "@jupyter-widgets/controls",
      "model_module_version": "1.5.0",
      "model_name": "LabelModel",
      "state": {
       "layout": "IPY_MODEL_a7705c11cb7344e58cd91f7ca616556e",
       "style": "IPY_MODEL_cba8f2601d6f43f3826a60979182d7bf",
       "value": "e6cc2e17-5968-49e6-bb8f-9fb978a0d450"
      }
     },
     "fdf7cd5afdca47aaaf51b9053224ae3b": {
      "model_module": "@jupyter-widgets/controls",
      "model_module_version": "1.5.0",
      "model_name": "LabelModel",
      "state": {
       "layout": "IPY_MODEL_a62d71b1daa84f8bb953957af466c22d",
       "style": "IPY_MODEL_c98536cf9ff1451e9d2a98bb6067b49e",
       "value": "2020-03-18T21:25:26.495620+00:00"
      }
     },
     "fe17eb1efea14c7889b8499367e8819d": {
      "model_module": "@jupyter-widgets/controls",
      "model_module_version": "1.5.0",
      "model_name": "DescriptionStyleModel",
      "state": {
       "description_width": ""
      }
     },
     "fe343faf347c4292a8a49668fe658215": {
      "model_module": "@jupyter-widgets/controls",
      "model_module_version": "1.5.0",
      "model_name": "DescriptionStyleModel",
      "state": {
       "description_width": ""
      }
     },
     "fe507f14244a488d88b5592b9d239012": {
      "model_module": "@jupyter-widgets/base",
      "model_module_version": "1.2.0",
      "model_name": "LayoutModel",
      "state": {}
     },
     "fe5f5be55f854b249a96266e1dcc5d6f": {
      "model_module": "@jupyter-widgets/controls",
      "model_module_version": "1.5.0",
      "model_name": "DescriptionStyleModel",
      "state": {
       "description_width": ""
      }
     },
     "fe67f096cf0b411d827475ccf2aa5c19": {
      "model_module": "@jupyter-widgets/controls",
      "model_module_version": "1.5.0",
      "model_name": "DescriptionStyleModel",
      "state": {
       "description_width": ""
      }
     },
     "fe826c89f3cb46d9bc1d088596db84c4": {
      "model_module": "@jupyter-widgets/controls",
      "model_module_version": "1.5.0",
      "model_name": "DescriptionStyleModel",
      "state": {
       "description_width": ""
      }
     },
     "fe8de767a11b43c5803e9fc3971aee4e": {
      "model_module": "@jupyter-widgets/base",
      "model_module_version": "1.2.0",
      "model_name": "LayoutModel",
      "state": {}
     },
     "fe9058dcd8bb470a8a450dc2fe19b7aa": {
      "model_module": "@jupyter-widgets/base",
      "model_module_version": "1.2.0",
      "model_name": "LayoutModel",
      "state": {}
     },
     "fe9765467c22474c89613e2cea8d958d": {
      "model_module": "@jupyter-widgets/base",
      "model_module_version": "1.2.0",
      "model_name": "LayoutModel",
      "state": {}
     },
     "fea6632d03ec4932acefc576e0a553e8": {
      "model_module": "@jupyter-widgets/base",
      "model_module_version": "1.2.0",
      "model_name": "LayoutModel",
      "state": {}
     },
     "fed98af427fd4eeeb79da8a1fd82257f": {
      "model_module": "@jupyter-widgets/controls",
      "model_module_version": "1.5.0",
      "model_name": "HTMLModel",
      "state": {
       "layout": "IPY_MODEL_82c749dca7af47789c4b49144568293c",
       "style": "IPY_MODEL_281355b7a47d406ca29cd0dd4ec6420b",
       "value": "<b>userPuId:</b>"
      }
     },
     "ff1dc9d74adf412e8ed9d66b65bac41d": {
      "model_module": "@jupyter-widgets/controls",
      "model_module_version": "1.5.0",
      "model_name": "DescriptionStyleModel",
      "state": {
       "description_width": ""
      }
     },
     "ff20ccb9f2ce4465ad5858f3b7a9a582": {
      "model_module": "@jupyter-widgets/base",
      "model_module_version": "1.2.0",
      "model_name": "LayoutModel",
      "state": {}
     },
     "ff3dee15d12b49e89ba746a9f72c97f8": {
      "model_module": "@jupyter-widgets/controls",
      "model_module_version": "1.5.0",
      "model_name": "DescriptionStyleModel",
      "state": {
       "description_width": ""
      }
     },
     "ff575ba5ac2440b182db08a84d6c2ce4": {
      "model_module": "@jupyter-widgets/controls",
      "model_module_version": "1.5.0",
      "model_name": "AccordionModel",
      "state": {
       "_titles": {
        "0": "Workspace",
        "1": "Model"
       },
       "children": [
        "IPY_MODEL_6fc3c28b1f9f431393e1bdc90239de52",
        "IPY_MODEL_81657612851a4184badec0310d479582"
       ],
       "layout": "IPY_MODEL_8ce1e3cb768543aeb7e9dc1eaec44a9b"
      }
     },
     "ff763786482a41a280131c01634023a8": {
      "model_module": "@jupyter-widgets/base",
      "model_module_version": "1.2.0",
      "model_name": "LayoutModel",
      "state": {}
     },
     "ffb603fe90874bae855d6e2a012cc7ad": {
      "model_module": "@jupyter-widgets/controls",
      "model_module_version": "1.5.0",
      "model_name": "LabelModel",
      "state": {
       "layout": "IPY_MODEL_76a3097951d44526bbfc2c9852bf79e0",
       "style": "IPY_MODEL_f86781e3f35a4661bf7569c599378e13",
       "value": "None"
      }
     },
     "ffe6f4530e0442868945b29f64270d3d": {
      "model_module": "@jupyter-widgets/base",
      "model_module_version": "1.2.0",
      "model_name": "LayoutModel",
      "state": {}
     }
    },
    "version_major": 2,
    "version_minor": 0
   }
  }
 },
 "nbformat": 4,
 "nbformat_minor": 4
}
