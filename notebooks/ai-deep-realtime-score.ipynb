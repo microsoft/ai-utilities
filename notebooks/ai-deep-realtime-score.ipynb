{
 "cells": [
  {
   "cell_type": "markdown",
   "metadata": {},
   "source": [
    "[![Azure Notebooks](https://notebooks.azure.com/launch.png)](https://notebooks.azure.com/import/gh/microsoft/AI-Utilities)\n",
    "[![Binder](https://mybinder.org/badge_logo.svg)](https://mybinder.org/v2/gh/microsoft/AI-Utilities/deep_learning_2?filepath=notebooks%2Fai-deep-realtime-score.ipynb)\n",
    "[![Open In Colab](https://colab.research.google.com/assets/colab-badge.svg)](http://colab.research.google.com/github/microsoft/AI-Utilities/blob/deep_learning_2/notebooks/ai-deep-realtime-score.ipynb)"
   ]
  },
  {
   "cell_type": "markdown",
   "metadata": {
    "toc": true
   },
   "source": [
    "<h1>Table of Contents<span class=\"tocSkip\"></span></h1>\n",
    "<div class=\"toc\"><ul class=\"toc-item\"><li><span><a href=\"#Deploy-Solution\" data-toc-modified-id=\"Deploy-Solution-1\">Deploy Solution</a></span><ul class=\"toc-item\"><li><span><a href=\"#Create-Configuration\" data-toc-modified-id=\"Create-Configuration-1.1\">Create Configuration</a></span></li><li><span><a href=\"#Create-Train.py\" data-toc-modified-id=\"Create-Train.py-1.2\">Create Train.py</a></span></li><li><span><a href=\"#Create-Score.py\" data-toc-modified-id=\"Create-Score.py-1.3\">Create Score.py</a></span></li><li><span><a href=\"#Deploy-to-Azure-Kubernetes-Service-with-Azure-ML\" data-toc-modified-id=\"Deploy-to-Azure-Kubernetes-Service-with-Azure-ML-1.4\">Deploy to Azure Kubernetes Service with Azure ML</a></span></li></ul></li><li><span><a href=\"#Deploy-Services\" data-toc-modified-id=\"Deploy-Services-2\">Deploy Services</a></span><ul class=\"toc-item\"><li><span><a href=\"#Machine-Learning-Studio\" data-toc-modified-id=\"Machine-Learning-Studio-2.1\">Machine Learning Studio</a></span></li><li><span><a href=\"#Kubernetes\" data-toc-modified-id=\"Kubernetes-2.2\">Kubernetes</a></span></li><li><span><a href=\"#Application-Insights\" data-toc-modified-id=\"Application-Insights-2.3\">Application Insights</a></span><ul class=\"toc-item\"><li><span><a href=\"#Main\" data-toc-modified-id=\"Main-2.3.1\">Main</a></span></li><li><span><a href=\"#Availability\" data-toc-modified-id=\"Availability-2.3.2\">Availability</a></span></li><li><span><a href=\"#Performance-Dashboard\" data-toc-modified-id=\"Performance-Dashboard-2.3.3\">Performance Dashboard</a></span></li><li><span><a href=\"#Load-Test\" data-toc-modified-id=\"Load-Test-2.3.4\">Load Test</a></span></li></ul></li></ul></li></ul></div>"
   ]
  },
  {
   "cell_type": "markdown",
   "metadata": {},
   "source": [
    "## Overview\n",
    "In the [az-deep-realtime-score repository](https://github.com/microsoft/az-deep-realtime-score) there are a number of tutorials in Jupyter notebooks that have step-by-step instructions on how to deploy a pretrained deep learning model on a GPU enabled Kubernetes cluster throught Azure Machine Learning (AzureML). The tutorials cover how to deploy models with the deep learning framework Keras (TensorFlow backend)\n",
    "\n",
    "![alt text](https://happypathspublic.blob.core.windows.net/aksdeploymenttutorialaml/example.png \"Example Classification\")\n",
    " \n",
    "We go through the following steps:\n",
    " * Create an AzureML Workspace\n",
    " * Model development where we load the pretrained model and test it by using it to score images\n",
    " * Develop the API that will call our model \n",
    " * AKS\n",
    "     * Creating our Kubernetes cluster and deploying our application to it\n",
    "     * Testing the deployed model\n",
    "     * Testing the throughput of our model\n",
    "     * Cleaning up resources\n",
    "\n",
    "## Design\n",
    "![](https://docs.microsoft.com/en-us/azure/architecture/reference-architectures/ai/_images/python-model-architecture.png)\n",
    "\n",
    "As described on the associated [Azure Reference Architecture page](https://docs.microsoft.com/en-us/azure/architecture/reference-architectures/ai/realtime-scoring-python), the application we will develop is a simple image classification service, where we will submit an image and get back what class the image belongs to. The application flow for the deep learning model is as follows:\n",
    "1.\tDeep learning model is registered to AzureML model registry.\n",
    "1.\tAzureML creates a docker image including the model and scoring script.\n",
    "1.\tAzureML deploys the scoring image on the chosen deployment compute target (AKS) as a web service.\n",
    "1.\tThe client sends a HTTP POST request with the encoded image data.\n",
    "1.\tThe web service created by AzureML preprocesses the image data and sends it to the model for scoring.\n",
    "1.\tThe predicted categories with their scores are then returned to the client.\n",
    "\n",
    "\n",
    "**NOTE**: The tutorial goes through step by step how to deploy a deep learning model on Azure; it **does** **not** include enterprise best practices such as securing the endpoints and setting up remote logging etc. \n",
    "\n",
    "**Deploying with GPUS:** For a detailed comparison of the deployments of various deep learning models, see the blog post [here](https://azure.microsoft.com/en-us/blog/gpus-vs-cpus-for-deployment-of-deep-learning-models/) which provides evidence that, at least in the scenarios tested, GPUs provide better throughput and stability at a lower cost.\n",
    "\n",
    "## Quick Start\n",
    "Run this notebook to quickly setup the entire solution, and explore the custom train.py and score.py used in this example.\n",
    "\n",
    "Run all the cells to get started. \n",
    "> _**Action Required:** You will be prompted to login to Azure before the Widget is displayed and the notebook can continue._\n",
    "\n",
    "### Sample Configuration Widget\n",
    "Run the following code to produce this configuration widget in order to provide setting for the Azure Machine Learning deployment. Enter configuration settings, or upload an existing project.yml.\n",
    "\n",
    "\n",
    "### Create Configuration Widget\n"
   ]
  },
  {
   "cell_type": "code",
   "execution_count": 1,
   "metadata": {
    "ExecuteTime": {
     "end_time": "2020-03-06T06:15:04.044101Z",
     "start_time": "2020-03-06T06:14:15.113616Z"
    },
    "init_cell": true,
    "pycharm": {
     "is_executing": true
    }
   },
   "outputs": [
    {
     "name": "stderr",
     "output_type": "stream",
     "text": [
      "C:\\Users\\dcibo\\Anaconda3\\envs\\ai-utilities\\lib\\site-packages\\tensorflow\\python\\framework\\dtypes.py:526: FutureWarning: Passing (type, 1) or '1type' as a synonym of type is deprecated; in a future version of numpy, it will be understood as (type, (1,)) / '(1,)type'.\n",
      "  _np_qint8 = np.dtype([(\"qint8\", np.int8, 1)])\n",
      "C:\\Users\\dcibo\\Anaconda3\\envs\\ai-utilities\\lib\\site-packages\\tensorflow\\python\\framework\\dtypes.py:527: FutureWarning: Passing (type, 1) or '1type' as a synonym of type is deprecated; in a future version of numpy, it will be understood as (type, (1,)) / '(1,)type'.\n",
      "  _np_quint8 = np.dtype([(\"quint8\", np.uint8, 1)])\n",
      "C:\\Users\\dcibo\\Anaconda3\\envs\\ai-utilities\\lib\\site-packages\\tensorflow\\python\\framework\\dtypes.py:528: FutureWarning: Passing (type, 1) or '1type' as a synonym of type is deprecated; in a future version of numpy, it will be understood as (type, (1,)) / '(1,)type'.\n",
      "  _np_qint16 = np.dtype([(\"qint16\", np.int16, 1)])\n",
      "C:\\Users\\dcibo\\Anaconda3\\envs\\ai-utilities\\lib\\site-packages\\tensorflow\\python\\framework\\dtypes.py:529: FutureWarning: Passing (type, 1) or '1type' as a synonym of type is deprecated; in a future version of numpy, it will be understood as (type, (1,)) / '(1,)type'.\n",
      "  _np_quint16 = np.dtype([(\"quint16\", np.uint16, 1)])\n",
      "C:\\Users\\dcibo\\Anaconda3\\envs\\ai-utilities\\lib\\site-packages\\tensorflow\\python\\framework\\dtypes.py:530: FutureWarning: Passing (type, 1) or '1type' as a synonym of type is deprecated; in a future version of numpy, it will be understood as (type, (1,)) / '(1,)type'.\n",
      "  _np_qint32 = np.dtype([(\"qint32\", np.int32, 1)])\n",
      "C:\\Users\\dcibo\\Anaconda3\\envs\\ai-utilities\\lib\\site-packages\\tensorflow\\python\\framework\\dtypes.py:535: FutureWarning: Passing (type, 1) or '1type' as a synonym of type is deprecated; in a future version of numpy, it will be understood as (type, (1,)) / '(1,)type'.\n",
      "  np_resource = np.dtype([(\"resource\", np.ubyte, 1)])\n"
     ]
    },
    {
     "data": {
      "application/vnd.jupyter.widget-view+json": {
       "model_id": "308aecafd0ff4587a2b6ae4329d2679b",
       "version_major": 2,
       "version_minor": 0
      },
      "text/plain": [
       "VBox(children=(Output(), FileUpload(value={}, accept='.yml', description='Upload', layout=Layout(width='50%'))…"
      ]
     },
     "metadata": {},
     "output_type": "display_data"
    }
   ],
   "source": [
    "import os\n",
    "\n",
    "from azure_utils.notebook_widgets.notebook_configuration_widget import get_configuration_widget, test_train_py_button, \\\n",
    "    test_score_py_button, deploy_button\n",
    "\n",
    "project_configuration = \"notebook_project.yml\"\n",
    "os.makedirs(\"script\", exist_ok=True)\n",
    "os.makedirs(\"source\", exist_ok=True)\n",
    "configuration_widget = get_configuration_widget(project_configuration)\n",
    "configuration_widget"
   ]
  },
  {
   "cell_type": "markdown",
   "metadata": {
    "pycharm": {
     "name": "#%% md\n"
    }
   },
   "source": [
    "### Create Train.py\n",
    "\n",
    "The following code trains a model and saves it to the output directory. For more details see this [sample notebook](https://github.com/microsoft/az-deep-realtime-score/blob/master/%7B%7Bcookiecutter.project_name%7D%7D/Keras_Tensorflow/01_DevelopModel.ipynb).\n",
    "\n",
    "\n",
    "```python\n",
    "import os\n",
    "\n",
    "from azure_utils.samples.deep_rts_samples import MakeResNet152\n",
    "\n",
    "if __name__ == \"__main__\":\n",
    "    import warnings\n",
    "\n",
    "    with warnings.catch_warnings():\n",
    "        warnings.filterwarnings(\"ignore\", category=FutureWarning)\n",
    "        import tensorflow as tf\n",
    "        tf.logging.set_verbosity(tf.logging.ERROR)\n",
    "\n",
    "        os.makedirs(\"outputs\", exist_ok=True)\n",
    "        model = MakeResNet152(include_top=False, input_shape=(200, 200, 3), pooling=\"avg\", weights=\"imagenet\")\n",
    "        model.save_weights(\"outputs/model.pkl\")\n",
    "```\n",
    "\n",
    "Write this file to a script that will be used to train the model locally with Azure Machine Learning."
   ]
  },
  {
   "cell_type": "code",
   "execution_count": 2,
   "metadata": {},
   "outputs": [],
   "source": [
    "import logging\n",
    "\n",
    "log_dict = logging.root.manager.loggerDict\n",
    "for logger in log_dict:\n",
    "    logging.root.manager.loggerDict[logger].logging = \"ERROR\""
   ]
  },
  {
   "cell_type": "code",
   "execution_count": 10,
   "metadata": {
    "pycharm": {
     "name": "#%%\n"
    }
   },
   "outputs": [
    {
     "name": "stdout",
     "output_type": "stream",
     "text": [
      "Overwriting script/train_dl.py\n"
     ]
    }
   ],
   "source": [
    "%%writefile script/train_dl.py\n",
    "\n",
    "def train():\n",
    "    import warnings\n",
    "    import os\n",
    "\n",
    "    from azure_utils.samples.deep_rts_samples import MakeResNet152\n",
    "\n",
    "    with warnings.catch_warnings():\n",
    "        warnings.filterwarnings(\"ignore\", category=FutureWarning, append=True)\n",
    "        import tensorflow as tf\n",
    "        tf.get_logger().setLevel('ERROR')\n",
    "        tf.logging.set_verbosity(tf.logging.ERROR) \n",
    "\n",
    "        os.makedirs(\"outputs\", exist_ok=True)\n",
    "        model = MakeResNet152(include_top=False, input_shape=(200, 200, 3), pooling=\"avg\", weights=\"imagenet\")\n",
    "        model.save_weights(\"outputs/model.pkl\")\n",
    "\n",
    "if __name__ == \"__main__\":\n",
    "    train()\n"
   ]
  },
  {
   "cell_type": "markdown",
   "metadata": {},
   "source": [
    "> _**Optional:** Test the training code locally before deployment. This is particularly useful when authoring a train.py file._"
   ]
  },
  {
   "cell_type": "code",
   "execution_count": 11,
   "metadata": {},
   "outputs": [
    {
     "data": {
      "application/vnd.jupyter.widget-view+json": {
       "model_id": "f4ee6fdea1ae4d90a7a0fa90af843268",
       "version_major": 2,
       "version_minor": 0
      },
      "text/plain": [
       "VBox(children=(Button(description='Test train.py', layout=Layout(height='80px', width='80%'), style=ButtonStyl…"
      ]
     },
     "metadata": {},
     "output_type": "display_data"
    }
   ],
   "source": [
    "test_train_py_button()"
   ]
  },
  {
   "cell_type": "markdown",
   "metadata": {
    "pycharm": {
     "name": "#%% md\n"
    }
   },
   "source": [
    "### Create Score.py\n",
    "The scoring script is used to create a rest service. The model is loaded, and is used to make predictions on incoming requests. For more details see this [sample notebook](https://github.com/microsoft/az-deep-realtime-score/blob/master/%7B%7Bcookiecutter.project_name%7D%7D/Keras_Tensorflow/02_DevelopModelDriver.ipynb).\n",
    "\n",
    "```python\n",
    "import sys\n",
    "sys.setrecursionlimit(3000)\n",
    "\n",
    "from azureml.contrib.services.aml_request import rawhttp\n",
    "from azureml.contrib.services.aml_response import AMLResponse\n",
    "\n",
    "def init():\n",
    "    \"\"\" Initialise the model and scoring function\n",
    "    \"\"\"\n",
    "    global process_and_score\n",
    "    from azure_utils.samples.deep_rts_samples import get_model_api\n",
    "    process_and_score = get_model_api()\n",
    "\n",
    "\n",
    "@rawhttp\n",
    "def run(request):\n",
    "    \"\"\" Make a prediction based on the data passed in using the preloaded model\n",
    "    \"\"\"\n",
    "    from azure_utils.machine_learning.realtime import default_response\n",
    "    if request.method == 'POST':\n",
    "        return process_and_score(request.files)\n",
    "    return default_response(request)\n",
    "```\n",
    "This code will be used to create an API using the trained model."
   ]
  },
  {
   "cell_type": "code",
   "execution_count": 5,
   "metadata": {
    "collapsed": false,
    "jupyter": {
     "outputs_hidden": false
    },
    "pycharm": {
     "name": "#%%\n"
    }
   },
   "outputs": [
    {
     "name": "stdout",
     "output_type": "stream",
     "text": [
      "Overwriting source/score.py\n"
     ]
    }
   ],
   "source": [
    "%%writefile source/score.py\n",
    "\n",
    "import sys\n",
    "sys.setrecursionlimit(3000)\n",
    "\n",
    "from azureml.contrib.services.aml_request import rawhttp\n",
    "\n",
    "def init():\n",
    "    \"\"\" Initialise the model and scoring function\n",
    "    \"\"\"\n",
    "    global process_and_score\n",
    "    from azure_utils.samples.deep_rts_samples import get_model_api\n",
    "    process_and_score = get_model_api()\n",
    "\n",
    "\n",
    "@rawhttp\n",
    "def run(request):\n",
    "    \"\"\" Make a prediction based on the data passed in using the preloaded model\n",
    "    \"\"\"\n",
    "    from azure_utils.machine_learning.realtime import default_response\n",
    "    if request.method == 'POST':\n",
    "        return process_and_score(request.files)\n",
    "    return default_response(request)"
   ]
  },
  {
   "cell_type": "markdown",
   "metadata": {},
   "source": [
    "> _**Optional:** Test the code locally before deployment. This is particularly useful when authoring a score.py file.._"
   ]
  },
  {
   "cell_type": "code",
   "execution_count": 6,
   "metadata": {},
   "outputs": [
    {
     "data": {
      "application/vnd.jupyter.widget-view+json": {
       "model_id": "6e497b35c0134869ae3f09d0f908e2a0",
       "version_major": 2,
       "version_minor": 0
      },
      "text/plain": [
       "VBox(children=(Button(description='Test score.py', layout=Layout(align_content='center', height='80px', width=…"
      ]
     },
     "metadata": {},
     "output_type": "display_data"
    }
   ],
   "source": [
    "test_score_py_button(score_py=\"source/score.py\")"
   ]
  },
  {
   "cell_type": "markdown",
   "metadata": {
    "pycharm": {
     "name": "#%% md\n"
    }
   },
   "source": [
    "### Deploy to Azure Kubernetes Service with Azure ML\n",
    "\n",
    "Train the model locally, and then deploy the web service to an Azure Kubernetes Cluster managed by an Azure Machine Learning Workspace. Use the output widget to explore the deployed resources.\n",
    "For more details see this [sample notebook](https://github.com/microsoft/az-deep-realtime-score/blob/master/%7B%7Bcookiecutter.project_name%7D%7D/Keras_Tensorflow/aks/04_DeployOnAKS.ipynb).\n",
    "\n",
    "> _**Action Required:** Press the button to deploy the scripts to Azure Machine Learning._"
   ]
  },
  {
   "cell_type": "code",
   "execution_count": 7,
   "metadata": {
    "pycharm": {
     "name": "#%%\n"
    }
   },
   "outputs": [
    {
     "data": {
      "application/vnd.jupyter.widget-view+json": {
       "model_id": "2edeef87b07244618a7e4f8d8b0850b9",
       "version_major": 2,
       "version_minor": 0
      },
      "text/plain": [
       "VBox(children=(Button(description='Deploy Azure Machine Learning Services', layout=Layout(height='80px', justi…"
      ]
     },
     "metadata": {},
     "output_type": "display_data"
    }
   ],
   "source": [
    "deploy_button(project_configuration, train_py=\"train_dl.py\", score_py=\"score.py\")"
   ]
  },
  {
   "cell_type": "code",
   "execution_count": null,
   "metadata": {},
   "outputs": [],
   "source": []
  }
 ],
 "metadata": {
  "celltoolbar": "Initialization Cell",
  "kernelspec": {
   "display_name": "AI",
   "language": "python",
   "name": "ai-utilities"
  },
  "language_info": {
   "codemirror_mode": {
    "name": "ipython",
    "version": 3
   },
   "file_extension": ".py",
   "mimetype": "text/x-python",
   "name": "python",
   "nbconvert_exporter": "python",
   "pygments_lexer": "ipython3",
   "version": "3.7.6"
  },
  "toc": {
   "base_numbering": 1,
   "nav_menu": {},
   "number_sections": false,
   "sideBar": true,
   "skip_h1_title": false,
   "title_cell": "Table of Contents",
   "title_sidebar": "Contents",
   "toc_cell": true,
   "toc_position": {
    "height": "237px",
    "left": "488px",
    "top": "188px",
    "width": "561px"
   },
   "toc_section_display": true,
   "toc_window_display": false
  },
  "widgets": {
   "application/vnd.jupyter.widget-state+json": {
    "state": {
     "049165a4bcd340afbfe8b4c9490929e1": {
      "model_module": "@jupyter-widgets/output",
      "model_module_version": "1.0.0",
      "model_name": "OutputModel",
      "state": {
       "layout": "IPY_MODEL_05c53e2f93be400b9febd8691db0227a",
       "outputs": [
        {
         "name": "stdout",
         "output_type": "stream",
         "text": "Train Started\nScore Test Error\n"
        }
       ]
      }
     },
     "05c53e2f93be400b9febd8691db0227a": {
      "model_module": "@jupyter-widgets/base",
      "model_module_version": "1.2.0",
      "model_name": "LayoutModel",
      "state": {}
     },
     "06d87c5a9bd245daa5c0b3eb35e59b3f": {
      "model_module": "@jupyter-widgets/base",
      "model_module_version": "1.2.0",
      "model_name": "LayoutModel",
      "state": {
       "width": "80%"
      }
     },
     "094a94c21ff943d78fa72c1f586bf108": {
      "model_module": "@jupyter-widgets/controls",
      "model_module_version": "1.5.0",
      "model_name": "DescriptionStyleModel",
      "state": {
       "description_width": "initial"
      }
     },
     "0a9a634592bf4c40b64328fa6fc6df04": {
      "model_module": "@jupyter-widgets/controls",
      "model_module_version": "1.5.0",
      "model_name": "ProgressStyleModel",
      "state": {
       "description_width": ""
      }
     },
     "0c9ecd7bdaa84eaf8ee49c4046680c14": {
      "model_module": "@jupyter-widgets/base",
      "model_module_version": "1.2.0",
      "model_name": "LayoutModel",
      "state": {
       "height": "80px",
       "justify_content": "center",
       "width": "80%"
      }
     },
     "0d6a14c442aa4005b8c81d95ba99de7b": {
      "model_module": "@jupyter-widgets/controls",
      "model_module_version": "1.5.0",
      "model_name": "TextModel",
      "state": {
       "description": "resource_group",
       "layout": "IPY_MODEL_4a00a372310b4fec997b60be104c289a",
       "placeholder": "Azure Resource Group Name",
       "style": "IPY_MODEL_7960c8aa8b4b400cb9de3e535594408f",
       "value": "azmlrts-eastus-stable"
      }
     },
     "0e24482686b24201af5496883b7e297e": {
      "model_module": "@jupyter-widgets/controls",
      "model_module_version": "1.5.0",
      "model_name": "DescriptionStyleModel",
      "state": {
       "description_width": "initial"
      }
     },
     "181dd5b4f94d4d00b08755d76bb0c7dd": {
      "model_module": "@jupyter-widgets/base",
      "model_module_version": "1.2.0",
      "model_name": "LayoutModel",
      "state": {}
     },
     "1ce953c85e4349d996f0d76e80c2d9af": {
      "model_module": "@jupyter-widgets/controls",
      "model_module_version": "1.5.0",
      "model_name": "TextModel",
      "state": {
       "description": "aks_location",
       "layout": "IPY_MODEL_1dae9de394214023af68919e28f5fd1f",
       "placeholder": " AKS Azure Region",
       "style": "IPY_MODEL_0e24482686b24201af5496883b7e297e",
       "value": "eastus"
      }
     },
     "1d6a652989674f1a81a8a1419d8a55b6": {
      "model_module": "@jupyter-widgets/controls",
      "model_module_version": "1.5.0",
      "model_name": "IntProgressModel",
      "state": {
       "bar_style": "info",
       "layout": "IPY_MODEL_bc6422a09af5443f82ea6db23677a73d",
       "style": "IPY_MODEL_583278249fcc4551ae468d6a034ab081",
       "value": 15
      }
     },
     "1da8caca301b406497066dbb2a5d7ad5": {
      "model_module": "@jupyter-widgets/output",
      "model_module_version": "1.0.0",
      "model_name": "OutputModel",
      "state": {
       "layout": "IPY_MODEL_b134a87467464f48a5a2d5bd68f448ab",
       "outputs": [
        {
         "name": "stdout",
         "output_type": "stream",
         "text": "Train Started\nScore Test Error\n"
        }
       ]
      }
     },
     "1da94952d2ea4a13a487f9abb69c9eb3": {
      "model_module": "@jupyter-widgets/base",
      "model_module_version": "1.2.0",
      "model_name": "LayoutModel",
      "state": {
       "width": "50%"
      }
     },
     "1dae9de394214023af68919e28f5fd1f": {
      "model_module": "@jupyter-widgets/base",
      "model_module_version": "1.2.0",
      "model_name": "LayoutModel",
      "state": {
       "width": "50%"
      }
     },
     "1ff96f0e51514d71bd0c0666898504c8": {
      "model_module": "@jupyter-widgets/controls",
      "model_module_version": "1.5.0",
      "model_name": "DescriptionStyleModel",
      "state": {
       "description_width": "initial"
      }
     },
     "2edeef87b07244618a7e4f8d8b0850b9": {
      "model_module": "@jupyter-widgets/controls",
      "model_module_version": "1.5.0",
      "model_name": "VBoxModel",
      "state": {
       "children": [
        "IPY_MODEL_cdaefcac7f93442497e12044dbca3d15",
        "IPY_MODEL_c6aa90e81ca241e4be98bd6422d7702d",
        "IPY_MODEL_e595abe130e948f48fe9f250d901f4d3"
       ],
       "layout": "IPY_MODEL_c6de105a941242bcb3038d2e978cc34a"
      }
     },
     "2ff0385680f9460d9df058bd5bde7330": {
      "model_module": "@jupyter-widgets/base",
      "model_module_version": "1.2.0",
      "model_name": "LayoutModel",
      "state": {}
     },
     "308aecafd0ff4587a2b6ae4329d2679b": {
      "model_module": "@jupyter-widgets/controls",
      "model_module_version": "1.5.0",
      "model_name": "VBoxModel",
      "state": {
       "children": [
        "IPY_MODEL_943b7763965f4f4fb2d154a01cf9a506",
        "IPY_MODEL_6ced04675dbb4a9a918f8f4f04911fa3",
        "IPY_MODEL_6764adfe1a8646a5840d041fdedd5010",
        "IPY_MODEL_0d6a14c442aa4005b8c81d95ba99de7b",
        "IPY_MODEL_eb7e67ea6dd5433497affd26136067eb",
        "IPY_MODEL_9625c633ff464c0a89e37d2f318d9c5e",
        "IPY_MODEL_55acb2436009459eb89a4b70e39e3c4a",
        "IPY_MODEL_fd1eddb00a094ee19ebfa6f64857c568",
        "IPY_MODEL_6e8186ee50e64da0aaa352636f7b6d9d",
        "IPY_MODEL_d6beba83093c4a848fcf9a7ea5e52262",
        "IPY_MODEL_deab0af963d34f808d16354db94a4edf",
        "IPY_MODEL_d044fe1546f64a379049585de0d395ec",
        "IPY_MODEL_387728488d8147bb83a177c84fc6e136",
        "IPY_MODEL_c63a3774c9b2470393e033d5626a2c75"
       ],
       "layout": "IPY_MODEL_181dd5b4f94d4d00b08755d76bb0c7dd"
      }
     },
     "387728488d8147bb83a177c84fc6e136": {
      "model_module": "@jupyter-widgets/controls",
      "model_module_version": "1.5.0",
      "model_name": "TextModel",
      "state": {
       "description": "deep_aks_name",
       "layout": "IPY_MODEL_b3a1af1e2e1a497db810521e201c1c37",
       "placeholder": "AKS Cluster Name",
       "style": "IPY_MODEL_cc3857e8fc19455eb56bec58e6e7a6d7",
       "value": "deepakscluster"
      }
     },
     "3a561d35ac0e4ae7a5fcd078e52fa186": {
      "model_module": "@jupyter-widgets/base",
      "model_module_version": "1.2.0",
      "model_name": "LayoutModel",
      "state": {
       "width": "50%"
      }
     },
     "3bd68a3b66dd414ba71bfcdca0a9aad8": {
      "model_module": "@jupyter-widgets/base",
      "model_module_version": "1.2.0",
      "model_name": "LayoutModel",
      "state": {}
     },
     "4090b7994dda4c168c4d9151c3460e9b": {
      "model_module": "@jupyter-widgets/base",
      "model_module_version": "1.2.0",
      "model_name": "LayoutModel",
      "state": {
       "width": "50%"
      }
     },
     "45bd3e9a33d447e98b07ab750e947245": {
      "model_module": "@jupyter-widgets/controls",
      "model_module_version": "1.5.0",
      "model_name": "IntProgressModel",
      "state": {
       "layout": "IPY_MODEL_b1af97212e614989af13eae12bea3f79",
       "style": "IPY_MODEL_0a9a634592bf4c40b64328fa6fc6df04"
      }
     },
     "4a00a372310b4fec997b60be104c289a": {
      "model_module": "@jupyter-widgets/base",
      "model_module_version": "1.2.0",
      "model_name": "LayoutModel",
      "state": {
       "width": "50%"
      }
     },
     "54255201bfab444989eaa1d7e1eaec1e": {
      "model_module": "@jupyter-widgets/base",
      "model_module_version": "1.2.0",
      "model_name": "LayoutModel",
      "state": {
       "height": "80px",
       "width": "80%"
      }
     },
     "5580480597ea43478fd269365e9425ea": {
      "model_module": "@jupyter-widgets/controls",
      "model_module_version": "1.5.0",
      "model_name": "ButtonStyleModel",
      "state": {}
     },
     "55acb2436009459eb89a4b70e39e3c4a": {
      "model_module": "@jupyter-widgets/controls",
      "model_module_version": "1.5.0",
      "model_name": "TextModel",
      "state": {
       "description": "image_name",
       "layout": "IPY_MODEL_70dc325ff7704458983c1253f78a77e8",
       "placeholder": "Docker Container Image Name",
       "style": "IPY_MODEL_a89d60ca849246b68864eb6058713751",
       "value": "mymlimage2"
      }
     },
     "561b584e56564482a18215ecb0cf289e": {
      "model_module": "@jupyter-widgets/base",
      "model_module_version": "1.2.0",
      "model_name": "LayoutModel",
      "state": {
       "width": "50%"
      }
     },
     "5648ef94544d4bccb745ae34834a1018": {
      "model_module": "@jupyter-widgets/base",
      "model_module_version": "1.2.0",
      "model_name": "LayoutModel",
      "state": {
       "width": "50%"
      }
     },
     "57b314e460a5491585d6ff8d7593a461": {
      "model_module": "@jupyter-widgets/output",
      "model_module_version": "1.0.0",
      "model_name": "OutputModel",
      "state": {
       "layout": "IPY_MODEL_ca2d43311e93485391e275ab59529161"
      }
     },
     "583278249fcc4551ae468d6a034ab081": {
      "model_module": "@jupyter-widgets/controls",
      "model_module_version": "1.5.0",
      "model_name": "ProgressStyleModel",
      "state": {
       "description_width": ""
      }
     },
     "59bb3ca2afe641e79c5b22fdf1e4886d": {
      "model_module": "@jupyter-widgets/controls",
      "model_module_version": "1.5.0",
      "model_name": "ButtonModel",
      "state": {
       "button_style": "danger",
       "description": "Error",
       "layout": "IPY_MODEL_54255201bfab444989eaa1d7e1eaec1e",
       "style": "IPY_MODEL_8ed2ca39493a46afa3e32ac7cbb407ae"
      }
     },
     "5f59dcd73c574dfea4ab27f240fb0502": {
      "model_module": "@jupyter-widgets/controls",
      "model_module_version": "1.5.0",
      "model_name": "DescriptionStyleModel",
      "state": {
       "description_width": "initial"
      }
     },
     "6157617b043d4dbcb3c2a7b2162333c1": {
      "model_module": "@jupyter-widgets/base",
      "model_module_version": "1.2.0",
      "model_name": "LayoutModel",
      "state": {
       "width": "50%"
      }
     },
     "6764adfe1a8646a5840d041fdedd5010": {
      "model_module": "@jupyter-widgets/controls",
      "model_module_version": "1.5.0",
      "model_name": "DropdownModel",
      "state": {
       "_options_labels": [
        "AG-CE-AI-GPU-EXPERIMENTATION",
        "AG-AzureCAT-AITao-Test-COGSNonProd-IO1685734",
        "AG-CE-AI-DEVOPS",
        "AG-AzureCAT-AIDemos-Test-COGSNonProd-IO1685734",
        "AGCE-AI-DELETE-Sharat",
        "AG-AzureCAT-AILab-Test-COGSNonProd-IO1685734",
        "Visual Studio Ultimate with MSDN",
        "AG-AzureCAT-AIDataPM-Test-COGSNonProd-IO1685743",
        "AG-AzureCAT-AIDanielle-Test-COGSNonProd-IO1685734",
        "AG-CE-AI-MN-CICOMMERCIAL",
        "AG-CE-AI-MN-INCUBATION",
        "AG-CE-AI-MN-OSS",
        "AG-CE-AI-MN-E2E",
        "AG-CE-AI-MN-HU",
        "AG-CE-AI-MN-SEISMIC",
        "AG-CE-AI-STORAGE",
        "AG-CE-AI-MN-RETAIL",
        "AG-CE-AI-FEEDBACK",
        "AG-CE-AI-MN-LAB",
        "Deep Learning Group",
        "Azure SDK Engineering System",
        "Epic-Edge-ES-ReproVMLab",
        "ES-Stream-Operations",
        "Core-ES-BranchManagement",
        "WDG-ES-RnD-GITTrain",
        "Cosmos_WDG_Core_BnB_100292",
        "Azure Stack Diagnostics CI and Production VaaS",
        "Edge DevTools Client",
        "AppInsight Test",
        "ddverify",
        "VSEng MadDog-RPS Telemetry",
        "CAT_Eng",
        "RPS-cloud-common-2",
        "Core-ES-WorkManagement",
        "Azure_Maps_MDP_Engineering",
        "Test/Demo - VipSwapper Operations",
        "COSINE-ES-Signing Azure Service",
        "AI Infra Build",
        "AG-CE-E2E-AI",
        "Boston-DS-Brandon-Dev",
        "DEMO - how RepDemo are you",
        "ADS Demo Subscription",
        "AzureCAT E2E Blue Steel",
        "Azure Stack CSS Labs",
        "Azure Search DEV Service Layer (kmort,miwelsh,bohuan)",
        ""
       ],
       "description": "subscription_id",
       "index": 2,
       "layout": "IPY_MODEL_cc130d5ad9f9402486406a8505064683",
       "style": "IPY_MODEL_5f59dcd73c574dfea4ab27f240fb0502"
      }
     },
     "6cb0126509bd468e902ba5312b80a567": {
      "model_module": "@jupyter-widgets/base",
      "model_module_version": "1.2.0",
      "model_name": "LayoutModel",
      "state": {
       "height": "80px",
       "width": "80%"
      }
     },
     "6ced04675dbb4a9a918f8f4f04911fa3": {
      "model_module": "@jupyter-widgets/controls",
      "model_module_version": "1.5.0",
      "model_name": "FileUploadModel",
      "state": {
       "accept": ".yml",
       "description_tooltip": null,
       "layout": "IPY_MODEL_e748624e5aa14d6db5f37118af997735",
       "style": "IPY_MODEL_eb6c8b3b0ea743b5b395131a9d029dd8"
      }
     },
     "6e497b35c0134869ae3f09d0f908e2a0": {
      "model_module": "@jupyter-widgets/controls",
      "model_module_version": "1.5.0",
      "model_name": "VBoxModel",
      "state": {
       "children": [
        "IPY_MODEL_db4ca240ef884032acea1d01d19e2f23",
        "IPY_MODEL_45bd3e9a33d447e98b07ab750e947245",
        "IPY_MODEL_57b314e460a5491585d6ff8d7593a461"
       ],
       "layout": "IPY_MODEL_989e849ee7954756a9e34975097f6754"
      }
     },
     "6e8186ee50e64da0aaa352636f7b6d9d": {
      "model_module": "@jupyter-widgets/controls",
      "model_module_version": "1.5.0",
      "model_name": "DropdownModel",
      "state": {
       "_options_labels": [
        "eastus",
        "eastus2",
        "canadacentral",
        "centralus",
        "northcentralus",
        "southcentralus",
        "westcentralus",
        "westus",
        "westus2"
       ],
       "description": "aks_location",
       "index": 0,
       "layout": "IPY_MODEL_3a561d35ac0e4ae7a5fcd078e52fa186",
       "style": "IPY_MODEL_1ff96f0e51514d71bd0c0666898504c8"
      }
     },
     "70dc325ff7704458983c1253f78a77e8": {
      "model_module": "@jupyter-widgets/base",
      "model_module_version": "1.2.0",
      "model_name": "LayoutModel",
      "state": {
       "width": "50%"
      }
     },
     "7556c37bcab04b4c858c424d20025e99": {
      "model_module": "@jupyter-widgets/output",
      "model_module_version": "1.0.0",
      "model_name": "OutputModel",
      "state": {
       "layout": "IPY_MODEL_9039fccd39ad464a971f23ca625344fe",
       "outputs": [
        {
         "name": "stdout",
         "output_type": "stream",
         "text": "Train Started\n"
        }
       ]
      }
     },
     "7960c8aa8b4b400cb9de3e535594408f": {
      "model_module": "@jupyter-widgets/controls",
      "model_module_version": "1.5.0",
      "model_name": "DescriptionStyleModel",
      "state": {
       "description_width": "initial"
      }
     },
     "7a42b81f6da8401e977066243364a25b": {
      "model_module": "@jupyter-widgets/base",
      "model_module_version": "1.2.0",
      "model_name": "LayoutModel",
      "state": {}
     },
     "7c8a6a3c43af4050b81bb003e69f5304": {
      "model_module": "@jupyter-widgets/base",
      "model_module_version": "1.2.0",
      "model_name": "LayoutModel",
      "state": {
       "width": "80%"
      }
     },
     "7cbd088d6e7644bebd97fb23f081715e": {
      "model_module": "@jupyter-widgets/controls",
      "model_module_version": "1.5.0",
      "model_name": "DescriptionStyleModel",
      "state": {
       "description_width": "initial"
      }
     },
     "7fabd0abeb6b478792e7507230cf1585": {
      "model_module": "@jupyter-widgets/base",
      "model_module_version": "1.2.0",
      "model_name": "LayoutModel",
      "state": {
       "width": "50%"
      }
     },
     "829007dc2b914c1497ed95b47fd8ba68": {
      "model_module": "@jupyter-widgets/base",
      "model_module_version": "1.2.0",
      "model_name": "LayoutModel",
      "state": {
       "width": "50%"
      }
     },
     "8642b257ebf24c3286fb243d92c121bb": {
      "model_module": "@jupyter-widgets/controls",
      "model_module_version": "1.5.0",
      "model_name": "DescriptionStyleModel",
      "state": {
       "description_width": "initial"
      }
     },
     "88d9797a05c94d62bac8845cb22699d1": {
      "model_module": "@jupyter-widgets/base",
      "model_module_version": "1.2.0",
      "model_name": "LayoutModel",
      "state": {}
     },
     "8ed2ca39493a46afa3e32ac7cbb407ae": {
      "model_module": "@jupyter-widgets/controls",
      "model_module_version": "1.5.0",
      "model_name": "ButtonStyleModel",
      "state": {}
     },
     "9039fccd39ad464a971f23ca625344fe": {
      "model_module": "@jupyter-widgets/base",
      "model_module_version": "1.2.0",
      "model_name": "LayoutModel",
      "state": {}
     },
     "90c2cd2c04564c9a96c8640bba233938": {
      "model_module": "@jupyter-widgets/controls",
      "model_module_version": "1.5.0",
      "model_name": "ButtonStyleModel",
      "state": {}
     },
     "943b7763965f4f4fb2d154a01cf9a506": {
      "model_module": "@jupyter-widgets/output",
      "model_module_version": "1.0.0",
      "model_name": "OutputModel",
      "state": {
       "layout": "IPY_MODEL_88d9797a05c94d62bac8845cb22699d1"
      }
     },
     "95150a143d5a4681b4e51bb0f1f6ed4d": {
      "model_module": "@jupyter-widgets/controls",
      "model_module_version": "1.5.0",
      "model_name": "ButtonStyleModel",
      "state": {}
     },
     "9625c633ff464c0a89e37d2f318d9c5e": {
      "model_module": "@jupyter-widgets/controls",
      "model_module_version": "1.5.0",
      "model_name": "DropdownModel",
      "state": {
       "_options_labels": [
        "eastus",
        "eastus2",
        "canadacentral",
        "centralus",
        "northcentralus",
        "southcentralus",
        "westcentralus",
        "westus",
        "westus2"
       ],
       "description": "workspace_region",
       "index": 0,
       "layout": "IPY_MODEL_4090b7994dda4c168c4d9151c3460e9b",
       "style": "IPY_MODEL_8642b257ebf24c3286fb243d92c121bb"
      }
     },
     "989e849ee7954756a9e34975097f6754": {
      "model_module": "@jupyter-widgets/base",
      "model_module_version": "1.2.0",
      "model_name": "LayoutModel",
      "state": {}
     },
     "9cc51c8fc6ba467b9178229866a1add0": {
      "model_module": "@jupyter-widgets/controls",
      "model_module_version": "1.5.0",
      "model_name": "ProgressStyleModel",
      "state": {
       "description_width": ""
      }
     },
     "a712611852c940a28a7c361a0ff7f9f5": {
      "model_module": "@jupyter-widgets/controls",
      "model_module_version": "1.5.0",
      "model_name": "DescriptionStyleModel",
      "state": {
       "description_width": "initial"
      }
     },
     "a89d60ca849246b68864eb6058713751": {
      "model_module": "@jupyter-widgets/controls",
      "model_module_version": "1.5.0",
      "model_name": "DescriptionStyleModel",
      "state": {
       "description_width": "initial"
      }
     },
     "a8b3b0c62e8240b2bb17acbbdf46a9bd": {
      "model_module": "@jupyter-widgets/controls",
      "model_module_version": "1.5.0",
      "model_name": "ProgressStyleModel",
      "state": {
       "description_width": ""
      }
     },
     "aa28f477bd7c4d90ad851935f7ac6a0a": {
      "model_module": "@jupyter-widgets/base",
      "model_module_version": "1.2.0",
      "model_name": "LayoutModel",
      "state": {
       "width": "80%"
      }
     },
     "afa4fa08c0004852804cfdd040371ef4": {
      "model_module": "@jupyter-widgets/controls",
      "model_module_version": "1.5.0",
      "model_name": "TextModel",
      "state": {
       "description": "deep_aks_location",
       "layout": "IPY_MODEL_6157617b043d4dbcb3c2a7b2162333c1",
       "placeholder": "AKS Azure Region",
       "style": "IPY_MODEL_094a94c21ff943d78fa72c1f586bf108",
       "value": "eastus"
      }
     },
     "b134a87467464f48a5a2d5bd68f448ab": {
      "model_module": "@jupyter-widgets/base",
      "model_module_version": "1.2.0",
      "model_name": "LayoutModel",
      "state": {}
     },
     "b1af97212e614989af13eae12bea3f79": {
      "model_module": "@jupyter-widgets/base",
      "model_module_version": "1.2.0",
      "model_name": "LayoutModel",
      "state": {
       "width": "80%"
      }
     },
     "b3030948b16b45d78bfbb5c25f6b7849": {
      "model_module": "@jupyter-widgets/controls",
      "model_module_version": "1.5.0",
      "model_name": "DescriptionStyleModel",
      "state": {
       "description_width": "initial"
      }
     },
     "b3a1af1e2e1a497db810521e201c1c37": {
      "model_module": "@jupyter-widgets/base",
      "model_module_version": "1.2.0",
      "model_name": "LayoutModel",
      "state": {
       "width": "50%"
      }
     },
     "b665032f0000412b94e99dc9d17e50a3": {
      "model_module": "@jupyter-widgets/controls",
      "model_module_version": "1.5.0",
      "model_name": "ButtonModel",
      "state": {
       "button_style": "info",
       "description": "Running",
       "disabled": true,
       "layout": "IPY_MODEL_c787a27fd7e84454b1a89f313c613ff5",
       "style": "IPY_MODEL_95150a143d5a4681b4e51bb0f1f6ed4d"
      }
     },
     "bc6422a09af5443f82ea6db23677a73d": {
      "model_module": "@jupyter-widgets/base",
      "model_module_version": "1.2.0",
      "model_name": "LayoutModel",
      "state": {
       "width": "80%"
      }
     },
     "befaa67450d043e1a70de52e112bcbbf": {
      "model_module": "@jupyter-widgets/base",
      "model_module_version": "1.2.0",
      "model_name": "LayoutModel",
      "state": {
       "width": "50%"
      }
     },
     "bf723d431c4f45f9926cd13a46e9eea3": {
      "model_module": "@jupyter-widgets/controls",
      "model_module_version": "1.5.0",
      "model_name": "DescriptionStyleModel",
      "state": {
       "description_width": "initial"
      }
     },
     "c0d072656e4941f18d46f2dd1bdebd79": {
      "model_module": "@jupyter-widgets/controls",
      "model_module_version": "1.5.0",
      "model_name": "IntProgressModel",
      "state": {
       "bar_style": "danger",
       "layout": "IPY_MODEL_7c8a6a3c43af4050b81bb003e69f5304",
       "style": "IPY_MODEL_a8b3b0c62e8240b2bb17acbbdf46a9bd",
       "value": 100
      }
     },
     "c24b7c121fbe44ec84ac738e15241318": {
      "model_module": "@jupyter-widgets/controls",
      "model_module_version": "1.5.0",
      "model_name": "DescriptionStyleModel",
      "state": {
       "description_width": "initial"
      }
     },
     "c63a3774c9b2470393e033d5626a2c75": {
      "model_module": "@jupyter-widgets/controls",
      "model_module_version": "1.5.0",
      "model_name": "DropdownModel",
      "state": {
       "_options_labels": [
        "eastus",
        "eastus2",
        "canadacentral",
        "centralus",
        "northcentralus",
        "southcentralus",
        "westcentralus",
        "westus",
        "westus2"
       ],
       "description": "deep_aks_location",
       "index": 0,
       "layout": "IPY_MODEL_561b584e56564482a18215ecb0cf289e",
       "style": "IPY_MODEL_bf723d431c4f45f9926cd13a46e9eea3"
      }
     },
     "c6aa90e81ca241e4be98bd6422d7702d": {
      "model_module": "@jupyter-widgets/controls",
      "model_module_version": "1.5.0",
      "model_name": "IntProgressModel",
      "state": {
       "layout": "IPY_MODEL_aa28f477bd7c4d90ad851935f7ac6a0a",
       "style": "IPY_MODEL_ccfc290882d44547beae04c8f984fea4"
      }
     },
     "c6de105a941242bcb3038d2e978cc34a": {
      "model_module": "@jupyter-widgets/base",
      "model_module_version": "1.2.0",
      "model_name": "LayoutModel",
      "state": {}
     },
     "c787a27fd7e84454b1a89f313c613ff5": {
      "model_module": "@jupyter-widgets/base",
      "model_module_version": "1.2.0",
      "model_name": "LayoutModel",
      "state": {
       "height": "80px",
       "width": "80%"
      }
     },
     "ca2d43311e93485391e275ab59529161": {
      "model_module": "@jupyter-widgets/base",
      "model_module_version": "1.2.0",
      "model_name": "LayoutModel",
      "state": {}
     },
     "cc130d5ad9f9402486406a8505064683": {
      "model_module": "@jupyter-widgets/base",
      "model_module_version": "1.2.0",
      "model_name": "LayoutModel",
      "state": {
       "width": "50%"
      }
     },
     "cc3857e8fc19455eb56bec58e6e7a6d7": {
      "model_module": "@jupyter-widgets/controls",
      "model_module_version": "1.5.0",
      "model_name": "DescriptionStyleModel",
      "state": {
       "description_width": "initial"
      }
     },
     "ccfc290882d44547beae04c8f984fea4": {
      "model_module": "@jupyter-widgets/controls",
      "model_module_version": "1.5.0",
      "model_name": "ProgressStyleModel",
      "state": {
       "description_width": ""
      }
     },
     "cdaefcac7f93442497e12044dbca3d15": {
      "model_module": "@jupyter-widgets/controls",
      "model_module_version": "1.5.0",
      "model_name": "ButtonModel",
      "state": {
       "description": "Deploy Azure Machine Learning Services",
       "layout": "IPY_MODEL_0c9ecd7bdaa84eaf8ee49c4046680c14",
       "style": "IPY_MODEL_90c2cd2c04564c9a96c8640bba233938"
      }
     },
     "d044fe1546f64a379049585de0d395ec": {
      "model_module": "@jupyter-widgets/controls",
      "model_module_version": "1.5.0",
      "model_name": "TextModel",
      "state": {
       "description": "deep_aks_service_name",
       "layout": "IPY_MODEL_dd639b454d5b4f84a65fda60d35cce0a",
       "placeholder": "AKS Service Name",
       "style": "IPY_MODEL_c24b7c121fbe44ec84ac738e15241318",
       "value": "deepaksservice"
      }
     },
     "d159cecb2d0846c994028dfb0fdd3c87": {
      "model_module": "@jupyter-widgets/controls",
      "model_module_version": "1.5.0",
      "model_name": "ButtonStyleModel",
      "state": {}
     },
     "d1c2c246b20f4f24996afe7f7ec46252": {
      "model_module": "@jupyter-widgets/base",
      "model_module_version": "1.2.0",
      "model_name": "LayoutModel",
      "state": {
       "align_content": "center",
       "height": "80px",
       "width": "80%"
      }
     },
     "d5848b2875dd41edb67b9f8cec509219": {
      "model_module": "@jupyter-widgets/controls",
      "model_module_version": "1.5.0",
      "model_name": "VBoxModel",
      "state": {
       "children": [
        "IPY_MODEL_59bb3ca2afe641e79c5b22fdf1e4886d",
        "IPY_MODEL_c0d072656e4941f18d46f2dd1bdebd79",
        "IPY_MODEL_1da8caca301b406497066dbb2a5d7ad5"
       ],
       "layout": "IPY_MODEL_3bd68a3b66dd414ba71bfcdca0a9aad8"
      }
     },
     "d5fff76d149e437c9a3d45905a3d857c": {
      "model_module": "@jupyter-widgets/base",
      "model_module_version": "1.2.0",
      "model_name": "LayoutModel",
      "state": {}
     },
     "d6beba83093c4a848fcf9a7ea5e52262": {
      "model_module": "@jupyter-widgets/controls",
      "model_module_version": "1.5.0",
      "model_name": "TextModel",
      "state": {
       "description": "aks_name",
       "layout": "IPY_MODEL_7fabd0abeb6b478792e7507230cf1585",
       "placeholder": "AKS Cluster Name",
       "style": "IPY_MODEL_a712611852c940a28a7c361a0ff7f9f5",
       "value": "akscluster2"
      }
     },
     "db4ca240ef884032acea1d01d19e2f23": {
      "model_module": "@jupyter-widgets/controls",
      "model_module_version": "1.5.0",
      "model_name": "ButtonModel",
      "state": {
       "description": "Test score.py",
       "layout": "IPY_MODEL_d1c2c246b20f4f24996afe7f7ec46252",
       "style": "IPY_MODEL_5580480597ea43478fd269365e9425ea"
      }
     },
     "dd639b454d5b4f84a65fda60d35cce0a": {
      "model_module": "@jupyter-widgets/base",
      "model_module_version": "1.2.0",
      "model_name": "LayoutModel",
      "state": {
       "width": "50%"
      }
     },
     "deab0af963d34f808d16354db94a4edf": {
      "model_module": "@jupyter-widgets/controls",
      "model_module_version": "1.5.0",
      "model_name": "TextModel",
      "state": {
       "description": "deep_image_name",
       "layout": "IPY_MODEL_5648ef94544d4bccb745ae34834a1018",
       "placeholder": "Docker Container Image Name",
       "style": "IPY_MODEL_b3030948b16b45d78bfbb5c25f6b7849",
       "value": "mydeepimage"
      }
     },
     "e595abe130e948f48fe9f250d901f4d3": {
      "model_module": "@jupyter-widgets/output",
      "model_module_version": "1.0.0",
      "model_name": "OutputModel",
      "state": {
       "layout": "IPY_MODEL_d5fff76d149e437c9a3d45905a3d857c"
      }
     },
     "e748624e5aa14d6db5f37118af997735": {
      "model_module": "@jupyter-widgets/base",
      "model_module_version": "1.2.0",
      "model_name": "LayoutModel",
      "state": {
       "width": "50%"
      }
     },
     "eb6c8b3b0ea743b5b395131a9d029dd8": {
      "model_module": "@jupyter-widgets/controls",
      "model_module_version": "1.5.0",
      "model_name": "ButtonStyleModel",
      "state": {}
     },
     "eb7e67ea6dd5433497affd26136067eb": {
      "model_module": "@jupyter-widgets/controls",
      "model_module_version": "1.5.0",
      "model_name": "TextModel",
      "state": {
       "description": "workspace_name",
       "layout": "IPY_MODEL_befaa67450d043e1a70de52e112bcbbf",
       "placeholder": "Azure ML Workspace Name",
       "style": "IPY_MODEL_7cbd088d6e7644bebd97fb23f081715e",
       "value": "azmlrts-eastus"
      }
     },
     "ec16a42e9d39405ca3309f30f9027944": {
      "model_module": "@jupyter-widgets/controls",
      "model_module_version": "1.5.0",
      "model_name": "VBoxModel",
      "state": {
       "children": [
        "IPY_MODEL_f1ccd023ef0545b89ade5b670912aa44",
        "IPY_MODEL_f3c1697213a04fe0bac294b9bea0a185",
        "IPY_MODEL_049165a4bcd340afbfe8b4c9490929e1"
       ],
       "layout": "IPY_MODEL_7a42b81f6da8401e977066243364a25b"
      }
     },
     "f1ccd023ef0545b89ade5b670912aa44": {
      "model_module": "@jupyter-widgets/controls",
      "model_module_version": "1.5.0",
      "model_name": "ButtonModel",
      "state": {
       "button_style": "danger",
       "description": "Error",
       "layout": "IPY_MODEL_6cb0126509bd468e902ba5312b80a567",
       "style": "IPY_MODEL_d159cecb2d0846c994028dfb0fdd3c87"
      }
     },
     "f23929b4cc864069a1536425c10eb5db": {
      "model_module": "@jupyter-widgets/controls",
      "model_module_version": "1.5.0",
      "model_name": "DescriptionStyleModel",
      "state": {
       "description_width": "initial"
      }
     },
     "f2cff1aa77b9440bb2b39b045d505016": {
      "model_module": "@jupyter-widgets/controls",
      "model_module_version": "1.5.0",
      "model_name": "DescriptionStyleModel",
      "state": {
       "description_width": "initial"
      }
     },
     "f3c1697213a04fe0bac294b9bea0a185": {
      "model_module": "@jupyter-widgets/controls",
      "model_module_version": "1.5.0",
      "model_name": "IntProgressModel",
      "state": {
       "bar_style": "danger",
       "layout": "IPY_MODEL_06d87c5a9bd245daa5c0b3eb35e59b3f",
       "style": "IPY_MODEL_9cc51c8fc6ba467b9178229866a1add0",
       "value": 100
      }
     },
     "f4ee6fdea1ae4d90a7a0fa90af843268": {
      "model_module": "@jupyter-widgets/controls",
      "model_module_version": "1.5.0",
      "model_name": "VBoxModel",
      "state": {
       "children": [
        "IPY_MODEL_b665032f0000412b94e99dc9d17e50a3",
        "IPY_MODEL_1d6a652989674f1a81a8a1419d8a55b6",
        "IPY_MODEL_7556c37bcab04b4c858c424d20025e99"
       ],
       "layout": "IPY_MODEL_2ff0385680f9460d9df058bd5bde7330"
      }
     },
     "f6fa5f7e6330431faf5b5cc92450922b": {
      "model_module": "@jupyter-widgets/controls",
      "model_module_version": "1.5.0",
      "model_name": "TextModel",
      "state": {
       "description": "workspace_region",
       "layout": "IPY_MODEL_829007dc2b914c1497ed95b47fd8ba68",
       "placeholder": "Azure ML Workspace Region",
       "style": "IPY_MODEL_f23929b4cc864069a1536425c10eb5db",
       "value": "eastus"
      }
     },
     "fd1eddb00a094ee19ebfa6f64857c568": {
      "model_module": "@jupyter-widgets/controls",
      "model_module_version": "1.5.0",
      "model_name": "TextModel",
      "state": {
       "description": "aks_service_name",
       "layout": "IPY_MODEL_1da94952d2ea4a13a487f9abb69c9eb3",
       "placeholder": "AKS Service Name",
       "style": "IPY_MODEL_f2cff1aa77b9440bb2b39b045d505016",
       "value": "aksservice2"
      }
     }
    },
    "version_major": 2,
    "version_minor": 0
   }
  }
 },
 "nbformat": 4,
 "nbformat_minor": 4
}